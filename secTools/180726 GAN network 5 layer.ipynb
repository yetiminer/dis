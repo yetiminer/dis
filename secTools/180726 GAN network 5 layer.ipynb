{
 "cells": [
  {
   "cell_type": "code",
   "execution_count": 1,
   "metadata": {},
   "outputs": [
    {
     "name": "stderr",
     "output_type": "stream",
     "text": [
      "/home/anywayed/anaconda3/envs/keras/lib/python3.5/site-packages/h5py/__init__.py:36: FutureWarning: Conversion of the second argument of issubdtype from `float` to `np.floating` is deprecated. In future, it will be treated as `np.float64 == np.dtype(float).type`.\n",
      "  from ._conv import register_converters as _register_converters\n",
      "Using TensorFlow backend.\n"
     ]
    }
   ],
   "source": [
    "from numpy.random import seed\n",
    "seed(35)\n",
    "from tensorflow import set_random_seed\n",
    "set_random_seed(35)\n",
    "\n",
    "from keras import backend as K\n",
    "from keras.callbacks import EarlyStopping, Callback\n",
    "from keras.losses import  binary_crossentropy\n",
    "\n",
    "import numpy as np\n",
    "import pandas as pd\n",
    "import matplotlib.pyplot as plt\n",
    "import argparse\n",
    "import os\n",
    "\n",
    "from custom_loss import (recon_loss_abs, make_recon_loss_combi,sparse_recon_loss_abs,\n",
    "                         make_sparse_recon_loss_combi,\n",
    "                         sparse_recon_loss_mse, make_sparse_recon_loss_var)\n",
    "\n",
    "from Autoencoders import autoencoder\n",
    "\n",
    "from general_loader import ds_from_db\n",
    "from data_manipulation import remove_outlier, augment_x_linear,augment_x,split_data_X_Y\n",
    "from sklearn.model_selection import train_test_split\n",
    "from keras.optimizers import Adam\n",
    "from keras.initializers import glorot_normal\n"
   ]
  },
  {
   "cell_type": "code",
   "execution_count": 2,
   "metadata": {},
   "outputs": [],
   "source": [
    "from gan_nw_2 import generator_nw_5,discriminator_nw,gan_nw, discriminator_nw_4\n",
    "from gan_utils import Discrim_pre_train, train_for_n, plot_loss, train_for_n_mono"
   ]
  },
  {
   "cell_type": "code",
   "execution_count": 3,
   "metadata": {},
   "outputs": [
    {
     "name": "stdout",
     "output_type": "stream",
     "text": [
      "Number of records dropped where no normaliser: 326\n",
      "Number of records dropped where no normaliser: 119\n"
     ]
    }
   ],
   "source": [
    "ds_dic={'pickle_file':'ds180704'}\n",
    "ds=ds_from_db(**ds_dic)\n",
    "ds.normalise(['pAssets','pLiabilitiesAndStockholdersEquity'],reorder=True,inplace=True)\n",
    "ds.normalise(['pAssets','pLiabilitiesAndStockholdersEquity'],reorder=True,inplace=True)"
   ]
  },
  {
   "cell_type": "code",
   "execution_count": 4,
   "metadata": {},
   "outputs": [
    {
     "name": "stderr",
     "output_type": "stream",
     "text": [
      "/home/anywayed/Documents/dis/secTools/data_manipulation.py:32: RuntimeWarning: invalid value encountered in greater\n",
      "  X[np.abs(X)>level_x]=np.nan\n"
     ]
    }
   ],
   "source": [
    "X,Y,idx,cols=split_data_X_Y(ds.FT.replace([np.inf, -np.inf], np.nan),['Revenues'])\n",
    "XY,idx=remove_outlier(np.concatenate((X,Y),axis=1),2.5,Y=idx,y_thresh=True)\n",
    "X[np.isnan(X)]=0\n",
    "\n",
    "#dump zero y rows\n",
    "tf=XY[:,200]!=0\n",
    "XY=XY[tf]\n",
    "idx=idx[tf]\n",
    "\n",
    "#check there is at least one dp for every record\n",
    "assert all(np.sum(XY!=0,axis=1)>0)\n",
    "\n",
    "\n",
    "\n",
    "amal_train,amal_test,idx_train,idx_test=train_test_split(XY,idx,test_size=0.25,random_state=30)\n",
    "x_train=amal_train[:,0:199]\n",
    "x_test=amal_test[:,0:199]\n",
    "y_test=amal_test[:,200].reshape((x_test.shape[0],1))\n",
    "y_train=amal_train[:,200].reshape((x_train.shape[0],1))"
   ]
  },
  {
   "cell_type": "code",
   "execution_count": 5,
   "metadata": {},
   "outputs": [],
   "source": [
    "sparse_recon_loss_combi=make_sparse_recon_loss_combi(0.8)\n",
    "sparse_recon_loss_var=make_sparse_recon_loss_var(sparse_recon_loss_combi)\n",
    "\n",
    "loss=sparse_recon_loss_combi\n",
    "\n",
    "metrics=[sparse_recon_loss_mse,sparse_recon_loss_abs,sparse_recon_loss_var]\n",
    "\n",
    "#early stop setting below is default but explicitly stated here\n",
    "ES=EarlyStopping(monitor='sparse_recon_loss_combi_loss', min_delta=0.0001, patience=5, verbose=1, mode='auto')\n",
    "\n",
    "\n",
    "train_dic={\n",
    "           'epochs':100,'batch_size':128\n",
    "          }"
   ]
  },
  {
   "cell_type": "code",
   "execution_count": 6,
   "metadata": {},
   "outputs": [],
   "source": [
    "ker_init=glorot_normal(seed=22)\n",
    "layer_p_dic={'drop_ra':0.1, 'g_noise':0.05, 'ker_init':ker_init}\n",
    "nodes=[32,16,4,16,32]"
   ]
  },
  {
   "cell_type": "code",
   "execution_count": 7,
   "metadata": {},
   "outputs": [
    {
     "name": "stdout",
     "output_type": "stream",
     "text": [
      "__________________________________________________________________________________________________\n",
      "Layer (type)                    Output Shape         Param #     Connected to                     \n",
      "==================================================================================================\n",
      "financial_cond_input (InputLaye (None, 199)          0                                            \n",
      "__________________________________________________________________________________________________\n",
      "financial_manip (InputLayer)    (None, 1)            0                                            \n",
      "__________________________________________________________________________________________________\n",
      "concatenate_1 (Concatenate)     (None, 200)          0           financial_cond_input[0][0]       \n",
      "                                                                 financial_manip[0][0]            \n",
      "__________________________________________________________________________________________________\n",
      "H1_dropout (Dropout)            (None, 200)          0           concatenate_1[0][0]              \n",
      "__________________________________________________________________________________________________\n",
      "H1_noise (GaussianNoise)        (None, 200)          0           H1_dropout[0][0]                 \n",
      "__________________________________________________________________________________________________\n",
      "H1_layer (Dense)                (None, 32)           6432        H1_noise[0][0]                   \n",
      "__________________________________________________________________________________________________\n",
      "H1_activation (PReLU)           (None, 32)           32          H1_layer[0][0]                   \n",
      "__________________________________________________________________________________________________\n",
      "H1_batch_norm (BatchNormalizati (None, 32)           128         H1_activation[0][0]              \n",
      "__________________________________________________________________________________________________\n",
      "H2_dropout (Dropout)            (None, 32)           0           H1_batch_norm[0][0]              \n",
      "__________________________________________________________________________________________________\n",
      "H12_noise (GaussianNoise)       (None, 32)           0           H2_dropout[0][0]                 \n",
      "__________________________________________________________________________________________________\n",
      "H2_layer (Dense)                (None, 16)           528         H12_noise[0][0]                  \n",
      "__________________________________________________________________________________________________\n",
      "H2_activation (PReLU)           (None, 16)           16          H2_layer[0][0]                   \n",
      "__________________________________________________________________________________________________\n",
      "H2_batch_norm (BatchNormalizati (None, 16)           64          H2_activation[0][0]              \n",
      "__________________________________________________________________________________________________\n",
      "H3_dropout (Dropout)            (None, 16)           0           H2_batch_norm[0][0]              \n",
      "__________________________________________________________________________________________________\n",
      "H3_noise (GaussianNoise)        (None, 16)           0           H3_dropout[0][0]                 \n",
      "__________________________________________________________________________________________________\n",
      "H3_layer (Dense)                (None, 4)            68          H3_noise[0][0]                   \n",
      "__________________________________________________________________________________________________\n",
      "H3_activation (PReLU)           (None, 4)            4           H3_layer[0][0]                   \n",
      "__________________________________________________________________________________________________\n",
      "H3_batch_norm (BatchNormalizati (None, 4)            16          H3_activation[0][0]              \n",
      "__________________________________________________________________________________________________\n",
      "H4_layer (Dense)                (None, 16)           80          H3_batch_norm[0][0]              \n",
      "__________________________________________________________________________________________________\n",
      "H4_activation (PReLU)           (None, 16)           16          H4_layer[0][0]                   \n",
      "__________________________________________________________________________________________________\n",
      "Output_layer (Dense)            (None, 199)          3383        H4_activation[0][0]              \n",
      "__________________________________________________________________________________________________\n",
      "concatenate_2 (Concatenate)     (None, 200)          0           Output_layer[0][0]               \n",
      "                                                                 financial_manip[0][0]            \n",
      "==================================================================================================\n",
      "Total params: 10,767\n",
      "Trainable params: 10,663\n",
      "Non-trainable params: 104\n",
      "__________________________________________________________________________________________________\n",
      "Train on 2339 samples, validate on 780 samples\n",
      "Epoch 1/50\n",
      "2339/2339 [==============================] - 1s 603us/step - loss: 0.1803 - sparse_recon_loss_mse: 0.1696 - sparse_recon_loss_abs: 0.2229 - sparse_recon_loss_var: 0.1595 - val_loss: 0.1642 - val_sparse_recon_loss_mse: 0.1544 - val_sparse_recon_loss_abs: 0.2036 - val_sparse_recon_loss_var: 0.1488\n",
      "Epoch 2/50\n",
      "2339/2339 [==============================] - 0s 47us/step - loss: 0.1571 - sparse_recon_loss_mse: 0.1480 - sparse_recon_loss_abs: 0.1935 - sparse_recon_loss_var: 0.1449 - val_loss: 0.1450 - val_sparse_recon_loss_mse: 0.1359 - val_sparse_recon_loss_abs: 0.1815 - val_sparse_recon_loss_var: 0.1401\n",
      "Epoch 3/50\n",
      "2339/2339 [==============================] - 0s 46us/step - loss: 0.1403 - sparse_recon_loss_mse: 0.1314 - sparse_recon_loss_abs: 0.1761 - sparse_recon_loss_var: 0.1375 - val_loss: 0.1261 - val_sparse_recon_loss_mse: 0.1166 - val_sparse_recon_loss_abs: 0.1642 - val_sparse_recon_loss_var: 0.1301\n",
      "Epoch 4/50\n",
      "2339/2339 [==============================] - 0s 48us/step - loss: 0.1235 - sparse_recon_loss_mse: 0.1139 - sparse_recon_loss_abs: 0.1618 - sparse_recon_loss_var: 0.1267 - val_loss: 0.1077 - val_sparse_recon_loss_mse: 0.0973 - val_sparse_recon_loss_abs: 0.1496 - val_sparse_recon_loss_var: 0.1182\n",
      "Epoch 5/50\n",
      "2339/2339 [==============================] - 0s 43us/step - loss: 0.1069 - sparse_recon_loss_mse: 0.0964 - sparse_recon_loss_abs: 0.1490 - sparse_recon_loss_var: 0.1183 - val_loss: 0.0922 - val_sparse_recon_loss_mse: 0.0806 - val_sparse_recon_loss_abs: 0.1383 - val_sparse_recon_loss_var: 0.1061\n",
      "Epoch 6/50\n",
      "2339/2339 [==============================] - 0s 43us/step - loss: 0.0929 - sparse_recon_loss_mse: 0.0816 - sparse_recon_loss_abs: 0.1382 - sparse_recon_loss_var: 0.1069 - val_loss: 0.0813 - val_sparse_recon_loss_mse: 0.0691 - val_sparse_recon_loss_abs: 0.1298 - val_sparse_recon_loss_var: 0.0970\n",
      "Epoch 7/50\n",
      "2339/2339 [==============================] - 0s 44us/step - loss: 0.0830 - sparse_recon_loss_mse: 0.0714 - sparse_recon_loss_abs: 0.1294 - sparse_recon_loss_var: 0.0994 - val_loss: 0.0751 - val_sparse_recon_loss_mse: 0.0629 - val_sparse_recon_loss_abs: 0.1238 - val_sparse_recon_loss_var: 0.0928\n",
      "Epoch 8/50\n",
      "2339/2339 [==============================] - 0s 44us/step - loss: 0.0758 - sparse_recon_loss_mse: 0.0643 - sparse_recon_loss_abs: 0.1219 - sparse_recon_loss_var: 0.0940 - val_loss: 0.0714 - val_sparse_recon_loss_mse: 0.0594 - val_sparse_recon_loss_abs: 0.1197 - val_sparse_recon_loss_var: 0.0910\n",
      "Epoch 9/50\n",
      "2339/2339 [==============================] - 0s 46us/step - loss: 0.0714 - sparse_recon_loss_mse: 0.0600 - sparse_recon_loss_abs: 0.1171 - sparse_recon_loss_var: 0.0909 - val_loss: 0.0688 - val_sparse_recon_loss_mse: 0.0570 - val_sparse_recon_loss_abs: 0.1164 - val_sparse_recon_loss_var: 0.0893\n",
      "Epoch 10/50\n",
      "2339/2339 [==============================] - 0s 47us/step - loss: 0.0690 - sparse_recon_loss_mse: 0.0576 - sparse_recon_loss_abs: 0.1145 - sparse_recon_loss_var: 0.0888 - val_loss: 0.0666 - val_sparse_recon_loss_mse: 0.0547 - val_sparse_recon_loss_abs: 0.1140 - val_sparse_recon_loss_var: 0.0865\n",
      "Epoch 11/50\n"
     ]
    },
    {
     "name": "stdout",
     "output_type": "stream",
     "text": [
      "2339/2339 [==============================] - 0s 45us/step - loss: 0.0673 - sparse_recon_loss_mse: 0.0559 - sparse_recon_loss_abs: 0.1127 - sparse_recon_loss_var: 0.0879 - val_loss: 0.0649 - val_sparse_recon_loss_mse: 0.0531 - val_sparse_recon_loss_abs: 0.1121 - val_sparse_recon_loss_var: 0.0843\n",
      "Epoch 12/50\n",
      "2339/2339 [==============================] - 0s 45us/step - loss: 0.0655 - sparse_recon_loss_mse: 0.0543 - sparse_recon_loss_abs: 0.1105 - sparse_recon_loss_var: 0.0861 - val_loss: 0.0634 - val_sparse_recon_loss_mse: 0.0517 - val_sparse_recon_loss_abs: 0.1101 - val_sparse_recon_loss_var: 0.0828\n",
      "Epoch 13/50\n",
      "2339/2339 [==============================] - 0s 45us/step - loss: 0.0651 - sparse_recon_loss_mse: 0.0540 - sparse_recon_loss_abs: 0.1097 - sparse_recon_loss_var: 0.0865 - val_loss: 0.0626 - val_sparse_recon_loss_mse: 0.0510 - val_sparse_recon_loss_abs: 0.1092 - val_sparse_recon_loss_var: 0.0819\n",
      "Epoch 14/50\n",
      "2339/2339 [==============================] - 0s 43us/step - loss: 0.0640 - sparse_recon_loss_mse: 0.0528 - sparse_recon_loss_abs: 0.1085 - sparse_recon_loss_var: 0.0846 - val_loss: 0.0616 - val_sparse_recon_loss_mse: 0.0502 - val_sparse_recon_loss_abs: 0.1074 - val_sparse_recon_loss_var: 0.0814\n",
      "Epoch 15/50\n",
      "2339/2339 [==============================] - 0s 43us/step - loss: 0.0637 - sparse_recon_loss_mse: 0.0525 - sparse_recon_loss_abs: 0.1084 - sparse_recon_loss_var: 0.0839 - val_loss: 0.0610 - val_sparse_recon_loss_mse: 0.0495 - val_sparse_recon_loss_abs: 0.1069 - val_sparse_recon_loss_var: 0.0805\n",
      "Epoch 16/50\n",
      "2339/2339 [==============================] - 0s 41us/step - loss: 0.0630 - sparse_recon_loss_mse: 0.0519 - sparse_recon_loss_abs: 0.1073 - sparse_recon_loss_var: 0.0844 - val_loss: 0.0605 - val_sparse_recon_loss_mse: 0.0491 - val_sparse_recon_loss_abs: 0.1063 - val_sparse_recon_loss_var: 0.0798\n",
      "Epoch 17/50\n",
      "2339/2339 [==============================] - 0s 42us/step - loss: 0.0626 - sparse_recon_loss_mse: 0.0515 - sparse_recon_loss_abs: 0.1069 - sparse_recon_loss_var: 0.0831 - val_loss: 0.0598 - val_sparse_recon_loss_mse: 0.0485 - val_sparse_recon_loss_abs: 0.1049 - val_sparse_recon_loss_var: 0.0796\n",
      "Epoch 18/50\n",
      "2339/2339 [==============================] - 0s 44us/step - loss: 0.0619 - sparse_recon_loss_mse: 0.0509 - sparse_recon_loss_abs: 0.1063 - sparse_recon_loss_var: 0.0818 - val_loss: 0.0593 - val_sparse_recon_loss_mse: 0.0481 - val_sparse_recon_loss_abs: 0.1042 - val_sparse_recon_loss_var: 0.0792\n",
      "Epoch 19/50\n",
      "2339/2339 [==============================] - 0s 45us/step - loss: 0.0618 - sparse_recon_loss_mse: 0.0507 - sparse_recon_loss_abs: 0.1060 - sparse_recon_loss_var: 0.0826 - val_loss: 0.0589 - val_sparse_recon_loss_mse: 0.0477 - val_sparse_recon_loss_abs: 0.1036 - val_sparse_recon_loss_var: 0.0787\n",
      "Epoch 20/50\n",
      "2339/2339 [==============================] - 0s 44us/step - loss: 0.0609 - sparse_recon_loss_mse: 0.0497 - sparse_recon_loss_abs: 0.1054 - sparse_recon_loss_var: 0.0808 - val_loss: 0.0583 - val_sparse_recon_loss_mse: 0.0471 - val_sparse_recon_loss_abs: 0.1031 - val_sparse_recon_loss_var: 0.0777\n",
      "Epoch 21/50\n",
      "2339/2339 [==============================] - 0s 44us/step - loss: 0.0612 - sparse_recon_loss_mse: 0.0502 - sparse_recon_loss_abs: 0.1055 - sparse_recon_loss_var: 0.0820 - val_loss: 0.0579 - val_sparse_recon_loss_mse: 0.0468 - val_sparse_recon_loss_abs: 0.1025 - val_sparse_recon_loss_var: 0.0777\n",
      "Epoch 22/50\n",
      "2339/2339 [==============================] - 0s 45us/step - loss: 0.0604 - sparse_recon_loss_mse: 0.0493 - sparse_recon_loss_abs: 0.1048 - sparse_recon_loss_var: 0.0806 - val_loss: 0.0575 - val_sparse_recon_loss_mse: 0.0464 - val_sparse_recon_loss_abs: 0.1020 - val_sparse_recon_loss_var: 0.0771\n",
      "Epoch 23/50\n",
      "2339/2339 [==============================] - 0s 42us/step - loss: 0.0597 - sparse_recon_loss_mse: 0.0486 - sparse_recon_loss_abs: 0.1042 - sparse_recon_loss_var: 0.0781 - val_loss: 0.0572 - val_sparse_recon_loss_mse: 0.0461 - val_sparse_recon_loss_abs: 0.1016 - val_sparse_recon_loss_var: 0.0769\n",
      "Epoch 24/50\n",
      "2339/2339 [==============================] - 0s 42us/step - loss: 0.0595 - sparse_recon_loss_mse: 0.0485 - sparse_recon_loss_abs: 0.1039 - sparse_recon_loss_var: 0.0791 - val_loss: 0.0568 - val_sparse_recon_loss_mse: 0.0457 - val_sparse_recon_loss_abs: 0.1010 - val_sparse_recon_loss_var: 0.0764\n",
      "Epoch 25/50\n",
      "2339/2339 [==============================] - 0s 44us/step - loss: 0.0592 - sparse_recon_loss_mse: 0.0482 - sparse_recon_loss_abs: 0.1035 - sparse_recon_loss_var: 0.0791 - val_loss: 0.0565 - val_sparse_recon_loss_mse: 0.0455 - val_sparse_recon_loss_abs: 0.1004 - val_sparse_recon_loss_var: 0.0762\n",
      "Epoch 26/50\n",
      "2339/2339 [==============================] - 0s 44us/step - loss: 0.0597 - sparse_recon_loss_mse: 0.0485 - sparse_recon_loss_abs: 0.1043 - sparse_recon_loss_var: 0.0779 - val_loss: 0.0563 - val_sparse_recon_loss_mse: 0.0452 - val_sparse_recon_loss_abs: 0.1005 - val_sparse_recon_loss_var: 0.0755\n",
      "Epoch 27/50\n",
      "2339/2339 [==============================] - 0s 43us/step - loss: 0.0592 - sparse_recon_loss_mse: 0.0482 - sparse_recon_loss_abs: 0.1032 - sparse_recon_loss_var: 0.0794 - val_loss: 0.0559 - val_sparse_recon_loss_mse: 0.0450 - val_sparse_recon_loss_abs: 0.0997 - val_sparse_recon_loss_var: 0.0755\n",
      "Epoch 28/50\n",
      "2339/2339 [==============================] - 0s 42us/step - loss: 0.0586 - sparse_recon_loss_mse: 0.0475 - sparse_recon_loss_abs: 0.1029 - sparse_recon_loss_var: 0.0779 - val_loss: 0.0557 - val_sparse_recon_loss_mse: 0.0447 - val_sparse_recon_loss_abs: 0.0996 - val_sparse_recon_loss_var: 0.0752\n",
      "Epoch 29/50\n",
      "2339/2339 [==============================] - 0s 43us/step - loss: 0.0585 - sparse_recon_loss_mse: 0.0474 - sparse_recon_loss_abs: 0.1027 - sparse_recon_loss_var: 0.0763 - val_loss: 0.0554 - val_sparse_recon_loss_mse: 0.0444 - val_sparse_recon_loss_abs: 0.0991 - val_sparse_recon_loss_var: 0.0749\n",
      "Epoch 30/50\n",
      "2339/2339 [==============================] - 0s 42us/step - loss: 0.0583 - sparse_recon_loss_mse: 0.0473 - sparse_recon_loss_abs: 0.1025 - sparse_recon_loss_var: 0.0760 - val_loss: 0.0552 - val_sparse_recon_loss_mse: 0.0443 - val_sparse_recon_loss_abs: 0.0989 - val_sparse_recon_loss_var: 0.0749\n",
      "Epoch 31/50\n",
      "2339/2339 [==============================] - 0s 43us/step - loss: 0.0582 - sparse_recon_loss_mse: 0.0471 - sparse_recon_loss_abs: 0.1024 - sparse_recon_loss_var: 0.0767 - val_loss: 0.0549 - val_sparse_recon_loss_mse: 0.0440 - val_sparse_recon_loss_abs: 0.0985 - val_sparse_recon_loss_var: 0.0745\n",
      "Epoch 32/50\n",
      "2339/2339 [==============================] - 0s 43us/step - loss: 0.0579 - sparse_recon_loss_mse: 0.0469 - sparse_recon_loss_abs: 0.1021 - sparse_recon_loss_var: 0.0776 - val_loss: 0.0546 - val_sparse_recon_loss_mse: 0.0437 - val_sparse_recon_loss_abs: 0.0982 - val_sparse_recon_loss_var: 0.0742\n",
      "Epoch 33/50\n",
      "2339/2339 [==============================] - 0s 43us/step - loss: 0.0574 - sparse_recon_loss_mse: 0.0464 - sparse_recon_loss_abs: 0.1017 - sparse_recon_loss_var: 0.0765 - val_loss: 0.0543 - val_sparse_recon_loss_mse: 0.0434 - val_sparse_recon_loss_abs: 0.0980 - val_sparse_recon_loss_var: 0.0738\n",
      "Epoch 34/50\n",
      "2339/2339 [==============================] - 0s 41us/step - loss: 0.0570 - sparse_recon_loss_mse: 0.0460 - sparse_recon_loss_abs: 0.1011 - sparse_recon_loss_var: 0.0760 - val_loss: 0.0540 - val_sparse_recon_loss_mse: 0.0431 - val_sparse_recon_loss_abs: 0.0977 - val_sparse_recon_loss_var: 0.0735\n",
      "Epoch 35/50\n",
      "2339/2339 [==============================] - 0s 41us/step - loss: 0.0572 - sparse_recon_loss_mse: 0.0461 - sparse_recon_loss_abs: 0.1013 - sparse_recon_loss_var: 0.0759 - val_loss: 0.0537 - val_sparse_recon_loss_mse: 0.0428 - val_sparse_recon_loss_abs: 0.0972 - val_sparse_recon_loss_var: 0.0731\n",
      "Epoch 36/50\n",
      "2339/2339 [==============================] - 0s 42us/step - loss: 0.0562 - sparse_recon_loss_mse: 0.0452 - sparse_recon_loss_abs: 0.1003 - sparse_recon_loss_var: 0.0745 - val_loss: 0.0533 - val_sparse_recon_loss_mse: 0.0425 - val_sparse_recon_loss_abs: 0.0968 - val_sparse_recon_loss_var: 0.0729\n",
      "Epoch 37/50\n",
      "2339/2339 [==============================] - 0s 42us/step - loss: 0.0559 - sparse_recon_loss_mse: 0.0449 - sparse_recon_loss_abs: 0.0999 - sparse_recon_loss_var: 0.0752 - val_loss: 0.0529 - val_sparse_recon_loss_mse: 0.0422 - val_sparse_recon_loss_abs: 0.0959 - val_sparse_recon_loss_var: 0.0727\n"
     ]
    },
    {
     "name": "stdout",
     "output_type": "stream",
     "text": [
      "Epoch 38/50\n",
      "2339/2339 [==============================] - 0s 41us/step - loss: 0.0554 - sparse_recon_loss_mse: 0.0444 - sparse_recon_loss_abs: 0.0993 - sparse_recon_loss_var: 0.0744 - val_loss: 0.0525 - val_sparse_recon_loss_mse: 0.0418 - val_sparse_recon_loss_abs: 0.0954 - val_sparse_recon_loss_var: 0.0722\n",
      "Epoch 39/50\n",
      "2339/2339 [==============================] - 0s 41us/step - loss: 0.0555 - sparse_recon_loss_mse: 0.0446 - sparse_recon_loss_abs: 0.0991 - sparse_recon_loss_var: 0.0763 - val_loss: 0.0522 - val_sparse_recon_loss_mse: 0.0415 - val_sparse_recon_loss_abs: 0.0948 - val_sparse_recon_loss_var: 0.0722\n",
      "Epoch 40/50\n",
      "2339/2339 [==============================] - 0s 41us/step - loss: 0.0550 - sparse_recon_loss_mse: 0.0442 - sparse_recon_loss_abs: 0.0984 - sparse_recon_loss_var: 0.0743 - val_loss: 0.0517 - val_sparse_recon_loss_mse: 0.0410 - val_sparse_recon_loss_abs: 0.0943 - val_sparse_recon_loss_var: 0.0719\n",
      "Epoch 41/50\n",
      "2339/2339 [==============================] - 0s 41us/step - loss: 0.0547 - sparse_recon_loss_mse: 0.0438 - sparse_recon_loss_abs: 0.0980 - sparse_recon_loss_var: 0.0742 - val_loss: 0.0512 - val_sparse_recon_loss_mse: 0.0407 - val_sparse_recon_loss_abs: 0.0936 - val_sparse_recon_loss_var: 0.0718\n",
      "Epoch 42/50\n",
      "2339/2339 [==============================] - 0s 44us/step - loss: 0.0539 - sparse_recon_loss_mse: 0.0431 - sparse_recon_loss_abs: 0.0971 - sparse_recon_loss_var: 0.0736 - val_loss: 0.0509 - val_sparse_recon_loss_mse: 0.0404 - val_sparse_recon_loss_abs: 0.0929 - val_sparse_recon_loss_var: 0.0717\n",
      "Epoch 43/50\n",
      "2339/2339 [==============================] - 0s 44us/step - loss: 0.0541 - sparse_recon_loss_mse: 0.0434 - sparse_recon_loss_abs: 0.0972 - sparse_recon_loss_var: 0.0727 - val_loss: 0.0504 - val_sparse_recon_loss_mse: 0.0399 - val_sparse_recon_loss_abs: 0.0922 - val_sparse_recon_loss_var: 0.0713\n",
      "Epoch 44/50\n",
      "2339/2339 [==============================] - 0s 44us/step - loss: 0.0536 - sparse_recon_loss_mse: 0.0429 - sparse_recon_loss_abs: 0.0966 - sparse_recon_loss_var: 0.0729 - val_loss: 0.0502 - val_sparse_recon_loss_mse: 0.0398 - val_sparse_recon_loss_abs: 0.0917 - val_sparse_recon_loss_var: 0.0716\n",
      "Epoch 45/50\n",
      "2339/2339 [==============================] - 0s 45us/step - loss: 0.0530 - sparse_recon_loss_mse: 0.0423 - sparse_recon_loss_abs: 0.0960 - sparse_recon_loss_var: 0.0725 - val_loss: 0.0495 - val_sparse_recon_loss_mse: 0.0391 - val_sparse_recon_loss_abs: 0.0912 - val_sparse_recon_loss_var: 0.0707\n",
      "Epoch 46/50\n",
      "2339/2339 [==============================] - 0s 43us/step - loss: 0.0523 - sparse_recon_loss_mse: 0.0416 - sparse_recon_loss_abs: 0.0952 - sparse_recon_loss_var: 0.0725 - val_loss: 0.0493 - val_sparse_recon_loss_mse: 0.0390 - val_sparse_recon_loss_abs: 0.0903 - val_sparse_recon_loss_var: 0.0710\n",
      "Epoch 47/50\n",
      "2339/2339 [==============================] - 0s 43us/step - loss: 0.0519 - sparse_recon_loss_mse: 0.0413 - sparse_recon_loss_abs: 0.0944 - sparse_recon_loss_var: 0.0725 - val_loss: 0.0489 - val_sparse_recon_loss_mse: 0.0387 - val_sparse_recon_loss_abs: 0.0899 - val_sparse_recon_loss_var: 0.0706\n",
      "Epoch 48/50\n",
      "2339/2339 [==============================] - 0s 44us/step - loss: 0.0522 - sparse_recon_loss_mse: 0.0415 - sparse_recon_loss_abs: 0.0948 - sparse_recon_loss_var: 0.0726 - val_loss: 0.0486 - val_sparse_recon_loss_mse: 0.0384 - val_sparse_recon_loss_abs: 0.0894 - val_sparse_recon_loss_var: 0.0704\n",
      "Epoch 49/50\n",
      "2339/2339 [==============================] - 0s 48us/step - loss: 0.0523 - sparse_recon_loss_mse: 0.0416 - sparse_recon_loss_abs: 0.0949 - sparse_recon_loss_var: 0.0722 - val_loss: 0.0483 - val_sparse_recon_loss_mse: 0.0380 - val_sparse_recon_loss_abs: 0.0891 - val_sparse_recon_loss_var: 0.0699\n",
      "Epoch 50/50\n",
      "2339/2339 [==============================] - 0s 45us/step - loss: 0.0515 - sparse_recon_loss_mse: 0.0410 - sparse_recon_loss_abs: 0.0935 - sparse_recon_loss_var: 0.0716 - val_loss: 0.0480 - val_sparse_recon_loss_mse: 0.0378 - val_sparse_recon_loss_abs: 0.0888 - val_sparse_recon_loss_var: 0.0698\n"
     ]
    },
    {
     "data": {
      "text/plain": [
       "<keras.callbacks.History at 0x7f837934b898>"
      ]
     },
     "execution_count": 7,
     "metadata": {},
     "output_type": "execute_result"
    }
   ],
   "source": [
    "pre_gen_compile_dic={'loss':loss,'metrics':metrics,'optimizer':Adam(lr=0.001)}\n",
    "pre_train_ae=generator_nw_5(x_train,**layer_p_dic,nodes=nodes,y=True)\n",
    "pre_train_ae.compile(**pre_gen_compile_dic)\n",
    "pre_x_train=np.concatenate((x_train,y_train),axis=1)\n",
    "pre_x_test=np.concatenate((x_test,y_test),axis=1)\n",
    "ES=EarlyStopping(monitor='val_loss', min_delta=0.0001, patience=5, verbose=1, mode='auto')\n",
    "pre_train_ae.fit([x_train,y_train],pre_x_train,validation_data=([x_test,y_test], pre_x_test),\n",
    "                 epochs=50,batch_size=128,callbacks=[ES])"
   ]
  },
  {
   "cell_type": "code",
   "execution_count": 27,
   "metadata": {},
   "outputs": [],
   "source": [
    "weights=pre_train_ae.get_weights()"
   ]
  },
  {
   "cell_type": "code",
   "execution_count": 28,
   "metadata": {},
   "outputs": [
    {
     "name": "stdout",
     "output_type": "stream",
     "text": [
      "__________________________________________________________________________________________________\n",
      "Layer (type)                    Output Shape         Param #     Connected to                     \n",
      "==================================================================================================\n",
      "financial_cond_input (InputLaye (None, 199)          0                                            \n",
      "__________________________________________________________________________________________________\n",
      "financial_manip (InputLayer)    (None, 1)            0                                            \n",
      "__________________________________________________________________________________________________\n",
      "concatenate_7 (Concatenate)     (None, 200)          0           financial_cond_input[0][0]       \n",
      "                                                                 financial_manip[0][0]            \n",
      "__________________________________________________________________________________________________\n",
      "H1_dropout (Dropout)            (None, 200)          0           concatenate_7[0][0]              \n",
      "__________________________________________________________________________________________________\n",
      "H1_noise (GaussianNoise)        (None, 200)          0           H1_dropout[0][0]                 \n",
      "__________________________________________________________________________________________________\n",
      "H1_layer (Dense)                (None, 32)           6432        H1_noise[0][0]                   \n",
      "__________________________________________________________________________________________________\n",
      "H1_activation (PReLU)           (None, 32)           32          H1_layer[0][0]                   \n",
      "__________________________________________________________________________________________________\n",
      "H1_batch_norm (BatchNormalizati (None, 32)           128         H1_activation[0][0]              \n",
      "__________________________________________________________________________________________________\n",
      "H2_dropout (Dropout)            (None, 32)           0           H1_batch_norm[0][0]              \n",
      "__________________________________________________________________________________________________\n",
      "H12_noise (GaussianNoise)       (None, 32)           0           H2_dropout[0][0]                 \n",
      "__________________________________________________________________________________________________\n",
      "H2_layer (Dense)                (None, 16)           528         H12_noise[0][0]                  \n",
      "__________________________________________________________________________________________________\n",
      "H2_activation (PReLU)           (None, 16)           16          H2_layer[0][0]                   \n",
      "__________________________________________________________________________________________________\n",
      "H2_batch_norm (BatchNormalizati (None, 16)           64          H2_activation[0][0]              \n",
      "__________________________________________________________________________________________________\n",
      "H3_dropout (Dropout)            (None, 16)           0           H2_batch_norm[0][0]              \n",
      "__________________________________________________________________________________________________\n",
      "H3_noise (GaussianNoise)        (None, 16)           0           H3_dropout[0][0]                 \n",
      "__________________________________________________________________________________________________\n",
      "H3_layer (Dense)                (None, 4)            68          H3_noise[0][0]                   \n",
      "__________________________________________________________________________________________________\n",
      "H3_activation (PReLU)           (None, 4)            4           H3_layer[0][0]                   \n",
      "__________________________________________________________________________________________________\n",
      "H3_batch_norm (BatchNormalizati (None, 4)            16          H3_activation[0][0]              \n",
      "__________________________________________________________________________________________________\n",
      "H4_layer (Dense)                (None, 16)           80          H3_batch_norm[0][0]              \n",
      "__________________________________________________________________________________________________\n",
      "H4_activation (PReLU)           (None, 16)           16          H4_layer[0][0]                   \n",
      "__________________________________________________________________________________________________\n",
      "Output_layer (Dense)            (None, 199)          3383        H4_activation[0][0]              \n",
      "__________________________________________________________________________________________________\n",
      "concatenate_8 (Concatenate)     (None, 200)          0           Output_layer[0][0]               \n",
      "                                                                 financial_manip[0][0]            \n",
      "==================================================================================================\n",
      "Total params: 10,767\n",
      "Trainable params: 10,663\n",
      "Non-trainable params: 104\n",
      "__________________________________________________________________________________________________\n"
     ]
    }
   ],
   "source": [
    "gen_compile_dic={'loss':loss,'metrics':metrics,'optimizer':Adam(lr=0.001)}\n",
    "Generator=generator_nw_5(x_train,**layer_p_dic,nodes=nodes,y=True)\n",
    "Generator.compile(**gen_compile_dic)\n",
    "Generator.set_weights(weights)"
   ]
  },
  {
   "cell_type": "code",
   "execution_count": 29,
   "metadata": {
    "scrolled": true
   },
   "outputs": [
    {
     "name": "stdout",
     "output_type": "stream",
     "text": [
      "_________________________________________________________________\n",
      "Layer (type)                 Output Shape              Param #   \n",
      "=================================================================\n",
      "X_RealorFake (InputLayer)    (None, 200)               0         \n",
      "_________________________________________________________________\n",
      "H1_dropout (Dropout)         (None, 200)               0         \n",
      "_________________________________________________________________\n",
      "H1_noise (GaussianNoise)     (None, 200)               0         \n",
      "_________________________________________________________________\n",
      "dH1_layer (Dense)            (None, 64)                12864     \n",
      "_________________________________________________________________\n",
      "dH1_activation (PReLU)       (None, 64)                64        \n",
      "_________________________________________________________________\n",
      "dH2_dropout (Dropout)        (None, 64)                0         \n",
      "_________________________________________________________________\n",
      "dH2_noise (GaussianNoise)    (None, 64)                0         \n",
      "_________________________________________________________________\n",
      "dH2_layer (Dense)            (None, 40)                2600      \n",
      "_________________________________________________________________\n",
      "dH2_activation (PReLU)       (None, 40)                40        \n",
      "_________________________________________________________________\n",
      "dH3_dropout (Dropout)        (None, 40)                0         \n",
      "_________________________________________________________________\n",
      "dH3_noise (GaussianNoise)    (None, 40)                0         \n",
      "_________________________________________________________________\n",
      "dH3_layer (Dense)            (None, 16)                656       \n",
      "_________________________________________________________________\n",
      "dH3_activation (PReLU)       (None, 16)                16        \n",
      "_________________________________________________________________\n",
      "dense_3 (Dense)              (None, 2)                 34        \n",
      "=================================================================\n",
      "Total params: 16,274\n",
      "Trainable params: 16,274\n",
      "Non-trainable params: 0\n",
      "_________________________________________________________________\n"
     ]
    }
   ],
   "source": [
    "dis_compile_dic={'loss':binary_crossentropy,'optimizer':Adam(lr=0.001)} #'early_stop':ES}\n",
    "layer_p_dic={'drop_ra':0.05, 'g_noise':0.05, 'ker_init':ker_init}\n",
    "Discrim=discriminator_nw_4(x_train,**layer_p_dic,nodes=[64,40,28,16])\n",
    "Discrim.compile(**dis_compile_dic)"
   ]
  },
  {
   "cell_type": "code",
   "execution_count": 30,
   "metadata": {},
   "outputs": [
    {
     "name": "stdout",
     "output_type": "stream",
     "text": [
      "(2000, 200)\n",
      "Epoch 1/10\n",
      "2000/2000 [==============================] - 2s 1ms/step - loss: 0.2647\n",
      "Epoch 2/10\n",
      "2000/2000 [==============================] - 0s 95us/step - loss: 0.0255\n",
      "Epoch 3/10\n",
      "2000/2000 [==============================] - 0s 98us/step - loss: 0.0095\n",
      "Epoch 4/10\n",
      "2000/2000 [==============================] - 0s 95us/step - loss: 0.0037\n",
      "Epoch 5/10\n",
      "2000/2000 [==============================] - 0s 97us/step - loss: 0.0023\n",
      "Epoch 6/10\n",
      "2000/2000 [==============================] - 0s 95us/step - loss: 0.0017\n",
      "Epoch 7/10\n",
      "2000/2000 [==============================] - 0s 102us/step - loss: 0.0021\n",
      "Epoch 8/10\n",
      "2000/2000 [==============================] - 0s 94us/step - loss: 0.0021\n",
      "Epoch 9/10\n",
      "2000/2000 [==============================] - 0s 94us/step - loss: 0.0011\n",
      "Epoch 10/10\n",
      "2000/2000 [==============================] - 0s 94us/step - loss: 0.0012\n",
      "Accuracy: 100.0 % 2000  of  2000 correct\n"
     ]
    }
   ],
   "source": [
    "XT_aug, y_hat=Discrim_pre_train(x_train,y_train,Discrim,train_size=1000)"
   ]
  },
  {
   "cell_type": "code",
   "execution_count": 31,
   "metadata": {
    "scrolled": true
   },
   "outputs": [
    {
     "name": "stdout",
     "output_type": "stream",
     "text": [
      "__________________________________________________________________________________________________\n",
      "Layer (type)                    Output Shape         Param #     Connected to                     \n",
      "==================================================================================================\n",
      "input_5 (InputLayer)            (None, 199)          0                                            \n",
      "__________________________________________________________________________________________________\n",
      "input_6 (InputLayer)            (None, 1)            0                                            \n",
      "__________________________________________________________________________________________________\n",
      "model_8 (Model)                 (None, 200)          10767       input_5[0][0]                    \n",
      "                                                                 input_6[0][0]                    \n",
      "__________________________________________________________________________________________________\n",
      "model_9 (Model)                 (None, 2)            16274       model_8[1][0]                    \n",
      "==================================================================================================\n",
      "Total params: 27,041\n",
      "Trainable params: 10,663\n",
      "Non-trainable params: 16,378\n",
      "__________________________________________________________________________________________________\n"
     ]
    }
   ],
   "source": [
    "gan_compile_dic={'loss':[loss,binary_crossentropy],'optimizer':Adam(lr=0.001)}\n",
    "GAN=gan_nw(Generator,Discrim,x_train)\n"
   ]
  },
  {
   "cell_type": "code",
   "execution_count": 32,
   "metadata": {},
   "outputs": [],
   "source": [
    "train_dic={'x_train':x_train,'y_train':y_train,'x_test':x_test,'y_test':y_test,\n",
    "'nb_epoch':800,'plt_frq':100,'batch_size':128,'test_size':64,'Generator':Generator,\n",
    "'Discriminator':Discrim,'GAN':GAN,'plot':False,'weight_change':True,'alpha':5,'gan_compile_dic':gan_compile_dic,\n",
    "          'real_smoothing':0.95}"
   ]
  },
  {
   "cell_type": "code",
   "execution_count": 33,
   "metadata": {},
   "outputs": [
    {
     "name": "stderr",
     "output_type": "stream",
     "text": [
      "\r",
      "  0%|          | 0/800 [00:00<?, ?it/s]"
     ]
    },
    {
     "name": "stdout",
     "output_type": "stream",
     "text": [
      "128/128 [==============================] - 1s 7ms/step\n",
      "64/64 [==============================] - 0s 64us/step\n",
      "64/64 [==============================] - 0s 64us/step\n"
     ]
    },
    {
     "name": "stderr",
     "output_type": "stream",
     "text": [
      "\r",
      "  0%|          | 1/800 [00:07<1:35:55,  7.20s/it]"
     ]
    },
    {
     "name": "stdout",
     "output_type": "stream",
     "text": [
      "128/128 [==============================] - 0s 48us/step\n",
      "64/64 [==============================] - 0s 82us/step\n",
      "64/64 [==============================] - 0s 170us/step\n",
      "128/128 [==============================] - 0s 50us/step\n",
      "64/64 [==============================] - 0s 73us/step\n",
      "64/64 [==============================] - 0s 75us/step\n",
      "128/128 [==============================] - 0s 59us/step\n",
      "64/64 [==============================] - 0s 53us/step\n",
      "64/64 [==============================] - 0s 72us/step\n"
     ]
    },
    {
     "name": "stderr",
     "output_type": "stream",
     "text": [
      "\r",
      "  0%|          | 4/800 [00:07<24:17,  1.83s/it]  "
     ]
    },
    {
     "name": "stdout",
     "output_type": "stream",
     "text": [
      "128/128 [==============================] - 0s 54us/step\n",
      "64/64 [==============================] - 0s 96us/step\n",
      "64/64 [==============================] - 0s 64us/step\n",
      "128/128 [==============================] - 0s 50us/step\n",
      "64/64 [==============================] - 0s 75us/step\n",
      "64/64 [==============================] - 0s 82us/step\n",
      "128/128 [==============================] - 0s 55us/step\n",
      "64/64 [==============================] - 0s 83us/step\n",
      "64/64 [==============================] - 0s 89us/step\n"
     ]
    },
    {
     "name": "stderr",
     "output_type": "stream",
     "text": [
      "\r",
      "  1%|          | 7/800 [00:07<14:01,  1.06s/it]"
     ]
    },
    {
     "name": "stdout",
     "output_type": "stream",
     "text": [
      "128/128 [==============================] - 0s 48us/step\n",
      "64/64 [==============================] - 0s 69us/step\n",
      "64/64 [==============================] - 0s 76us/step\n",
      "128/128 [==============================] - 0s 42us/step\n",
      "64/64 [==============================] - 0s 83us/step\n",
      "64/64 [==============================] - 0s 72us/step\n",
      "128/128 [==============================] - 0s 58us/step\n",
      "64/64 [==============================] - 0s 65us/step\n",
      "64/64 [==============================] - 0s 58us/step\n"
     ]
    },
    {
     "name": "stderr",
     "output_type": "stream",
     "text": [
      "\r",
      "  1%|▏         | 10/800 [00:07<09:55,  1.33it/s]"
     ]
    },
    {
     "name": "stdout",
     "output_type": "stream",
     "text": [
      "128/128 [==============================] - 0s 60us/step\n",
      "64/64 [==============================] - 0s 81us/step\n",
      "64/64 [==============================] - 0s 104us/step\n",
      "128/128 [==============================] - 0s 62us/step\n",
      "64/64 [==============================] - 0s 85us/step\n",
      "64/64 [==============================] - 0s 60us/step\n",
      "128/128 [==============================] - 0s 41us/step\n",
      "64/64 [==============================] - 0s 87us/step\n",
      "64/64 [==============================] - 0s 75us/step\n"
     ]
    },
    {
     "name": "stderr",
     "output_type": "stream",
     "text": [
      "\r",
      "  2%|▏         | 13/800 [00:07<07:43,  1.70it/s]"
     ]
    },
    {
     "name": "stdout",
     "output_type": "stream",
     "text": [
      "128/128 [==============================] - 0s 55us/step\n",
      "64/64 [==============================] - 0s 60us/step\n",
      "64/64 [==============================] - 0s 63us/step\n",
      "128/128 [==============================] - 0s 64us/step\n",
      "64/64 [==============================] - 0s 78us/step\n",
      "64/64 [==============================] - 0s 96us/step\n",
      "128/128 [==============================] - 0s 56us/step\n",
      "64/64 [==============================] - 0s 53us/step\n",
      "64/64 [==============================] - 0s 80us/step\n"
     ]
    },
    {
     "name": "stderr",
     "output_type": "stream",
     "text": [
      "\r",
      "  2%|▏         | 16/800 [00:07<06:20,  2.06it/s]"
     ]
    },
    {
     "name": "stdout",
     "output_type": "stream",
     "text": [
      "128/128 [==============================] - 0s 50us/step\n",
      "64/64 [==============================] - 0s 57us/step\n",
      "64/64 [==============================] - 0s 82us/step\n",
      "128/128 [==============================] - 0s 41us/step\n",
      "64/64 [==============================] - 0s 83us/step\n",
      "64/64 [==============================] - 0s 62us/step\n",
      "128/128 [==============================] - 0s 50us/step\n",
      "64/64 [==============================] - 0s 76us/step\n",
      "64/64 [==============================] - 0s 78us/step\n"
     ]
    },
    {
     "name": "stderr",
     "output_type": "stream",
     "text": [
      "\r",
      "  2%|▏         | 19/800 [00:07<05:23,  2.42it/s]"
     ]
    },
    {
     "name": "stdout",
     "output_type": "stream",
     "text": [
      "128/128 [==============================] - 0s 55us/step\n",
      "64/64 [==============================] - 0s 61us/step\n",
      "64/64 [==============================] - 0s 75us/step\n",
      "128/128 [==============================] - 0s 57us/step\n",
      "64/64 [==============================] - 0s 77us/step\n",
      "64/64 [==============================] - 0s 83us/step\n",
      "128/128 [==============================] - 0s 53us/step\n",
      "64/64 [==============================] - 0s 71us/step\n",
      "64/64 [==============================] - 0s 74us/step\n"
     ]
    },
    {
     "name": "stderr",
     "output_type": "stream",
     "text": [
      "\r",
      "  3%|▎         | 22/800 [00:07<04:42,  2.76it/s]"
     ]
    },
    {
     "name": "stdout",
     "output_type": "stream",
     "text": [
      "128/128 [==============================] - 0s 61us/step\n",
      "64/64 [==============================] - 0s 64us/step\n",
      "64/64 [==============================] - 0s 72us/step\n",
      "128/128 [==============================] - 0s 46us/step\n",
      "64/64 [==============================] - 0s 51us/step\n",
      "64/64 [==============================] - 0s 79us/step\n",
      "128/128 [==============================] - 0s 62us/step\n",
      "64/64 [==============================] - 0s 88us/step\n",
      "64/64 [==============================] - 0s 66us/step\n"
     ]
    },
    {
     "name": "stderr",
     "output_type": "stream",
     "text": [
      "\r",
      "  3%|▎         | 25/800 [00:08<04:10,  3.09it/s]"
     ]
    },
    {
     "name": "stdout",
     "output_type": "stream",
     "text": [
      "128/128 [==============================] - 0s 51us/step\n",
      "64/64 [==============================] - 0s 74us/step\n",
      "64/64 [==============================] - 0s 77us/step\n",
      "128/128 [==============================] - 0s 76us/step\n",
      "64/64 [==============================] - 0s 59us/step\n",
      "64/64 [==============================] - 0s 68us/step\n",
      "128/128 [==============================] - 0s 56us/step\n",
      "64/64 [==============================] - 0s 75us/step\n",
      "64/64 [==============================] - 0s 98us/step\n"
     ]
    },
    {
     "name": "stderr",
     "output_type": "stream",
     "text": [
      "\r",
      "  4%|▎         | 28/800 [00:08<03:45,  3.42it/s]"
     ]
    },
    {
     "name": "stdout",
     "output_type": "stream",
     "text": [
      "128/128 [==============================] - 0s 48us/step\n",
      "64/64 [==============================] - 0s 53us/step\n",
      "64/64 [==============================] - 0s 85us/step\n",
      "128/128 [==============================] - 0s 50us/step\n",
      "64/64 [==============================] - 0s 63us/step\n",
      "64/64 [==============================] - 0s 67us/step\n",
      "128/128 [==============================] - 0s 57us/step\n",
      "64/64 [==============================] - 0s 48us/step\n",
      "64/64 [==============================] - 0s 63us/step\n",
      "128/128 [==============================] - 0s 49us/step\n",
      "64/64 [==============================] - 0s 58us/step\n",
      "64/64 [==============================] - 0s 65us/step\n"
     ]
    },
    {
     "name": "stderr",
     "output_type": "stream",
     "text": [
      "\r",
      "  4%|▍         | 32/800 [00:08<03:19,  3.84it/s]"
     ]
    },
    {
     "name": "stdout",
     "output_type": "stream",
     "text": [
      "128/128 [==============================] - 0s 50us/step\n",
      "64/64 [==============================] - 0s 49us/step\n",
      "64/64 [==============================] - 0s 60us/step\n",
      "128/128 [==============================] - 0s 44us/step\n",
      "64/64 [==============================] - 0s 66us/step\n",
      "64/64 [==============================] - 0s 68us/step\n",
      "128/128 [==============================] - 0s 50us/step\n",
      "64/64 [==============================] - 0s 61us/step\n",
      "64/64 [==============================] - 0s 52us/step\n",
      "128/128 [==============================] - 0s 47us/step\n",
      "64/64 [==============================] - 0s 59us/step\n",
      "64/64 [==============================] - 0s 63us/step\n"
     ]
    },
    {
     "name": "stderr",
     "output_type": "stream",
     "text": [
      "\r",
      "  4%|▍         | 36/800 [00:08<02:59,  4.26it/s]"
     ]
    },
    {
     "name": "stdout",
     "output_type": "stream",
     "text": [
      "128/128 [==============================] - 0s 55us/step\n",
      "64/64 [==============================] - 0s 74us/step\n",
      "64/64 [==============================] - 0s 63us/step\n",
      "128/128 [==============================] - 0s 49us/step\n",
      "64/64 [==============================] - 0s 49us/step\n",
      "64/64 [==============================] - 0s 69us/step\n",
      "128/128 [==============================] - 0s 55us/step\n",
      "64/64 [==============================] - 0s 51us/step\n",
      "64/64 [==============================] - 0s 66us/step\n",
      "128/128 [==============================] - 0s 50us/step\n",
      "64/64 [==============================] - 0s 67us/step\n",
      "64/64 [==============================] - 0s 67us/step\n"
     ]
    },
    {
     "name": "stderr",
     "output_type": "stream",
     "text": [
      "\r",
      "  5%|▌         | 40/800 [00:08<02:43,  4.65it/s]"
     ]
    },
    {
     "name": "stdout",
     "output_type": "stream",
     "text": [
      "128/128 [==============================] - 0s 58us/step\n",
      "64/64 [==============================] - ETA:  - 0s 59us/step\n",
      "64/64 [==============================] - 0s 62us/step\n",
      "128/128 [==============================] - 0s 46us/step\n",
      "64/64 [==============================] - 0s 55us/step\n",
      "64/64 [==============================] - 0s 74us/step\n",
      "128/128 [==============================] - 0s 52us/step\n",
      "64/64 [==============================] - 0s 72us/step\n",
      "64/64 [==============================] - 0s 54us/step\n",
      "128/128 [==============================] - 0s 49us/step\n",
      "64/64 [==============================] - 0s 49us/step\n",
      "64/64 [==============================] - 0s 64us/step\n"
     ]
    },
    {
     "name": "stderr",
     "output_type": "stream",
     "text": [
      "\r",
      "  6%|▌         | 44/800 [00:08<02:29,  5.04it/s]"
     ]
    },
    {
     "name": "stdout",
     "output_type": "stream",
     "text": [
      "128/128 [==============================] - 0s 52us/step\n",
      "64/64 [==============================] - 0s 59us/step\n",
      "64/64 [==============================] - 0s 67us/step\n",
      "128/128 [==============================] - 0s 43us/step\n",
      "64/64 [==============================] - 0s 67us/step\n",
      "64/64 [==============================] - 0s 52us/step\n",
      "128/128 [==============================] - 0s 40us/step\n",
      "64/64 [==============================] - 0s 53us/step\n",
      "64/64 [==============================] - 0s 84us/step\n",
      "128/128 [==============================] - 0s 43us/step\n",
      "64/64 [==============================] - 0s 75us/step\n",
      "64/64 [==============================] - 0s 57us/step\n"
     ]
    },
    {
     "name": "stderr",
     "output_type": "stream",
     "text": [
      "\r",
      "  6%|▌         | 48/800 [00:08<02:18,  5.42it/s]"
     ]
    },
    {
     "name": "stdout",
     "output_type": "stream",
     "text": [
      "128/128 [==============================] - 0s 49us/step\n",
      "64/64 [==============================] - 0s 54us/step\n",
      "64/64 [==============================] - 0s 61us/step\n",
      "128/128 [==============================] - 0s 75us/step\n",
      "64/64 [==============================] - 0s 74us/step\n",
      "64/64 [==============================] - 0s 65us/step\n",
      "128/128 [==============================] - 0s 45us/step\n",
      "64/64 [==============================] - 0s 86us/step\n",
      "64/64 [==============================] - 0s 63us/step\n",
      "128/128 [==============================] - 0s 55us/step\n",
      "64/64 [==============================] - 0s 46us/step\n",
      "64/64 [==============================] - 0s 57us/step\n"
     ]
    },
    {
     "name": "stderr",
     "output_type": "stream",
     "text": [
      "\r",
      "  6%|▋         | 52/800 [00:08<02:09,  5.79it/s]"
     ]
    },
    {
     "name": "stdout",
     "output_type": "stream",
     "text": [
      "128/128 [==============================] - 0s 39us/step\n",
      "64/64 [==============================] - 0s 75us/step\n",
      "64/64 [==============================] - 0s 69us/step\n",
      "128/128 [==============================] - 0s 47us/step\n",
      "64/64 [==============================] - 0s 71us/step\n",
      "64/64 [==============================] - 0s 50us/step\n",
      "128/128 [==============================] - 0s 45us/step\n",
      "64/64 [==============================] - 0s 59us/step\n",
      "64/64 [==============================] - 0s 70us/step\n",
      "128/128 [==============================] - 0s 42us/step\n",
      "64/64 [==============================] - 0s 52us/step\n",
      "64/64 [==============================] - 0s 86us/step\n"
     ]
    },
    {
     "name": "stderr",
     "output_type": "stream",
     "text": [
      "\r",
      "  7%|▋         | 56/800 [00:09<02:01,  6.14it/s]"
     ]
    },
    {
     "name": "stdout",
     "output_type": "stream",
     "text": [
      "128/128 [==============================] - 0s 47us/step\n",
      "64/64 [==============================] - 0s 115us/step\n",
      "64/64 [==============================] - 0s 85us/step\n",
      "128/128 [==============================] - 0s 44us/step\n",
      "64/64 [==============================] - 0s 94us/step\n",
      "64/64 [==============================] - 0s 65us/step\n",
      "128/128 [==============================] - 0s 44us/step\n",
      "64/64 [==============================] - 0s 71us/step\n",
      "64/64 [==============================] - 0s 62us/step\n",
      "128/128 [==============================] - 0s 40us/step\n",
      "64/64 [==============================] - 0s 75us/step\n",
      "64/64 [==============================] - 0s 55us/step\n"
     ]
    },
    {
     "name": "stderr",
     "output_type": "stream",
     "text": [
      "\r",
      "  8%|▊         | 60/800 [00:09<01:54,  6.49it/s]"
     ]
    },
    {
     "name": "stdout",
     "output_type": "stream",
     "text": [
      "128/128 [==============================] - 0s 47us/step\n",
      "64/64 [==============================] - 0s 51us/step\n",
      "64/64 [==============================] - 0s 96us/step\n",
      "128/128 [==============================] - 0s 41us/step\n",
      "64/64 [==============================] - 0s 57us/step\n",
      "64/64 [==============================] - 0s 84us/step\n",
      "128/128 [==============================] - 0s 51us/step\n",
      "64/64 [==============================] - 0s 50us/step\n",
      "64/64 [==============================] - 0s 66us/step\n",
      "128/128 [==============================] - 0s 42us/step\n",
      "64/64 [==============================] - 0s 45us/step\n",
      "64/64 [==============================] - 0s 76us/step\n"
     ]
    },
    {
     "name": "stderr",
     "output_type": "stream",
     "text": [
      "\r",
      "  8%|▊         | 64/800 [00:09<01:47,  6.82it/s]"
     ]
    },
    {
     "name": "stdout",
     "output_type": "stream",
     "text": [
      "128/128 [==============================] - 0s 47us/step\n",
      "64/64 [==============================] - 0s 53us/step\n",
      "64/64 [==============================] - 0s 48us/step\n",
      "128/128 [==============================] - 0s 47us/step\n",
      "64/64 [==============================] - 0s 47us/step\n",
      "64/64 [==============================] - 0s 55us/step\n",
      "128/128 [==============================] - 0s 49us/step\n",
      "64/64 [==============================] - 0s 57us/step\n",
      "64/64 [==============================] - 0s 59us/step\n",
      "128/128 [==============================] - 0s 49us/step\n",
      "64/64 [==============================] - 0s 64us/step\n",
      "64/64 [==============================] - 0s 64us/step\n"
     ]
    },
    {
     "name": "stderr",
     "output_type": "stream",
     "text": [
      "\r",
      "  8%|▊         | 68/800 [00:09<01:42,  7.15it/s]"
     ]
    },
    {
     "name": "stdout",
     "output_type": "stream",
     "text": [
      "128/128 [==============================] - 0s 48us/step\n",
      "64/64 [==============================] - 0s 68us/step\n",
      "64/64 [==============================] - 0s 53us/step\n",
      "128/128 [==============================] - 0s 40us/step\n",
      "64/64 [==============================] - 0s 81us/step\n",
      "64/64 [==============================] - 0s 64us/step\n",
      "128/128 [==============================] - 0s 45us/step\n",
      "64/64 [==============================] - 0s 67us/step\n",
      "64/64 [==============================] - 0s 66us/step\n",
      "128/128 [==============================] - 0s 44us/step\n",
      "64/64 [==============================] - 0s 83us/step\n",
      "64/64 [==============================] - 0s 69us/step\n"
     ]
    },
    {
     "name": "stderr",
     "output_type": "stream",
     "text": [
      "\r",
      "  9%|▉         | 72/800 [00:09<01:37,  7.47it/s]"
     ]
    },
    {
     "name": "stdout",
     "output_type": "stream",
     "text": [
      "128/128 [==============================] - 0s 40us/step\n",
      "64/64 [==============================] - 0s 67us/step\n",
      "64/64 [==============================] - 0s 70us/step\n",
      "128/128 [==============================] - 0s 41us/step\n",
      "64/64 [==============================] - 0s 70us/step\n",
      "64/64 [==============================] - 0s 72us/step\n",
      "128/128 [==============================] - 0s 46us/step\n",
      "64/64 [==============================] - 0s 66us/step\n",
      "64/64 [==============================] - 0s 83us/step\n",
      "128/128 [==============================] - 0s 39us/step\n",
      "64/64 [==============================] - 0s 97us/step\n",
      "64/64 [==============================] - 0s 79us/step\n"
     ]
    },
    {
     "name": "stderr",
     "output_type": "stream",
     "text": [
      "\r",
      " 10%|▉         | 76/800 [00:09<01:33,  7.78it/s]"
     ]
    },
    {
     "name": "stdout",
     "output_type": "stream",
     "text": [
      "128/128 [==============================] - 0s 45us/step\n",
      "64/64 [==============================] - 0s 55us/step\n",
      "64/64 [==============================] - 0s 77us/step\n",
      "128/128 [==============================] - 0s 39us/step\n",
      "64/64 [==============================] - 0s 49us/step\n",
      "64/64 [==============================] - 0s 41us/step\n",
      "128/128 [==============================] - 0s 39us/step\n",
      "64/64 [==============================] - 0s 43us/step\n",
      "64/64 [==============================] - 0s 44us/step\n",
      "128/128 [==============================] - 0s 57us/step\n",
      "64/64 [==============================] - 0s 61us/step\n",
      "64/64 [==============================] - 0s 55us/step\n"
     ]
    },
    {
     "name": "stderr",
     "output_type": "stream",
     "text": [
      "\r",
      " 10%|█         | 80/800 [00:09<01:29,  8.09it/s]"
     ]
    },
    {
     "name": "stdout",
     "output_type": "stream",
     "text": [
      "128/128 [==============================] - 0s 45us/step\n",
      "64/64 [==============================] - 0s 63us/step\n",
      "64/64 [==============================] - 0s 60us/step\n",
      "128/128 [==============================] - 0s 51us/step\n",
      "64/64 [==============================] - 0s 44us/step\n",
      "64/64 [==============================] - 0s 69us/step\n",
      "128/128 [==============================] - 0s 84us/step\n",
      "64/64 [==============================] - 0s 54us/step\n",
      "64/64 [==============================] - 0s 81us/step\n",
      "128/128 [==============================] - 0s 58us/step\n",
      "64/64 [==============================] - 0s 58us/step\n",
      "64/64 [==============================] - 0s 57us/step\n"
     ]
    },
    {
     "name": "stderr",
     "output_type": "stream",
     "text": [
      "\r",
      " 10%|█         | 84/800 [00:10<01:25,  8.38it/s]"
     ]
    },
    {
     "name": "stdout",
     "output_type": "stream",
     "text": [
      "128/128 [==============================] - 0s 46us/step\n",
      "64/64 [==============================] - 0s 68us/step\n",
      "64/64 [==============================] - 0s 72us/step\n",
      "128/128 [==============================] - 0s 46us/step\n",
      "64/64 [==============================] - 0s 63us/step\n",
      "64/64 [==============================] - 0s 81us/step\n",
      "128/128 [==============================] - 0s 47us/step\n",
      "64/64 [==============================] - 0s 57us/step\n",
      "64/64 [==============================] - 0s 53us/step\n",
      "128/128 [==============================] - 0s 46us/step\n",
      "64/64 [==============================] - 0s 44us/step\n",
      "64/64 [==============================] - 0s 106us/step\n"
     ]
    },
    {
     "name": "stderr",
     "output_type": "stream",
     "text": [
      "\r",
      " 11%|█         | 88/800 [00:10<01:22,  8.66it/s]"
     ]
    },
    {
     "name": "stdout",
     "output_type": "stream",
     "text": [
      "128/128 [==============================] - 0s 52us/step\n",
      "64/64 [==============================] - 0s 49us/step\n",
      "64/64 [==============================] - 0s 80us/step\n",
      "128/128 [==============================] - 0s 44us/step\n",
      "64/64 [==============================] - 0s 52us/step\n",
      "64/64 [==============================] - 0s 91us/step\n",
      "128/128 [==============================] - 0s 56us/step\n",
      "64/64 [==============================] - 0s 51us/step\n",
      "64/64 [==============================] - 0s 55us/step\n",
      "128/128 [==============================] - 0s 50us/step\n",
      "64/64 [==============================] - 0s 57us/step\n",
      "64/64 [==============================] - 0s 56us/step\n"
     ]
    },
    {
     "name": "stderr",
     "output_type": "stream",
     "text": [
      "\r",
      " 12%|█▏        | 92/800 [00:10<01:19,  8.94it/s]"
     ]
    },
    {
     "name": "stdout",
     "output_type": "stream",
     "text": [
      "128/128 [==============================] - 0s 45us/step\n",
      "64/64 [==============================] - 0s 77us/step\n",
      "64/64 [==============================] - 0s 63us/step\n",
      "128/128 [==============================] - 0s 48us/step\n",
      "64/64 [==============================] - 0s 78us/step\n",
      "64/64 [==============================] - 0s 67us/step\n",
      "128/128 [==============================] - 0s 46us/step\n",
      "64/64 [==============================] - 0s 66us/step\n",
      "64/64 [==============================] - 0s 70us/step\n",
      "128/128 [==============================] - 0s 47us/step\n",
      "64/64 [==============================] - 0s 52us/step\n",
      "64/64 [==============================] - 0s 50us/step\n"
     ]
    },
    {
     "name": "stderr",
     "output_type": "stream",
     "text": [
      "\r",
      " 12%|█▏        | 96/800 [00:10<01:16,  9.21it/s]"
     ]
    },
    {
     "name": "stdout",
     "output_type": "stream",
     "text": [
      "128/128 [==============================] - 0s 46us/step\n",
      "64/64 [==============================] - 0s 62us/step\n",
      "64/64 [==============================] - 0s 60us/step\n",
      "128/128 [==============================] - 0s 49us/step\n",
      "64/64 [==============================] - 0s 76us/step\n",
      "64/64 [==============================] - 0s 52us/step\n",
      "128/128 [==============================] - 0s 46us/step\n",
      "64/64 [==============================] - 0s 80us/step\n",
      "64/64 [==============================] - 0s 68us/step\n",
      "128/128 [==============================] - 0s 49us/step\n",
      "64/64 [==============================] - 0s 75us/step\n",
      "64/64 [==============================] - 0s 67us/step\n"
     ]
    },
    {
     "name": "stderr",
     "output_type": "stream",
     "text": [
      "\r",
      " 12%|█▎        | 100/800 [00:10<01:13,  9.48it/s]"
     ]
    },
    {
     "name": "stdout",
     "output_type": "stream",
     "text": [
      "128/128 [==============================] - 0s 50us/step\n",
      "64/64 [==============================] - 0s 88us/step\n",
      "64/64 [==============================] - 0s 57us/step\n",
      "128/128 [==============================] - 0s 40us/step\n",
      "64/64 [==============================] - 0s 45us/step\n",
      "64/64 [==============================] - 0s 83us/step\n",
      "128/128 [==============================] - 0s 52us/step\n",
      "64/64 [==============================] - 0s 67us/step\n",
      "64/64 [==============================] - 0s 72us/step\n",
      "128/128 [==============================] - 0s 44us/step\n",
      "64/64 [==============================] - 0s 71us/step\n",
      "64/64 [==============================] - 0s 61us/step\n"
     ]
    },
    {
     "name": "stderr",
     "output_type": "stream",
     "text": [
      "\r",
      " 13%|█▎        | 104/800 [00:14<01:36,  7.20it/s]"
     ]
    },
    {
     "name": "stdout",
     "output_type": "stream",
     "text": [
      "128/128 [==============================] - 0s 41us/step\n",
      "64/64 [==============================] - 0s 52us/step\n",
      "64/64 [==============================] - 0s 86us/step\n",
      "128/128 [==============================] - 0s 48us/step\n",
      "64/64 [==============================] - 0s 64us/step\n",
      "64/64 [==============================] - 0s 57us/step\n",
      "128/128 [==============================] - 0s 41us/step\n",
      "64/64 [==============================] - 0s 45us/step\n",
      "64/64 [==============================] - 0s 67us/step\n",
      "128/128 [==============================] - 0s 48us/step\n",
      "64/64 [==============================] - 0s 62us/step\n",
      "64/64 [==============================] - 0s 80us/step\n"
     ]
    },
    {
     "name": "stderr",
     "output_type": "stream",
     "text": [
      "\r",
      " 14%|█▎        | 108/800 [00:14<01:33,  7.41it/s]"
     ]
    },
    {
     "name": "stdout",
     "output_type": "stream",
     "text": [
      "128/128 [==============================] - 0s 42us/step\n",
      "64/64 [==============================] - 0s 70us/step\n",
      "64/64 [==============================] - 0s 82us/step\n",
      "128/128 [==============================] - 0s 51us/step\n",
      "64/64 [==============================] - 0s 59us/step\n",
      "64/64 [==============================] - 0s 86us/step\n",
      "128/128 [==============================] - 0s 42us/step\n",
      "64/64 [==============================] - 0s 69us/step\n",
      "64/64 [==============================] - 0s 73us/step\n",
      "128/128 [==============================] - 0s 46us/step\n",
      "64/64 [==============================] - 0s 55us/step\n",
      "64/64 [==============================] - 0s 61us/step\n"
     ]
    },
    {
     "name": "stderr",
     "output_type": "stream",
     "text": [
      "\r",
      " 14%|█▍        | 112/800 [00:14<01:30,  7.61it/s]"
     ]
    },
    {
     "name": "stdout",
     "output_type": "stream",
     "text": [
      "128/128 [==============================] - 0s 41us/step\n",
      "64/64 [==============================] - 0s 69us/step\n",
      "64/64 [==============================] - 0s 69us/step\n",
      "128/128 [==============================] - 0s 48us/step\n",
      "64/64 [==============================] - 0s 57us/step\n",
      "64/64 [==============================] - 0s 72us/step\n",
      "128/128 [==============================] - 0s 41us/step\n",
      "64/64 [==============================] - 0s 43us/step\n",
      "64/64 [==============================] - 0s 138us/step\n",
      "128/128 [==============================] - 0s 50us/step\n",
      "64/64 [==============================] - 0s 73us/step\n",
      "64/64 [==============================] - 0s 62us/step\n"
     ]
    },
    {
     "name": "stderr",
     "output_type": "stream",
     "text": [
      "\r",
      " 14%|█▍        | 116/800 [00:14<01:27,  7.82it/s]"
     ]
    },
    {
     "name": "stdout",
     "output_type": "stream",
     "text": [
      "128/128 [==============================] - 0s 42us/step\n",
      "64/64 [==============================] - 0s 48us/step\n",
      "64/64 [==============================] - 0s 74us/step\n",
      "128/128 [==============================] - 0s 51us/step\n",
      "64/64 [==============================] - 0s 85us/step\n",
      "64/64 [==============================] - 0s 73us/step\n",
      "128/128 [==============================] - 0s 43us/step\n",
      "64/64 [==============================] - 0s 75us/step\n",
      "64/64 [==============================] - 0s 86us/step\n",
      "128/128 [==============================] - 0s 43us/step\n",
      "64/64 [==============================] - 0s 85us/step\n",
      "64/64 [==============================] - 0s 73us/step\n"
     ]
    },
    {
     "name": "stderr",
     "output_type": "stream",
     "text": [
      "\r",
      " 15%|█▌        | 120/800 [00:14<01:24,  8.01it/s]"
     ]
    },
    {
     "name": "stdout",
     "output_type": "stream",
     "text": [
      "128/128 [==============================] - 0s 48us/step\n",
      "64/64 [==============================] - 0s 63us/step\n",
      "64/64 [==============================] - 0s 71us/step\n",
      "128/128 [==============================] - 0s 46us/step\n",
      "64/64 [==============================] - 0s 72us/step\n",
      "64/64 [==============================] - 0s 63us/step\n",
      "128/128 [==============================] - 0s 42us/step\n",
      "64/64 [==============================] - 0s 54us/step\n",
      "64/64 [==============================] - 0s 64us/step\n",
      "128/128 [==============================] - 0s 43us/step\n",
      "64/64 [==============================] - 0s 66us/step\n",
      "64/64 [==============================] - 0s 83us/step\n"
     ]
    },
    {
     "name": "stderr",
     "output_type": "stream",
     "text": [
      "\r",
      " 16%|█▌        | 124/800 [00:15<01:22,  8.21it/s]"
     ]
    },
    {
     "name": "stdout",
     "output_type": "stream",
     "text": [
      "128/128 [==============================] - 0s 47us/step\n",
      "64/64 [==============================] - 0s 50us/step\n",
      "64/64 [==============================] - 0s 60us/step\n",
      "128/128 [==============================] - 0s 42us/step\n",
      "64/64 [==============================] - 0s 66us/step\n",
      "64/64 [==============================] - 0s 77us/step\n",
      "128/128 [==============================] - 0s 57us/step\n",
      "64/64 [==============================] - 0s 54us/step\n",
      "64/64 [==============================] - 0s 76us/step\n",
      "128/128 [==============================] - 0s 42us/step\n",
      "64/64 [==============================] - 0s 48us/step\n",
      "64/64 [==============================] - 0s 64us/step\n"
     ]
    },
    {
     "name": "stderr",
     "output_type": "stream",
     "text": [
      "\r",
      " 16%|█▌        | 128/800 [00:15<01:19,  8.40it/s]"
     ]
    },
    {
     "name": "stdout",
     "output_type": "stream",
     "text": [
      "128/128 [==============================] - 0s 49us/step\n",
      "64/64 [==============================] - 0s 49us/step\n",
      "64/64 [==============================] - 0s 89us/step\n",
      "128/128 [==============================] - 0s 42us/step\n",
      "64/64 [==============================] - 0s 46us/step\n",
      "64/64 [==============================] - 0s 91us/step\n",
      "128/128 [==============================] - 0s 51us/step\n",
      "64/64 [==============================] - 0s 53us/step\n",
      "64/64 [==============================] - 0s 59us/step\n",
      "128/128 [==============================] - 0s 47us/step\n",
      "64/64 [==============================] - 0s 63us/step\n",
      "64/64 [==============================] - 0s 60us/step\n"
     ]
    },
    {
     "name": "stderr",
     "output_type": "stream",
     "text": [
      "\r",
      " 16%|█▋        | 132/800 [00:15<01:17,  8.59it/s]"
     ]
    },
    {
     "name": "stdout",
     "output_type": "stream",
     "text": [
      "128/128 [==============================] - 0s 61us/step\n",
      "64/64 [==============================] - 0s 65us/step\n",
      "64/64 [==============================] - 0s 52us/step\n",
      "128/128 [==============================] - 0s 54us/step\n",
      "64/64 [==============================] - 0s 50us/step\n",
      "64/64 [==============================] - 0s 54us/step\n",
      "128/128 [==============================] - 0s 52us/step\n",
      "64/64 [==============================] - 0s 63us/step\n",
      "64/64 [==============================] - 0s 68us/step\n",
      "128/128 [==============================] - 0s 46us/step\n",
      "64/64 [==============================] - 0s 67us/step\n",
      "64/64 [==============================] - 0s 64us/step\n"
     ]
    },
    {
     "name": "stderr",
     "output_type": "stream",
     "text": [
      "\r",
      " 17%|█▋        | 136/800 [00:15<01:15,  8.77it/s]"
     ]
    },
    {
     "name": "stdout",
     "output_type": "stream",
     "text": [
      "128/128 [==============================] - 0s 49us/step\n",
      "64/64 [==============================] - 0s 73us/step\n",
      "64/64 [==============================] - 0s 51us/step\n",
      "128/128 [==============================] - 0s 45us/step\n",
      "64/64 [==============================] - 0s 70us/step\n",
      "64/64 [==============================] - 0s 64us/step\n",
      "128/128 [==============================] - 0s 43us/step\n",
      "64/64 [==============================] - 0s 66us/step\n",
      "64/64 [==============================] - 0s 67us/step\n",
      "128/128 [==============================] - 0s 43us/step\n",
      "64/64 [==============================] - 0s 70us/step\n",
      "64/64 [==============================] - 0s 53us/step\n"
     ]
    },
    {
     "name": "stderr",
     "output_type": "stream",
     "text": [
      "\r",
      " 18%|█▊        | 140/800 [00:15<01:13,  8.96it/s]"
     ]
    },
    {
     "name": "stdout",
     "output_type": "stream",
     "text": [
      "128/128 [==============================] - 0s 49us/step\n",
      "64/64 [==============================] - 0s 116us/step\n",
      "64/64 [==============================] - 0s 54us/step\n",
      "128/128 [==============================] - 0s 51us/step\n",
      "64/64 [==============================] - 0s 44us/step\n",
      "64/64 [==============================] - 0s 60us/step\n",
      "128/128 [==============================] - 0s 40us/step\n",
      "64/64 [==============================] - 0s 101us/step\n",
      "64/64 [==============================] - 0s 57us/step\n",
      "128/128 [==============================] - 0s 42us/step\n",
      "64/64 [==============================] - 0s 65us/step\n",
      "64/64 [==============================] - 0s 54us/step\n"
     ]
    },
    {
     "name": "stderr",
     "output_type": "stream",
     "text": [
      "\r",
      " 18%|█▊        | 144/800 [00:15<01:11,  9.14it/s]"
     ]
    },
    {
     "name": "stdout",
     "output_type": "stream",
     "text": [
      "128/128 [==============================] - 0s 43us/step\n",
      "64/64 [==============================] - 0s 59us/step\n",
      "64/64 [==============================] - 0s 96us/step\n",
      "128/128 [==============================] - 0s 51us/step\n",
      "64/64 [==============================] - 0s 85us/step\n",
      "64/64 [==============================] - 0s 71us/step\n",
      "128/128 [==============================] - 0s 49us/step\n",
      "64/64 [==============================] - 0s 72us/step\n",
      "64/64 [==============================] - 0s 73us/step\n",
      "128/128 [==============================] - 0s 44us/step\n",
      "64/64 [==============================] - 0s 73us/step\n",
      "64/64 [==============================] - 0s 71us/step\n"
     ]
    },
    {
     "name": "stderr",
     "output_type": "stream",
     "text": [
      "\r",
      " 18%|█▊        | 148/800 [00:15<01:10,  9.31it/s]"
     ]
    },
    {
     "name": "stdout",
     "output_type": "stream",
     "text": [
      "128/128 [==============================] - 0s 42us/step\n",
      "64/64 [==============================] - 0s 90us/step\n",
      "64/64 [==============================] - 0s 76us/step\n",
      "128/128 [==============================] - 0s 52us/step\n",
      "64/64 [==============================] - 0s 61us/step\n",
      "64/64 [==============================] - 0s 64us/step\n",
      "128/128 [==============================] - 0s 47us/step\n",
      "64/64 [==============================] - 0s 82us/step\n",
      "64/64 [==============================] - 0s 68us/step\n",
      "128/128 [==============================] - 0s 53us/step\n",
      "64/64 [==============================] - 0s 48us/step\n",
      "64/64 [==============================] - 0s 58us/step\n"
     ]
    },
    {
     "name": "stderr",
     "output_type": "stream",
     "text": [
      "\r",
      " 19%|█▉        | 152/800 [00:16<01:08,  9.48it/s]"
     ]
    },
    {
     "name": "stdout",
     "output_type": "stream",
     "text": [
      "128/128 [==============================] - 0s 40us/step\n",
      "64/64 [==============================] - 0s 50us/step\n",
      "64/64 [==============================] - 0s 70us/step\n",
      "128/128 [==============================] - 0s 48us/step\n",
      "64/64 [==============================] - 0s 83us/step\n",
      "64/64 [==============================] - 0s 74us/step\n",
      "128/128 [==============================] - 0s 40us/step\n",
      "64/64 [==============================] - 0s 75us/step\n",
      "64/64 [==============================] - 0s 78us/step\n",
      "128/128 [==============================] - 0s 43us/step\n",
      "64/64 [==============================] - 0s 58us/step\n",
      "64/64 [==============================] - 0s 61us/step\n"
     ]
    },
    {
     "name": "stderr",
     "output_type": "stream",
     "text": [
      "\r",
      " 20%|█▉        | 156/800 [00:16<01:06,  9.65it/s]"
     ]
    },
    {
     "name": "stdout",
     "output_type": "stream",
     "text": [
      "128/128 [==============================] - 0s 40us/step\n",
      "64/64 [==============================] - 0s 55us/step\n",
      "64/64 [==============================] - 0s 69us/step\n",
      "128/128 [==============================] - 0s 45us/step\n",
      "64/64 [==============================] - 0s 67us/step\n",
      "64/64 [==============================] - 0s 61us/step\n",
      "128/128 [==============================] - 0s 51us/step\n",
      "64/64 [==============================] - 0s 77us/step\n",
      "64/64 [==============================] - 0s 71us/step\n",
      "128/128 [==============================] - 0s 43us/step\n",
      "64/64 [==============================] - 0s 56us/step\n",
      "64/64 [==============================] - 0s 79us/step\n"
     ]
    },
    {
     "name": "stderr",
     "output_type": "stream",
     "text": [
      "\r",
      " 20%|██        | 160/800 [00:16<01:05,  9.82it/s]"
     ]
    },
    {
     "name": "stdout",
     "output_type": "stream",
     "text": [
      "128/128 [==============================] - 0s 54us/step\n",
      "64/64 [==============================] - 0s 141us/step\n",
      "64/64 [==============================] - 0s 56us/step\n",
      "128/128 [==============================] - 0s 44us/step\n",
      "64/64 [==============================] - 0s 71us/step\n",
      "64/64 [==============================] - 0s 58us/step\n",
      "128/128 [==============================] - 0s 44us/step\n",
      "64/64 [==============================] - 0s 69us/step\n",
      "64/64 [==============================] - 0s 57us/step\n",
      "128/128 [==============================] - 0s 43us/step\n",
      "64/64 [==============================] - 0s 63us/step\n",
      "64/64 [==============================] - 0s 51us/step\n"
     ]
    },
    {
     "name": "stderr",
     "output_type": "stream",
     "text": [
      "\r",
      " 20%|██        | 164/800 [00:16<01:03,  9.98it/s]"
     ]
    },
    {
     "name": "stdout",
     "output_type": "stream",
     "text": [
      "128/128 [==============================] - 0s 44us/step\n",
      "64/64 [==============================] - 0s 73us/step\n",
      "64/64 [==============================] - 0s 65us/step\n",
      "128/128 [==============================] - 0s 43us/step\n",
      "64/64 [==============================] - 0s 81us/step\n",
      "64/64 [==============================] - 0s 70us/step\n",
      "128/128 [==============================] - 0s 50us/step\n",
      "64/64 [==============================] - 0s 77us/step\n",
      "64/64 [==============================] - 0s 74us/step\n",
      "128/128 [==============================] - 0s 48us/step\n",
      "64/64 [==============================] - 0s 61us/step\n",
      "64/64 [==============================] - 0s 72us/step\n"
     ]
    },
    {
     "name": "stderr",
     "output_type": "stream",
     "text": [
      "\r",
      " 21%|██        | 168/800 [00:16<01:02, 10.14it/s]"
     ]
    },
    {
     "name": "stdout",
     "output_type": "stream",
     "text": [
      "128/128 [==============================] - 0s 74us/step\n",
      "64/64 [==============================] - 0s 64us/step\n",
      "64/64 [==============================] - 0s 68us/step\n",
      "128/128 [==============================] - 0s 47us/step\n",
      "64/64 [==============================] - 0s 54us/step\n",
      "64/64 [==============================] - 0s 51us/step\n",
      "128/128 [==============================] - 0s 42us/step\n",
      "64/64 [==============================] - 0s 71us/step\n",
      "64/64 [==============================] - 0s 65us/step\n",
      "128/128 [==============================] - 0s 49us/step\n",
      "64/64 [==============================] - 0s 53us/step\n",
      "64/64 [==============================] - 0s 55us/step\n"
     ]
    },
    {
     "name": "stderr",
     "output_type": "stream",
     "text": [
      "\r",
      " 22%|██▏       | 172/800 [00:16<01:00, 10.30it/s]"
     ]
    },
    {
     "name": "stdout",
     "output_type": "stream",
     "text": [
      "128/128 [==============================] - 0s 50us/step\n",
      "64/64 [==============================] - 0s 71us/step\n",
      "64/64 [==============================] - 0s 59us/step\n",
      "128/128 [==============================] - 0s 77us/step\n",
      "64/64 [==============================] - 0s 47us/step\n",
      "64/64 [==============================] - 0s 57us/step\n",
      "128/128 [==============================] - 0s 43us/step\n",
      "64/64 [==============================] - 0s 78us/step\n",
      "64/64 [==============================] - 0s 64us/step\n",
      "128/128 [==============================] - 0s 76us/step\n",
      "64/64 [==============================] - 0s 65us/step\n",
      "64/64 [==============================] - 0s 52us/step\n"
     ]
    },
    {
     "name": "stderr",
     "output_type": "stream",
     "text": [
      "\r",
      " 22%|██▏       | 176/800 [00:16<00:59, 10.46it/s]"
     ]
    },
    {
     "name": "stdout",
     "output_type": "stream",
     "text": [
      "128/128 [==============================] - 0s 43us/step\n",
      "64/64 [==============================] - 0s 63us/step\n",
      "64/64 [==============================] - 0s 55us/step\n",
      "128/128 [==============================] - 0s 47us/step\n",
      "64/64 [==============================] - 0s 46us/step\n",
      "64/64 [==============================] - 0s 74us/step\n",
      "128/128 [==============================] - 0s 47us/step\n",
      "64/64 [==============================] - 0s 72us/step\n",
      "64/64 [==============================] - 0s 52us/step\n",
      "128/128 [==============================] - 0s 49us/step\n",
      "64/64 [==============================] - 0s 79us/step\n",
      "64/64 [==============================] - 0s 67us/step\n"
     ]
    },
    {
     "name": "stderr",
     "output_type": "stream",
     "text": [
      "\r",
      " 22%|██▎       | 180/800 [00:16<00:58, 10.61it/s]"
     ]
    },
    {
     "name": "stdout",
     "output_type": "stream",
     "text": [
      "128/128 [==============================] - 0s 54us/step\n",
      "64/64 [==============================] - 0s 65us/step\n",
      "64/64 [==============================] - 0s 56us/step\n",
      "128/128 [==============================] - 0s 47us/step\n",
      "64/64 [==============================] - 0s 69us/step\n",
      "64/64 [==============================] - 0s 73us/step\n",
      "128/128 [==============================] - 0s 47us/step\n",
      "64/64 [==============================] - 0s 70us/step\n",
      "64/64 [==============================] - 0s 69us/step\n",
      "128/128 [==============================] - 0s 57us/step\n",
      "64/64 [==============================] - 0s 45us/step\n",
      "64/64 [==============================] - 0s 55us/step\n"
     ]
    },
    {
     "name": "stderr",
     "output_type": "stream",
     "text": [
      "\r",
      " 23%|██▎       | 184/800 [00:17<00:57, 10.76it/s]"
     ]
    },
    {
     "name": "stdout",
     "output_type": "stream",
     "text": [
      "128/128 [==============================] - 0s 47us/step\n",
      "64/64 [==============================] - 0s 60us/step\n",
      "64/64 [==============================] - 0s 75us/step\n",
      "128/128 [==============================] - 0s 44us/step\n",
      "64/64 [==============================] - 0s 69us/step\n",
      "64/64 [==============================] - 0s 73us/step\n",
      "128/128 [==============================] - 0s 41us/step\n",
      "64/64 [==============================] - 0s 46us/step\n",
      "64/64 [==============================] - 0s 71us/step\n",
      "128/128 [==============================] - 0s 43us/step\n",
      "64/64 [==============================] - 0s 42us/step\n",
      "64/64 [==============================] - 0s 95us/step\n"
     ]
    },
    {
     "name": "stderr",
     "output_type": "stream",
     "text": [
      "\r",
      " 24%|██▎       | 188/800 [00:17<00:56, 10.92it/s]"
     ]
    },
    {
     "name": "stdout",
     "output_type": "stream",
     "text": [
      "128/128 [==============================] - 0s 53us/step\n",
      "64/64 [==============================] - 0s 52us/step\n",
      "64/64 [==============================] - 0s 74us/step\n",
      "128/128 [==============================] - 0s 46us/step\n",
      "64/64 [==============================] - 0s 66us/step\n",
      "64/64 [==============================] - 0s 67us/step\n",
      "128/128 [==============================] - 0s 53us/step\n",
      "64/64 [==============================] - 0s 52us/step\n",
      "64/64 [==============================] - 0s 72us/step\n",
      "128/128 [==============================] - 0s 45us/step\n",
      "64/64 [==============================] - 0s 76us/step\n",
      "64/64 [==============================] - 0s 82us/step\n"
     ]
    },
    {
     "name": "stderr",
     "output_type": "stream",
     "text": [
      "\r",
      " 24%|██▍       | 192/800 [00:17<00:54, 11.06it/s]"
     ]
    },
    {
     "name": "stdout",
     "output_type": "stream",
     "text": [
      "128/128 [==============================] - 0s 57us/step\n",
      "64/64 [==============================] - 0s 50us/step\n",
      "64/64 [==============================] - 0s 70us/step\n",
      "128/128 [==============================] - 0s 41us/step\n",
      "64/64 [==============================] - 0s 62us/step\n",
      "64/64 [==============================] - 0s 75us/step\n",
      "128/128 [==============================] - 0s 55us/step\n",
      "64/64 [==============================] - 0s 45us/step\n",
      "64/64 [==============================] - 0s 121us/step\n",
      "128/128 [==============================] - 0s 51us/step\n",
      "64/64 [==============================] - 0s 54us/step\n",
      "64/64 [==============================] - 0s 65us/step\n"
     ]
    },
    {
     "name": "stderr",
     "output_type": "stream",
     "text": [
      "\r",
      " 24%|██▍       | 196/800 [00:17<00:53, 11.21it/s]"
     ]
    },
    {
     "name": "stdout",
     "output_type": "stream",
     "text": [
      "128/128 [==============================] - 0s 40us/step\n",
      "64/64 [==============================] - 0s 60us/step\n",
      "64/64 [==============================] - 0s 69us/step\n",
      "128/128 [==============================] - 0s 41us/step\n",
      "64/64 [==============================] - 0s 54us/step\n",
      "64/64 [==============================] - 0s 72us/step\n",
      "128/128 [==============================] - 0s 52us/step\n",
      "64/64 [==============================] - 0s 48us/step\n",
      "64/64 [==============================] - 0s 119us/step\n",
      "128/128 [==============================] - 0s 50us/step\n",
      "64/64 [==============================] - 0s 80us/step\n",
      "64/64 [==============================] - 0s 82us/step\n"
     ]
    },
    {
     "name": "stderr",
     "output_type": "stream",
     "text": [
      "\r",
      " 25%|██▌       | 200/800 [00:17<00:52, 11.35it/s]"
     ]
    },
    {
     "name": "stdout",
     "output_type": "stream",
     "text": [
      "128/128 [==============================] - 0s 93us/step\n",
      "64/64 [==============================] - 0s 62us/step\n",
      "64/64 [==============================] - 0s 67us/step\n",
      "128/128 [==============================] - 0s 53us/step\n",
      "64/64 [==============================] - 0s 103us/step\n",
      "64/64 [==============================] - 0s 57us/step\n",
      "128/128 [==============================] - 0s 50us/step\n",
      "64/64 [==============================] - 0s 62us/step\n",
      "64/64 [==============================] - 0s 73us/step\n",
      "128/128 [==============================] - 0s 49us/step\n",
      "64/64 [==============================] - 0s 81us/step\n",
      "64/64 [==============================] - 0s 66us/step\n"
     ]
    },
    {
     "name": "stderr",
     "output_type": "stream",
     "text": [
      "\r",
      " 26%|██▌       | 204/800 [00:21<01:04,  9.28it/s]"
     ]
    },
    {
     "name": "stdout",
     "output_type": "stream",
     "text": [
      "128/128 [==============================] - 0s 43us/step\n",
      "64/64 [==============================] - 0s 56us/step\n",
      "64/64 [==============================] - 0s 79us/step\n",
      "128/128 [==============================] - 0s 42us/step\n",
      "64/64 [==============================] - 0s 67us/step\n",
      "64/64 [==============================] - 0s 58us/step\n",
      "128/128 [==============================] - 0s 49us/step\n",
      "64/64 [==============================] - ETA:  - 0s 54us/step\n",
      "64/64 [==============================] - 0s 71us/step\n",
      "128/128 [==============================] - 0s 41us/step\n",
      "64/64 [==============================] - 0s 52us/step\n",
      "64/64 [==============================] - 0s 87us/step\n"
     ]
    },
    {
     "name": "stderr",
     "output_type": "stream",
     "text": [
      "\r",
      " 26%|██▌       | 208/800 [00:22<01:02,  9.40it/s]"
     ]
    },
    {
     "name": "stdout",
     "output_type": "stream",
     "text": [
      "128/128 [==============================] - 0s 47us/step\n",
      "64/64 [==============================] - 0s 56us/step\n",
      "64/64 [==============================] - 0s 79us/step\n",
      "128/128 [==============================] - 0s 42us/step\n",
      "64/64 [==============================] - 0s 50us/step\n",
      "64/64 [==============================] - 0s 78us/step\n",
      "128/128 [==============================] - 0s 49us/step\n",
      "64/64 [==============================] - 0s 52us/step\n",
      "64/64 [==============================] - 0s 88us/step\n",
      "128/128 [==============================] - 0s 49us/step\n",
      "64/64 [==============================] - 0s 97us/step\n",
      "64/64 [==============================] - 0s 77us/step\n"
     ]
    },
    {
     "name": "stderr",
     "output_type": "stream",
     "text": [
      "\r",
      " 26%|██▋       | 212/800 [00:22<01:01,  9.52it/s]"
     ]
    },
    {
     "name": "stdout",
     "output_type": "stream",
     "text": [
      "128/128 [==============================] - 0s 41us/step\n",
      "64/64 [==============================] - 0s 103us/step\n",
      "64/64 [==============================] - 0s 60us/step\n",
      "128/128 [==============================] - 0s 67us/step\n",
      "64/64 [==============================] - 0s 74us/step\n",
      "64/64 [==============================] - 0s 77us/step\n",
      "128/128 [==============================] - 0s 42us/step\n",
      "64/64 [==============================] - 0s 71us/step\n",
      "64/64 [==============================] - 0s 68us/step\n"
     ]
    },
    {
     "name": "stderr",
     "output_type": "stream",
     "text": [
      "\r",
      " 27%|██▋       | 215/800 [00:22<01:00,  9.61it/s]"
     ]
    },
    {
     "name": "stdout",
     "output_type": "stream",
     "text": [
      "128/128 [==============================] - 0s 53us/step\n",
      "64/64 [==============================] - 0s 53us/step\n",
      "64/64 [==============================] - 0s 67us/step\n",
      "128/128 [==============================] - 0s 48us/step\n",
      "64/64 [==============================] - 0s 73us/step\n",
      "64/64 [==============================] - 0s 71us/step\n",
      "128/128 [==============================] - 0s 49us/step\n",
      "64/64 [==============================] - 0s 57us/step\n",
      "64/64 [==============================] - 0s 70us/step\n"
     ]
    },
    {
     "name": "stderr",
     "output_type": "stream",
     "text": [
      "\r",
      " 27%|██▋       | 218/800 [00:22<00:59,  9.70it/s]"
     ]
    },
    {
     "name": "stdout",
     "output_type": "stream",
     "text": [
      "128/128 [==============================] - 0s 51us/step\n",
      "64/64 [==============================] - 0s 73us/step\n",
      "64/64 [==============================] - 0s 58us/step\n",
      "128/128 [==============================] - 0s 47us/step\n",
      "64/64 [==============================] - 0s 54us/step\n",
      "64/64 [==============================] - 0s 58us/step\n",
      "128/128 [==============================] - 0s 46us/step\n",
      "64/64 [==============================] - 0s 75us/step\n",
      "64/64 [==============================] - 0s 62us/step\n",
      "128/128 [==============================] - 0s 43us/step\n",
      "64/64 [==============================] - 0s 87us/step\n",
      "64/64 [==============================] - 0s 65us/step\n"
     ]
    },
    {
     "name": "stderr",
     "output_type": "stream",
     "text": [
      "\r",
      " 28%|██▊       | 222/800 [00:22<00:58,  9.83it/s]"
     ]
    },
    {
     "name": "stdout",
     "output_type": "stream",
     "text": [
      "128/128 [==============================] - 0s 53us/step\n",
      "64/64 [==============================] - 0s 66us/step\n",
      "64/64 [==============================] - 0s 55us/step\n",
      "128/128 [==============================] - 0s 64us/step\n",
      "64/64 [==============================] - 0s 66us/step\n",
      "64/64 [==============================] - 0s 85us/step\n",
      "128/128 [==============================] - 0s 44us/step\n",
      "64/64 [==============================] - 0s 77us/step\n",
      "64/64 [==============================] - 0s 70us/step\n"
     ]
    },
    {
     "name": "stderr",
     "output_type": "stream",
     "text": [
      "\r",
      " 28%|██▊       | 225/800 [00:22<00:58,  9.91it/s]"
     ]
    },
    {
     "name": "stdout",
     "output_type": "stream",
     "text": [
      "128/128 [==============================] - 0s 57us/step\n",
      "64/64 [==============================] - 0s 60us/step\n",
      "64/64 [==============================] - 0s 133us/step\n",
      "128/128 [==============================] - 0s 55us/step\n",
      "64/64 [==============================] - 0s 63us/step\n",
      "64/64 [==============================] - 0s 50us/step\n",
      "128/128 [==============================] - 0s 47us/step\n",
      "64/64 [==============================] - 0s 53us/step\n",
      "64/64 [==============================] - 0s 60us/step\n"
     ]
    },
    {
     "name": "stderr",
     "output_type": "stream",
     "text": [
      "\r",
      " 28%|██▊       | 228/800 [00:22<00:57, 10.00it/s]"
     ]
    },
    {
     "name": "stdout",
     "output_type": "stream",
     "text": [
      "128/128 [==============================] - 0s 82us/step\n",
      "64/64 [==============================] - 0s 62us/step\n",
      "64/64 [==============================] - 0s 71us/step\n",
      "128/128 [==============================] - 0s 47us/step\n",
      "64/64 [==============================] - 0s 48us/step\n",
      "64/64 [==============================] - 0s 88us/step\n",
      "128/128 [==============================] - 0s 48us/step\n",
      "64/64 [==============================] - 0s 67us/step\n",
      "64/64 [==============================] - 0s 85us/step\n"
     ]
    },
    {
     "name": "stderr",
     "output_type": "stream",
     "text": [
      "\r",
      " 29%|██▉       | 231/800 [00:22<00:56, 10.09it/s]"
     ]
    },
    {
     "name": "stdout",
     "output_type": "stream",
     "text": [
      "128/128 [==============================] - 0s 50us/step\n",
      "64/64 [==============================] - 0s 51us/step\n",
      "64/64 [==============================] - 0s 79us/step\n",
      "128/128 [==============================] - 0s 44us/step\n",
      "64/64 [==============================] - 0s 67us/step\n",
      "64/64 [==============================] - 0s 70us/step\n",
      "128/128 [==============================] - 0s 51us/step\n",
      "64/64 [==============================] - 0s 55us/step\n",
      "64/64 [==============================] - 0s 84us/step\n"
     ]
    },
    {
     "name": "stderr",
     "output_type": "stream",
     "text": [
      "\r",
      " 29%|██▉       | 234/800 [00:23<00:55, 10.17it/s]"
     ]
    },
    {
     "name": "stdout",
     "output_type": "stream",
     "text": [
      "128/128 [==============================] - 0s 49us/step\n",
      "64/64 [==============================] - 0s 50us/step\n",
      "64/64 [==============================] - 0s 91us/step\n",
      "128/128 [==============================] - 0s 41us/step\n",
      "64/64 [==============================] - 0s 59us/step\n",
      "64/64 [==============================] - 0s 63us/step\n",
      "128/128 [==============================] - 0s 43us/step\n",
      "64/64 [==============================] - 0s 44us/step\n",
      "64/64 [==============================] - 0s 83us/step\n",
      "128/128 [==============================] - 0s 41us/step\n",
      "64/64 [==============================] - 0s 69us/step\n",
      "64/64 [==============================] - 0s 73us/step\n"
     ]
    },
    {
     "name": "stderr",
     "output_type": "stream",
     "text": [
      "\r",
      " 30%|██▉       | 238/800 [00:23<00:54, 10.29it/s]"
     ]
    },
    {
     "name": "stdout",
     "output_type": "stream",
     "text": [
      "128/128 [==============================] - 0s 50us/step\n",
      "64/64 [==============================] - 0s 51us/step\n",
      "64/64 [==============================] - 0s 70us/step\n",
      "128/128 [==============================] - 0s 43us/step\n",
      "64/64 [==============================] - 0s 63us/step\n",
      "64/64 [==============================] - 0s 80us/step\n",
      "128/128 [==============================] - 0s 43us/step\n",
      "64/64 [==============================] - 0s 75us/step\n",
      "64/64 [==============================] - 0s 75us/step\n"
     ]
    },
    {
     "name": "stderr",
     "output_type": "stream",
     "text": [
      "\r",
      " 30%|███       | 241/800 [00:23<00:53, 10.37it/s]"
     ]
    },
    {
     "name": "stdout",
     "output_type": "stream",
     "text": [
      "128/128 [==============================] - 0s 58us/step\n",
      "64/64 [==============================] - 0s 79us/step\n",
      "64/64 [==============================] - 0s 68us/step\n",
      "128/128 [==============================] - 0s 42us/step\n",
      "64/64 [==============================] - 0s 76us/step\n",
      "64/64 [==============================] - 0s 55us/step\n",
      "128/128 [==============================] - 0s 58us/step\n",
      "64/64 [==============================] - 0s 81us/step\n",
      "64/64 [==============================] - 0s 64us/step\n"
     ]
    },
    {
     "name": "stderr",
     "output_type": "stream",
     "text": [
      "\r",
      " 30%|███       | 244/800 [00:23<00:53, 10.45it/s]"
     ]
    },
    {
     "name": "stdout",
     "output_type": "stream",
     "text": [
      "128/128 [==============================] - 0s 55us/step\n",
      "64/64 [==============================] - 0s 64us/step\n",
      "64/64 [==============================] - 0s 69us/step\n",
      "128/128 [==============================] - 0s 47us/step\n",
      "64/64 [==============================] - 0s 52us/step\n",
      "64/64 [==============================] - 0s 63us/step\n",
      "128/128 [==============================] - 0s 43us/step\n",
      "64/64 [==============================] - 0s 70us/step\n",
      "64/64 [==============================] - 0s 73us/step\n",
      "128/128 [==============================] - 0s 51us/step\n",
      "64/64 [==============================] - 0s 51us/step\n",
      "64/64 [==============================] - 0s 65us/step\n"
     ]
    },
    {
     "name": "stderr",
     "output_type": "stream",
     "text": [
      "\r",
      " 31%|███       | 248/800 [00:23<00:52, 10.56it/s]"
     ]
    },
    {
     "name": "stdout",
     "output_type": "stream",
     "text": [
      "128/128 [==============================] - 0s 53us/step\n",
      "64/64 [==============================] - 0s 86us/step\n",
      "64/64 [==============================] - 0s 56us/step\n",
      "128/128 [==============================] - 0s 48us/step\n",
      "64/64 [==============================] - 0s 65us/step\n",
      "64/64 [==============================] - 0s 57us/step\n",
      "128/128 [==============================] - 0s 49us/step\n",
      "64/64 [==============================] - 0s 60us/step\n",
      "64/64 [==============================] - 0s 64us/step\n",
      "128/128 [==============================] - 0s 52us/step\n",
      "64/64 [==============================] - 0s 71us/step\n",
      "64/64 [==============================] - 0s 69us/step\n"
     ]
    },
    {
     "name": "stderr",
     "output_type": "stream",
     "text": [
      "\r",
      " 32%|███▏      | 252/800 [00:23<00:51, 10.67it/s]"
     ]
    },
    {
     "name": "stdout",
     "output_type": "stream",
     "text": [
      "128/128 [==============================] - 0s 53us/step\n",
      "64/64 [==============================] - 0s 89us/step\n",
      "64/64 [==============================] - 0s 65us/step\n",
      "128/128 [==============================] - 0s 51us/step\n",
      "64/64 [==============================] - 0s 55us/step\n",
      "64/64 [==============================] - 0s 62us/step\n",
      "128/128 [==============================] - 0s 59us/step\n",
      "64/64 [==============================] - 0s 78us/step\n",
      "64/64 [==============================] - 0s 82us/step\n"
     ]
    },
    {
     "name": "stderr",
     "output_type": "stream",
     "text": [
      "\r",
      " 32%|███▏      | 255/800 [00:23<00:50, 10.75it/s]"
     ]
    },
    {
     "name": "stdout",
     "output_type": "stream",
     "text": [
      "128/128 [==============================] - 0s 45us/step\n",
      "64/64 [==============================] - 0s 57us/step\n",
      "64/64 [==============================] - 0s 90us/step\n",
      "128/128 [==============================] - 0s 52us/step\n",
      "64/64 [==============================] - 0s 57us/step\n",
      "64/64 [==============================] - 0s 74us/step\n",
      "128/128 [==============================] - 0s 41us/step\n",
      "64/64 [==============================] - 0s 119us/step\n",
      "64/64 [==============================] - 0s 85us/step\n"
     ]
    },
    {
     "name": "stderr",
     "output_type": "stream",
     "text": [
      "\r",
      " 32%|███▏      | 258/800 [00:23<00:50, 10.83it/s]"
     ]
    },
    {
     "name": "stdout",
     "output_type": "stream",
     "text": [
      "128/128 [==============================] - 0s 42us/step\n",
      "64/64 [==============================] - 0s 94us/step\n",
      "64/64 [==============================] - 0s 54us/step\n",
      "128/128 [==============================] - 0s 53us/step\n",
      "64/64 [==============================] - 0s 57us/step\n",
      "64/64 [==============================] - 0s 68us/step\n",
      "128/128 [==============================] - 0s 42us/step\n",
      "64/64 [==============================] - 0s 60us/step\n",
      "64/64 [==============================] - 0s 61us/step\n",
      "128/128 [==============================] - 0s 45us/step\n",
      "64/64 [==============================] - 0s 69us/step\n",
      "64/64 [==============================] - 0s 70us/step\n"
     ]
    },
    {
     "name": "stderr",
     "output_type": "stream",
     "text": [
      "\r",
      " 33%|███▎      | 262/800 [00:23<00:49, 10.93it/s]"
     ]
    },
    {
     "name": "stdout",
     "output_type": "stream",
     "text": [
      "128/128 [==============================] - 0s 42us/step\n",
      "64/64 [==============================] - 0s 50us/step\n",
      "64/64 [==============================] - 0s 77us/step\n",
      "128/128 [==============================] - 0s 42us/step\n",
      "64/64 [==============================] - 0s 120us/step\n",
      "64/64 [==============================] - 0s 68us/step\n",
      "128/128 [==============================] - 0s 45us/step\n",
      "64/64 [==============================] - 0s 68us/step\n",
      "64/64 [==============================] - 0s 72us/step\n",
      "128/128 [==============================] - 0s 54us/step\n",
      "64/64 [==============================] - 0s 80us/step\n",
      "64/64 [==============================] - 0s 55us/step\n"
     ]
    },
    {
     "name": "stderr",
     "output_type": "stream",
     "text": [
      "\r",
      " 33%|███▎      | 266/800 [00:24<00:48, 11.04it/s]"
     ]
    },
    {
     "name": "stdout",
     "output_type": "stream",
     "text": [
      "128/128 [==============================] - 0s 40us/step\n",
      "64/64 [==============================] - 0s 90us/step\n",
      "64/64 [==============================] - 0s 54us/step\n",
      "128/128 [==============================] - 0s 55us/step\n",
      "64/64 [==============================] - 0s 52us/step\n",
      "64/64 [==============================] - 0s 86us/step\n",
      "128/128 [==============================] - 0s 71us/step\n",
      "64/64 [==============================] - 0s 73us/step\n",
      "64/64 [==============================] - 0s 57us/step\n"
     ]
    },
    {
     "name": "stderr",
     "output_type": "stream",
     "text": [
      "\r",
      " 34%|███▎      | 269/800 [00:24<00:47, 11.12it/s]"
     ]
    },
    {
     "name": "stdout",
     "output_type": "stream",
     "text": [
      "128/128 [==============================] - 0s 50us/step\n",
      "64/64 [==============================] - 0s 66us/step\n",
      "64/64 [==============================] - 0s 75us/step\n",
      "128/128 [==============================] - 0s 53us/step\n",
      "64/64 [==============================] - 0s 68us/step\n",
      "64/64 [==============================] - 0s 67us/step\n",
      "128/128 [==============================] - 0s 48us/step\n",
      "64/64 [==============================] - 0s 67us/step\n",
      "64/64 [==============================] - 0s 54us/step\n"
     ]
    },
    {
     "name": "stderr",
     "output_type": "stream",
     "text": [
      "\r",
      " 34%|███▍      | 272/800 [00:24<00:47, 11.19it/s]"
     ]
    },
    {
     "name": "stdout",
     "output_type": "stream",
     "text": [
      "128/128 [==============================] - 0s 60us/step\n",
      "64/64 [==============================] - 0s 71us/step\n",
      "64/64 [==============================] - 0s 77us/step\n",
      "128/128 [==============================] - 0s 46us/step\n",
      "64/64 [==============================] - 0s 62us/step\n",
      "64/64 [==============================] - 0s 62us/step\n",
      "128/128 [==============================] - 0s 54us/step\n",
      "64/64 [==============================] - 0s 64us/step\n",
      "64/64 [==============================] - 0s 50us/step\n",
      "128/128 [==============================] - 0s 48us/step\n",
      "64/64 [==============================] - 0s 53us/step\n",
      "64/64 [==============================] - 0s 52us/step\n"
     ]
    },
    {
     "name": "stderr",
     "output_type": "stream",
     "text": [
      "\r",
      " 34%|███▍      | 276/800 [00:24<00:46, 11.30it/s]"
     ]
    },
    {
     "name": "stdout",
     "output_type": "stream",
     "text": [
      "128/128 [==============================] - 0s 42us/step\n",
      "64/64 [==============================] - 0s 87us/step\n",
      "64/64 [==============================] - 0s 65us/step\n",
      "128/128 [==============================] - 0s 53us/step\n",
      "64/64 [==============================] - 0s 53us/step\n",
      "64/64 [==============================] - 0s 56us/step\n",
      "128/128 [==============================] - 0s 42us/step\n",
      "64/64 [==============================] - 0s 80us/step\n",
      "64/64 [==============================] - 0s 57us/step\n",
      "128/128 [==============================] - 0s 44us/step\n",
      "64/64 [==============================] - 0s 73us/step\n",
      "64/64 [==============================] - 0s 68us/step\n"
     ]
    },
    {
     "name": "stderr",
     "output_type": "stream",
     "text": [
      "\r",
      " 35%|███▌      | 280/800 [00:24<00:45, 11.40it/s]"
     ]
    },
    {
     "name": "stdout",
     "output_type": "stream",
     "text": [
      "128/128 [==============================] - 0s 52us/step\n",
      "64/64 [==============================] - 0s 74us/step\n",
      "64/64 [==============================] - 0s 72us/step\n",
      "128/128 [==============================] - 0s 60us/step\n",
      "64/64 [==============================] - 0s 67us/step\n",
      "64/64 [==============================] - 0s 53us/step\n",
      "128/128 [==============================] - 0s 57us/step\n",
      "64/64 [==============================] - 0s 70us/step\n",
      "64/64 [==============================] - 0s 58us/step\n"
     ]
    },
    {
     "name": "stderr",
     "output_type": "stream",
     "text": [
      "\r",
      " 35%|███▌      | 283/800 [00:24<00:45, 11.47it/s]"
     ]
    },
    {
     "name": "stdout",
     "output_type": "stream",
     "text": [
      "128/128 [==============================] - 0s 45us/step\n",
      "64/64 [==============================] - 0s 72us/step\n",
      "64/64 [==============================] - 0s 118us/step\n",
      "128/128 [==============================] - 0s 61us/step\n",
      "64/64 [==============================] - 0s 65us/step\n",
      "64/64 [==============================] - 0s 62us/step\n",
      "128/128 [==============================] - 0s 49us/step\n",
      "64/64 [==============================] - 0s 65us/step\n",
      "64/64 [==============================] - 0s 72us/step\n"
     ]
    },
    {
     "name": "stderr",
     "output_type": "stream",
     "text": [
      "\r",
      " 36%|███▌      | 286/800 [00:24<00:44, 11.55it/s]"
     ]
    },
    {
     "name": "stdout",
     "output_type": "stream",
     "text": [
      "128/128 [==============================] - 0s 49us/step\n",
      "64/64 [==============================] - 0s 55us/step\n",
      "64/64 [==============================] - 0s 64us/step\n",
      "128/128 [==============================] - 0s 52us/step\n",
      "64/64 [==============================] - 0s 105us/step\n",
      "64/64 [==============================] - 0s 74us/step\n",
      "128/128 [==============================] - 0s 42us/step\n",
      "64/64 [==============================] - 0s 67us/step\n",
      "64/64 [==============================] - 0s 70us/step\n"
     ]
    },
    {
     "name": "stderr",
     "output_type": "stream",
     "text": [
      "\r",
      " 36%|███▌      | 289/800 [00:24<00:43, 11.62it/s]"
     ]
    },
    {
     "name": "stdout",
     "output_type": "stream",
     "text": [
      "128/128 [==============================] - 0s 51us/step\n",
      "64/64 [==============================] - 0s 73us/step\n",
      "64/64 [==============================] - 0s 65us/step\n",
      "128/128 [==============================] - 0s 45us/step\n",
      "64/64 [==============================] - 0s 57us/step\n",
      "64/64 [==============================] - 0s 81us/step\n",
      "128/128 [==============================] - 0s 49us/step\n",
      "64/64 [==============================] - 0s 88us/step\n",
      "64/64 [==============================] - 0s 55us/step\n"
     ]
    },
    {
     "name": "stderr",
     "output_type": "stream",
     "text": [
      "\r",
      " 36%|███▋      | 292/800 [00:24<00:43, 11.69it/s]"
     ]
    },
    {
     "name": "stdout",
     "output_type": "stream",
     "text": [
      "128/128 [==============================] - 0s 40us/step\n",
      "64/64 [==============================] - 0s 107us/step\n",
      "64/64 [==============================] - 0s 57us/step\n",
      "128/128 [==============================] - 0s 48us/step\n",
      "64/64 [==============================] - 0s 71us/step\n",
      "64/64 [==============================] - 0s 57us/step\n",
      "128/128 [==============================] - 0s 50us/step\n",
      "64/64 [==============================] - 0s 73us/step\n",
      "64/64 [==============================] - 0s 60us/step\n",
      "128/128 [==============================] - 0s 44us/step\n",
      "64/64 [==============================] - 0s 71us/step\n",
      "64/64 [==============================] - 0s 71us/step\n"
     ]
    },
    {
     "name": "stderr",
     "output_type": "stream",
     "text": [
      "\r",
      " 37%|███▋      | 296/800 [00:25<00:42, 11.79it/s]"
     ]
    },
    {
     "name": "stdout",
     "output_type": "stream",
     "text": [
      "128/128 [==============================] - 0s 44us/step\n",
      "64/64 [==============================] - 0s 59us/step\n",
      "64/64 [==============================] - 0s 64us/step\n",
      "128/128 [==============================] - 0s 84us/step\n",
      "64/64 [==============================] - 0s 56us/step\n",
      "64/64 [==============================] - 0s 51us/step\n",
      "128/128 [==============================] - 0s 49us/step\n",
      "64/64 [==============================] - 0s 84us/step\n",
      "64/64 [==============================] - 0s 68us/step\n"
     ]
    },
    {
     "name": "stderr",
     "output_type": "stream",
     "text": [
      "\r",
      " 37%|███▋      | 299/800 [00:25<00:42, 11.86it/s]"
     ]
    },
    {
     "name": "stdout",
     "output_type": "stream",
     "text": [
      "128/128 [==============================] - 0s 50us/step\n",
      "64/64 [==============================] - 0s 64us/step\n",
      "64/64 [==============================] - 0s 68us/step\n",
      "128/128 [==============================] - 0s 57us/step\n",
      "64/64 [==============================] - 0s 83us/step\n",
      "64/64 [==============================] - 0s 72us/step\n",
      "128/128 [==============================] - 0s 55us/step\n",
      "64/64 [==============================] - 0s 53us/step\n",
      "64/64 [==============================] - 0s 70us/step\n"
     ]
    },
    {
     "name": "stderr",
     "output_type": "stream",
     "text": [
      "\r",
      " 38%|███▊      | 302/800 [00:29<00:48, 10.31it/s]"
     ]
    },
    {
     "name": "stdout",
     "output_type": "stream",
     "text": [
      "128/128 [==============================] - 0s 55us/step\n",
      "64/64 [==============================] - 0s 60us/step\n",
      "64/64 [==============================] - 0s 69us/step\n",
      "128/128 [==============================] - 0s 52us/step\n",
      "64/64 [==============================] - 0s 66us/step\n",
      "64/64 [==============================] - 0s 72us/step\n",
      "128/128 [==============================] - 0s 57us/step\n",
      "64/64 [==============================] - 0s 55us/step\n",
      "64/64 [==============================] - 0s 53us/step\n",
      "128/128 [==============================] - 0s 45us/step\n",
      "64/64 [==============================] - 0s 53us/step\n",
      "64/64 [==============================] - 0s 73us/step\n"
     ]
    },
    {
     "name": "stderr",
     "output_type": "stream",
     "text": [
      "\r",
      " 38%|███▊      | 306/800 [00:29<00:47, 10.40it/s]"
     ]
    },
    {
     "name": "stdout",
     "output_type": "stream",
     "text": [
      "128/128 [==============================] - 0s 50us/step\n",
      "64/64 [==============================] - 0s 64us/step\n",
      "64/64 [==============================] - 0s 52us/step\n",
      "128/128 [==============================] - 0s 53us/step\n",
      "64/64 [==============================] - 0s 70us/step\n",
      "64/64 [==============================] - 0s 72us/step\n",
      "128/128 [==============================] - 0s 51us/step\n",
      "64/64 [==============================] - 0s 66us/step\n",
      "64/64 [==============================] - 0s 64us/step\n",
      "128/128 [==============================] - 0s 48us/step\n",
      "64/64 [==============================] - 0s 50us/step\n",
      "64/64 [==============================] - 0s 59us/step\n"
     ]
    },
    {
     "name": "stderr",
     "output_type": "stream",
     "text": [
      "\r",
      " 39%|███▉      | 310/800 [00:29<00:46, 10.49it/s]"
     ]
    },
    {
     "name": "stdout",
     "output_type": "stream",
     "text": [
      "128/128 [==============================] - 0s 46us/step\n",
      "64/64 [==============================] - 0s 69us/step\n",
      "64/64 [==============================] - 0s 73us/step\n",
      "128/128 [==============================] - 0s 48us/step\n",
      "64/64 [==============================] - 0s 65us/step\n",
      "64/64 [==============================] - 0s 63us/step\n",
      "128/128 [==============================] - 0s 50us/step\n",
      "64/64 [==============================] - 0s 84us/step\n",
      "64/64 [==============================] - 0s 52us/step\n",
      "128/128 [==============================] - 0s 52us/step\n",
      "64/64 [==============================] - 0s 55us/step\n",
      "64/64 [==============================] - 0s 52us/step\n"
     ]
    },
    {
     "name": "stderr",
     "output_type": "stream",
     "text": [
      "\r",
      " 39%|███▉      | 314/800 [00:29<00:45, 10.58it/s]"
     ]
    },
    {
     "name": "stdout",
     "output_type": "stream",
     "text": [
      "128/128 [==============================] - 0s 54us/step\n",
      "64/64 [==============================] - 0s 89us/step\n",
      "64/64 [==============================] - 0s 67us/step\n",
      "128/128 [==============================] - 0s 57us/step\n",
      "64/64 [==============================] - 0s 57us/step\n",
      "64/64 [==============================] - 0s 57us/step\n",
      "128/128 [==============================] - 0s 51us/step\n",
      "64/64 [==============================] - 0s 75us/step\n",
      "64/64 [==============================] - 0s 65us/step\n",
      "128/128 [==============================] - 0s 47us/step\n",
      "64/64 [==============================] - 0s 49us/step\n",
      "64/64 [==============================] - 0s 55us/step\n"
     ]
    },
    {
     "name": "stderr",
     "output_type": "stream",
     "text": [
      "\r",
      " 40%|███▉      | 318/800 [00:29<00:45, 10.67it/s]"
     ]
    },
    {
     "name": "stdout",
     "output_type": "stream",
     "text": [
      "128/128 [==============================] - 0s 41us/step\n",
      "64/64 [==============================] - 0s 68us/step\n",
      "64/64 [==============================] - 0s 81us/step\n",
      "128/128 [==============================] - 0s 58us/step\n",
      "64/64 [==============================] - 0s 80us/step\n",
      "64/64 [==============================] - 0s 64us/step\n",
      "128/128 [==============================] - 0s 46us/step\n",
      "64/64 [==============================] - 0s 82us/step\n",
      "64/64 [==============================] - 0s 65us/step\n"
     ]
    },
    {
     "name": "stderr",
     "output_type": "stream",
     "text": [
      "\r",
      " 40%|████      | 321/800 [00:29<00:44, 10.73it/s]"
     ]
    },
    {
     "name": "stdout",
     "output_type": "stream",
     "text": [
      "128/128 [==============================] - 0s 49us/step\n",
      "64/64 [==============================] - 0s 56us/step\n",
      "64/64 [==============================] - 0s 62us/step\n",
      "128/128 [==============================] - 0s 46us/step\n",
      "64/64 [==============================] - 0s 81us/step\n",
      "64/64 [==============================] - 0s 68us/step\n",
      "128/128 [==============================] - 0s 56us/step\n",
      "64/64 [==============================] - 0s 54us/step\n",
      "64/64 [==============================] - 0s 83us/step\n"
     ]
    },
    {
     "name": "stderr",
     "output_type": "stream",
     "text": [
      "\r",
      " 40%|████      | 324/800 [00:30<00:44, 10.79it/s]"
     ]
    },
    {
     "name": "stdout",
     "output_type": "stream",
     "text": [
      "128/128 [==============================] - 0s 54us/step\n",
      "64/64 [==============================] - 0s 65us/step\n",
      "64/64 [==============================] - 0s 79us/step\n",
      "128/128 [==============================] - 0s 51us/step\n",
      "64/64 [==============================] - 0s 68us/step\n",
      "64/64 [==============================] - 0s 82us/step\n",
      "128/128 [==============================] - 0s 56us/step\n",
      "64/64 [==============================] - 0s 72us/step\n",
      "64/64 [==============================] - 0s 71us/step\n"
     ]
    },
    {
     "name": "stderr",
     "output_type": "stream",
     "text": [
      "\r",
      " 41%|████      | 327/800 [00:30<00:43, 10.86it/s]"
     ]
    },
    {
     "name": "stdout",
     "output_type": "stream",
     "text": [
      "128/128 [==============================] - 0s 53us/step\n",
      "64/64 [==============================] - 0s 61us/step\n",
      "64/64 [==============================] - 0s 69us/step\n",
      "128/128 [==============================] - 0s 55us/step\n",
      "64/64 [==============================] - 0s 66us/step\n",
      "64/64 [==============================] - 0s 77us/step\n",
      "128/128 [==============================] - 0s 48us/step\n",
      "64/64 [==============================] - 0s 90us/step\n",
      "64/64 [==============================] - 0s 87us/step\n"
     ]
    },
    {
     "name": "stderr",
     "output_type": "stream",
     "text": [
      "\r",
      " 41%|████▏     | 330/800 [00:30<00:43, 10.92it/s]"
     ]
    },
    {
     "name": "stdout",
     "output_type": "stream",
     "text": [
      "128/128 [==============================] - 0s 42us/step\n",
      "64/64 [==============================] - 0s 54us/step\n",
      "64/64 [==============================] - 0s 64us/step\n",
      "128/128 [==============================] - 0s 43us/step\n",
      "64/64 [==============================] - 0s 83us/step\n",
      "64/64 [==============================] - 0s 59us/step\n",
      "128/128 [==============================] - 0s 43us/step\n",
      "64/64 [==============================] - 0s 130us/step\n",
      "64/64 [==============================] - 0s 73us/step\n"
     ]
    },
    {
     "name": "stderr",
     "output_type": "stream",
     "text": [
      "\r",
      " 42%|████▏     | 333/800 [00:30<00:42, 10.98it/s]"
     ]
    },
    {
     "name": "stdout",
     "output_type": "stream",
     "text": [
      "128/128 [==============================] - 0s 55us/step\n",
      "64/64 [==============================] - 0s 54us/step\n",
      "64/64 [==============================] - 0s 63us/step\n",
      "128/128 [==============================] - 0s 45us/step\n",
      "64/64 [==============================] - 0s 56us/step\n",
      "64/64 [==============================] - 0s 80us/step\n",
      "128/128 [==============================] - 0s 47us/step\n",
      "64/64 [==============================] - 0s 70us/step\n",
      "64/64 [==============================] - 0s 49us/step\n"
     ]
    },
    {
     "name": "stderr",
     "output_type": "stream",
     "text": [
      "\r",
      " 42%|████▏     | 336/800 [00:30<00:42, 11.04it/s]"
     ]
    },
    {
     "name": "stdout",
     "output_type": "stream",
     "text": [
      "128/128 [==============================] - 0s 45us/step\n",
      "64/64 [==============================] - 0s 79us/step\n",
      "64/64 [==============================] - 0s 77us/step\n",
      "128/128 [==============================] - 0s 75us/step\n",
      "64/64 [==============================] - 0s 64us/step\n",
      "64/64 [==============================] - 0s 59us/step\n",
      "128/128 [==============================] - 0s 47us/step\n",
      "64/64 [==============================] - 0s 66us/step\n",
      "64/64 [==============================] - 0s 72us/step\n"
     ]
    },
    {
     "name": "stderr",
     "output_type": "stream",
     "text": [
      "\r",
      " 42%|████▏     | 339/800 [00:30<00:41, 11.10it/s]"
     ]
    },
    {
     "name": "stdout",
     "output_type": "stream",
     "text": [
      "128/128 [==============================] - 0s 58us/step\n",
      "64/64 [==============================] - 0s 71us/step\n",
      "64/64 [==============================] - 0s 58us/step\n",
      "128/128 [==============================] - 0s 58us/step\n",
      "64/64 [==============================] - 0s 72us/step\n",
      "64/64 [==============================] - 0s 78us/step\n",
      "128/128 [==============================] - 0s 52us/step\n",
      "64/64 [==============================] - 0s 58us/step\n",
      "64/64 [==============================] - 0s 66us/step\n"
     ]
    },
    {
     "name": "stderr",
     "output_type": "stream",
     "text": [
      "\r",
      " 43%|████▎     | 342/800 [00:30<00:41, 11.16it/s]"
     ]
    },
    {
     "name": "stdout",
     "output_type": "stream",
     "text": [
      "128/128 [==============================] - 0s 58us/step\n",
      "64/64 [==============================] - 0s 54us/step\n",
      "64/64 [==============================] - 0s 49us/step\n",
      "128/128 [==============================] - 0s 44us/step\n",
      "64/64 [==============================] - 0s 73us/step\n",
      "64/64 [==============================] - 0s 112us/step\n",
      "128/128 [==============================] - 0s 65us/step\n",
      "64/64 [==============================] - 0s 56us/step\n",
      "64/64 [==============================] - 0s 80us/step\n"
     ]
    },
    {
     "name": "stderr",
     "output_type": "stream",
     "text": [
      "\r",
      " 43%|████▎     | 345/800 [00:30<00:40, 11.22it/s]"
     ]
    },
    {
     "name": "stdout",
     "output_type": "stream",
     "text": [
      "128/128 [==============================] - 0s 43us/step\n",
      "64/64 [==============================] - 0s 89us/step\n",
      "64/64 [==============================] - 0s 88us/step\n",
      "128/128 [==============================] - 0s 44us/step\n",
      "64/64 [==============================] - 0s 87us/step\n",
      "64/64 [==============================] - 0s 73us/step\n",
      "128/128 [==============================] - 0s 45us/step\n",
      "64/64 [==============================] - 0s 45us/step\n",
      "64/64 [==============================] - 0s 70us/step\n"
     ]
    },
    {
     "name": "stderr",
     "output_type": "stream",
     "text": [
      "\r",
      " 44%|████▎     | 348/800 [00:30<00:40, 11.28it/s]"
     ]
    },
    {
     "name": "stdout",
     "output_type": "stream",
     "text": [
      "128/128 [==============================] - 0s 54us/step\n",
      "64/64 [==============================] - 0s 67us/step\n",
      "64/64 [==============================] - 0s 62us/step\n",
      "128/128 [==============================] - 0s 50us/step\n",
      "64/64 [==============================] - 0s 57us/step\n",
      "64/64 [==============================] - 0s 88us/step\n",
      "128/128 [==============================] - 0s 51us/step\n",
      "64/64 [==============================] - 0s 58us/step\n",
      "64/64 [==============================] - 0s 80us/step\n"
     ]
    },
    {
     "name": "stderr",
     "output_type": "stream",
     "text": [
      "\r",
      " 44%|████▍     | 351/800 [00:30<00:39, 11.34it/s]"
     ]
    },
    {
     "name": "stdout",
     "output_type": "stream",
     "text": [
      "128/128 [==============================] - 0s 44us/step\n",
      "64/64 [==============================] - 0s 71us/step\n",
      "64/64 [==============================] - 0s 66us/step\n",
      "128/128 [==============================] - 0s 43us/step\n",
      "64/64 [==============================] - 0s 55us/step\n",
      "64/64 [==============================] - 0s 66us/step\n",
      "128/128 [==============================] - 0s 42us/step\n",
      "64/64 [==============================] - 0s 48us/step\n",
      "64/64 [==============================] - 0s 81us/step\n",
      "128/128 [==============================] - 0s 51us/step\n",
      "64/64 [==============================] - 0s 51us/step\n",
      "64/64 [==============================] - 0s 52us/step\n"
     ]
    },
    {
     "name": "stderr",
     "output_type": "stream",
     "text": [
      "\r",
      " 44%|████▍     | 355/800 [00:31<00:38, 11.42it/s]"
     ]
    },
    {
     "name": "stdout",
     "output_type": "stream",
     "text": [
      "128/128 [==============================] - 0s 42us/step\n",
      "64/64 [==============================] - 0s 63us/step\n",
      "64/64 [==============================] - 0s 86us/step\n",
      "128/128 [==============================] - 0s 55us/step\n",
      "64/64 [==============================] - 0s 85us/step\n",
      "64/64 [==============================] - 0s 67us/step\n",
      "128/128 [==============================] - 0s 42us/step\n",
      "64/64 [==============================] - 0s 71us/step\n",
      "64/64 [==============================] - 0s 72us/step\n"
     ]
    },
    {
     "name": "stderr",
     "output_type": "stream",
     "text": [
      "\r",
      " 45%|████▍     | 358/800 [00:31<00:38, 11.48it/s]"
     ]
    },
    {
     "name": "stdout",
     "output_type": "stream",
     "text": [
      "128/128 [==============================] - 0s 41us/step\n",
      "64/64 [==============================] - 0s 49us/step\n",
      "64/64 [==============================] - 0s 81us/step\n",
      "128/128 [==============================] - 0s 48us/step\n",
      "64/64 [==============================] - 0s 88us/step\n",
      "64/64 [==============================] - 0s 83us/step\n",
      "128/128 [==============================] - 0s 44us/step\n",
      "64/64 [==============================] - 0s 125us/step\n",
      "64/64 [==============================] - 0s 75us/step\n"
     ]
    },
    {
     "name": "stderr",
     "output_type": "stream",
     "text": [
      "\r",
      " 45%|████▌     | 361/800 [00:31<00:38, 11.54it/s]"
     ]
    },
    {
     "name": "stdout",
     "output_type": "stream",
     "text": [
      "128/128 [==============================] - 0s 55us/step\n",
      "64/64 [==============================] - 0s 59us/step\n",
      "64/64 [==============================] - 0s 55us/step\n",
      "128/128 [==============================] - 0s 70us/step\n",
      "64/64 [==============================] - 0s 67us/step\n",
      "64/64 [==============================] - 0s 63us/step\n",
      "128/128 [==============================] - 0s 46us/step\n",
      "64/64 [==============================] - 0s 57us/step\n",
      "64/64 [==============================] - 0s 119us/step\n"
     ]
    },
    {
     "name": "stderr",
     "output_type": "stream",
     "text": [
      "\r",
      " 46%|████▌     | 364/800 [00:31<00:37, 11.59it/s]"
     ]
    },
    {
     "name": "stdout",
     "output_type": "stream",
     "text": [
      "128/128 [==============================] - 0s 52us/step\n",
      "64/64 [==============================] - 0s 52us/step\n",
      "64/64 [==============================] - 0s 54us/step\n",
      "128/128 [==============================] - 0s 45us/step\n",
      "64/64 [==============================] - 0s 58us/step\n",
      "64/64 [==============================] - 0s 128us/step\n",
      "128/128 [==============================] - 0s 48us/step\n",
      "64/64 [==============================] - 0s 51us/step\n",
      "64/64 [==============================] - 0s 64us/step\n",
      "128/128 [==============================] - 0s 42us/step\n",
      "64/64 [==============================] - 0s 47us/step\n",
      "64/64 [==============================] - 0s 72us/step\n"
     ]
    },
    {
     "name": "stderr",
     "output_type": "stream",
     "text": [
      "\r",
      " 46%|████▌     | 368/800 [00:31<00:37, 11.67it/s]"
     ]
    },
    {
     "name": "stdout",
     "output_type": "stream",
     "text": [
      "128/128 [==============================] - 0s 56us/step\n",
      "64/64 [==============================] - 0s 79us/step\n",
      "64/64 [==============================] - 0s 84us/step\n",
      "128/128 [==============================] - 0s 43us/step\n",
      "64/64 [==============================] - 0s 65us/step\n",
      "64/64 [==============================] - 0s 66us/step\n",
      "128/128 [==============================] - 0s 53us/step\n",
      "64/64 [==============================] - 0s 78us/step\n",
      "64/64 [==============================] - 0s 79us/step\n"
     ]
    },
    {
     "name": "stderr",
     "output_type": "stream",
     "text": [
      "\r",
      " 46%|████▋     | 371/800 [00:31<00:36, 11.73it/s]"
     ]
    },
    {
     "name": "stdout",
     "output_type": "stream",
     "text": [
      "128/128 [==============================] - 0s 48us/step\n",
      "64/64 [==============================] - 0s 79us/step\n",
      "64/64 [==============================] - 0s 65us/step\n",
      "128/128 [==============================] - 0s 43us/step\n",
      "64/64 [==============================] - 0s 60us/step\n",
      "64/64 [==============================] - 0s 66us/step\n",
      "128/128 [==============================] - 0s 43us/step\n",
      "64/64 [==============================] - 0s 50us/step\n",
      "64/64 [==============================] - 0s 77us/step\n"
     ]
    },
    {
     "name": "stderr",
     "output_type": "stream",
     "text": [
      "\r",
      " 47%|████▋     | 374/800 [00:31<00:36, 11.78it/s]"
     ]
    },
    {
     "name": "stdout",
     "output_type": "stream",
     "text": [
      "128/128 [==============================] - 0s 46us/step\n",
      "64/64 [==============================] - 0s 45us/step\n",
      "64/64 [==============================] - 0s 117us/step\n",
      "128/128 [==============================] - 0s 44us/step\n",
      "64/64 [==============================] - 0s 51us/step\n",
      "64/64 [==============================] - 0s 75us/step\n",
      "128/128 [==============================] - 0s 43us/step\n",
      "64/64 [==============================] - 0s 51us/step\n",
      "64/64 [==============================] - 0s 84us/step\n",
      "128/128 [==============================] - 0s 43us/step\n",
      "64/64 [==============================] - 0s 58us/step\n",
      "64/64 [==============================] - 0s 78us/step\n"
     ]
    },
    {
     "name": "stderr",
     "output_type": "stream",
     "text": [
      "\r",
      " 47%|████▋     | 378/800 [00:31<00:35, 11.86it/s]"
     ]
    },
    {
     "name": "stdout",
     "output_type": "stream",
     "text": [
      "128/128 [==============================] - 0s 48us/step\n",
      "64/64 [==============================] - 0s 64us/step\n",
      "64/64 [==============================] - 0s 68us/step\n",
      "128/128 [==============================] - 0s 48us/step\n",
      "64/64 [==============================] - 0s 60us/step\n",
      "64/64 [==============================] - 0s 59us/step\n",
      "128/128 [==============================] - 0s 51us/step\n",
      "64/64 [==============================] - 0s 56us/step\n",
      "64/64 [==============================] - 0s 91us/step\n"
     ]
    },
    {
     "name": "stderr",
     "output_type": "stream",
     "text": [
      "\r",
      " 48%|████▊     | 381/800 [00:31<00:35, 11.91it/s]"
     ]
    },
    {
     "name": "stdout",
     "output_type": "stream",
     "text": [
      "128/128 [==============================] - 0s 45us/step\n",
      "64/64 [==============================] - 0s 54us/step\n",
      "64/64 [==============================] - 0s 62us/step\n",
      "128/128 [==============================] - 0s 50us/step\n",
      "64/64 [==============================] - 0s 70us/step\n",
      "64/64 [==============================] - 0s 59us/step\n",
      "128/128 [==============================] - 0s 54us/step\n",
      "64/64 [==============================] - 0s 77us/step\n",
      "64/64 [==============================] - 0s 62us/step\n"
     ]
    },
    {
     "name": "stderr",
     "output_type": "stream",
     "text": [
      "\r",
      " 48%|████▊     | 384/800 [00:32<00:34, 11.97it/s]"
     ]
    },
    {
     "name": "stdout",
     "output_type": "stream",
     "text": [
      "128/128 [==============================] - 0s 46us/step\n",
      "64/64 [==============================] - 0s 75us/step\n",
      "64/64 [==============================] - 0s 67us/step\n",
      "128/128 [==============================] - 0s 56us/step\n",
      "64/64 [==============================] - 0s 56us/step\n",
      "64/64 [==============================] - 0s 58us/step\n",
      "128/128 [==============================] - 0s 43us/step\n",
      "64/64 [==============================] - 0s 66us/step\n",
      "64/64 [==============================] - 0s 64us/step\n",
      "128/128 [==============================] - 0s 78us/step\n",
      "64/64 [==============================] - 0s 58us/step\n",
      "64/64 [==============================] - 0s 57us/step\n"
     ]
    },
    {
     "name": "stderr",
     "output_type": "stream",
     "text": [
      "\r",
      " 48%|████▊     | 388/800 [00:32<00:34, 12.04it/s]"
     ]
    },
    {
     "name": "stdout",
     "output_type": "stream",
     "text": [
      "128/128 [==============================] - 0s 48us/step\n",
      "64/64 [==============================] - 0s 80us/step\n",
      "64/64 [==============================] - 0s 73us/step\n",
      "128/128 [==============================] - 0s 46us/step\n",
      "64/64 [==============================] - 0s 73us/step\n",
      "64/64 [==============================] - 0s 61us/step\n",
      "128/128 [==============================] - 0s 69us/step\n",
      "64/64 [==============================] - 0s 54us/step\n",
      "64/64 [==============================] - 0s 74us/step\n"
     ]
    },
    {
     "name": "stderr",
     "output_type": "stream",
     "text": [
      "\r",
      " 49%|████▉     | 391/800 [00:32<00:33, 12.10it/s]"
     ]
    },
    {
     "name": "stdout",
     "output_type": "stream",
     "text": [
      "128/128 [==============================] - 0s 43us/step\n",
      "64/64 [==============================] - 0s 57us/step\n",
      "64/64 [==============================] - 0s 74us/step\n",
      "128/128 [==============================] - 0s 48us/step\n",
      "64/64 [==============================] - 0s 62us/step\n",
      "64/64 [==============================] - 0s 85us/step\n",
      "128/128 [==============================] - 0s 45us/step\n",
      "64/64 [==============================] - 0s 64us/step\n",
      "64/64 [==============================] - 0s 65us/step\n"
     ]
    },
    {
     "name": "stderr",
     "output_type": "stream",
     "text": [
      "\r",
      " 49%|████▉     | 394/800 [00:32<00:33, 12.15it/s]"
     ]
    },
    {
     "name": "stdout",
     "output_type": "stream",
     "text": [
      "128/128 [==============================] - 0s 44us/step\n",
      "64/64 [==============================] - 0s 116us/step\n",
      "64/64 [==============================] - 0s 79us/step\n",
      "128/128 [==============================] - 0s 57us/step\n",
      "64/64 [==============================] - 0s 84us/step\n",
      "64/64 [==============================] - 0s 69us/step\n",
      "128/128 [==============================] - 0s 64us/step\n",
      "64/64 [==============================] - 0s 83us/step\n",
      "64/64 [==============================] - 0s 67us/step\n"
     ]
    },
    {
     "name": "stderr",
     "output_type": "stream",
     "text": [
      "\r",
      " 50%|████▉     | 397/800 [00:32<00:33, 12.20it/s]"
     ]
    },
    {
     "name": "stdout",
     "output_type": "stream",
     "text": [
      "128/128 [==============================] - 0s 53us/step\n",
      "64/64 [==============================] - 0s 60us/step\n",
      "64/64 [==============================] - 0s 82us/step\n",
      "128/128 [==============================] - 0s 51us/step\n",
      "64/64 [==============================] - 0s 78us/step\n",
      "64/64 [==============================] - 0s 82us/step\n",
      "128/128 [==============================] - 0s 53us/step\n",
      "64/64 [==============================] - 0s 77us/step\n",
      "64/64 [==============================] - 0s 69us/step\n"
     ]
    },
    {
     "name": "stderr",
     "output_type": "stream",
     "text": [
      "\r",
      " 50%|█████     | 400/800 [00:32<00:32, 12.25it/s]"
     ]
    },
    {
     "name": "stdout",
     "output_type": "stream",
     "text": [
      "128/128 [==============================] - 0s 48us/step\n",
      "64/64 [==============================] - 0s 99us/step\n",
      "64/64 [==============================] - 0s 63us/step\n",
      "128/128 [==============================] - 0s 53us/step\n",
      "64/64 [==============================] - 0s 63us/step\n",
      "64/64 [==============================] - 0s 74us/step\n",
      "128/128 [==============================] - 0s 51us/step\n",
      "64/64 [==============================] - 0s 65us/step\n",
      "64/64 [==============================] - 0s 60us/step\n"
     ]
    },
    {
     "name": "stderr",
     "output_type": "stream",
     "text": [
      "\r",
      " 50%|█████     | 403/800 [00:36<00:36, 10.94it/s]"
     ]
    },
    {
     "name": "stdout",
     "output_type": "stream",
     "text": [
      "128/128 [==============================] - 0s 55us/step\n",
      "64/64 [==============================] - 0s 69us/step\n",
      "64/64 [==============================] - 0s 57us/step\n",
      "128/128 [==============================] - 0s 64us/step\n",
      "64/64 [==============================] - 0s 67us/step\n",
      "64/64 [==============================] - 0s 54us/step\n",
      "128/128 [==============================] - 0s 48us/step\n",
      "64/64 [==============================] - 0s 55us/step\n",
      "64/64 [==============================] - 0s 56us/step\n"
     ]
    },
    {
     "name": "stderr",
     "output_type": "stream",
     "text": [
      "\r",
      " 51%|█████     | 406/800 [00:36<00:35, 10.99it/s]"
     ]
    },
    {
     "name": "stdout",
     "output_type": "stream",
     "text": [
      "128/128 [==============================] - 0s 57us/step\n",
      "64/64 [==============================] - 0s 61us/step\n",
      "64/64 [==============================] - 0s 72us/step\n",
      "128/128 [==============================] - 0s 57us/step\n",
      "64/64 [==============================] - 0s 47us/step\n",
      "64/64 [==============================] - 0s 83us/step\n",
      "128/128 [==============================] - 0s 54us/step\n",
      "64/64 [==============================] - 0s 56us/step\n",
      "64/64 [==============================] - 0s 62us/step\n"
     ]
    },
    {
     "name": "stderr",
     "output_type": "stream",
     "text": [
      "\r",
      " 51%|█████     | 409/800 [00:37<00:35, 11.04it/s]"
     ]
    },
    {
     "name": "stdout",
     "output_type": "stream",
     "text": [
      "128/128 [==============================] - 0s 50us/step\n",
      "64/64 [==============================] - 0s 81us/step\n",
      "64/64 [==============================] - 0s 92us/step\n",
      "128/128 [==============================] - 0s 44us/step\n",
      "64/64 [==============================] - 0s 54us/step\n",
      "64/64 [==============================] - 0s 88us/step\n",
      "128/128 [==============================] - 0s 44us/step\n",
      "64/64 [==============================] - 0s 72us/step\n",
      "64/64 [==============================] - 0s 64us/step\n"
     ]
    },
    {
     "name": "stderr",
     "output_type": "stream",
     "text": [
      "\r",
      " 52%|█████▏    | 412/800 [00:37<00:34, 11.09it/s]"
     ]
    },
    {
     "name": "stdout",
     "output_type": "stream",
     "text": [
      "128/128 [==============================] - 0s 44us/step\n",
      "64/64 [==============================] - 0s 82us/step\n",
      "64/64 [==============================] - 0s 71us/step\n",
      "128/128 [==============================] - 0s 44us/step\n",
      "64/64 [==============================] - 0s 76us/step\n",
      "64/64 [==============================] - 0s 66us/step\n",
      "128/128 [==============================] - 0s 48us/step\n",
      "64/64 [==============================] - 0s 66us/step\n",
      "64/64 [==============================] - 0s 56us/step\n"
     ]
    },
    {
     "name": "stderr",
     "output_type": "stream",
     "text": [
      "\r",
      " 52%|█████▏    | 415/800 [00:37<00:34, 11.14it/s]"
     ]
    },
    {
     "name": "stdout",
     "output_type": "stream",
     "text": [
      "128/128 [==============================] - 0s 87us/step\n",
      "64/64 [==============================] - 0s 50us/step\n",
      "64/64 [==============================] - 0s 69us/step\n",
      "128/128 [==============================] - 0s 52us/step\n",
      "64/64 [==============================] - 0s 70us/step\n",
      "64/64 [==============================] - 0s 74us/step\n",
      "128/128 [==============================] - 0s 58us/step\n",
      "64/64 [==============================] - 0s 47us/step\n",
      "64/64 [==============================] - 0s 55us/step\n"
     ]
    },
    {
     "name": "stderr",
     "output_type": "stream",
     "text": [
      "\r",
      " 52%|█████▏    | 418/800 [00:37<00:34, 11.19it/s]"
     ]
    },
    {
     "name": "stdout",
     "output_type": "stream",
     "text": [
      "128/128 [==============================] - 0s 65us/step\n",
      "64/64 [==============================] - 0s 73us/step\n",
      "64/64 [==============================] - 0s 55us/step\n",
      "128/128 [==============================] - 0s 51us/step\n",
      "64/64 [==============================] - 0s 57us/step\n",
      "64/64 [==============================] - 0s 120us/step\n",
      "128/128 [==============================] - 0s 47us/step\n",
      "64/64 [==============================] - 0s 68us/step\n",
      "64/64 [==============================] - 0s 90us/step\n"
     ]
    },
    {
     "name": "stderr",
     "output_type": "stream",
     "text": [
      "\r",
      " 53%|█████▎    | 421/800 [00:37<00:33, 11.24it/s]"
     ]
    },
    {
     "name": "stdout",
     "output_type": "stream",
     "text": [
      "128/128 [==============================] - 0s 51us/step\n",
      "64/64 [==============================] - 0s 79us/step\n",
      "64/64 [==============================] - 0s 57us/step\n",
      "128/128 [==============================] - 0s 44us/step\n",
      "64/64 [==============================] - 0s 72us/step\n",
      "64/64 [==============================] - 0s 65us/step\n",
      "128/128 [==============================] - 0s 45us/step\n",
      "64/64 [==============================] - 0s 69us/step\n",
      "64/64 [==============================] - 0s 57us/step\n"
     ]
    },
    {
     "name": "stderr",
     "output_type": "stream",
     "text": [
      "\r",
      " 53%|█████▎    | 424/800 [00:37<00:33, 11.29it/s]"
     ]
    },
    {
     "name": "stdout",
     "output_type": "stream",
     "text": [
      "128/128 [==============================] - 0s 43us/step\n",
      "64/64 [==============================] - 0s 120us/step\n",
      "64/64 [==============================] - 0s 70us/step\n",
      "128/128 [==============================] - 0s 52us/step\n",
      "64/64 [==============================] - 0s 55us/step\n",
      "64/64 [==============================] - 0s 59us/step\n",
      "128/128 [==============================] - 0s 59us/step\n",
      "64/64 [==============================] - 0s 59us/step\n",
      "64/64 [==============================] - 0s 64us/step\n"
     ]
    },
    {
     "name": "stderr",
     "output_type": "stream",
     "text": [
      "\r",
      " 53%|█████▎    | 427/800 [00:37<00:32, 11.33it/s]"
     ]
    },
    {
     "name": "stdout",
     "output_type": "stream",
     "text": [
      "128/128 [==============================] - 0s 56us/step\n",
      "64/64 [==============================] - 0s 66us/step\n",
      "64/64 [==============================] - 0s 104us/step\n",
      "128/128 [==============================] - 0s 47us/step\n",
      "64/64 [==============================] - 0s 73us/step\n",
      "64/64 [==============================] - 0s 75us/step\n",
      "128/128 [==============================] - 0s 49us/step\n",
      "64/64 [==============================] - 0s 72us/step\n",
      "64/64 [==============================] - 0s 67us/step\n"
     ]
    },
    {
     "name": "stderr",
     "output_type": "stream",
     "text": [
      "\r",
      " 54%|█████▍    | 430/800 [00:37<00:32, 11.38it/s]"
     ]
    },
    {
     "name": "stdout",
     "output_type": "stream",
     "text": [
      "128/128 [==============================] - 0s 47us/step\n",
      "64/64 [==============================] - 0s 73us/step\n",
      "64/64 [==============================] - 0s 73us/step\n",
      "128/128 [==============================] - 0s 45us/step\n",
      "64/64 [==============================] - 0s 53us/step\n",
      "64/64 [==============================] - 0s 74us/step\n",
      "128/128 [==============================] - 0s 55us/step\n",
      "64/64 [==============================] - 0s 71us/step\n",
      "64/64 [==============================] - 0s 54us/step\n",
      "128/128 [==============================] - 0s 50us/step\n",
      "64/64 [==============================] - 0s 69us/step\n",
      "64/64 [==============================] - 0s 54us/step\n"
     ]
    },
    {
     "name": "stderr",
     "output_type": "stream",
     "text": [
      "\r",
      " 54%|█████▍    | 434/800 [00:37<00:31, 11.44it/s]"
     ]
    },
    {
     "name": "stdout",
     "output_type": "stream",
     "text": [
      "128/128 [==============================] - 0s 46us/step\n",
      "64/64 [==============================] - 0s 75us/step\n",
      "64/64 [==============================] - 0s 56us/step\n",
      "128/128 [==============================] - 0s 44us/step\n",
      "64/64 [==============================] - 0s 64us/step\n",
      "64/64 [==============================] - 0s 65us/step\n",
      "128/128 [==============================] - 0s 45us/step\n",
      "64/64 [==============================] - 0s 62us/step\n",
      "64/64 [==============================] - 0s 63us/step\n",
      "128/128 [==============================] - 0s 46us/step\n",
      "64/64 [==============================] - 0s 82us/step\n",
      "64/64 [==============================] - 0s 59us/step\n"
     ]
    },
    {
     "name": "stderr",
     "output_type": "stream",
     "text": [
      "\r",
      " 55%|█████▍    | 438/800 [00:38<00:31, 11.51it/s]"
     ]
    },
    {
     "name": "stdout",
     "output_type": "stream",
     "text": [
      "128/128 [==============================] - 0s 40us/step\n",
      "64/64 [==============================] - 0s 86us/step\n",
      "64/64 [==============================] - 0s 75us/step\n",
      "128/128 [==============================] - 0s 50us/step\n",
      "64/64 [==============================] - 0s 55us/step\n",
      "64/64 [==============================] - 0s 70us/step\n",
      "128/128 [==============================] - 0s 41us/step\n",
      "64/64 [==============================] - 0s 75us/step\n",
      "64/64 [==============================] - 0s 60us/step\n",
      "128/128 [==============================] - 0s 45us/step\n",
      "64/64 [==============================] - 0s 65us/step\n",
      "64/64 [==============================] - 0s 58us/step\n"
     ]
    },
    {
     "name": "stderr",
     "output_type": "stream",
     "text": [
      "\r",
      " 55%|█████▌    | 442/800 [00:38<00:30, 11.57it/s]"
     ]
    },
    {
     "name": "stdout",
     "output_type": "stream",
     "text": [
      "128/128 [==============================] - 0s 45us/step\n",
      "64/64 [==============================] - 0s 126us/step\n",
      "64/64 [==============================] - 0s 69us/step\n",
      "128/128 [==============================] - 0s 54us/step\n",
      "64/64 [==============================] - 0s 65us/step\n",
      "64/64 [==============================] - 0s 72us/step\n",
      "128/128 [==============================] - 0s 52us/step\n",
      "64/64 [==============================] - 0s 70us/step\n",
      "64/64 [==============================] - 0s 61us/step\n"
     ]
    },
    {
     "name": "stderr",
     "output_type": "stream",
     "text": [
      "\r",
      " 56%|█████▌    | 445/800 [00:38<00:30, 11.62it/s]"
     ]
    },
    {
     "name": "stdout",
     "output_type": "stream",
     "text": [
      "128/128 [==============================] - 0s 52us/step\n",
      "64/64 [==============================] - 0s 63us/step\n",
      "64/64 [==============================] - 0s 59us/step\n",
      "128/128 [==============================] - 0s 69us/step\n",
      "64/64 [==============================] - 0s 68us/step\n",
      "64/64 [==============================] - 0s 71us/step\n",
      "128/128 [==============================] - 0s 54us/step\n",
      "64/64 [==============================] - 0s 47us/step\n",
      "64/64 [==============================] - 0s 93us/step\n"
     ]
    },
    {
     "name": "stderr",
     "output_type": "stream",
     "text": [
      "\r",
      " 56%|█████▌    | 448/800 [00:38<00:30, 11.67it/s]"
     ]
    },
    {
     "name": "stdout",
     "output_type": "stream",
     "text": [
      "128/128 [==============================] - 0s 64us/step\n",
      "64/64 [==============================] - 0s 71us/step\n",
      "64/64 [==============================] - 0s 88us/step\n",
      "128/128 [==============================] - 0s 40us/step\n",
      "64/64 [==============================] - 0s 118us/step\n",
      "64/64 [==============================] - 0s 59us/step\n",
      "128/128 [==============================] - 0s 45us/step\n",
      "64/64 [==============================] - 0s 80us/step\n",
      "64/64 [==============================] - 0s 79us/step\n"
     ]
    },
    {
     "name": "stderr",
     "output_type": "stream",
     "text": [
      "\r",
      " 56%|█████▋    | 451/800 [00:38<00:29, 11.71it/s]"
     ]
    },
    {
     "name": "stdout",
     "output_type": "stream",
     "text": [
      "128/128 [==============================] - 0s 50us/step\n",
      "64/64 [==============================] - 0s 44us/step\n",
      "64/64 [==============================] - 0s 57us/step\n",
      "128/128 [==============================] - 0s 57us/step\n",
      "64/64 [==============================] - 0s 78us/step\n",
      "64/64 [==============================] - 0s 81us/step\n",
      "128/128 [==============================] - 0s 51us/step\n",
      "64/64 [==============================] - 0s 66us/step\n",
      "64/64 [==============================] - 0s 56us/step\n"
     ]
    },
    {
     "name": "stderr",
     "output_type": "stream",
     "text": [
      "\r",
      " 57%|█████▋    | 454/800 [00:38<00:29, 11.76it/s]"
     ]
    },
    {
     "name": "stdout",
     "output_type": "stream",
     "text": [
      "128/128 [==============================] - 0s 60us/step\n",
      "64/64 [==============================] - 0s 80us/step\n",
      "64/64 [==============================] - 0s 57us/step\n",
      "128/128 [==============================] - 0s 43us/step\n",
      "64/64 [==============================] - 0s 50us/step\n",
      "64/64 [==============================] - 0s 54us/step\n",
      "128/128 [==============================] - 0s 60us/step\n",
      "64/64 [==============================] - 0s 54us/step\n",
      "64/64 [==============================] - 0s 54us/step\n",
      "128/128 [==============================] - 0s 47us/step\n",
      "64/64 [==============================] - 0s 49us/step\n",
      "64/64 [==============================] - 0s 69us/step\n"
     ]
    },
    {
     "name": "stderr",
     "output_type": "stream",
     "text": [
      "\r",
      " 57%|█████▋    | 458/800 [00:38<00:28, 11.82it/s]"
     ]
    },
    {
     "name": "stdout",
     "output_type": "stream",
     "text": [
      "128/128 [==============================] - 0s 58us/step\n",
      "64/64 [==============================] - 0s 74us/step\n",
      "64/64 [==============================] - 0s 79us/step\n",
      "128/128 [==============================] - 0s 46us/step\n",
      "64/64 [==============================] - 0s 51us/step\n",
      "64/64 [==============================] - 0s 60us/step\n",
      "128/128 [==============================] - 0s 53us/step\n",
      "64/64 [==============================] - 0s 62us/step\n",
      "64/64 [==============================] - 0s 57us/step\n",
      "128/128 [==============================] - 0s 60us/step\n",
      "64/64 [==============================] - 0s 64us/step\n",
      "64/64 [==============================] - 0s 55us/step\n"
     ]
    },
    {
     "name": "stderr",
     "output_type": "stream",
     "text": [
      "\r",
      " 58%|█████▊    | 462/800 [00:38<00:28, 11.88it/s]"
     ]
    },
    {
     "name": "stdout",
     "output_type": "stream",
     "text": [
      "128/128 [==============================] - 0s 58us/step\n",
      "64/64 [==============================] - 0s 57us/step\n",
      "64/64 [==============================] - 0s 67us/step\n",
      "128/128 [==============================] - 0s 51us/step\n",
      "64/64 [==============================] - 0s 55us/step\n",
      "64/64 [==============================] - 0s 98us/step\n",
      "128/128 [==============================] - 0s 55us/step\n",
      "64/64 [==============================] - 0s 60us/step\n",
      "64/64 [==============================] - 0s 104us/step\n"
     ]
    },
    {
     "name": "stderr",
     "output_type": "stream",
     "text": [
      "\r",
      " 58%|█████▊    | 465/800 [00:38<00:28, 11.93it/s]"
     ]
    },
    {
     "name": "stdout",
     "output_type": "stream",
     "text": [
      "128/128 [==============================] - 0s 42us/step\n",
      "64/64 [==============================] - 0s 70us/step\n",
      "64/64 [==============================] - 0s 73us/step\n",
      "128/128 [==============================] - 0s 50us/step\n",
      "64/64 [==============================] - 0s 49us/step\n",
      "64/64 [==============================] - 0s 81us/step\n",
      "128/128 [==============================] - 0s 42us/step\n",
      "64/64 [==============================] - 0s 86us/step\n",
      "64/64 [==============================] - 0s 63us/step\n"
     ]
    },
    {
     "name": "stderr",
     "output_type": "stream",
     "text": [
      "\r",
      " 58%|█████▊    | 468/800 [00:39<00:27, 11.97it/s]"
     ]
    },
    {
     "name": "stdout",
     "output_type": "stream",
     "text": [
      "128/128 [==============================] - 0s 48us/step\n",
      "64/64 [==============================] - 0s 56us/step\n",
      "64/64 [==============================] - 0s 71us/step\n",
      "128/128 [==============================] - 0s 46us/step\n",
      "64/64 [==============================] - 0s 62us/step\n",
      "64/64 [==============================] - 0s 60us/step\n",
      "128/128 [==============================] - 0s 45us/step\n",
      "64/64 [==============================] - 0s 64us/step\n",
      "64/64 [==============================] - 0s 69us/step\n",
      "128/128 [==============================] - 0s 45us/step\n",
      "64/64 [==============================] - 0s 48us/step\n",
      "64/64 [==============================] - 0s 89us/step\n"
     ]
    },
    {
     "name": "stderr",
     "output_type": "stream",
     "text": [
      "\r",
      " 59%|█████▉    | 472/800 [00:39<00:27, 12.04it/s]"
     ]
    },
    {
     "name": "stdout",
     "output_type": "stream",
     "text": [
      "128/128 [==============================] - 0s 47us/step\n",
      "64/64 [==============================] - 0s 70us/step\n",
      "64/64 [==============================] - 0s 76us/step\n",
      "128/128 [==============================] - 0s 43us/step\n",
      "64/64 [==============================] - 0s 83us/step\n",
      "64/64 [==============================] - 0s 70us/step\n",
      "128/128 [==============================] - 0s 52us/step\n",
      "64/64 [==============================] - 0s 49us/step\n",
      "64/64 [==============================] - 0s 81us/step\n",
      "128/128 [==============================] - 0s 46us/step\n",
      "64/64 [==============================] - 0s 77us/step\n",
      "64/64 [==============================] - 0s 76us/step\n"
     ]
    },
    {
     "name": "stderr",
     "output_type": "stream",
     "text": [
      "\r",
      " 60%|█████▉    | 476/800 [00:39<00:26, 12.10it/s]"
     ]
    },
    {
     "name": "stdout",
     "output_type": "stream",
     "text": [
      "128/128 [==============================] - 0s 43us/step\n",
      "64/64 [==============================] - 0s 64us/step\n",
      "64/64 [==============================] - 0s 75us/step\n",
      "128/128 [==============================] - 0s 51us/step\n",
      "64/64 [==============================] - 0s 68us/step\n",
      "64/64 [==============================] - 0s 82us/step\n",
      "128/128 [==============================] - 0s 39us/step\n",
      "64/64 [==============================] - 0s 58us/step\n",
      "64/64 [==============================] - 0s 89us/step\n",
      "128/128 [==============================] - 0s 53us/step\n",
      "64/64 [==============================] - 0s 95us/step\n",
      "64/64 [==============================] - 0s 68us/step\n"
     ]
    },
    {
     "name": "stderr",
     "output_type": "stream",
     "text": [
      "\r",
      " 60%|██████    | 480/800 [00:39<00:26, 12.15it/s]"
     ]
    },
    {
     "name": "stdout",
     "output_type": "stream",
     "text": [
      "128/128 [==============================] - 0s 50us/step\n",
      "64/64 [==============================] - 0s 84us/step\n",
      "64/64 [==============================] - 0s 75us/step\n",
      "128/128 [==============================] - 0s 47us/step\n",
      "64/64 [==============================] - 0s 57us/step\n",
      "64/64 [==============================] - 0s 65us/step\n",
      "128/128 [==============================] - 0s 68us/step\n",
      "64/64 [==============================] - 0s 55us/step\n",
      "64/64 [==============================] - 0s 60us/step\n"
     ]
    },
    {
     "name": "stderr",
     "output_type": "stream",
     "text": [
      "\r",
      " 60%|██████    | 483/800 [00:39<00:25, 12.20it/s]"
     ]
    },
    {
     "name": "stdout",
     "output_type": "stream",
     "text": [
      "128/128 [==============================] - 0s 45us/step\n",
      "64/64 [==============================] - 0s 47us/step\n",
      "64/64 [==============================] - 0s 72us/step\n",
      "128/128 [==============================] - 0s 64us/step\n",
      "64/64 [==============================] - 0s 61us/step\n",
      "64/64 [==============================] - 0s 65us/step\n",
      "128/128 [==============================] - 0s 45us/step\n",
      "64/64 [==============================] - 0s 63us/step\n",
      "64/64 [==============================] - 0s 101us/step\n"
     ]
    },
    {
     "name": "stderr",
     "output_type": "stream",
     "text": [
      "\r",
      " 61%|██████    | 486/800 [00:39<00:25, 12.24it/s]"
     ]
    },
    {
     "name": "stdout",
     "output_type": "stream",
     "text": [
      "128/128 [==============================] - 0s 42us/step\n",
      "64/64 [==============================] - 0s 47us/step\n",
      "64/64 [==============================] - 0s 70us/step\n",
      "128/128 [==============================] - 0s 51us/step\n",
      "64/64 [==============================] - 0s 60us/step\n",
      "64/64 [==============================] - 0s 70us/step\n",
      "128/128 [==============================] - 0s 41us/step\n",
      "64/64 [==============================] - 0s 72us/step\n",
      "64/64 [==============================] - 0s 66us/step\n"
     ]
    },
    {
     "name": "stderr",
     "output_type": "stream",
     "text": [
      "\r",
      " 61%|██████    | 489/800 [00:39<00:25, 12.29it/s]"
     ]
    },
    {
     "name": "stdout",
     "output_type": "stream",
     "text": [
      "128/128 [==============================] - 0s 43us/step\n",
      "64/64 [==============================] - 0s 85us/step\n",
      "64/64 [==============================] - 0s 58us/step\n",
      "128/128 [==============================] - 0s 49us/step\n",
      "64/64 [==============================] - 0s 74us/step\n",
      "64/64 [==============================] - 0s 60us/step\n",
      "128/128 [==============================] - 0s 43us/step\n",
      "64/64 [==============================] - 0s 79us/step\n",
      "64/64 [==============================] - 0s 60us/step\n"
     ]
    },
    {
     "name": "stderr",
     "output_type": "stream",
     "text": [
      "\r",
      " 62%|██████▏   | 492/800 [00:39<00:24, 12.33it/s]"
     ]
    },
    {
     "name": "stdout",
     "output_type": "stream",
     "text": [
      "128/128 [==============================] - 0s 44us/step\n",
      "64/64 [==============================] - 0s 80us/step\n",
      "64/64 [==============================] - 0s 65us/step\n",
      "128/128 [==============================] - 0s 64us/step\n",
      "64/64 [==============================] - 0s 61us/step\n",
      "64/64 [==============================] - 0s 84us/step\n",
      "128/128 [==============================] - 0s 45us/step\n",
      "64/64 [==============================] - 0s 73us/step\n",
      "64/64 [==============================] - 0s 61us/step\n"
     ]
    },
    {
     "name": "stderr",
     "output_type": "stream",
     "text": [
      "\r",
      " 62%|██████▏   | 495/800 [00:40<00:24, 12.37it/s]"
     ]
    },
    {
     "name": "stdout",
     "output_type": "stream",
     "text": [
      "128/128 [==============================] - 0s 46us/step\n",
      "64/64 [==============================] - 0s 71us/step\n",
      "64/64 [==============================] - 0s 63us/step\n",
      "128/128 [==============================] - 0s 77us/step\n",
      "64/64 [==============================] - 0s 56us/step\n",
      "64/64 [==============================] - 0s 71us/step\n",
      "128/128 [==============================] - 0s 46us/step\n",
      "64/64 [==============================] - 0s 58us/step\n",
      "64/64 [==============================] - 0s 73us/step\n"
     ]
    },
    {
     "name": "stderr",
     "output_type": "stream",
     "text": [
      "\r",
      " 62%|██████▏   | 498/800 [00:40<00:24, 12.41it/s]"
     ]
    },
    {
     "name": "stdout",
     "output_type": "stream",
     "text": [
      "128/128 [==============================] - 0s 49us/step\n",
      "64/64 [==============================] - 0s 55us/step\n",
      "64/64 [==============================] - 0s 126us/step\n",
      "128/128 [==============================] - 0s 46us/step\n",
      "64/64 [==============================] - 0s 76us/step\n",
      "64/64 [==============================] - 0s 61us/step\n",
      "128/128 [==============================] - 0s 54us/step\n",
      "64/64 [==============================] - 0s 84us/step\n",
      "64/64 [==============================] - 0s 68us/step\n"
     ]
    },
    {
     "name": "stderr",
     "output_type": "stream",
     "text": [
      "\r",
      " 63%|██████▎   | 501/800 [00:44<00:26, 11.28it/s]"
     ]
    },
    {
     "name": "stdout",
     "output_type": "stream",
     "text": [
      "128/128 [==============================] - 0s 44us/step\n",
      "64/64 [==============================] - 0s 44us/step\n",
      "64/64 [==============================] - 0s 66us/step\n",
      "128/128 [==============================] - 0s 50us/step\n",
      "64/64 [==============================] - 0s 78us/step\n",
      "64/64 [==============================] - 0s 63us/step\n",
      "128/128 [==============================] - 0s 53us/step\n",
      "64/64 [==============================] - 0s 49us/step\n",
      "64/64 [==============================] - 0s 57us/step\n",
      "128/128 [==============================] - 0s 47us/step\n",
      "64/64 [==============================] - 0s 98us/step\n",
      "64/64 [==============================] - 0s 79us/step\n"
     ]
    },
    {
     "name": "stderr",
     "output_type": "stream",
     "text": [
      "\r",
      " 63%|██████▎   | 505/800 [00:44<00:26, 11.34it/s]"
     ]
    },
    {
     "name": "stdout",
     "output_type": "stream",
     "text": [
      "128/128 [==============================] - 0s 47us/step\n",
      "64/64 [==============================] - 0s 60us/step\n",
      "64/64 [==============================] - 0s 67us/step\n",
      "128/128 [==============================] - 0s 46us/step\n",
      "64/64 [==============================] - 0s 89us/step\n",
      "64/64 [==============================] - 0s 58us/step\n",
      "128/128 [==============================] - 0s 56us/step\n",
      "64/64 [==============================] - 0s 92us/step\n",
      "64/64 [==============================] - 0s 60us/step\n"
     ]
    },
    {
     "name": "stderr",
     "output_type": "stream",
     "text": [
      "\r",
      " 64%|██████▎   | 508/800 [00:44<00:25, 11.38it/s]"
     ]
    },
    {
     "name": "stdout",
     "output_type": "stream",
     "text": [
      "128/128 [==============================] - 0s 58us/step\n",
      "64/64 [==============================] - 0s 59us/step\n",
      "64/64 [==============================] - 0s 63us/step\n",
      "128/128 [==============================] - 0s 48us/step\n",
      "64/64 [==============================] - 0s 64us/step\n",
      "64/64 [==============================] - 0s 91us/step\n",
      "128/128 [==============================] - 0s 47us/step\n",
      "64/64 [==============================] - 0s 58us/step\n",
      "64/64 [==============================] - 0s 62us/step\n",
      "128/128 [==============================] - 0s 43us/step\n",
      "64/64 [==============================] - 0s 55us/step\n",
      "64/64 [==============================] - 0s 86us/step\n"
     ]
    },
    {
     "name": "stderr",
     "output_type": "stream",
     "text": [
      "\r",
      " 64%|██████▍   | 512/800 [00:44<00:25, 11.43it/s]"
     ]
    },
    {
     "name": "stdout",
     "output_type": "stream",
     "text": [
      "128/128 [==============================] - 0s 49us/step\n",
      "64/64 [==============================] - 0s 55us/step\n",
      "64/64 [==============================] - 0s 79us/step\n",
      "128/128 [==============================] - 0s 51us/step\n",
      "64/64 [==============================] - 0s 78us/step\n",
      "64/64 [==============================] - 0s 74us/step\n",
      "128/128 [==============================] - 0s 46us/step\n",
      "64/64 [==============================] - 0s 57us/step\n",
      "64/64 [==============================] - 0s 84us/step\n"
     ]
    },
    {
     "name": "stderr",
     "output_type": "stream",
     "text": [
      "\r",
      " 64%|██████▍   | 515/800 [00:44<00:24, 11.48it/s]"
     ]
    },
    {
     "name": "stdout",
     "output_type": "stream",
     "text": [
      "128/128 [==============================] - 0s 47us/step\n",
      "64/64 [==============================] - 0s 83us/step\n",
      "64/64 [==============================] - 0s 55us/step\n",
      "128/128 [==============================] - 0s 47us/step\n",
      "64/64 [==============================] - 0s 85us/step\n",
      "64/64 [==============================] - 0s 74us/step\n",
      "128/128 [==============================] - 0s 45us/step\n",
      "64/64 [==============================] - 0s 73us/step\n",
      "64/64 [==============================] - 0s 55us/step\n"
     ]
    },
    {
     "name": "stderr",
     "output_type": "stream",
     "text": [
      "\r",
      " 65%|██████▍   | 518/800 [00:44<00:24, 11.52it/s]"
     ]
    },
    {
     "name": "stdout",
     "output_type": "stream",
     "text": [
      "128/128 [==============================] - 0s 54us/step\n",
      "64/64 [==============================] - 0s 77us/step\n",
      "64/64 [==============================] - 0s 58us/step\n",
      "128/128 [==============================] - 0s 59us/step\n",
      "64/64 [==============================] - 0s 64us/step\n",
      "64/64 [==============================] - 0s 68us/step\n",
      "128/128 [==============================] - 0s 47us/step\n",
      "64/64 [==============================] - 0s 65us/step\n",
      "64/64 [==============================] - 0s 53us/step\n",
      "128/128 [==============================] - 0s 57us/step\n",
      "64/64 [==============================] - 0s 70us/step\n",
      "64/64 [==============================] - 0s 59us/step\n"
     ]
    },
    {
     "name": "stderr",
     "output_type": "stream",
     "text": [
      "\r",
      " 65%|██████▌   | 522/800 [00:45<00:24, 11.57it/s]"
     ]
    },
    {
     "name": "stdout",
     "output_type": "stream",
     "text": [
      "128/128 [==============================] - 0s 84us/step\n",
      "64/64 [==============================] - 0s 76us/step\n",
      "64/64 [==============================] - 0s 72us/step\n",
      "128/128 [==============================] - 0s 45us/step\n",
      "64/64 [==============================] - 0s 53us/step\n",
      "64/64 [==============================] - 0s 70us/step\n",
      "128/128 [==============================] - 0s 54us/step\n",
      "64/64 [==============================] - 0s 47us/step\n",
      "64/64 [==============================] - 0s 66us/step\n"
     ]
    },
    {
     "name": "stderr",
     "output_type": "stream",
     "text": [
      "\r",
      " 66%|██████▌   | 525/800 [00:45<00:23, 11.61it/s]"
     ]
    },
    {
     "name": "stdout",
     "output_type": "stream",
     "text": [
      "128/128 [==============================] - 0s 44us/step\n",
      "64/64 [==============================] - 0s 69us/step\n",
      "64/64 [==============================] - 0s 79us/step\n",
      "128/128 [==============================] - 0s 50us/step\n",
      "64/64 [==============================] - 0s 62us/step\n",
      "64/64 [==============================] - 0s 80us/step\n",
      "128/128 [==============================] - 0s 47us/step\n",
      "64/64 [==============================] - 0s 112us/step\n",
      "64/64 [==============================] - 0s 58us/step\n"
     ]
    },
    {
     "name": "stderr",
     "output_type": "stream",
     "text": [
      "\r",
      " 66%|██████▌   | 528/800 [00:45<00:23, 11.65it/s]"
     ]
    },
    {
     "name": "stdout",
     "output_type": "stream",
     "text": [
      "128/128 [==============================] - 0s 44us/step\n",
      "64/64 [==============================] - 0s 128us/step\n",
      "64/64 [==============================] - 0s 68us/step\n",
      "128/128 [==============================] - 0s 60us/step\n",
      "64/64 [==============================] - 0s 56us/step\n",
      "64/64 [==============================] - 0s 51us/step\n",
      "128/128 [==============================] - 0s 51us/step\n",
      "64/64 [==============================] - 0s 56us/step\n",
      "64/64 [==============================] - 0s 70us/step\n"
     ]
    },
    {
     "name": "stderr",
     "output_type": "stream",
     "text": [
      "\r",
      " 66%|██████▋   | 531/800 [00:45<00:23, 11.69it/s]"
     ]
    },
    {
     "name": "stdout",
     "output_type": "stream",
     "text": [
      "128/128 [==============================] - 0s 54us/step\n",
      "64/64 [==============================] - 0s 50us/step\n",
      "64/64 [==============================] - 0s 81us/step\n",
      "128/128 [==============================] - 0s 54us/step\n",
      "64/64 [==============================] - 0s 50us/step\n",
      "64/64 [==============================] - 0s 58us/step\n",
      "128/128 [==============================] - 0s 45us/step\n",
      "64/64 [==============================] - 0s 56us/step\n",
      "64/64 [==============================] - 0s 72us/step\n"
     ]
    },
    {
     "name": "stderr",
     "output_type": "stream",
     "text": [
      "\r",
      " 67%|██████▋   | 534/800 [00:45<00:22, 11.73it/s]"
     ]
    },
    {
     "name": "stdout",
     "output_type": "stream",
     "text": [
      "128/128 [==============================] - 0s 62us/step\n",
      "64/64 [==============================] - 0s 60us/step\n",
      "64/64 [==============================] - 0s 58us/step\n",
      "128/128 [==============================] - 0s 44us/step\n",
      "64/64 [==============================] - 0s 55us/step\n",
      "64/64 [==============================] - 0s 75us/step\n",
      "128/128 [==============================] - 0s 57us/step\n",
      "64/64 [==============================] - 0s 55us/step\n",
      "64/64 [==============================] - 0s 76us/step\n",
      "128/128 [==============================] - 0s 44us/step\n",
      "64/64 [==============================] - 0s 81us/step\n",
      "64/64 [==============================] - 0s 79us/step\n"
     ]
    },
    {
     "name": "stderr",
     "output_type": "stream",
     "text": [
      "\r",
      " 67%|██████▋   | 538/800 [00:45<00:22, 11.78it/s]"
     ]
    },
    {
     "name": "stdout",
     "output_type": "stream",
     "text": [
      "128/128 [==============================] - 0s 53us/step\n",
      "64/64 [==============================] - 0s 68us/step\n",
      "64/64 [==============================] - 0s 93us/step\n",
      "128/128 [==============================] - 0s 43us/step\n",
      "64/64 [==============================] - 0s 63us/step\n",
      "64/64 [==============================] - 0s 76us/step\n",
      "128/128 [==============================] - 0s 44us/step\n",
      "64/64 [==============================] - 0s 68us/step\n",
      "64/64 [==============================] - 0s 76us/step\n"
     ]
    },
    {
     "name": "stderr",
     "output_type": "stream",
     "text": [
      "\r",
      " 68%|██████▊   | 541/800 [00:45<00:21, 11.82it/s]"
     ]
    },
    {
     "name": "stdout",
     "output_type": "stream",
     "text": [
      "128/128 [==============================] - 0s 52us/step\n",
      "64/64 [==============================] - 0s 73us/step\n",
      "64/64 [==============================] - 0s 59us/step\n",
      "128/128 [==============================] - 0s 43us/step\n",
      "64/64 [==============================] - 0s 88us/step\n",
      "64/64 [==============================] - 0s 70us/step\n",
      "128/128 [==============================] - 0s 46us/step\n",
      "64/64 [==============================] - 0s 63us/step\n",
      "64/64 [==============================] - 0s 86us/step\n"
     ]
    },
    {
     "name": "stderr",
     "output_type": "stream",
     "text": [
      "\r",
      " 68%|██████▊   | 544/800 [00:45<00:21, 11.86it/s]"
     ]
    },
    {
     "name": "stdout",
     "output_type": "stream",
     "text": [
      "128/128 [==============================] - 0s 49us/step\n",
      "64/64 [==============================] - 0s 75us/step\n",
      "64/64 [==============================] - 0s 58us/step\n",
      "128/128 [==============================] - 0s 50us/step\n",
      "64/64 [==============================] - 0s 75us/step\n",
      "64/64 [==============================] - 0s 73us/step\n",
      "128/128 [==============================] - 0s 61us/step\n",
      "64/64 [==============================] - 0s 60us/step\n",
      "64/64 [==============================] - 0s 59us/step\n"
     ]
    },
    {
     "name": "stderr",
     "output_type": "stream",
     "text": [
      "\r",
      " 68%|██████▊   | 547/800 [00:45<00:21, 11.89it/s]"
     ]
    },
    {
     "name": "stdout",
     "output_type": "stream",
     "text": [
      "128/128 [==============================] - 0s 53us/step\n",
      "64/64 [==============================] - 0s 65us/step\n",
      "64/64 [==============================] - 0s 65us/step\n",
      "128/128 [==============================] - 0s 62us/step\n",
      "64/64 [==============================] - 0s 48us/step\n",
      "64/64 [==============================] - 0s 65us/step\n",
      "128/128 [==============================] - 0s 42us/step\n",
      "64/64 [==============================] - 0s 55us/step\n",
      "64/64 [==============================] - 0s 79us/step\n"
     ]
    },
    {
     "name": "stderr",
     "output_type": "stream",
     "text": [
      "\r",
      " 69%|██████▉   | 550/800 [00:46<00:20, 11.93it/s]"
     ]
    },
    {
     "name": "stdout",
     "output_type": "stream",
     "text": [
      "128/128 [==============================] - 0s 66us/step\n",
      "64/64 [==============================] - 0s 65us/step\n",
      "64/64 [==============================] - 0s 93us/step\n",
      "128/128 [==============================] - 0s 43us/step\n",
      "64/64 [==============================] - 0s 129us/step\n",
      "64/64 [==============================] - 0s 77us/step\n",
      "128/128 [==============================] - 0s 56us/step\n",
      "64/64 [==============================] - 0s 87us/step\n",
      "64/64 [==============================] - 0s 71us/step\n"
     ]
    },
    {
     "name": "stderr",
     "output_type": "stream",
     "text": [
      "\r",
      " 69%|██████▉   | 553/800 [00:46<00:20, 11.97it/s]"
     ]
    },
    {
     "name": "stdout",
     "output_type": "stream",
     "text": [
      "128/128 [==============================] - 0s 52us/step\n",
      "64/64 [==============================] - 0s 76us/step\n",
      "64/64 [==============================] - 0s 88us/step\n",
      "128/128 [==============================] - 0s 55us/step\n",
      "64/64 [==============================] - 0s 80us/step\n",
      "64/64 [==============================] - 0s 64us/step\n",
      "128/128 [==============================] - 0s 42us/step\n",
      "64/64 [==============================] - 0s 64us/step\n",
      "64/64 [==============================] - 0s 96us/step\n"
     ]
    },
    {
     "name": "stderr",
     "output_type": "stream",
     "text": [
      "\r",
      " 70%|██████▉   | 556/800 [00:46<00:20, 12.00it/s]"
     ]
    },
    {
     "name": "stdout",
     "output_type": "stream",
     "text": [
      "128/128 [==============================] - 0s 46us/step\n",
      "64/64 [==============================] - 0s 65us/step\n",
      "64/64 [==============================] - 0s 69us/step\n",
      "128/128 [==============================] - 0s 52us/step\n",
      "64/64 [==============================] - 0s 71us/step\n",
      "64/64 [==============================] - 0s 73us/step\n",
      "128/128 [==============================] - 0s 43us/step\n",
      "64/64 [==============================] - 0s 67us/step\n",
      "64/64 [==============================] - 0s 80us/step\n",
      "128/128 [==============================] - 0s 44us/step\n",
      "64/64 [==============================] - 0s 68us/step\n",
      "64/64 [==============================] - 0s 75us/step\n"
     ]
    },
    {
     "name": "stderr",
     "output_type": "stream",
     "text": [
      "\r",
      " 70%|███████   | 560/800 [00:46<00:19, 12.06it/s]"
     ]
    },
    {
     "name": "stdout",
     "output_type": "stream",
     "text": [
      "128/128 [==============================] - 0s 44us/step\n",
      "64/64 [==============================] - 0s 87us/step\n",
      "64/64 [==============================] - 0s 64us/step\n",
      "128/128 [==============================] - 0s 58us/step\n",
      "64/64 [==============================] - 0s 61us/step\n",
      "64/64 [==============================] - 0s 59us/step\n",
      "128/128 [==============================] - 0s 50us/step\n",
      "64/64 [==============================] - 0s 83us/step\n",
      "64/64 [==============================] - 0s 78us/step\n"
     ]
    },
    {
     "name": "stderr",
     "output_type": "stream",
     "text": [
      "\r",
      " 70%|███████   | 563/800 [00:46<00:19, 12.09it/s]"
     ]
    },
    {
     "name": "stdout",
     "output_type": "stream",
     "text": [
      "128/128 [==============================] - 0s 51us/step\n",
      "64/64 [==============================] - 0s 62us/step\n",
      "64/64 [==============================] - 0s 120us/step\n",
      "128/128 [==============================] - 0s 57us/step\n",
      "64/64 [==============================] - 0s 58us/step\n",
      "64/64 [==============================] - 0s 90us/step\n",
      "128/128 [==============================] - 0s 53us/step\n",
      "64/64 [==============================] - 0s 72us/step\n",
      "64/64 [==============================] - 0s 62us/step\n"
     ]
    },
    {
     "name": "stderr",
     "output_type": "stream",
     "text": [
      "\r",
      " 71%|███████   | 566/800 [00:46<00:19, 12.13it/s]"
     ]
    },
    {
     "name": "stdout",
     "output_type": "stream",
     "text": [
      "128/128 [==============================] - 0s 52us/step\n",
      "64/64 [==============================] - 0s 77us/step\n",
      "64/64 [==============================] - 0s 91us/step\n",
      "128/128 [==============================] - 0s 55us/step\n",
      "64/64 [==============================] - 0s 64us/step\n",
      "64/64 [==============================] - 0s 79us/step\n",
      "128/128 [==============================] - 0s 56us/step\n",
      "64/64 [==============================] - 0s 51us/step\n",
      "64/64 [==============================] - 0s 72us/step\n"
     ]
    },
    {
     "name": "stderr",
     "output_type": "stream",
     "text": [
      "\r",
      " 71%|███████   | 569/800 [00:46<00:18, 12.17it/s]"
     ]
    },
    {
     "name": "stdout",
     "output_type": "stream",
     "text": [
      "128/128 [==============================] - 0s 47us/step\n",
      "64/64 [==============================] - 0s 71us/step\n",
      "64/64 [==============================] - 0s 71us/step\n",
      "128/128 [==============================] - 0s 51us/step\n",
      "64/64 [==============================] - 0s 67us/step\n",
      "64/64 [==============================] - 0s 92us/step\n",
      "128/128 [==============================] - 0s 46us/step\n",
      "64/64 [==============================] - 0s 134us/step\n",
      "64/64 [==============================] - 0s 59us/step\n"
     ]
    },
    {
     "name": "stderr",
     "output_type": "stream",
     "text": [
      "\r",
      " 72%|███████▏  | 572/800 [00:46<00:18, 12.20it/s]"
     ]
    },
    {
     "name": "stdout",
     "output_type": "stream",
     "text": [
      "128/128 [==============================] - 0s 46us/step\n",
      "64/64 [==============================] - 0s 65us/step\n",
      "64/64 [==============================] - 0s 60us/step\n",
      "128/128 [==============================] - 0s 54us/step\n",
      "64/64 [==============================] - 0s 56us/step\n",
      "64/64 [==============================] - 0s 63us/step\n",
      "128/128 [==============================] - 0s 47us/step\n",
      "64/64 [==============================] - 0s 75us/step\n",
      "64/64 [==============================] - 0s 71us/step\n"
     ]
    },
    {
     "name": "stderr",
     "output_type": "stream",
     "text": [
      "\r",
      " 72%|███████▏  | 575/800 [00:46<00:18, 12.24it/s]"
     ]
    },
    {
     "name": "stdout",
     "output_type": "stream",
     "text": [
      "128/128 [==============================] - 0s 55us/step\n",
      "64/64 [==============================] - 0s 57us/step\n",
      "64/64 [==============================] - 0s 73us/step\n",
      "128/128 [==============================] - 0s 64us/step\n",
      "64/64 [==============================] - 0s 63us/step\n",
      "64/64 [==============================] - 0s 69us/step\n",
      "128/128 [==============================] - 0s 45us/step\n",
      "64/64 [==============================] - 0s 49us/step\n",
      "64/64 [==============================] - 0s 77us/step\n"
     ]
    },
    {
     "name": "stderr",
     "output_type": "stream",
     "text": [
      "\r",
      " 72%|███████▏  | 578/800 [00:47<00:18, 12.27it/s]"
     ]
    },
    {
     "name": "stdout",
     "output_type": "stream",
     "text": [
      "128/128 [==============================] - 0s 55us/step\n",
      "64/64 [==============================] - 0s 51us/step\n",
      "64/64 [==============================] - 0s 84us/step\n",
      "128/128 [==============================] - 0s 42us/step\n",
      "64/64 [==============================] - 0s 84us/step\n",
      "64/64 [==============================] - 0s 84us/step\n",
      "128/128 [==============================] - 0s 43us/step\n",
      "64/64 [==============================] - 0s 53us/step\n",
      "64/64 [==============================] - 0s 76us/step\n"
     ]
    },
    {
     "name": "stderr",
     "output_type": "stream",
     "text": [
      "\r",
      " 73%|███████▎  | 581/800 [00:47<00:17, 12.31it/s]"
     ]
    },
    {
     "name": "stdout",
     "output_type": "stream",
     "text": [
      "128/128 [==============================] - 0s 61us/step\n",
      "64/64 [==============================] - 0s 61us/step\n",
      "64/64 [==============================] - 0s 56us/step\n",
      "128/128 [==============================] - 0s 46us/step\n",
      "64/64 [==============================] - 0s 80us/step\n",
      "64/64 [==============================] - 0s 66us/step\n",
      "128/128 [==============================] - 0s 52us/step\n",
      "64/64 [==============================] - 0s 51us/step\n",
      "64/64 [==============================] - 0s 62us/step\n"
     ]
    },
    {
     "name": "stderr",
     "output_type": "stream",
     "text": [
      "\r",
      " 73%|███████▎  | 584/800 [00:47<00:17, 12.35it/s]"
     ]
    },
    {
     "name": "stdout",
     "output_type": "stream",
     "text": [
      "128/128 [==============================] - 0s 53us/step\n",
      "64/64 [==============================] - 0s 70us/step\n",
      "64/64 [==============================] - 0s 70us/step\n",
      "128/128 [==============================] - 0s 49us/step\n",
      "64/64 [==============================] - 0s 46us/step\n",
      "64/64 [==============================] - 0s 64us/step\n",
      "128/128 [==============================] - 0s 78us/step\n",
      "64/64 [==============================] - 0s 68us/step\n",
      "64/64 [==============================] - 0s 69us/step\n"
     ]
    },
    {
     "name": "stderr",
     "output_type": "stream",
     "text": [
      "\r",
      " 73%|███████▎  | 587/800 [00:47<00:17, 12.38it/s]"
     ]
    },
    {
     "name": "stdout",
     "output_type": "stream",
     "text": [
      "128/128 [==============================] - 0s 47us/step\n",
      "64/64 [==============================] - 0s 62us/step\n",
      "64/64 [==============================] - 0s 92us/step\n",
      "128/128 [==============================] - 0s 53us/step\n",
      "64/64 [==============================] - 0s 50us/step\n",
      "64/64 [==============================] - 0s 67us/step\n",
      "128/128 [==============================] - 0s 43us/step\n",
      "64/64 [==============================] - 0s 66us/step\n",
      "64/64 [==============================] - 0s 74us/step\n"
     ]
    },
    {
     "name": "stderr",
     "output_type": "stream",
     "text": [
      "\r",
      " 74%|███████▍  | 590/800 [00:47<00:16, 12.42it/s]"
     ]
    },
    {
     "name": "stdout",
     "output_type": "stream",
     "text": [
      "128/128 [==============================] - 0s 47us/step\n",
      "64/64 [==============================] - 0s 54us/step\n",
      "64/64 [==============================] - 0s 93us/step\n",
      "128/128 [==============================] - 0s 62us/step\n",
      "64/64 [==============================] - 0s 67us/step\n",
      "64/64 [==============================] - 0s 90us/step\n",
      "128/128 [==============================] - 0s 58us/step\n",
      "64/64 [==============================] - 0s 60us/step\n",
      "64/64 [==============================] - 0s 78us/step\n"
     ]
    },
    {
     "name": "stderr",
     "output_type": "stream",
     "text": [
      "\r",
      " 74%|███████▍  | 593/800 [00:47<00:16, 12.45it/s]"
     ]
    },
    {
     "name": "stdout",
     "output_type": "stream",
     "text": [
      "128/128 [==============================] - 0s 48us/step\n",
      "64/64 [==============================] - 0s 67us/step\n",
      "64/64 [==============================] - 0s 120us/step\n",
      "128/128 [==============================] - 0s 56us/step\n",
      "64/64 [==============================] - 0s 57us/step\n",
      "64/64 [==============================] - 0s 66us/step\n",
      "128/128 [==============================] - 0s 47us/step\n",
      "64/64 [==============================] - 0s 60us/step\n",
      "64/64 [==============================] - 0s 87us/step\n"
     ]
    },
    {
     "name": "stderr",
     "output_type": "stream",
     "text": [
      "\r",
      " 74%|███████▍  | 596/800 [00:47<00:16, 12.49it/s]"
     ]
    },
    {
     "name": "stdout",
     "output_type": "stream",
     "text": [
      "128/128 [==============================] - 0s 46us/step\n",
      "64/64 [==============================] - 0s 67us/step\n",
      "64/64 [==============================] - 0s 83us/step\n",
      "128/128 [==============================] - 0s 46us/step\n",
      "64/64 [==============================] - 0s 58us/step\n",
      "64/64 [==============================] - 0s 66us/step\n",
      "128/128 [==============================] - 0s 51us/step\n",
      "64/64 [==============================] - 0s 122us/step\n",
      "64/64 [==============================] - 0s 93us/step\n"
     ]
    },
    {
     "name": "stderr",
     "output_type": "stream",
     "text": [
      "\r",
      " 75%|███████▍  | 599/800 [00:47<00:16, 12.52it/s]"
     ]
    },
    {
     "name": "stdout",
     "output_type": "stream",
     "text": [
      "128/128 [==============================] - 0s 57us/step\n",
      "64/64 [==============================] - 0s 54us/step\n",
      "64/64 [==============================] - 0s 70us/step\n",
      "128/128 [==============================] - 0s 55us/step\n",
      "64/64 [==============================] - 0s 82us/step\n",
      "64/64 [==============================] - 0s 67us/step\n",
      "128/128 [==============================] - 0s 51us/step\n",
      "64/64 [==============================] - 0s 56us/step\n",
      "64/64 [==============================] - 0s 56us/step\n"
     ]
    },
    {
     "name": "stderr",
     "output_type": "stream",
     "text": [
      "\r",
      " 75%|███████▌  | 602/800 [00:52<00:17, 11.53it/s]"
     ]
    },
    {
     "name": "stdout",
     "output_type": "stream",
     "text": [
      "128/128 [==============================] - 0s 58us/step\n",
      "64/64 [==============================] - 0s 83us/step\n",
      "64/64 [==============================] - 0s 67us/step\n",
      "128/128 [==============================] - 0s 45us/step\n",
      "64/64 [==============================] - 0s 50us/step\n",
      "64/64 [==============================] - 0s 95us/step\n",
      "128/128 [==============================] - 0s 46us/step\n",
      "64/64 [==============================] - 0s 55us/step\n",
      "64/64 [==============================] - 0s 102us/step\n"
     ]
    },
    {
     "name": "stderr",
     "output_type": "stream",
     "text": [
      "\r",
      " 76%|███████▌  | 605/800 [00:52<00:16, 11.57it/s]"
     ]
    },
    {
     "name": "stdout",
     "output_type": "stream",
     "text": [
      "128/128 [==============================] - 0s 53us/step\n",
      "64/64 [==============================] - 0s 101us/step\n",
      "64/64 [==============================] - 0s 65us/step\n",
      "128/128 [==============================] - 0s 43us/step\n",
      "64/64 [==============================] - 0s 80us/step\n",
      "64/64 [==============================] - 0s 67us/step\n",
      "128/128 [==============================] - 0s 53us/step\n",
      "64/64 [==============================] - 0s 84us/step\n",
      "64/64 [==============================] - 0s 79us/step\n"
     ]
    },
    {
     "name": "stderr",
     "output_type": "stream",
     "text": [
      "\r",
      " 76%|███████▌  | 608/800 [00:52<00:16, 11.60it/s]"
     ]
    },
    {
     "name": "stdout",
     "output_type": "stream",
     "text": [
      "128/128 [==============================] - 0s 58us/step\n",
      "64/64 [==============================] - 0s 61us/step\n",
      "64/64 [==============================] - 0s 82us/step\n",
      "128/128 [==============================] - 0s 55us/step\n",
      "64/64 [==============================] - 0s 59us/step\n",
      "64/64 [==============================] - 0s 85us/step\n",
      "128/128 [==============================] - 0s 51us/step\n",
      "64/64 [==============================] - 0s 104us/step\n",
      "64/64 [==============================] - 0s 81us/step\n"
     ]
    },
    {
     "name": "stderr",
     "output_type": "stream",
     "text": [
      "\r",
      " 76%|███████▋  | 611/800 [00:52<00:16, 11.63it/s]"
     ]
    },
    {
     "name": "stdout",
     "output_type": "stream",
     "text": [
      "128/128 [==============================] - 0s 53us/step\n",
      "64/64 [==============================] - 0s 84us/step\n",
      "64/64 [==============================] - 0s 75us/step\n",
      "128/128 [==============================] - 0s 51us/step\n",
      "64/64 [==============================] - 0s 79us/step\n",
      "64/64 [==============================] - 0s 76us/step\n",
      "128/128 [==============================] - 0s 52us/step\n",
      "64/64 [==============================] - 0s 59us/step\n",
      "64/64 [==============================] - 0s 95us/step\n"
     ]
    },
    {
     "name": "stderr",
     "output_type": "stream",
     "text": [
      "\r",
      " 77%|███████▋  | 614/800 [00:52<00:15, 11.67it/s]"
     ]
    },
    {
     "name": "stdout",
     "output_type": "stream",
     "text": [
      "128/128 [==============================] - 0s 61us/step\n",
      "64/64 [==============================] - 0s 51us/step\n",
      "64/64 [==============================] - 0s 76us/step\n",
      "128/128 [==============================] - 0s 50us/step\n",
      "64/64 [==============================] - 0s 69us/step\n",
      "64/64 [==============================] - 0s 91us/step\n",
      "128/128 [==============================] - 0s 52us/step\n",
      "64/64 [==============================] - 0s 102us/step\n",
      "64/64 [==============================] - 0s 82us/step\n"
     ]
    },
    {
     "name": "stderr",
     "output_type": "stream",
     "text": [
      "\r",
      " 77%|███████▋  | 617/800 [00:52<00:15, 11.70it/s]"
     ]
    },
    {
     "name": "stdout",
     "output_type": "stream",
     "text": [
      "128/128 [==============================] - 0s 45us/step\n",
      "64/64 [==============================] - 0s 86us/step\n",
      "64/64 [==============================] - 0s 72us/step\n",
      "128/128 [==============================] - 0s 63us/step\n",
      "64/64 [==============================] - 0s 76us/step\n",
      "64/64 [==============================] - 0s 62us/step\n",
      "128/128 [==============================] - 0s 52us/step\n",
      "64/64 [==============================] - 0s 56us/step\n",
      "64/64 [==============================] - 0s 54us/step\n"
     ]
    },
    {
     "name": "stderr",
     "output_type": "stream",
     "text": [
      "\r",
      " 78%|███████▊  | 620/800 [00:52<00:15, 11.73it/s]"
     ]
    },
    {
     "name": "stdout",
     "output_type": "stream",
     "text": [
      "128/128 [==============================] - 0s 56us/step\n",
      "64/64 [==============================] - 0s 81us/step\n",
      "64/64 [==============================] - 0s 73us/step\n",
      "128/128 [==============================] - 0s 45us/step\n",
      "64/64 [==============================] - 0s 60us/step\n",
      "64/64 [==============================] - 0s 113us/step\n",
      "128/128 [==============================] - 0s 46us/step\n",
      "64/64 [==============================] - 0s 64us/step\n",
      "64/64 [==============================] - 0s 75us/step\n"
     ]
    },
    {
     "name": "stderr",
     "output_type": "stream",
     "text": [
      "\r",
      " 78%|███████▊  | 623/800 [00:52<00:15, 11.77it/s]"
     ]
    },
    {
     "name": "stdout",
     "output_type": "stream",
     "text": [
      "128/128 [==============================] - 0s 47us/step\n",
      "64/64 [==============================] - 0s 107us/step\n",
      "64/64 [==============================] - 0s 60us/step\n",
      "128/128 [==============================] - 0s 45us/step\n",
      "64/64 [==============================] - 0s 72us/step\n",
      "64/64 [==============================] - 0s 66us/step\n",
      "128/128 [==============================] - 0s 47us/step\n",
      "64/64 [==============================] - 0s 76us/step\n",
      "64/64 [==============================] - 0s 57us/step\n"
     ]
    },
    {
     "name": "stderr",
     "output_type": "stream",
     "text": [
      "\r",
      " 78%|███████▊  | 626/800 [00:53<00:14, 11.80it/s]"
     ]
    },
    {
     "name": "stdout",
     "output_type": "stream",
     "text": [
      "128/128 [==============================] - 0s 73us/step\n",
      "64/64 [==============================] - 0s 72us/step\n",
      "64/64 [==============================] - 0s 81us/step\n",
      "128/128 [==============================] - 0s 64us/step\n",
      "64/64 [==============================] - 0s 68us/step\n",
      "64/64 [==============================] - 0s 79us/step\n",
      "128/128 [==============================] - 0s 55us/step\n",
      "64/64 [==============================] - 0s 52us/step\n",
      "64/64 [==============================] - 0s 78us/step\n"
     ]
    },
    {
     "name": "stderr",
     "output_type": "stream",
     "text": [
      "\r",
      " 79%|███████▊  | 629/800 [00:53<00:14, 11.83it/s]"
     ]
    },
    {
     "name": "stdout",
     "output_type": "stream",
     "text": [
      "128/128 [==============================] - 0s 71us/step\n",
      "64/64 [==============================] - 0s 84us/step\n",
      "64/64 [==============================] - 0s 66us/step\n",
      "128/128 [==============================] - 0s 53us/step\n",
      "64/64 [==============================] - 0s 65us/step\n",
      "64/64 [==============================] - 0s 66us/step\n",
      "128/128 [==============================] - 0s 53us/step\n",
      "64/64 [==============================] - 0s 60us/step\n",
      "64/64 [==============================] - 0s 67us/step\n"
     ]
    },
    {
     "name": "stderr",
     "output_type": "stream",
     "text": [
      "\r",
      " 79%|███████▉  | 632/800 [00:53<00:14, 11.86it/s]"
     ]
    },
    {
     "name": "stdout",
     "output_type": "stream",
     "text": [
      "128/128 [==============================] - 0s 55us/step\n",
      "64/64 [==============================] - 0s 65us/step\n",
      "64/64 [==============================] - 0s 59us/step\n",
      "128/128 [==============================] - 0s 49us/step\n",
      "64/64 [==============================] - 0s 47us/step\n",
      "64/64 [==============================] - 0s 60us/step\n",
      "128/128 [==============================] - 0s 65us/step\n",
      "64/64 [==============================] - 0s 85us/step\n",
      "64/64 [==============================] - 0s 58us/step\n"
     ]
    },
    {
     "name": "stderr",
     "output_type": "stream",
     "text": [
      "\r",
      " 79%|███████▉  | 635/800 [00:53<00:13, 11.90it/s]"
     ]
    },
    {
     "name": "stdout",
     "output_type": "stream",
     "text": [
      "128/128 [==============================] - 0s 49us/step\n",
      "64/64 [==============================] - 0s 71us/step\n",
      "64/64 [==============================] - 0s 119us/step\n",
      "128/128 [==============================] - 0s 53us/step\n",
      "64/64 [==============================] - 0s 78us/step\n",
      "64/64 [==============================] - 0s 89us/step\n",
      "128/128 [==============================] - 0s 51us/step\n",
      "64/64 [==============================] - 0s 66us/step\n",
      "64/64 [==============================] - 0s 76us/step\n"
     ]
    },
    {
     "name": "stderr",
     "output_type": "stream",
     "text": [
      "\r",
      " 80%|███████▉  | 638/800 [00:53<00:13, 11.93it/s]"
     ]
    },
    {
     "name": "stdout",
     "output_type": "stream",
     "text": [
      "128/128 [==============================] - 0s 58us/step\n",
      "64/64 [==============================] - 0s 73us/step\n",
      "64/64 [==============================] - 0s 63us/step\n",
      "128/128 [==============================] - 0s 57us/step\n",
      "64/64 [==============================] - 0s 48us/step\n",
      "64/64 [==============================] - 0s 56us/step\n",
      "128/128 [==============================] - 0s 58us/step\n",
      "64/64 [==============================] - 0s 79us/step\n",
      "64/64 [==============================] - 0s 74us/step\n"
     ]
    },
    {
     "name": "stderr",
     "output_type": "stream",
     "text": [
      "\r",
      " 80%|████████  | 641/800 [00:53<00:13, 11.96it/s]"
     ]
    },
    {
     "name": "stdout",
     "output_type": "stream",
     "text": [
      "128/128 [==============================] - 0s 49us/step\n",
      "64/64 [==============================] - 0s 73us/step\n",
      "64/64 [==============================] - 0s 85us/step\n",
      "128/128 [==============================] - 0s 50us/step\n",
      "64/64 [==============================] - 0s 61us/step\n",
      "64/64 [==============================] - 0s 71us/step\n",
      "128/128 [==============================] - 0s 51us/step\n",
      "64/64 [==============================] - 0s 73us/step\n",
      "64/64 [==============================] - 0s 91us/step\n"
     ]
    },
    {
     "name": "stderr",
     "output_type": "stream",
     "text": [
      "\r",
      " 80%|████████  | 644/800 [00:53<00:13, 11.99it/s]"
     ]
    },
    {
     "name": "stdout",
     "output_type": "stream",
     "text": [
      "128/128 [==============================] - 0s 45us/step\n",
      "64/64 [==============================] - 0s 74us/step\n",
      "64/64 [==============================] - 0s 67us/step\n",
      "128/128 [==============================] - 0s 57us/step\n",
      "64/64 [==============================] - 0s 74us/step\n",
      "64/64 [==============================] - 0s 57us/step\n",
      "128/128 [==============================] - 0s 56us/step\n",
      "64/64 [==============================] - 0s 88us/step\n",
      "64/64 [==============================] - 0s 63us/step\n"
     ]
    },
    {
     "name": "stderr",
     "output_type": "stream",
     "text": [
      "\r",
      " 81%|████████  | 647/800 [00:53<00:12, 12.02it/s]"
     ]
    },
    {
     "name": "stdout",
     "output_type": "stream",
     "text": [
      "128/128 [==============================] - 0s 48us/step\n",
      "64/64 [==============================] - 0s 58us/step\n",
      "64/64 [==============================] - 0s 80us/step\n",
      "128/128 [==============================] - 0s 63us/step\n",
      "64/64 [==============================] - 0s 54us/step\n",
      "64/64 [==============================] - 0s 69us/step\n",
      "128/128 [==============================] - 0s 56us/step\n",
      "64/64 [==============================] - 0s 133us/step\n",
      "64/64 [==============================] - 0s 66us/step\n"
     ]
    },
    {
     "name": "stderr",
     "output_type": "stream",
     "text": [
      "\r",
      " 81%|████████▏ | 650/800 [00:53<00:12, 12.05it/s]"
     ]
    },
    {
     "name": "stdout",
     "output_type": "stream",
     "text": [
      "128/128 [==============================] - 0s 47us/step\n",
      "64/64 [==============================] - 0s 59us/step\n",
      "64/64 [==============================] - 0s 84us/step\n",
      "128/128 [==============================] - 0s 51us/step\n",
      "64/64 [==============================] - 0s 69us/step\n",
      "64/64 [==============================] - 0s 58us/step\n",
      "128/128 [==============================] - 0s 52us/step\n",
      "64/64 [==============================] - 0s 85us/step\n",
      "64/64 [==============================] - 0s 79us/step\n"
     ]
    },
    {
     "name": "stderr",
     "output_type": "stream",
     "text": [
      "\r",
      " 82%|████████▏ | 653/800 [00:54<00:12, 12.09it/s]"
     ]
    },
    {
     "name": "stdout",
     "output_type": "stream",
     "text": [
      "128/128 [==============================] - 0s 48us/step\n",
      "64/64 [==============================] - 0s 60us/step\n",
      "64/64 [==============================] - 0s 76us/step\n",
      "128/128 [==============================] - 0s 62us/step\n",
      "64/64 [==============================] - 0s 54us/step\n",
      "64/64 [==============================] - 0s 87us/step\n",
      "128/128 [==============================] - 0s 47us/step\n",
      "64/64 [==============================] - 0s 48us/step\n",
      "64/64 [==============================] - 0s 78us/step\n"
     ]
    },
    {
     "name": "stderr",
     "output_type": "stream",
     "text": [
      "\r",
      " 82%|████████▏ | 656/800 [00:54<00:11, 12.12it/s]"
     ]
    },
    {
     "name": "stdout",
     "output_type": "stream",
     "text": [
      "128/128 [==============================] - 0s 63us/step\n",
      "64/64 [==============================] - 0s 67us/step\n",
      "64/64 [==============================] - 0s 84us/step\n",
      "128/128 [==============================] - 0s 57us/step\n",
      "64/64 [==============================] - 0s 77us/step\n",
      "64/64 [==============================] - 0s 71us/step\n",
      "128/128 [==============================] - 0s 46us/step\n",
      "64/64 [==============================] - 0s 60us/step\n",
      "64/64 [==============================] - 0s 94us/step\n"
     ]
    },
    {
     "name": "stderr",
     "output_type": "stream",
     "text": [
      "\r",
      " 82%|████████▏ | 659/800 [00:54<00:11, 12.15it/s]"
     ]
    },
    {
     "name": "stdout",
     "output_type": "stream",
     "text": [
      "128/128 [==============================] - 0s 57us/step\n",
      "64/64 [==============================] - 0s 70us/step\n",
      "64/64 [==============================] - 0s 60us/step\n",
      "128/128 [==============================] - 0s 71us/step\n",
      "64/64 [==============================] - 0s 76us/step\n",
      "64/64 [==============================] - 0s 68us/step\n",
      "128/128 [==============================] - 0s 48us/step\n",
      "64/64 [==============================] - 0s 49us/step\n",
      "64/64 [==============================] - 0s 83us/step\n"
     ]
    },
    {
     "name": "stderr",
     "output_type": "stream",
     "text": [
      "\r",
      " 83%|████████▎ | 662/800 [00:54<00:11, 12.18it/s]"
     ]
    },
    {
     "name": "stdout",
     "output_type": "stream",
     "text": [
      "128/128 [==============================] - 0s 60us/step\n",
      "64/64 [==============================] - 0s 64us/step\n",
      "64/64 [==============================] - 0s 70us/step\n",
      "128/128 [==============================] - 0s 47us/step\n",
      "64/64 [==============================] - 0s 76us/step\n",
      "64/64 [==============================] - 0s 85us/step\n",
      "128/128 [==============================] - 0s 46us/step\n",
      "64/64 [==============================] - 0s 54us/step\n",
      "64/64 [==============================] - 0s 81us/step\n"
     ]
    },
    {
     "name": "stderr",
     "output_type": "stream",
     "text": [
      "\r",
      " 83%|████████▎ | 665/800 [00:54<00:11, 12.21it/s]"
     ]
    },
    {
     "name": "stdout",
     "output_type": "stream",
     "text": [
      "128/128 [==============================] - 0s 44us/step\n",
      "64/64 [==============================] - 0s 70us/step\n",
      "64/64 [==============================] - 0s 79us/step\n",
      "128/128 [==============================] - 0s 42us/step\n",
      "64/64 [==============================] - 0s 60us/step\n",
      "64/64 [==============================] - 0s 89us/step\n",
      "128/128 [==============================] - 0s 47us/step\n",
      "64/64 [==============================] - 0s 111us/step\n",
      "64/64 [==============================] - 0s 74us/step\n"
     ]
    },
    {
     "name": "stderr",
     "output_type": "stream",
     "text": [
      "\r",
      " 84%|████████▎ | 668/800 [00:54<00:10, 12.24it/s]"
     ]
    },
    {
     "name": "stdout",
     "output_type": "stream",
     "text": [
      "128/128 [==============================] - 0s 56us/step\n",
      "64/64 [==============================] - 0s 70us/step\n",
      "64/64 [==============================] - 0s 55us/step\n",
      "128/128 [==============================] - 0s 51us/step\n",
      "64/64 [==============================] - 0s 66us/step\n",
      "64/64 [==============================] - 0s 59us/step\n",
      "128/128 [==============================] - 0s 52us/step\n",
      "64/64 [==============================] - 0s 79us/step\n",
      "64/64 [==============================] - 0s 63us/step\n"
     ]
    },
    {
     "name": "stderr",
     "output_type": "stream",
     "text": [
      "\r",
      " 84%|████████▍ | 671/800 [00:54<00:10, 12.28it/s]"
     ]
    },
    {
     "name": "stdout",
     "output_type": "stream",
     "text": [
      "128/128 [==============================] - 0s 56us/step\n",
      "64/64 [==============================] - 0s 45us/step\n",
      "64/64 [==============================] - 0s 75us/step\n",
      "128/128 [==============================] - ETA:  - 0s 62us/step\n",
      "64/64 [==============================] - 0s 66us/step\n",
      "64/64 [==============================] - 0s 58us/step\n",
      "128/128 [==============================] - 0s 46us/step\n",
      "64/64 [==============================] - 0s 48us/step\n",
      "64/64 [==============================] - 0s 98us/step\n"
     ]
    },
    {
     "name": "stderr",
     "output_type": "stream",
     "text": [
      "\r",
      " 84%|████████▍ | 674/800 [00:54<00:10, 12.31it/s]"
     ]
    },
    {
     "name": "stdout",
     "output_type": "stream",
     "text": [
      "128/128 [==============================] - 0s 58us/step\n",
      "64/64 [==============================] - 0s 55us/step\n",
      "64/64 [==============================] - 0s 140us/step\n",
      "128/128 [==============================] - 0s 48us/step\n",
      "64/64 [==============================] - 0s 87us/step\n",
      "64/64 [==============================] - 0s 59us/step\n",
      "128/128 [==============================] - 0s 52us/step\n",
      "64/64 [==============================] - 0s 83us/step\n",
      "64/64 [==============================] - 0s 59us/step\n"
     ]
    },
    {
     "name": "stderr",
     "output_type": "stream",
     "text": [
      "\r",
      " 85%|████████▍ | 677/800 [00:54<00:09, 12.34it/s]"
     ]
    },
    {
     "name": "stdout",
     "output_type": "stream",
     "text": [
      "128/128 [==============================] - 0s 58us/step\n",
      "64/64 [==============================] - 0s 58us/step\n",
      "64/64 [==============================] - 0s 58us/step\n",
      "128/128 [==============================] - 0s 47us/step\n",
      "64/64 [==============================] - 0s 90us/step\n",
      "64/64 [==============================] - 0s 66us/step\n",
      "128/128 [==============================] - 0s 48us/step\n",
      "64/64 [==============================] - 0s 73us/step\n",
      "64/64 [==============================] - 0s 82us/step\n"
     ]
    },
    {
     "name": "stderr",
     "output_type": "stream",
     "text": [
      "\r",
      " 85%|████████▌ | 680/800 [00:54<00:09, 12.37it/s]"
     ]
    },
    {
     "name": "stdout",
     "output_type": "stream",
     "text": [
      "128/128 [==============================] - 0s 52us/step\n",
      "64/64 [==============================] - 0s 64us/step\n",
      "64/64 [==============================] - 0s 116us/step\n",
      "128/128 [==============================] - 0s 50us/step\n",
      "64/64 [==============================] - 0s 89us/step\n",
      "64/64 [==============================] - 0s 66us/step\n",
      "128/128 [==============================] - 0s 45us/step\n",
      "64/64 [==============================] - 0s 70us/step\n",
      "64/64 [==============================] - 0s 69us/step\n"
     ]
    },
    {
     "name": "stderr",
     "output_type": "stream",
     "text": [
      "\r",
      " 85%|████████▌ | 683/800 [00:55<00:09, 12.40it/s]"
     ]
    },
    {
     "name": "stdout",
     "output_type": "stream",
     "text": [
      "128/128 [==============================] - 0s 45us/step\n",
      "64/64 [==============================] - 0s 75us/step\n",
      "64/64 [==============================] - 0s 59us/step\n",
      "128/128 [==============================] - 0s 45us/step\n",
      "64/64 [==============================] - 0s 90us/step\n",
      "64/64 [==============================] - 0s 70us/step\n",
      "128/128 [==============================] - 0s 54us/step\n",
      "64/64 [==============================] - 0s 64us/step\n",
      "64/64 [==============================] - 0s 63us/step\n"
     ]
    },
    {
     "name": "stderr",
     "output_type": "stream",
     "text": [
      "\r",
      " 86%|████████▌ | 686/800 [00:55<00:09, 12.43it/s]"
     ]
    },
    {
     "name": "stdout",
     "output_type": "stream",
     "text": [
      "128/128 [==============================] - 0s 56us/step\n",
      "64/64 [==============================] - 0s 95us/step\n",
      "64/64 [==============================] - 0s 62us/step\n",
      "128/128 [==============================] - 0s 55us/step\n",
      "64/64 [==============================] - 0s 67us/step\n",
      "64/64 [==============================] - 0s 81us/step\n",
      "128/128 [==============================] - 0s 65us/step\n",
      "64/64 [==============================] - 0s 59us/step\n",
      "64/64 [==============================] - 0s 67us/step\n"
     ]
    },
    {
     "name": "stderr",
     "output_type": "stream",
     "text": [
      "\r",
      " 86%|████████▌ | 689/800 [00:55<00:08, 12.46it/s]"
     ]
    },
    {
     "name": "stdout",
     "output_type": "stream",
     "text": [
      "128/128 [==============================] - 0s 52us/step\n",
      "64/64 [==============================] - 0s 75us/step\n",
      "64/64 [==============================] - 0s 85us/step\n",
      "128/128 [==============================] - 0s 51us/step\n",
      "64/64 [==============================] - 0s 60us/step\n",
      "64/64 [==============================] - 0s 75us/step\n",
      "128/128 [==============================] - 0s 42us/step\n",
      "64/64 [==============================] - 0s 68us/step\n",
      "64/64 [==============================] - 0s 61us/step\n"
     ]
    },
    {
     "name": "stderr",
     "output_type": "stream",
     "text": [
      "\r",
      " 86%|████████▋ | 692/800 [00:55<00:08, 12.49it/s]"
     ]
    },
    {
     "name": "stdout",
     "output_type": "stream",
     "text": [
      "128/128 [==============================] - 0s 48us/step\n",
      "64/64 [==============================] - 0s 57us/step\n",
      "64/64 [==============================] - 0s 72us/step\n",
      "128/128 [==============================] - 0s 60us/step\n",
      "64/64 [==============================] - 0s 84us/step\n",
      "64/64 [==============================] - 0s 73us/step\n",
      "128/128 [==============================] - 0s 45us/step\n",
      "64/64 [==============================] - 0s 80us/step\n",
      "64/64 [==============================] - 0s 68us/step\n"
     ]
    },
    {
     "name": "stderr",
     "output_type": "stream",
     "text": [
      "\r",
      " 87%|████████▋ | 695/800 [00:55<00:08, 12.52it/s]"
     ]
    },
    {
     "name": "stdout",
     "output_type": "stream",
     "text": [
      "128/128 [==============================] - 0s 49us/step\n",
      "64/64 [==============================] - 0s 76us/step\n",
      "64/64 [==============================] - 0s 82us/step\n",
      "128/128 [==============================] - 0s 61us/step\n",
      "64/64 [==============================] - 0s 54us/step\n",
      "64/64 [==============================] - 0s 53us/step\n",
      "128/128 [==============================] - 0s 49us/step\n",
      "64/64 [==============================] - 0s 72us/step\n",
      "64/64 [==============================] - 0s 71us/step\n"
     ]
    },
    {
     "name": "stderr",
     "output_type": "stream",
     "text": [
      "\r",
      " 87%|████████▋ | 698/800 [00:55<00:08, 12.55it/s]"
     ]
    },
    {
     "name": "stdout",
     "output_type": "stream",
     "text": [
      "128/128 [==============================] - 0s 56us/step\n",
      "64/64 [==============================] - 0s 56us/step\n",
      "64/64 [==============================] - 0s 68us/step\n",
      "128/128 [==============================] - 0s 52us/step\n",
      "64/64 [==============================] - 0s 76us/step\n",
      "64/64 [==============================] - 0s 64us/step\n",
      "128/128 [==============================] - 0s 48us/step\n",
      "64/64 [==============================] - 0s 86us/step\n",
      "64/64 [==============================] - 0s 77us/step\n"
     ]
    },
    {
     "name": "stderr",
     "output_type": "stream",
     "text": [
      "\r",
      " 88%|████████▊ | 701/800 [01:00<00:08, 11.67it/s]"
     ]
    },
    {
     "name": "stdout",
     "output_type": "stream",
     "text": [
      "128/128 [==============================] - 0s 59us/step\n",
      "64/64 [==============================] - 0s 70us/step\n",
      "64/64 [==============================] - 0s 90us/step\n",
      "128/128 [==============================] - 0s 56us/step\n",
      "64/64 [==============================] - 0s 66us/step\n",
      "64/64 [==============================] - 0s 99us/step\n",
      "128/128 [==============================] - 0s 53us/step\n",
      "64/64 [==============================] - 0s 68us/step\n",
      "64/64 [==============================] - 0s 82us/step\n"
     ]
    },
    {
     "name": "stderr",
     "output_type": "stream",
     "text": [
      "\r",
      " 88%|████████▊ | 704/800 [01:00<00:08, 11.70it/s]"
     ]
    },
    {
     "name": "stdout",
     "output_type": "stream",
     "text": [
      "128/128 [==============================] - 0s 49us/step\n",
      "64/64 [==============================] - 0s 87us/step\n",
      "64/64 [==============================] - 0s 72us/step\n",
      "128/128 [==============================] - 0s 52us/step\n",
      "64/64 [==============================] - 0s 79us/step\n",
      "64/64 [==============================] - 0s 70us/step\n",
      "128/128 [==============================] - 0s 66us/step\n",
      "64/64 [==============================] - 0s 56us/step\n",
      "64/64 [==============================] - 0s 53us/step\n"
     ]
    },
    {
     "name": "stderr",
     "output_type": "stream",
     "text": [
      "\r",
      " 88%|████████▊ | 707/800 [01:00<00:07, 11.73it/s]"
     ]
    },
    {
     "name": "stdout",
     "output_type": "stream",
     "text": [
      "128/128 [==============================] - 0s 52us/step\n",
      "64/64 [==============================] - 0s 62us/step\n",
      "64/64 [==============================] - 0s 76us/step\n",
      "128/128 [==============================] - 0s 58us/step\n",
      "64/64 [==============================] - 0s 50us/step\n",
      "64/64 [==============================] - 0s 73us/step\n",
      "128/128 [==============================] - 0s 48us/step\n",
      "64/64 [==============================] - 0s 53us/step\n",
      "64/64 [==============================] - 0s 72us/step\n"
     ]
    },
    {
     "name": "stderr",
     "output_type": "stream",
     "text": [
      "\r",
      " 89%|████████▉ | 710/800 [01:00<00:07, 11.76it/s]"
     ]
    },
    {
     "name": "stdout",
     "output_type": "stream",
     "text": [
      "128/128 [==============================] - 0s 54us/step\n",
      "64/64 [==============================] - 0s 126us/step\n",
      "64/64 [==============================] - 0s 65us/step\n",
      "128/128 [==============================] - 0s 48us/step\n",
      "64/64 [==============================] - 0s 81us/step\n",
      "64/64 [==============================] - 0s 69us/step\n",
      "128/128 [==============================] - 0s 49us/step\n",
      "64/64 [==============================] - 0s 87us/step\n",
      "64/64 [==============================] - 0s 75us/step\n"
     ]
    },
    {
     "name": "stderr",
     "output_type": "stream",
     "text": [
      "\r",
      " 89%|████████▉ | 713/800 [01:00<00:07, 11.78it/s]"
     ]
    },
    {
     "name": "stdout",
     "output_type": "stream",
     "text": [
      "128/128 [==============================] - 0s 54us/step\n",
      "64/64 [==============================] - 0s 72us/step\n",
      "64/64 [==============================] - 0s 82us/step\n",
      "128/128 [==============================] - 0s 55us/step\n",
      "64/64 [==============================] - 0s 70us/step\n",
      "64/64 [==============================] - 0s 127us/step\n",
      "128/128 [==============================] - 0s 52us/step\n",
      "64/64 [==============================] - 0s 59us/step\n",
      "64/64 [==============================] - 0s 74us/step\n"
     ]
    },
    {
     "name": "stderr",
     "output_type": "stream",
     "text": [
      "\r",
      " 90%|████████▉ | 716/800 [01:00<00:07, 11.81it/s]"
     ]
    },
    {
     "name": "stdout",
     "output_type": "stream",
     "text": [
      "128/128 [==============================] - 0s 51us/step\n",
      "64/64 [==============================] - 0s 80us/step\n",
      "64/64 [==============================] - 0s 59us/step\n",
      "128/128 [==============================] - 0s 53us/step\n",
      "64/64 [==============================] - 0s 75us/step\n",
      "64/64 [==============================] - 0s 85us/step\n",
      "128/128 [==============================] - 0s 58us/step\n",
      "64/64 [==============================] - 0s 49us/step\n",
      "64/64 [==============================] - 0s 58us/step\n"
     ]
    },
    {
     "name": "stderr",
     "output_type": "stream",
     "text": [
      "\r",
      " 90%|████████▉ | 719/800 [01:00<00:06, 11.84it/s]"
     ]
    },
    {
     "name": "stdout",
     "output_type": "stream",
     "text": [
      "128/128 [==============================] - 0s 54us/step\n",
      "64/64 [==============================] - 0s 55us/step\n",
      "64/64 [==============================] - 0s 73us/step\n",
      "128/128 [==============================] - 0s 64us/step\n",
      "64/64 [==============================] - 0s 56us/step\n",
      "64/64 [==============================] - 0s 63us/step\n",
      "128/128 [==============================] - 0s 46us/step\n",
      "64/64 [==============================] - 0s 63us/step\n",
      "64/64 [==============================] - 0s 81us/step\n"
     ]
    },
    {
     "name": "stderr",
     "output_type": "stream",
     "text": [
      "\r",
      " 90%|█████████ | 722/800 [01:00<00:06, 11.87it/s]"
     ]
    },
    {
     "name": "stdout",
     "output_type": "stream",
     "text": [
      "128/128 [==============================] - 0s 50us/step\n",
      "64/64 [==============================] - 0s 48us/step\n",
      "64/64 [==============================] - 0s 82us/step\n",
      "128/128 [==============================] - 0s 59us/step\n",
      "64/64 [==============================] - 0s 70us/step\n",
      "64/64 [==============================] - 0s 72us/step\n",
      "128/128 [==============================] - 0s 51us/step\n",
      "64/64 [==============================] - 0s 52us/step\n",
      "64/64 [==============================] - 0s 73us/step\n"
     ]
    },
    {
     "name": "stderr",
     "output_type": "stream",
     "text": [
      "\r",
      " 91%|█████████ | 725/800 [01:00<00:06, 11.90it/s]"
     ]
    },
    {
     "name": "stdout",
     "output_type": "stream",
     "text": [
      "128/128 [==============================] - 0s 45us/step\n",
      "64/64 [==============================] - 0s 86us/step\n",
      "64/64 [==============================] - 0s 72us/step\n",
      "128/128 [==============================] - 0s 46us/step\n",
      "64/64 [==============================] - 0s 78us/step\n",
      "64/64 [==============================] - 0s 59us/step\n",
      "128/128 [==============================] - 0s 52us/step\n",
      "64/64 [==============================] - 0s 56us/step\n",
      "64/64 [==============================] - 0s 56us/step\n"
     ]
    },
    {
     "name": "stderr",
     "output_type": "stream",
     "text": [
      "\r",
      " 91%|█████████ | 728/800 [01:01<00:06, 11.93it/s]"
     ]
    },
    {
     "name": "stdout",
     "output_type": "stream",
     "text": [
      "128/128 [==============================] - 0s 54us/step\n",
      "64/64 [==============================] - 0s 103us/step\n",
      "64/64 [==============================] - 0s 90us/step\n",
      "128/128 [==============================] - 0s 52us/step\n",
      "64/64 [==============================] - 0s 68us/step\n",
      "64/64 [==============================] - 0s 68us/step\n",
      "128/128 [==============================] - 0s 56us/step\n",
      "64/64 [==============================] - 0s 88us/step\n",
      "64/64 [==============================] - 0s 76us/step\n"
     ]
    },
    {
     "name": "stderr",
     "output_type": "stream",
     "text": [
      "\r",
      " 91%|█████████▏| 731/800 [01:01<00:05, 11.96it/s]"
     ]
    },
    {
     "name": "stdout",
     "output_type": "stream",
     "text": [
      "128/128 [==============================] - 0s 45us/step\n",
      "64/64 [==============================] - 0s 74us/step\n",
      "64/64 [==============================] - 0s 88us/step\n",
      "128/128 [==============================] - 0s 42us/step\n",
      "64/64 [==============================] - 0s 72us/step\n",
      "64/64 [==============================] - 0s 78us/step\n",
      "128/128 [==============================] - 0s 47us/step\n",
      "64/64 [==============================] - 0s 83us/step\n",
      "64/64 [==============================] - 0s 79us/step\n"
     ]
    },
    {
     "name": "stderr",
     "output_type": "stream",
     "text": [
      "\r",
      " 92%|█████████▏| 734/800 [01:01<00:05, 11.98it/s]"
     ]
    },
    {
     "name": "stdout",
     "output_type": "stream",
     "text": [
      "128/128 [==============================] - 0s 57us/step\n",
      "64/64 [==============================] - 0s 77us/step\n",
      "64/64 [==============================] - 0s 90us/step\n",
      "128/128 [==============================] - 0s 51us/step\n",
      "64/64 [==============================] - 0s 72us/step\n",
      "64/64 [==============================] - 0s 120us/step\n",
      "128/128 [==============================] - 0s 46us/step\n",
      "64/64 [==============================] - 0s 73us/step\n",
      "64/64 [==============================] - 0s 86us/step\n"
     ]
    },
    {
     "name": "stderr",
     "output_type": "stream",
     "text": [
      "\r",
      " 92%|█████████▏| 737/800 [01:01<00:05, 12.01it/s]"
     ]
    },
    {
     "name": "stdout",
     "output_type": "stream",
     "text": [
      "128/128 [==============================] - 0s 53us/step\n",
      "64/64 [==============================] - 0s 67us/step\n",
      "64/64 [==============================] - 0s 76us/step\n",
      "128/128 [==============================] - 0s 52us/step\n",
      "64/64 [==============================] - 0s 66us/step\n",
      "64/64 [==============================] - 0s 60us/step\n",
      "128/128 [==============================] - 0s 56us/step\n",
      "64/64 [==============================] - 0s 63us/step\n",
      "64/64 [==============================] - 0s 79us/step\n"
     ]
    },
    {
     "name": "stderr",
     "output_type": "stream",
     "text": [
      "\r",
      " 92%|█████████▎| 740/800 [01:01<00:04, 12.04it/s]"
     ]
    },
    {
     "name": "stdout",
     "output_type": "stream",
     "text": [
      "128/128 [==============================] - 0s 58us/step\n",
      "64/64 [==============================] - 0s 84us/step\n",
      "64/64 [==============================] - 0s 55us/step\n",
      "128/128 [==============================] - 0s 50us/step\n",
      "64/64 [==============================] - 0s 66us/step\n",
      "64/64 [==============================] - 0s 84us/step\n",
      "128/128 [==============================] - 0s 52us/step\n",
      "64/64 [==============================] - 0s 67us/step\n",
      "64/64 [==============================] - 0s 69us/step\n"
     ]
    },
    {
     "name": "stderr",
     "output_type": "stream",
     "text": [
      "\r",
      " 93%|█████████▎| 743/800 [01:01<00:04, 12.07it/s]"
     ]
    },
    {
     "name": "stdout",
     "output_type": "stream",
     "text": [
      "128/128 [==============================] - 0s 46us/step\n",
      "64/64 [==============================] - 0s 88us/step\n",
      "64/64 [==============================] - 0s 76us/step\n",
      "128/128 [==============================] - 0s 47us/step\n",
      "64/64 [==============================] - 0s 83us/step\n",
      "64/64 [==============================] - 0s 69us/step\n",
      "128/128 [==============================] - 0s 53us/step\n",
      "64/64 [==============================] - 0s 70us/step\n",
      "64/64 [==============================] - 0s 61us/step\n"
     ]
    },
    {
     "name": "stderr",
     "output_type": "stream",
     "text": [
      "\r",
      " 93%|█████████▎| 746/800 [01:01<00:04, 12.09it/s]"
     ]
    },
    {
     "name": "stdout",
     "output_type": "stream",
     "text": [
      "128/128 [==============================] - 0s 46us/step\n",
      "64/64 [==============================] - 0s 92us/step\n",
      "64/64 [==============================] - 0s 69us/step\n",
      "128/128 [==============================] - 0s 50us/step\n",
      "64/64 [==============================] - 0s 64us/step\n",
      "64/64 [==============================] - 0s 56us/step\n",
      "128/128 [==============================] - 0s 46us/step\n",
      "64/64 [==============================] - 0s 69us/step\n",
      "64/64 [==============================] - 0s 88us/step\n"
     ]
    },
    {
     "name": "stderr",
     "output_type": "stream",
     "text": [
      "\r",
      " 94%|█████████▎| 749/800 [01:01<00:04, 12.12it/s]"
     ]
    },
    {
     "name": "stdout",
     "output_type": "stream",
     "text": [
      "128/128 [==============================] - 0s 50us/step\n",
      "64/64 [==============================] - 0s 93us/step\n",
      "64/64 [==============================] - 0s 73us/step\n",
      "128/128 [==============================] - 0s 60us/step\n",
      "64/64 [==============================] - 0s 70us/step\n",
      "64/64 [==============================] - 0s 63us/step\n",
      "128/128 [==============================] - 0s 44us/step\n",
      "64/64 [==============================] - 0s 58us/step\n",
      "64/64 [==============================] - 0s 76us/step\n"
     ]
    },
    {
     "name": "stderr",
     "output_type": "stream",
     "text": [
      "\r",
      " 94%|█████████▍| 752/800 [01:01<00:03, 12.15it/s]"
     ]
    },
    {
     "name": "stdout",
     "output_type": "stream",
     "text": [
      "128/128 [==============================] - 0s 47us/step\n",
      "64/64 [==============================] - 0s 60us/step\n",
      "64/64 [==============================] - 0s 77us/step\n",
      "128/128 [==============================] - 0s 52us/step\n",
      "64/64 [==============================] - 0s 77us/step\n",
      "64/64 [==============================] - 0s 87us/step\n",
      "128/128 [==============================] - 0s 43us/step\n",
      "64/64 [==============================] - 0s 88us/step\n",
      "64/64 [==============================] - 0s 66us/step\n"
     ]
    },
    {
     "name": "stderr",
     "output_type": "stream",
     "text": [
      "\r",
      " 94%|█████████▍| 755/800 [01:01<00:03, 12.18it/s]"
     ]
    },
    {
     "name": "stdout",
     "output_type": "stream",
     "text": [
      "128/128 [==============================] - 0s 60us/step\n",
      "64/64 [==============================] - 0s 85us/step\n",
      "64/64 [==============================] - 0s 59us/step\n",
      "128/128 [==============================] - 0s 61us/step\n",
      "64/64 [==============================] - 0s 67us/step\n",
      "64/64 [==============================] - 0s 60us/step\n",
      "128/128 [==============================] - 0s 49us/step\n",
      "64/64 [==============================] - 0s 68us/step\n",
      "64/64 [==============================] - 0s 82us/step\n"
     ]
    },
    {
     "name": "stderr",
     "output_type": "stream",
     "text": [
      "\r",
      " 95%|█████████▍| 758/800 [01:02<00:03, 12.20it/s]"
     ]
    },
    {
     "name": "stdout",
     "output_type": "stream",
     "text": [
      "128/128 [==============================] - 0s 59us/step\n",
      "64/64 [==============================] - 0s 48us/step\n",
      "64/64 [==============================] - 0s 65us/step\n",
      "128/128 [==============================] - 0s 52us/step\n",
      "64/64 [==============================] - 0s 77us/step\n",
      "64/64 [==============================] - 0s 83us/step\n",
      "128/128 [==============================] - 0s 58us/step\n",
      "64/64 [==============================] - 0s 59us/step\n",
      "64/64 [==============================] - 0s 75us/step\n"
     ]
    },
    {
     "name": "stderr",
     "output_type": "stream",
     "text": [
      "\r",
      " 95%|█████████▌| 761/800 [01:02<00:03, 12.23it/s]"
     ]
    },
    {
     "name": "stdout",
     "output_type": "stream",
     "text": [
      "128/128 [==============================] - 0s 50us/step\n",
      "64/64 [==============================] - 0s 67us/step\n",
      "64/64 [==============================] - 0s 64us/step\n",
      "128/128 [==============================] - 0s 45us/step\n",
      "64/64 [==============================] - 0s 83us/step\n",
      "64/64 [==============================] - 0s 63us/step\n",
      "128/128 [==============================] - 0s 51us/step\n",
      "64/64 [==============================] - 0s 60us/step\n",
      "64/64 [==============================] - 0s 61us/step\n"
     ]
    },
    {
     "name": "stderr",
     "output_type": "stream",
     "text": [
      "\r",
      " 96%|█████████▌| 764/800 [01:02<00:02, 12.26it/s]"
     ]
    },
    {
     "name": "stdout",
     "output_type": "stream",
     "text": [
      "128/128 [==============================] - 0s 70us/step\n",
      "64/64 [==============================] - 0s 89us/step\n",
      "64/64 [==============================] - 0s 73us/step\n",
      "128/128 [==============================] - 0s 45us/step\n",
      "64/64 [==============================] - 0s 72us/step\n",
      "64/64 [==============================] - 0s 92us/step\n",
      "128/128 [==============================] - 0s 51us/step\n",
      "64/64 [==============================] - 0s 59us/step\n",
      "64/64 [==============================] - 0s 87us/step\n"
     ]
    },
    {
     "name": "stderr",
     "output_type": "stream",
     "text": [
      "\r",
      " 96%|█████████▌| 767/800 [01:02<00:02, 12.29it/s]"
     ]
    },
    {
     "name": "stdout",
     "output_type": "stream",
     "text": [
      "128/128 [==============================] - 0s 47us/step\n",
      "64/64 [==============================] - 0s 124us/step\n",
      "64/64 [==============================] - 0s 62us/step\n",
      "128/128 [==============================] - 0s 53us/step\n",
      "64/64 [==============================] - 0s 83us/step\n",
      "64/64 [==============================] - 0s 80us/step\n",
      "128/128 [==============================] - 0s 52us/step\n",
      "64/64 [==============================] - 0s 53us/step\n",
      "64/64 [==============================] - 0s 56us/step\n"
     ]
    },
    {
     "name": "stderr",
     "output_type": "stream",
     "text": [
      "\r",
      " 96%|█████████▋| 770/800 [01:02<00:02, 12.31it/s]"
     ]
    },
    {
     "name": "stdout",
     "output_type": "stream",
     "text": [
      "128/128 [==============================] - 0s 62us/step\n",
      "64/64 [==============================] - 0s 75us/step\n",
      "64/64 [==============================] - 0s 55us/step\n",
      "128/128 [==============================] - 0s 58us/step\n",
      "64/64 [==============================] - 0s 53us/step\n",
      "64/64 [==============================] - 0s 69us/step\n",
      "128/128 [==============================] - 0s 56us/step\n",
      "64/64 [==============================] - 0s 72us/step\n",
      "64/64 [==============================] - 0s 92us/step\n"
     ]
    },
    {
     "name": "stderr",
     "output_type": "stream",
     "text": [
      "\r",
      " 97%|█████████▋| 773/800 [01:02<00:02, 12.34it/s]"
     ]
    },
    {
     "name": "stdout",
     "output_type": "stream",
     "text": [
      "128/128 [==============================] - 0s 44us/step\n",
      "64/64 [==============================] - 0s 68us/step\n",
      "64/64 [==============================] - 0s 102us/step\n",
      "128/128 [==============================] - 0s 48us/step\n",
      "64/64 [==============================] - 0s 56us/step\n",
      "64/64 [==============================] - 0s 86us/step\n",
      "128/128 [==============================] - 0s 48us/step\n",
      "64/64 [==============================] - 0s 82us/step\n",
      "64/64 [==============================] - 0s 63us/step\n"
     ]
    },
    {
     "name": "stderr",
     "output_type": "stream",
     "text": [
      "\r",
      " 97%|█████████▋| 776/800 [01:02<00:01, 12.37it/s]"
     ]
    },
    {
     "name": "stdout",
     "output_type": "stream",
     "text": [
      "128/128 [==============================] - 0s 47us/step\n",
      "64/64 [==============================] - 0s 80us/step\n",
      "64/64 [==============================] - 0s 54us/step\n",
      "128/128 [==============================] - 0s 53us/step\n",
      "64/64 [==============================] - 0s 74us/step\n",
      "64/64 [==============================] - 0s 58us/step\n",
      "128/128 [==============================] - 0s 50us/step\n",
      "64/64 [==============================] - 0s 89us/step\n",
      "64/64 [==============================] - 0s 71us/step\n"
     ]
    },
    {
     "name": "stderr",
     "output_type": "stream",
     "text": [
      "\r",
      " 97%|█████████▋| 779/800 [01:02<00:01, 12.39it/s]"
     ]
    },
    {
     "name": "stdout",
     "output_type": "stream",
     "text": [
      "128/128 [==============================] - 0s 57us/step\n",
      "64/64 [==============================] - 0s 55us/step\n",
      "64/64 [==============================] - 0s 93us/step\n",
      "128/128 [==============================] - 0s 61us/step\n",
      "64/64 [==============================] - 0s 54us/step\n",
      "64/64 [==============================] - 0s 72us/step\n",
      "128/128 [==============================] - 0s 46us/step\n",
      "64/64 [==============================] - 0s 50us/step\n",
      "64/64 [==============================] - 0s 92us/step\n"
     ]
    },
    {
     "name": "stderr",
     "output_type": "stream",
     "text": [
      "\r",
      " 98%|█████████▊| 782/800 [01:02<00:01, 12.42it/s]"
     ]
    },
    {
     "name": "stdout",
     "output_type": "stream",
     "text": [
      "128/128 [==============================] - 0s 44us/step\n",
      "64/64 [==============================] - 0s 57us/step\n",
      "64/64 [==============================] - 0s 72us/step\n",
      "128/128 [==============================] - 0s 48us/step\n",
      "64/64 [==============================] - 0s 83us/step\n",
      "64/64 [==============================] - 0s 89us/step\n",
      "128/128 [==============================] - 0s 46us/step\n",
      "64/64 [==============================] - 0s 56us/step\n",
      "64/64 [==============================] - 0s 79us/step\n"
     ]
    },
    {
     "name": "stderr",
     "output_type": "stream",
     "text": [
      "\r",
      " 98%|█████████▊| 785/800 [01:03<00:01, 12.45it/s]"
     ]
    },
    {
     "name": "stdout",
     "output_type": "stream",
     "text": [
      "128/128 [==============================] - 0s 51us/step\n",
      "64/64 [==============================] - 0s 65us/step\n",
      "64/64 [==============================] - 0s 81us/step\n",
      "128/128 [==============================] - 0s 46us/step\n",
      "64/64 [==============================] - 0s 87us/step\n",
      "64/64 [==============================] - 0s 76us/step\n",
      "128/128 [==============================] - 0s 53us/step\n",
      "64/64 [==============================] - 0s 55us/step\n",
      "64/64 [==============================] - 0s 61us/step\n"
     ]
    },
    {
     "name": "stderr",
     "output_type": "stream",
     "text": [
      "\r",
      " 98%|█████████▊| 788/800 [01:03<00:00, 12.47it/s]"
     ]
    },
    {
     "name": "stdout",
     "output_type": "stream",
     "text": [
      "128/128 [==============================] - 0s 61us/step\n",
      "64/64 [==============================] - 0s 80us/step\n",
      "64/64 [==============================] - 0s 61us/step\n",
      "128/128 [==============================] - 0s 53us/step\n",
      "64/64 [==============================] - 0s 50us/step\n",
      "64/64 [==============================] - 0s 68us/step\n",
      "128/128 [==============================] - 0s 56us/step\n",
      "64/64 [==============================] - 0s 57us/step\n",
      "64/64 [==============================] - 0s 60us/step\n"
     ]
    },
    {
     "name": "stderr",
     "output_type": "stream",
     "text": [
      "\r",
      " 99%|█████████▉| 791/800 [01:03<00:00, 12.50it/s]"
     ]
    },
    {
     "name": "stdout",
     "output_type": "stream",
     "text": [
      "128/128 [==============================] - 0s 54us/step\n",
      "64/64 [==============================] - 0s 58us/step\n",
      "64/64 [==============================] - 0s 106us/step\n",
      "128/128 [==============================] - 0s 57us/step\n",
      "64/64 [==============================] - 0s 62us/step\n",
      "64/64 [==============================] - 0s 77us/step\n",
      "128/128 [==============================] - 0s 57us/step\n",
      "64/64 [==============================] - 0s 80us/step\n",
      "64/64 [==============================] - 0s 63us/step\n"
     ]
    },
    {
     "name": "stderr",
     "output_type": "stream",
     "text": [
      "\r",
      " 99%|█████████▉| 794/800 [01:03<00:00, 12.53it/s]"
     ]
    },
    {
     "name": "stdout",
     "output_type": "stream",
     "text": [
      "128/128 [==============================] - 0s 69us/step\n",
      "64/64 [==============================] - 0s 66us/step\n",
      "64/64 [==============================] - 0s 59us/step\n",
      "128/128 [==============================] - 0s 47us/step\n",
      "64/64 [==============================] - 0s 64us/step\n",
      "64/64 [==============================] - 0s 85us/step\n",
      "128/128 [==============================] - 0s 49us/step\n",
      "64/64 [==============================] - 0s 55us/step\n",
      "64/64 [==============================] - 0s 70us/step\n"
     ]
    },
    {
     "name": "stderr",
     "output_type": "stream",
     "text": [
      "\r",
      "100%|█████████▉| 797/800 [01:03<00:00, 12.55it/s]"
     ]
    },
    {
     "name": "stdout",
     "output_type": "stream",
     "text": [
      "128/128 [==============================] - 0s 47us/step\n",
      "64/64 [==============================] - 0s 137us/step\n",
      "64/64 [==============================] - 0s 67us/step\n",
      "128/128 [==============================] - 0s 53us/step\n",
      "64/64 [==============================] - 0s 80us/step\n",
      "64/64 [==============================] - 0s 68us/step\n",
      "128/128 [==============================] - 0s 57us/step\n",
      "64/64 [==============================] - 0s 83us/step\n",
      "64/64 [==============================] - 0s 95us/step\n"
     ]
    },
    {
     "name": "stderr",
     "output_type": "stream",
     "text": [
      "100%|██████████| 800/800 [01:03<00:00, 12.58it/s]\n"
     ]
    }
   ],
   "source": [
    "out_dic=train_for_n_mono(**train_dic)"
   ]
  },
  {
   "cell_type": "code",
   "execution_count": 34,
   "metadata": {
    "scrolled": false
   },
   "outputs": [
    {
     "data": {
      "text/plain": [
       "<Figure size 432x288 with 0 Axes>"
      ]
     },
     "metadata": {},
     "output_type": "display_data"
    },
    {
     "data": {
      "text/plain": [
       "<Figure size 432x288 with 0 Axes>"
      ]
     },
     "metadata": {},
     "output_type": "display_data"
    },
    {
     "data": {
      "image/png": "[encoded data removed]",
      "text/plain": [
       "<Figure size 720x576 with 3 Axes>"
      ]
     },
     "metadata": {},
     "output_type": "display_data"
    }
   ],
   "source": [
    "losses=out_dic['losses']\n",
    "loss_weights=out_dic['weight_hist']\n",
    "plot_loss(losses,**{'scale_control':[[0,3],[0,3],[0,2]],'loss_weights':loss_weights})"
   ]
  },
  {
   "cell_type": "code",
   "execution_count": 16,
   "metadata": {},
   "outputs": [
    {
     "name": "stdout",
     "output_type": "stream",
     "text": [
      "0.46025641025641023\n"
     ]
    }
   ],
   "source": [
    "y_hat=Discrim.predict(np.concatenate((x_test,y_test),axis=1))\n",
    "y_idx = np.argmax(y_hat,axis=1)\n",
    "print(sum(y_idx==1)/y_idx.shape[0])"
   ]
  },
  {
   "cell_type": "code",
   "execution_count": 36,
   "metadata": {},
   "outputs": [
    {
     "data": {
      "text/plain": [
       "0.032823414"
      ]
     },
     "execution_count": 36,
     "metadata": {},
     "output_type": "execute_result"
    }
   ],
   "source": [
    "min(losses['g'][:,1])\n"
   ]
  },
  {
   "cell_type": "code",
   "execution_count": 35,
   "metadata": {},
   "outputs": [
    {
     "data": {
      "text/plain": [
       "array([0.04769225, 0.04656071, 0.04350007, 0.05066127, 0.05364427,\n",
       "       0.04156693, 0.04758102, 0.07149421, 0.05308666, 0.04608382,\n",
       "       0.04738474, 0.04999194, 0.0563816 , 0.06941475, 0.06396334,\n",
       "       0.05540591, 0.0559625 , 0.05976769, 0.07019872, 0.06379389,\n",
       "       0.05693457, 0.05612643, 0.06548133, 0.05867623, 0.05890428,\n",
       "       0.06593845, 0.06675844, 0.06496672, 0.05824478, 0.07112447,\n",
       "       0.09019043, 0.0714018 , 0.07232055, 0.08052065, 0.07738393,\n",
       "       0.06394519, 0.07415656, 0.06759201, 0.07813323, 0.06579527,\n",
       "       0.07098639, 0.07580952, 0.0632507 , 0.08201332, 0.07914069,\n",
       "       0.06142087, 0.07384225, 0.06568869, 0.0839221 , 0.07547123,\n",
       "       0.07304391, 0.06608099, 0.07730934, 0.07331479, 0.0852965 ,\n",
       "       0.07900462, 0.08137386, 0.07715166, 0.07442191, 0.08002275,\n",
       "       0.093246  , 0.0821818 , 0.08938063, 0.08145212, 0.07558376,\n",
       "       0.08808196, 0.09990821, 0.09214872, 0.07835402, 0.07909153,\n",
       "       0.08371513, 0.07750252, 0.08874057, 0.08118873, 0.09022304,\n",
       "       0.07883279, 0.09479473, 0.09445149, 0.10842112, 0.09605443,\n",
       "       0.0842533 , 0.10379265, 0.10666763, 0.10552396, 0.09293576,\n",
       "       0.08788206, 0.1062258 , 0.11200632, 0.10015145, 0.09500124,\n",
       "       0.10436578, 0.09384283, 0.1028557 , 0.09990206, 0.09520991,\n",
       "       0.09701015, 0.11067513, 0.11339833, 0.08615598, 0.10780038,\n",
       "       0.11363474, 0.11540574, 0.10664043, 0.10291688, 0.10718124,\n",
       "       0.10218398, 0.09440672, 0.1140262 , 0.09573851, 0.0985558 ,\n",
       "       0.09323131, 0.09838852, 0.10120025, 0.08859117, 0.11329243,\n",
       "       0.10198949, 0.09952014, 0.11439729, 0.12999135, 0.11578267,\n",
       "       0.11607406, 0.11646865, 0.0958176 , 0.09988789, 0.11152006,\n",
       "       0.0988958 , 0.10840902, 0.09442747, 0.11228411, 0.10833267,\n",
       "       0.10722567, 0.1009319 , 0.11522538, 0.1219853 , 0.10023097,\n",
       "       0.11277033, 0.13484985, 0.10923974, 0.11282395, 0.11722185,\n",
       "       0.11538307, 0.10254841, 0.09595434, 0.12882099, 0.11316095,\n",
       "       0.10735229, 0.09916343, 0.09401016, 0.1241555 , 0.11011231,\n",
       "       0.09595172, 0.11440502, 0.09605742, 0.09257896, 0.12574935,\n",
       "       0.11582705, 0.09920976, 0.10480104, 0.1101305 , 0.09734351,\n",
       "       0.09700716, 0.11178686, 0.10759394, 0.10479303, 0.10605744,\n",
       "       0.12775917, 0.11439098, 0.12300859, 0.09379891, 0.09056861,\n",
       "       0.12616588, 0.10073872, 0.10640509, 0.1175042 , 0.09510973,\n",
       "       0.1176588 , 0.12876223, 0.12067489, 0.09798557, 0.0902324 ,\n",
       "       0.09281017, 0.09474698, 0.10574637, 0.10072748, 0.11199609,\n",
       "       0.10038729, 0.101999  , 0.11006425, 0.1245947 , 0.1126695 ,\n",
       "       0.09710035, 0.11645254, 0.11573142, 0.1110764 , 0.10410204,\n",
       "       0.11088215, 0.09473164, 0.10888647, 0.12926498, 0.11230475,\n",
       "       0.11092433, 0.11358354, 0.13381629, 0.11495122, 0.11558166,\n",
       "       0.12194998, 0.10507962, 0.10747474, 0.12957838, 0.10915233,\n",
       "       0.1261161 , 0.11495981, 0.09956684, 0.12859063, 0.11342213,\n",
       "       0.10519338, 0.12664266, 0.12617451, 0.10321896, 0.10300917,\n",
       "       0.09944297, 0.10463513, 0.09459756, 0.09421282, 0.09782216,\n",
       "       0.09691644, 0.08835927, 0.08101051, 0.08178842, 0.09811983,\n",
       "       0.11132767, 0.09998921, 0.09948046, 0.08436242, 0.08560787,\n",
       "       0.0980993 , 0.09322131, 0.10064924, 0.08629346, 0.09426862,\n",
       "       0.08730596, 0.08705768, 0.09125401, 0.08833943, 0.08375801,\n",
       "       0.09907219, 0.11167258, 0.08263478, 0.10993207, 0.09918328,\n",
       "       0.09028494, 0.09003464, 0.09981535, 0.09522568, 0.10738057,\n",
       "       0.10403001, 0.1088019 , 0.10507873, 0.0817095 , 0.10073853,\n",
       "       0.10326052, 0.10070099, 0.08681841, 0.10478216, 0.09098725,\n",
       "       0.10866356, 0.10373734, 0.11453444, 0.08466803, 0.08093804,\n",
       "       0.10217576, 0.08571935, 0.08801599, 0.09333254, 0.09111507,\n",
       "       0.07877592, 0.10557388, 0.0806596 , 0.10281183, 0.08134171,\n",
       "       0.09907514, 0.10012177, 0.09888998, 0.08743197, 0.08956276,\n",
       "       0.0952419 , 0.08630233, 0.0957918 , 0.09125531, 0.08964671,\n",
       "       0.09237817, 0.08251302, 0.08635785, 0.07764405, 0.08935126,\n",
       "       0.09018907, 0.07841496, 0.09179349, 0.10058512, 0.08215749,\n",
       "       0.08246295, 0.08277754, 0.07399019, 0.08196134, 0.0764333 ,\n",
       "       0.08444858, 0.07262953, 0.08581463, 0.08162525, 0.07673892,\n",
       "       0.08050142, 0.0811604 , 0.07681547, 0.07637113, 0.07213002,\n",
       "       0.10022561, 0.07307229, 0.08356126, 0.08677906, 0.0676688 ,\n",
       "       0.07730884, 0.07511252, 0.07386443, 0.07189988, 0.07365923,\n",
       "       0.07864658, 0.06992063, 0.06504871, 0.07605857, 0.08073125,\n",
       "       0.06267378, 0.06882285, 0.0643327 , 0.06406745, 0.06394311,\n",
       "       0.064054  , 0.06421355, 0.06409536, 0.07069737, 0.06892502,\n",
       "       0.07087257, 0.07294409, 0.06092326, 0.06199316, 0.06306692,\n",
       "       0.05456507, 0.07896073, 0.07546889, 0.07341273, 0.07376257,\n",
       "       0.08146468, 0.06407547, 0.06579213, 0.07463515, 0.06059132,\n",
       "       0.07296368, 0.08517008, 0.06204239, 0.06891339, 0.06649245,\n",
       "       0.06671791, 0.06385793, 0.05900895, 0.05775358, 0.06298687,\n",
       "       0.05986486, 0.06207505, 0.06059524, 0.06457037, 0.05896335,\n",
       "       0.06633575, 0.05693123, 0.07568427, 0.0547123 , 0.06164705,\n",
       "       0.07731001, 0.05587452, 0.06901931, 0.05775148, 0.06130364,\n",
       "       0.07322879, 0.05891469, 0.05251539, 0.06216671, 0.06001757,\n",
       "       0.04994534, 0.0547783 , 0.0677278 , 0.05304437, 0.06067672,\n",
       "       0.05869506, 0.06666295, 0.07128415, 0.05874216, 0.05559004,\n",
       "       0.05774162, 0.05238654, 0.0650131 , 0.06739461, 0.05737627,\n",
       "       0.06606506, 0.05158208, 0.05173773, 0.04543447, 0.05829712,\n",
       "       0.05391994, 0.06260791, 0.05863462, 0.04983937, 0.05513647,\n",
       "       0.07176426, 0.05102231, 0.05183777, 0.06120604, 0.0513733 ,\n",
       "       0.07472654, 0.0714032 , 0.0577805 , 0.04367456, 0.06233089,\n",
       "       0.06963012, 0.05066541, 0.05256424, 0.05472472, 0.06509968,\n",
       "       0.05143467, 0.05707219, 0.04788216, 0.0568209 , 0.05453172,\n",
       "       0.04960743, 0.05770893, 0.05712712, 0.05519017, 0.05588989,\n",
       "       0.04767412, 0.06596056, 0.06071662, 0.05353566, 0.05025293,\n",
       "       0.05968384, 0.05936908, 0.06931653, 0.05516152, 0.05561863,\n",
       "       0.06072949, 0.06387312, 0.05936293, 0.05350455, 0.04721418,\n",
       "       0.06143579, 0.05797852, 0.05167215, 0.04662093, 0.05851729,\n",
       "       0.05090405, 0.04702166, 0.05342539, 0.05543537, 0.047687  ,\n",
       "       0.06766486, 0.05387619, 0.05915409, 0.05215236, 0.04630399,\n",
       "       0.06240916, 0.04526351, 0.04938973, 0.05341806, 0.04516463,\n",
       "       0.0543783 , 0.04946631, 0.04726715, 0.0497356 , 0.06906   ,\n",
       "       0.05347192, 0.04309178, 0.04916462, 0.06688772, 0.05357457,\n",
       "       0.04724179, 0.05001504, 0.04408235, 0.0562393 , 0.04901978,\n",
       "       0.05746868, 0.0428879 , 0.05723066, 0.05301624, 0.05569377,\n",
       "       0.04606078, 0.05183637, 0.04206758, 0.05654747, 0.05057701,\n",
       "       0.04219851, 0.05021956, 0.04623004, 0.04931539, 0.0458577 ,\n",
       "       0.04567268, 0.04365365, 0.0568474 , 0.04766633, 0.04392409,\n",
       "       0.0457534 , 0.05246063, 0.05803891, 0.06117462, 0.0518277 ,\n",
       "       0.05863014, 0.06680309, 0.05287684, 0.05831659, 0.04884186,\n",
       "       0.0597626 , 0.04536122, 0.04482842, 0.05044586, 0.04922731,\n",
       "       0.05566255, 0.05034156, 0.05928001, 0.05742316, 0.05190813,\n",
       "       0.04913826, 0.04832639, 0.04079041, 0.04935686, 0.05396887,\n",
       "       0.05575129, 0.0430773 , 0.05852876, 0.04791924, 0.05106964,\n",
       "       0.04992637, 0.04464282, 0.0466309 , 0.05009325, 0.05148093,\n",
       "       0.04528062, 0.03979218, 0.06589401, 0.05013276, 0.04866107,\n",
       "       0.04415106, 0.04675705, 0.04668337, 0.0613286 , 0.06553663,\n",
       "       0.04889376, 0.03937323, 0.04629722, 0.052652  , 0.05289014,\n",
       "       0.06422206, 0.03839365, 0.04365705, 0.05308605, 0.06028861,\n",
       "       0.0507917 , 0.05483424, 0.05394291, 0.04767586, 0.04316352,\n",
       "       0.04818895, 0.03933547, 0.04320495, 0.04825886, 0.05044112,\n",
       "       0.04639924, 0.04941735, 0.04689104, 0.05336646, 0.05348342,\n",
       "       0.04276518, 0.05103922, 0.05040697, 0.0415282 , 0.03282341,\n",
       "       0.06045084, 0.05560169, 0.04464173, 0.04256584, 0.04639652,\n",
       "       0.06022527, 0.05640997, 0.06173058, 0.05303723, 0.05757757,\n",
       "       0.05170915, 0.04895088, 0.05431474, 0.04552144, 0.06005403,\n",
       "       0.05141163, 0.07219173, 0.05832287, 0.05734989, 0.03665814,\n",
       "       0.05312679, 0.0435951 , 0.04223556, 0.04079593, 0.07099257,\n",
       "       0.04324157, 0.05945515, 0.04386351, 0.04663787, 0.04384002,\n",
       "       0.04217161, 0.04853477, 0.0565074 , 0.0434145 , 0.03859731,\n",
       "       0.04055472, 0.05137263, 0.04161074, 0.04019542, 0.04417273,\n",
       "       0.04651491, 0.05322301, 0.04433694, 0.0519729 , 0.04900409,\n",
       "       0.04279475, 0.0451357 , 0.06475984, 0.05041235, 0.05197003,\n",
       "       0.06150447, 0.06184258, 0.04652172, 0.05613662, 0.04828358,\n",
       "       0.04795489, 0.04411437, 0.05176445, 0.043244  , 0.05522357,\n",
       "       0.04449135, 0.0553503 , 0.04485675, 0.0438124 , 0.05000368,\n",
       "       0.04594027, 0.04188783, 0.04825582, 0.06260423, 0.04719824,\n",
       "       0.0520128 , 0.05441778, 0.05033421, 0.04949047, 0.05742077,\n",
       "       0.04198387, 0.04857817, 0.04351957, 0.05512394, 0.04641757,\n",
       "       0.05442632, 0.04191198, 0.05750495, 0.05112161, 0.05038674,\n",
       "       0.04522912, 0.04554285, 0.06096834, 0.04952106, 0.04337831,\n",
       "       0.04889589, 0.05836791, 0.04259989, 0.04418451, 0.0470268 ,\n",
       "       0.05266676, 0.05459705, 0.04080235, 0.04700511, 0.04019322,\n",
       "       0.05684168, 0.05137618, 0.04092045, 0.05981426, 0.04312834,\n",
       "       0.04912206, 0.03896225, 0.06905743, 0.04763019, 0.03727211,\n",
       "       0.04890889, 0.04403049, 0.04374615, 0.05972565, 0.04554815,\n",
       "       0.04757998, 0.04479869, 0.04227639, 0.04479189, 0.04443365,\n",
       "       0.05063567, 0.03966033, 0.05033425, 0.0379946 , 0.05117258,\n",
       "       0.04381988, 0.0470947 , 0.05366276, 0.05120831, 0.04784444,\n",
       "       0.0565996 , 0.06095631, 0.05225118, 0.04787968, 0.05232022,\n",
       "       0.06556496, 0.05327069, 0.0560726 , 0.0427774 , 0.04465951,\n",
       "       0.0498911 , 0.05790833, 0.05378043, 0.04139678, 0.05581226,\n",
       "       0.05230427, 0.0457556 , 0.05698173, 0.0550455 , 0.04757873,\n",
       "       0.05196686, 0.04883675, 0.04647545, 0.06526031, 0.04160933,\n",
       "       0.04948209, 0.03514166, 0.04404045, 0.05737299, 0.05867369,\n",
       "       0.04860032, 0.04696614, 0.04058168, 0.05876622, 0.05660963,\n",
       "       0.05236803, 0.03799408, 0.05057425, 0.05770481, 0.04806018,\n",
       "       0.03580843, 0.03874422, 0.04962973, 0.04757921, 0.03943527,\n",
       "       0.0516073 , 0.0521276 , 0.05002702, 0.07234341, 0.0487281 ,\n",
       "       0.05165534, 0.04942386, 0.05287167, 0.04059774, 0.05591533,\n",
       "       0.05021868, 0.05075427, 0.04528995, 0.04086284, 0.04375319,\n",
       "       0.04333891, 0.04507295, 0.05165159, 0.04162801, 0.06095645,\n",
       "       0.0502489 , 0.0441421 , 0.0680148 , 0.06509678, 0.04845218,\n",
       "       0.04098393, 0.04278986, 0.0521589 , 0.05730808, 0.05393036,\n",
       "       0.04753105, 0.04479789, 0.04579554, 0.04542197, 0.05860104,\n",
       "       0.05382844, 0.04830062, 0.05926812, 0.05068587, 0.07086903,\n",
       "       0.04431095, 0.05426448, 0.04690244, 0.04646191, 0.05228723],\n",
       "      dtype=float32)"
      ]
     },
     "execution_count": 35,
     "metadata": {},
     "output_type": "execute_result"
    }
   ],
   "source": [
    "losses['g'][:,1]"
   ]
  },
  {
   "cell_type": "code",
   "execution_count": 21,
   "metadata": {},
   "outputs": [
    {
     "data": {
      "text/plain": [
       "0.4307692307692308"
      ]
     },
     "execution_count": 21,
     "metadata": {},
     "output_type": "execute_result"
    }
   ],
   "source": [
    "from fake_financial import make_fake_data\n",
    "x_fake=make_fake_data(np.concatenate((x_test,y_test),axis=1),idx_test,ds,num_fakes=780,method='hard',var_scale=1)\n",
    "y_hat=Discrim.predict(x_fake)\n",
    "y_idx = np.argmax(y_hat,axis=1)\n",
    "sum(y_idx==1)/y_idx.shape[0]"
   ]
  },
  {
   "cell_type": "code",
   "execution_count": 20,
   "metadata": {},
   "outputs": [
    {
     "data": {
      "text/plain": [
       "array([[0.5233099 , 0.4766901 ],\n",
       "       [0.47818777, 0.5218122 ],\n",
       "       [0.52644485, 0.47355518],\n",
       "       ...,\n",
       "       [0.45429745, 0.5457025 ],\n",
       "       [0.5085494 , 0.4914506 ],\n",
       "       [0.48553014, 0.51446986]], dtype=float32)"
      ]
     },
     "execution_count": 20,
     "metadata": {},
     "output_type": "execute_result"
    }
   ],
   "source": [
    "y_hat"
   ]
  },
  {
   "cell_type": "code",
   "execution_count": 21,
   "metadata": {
    "scrolled": true
   },
   "outputs": [
    {
     "data": {
      "text/html": [
       "<div>\n",
       "<style scoped>\n",
       "    .dataframe tbody tr th:only-of-type {\n",
       "        vertical-align: middle;\n",
       "    }\n",
       "\n",
       "    .dataframe tbody tr th {\n",
       "        vertical-align: top;\n",
       "    }\n",
       "\n",
       "    .dataframe thead th {\n",
       "        text-align: right;\n",
       "    }\n",
       "</style>\n",
       "<table border=\"1\" class=\"dataframe\">\n",
       "  <thead>\n",
       "    <tr style=\"text-align: right;\">\n",
       "      <th></th>\n",
       "      <th>fakes</th>\n",
       "      <th>originals</th>\n",
       "    </tr>\n",
       "  </thead>\n",
       "  <tbody>\n",
       "    <tr>\n",
       "      <th>Revenues</th>\n",
       "      <td>0.000738</td>\n",
       "      <td>0.000738</td>\n",
       "    </tr>\n",
       "    <tr>\n",
       "      <th>Assets</th>\n",
       "      <td>1.286911</td>\n",
       "      <td>1.363987</td>\n",
       "    </tr>\n",
       "    <tr>\n",
       "      <th>pAssets</th>\n",
       "      <td>1.017834</td>\n",
       "      <td>1.000000</td>\n",
       "    </tr>\n",
       "    <tr>\n",
       "      <th>pCashAndCashEquivalentsAtCarryingValue</th>\n",
       "      <td>0.265956</td>\n",
       "      <td>0.371226</td>\n",
       "    </tr>\n",
       "    <tr>\n",
       "      <th>CashAndCashEquivalentsAtCarryingValue</th>\n",
       "      <td>0.285897</td>\n",
       "      <td>0.254667</td>\n",
       "    </tr>\n",
       "    <tr>\n",
       "      <th>LiabilitiesAndStockholdersEquity</th>\n",
       "      <td>1.308001</td>\n",
       "      <td>1.363987</td>\n",
       "    </tr>\n",
       "    <tr>\n",
       "      <th>pLiabilitiesAndStockholdersEquity</th>\n",
       "      <td>1.026067</td>\n",
       "      <td>1.000000</td>\n",
       "    </tr>\n",
       "    <tr>\n",
       "      <th>NetIncomeLoss</th>\n",
       "      <td>0.200731</td>\n",
       "      <td>0.071316</td>\n",
       "    </tr>\n",
       "    <tr>\n",
       "      <th>pNetIncomeLoss</th>\n",
       "      <td>0.179337</td>\n",
       "      <td>0.395014</td>\n",
       "    </tr>\n",
       "    <tr>\n",
       "      <th>pStockholdersEquity</th>\n",
       "      <td>0.904508</td>\n",
       "      <td>0.852010</td>\n",
       "    </tr>\n",
       "    <tr>\n",
       "      <th>StockholdersEquity</th>\n",
       "      <td>1.052302</td>\n",
       "      <td>0.993095</td>\n",
       "    </tr>\n",
       "    <tr>\n",
       "      <th>AssetsCurrent</th>\n",
       "      <td>0.809107</td>\n",
       "      <td>0.827269</td>\n",
       "    </tr>\n",
       "    <tr>\n",
       "      <th>pAssetsCurrent</th>\n",
       "      <td>0.638016</td>\n",
       "      <td>0.780384</td>\n",
       "    </tr>\n",
       "    <tr>\n",
       "      <th>LiabilitiesCurrent</th>\n",
       "      <td>0.211613</td>\n",
       "      <td>0.183303</td>\n",
       "    </tr>\n",
       "    <tr>\n",
       "      <th>pLiabilitiesCurrent</th>\n",
       "      <td>0.158476</td>\n",
       "      <td>0.146514</td>\n",
       "    </tr>\n",
       "    <tr>\n",
       "      <th>OperatingIncomeLoss</th>\n",
       "      <td>0.215537</td>\n",
       "      <td>0.075293</td>\n",
       "    </tr>\n",
       "    <tr>\n",
       "      <th>pOperatingIncomeLoss</th>\n",
       "      <td>0.187288</td>\n",
       "      <td>0.353534</td>\n",
       "    </tr>\n",
       "    <tr>\n",
       "      <th>pCashAndCashEquivalentsPeriodIncreaseDecrease</th>\n",
       "      <td>0.057642</td>\n",
       "      <td>0.039837</td>\n",
       "    </tr>\n",
       "    <tr>\n",
       "      <th>CashAndCashEquivalentsPeriodIncreaseDecrease</th>\n",
       "      <td>0.022698</td>\n",
       "      <td>-0.116559</td>\n",
       "    </tr>\n",
       "    <tr>\n",
       "      <th>RetainedEarningsAccumulatedDeficit</th>\n",
       "      <td>0.321950</td>\n",
       "      <td>0.397371</td>\n",
       "    </tr>\n",
       "    <tr>\n",
       "      <th>pRetainedEarningsAccumulatedDeficit</th>\n",
       "      <td>0.288091</td>\n",
       "      <td>0.348367</td>\n",
       "    </tr>\n",
       "    <tr>\n",
       "      <th>PropertyPlantAndEquipmentNet</th>\n",
       "      <td>0.064277</td>\n",
       "      <td>0.045290</td>\n",
       "    </tr>\n",
       "    <tr>\n",
       "      <th>pPropertyPlantAndEquipmentNet</th>\n",
       "      <td>0.036344</td>\n",
       "      <td>0.047862</td>\n",
       "    </tr>\n",
       "    <tr>\n",
       "      <th>CommonStockValue</th>\n",
       "      <td>0.000254</td>\n",
       "      <td>0.000524</td>\n",
       "    </tr>\n",
       "    <tr>\n",
       "      <th>pCommonStockValue</th>\n",
       "      <td>-0.005687</td>\n",
       "      <td>0.000405</td>\n",
       "    </tr>\n",
       "    <tr>\n",
       "      <th>pNetCashProvidedByUsedInOperatingActivities</th>\n",
       "      <td>0.176697</td>\n",
       "      <td>0.275788</td>\n",
       "    </tr>\n",
       "    <tr>\n",
       "      <th>NetCashProvidedByUsedInOperatingActivities</th>\n",
       "      <td>0.230652</td>\n",
       "      <td>-0.014359</td>\n",
       "    </tr>\n",
       "    <tr>\n",
       "      <th>IncomeTaxExpenseBenefit</th>\n",
       "      <td>0.040017</td>\n",
       "      <td>0.024645</td>\n",
       "    </tr>\n",
       "    <tr>\n",
       "      <th>pIncomeTaxExpenseBenefit</th>\n",
       "      <td>0.043921</td>\n",
       "      <td>0.008382</td>\n",
       "    </tr>\n",
       "    <tr>\n",
       "      <th>pNetCashProvidedByUsedInFinancingActivities</th>\n",
       "      <td>-0.076194</td>\n",
       "      <td>-0.018264</td>\n",
       "    </tr>\n",
       "    <tr>\n",
       "      <th>...</th>\n",
       "      <td>...</td>\n",
       "      <td>...</td>\n",
       "    </tr>\n",
       "    <tr>\n",
       "      <th>pOperatingExpenses</th>\n",
       "      <td>0.176786</td>\n",
       "      <td>0.185018</td>\n",
       "    </tr>\n",
       "    <tr>\n",
       "      <th>IncreaseDecreaseInAccountsPayable</th>\n",
       "      <td>0.004254</td>\n",
       "      <td>0.000643</td>\n",
       "    </tr>\n",
       "    <tr>\n",
       "      <th>pIncreaseDecreaseInAccountsPayable</th>\n",
       "      <td>-0.008368</td>\n",
       "      <td>-0.002929</td>\n",
       "    </tr>\n",
       "    <tr>\n",
       "      <th>IncomeLossFromContinuingOperationsBeforeIncomeTaxesMinorityInterestAndIncomeLossFromEquityMethodInvestments</th>\n",
       "      <td>0.197930</td>\n",
       "      <td>0.096081</td>\n",
       "    </tr>\n",
       "    <tr>\n",
       "      <th>pIncomeLossFromContinuingOperationsBeforeIncomeTaxesMinorityInterestAndIncomeLossFromEquityMethodInvestments</th>\n",
       "      <td>0.199698</td>\n",
       "      <td>0.398300</td>\n",
       "    </tr>\n",
       "    <tr>\n",
       "      <th>GeneralAndAdministrativeExpense</th>\n",
       "      <td>0.080291</td>\n",
       "      <td>0.188208</td>\n",
       "    </tr>\n",
       "    <tr>\n",
       "      <th>pGeneralAndAdministrativeExpense</th>\n",
       "      <td>0.058060</td>\n",
       "      <td>0.082389</td>\n",
       "    </tr>\n",
       "    <tr>\n",
       "      <th>AdditionalPaidInCapital</th>\n",
       "      <td>0.510355</td>\n",
       "      <td>0.494023</td>\n",
       "    </tr>\n",
       "    <tr>\n",
       "      <th>pAdditionalPaidInCapital</th>\n",
       "      <td>0.479528</td>\n",
       "      <td>0.443233</td>\n",
       "    </tr>\n",
       "    <tr>\n",
       "      <th>OtherNonoperatingIncomeExpense</th>\n",
       "      <td>0.005264</td>\n",
       "      <td>0.020788</td>\n",
       "    </tr>\n",
       "    <tr>\n",
       "      <th>pOtherNonoperatingIncomeExpense</th>\n",
       "      <td>0.001259</td>\n",
       "      <td>0.044766</td>\n",
       "    </tr>\n",
       "    <tr>\n",
       "      <th>pRevenues</th>\n",
       "      <td>0.865368</td>\n",
       "      <td>0.962544</td>\n",
       "    </tr>\n",
       "    <tr>\n",
       "      <th>ResearchAndDevelopmentExpense</th>\n",
       "      <td>0.039747</td>\n",
       "      <td>0.050767</td>\n",
       "    </tr>\n",
       "    <tr>\n",
       "      <th>pResearchAndDevelopmentExpense</th>\n",
       "      <td>0.044062</td>\n",
       "      <td>0.021597</td>\n",
       "    </tr>\n",
       "    <tr>\n",
       "      <th>pEffectOfExchangeRateOnCashAndCashEquivalents</th>\n",
       "      <td>0.016340</td>\n",
       "      <td>0.005501</td>\n",
       "    </tr>\n",
       "    <tr>\n",
       "      <th>EffectOfExchangeRateOnCashAndCashEquivalents</th>\n",
       "      <td>0.002537</td>\n",
       "      <td>0.007382</td>\n",
       "    </tr>\n",
       "    <tr>\n",
       "      <th>NonoperatingIncomeExpense</th>\n",
       "      <td>0.033251</td>\n",
       "      <td>0.000119</td>\n",
       "    </tr>\n",
       "    <tr>\n",
       "      <th>pNonoperatingIncomeExpense</th>\n",
       "      <td>0.002947</td>\n",
       "      <td>0.000143</td>\n",
       "    </tr>\n",
       "    <tr>\n",
       "      <th>IncomeTaxesPaid</th>\n",
       "      <td>0.053228</td>\n",
       "      <td>0.007596</td>\n",
       "    </tr>\n",
       "    <tr>\n",
       "      <th>pIncomeTaxesPaid</th>\n",
       "      <td>0.029122</td>\n",
       "      <td>0.034146</td>\n",
       "    </tr>\n",
       "    <tr>\n",
       "      <th>IntangibleAssetsNetExcludingGoodwill</th>\n",
       "      <td>0.073890</td>\n",
       "      <td>0.194090</td>\n",
       "    </tr>\n",
       "    <tr>\n",
       "      <th>pIntangibleAssetsNetExcludingGoodwill</th>\n",
       "      <td>0.073145</td>\n",
       "      <td>0.001214</td>\n",
       "    </tr>\n",
       "    <tr>\n",
       "      <th>ProfitLoss</th>\n",
       "      <td>0.201642</td>\n",
       "      <td>0.066221</td>\n",
       "    </tr>\n",
       "    <tr>\n",
       "      <th>pProfitLoss</th>\n",
       "      <td>0.198916</td>\n",
       "      <td>0.389918</td>\n",
       "    </tr>\n",
       "    <tr>\n",
       "      <th>DeferredTaxLiabilitiesNoncurrent</th>\n",
       "      <td>0.005868</td>\n",
       "      <td>0.045076</td>\n",
       "    </tr>\n",
       "    <tr>\n",
       "      <th>StockholdersEquityIncludingPortionAttributableToNoncontrollingInterest</th>\n",
       "      <td>0.871950</td>\n",
       "      <td>1.132346</td>\n",
       "    </tr>\n",
       "    <tr>\n",
       "      <th>pStockholdersEquityIncludingPortionAttributableToNoncontrollingInterest</th>\n",
       "      <td>0.693496</td>\n",
       "      <td>0.850343</td>\n",
       "    </tr>\n",
       "    <tr>\n",
       "      <th>pInvestmentIncomeInterest</th>\n",
       "      <td>-0.001996</td>\n",
       "      <td>0.000310</td>\n",
       "    </tr>\n",
       "    <tr>\n",
       "      <th>InvestmentIncomeInterest</th>\n",
       "      <td>0.009031</td>\n",
       "      <td>0.000310</td>\n",
       "    </tr>\n",
       "    <tr>\n",
       "      <th>OtherAssetsCurrent</th>\n",
       "      <td>0.009362</td>\n",
       "      <td>0.003072</td>\n",
       "    </tr>\n",
       "  </tbody>\n",
       "</table>\n",
       "<p>84 rows × 2 columns</p>\n",
       "</div>"
      ],
      "text/plain": [
       "                                                       fakes  originals\n",
       "Revenues                                            0.000738   0.000738\n",
       "Assets                                              1.286911   1.363987\n",
       "pAssets                                             1.017834   1.000000\n",
       "pCashAndCashEquivalentsAtCarryingValue              0.265956   0.371226\n",
       "CashAndCashEquivalentsAtCarryingValue               0.285897   0.254667\n",
       "LiabilitiesAndStockholdersEquity                    1.308001   1.363987\n",
       "pLiabilitiesAndStockholdersEquity                   1.026067   1.000000\n",
       "NetIncomeLoss                                       0.200731   0.071316\n",
       "pNetIncomeLoss                                      0.179337   0.395014\n",
       "pStockholdersEquity                                 0.904508   0.852010\n",
       "StockholdersEquity                                  1.052302   0.993095\n",
       "AssetsCurrent                                       0.809107   0.827269\n",
       "pAssetsCurrent                                      0.638016   0.780384\n",
       "LiabilitiesCurrent                                  0.211613   0.183303\n",
       "pLiabilitiesCurrent                                 0.158476   0.146514\n",
       "OperatingIncomeLoss                                 0.215537   0.075293\n",
       "pOperatingIncomeLoss                                0.187288   0.353534\n",
       "pCashAndCashEquivalentsPeriodIncreaseDecrease       0.057642   0.039837\n",
       "CashAndCashEquivalentsPeriodIncreaseDecrease        0.022698  -0.116559\n",
       "RetainedEarningsAccumulatedDeficit                  0.321950   0.397371\n",
       "pRetainedEarningsAccumulatedDeficit                 0.288091   0.348367\n",
       "PropertyPlantAndEquipmentNet                        0.064277   0.045290\n",
       "pPropertyPlantAndEquipmentNet                       0.036344   0.047862\n",
       "CommonStockValue                                    0.000254   0.000524\n",
       "pCommonStockValue                                  -0.005687   0.000405\n",
       "pNetCashProvidedByUsedInOperatingActivities         0.176697   0.275788\n",
       "NetCashProvidedByUsedInOperatingActivities          0.230652  -0.014359\n",
       "IncomeTaxExpenseBenefit                             0.040017   0.024645\n",
       "pIncomeTaxExpenseBenefit                            0.043921   0.008382\n",
       "pNetCashProvidedByUsedInFinancingActivities        -0.076194  -0.018264\n",
       "...                                                      ...        ...\n",
       "pOperatingExpenses                                  0.176786   0.185018\n",
       "IncreaseDecreaseInAccountsPayable                   0.004254   0.000643\n",
       "pIncreaseDecreaseInAccountsPayable                 -0.008368  -0.002929\n",
       "IncomeLossFromContinuingOperationsBeforeIncomeT...  0.197930   0.096081\n",
       "pIncomeLossFromContinuingOperationsBeforeIncome...  0.199698   0.398300\n",
       "GeneralAndAdministrativeExpense                     0.080291   0.188208\n",
       "pGeneralAndAdministrativeExpense                    0.058060   0.082389\n",
       "AdditionalPaidInCapital                             0.510355   0.494023\n",
       "pAdditionalPaidInCapital                            0.479528   0.443233\n",
       "OtherNonoperatingIncomeExpense                      0.005264   0.020788\n",
       "pOtherNonoperatingIncomeExpense                     0.001259   0.044766\n",
       "pRevenues                                           0.865368   0.962544\n",
       "ResearchAndDevelopmentExpense                       0.039747   0.050767\n",
       "pResearchAndDevelopmentExpense                      0.044062   0.021597\n",
       "pEffectOfExchangeRateOnCashAndCashEquivalents       0.016340   0.005501\n",
       "EffectOfExchangeRateOnCashAndCashEquivalents        0.002537   0.007382\n",
       "NonoperatingIncomeExpense                           0.033251   0.000119\n",
       "pNonoperatingIncomeExpense                          0.002947   0.000143\n",
       "IncomeTaxesPaid                                     0.053228   0.007596\n",
       "pIncomeTaxesPaid                                    0.029122   0.034146\n",
       "IntangibleAssetsNetExcludingGoodwill                0.073890   0.194090\n",
       "pIntangibleAssetsNetExcludingGoodwill               0.073145   0.001214\n",
       "ProfitLoss                                          0.201642   0.066221\n",
       "pProfitLoss                                         0.198916   0.389918\n",
       "DeferredTaxLiabilitiesNoncurrent                    0.005868   0.045076\n",
       "StockholdersEquityIncludingPortionAttributableT...  0.871950   1.132346\n",
       "pStockholdersEquityIncludingPortionAttributable...  0.693496   0.850343\n",
       "pInvestmentIncomeInterest                          -0.001996   0.000310\n",
       "InvestmentIncomeInterest                            0.009031   0.000310\n",
       "OtherAssetsCurrent                                  0.009362   0.003072\n",
       "\n",
       "[84 rows x 2 columns]"
      ]
     },
     "execution_count": 21,
     "metadata": {},
     "output_type": "execute_result"
    }
   ],
   "source": [
    "import pandas as pd\n",
    "i=64\n",
    "composed_imgs=Generator.predict([x_test,y_test])\n",
    "idx=np.hstack(('Revenues',cols[0:199]))\n",
    "orig=np.hstack((y_test[i],x_test[i,:]))\n",
    "fakes=np.hstack((composed_imgs[i][-1],composed_imgs[i][0:-1]))\n",
    "#orig[orig!=0]\n",
    "#pd.DataFrame({'originals':orig[orig!=0],'fakes':fakes[orig!=0]},index=idx[orig!=0])\n",
    "df=pd.DataFrame({'originals':orig,'fakes':fakes},index=idx)\n",
    "df[df.originals!=0]"
   ]
  },
  {
   "cell_type": "code",
   "execution_count": 15,
   "metadata": {},
   "outputs": [
    {
     "data": {
      "text/plain": [
       "array([1, 1, 1, 1, 1, 1, 1, 1, 1, 1])"
      ]
     },
     "execution_count": 15,
     "metadata": {},
     "output_type": "execute_result"
    }
   ],
   "source": [
    "np.random.binomial(1,0.9,size=(10))"
   ]
  },
  {
   "cell_type": "code",
   "execution_count": null,
   "metadata": {},
   "outputs": [],
   "source": []
  }
 ],
 "metadata": {
  "kernelspec": {
   "display_name": "Python 3",
   "language": "python",
   "name": "python3"
  },
  "language_info": {
   "codemirror_mode": {
    "name": "ipython",
    "version": 3
   },
   "file_extension": ".py",
   "mimetype": "text/x-python",
   "name": "python",
   "nbconvert_exporter": "python",
   "pygments_lexer": "ipython3",
   "version": "3.5.5"
  }
 },
 "nbformat": 4,
 "nbformat_minor": 2
}
