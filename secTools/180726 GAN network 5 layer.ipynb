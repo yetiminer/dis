{
 "cells": [
  {
   "cell_type": "code",
   "execution_count": 1,
   "metadata": {},
   "outputs": [
    {
     "name": "stderr",
     "output_type": "stream",
     "text": [
      "/home/anywayed/anaconda3/envs/keras/lib/python3.5/site-packages/h5py/__init__.py:36: FutureWarning: Conversion of the second argument of issubdtype from `float` to `np.floating` is deprecated. In future, it will be treated as `np.float64 == np.dtype(float).type`.\n",
      "  from ._conv import register_converters as _register_converters\n",
      "Using TensorFlow backend.\n"
     ]
    }
   ],
   "source": [
    "from numpy.random import seed\n",
    "seed(35)\n",
    "from tensorflow import set_random_seed\n",
    "set_random_seed(35)\n",
    "\n",
    "from keras import backend as K\n",
    "from keras.callbacks import EarlyStopping, Callback\n",
    "from keras.losses import  binary_crossentropy\n",
    "\n",
    "import numpy as np\n",
    "import pandas as pd\n",
    "import matplotlib.pyplot as plt\n",
    "import argparse\n",
    "import os\n",
    "\n",
    "from custom_loss import (recon_loss_abs, make_recon_loss_combi,sparse_recon_loss_abs,\n",
    "                         make_sparse_recon_loss_combi,\n",
    "                         sparse_recon_loss_mse, make_sparse_recon_loss_var)\n",
    "\n",
    "from Autoencoders import autoencoder\n",
    "\n",
    "from general_loader import ds_from_db\n",
    "from data_manipulation import remove_outlier, augment_x_linear,augment_x,split_data_X_Y\n",
    "from sklearn.model_selection import train_test_split\n",
    "from keras.optimizers import Adam\n",
    "from keras.initializers import glorot_normal\n"
   ]
  },
  {
   "cell_type": "code",
   "execution_count": 2,
   "metadata": {},
   "outputs": [],
   "source": [
    "from gan_nw_2 import generator_nw_5,discriminator_nw,gan_nw, discriminator_nw_4\n",
    "from gan_utils import Discrim_pre_train, train_for_n, plot_loss, train_for_n_mono"
   ]
  },
  {
   "cell_type": "code",
   "execution_count": 3,
   "metadata": {},
   "outputs": [
    {
     "name": "stdout",
     "output_type": "stream",
     "text": [
      "Number of records dropped where no normaliser: 326\n",
      "Number of records dropped where no normaliser: 119\n"
     ]
    }
   ],
   "source": [
    "ds_dic={'pickle_file':'ds180704'}\n",
    "ds=ds_from_db(**ds_dic)\n",
    "ds.normalise(['pAssets','pLiabilitiesAndStockholdersEquity'],reorder=True,inplace=True)\n",
    "ds.normalise(['pAssets','pLiabilitiesAndStockholdersEquity'],reorder=True,inplace=True)"
   ]
  },
  {
   "cell_type": "code",
   "execution_count": 4,
   "metadata": {},
   "outputs": [
    {
     "name": "stderr",
     "output_type": "stream",
     "text": [
      "/home/anywayed/Documents/dis/secTools/data_manipulation.py:32: RuntimeWarning: invalid value encountered in greater\n",
      "  X[np.abs(X)>level_x]=np.nan\n"
     ]
    }
   ],
   "source": [
    "X,Y,idx,cols=split_data_X_Y(ds.FT.replace([np.inf, -np.inf], np.nan),['Revenues'])\n",
    "XY,idx=remove_outlier(np.concatenate((X,Y),axis=1),2.5,Y=idx,y_thresh=True)\n",
    "X[np.isnan(X)]=0\n",
    "\n",
    "#dump zero y rows\n",
    "tf=XY[:,200]!=0\n",
    "XY=XY[tf]\n",
    "idx=idx[tf]\n",
    "\n",
    "#check there is at least one dp for every record\n",
    "assert all(np.sum(XY!=0,axis=1)>0)\n",
    "\n",
    "\n",
    "\n",
    "amal_train,amal_test,idx_train,idx_test=train_test_split(XY,idx,test_size=0.25,random_state=30)\n",
    "x_train=amal_train[:,0:199]\n",
    "x_test=amal_test[:,0:199]\n",
    "y_test=amal_test[:,200].reshape((x_test.shape[0],1))\n",
    "y_train=amal_train[:,200].reshape((x_train.shape[0],1))"
   ]
  },
  {
   "cell_type": "code",
   "execution_count": 5,
   "metadata": {},
   "outputs": [],
   "source": [
    "sparse_recon_loss_combi=make_sparse_recon_loss_combi(0.8)\n",
    "sparse_recon_loss_var=make_sparse_recon_loss_var(sparse_recon_loss_combi)\n",
    "\n",
    "loss=sparse_recon_loss_combi\n",
    "\n",
    "metrics=[sparse_recon_loss_mse,sparse_recon_loss_abs,sparse_recon_loss_var]\n",
    "\n",
    "#early stop setting below is default but explicitly stated here\n",
    "ES=EarlyStopping(monitor='sparse_recon_loss_combi_loss', min_delta=0.0001, patience=5, verbose=1, mode='auto')\n",
    "\n",
    "\n",
    "train_dic={\n",
    "           'epochs':100,'batch_size':128\n",
    "          }"
   ]
  },
  {
   "cell_type": "code",
   "execution_count": 6,
   "metadata": {},
   "outputs": [],
   "source": [
    "ker_init=glorot_normal(seed=22)\n",
    "layer_p_dic={'drop_ra':0.1, 'g_noise':0.05, 'ker_init':ker_init}\n",
    "nodes=[32,16,4,16,32]"
   ]
  },
  {
   "cell_type": "code",
   "execution_count": 7,
   "metadata": {},
   "outputs": [
    {
     "name": "stdout",
     "output_type": "stream",
     "text": [
      "__________________________________________________________________________________________________\n",
      "Layer (type)                    Output Shape         Param #     Connected to                     \n",
      "==================================================================================================\n",
      "financial_cond_input (InputLaye (None, 199)          0                                            \n",
      "__________________________________________________________________________________________________\n",
      "financial_manip (InputLayer)    (None, 1)            0                                            \n",
      "__________________________________________________________________________________________________\n",
      "concatenate_1 (Concatenate)     (None, 200)          0           financial_cond_input[0][0]       \n",
      "                                                                 financial_manip[0][0]            \n",
      "__________________________________________________________________________________________________\n",
      "H1_dropout (Dropout)            (None, 200)          0           concatenate_1[0][0]              \n",
      "__________________________________________________________________________________________________\n",
      "H1_noise (GaussianNoise)        (None, 200)          0           H1_dropout[0][0]                 \n",
      "__________________________________________________________________________________________________\n",
      "H1_layer (Dense)                (None, 32)           6432        H1_noise[0][0]                   \n",
      "__________________________________________________________________________________________________\n",
      "H1_activation (PReLU)           (None, 32)           32          H1_layer[0][0]                   \n",
      "__________________________________________________________________________________________________\n",
      "H1_batch_norm (BatchNormalizati (None, 32)           128         H1_activation[0][0]              \n",
      "__________________________________________________________________________________________________\n",
      "H2_dropout (Dropout)            (None, 32)           0           H1_batch_norm[0][0]              \n",
      "__________________________________________________________________________________________________\n",
      "H12_noise (GaussianNoise)       (None, 32)           0           H2_dropout[0][0]                 \n",
      "__________________________________________________________________________________________________\n",
      "H2_layer (Dense)                (None, 16)           528         H12_noise[0][0]                  \n",
      "__________________________________________________________________________________________________\n",
      "H2_activation (PReLU)           (None, 16)           16          H2_layer[0][0]                   \n",
      "__________________________________________________________________________________________________\n",
      "H2_batch_norm (BatchNormalizati (None, 16)           64          H2_activation[0][0]              \n",
      "__________________________________________________________________________________________________\n",
      "H3_dropout (Dropout)            (None, 16)           0           H2_batch_norm[0][0]              \n",
      "__________________________________________________________________________________________________\n",
      "H3_noise (GaussianNoise)        (None, 16)           0           H3_dropout[0][0]                 \n",
      "__________________________________________________________________________________________________\n",
      "H3_layer (Dense)                (None, 4)            68          H3_noise[0][0]                   \n",
      "__________________________________________________________________________________________________\n",
      "H3_activation (PReLU)           (None, 4)            4           H3_layer[0][0]                   \n",
      "__________________________________________________________________________________________________\n",
      "H3_batch_norm (BatchNormalizati (None, 4)            16          H3_activation[0][0]              \n",
      "__________________________________________________________________________________________________\n",
      "H4_layer (Dense)                (None, 16)           80          H3_batch_norm[0][0]              \n",
      "__________________________________________________________________________________________________\n",
      "H4_activation (PReLU)           (None, 16)           16          H4_layer[0][0]                   \n",
      "__________________________________________________________________________________________________\n",
      "Output_layer (Dense)            (None, 199)          3383        H4_activation[0][0]              \n",
      "__________________________________________________________________________________________________\n",
      "concatenate_2 (Concatenate)     (None, 200)          0           Output_layer[0][0]               \n",
      "                                                                 financial_manip[0][0]            \n",
      "==================================================================================================\n",
      "Total params: 10,767\n",
      "Trainable params: 10,663\n",
      "Non-trainable params: 104\n",
      "__________________________________________________________________________________________________\n",
      "Train on 2339 samples, validate on 780 samples\n",
      "Epoch 1/50\n",
      "2339/2339 [==============================] - 1s 603us/step - loss: 0.1803 - sparse_recon_loss_mse: 0.1696 - sparse_recon_loss_abs: 0.2229 - sparse_recon_loss_var: 0.1595 - val_loss: 0.1642 - val_sparse_recon_loss_mse: 0.1544 - val_sparse_recon_loss_abs: 0.2036 - val_sparse_recon_loss_var: 0.1488\n",
      "Epoch 2/50\n",
      "2339/2339 [==============================] - 0s 47us/step - loss: 0.1571 - sparse_recon_loss_mse: 0.1480 - sparse_recon_loss_abs: 0.1935 - sparse_recon_loss_var: 0.1449 - val_loss: 0.1450 - val_sparse_recon_loss_mse: 0.1359 - val_sparse_recon_loss_abs: 0.1815 - val_sparse_recon_loss_var: 0.1401\n",
      "Epoch 3/50\n",
      "2339/2339 [==============================] - 0s 46us/step - loss: 0.1403 - sparse_recon_loss_mse: 0.1314 - sparse_recon_loss_abs: 0.1761 - sparse_recon_loss_var: 0.1375 - val_loss: 0.1261 - val_sparse_recon_loss_mse: 0.1166 - val_sparse_recon_loss_abs: 0.1642 - val_sparse_recon_loss_var: 0.1301\n",
      "Epoch 4/50\n",
      "2339/2339 [==============================] - 0s 48us/step - loss: 0.1235 - sparse_recon_loss_mse: 0.1139 - sparse_recon_loss_abs: 0.1618 - sparse_recon_loss_var: 0.1267 - val_loss: 0.1077 - val_sparse_recon_loss_mse: 0.0973 - val_sparse_recon_loss_abs: 0.1496 - val_sparse_recon_loss_var: 0.1182\n",
      "Epoch 5/50\n",
      "2339/2339 [==============================] - 0s 43us/step - loss: 0.1069 - sparse_recon_loss_mse: 0.0964 - sparse_recon_loss_abs: 0.1490 - sparse_recon_loss_var: 0.1183 - val_loss: 0.0922 - val_sparse_recon_loss_mse: 0.0806 - val_sparse_recon_loss_abs: 0.1383 - val_sparse_recon_loss_var: 0.1061\n",
      "Epoch 6/50\n",
      "2339/2339 [==============================] - 0s 43us/step - loss: 0.0929 - sparse_recon_loss_mse: 0.0816 - sparse_recon_loss_abs: 0.1382 - sparse_recon_loss_var: 0.1069 - val_loss: 0.0813 - val_sparse_recon_loss_mse: 0.0691 - val_sparse_recon_loss_abs: 0.1298 - val_sparse_recon_loss_var: 0.0970\n",
      "Epoch 7/50\n",
      "2339/2339 [==============================] - 0s 44us/step - loss: 0.0830 - sparse_recon_loss_mse: 0.0714 - sparse_recon_loss_abs: 0.1294 - sparse_recon_loss_var: 0.0994 - val_loss: 0.0751 - val_sparse_recon_loss_mse: 0.0629 - val_sparse_recon_loss_abs: 0.1238 - val_sparse_recon_loss_var: 0.0928\n",
      "Epoch 8/50\n",
      "2339/2339 [==============================] - 0s 44us/step - loss: 0.0758 - sparse_recon_loss_mse: 0.0643 - sparse_recon_loss_abs: 0.1219 - sparse_recon_loss_var: 0.0940 - val_loss: 0.0714 - val_sparse_recon_loss_mse: 0.0594 - val_sparse_recon_loss_abs: 0.1197 - val_sparse_recon_loss_var: 0.0910\n",
      "Epoch 9/50\n",
      "2339/2339 [==============================] - 0s 46us/step - loss: 0.0714 - sparse_recon_loss_mse: 0.0600 - sparse_recon_loss_abs: 0.1171 - sparse_recon_loss_var: 0.0909 - val_loss: 0.0688 - val_sparse_recon_loss_mse: 0.0570 - val_sparse_recon_loss_abs: 0.1164 - val_sparse_recon_loss_var: 0.0893\n",
      "Epoch 10/50\n",
      "2339/2339 [==============================] - 0s 47us/step - loss: 0.0690 - sparse_recon_loss_mse: 0.0576 - sparse_recon_loss_abs: 0.1145 - sparse_recon_loss_var: 0.0888 - val_loss: 0.0666 - val_sparse_recon_loss_mse: 0.0547 - val_sparse_recon_loss_abs: 0.1140 - val_sparse_recon_loss_var: 0.0865\n",
      "Epoch 11/50\n"
     ]
    },
    {
     "name": "stdout",
     "output_type": "stream",
     "text": [
      "2339/2339 [==============================] - 0s 45us/step - loss: 0.0673 - sparse_recon_loss_mse: 0.0559 - sparse_recon_loss_abs: 0.1127 - sparse_recon_loss_var: 0.0879 - val_loss: 0.0649 - val_sparse_recon_loss_mse: 0.0531 - val_sparse_recon_loss_abs: 0.1121 - val_sparse_recon_loss_var: 0.0843\n",
      "Epoch 12/50\n",
      "2339/2339 [==============================] - 0s 45us/step - loss: 0.0655 - sparse_recon_loss_mse: 0.0543 - sparse_recon_loss_abs: 0.1105 - sparse_recon_loss_var: 0.0861 - val_loss: 0.0634 - val_sparse_recon_loss_mse: 0.0517 - val_sparse_recon_loss_abs: 0.1101 - val_sparse_recon_loss_var: 0.0828\n",
      "Epoch 13/50\n",
      "2339/2339 [==============================] - 0s 45us/step - loss: 0.0651 - sparse_recon_loss_mse: 0.0540 - sparse_recon_loss_abs: 0.1097 - sparse_recon_loss_var: 0.0865 - val_loss: 0.0626 - val_sparse_recon_loss_mse: 0.0510 - val_sparse_recon_loss_abs: 0.1092 - val_sparse_recon_loss_var: 0.0819\n",
      "Epoch 14/50\n",
      "2339/2339 [==============================] - 0s 43us/step - loss: 0.0640 - sparse_recon_loss_mse: 0.0528 - sparse_recon_loss_abs: 0.1085 - sparse_recon_loss_var: 0.0846 - val_loss: 0.0616 - val_sparse_recon_loss_mse: 0.0502 - val_sparse_recon_loss_abs: 0.1074 - val_sparse_recon_loss_var: 0.0814\n",
      "Epoch 15/50\n",
      "2339/2339 [==============================] - 0s 43us/step - loss: 0.0637 - sparse_recon_loss_mse: 0.0525 - sparse_recon_loss_abs: 0.1084 - sparse_recon_loss_var: 0.0839 - val_loss: 0.0610 - val_sparse_recon_loss_mse: 0.0495 - val_sparse_recon_loss_abs: 0.1069 - val_sparse_recon_loss_var: 0.0805\n",
      "Epoch 16/50\n",
      "2339/2339 [==============================] - 0s 41us/step - loss: 0.0630 - sparse_recon_loss_mse: 0.0519 - sparse_recon_loss_abs: 0.1073 - sparse_recon_loss_var: 0.0844 - val_loss: 0.0605 - val_sparse_recon_loss_mse: 0.0491 - val_sparse_recon_loss_abs: 0.1063 - val_sparse_recon_loss_var: 0.0798\n",
      "Epoch 17/50\n",
      "2339/2339 [==============================] - 0s 42us/step - loss: 0.0626 - sparse_recon_loss_mse: 0.0515 - sparse_recon_loss_abs: 0.1069 - sparse_recon_loss_var: 0.0831 - val_loss: 0.0598 - val_sparse_recon_loss_mse: 0.0485 - val_sparse_recon_loss_abs: 0.1049 - val_sparse_recon_loss_var: 0.0796\n",
      "Epoch 18/50\n",
      "2339/2339 [==============================] - 0s 44us/step - loss: 0.0619 - sparse_recon_loss_mse: 0.0509 - sparse_recon_loss_abs: 0.1063 - sparse_recon_loss_var: 0.0818 - val_loss: 0.0593 - val_sparse_recon_loss_mse: 0.0481 - val_sparse_recon_loss_abs: 0.1042 - val_sparse_recon_loss_var: 0.0792\n",
      "Epoch 19/50\n",
      "2339/2339 [==============================] - 0s 45us/step - loss: 0.0618 - sparse_recon_loss_mse: 0.0507 - sparse_recon_loss_abs: 0.1060 - sparse_recon_loss_var: 0.0826 - val_loss: 0.0589 - val_sparse_recon_loss_mse: 0.0477 - val_sparse_recon_loss_abs: 0.1036 - val_sparse_recon_loss_var: 0.0787\n",
      "Epoch 20/50\n",
      "2339/2339 [==============================] - 0s 44us/step - loss: 0.0609 - sparse_recon_loss_mse: 0.0497 - sparse_recon_loss_abs: 0.1054 - sparse_recon_loss_var: 0.0808 - val_loss: 0.0583 - val_sparse_recon_loss_mse: 0.0471 - val_sparse_recon_loss_abs: 0.1031 - val_sparse_recon_loss_var: 0.0777\n",
      "Epoch 21/50\n",
      "2339/2339 [==============================] - 0s 44us/step - loss: 0.0612 - sparse_recon_loss_mse: 0.0502 - sparse_recon_loss_abs: 0.1055 - sparse_recon_loss_var: 0.0820 - val_loss: 0.0579 - val_sparse_recon_loss_mse: 0.0468 - val_sparse_recon_loss_abs: 0.1025 - val_sparse_recon_loss_var: 0.0777\n",
      "Epoch 22/50\n",
      "2339/2339 [==============================] - 0s 45us/step - loss: 0.0604 - sparse_recon_loss_mse: 0.0493 - sparse_recon_loss_abs: 0.1048 - sparse_recon_loss_var: 0.0806 - val_loss: 0.0575 - val_sparse_recon_loss_mse: 0.0464 - val_sparse_recon_loss_abs: 0.1020 - val_sparse_recon_loss_var: 0.0771\n",
      "Epoch 23/50\n",
      "2339/2339 [==============================] - 0s 42us/step - loss: 0.0597 - sparse_recon_loss_mse: 0.0486 - sparse_recon_loss_abs: 0.1042 - sparse_recon_loss_var: 0.0781 - val_loss: 0.0572 - val_sparse_recon_loss_mse: 0.0461 - val_sparse_recon_loss_abs: 0.1016 - val_sparse_recon_loss_var: 0.0769\n",
      "Epoch 24/50\n",
      "2339/2339 [==============================] - 0s 42us/step - loss: 0.0595 - sparse_recon_loss_mse: 0.0485 - sparse_recon_loss_abs: 0.1039 - sparse_recon_loss_var: 0.0791 - val_loss: 0.0568 - val_sparse_recon_loss_mse: 0.0457 - val_sparse_recon_loss_abs: 0.1010 - val_sparse_recon_loss_var: 0.0764\n",
      "Epoch 25/50\n",
      "2339/2339 [==============================] - 0s 44us/step - loss: 0.0592 - sparse_recon_loss_mse: 0.0482 - sparse_recon_loss_abs: 0.1035 - sparse_recon_loss_var: 0.0791 - val_loss: 0.0565 - val_sparse_recon_loss_mse: 0.0455 - val_sparse_recon_loss_abs: 0.1004 - val_sparse_recon_loss_var: 0.0762\n",
      "Epoch 26/50\n",
      "2339/2339 [==============================] - 0s 44us/step - loss: 0.0597 - sparse_recon_loss_mse: 0.0485 - sparse_recon_loss_abs: 0.1043 - sparse_recon_loss_var: 0.0779 - val_loss: 0.0563 - val_sparse_recon_loss_mse: 0.0452 - val_sparse_recon_loss_abs: 0.1005 - val_sparse_recon_loss_var: 0.0755\n",
      "Epoch 27/50\n",
      "2339/2339 [==============================] - 0s 43us/step - loss: 0.0592 - sparse_recon_loss_mse: 0.0482 - sparse_recon_loss_abs: 0.1032 - sparse_recon_loss_var: 0.0794 - val_loss: 0.0559 - val_sparse_recon_loss_mse: 0.0450 - val_sparse_recon_loss_abs: 0.0997 - val_sparse_recon_loss_var: 0.0755\n",
      "Epoch 28/50\n",
      "2339/2339 [==============================] - 0s 42us/step - loss: 0.0586 - sparse_recon_loss_mse: 0.0475 - sparse_recon_loss_abs: 0.1029 - sparse_recon_loss_var: 0.0779 - val_loss: 0.0557 - val_sparse_recon_loss_mse: 0.0447 - val_sparse_recon_loss_abs: 0.0996 - val_sparse_recon_loss_var: 0.0752\n",
      "Epoch 29/50\n",
      "2339/2339 [==============================] - 0s 43us/step - loss: 0.0585 - sparse_recon_loss_mse: 0.0474 - sparse_recon_loss_abs: 0.1027 - sparse_recon_loss_var: 0.0763 - val_loss: 0.0554 - val_sparse_recon_loss_mse: 0.0444 - val_sparse_recon_loss_abs: 0.0991 - val_sparse_recon_loss_var: 0.0749\n",
      "Epoch 30/50\n",
      "2339/2339 [==============================] - 0s 42us/step - loss: 0.0583 - sparse_recon_loss_mse: 0.0473 - sparse_recon_loss_abs: 0.1025 - sparse_recon_loss_var: 0.0760 - val_loss: 0.0552 - val_sparse_recon_loss_mse: 0.0443 - val_sparse_recon_loss_abs: 0.0989 - val_sparse_recon_loss_var: 0.0749\n",
      "Epoch 31/50\n",
      "2339/2339 [==============================] - 0s 43us/step - loss: 0.0582 - sparse_recon_loss_mse: 0.0471 - sparse_recon_loss_abs: 0.1024 - sparse_recon_loss_var: 0.0767 - val_loss: 0.0549 - val_sparse_recon_loss_mse: 0.0440 - val_sparse_recon_loss_abs: 0.0985 - val_sparse_recon_loss_var: 0.0745\n",
      "Epoch 32/50\n",
      "2339/2339 [==============================] - 0s 43us/step - loss: 0.0579 - sparse_recon_loss_mse: 0.0469 - sparse_recon_loss_abs: 0.1021 - sparse_recon_loss_var: 0.0776 - val_loss: 0.0546 - val_sparse_recon_loss_mse: 0.0437 - val_sparse_recon_loss_abs: 0.0982 - val_sparse_recon_loss_var: 0.0742\n",
      "Epoch 33/50\n",
      "2339/2339 [==============================] - 0s 43us/step - loss: 0.0574 - sparse_recon_loss_mse: 0.0464 - sparse_recon_loss_abs: 0.1017 - sparse_recon_loss_var: 0.0765 - val_loss: 0.0543 - val_sparse_recon_loss_mse: 0.0434 - val_sparse_recon_loss_abs: 0.0980 - val_sparse_recon_loss_var: 0.0738\n",
      "Epoch 34/50\n",
      "2339/2339 [==============================] - 0s 41us/step - loss: 0.0570 - sparse_recon_loss_mse: 0.0460 - sparse_recon_loss_abs: 0.1011 - sparse_recon_loss_var: 0.0760 - val_loss: 0.0540 - val_sparse_recon_loss_mse: 0.0431 - val_sparse_recon_loss_abs: 0.0977 - val_sparse_recon_loss_var: 0.0735\n",
      "Epoch 35/50\n",
      "2339/2339 [==============================] - 0s 41us/step - loss: 0.0572 - sparse_recon_loss_mse: 0.0461 - sparse_recon_loss_abs: 0.1013 - sparse_recon_loss_var: 0.0759 - val_loss: 0.0537 - val_sparse_recon_loss_mse: 0.0428 - val_sparse_recon_loss_abs: 0.0972 - val_sparse_recon_loss_var: 0.0731\n",
      "Epoch 36/50\n",
      "2339/2339 [==============================] - 0s 42us/step - loss: 0.0562 - sparse_recon_loss_mse: 0.0452 - sparse_recon_loss_abs: 0.1003 - sparse_recon_loss_var: 0.0745 - val_loss: 0.0533 - val_sparse_recon_loss_mse: 0.0425 - val_sparse_recon_loss_abs: 0.0968 - val_sparse_recon_loss_var: 0.0729\n",
      "Epoch 37/50\n",
      "2339/2339 [==============================] - 0s 42us/step - loss: 0.0559 - sparse_recon_loss_mse: 0.0449 - sparse_recon_loss_abs: 0.0999 - sparse_recon_loss_var: 0.0752 - val_loss: 0.0529 - val_sparse_recon_loss_mse: 0.0422 - val_sparse_recon_loss_abs: 0.0959 - val_sparse_recon_loss_var: 0.0727\n"
     ]
    },
    {
     "name": "stdout",
     "output_type": "stream",
     "text": [
      "Epoch 38/50\n",
      "2339/2339 [==============================] - 0s 41us/step - loss: 0.0554 - sparse_recon_loss_mse: 0.0444 - sparse_recon_loss_abs: 0.0993 - sparse_recon_loss_var: 0.0744 - val_loss: 0.0525 - val_sparse_recon_loss_mse: 0.0418 - val_sparse_recon_loss_abs: 0.0954 - val_sparse_recon_loss_var: 0.0722\n",
      "Epoch 39/50\n",
      "2339/2339 [==============================] - 0s 41us/step - loss: 0.0555 - sparse_recon_loss_mse: 0.0446 - sparse_recon_loss_abs: 0.0991 - sparse_recon_loss_var: 0.0763 - val_loss: 0.0522 - val_sparse_recon_loss_mse: 0.0415 - val_sparse_recon_loss_abs: 0.0948 - val_sparse_recon_loss_var: 0.0722\n",
      "Epoch 40/50\n",
      "2339/2339 [==============================] - 0s 41us/step - loss: 0.0550 - sparse_recon_loss_mse: 0.0442 - sparse_recon_loss_abs: 0.0984 - sparse_recon_loss_var: 0.0743 - val_loss: 0.0517 - val_sparse_recon_loss_mse: 0.0410 - val_sparse_recon_loss_abs: 0.0943 - val_sparse_recon_loss_var: 0.0719\n",
      "Epoch 41/50\n",
      "2339/2339 [==============================] - 0s 41us/step - loss: 0.0547 - sparse_recon_loss_mse: 0.0438 - sparse_recon_loss_abs: 0.0980 - sparse_recon_loss_var: 0.0742 - val_loss: 0.0512 - val_sparse_recon_loss_mse: 0.0407 - val_sparse_recon_loss_abs: 0.0936 - val_sparse_recon_loss_var: 0.0718\n",
      "Epoch 42/50\n",
      "2339/2339 [==============================] - 0s 44us/step - loss: 0.0539 - sparse_recon_loss_mse: 0.0431 - sparse_recon_loss_abs: 0.0971 - sparse_recon_loss_var: 0.0736 - val_loss: 0.0509 - val_sparse_recon_loss_mse: 0.0404 - val_sparse_recon_loss_abs: 0.0929 - val_sparse_recon_loss_var: 0.0717\n",
      "Epoch 43/50\n",
      "2339/2339 [==============================] - 0s 44us/step - loss: 0.0541 - sparse_recon_loss_mse: 0.0434 - sparse_recon_loss_abs: 0.0972 - sparse_recon_loss_var: 0.0727 - val_loss: 0.0504 - val_sparse_recon_loss_mse: 0.0399 - val_sparse_recon_loss_abs: 0.0922 - val_sparse_recon_loss_var: 0.0713\n",
      "Epoch 44/50\n",
      "2339/2339 [==============================] - 0s 44us/step - loss: 0.0536 - sparse_recon_loss_mse: 0.0429 - sparse_recon_loss_abs: 0.0966 - sparse_recon_loss_var: 0.0729 - val_loss: 0.0502 - val_sparse_recon_loss_mse: 0.0398 - val_sparse_recon_loss_abs: 0.0917 - val_sparse_recon_loss_var: 0.0716\n",
      "Epoch 45/50\n",
      "2339/2339 [==============================] - 0s 45us/step - loss: 0.0530 - sparse_recon_loss_mse: 0.0423 - sparse_recon_loss_abs: 0.0960 - sparse_recon_loss_var: 0.0725 - val_loss: 0.0495 - val_sparse_recon_loss_mse: 0.0391 - val_sparse_recon_loss_abs: 0.0912 - val_sparse_recon_loss_var: 0.0707\n",
      "Epoch 46/50\n",
      "2339/2339 [==============================] - 0s 43us/step - loss: 0.0523 - sparse_recon_loss_mse: 0.0416 - sparse_recon_loss_abs: 0.0952 - sparse_recon_loss_var: 0.0725 - val_loss: 0.0493 - val_sparse_recon_loss_mse: 0.0390 - val_sparse_recon_loss_abs: 0.0903 - val_sparse_recon_loss_var: 0.0710\n",
      "Epoch 47/50\n",
      "2339/2339 [==============================] - 0s 43us/step - loss: 0.0519 - sparse_recon_loss_mse: 0.0413 - sparse_recon_loss_abs: 0.0944 - sparse_recon_loss_var: 0.0725 - val_loss: 0.0489 - val_sparse_recon_loss_mse: 0.0387 - val_sparse_recon_loss_abs: 0.0899 - val_sparse_recon_loss_var: 0.0706\n",
      "Epoch 48/50\n",
      "2339/2339 [==============================] - 0s 44us/step - loss: 0.0522 - sparse_recon_loss_mse: 0.0415 - sparse_recon_loss_abs: 0.0948 - sparse_recon_loss_var: 0.0726 - val_loss: 0.0486 - val_sparse_recon_loss_mse: 0.0384 - val_sparse_recon_loss_abs: 0.0894 - val_sparse_recon_loss_var: 0.0704\n",
      "Epoch 49/50\n",
      "2339/2339 [==============================] - 0s 48us/step - loss: 0.0523 - sparse_recon_loss_mse: 0.0416 - sparse_recon_loss_abs: 0.0949 - sparse_recon_loss_var: 0.0722 - val_loss: 0.0483 - val_sparse_recon_loss_mse: 0.0380 - val_sparse_recon_loss_abs: 0.0891 - val_sparse_recon_loss_var: 0.0699\n",
      "Epoch 50/50\n",
      "2339/2339 [==============================] - 0s 45us/step - loss: 0.0515 - sparse_recon_loss_mse: 0.0410 - sparse_recon_loss_abs: 0.0935 - sparse_recon_loss_var: 0.0716 - val_loss: 0.0480 - val_sparse_recon_loss_mse: 0.0378 - val_sparse_recon_loss_abs: 0.0888 - val_sparse_recon_loss_var: 0.0698\n"
     ]
    },
    {
     "data": {
      "text/plain": [
       "<keras.callbacks.History at 0x7f837934b898>"
      ]
     },
     "execution_count": 7,
     "metadata": {},
     "output_type": "execute_result"
    }
   ],
   "source": [
    "pre_gen_compile_dic={'loss':loss,'metrics':metrics,'optimizer':Adam(lr=0.001)}\n",
    "pre_train_ae=generator_nw_5(x_train,**layer_p_dic,nodes=nodes,y=True)\n",
    "pre_train_ae.compile(**pre_gen_compile_dic)\n",
    "pre_x_train=np.concatenate((x_train,y_train),axis=1)\n",
    "pre_x_test=np.concatenate((x_test,y_test),axis=1)\n",
    "ES=EarlyStopping(monitor='val_loss', min_delta=0.0001, patience=5, verbose=1, mode='auto')\n",
    "pre_train_ae.fit([x_train,y_train],pre_x_train,validation_data=([x_test,y_test], pre_x_test),\n",
    "                 epochs=50,batch_size=128,callbacks=[ES])"
   ]
  },
  {
   "cell_type": "code",
   "execution_count": 8,
   "metadata": {},
   "outputs": [],
   "source": [
    "weights=pre_train_ae.get_weights()"
   ]
  },
  {
   "cell_type": "code",
   "execution_count": 19,
   "metadata": {},
   "outputs": [
    {
     "name": "stdout",
     "output_type": "stream",
     "text": [
      "__________________________________________________________________________________________________\n",
      "Layer (type)                    Output Shape         Param #     Connected to                     \n",
      "==================================================================================================\n",
      "financial_cond_input (InputLaye (None, 199)          0                                            \n",
      "__________________________________________________________________________________________________\n",
      "financial_manip (InputLayer)    (None, 1)            0                                            \n",
      "__________________________________________________________________________________________________\n",
      "concatenate_5 (Concatenate)     (None, 200)          0           financial_cond_input[0][0]       \n",
      "                                                                 financial_manip[0][0]            \n",
      "__________________________________________________________________________________________________\n",
      "H1_dropout (Dropout)            (None, 200)          0           concatenate_5[0][0]              \n",
      "__________________________________________________________________________________________________\n",
      "H1_noise (GaussianNoise)        (None, 200)          0           H1_dropout[0][0]                 \n",
      "__________________________________________________________________________________________________\n",
      "H1_layer (Dense)                (None, 32)           6432        H1_noise[0][0]                   \n",
      "__________________________________________________________________________________________________\n",
      "H1_activation (PReLU)           (None, 32)           32          H1_layer[0][0]                   \n",
      "__________________________________________________________________________________________________\n",
      "H1_batch_norm (BatchNormalizati (None, 32)           128         H1_activation[0][0]              \n",
      "__________________________________________________________________________________________________\n",
      "H2_dropout (Dropout)            (None, 32)           0           H1_batch_norm[0][0]              \n",
      "__________________________________________________________________________________________________\n",
      "H12_noise (GaussianNoise)       (None, 32)           0           H2_dropout[0][0]                 \n",
      "__________________________________________________________________________________________________\n",
      "H2_layer (Dense)                (None, 16)           528         H12_noise[0][0]                  \n",
      "__________________________________________________________________________________________________\n",
      "H2_activation (PReLU)           (None, 16)           16          H2_layer[0][0]                   \n",
      "__________________________________________________________________________________________________\n",
      "H2_batch_norm (BatchNormalizati (None, 16)           64          H2_activation[0][0]              \n",
      "__________________________________________________________________________________________________\n",
      "H3_dropout (Dropout)            (None, 16)           0           H2_batch_norm[0][0]              \n",
      "__________________________________________________________________________________________________\n",
      "H3_noise (GaussianNoise)        (None, 16)           0           H3_dropout[0][0]                 \n",
      "__________________________________________________________________________________________________\n",
      "H3_layer (Dense)                (None, 4)            68          H3_noise[0][0]                   \n",
      "__________________________________________________________________________________________________\n",
      "H3_activation (PReLU)           (None, 4)            4           H3_layer[0][0]                   \n",
      "__________________________________________________________________________________________________\n",
      "H3_batch_norm (BatchNormalizati (None, 4)            16          H3_activation[0][0]              \n",
      "__________________________________________________________________________________________________\n",
      "H4_layer (Dense)                (None, 16)           80          H3_batch_norm[0][0]              \n",
      "__________________________________________________________________________________________________\n",
      "H4_activation (PReLU)           (None, 16)           16          H4_layer[0][0]                   \n",
      "__________________________________________________________________________________________________\n",
      "Output_layer (Dense)            (None, 199)          3383        H4_activation[0][0]              \n",
      "__________________________________________________________________________________________________\n",
      "concatenate_6 (Concatenate)     (None, 200)          0           Output_layer[0][0]               \n",
      "                                                                 financial_manip[0][0]            \n",
      "==================================================================================================\n",
      "Total params: 10,767\n",
      "Trainable params: 10,663\n",
      "Non-trainable params: 104\n",
      "__________________________________________________________________________________________________\n"
     ]
    }
   ],
   "source": [
    "gen_compile_dic={'loss':loss,'metrics':metrics,'optimizer':Adam(lr=0.001)}\n",
    "Generator=generator_nw_5(x_train,**layer_p_dic,nodes=nodes,y=True)\n",
    "Generator.compile(**gen_compile_dic)\n",
    "Generator.set_weights(weights)"
   ]
  },
  {
   "cell_type": "code",
   "execution_count": 18,
   "metadata": {
    "scrolled": true
   },
   "outputs": [
    {
     "name": "stdout",
     "output_type": "stream",
     "text": [
      "_________________________________________________________________\n",
      "Layer (type)                 Output Shape              Param #   \n",
      "=================================================================\n",
      "X_RealorFake (InputLayer)    (None, 200)               0         \n",
      "_________________________________________________________________\n",
      "H1_dropout (Dropout)         (None, 200)               0         \n",
      "_________________________________________________________________\n",
      "H1_noise (GaussianNoise)     (None, 200)               0         \n",
      "_________________________________________________________________\n",
      "dH1_layer (Dense)            (None, 64)                12864     \n",
      "_________________________________________________________________\n",
      "dH1_activation (PReLU)       (None, 64)                64        \n",
      "_________________________________________________________________\n",
      "dH2_dropout (Dropout)        (None, 64)                0         \n",
      "_________________________________________________________________\n",
      "dH2_noise (GaussianNoise)    (None, 64)                0         \n",
      "_________________________________________________________________\n",
      "dH2_layer (Dense)            (None, 40)                2600      \n",
      "_________________________________________________________________\n",
      "dH2_activation (PReLU)       (None, 40)                40        \n",
      "_________________________________________________________________\n",
      "dH3_dropout (Dropout)        (None, 40)                0         \n",
      "_________________________________________________________________\n",
      "dH3_noise (GaussianNoise)    (None, 40)                0         \n",
      "_________________________________________________________________\n",
      "dH3_layer (Dense)            (None, 16)                656       \n",
      "_________________________________________________________________\n",
      "dH3_activation (PReLU)       (None, 16)                16        \n",
      "_________________________________________________________________\n",
      "dense_2 (Dense)              (None, 2)                 34        \n",
      "=================================================================\n",
      "Total params: 16,274\n",
      "Trainable params: 16,274\n",
      "Non-trainable params: 0\n",
      "_________________________________________________________________\n"
     ]
    }
   ],
   "source": [
    "dis_compile_dic={'loss':binary_crossentropy,'optimizer':Adam(lr=0.001)} #'early_stop':ES}\n",
    "layer_p_dic={'drop_ra':0.05, 'g_noise':0.05, 'ker_init':ker_init}\n",
    "Discrim=discriminator_nw_4(x_train,**layer_p_dic,nodes=[64,40,28,16])\n",
    "Discrim.compile(**dis_compile_dic)"
   ]
  },
  {
   "cell_type": "code",
   "execution_count": 20,
   "metadata": {},
   "outputs": [
    {
     "name": "stdout",
     "output_type": "stream",
     "text": [
      "(2000, 200)\n",
      "Epoch 1/10\n",
      "2000/2000 [==============================] - 1s 658us/step - loss: 0.3425\n",
      "Epoch 2/10\n",
      "2000/2000 [==============================] - 0s 87us/step - loss: 0.0298\n",
      "Epoch 3/10\n",
      "2000/2000 [==============================] - 0s 90us/step - loss: 0.0087\n",
      "Epoch 4/10\n",
      "2000/2000 [==============================] - 0s 90us/step - loss: 0.0054\n",
      "Epoch 5/10\n",
      "2000/2000 [==============================] - 0s 88us/step - loss: 0.0032\n",
      "Epoch 6/10\n",
      "2000/2000 [==============================] - 0s 90us/step - loss: 0.0018\n",
      "Epoch 7/10\n",
      "2000/2000 [==============================] - 0s 86us/step - loss: 9.8019e-04\n",
      "Epoch 8/10\n",
      "2000/2000 [==============================] - 0s 88us/step - loss: 9.6520e-04\n",
      "Epoch 9/10\n",
      "2000/2000 [==============================] - 0s 88us/step - loss: 0.0017\n",
      "Epoch 10/10\n",
      "2000/2000 [==============================] - 0s 89us/step - loss: 9.6830e-04\n",
      "Accuracy: 100.0 % 2000  of  2000 correct\n"
     ]
    }
   ],
   "source": [
    "XT_aug, y_hat=Discrim_pre_train(x_train,y_train,Discrim,train_size=1000)"
   ]
  },
  {
   "cell_type": "code",
   "execution_count": 21,
   "metadata": {
    "scrolled": true
   },
   "outputs": [
    {
     "name": "stdout",
     "output_type": "stream",
     "text": [
      "__________________________________________________________________________________________________\n",
      "Layer (type)                    Output Shape         Param #     Connected to                     \n",
      "==================================================================================================\n",
      "input_3 (InputLayer)            (None, 199)          0                                            \n",
      "__________________________________________________________________________________________________\n",
      "input_4 (InputLayer)            (None, 1)            0                                            \n",
      "__________________________________________________________________________________________________\n",
      "model_6 (Model)                 (None, 200)          10767       input_3[0][0]                    \n",
      "                                                                 input_4[0][0]                    \n",
      "__________________________________________________________________________________________________\n",
      "model_5 (Model)                 (None, 2)            16274       model_6[1][0]                    \n",
      "==================================================================================================\n",
      "Total params: 27,041\n",
      "Trainable params: 10,663\n",
      "Non-trainable params: 16,378\n",
      "__________________________________________________________________________________________________\n"
     ]
    }
   ],
   "source": [
    "gan_compile_dic={'loss':[loss,binary_crossentropy],'optimizer':Adam(lr=0.001)}\n",
    "GAN=gan_nw(Generator,Discrim,x_train)\n"
   ]
  },
  {
   "cell_type": "code",
   "execution_count": 22,
   "metadata": {},
   "outputs": [],
   "source": [
    "train_dic={'x_train':x_train,'y_train':y_train,'x_test':x_test,'y_test':y_test,\n",
    "'nb_epoch':1000,'plt_frq':100,'batch_size':128,'test_size':64,'Generator':Generator,\n",
    "'Discriminator':Discrim,'GAN':GAN,'plot':False,'weight_change':True,'alpha':5,'gan_compile_dic':gan_compile_dic,\n",
    "          'real_smoothing':0.95}"
   ]
  },
  {
   "cell_type": "code",
   "execution_count": 23,
   "metadata": {},
   "outputs": [
    {
     "name": "stderr",
     "output_type": "stream",
     "text": [
      "\r",
      "  0%|          | 0/1000 [00:00<?, ?it/s]"
     ]
    },
    {
     "name": "stdout",
     "output_type": "stream",
     "text": [
      "128/128 [==============================] - 0s 4ms/step\n",
      "64/64 [==============================] - 0s 59us/step\n",
      "64/64 [==============================] - 0s 47us/step\n"
     ]
    },
    {
     "name": "stderr",
     "output_type": "stream",
     "text": [
      "\r",
      "  0%|          | 1/1000 [00:04<1:21:28,  4.89s/it]"
     ]
    },
    {
     "name": "stdout",
     "output_type": "stream",
     "text": [
      "128/128 [==============================] - 0s 52us/step\n",
      "64/64 [==============================] - 0s 47us/step\n",
      "64/64 [==============================] - 0s 80us/step\n",
      "128/128 [==============================] - 0s 47us/step\n",
      "64/64 [==============================] - 0s 53us/step\n",
      "64/64 [==============================] - 0s 63us/step\n",
      "128/128 [==============================] - 0s 48us/step\n",
      "64/64 [==============================] - 0s 51us/step\n",
      "64/64 [==============================] - 0s 45us/step\n"
     ]
    },
    {
     "name": "stderr",
     "output_type": "stream",
     "text": [
      "\r",
      "  0%|          | 4/1000 [00:04<20:43,  1.25s/it]  "
     ]
    },
    {
     "name": "stdout",
     "output_type": "stream",
     "text": [
      "128/128 [==============================] - 0s 40us/step\n",
      "64/64 [==============================] - 0s 53us/step\n",
      "64/64 [==============================] - 0s 45us/step\n",
      "128/128 [==============================] - 0s 39us/step\n",
      "64/64 [==============================] - 0s 51us/step\n",
      "64/64 [==============================] - 0s 79us/step\n",
      "128/128 [==============================] - 0s 40us/step\n",
      "64/64 [==============================] - 0s 35us/step\n",
      "64/64 [==============================] - 0s 50us/step\n",
      "128/128 [==============================] - 0s 31us/step\n",
      "64/64 [==============================] - 0s 89us/step\n",
      "64/64 [==============================] - 0s 59us/step\n"
     ]
    },
    {
     "name": "stderr",
     "output_type": "stream",
     "text": [
      "\r",
      "  1%|          | 8/1000 [00:05<10:33,  1.57it/s]"
     ]
    },
    {
     "name": "stdout",
     "output_type": "stream",
     "text": [
      "128/128 [==============================] - 0s 38us/step\n",
      "64/64 [==============================] - 0s 49us/step\n",
      "64/64 [==============================] - 0s 45us/step\n",
      "128/128 [==============================] - 0s 40us/step\n",
      "64/64 [==============================] - 0s 80us/step\n",
      "64/64 [==============================] - 0s 65us/step\n",
      "128/128 [==============================] - 0s 40us/step\n",
      "64/64 [==============================] - 0s 56us/step\n",
      "64/64 [==============================] - 0s 44us/step\n",
      "128/128 [==============================] - 0s 40us/step\n",
      "64/64 [==============================] - 0s 52us/step\n",
      "64/64 [==============================] - 0s 48us/step\n"
     ]
    },
    {
     "name": "stderr",
     "output_type": "stream",
     "text": [
      "\r",
      "  1%|          | 12/1000 [00:05<07:10,  2.29it/s]"
     ]
    },
    {
     "name": "stdout",
     "output_type": "stream",
     "text": [
      "128/128 [==============================] - 0s 42us/step\n",
      "64/64 [==============================] - 0s 40us/step\n",
      "64/64 [==============================] - 0s 80us/step\n",
      "128/128 [==============================] - 0s 62us/step\n",
      "64/64 [==============================] - 0s 51us/step\n",
      "64/64 [==============================] - 0s 49us/step\n",
      "128/128 [==============================] - 0s 43us/step\n",
      "64/64 [==============================] - 0s 54us/step\n",
      "64/64 [==============================] - 0s 57us/step\n",
      "128/128 [==============================] - 0s 35us/step\n",
      "64/64 [==============================] - 0s 60us/step\n",
      "64/64 [==============================] - 0s 61us/step\n"
     ]
    },
    {
     "name": "stderr",
     "output_type": "stream",
     "text": [
      "\r",
      "  2%|▏         | 16/1000 [00:05<05:29,  2.99it/s]"
     ]
    },
    {
     "name": "stdout",
     "output_type": "stream",
     "text": [
      "128/128 [==============================] - 0s 45us/step\n",
      "64/64 [==============================] - 0s 53us/step\n",
      "64/64 [==============================] - 0s 55us/step\n",
      "128/128 [==============================] - 0s 37us/step\n",
      "64/64 [==============================] - 0s 48us/step\n",
      "64/64 [==============================] - 0s 153us/step\n",
      "128/128 [==============================] - 0s 47us/step\n",
      "64/64 [==============================] - 0s 62us/step\n",
      "64/64 [==============================] - 0s 124us/step\n",
      "128/128 [==============================] - 0s 36us/step\n",
      "64/64 [==============================] - 0s 53us/step\n",
      "64/64 [==============================] - 0s 61us/step\n"
     ]
    },
    {
     "name": "stderr",
     "output_type": "stream",
     "text": [
      "\r",
      "  2%|▏         | 20/1000 [00:05<04:28,  3.64it/s]"
     ]
    },
    {
     "name": "stdout",
     "output_type": "stream",
     "text": [
      "128/128 [==============================] - 0s 39us/step\n",
      "64/64 [==============================] - 0s 45us/step\n",
      "64/64 [==============================] - 0s 46us/step\n",
      "128/128 [==============================] - 0s 53us/step\n",
      "64/64 [==============================] - 0s 48us/step\n",
      "64/64 [==============================] - 0s 55us/step\n",
      "128/128 [==============================] - 0s 37us/step\n",
      "64/64 [==============================] - 0s 59us/step\n",
      "64/64 [==============================] - 0s 74us/step\n",
      "128/128 [==============================] - 0s 45us/step\n",
      "64/64 [==============================] - 0s 53us/step\n",
      "64/64 [==============================] - 0s 51us/step\n"
     ]
    },
    {
     "name": "stderr",
     "output_type": "stream",
     "text": [
      "\r",
      "  2%|▏         | 24/1000 [00:05<03:48,  4.28it/s]"
     ]
    },
    {
     "name": "stdout",
     "output_type": "stream",
     "text": [
      "128/128 [==============================] - 0s 33us/step\n",
      "64/64 [==============================] - 0s 55us/step\n",
      "64/64 [==============================] - 0s 56us/step\n",
      "128/128 [==============================] - 0s 33us/step\n",
      "64/64 [==============================] - 0s 35us/step\n",
      "64/64 [==============================] - 0s 96us/step\n",
      "128/128 [==============================] - 0s 42us/step\n",
      "64/64 [==============================] - 0s 47us/step\n",
      "64/64 [==============================] - 0s 63us/step\n",
      "128/128 [==============================] - 0s 71us/step\n",
      "64/64 [==============================] - 0s 65us/step\n",
      "64/64 [==============================] - 0s 59us/step\n"
     ]
    },
    {
     "name": "stderr",
     "output_type": "stream",
     "text": [
      "\r",
      "  3%|▎         | 28/1000 [00:05<03:19,  4.88it/s]"
     ]
    },
    {
     "name": "stdout",
     "output_type": "stream",
     "text": [
      "128/128 [==============================] - 0s 59us/step\n",
      "64/64 [==============================] - 0s 43us/step\n",
      "64/64 [==============================] - 0s 55us/step\n",
      "128/128 [==============================] - 0s 38us/step\n",
      "64/64 [==============================] - 0s 75us/step\n",
      "64/64 [==============================] - 0s 55us/step\n",
      "128/128 [==============================] - 0s 40us/step\n",
      "64/64 [==============================] - 0s 50us/step\n",
      "64/64 [==============================] - 0s 51us/step\n",
      "128/128 [==============================] - 0s 37us/step\n",
      "64/64 [==============================] - 0s 52us/step\n",
      "64/64 [==============================] - 0s 43us/step\n"
     ]
    },
    {
     "name": "stderr",
     "output_type": "stream",
     "text": [
      "\r",
      "  3%|▎         | 32/1000 [00:05<02:56,  5.47it/s]"
     ]
    },
    {
     "name": "stdout",
     "output_type": "stream",
     "text": [
      "128/128 [==============================] - 0s 37us/step\n",
      "64/64 [==============================] - 0s 61us/step\n",
      "64/64 [==============================] - 0s 45us/step\n",
      "128/128 [==============================] - 0s 41us/step\n",
      "64/64 [==============================] - 0s 50us/step\n",
      "64/64 [==============================] - 0s 63us/step\n",
      "128/128 [==============================] - 0s 43us/step\n",
      "64/64 [==============================] - 0s 54us/step\n",
      "64/64 [==============================] - 0s 43us/step\n",
      "128/128 [==============================] - 0s 35us/step\n",
      "64/64 [==============================] - 0s 43us/step\n",
      "64/64 [==============================] - 0s 40us/step\n"
     ]
    },
    {
     "name": "stderr",
     "output_type": "stream",
     "text": [
      "\r",
      "  4%|▎         | 36/1000 [00:05<02:39,  6.04it/s]"
     ]
    },
    {
     "name": "stdout",
     "output_type": "stream",
     "text": [
      "128/128 [==============================] - 0s 37us/step\n",
      "64/64 [==============================] - 0s 56us/step\n",
      "64/64 [==============================] - 0s 50us/step\n",
      "128/128 [==============================] - 0s 36us/step\n",
      "64/64 [==============================] - 0s 51us/step\n",
      "64/64 [==============================] - 0s 57us/step\n",
      "128/128 [==============================] - 0s 34us/step\n",
      "64/64 [==============================] - 0s 69us/step\n",
      "64/64 [==============================] - 0s 73us/step\n",
      "128/128 [==============================] - 0s 34us/step\n",
      "64/64 [==============================] - 0s 74us/step\n",
      "64/64 [==============================] - 0s 57us/step\n"
     ]
    },
    {
     "name": "stderr",
     "output_type": "stream",
     "text": [
      "\r",
      "  4%|▍         | 40/1000 [00:06<02:25,  6.59it/s]"
     ]
    },
    {
     "name": "stdout",
     "output_type": "stream",
     "text": [
      "128/128 [==============================] - 0s 36us/step\n",
      "64/64 [==============================] - 0s 46us/step\n",
      "64/64 [==============================] - 0s 40us/step\n",
      "128/128 [==============================] - 0s 37us/step\n",
      "64/64 [==============================] - 0s 46us/step\n",
      "64/64 [==============================] - 0s 52us/step\n",
      "128/128 [==============================] - 0s 31us/step\n",
      "64/64 [==============================] - 0s 66us/step\n",
      "64/64 [==============================] - 0s 65us/step\n",
      "128/128 [==============================] - 0s 36us/step\n",
      "64/64 [==============================] - 0s 53us/step\n",
      "64/64 [==============================] - 0s 117us/step\n"
     ]
    },
    {
     "name": "stderr",
     "output_type": "stream",
     "text": [
      "\r",
      "  4%|▍         | 44/1000 [00:06<02:14,  7.11it/s]"
     ]
    },
    {
     "name": "stdout",
     "output_type": "stream",
     "text": [
      "128/128 [==============================] - 0s 40us/step\n",
      "64/64 [==============================] - 0s 72us/step\n",
      "64/64 [==============================] - 0s 66us/step\n",
      "128/128 [==============================] - 0s 39us/step\n",
      "64/64 [==============================] - 0s 50us/step\n",
      "64/64 [==============================] - 0s 53us/step\n",
      "128/128 [==============================] - 0s 33us/step\n",
      "64/64 [==============================] - 0s 59us/step\n",
      "64/64 [==============================] - 0s 80us/step\n",
      "128/128 [==============================] - 0s 33us/step\n",
      "64/64 [==============================] - 0s 39us/step\n",
      "64/64 [==============================] - 0s 56us/step\n"
     ]
    },
    {
     "name": "stderr",
     "output_type": "stream",
     "text": [
      "\r",
      "  5%|▍         | 48/1000 [00:06<02:04,  7.62it/s]"
     ]
    },
    {
     "name": "stdout",
     "output_type": "stream",
     "text": [
      "128/128 [==============================] - 0s 81us/step\n",
      "64/64 [==============================] - 0s 36us/step\n",
      "64/64 [==============================] - 0s 53us/step\n",
      "128/128 [==============================] - 0s 35us/step\n",
      "64/64 [==============================] - 0s 44us/step\n",
      "64/64 [==============================] - 0s 45us/step\n",
      "128/128 [==============================] - 0s 37us/step\n",
      "64/64 [==============================] - 0s 55us/step\n",
      "64/64 [==============================] - 0s 47us/step\n",
      "128/128 [==============================] - 0s 39us/step\n",
      "64/64 [==============================] - 0s 50us/step\n",
      "64/64 [==============================] - 0s 57us/step\n"
     ]
    },
    {
     "name": "stderr",
     "output_type": "stream",
     "text": [
      "\r",
      "  5%|▌         | 52/1000 [00:06<01:56,  8.11it/s]"
     ]
    },
    {
     "name": "stdout",
     "output_type": "stream",
     "text": [
      "128/128 [==============================] - 0s 33us/step\n",
      "64/64 [==============================] - 0s 61us/step\n",
      "64/64 [==============================] - 0s 66us/step\n",
      "128/128 [==============================] - 0s 38us/step\n",
      "64/64 [==============================] - 0s 60us/step\n",
      "64/64 [==============================] - 0s 61us/step\n",
      "128/128 [==============================] - 0s 48us/step\n",
      "64/64 [==============================] - 0s 50us/step\n",
      "64/64 [==============================] - 0s 58us/step\n",
      "128/128 [==============================] - 0s 43us/step\n",
      "64/64 [==============================] - 0s 37us/step\n",
      "64/64 [==============================] - 0s 53us/step\n"
     ]
    },
    {
     "name": "stderr",
     "output_type": "stream",
     "text": [
      "\r",
      "  6%|▌         | 56/1000 [00:06<01:50,  8.58it/s]"
     ]
    },
    {
     "name": "stdout",
     "output_type": "stream",
     "text": [
      "128/128 [==============================] - 0s 33us/step\n",
      "64/64 [==============================] - 0s 41us/step\n",
      "64/64 [==============================] - 0s 70us/step\n",
      "128/128 [==============================] - 0s 36us/step\n",
      "64/64 [==============================] - 0s 48us/step\n",
      "64/64 [==============================] - 0s 53us/step\n",
      "128/128 [==============================] - 0s 45us/step\n",
      "64/64 [==============================] - 0s 64us/step\n",
      "64/64 [==============================] - 0s 58us/step\n",
      "128/128 [==============================] - 0s 41us/step\n",
      "64/64 [==============================] - 0s 72us/step\n",
      "64/64 [==============================] - 0s 51us/step\n"
     ]
    },
    {
     "name": "stderr",
     "output_type": "stream",
     "text": [
      "\r",
      "  6%|▌         | 60/1000 [00:06<01:44,  9.03it/s]"
     ]
    },
    {
     "name": "stdout",
     "output_type": "stream",
     "text": [
      "128/128 [==============================] - 0s 35us/step\n",
      "64/64 [==============================] - 0s 36us/step\n",
      "64/64 [==============================] - 0s 53us/step\n",
      "128/128 [==============================] - 0s 46us/step\n",
      "64/64 [==============================] - 0s 43us/step\n",
      "64/64 [==============================] - 0s 42us/step\n",
      "128/128 [==============================] - 0s 33us/step\n",
      "64/64 [==============================] - 0s 45us/step\n",
      "64/64 [==============================] - 0s 51us/step\n",
      "128/128 [==============================] - 0s 42us/step\n",
      "64/64 [==============================] - 0s 63us/step\n",
      "64/64 [==============================] - 0s 65us/step\n"
     ]
    },
    {
     "name": "stderr",
     "output_type": "stream",
     "text": [
      "\r",
      "  6%|▋         | 64/1000 [00:06<01:38,  9.47it/s]"
     ]
    },
    {
     "name": "stdout",
     "output_type": "stream",
     "text": [
      "128/128 [==============================] - 0s 43us/step\n",
      "64/64 [==============================] - 0s 39us/step\n",
      "64/64 [==============================] - 0s 43us/step\n",
      "128/128 [==============================] - 0s 41us/step\n",
      "64/64 [==============================] - 0s 52us/step\n",
      "64/64 [==============================] - 0s 55us/step\n",
      "128/128 [==============================] - 0s 33us/step\n",
      "64/64 [==============================] - 0s 53us/step\n",
      "64/64 [==============================] - 0s 54us/step\n",
      "128/128 [==============================] - 0s 33us/step\n",
      "64/64 [==============================] - 0s 53us/step\n",
      "64/64 [==============================] - 0s 70us/step\n"
     ]
    },
    {
     "name": "stderr",
     "output_type": "stream",
     "text": [
      "\r",
      "  7%|▋         | 68/1000 [00:06<01:34,  9.90it/s]"
     ]
    },
    {
     "name": "stdout",
     "output_type": "stream",
     "text": [
      "128/128 [==============================] - 0s 46us/step\n",
      "64/64 [==============================] - 0s 64us/step\n",
      "64/64 [==============================] - 0s 42us/step\n",
      "128/128 [==============================] - 0s 37us/step\n",
      "64/64 [==============================] - 0s 74us/step\n",
      "64/64 [==============================] - 0s 74us/step\n",
      "128/128 [==============================] - 0s 33us/step\n",
      "64/64 [==============================] - 0s 62us/step\n",
      "64/64 [==============================] - 0s 64us/step\n",
      "128/128 [==============================] - 0s 43us/step\n",
      "64/64 [==============================] - 0s 52us/step\n",
      "64/64 [==============================] - 0s 62us/step\n"
     ]
    },
    {
     "name": "stderr",
     "output_type": "stream",
     "text": [
      "\r",
      "  7%|▋         | 72/1000 [00:06<01:30, 10.31it/s]"
     ]
    },
    {
     "name": "stdout",
     "output_type": "stream",
     "text": [
      "128/128 [==============================] - 0s 49us/step\n",
      "64/64 [==============================] - 0s 44us/step\n",
      "64/64 [==============================] - 0s 37us/step\n",
      "128/128 [==============================] - 0s 59us/step\n",
      "64/64 [==============================] - 0s 52us/step\n",
      "64/64 [==============================] - 0s 47us/step\n",
      "128/128 [==============================] - 0s 33us/step\n",
      "64/64 [==============================] - 0s 94us/step\n",
      "64/64 [==============================] - 0s 73us/step\n",
      "128/128 [==============================] - 0s 35us/step\n",
      "64/64 [==============================] - 0s 89us/step\n",
      "64/64 [==============================] - 0s 43us/step\n"
     ]
    },
    {
     "name": "stderr",
     "output_type": "stream",
     "text": [
      "\r",
      "  8%|▊         | 76/1000 [00:07<01:26, 10.69it/s]"
     ]
    },
    {
     "name": "stdout",
     "output_type": "stream",
     "text": [
      "128/128 [==============================] - 0s 43us/step\n",
      "64/64 [==============================] - 0s 87us/step\n",
      "64/64 [==============================] - 0s 65us/step\n",
      "128/128 [==============================] - 0s 35us/step\n",
      "64/64 [==============================] - 0s 56us/step\n",
      "64/64 [==============================] - 0s 53us/step\n",
      "128/128 [==============================] - 0s 42us/step\n",
      "64/64 [==============================] - 0s 51us/step\n",
      "64/64 [==============================] - 0s 63us/step\n",
      "128/128 [==============================] - 0s 33us/step\n",
      "64/64 [==============================] - 0s 66us/step\n",
      "64/64 [==============================] - 0s 42us/step\n"
     ]
    },
    {
     "name": "stderr",
     "output_type": "stream",
     "text": [
      "\r",
      "  8%|▊         | 80/1000 [00:07<01:23, 11.07it/s]"
     ]
    },
    {
     "name": "stdout",
     "output_type": "stream",
     "text": [
      "128/128 [==============================] - 0s 32us/step\n",
      "64/64 [==============================] - 0s 42us/step\n",
      "64/64 [==============================] - 0s 58us/step\n",
      "128/128 [==============================] - 0s 45us/step\n",
      "64/64 [==============================] - 0s 58us/step\n",
      "64/64 [==============================] - 0s 45us/step\n",
      "128/128 [==============================] - 0s 34us/step\n",
      "64/64 [==============================] - 0s 62us/step\n",
      "64/64 [==============================] - 0s 46us/step\n",
      "128/128 [==============================] - 0s 42us/step\n",
      "64/64 [==============================] - 0s 44us/step\n",
      "64/64 [==============================] - 0s 51us/step\n"
     ]
    },
    {
     "name": "stderr",
     "output_type": "stream",
     "text": [
      "\r",
      "  8%|▊         | 84/1000 [00:07<01:19, 11.45it/s]"
     ]
    },
    {
     "name": "stdout",
     "output_type": "stream",
     "text": [
      "128/128 [==============================] - 0s 68us/step\n",
      "64/64 [==============================] - 0s 55us/step\n",
      "64/64 [==============================] - 0s 42us/step\n",
      "128/128 [==============================] - 0s 67us/step\n",
      "64/64 [==============================] - 0s 37us/step\n",
      "64/64 [==============================] - 0s 54us/step\n",
      "128/128 [==============================] - 0s 37us/step\n",
      "64/64 [==============================] - 0s 107us/step\n",
      "64/64 [==============================] - 0s 63us/step\n",
      "128/128 [==============================] - 0s 35us/step\n",
      "64/64 [==============================] - 0s 47us/step\n",
      "64/64 [==============================] - 0s 61us/step\n"
     ]
    },
    {
     "name": "stderr",
     "output_type": "stream",
     "text": [
      "\r",
      "  9%|▉         | 88/1000 [00:07<01:17, 11.80it/s]"
     ]
    },
    {
     "name": "stdout",
     "output_type": "stream",
     "text": [
      "128/128 [==============================] - 0s 47us/step\n",
      "64/64 [==============================] - 0s 49us/step\n",
      "64/64 [==============================] - 0s 50us/step\n",
      "128/128 [==============================] - 0s 40us/step\n",
      "64/64 [==============================] - 0s 40us/step\n",
      "64/64 [==============================] - 0s 38us/step\n",
      "128/128 [==============================] - 0s 35us/step\n",
      "64/64 [==============================] - 0s 66us/step\n",
      "64/64 [==============================] - 0s 51us/step\n",
      "128/128 [==============================] - 0s 31us/step\n",
      "64/64 [==============================] - 0s 49us/step\n",
      "64/64 [==============================] - 0s 62us/step\n"
     ]
    },
    {
     "name": "stderr",
     "output_type": "stream",
     "text": [
      "\r",
      "  9%|▉         | 92/1000 [00:07<01:14, 12.16it/s]"
     ]
    },
    {
     "name": "stdout",
     "output_type": "stream",
     "text": [
      "128/128 [==============================] - 0s 52us/step\n",
      "64/64 [==============================] - 0s 77us/step\n",
      "64/64 [==============================] - 0s 57us/step\n",
      "128/128 [==============================] - 0s 32us/step\n",
      "64/64 [==============================] - 0s 42us/step\n",
      "64/64 [==============================] - 0s 68us/step\n",
      "128/128 [==============================] - 0s 36us/step\n",
      "64/64 [==============================] - 0s 42us/step\n",
      "64/64 [==============================] - 0s 64us/step\n",
      "128/128 [==============================] - 0s 39us/step\n",
      "64/64 [==============================] - 0s 54us/step\n",
      "64/64 [==============================] - 0s 42us/step\n"
     ]
    },
    {
     "name": "stderr",
     "output_type": "stream",
     "text": [
      "\r",
      " 10%|▉         | 96/1000 [00:07<01:12, 12.50it/s]"
     ]
    },
    {
     "name": "stdout",
     "output_type": "stream",
     "text": [
      "128/128 [==============================] - 0s 35us/step\n",
      "64/64 [==============================] - 0s 57us/step\n",
      "64/64 [==============================] - 0s 61us/step\n",
      "128/128 [==============================] - 0s 32us/step\n",
      "64/64 [==============================] - 0s 49us/step\n",
      "64/64 [==============================] - 0s 77us/step\n",
      "128/128 [==============================] - 0s 40us/step\n",
      "64/64 [==============================] - 0s 38us/step\n",
      "64/64 [==============================] - 0s 43us/step\n",
      "128/128 [==============================] - 0s 40us/step\n",
      "64/64 [==============================] - 0s 44us/step\n",
      "64/64 [==============================] - 0s 66us/step\n"
     ]
    },
    {
     "name": "stderr",
     "output_type": "stream",
     "text": [
      "\r",
      " 10%|█         | 100/1000 [00:07<01:10, 12.83it/s]"
     ]
    },
    {
     "name": "stdout",
     "output_type": "stream",
     "text": [
      "128/128 [==============================] - 0s 37us/step\n",
      "64/64 [==============================] - 0s 43us/step\n",
      "64/64 [==============================] - 0s 43us/step\n",
      "128/128 [==============================] - 0s 40us/step\n",
      "64/64 [==============================] - 0s 46us/step\n",
      "64/64 [==============================] - 0s 39us/step\n",
      "128/128 [==============================] - 0s 35us/step\n",
      "64/64 [==============================] - 0s 37us/step\n",
      "64/64 [==============================] - 0s 52us/step\n",
      "128/128 [==============================] - 0s 49us/step\n",
      "64/64 [==============================] - 0s 44us/step\n",
      "64/64 [==============================] - 0s 57us/step\n"
     ]
    },
    {
     "name": "stderr",
     "output_type": "stream",
     "text": [
      "\r",
      " 10%|█         | 104/1000 [00:10<01:34,  9.52it/s]"
     ]
    },
    {
     "name": "stdout",
     "output_type": "stream",
     "text": [
      "128/128 [==============================] - 0s 46us/step\n",
      "64/64 [==============================] - 0s 47us/step\n",
      "64/64 [==============================] - 0s 55us/step\n",
      "128/128 [==============================] - 0s 35us/step\n",
      "64/64 [==============================] - 0s 46us/step\n",
      "64/64 [==============================] - 0s 62us/step\n",
      "128/128 [==============================] - 0s 40us/step\n",
      "64/64 [==============================] - 0s 60us/step\n",
      "64/64 [==============================] - 0s 52us/step\n",
      "128/128 [==============================] - 0s 47us/step\n",
      "64/64 [==============================] - 0s 59us/step\n",
      "64/64 [==============================] - 0s 72us/step\n"
     ]
    },
    {
     "name": "stderr",
     "output_type": "stream",
     "text": [
      "\r",
      " 11%|█         | 108/1000 [00:11<01:31,  9.79it/s]"
     ]
    },
    {
     "name": "stdout",
     "output_type": "stream",
     "text": [
      "128/128 [==============================] - 0s 37us/step\n",
      "64/64 [==============================] - 0s 59us/step\n",
      "64/64 [==============================] - 0s 45us/step\n",
      "128/128 [==============================] - 0s 43us/step\n",
      "64/64 [==============================] - 0s 78us/step\n",
      "64/64 [==============================] - 0s 46us/step\n",
      "128/128 [==============================] - 0s 34us/step\n",
      "64/64 [==============================] - 0s 61us/step\n",
      "64/64 [==============================] - 0s 66us/step\n",
      "128/128 [==============================] - 0s 41us/step\n",
      "64/64 [==============================] - 0s 64us/step\n",
      "64/64 [==============================] - 0s 60us/step\n"
     ]
    },
    {
     "name": "stderr",
     "output_type": "stream",
     "text": [
      "\r",
      " 11%|█         | 112/1000 [00:11<01:28, 10.04it/s]"
     ]
    },
    {
     "name": "stdout",
     "output_type": "stream",
     "text": [
      "128/128 [==============================] - 0s 49us/step\n",
      "64/64 [==============================] - 0s 47us/step\n",
      "64/64 [==============================] - 0s 52us/step\n",
      "128/128 [==============================] - 0s 44us/step\n",
      "64/64 [==============================] - 0s 59us/step\n",
      "64/64 [==============================] - 0s 50us/step\n",
      "128/128 [==============================] - 0s 34us/step\n",
      "64/64 [==============================] - 0s 41us/step\n",
      "64/64 [==============================] - 0s 65us/step\n",
      "128/128 [==============================] - 0s 35us/step\n",
      "64/64 [==============================] - 0s 60us/step\n",
      "64/64 [==============================] - 0s 66us/step\n"
     ]
    },
    {
     "name": "stderr",
     "output_type": "stream",
     "text": [
      "\r",
      " 12%|█▏        | 116/1000 [00:11<01:25, 10.29it/s]"
     ]
    },
    {
     "name": "stdout",
     "output_type": "stream",
     "text": [
      "128/128 [==============================] - 0s 51us/step\n",
      "64/64 [==============================] - 0s 42us/step\n",
      "64/64 [==============================] - 0s 41us/step\n",
      "128/128 [==============================] - 0s 42us/step\n",
      "64/64 [==============================] - 0s 48us/step\n",
      "64/64 [==============================] - 0s 66us/step\n",
      "128/128 [==============================] - 0s 48us/step\n",
      "64/64 [==============================] - 0s 48us/step\n",
      "64/64 [==============================] - 0s 57us/step\n",
      "128/128 [==============================] - 0s 37us/step\n",
      "64/64 [==============================] - 0s 57us/step\n",
      "64/64 [==============================] - 0s 53us/step\n"
     ]
    },
    {
     "name": "stderr",
     "output_type": "stream",
     "text": [
      "\r",
      " 12%|█▏        | 120/1000 [00:11<01:23, 10.54it/s]"
     ]
    },
    {
     "name": "stdout",
     "output_type": "stream",
     "text": [
      "128/128 [==============================] - 0s 34us/step\n",
      "64/64 [==============================] - 0s 49us/step\n",
      "64/64 [==============================] - 0s 63us/step\n",
      "128/128 [==============================] - 0s 45us/step\n",
      "64/64 [==============================] - 0s 96us/step\n",
      "64/64 [==============================] - 0s 63us/step\n",
      "128/128 [==============================] - 0s 40us/step\n",
      "64/64 [==============================] - 0s 45us/step\n",
      "64/64 [==============================] - 0s 47us/step\n",
      "128/128 [==============================] - 0s 40us/step\n",
      "64/64 [==============================] - 0s 56us/step\n",
      "64/64 [==============================] - 0s 50us/step\n"
     ]
    },
    {
     "name": "stderr",
     "output_type": "stream",
     "text": [
      "\r",
      " 12%|█▏        | 124/1000 [00:11<01:21, 10.78it/s]"
     ]
    },
    {
     "name": "stdout",
     "output_type": "stream",
     "text": [
      "128/128 [==============================] - 0s 40us/step\n",
      "64/64 [==============================] - 0s 145us/step\n",
      "64/64 [==============================] - 0s 52us/step\n",
      "128/128 [==============================] - 0s 53us/step\n",
      "64/64 [==============================] - 0s 58us/step\n",
      "64/64 [==============================] - 0s 69us/step\n",
      "128/128 [==============================] - 0s 105us/step\n",
      "64/64 [==============================] - 0s 58us/step\n",
      "64/64 [==============================] - 0s 62us/step\n",
      "128/128 [==============================] - 0s 41us/step\n",
      "64/64 [==============================] - 0s 45us/step\n",
      "64/64 [==============================] - 0s 96us/step\n"
     ]
    },
    {
     "name": "stderr",
     "output_type": "stream",
     "text": [
      "\r",
      " 13%|█▎        | 128/1000 [00:11<01:19, 10.99it/s]"
     ]
    },
    {
     "name": "stdout",
     "output_type": "stream",
     "text": [
      "128/128 [==============================] - 0s 43us/step\n",
      "64/64 [==============================] - 0s 59us/step\n",
      "64/64 [==============================] - 0s 65us/step\n",
      "128/128 [==============================] - 0s 35us/step\n",
      "64/64 [==============================] - 0s 51us/step\n",
      "64/64 [==============================] - 0s 48us/step\n",
      "128/128 [==============================] - 0s 47us/step\n",
      "64/64 [==============================] - 0s 45us/step\n",
      "64/64 [==============================] - 0s 54us/step\n",
      "128/128 [==============================] - 0s 42us/step\n",
      "64/64 [==============================] - 0s 52us/step\n",
      "64/64 [==============================] - 0s 51us/step\n"
     ]
    },
    {
     "name": "stderr",
     "output_type": "stream",
     "text": [
      "\r",
      " 13%|█▎        | 132/1000 [00:11<01:17, 11.22it/s]"
     ]
    },
    {
     "name": "stdout",
     "output_type": "stream",
     "text": [
      "128/128 [==============================] - 0s 40us/step\n",
      "64/64 [==============================] - 0s 48us/step\n",
      "64/64 [==============================] - 0s 52us/step\n",
      "128/128 [==============================] - 0s 36us/step\n",
      "64/64 [==============================] - 0s 61us/step\n",
      "64/64 [==============================] - 0s 50us/step\n",
      "128/128 [==============================] - 0s 33us/step\n",
      "64/64 [==============================] - 0s 69us/step\n",
      "64/64 [==============================] - 0s 59us/step\n",
      "128/128 [==============================] - 0s 34us/step\n",
      "64/64 [==============================] - 0s 52us/step\n",
      "64/64 [==============================] - 0s 76us/step\n"
     ]
    },
    {
     "name": "stderr",
     "output_type": "stream",
     "text": [
      "\r",
      " 14%|█▎        | 136/1000 [00:11<01:15, 11.45it/s]"
     ]
    },
    {
     "name": "stdout",
     "output_type": "stream",
     "text": [
      "128/128 [==============================] - 0s 35us/step\n",
      "64/64 [==============================] - 0s 56us/step\n",
      "64/64 [==============================] - 0s 79us/step\n",
      "128/128 [==============================] - 0s 45us/step\n",
      "64/64 [==============================] - 0s 50us/step\n",
      "64/64 [==============================] - 0s 45us/step\n",
      "128/128 [==============================] - 0s 33us/step\n",
      "64/64 [==============================] - 0s 57us/step\n",
      "64/64 [==============================] - 0s 55us/step\n",
      "128/128 [==============================] - 0s 44us/step\n",
      "64/64 [==============================] - 0s 51us/step\n",
      "64/64 [==============================] - 0s 48us/step\n"
     ]
    },
    {
     "name": "stderr",
     "output_type": "stream",
     "text": [
      "\r",
      " 14%|█▍        | 140/1000 [00:11<01:13, 11.67it/s]"
     ]
    },
    {
     "name": "stdout",
     "output_type": "stream",
     "text": [
      "128/128 [==============================] - 0s 49us/step\n",
      "64/64 [==============================] - 0s 59us/step\n",
      "64/64 [==============================] - 0s 80us/step\n",
      "128/128 [==============================] - 0s 50us/step\n",
      "64/64 [==============================] - 0s 43us/step\n",
      "64/64 [==============================] - 0s 73us/step\n",
      "128/128 [==============================] - 0s 40us/step\n",
      "64/64 [==============================] - 0s 43us/step\n",
      "64/64 [==============================] - 0s 69us/step\n",
      "128/128 [==============================] - 0s 33us/step\n",
      "64/64 [==============================] - 0s 67us/step\n",
      "64/64 [==============================] - 0s 47us/step\n"
     ]
    },
    {
     "name": "stderr",
     "output_type": "stream",
     "text": [
      "\r",
      " 14%|█▍        | 144/1000 [00:12<01:12, 11.89it/s]"
     ]
    },
    {
     "name": "stdout",
     "output_type": "stream",
     "text": [
      "128/128 [==============================] - 0s 36us/step\n",
      "64/64 [==============================] - 0s 56us/step\n",
      "64/64 [==============================] - 0s 64us/step\n",
      "128/128 [==============================] - 0s 41us/step\n",
      "64/64 [==============================] - 0s 46us/step\n",
      "64/64 [==============================] - 0s 44us/step\n",
      "128/128 [==============================] - 0s 33us/step\n",
      "64/64 [==============================] - 0s 69us/step\n",
      "64/64 [==============================] - 0s 53us/step\n",
      "128/128 [==============================] - 0s 47us/step\n",
      "64/64 [==============================] - 0s 119us/step\n",
      "64/64 [==============================] - 0s 55us/step\n"
     ]
    },
    {
     "name": "stderr",
     "output_type": "stream",
     "text": [
      "\r",
      " 15%|█▍        | 148/1000 [00:12<01:10, 12.10it/s]"
     ]
    },
    {
     "name": "stdout",
     "output_type": "stream",
     "text": [
      "128/128 [==============================] - 0s 37us/step\n",
      "64/64 [==============================] - 0s 64us/step\n",
      "64/64 [==============================] - 0s 74us/step\n",
      "128/128 [==============================] - 0s 34us/step\n",
      "64/64 [==============================] - 0s 45us/step\n",
      "64/64 [==============================] - 0s 59us/step\n",
      "128/128 [==============================] - 0s 42us/step\n",
      "64/64 [==============================] - 0s 42us/step\n",
      "64/64 [==============================] - 0s 45us/step\n",
      "128/128 [==============================] - 0s 34us/step\n",
      "64/64 [==============================] - 0s 66us/step\n",
      "64/64 [==============================] - 0s 60us/step\n"
     ]
    },
    {
     "name": "stderr",
     "output_type": "stream",
     "text": [
      "\r",
      " 15%|█▌        | 152/1000 [00:12<01:08, 12.31it/s]"
     ]
    },
    {
     "name": "stdout",
     "output_type": "stream",
     "text": [
      "128/128 [==============================] - 0s 36us/step\n",
      "64/64 [==============================] - 0s 43us/step\n",
      "64/64 [==============================] - 0s 58us/step\n",
      "128/128 [==============================] - 0s 45us/step\n",
      "64/64 [==============================] - 0s 39us/step\n",
      "64/64 [==============================] - 0s 42us/step\n",
      "128/128 [==============================] - 0s 40us/step\n",
      "64/64 [==============================] - 0s 46us/step\n",
      "64/64 [==============================] - 0s 67us/step\n",
      "128/128 [==============================] - 0s 42us/step\n",
      "64/64 [==============================] - 0s 41us/step\n",
      "64/64 [==============================] - 0s 67us/step\n"
     ]
    },
    {
     "name": "stderr",
     "output_type": "stream",
     "text": [
      "\r",
      " 16%|█▌        | 156/1000 [00:12<01:07, 12.52it/s]"
     ]
    },
    {
     "name": "stdout",
     "output_type": "stream",
     "text": [
      "128/128 [==============================] - 0s 44us/step\n",
      "64/64 [==============================] - 0s 64us/step\n",
      "64/64 [==============================] - 0s 52us/step\n",
      "128/128 [==============================] - 0s 39us/step\n",
      "64/64 [==============================] - 0s 48us/step\n",
      "64/64 [==============================] - 0s 62us/step\n",
      "128/128 [==============================] - 0s 34us/step\n",
      "64/64 [==============================] - 0s 42us/step\n",
      "64/64 [==============================] - 0s 79us/step\n",
      "128/128 [==============================] - 0s 35us/step\n",
      "64/64 [==============================] - 0s 51us/step\n",
      "64/64 [==============================] - 0s 46us/step\n"
     ]
    },
    {
     "name": "stderr",
     "output_type": "stream",
     "text": [
      "\r",
      " 16%|█▌        | 160/1000 [00:12<01:05, 12.73it/s]"
     ]
    },
    {
     "name": "stdout",
     "output_type": "stream",
     "text": [
      "128/128 [==============================] - 0s 31us/step\n",
      "64/64 [==============================] - 0s 48us/step\n",
      "64/64 [==============================] - 0s 62us/step\n",
      "128/128 [==============================] - 0s 32us/step\n",
      "64/64 [==============================] - 0s 44us/step\n",
      "64/64 [==============================] - 0s 64us/step\n",
      "128/128 [==============================] - 0s 48us/step\n",
      "64/64 [==============================] - 0s 38us/step\n",
      "64/64 [==============================] - 0s 38us/step\n",
      "128/128 [==============================] - 0s 45us/step\n",
      "64/64 [==============================] - 0s 77us/step\n",
      "64/64 [==============================] - 0s 54us/step\n"
     ]
    },
    {
     "name": "stderr",
     "output_type": "stream",
     "text": [
      "\r",
      " 16%|█▋        | 164/1000 [00:12<01:04, 12.93it/s]"
     ]
    },
    {
     "name": "stdout",
     "output_type": "stream",
     "text": [
      "128/128 [==============================] - 0s 37us/step\n",
      "64/64 [==============================] - 0s 39us/step\n",
      "64/64 [==============================] - 0s 57us/step\n",
      "128/128 [==============================] - 0s 36us/step\n",
      "64/64 [==============================] - 0s 54us/step\n",
      "64/64 [==============================] - 0s 68us/step\n",
      "128/128 [==============================] - 0s 33us/step\n",
      "64/64 [==============================] - 0s 70us/step\n",
      "64/64 [==============================] - 0s 58us/step\n",
      "128/128 [==============================] - 0s 39us/step\n",
      "64/64 [==============================] - 0s 67us/step\n",
      "64/64 [==============================] - 0s 48us/step\n"
     ]
    },
    {
     "name": "stderr",
     "output_type": "stream",
     "text": [
      "\r",
      " 17%|█▋        | 168/1000 [00:12<01:03, 13.13it/s]"
     ]
    },
    {
     "name": "stdout",
     "output_type": "stream",
     "text": [
      "128/128 [==============================] - 0s 34us/step\n",
      "64/64 [==============================] - 0s 43us/step\n",
      "64/64 [==============================] - 0s 52us/step\n",
      "128/128 [==============================] - 0s 41us/step\n",
      "64/64 [==============================] - 0s 54us/step\n",
      "64/64 [==============================] - 0s 56us/step\n",
      "128/128 [==============================] - 0s 33us/step\n",
      "64/64 [==============================] - 0s 58us/step\n",
      "64/64 [==============================] - 0s 62us/step\n",
      "128/128 [==============================] - 0s 39us/step\n",
      "64/64 [==============================] - 0s 38us/step\n",
      "64/64 [==============================] - 0s 83us/step\n"
     ]
    },
    {
     "name": "stderr",
     "output_type": "stream",
     "text": [
      "\r",
      " 17%|█▋        | 172/1000 [00:12<01:02, 13.32it/s]"
     ]
    },
    {
     "name": "stdout",
     "output_type": "stream",
     "text": [
      "128/128 [==============================] - 0s 40us/step\n",
      "64/64 [==============================] - 0s 40us/step\n",
      "64/64 [==============================] - 0s 44us/step\n",
      "128/128 [==============================] - 0s 40us/step\n",
      "64/64 [==============================] - 0s 86us/step\n",
      "64/64 [==============================] - 0s 45us/step\n",
      "128/128 [==============================] - 0s 33us/step\n",
      "64/64 [==============================] - 0s 99us/step\n",
      "64/64 [==============================] - 0s 58us/step\n",
      "128/128 [==============================] - 0s 42us/step\n",
      "64/64 [==============================] - 0s 70us/step\n",
      "64/64 [==============================] - 0s 64us/step\n"
     ]
    },
    {
     "name": "stderr",
     "output_type": "stream",
     "text": [
      "\r",
      " 18%|█▊        | 176/1000 [00:13<01:01, 13.51it/s]"
     ]
    },
    {
     "name": "stdout",
     "output_type": "stream",
     "text": [
      "128/128 [==============================] - 0s 40us/step\n",
      "64/64 [==============================] - 0s 40us/step\n",
      "64/64 [==============================] - 0s 79us/step\n",
      "128/128 [==============================] - 0s 35us/step\n",
      "64/64 [==============================] - 0s 42us/step\n",
      "64/64 [==============================] - 0s 70us/step\n",
      "128/128 [==============================] - 0s 46us/step\n",
      "64/64 [==============================] - 0s 59us/step\n",
      "64/64 [==============================] - 0s 56us/step\n",
      "128/128 [==============================] - 0s 37us/step\n",
      "64/64 [==============================] - 0s 68us/step\n",
      "64/64 [==============================] - 0s 54us/step\n"
     ]
    },
    {
     "name": "stderr",
     "output_type": "stream",
     "text": [
      "\r",
      " 18%|█▊        | 180/1000 [00:13<00:59, 13.69it/s]"
     ]
    },
    {
     "name": "stdout",
     "output_type": "stream",
     "text": [
      "128/128 [==============================] - 0s 34us/step\n",
      "64/64 [==============================] - 0s 40us/step\n",
      "64/64 [==============================] - 0s 49us/step\n",
      "128/128 [==============================] - 0s 42us/step\n",
      "64/64 [==============================] - 0s 51us/step\n",
      "64/64 [==============================] - 0s 54us/step\n",
      "128/128 [==============================] - 0s 40us/step\n",
      "64/64 [==============================] - 0s 62us/step\n",
      "64/64 [==============================] - 0s 57us/step\n",
      "128/128 [==============================] - 0s 43us/step\n",
      "64/64 [==============================] - 0s 65us/step\n",
      "64/64 [==============================] - 0s 48us/step\n"
     ]
    },
    {
     "name": "stderr",
     "output_type": "stream",
     "text": [
      "\r",
      " 18%|█▊        | 184/1000 [00:13<00:58, 13.88it/s]"
     ]
    },
    {
     "name": "stdout",
     "output_type": "stream",
     "text": [
      "128/128 [==============================] - 0s 36us/step\n",
      "64/64 [==============================] - 0s 48us/step\n",
      "64/64 [==============================] - 0s 54us/step\n",
      "128/128 [==============================] - 0s 44us/step\n",
      "64/64 [==============================] - 0s 46us/step\n",
      "64/64 [==============================] - 0s 52us/step\n",
      "128/128 [==============================] - 0s 33us/step\n",
      "64/64 [==============================] - 0s 41us/step\n",
      "64/64 [==============================] - 0s 60us/step\n",
      "128/128 [==============================] - 0s 45us/step\n",
      "64/64 [==============================] - 0s 60us/step\n",
      "64/64 [==============================] - 0s 54us/step\n"
     ]
    },
    {
     "name": "stderr",
     "output_type": "stream",
     "text": [
      "\r",
      " 19%|█▉        | 188/1000 [00:13<00:57, 14.05it/s]"
     ]
    },
    {
     "name": "stdout",
     "output_type": "stream",
     "text": [
      "128/128 [==============================] - 0s 40us/step\n",
      "64/64 [==============================] - 0s 41us/step\n",
      "64/64 [==============================] - 0s 62us/step\n",
      "128/128 [==============================] - 0s 49us/step\n",
      "64/64 [==============================] - 0s 62us/step\n",
      "64/64 [==============================] - 0s 54us/step\n",
      "128/128 [==============================] - 0s 34us/step\n",
      "64/64 [==============================] - 0s 56us/step\n",
      "64/64 [==============================] - 0s 57us/step\n",
      "128/128 [==============================] - 0s 34us/step\n",
      "64/64 [==============================] - 0s 52us/step\n",
      "64/64 [==============================] - 0s 69us/step\n"
     ]
    },
    {
     "name": "stderr",
     "output_type": "stream",
     "text": [
      "\r",
      " 19%|█▉        | 192/1000 [00:13<00:56, 14.23it/s]"
     ]
    },
    {
     "name": "stdout",
     "output_type": "stream",
     "text": [
      "128/128 [==============================] - 0s 49us/step\n",
      "64/64 [==============================] - 0s 57us/step\n",
      "64/64 [==============================] - 0s 52us/step\n",
      "128/128 [==============================] - 0s 36us/step\n",
      "64/64 [==============================] - 0s 41us/step\n",
      "64/64 [==============================] - 0s 58us/step\n",
      "128/128 [==============================] - 0s 34us/step\n",
      "64/64 [==============================] - 0s 36us/step\n",
      "64/64 [==============================] - 0s 106us/step\n",
      "128/128 [==============================] - 0s 32us/step\n",
      "64/64 [==============================] - 0s 54us/step\n",
      "64/64 [==============================] - 0s 71us/step\n"
     ]
    },
    {
     "name": "stderr",
     "output_type": "stream",
     "text": [
      "\r",
      " 20%|█▉        | 196/1000 [00:13<00:55, 14.41it/s]"
     ]
    },
    {
     "name": "stdout",
     "output_type": "stream",
     "text": [
      "128/128 [==============================] - 0s 49us/step\n",
      "64/64 [==============================] - 0s 58us/step\n",
      "64/64 [==============================] - 0s 40us/step\n",
      "128/128 [==============================] - 0s 33us/step\n",
      "64/64 [==============================] - 0s 93us/step\n",
      "64/64 [==============================] - 0s 58us/step\n",
      "128/128 [==============================] - 0s 36us/step\n",
      "64/64 [==============================] - 0s 56us/step\n",
      "64/64 [==============================] - 0s 57us/step\n",
      "128/128 [==============================] - 0s 45us/step\n",
      "64/64 [==============================] - 0s 58us/step\n",
      "64/64 [==============================] - 0s 48us/step\n"
     ]
    },
    {
     "name": "stderr",
     "output_type": "stream",
     "text": [
      "\r",
      " 20%|██        | 200/1000 [00:13<00:54, 14.58it/s]"
     ]
    },
    {
     "name": "stdout",
     "output_type": "stream",
     "text": [
      "128/128 [==============================] - 0s 36us/step\n",
      "64/64 [==============================] - 0s 100us/step\n",
      "64/64 [==============================] - 0s 53us/step\n",
      "128/128 [==============================] - 0s 37us/step\n",
      "64/64 [==============================] - 0s 50us/step\n",
      "64/64 [==============================] - 0s 49us/step\n",
      "128/128 [==============================] - 0s 34us/step\n",
      "64/64 [==============================] - 0s 61us/step\n",
      "64/64 [==============================] - 0s 40us/step\n",
      "128/128 [==============================] - 0s 36us/step\n",
      "64/64 [==============================] - 0s 48us/step\n",
      "64/64 [==============================] - 0s 59us/step\n"
     ]
    },
    {
     "name": "stderr",
     "output_type": "stream",
     "text": [
      "\r",
      " 20%|██        | 204/1000 [00:16<01:05, 12.10it/s]"
     ]
    },
    {
     "name": "stdout",
     "output_type": "stream",
     "text": [
      "128/128 [==============================] - 0s 39us/step\n",
      "64/64 [==============================] - 0s 79us/step\n",
      "64/64 [==============================] - 0s 49us/step\n",
      "128/128 [==============================] - 0s 46us/step\n",
      "64/64 [==============================] - 0s 99us/step\n",
      "64/64 [==============================] - 0s 66us/step\n",
      "128/128 [==============================] - 0s 41us/step\n",
      "64/64 [==============================] - 0s 68us/step\n",
      "64/64 [==============================] - 0s 65us/step\n",
      "128/128 [==============================] - 0s 40us/step\n",
      "64/64 [==============================] - 0s 54us/step\n",
      "64/64 [==============================] - 0s 66us/step\n"
     ]
    },
    {
     "name": "stderr",
     "output_type": "stream",
     "text": [
      "\r",
      " 21%|██        | 208/1000 [00:16<01:04, 12.25it/s]"
     ]
    },
    {
     "name": "stdout",
     "output_type": "stream",
     "text": [
      "128/128 [==============================] - ETA:  - 0s 54us/step\n",
      "64/64 [==============================] - 0s 48us/step\n",
      "64/64 [==============================] - 0s 45us/step\n",
      "128/128 [==============================] - 0s 42us/step\n",
      "64/64 [==============================] - 0s 43us/step\n",
      "64/64 [==============================] - 0s 62us/step\n",
      "128/128 [==============================] - 0s 35us/step\n",
      "64/64 [==============================] - 0s 44us/step\n",
      "64/64 [==============================] - 0s 70us/step\n",
      "128/128 [==============================] - 0s 42us/step\n",
      "64/64 [==============================] - 0s 41us/step\n",
      "64/64 [==============================] - 0s 48us/step\n"
     ]
    },
    {
     "name": "stderr",
     "output_type": "stream",
     "text": [
      "\r",
      " 21%|██        | 212/1000 [00:17<01:03, 12.40it/s]"
     ]
    },
    {
     "name": "stdout",
     "output_type": "stream",
     "text": [
      "128/128 [==============================] - 0s 45us/step\n",
      "64/64 [==============================] - 0s 67us/step\n",
      "64/64 [==============================] - 0s 59us/step\n",
      "128/128 [==============================] - 0s 38us/step\n",
      "64/64 [==============================] - 0s 49us/step\n",
      "64/64 [==============================] - 0s 46us/step\n",
      "128/128 [==============================] - 0s 44us/step\n",
      "64/64 [==============================] - 0s 46us/step\n",
      "64/64 [==============================] - 0s 91us/step\n",
      "128/128 [==============================] - 0s 43us/step\n",
      "64/64 [==============================] - 0s 77us/step\n",
      "64/64 [==============================] - 0s 59us/step\n"
     ]
    },
    {
     "name": "stderr",
     "output_type": "stream",
     "text": [
      "\r",
      " 22%|██▏       | 216/1000 [00:17<01:02, 12.55it/s]"
     ]
    },
    {
     "name": "stdout",
     "output_type": "stream",
     "text": [
      "128/128 [==============================] - 0s 36us/step\n",
      "64/64 [==============================] - 0s 55us/step\n",
      "64/64 [==============================] - 0s 104us/step\n",
      "128/128 [==============================] - 0s 43us/step\n",
      "64/64 [==============================] - 0s 45us/step\n",
      "64/64 [==============================] - 0s 50us/step\n",
      "128/128 [==============================] - 0s 37us/step\n",
      "64/64 [==============================] - 0s 50us/step\n",
      "64/64 [==============================] - 0s 55us/step\n",
      "128/128 [==============================] - 0s 37us/step\n",
      "64/64 [==============================] - 0s 49us/step\n",
      "64/64 [==============================] - 0s 51us/step\n"
     ]
    },
    {
     "name": "stderr",
     "output_type": "stream",
     "text": [
      "\r",
      " 22%|██▏       | 220/1000 [00:17<01:01, 12.69it/s]"
     ]
    },
    {
     "name": "stdout",
     "output_type": "stream",
     "text": [
      "128/128 [==============================] - 0s 31us/step\n",
      "64/64 [==============================] - 0s 48us/step\n",
      "64/64 [==============================] - 0s 62us/step\n",
      "128/128 [==============================] - 0s 34us/step\n",
      "64/64 [==============================] - 0s 64us/step\n",
      "64/64 [==============================] - 0s 52us/step\n",
      "128/128 [==============================] - 0s 47us/step\n",
      "64/64 [==============================] - 0s 40us/step\n",
      "64/64 [==============================] - 0s 55us/step\n",
      "128/128 [==============================] - 0s 40us/step\n",
      "64/64 [==============================] - 0s 55us/step\n",
      "64/64 [==============================] - 0s 60us/step\n"
     ]
    },
    {
     "name": "stderr",
     "output_type": "stream",
     "text": [
      "\r",
      " 22%|██▏       | 224/1000 [00:17<01:00, 12.83it/s]"
     ]
    },
    {
     "name": "stdout",
     "output_type": "stream",
     "text": [
      "128/128 [==============================] - 0s 33us/step\n",
      "64/64 [==============================] - 0s 41us/step\n",
      "64/64 [==============================] - 0s 56us/step\n",
      "128/128 [==============================] - 0s 43us/step\n",
      "64/64 [==============================] - 0s 48us/step\n",
      "64/64 [==============================] - 0s 109us/step\n",
      "128/128 [==============================] - 0s 49us/step\n",
      "64/64 [==============================] - 0s 40us/step\n",
      "64/64 [==============================] - 0s 50us/step\n",
      "128/128 [==============================] - 0s 47us/step\n",
      "64/64 [==============================] - 0s 43us/step\n",
      "64/64 [==============================] - 0s 46us/step\n"
     ]
    },
    {
     "name": "stderr",
     "output_type": "stream",
     "text": [
      "\r",
      " 23%|██▎       | 228/1000 [00:17<00:59, 12.98it/s]"
     ]
    },
    {
     "name": "stdout",
     "output_type": "stream",
     "text": [
      "128/128 [==============================] - 0s 45us/step\n",
      "64/64 [==============================] - 0s 61us/step\n",
      "64/64 [==============================] - 0s 71us/step\n",
      "128/128 [==============================] - 0s 37us/step\n",
      "64/64 [==============================] - 0s 35us/step\n",
      "64/64 [==============================] - 0s 74us/step\n",
      "128/128 [==============================] - 0s 50us/step\n",
      "64/64 [==============================] - 0s 43us/step\n",
      "64/64 [==============================] - 0s 50us/step\n",
      "128/128 [==============================] - 0s 49us/step\n",
      "64/64 [==============================] - 0s 64us/step\n",
      "64/64 [==============================] - 0s 59us/step\n"
     ]
    },
    {
     "name": "stderr",
     "output_type": "stream",
     "text": [
      "\r",
      " 23%|██▎       | 232/1000 [00:17<00:58, 13.12it/s]"
     ]
    },
    {
     "name": "stdout",
     "output_type": "stream",
     "text": [
      "128/128 [==============================] - 0s 39us/step\n",
      "64/64 [==============================] - 0s 59us/step\n",
      "64/64 [==============================] - 0s 66us/step\n",
      "128/128 [==============================] - 0s 40us/step\n",
      "64/64 [==============================] - 0s 63us/step\n",
      "64/64 [==============================] - 0s 68us/step\n",
      "128/128 [==============================] - 0s 41us/step\n",
      "64/64 [==============================] - 0s 64us/step\n",
      "64/64 [==============================] - 0s 44us/step\n",
      "128/128 [==============================] - 0s 48us/step\n",
      "64/64 [==============================] - 0s 55us/step\n",
      "64/64 [==============================] - 0s 50us/step\n"
     ]
    },
    {
     "name": "stderr",
     "output_type": "stream",
     "text": [
      "\r",
      " 24%|██▎       | 236/1000 [00:17<00:57, 13.26it/s]"
     ]
    },
    {
     "name": "stdout",
     "output_type": "stream",
     "text": [
      "128/128 [==============================] - 0s 35us/step\n",
      "64/64 [==============================] - 0s 58us/step\n",
      "64/64 [==============================] - 0s 84us/step\n",
      "128/128 [==============================] - 0s 40us/step\n",
      "64/64 [==============================] - 0s 79us/step\n",
      "64/64 [==============================] - 0s 76us/step\n",
      "128/128 [==============================] - 0s 40us/step\n",
      "64/64 [==============================] - 0s 39us/step\n",
      "64/64 [==============================] - 0s 172us/step\n",
      "128/128 [==============================] - 0s 56us/step\n",
      "64/64 [==============================] - 0s 52us/step\n",
      "64/64 [==============================] - 0s 68us/step\n"
     ]
    },
    {
     "name": "stderr",
     "output_type": "stream",
     "text": [
      "\r",
      " 24%|██▍       | 240/1000 [00:17<00:56, 13.38it/s]"
     ]
    },
    {
     "name": "stdout",
     "output_type": "stream",
     "text": [
      "128/128 [==============================] - 0s 37us/step\n",
      "64/64 [==============================] - 0s 70us/step\n",
      "64/64 [==============================] - 0s 78us/step\n",
      "128/128 [==============================] - 0s 46us/step\n",
      "64/64 [==============================] - 0s 63us/step\n",
      "64/64 [==============================] - 0s 58us/step\n",
      "128/128 [==============================] - 0s 31us/step\n",
      "64/64 [==============================] - 0s 57us/step\n",
      "64/64 [==============================] - 0s 56us/step\n",
      "128/128 [==============================] - 0s 45us/step\n",
      "64/64 [==============================] - 0s 46us/step\n",
      "64/64 [==============================] - 0s 41us/step\n"
     ]
    },
    {
     "name": "stderr",
     "output_type": "stream",
     "text": [
      "\r",
      " 24%|██▍       | 244/1000 [00:18<00:55, 13.51it/s]"
     ]
    },
    {
     "name": "stdout",
     "output_type": "stream",
     "text": [
      "128/128 [==============================] - 0s 36us/step\n",
      "64/64 [==============================] - 0s 54us/step\n",
      "64/64 [==============================] - 0s 73us/step\n",
      "128/128 [==============================] - 0s 33us/step\n",
      "64/64 [==============================] - 0s 51us/step\n",
      "64/64 [==============================] - 0s 80us/step\n",
      "128/128 [==============================] - 0s 42us/step\n",
      "64/64 [==============================] - 0s 55us/step\n",
      "64/64 [==============================] - 0s 57us/step\n",
      "128/128 [==============================] - 0s 41us/step\n",
      "64/64 [==============================] - 0s 46us/step\n",
      "64/64 [==============================] - 0s 48us/step\n"
     ]
    },
    {
     "name": "stderr",
     "output_type": "stream",
     "text": [
      "\r",
      " 25%|██▍       | 248/1000 [00:18<00:55, 13.65it/s]"
     ]
    },
    {
     "name": "stdout",
     "output_type": "stream",
     "text": [
      "128/128 [==============================] - 0s 50us/step\n",
      "64/64 [==============================] - 0s 65us/step\n",
      "64/64 [==============================] - 0s 51us/step\n",
      "128/128 [==============================] - 0s 38us/step\n",
      "64/64 [==============================] - 0s 46us/step\n",
      "64/64 [==============================] - 0s 76us/step\n",
      "128/128 [==============================] - 0s 33us/step\n",
      "64/64 [==============================] - 0s 40us/step\n",
      "64/64 [==============================] - 0s 54us/step\n",
      "128/128 [==============================] - 0s 47us/step\n",
      "64/64 [==============================] - 0s 44us/step\n",
      "64/64 [==============================] - 0s 56us/step\n"
     ]
    },
    {
     "name": "stderr",
     "output_type": "stream",
     "text": [
      "\r",
      " 25%|██▌       | 252/1000 [00:18<00:54, 13.78it/s]"
     ]
    },
    {
     "name": "stdout",
     "output_type": "stream",
     "text": [
      "128/128 [==============================] - 0s 37us/step\n",
      "64/64 [==============================] - 0s 112us/step\n",
      "64/64 [==============================] - 0s 50us/step\n",
      "128/128 [==============================] - 0s 34us/step\n",
      "64/64 [==============================] - 0s 73us/step\n",
      "64/64 [==============================] - 0s 46us/step\n",
      "128/128 [==============================] - 0s 42us/step\n",
      "64/64 [==============================] - 0s 45us/step\n",
      "64/64 [==============================] - 0s 56us/step\n",
      "128/128 [==============================] - 0s 47us/step\n",
      "64/64 [==============================] - 0s 42us/step\n",
      "64/64 [==============================] - 0s 47us/step\n"
     ]
    },
    {
     "name": "stderr",
     "output_type": "stream",
     "text": [
      "\r",
      " 26%|██▌       | 256/1000 [00:18<00:53, 13.91it/s]"
     ]
    },
    {
     "name": "stdout",
     "output_type": "stream",
     "text": [
      "128/128 [==============================] - 0s 39us/step\n",
      "64/64 [==============================] - 0s 66us/step\n",
      "64/64 [==============================] - 0s 58us/step\n",
      "128/128 [==============================] - 0s 42us/step\n",
      "64/64 [==============================] - 0s 53us/step\n",
      "64/64 [==============================] - 0s 51us/step\n",
      "128/128 [==============================] - 0s 34us/step\n",
      "64/64 [==============================] - 0s 62us/step\n",
      "64/64 [==============================] - 0s 102us/step\n",
      "128/128 [==============================] - 0s 36us/step\n",
      "64/64 [==============================] - 0s 41us/step\n",
      "64/64 [==============================] - 0s 58us/step\n"
     ]
    },
    {
     "name": "stderr",
     "output_type": "stream",
     "text": [
      "\r",
      " 26%|██▌       | 260/1000 [00:18<00:52, 14.04it/s]"
     ]
    },
    {
     "name": "stdout",
     "output_type": "stream",
     "text": [
      "128/128 [==============================] - 0s 35us/step\n",
      "64/64 [==============================] - 0s 54us/step\n",
      "64/64 [==============================] - 0s 53us/step\n",
      "128/128 [==============================] - 0s 35us/step\n",
      "64/64 [==============================] - 0s 46us/step\n",
      "64/64 [==============================] - 0s 46us/step\n",
      "128/128 [==============================] - 0s 41us/step\n",
      "64/64 [==============================] - 0s 55us/step\n",
      "64/64 [==============================] - 0s 67us/step\n",
      "128/128 [==============================] - 0s 42us/step\n",
      "64/64 [==============================] - 0s 46us/step\n",
      "64/64 [==============================] - 0s 63us/step\n"
     ]
    },
    {
     "name": "stderr",
     "output_type": "stream",
     "text": [
      "\r",
      " 26%|██▋       | 264/1000 [00:18<00:51, 14.17it/s]"
     ]
    },
    {
     "name": "stdout",
     "output_type": "stream",
     "text": [
      "128/128 [==============================] - 0s 36us/step\n",
      "64/64 [==============================] - 0s 47us/step\n",
      "64/64 [==============================] - 0s 66us/step\n",
      "128/128 [==============================] - 0s 37us/step\n",
      "64/64 [==============================] - ETA:  - 0s 57us/step\n",
      "64/64 [==============================] - 0s 77us/step\n",
      "128/128 [==============================] - 0s 49us/step\n",
      "64/64 [==============================] - 0s 51us/step\n",
      "64/64 [==============================] - 0s 57us/step\n",
      "128/128 [==============================] - 0s 35us/step\n",
      "64/64 [==============================] - 0s 56us/step\n",
      "64/64 [==============================] - 0s 48us/step\n"
     ]
    },
    {
     "name": "stderr",
     "output_type": "stream",
     "text": [
      "\r",
      " 27%|██▋       | 268/1000 [00:18<00:51, 14.29it/s]"
     ]
    },
    {
     "name": "stdout",
     "output_type": "stream",
     "text": [
      "128/128 [==============================] - 0s 33us/step\n",
      "64/64 [==============================] - 0s 45us/step\n",
      "64/64 [==============================] - 0s 116us/step\n",
      "128/128 [==============================] - 0s 34us/step\n",
      "64/64 [==============================] - 0s 55us/step\n",
      "64/64 [==============================] - 0s 69us/step\n",
      "128/128 [==============================] - 0s 50us/step\n",
      "64/64 [==============================] - 0s 44us/step\n",
      "64/64 [==============================] - 0s 61us/step\n",
      "128/128 [==============================] - 0s 48us/step\n",
      "64/64 [==============================] - 0s 55us/step\n",
      "64/64 [==============================] - 0s 53us/step\n"
     ]
    },
    {
     "name": "stderr",
     "output_type": "stream",
     "text": [
      "\r",
      " 27%|██▋       | 272/1000 [00:18<00:50, 14.41it/s]"
     ]
    },
    {
     "name": "stdout",
     "output_type": "stream",
     "text": [
      "128/128 [==============================] - 0s 41us/step\n",
      "64/64 [==============================] - 0s 74us/step\n",
      "64/64 [==============================] - 0s 53us/step\n",
      "128/128 [==============================] - 0s 35us/step\n",
      "64/64 [==============================] - 0s 106us/step\n",
      "64/64 [==============================] - 0s 62us/step\n",
      "128/128 [==============================] - 0s 34us/step\n",
      "64/64 [==============================] - 0s 58us/step\n",
      "64/64 [==============================] - 0s 102us/step\n",
      "128/128 [==============================] - 0s 41us/step\n",
      "64/64 [==============================] - 0s 45us/step\n",
      "64/64 [==============================] - 0s 68us/step\n"
     ]
    },
    {
     "name": "stderr",
     "output_type": "stream",
     "text": [
      "\r",
      " 28%|██▊       | 276/1000 [00:18<00:49, 14.53it/s]"
     ]
    },
    {
     "name": "stdout",
     "output_type": "stream",
     "text": [
      "128/128 [==============================] - 0s 47us/step\n",
      "64/64 [==============================] - 0s 36us/step\n",
      "64/64 [==============================] - 0s 66us/step\n",
      "128/128 [==============================] - 0s 51us/step\n",
      "64/64 [==============================] - 0s 69us/step\n",
      "64/64 [==============================] - 0s 42us/step\n",
      "128/128 [==============================] - 0s 41us/step\n",
      "64/64 [==============================] - 0s 56us/step\n",
      "64/64 [==============================] - 0s 66us/step\n",
      "128/128 [==============================] - 0s 34us/step\n",
      "64/64 [==============================] - 0s 55us/step\n",
      "64/64 [==============================] - 0s 46us/step\n"
     ]
    },
    {
     "name": "stderr",
     "output_type": "stream",
     "text": [
      "\r",
      " 28%|██▊       | 280/1000 [00:19<00:49, 14.65it/s]"
     ]
    },
    {
     "name": "stdout",
     "output_type": "stream",
     "text": [
      "128/128 [==============================] - 0s 37us/step\n",
      "64/64 [==============================] - 0s 54us/step\n",
      "64/64 [==============================] - 0s 49us/step\n",
      "128/128 [==============================] - 0s 40us/step\n",
      "64/64 [==============================] - 0s 61us/step\n",
      "64/64 [==============================] - 0s 43us/step\n",
      "128/128 [==============================] - 0s 41us/step\n",
      "64/64 [==============================] - 0s 69us/step\n",
      "64/64 [==============================] - 0s 72us/step\n",
      "128/128 [==============================] - 0s 42us/step\n",
      "64/64 [==============================] - 0s 53us/step\n",
      "64/64 [==============================] - 0s 43us/step\n"
     ]
    },
    {
     "name": "stderr",
     "output_type": "stream",
     "text": [
      "\r",
      " 28%|██▊       | 284/1000 [00:19<00:48, 14.76it/s]"
     ]
    },
    {
     "name": "stdout",
     "output_type": "stream",
     "text": [
      "128/128 [==============================] - 0s 43us/step\n",
      "64/64 [==============================] - 0s 53us/step\n",
      "64/64 [==============================] - 0s 61us/step\n",
      "128/128 [==============================] - 0s 38us/step\n",
      "64/64 [==============================] - 0s 42us/step\n",
      "64/64 [==============================] - 0s 67us/step\n",
      "128/128 [==============================] - 0s 38us/step\n",
      "64/64 [==============================] - 0s 44us/step\n",
      "64/64 [==============================] - 0s 52us/step\n",
      "128/128 [==============================] - 0s 33us/step\n",
      "64/64 [==============================] - 0s 68us/step\n",
      "64/64 [==============================] - 0s 69us/step\n"
     ]
    },
    {
     "name": "stderr",
     "output_type": "stream",
     "text": [
      "\r",
      " 29%|██▉       | 288/1000 [00:19<00:47, 14.88it/s]"
     ]
    },
    {
     "name": "stdout",
     "output_type": "stream",
     "text": [
      "128/128 [==============================] - 0s 42us/step\n",
      "64/64 [==============================] - 0s 50us/step\n",
      "64/64 [==============================] - 0s 64us/step\n",
      "128/128 [==============================] - 0s 34us/step\n",
      "64/64 [==============================] - 0s 56us/step\n",
      "64/64 [==============================] - 0s 45us/step\n",
      "128/128 [==============================] - 0s 46us/step\n",
      "64/64 [==============================] - 0s 58us/step\n",
      "64/64 [==============================] - 0s 57us/step\n",
      "128/128 [==============================] - 0s 35us/step\n",
      "64/64 [==============================] - 0s 54us/step\n",
      "64/64 [==============================] - 0s 45us/step\n"
     ]
    },
    {
     "name": "stderr",
     "output_type": "stream",
     "text": [
      "\r",
      " 29%|██▉       | 292/1000 [00:19<00:47, 15.00it/s]"
     ]
    },
    {
     "name": "stdout",
     "output_type": "stream",
     "text": [
      "128/128 [==============================] - 0s 34us/step\n",
      "64/64 [==============================] - 0s 89us/step\n",
      "64/64 [==============================] - 0s 74us/step\n",
      "128/128 [==============================] - 0s 38us/step\n",
      "64/64 [==============================] - 0s 43us/step\n",
      "64/64 [==============================] - 0s 56us/step\n",
      "128/128 [==============================] - 0s 46us/step\n",
      "64/64 [==============================] - 0s 50us/step\n",
      "64/64 [==============================] - 0s 42us/step\n",
      "128/128 [==============================] - 0s 35us/step\n",
      "64/64 [==============================] - 0s 113us/step\n",
      "64/64 [==============================] - 0s 60us/step\n"
     ]
    },
    {
     "name": "stderr",
     "output_type": "stream",
     "text": [
      "\r",
      " 30%|██▉       | 296/1000 [00:19<00:46, 15.11it/s]"
     ]
    },
    {
     "name": "stdout",
     "output_type": "stream",
     "text": [
      "128/128 [==============================] - 0s 35us/step\n",
      "64/64 [==============================] - 0s 57us/step\n",
      "64/64 [==============================] - 0s 73us/step\n",
      "128/128 [==============================] - 0s 40us/step\n",
      "64/64 [==============================] - 0s 47us/step\n",
      "64/64 [==============================] - 0s 73us/step\n",
      "128/128 [==============================] - 0s 43us/step\n",
      "64/64 [==============================] - 0s 56us/step\n",
      "64/64 [==============================] - 0s 58us/step\n",
      "128/128 [==============================] - 0s 39us/step\n",
      "64/64 [==============================] - 0s 54us/step\n",
      "64/64 [==============================] - 0s 49us/step\n"
     ]
    },
    {
     "name": "stderr",
     "output_type": "stream",
     "text": [
      "\r",
      " 30%|███       | 300/1000 [00:19<00:45, 15.22it/s]"
     ]
    },
    {
     "name": "stdout",
     "output_type": "stream",
     "text": [
      "128/128 [==============================] - 0s 65us/step\n",
      "64/64 [==============================] - 0s 51us/step\n",
      "64/64 [==============================] - 0s 73us/step\n",
      "128/128 [==============================] - 0s 41us/step\n",
      "64/64 [==============================] - 0s 41us/step\n",
      "64/64 [==============================] - 0s 44us/step\n",
      "128/128 [==============================] - 0s 44us/step\n",
      "64/64 [==============================] - 0s 36us/step\n",
      "64/64 [==============================] - 0s 59us/step\n",
      "128/128 [==============================] - 0s 35us/step\n",
      "64/64 [==============================] - 0s 53us/step\n",
      "64/64 [==============================] - 0s 52us/step\n"
     ]
    },
    {
     "name": "stderr",
     "output_type": "stream",
     "text": [
      "\r",
      " 30%|███       | 304/1000 [00:22<00:52, 13.23it/s]"
     ]
    },
    {
     "name": "stdout",
     "output_type": "stream",
     "text": [
      "128/128 [==============================] - 0s 52us/step\n",
      "64/64 [==============================] - 0s 51us/step\n",
      "64/64 [==============================] - 0s 60us/step\n",
      "128/128 [==============================] - 0s 38us/step\n",
      "64/64 [==============================] - 0s 44us/step\n",
      "64/64 [==============================] - 0s 45us/step\n",
      "128/128 [==============================] - 0s 37us/step\n",
      "64/64 [==============================] - 0s 48us/step\n",
      "64/64 [==============================] - 0s 56us/step\n",
      "128/128 [==============================] - 0s 46us/step\n",
      "64/64 [==============================] - 0s 58us/step\n",
      "64/64 [==============================] - 0s 68us/step\n"
     ]
    },
    {
     "name": "stderr",
     "output_type": "stream",
     "text": [
      "\r",
      " 31%|███       | 308/1000 [00:23<00:51, 13.34it/s]"
     ]
    },
    {
     "name": "stdout",
     "output_type": "stream",
     "text": [
      "128/128 [==============================] - 0s 40us/step\n",
      "64/64 [==============================] - 0s 56us/step\n",
      "64/64 [==============================] - 0s 43us/step\n",
      "128/128 [==============================] - 0s 43us/step\n",
      "64/64 [==============================] - 0s 38us/step\n",
      "64/64 [==============================] - 0s 67us/step\n",
      "128/128 [==============================] - 0s 36us/step\n",
      "64/64 [==============================] - 0s 57us/step\n",
      "64/64 [==============================] - 0s 76us/step\n",
      "128/128 [==============================] - 0s 37us/step\n",
      "64/64 [==============================] - 0s 54us/step\n",
      "64/64 [==============================] - 0s 62us/step\n"
     ]
    },
    {
     "name": "stderr",
     "output_type": "stream",
     "text": [
      "\r",
      " 31%|███       | 312/1000 [00:23<00:51, 13.44it/s]"
     ]
    },
    {
     "name": "stdout",
     "output_type": "stream",
     "text": [
      "128/128 [==============================] - 0s 71us/step\n",
      "64/64 [==============================] - 0s 59us/step\n",
      "64/64 [==============================] - 0s 50us/step\n",
      "128/128 [==============================] - 0s 44us/step\n",
      "64/64 [==============================] - 0s 46us/step\n",
      "64/64 [==============================] - 0s 64us/step\n",
      "128/128 [==============================] - 0s 34us/step\n",
      "64/64 [==============================] - 0s 57us/step\n",
      "64/64 [==============================] - 0s 74us/step\n",
      "128/128 [==============================] - 0s 35us/step\n",
      "64/64 [==============================] - 0s 49us/step\n",
      "64/64 [==============================] - 0s 75us/step\n"
     ]
    },
    {
     "name": "stderr",
     "output_type": "stream",
     "text": [
      "\r",
      " 32%|███▏      | 316/1000 [00:23<00:50, 13.55it/s]"
     ]
    },
    {
     "name": "stdout",
     "output_type": "stream",
     "text": [
      "128/128 [==============================] - 0s 43us/step\n",
      "64/64 [==============================] - 0s 38us/step\n",
      "64/64 [==============================] - 0s 57us/step\n",
      "128/128 [==============================] - 0s 45us/step\n",
      "64/64 [==============================] - 0s 39us/step\n",
      "64/64 [==============================] - 0s 58us/step\n",
      "128/128 [==============================] - 0s 40us/step\n",
      "64/64 [==============================] - 0s 38us/step\n",
      "64/64 [==============================] - 0s 75us/step\n",
      "128/128 [==============================] - 0s 36us/step\n",
      "64/64 [==============================] - 0s 110us/step\n",
      "64/64 [==============================] - 0s 45us/step\n"
     ]
    },
    {
     "name": "stderr",
     "output_type": "stream",
     "text": [
      "\r",
      " 32%|███▏      | 320/1000 [00:23<00:49, 13.65it/s]"
     ]
    },
    {
     "name": "stdout",
     "output_type": "stream",
     "text": [
      "128/128 [==============================] - 0s 44us/step\n",
      "64/64 [==============================] - 0s 52us/step\n",
      "64/64 [==============================] - 0s 71us/step\n",
      "128/128 [==============================] - 0s 42us/step\n",
      "64/64 [==============================] - 0s 59us/step\n",
      "64/64 [==============================] - 0s 69us/step\n",
      "128/128 [==============================] - 0s 43us/step\n",
      "64/64 [==============================] - 0s 54us/step\n",
      "64/64 [==============================] - 0s 50us/step\n",
      "128/128 [==============================] - 0s 48us/step\n",
      "64/64 [==============================] - 0s 43us/step\n",
      "64/64 [==============================] - 0s 53us/step\n"
     ]
    },
    {
     "name": "stderr",
     "output_type": "stream",
     "text": [
      "\r",
      " 32%|███▏      | 324/1000 [00:23<00:49, 13.75it/s]"
     ]
    },
    {
     "name": "stdout",
     "output_type": "stream",
     "text": [
      "128/128 [==============================] - 0s 34us/step\n",
      "64/64 [==============================] - 0s 72us/step\n",
      "64/64 [==============================] - 0s 44us/step\n",
      "128/128 [==============================] - 0s 42us/step\n",
      "64/64 [==============================] - 0s 68us/step\n",
      "64/64 [==============================] - 0s 54us/step\n",
      "128/128 [==============================] - 0s 39us/step\n",
      "64/64 [==============================] - 0s 42us/step\n",
      "64/64 [==============================] - 0s 113us/step\n",
      "128/128 [==============================] - 0s 35us/step\n",
      "64/64 [==============================] - 0s 44us/step\n",
      "64/64 [==============================] - 0s 47us/step\n"
     ]
    },
    {
     "name": "stderr",
     "output_type": "stream",
     "text": [
      "\r",
      " 33%|███▎      | 328/1000 [00:23<00:48, 13.85it/s]"
     ]
    },
    {
     "name": "stdout",
     "output_type": "stream",
     "text": [
      "128/128 [==============================] - 0s 75us/step\n",
      "64/64 [==============================] - 0s 40us/step\n",
      "64/64 [==============================] - 0s 47us/step\n",
      "128/128 [==============================] - 0s 42us/step\n",
      "64/64 [==============================] - 0s 56us/step\n",
      "64/64 [==============================] - 0s 46us/step\n",
      "128/128 [==============================] - 0s 34us/step\n",
      "64/64 [==============================] - 0s 50us/step\n",
      "64/64 [==============================] - 0s 66us/step\n",
      "128/128 [==============================] - 0s 35us/step\n",
      "64/64 [==============================] - 0s 42us/step\n",
      "64/64 [==============================] - 0s 80us/step\n"
     ]
    },
    {
     "name": "stderr",
     "output_type": "stream",
     "text": [
      "\r",
      " 33%|███▎      | 332/1000 [00:23<00:47, 13.94it/s]"
     ]
    },
    {
     "name": "stdout",
     "output_type": "stream",
     "text": [
      "128/128 [==============================] - 0s 46us/step\n",
      "64/64 [==============================] - 0s 59us/step\n",
      "64/64 [==============================] - 0s 72us/step\n",
      "128/128 [==============================] - 0s 52us/step\n",
      "64/64 [==============================] - 0s 37us/step\n",
      "64/64 [==============================] - 0s 48us/step\n",
      "128/128 [==============================] - 0s 36us/step\n",
      "64/64 [==============================] - 0s 59us/step\n",
      "64/64 [==============================] - 0s 126us/step\n",
      "128/128 [==============================] - 0s 36us/step\n",
      "64/64 [==============================] - 0s 66us/step\n",
      "64/64 [==============================] - 0s 50us/step\n"
     ]
    },
    {
     "name": "stderr",
     "output_type": "stream",
     "text": [
      "\r",
      " 34%|███▎      | 336/1000 [00:23<00:47, 14.04it/s]"
     ]
    },
    {
     "name": "stdout",
     "output_type": "stream",
     "text": [
      "128/128 [==============================] - 0s 50us/step\n",
      "64/64 [==============================] - 0s 36us/step\n",
      "64/64 [==============================] - 0s 52us/step\n",
      "128/128 [==============================] - 0s 48us/step\n",
      "64/64 [==============================] - 0s 45us/step\n",
      "64/64 [==============================] - 0s 41us/step\n",
      "128/128 [==============================] - 0s 35us/step\n",
      "64/64 [==============================] - 0s 50us/step\n",
      "64/64 [==============================] - 0s 47us/step\n",
      "128/128 [==============================] - 0s 42us/step\n",
      "64/64 [==============================] - 0s 59us/step\n",
      "64/64 [==============================] - 0s 66us/step\n"
     ]
    },
    {
     "name": "stderr",
     "output_type": "stream",
     "text": [
      "\r",
      " 34%|███▍      | 340/1000 [00:24<00:46, 14.14it/s]"
     ]
    },
    {
     "name": "stdout",
     "output_type": "stream",
     "text": [
      "128/128 [==============================] - 0s 44us/step\n",
      "64/64 [==============================] - 0s 38us/step\n",
      "64/64 [==============================] - 0s 68us/step\n",
      "128/128 [==============================] - 0s 44us/step\n",
      "64/64 [==============================] - 0s 40us/step\n",
      "64/64 [==============================] - 0s 56us/step\n",
      "128/128 [==============================] - 0s 34us/step\n",
      "64/64 [==============================] - 0s 55us/step\n",
      "64/64 [==============================] - 0s 49us/step\n",
      "128/128 [==============================] - 0s 36us/step\n",
      "64/64 [==============================] - 0s 38us/step\n",
      "64/64 [==============================] - 0s 80us/step\n"
     ]
    },
    {
     "name": "stderr",
     "output_type": "stream",
     "text": [
      "\r",
      " 34%|███▍      | 344/1000 [00:24<00:46, 14.24it/s]"
     ]
    },
    {
     "name": "stdout",
     "output_type": "stream",
     "text": [
      "128/128 [==============================] - 0s 43us/step\n",
      "64/64 [==============================] - 0s 43us/step\n",
      "64/64 [==============================] - 0s 54us/step\n",
      "128/128 [==============================] - 0s 42us/step\n",
      "64/64 [==============================] - 0s 43us/step\n",
      "64/64 [==============================] - 0s 42us/step\n",
      "128/128 [==============================] - 0s 36us/step\n",
      "64/64 [==============================] - 0s 50us/step\n",
      "64/64 [==============================] - 0s 60us/step\n",
      "128/128 [==============================] - 0s 57us/step\n",
      "64/64 [==============================] - 0s 50us/step\n",
      "64/64 [==============================] - 0s 60us/step\n"
     ]
    },
    {
     "name": "stderr",
     "output_type": "stream",
     "text": [
      "\r",
      " 35%|███▍      | 348/1000 [00:24<00:45, 14.33it/s]"
     ]
    },
    {
     "name": "stdout",
     "output_type": "stream",
     "text": [
      "128/128 [==============================] - 0s 44us/step\n",
      "64/64 [==============================] - 0s 39us/step\n",
      "64/64 [==============================] - 0s 110us/step\n",
      "128/128 [==============================] - 0s 34us/step\n",
      "64/64 [==============================] - 0s 47us/step\n",
      "64/64 [==============================] - 0s 56us/step\n",
      "128/128 [==============================] - 0s 41us/step\n",
      "64/64 [==============================] - 0s 50us/step\n",
      "64/64 [==============================] - 0s 46us/step\n",
      "128/128 [==============================] - 0s 34us/step\n",
      "64/64 [==============================] - 0s 105us/step\n",
      "64/64 [==============================] - 0s 46us/step\n"
     ]
    },
    {
     "name": "stderr",
     "output_type": "stream",
     "text": [
      "\r",
      " 35%|███▌      | 352/1000 [00:24<00:44, 14.43it/s]"
     ]
    },
    {
     "name": "stdout",
     "output_type": "stream",
     "text": [
      "128/128 [==============================] - 0s 35us/step\n",
      "64/64 [==============================] - 0s 48us/step\n",
      "64/64 [==============================] - 0s 70us/step\n",
      "128/128 [==============================] - 0s 42us/step\n",
      "64/64 [==============================] - 0s 43us/step\n",
      "64/64 [==============================] - 0s 49us/step\n",
      "128/128 [==============================] - 0s 41us/step\n",
      "64/64 [==============================] - 0s 62us/step\n",
      "64/64 [==============================] - 0s 63us/step\n",
      "128/128 [==============================] - 0s 49us/step\n",
      "64/64 [==============================] - 0s 51us/step\n",
      "64/64 [==============================] - 0s 58us/step\n"
     ]
    },
    {
     "name": "stderr",
     "output_type": "stream",
     "text": [
      "\r",
      " 36%|███▌      | 356/1000 [00:24<00:44, 14.52it/s]"
     ]
    },
    {
     "name": "stdout",
     "output_type": "stream",
     "text": [
      "128/128 [==============================] - 0s 41us/step\n",
      "64/64 [==============================] - 0s 53us/step\n",
      "64/64 [==============================] - 0s 60us/step\n",
      "128/128 [==============================] - 0s 35us/step\n",
      "64/64 [==============================] - 0s 39us/step\n",
      "64/64 [==============================] - 0s 66us/step\n",
      "128/128 [==============================] - 0s 40us/step\n",
      "64/64 [==============================] - 0s 66us/step\n",
      "64/64 [==============================] - 0s 73us/step\n",
      "128/128 [==============================] - 0s 65us/step\n",
      "64/64 [==============================] - 0s 48us/step\n",
      "64/64 [==============================] - 0s 57us/step\n"
     ]
    },
    {
     "name": "stderr",
     "output_type": "stream",
     "text": [
      "\r",
      " 36%|███▌      | 360/1000 [00:24<00:43, 14.61it/s]"
     ]
    },
    {
     "name": "stdout",
     "output_type": "stream",
     "text": [
      "128/128 [==============================] - 0s 41us/step\n",
      "64/64 [==============================] - 0s 73us/step\n",
      "64/64 [==============================] - 0s 61us/step\n",
      "128/128 [==============================] - 0s 50us/step\n",
      "64/64 [==============================] - 0s 52us/step\n",
      "64/64 [==============================] - 0s 61us/step\n",
      "128/128 [==============================] - 0s 36us/step\n",
      "64/64 [==============================] - 0s 61us/step\n",
      "64/64 [==============================] - 0s 53us/step\n",
      "128/128 [==============================] - 0s 43us/step\n",
      "64/64 [==============================] - 0s 47us/step\n",
      "64/64 [==============================] - 0s 77us/step\n"
     ]
    },
    {
     "name": "stderr",
     "output_type": "stream",
     "text": [
      "\r",
      " 36%|███▋      | 364/1000 [00:24<00:43, 14.70it/s]"
     ]
    },
    {
     "name": "stdout",
     "output_type": "stream",
     "text": [
      "128/128 [==============================] - 0s 45us/step\n",
      "64/64 [==============================] - 0s 53us/step\n",
      "64/64 [==============================] - 0s 46us/step\n",
      "128/128 [==============================] - 0s 39us/step\n",
      "64/64 [==============================] - 0s 56us/step\n",
      "64/64 [==============================] - 0s 55us/step\n",
      "128/128 [==============================] - 0s 37us/step\n",
      "64/64 [==============================] - 0s 48us/step\n",
      "64/64 [==============================] - 0s 73us/step\n",
      "128/128 [==============================] - 0s 34us/step\n",
      "64/64 [==============================] - 0s 49us/step\n",
      "64/64 [==============================] - 0s 68us/step\n"
     ]
    },
    {
     "name": "stderr",
     "output_type": "stream",
     "text": [
      "\r",
      " 37%|███▋      | 368/1000 [00:24<00:42, 14.79it/s]"
     ]
    },
    {
     "name": "stdout",
     "output_type": "stream",
     "text": [
      "128/128 [==============================] - 0s 43us/step\n",
      "64/64 [==============================] - 0s 62us/step\n",
      "64/64 [==============================] - 0s 56us/step\n",
      "128/128 [==============================] - 0s 37us/step\n",
      "64/64 [==============================] - 0s 51us/step\n",
      "64/64 [==============================] - 0s 59us/step\n",
      "128/128 [==============================] - 0s 38us/step\n",
      "64/64 [==============================] - 0s 59us/step\n",
      "64/64 [==============================] - 0s 66us/step\n",
      "128/128 [==============================] - 0s 44us/step\n",
      "64/64 [==============================] - 0s 37us/step\n",
      "64/64 [==============================] - 0s 68us/step\n"
     ]
    },
    {
     "name": "stderr",
     "output_type": "stream",
     "text": [
      "\r",
      " 37%|███▋      | 372/1000 [00:24<00:42, 14.89it/s]"
     ]
    },
    {
     "name": "stdout",
     "output_type": "stream",
     "text": [
      "128/128 [==============================] - 0s 40us/step\n",
      "64/64 [==============================] - 0s 62us/step\n",
      "64/64 [==============================] - 0s 46us/step\n",
      "128/128 [==============================] - 0s 37us/step\n",
      "64/64 [==============================] - 0s 43us/step\n",
      "64/64 [==============================] - 0s 59us/step\n",
      "128/128 [==============================] - 0s 41us/step\n",
      "64/64 [==============================] - 0s 40us/step\n",
      "64/64 [==============================] - 0s 72us/step\n",
      "128/128 [==============================] - 0s 34us/step\n",
      "64/64 [==============================] - 0s 38us/step\n",
      "64/64 [==============================] - 0s 47us/step\n"
     ]
    },
    {
     "name": "stderr",
     "output_type": "stream",
     "text": [
      "\r",
      " 38%|███▊      | 376/1000 [00:25<00:41, 14.98it/s]"
     ]
    },
    {
     "name": "stdout",
     "output_type": "stream",
     "text": [
      "128/128 [==============================] - 0s 47us/step\n",
      "64/64 [==============================] - 0s 49us/step\n",
      "64/64 [==============================] - 0s 48us/step\n",
      "128/128 [==============================] - 0s 35us/step\n",
      "64/64 [==============================] - 0s 57us/step\n",
      "64/64 [==============================] - 0s 47us/step\n",
      "128/128 [==============================] - 0s 38us/step\n",
      "64/64 [==============================] - 0s 54us/step\n",
      "64/64 [==============================] - 0s 49us/step\n",
      "128/128 [==============================] - 0s 40us/step\n",
      "64/64 [==============================] - 0s 43us/step\n",
      "64/64 [==============================] - 0s 46us/step\n"
     ]
    },
    {
     "name": "stderr",
     "output_type": "stream",
     "text": [
      "\r",
      " 38%|███▊      | 380/1000 [00:25<00:41, 15.07it/s]"
     ]
    },
    {
     "name": "stdout",
     "output_type": "stream",
     "text": [
      "128/128 [==============================] - 0s 72us/step\n",
      "64/64 [==============================] - 0s 76us/step\n",
      "64/64 [==============================] - 0s 52us/step\n",
      "128/128 [==============================] - 0s 36us/step\n",
      "64/64 [==============================] - 0s 51us/step\n",
      "64/64 [==============================] - 0s 59us/step\n",
      "128/128 [==============================] - 0s 44us/step\n",
      "64/64 [==============================] - 0s 60us/step\n",
      "64/64 [==============================] - 0s 58us/step\n",
      "128/128 [==============================] - 0s 51us/step\n",
      "64/64 [==============================] - 0s 122us/step\n",
      "64/64 [==============================] - 0s 58us/step\n"
     ]
    },
    {
     "name": "stderr",
     "output_type": "stream",
     "text": [
      "\r",
      " 38%|███▊      | 384/1000 [00:25<00:40, 15.15it/s]"
     ]
    },
    {
     "name": "stdout",
     "output_type": "stream",
     "text": [
      "128/128 [==============================] - 0s 42us/step\n",
      "64/64 [==============================] - 0s 47us/step\n",
      "64/64 [==============================] - 0s 113us/step\n",
      "128/128 [==============================] - 0s 34us/step\n",
      "64/64 [==============================] - 0s 51us/step\n",
      "64/64 [==============================] - 0s 69us/step\n",
      "128/128 [==============================] - 0s 47us/step\n",
      "64/64 [==============================] - 0s 49us/step\n",
      "64/64 [==============================] - 0s 55us/step\n",
      "128/128 [==============================] - 0s 38us/step\n",
      "64/64 [==============================] - 0s 48us/step\n",
      "64/64 [==============================] - 0s 42us/step\n"
     ]
    },
    {
     "name": "stderr",
     "output_type": "stream",
     "text": [
      "\r",
      " 39%|███▉      | 388/1000 [00:25<00:40, 15.24it/s]"
     ]
    },
    {
     "name": "stdout",
     "output_type": "stream",
     "text": [
      "128/128 [==============================] - 0s 41us/step\n",
      "64/64 [==============================] - 0s 53us/step\n",
      "64/64 [==============================] - 0s 63us/step\n",
      "128/128 [==============================] - 0s 35us/step\n",
      "64/64 [==============================] - 0s 67us/step\n",
      "64/64 [==============================] - 0s 50us/step\n",
      "128/128 [==============================] - 0s 39us/step\n",
      "64/64 [==============================] - 0s 66us/step\n",
      "64/64 [==============================] - 0s 59us/step\n",
      "128/128 [==============================] - 0s 42us/step\n",
      "64/64 [==============================] - 0s 57us/step\n",
      "64/64 [==============================] - 0s 51us/step\n"
     ]
    },
    {
     "name": "stderr",
     "output_type": "stream",
     "text": [
      "\r",
      " 39%|███▉      | 392/1000 [00:25<00:39, 15.32it/s]"
     ]
    },
    {
     "name": "stdout",
     "output_type": "stream",
     "text": [
      "128/128 [==============================] - 0s 38us/step\n",
      "64/64 [==============================] - 0s 56us/step\n",
      "64/64 [==============================] - 0s 77us/step\n",
      "128/128 [==============================] - 0s 36us/step\n",
      "64/64 [==============================] - 0s 54us/step\n",
      "64/64 [==============================] - 0s 67us/step\n",
      "128/128 [==============================] - 0s 46us/step\n",
      "64/64 [==============================] - 0s 48us/step\n",
      "64/64 [==============================] - 0s 67us/step\n",
      "128/128 [==============================] - 0s 40us/step\n",
      "64/64 [==============================] - 0s 59us/step\n",
      "64/64 [==============================] - 0s 52us/step\n"
     ]
    },
    {
     "name": "stderr",
     "output_type": "stream",
     "text": [
      "\r",
      " 40%|███▉      | 396/1000 [00:25<00:39, 15.41it/s]"
     ]
    },
    {
     "name": "stdout",
     "output_type": "stream",
     "text": [
      "128/128 [==============================] - 0s 43us/step\n",
      "64/64 [==============================] - 0s 111us/step\n",
      "64/64 [==============================] - 0s 66us/step\n",
      "128/128 [==============================] - 0s 43us/step\n",
      "64/64 [==============================] - 0s 54us/step\n",
      "64/64 [==============================] - 0s 61us/step\n",
      "128/128 [==============================] - 0s 37us/step\n",
      "64/64 [==============================] - 0s 49us/step\n",
      "64/64 [==============================] - 0s 58us/step\n",
      "128/128 [==============================] - 0s 37us/step\n",
      "64/64 [==============================] - 0s 47us/step\n",
      "64/64 [==============================] - 0s 64us/step\n"
     ]
    },
    {
     "name": "stderr",
     "output_type": "stream",
     "text": [
      "\r",
      " 40%|████      | 400/1000 [00:25<00:38, 15.49it/s]"
     ]
    },
    {
     "name": "stdout",
     "output_type": "stream",
     "text": [
      "128/128 [==============================] - 0s 39us/step\n",
      "64/64 [==============================] - 0s 51us/step\n",
      "64/64 [==============================] - 0s 69us/step\n",
      "128/128 [==============================] - 0s 45us/step\n",
      "64/64 [==============================] - 0s 56us/step\n",
      "64/64 [==============================] - 0s 57us/step\n",
      "128/128 [==============================] - 0s 44us/step\n",
      "64/64 [==============================] - 0s 66us/step\n",
      "64/64 [==============================] - 0s 68us/step\n",
      "128/128 [==============================] - 0s 35us/step\n",
      "64/64 [==============================] - 0s 121us/step\n",
      "64/64 [==============================] - 0s 52us/step\n"
     ]
    },
    {
     "name": "stderr",
     "output_type": "stream",
     "text": [
      "\r",
      " 40%|████      | 404/1000 [00:29<00:43, 13.74it/s]"
     ]
    },
    {
     "name": "stdout",
     "output_type": "stream",
     "text": [
      "128/128 [==============================] - 0s 37us/step\n",
      "64/64 [==============================] - 0s 48us/step\n",
      "64/64 [==============================] - 0s 68us/step\n",
      "128/128 [==============================] - 0s 32us/step\n",
      "64/64 [==============================] - 0s 48us/step\n",
      "64/64 [==============================] - 0s 88us/step\n",
      "128/128 [==============================] - 0s 52us/step\n",
      "64/64 [==============================] - 0s 64us/step\n",
      "64/64 [==============================] - 0s 58us/step\n",
      "128/128 [==============================] - 0s 41us/step\n",
      "64/64 [==============================] - 0s 41us/step\n",
      "64/64 [==============================] - 0s 64us/step\n"
     ]
    },
    {
     "name": "stderr",
     "output_type": "stream",
     "text": [
      "\r",
      " 41%|████      | 408/1000 [00:29<00:42, 13.82it/s]"
     ]
    },
    {
     "name": "stdout",
     "output_type": "stream",
     "text": [
      "128/128 [==============================] - 0s 40us/step\n",
      "64/64 [==============================] - 0s 47us/step\n",
      "64/64 [==============================] - 0s 70us/step\n",
      "128/128 [==============================] - 0s 36us/step\n",
      "64/64 [==============================] - 0s 67us/step\n",
      "64/64 [==============================] - 0s 65us/step\n",
      "128/128 [==============================] - 0s 40us/step\n",
      "64/64 [==============================] - 0s 44us/step\n",
      "64/64 [==============================] - 0s 55us/step\n",
      "128/128 [==============================] - 0s 41us/step\n",
      "64/64 [==============================] - 0s 44us/step\n",
      "64/64 [==============================] - 0s 64us/step\n"
     ]
    },
    {
     "name": "stderr",
     "output_type": "stream",
     "text": [
      "\r",
      " 41%|████      | 412/1000 [00:29<00:42, 13.90it/s]"
     ]
    },
    {
     "name": "stdout",
     "output_type": "stream",
     "text": [
      "128/128 [==============================] - 0s 38us/step\n",
      "64/64 [==============================] - 0s 58us/step\n",
      "64/64 [==============================] - 0s 58us/step\n",
      "128/128 [==============================] - 0s 45us/step\n",
      "64/64 [==============================] - 0s 116us/step\n",
      "64/64 [==============================] - 0s 43us/step\n",
      "128/128 [==============================] - 0s 41us/step\n",
      "64/64 [==============================] - 0s 50us/step\n",
      "64/64 [==============================] - 0s 60us/step\n",
      "128/128 [==============================] - 0s 38us/step\n",
      "64/64 [==============================] - 0s 62us/step\n",
      "64/64 [==============================] - 0s 73us/step\n"
     ]
    },
    {
     "name": "stderr",
     "output_type": "stream",
     "text": [
      "\r",
      " 42%|████▏     | 416/1000 [00:29<00:41, 13.97it/s]"
     ]
    },
    {
     "name": "stdout",
     "output_type": "stream",
     "text": [
      "128/128 [==============================] - 0s 43us/step\n",
      "64/64 [==============================] - 0s 37us/step\n",
      "64/64 [==============================] - 0s 53us/step\n",
      "128/128 [==============================] - 0s 50us/step\n",
      "64/64 [==============================] - 0s 39us/step\n",
      "64/64 [==============================] - 0s 51us/step\n",
      "128/128 [==============================] - 0s 37us/step\n",
      "64/64 [==============================] - 0s 67us/step\n",
      "64/64 [==============================] - 0s 55us/step\n",
      "128/128 [==============================] - 0s 43us/step\n",
      "64/64 [==============================] - 0s 47us/step\n",
      "64/64 [==============================] - 0s 60us/step\n"
     ]
    },
    {
     "name": "stderr",
     "output_type": "stream",
     "text": [
      "\r",
      " 42%|████▏     | 420/1000 [00:29<00:41, 14.05it/s]"
     ]
    },
    {
     "name": "stdout",
     "output_type": "stream",
     "text": [
      "128/128 [==============================] - 0s 42us/step\n",
      "64/64 [==============================] - 0s 55us/step\n",
      "64/64 [==============================] - 0s 62us/step\n",
      "128/128 [==============================] - 0s 50us/step\n",
      "64/64 [==============================] - 0s 55us/step\n",
      "64/64 [==============================] - 0s 60us/step\n",
      "128/128 [==============================] - 0s 45us/step\n",
      "64/64 [==============================] - 0s 115us/step\n",
      "64/64 [==============================] - 0s 54us/step\n",
      "128/128 [==============================] - 0s 35us/step\n",
      "64/64 [==============================] - 0s 71us/step\n",
      "64/64 [==============================] - 0s 58us/step\n"
     ]
    },
    {
     "name": "stderr",
     "output_type": "stream",
     "text": [
      "\r",
      " 42%|████▏     | 424/1000 [00:30<00:40, 14.13it/s]"
     ]
    },
    {
     "name": "stdout",
     "output_type": "stream",
     "text": [
      "128/128 [==============================] - 0s 45us/step\n",
      "64/64 [==============================] - 0s 55us/step\n",
      "64/64 [==============================] - 0s 87us/step\n",
      "128/128 [==============================] - 0s 45us/step\n",
      "64/64 [==============================] - 0s 47us/step\n",
      "64/64 [==============================] - 0s 73us/step\n",
      "128/128 [==============================] - 0s 46us/step\n",
      "64/64 [==============================] - 0s 72us/step\n",
      "64/64 [==============================] - 0s 43us/step\n",
      "128/128 [==============================] - 0s 42us/step\n",
      "64/64 [==============================] - 0s 45us/step\n",
      "64/64 [==============================] - 0s 48us/step\n"
     ]
    },
    {
     "name": "stderr",
     "output_type": "stream",
     "text": [
      "\r",
      " 43%|████▎     | 428/1000 [00:30<00:40, 14.21it/s]"
     ]
    },
    {
     "name": "stdout",
     "output_type": "stream",
     "text": [
      "128/128 [==============================] - 0s 35us/step\n",
      "64/64 [==============================] - 0s 60us/step\n",
      "64/64 [==============================] - 0s 64us/step\n",
      "128/128 [==============================] - 0s 42us/step\n",
      "64/64 [==============================] - 0s 68us/step\n",
      "64/64 [==============================] - 0s 57us/step\n",
      "128/128 [==============================] - 0s 43us/step\n",
      "64/64 [==============================] - 0s 60us/step\n",
      "64/64 [==============================] - 0s 60us/step\n",
      "128/128 [==============================] - 0s 39us/step\n",
      "64/64 [==============================] - 0s 36us/step\n",
      "64/64 [==============================] - 0s 48us/step\n"
     ]
    },
    {
     "name": "stderr",
     "output_type": "stream",
     "text": [
      "\r",
      " 43%|████▎     | 432/1000 [00:30<00:39, 14.28it/s]"
     ]
    },
    {
     "name": "stdout",
     "output_type": "stream",
     "text": [
      "128/128 [==============================] - 0s 45us/step\n",
      "64/64 [==============================] - 0s 71us/step\n",
      "64/64 [==============================] - 0s 68us/step\n",
      "128/128 [==============================] - 0s 46us/step\n",
      "64/64 [==============================] - 0s 51us/step\n",
      "64/64 [==============================] - 0s 62us/step\n",
      "128/128 [==============================] - 0s 35us/step\n",
      "64/64 [==============================] - 0s 53us/step\n",
      "64/64 [==============================] - 0s 86us/step\n",
      "128/128 [==============================] - 0s 34us/step\n",
      "64/64 [==============================] - 0s 46us/step\n",
      "64/64 [==============================] - 0s 69us/step\n"
     ]
    },
    {
     "name": "stderr",
     "output_type": "stream",
     "text": [
      "\r",
      " 44%|████▎     | 436/1000 [00:30<00:39, 14.36it/s]"
     ]
    },
    {
     "name": "stdout",
     "output_type": "stream",
     "text": [
      "128/128 [==============================] - 0s 55us/step\n",
      "64/64 [==============================] - 0s 45us/step\n",
      "64/64 [==============================] - 0s 44us/step\n",
      "128/128 [==============================] - 0s 42us/step\n",
      "64/64 [==============================] - 0s 54us/step\n",
      "64/64 [==============================] - 0s 42us/step\n",
      "128/128 [==============================] - 0s 35us/step\n",
      "64/64 [==============================] - 0s 52us/step\n",
      "64/64 [==============================] - 0s 71us/step\n",
      "128/128 [==============================] - 0s 35us/step\n",
      "64/64 [==============================] - 0s 58us/step\n",
      "64/64 [==============================] - 0s 78us/step\n"
     ]
    },
    {
     "name": "stderr",
     "output_type": "stream",
     "text": [
      "\r",
      " 44%|████▍     | 440/1000 [00:30<00:38, 14.43it/s]"
     ]
    },
    {
     "name": "stdout",
     "output_type": "stream",
     "text": [
      "128/128 [==============================] - 0s 42us/step\n",
      "64/64 [==============================] - 0s 60us/step\n",
      "64/64 [==============================] - 0s 42us/step\n",
      "128/128 [==============================] - 0s 49us/step\n",
      "64/64 [==============================] - 0s 77us/step\n",
      "64/64 [==============================] - 0s 58us/step\n",
      "128/128 [==============================] - 0s 34us/step\n",
      "64/64 [==============================] - 0s 67us/step\n",
      "64/64 [==============================] - 0s 67us/step\n",
      "128/128 [==============================] - 0s 42us/step\n",
      "64/64 [==============================] - 0s 61us/step\n",
      "64/64 [==============================] - 0s 66us/step\n"
     ]
    },
    {
     "name": "stderr",
     "output_type": "stream",
     "text": [
      "\r",
      " 44%|████▍     | 444/1000 [00:30<00:38, 14.51it/s]"
     ]
    },
    {
     "name": "stdout",
     "output_type": "stream",
     "text": [
      "128/128 [==============================] - 0s 36us/step\n",
      "64/64 [==============================] - 0s 52us/step\n",
      "64/64 [==============================] - 0s 86us/step\n",
      "128/128 [==============================] - 0s 45us/step\n",
      "64/64 [==============================] - 0s 40us/step\n",
      "64/64 [==============================] - 0s 79us/step\n",
      "128/128 [==============================] - 0s 48us/step\n",
      "64/64 [==============================] - 0s 61us/step\n",
      "64/64 [==============================] - 0s 45us/step\n",
      "128/128 [==============================] - 0s 41us/step\n",
      "64/64 [==============================] - 0s 66us/step\n",
      "64/64 [==============================] - 0s 44us/step\n"
     ]
    },
    {
     "name": "stderr",
     "output_type": "stream",
     "text": [
      "\r",
      " 45%|████▍     | 448/1000 [00:30<00:37, 14.58it/s]"
     ]
    },
    {
     "name": "stdout",
     "output_type": "stream",
     "text": [
      "128/128 [==============================] - 0s 34us/step\n",
      "64/64 [==============================] - 0s 36us/step\n",
      "64/64 [==============================] - 0s 77us/step\n",
      "128/128 [==============================] - 0s 36us/step\n",
      "64/64 [==============================] - 0s 46us/step\n",
      "64/64 [==============================] - 0s 44us/step\n",
      "128/128 [==============================] - 0s 51us/step\n",
      "64/64 [==============================] - 0s 52us/step\n",
      "64/64 [==============================] - 0s 58us/step\n",
      "128/128 [==============================] - 0s 37us/step\n",
      "64/64 [==============================] - 0s 57us/step\n",
      "64/64 [==============================] - 0s 47us/step\n"
     ]
    },
    {
     "name": "stderr",
     "output_type": "stream",
     "text": [
      "\r",
      " 45%|████▌     | 452/1000 [00:30<00:37, 14.66it/s]"
     ]
    },
    {
     "name": "stdout",
     "output_type": "stream",
     "text": [
      "128/128 [==============================] - 0s 50us/step\n",
      "64/64 [==============================] - 0s 72us/step\n",
      "64/64 [==============================] - 0s 81us/step\n",
      "128/128 [==============================] - 0s 40us/step\n",
      "64/64 [==============================] - 0s 56us/step\n",
      "64/64 [==============================] - 0s 105us/step\n",
      "128/128 [==============================] - 0s 38us/step\n",
      "64/64 [==============================] - 0s 47us/step\n",
      "64/64 [==============================] - 0s 52us/step\n",
      "128/128 [==============================] - 0s 45us/step\n",
      "64/64 [==============================] - 0s 43us/step\n",
      "64/64 [==============================] - 0s 46us/step\n"
     ]
    },
    {
     "name": "stderr",
     "output_type": "stream",
     "text": [
      "\r",
      " 46%|████▌     | 456/1000 [00:30<00:36, 14.73it/s]"
     ]
    },
    {
     "name": "stdout",
     "output_type": "stream",
     "text": [
      "128/128 [==============================] - 0s 48us/step\n",
      "64/64 [==============================] - 0s 53us/step\n",
      "64/64 [==============================] - 0s 48us/step\n",
      "128/128 [==============================] - 0s 38us/step\n",
      "64/64 [==============================] - 0s 74us/step\n",
      "64/64 [==============================] - 0s 69us/step\n",
      "128/128 [==============================] - 0s 35us/step\n",
      "64/64 [==============================] - 0s 53us/step\n",
      "64/64 [==============================] - 0s 52us/step\n",
      "128/128 [==============================] - 0s 35us/step\n",
      "64/64 [==============================] - 0s 64us/step\n",
      "64/64 [==============================] - 0s 72us/step\n"
     ]
    },
    {
     "name": "stderr",
     "output_type": "stream",
     "text": [
      "\r",
      " 46%|████▌     | 460/1000 [00:31<00:36, 14.80it/s]"
     ]
    },
    {
     "name": "stdout",
     "output_type": "stream",
     "text": [
      "128/128 [==============================] - 0s 41us/step\n",
      "64/64 [==============================] - 0s 41us/step\n",
      "64/64 [==============================] - 0s 55us/step\n",
      "128/128 [==============================] - 0s 37us/step\n",
      "64/64 [==============================] - 0s 42us/step\n",
      "64/64 [==============================] - 0s 57us/step\n",
      "128/128 [==============================] - 0s 48us/step\n",
      "64/64 [==============================] - 0s 53us/step\n",
      "64/64 [==============================] - 0s 45us/step\n",
      "128/128 [==============================] - 0s 43us/step\n",
      "64/64 [==============================] - 0s 55us/step\n",
      "64/64 [==============================] - 0s 69us/step\n"
     ]
    },
    {
     "name": "stderr",
     "output_type": "stream",
     "text": [
      "\r",
      " 46%|████▋     | 464/1000 [00:31<00:36, 14.87it/s]"
     ]
    },
    {
     "name": "stdout",
     "output_type": "stream",
     "text": [
      "128/128 [==============================] - 0s 42us/step\n",
      "64/64 [==============================] - 0s 70us/step\n",
      "64/64 [==============================] - 0s 63us/step\n",
      "128/128 [==============================] - 0s 36us/step\n",
      "64/64 [==============================] - 0s 65us/step\n",
      "64/64 [==============================] - 0s 60us/step\n",
      "128/128 [==============================] - 0s 49us/step\n",
      "64/64 [==============================] - 0s 55us/step\n",
      "64/64 [==============================] - 0s 44us/step\n",
      "128/128 [==============================] - 0s 49us/step\n",
      "64/64 [==============================] - 0s 42us/step\n",
      "64/64 [==============================] - 0s 70us/step\n"
     ]
    },
    {
     "name": "stderr",
     "output_type": "stream",
     "text": [
      "\r",
      " 47%|████▋     | 468/1000 [00:31<00:35, 14.94it/s]"
     ]
    },
    {
     "name": "stdout",
     "output_type": "stream",
     "text": [
      "128/128 [==============================] - ETA:  - 0s 42us/step\n",
      "64/64 [==============================] - 0s 72us/step\n",
      "64/64 [==============================] - 0s 48us/step\n",
      "128/128 [==============================] - 0s 35us/step\n",
      "64/64 [==============================] - 0s 73us/step\n",
      "64/64 [==============================] - 0s 59us/step\n",
      "128/128 [==============================] - 0s 46us/step\n",
      "64/64 [==============================] - 0s 61us/step\n",
      "64/64 [==============================] - 0s 67us/step\n",
      "128/128 [==============================] - 0s 38us/step\n",
      "64/64 [==============================] - 0s 63us/step\n",
      "64/64 [==============================] - 0s 67us/step\n"
     ]
    },
    {
     "name": "stderr",
     "output_type": "stream",
     "text": [
      "\r",
      " 47%|████▋     | 472/1000 [00:31<00:35, 15.01it/s]"
     ]
    },
    {
     "name": "stdout",
     "output_type": "stream",
     "text": [
      "128/128 [==============================] - 0s 47us/step\n",
      "64/64 [==============================] - 0s 79us/step\n",
      "64/64 [==============================] - 0s 53us/step\n",
      "128/128 [==============================] - 0s 38us/step\n",
      "64/64 [==============================] - 0s 40us/step\n",
      "64/64 [==============================] - 0s 61us/step\n",
      "128/128 [==============================] - 0s 48us/step\n",
      "64/64 [==============================] - 0s 65us/step\n",
      "64/64 [==============================] - 0s 65us/step\n",
      "128/128 [==============================] - 0s 43us/step\n",
      "64/64 [==============================] - 0s 45us/step\n",
      "64/64 [==============================] - 0s 75us/step\n"
     ]
    },
    {
     "name": "stderr",
     "output_type": "stream",
     "text": [
      "\r",
      " 48%|████▊     | 476/1000 [00:31<00:34, 15.08it/s]"
     ]
    },
    {
     "name": "stdout",
     "output_type": "stream",
     "text": [
      "128/128 [==============================] - 0s 36us/step\n",
      "64/64 [==============================] - 0s 67us/step\n",
      "64/64 [==============================] - 0s 66us/step\n",
      "128/128 [==============================] - 0s 32us/step\n",
      "64/64 [==============================] - 0s 39us/step\n",
      "64/64 [==============================] - 0s 67us/step\n",
      "128/128 [==============================] - 0s 43us/step\n",
      "64/64 [==============================] - 0s 48us/step\n",
      "64/64 [==============================] - 0s 59us/step\n",
      "128/128 [==============================] - 0s 37us/step\n",
      "64/64 [==============================] - 0s 57us/step\n",
      "64/64 [==============================] - 0s 58us/step\n"
     ]
    },
    {
     "name": "stderr",
     "output_type": "stream",
     "text": [
      "\r",
      " 48%|████▊     | 480/1000 [00:31<00:34, 15.14it/s]"
     ]
    },
    {
     "name": "stdout",
     "output_type": "stream",
     "text": [
      "128/128 [==============================] - 0s 36us/step\n",
      "64/64 [==============================] - 0s 73us/step\n",
      "64/64 [==============================] - 0s 55us/step\n",
      "128/128 [==============================] - 0s 34us/step\n",
      "64/64 [==============================] - 0s 51us/step\n",
      "64/64 [==============================] - 0s 86us/step\n",
      "128/128 [==============================] - 0s 48us/step\n",
      "64/64 [==============================] - 0s 47us/step\n",
      "64/64 [==============================] - 0s 47us/step\n",
      "128/128 [==============================] - 0s 40us/step\n",
      "64/64 [==============================] - 0s 63us/step\n",
      "64/64 [==============================] - 0s 55us/step\n"
     ]
    },
    {
     "name": "stderr",
     "output_type": "stream",
     "text": [
      "\r",
      " 48%|████▊     | 484/1000 [00:31<00:33, 15.21it/s]"
     ]
    },
    {
     "name": "stdout",
     "output_type": "stream",
     "text": [
      "128/128 [==============================] - 0s 35us/step\n",
      "64/64 [==============================] - 0s 47us/step\n",
      "64/64 [==============================] - 0s 86us/step\n",
      "128/128 [==============================] - 0s 38us/step\n",
      "64/64 [==============================] - 0s 49us/step\n",
      "64/64 [==============================] - 0s 67us/step\n",
      "128/128 [==============================] - 0s 48us/step\n",
      "64/64 [==============================] - 0s 46us/step\n",
      "64/64 [==============================] - 0s 52us/step\n",
      "128/128 [==============================] - 0s 34us/step\n",
      "64/64 [==============================] - 0s 54us/step\n",
      "64/64 [==============================] - 0s 53us/step\n"
     ]
    },
    {
     "name": "stderr",
     "output_type": "stream",
     "text": [
      "\r",
      " 49%|████▉     | 488/1000 [00:31<00:33, 15.28it/s]"
     ]
    },
    {
     "name": "stdout",
     "output_type": "stream",
     "text": [
      "128/128 [==============================] - 0s 40us/step\n",
      "64/64 [==============================] - 0s 57us/step\n",
      "64/64 [==============================] - 0s 60us/step\n",
      "128/128 [==============================] - 0s 39us/step\n",
      "64/64 [==============================] - 0s 52us/step\n",
      "64/64 [==============================] - 0s 70us/step\n",
      "128/128 [==============================] - 0s 50us/step\n",
      "64/64 [==============================] - 0s 48us/step\n",
      "64/64 [==============================] - 0s 72us/step\n",
      "128/128 [==============================] - 0s 42us/step\n",
      "64/64 [==============================] - 0s 61us/step\n",
      "64/64 [==============================] - 0s 51us/step\n"
     ]
    },
    {
     "name": "stderr",
     "output_type": "stream",
     "text": [
      "\r",
      " 49%|████▉     | 492/1000 [00:32<00:33, 15.35it/s]"
     ]
    },
    {
     "name": "stdout",
     "output_type": "stream",
     "text": [
      "128/128 [==============================] - 0s 34us/step\n",
      "64/64 [==============================] - 0s 58us/step\n",
      "64/64 [==============================] - 0s 51us/step\n",
      "128/128 [==============================] - 0s 44us/step\n",
      "64/64 [==============================] - 0s 122us/step\n",
      "64/64 [==============================] - 0s 52us/step\n",
      "128/128 [==============================] - 0s 36us/step\n",
      "64/64 [==============================] - 0s 40us/step\n",
      "64/64 [==============================] - 0s 55us/step\n",
      "128/128 [==============================] - 0s 42us/step\n",
      "64/64 [==============================] - 0s 42us/step\n",
      "64/64 [==============================] - 0s 62us/step\n"
     ]
    },
    {
     "name": "stderr",
     "output_type": "stream",
     "text": [
      "\r",
      " 50%|████▉     | 496/1000 [00:32<00:32, 15.42it/s]"
     ]
    },
    {
     "name": "stdout",
     "output_type": "stream",
     "text": [
      "128/128 [==============================] - 0s 34us/step\n",
      "64/64 [==============================] - 0s 69us/step\n",
      "64/64 [==============================] - 0s 66us/step\n",
      "128/128 [==============================] - 0s 46us/step\n",
      "64/64 [==============================] - 0s 62us/step\n",
      "64/64 [==============================] - 0s 66us/step\n",
      "128/128 [==============================] - 0s 40us/step\n",
      "64/64 [==============================] - 0s 44us/step\n",
      "64/64 [==============================] - 0s 71us/step\n",
      "128/128 [==============================] - 0s 41us/step\n",
      "64/64 [==============================] - 0s 55us/step\n",
      "64/64 [==============================] - 0s 69us/step\n"
     ]
    },
    {
     "name": "stderr",
     "output_type": "stream",
     "text": [
      "\r",
      " 50%|█████     | 500/1000 [00:32<00:32, 15.49it/s]"
     ]
    },
    {
     "name": "stdout",
     "output_type": "stream",
     "text": [
      "128/128 [==============================] - 0s 39us/step\n",
      "64/64 [==============================] - 0s 68us/step\n",
      "64/64 [==============================] - 0s 80us/step\n",
      "128/128 [==============================] - 0s 43us/step\n",
      "64/64 [==============================] - 0s 70us/step\n",
      "64/64 [==============================] - 0s 73us/step\n",
      "128/128 [==============================] - 0s 38us/step\n",
      "64/64 [==============================] - 0s 64us/step\n",
      "64/64 [==============================] - 0s 56us/step\n",
      "128/128 [==============================] - 0s 47us/step\n",
      "64/64 [==============================] - 0s 64us/step\n",
      "64/64 [==============================] - 0s 53us/step\n"
     ]
    },
    {
     "name": "stderr",
     "output_type": "stream",
     "text": [
      "\r",
      " 50%|█████     | 504/1000 [00:35<00:35, 14.09it/s]"
     ]
    },
    {
     "name": "stdout",
     "output_type": "stream",
     "text": [
      "128/128 [==============================] - 0s 40us/step\n",
      "64/64 [==============================] - 0s 57us/step\n",
      "64/64 [==============================] - 0s 60us/step\n",
      "128/128 [==============================] - 0s 42us/step\n",
      "64/64 [==============================] - 0s 43us/step\n",
      "64/64 [==============================] - 0s 108us/step\n",
      "128/128 [==============================] - 0s 45us/step\n",
      "64/64 [==============================] - 0s 74us/step\n",
      "64/64 [==============================] - 0s 53us/step\n",
      "128/128 [==============================] - 0s 42us/step\n",
      "64/64 [==============================] - 0s 40us/step\n",
      "64/64 [==============================] - 0s 55us/step\n"
     ]
    },
    {
     "name": "stderr",
     "output_type": "stream",
     "text": [
      "\r",
      " 51%|█████     | 508/1000 [00:35<00:34, 14.15it/s]"
     ]
    },
    {
     "name": "stdout",
     "output_type": "stream",
     "text": [
      "128/128 [==============================] - 0s 36us/step\n",
      "64/64 [==============================] - 0s 54us/step\n",
      "64/64 [==============================] - 0s 71us/step\n",
      "128/128 [==============================] - 0s 38us/step\n",
      "64/64 [==============================] - 0s 60us/step\n",
      "64/64 [==============================] - 0s 72us/step\n",
      "128/128 [==============================] - 0s 42us/step\n",
      "64/64 [==============================] - 0s 40us/step\n",
      "64/64 [==============================] - 0s 65us/step\n",
      "128/128 [==============================] - 0s 36us/step\n",
      "64/64 [==============================] - 0s 43us/step\n",
      "64/64 [==============================] - 0s 70us/step\n"
     ]
    },
    {
     "name": "stderr",
     "output_type": "stream",
     "text": [
      "\r",
      " 51%|█████     | 512/1000 [00:36<00:34, 14.22it/s]"
     ]
    },
    {
     "name": "stdout",
     "output_type": "stream",
     "text": [
      "128/128 [==============================] - 0s 48us/step\n",
      "64/64 [==============================] - 0s 57us/step\n",
      "64/64 [==============================] - 0s 59us/step\n",
      "128/128 [==============================] - 0s 44us/step\n",
      "64/64 [==============================] - 0s 43us/step\n",
      "64/64 [==============================] - 0s 51us/step\n",
      "128/128 [==============================] - 0s 45us/step\n",
      "64/64 [==============================] - 0s 110us/step\n",
      "64/64 [==============================] - 0s 51us/step\n",
      "128/128 [==============================] - 0s 44us/step\n",
      "64/64 [==============================] - 0s 60us/step\n",
      "64/64 [==============================] - 0s 64us/step\n"
     ]
    },
    {
     "name": "stderr",
     "output_type": "stream",
     "text": [
      "\r",
      " 52%|█████▏    | 516/1000 [00:36<00:33, 14.28it/s]"
     ]
    },
    {
     "name": "stdout",
     "output_type": "stream",
     "text": [
      "128/128 [==============================] - 0s 45us/step\n",
      "64/64 [==============================] - 0s 54us/step\n",
      "64/64 [==============================] - 0s 80us/step\n",
      "128/128 [==============================] - 0s 36us/step\n",
      "64/64 [==============================] - 0s 42us/step\n",
      "64/64 [==============================] - 0s 60us/step\n",
      "128/128 [==============================] - 0s 48us/step\n",
      "64/64 [==============================] - 0s 59us/step\n",
      "64/64 [==============================] - 0s 52us/step\n",
      "128/128 [==============================] - 0s 41us/step\n",
      "64/64 [==============================] - 0s 66us/step\n",
      "64/64 [==============================] - 0s 62us/step\n"
     ]
    },
    {
     "name": "stderr",
     "output_type": "stream",
     "text": [
      "\r",
      " 52%|█████▏    | 520/1000 [00:36<00:33, 14.34it/s]"
     ]
    },
    {
     "name": "stdout",
     "output_type": "stream",
     "text": [
      "128/128 [==============================] - 0s 42us/step\n",
      "64/64 [==============================] - 0s 72us/step\n",
      "64/64 [==============================] - 0s 55us/step\n",
      "128/128 [==============================] - 0s 40us/step\n",
      "64/64 [==============================] - 0s 70us/step\n",
      "64/64 [==============================] - 0s 54us/step\n",
      "128/128 [==============================] - 0s 45us/step\n",
      "64/64 [==============================] - 0s 103us/step\n",
      "64/64 [==============================] - 0s 52us/step\n",
      "128/128 [==============================] - 0s 43us/step\n",
      "64/64 [==============================] - 0s 45us/step\n",
      "64/64 [==============================] - 0s 63us/step\n"
     ]
    },
    {
     "name": "stderr",
     "output_type": "stream",
     "text": [
      "\r",
      " 52%|█████▏    | 524/1000 [00:36<00:33, 14.40it/s]"
     ]
    },
    {
     "name": "stdout",
     "output_type": "stream",
     "text": [
      "128/128 [==============================] - 0s 36us/step\n",
      "64/64 [==============================] - 0s 48us/step\n",
      "64/64 [==============================] - 0s 67us/step\n",
      "128/128 [==============================] - 0s 46us/step\n",
      "64/64 [==============================] - 0s 68us/step\n",
      "64/64 [==============================] - 0s 62us/step\n",
      "128/128 [==============================] - 0s 50us/step\n",
      "64/64 [==============================] - 0s 54us/step\n",
      "64/64 [==============================] - 0s 98us/step\n",
      "128/128 [==============================] - 0s 44us/step\n",
      "64/64 [==============================] - 0s 47us/step\n",
      "64/64 [==============================] - 0s 45us/step\n"
     ]
    },
    {
     "name": "stderr",
     "output_type": "stream",
     "text": [
      "\r",
      " 53%|█████▎    | 528/1000 [00:36<00:32, 14.46it/s]"
     ]
    },
    {
     "name": "stdout",
     "output_type": "stream",
     "text": [
      "128/128 [==============================] - 0s 53us/step\n",
      "64/64 [==============================] - 0s 58us/step\n",
      "64/64 [==============================] - 0s 47us/step\n",
      "128/128 [==============================] - 0s 44us/step\n",
      "64/64 [==============================] - 0s 69us/step\n",
      "64/64 [==============================] - ETA:  - 0s 59us/step\n",
      "128/128 [==============================] - 0s 45us/step\n",
      "64/64 [==============================] - 0s 75us/step\n",
      "64/64 [==============================] - 0s 66us/step\n",
      "128/128 [==============================] - 0s 43us/step\n",
      "64/64 [==============================] - 0s 76us/step\n",
      "64/64 [==============================] - 0s 52us/step\n"
     ]
    },
    {
     "name": "stderr",
     "output_type": "stream",
     "text": [
      "\r",
      " 53%|█████▎    | 532/1000 [00:36<00:32, 14.52it/s]"
     ]
    },
    {
     "name": "stdout",
     "output_type": "stream",
     "text": [
      "128/128 [==============================] - 0s 37us/step\n",
      "64/64 [==============================] - 0s 66us/step\n",
      "64/64 [==============================] - 0s 71us/step\n",
      "128/128 [==============================] - 0s 44us/step\n",
      "64/64 [==============================] - 0s 69us/step\n",
      "64/64 [==============================] - 0s 74us/step\n",
      "128/128 [==============================] - 0s 36us/step\n",
      "64/64 [==============================] - 0s 46us/step\n",
      "64/64 [==============================] - 0s 47us/step\n",
      "128/128 [==============================] - 0s 39us/step\n",
      "64/64 [==============================] - 0s 44us/step\n",
      "64/64 [==============================] - 0s 52us/step\n"
     ]
    },
    {
     "name": "stderr",
     "output_type": "stream",
     "text": [
      "\r",
      " 54%|█████▎    | 536/1000 [00:36<00:31, 14.58it/s]"
     ]
    },
    {
     "name": "stdout",
     "output_type": "stream",
     "text": [
      "128/128 [==============================] - 0s 74us/step\n",
      "64/64 [==============================] - 0s 57us/step\n",
      "64/64 [==============================] - 0s 46us/step\n",
      "128/128 [==============================] - 0s 45us/step\n",
      "64/64 [==============================] - 0s 57us/step\n",
      "64/64 [==============================] - 0s 48us/step\n",
      "128/128 [==============================] - 0s 41us/step\n",
      "64/64 [==============================] - 0s 58us/step\n",
      "64/64 [==============================] - 0s 66us/step\n",
      "128/128 [==============================] - 0s 36us/step\n",
      "64/64 [==============================] - 0s 62us/step\n",
      "64/64 [==============================] - 0s 65us/step\n"
     ]
    },
    {
     "name": "stderr",
     "output_type": "stream",
     "text": [
      "\r",
      " 54%|█████▍    | 540/1000 [00:36<00:31, 14.64it/s]"
     ]
    },
    {
     "name": "stdout",
     "output_type": "stream",
     "text": [
      "128/128 [==============================] - 0s 53us/step\n",
      "64/64 [==============================] - 0s 48us/step\n",
      "64/64 [==============================] - 0s 64us/step\n",
      "128/128 [==============================] - 0s 44us/step\n",
      "64/64 [==============================] - 0s 53us/step\n",
      "64/64 [==============================] - 0s 45us/step\n",
      "128/128 [==============================] - 0s 39us/step\n",
      "64/64 [==============================] - 0s 62us/step\n",
      "64/64 [==============================] - 0s 63us/step\n",
      "128/128 [==============================] - 0s 40us/step\n",
      "64/64 [==============================] - 0s 62us/step\n",
      "64/64 [==============================] - 0s 57us/step\n"
     ]
    },
    {
     "name": "stderr",
     "output_type": "stream",
     "text": [
      "\r",
      " 54%|█████▍    | 544/1000 [00:37<00:31, 14.70it/s]"
     ]
    },
    {
     "name": "stdout",
     "output_type": "stream",
     "text": [
      "128/128 [==============================] - 0s 43us/step\n",
      "64/64 [==============================] - 0s 38us/step\n",
      "64/64 [==============================] - 0s 70us/step\n",
      "128/128 [==============================] - 0s 37us/step\n",
      "64/64 [==============================] - 0s 50us/step\n",
      "64/64 [==============================] - 0s 113us/step\n",
      "128/128 [==============================] - 0s 53us/step\n",
      "64/64 [==============================] - 0s 59us/step\n",
      "64/64 [==============================] - 0s 65us/step\n",
      "128/128 [==============================] - 0s 50us/step\n",
      "64/64 [==============================] - 0s 62us/step\n",
      "64/64 [==============================] - 0s 50us/step\n"
     ]
    },
    {
     "name": "stderr",
     "output_type": "stream",
     "text": [
      "\r",
      " 55%|█████▍    | 548/1000 [00:37<00:30, 14.76it/s]"
     ]
    },
    {
     "name": "stdout",
     "output_type": "stream",
     "text": [
      "128/128 [==============================] - 0s 47us/step\n",
      "64/64 [==============================] - 0s 65us/step\n",
      "64/64 [==============================] - 0s 48us/step\n",
      "128/128 [==============================] - 0s 46us/step\n",
      "64/64 [==============================] - 0s 50us/step\n",
      "64/64 [==============================] - 0s 49us/step\n",
      "128/128 [==============================] - 0s 36us/step\n",
      "64/64 [==============================] - 0s 65us/step\n",
      "64/64 [==============================] - 0s 73us/step\n",
      "128/128 [==============================] - 0s 38us/step\n",
      "64/64 [==============================] - 0s 51us/step\n",
      "64/64 [==============================] - 0s 52us/step\n"
     ]
    },
    {
     "name": "stderr",
     "output_type": "stream",
     "text": [
      "\r",
      " 55%|█████▌    | 552/1000 [00:37<00:30, 14.82it/s]"
     ]
    },
    {
     "name": "stdout",
     "output_type": "stream",
     "text": [
      "128/128 [==============================] - 0s 47us/step\n",
      "64/64 [==============================] - 0s 59us/step\n",
      "64/64 [==============================] - 0s 59us/step\n",
      "128/128 [==============================] - 0s 44us/step\n",
      "64/64 [==============================] - 0s 46us/step\n",
      "64/64 [==============================] - 0s 79us/step\n",
      "128/128 [==============================] - 0s 46us/step\n",
      "64/64 [==============================] - 0s 45us/step\n",
      "64/64 [==============================] - 0s 63us/step\n",
      "128/128 [==============================] - 0s 49us/step\n",
      "64/64 [==============================] - 0s 49us/step\n",
      "64/64 [==============================] - 0s 162us/step\n"
     ]
    },
    {
     "name": "stderr",
     "output_type": "stream",
     "text": [
      "\r",
      " 56%|█████▌    | 556/1000 [00:37<00:29, 14.87it/s]"
     ]
    },
    {
     "name": "stdout",
     "output_type": "stream",
     "text": [
      "128/128 [==============================] - 0s 42us/step\n",
      "64/64 [==============================] - 0s 51us/step\n",
      "64/64 [==============================] - 0s 67us/step\n",
      "128/128 [==============================] - 0s 43us/step\n",
      "64/64 [==============================] - 0s 39us/step\n",
      "64/64 [==============================] - 0s 45us/step\n",
      "128/128 [==============================] - 0s 37us/step\n",
      "64/64 [==============================] - 0s 63us/step\n",
      "64/64 [==============================] - 0s 46us/step\n",
      "128/128 [==============================] - 0s 56us/step\n",
      "64/64 [==============================] - 0s 54us/step\n",
      "64/64 [==============================] - 0s 44us/step\n"
     ]
    },
    {
     "name": "stderr",
     "output_type": "stream",
     "text": [
      "\r",
      " 56%|█████▌    | 560/1000 [00:37<00:29, 14.93it/s]"
     ]
    },
    {
     "name": "stdout",
     "output_type": "stream",
     "text": [
      "128/128 [==============================] - 0s 39us/step\n",
      "64/64 [==============================] - 0s 61us/step\n",
      "64/64 [==============================] - 0s 76us/step\n",
      "128/128 [==============================] - 0s 47us/step\n",
      "64/64 [==============================] - 0s 72us/step\n",
      "64/64 [==============================] - 0s 52us/step\n",
      "128/128 [==============================] - 0s 42us/step\n",
      "64/64 [==============================] - 0s 53us/step\n",
      "64/64 [==============================] - 0s 74us/step\n",
      "128/128 [==============================] - 0s 37us/step\n",
      "64/64 [==============================] - 0s 117us/step\n",
      "64/64 [==============================] - 0s 57us/step\n"
     ]
    },
    {
     "name": "stderr",
     "output_type": "stream",
     "text": [
      "\r",
      " 56%|█████▋    | 564/1000 [00:37<00:29, 14.98it/s]"
     ]
    },
    {
     "name": "stdout",
     "output_type": "stream",
     "text": [
      "128/128 [==============================] - 0s 49us/step\n",
      "64/64 [==============================] - 0s 51us/step\n",
      "64/64 [==============================] - 0s 76us/step\n",
      "128/128 [==============================] - 0s 43us/step\n",
      "64/64 [==============================] - 0s 70us/step\n",
      "64/64 [==============================] - 0s 55us/step\n",
      "128/128 [==============================] - 0s 50us/step\n",
      "64/64 [==============================] - 0s 48us/step\n",
      "64/64 [==============================] - 0s 45us/step\n",
      "128/128 [==============================] - 0s 45us/step\n",
      "64/64 [==============================] - 0s 50us/step\n",
      "64/64 [==============================] - 0s 65us/step\n"
     ]
    },
    {
     "name": "stderr",
     "output_type": "stream",
     "text": [
      "\r",
      " 57%|█████▋    | 568/1000 [00:37<00:28, 15.04it/s]"
     ]
    },
    {
     "name": "stdout",
     "output_type": "stream",
     "text": [
      "128/128 [==============================] - 0s 46us/step\n",
      "64/64 [==============================] - 0s 68us/step\n",
      "64/64 [==============================] - 0s 67us/step\n",
      "128/128 [==============================] - 0s 37us/step\n",
      "64/64 [==============================] - 0s 44us/step\n",
      "64/64 [==============================] - 0s 47us/step\n",
      "128/128 [==============================] - 0s 46us/step\n",
      "64/64 [==============================] - 0s 108us/step\n",
      "64/64 [==============================] - 0s 63us/step\n",
      "128/128 [==============================] - 0s 39us/step\n",
      "64/64 [==============================] - 0s 54us/step\n",
      "64/64 [==============================] - 0s 63us/step\n"
     ]
    },
    {
     "name": "stderr",
     "output_type": "stream",
     "text": [
      "\r",
      " 57%|█████▋    | 572/1000 [00:37<00:28, 15.10it/s]"
     ]
    },
    {
     "name": "stdout",
     "output_type": "stream",
     "text": [
      "128/128 [==============================] - 0s 42us/step\n",
      "64/64 [==============================] - 0s 49us/step\n",
      "64/64 [==============================] - 0s 55us/step\n",
      "128/128 [==============================] - 0s 43us/step\n",
      "64/64 [==============================] - 0s 42us/step\n",
      "64/64 [==============================] - 0s 65us/step\n",
      "128/128 [==============================] - 0s 71us/step\n",
      "64/64 [==============================] - 0s 53us/step\n",
      "64/64 [==============================] - 0s 67us/step\n",
      "128/128 [==============================] - 0s 41us/step\n",
      "64/64 [==============================] - 0s 60us/step\n",
      "64/64 [==============================] - 0s 72us/step\n"
     ]
    },
    {
     "name": "stderr",
     "output_type": "stream",
     "text": [
      "\r",
      " 58%|█████▊    | 576/1000 [00:38<00:27, 15.15it/s]"
     ]
    },
    {
     "name": "stdout",
     "output_type": "stream",
     "text": [
      "128/128 [==============================] - 0s 40us/step\n",
      "64/64 [==============================] - 0s 53us/step\n",
      "64/64 [==============================] - 0s 51us/step\n",
      "128/128 [==============================] - 0s 42us/step\n",
      "64/64 [==============================] - 0s 60us/step\n",
      "64/64 [==============================] - 0s 82us/step\n",
      "128/128 [==============================] - 0s 79us/step\n",
      "64/64 [==============================] - 0s 51us/step\n",
      "64/64 [==============================] - 0s 69us/step\n",
      "128/128 [==============================] - 0s 41us/step\n",
      "64/64 [==============================] - 0s 45us/step\n",
      "64/64 [==============================] - 0s 53us/step\n"
     ]
    },
    {
     "name": "stderr",
     "output_type": "stream",
     "text": [
      "\r",
      " 58%|█████▊    | 580/1000 [00:38<00:27, 15.21it/s]"
     ]
    },
    {
     "name": "stdout",
     "output_type": "stream",
     "text": [
      "128/128 [==============================] - 0s 47us/step\n",
      "64/64 [==============================] - 0s 49us/step\n",
      "64/64 [==============================] - 0s 56us/step\n",
      "128/128 [==============================] - 0s 46us/step\n",
      "64/64 [==============================] - 0s 40us/step\n",
      "64/64 [==============================] - 0s 65us/step\n",
      "128/128 [==============================] - 0s 42us/step\n",
      "64/64 [==============================] - 0s 67us/step\n",
      "64/64 [==============================] - 0s 52us/step\n",
      "128/128 [==============================] - 0s 41us/step\n",
      "64/64 [==============================] - 0s 65us/step\n",
      "64/64 [==============================] - 0s 72us/step\n"
     ]
    },
    {
     "name": "stderr",
     "output_type": "stream",
     "text": [
      "\r",
      " 58%|█████▊    | 584/1000 [00:38<00:27, 15.26it/s]"
     ]
    },
    {
     "name": "stdout",
     "output_type": "stream",
     "text": [
      "128/128 [==============================] - 0s 36us/step\n",
      "64/64 [==============================] - 0s 53us/step\n",
      "64/64 [==============================] - 0s 64us/step\n",
      "128/128 [==============================] - 0s 43us/step\n",
      "64/64 [==============================] - 0s 52us/step\n",
      "64/64 [==============================] - 0s 76us/step\n",
      "128/128 [==============================] - 0s 37us/step\n",
      "64/64 [==============================] - 0s 48us/step\n",
      "64/64 [==============================] - 0s 68us/step\n",
      "128/128 [==============================] - 0s 38us/step\n",
      "64/64 [==============================] - 0s 55us/step\n",
      "64/64 [==============================] - 0s 55us/step\n"
     ]
    },
    {
     "name": "stderr",
     "output_type": "stream",
     "text": [
      "\r",
      " 59%|█████▉    | 588/1000 [00:38<00:26, 15.32it/s]"
     ]
    },
    {
     "name": "stdout",
     "output_type": "stream",
     "text": [
      "128/128 [==============================] - 0s 57us/step\n",
      "64/64 [==============================] - 0s 50us/step\n",
      "64/64 [==============================] - 0s 48us/step\n",
      "128/128 [==============================] - 0s 37us/step\n",
      "64/64 [==============================] - 0s 67us/step\n",
      "64/64 [==============================] - 0s 79us/step\n",
      "128/128 [==============================] - 0s 39us/step\n",
      "64/64 [==============================] - 0s 55us/step\n",
      "64/64 [==============================] - 0s 48us/step\n",
      "128/128 [==============================] - 0s 35us/step\n",
      "64/64 [==============================] - 0s 46us/step\n",
      "64/64 [==============================] - 0s 51us/step\n"
     ]
    },
    {
     "name": "stderr",
     "output_type": "stream",
     "text": [
      "\r",
      " 59%|█████▉    | 592/1000 [00:38<00:26, 15.37it/s]"
     ]
    },
    {
     "name": "stdout",
     "output_type": "stream",
     "text": [
      "128/128 [==============================] - 0s 50us/step\n",
      "64/64 [==============================] - 0s 56us/step\n",
      "64/64 [==============================] - 0s 52us/step\n",
      "128/128 [==============================] - 0s 49us/step\n",
      "64/64 [==============================] - 0s 45us/step\n",
      "64/64 [==============================] - 0s 60us/step\n",
      "128/128 [==============================] - 0s 39us/step\n",
      "64/64 [==============================] - 0s 48us/step\n",
      "64/64 [==============================] - 0s 67us/step\n",
      "128/128 [==============================] - 0s 41us/step\n",
      "64/64 [==============================] - 0s 49us/step\n",
      "64/64 [==============================] - 0s 58us/step\n"
     ]
    },
    {
     "name": "stderr",
     "output_type": "stream",
     "text": [
      "\r",
      " 60%|█████▉    | 596/1000 [00:38<00:26, 15.43it/s]"
     ]
    },
    {
     "name": "stdout",
     "output_type": "stream",
     "text": [
      "128/128 [==============================] - 0s 48us/step\n",
      "64/64 [==============================] - 0s 39us/step\n",
      "64/64 [==============================] - 0s 64us/step\n",
      "128/128 [==============================] - 0s 44us/step\n",
      "64/64 [==============================] - 0s 53us/step\n",
      "64/64 [==============================] - 0s 60us/step\n",
      "128/128 [==============================] - 0s 105us/step\n",
      "64/64 [==============================] - 0s 58us/step\n",
      "64/64 [==============================] - 0s 79us/step\n",
      "128/128 [==============================] - 0s 34us/step\n",
      "64/64 [==============================] - 0s 61us/step\n",
      "64/64 [==============================] - 0s 52us/step\n"
     ]
    },
    {
     "name": "stderr",
     "output_type": "stream",
     "text": [
      "\r",
      " 60%|██████    | 600/1000 [00:38<00:25, 15.48it/s]"
     ]
    },
    {
     "name": "stdout",
     "output_type": "stream",
     "text": [
      "128/128 [==============================] - 0s 37us/step\n",
      "64/64 [==============================] - 0s 60us/step\n",
      "64/64 [==============================] - 0s 78us/step\n",
      "128/128 [==============================] - 0s 50us/step\n",
      "64/64 [==============================] - 0s 54us/step\n",
      "64/64 [==============================] - 0s 47us/step\n",
      "128/128 [==============================] - 0s 37us/step\n",
      "64/64 [==============================] - 0s 38us/step\n",
      "64/64 [==============================] - 0s 67us/step\n",
      "128/128 [==============================] - 0s 42us/step\n",
      "64/64 [==============================] - 0s 38us/step\n",
      "64/64 [==============================] - 0s 50us/step\n"
     ]
    },
    {
     "name": "stderr",
     "output_type": "stream",
     "text": [
      "\r",
      " 60%|██████    | 604/1000 [00:42<00:27, 14.29it/s]"
     ]
    },
    {
     "name": "stdout",
     "output_type": "stream",
     "text": [
      "128/128 [==============================] - 0s 50us/step\n",
      "64/64 [==============================] - 0s 66us/step\n",
      "64/64 [==============================] - 0s 54us/step\n",
      "128/128 [==============================] - 0s 47us/step\n",
      "64/64 [==============================] - 0s 48us/step\n",
      "64/64 [==============================] - 0s 60us/step\n",
      "128/128 [==============================] - 0s 35us/step\n",
      "64/64 [==============================] - 0s 52us/step\n",
      "64/64 [==============================] - 0s 87us/step\n",
      "128/128 [==============================] - 0s 35us/step\n",
      "64/64 [==============================] - 0s 129us/step\n",
      "64/64 [==============================] - 0s 59us/step\n"
     ]
    },
    {
     "name": "stderr",
     "output_type": "stream",
     "text": [
      "\r",
      " 61%|██████    | 608/1000 [00:42<00:27, 14.34it/s]"
     ]
    },
    {
     "name": "stdout",
     "output_type": "stream",
     "text": [
      "128/128 [==============================] - 0s 40us/step\n",
      "64/64 [==============================] - 0s 56us/step\n",
      "64/64 [==============================] - 0s 58us/step\n",
      "128/128 [==============================] - 0s 38us/step\n",
      "64/64 [==============================] - 0s 48us/step\n",
      "64/64 [==============================] - 0s 76us/step\n",
      "128/128 [==============================] - 0s 65us/step\n",
      "64/64 [==============================] - 0s 47us/step\n",
      "64/64 [==============================] - 0s 48us/step\n",
      "128/128 [==============================] - 0s 43us/step\n",
      "64/64 [==============================] - 0s 73us/step\n",
      "64/64 [==============================] - 0s 60us/step\n"
     ]
    },
    {
     "name": "stderr",
     "output_type": "stream",
     "text": [
      "\r",
      " 61%|██████    | 612/1000 [00:42<00:26, 14.40it/s]"
     ]
    },
    {
     "name": "stdout",
     "output_type": "stream",
     "text": [
      "128/128 [==============================] - 0s 39us/step\n",
      "64/64 [==============================] - 0s 58us/step\n",
      "64/64 [==============================] - 0s 68us/step\n",
      "128/128 [==============================] - 0s 50us/step\n",
      "64/64 [==============================] - 0s 62us/step\n",
      "64/64 [==============================] - 0s 67us/step\n",
      "128/128 [==============================] - 0s 42us/step\n",
      "64/64 [==============================] - 0s 82us/step\n",
      "64/64 [==============================] - 0s 83us/step\n",
      "128/128 [==============================] - 0s 37us/step\n",
      "64/64 [==============================] - 0s 64us/step\n",
      "64/64 [==============================] - 0s 62us/step\n"
     ]
    },
    {
     "name": "stderr",
     "output_type": "stream",
     "text": [
      "\r",
      " 62%|██████▏   | 616/1000 [00:42<00:26, 14.45it/s]"
     ]
    },
    {
     "name": "stdout",
     "output_type": "stream",
     "text": [
      "128/128 [==============================] - 0s 41us/step\n",
      "64/64 [==============================] - 0s 110us/step\n",
      "64/64 [==============================] - 0s 46us/step\n",
      "128/128 [==============================] - 0s 46us/step\n",
      "64/64 [==============================] - 0s 68us/step\n",
      "64/64 [==============================] - 0s 70us/step\n",
      "128/128 [==============================] - 0s 50us/step\n",
      "64/64 [==============================] - 0s 42us/step\n",
      "64/64 [==============================] - 0s 53us/step\n",
      "128/128 [==============================] - 0s 45us/step\n",
      "64/64 [==============================] - 0s 39us/step\n",
      "64/64 [==============================] - 0s 61us/step\n"
     ]
    },
    {
     "name": "stderr",
     "output_type": "stream",
     "text": [
      "\r",
      " 62%|██████▏   | 620/1000 [00:42<00:26, 14.50it/s]"
     ]
    },
    {
     "name": "stdout",
     "output_type": "stream",
     "text": [
      "128/128 [==============================] - 0s 42us/step\n",
      "64/64 [==============================] - 0s 54us/step\n",
      "64/64 [==============================] - 0s 69us/step\n",
      "128/128 [==============================] - 0s 44us/step\n",
      "64/64 [==============================] - 0s 61us/step\n",
      "64/64 [==============================] - 0s 58us/step\n",
      "128/128 [==============================] - 0s 41us/step\n",
      "64/64 [==============================] - 0s 64us/step\n",
      "64/64 [==============================] - 0s 61us/step\n",
      "128/128 [==============================] - 0s 37us/step\n",
      "64/64 [==============================] - 0s 82us/step\n",
      "64/64 [==============================] - 0s 61us/step\n"
     ]
    },
    {
     "name": "stderr",
     "output_type": "stream",
     "text": [
      "\r",
      " 62%|██████▏   | 624/1000 [00:42<00:25, 14.55it/s]"
     ]
    },
    {
     "name": "stdout",
     "output_type": "stream",
     "text": [
      "128/128 [==============================] - 0s 46us/step\n",
      "64/64 [==============================] - 0s 67us/step\n",
      "64/64 [==============================] - 0s 62us/step\n",
      "128/128 [==============================] - 0s 49us/step\n",
      "64/64 [==============================] - 0s 43us/step\n",
      "64/64 [==============================] - 0s 69us/step\n",
      "128/128 [==============================] - 0s 39us/step\n",
      "64/64 [==============================] - 0s 61us/step\n",
      "64/64 [==============================] - 0s 67us/step\n",
      "128/128 [==============================] - 0s 41us/step\n",
      "64/64 [==============================] - 0s 51us/step\n",
      "64/64 [==============================] - 0s 68us/step\n"
     ]
    },
    {
     "name": "stderr",
     "output_type": "stream",
     "text": [
      "\r",
      " 63%|██████▎   | 628/1000 [00:43<00:25, 14.60it/s]"
     ]
    },
    {
     "name": "stdout",
     "output_type": "stream",
     "text": [
      "128/128 [==============================] - 0s 40us/step\n",
      "64/64 [==============================] - 0s 71us/step\n",
      "64/64 [==============================] - 0s 51us/step\n",
      "128/128 [==============================] - 0s 43us/step\n",
      "64/64 [==============================] - 0s 66us/step\n",
      "64/64 [==============================] - 0s 81us/step\n",
      "128/128 [==============================] - 0s 35us/step\n",
      "64/64 [==============================] - 0s 64us/step\n",
      "64/64 [==============================] - 0s 62us/step\n",
      "128/128 [==============================] - 0s 40us/step\n",
      "64/64 [==============================] - 0s 57us/step\n",
      "64/64 [==============================] - 0s 72us/step\n"
     ]
    },
    {
     "name": "stderr",
     "output_type": "stream",
     "text": [
      "\r",
      " 63%|██████▎   | 632/1000 [00:43<00:25, 14.65it/s]"
     ]
    },
    {
     "name": "stdout",
     "output_type": "stream",
     "text": [
      "128/128 [==============================] - 0s 48us/step\n",
      "64/64 [==============================] - 0s 61us/step\n",
      "64/64 [==============================] - 0s 66us/step\n",
      "128/128 [==============================] - 0s 43us/step\n",
      "64/64 [==============================] - 0s 74us/step\n",
      "64/64 [==============================] - 0s 62us/step\n",
      "128/128 [==============================] - 0s 40us/step\n",
      "64/64 [==============================] - 0s 43us/step\n",
      "64/64 [==============================] - 0s 47us/step\n",
      "128/128 [==============================] - 0s 47us/step\n",
      "64/64 [==============================] - 0s 54us/step\n",
      "64/64 [==============================] - 0s 48us/step\n"
     ]
    },
    {
     "name": "stderr",
     "output_type": "stream",
     "text": [
      "\r",
      " 64%|██████▎   | 636/1000 [00:43<00:24, 14.70it/s]"
     ]
    },
    {
     "name": "stdout",
     "output_type": "stream",
     "text": [
      "128/128 [==============================] - 0s 71us/step\n",
      "64/64 [==============================] - 0s 60us/step\n",
      "64/64 [==============================] - 0s 59us/step\n",
      "128/128 [==============================] - 0s 43us/step\n",
      "64/64 [==============================] - 0s 62us/step\n",
      "64/64 [==============================] - 0s 47us/step\n",
      "128/128 [==============================] - 0s 40us/step\n",
      "64/64 [==============================] - 0s 61us/step\n",
      "64/64 [==============================] - 0s 55us/step\n",
      "128/128 [==============================] - 0s 54us/step\n",
      "64/64 [==============================] - 0s 72us/step\n",
      "64/64 [==============================] - 0s 56us/step\n"
     ]
    },
    {
     "name": "stderr",
     "output_type": "stream",
     "text": [
      "\r",
      " 64%|██████▍   | 640/1000 [00:43<00:24, 14.75it/s]"
     ]
    },
    {
     "name": "stdout",
     "output_type": "stream",
     "text": [
      "128/128 [==============================] - 0s 42us/step\n",
      "64/64 [==============================] - 0s 62us/step\n",
      "64/64 [==============================] - 0s 69us/step\n",
      "128/128 [==============================] - 0s 37us/step\n",
      "64/64 [==============================] - 0s 68us/step\n",
      "64/64 [==============================] - 0s 65us/step\n",
      "128/128 [==============================] - 0s 44us/step\n",
      "64/64 [==============================] - 0s 56us/step\n",
      "64/64 [==============================] - 0s 69us/step\n",
      "128/128 [==============================] - 0s 39us/step\n",
      "64/64 [==============================] - 0s 53us/step\n",
      "64/64 [==============================] - 0s 110us/step\n"
     ]
    },
    {
     "name": "stderr",
     "output_type": "stream",
     "text": [
      "\r",
      " 64%|██████▍   | 644/1000 [00:43<00:24, 14.80it/s]"
     ]
    },
    {
     "name": "stdout",
     "output_type": "stream",
     "text": [
      "128/128 [==============================] - 0s 47us/step\n",
      "64/64 [==============================] - 0s 41us/step\n",
      "64/64 [==============================] - 0s 76us/step\n",
      "128/128 [==============================] - 0s 48us/step\n",
      "64/64 [==============================] - 0s 43us/step\n",
      "64/64 [==============================] - 0s 61us/step\n",
      "128/128 [==============================] - 0s 45us/step\n",
      "64/64 [==============================] - 0s 68us/step\n",
      "64/64 [==============================] - 0s 58us/step\n",
      "128/128 [==============================] - 0s 40us/step\n",
      "64/64 [==============================] - 0s 49us/step\n",
      "64/64 [==============================] - 0s 50us/step\n"
     ]
    },
    {
     "name": "stderr",
     "output_type": "stream",
     "text": [
      "\r",
      " 65%|██████▍   | 648/1000 [00:43<00:23, 14.85it/s]"
     ]
    },
    {
     "name": "stdout",
     "output_type": "stream",
     "text": [
      "128/128 [==============================] - 0s 35us/step\n",
      "64/64 [==============================] - 0s 40us/step\n",
      "64/64 [==============================] - 0s 65us/step\n",
      "128/128 [==============================] - 0s 38us/step\n",
      "64/64 [==============================] - 0s 63us/step\n",
      "64/64 [==============================] - 0s 79us/step\n",
      "128/128 [==============================] - 0s 46us/step\n",
      "64/64 [==============================] - 0s 41us/step\n",
      "64/64 [==============================] - 0s 44us/step\n",
      "128/128 [==============================] - 0s 46us/step\n",
      "64/64 [==============================] - 0s 59us/step\n",
      "64/64 [==============================] - 0s 63us/step\n"
     ]
    },
    {
     "name": "stderr",
     "output_type": "stream",
     "text": [
      "\r",
      " 65%|██████▌   | 652/1000 [00:43<00:23, 14.90it/s]"
     ]
    },
    {
     "name": "stdout",
     "output_type": "stream",
     "text": [
      "128/128 [==============================] - 0s 44us/step\n",
      "64/64 [==============================] - 0s 54us/step\n",
      "64/64 [==============================] - 0s 60us/step\n",
      "128/128 [==============================] - 0s 36us/step\n",
      "64/64 [==============================] - 0s 112us/step\n",
      "64/64 [==============================] - 0s 54us/step\n",
      "128/128 [==============================] - 0s 37us/step\n",
      "64/64 [==============================] - 0s 60us/step\n",
      "64/64 [==============================] - 0s 54us/step\n",
      "128/128 [==============================] - 0s 43us/step\n",
      "64/64 [==============================] - 0s 51us/step\n",
      "64/64 [==============================] - 0s 60us/step\n"
     ]
    },
    {
     "name": "stderr",
     "output_type": "stream",
     "text": [
      "\r",
      " 66%|██████▌   | 656/1000 [00:43<00:23, 14.95it/s]"
     ]
    },
    {
     "name": "stdout",
     "output_type": "stream",
     "text": [
      "128/128 [==============================] - 0s 49us/step\n",
      "64/64 [==============================] - 0s 49us/step\n",
      "64/64 [==============================] - 0s 56us/step\n",
      "128/128 [==============================] - 0s 42us/step\n",
      "64/64 [==============================] - 0s 58us/step\n",
      "64/64 [==============================] - 0s 74us/step\n",
      "128/128 [==============================] - 0s 39us/step\n",
      "64/64 [==============================] - 0s 75us/step\n",
      "64/64 [==============================] - 0s 65us/step\n",
      "128/128 [==============================] - 0s 35us/step\n",
      "64/64 [==============================] - 0s 60us/step\n",
      "64/64 [==============================] - 0s 71us/step\n"
     ]
    },
    {
     "name": "stderr",
     "output_type": "stream",
     "text": [
      "\r",
      " 66%|██████▌   | 660/1000 [00:44<00:22, 15.00it/s]"
     ]
    },
    {
     "name": "stdout",
     "output_type": "stream",
     "text": [
      "128/128 [==============================] - 0s 47us/step\n",
      "64/64 [==============================] - 0s 60us/step\n",
      "64/64 [==============================] - 0s 66us/step\n",
      "128/128 [==============================] - 0s 43us/step\n",
      "64/64 [==============================] - 0s 48us/step\n",
      "64/64 [==============================] - 0s 58us/step\n",
      "128/128 [==============================] - 0s 43us/step\n",
      "64/64 [==============================] - 0s 44us/step\n",
      "64/64 [==============================] - 0s 64us/step\n",
      "128/128 [==============================] - 0s 54us/step\n",
      "64/64 [==============================] - 0s 54us/step\n",
      "64/64 [==============================] - 0s 62us/step\n"
     ]
    },
    {
     "name": "stderr",
     "output_type": "stream",
     "text": [
      "\r",
      " 66%|██████▋   | 664/1000 [00:44<00:22, 15.05it/s]"
     ]
    },
    {
     "name": "stdout",
     "output_type": "stream",
     "text": [
      "128/128 [==============================] - 0s 49us/step\n",
      "64/64 [==============================] - 0s 56us/step\n",
      "64/64 [==============================] - 0s 77us/step\n",
      "128/128 [==============================] - 0s 46us/step\n",
      "64/64 [==============================] - 0s 55us/step\n",
      "64/64 [==============================] - 0s 61us/step\n",
      "128/128 [==============================] - 0s 35us/step\n",
      "64/64 [==============================] - 0s 53us/step\n",
      "64/64 [==============================] - 0s 57us/step\n",
      "128/128 [==============================] - 0s 37us/step\n",
      "64/64 [==============================] - 0s 64us/step\n",
      "64/64 [==============================] - 0s 57us/step\n"
     ]
    },
    {
     "name": "stderr",
     "output_type": "stream",
     "text": [
      "\r",
      " 67%|██████▋   | 668/1000 [00:44<00:21, 15.10it/s]"
     ]
    },
    {
     "name": "stdout",
     "output_type": "stream",
     "text": [
      "128/128 [==============================] - 0s 37us/step\n",
      "64/64 [==============================] - 0s 42us/step\n",
      "64/64 [==============================] - 0s 49us/step\n",
      "128/128 [==============================] - 0s 48us/step\n",
      "64/64 [==============================] - 0s 64us/step\n",
      "64/64 [==============================] - 0s 55us/step\n",
      "128/128 [==============================] - 0s 53us/step\n",
      "64/64 [==============================] - 0s 45us/step\n",
      "64/64 [==============================] - 0s 46us/step\n",
      "128/128 [==============================] - 0s 40us/step\n",
      "64/64 [==============================] - 0s 60us/step\n",
      "64/64 [==============================] - 0s 64us/step\n"
     ]
    },
    {
     "name": "stderr",
     "output_type": "stream",
     "text": [
      "\r",
      " 67%|██████▋   | 672/1000 [00:44<00:21, 15.14it/s]"
     ]
    },
    {
     "name": "stdout",
     "output_type": "stream",
     "text": [
      "128/128 [==============================] - 0s 41us/step\n",
      "64/64 [==============================] - 0s 61us/step\n",
      "64/64 [==============================] - 0s 66us/step\n",
      "128/128 [==============================] - 0s 40us/step\n",
      "64/64 [==============================] - 0s 39us/step\n",
      "64/64 [==============================] - 0s 74us/step\n",
      "128/128 [==============================] - 0s 44us/step\n",
      "64/64 [==============================] - 0s 44us/step\n",
      "64/64 [==============================] - 0s 60us/step\n",
      "128/128 [==============================] - 0s 52us/step\n",
      "64/64 [==============================] - 0s 56us/step\n",
      "64/64 [==============================] - 0s 46us/step\n"
     ]
    },
    {
     "name": "stderr",
     "output_type": "stream",
     "text": [
      "\r",
      " 68%|██████▊   | 676/1000 [00:44<00:21, 15.19it/s]"
     ]
    },
    {
     "name": "stdout",
     "output_type": "stream",
     "text": [
      "128/128 [==============================] - 0s 49us/step\n",
      "64/64 [==============================] - 0s 72us/step\n",
      "64/64 [==============================] - 0s 61us/step\n",
      "128/128 [==============================] - 0s 39us/step\n",
      "64/64 [==============================] - 0s 53us/step\n",
      "64/64 [==============================] - 0s 74us/step\n",
      "128/128 [==============================] - 0s 41us/step\n",
      "64/64 [==============================] - 0s 47us/step\n",
      "64/64 [==============================] - 0s 71us/step\n",
      "128/128 [==============================] - 0s 44us/step\n",
      "64/64 [==============================] - 0s 46us/step\n",
      "64/64 [==============================] - 0s 87us/step\n"
     ]
    },
    {
     "name": "stderr",
     "output_type": "stream",
     "text": [
      "\r",
      " 68%|██████▊   | 680/1000 [00:44<00:20, 15.24it/s]"
     ]
    },
    {
     "name": "stdout",
     "output_type": "stream",
     "text": [
      "128/128 [==============================] - 0s 45us/step\n",
      "64/64 [==============================] - 0s 38us/step\n",
      "64/64 [==============================] - 0s 122us/step\n",
      "128/128 [==============================] - 0s 45us/step\n",
      "64/64 [==============================] - 0s 62us/step\n",
      "64/64 [==============================] - 0s 74us/step\n",
      "128/128 [==============================] - 0s 49us/step\n",
      "64/64 [==============================] - 0s 55us/step\n",
      "64/64 [==============================] - 0s 64us/step\n",
      "128/128 [==============================] - 0s 43us/step\n",
      "64/64 [==============================] - 0s 49us/step\n",
      "64/64 [==============================] - 0s 53us/step\n"
     ]
    },
    {
     "name": "stderr",
     "output_type": "stream",
     "text": [
      "\r",
      " 68%|██████▊   | 684/1000 [00:44<00:20, 15.29it/s]"
     ]
    },
    {
     "name": "stdout",
     "output_type": "stream",
     "text": [
      "128/128 [==============================] - 0s 40us/step\n",
      "64/64 [==============================] - 0s 64us/step\n",
      "64/64 [==============================] - 0s 45us/step\n",
      "128/128 [==============================] - 0s 41us/step\n",
      "64/64 [==============================] - 0s 56us/step\n",
      "64/64 [==============================] - 0s 48us/step\n",
      "128/128 [==============================] - 0s 40us/step\n",
      "64/64 [==============================] - 0s 71us/step\n",
      "64/64 [==============================] - 0s 71us/step\n",
      "128/128 [==============================] - 0s 38us/step\n",
      "64/64 [==============================] - 0s 50us/step\n",
      "64/64 [==============================] - 0s 67us/step\n"
     ]
    },
    {
     "name": "stderr",
     "output_type": "stream",
     "text": [
      "\r",
      " 69%|██████▉   | 688/1000 [00:44<00:20, 15.33it/s]"
     ]
    },
    {
     "name": "stdout",
     "output_type": "stream",
     "text": [
      "128/128 [==============================] - 0s 48us/step\n",
      "64/64 [==============================] - 0s 63us/step\n",
      "64/64 [==============================] - 0s 64us/step\n",
      "128/128 [==============================] - 0s 40us/step\n",
      "64/64 [==============================] - 0s 43us/step\n",
      "64/64 [==============================] - 0s 53us/step\n",
      "128/128 [==============================] - 0s 45us/step\n",
      "64/64 [==============================] - 0s 60us/step\n",
      "64/64 [==============================] - 0s 54us/step\n",
      "128/128 [==============================] - 0s 44us/step\n",
      "64/64 [==============================] - 0s 70us/step\n",
      "64/64 [==============================] - 0s 52us/step\n"
     ]
    },
    {
     "name": "stderr",
     "output_type": "stream",
     "text": [
      "\r",
      " 69%|██████▉   | 692/1000 [00:44<00:20, 15.38it/s]"
     ]
    },
    {
     "name": "stdout",
     "output_type": "stream",
     "text": [
      "128/128 [==============================] - 0s 38us/step\n",
      "64/64 [==============================] - 0s 39us/step\n",
      "64/64 [==============================] - 0s 73us/step\n",
      "128/128 [==============================] - 0s 42us/step\n",
      "64/64 [==============================] - 0s 61us/step\n",
      "64/64 [==============================] - 0s 67us/step\n",
      "128/128 [==============================] - 0s 43us/step\n",
      "64/64 [==============================] - 0s 70us/step\n",
      "64/64 [==============================] - 0s 68us/step\n",
      "128/128 [==============================] - 0s 54us/step\n",
      "64/64 [==============================] - 0s 52us/step\n",
      "64/64 [==============================] - 0s 52us/step\n"
     ]
    },
    {
     "name": "stderr",
     "output_type": "stream",
     "text": [
      "\r",
      " 70%|██████▉   | 696/1000 [00:45<00:19, 15.43it/s]"
     ]
    },
    {
     "name": "stdout",
     "output_type": "stream",
     "text": [
      "128/128 [==============================] - 0s 40us/step\n",
      "64/64 [==============================] - 0s 80us/step\n",
      "64/64 [==============================] - 0s 60us/step\n",
      "128/128 [==============================] - 0s 44us/step\n",
      "64/64 [==============================] - 0s 77us/step\n",
      "64/64 [==============================] - 0s 62us/step\n",
      "128/128 [==============================] - 0s 39us/step\n",
      "64/64 [==============================] - 0s 112us/step\n",
      "64/64 [==============================] - 0s 46us/step\n",
      "128/128 [==============================] - 0s 39us/step\n",
      "64/64 [==============================] - 0s 84us/step\n",
      "64/64 [==============================] - 0s 72us/step\n"
     ]
    },
    {
     "name": "stderr",
     "output_type": "stream",
     "text": [
      "\r",
      " 70%|███████   | 700/1000 [00:45<00:19, 15.47it/s]"
     ]
    },
    {
     "name": "stdout",
     "output_type": "stream",
     "text": [
      "128/128 [==============================] - 0s 47us/step\n",
      "64/64 [==============================] - 0s 59us/step\n",
      "64/64 [==============================] - 0s 60us/step\n",
      "128/128 [==============================] - 0s 40us/step\n",
      "64/64 [==============================] - 0s 42us/step\n",
      "64/64 [==============================] - 0s 39us/step\n",
      "128/128 [==============================] - 0s 37us/step\n",
      "64/64 [==============================] - 0s 58us/step\n",
      "64/64 [==============================] - 0s 55us/step\n",
      "128/128 [==============================] - 0s 39us/step\n",
      "64/64 [==============================] - 0s 85us/step\n",
      "64/64 [==============================] - 0s 55us/step\n"
     ]
    },
    {
     "name": "stderr",
     "output_type": "stream",
     "text": [
      "\r",
      " 70%|███████   | 704/1000 [00:48<00:20, 14.42it/s]"
     ]
    },
    {
     "name": "stdout",
     "output_type": "stream",
     "text": [
      "128/128 [==============================] - 0s 50us/step\n",
      "64/64 [==============================] - 0s 51us/step\n",
      "64/64 [==============================] - 0s 66us/step\n",
      "128/128 [==============================] - 0s 49us/step\n",
      "64/64 [==============================] - 0s 54us/step\n",
      "64/64 [==============================] - 0s 47us/step\n",
      "128/128 [==============================] - 0s 46us/step\n",
      "64/64 [==============================] - 0s 75us/step\n",
      "64/64 [==============================] - 0s 76us/step\n",
      "128/128 [==============================] - 0s 47us/step\n",
      "64/64 [==============================] - 0s 60us/step\n",
      "64/64 [==============================] - 0s 64us/step\n"
     ]
    },
    {
     "name": "stderr",
     "output_type": "stream",
     "text": [
      "\r",
      " 71%|███████   | 708/1000 [00:48<00:20, 14.46it/s]"
     ]
    },
    {
     "name": "stdout",
     "output_type": "stream",
     "text": [
      "128/128 [==============================] - 0s 42us/step\n",
      "64/64 [==============================] - 0s 72us/step\n",
      "64/64 [==============================] - 0s 59us/step\n",
      "128/128 [==============================] - 0s 40us/step\n",
      "64/64 [==============================] - 0s 48us/step\n",
      "64/64 [==============================] - 0s 58us/step\n",
      "128/128 [==============================] - 0s 48us/step\n",
      "64/64 [==============================] - 0s 51us/step\n",
      "64/64 [==============================] - 0s 59us/step\n",
      "128/128 [==============================] - 0s 36us/step\n",
      "64/64 [==============================] - 0s 58us/step\n",
      "64/64 [==============================] - 0s 66us/step\n"
     ]
    },
    {
     "name": "stderr",
     "output_type": "stream",
     "text": [
      "\r",
      " 71%|███████   | 712/1000 [00:49<00:19, 14.51it/s]"
     ]
    },
    {
     "name": "stdout",
     "output_type": "stream",
     "text": [
      "128/128 [==============================] - 0s 50us/step\n",
      "64/64 [==============================] - 0s 56us/step\n",
      "64/64 [==============================] - 0s 65us/step\n",
      "128/128 [==============================] - 0s 43us/step\n",
      "64/64 [==============================] - 0s 53us/step\n",
      "64/64 [==============================] - 0s 55us/step\n",
      "128/128 [==============================] - 0s 41us/step\n",
      "64/64 [==============================] - 0s 68us/step\n",
      "64/64 [==============================] - 0s 65us/step\n",
      "128/128 [==============================] - 0s 47us/step\n",
      "64/64 [==============================] - 0s 63us/step\n",
      "64/64 [==============================] - 0s 58us/step\n"
     ]
    },
    {
     "name": "stderr",
     "output_type": "stream",
     "text": [
      "\r",
      " 72%|███████▏  | 716/1000 [00:49<00:19, 14.55it/s]"
     ]
    },
    {
     "name": "stdout",
     "output_type": "stream",
     "text": [
      "128/128 [==============================] - 0s 50us/step\n",
      "64/64 [==============================] - 0s 55us/step\n",
      "64/64 [==============================] - 0s 63us/step\n",
      "128/128 [==============================] - 0s 37us/step\n",
      "64/64 [==============================] - 0s 43us/step\n",
      "64/64 [==============================] - 0s 58us/step\n",
      "128/128 [==============================] - 0s 38us/step\n",
      "64/64 [==============================] - 0s 62us/step\n",
      "64/64 [==============================] - 0s 64us/step\n",
      "128/128 [==============================] - 0s 53us/step\n",
      "64/64 [==============================] - 0s 56us/step\n",
      "64/64 [==============================] - 0s 44us/step\n"
     ]
    },
    {
     "name": "stderr",
     "output_type": "stream",
     "text": [
      "\r",
      " 72%|███████▏  | 720/1000 [00:49<00:19, 14.60it/s]"
     ]
    },
    {
     "name": "stdout",
     "output_type": "stream",
     "text": [
      "128/128 [==============================] - 0s 36us/step\n",
      "64/64 [==============================] - 0s 58us/step\n",
      "64/64 [==============================] - 0s 72us/step\n",
      "128/128 [==============================] - 0s 42us/step\n",
      "64/64 [==============================] - 0s 41us/step\n",
      "64/64 [==============================] - 0s 59us/step\n",
      "128/128 [==============================] - 0s 52us/step\n",
      "64/64 [==============================] - 0s 37us/step\n",
      "64/64 [==============================] - 0s 53us/step\n",
      "128/128 [==============================] - 0s 49us/step\n",
      "64/64 [==============================] - 0s 44us/step\n",
      "64/64 [==============================] - 0s 46us/step\n"
     ]
    },
    {
     "name": "stderr",
     "output_type": "stream",
     "text": [
      "\r",
      " 72%|███████▏  | 724/1000 [00:49<00:18, 14.65it/s]"
     ]
    },
    {
     "name": "stdout",
     "output_type": "stream",
     "text": [
      "128/128 [==============================] - 0s 37us/step\n",
      "64/64 [==============================] - 0s 73us/step\n",
      "64/64 [==============================] - 0s 54us/step\n",
      "128/128 [==============================] - 0s 38us/step\n",
      "64/64 [==============================] - 0s 115us/step\n",
      "64/64 [==============================] - 0s 62us/step\n",
      "128/128 [==============================] - 0s 39us/step\n",
      "64/64 [==============================] - 0s 48us/step\n",
      "64/64 [==============================] - 0s 63us/step\n",
      "128/128 [==============================] - 0s 42us/step\n",
      "64/64 [==============================] - 0s 47us/step\n",
      "64/64 [==============================] - 0s 75us/step\n"
     ]
    },
    {
     "name": "stderr",
     "output_type": "stream",
     "text": [
      "\r",
      " 73%|███████▎  | 728/1000 [00:49<00:18, 14.69it/s]"
     ]
    },
    {
     "name": "stdout",
     "output_type": "stream",
     "text": [
      "128/128 [==============================] - 0s 46us/step\n",
      "64/64 [==============================] - 0s 41us/step\n",
      "64/64 [==============================] - 0s 49us/step\n",
      "128/128 [==============================] - 0s 39us/step\n",
      "64/64 [==============================] - 0s 68us/step\n",
      "64/64 [==============================] - 0s 71us/step\n",
      "128/128 [==============================] - 0s 46us/step\n",
      "64/64 [==============================] - 0s 55us/step\n",
      "64/64 [==============================] - 0s 49us/step\n",
      "128/128 [==============================] - 0s 44us/step\n",
      "64/64 [==============================] - 0s 69us/step\n",
      "64/64 [==============================] - 0s 82us/step\n"
     ]
    },
    {
     "name": "stderr",
     "output_type": "stream",
     "text": [
      "\r",
      " 73%|███████▎  | 732/1000 [00:49<00:18, 14.73it/s]"
     ]
    },
    {
     "name": "stdout",
     "output_type": "stream",
     "text": [
      "128/128 [==============================] - 0s 39us/step\n",
      "64/64 [==============================] - 0s 96us/step\n",
      "64/64 [==============================] - 0s 55us/step\n",
      "128/128 [==============================] - 0s 38us/step\n",
      "64/64 [==============================] - 0s 56us/step\n",
      "64/64 [==============================] - 0s 87us/step\n",
      "128/128 [==============================] - 0s 38us/step\n",
      "64/64 [==============================] - 0s 62us/step\n",
      "64/64 [==============================] - 0s 63us/step\n",
      "128/128 [==============================] - 0s 40us/step\n",
      "64/64 [==============================] - 0s 51us/step\n",
      "64/64 [==============================] - 0s 112us/step\n"
     ]
    },
    {
     "name": "stderr",
     "output_type": "stream",
     "text": [
      "\r",
      " 74%|███████▎  | 736/1000 [00:49<00:17, 14.78it/s]"
     ]
    },
    {
     "name": "stdout",
     "output_type": "stream",
     "text": [
      "128/128 [==============================] - 0s 50us/step\n",
      "64/64 [==============================] - 0s 68us/step\n",
      "64/64 [==============================] - 0s 115us/step\n",
      "128/128 [==============================] - 0s 37us/step\n",
      "64/64 [==============================] - 0s 47us/step\n",
      "64/64 [==============================] - 0s 77us/step\n",
      "128/128 [==============================] - 0s 48us/step\n",
      "64/64 [==============================] - 0s 45us/step\n",
      "64/64 [==============================] - 0s 51us/step\n",
      "128/128 [==============================] - 0s 47us/step\n",
      "64/64 [==============================] - 0s 63us/step\n",
      "64/64 [==============================] - ETA:  - 0s 61us/step\n"
     ]
    },
    {
     "name": "stderr",
     "output_type": "stream",
     "text": [
      "\r",
      " 74%|███████▍  | 740/1000 [00:49<00:17, 14.82it/s]"
     ]
    },
    {
     "name": "stdout",
     "output_type": "stream",
     "text": [
      "128/128 [==============================] - 0s 46us/step\n",
      "64/64 [==============================] - 0s 61us/step\n",
      "64/64 [==============================] - 0s 48us/step\n",
      "128/128 [==============================] - 0s 42us/step\n",
      "64/64 [==============================] - 0s 69us/step\n",
      "64/64 [==============================] - 0s 46us/step\n",
      "128/128 [==============================] - 0s 36us/step\n",
      "64/64 [==============================] - 0s 73us/step\n",
      "64/64 [==============================] - 0s 80us/step\n",
      "128/128 [==============================] - 0s 39us/step\n",
      "64/64 [==============================] - 0s 41us/step\n",
      "64/64 [==============================] - 0s 76us/step\n"
     ]
    },
    {
     "name": "stderr",
     "output_type": "stream",
     "text": [
      "\r",
      " 74%|███████▍  | 744/1000 [00:50<00:17, 14.86it/s]"
     ]
    },
    {
     "name": "stdout",
     "output_type": "stream",
     "text": [
      "128/128 [==============================] - 0s 50us/step\n",
      "64/64 [==============================] - 0s 44us/step\n",
      "64/64 [==============================] - 0s 63us/step\n",
      "128/128 [==============================] - 0s 55us/step\n",
      "64/64 [==============================] - 0s 58us/step\n",
      "64/64 [==============================] - 0s 61us/step\n",
      "128/128 [==============================] - 0s 48us/step\n",
      "64/64 [==============================] - 0s 68us/step\n",
      "64/64 [==============================] - 0s 62us/step\n",
      "128/128 [==============================] - 0s 40us/step\n",
      "64/64 [==============================] - 0s 53us/step\n",
      "64/64 [==============================] - 0s 55us/step\n"
     ]
    },
    {
     "name": "stderr",
     "output_type": "stream",
     "text": [
      "\r",
      " 75%|███████▍  | 748/1000 [00:50<00:16, 14.91it/s]"
     ]
    },
    {
     "name": "stdout",
     "output_type": "stream",
     "text": [
      "128/128 [==============================] - 0s 40us/step\n",
      "64/64 [==============================] - 0s 59us/step\n",
      "64/64 [==============================] - 0s 59us/step\n",
      "128/128 [==============================] - 0s 36us/step\n",
      "64/64 [==============================] - 0s 58us/step\n",
      "64/64 [==============================] - 0s 76us/step\n",
      "128/128 [==============================] - 0s 49us/step\n",
      "64/64 [==============================] - 0s 55us/step\n",
      "64/64 [==============================] - 0s 51us/step\n",
      "128/128 [==============================] - 0s 57us/step\n",
      "64/64 [==============================] - 0s 60us/step\n",
      "64/64 [==============================] - 0s 55us/step\n"
     ]
    },
    {
     "name": "stderr",
     "output_type": "stream",
     "text": [
      "\r",
      " 75%|███████▌  | 752/1000 [00:50<00:16, 14.95it/s]"
     ]
    },
    {
     "name": "stdout",
     "output_type": "stream",
     "text": [
      "128/128 [==============================] - 0s 54us/step\n",
      "64/64 [==============================] - 0s 56us/step\n",
      "64/64 [==============================] - 0s 47us/step\n",
      "128/128 [==============================] - 0s 46us/step\n",
      "64/64 [==============================] - 0s 63us/step\n",
      "64/64 [==============================] - 0s 59us/step\n",
      "128/128 [==============================] - 0s 50us/step\n",
      "64/64 [==============================] - 0s 58us/step\n",
      "64/64 [==============================] - 0s 49us/step\n",
      "128/128 [==============================] - 0s 54us/step\n",
      "64/64 [==============================] - 0s 57us/step\n",
      "64/64 [==============================] - 0s 71us/step\n"
     ]
    },
    {
     "name": "stderr",
     "output_type": "stream",
     "text": [
      "\r",
      " 76%|███████▌  | 756/1000 [00:50<00:16, 14.99it/s]"
     ]
    },
    {
     "name": "stdout",
     "output_type": "stream",
     "text": [
      "128/128 [==============================] - 0s 46us/step\n",
      "64/64 [==============================] - 0s 106us/step\n",
      "64/64 [==============================] - 0s 63us/step\n",
      "128/128 [==============================] - 0s 52us/step\n",
      "64/64 [==============================] - 0s 60us/step\n",
      "64/64 [==============================] - 0s 45us/step\n",
      "128/128 [==============================] - 0s 46us/step\n",
      "64/64 [==============================] - 0s 69us/step\n",
      "64/64 [==============================] - 0s 60us/step\n",
      "128/128 [==============================] - 0s 38us/step\n",
      "64/64 [==============================] - 0s 50us/step\n",
      "64/64 [==============================] - 0s 66us/step\n"
     ]
    },
    {
     "name": "stderr",
     "output_type": "stream",
     "text": [
      "\r",
      " 76%|███████▌  | 760/1000 [00:50<00:15, 15.03it/s]"
     ]
    },
    {
     "name": "stdout",
     "output_type": "stream",
     "text": [
      "128/128 [==============================] - 0s 35us/step\n",
      "64/64 [==============================] - 0s 44us/step\n",
      "64/64 [==============================] - 0s 58us/step\n",
      "128/128 [==============================] - 0s 38us/step\n",
      "64/64 [==============================] - 0s 46us/step\n",
      "64/64 [==============================] - 0s 64us/step\n",
      "128/128 [==============================] - 0s 48us/step\n",
      "64/64 [==============================] - 0s 65us/step\n",
      "64/64 [==============================] - 0s 65us/step\n",
      "128/128 [==============================] - 0s 40us/step\n",
      "64/64 [==============================] - 0s 53us/step\n",
      "64/64 [==============================] - 0s 65us/step\n"
     ]
    },
    {
     "name": "stderr",
     "output_type": "stream",
     "text": [
      "\r",
      " 76%|███████▋  | 764/1000 [00:50<00:15, 15.07it/s]"
     ]
    },
    {
     "name": "stdout",
     "output_type": "stream",
     "text": [
      "128/128 [==============================] - 0s 38us/step\n",
      "64/64 [==============================] - 0s 70us/step\n",
      "64/64 [==============================] - 0s 60us/step\n",
      "128/128 [==============================] - 0s 39us/step\n",
      "64/64 [==============================] - 0s 61us/step\n",
      "64/64 [==============================] - 0s 62us/step\n",
      "128/128 [==============================] - 0s 39us/step\n",
      "64/64 [==============================] - 0s 65us/step\n",
      "64/64 [==============================] - 0s 77us/step\n",
      "128/128 [==============================] - 0s 46us/step\n",
      "64/64 [==============================] - 0s 43us/step\n",
      "64/64 [==============================] - 0s 65us/step\n"
     ]
    },
    {
     "name": "stderr",
     "output_type": "stream",
     "text": [
      "\r",
      " 77%|███████▋  | 768/1000 [00:50<00:15, 15.12it/s]"
     ]
    },
    {
     "name": "stdout",
     "output_type": "stream",
     "text": [
      "128/128 [==============================] - 0s 53us/step\n",
      "64/64 [==============================] - 0s 44us/step\n",
      "64/64 [==============================] - 0s 64us/step\n",
      "128/128 [==============================] - 0s 50us/step\n",
      "64/64 [==============================] - 0s 61us/step\n",
      "64/64 [==============================] - 0s 68us/step\n",
      "128/128 [==============================] - 0s 49us/step\n",
      "64/64 [==============================] - 0s 45us/step\n",
      "64/64 [==============================] - 0s 181us/step\n",
      "128/128 [==============================] - 0s 42us/step\n",
      "64/64 [==============================] - 0s 59us/step\n",
      "64/64 [==============================] - 0s 74us/step\n"
     ]
    },
    {
     "name": "stderr",
     "output_type": "stream",
     "text": [
      "\r",
      " 77%|███████▋  | 772/1000 [00:50<00:15, 15.15it/s]"
     ]
    },
    {
     "name": "stdout",
     "output_type": "stream",
     "text": [
      "128/128 [==============================] - 0s 46us/step\n",
      "64/64 [==============================] - 0s 45us/step\n",
      "64/64 [==============================] - 0s 50us/step\n",
      "128/128 [==============================] - 0s 45us/step\n",
      "64/64 [==============================] - 0s 52us/step\n",
      "64/64 [==============================] - 0s 48us/step\n",
      "128/128 [==============================] - 0s 43us/step\n",
      "64/64 [==============================] - 0s 62us/step\n",
      "64/64 [==============================] - 0s 58us/step\n",
      "128/128 [==============================] - 0s 36us/step\n",
      "64/64 [==============================] - 0s 61us/step\n",
      "64/64 [==============================] - 0s 58us/step\n"
     ]
    },
    {
     "name": "stderr",
     "output_type": "stream",
     "text": [
      "\r",
      " 78%|███████▊  | 776/1000 [00:51<00:14, 15.20it/s]"
     ]
    },
    {
     "name": "stdout",
     "output_type": "stream",
     "text": [
      "128/128 [==============================] - 0s 42us/step\n",
      "64/64 [==============================] - 0s 63us/step\n",
      "64/64 [==============================] - 0s 58us/step\n",
      "128/128 [==============================] - 0s 36us/step\n",
      "64/64 [==============================] - 0s 75us/step\n",
      "64/64 [==============================] - 0s 60us/step\n",
      "128/128 [==============================] - 0s 47us/step\n",
      "64/64 [==============================] - 0s 48us/step\n",
      "64/64 [==============================] - 0s 52us/step\n",
      "128/128 [==============================] - 0s 42us/step\n",
      "64/64 [==============================] - 0s 58us/step\n",
      "64/64 [==============================] - 0s 73us/step\n"
     ]
    },
    {
     "name": "stderr",
     "output_type": "stream",
     "text": [
      "\r",
      " 78%|███████▊  | 780/1000 [00:51<00:14, 15.24it/s]"
     ]
    },
    {
     "name": "stdout",
     "output_type": "stream",
     "text": [
      "128/128 [==============================] - 0s 47us/step\n",
      "64/64 [==============================] - 0s 71us/step\n",
      "64/64 [==============================] - 0s 62us/step\n",
      "128/128 [==============================] - 0s 42us/step\n",
      "64/64 [==============================] - 0s 59us/step\n",
      "64/64 [==============================] - 0s 73us/step\n",
      "128/128 [==============================] - 0s 40us/step\n",
      "64/64 [==============================] - 0s 61us/step\n",
      "64/64 [==============================] - 0s 83us/step\n",
      "128/128 [==============================] - 0s 36us/step\n",
      "64/64 [==============================] - 0s 45us/step\n",
      "64/64 [==============================] - 0s 72us/step\n"
     ]
    },
    {
     "name": "stderr",
     "output_type": "stream",
     "text": [
      "\r",
      " 78%|███████▊  | 784/1000 [00:51<00:14, 15.28it/s]"
     ]
    },
    {
     "name": "stdout",
     "output_type": "stream",
     "text": [
      "128/128 [==============================] - 0s 53us/step\n",
      "64/64 [==============================] - 0s 46us/step\n",
      "64/64 [==============================] - 0s 59us/step\n",
      "128/128 [==============================] - 0s 44us/step\n",
      "64/64 [==============================] - 0s 61us/step\n",
      "64/64 [==============================] - 0s 59us/step\n",
      "128/128 [==============================] - 0s 52us/step\n",
      "64/64 [==============================] - 0s 57us/step\n",
      "64/64 [==============================] - 0s 66us/step\n",
      "128/128 [==============================] - 0s 42us/step\n",
      "64/64 [==============================] - 0s 58us/step\n",
      "64/64 [==============================] - 0s 66us/step\n"
     ]
    },
    {
     "name": "stderr",
     "output_type": "stream",
     "text": [
      "\r",
      " 79%|███████▉  | 788/1000 [00:51<00:13, 15.32it/s]"
     ]
    },
    {
     "name": "stdout",
     "output_type": "stream",
     "text": [
      "128/128 [==============================] - 0s 38us/step\n",
      "64/64 [==============================] - 0s 65us/step\n",
      "64/64 [==============================] - 0s 59us/step\n",
      "128/128 [==============================] - 0s 38us/step\n",
      "64/64 [==============================] - 0s 46us/step\n",
      "64/64 [==============================] - 0s 65us/step\n",
      "128/128 [==============================] - 0s 49us/step\n",
      "64/64 [==============================] - 0s 46us/step\n",
      "64/64 [==============================] - 0s 51us/step\n",
      "128/128 [==============================] - 0s 51us/step\n",
      "64/64 [==============================] - 0s 48us/step\n",
      "64/64 [==============================] - 0s 73us/step\n"
     ]
    },
    {
     "name": "stderr",
     "output_type": "stream",
     "text": [
      "\r",
      " 79%|███████▉  | 792/1000 [00:51<00:13, 15.36it/s]"
     ]
    },
    {
     "name": "stdout",
     "output_type": "stream",
     "text": [
      "128/128 [==============================] - 0s 68us/step\n",
      "64/64 [==============================] - 0s 44us/step\n",
      "64/64 [==============================] - 0s 52us/step\n",
      "128/128 [==============================] - 0s 51us/step\n",
      "64/64 [==============================] - 0s 47us/step\n",
      "64/64 [==============================] - 0s 56us/step\n",
      "128/128 [==============================] - 0s 74us/step\n",
      "64/64 [==============================] - 0s 51us/step\n",
      "64/64 [==============================] - 0s 62us/step\n",
      "128/128 [==============================] - 0s 48us/step\n",
      "64/64 [==============================] - 0s 70us/step\n",
      "64/64 [==============================] - 0s 54us/step\n"
     ]
    },
    {
     "name": "stderr",
     "output_type": "stream",
     "text": [
      "\r",
      " 80%|███████▉  | 796/1000 [00:51<00:13, 15.40it/s]"
     ]
    },
    {
     "name": "stdout",
     "output_type": "stream",
     "text": [
      "128/128 [==============================] - 0s 46us/step\n",
      "64/64 [==============================] - 0s 68us/step\n",
      "64/64 [==============================] - 0s 68us/step\n",
      "128/128 [==============================] - 0s 46us/step\n",
      "64/64 [==============================] - 0s 62us/step\n",
      "64/64 [==============================] - 0s 67us/step\n",
      "128/128 [==============================] - 0s 36us/step\n",
      "64/64 [==============================] - 0s 63us/step\n",
      "64/64 [==============================] - 0s 54us/step\n",
      "128/128 [==============================] - 0s 41us/step\n",
      "64/64 [==============================] - 0s 50us/step\n",
      "64/64 [==============================] - 0s 75us/step\n"
     ]
    },
    {
     "name": "stderr",
     "output_type": "stream",
     "text": [
      "\r",
      " 80%|████████  | 800/1000 [00:51<00:12, 15.44it/s]"
     ]
    },
    {
     "name": "stdout",
     "output_type": "stream",
     "text": [
      "128/128 [==============================] - 0s 84us/step\n",
      "64/64 [==============================] - 0s 57us/step\n",
      "64/64 [==============================] - 0s 61us/step\n",
      "128/128 [==============================] - 0s 53us/step\n",
      "64/64 [==============================] - 0s 46us/step\n",
      "64/64 [==============================] - 0s 75us/step\n",
      "128/128 [==============================] - 0s 52us/step\n",
      "64/64 [==============================] - 0s 68us/step\n",
      "64/64 [==============================] - 0s 73us/step\n",
      "128/128 [==============================] - 0s 45us/step\n",
      "64/64 [==============================] - 0s 50us/step\n",
      "64/64 [==============================] - 0s 61us/step\n"
     ]
    },
    {
     "name": "stderr",
     "output_type": "stream",
     "text": [
      "\r",
      " 80%|████████  | 804/1000 [00:55<00:13, 14.42it/s]"
     ]
    },
    {
     "name": "stdout",
     "output_type": "stream",
     "text": [
      "128/128 [==============================] - 0s 39us/step\n",
      "64/64 [==============================] - 0s 62us/step\n",
      "64/64 [==============================] - 0s 54us/step\n",
      "128/128 [==============================] - 0s 39us/step\n",
      "64/64 [==============================] - 0s 53us/step\n",
      "64/64 [==============================] - 0s 85us/step\n",
      "128/128 [==============================] - 0s 43us/step\n",
      "64/64 [==============================] - 0s 64us/step\n",
      "64/64 [==============================] - 0s 77us/step\n",
      "128/128 [==============================] - 0s 44us/step\n",
      "64/64 [==============================] - 0s 45us/step\n",
      "64/64 [==============================] - 0s 77us/step\n"
     ]
    },
    {
     "name": "stderr",
     "output_type": "stream",
     "text": [
      "\r",
      " 81%|████████  | 808/1000 [00:55<00:13, 14.45it/s]"
     ]
    },
    {
     "name": "stdout",
     "output_type": "stream",
     "text": [
      "128/128 [==============================] - 0s 50us/step\n",
      "64/64 [==============================] - 0s 63us/step\n",
      "64/64 [==============================] - 0s 76us/step\n",
      "128/128 [==============================] - 0s 37us/step\n",
      "64/64 [==============================] - 0s 56us/step\n",
      "64/64 [==============================] - 0s 75us/step\n",
      "128/128 [==============================] - 0s 49us/step\n",
      "64/64 [==============================] - 0s 52us/step\n",
      "64/64 [==============================] - 0s 42us/step\n",
      "128/128 [==============================] - 0s 45us/step\n",
      "64/64 [==============================] - 0s 42us/step\n",
      "64/64 [==============================] - 0s 52us/step\n"
     ]
    },
    {
     "name": "stderr",
     "output_type": "stream",
     "text": [
      "\r",
      " 81%|████████  | 812/1000 [00:56<00:12, 14.49it/s]"
     ]
    },
    {
     "name": "stdout",
     "output_type": "stream",
     "text": [
      "128/128 [==============================] - 0s 37us/step\n",
      "64/64 [==============================] - 0s 100us/step\n",
      "64/64 [==============================] - 0s 57us/step\n",
      "128/128 [==============================] - 0s 37us/step\n",
      "64/64 [==============================] - 0s 78us/step\n",
      "64/64 [==============================] - 0s 62us/step\n",
      "128/128 [==============================] - 0s 38us/step\n",
      "64/64 [==============================] - 0s 42us/step\n",
      "64/64 [==============================] - 0s 60us/step\n",
      "128/128 [==============================] - 0s 49us/step\n",
      "64/64 [==============================] - 0s 44us/step\n",
      "64/64 [==============================] - 0s 75us/step\n"
     ]
    },
    {
     "name": "stderr",
     "output_type": "stream",
     "text": [
      "\r",
      " 82%|████████▏ | 816/1000 [00:56<00:12, 14.53it/s]"
     ]
    },
    {
     "name": "stdout",
     "output_type": "stream",
     "text": [
      "128/128 [==============================] - 0s 53us/step\n",
      "64/64 [==============================] - 0s 66us/step\n",
      "64/64 [==============================] - 0s 49us/step\n",
      "128/128 [==============================] - 0s 45us/step\n",
      "64/64 [==============================] - 0s 54us/step\n",
      "64/64 [==============================] - 0s 78us/step\n",
      "128/128 [==============================] - 0s 35us/step\n",
      "64/64 [==============================] - 0s 82us/step\n",
      "64/64 [==============================] - 0s 60us/step\n",
      "128/128 [==============================] - 0s 37us/step\n",
      "64/64 [==============================] - 0s 70us/step\n",
      "64/64 [==============================] - 0s 60us/step\n"
     ]
    },
    {
     "name": "stderr",
     "output_type": "stream",
     "text": [
      "\r",
      " 82%|████████▏ | 820/1000 [00:56<00:12, 14.57it/s]"
     ]
    },
    {
     "name": "stdout",
     "output_type": "stream",
     "text": [
      "128/128 [==============================] - 0s 46us/step\n",
      "64/64 [==============================] - 0s 44us/step\n",
      "64/64 [==============================] - 0s 61us/step\n",
      "128/128 [==============================] - 0s 47us/step\n",
      "64/64 [==============================] - 0s 47us/step\n",
      "64/64 [==============================] - 0s 60us/step\n",
      "128/128 [==============================] - 0s 47us/step\n",
      "64/64 [==============================] - 0s 49us/step\n",
      "64/64 [==============================] - 0s 70us/step\n",
      "128/128 [==============================] - 0s 41us/step\n",
      "64/64 [==============================] - 0s 50us/step\n",
      "64/64 [==============================] - 0s 50us/step\n"
     ]
    },
    {
     "name": "stderr",
     "output_type": "stream",
     "text": [
      "\r",
      " 82%|████████▏ | 824/1000 [00:56<00:12, 14.61it/s]"
     ]
    },
    {
     "name": "stdout",
     "output_type": "stream",
     "text": [
      "128/128 [==============================] - 0s 40us/step\n",
      "64/64 [==============================] - 0s 61us/step\n",
      "64/64 [==============================] - 0s 79us/step\n",
      "128/128 [==============================] - 0s 52us/step\n",
      "64/64 [==============================] - 0s 66us/step\n",
      "64/64 [==============================] - 0s 56us/step\n",
      "128/128 [==============================] - 0s 43us/step\n",
      "64/64 [==============================] - 0s 59us/step\n",
      "64/64 [==============================] - 0s 57us/step\n",
      "128/128 [==============================] - 0s 41us/step\n",
      "64/64 [==============================] - 0s 65us/step\n",
      "64/64 [==============================] - 0s 93us/step\n"
     ]
    },
    {
     "name": "stderr",
     "output_type": "stream",
     "text": [
      "\r",
      " 83%|████████▎ | 828/1000 [00:56<00:11, 14.65it/s]"
     ]
    },
    {
     "name": "stdout",
     "output_type": "stream",
     "text": [
      "128/128 [==============================] - 0s 52us/step\n",
      "64/64 [==============================] - 0s 58us/step\n",
      "64/64 [==============================] - 0s 86us/step\n",
      "128/128 [==============================] - 0s 41us/step\n",
      "64/64 [==============================] - 0s 54us/step\n",
      "64/64 [==============================] - 0s 59us/step\n",
      "128/128 [==============================] - 0s 45us/step\n",
      "64/64 [==============================] - ETA:  - 0s 84us/step\n",
      "64/64 [==============================] - 0s 50us/step\n",
      "128/128 [==============================] - 0s 55us/step\n",
      "64/64 [==============================] - 0s 61us/step\n",
      "64/64 [==============================] - 0s 50us/step\n"
     ]
    },
    {
     "name": "stderr",
     "output_type": "stream",
     "text": [
      "\r",
      " 83%|████████▎ | 832/1000 [00:56<00:11, 14.69it/s]"
     ]
    },
    {
     "name": "stdout",
     "output_type": "stream",
     "text": [
      "128/128 [==============================] - 0s 43us/step\n",
      "64/64 [==============================] - 0s 81us/step\n",
      "64/64 [==============================] - 0s 51us/step\n",
      "128/128 [==============================] - 0s 48us/step\n",
      "64/64 [==============================] - 0s 66us/step\n",
      "64/64 [==============================] - 0s 67us/step\n",
      "128/128 [==============================] - 0s 39us/step\n",
      "64/64 [==============================] - 0s 102us/step\n",
      "64/64 [==============================] - 0s 55us/step\n",
      "128/128 [==============================] - 0s 48us/step\n",
      "64/64 [==============================] - 0s 80us/step\n",
      "64/64 [==============================] - 0s 54us/step\n"
     ]
    },
    {
     "name": "stderr",
     "output_type": "stream",
     "text": [
      "\r",
      " 84%|████████▎ | 836/1000 [00:56<00:11, 14.73it/s]"
     ]
    },
    {
     "name": "stdout",
     "output_type": "stream",
     "text": [
      "128/128 [==============================] - 0s 49us/step\n",
      "64/64 [==============================] - 0s 48us/step\n",
      "64/64 [==============================] - 0s 66us/step\n",
      "128/128 [==============================] - 0s 37us/step\n",
      "64/64 [==============================] - 0s 60us/step\n",
      "64/64 [==============================] - 0s 65us/step\n",
      "128/128 [==============================] - 0s 48us/step\n",
      "64/64 [==============================] - 0s 58us/step\n",
      "64/64 [==============================] - 0s 82us/step\n",
      "128/128 [==============================] - 0s 47us/step\n",
      "64/64 [==============================] - 0s 54us/step\n",
      "64/64 [==============================] - 0s 53us/step\n"
     ]
    },
    {
     "name": "stderr",
     "output_type": "stream",
     "text": [
      "\r",
      " 84%|████████▍ | 840/1000 [00:56<00:10, 14.76it/s]"
     ]
    },
    {
     "name": "stdout",
     "output_type": "stream",
     "text": [
      "128/128 [==============================] - 0s 104us/step\n",
      "64/64 [==============================] - 0s 113us/step\n",
      "64/64 [==============================] - 0s 68us/step\n",
      "128/128 [==============================] - 0s 43us/step\n",
      "64/64 [==============================] - 0s 60us/step\n",
      "64/64 [==============================] - 0s 51us/step\n",
      "128/128 [==============================] - 0s 41us/step\n",
      "64/64 [==============================] - 0s 58us/step\n",
      "64/64 [==============================] - 0s 62us/step\n",
      "128/128 [==============================] - 0s 43us/step\n",
      "64/64 [==============================] - 0s 59us/step\n",
      "64/64 [==============================] - 0s 79us/step\n"
     ]
    },
    {
     "name": "stderr",
     "output_type": "stream",
     "text": [
      "\r",
      " 84%|████████▍ | 844/1000 [00:57<00:10, 14.80it/s]"
     ]
    },
    {
     "name": "stdout",
     "output_type": "stream",
     "text": [
      "128/128 [==============================] - 0s 41us/step\n",
      "64/64 [==============================] - 0s 44us/step\n",
      "64/64 [==============================] - 0s 64us/step\n",
      "128/128 [==============================] - 0s 39us/step\n",
      "64/64 [==============================] - 0s 44us/step\n",
      "64/64 [==============================] - 0s 47us/step\n",
      "128/128 [==============================] - 0s 67us/step\n",
      "64/64 [==============================] - 0s 71us/step\n",
      "64/64 [==============================] - 0s 59us/step\n",
      "128/128 [==============================] - 0s 54us/step\n",
      "64/64 [==============================] - 0s 72us/step\n",
      "64/64 [==============================] - 0s 67us/step\n"
     ]
    },
    {
     "name": "stderr",
     "output_type": "stream",
     "text": [
      "\r",
      " 85%|████████▍ | 848/1000 [00:57<00:10, 14.83it/s]"
     ]
    },
    {
     "name": "stdout",
     "output_type": "stream",
     "text": [
      "128/128 [==============================] - 0s 48us/step\n",
      "64/64 [==============================] - 0s 57us/step\n",
      "64/64 [==============================] - 0s 67us/step\n",
      "128/128 [==============================] - 0s 40us/step\n",
      "64/64 [==============================] - 0s 46us/step\n",
      "64/64 [==============================] - 0s 72us/step\n",
      "128/128 [==============================] - 0s 39us/step\n",
      "64/64 [==============================] - 0s 84us/step\n",
      "64/64 [==============================] - 0s 71us/step\n",
      "128/128 [==============================] - 0s 43us/step\n",
      "64/64 [==============================] - 0s 90us/step\n",
      "64/64 [==============================] - 0s 73us/step\n"
     ]
    },
    {
     "name": "stderr",
     "output_type": "stream",
     "text": [
      "\r",
      " 85%|████████▌ | 852/1000 [00:57<00:09, 14.87it/s]"
     ]
    },
    {
     "name": "stdout",
     "output_type": "stream",
     "text": [
      "128/128 [==============================] - 0s 45us/step\n",
      "64/64 [==============================] - 0s 64us/step\n",
      "64/64 [==============================] - 0s 65us/step\n",
      "128/128 [==============================] - 0s 79us/step\n",
      "64/64 [==============================] - 0s 55us/step\n",
      "64/64 [==============================] - 0s 64us/step\n",
      "128/128 [==============================] - 0s 47us/step\n",
      "64/64 [==============================] - 0s 86us/step\n",
      "64/64 [==============================] - 0s 79us/step\n",
      "128/128 [==============================] - 0s 41us/step\n",
      "64/64 [==============================] - ETA:  - 0s 53us/step\n",
      "64/64 [==============================] - 0s 72us/step\n"
     ]
    },
    {
     "name": "stderr",
     "output_type": "stream",
     "text": [
      "\r",
      " 86%|████████▌ | 856/1000 [00:57<00:09, 14.91it/s]"
     ]
    },
    {
     "name": "stdout",
     "output_type": "stream",
     "text": [
      "128/128 [==============================] - 0s 43us/step\n",
      "64/64 [==============================] - 0s 73us/step\n",
      "64/64 [==============================] - 0s 86us/step\n",
      "128/128 [==============================] - 0s 51us/step\n",
      "64/64 [==============================] - 0s 59us/step\n",
      "64/64 [==============================] - 0s 75us/step\n",
      "128/128 [==============================] - 0s 39us/step\n",
      "64/64 [==============================] - 0s 64us/step\n",
      "64/64 [==============================] - 0s 80us/step\n",
      "128/128 [==============================] - 0s 46us/step\n",
      "64/64 [==============================] - 0s 42us/step\n",
      "64/64 [==============================] - 0s 62us/step\n"
     ]
    },
    {
     "name": "stderr",
     "output_type": "stream",
     "text": [
      "\r",
      " 86%|████████▌ | 860/1000 [00:57<00:09, 14.94it/s]"
     ]
    },
    {
     "name": "stdout",
     "output_type": "stream",
     "text": [
      "128/128 [==============================] - 0s 36us/step\n",
      "64/64 [==============================] - 0s 81us/step\n",
      "64/64 [==============================] - 0s 80us/step\n",
      "128/128 [==============================] - 0s 43us/step\n",
      "64/64 [==============================] - 0s 55us/step\n",
      "64/64 [==============================] - 0s 47us/step\n",
      "128/128 [==============================] - 0s 40us/step\n",
      "64/64 [==============================] - 0s 43us/step\n",
      "64/64 [==============================] - 0s 73us/step\n",
      "128/128 [==============================] - 0s 40us/step\n",
      "64/64 [==============================] - 0s 41us/step\n",
      "64/64 [==============================] - 0s 76us/step\n"
     ]
    },
    {
     "name": "stderr",
     "output_type": "stream",
     "text": [
      "\r",
      " 86%|████████▋ | 864/1000 [00:57<00:09, 14.98it/s]"
     ]
    },
    {
     "name": "stdout",
     "output_type": "stream",
     "text": [
      "128/128 [==============================] - 0s 49us/step\n",
      "64/64 [==============================] - 0s 60us/step\n",
      "64/64 [==============================] - 0s 63us/step\n",
      "128/128 [==============================] - 0s 46us/step\n",
      "64/64 [==============================] - 0s 42us/step\n",
      "64/64 [==============================] - 0s 49us/step\n",
      "128/128 [==============================] - 0s 40us/step\n",
      "64/64 [==============================] - 0s 76us/step\n",
      "64/64 [==============================] - 0s 53us/step\n",
      "128/128 [==============================] - 0s 65us/step\n",
      "64/64 [==============================] - 0s 53us/step\n",
      "64/64 [==============================] - 0s 77us/step\n"
     ]
    },
    {
     "name": "stderr",
     "output_type": "stream",
     "text": [
      "\r",
      " 87%|████████▋ | 868/1000 [00:57<00:08, 15.01it/s]"
     ]
    },
    {
     "name": "stdout",
     "output_type": "stream",
     "text": [
      "128/128 [==============================] - 0s 41us/step\n",
      "64/64 [==============================] - 0s 61us/step\n",
      "64/64 [==============================] - 0s 56us/step\n",
      "128/128 [==============================] - 0s 43us/step\n",
      "64/64 [==============================] - 0s 51us/step\n",
      "64/64 [==============================] - 0s 67us/step\n",
      "128/128 [==============================] - 0s 42us/step\n",
      "64/64 [==============================] - 0s 110us/step\n",
      "64/64 [==============================] - 0s 74us/step\n",
      "128/128 [==============================] - 0s 49us/step\n",
      "64/64 [==============================] - 0s 58us/step\n",
      "64/64 [==============================] - 0s 86us/step\n"
     ]
    },
    {
     "name": "stderr",
     "output_type": "stream",
     "text": [
      "\r",
      " 87%|████████▋ | 872/1000 [00:57<00:08, 15.05it/s]"
     ]
    },
    {
     "name": "stdout",
     "output_type": "stream",
     "text": [
      "128/128 [==============================] - 0s 43us/step\n",
      "64/64 [==============================] - 0s 66us/step\n",
      "64/64 [==============================] - 0s 87us/step\n",
      "128/128 [==============================] - 0s 38us/step\n",
      "64/64 [==============================] - 0s 61us/step\n",
      "64/64 [==============================] - 0s 63us/step\n",
      "128/128 [==============================] - 0s 37us/step\n",
      "64/64 [==============================] - 0s 124us/step\n",
      "64/64 [==============================] - 0s 71us/step\n",
      "128/128 [==============================] - 0s 43us/step\n",
      "64/64 [==============================] - 0s 63us/step\n",
      "64/64 [==============================] - 0s 61us/step\n"
     ]
    },
    {
     "name": "stderr",
     "output_type": "stream",
     "text": [
      "\r",
      " 88%|████████▊ | 876/1000 [00:58<00:08, 15.08it/s]"
     ]
    },
    {
     "name": "stdout",
     "output_type": "stream",
     "text": [
      "128/128 [==============================] - 0s 49us/step\n",
      "64/64 [==============================] - 0s 48us/step\n",
      "64/64 [==============================] - 0s 61us/step\n",
      "128/128 [==============================] - 0s 38us/step\n",
      "64/64 [==============================] - 0s 55us/step\n",
      "64/64 [==============================] - 0s 80us/step\n",
      "128/128 [==============================] - 0s 60us/step\n",
      "64/64 [==============================] - 0s 45us/step\n",
      "64/64 [==============================] - 0s 75us/step\n",
      "128/128 [==============================] - 0s 40us/step\n",
      "64/64 [==============================] - 0s 56us/step\n",
      "64/64 [==============================] - 0s 70us/step\n"
     ]
    },
    {
     "name": "stderr",
     "output_type": "stream",
     "text": [
      "\r",
      " 88%|████████▊ | 880/1000 [00:58<00:07, 15.12it/s]"
     ]
    },
    {
     "name": "stdout",
     "output_type": "stream",
     "text": [
      "128/128 [==============================] - 0s 56us/step\n",
      "64/64 [==============================] - 0s 54us/step\n",
      "64/64 [==============================] - 0s 76us/step\n",
      "128/128 [==============================] - 0s 37us/step\n",
      "64/64 [==============================] - 0s 46us/step\n",
      "64/64 [==============================] - 0s 74us/step\n",
      "128/128 [==============================] - 0s 46us/step\n",
      "64/64 [==============================] - 0s 49us/step\n",
      "64/64 [==============================] - 0s 68us/step\n",
      "128/128 [==============================] - 0s 54us/step\n",
      "64/64 [==============================] - 0s 57us/step\n",
      "64/64 [==============================] - 0s 64us/step\n"
     ]
    },
    {
     "name": "stderr",
     "output_type": "stream",
     "text": [
      "\r",
      " 88%|████████▊ | 884/1000 [00:58<00:07, 15.16it/s]"
     ]
    },
    {
     "name": "stdout",
     "output_type": "stream",
     "text": [
      "128/128 [==============================] - 0s 41us/step\n",
      "64/64 [==============================] - 0s 77us/step\n",
      "64/64 [==============================] - 0s 75us/step\n",
      "128/128 [==============================] - 0s 44us/step\n",
      "64/64 [==============================] - 0s 51us/step\n",
      "64/64 [==============================] - 0s 51us/step\n",
      "128/128 [==============================] - 0s 40us/step\n",
      "64/64 [==============================] - 0s 51us/step\n",
      "64/64 [==============================] - 0s 60us/step\n",
      "128/128 [==============================] - 0s 37us/step\n",
      "64/64 [==============================] - 0s 42us/step\n",
      "64/64 [==============================] - 0s 91us/step\n"
     ]
    },
    {
     "name": "stderr",
     "output_type": "stream",
     "text": [
      "\r",
      " 89%|████████▉ | 888/1000 [00:58<00:07, 15.19it/s]"
     ]
    },
    {
     "name": "stdout",
     "output_type": "stream",
     "text": [
      "128/128 [==============================] - 0s 50us/step\n",
      "64/64 [==============================] - 0s 47us/step\n",
      "64/64 [==============================] - 0s 124us/step\n",
      "128/128 [==============================] - 0s 44us/step\n",
      "64/64 [==============================] - 0s 61us/step\n",
      "64/64 [==============================] - 0s 77us/step\n",
      "128/128 [==============================] - 0s 50us/step\n",
      "64/64 [==============================] - 0s 47us/step\n",
      "64/64 [==============================] - 0s 84us/step\n",
      "128/128 [==============================] - 0s 53us/step\n",
      "64/64 [==============================] - 0s 42us/step\n",
      "64/64 [==============================] - 0s 56us/step\n"
     ]
    },
    {
     "name": "stderr",
     "output_type": "stream",
     "text": [
      "\r",
      " 89%|████████▉ | 892/1000 [00:58<00:07, 15.23it/s]"
     ]
    },
    {
     "name": "stdout",
     "output_type": "stream",
     "text": [
      "128/128 [==============================] - 0s 51us/step\n",
      "64/64 [==============================] - 0s 63us/step\n",
      "64/64 [==============================] - 0s 48us/step\n",
      "128/128 [==============================] - 0s 46us/step\n",
      "64/64 [==============================] - 0s 52us/step\n",
      "64/64 [==============================] - 0s 63us/step\n",
      "128/128 [==============================] - 0s 49us/step\n",
      "64/64 [==============================] - 0s 54us/step\n",
      "64/64 [==============================] - 0s 67us/step\n",
      "128/128 [==============================] - 0s 47us/step\n",
      "64/64 [==============================] - 0s 74us/step\n",
      "64/64 [==============================] - 0s 57us/step\n"
     ]
    },
    {
     "name": "stderr",
     "output_type": "stream",
     "text": [
      "\r",
      " 90%|████████▉ | 896/1000 [00:58<00:06, 15.26it/s]"
     ]
    },
    {
     "name": "stdout",
     "output_type": "stream",
     "text": [
      "128/128 [==============================] - 0s 50us/step\n",
      "64/64 [==============================] - 0s 55us/step\n",
      "64/64 [==============================] - 0s 61us/step\n",
      "128/128 [==============================] - 0s 42us/step\n",
      "64/64 [==============================] - 0s 75us/step\n",
      "64/64 [==============================] - 0s 63us/step\n",
      "128/128 [==============================] - 0s 45us/step\n",
      "64/64 [==============================] - 0s 69us/step\n",
      "64/64 [==============================] - 0s 63us/step\n",
      "128/128 [==============================] - 0s 43us/step\n",
      "64/64 [==============================] - 0s 49us/step\n",
      "64/64 [==============================] - 0s 71us/step\n"
     ]
    },
    {
     "name": "stderr",
     "output_type": "stream",
     "text": [
      "\r",
      " 90%|█████████ | 900/1000 [00:58<00:06, 15.30it/s]"
     ]
    },
    {
     "name": "stdout",
     "output_type": "stream",
     "text": [
      "128/128 [==============================] - 0s 41us/step\n",
      "64/64 [==============================] - 0s 57us/step\n",
      "64/64 [==============================] - 0s 100us/step\n",
      "128/128 [==============================] - 0s 54us/step\n",
      "64/64 [==============================] - 0s 45us/step\n",
      "64/64 [==============================] - 0s 61us/step\n",
      "128/128 [==============================] - 0s 48us/step\n",
      "64/64 [==============================] - 0s 74us/step\n",
      "64/64 [==============================] - 0s 62us/step\n",
      "128/128 [==============================] - 0s 44us/step\n",
      "64/64 [==============================] - 0s 49us/step\n",
      "64/64 [==============================] - 0s 59us/step\n"
     ]
    },
    {
     "name": "stderr",
     "output_type": "stream",
     "text": [
      "\r",
      " 90%|█████████ | 904/1000 [01:02<00:06, 14.44it/s]"
     ]
    },
    {
     "name": "stdout",
     "output_type": "stream",
     "text": [
      "128/128 [==============================] - 0s 50us/step\n",
      "64/64 [==============================] - 0s 71us/step\n",
      "64/64 [==============================] - 0s 51us/step\n",
      "128/128 [==============================] - 0s 49us/step\n",
      "64/64 [==============================] - 0s 65us/step\n",
      "64/64 [==============================] - 0s 51us/step\n",
      "128/128 [==============================] - ETA:  - 0s 40us/step\n",
      "64/64 [==============================] - 0s 51us/step\n",
      "64/64 [==============================] - 0s 70us/step\n",
      "128/128 [==============================] - 0s 45us/step\n",
      "64/64 [==============================] - 0s 44us/step\n",
      "64/64 [==============================] - 0s 73us/step\n"
     ]
    },
    {
     "name": "stderr",
     "output_type": "stream",
     "text": [
      "\r",
      " 91%|█████████ | 908/1000 [01:02<00:06, 14.47it/s]"
     ]
    },
    {
     "name": "stdout",
     "output_type": "stream",
     "text": [
      "128/128 [==============================] - 0s 46us/step\n",
      "64/64 [==============================] - 0s 54us/step\n",
      "64/64 [==============================] - 0s 74us/step\n",
      "128/128 [==============================] - 0s 43us/step\n",
      "64/64 [==============================] - 0s 61us/step\n",
      "64/64 [==============================] - 0s 119us/step\n",
      "128/128 [==============================] - 0s 39us/step\n",
      "64/64 [==============================] - 0s 62us/step\n",
      "64/64 [==============================] - 0s 79us/step\n",
      "128/128 [==============================] - 0s 48us/step\n",
      "64/64 [==============================] - 0s 74us/step\n",
      "64/64 [==============================] - 0s 72us/step\n"
     ]
    },
    {
     "name": "stderr",
     "output_type": "stream",
     "text": [
      "\r",
      " 91%|█████████ | 912/1000 [01:02<00:06, 14.50it/s]"
     ]
    },
    {
     "name": "stdout",
     "output_type": "stream",
     "text": [
      "128/128 [==============================] - 0s 42us/step\n",
      "64/64 [==============================] - 0s 43us/step\n",
      "64/64 [==============================] - 0s 73us/step\n",
      "128/128 [==============================] - 0s 48us/step\n",
      "64/64 [==============================] - 0s 68us/step\n",
      "64/64 [==============================] - 0s 69us/step\n",
      "128/128 [==============================] - 0s 53us/step\n",
      "64/64 [==============================] - 0s 52us/step\n",
      "64/64 [==============================] - 0s 79us/step\n",
      "128/128 [==============================] - 0s 40us/step\n",
      "64/64 [==============================] - 0s 89us/step\n",
      "64/64 [==============================] - 0s 73us/step\n"
     ]
    },
    {
     "name": "stderr",
     "output_type": "stream",
     "text": [
      "\r",
      " 92%|█████████▏| 916/1000 [01:03<00:05, 14.54it/s]"
     ]
    },
    {
     "name": "stdout",
     "output_type": "stream",
     "text": [
      "128/128 [==============================] - 0s 44us/step\n",
      "64/64 [==============================] - 0s 52us/step\n",
      "64/64 [==============================] - 0s 70us/step\n",
      "128/128 [==============================] - 0s 40us/step\n",
      "64/64 [==============================] - 0s 61us/step\n",
      "64/64 [==============================] - 0s 53us/step\n",
      "128/128 [==============================] - 0s 51us/step\n",
      "64/64 [==============================] - 0s 69us/step\n",
      "64/64 [==============================] - 0s 78us/step\n",
      "128/128 [==============================] - 0s 52us/step\n",
      "64/64 [==============================] - 0s 43us/step\n",
      "64/64 [==============================] - 0s 79us/step\n"
     ]
    },
    {
     "name": "stderr",
     "output_type": "stream",
     "text": [
      "\r",
      " 92%|█████████▏| 920/1000 [01:03<00:05, 14.57it/s]"
     ]
    },
    {
     "name": "stdout",
     "output_type": "stream",
     "text": [
      "128/128 [==============================] - 0s 54us/step\n",
      "64/64 [==============================] - 0s 57us/step\n",
      "64/64 [==============================] - 0s 67us/step\n",
      "128/128 [==============================] - 0s 47us/step\n",
      "64/64 [==============================] - 0s 57us/step\n",
      "64/64 [==============================] - 0s 51us/step\n",
      "128/128 [==============================] - 0s 52us/step\n",
      "64/64 [==============================] - 0s 55us/step\n",
      "64/64 [==============================] - 0s 52us/step\n",
      "128/128 [==============================] - 0s 45us/step\n",
      "64/64 [==============================] - 0s 50us/step\n",
      "64/64 [==============================] - 0s 52us/step\n"
     ]
    },
    {
     "name": "stderr",
     "output_type": "stream",
     "text": [
      "\r",
      " 92%|█████████▏| 924/1000 [01:03<00:05, 14.60it/s]"
     ]
    },
    {
     "name": "stdout",
     "output_type": "stream",
     "text": [
      "128/128 [==============================] - 0s 46us/step\n",
      "64/64 [==============================] - 0s 125us/step\n",
      "64/64 [==============================] - 0s 68us/step\n",
      "128/128 [==============================] - 0s 47us/step\n",
      "64/64 [==============================] - 0s 55us/step\n",
      "64/64 [==============================] - 0s 51us/step\n",
      "128/128 [==============================] - 0s 44us/step\n",
      "64/64 [==============================] - 0s 89us/step\n",
      "64/64 [==============================] - 0s 57us/step\n",
      "128/128 [==============================] - 0s 41us/step\n",
      "64/64 [==============================] - 0s 60us/step\n",
      "64/64 [==============================] - 0s 77us/step\n"
     ]
    },
    {
     "name": "stderr",
     "output_type": "stream",
     "text": [
      "\r",
      " 93%|█████████▎| 928/1000 [01:03<00:04, 14.64it/s]"
     ]
    },
    {
     "name": "stdout",
     "output_type": "stream",
     "text": [
      "128/128 [==============================] - 0s 43us/step\n",
      "64/64 [==============================] - 0s 57us/step\n",
      "64/64 [==============================] - 0s 87us/step\n",
      "128/128 [==============================] - 0s 47us/step\n",
      "64/64 [==============================] - 0s 111us/step\n",
      "64/64 [==============================] - 0s 87us/step\n",
      "128/128 [==============================] - 0s 39us/step\n",
      "64/64 [==============================] - 0s 66us/step\n",
      "64/64 [==============================] - 0s 60us/step\n",
      "128/128 [==============================] - 0s 45us/step\n",
      "64/64 [==============================] - 0s 66us/step\n",
      "64/64 [==============================] - 0s 63us/step\n"
     ]
    },
    {
     "name": "stderr",
     "output_type": "stream",
     "text": [
      "\r",
      " 93%|█████████▎| 932/1000 [01:03<00:04, 14.67it/s]"
     ]
    },
    {
     "name": "stdout",
     "output_type": "stream",
     "text": [
      "128/128 [==============================] - 0s 43us/step\n",
      "64/64 [==============================] - 0s 66us/step\n",
      "64/64 [==============================] - 0s 77us/step\n",
      "128/128 [==============================] - 0s 40us/step\n",
      "64/64 [==============================] - 0s 52us/step\n",
      "64/64 [==============================] - 0s 58us/step\n",
      "128/128 [==============================] - 0s 44us/step\n",
      "64/64 [==============================] - 0s 43us/step\n",
      "64/64 [==============================] - 0s 57us/step\n",
      "128/128 [==============================] - 0s 45us/step\n",
      "64/64 [==============================] - 0s 54us/step\n",
      "64/64 [==============================] - 0s 47us/step\n"
     ]
    },
    {
     "name": "stderr",
     "output_type": "stream",
     "text": [
      "\r",
      " 94%|█████████▎| 936/1000 [01:03<00:04, 14.70it/s]"
     ]
    },
    {
     "name": "stdout",
     "output_type": "stream",
     "text": [
      "128/128 [==============================] - 0s 40us/step\n",
      "64/64 [==============================] - 0s 75us/step\n",
      "64/64 [==============================] - 0s 58us/step\n",
      "128/128 [==============================] - 0s 45us/step\n",
      "64/64 [==============================] - 0s 55us/step\n",
      "64/64 [==============================] - 0s 60us/step\n",
      "128/128 [==============================] - 0s 45us/step\n",
      "64/64 [==============================] - 0s 60us/step\n",
      "64/64 [==============================] - 0s 73us/step\n",
      "128/128 [==============================] - 0s 38us/step\n",
      "64/64 [==============================] - 0s 59us/step\n",
      "64/64 [==============================] - 0s 58us/step\n"
     ]
    },
    {
     "name": "stderr",
     "output_type": "stream",
     "text": [
      "\r",
      " 94%|█████████▍| 940/1000 [01:03<00:04, 14.74it/s]"
     ]
    },
    {
     "name": "stdout",
     "output_type": "stream",
     "text": [
      "128/128 [==============================] - 0s 39us/step\n",
      "64/64 [==============================] - 0s 67us/step\n",
      "64/64 [==============================] - 0s 67us/step\n",
      "128/128 [==============================] - 0s 46us/step\n",
      "64/64 [==============================] - 0s 62us/step\n",
      "64/64 [==============================] - 0s 59us/step\n",
      "128/128 [==============================] - 0s 45us/step\n",
      "64/64 [==============================] - 0s 64us/step\n",
      "64/64 [==============================] - 0s 63us/step\n",
      "128/128 [==============================] - 0s 44us/step\n",
      "64/64 [==============================] - 0s 69us/step\n",
      "64/64 [==============================] - 0s 70us/step\n"
     ]
    },
    {
     "name": "stderr",
     "output_type": "stream",
     "text": [
      "\r",
      " 94%|█████████▍| 944/1000 [01:03<00:03, 14.77it/s]"
     ]
    },
    {
     "name": "stdout",
     "output_type": "stream",
     "text": [
      "128/128 [==============================] - 0s 45us/step\n",
      "64/64 [==============================] - 0s 63us/step\n",
      "64/64 [==============================] - 0s 49us/step\n",
      "128/128 [==============================] - 0s 41us/step\n",
      "64/64 [==============================] - 0s 89us/step\n",
      "64/64 [==============================] - 0s 64us/step\n",
      "128/128 [==============================] - 0s 48us/step\n",
      "64/64 [==============================] - 0s 64us/step\n",
      "64/64 [==============================] - 0s 50us/step\n",
      "128/128 [==============================] - 0s 39us/step\n",
      "64/64 [==============================] - 0s 72us/step\n",
      "64/64 [==============================] - 0s 67us/step\n"
     ]
    },
    {
     "name": "stderr",
     "output_type": "stream",
     "text": [
      "\r",
      " 95%|█████████▍| 948/1000 [01:04<00:03, 14.80it/s]"
     ]
    },
    {
     "name": "stdout",
     "output_type": "stream",
     "text": [
      "128/128 [==============================] - 0s 40us/step\n",
      "64/64 [==============================] - 0s 64us/step\n",
      "64/64 [==============================] - 0s 75us/step\n",
      "128/128 [==============================] - 0s 39us/step\n",
      "64/64 [==============================] - 0s 64us/step\n",
      "64/64 [==============================] - 0s 57us/step\n",
      "128/128 [==============================] - 0s 49us/step\n",
      "64/64 [==============================] - 0s 63us/step\n",
      "64/64 [==============================] - 0s 92us/step\n",
      "128/128 [==============================] - 0s 39us/step\n",
      "64/64 [==============================] - 0s 47us/step\n",
      "64/64 [==============================] - 0s 74us/step\n"
     ]
    },
    {
     "name": "stderr",
     "output_type": "stream",
     "text": [
      "\r",
      " 95%|█████████▌| 952/1000 [01:04<00:03, 14.84it/s]"
     ]
    },
    {
     "name": "stdout",
     "output_type": "stream",
     "text": [
      "128/128 [==============================] - 0s 45us/step\n",
      "64/64 [==============================] - 0s 69us/step\n",
      "64/64 [==============================] - 0s 54us/step\n",
      "128/128 [==============================] - 0s 39us/step\n",
      "64/64 [==============================] - 0s 46us/step\n",
      "64/64 [==============================] - 0s 79us/step\n",
      "128/128 [==============================] - 0s 51us/step\n",
      "64/64 [==============================] - 0s 42us/step\n",
      "64/64 [==============================] - 0s 53us/step\n",
      "128/128 [==============================] - 0s 51us/step\n",
      "64/64 [==============================] - 0s 45us/step\n",
      "64/64 [==============================] - 0s 62us/step\n"
     ]
    },
    {
     "name": "stderr",
     "output_type": "stream",
     "text": [
      "\r",
      " 96%|█████████▌| 956/1000 [01:04<00:02, 14.87it/s]"
     ]
    },
    {
     "name": "stdout",
     "output_type": "stream",
     "text": [
      "128/128 [==============================] - 0s 46us/step\n",
      "64/64 [==============================] - 0s 56us/step\n",
      "64/64 [==============================] - 0s 54us/step\n",
      "128/128 [==============================] - 0s 49us/step\n",
      "64/64 [==============================] - 0s 70us/step\n",
      "64/64 [==============================] - 0s 71us/step\n",
      "128/128 [==============================] - 0s 45us/step\n",
      "64/64 [==============================] - 0s 69us/step\n",
      "64/64 [==============================] - 0s 58us/step\n",
      "128/128 [==============================] - 0s 51us/step\n",
      "64/64 [==============================] - 0s 81us/step\n",
      "64/64 [==============================] - 0s 64us/step\n"
     ]
    },
    {
     "name": "stderr",
     "output_type": "stream",
     "text": [
      "\r",
      " 96%|█████████▌| 960/1000 [01:04<00:02, 14.90it/s]"
     ]
    },
    {
     "name": "stdout",
     "output_type": "stream",
     "text": [
      "128/128 [==============================] - 0s 40us/step\n",
      "64/64 [==============================] - 0s 62us/step\n",
      "64/64 [==============================] - 0s 74us/step\n",
      "128/128 [==============================] - 0s 43us/step\n",
      "64/64 [==============================] - 0s 78us/step\n",
      "64/64 [==============================] - 0s 81us/step\n",
      "128/128 [==============================] - 0s 48us/step\n",
      "64/64 [==============================] - 0s 47us/step\n",
      "64/64 [==============================] - 0s 58us/step\n",
      "128/128 [==============================] - 0s 42us/step\n",
      "64/64 [==============================] - 0s 52us/step\n",
      "64/64 [==============================] - 0s 72us/step\n"
     ]
    },
    {
     "name": "stderr",
     "output_type": "stream",
     "text": [
      "\r",
      " 96%|█████████▋| 964/1000 [01:04<00:02, 14.94it/s]"
     ]
    },
    {
     "name": "stdout",
     "output_type": "stream",
     "text": [
      "128/128 [==============================] - 0s 45us/step\n",
      "64/64 [==============================] - 0s 51us/step\n",
      "64/64 [==============================] - 0s 58us/step\n",
      "128/128 [==============================] - 0s 47us/step\n",
      "64/64 [==============================] - 0s 60us/step\n",
      "64/64 [==============================] - 0s 55us/step\n",
      "128/128 [==============================] - 0s 77us/step\n",
      "64/64 [==============================] - 0s 46us/step\n",
      "64/64 [==============================] - 0s 57us/step\n",
      "128/128 [==============================] - 0s 47us/step\n",
      "64/64 [==============================] - 0s 46us/step\n",
      "64/64 [==============================] - 0s 60us/step\n"
     ]
    },
    {
     "name": "stderr",
     "output_type": "stream",
     "text": [
      "\r",
      " 97%|█████████▋| 968/1000 [01:04<00:02, 14.97it/s]"
     ]
    },
    {
     "name": "stdout",
     "output_type": "stream",
     "text": [
      "128/128 [==============================] - 0s 39us/step\n",
      "64/64 [==============================] - 0s 126us/step\n",
      "64/64 [==============================] - 0s 54us/step\n",
      "128/128 [==============================] - 0s 40us/step\n",
      "64/64 [==============================] - 0s 59us/step\n",
      "64/64 [==============================] - 0s 51us/step\n",
      "128/128 [==============================] - 0s 39us/step\n",
      "64/64 [==============================] - 0s 87us/step\n",
      "64/64 [==============================] - 0s 82us/step\n",
      "128/128 [==============================] - 0s 51us/step\n",
      "64/64 [==============================] - 0s 56us/step\n",
      "64/64 [==============================] - 0s 71us/step\n"
     ]
    },
    {
     "name": "stderr",
     "output_type": "stream",
     "text": [
      "\r",
      " 97%|█████████▋| 972/1000 [01:04<00:01, 15.00it/s]"
     ]
    },
    {
     "name": "stdout",
     "output_type": "stream",
     "text": [
      "128/128 [==============================] - 0s 50us/step\n",
      "64/64 [==============================] - 0s 75us/step\n",
      "64/64 [==============================] - 0s 69us/step\n",
      "128/128 [==============================] - 0s 42us/step\n",
      "64/64 [==============================] - 0s 71us/step\n",
      "64/64 [==============================] - 0s 49us/step\n",
      "128/128 [==============================] - 0s 38us/step\n",
      "64/64 [==============================] - 0s 47us/step\n",
      "64/64 [==============================] - 0s 65us/step\n",
      "128/128 [==============================] - 0s 47us/step\n",
      "64/64 [==============================] - 0s 44us/step\n",
      "64/64 [==============================] - 0s 65us/step\n"
     ]
    },
    {
     "name": "stderr",
     "output_type": "stream",
     "text": [
      "\r",
      " 98%|█████████▊| 976/1000 [01:04<00:01, 15.03it/s]"
     ]
    },
    {
     "name": "stdout",
     "output_type": "stream",
     "text": [
      "128/128 [==============================] - 0s 54us/step\n",
      "64/64 [==============================] - 0s 59us/step\n",
      "64/64 [==============================] - 0s 70us/step\n",
      "128/128 [==============================] - 0s 42us/step\n",
      "64/64 [==============================] - 0s 50us/step\n",
      "64/64 [==============================] - 0s 51us/step\n",
      "128/128 [==============================] - 0s 39us/step\n",
      "64/64 [==============================] - 0s 68us/step\n",
      "64/64 [==============================] - 0s 60us/step\n",
      "128/128 [==============================] - 0s 41us/step\n",
      "64/64 [==============================] - 0s 52us/step\n",
      "64/64 [==============================] - 0s 59us/step\n"
     ]
    },
    {
     "name": "stderr",
     "output_type": "stream",
     "text": [
      "\r",
      " 98%|█████████▊| 980/1000 [01:05<00:01, 15.06it/s]"
     ]
    },
    {
     "name": "stdout",
     "output_type": "stream",
     "text": [
      "128/128 [==============================] - 0s 38us/step\n",
      "64/64 [==============================] - 0s 75us/step\n",
      "64/64 [==============================] - 0s 72us/step\n",
      "128/128 [==============================] - 0s 39us/step\n",
      "64/64 [==============================] - 0s 65us/step\n",
      "64/64 [==============================] - 0s 58us/step\n",
      "128/128 [==============================] - 0s 42us/step\n",
      "64/64 [==============================] - 0s 51us/step\n",
      "64/64 [==============================] - 0s 66us/step\n",
      "128/128 [==============================] - 0s 43us/step\n",
      "64/64 [==============================] - 0s 48us/step\n",
      "64/64 [==============================] - 0s 51us/step\n"
     ]
    },
    {
     "name": "stderr",
     "output_type": "stream",
     "text": [
      "\r",
      " 98%|█████████▊| 984/1000 [01:05<00:01, 15.10it/s]"
     ]
    },
    {
     "name": "stdout",
     "output_type": "stream",
     "text": [
      "128/128 [==============================] - 0s 54us/step\n",
      "64/64 [==============================] - 0s 67us/step\n",
      "64/64 [==============================] - 0s 54us/step\n",
      "128/128 [==============================] - 0s 46us/step\n",
      "64/64 [==============================] - 0s 41us/step\n",
      "64/64 [==============================] - 0s 66us/step\n",
      "128/128 [==============================] - 0s 45us/step\n",
      "64/64 [==============================] - 0s 65us/step\n",
      "64/64 [==============================] - 0s 53us/step\n",
      "128/128 [==============================] - 0s 46us/step\n",
      "64/64 [==============================] - 0s 74us/step\n",
      "64/64 [==============================] - 0s 82us/step\n"
     ]
    },
    {
     "name": "stderr",
     "output_type": "stream",
     "text": [
      "\r",
      " 99%|█████████▉| 988/1000 [01:05<00:00, 15.13it/s]"
     ]
    },
    {
     "name": "stdout",
     "output_type": "stream",
     "text": [
      "128/128 [==============================] - 0s 45us/step\n",
      "64/64 [==============================] - 0s 88us/step\n",
      "64/64 [==============================] - 0s 54us/step\n",
      "128/128 [==============================] - 0s 52us/step\n",
      "64/64 [==============================] - 0s 74us/step\n",
      "64/64 [==============================] - 0s 55us/step\n",
      "128/128 [==============================] - 0s 47us/step\n",
      "64/64 [==============================] - 0s 75us/step\n",
      "64/64 [==============================] - 0s 74us/step\n",
      "128/128 [==============================] - 0s 42us/step\n",
      "64/64 [==============================] - 0s 70us/step\n",
      "64/64 [==============================] - 0s 71us/step\n"
     ]
    },
    {
     "name": "stderr",
     "output_type": "stream",
     "text": [
      "\r",
      " 99%|█████████▉| 992/1000 [01:05<00:00, 15.16it/s]"
     ]
    },
    {
     "name": "stdout",
     "output_type": "stream",
     "text": [
      "128/128 [==============================] - 0s 37us/step\n",
      "64/64 [==============================] - 0s 62us/step\n",
      "64/64 [==============================] - 0s 68us/step\n",
      "128/128 [==============================] - 0s 49us/step\n",
      "64/64 [==============================] - 0s 54us/step\n",
      "64/64 [==============================] - 0s 53us/step\n",
      "128/128 [==============================] - 0s 45us/step\n",
      "64/64 [==============================] - 0s 65us/step\n",
      "64/64 [==============================] - 0s 61us/step\n",
      "128/128 [==============================] - 0s 38us/step\n",
      "64/64 [==============================] - 0s 56us/step\n",
      "64/64 [==============================] - 0s 80us/step\n"
     ]
    },
    {
     "name": "stderr",
     "output_type": "stream",
     "text": [
      "\r",
      "100%|█████████▉| 996/1000 [01:05<00:00, 15.19it/s]"
     ]
    },
    {
     "name": "stdout",
     "output_type": "stream",
     "text": [
      "128/128 [==============================] - 0s 45us/step\n",
      "64/64 [==============================] - 0s 62us/step\n",
      "64/64 [==============================] - ETA:  - 0s 65us/step\n",
      "128/128 [==============================] - 0s 42us/step\n",
      "64/64 [==============================] - 0s 50us/step\n",
      "64/64 [==============================] - 0s 71us/step\n",
      "128/128 [==============================] - 0s 53us/step\n",
      "64/64 [==============================] - 0s 57us/step\n",
      "64/64 [==============================] - 0s 67us/step\n",
      "128/128 [==============================] - 0s 50us/step\n",
      "64/64 [==============================] - 0s 59us/step\n",
      "64/64 [==============================] - 0s 72us/step\n"
     ]
    },
    {
     "name": "stderr",
     "output_type": "stream",
     "text": [
      "100%|██████████| 1000/1000 [01:05<00:00, 15.22it/s]\n"
     ]
    }
   ],
   "source": [
    "out_dic=train_for_n_mono(**train_dic)"
   ]
  },
  {
   "cell_type": "code",
   "execution_count": 15,
   "metadata": {
    "scrolled": false
   },
   "outputs": [
    {
     "data": {
      "text/plain": [
       "<Figure size 432x288 with 0 Axes>"
      ]
     },
     "metadata": {},
     "output_type": "display_data"
    },
    {
     "data": {
      "text/plain": [
       "<Figure size 432x288 with 0 Axes>"
      ]
     },
     "metadata": {},
     "output_type": "display_data"
    },
    {
     "data": {
      "image/png": "[encoded data removed]",
      "text/plain": [
       "<Figure size 720x576 with 3 Axes>"
      ]
     },
     "metadata": {},
     "output_type": "display_data"
    }
   ],
   "source": [
    "losses=out_dic['losses']\n",
    "loss_weights=out_dic['weight_hist']\n",
    "plot_loss(losses,**{'scale_control':[[0,3],[0,3],[0,2]],'loss_weights':loss_weights})"
   ]
  },
  {
   "cell_type": "code",
   "execution_count": 16,
   "metadata": {},
   "outputs": [
    {
     "name": "stdout",
     "output_type": "stream",
     "text": [
      "0.46025641025641023\n"
     ]
    }
   ],
   "source": [
    "y_hat=Discrim.predict(np.concatenate((x_test,y_test),axis=1))\n",
    "y_idx = np.argmax(y_hat,axis=1)\n",
    "print(sum(y_idx==1)/y_idx.shape[0])"
   ]
  },
  {
   "cell_type": "code",
   "execution_count": 16,
   "metadata": {},
   "outputs": [
    {
     "data": {
      "text/plain": [
       "0.03377188"
      ]
     },
     "execution_count": 16,
     "metadata": {},
     "output_type": "execute_result"
    }
   ],
   "source": [
    "min(losses['g'][:,1])\n"
   ]
  },
  {
   "cell_type": "code",
   "execution_count": 17,
   "metadata": {},
   "outputs": [
    {
     "data": {
      "text/plain": [
       "array([ 0.16282016, 12.2134075 ,  0.33470386, 10.84661   ,  0.10161928,\n",
       "        7.451304  ,  0.16038015,  3.9584773 ,  0.87542504,  1.0650241 ,\n",
       "        2.4973555 ,  0.1959655 ,  3.3994088 ,  0.17254755,  3.0556598 ,\n",
       "        0.21008202,  2.509773  ,  0.3399335 ,  1.9481248 ,  0.54848886,\n",
       "        1.5258155 ,  0.68922085,  1.2222258 ,  0.745874  ,  0.9684158 ,\n",
       "        0.8317716 ,  0.92042845,  0.79817516,  0.77172166,  0.71820533,\n",
       "        0.7655276 ,  0.5822258 ,  0.80951715,  0.5127219 ,  0.8183569 ,\n",
       "        0.46613067,  0.7560257 ,  0.42078722,  0.75743616,  0.40491086,\n",
       "        0.7054367 ,  0.34994972,  0.71854496,  0.35720998,  0.7446114 ,\n",
       "        0.36978298,  0.642883  ,  0.38186222,  0.6210944 ,  0.40306938,\n",
       "        0.6143743 ,  0.4533158 ,  0.6033535 ,  0.48628506,  0.5840467 ,\n",
       "        0.561106  ,  0.649722  ,  0.65724   ,  0.5695957 ,  0.7334058 ,\n",
       "        0.7256766 ,  0.73544395,  0.6948701 ,  0.7916064 ,  0.7429696 ,\n",
       "        0.798481  ,  0.7700043 ,  0.7207192 ,  0.7408625 ,  0.71932495,\n",
       "        0.87398374,  0.6229135 ,  0.83092797,  0.5523557 ,  0.93757856,\n",
       "        0.543607  ,  0.812556  ,  0.5121929 ,  0.9332683 ,  0.50875664,\n",
       "        0.8716706 ,  0.46435085,  0.84150267,  0.48392203,  0.85634923,\n",
       "        0.510134  ,  0.78289115,  0.5325305 ,  0.8110062 ,  0.5382497 ,\n",
       "        0.74359643,  0.6185785 ,  0.6109626 ,  0.63533676,  0.62713   ,\n",
       "        0.59914774,  0.7009361 ,  0.6461246 ,  0.62914747,  0.6570655 ,\n",
       "        0.6873794 ,  0.66318226,  0.7518729 ,  0.7388482 ,  0.7251787 ,\n",
       "        0.9506159 ,  0.77586436,  1.1423504 ,  0.848152  ,  1.1998448 ,\n",
       "        0.8226923 ,  1.2051845 ,  0.8737455 ,  1.1948977 ,  0.8514451 ,\n",
       "        1.0062885 ,  0.8572866 ,  0.9398531 ,  0.8488821 ,  0.8067984 ,\n",
       "        0.7959511 ,  0.77838516,  0.77151084,  0.7194543 ,  0.716259  ,\n",
       "        0.6859746 ,  0.709412  ,  0.6693654 ,  0.69733167,  0.6629255 ,\n",
       "        0.7017623 ,  0.6368146 ,  0.69035554,  0.63003093,  0.68614465,\n",
       "        0.6193478 ,  0.67969507,  0.60955435,  0.67847526,  0.59579766,\n",
       "        0.68547714,  0.59130955,  0.6817496 ,  0.59061474,  0.6787134 ,\n",
       "        0.5609535 ,  0.67909044,  0.5572138 ,  0.6885688 ,  0.5703618 ,\n",
       "        0.67698795,  0.56626487,  0.67565125,  0.5586833 ,  0.6709872 ,\n",
       "        0.56548536,  0.6682438 ,  0.5672753 ,  0.6790948 ,  0.5635813 ,\n",
       "        0.6653178 ,  0.581685  ,  0.67779285,  0.6067409 ,  0.673347  ,\n",
       "        0.60974944,  0.6656176 ,  0.62055683,  0.6521986 ,  0.63078344,\n",
       "        0.66373223,  0.67428696,  0.6280763 ,  0.69934094,  0.64212465,\n",
       "        0.7273255 ,  0.65389764,  0.73955524,  0.6471944 ,  0.7660924 ,\n",
       "        0.66183364,  0.81297046,  0.6685934 ,  0.80509233,  0.6655363 ,\n",
       "        0.85266495,  0.64154303,  0.8564472 ,  0.6736419 ,  0.8765747 ,\n",
       "        0.6753831 ,  0.87417793,  0.6853519 ,  0.88217753,  0.68527544,\n",
       "        0.8811709 ,  0.6924181 ,  0.8555473 ,  0.6772146 ,  0.84637654,\n",
       "        0.69293416,  0.8393436 ,  0.68794435,  0.839172  ,  0.70021665,\n",
       "        0.84736896,  0.69706136,  0.8459223 ,  0.7160825 ,  0.84401387,\n",
       "        0.7042712 ,  0.85062885,  0.7206683 ,  0.8451322 ,  0.7236167 ,\n",
       "        0.83942056,  0.74347734,  0.8200006 ,  0.7349216 ,  0.7772439 ,\n",
       "        0.72867703,  0.771151  ,  0.756016  ,  0.7543875 ,  0.75668144,\n",
       "        0.71931446,  0.7630859 ,  0.73120195,  0.7712991 ,  0.7070899 ,\n",
       "        0.773186  ,  0.7038791 ,  0.7646892 ,  0.68735224,  0.78345364,\n",
       "        0.68109226,  0.7940497 ,  0.6916381 ,  0.77124023,  0.68689674,\n",
       "        0.79298174,  0.6832269 ,  0.792123  ,  0.67960835,  0.772511  ,\n",
       "        0.6856005 ,  0.7827727 ,  0.67751384,  0.7851887 ,  0.6674726 ,\n",
       "        0.7853871 ,  0.6653619 ,  0.800226  ,  0.6488827 ,  0.78986365,\n",
       "        0.6625563 ,  0.7850642 ,  0.6539645 ,  0.7808706 ,  0.64827967,\n",
       "        0.7799687 ,  0.65373474,  0.7727704 ,  0.65310353,  0.77403045,\n",
       "        0.64608663,  0.7629844 ,  0.6426373 ,  0.76038   ,  0.64842105,\n",
       "        0.7581417 ,  0.6382368 ,  0.7632922 ,  0.65090847,  0.75318813,\n",
       "        0.65341705,  0.747836  ,  0.6575349 ,  0.74871105,  0.6449279 ,\n",
       "        0.7620077 ,  0.64342713,  0.75617373,  0.6494092 ,  0.7468999 ,\n",
       "        0.6438089 ,  0.7490349 ,  0.65723836,  0.74568385,  0.64700377,\n",
       "        0.75721866,  0.6464128 ,  0.75779617,  0.6404797 ,  0.74528825,\n",
       "        0.6536819 ,  0.7501179 ,  0.64882445,  0.7413358 ,  0.64108896,\n",
       "        0.7386236 ,  0.6489607 ,  0.7565801 ,  0.6587559 ,  0.734742  ,\n",
       "        0.6480638 ,  0.75505066,  0.64717853,  0.7525842 ,  0.65174544,\n",
       "        0.7443321 ,  0.64402   ,  0.7505361 ,  0.6511233 ,  0.73415375,\n",
       "        0.6465931 ,  0.7511445 ,  0.6424825 ,  0.7418971 ,  0.64571047,\n",
       "        0.7430166 ,  0.6375613 ,  0.7457157 ,  0.6453047 ,  0.7445538 ,\n",
       "        0.6310908 ,  0.7434443 ,  0.6321955 ,  0.7550007 ,  0.64430654,\n",
       "        0.7518437 ,  0.64155483,  0.74296093,  0.6376394 ,  0.75339186,\n",
       "        0.63401973,  0.7599616 ,  0.6455024 ,  0.74242026,  0.63753384,\n",
       "        0.7499994 ,  0.63752615,  0.7510749 ,  0.64001787,  0.76706314,\n",
       "        0.63711596,  0.7577105 ,  0.6458476 ,  0.7526573 ,  0.64481586,\n",
       "        0.7415346 ,  0.63554245,  0.759856  ,  0.6226077 ,  0.7523325 ,\n",
       "        0.6387333 ,  0.75556135,  0.6380612 ,  0.753325  ,  0.63476396,\n",
       "        0.7468657 ,  0.638347  ,  0.74853194,  0.641464  ,  0.74413645,\n",
       "        0.6410337 ,  0.75830066,  0.6372345 ,  0.74697685,  0.63500416,\n",
       "        0.7452259 ,  0.6414076 ,  0.75020474,  0.6414548 ,  0.74708956,\n",
       "        0.6449785 ,  0.7316475 ,  0.64568186,  0.7452163 ,  0.6319033 ,\n",
       "        0.74143016,  0.63801146,  0.7462894 ,  0.6451069 ,  0.7509885 ,\n",
       "        0.63326657,  0.7493863 ,  0.6419312 ,  0.7549821 ,  0.6493894 ,\n",
       "        0.7405381 ,  0.6503843 ,  0.7462263 ,  0.65893257,  0.74492484,\n",
       "        0.64813495,  0.7440989 ,  0.6436823 ,  0.74400496,  0.6463259 ,\n",
       "        0.73803896,  0.64325094,  0.7432287 ,  0.6441802 ,  0.73750377,\n",
       "        0.64462376,  0.7402878 ,  0.64750165,  0.73735446,  0.6513889 ,\n",
       "        0.7435906 ,  0.640365  ,  0.7370461 ,  0.65002346,  0.7271353 ,\n",
       "        0.6434579 ,  0.723078  ,  0.6307075 ,  0.7421323 ,  0.63029176,\n",
       "        0.73046374,  0.6349332 ,  0.7336802 ,  0.6504133 ,  0.7335484 ,\n",
       "        0.6387924 ,  0.7410886 ,  0.6476674 ,  0.7416303 ,  0.6467552 ,\n",
       "        0.7313153 ,  0.6447454 ,  0.73851967,  0.6489873 ,  0.73778963,\n",
       "        0.6445333 ,  0.72662187,  0.6428474 ,  0.73488796,  0.65303934,\n",
       "        0.73073   ,  0.65194726,  0.73911375,  0.6447147 ,  0.7377688 ,\n",
       "        0.6541909 ,  0.730596  ,  0.6425568 ,  0.7309921 ,  0.6555547 ,\n",
       "        0.73126984,  0.634926  ,  0.7286505 ,  0.645771  ,  0.7296284 ,\n",
       "        0.63952124,  0.7413111 ,  0.6343204 ,  0.73726994,  0.65308595,\n",
       "        0.73584056,  0.64760965,  0.734987  ,  0.6491512 ,  0.7322751 ,\n",
       "        0.6475095 ,  0.7336754 ,  0.6505951 ,  0.73596156,  0.6482325 ,\n",
       "        0.74009544,  0.638537  ,  0.74006987,  0.65177965,  0.73769516,\n",
       "        0.6485121 ,  0.7352381 ,  0.64764845,  0.74608517,  0.65497124,\n",
       "        0.73824227,  0.64938194,  0.72730976,  0.6502229 ,  0.7212517 ,\n",
       "        0.6449482 ,  0.7248777 ,  0.645227  ,  0.73213786,  0.6452264 ,\n",
       "        0.7235687 ,  0.64905167,  0.7288896 ,  0.64285636,  0.7253783 ,\n",
       "        0.64078414,  0.7386159 ,  0.63721466,  0.7408778 ,  0.65245414,\n",
       "        0.7336858 ,  0.6500689 ,  0.7267387 ,  0.6395121 ,  0.7362429 ,\n",
       "        0.63832736,  0.7345391 ,  0.644154  ,  0.7313094 ,  0.6393462 ,\n",
       "        0.73958063,  0.6370543 ,  0.7331469 ,  0.6419737 ,  0.7234914 ,\n",
       "        0.6247544 ,  0.73232925,  0.637293  ,  0.73727614,  0.64975554,\n",
       "        0.7329135 ,  0.63305926,  0.73119116,  0.6400194 ,  0.7330024 ,\n",
       "        0.64181924,  0.72862214,  0.63655686,  0.74018353,  0.63578165,\n",
       "        0.7284193 ,  0.64443505,  0.7424549 ,  0.62881494,  0.73021686,\n",
       "        0.64562494,  0.73839223,  0.6360357 ,  0.7413229 ,  0.6486095 ,\n",
       "        0.73713386,  0.63109696,  0.7326782 ,  0.63851786,  0.73020685,\n",
       "        0.6373458 ,  0.7352004 ,  0.6349123 ,  0.7402046 ,  0.63619256,\n",
       "        0.7460919 ,  0.64514273,  0.7342087 ,  0.6468432 ,  0.7255431 ,\n",
       "        0.63957095,  0.7286638 ,  0.6362108 ,  0.73459387,  0.64651346,\n",
       "        0.7415749 ,  0.6423637 ,  0.7414824 ,  0.6387361 ,  0.7303834 ,\n",
       "        0.65535975,  0.73352337,  0.6548773 ,  0.7308893 ,  0.6744787 ,\n",
       "        0.7340299 ,  0.65600336,  0.75165164,  0.6590624 ,  0.7232046 ,\n",
       "        0.6608748 ,  0.7329897 ,  0.6660754 ,  0.7298888 ,  0.66815567,\n",
       "        0.7360702 ,  0.6685292 ,  0.7320433 ,  0.6735039 ,  0.72700036,\n",
       "        0.65428925,  0.73246706,  0.65672714,  0.745656  ,  0.64861816,\n",
       "        0.72673136,  0.6511593 ,  0.72525716,  0.6585126 ,  0.73453474,\n",
       "        0.6620339 ,  0.7325671 ,  0.63902926,  0.7264937 ,  0.6630453 ,\n",
       "        0.7241689 ,  0.6508121 ,  0.7286793 ,  0.6360619 ,  0.72698516,\n",
       "        0.6390908 ,  0.73149455,  0.64165974,  0.7342226 ,  0.63402396,\n",
       "        0.72796977,  0.6537919 ,  0.7219513 ,  0.6386697 ,  0.7319797 ,\n",
       "        0.63021564,  0.73146874,  0.6380731 ,  0.7257367 ,  0.63247716,\n",
       "        0.737535  ,  0.64064395,  0.7299924 ,  0.63112664,  0.73198587,\n",
       "        0.6354028 ,  0.7423643 ,  0.6338686 ,  0.7295102 ,  0.6325589 ,\n",
       "        0.7418859 ,  0.6303766 ,  0.73581636,  0.6287784 ,  0.7353401 ,\n",
       "        0.6246746 ,  0.7341429 ,  0.62339735,  0.7336604 ,  0.6322351 ,\n",
       "        0.73732203,  0.62703   ,  0.72710943,  0.62709486,  0.7391662 ,\n",
       "        0.61597294,  0.74367476,  0.61913544,  0.7463708 ,  0.62581366,\n",
       "        0.7440268 ,  0.62102926,  0.7485355 ,  0.6077877 ,  0.7565549 ,\n",
       "        0.6227831 ,  0.73637235,  0.6102435 ,  0.73898774,  0.62067294,\n",
       "        0.73676467,  0.59401447,  0.7279837 ,  0.62158567,  0.74586165,\n",
       "        0.60710573,  0.74606943,  0.62629914,  0.7410375 ,  0.6258217 ,\n",
       "        0.74094385,  0.6175642 ,  0.7423681 ,  0.6172965 ,  0.74145055,\n",
       "        0.63270664,  0.7329836 ,  0.6461623 ,  0.73518926,  0.64775175,\n",
       "        0.72795886,  0.6482809 ,  0.73719347,  0.6360724 ,  0.7405244 ,\n",
       "        0.65798396,  0.73339266,  0.64762115,  0.7380893 ,  0.66396964,\n",
       "        0.72509086,  0.67675596,  0.7262808 ,  0.66862494,  0.72422004,\n",
       "        0.67547655,  0.7314298 ,  0.6905308 ,  0.7317246 ,  0.6684761 ,\n",
       "        0.72963   ,  0.665578  ,  0.7276162 ,  0.6728704 ,  0.7206442 ,\n",
       "        0.6777631 ,  0.7443292 ,  0.66987956,  0.73049545,  0.6723883 ,\n",
       "        0.7272701 ,  0.65809464,  0.75134134,  0.6596445 ,  0.74808085,\n",
       "        0.66136694,  0.7393575 ,  0.6478899 ,  0.73983383,  0.651683  ,\n",
       "        0.73070526,  0.63858193,  0.7427082 ,  0.65707505,  0.7323214 ,\n",
       "        0.6388042 ,  0.73411274,  0.63745254,  0.7265602 ,  0.6398534 ,\n",
       "        0.72157407,  0.63556993,  0.7400134 ,  0.6443828 ,  0.7283945 ,\n",
       "        0.62886196,  0.72730625,  0.6392056 ,  0.7352985 ,  0.63840103,\n",
       "        0.73462296,  0.64294386,  0.724069  ,  0.63937795,  0.7370843 ,\n",
       "        0.6414233 ,  0.7385872 ,  0.63730836,  0.726867  ,  0.6295074 ,\n",
       "        0.7236067 ,  0.631704  ,  0.72626257,  0.63941145,  0.73201686,\n",
       "        0.62697566,  0.7266867 ,  0.6352958 ,  0.74580276,  0.62412274,\n",
       "        0.7216958 ,  0.63378453,  0.72674906,  0.6253344 ,  0.7358701 ,\n",
       "        0.631051  ,  0.7271449 ,  0.63103724,  0.7532368 ,  0.6217118 ,\n",
       "        0.7372526 ,  0.62468624,  0.7280901 ,  0.62943184,  0.7420856 ,\n",
       "        0.6072798 ,  0.7439953 ,  0.63245845,  0.7306072 ,  0.6172917 ,\n",
       "        0.7319043 ,  0.629957  ,  0.7439809 ,  0.6160526 ,  0.7384456 ,\n",
       "        0.624431  ,  0.74286216,  0.6260829 ,  0.7369171 ,  0.61554015,\n",
       "        0.7451173 ,  0.61858314,  0.73978543,  0.63579106,  0.7326685 ,\n",
       "        0.63046193,  0.7458536 ,  0.6250227 ,  0.7335832 ,  0.6325615 ,\n",
       "        0.72642356,  0.6279403 ,  0.7500241 ,  0.6255933 ,  0.72814596,\n",
       "        0.6316406 ,  0.72313225,  0.61826247,  0.731882  ,  0.61473775,\n",
       "        0.72591436,  0.61214185,  0.7234181 ,  0.64258933,  0.7271906 ,\n",
       "        0.62138677,  0.7143316 ,  0.6358464 ,  0.7442825 ,  0.6288121 ,\n",
       "        0.7265877 ,  0.6378744 ,  0.73223996,  0.65217394,  0.7302994 ,\n",
       "        0.65100086,  0.7286464 ,  0.62920785,  0.7273872 ,  0.6483818 ,\n",
       "        0.7253518 ,  0.65428466,  0.72668886,  0.6564327 ,  0.7280075 ,\n",
       "        0.6579399 ,  0.7287225 ,  0.6653036 ,  0.7191427 ,  0.67083955,\n",
       "        0.7309551 ,  0.6631383 ,  0.72995865,  0.65303934,  0.7231443 ,\n",
       "        0.6471233 ,  0.7271731 ,  0.65355253,  0.7298516 ,  0.6804784 ,\n",
       "        0.73526025,  0.6595118 ,  0.74934864,  0.662413  ,  0.7298222 ,\n",
       "        0.6618793 ,  0.7308997 ,  0.65744156,  0.7295365 ,  0.6372751 ,\n",
       "        0.7351385 ,  0.64862543,  0.7282383 ,  0.6323427 ,  0.7412448 ,\n",
       "        0.6525433 ,  0.7338922 ,  0.64477444,  0.74664116,  0.643634  ,\n",
       "        0.7308107 ,  0.63221556,  0.72986555,  0.64079726,  0.7389061 ,\n",
       "        0.63129234,  0.7292038 ,  0.6317047 ,  0.7311579 ,  0.63522345,\n",
       "        0.7279879 ,  0.6469002 ,  0.73502374,  0.640097  ,  0.7272054 ,\n",
       "        0.62727106,  0.72999716,  0.64088583,  0.7291926 ,  0.63973564,\n",
       "        0.7352639 ,  0.65045977,  0.73920393,  0.643959  ,  0.7248843 ,\n",
       "        0.63739634,  0.73155737,  0.63116103,  0.7324854 ,  0.6468638 ,\n",
       "        0.73658943,  0.63211256,  0.7245104 ,  0.634887  ,  0.7367557 ,\n",
       "        0.61899966,  0.7337296 ,  0.63923097,  0.7426263 ,  0.6407645 ,\n",
       "        0.7231461 ,  0.6339781 ,  0.7329525 ,  0.638292  ,  0.7379756 ,\n",
       "        0.6261414 ,  0.7328793 ,  0.61524993,  0.7327562 ,  0.6226032 ,\n",
       "        0.7348614 ,  0.6184573 ,  0.7364796 ,  0.62228674,  0.74446666,\n",
       "        0.610173  ,  0.7476238 ,  0.61778307,  0.7293298 ,  0.61424196,\n",
       "        0.73473924,  0.6165477 ,  0.7282094 ,  0.61005557,  0.7377167 ,\n",
       "        0.62017   ,  0.74565196,  0.6222822 ,  0.740391  ,  0.63712823,\n",
       "        0.74018294,  0.6230719 ,  0.72741324,  0.61623764,  0.73466563,\n",
       "        0.6254182 ,  0.7341218 ,  0.62546116,  0.73214144,  0.6311207 ,\n",
       "        0.73113394,  0.64579076,  0.73492634,  0.6225403 ,  0.73512346,\n",
       "        0.61945266,  0.7175572 ,  0.62918055,  0.72100145,  0.637035  ,\n",
       "        0.7409111 ,  0.6313169 ,  0.74505615,  0.6323911 ,  0.7459913 ,\n",
       "        0.63452923,  0.7262805 ,  0.64158636,  0.7177793 ,  0.64654785,\n",
       "        0.72065973,  0.6397791 ,  0.71118444,  0.63473576,  0.71881413,\n",
       "        0.6348234 ,  0.7335332 ,  0.6384013 ,  0.7343838 ,  0.6265649 ,\n",
       "        0.7260292 ,  0.64491284,  0.7251255 ,  0.6490745 ,  0.7235651 ,\n",
       "        0.6533607 ,  0.70040476,  0.6328427 ,  0.7227607 ,  0.6381058 ,\n",
       "        0.7154333 ,  0.6451341 ,  0.7105542 ,  0.63951206,  0.70139325,\n",
       "        0.6403941 ,  0.7087991 ,  0.6516437 ,  0.70640135,  0.64220345],\n",
       "      dtype=float32)"
      ]
     },
     "execution_count": 17,
     "metadata": {},
     "output_type": "execute_result"
    }
   ],
   "source": [
    "losses['d']"
   ]
  },
  {
   "cell_type": "code",
   "execution_count": 21,
   "metadata": {},
   "outputs": [
    {
     "data": {
      "text/plain": [
       "0.4307692307692308"
      ]
     },
     "execution_count": 21,
     "metadata": {},
     "output_type": "execute_result"
    }
   ],
   "source": [
    "from fake_financial import make_fake_data\n",
    "x_fake=make_fake_data(np.concatenate((x_test,y_test),axis=1),idx_test,ds,num_fakes=780,method='hard',var_scale=1)\n",
    "y_hat=Discrim.predict(x_fake)\n",
    "y_idx = np.argmax(y_hat,axis=1)\n",
    "sum(y_idx==1)/y_idx.shape[0]"
   ]
  },
  {
   "cell_type": "code",
   "execution_count": 20,
   "metadata": {},
   "outputs": [
    {
     "data": {
      "text/plain": [
       "array([[0.5233099 , 0.4766901 ],\n",
       "       [0.47818777, 0.5218122 ],\n",
       "       [0.52644485, 0.47355518],\n",
       "       ...,\n",
       "       [0.45429745, 0.5457025 ],\n",
       "       [0.5085494 , 0.4914506 ],\n",
       "       [0.48553014, 0.51446986]], dtype=float32)"
      ]
     },
     "execution_count": 20,
     "metadata": {},
     "output_type": "execute_result"
    }
   ],
   "source": [
    "y_hat"
   ]
  },
  {
   "cell_type": "code",
   "execution_count": 21,
   "metadata": {
    "scrolled": true
   },
   "outputs": [
    {
     "data": {
      "text/html": [
       "<div>\n",
       "<style scoped>\n",
       "    .dataframe tbody tr th:only-of-type {\n",
       "        vertical-align: middle;\n",
       "    }\n",
       "\n",
       "    .dataframe tbody tr th {\n",
       "        vertical-align: top;\n",
       "    }\n",
       "\n",
       "    .dataframe thead th {\n",
       "        text-align: right;\n",
       "    }\n",
       "</style>\n",
       "<table border=\"1\" class=\"dataframe\">\n",
       "  <thead>\n",
       "    <tr style=\"text-align: right;\">\n",
       "      <th></th>\n",
       "      <th>fakes</th>\n",
       "      <th>originals</th>\n",
       "    </tr>\n",
       "  </thead>\n",
       "  <tbody>\n",
       "    <tr>\n",
       "      <th>Revenues</th>\n",
       "      <td>0.000738</td>\n",
       "      <td>0.000738</td>\n",
       "    </tr>\n",
       "    <tr>\n",
       "      <th>Assets</th>\n",
       "      <td>1.286911</td>\n",
       "      <td>1.363987</td>\n",
       "    </tr>\n",
       "    <tr>\n",
       "      <th>pAssets</th>\n",
       "      <td>1.017834</td>\n",
       "      <td>1.000000</td>\n",
       "    </tr>\n",
       "    <tr>\n",
       "      <th>pCashAndCashEquivalentsAtCarryingValue</th>\n",
       "      <td>0.265956</td>\n",
       "      <td>0.371226</td>\n",
       "    </tr>\n",
       "    <tr>\n",
       "      <th>CashAndCashEquivalentsAtCarryingValue</th>\n",
       "      <td>0.285897</td>\n",
       "      <td>0.254667</td>\n",
       "    </tr>\n",
       "    <tr>\n",
       "      <th>LiabilitiesAndStockholdersEquity</th>\n",
       "      <td>1.308001</td>\n",
       "      <td>1.363987</td>\n",
       "    </tr>\n",
       "    <tr>\n",
       "      <th>pLiabilitiesAndStockholdersEquity</th>\n",
       "      <td>1.026067</td>\n",
       "      <td>1.000000</td>\n",
       "    </tr>\n",
       "    <tr>\n",
       "      <th>NetIncomeLoss</th>\n",
       "      <td>0.200731</td>\n",
       "      <td>0.071316</td>\n",
       "    </tr>\n",
       "    <tr>\n",
       "      <th>pNetIncomeLoss</th>\n",
       "      <td>0.179337</td>\n",
       "      <td>0.395014</td>\n",
       "    </tr>\n",
       "    <tr>\n",
       "      <th>pStockholdersEquity</th>\n",
       "      <td>0.904508</td>\n",
       "      <td>0.852010</td>\n",
       "    </tr>\n",
       "    <tr>\n",
       "      <th>StockholdersEquity</th>\n",
       "      <td>1.052302</td>\n",
       "      <td>0.993095</td>\n",
       "    </tr>\n",
       "    <tr>\n",
       "      <th>AssetsCurrent</th>\n",
       "      <td>0.809107</td>\n",
       "      <td>0.827269</td>\n",
       "    </tr>\n",
       "    <tr>\n",
       "      <th>pAssetsCurrent</th>\n",
       "      <td>0.638016</td>\n",
       "      <td>0.780384</td>\n",
       "    </tr>\n",
       "    <tr>\n",
       "      <th>LiabilitiesCurrent</th>\n",
       "      <td>0.211613</td>\n",
       "      <td>0.183303</td>\n",
       "    </tr>\n",
       "    <tr>\n",
       "      <th>pLiabilitiesCurrent</th>\n",
       "      <td>0.158476</td>\n",
       "      <td>0.146514</td>\n",
       "    </tr>\n",
       "    <tr>\n",
       "      <th>OperatingIncomeLoss</th>\n",
       "      <td>0.215537</td>\n",
       "      <td>0.075293</td>\n",
       "    </tr>\n",
       "    <tr>\n",
       "      <th>pOperatingIncomeLoss</th>\n",
       "      <td>0.187288</td>\n",
       "      <td>0.353534</td>\n",
       "    </tr>\n",
       "    <tr>\n",
       "      <th>pCashAndCashEquivalentsPeriodIncreaseDecrease</th>\n",
       "      <td>0.057642</td>\n",
       "      <td>0.039837</td>\n",
       "    </tr>\n",
       "    <tr>\n",
       "      <th>CashAndCashEquivalentsPeriodIncreaseDecrease</th>\n",
       "      <td>0.022698</td>\n",
       "      <td>-0.116559</td>\n",
       "    </tr>\n",
       "    <tr>\n",
       "      <th>RetainedEarningsAccumulatedDeficit</th>\n",
       "      <td>0.321950</td>\n",
       "      <td>0.397371</td>\n",
       "    </tr>\n",
       "    <tr>\n",
       "      <th>pRetainedEarningsAccumulatedDeficit</th>\n",
       "      <td>0.288091</td>\n",
       "      <td>0.348367</td>\n",
       "    </tr>\n",
       "    <tr>\n",
       "      <th>PropertyPlantAndEquipmentNet</th>\n",
       "      <td>0.064277</td>\n",
       "      <td>0.045290</td>\n",
       "    </tr>\n",
       "    <tr>\n",
       "      <th>pPropertyPlantAndEquipmentNet</th>\n",
       "      <td>0.036344</td>\n",
       "      <td>0.047862</td>\n",
       "    </tr>\n",
       "    <tr>\n",
       "      <th>CommonStockValue</th>\n",
       "      <td>0.000254</td>\n",
       "      <td>0.000524</td>\n",
       "    </tr>\n",
       "    <tr>\n",
       "      <th>pCommonStockValue</th>\n",
       "      <td>-0.005687</td>\n",
       "      <td>0.000405</td>\n",
       "    </tr>\n",
       "    <tr>\n",
       "      <th>pNetCashProvidedByUsedInOperatingActivities</th>\n",
       "      <td>0.176697</td>\n",
       "      <td>0.275788</td>\n",
       "    </tr>\n",
       "    <tr>\n",
       "      <th>NetCashProvidedByUsedInOperatingActivities</th>\n",
       "      <td>0.230652</td>\n",
       "      <td>-0.014359</td>\n",
       "    </tr>\n",
       "    <tr>\n",
       "      <th>IncomeTaxExpenseBenefit</th>\n",
       "      <td>0.040017</td>\n",
       "      <td>0.024645</td>\n",
       "    </tr>\n",
       "    <tr>\n",
       "      <th>pIncomeTaxExpenseBenefit</th>\n",
       "      <td>0.043921</td>\n",
       "      <td>0.008382</td>\n",
       "    </tr>\n",
       "    <tr>\n",
       "      <th>pNetCashProvidedByUsedInFinancingActivities</th>\n",
       "      <td>-0.076194</td>\n",
       "      <td>-0.018264</td>\n",
       "    </tr>\n",
       "    <tr>\n",
       "      <th>...</th>\n",
       "      <td>...</td>\n",
       "      <td>...</td>\n",
       "    </tr>\n",
       "    <tr>\n",
       "      <th>pOperatingExpenses</th>\n",
       "      <td>0.176786</td>\n",
       "      <td>0.185018</td>\n",
       "    </tr>\n",
       "    <tr>\n",
       "      <th>IncreaseDecreaseInAccountsPayable</th>\n",
       "      <td>0.004254</td>\n",
       "      <td>0.000643</td>\n",
       "    </tr>\n",
       "    <tr>\n",
       "      <th>pIncreaseDecreaseInAccountsPayable</th>\n",
       "      <td>-0.008368</td>\n",
       "      <td>-0.002929</td>\n",
       "    </tr>\n",
       "    <tr>\n",
       "      <th>IncomeLossFromContinuingOperationsBeforeIncomeTaxesMinorityInterestAndIncomeLossFromEquityMethodInvestments</th>\n",
       "      <td>0.197930</td>\n",
       "      <td>0.096081</td>\n",
       "    </tr>\n",
       "    <tr>\n",
       "      <th>pIncomeLossFromContinuingOperationsBeforeIncomeTaxesMinorityInterestAndIncomeLossFromEquityMethodInvestments</th>\n",
       "      <td>0.199698</td>\n",
       "      <td>0.398300</td>\n",
       "    </tr>\n",
       "    <tr>\n",
       "      <th>GeneralAndAdministrativeExpense</th>\n",
       "      <td>0.080291</td>\n",
       "      <td>0.188208</td>\n",
       "    </tr>\n",
       "    <tr>\n",
       "      <th>pGeneralAndAdministrativeExpense</th>\n",
       "      <td>0.058060</td>\n",
       "      <td>0.082389</td>\n",
       "    </tr>\n",
       "    <tr>\n",
       "      <th>AdditionalPaidInCapital</th>\n",
       "      <td>0.510355</td>\n",
       "      <td>0.494023</td>\n",
       "    </tr>\n",
       "    <tr>\n",
       "      <th>pAdditionalPaidInCapital</th>\n",
       "      <td>0.479528</td>\n",
       "      <td>0.443233</td>\n",
       "    </tr>\n",
       "    <tr>\n",
       "      <th>OtherNonoperatingIncomeExpense</th>\n",
       "      <td>0.005264</td>\n",
       "      <td>0.020788</td>\n",
       "    </tr>\n",
       "    <tr>\n",
       "      <th>pOtherNonoperatingIncomeExpense</th>\n",
       "      <td>0.001259</td>\n",
       "      <td>0.044766</td>\n",
       "    </tr>\n",
       "    <tr>\n",
       "      <th>pRevenues</th>\n",
       "      <td>0.865368</td>\n",
       "      <td>0.962544</td>\n",
       "    </tr>\n",
       "    <tr>\n",
       "      <th>ResearchAndDevelopmentExpense</th>\n",
       "      <td>0.039747</td>\n",
       "      <td>0.050767</td>\n",
       "    </tr>\n",
       "    <tr>\n",
       "      <th>pResearchAndDevelopmentExpense</th>\n",
       "      <td>0.044062</td>\n",
       "      <td>0.021597</td>\n",
       "    </tr>\n",
       "    <tr>\n",
       "      <th>pEffectOfExchangeRateOnCashAndCashEquivalents</th>\n",
       "      <td>0.016340</td>\n",
       "      <td>0.005501</td>\n",
       "    </tr>\n",
       "    <tr>\n",
       "      <th>EffectOfExchangeRateOnCashAndCashEquivalents</th>\n",
       "      <td>0.002537</td>\n",
       "      <td>0.007382</td>\n",
       "    </tr>\n",
       "    <tr>\n",
       "      <th>NonoperatingIncomeExpense</th>\n",
       "      <td>0.033251</td>\n",
       "      <td>0.000119</td>\n",
       "    </tr>\n",
       "    <tr>\n",
       "      <th>pNonoperatingIncomeExpense</th>\n",
       "      <td>0.002947</td>\n",
       "      <td>0.000143</td>\n",
       "    </tr>\n",
       "    <tr>\n",
       "      <th>IncomeTaxesPaid</th>\n",
       "      <td>0.053228</td>\n",
       "      <td>0.007596</td>\n",
       "    </tr>\n",
       "    <tr>\n",
       "      <th>pIncomeTaxesPaid</th>\n",
       "      <td>0.029122</td>\n",
       "      <td>0.034146</td>\n",
       "    </tr>\n",
       "    <tr>\n",
       "      <th>IntangibleAssetsNetExcludingGoodwill</th>\n",
       "      <td>0.073890</td>\n",
       "      <td>0.194090</td>\n",
       "    </tr>\n",
       "    <tr>\n",
       "      <th>pIntangibleAssetsNetExcludingGoodwill</th>\n",
       "      <td>0.073145</td>\n",
       "      <td>0.001214</td>\n",
       "    </tr>\n",
       "    <tr>\n",
       "      <th>ProfitLoss</th>\n",
       "      <td>0.201642</td>\n",
       "      <td>0.066221</td>\n",
       "    </tr>\n",
       "    <tr>\n",
       "      <th>pProfitLoss</th>\n",
       "      <td>0.198916</td>\n",
       "      <td>0.389918</td>\n",
       "    </tr>\n",
       "    <tr>\n",
       "      <th>DeferredTaxLiabilitiesNoncurrent</th>\n",
       "      <td>0.005868</td>\n",
       "      <td>0.045076</td>\n",
       "    </tr>\n",
       "    <tr>\n",
       "      <th>StockholdersEquityIncludingPortionAttributableToNoncontrollingInterest</th>\n",
       "      <td>0.871950</td>\n",
       "      <td>1.132346</td>\n",
       "    </tr>\n",
       "    <tr>\n",
       "      <th>pStockholdersEquityIncludingPortionAttributableToNoncontrollingInterest</th>\n",
       "      <td>0.693496</td>\n",
       "      <td>0.850343</td>\n",
       "    </tr>\n",
       "    <tr>\n",
       "      <th>pInvestmentIncomeInterest</th>\n",
       "      <td>-0.001996</td>\n",
       "      <td>0.000310</td>\n",
       "    </tr>\n",
       "    <tr>\n",
       "      <th>InvestmentIncomeInterest</th>\n",
       "      <td>0.009031</td>\n",
       "      <td>0.000310</td>\n",
       "    </tr>\n",
       "    <tr>\n",
       "      <th>OtherAssetsCurrent</th>\n",
       "      <td>0.009362</td>\n",
       "      <td>0.003072</td>\n",
       "    </tr>\n",
       "  </tbody>\n",
       "</table>\n",
       "<p>84 rows × 2 columns</p>\n",
       "</div>"
      ],
      "text/plain": [
       "                                                       fakes  originals\n",
       "Revenues                                            0.000738   0.000738\n",
       "Assets                                              1.286911   1.363987\n",
       "pAssets                                             1.017834   1.000000\n",
       "pCashAndCashEquivalentsAtCarryingValue              0.265956   0.371226\n",
       "CashAndCashEquivalentsAtCarryingValue               0.285897   0.254667\n",
       "LiabilitiesAndStockholdersEquity                    1.308001   1.363987\n",
       "pLiabilitiesAndStockholdersEquity                   1.026067   1.000000\n",
       "NetIncomeLoss                                       0.200731   0.071316\n",
       "pNetIncomeLoss                                      0.179337   0.395014\n",
       "pStockholdersEquity                                 0.904508   0.852010\n",
       "StockholdersEquity                                  1.052302   0.993095\n",
       "AssetsCurrent                                       0.809107   0.827269\n",
       "pAssetsCurrent                                      0.638016   0.780384\n",
       "LiabilitiesCurrent                                  0.211613   0.183303\n",
       "pLiabilitiesCurrent                                 0.158476   0.146514\n",
       "OperatingIncomeLoss                                 0.215537   0.075293\n",
       "pOperatingIncomeLoss                                0.187288   0.353534\n",
       "pCashAndCashEquivalentsPeriodIncreaseDecrease       0.057642   0.039837\n",
       "CashAndCashEquivalentsPeriodIncreaseDecrease        0.022698  -0.116559\n",
       "RetainedEarningsAccumulatedDeficit                  0.321950   0.397371\n",
       "pRetainedEarningsAccumulatedDeficit                 0.288091   0.348367\n",
       "PropertyPlantAndEquipmentNet                        0.064277   0.045290\n",
       "pPropertyPlantAndEquipmentNet                       0.036344   0.047862\n",
       "CommonStockValue                                    0.000254   0.000524\n",
       "pCommonStockValue                                  -0.005687   0.000405\n",
       "pNetCashProvidedByUsedInOperatingActivities         0.176697   0.275788\n",
       "NetCashProvidedByUsedInOperatingActivities          0.230652  -0.014359\n",
       "IncomeTaxExpenseBenefit                             0.040017   0.024645\n",
       "pIncomeTaxExpenseBenefit                            0.043921   0.008382\n",
       "pNetCashProvidedByUsedInFinancingActivities        -0.076194  -0.018264\n",
       "...                                                      ...        ...\n",
       "pOperatingExpenses                                  0.176786   0.185018\n",
       "IncreaseDecreaseInAccountsPayable                   0.004254   0.000643\n",
       "pIncreaseDecreaseInAccountsPayable                 -0.008368  -0.002929\n",
       "IncomeLossFromContinuingOperationsBeforeIncomeT...  0.197930   0.096081\n",
       "pIncomeLossFromContinuingOperationsBeforeIncome...  0.199698   0.398300\n",
       "GeneralAndAdministrativeExpense                     0.080291   0.188208\n",
       "pGeneralAndAdministrativeExpense                    0.058060   0.082389\n",
       "AdditionalPaidInCapital                             0.510355   0.494023\n",
       "pAdditionalPaidInCapital                            0.479528   0.443233\n",
       "OtherNonoperatingIncomeExpense                      0.005264   0.020788\n",
       "pOtherNonoperatingIncomeExpense                     0.001259   0.044766\n",
       "pRevenues                                           0.865368   0.962544\n",
       "ResearchAndDevelopmentExpense                       0.039747   0.050767\n",
       "pResearchAndDevelopmentExpense                      0.044062   0.021597\n",
       "pEffectOfExchangeRateOnCashAndCashEquivalents       0.016340   0.005501\n",
       "EffectOfExchangeRateOnCashAndCashEquivalents        0.002537   0.007382\n",
       "NonoperatingIncomeExpense                           0.033251   0.000119\n",
       "pNonoperatingIncomeExpense                          0.002947   0.000143\n",
       "IncomeTaxesPaid                                     0.053228   0.007596\n",
       "pIncomeTaxesPaid                                    0.029122   0.034146\n",
       "IntangibleAssetsNetExcludingGoodwill                0.073890   0.194090\n",
       "pIntangibleAssetsNetExcludingGoodwill               0.073145   0.001214\n",
       "ProfitLoss                                          0.201642   0.066221\n",
       "pProfitLoss                                         0.198916   0.389918\n",
       "DeferredTaxLiabilitiesNoncurrent                    0.005868   0.045076\n",
       "StockholdersEquityIncludingPortionAttributableT...  0.871950   1.132346\n",
       "pStockholdersEquityIncludingPortionAttributable...  0.693496   0.850343\n",
       "pInvestmentIncomeInterest                          -0.001996   0.000310\n",
       "InvestmentIncomeInterest                            0.009031   0.000310\n",
       "OtherAssetsCurrent                                  0.009362   0.003072\n",
       "\n",
       "[84 rows x 2 columns]"
      ]
     },
     "execution_count": 21,
     "metadata": {},
     "output_type": "execute_result"
    }
   ],
   "source": [
    "import pandas as pd\n",
    "i=64\n",
    "composed_imgs=Generator.predict([x_test,y_test])\n",
    "idx=np.hstack(('Revenues',cols[0:199]))\n",
    "orig=np.hstack((y_test[i],x_test[i,:]))\n",
    "fakes=np.hstack((composed_imgs[i][-1],composed_imgs[i][0:-1]))\n",
    "#orig[orig!=0]\n",
    "#pd.DataFrame({'originals':orig[orig!=0],'fakes':fakes[orig!=0]},index=idx[orig!=0])\n",
    "df=pd.DataFrame({'originals':orig,'fakes':fakes},index=idx)\n",
    "df[df.originals!=0]"
   ]
  },
  {
   "cell_type": "code",
   "execution_count": 15,
   "metadata": {},
   "outputs": [
    {
     "data": {
      "text/plain": [
       "array([1, 1, 1, 1, 1, 1, 1, 1, 1, 1])"
      ]
     },
     "execution_count": 15,
     "metadata": {},
     "output_type": "execute_result"
    }
   ],
   "source": [
    "np.random.binomial(1,0.9,size=(10))"
   ]
  },
  {
   "cell_type": "code",
   "execution_count": null,
   "metadata": {},
   "outputs": [],
   "source": []
  }
 ],
 "metadata": {
  "kernelspec": {
   "display_name": "Python 3",
   "language": "python",
   "name": "python3"
  },
  "language_info": {
   "codemirror_mode": {
    "name": "ipython",
    "version": 3
   },
   "file_extension": ".py",
   "mimetype": "text/x-python",
   "name": "python",
   "nbconvert_exporter": "python",
   "pygments_lexer": "ipython3",
   "version": "3.5.5"
  }
 },
 "nbformat": 4,
 "nbformat_minor": 2
}
