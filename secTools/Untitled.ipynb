{
 "cells": [
  {
   "cell_type": "code",
   "execution_count": 1,
   "metadata": {},
   "outputs": [],
   "source": [
    "from general_import import importDataTools,DataLoader\n",
    "\n",
    "import os\n",
    "import importlib"
   ]
  },
  {
   "cell_type": "code",
   "execution_count": 9,
   "metadata": {},
   "outputs": [
    {
     "ename": "NameError",
     "evalue": "name 'general_import' is not defined",
     "output_type": "error",
     "traceback": [
      "\u001b[1;31m---------------------------------------------------------------------------\u001b[0m",
      "\u001b[1;31mNameError\u001b[0m                                 Traceback (most recent call last)",
      "\u001b[1;32m<ipython-input-9-155ccdfba010>\u001b[0m in \u001b[0;36m<module>\u001b[1;34m()\u001b[0m\n\u001b[1;32m----> 1\u001b[1;33m \u001b[0mimportlib\u001b[0m\u001b[1;33m.\u001b[0m\u001b[0mreload\u001b[0m\u001b[1;33m(\u001b[0m\u001b[0mgeneral_import\u001b[0m\u001b[1;33m.\u001b[0m\u001b[0mpy\u001b[0m\u001b[1;33m)\u001b[0m\u001b[1;33m\u001b[0m\u001b[0m\n\u001b[0m",
      "\u001b[1;31mNameError\u001b[0m: name 'general_import' is not defined"
     ]
    }
   ],
   "source": [
    " importlib.reload(general_import.py)"
   ]
  },
  {
   "cell_type": "code",
   "execution_count": 2,
   "metadata": {
    "scrolled": true
   },
   "outputs": [],
   "source": [
    "home_dir=os.path.normpath('D:/SEC/Raw')\n"
   ]
  },
  {
   "cell_type": "code",
   "execution_count": 3,
   "metadata": {},
   "outputs": [
    {
     "ename": "TypeError",
     "evalue": "list indices must be integers or slices, not str",
     "output_type": "error",
     "traceback": [
      "\u001b[1;31m---------------------------------------------------------------------------\u001b[0m",
      "\u001b[1;31mTypeError\u001b[0m                                 Traceback (most recent call last)",
      "\u001b[1;32m<ipython-input-3-9b697b6432be>\u001b[0m in \u001b[0;36m<module>\u001b[1;34m()\u001b[0m\n\u001b[0;32m      4\u001b[0m \u001b[0mallsubz\u001b[0m\u001b[1;33m.\u001b[0m\u001b[0mcat_cols\u001b[0m\u001b[1;33m=\u001b[0m\u001b[1;33m[\u001b[0m\u001b[1;34m'form'\u001b[0m\u001b[1;33m,\u001b[0m \u001b[1;34m'period'\u001b[0m\u001b[1;33m,\u001b[0m \u001b[1;34m'fp'\u001b[0m\u001b[1;33m]\u001b[0m\u001b[1;33m\u001b[0m\u001b[0m\n\u001b[0;32m      5\u001b[0m \u001b[0mallsubz\u001b[0m\u001b[1;33m.\u001b[0m\u001b[0mreport\u001b[0m\u001b[1;33m=\u001b[0m\u001b[1;34m'sub'\u001b[0m\u001b[1;33m\u001b[0m\u001b[0m\n\u001b[1;32m----> 6\u001b[1;33m \u001b[0mallsubz\u001b[0m\u001b[1;33m.\u001b[0m\u001b[0mimportSEC\u001b[0m\u001b[1;33m(\u001b[0m\u001b[1;33m)\u001b[0m\u001b[1;33m\u001b[0m\u001b[0m\n\u001b[0m",
      "\u001b[1;32m~\\OneDrive - University College London\\SEC\\Dissertation_code\\general_import.py\u001b[0m in \u001b[0;36mimportSEC\u001b[1;34m(self)\u001b[0m\n\u001b[0;32m     87\u001b[0m \u001b[1;33m\u001b[0m\u001b[0m\n\u001b[0;32m     88\u001b[0m                 \u001b[1;31m#self.calc_mem_usage()\u001b[0m\u001b[1;33m\u001b[0m\u001b[1;33m\u001b[0m\u001b[0m\n\u001b[1;32m---> 89\u001b[1;33m                 \u001b[0mself\u001b[0m\u001b[1;33m.\u001b[0m\u001b[0mcategorizeDF\u001b[0m\u001b[1;33m(\u001b[0m\u001b[1;33m)\u001b[0m\u001b[1;33m\u001b[0m\u001b[0m\n\u001b[0m\u001b[0;32m     90\u001b[0m                 \u001b[1;31m#self.calc_mem_usage()\u001b[0m\u001b[1;33m\u001b[0m\u001b[1;33m\u001b[0m\u001b[0m\n\u001b[0;32m     91\u001b[0m                 \u001b[0mprint\u001b[0m\u001b[1;33m(\u001b[0m\u001b[0mallzself\u001b[0m\u001b[1;33m.\u001b[0m\u001b[0mdf\u001b[0m\u001b[1;33m.\u001b[0m\u001b[0mshape\u001b[0m\u001b[1;33m)\u001b[0m\u001b[1;33m\u001b[0m\u001b[0m\n",
      "\u001b[1;32m~\\OneDrive - University College London\\SEC\\Dissertation_code\\general_import.py\u001b[0m in \u001b[0;36mcategorizeDF\u001b[1;34m(self)\u001b[0m\n\u001b[0;32m     51\u001b[0m                 \u001b[1;32mfor\u001b[0m \u001b[0mcol\u001b[0m \u001b[1;32min\u001b[0m \u001b[0mself\u001b[0m\u001b[1;33m.\u001b[0m\u001b[0mcat_cols\u001b[0m\u001b[1;33m:\u001b[0m\u001b[1;33m\u001b[0m\u001b[0m\n\u001b[0;32m     52\u001b[0m                         \u001b[1;32mtry\u001b[0m\u001b[1;33m:\u001b[0m\u001b[1;33m\u001b[0m\u001b[0m\n\u001b[1;32m---> 53\u001b[1;33m                                 \u001b[0mself\u001b[0m\u001b[1;33m.\u001b[0m\u001b[0mdf\u001b[0m\u001b[1;33m[\u001b[0m\u001b[0mcol\u001b[0m\u001b[1;33m]\u001b[0m\u001b[1;33m=\u001b[0m\u001b[0mself\u001b[0m\u001b[1;33m.\u001b[0m\u001b[0mdf\u001b[0m\u001b[1;33m[\u001b[0m\u001b[0mcol\u001b[0m\u001b[1;33m]\u001b[0m\u001b[1;33m.\u001b[0m\u001b[0mastype\u001b[0m\u001b[1;33m(\u001b[0m\u001b[1;34m'category'\u001b[0m\u001b[1;33m)\u001b[0m\u001b[1;33m\u001b[0m\u001b[0m\n\u001b[0m\u001b[0;32m     54\u001b[0m                         \u001b[1;32mexcept\u001b[0m \u001b[0mNotImplementedError\u001b[0m\u001b[1;33m:\u001b[0m\u001b[1;33m\u001b[0m\u001b[0m\n\u001b[0;32m     55\u001b[0m                                 \u001b[0mprint\u001b[0m\u001b[1;33m(\u001b[0m\u001b[0mcol\u001b[0m\u001b[1;33m,\u001b[0m \u001b[1;34m' only one datum '\u001b[0m\u001b[1;33m)\u001b[0m\u001b[1;33m\u001b[0m\u001b[0m\n",
      "\u001b[1;31mTypeError\u001b[0m: list indices must be integers or slices, not str"
     ]
    }
   ],
   "source": [
    "allsubz=importDataTools('allsubz')\n",
    "allsubz.home_dir=home_dir\n",
    "allsubz.import_cols=['adsh','cik', 'name', 'sic','form', 'period', 'fy', 'fp','filed']\n",
    "allsubz.cat_cols=['form', 'period', 'fp']\n",
    "allsubz.report='sub'\n",
    "allsubz.importSEC()"
   ]
  },
  {
   "cell_type": "code",
   "execution_count": 4,
   "metadata": {},
   "outputs": [
    {
     "data": {
      "text/plain": [
       "['form', 'period', 'fp']"
      ]
     },
     "execution_count": 4,
     "metadata": {},
     "output_type": "execute_result"
    }
   ],
   "source": [
    "allsubz.cat_cols"
   ]
  },
  {
   "cell_type": "code",
   "execution_count": 5,
   "metadata": {},
   "outputs": [
    {
     "name": "stdout",
     "output_type": "stream",
     "text": [
      "form\n",
      "period\n",
      "fp\n"
     ]
    }
   ],
   "source": [
    "for col in allsubz.cat_cols:\n",
    "    print(col)"
   ]
  },
  {
   "cell_type": "code",
   "execution_count": 6,
   "metadata": {},
   "outputs": [
    {
     "data": {
      "text/plain": [
       "[]"
      ]
     },
     "execution_count": 6,
     "metadata": {},
     "output_type": "execute_result"
    }
   ],
   "source": [
    "allsubz.df"
   ]
  },
  {
   "cell_type": "code",
   "execution_count": 36,
   "metadata": {},
   "outputs": [
    {
     "ename": "TabError",
     "evalue": "inconsistent use of tabs and spaces in indentation (<ipython-input-36-df226aef6362>, line 15)",
     "output_type": "error",
     "traceback": [
      "\u001b[1;36m  File \u001b[1;32m\"<ipython-input-36-df226aef6362>\"\u001b[1;36m, line \u001b[1;32m15\u001b[0m\n\u001b[1;33m    self.memusage=[]\u001b[0m\n\u001b[1;37m                    ^\u001b[0m\n\u001b[1;31mTabError\u001b[0m\u001b[1;31m:\u001b[0m inconsistent use of tabs and spaces in indentation\n"
     ]
    }
   ],
   "source": [
    "import pandas as pd\n",
    "import os\n",
    "\n",
    "class importDataTools(object):\n",
    "\n",
    "\tdef __init__(self, name):\n",
    "\t\tself.folders=[]\n",
    "\t\tself.name=name\n",
    "\t\tself.import_cols=[]\n",
    "\t\tself.cat_cols={}\n",
    "\t\tself.df=pd.DataFrame()\n",
    "\t\tself.report=[]\n",
    "\t\tself.filters={}\n",
    "\t\tself.home_dir=[]\n",
    "        self.memusage=[]\n",
    "\n",
    "\n",
    "\tdef add_folders(self):\n",
    "\t#get the names of the folders of the data\n",
    "\n",
    "\t\tfolders=[]\n",
    "\t\tfor dirg in os.listdir(self.home_dir):\n",
    "\t\t\tif os.path.isdir(os.path.join(self.home_dir,dirg)) and dirg[0]=='2' :\n",
    "\n",
    "\t\t\t\t\tfolders.append(dirg)\n",
    "\t\tself.folders=folders\n",
    "\t\t\t\n",
    "\tdef add_report(self,report):\n",
    "\t\tself.report=report\n",
    "\t\t\n",
    "\tdef add_cat_cols(self,cat_cols):\n",
    "\t\tself.cat_cols=cat_cols\n",
    "             \n",
    "\t\t\n",
    "\tdef add_filters(self,filters):\n",
    "\t\tself.filters=filters\n",
    "\t\n",
    "\tdef mem_usage(self):\n",
    "\t\tif isinstance(self.df,pd.DataFrame):\n",
    "\t\t\tusage_b =self.df.memory_usage(deep=True).sum()\n",
    "\t\telse: # we assume if not a df it's a series\n",
    "\t\t\tusage_b = self.df.memory_usage(deep=True)\n",
    "\t\tusage_mb = usage_b / 1024 ** 2 # convert bytes to megabytes\n",
    "\t\tmemusage=\"{:03.2f} MB\".format(usage_mb)\n",
    "\t\tprint(memusage)\n",
    "        self.memusage=memusage\n",
    "\n",
    "\n",
    "\tdef categorizeDF(self):\n",
    "\t\t#converts a list of columns into category type for pandas df\n",
    "\t\tfor col in self.cat_cols:\n",
    "\t\t\ttry:\n",
    "\t\t\t\tself.df[col]=self.df[col].astype(self.cat_cols[col])\n",
    "\t\t\texcept NotImplementedError:\n",
    "\t\t\t\tprint(col, ' only one datum ')\n",
    "\n",
    "\n",
    "\tdef importSEC(self):\n",
    "\t\t#imports and amalgamtes data from separate files in separate folders\n",
    "\t\tk=1\n",
    "\t\treport=self.report+'.txt'\n",
    "\t\tfor dirname in self.folders:\n",
    "            \n",
    "\t\t\ttarget_dir=os.path.join(self.home_dir,dirname,report)\n",
    "\t\t\t\n",
    "\t\t\ttry:\n",
    "\t\t\t\tz=pd.read_table(target_dir,encoding = \"ISO-8859-1\",usecols=self.import_cols, low_memory=False)\n",
    "\n",
    "\t\t\t\t\n",
    "\t\t\t\tfor fil in self.filters:\n",
    "\n",
    "\t\t\t\t\tz=z[z[fil].isin(self.filters[fil])]\n",
    "\n",
    "\n",
    "\t\t\t\t#z=categorizeDF()\n",
    "\n",
    "\t\t\t\tif k==1:\n",
    "\t\t\t\t\tself.df=z\n",
    "\t\t\t\t\tk=k+1\n",
    "\t\t\t\telse:\n",
    "\t\t\t\t\tk=k+1\n",
    "\t\t\t\t\tself.df=self.df.append(z)\n",
    "\t\t\t\t\t#allz=categorizeDF(categorical_cols,allz)\n",
    "\t\t\t\t\tprint(z.shape,dirname,round((k-1)/len(self.folders),2))\n",
    "\t\t\texcept ValueError:\n",
    "\t\t\t\tprint(dirname, 'error')\n",
    "\t\t\n",
    "\t\tself.mem_usage()       \n",
    "\t\tself.categorizeDF()\n",
    "\t\tself.mem_usage()\n",
    "\t\tprint(self.df.shape)"
   ]
  },
  {
   "cell_type": "code",
   "execution_count": 37,
   "metadata": {},
   "outputs": [
    {
     "name": "stdout",
     "output_type": "stream",
     "text": [
      "(7234, 9) 2015q4 0.06\n",
      "(7456, 9) 2015q3 0.09\n",
      "(6865, 9) 2016q3 0.11\n",
      "(7228, 9) 2017q2 0.14\n",
      "(6506, 9) 2017q3 0.17\n",
      "(6272, 9) 2017q1 0.2\n",
      "(6550, 9) 2017q4 0.23\n",
      "(7523, 9) 2016q2 0.26\n",
      "(6754, 9) 2016q4 0.29\n",
      "(7104, 9) 2011q3 0.31\n",
      "(1474, 9) 2010q4 0.34\n",
      "(7417, 9) 2012q1 0.37\n",
      "(8015, 9) 2011q4 0.4\n",
      "(1413, 9) 2010q3 0.43\n",
      "(522, 9) 2010q2 0.46\n",
      "(439, 9) 2009q3 0.49\n",
      "(486, 9) 2009q4 0.51\n",
      "(0, 9) 2009q1 0.54\n",
      "(26, 9) 2009q2 0.57\n",
      "(6794, 9) 2013q1 0.6\n",
      "(495, 9) 2010q1 0.63\n",
      "(9114, 9) 2013q2 0.66\n",
      "(1500, 9) 2011q1 0.69\n",
      "(7161, 9) 2014q1 0.71\n",
      "(8005, 9) 2012q3 0.74\n",
      "(9193, 9) 2012q2 0.77\n",
      "(1705, 9) 2011q2 0.8\n",
      "(8117, 9) 2012q4 0.83\n",
      "(7790, 9) 2014q3 0.86\n",
      "(8553, 9) 2014q2 0.89\n",
      "(6996, 9) 2015q1 0.91\n",
      "(8043, 9) 2013q3 0.94\n",
      "(7844, 9) 2013q4 0.97\n",
      "(7715, 9) 2014q4 1.0\n",
      "76.49 MB\n",
      "47.81 MB\n",
      "(196522, 9)\n"
     ]
    }
   ],
   "source": [
    "home_dir=os.path.normpath('D:/SEC/Raw')\n",
    "\n",
    "allsubz=importDataTools('allsubz')\n",
    "allsubz.home_dir=home_dir\n",
    "allsubz.import_cols=(['adsh','cik', 'name', 'sic','form', 'period', 'fy', 'fp','filed'])\n",
    "allsubz.add_cat_cols({'form':'category', 'period':'category', 'fp':'category'})\n",
    "allsubz.add_folders()\n",
    "allsubz.report='sub'\n",
    "allsubz.importSEC()"
   ]
  },
  {
   "cell_type": "code",
   "execution_count": 33,
   "metadata": {},
   "outputs": [
    {
     "name": "stdout",
     "output_type": "stream",
     "text": [
      "category\n",
      "category\n",
      "category\n"
     ]
    }
   ],
   "source": [
    " for c in allsubz.cat_cols:\n",
    "    print(allsubz.cat_cols[c])"
   ]
  },
  {
   "cell_type": "code",
   "execution_count": 13,
   "metadata": {},
   "outputs": [
    {
     "data": {
      "text/plain": [
       "['form', 'period', 'fp']"
      ]
     },
     "execution_count": 13,
     "metadata": {},
     "output_type": "execute_result"
    }
   ],
   "source": [
    "allsubz.cat_cols"
   ]
  },
  {
   "cell_type": "code",
   "execution_count": null,
   "metadata": {},
   "outputs": [],
   "source": []
  }
 ],
 "metadata": {
  "kernelspec": {
   "display_name": "Python 3",
   "language": "python",
   "name": "python3"
  },
  "language_info": {
   "codemirror_mode": {
    "name": "ipython",
    "version": 3
   },
   "file_extension": ".py",
   "mimetype": "text/x-python",
   "name": "python",
   "nbconvert_exporter": "python",
   "pygments_lexer": "ipython3",
   "version": "3.5.4"
  }
 },
 "nbformat": 4,
 "nbformat_minor": 2
}
