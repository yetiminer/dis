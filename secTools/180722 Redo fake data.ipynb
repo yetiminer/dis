{
 "cells": [
  {
   "cell_type": "code",
   "execution_count": 10,
   "metadata": {},
   "outputs": [],
   "source": [
    "from numpy.random import seed\n",
    "seed(35)\n",
    "from tensorflow import set_random_seed\n",
    "set_random_seed(35)\n",
    "\n",
    "\n",
    "from general_loader import ds_from_db\n",
    "from data_manipulation import remove_outlier\n",
    "import numpy as np\n",
    "from sklearn.model_selection import train_test_split\n",
    "from keras import backend as K\n",
    "\n",
    "from ae_designs_depth import model_7h, model_5h, model_3h\n",
    "from secTools import yamlLoad\n",
    "from general_loader import ds_from_db\n",
    "from data_manipulation import remove_outlier,augment_x, augment_x_linear\n",
    "\n",
    "from secTools import yamlLoad\n",
    "from sklearn.model_selection import train_test_split\n",
    "from custom_loss import ( make_recon_loss_combi,sparse_recon_loss_abs,make_sparse_recon_loss_var,\n",
    "                         make_sparse_recon_loss_combi,sparse_recon_loss_mse,\n",
    "                        mk_np_sparse_loss,make_loss_combi)\n",
    "\n",
    "from keras.callbacks import EarlyStopping\n",
    "from keras.initializers import glorot_normal\n",
    "from keras.optimizers import Adam\n",
    "from Autoencoders import (autoencoder, plot_loss_dic,save_ae_dic,create_eval_dic,\n",
    "                          load_ae_weights,load_ae_dic,create_loss_param_table,\n",
    "                         model_loss_wrap,fit_model_dic)\n",
    "\n",
    "import matplotlib.pyplot as plt\n",
    "import os\n",
    "from keras.models import load_model, model_from_json\n",
    "import pandas as pd\n",
    "from keras import backend as K\n",
    "import yaml\n",
    "\n",
    "from fake_financial import compare_fit_with_fake_data, fit_model,make_fake_data\n"
   ]
  },
  {
   "cell_type": "code",
   "execution_count": 2,
   "metadata": {},
   "outputs": [
    {
     "name": "stderr",
     "output_type": "stream",
     "text": [
      "/home/anywayed/Documents/dis/secTools/data_manipulation.py:31: RuntimeWarning: invalid value encountered in greater\n",
      "  X[np.abs(X)>level_x]=np.nan\n"
     ]
    },
    {
     "name": "stdout",
     "output_type": "stream",
     "text": [
      "there are  1295  with at least one identical pair to compose new financials from\n"
     ]
    }
   ],
   "source": [
    "\n",
    "ds_dic={'pickle_file':'ds180704'}\n",
    "ds=ds_from_db(**ds_dic)\n",
    "X=ds.FT.values\n",
    "Y=ds.FT.index.values\n",
    "X,Y=remove_outlier(X,2.5,Y=Y,replace_nan=True)\n",
    "\n",
    "assert(~np.any(np.isnan(X)))\n",
    "\n",
    "X=X[:,0:200]\n",
    "x_train,x_test,y_train,y_test=train_test_split(X,Y,test_size=0.25,random_state=35)\n",
    "\n",
    "x_train_lin_aug=augment_x_linear(x_train,reps=10000,pairs=True)\n",
    "x_train_lin_aug_aug=augment_x(np.vstack((x_train_lin_aug,x_train)),ds,repeats=4,fit_col='Assets',seed=22)"
   ]
  },
  {
   "cell_type": "code",
   "execution_count": 3,
   "metadata": {},
   "outputs": [],
   "source": [
    "\n",
    "sparse_recon_loss_combi=make_sparse_recon_loss_combi(0.8)\n",
    "sparse_recon_loss_var=make_sparse_recon_loss_var(sparse_recon_loss_combi)\n",
    "\n",
    "loss=sparse_recon_loss_combi\n",
    "\n",
    "metrics=[sparse_recon_loss_mse,sparse_recon_loss_abs,sparse_recon_loss_var]\n",
    "\n",
    "test_data=[x_test,x_test]\n",
    "train_data=[x_train,x_train]\n",
    "train_data=[x_train_lin_aug_aug,x_train_lin_aug_aug]\n",
    "\n",
    "#early stop setting below is default but explicitly stated here\n",
    "ES=EarlyStopping(monitor='val_loss', min_delta=0.0001, patience=5, verbose=1, mode='auto')\n",
    "\n",
    "ker_init=glorot_normal(seed=22)\n",
    "opt=Adam(lr=0.001)\n",
    "\n",
    "train_dic={'train_data':train_data,'test_data':test_data,'loss':loss,\n",
    "           'compile':True,'epochs':100,'batch_size':512,'optimizer':opt,\n",
    "          'early_stop':ES,'metrics':metrics}\n",
    "nodes=[32,16,32]\n",
    "layer_dic={'drop_ra':0.01,'l1_reg':0, 'g_noise':0.05, 'ker_init':ker_init,'nodes':nodes}"
   ]
  },
  {
   "cell_type": "code",
   "execution_count": 4,
   "metadata": {},
   "outputs": [
    {
     "name": "stdout",
     "output_type": "stream",
     "text": [
      "Train on 125204 samples, validate on 7101 samples\n",
      "Epoch 1/100\n",
      "125204/125204 [==============================] - 2s 16us/step - loss: 0.1163 - sparse_recon_loss_mse: 0.1026 - sparse_recon_loss_abs: 0.1710 - sparse_recon_loss_var: 0.1541 - val_loss: 0.0921 - val_sparse_recon_loss_mse: 0.0781 - val_sparse_recon_loss_abs: 0.1482 - val_sparse_recon_loss_var: 0.1335\n",
      "Epoch 2/100\n",
      "125204/125204 [==============================] - 1s 8us/step - loss: 0.0612 - sparse_recon_loss_mse: 0.0491 - sparse_recon_loss_abs: 0.1095 - sparse_recon_loss_var: 0.1016 - val_loss: 0.0705 - val_sparse_recon_loss_mse: 0.0582 - val_sparse_recon_loss_abs: 0.1197 - val_sparse_recon_loss_var: 0.1118\n",
      "Epoch 3/100\n",
      "125204/125204 [==============================] - 1s 8us/step - loss: 0.0514 - sparse_recon_loss_mse: 0.0401 - sparse_recon_loss_abs: 0.0966 - sparse_recon_loss_var: 0.0887 - val_loss: 0.0627 - val_sparse_recon_loss_mse: 0.0510 - val_sparse_recon_loss_abs: 0.1094 - val_sparse_recon_loss_var: 0.1027\n",
      "Epoch 4/100\n",
      "125204/125204 [==============================] - 1s 8us/step - loss: 0.0466 - sparse_recon_loss_mse: 0.0357 - sparse_recon_loss_abs: 0.0904 - sparse_recon_loss_var: 0.0814 - val_loss: 0.0584 - val_sparse_recon_loss_mse: 0.0470 - val_sparse_recon_loss_abs: 0.1040 - val_sparse_recon_loss_var: 0.0971\n",
      "Epoch 5/100\n",
      "125204/125204 [==============================] - 1s 8us/step - loss: 0.0437 - sparse_recon_loss_mse: 0.0330 - sparse_recon_loss_abs: 0.0863 - sparse_recon_loss_var: 0.0766 - val_loss: 0.0554 - val_sparse_recon_loss_mse: 0.0443 - val_sparse_recon_loss_abs: 0.0997 - val_sparse_recon_loss_var: 0.0932\n",
      "Epoch 6/100\n",
      "125204/125204 [==============================] - 1s 8us/step - loss: 0.0416 - sparse_recon_loss_mse: 0.0312 - sparse_recon_loss_abs: 0.0832 - sparse_recon_loss_var: 0.0734 - val_loss: 0.0534 - val_sparse_recon_loss_mse: 0.0425 - val_sparse_recon_loss_abs: 0.0967 - val_sparse_recon_loss_var: 0.0906\n",
      "Epoch 7/100\n",
      "125204/125204 [==============================] - 1s 8us/step - loss: 0.0401 - sparse_recon_loss_mse: 0.0299 - sparse_recon_loss_abs: 0.0811 - sparse_recon_loss_var: 0.0710 - val_loss: 0.0519 - val_sparse_recon_loss_mse: 0.0412 - val_sparse_recon_loss_abs: 0.0948 - val_sparse_recon_loss_var: 0.0889\n",
      "Epoch 8/100\n",
      "125204/125204 [==============================] - 1s 8us/step - loss: 0.0390 - sparse_recon_loss_mse: 0.0289 - sparse_recon_loss_abs: 0.0793 - sparse_recon_loss_var: 0.0694 - val_loss: 0.0508 - val_sparse_recon_loss_mse: 0.0402 - val_sparse_recon_loss_abs: 0.0932 - val_sparse_recon_loss_var: 0.0874\n",
      "Epoch 9/100\n",
      "125204/125204 [==============================] - 1s 8us/step - loss: 0.0381 - sparse_recon_loss_mse: 0.0281 - sparse_recon_loss_abs: 0.0780 - sparse_recon_loss_var: 0.0680 - val_loss: 0.0500 - val_sparse_recon_loss_mse: 0.0396 - val_sparse_recon_loss_abs: 0.0918 - val_sparse_recon_loss_var: 0.0871\n",
      "Epoch 10/100\n",
      "125204/125204 [==============================] - 1s 9us/step - loss: 0.0374 - sparse_recon_loss_mse: 0.0275 - sparse_recon_loss_abs: 0.0769 - sparse_recon_loss_var: 0.0669 - val_loss: 0.0492 - val_sparse_recon_loss_mse: 0.0389 - val_sparse_recon_loss_abs: 0.0905 - val_sparse_recon_loss_var: 0.0861\n",
      "Epoch 11/100\n",
      "125204/125204 [==============================] - 1s 9us/step - loss: 0.0367 - sparse_recon_loss_mse: 0.0270 - sparse_recon_loss_abs: 0.0758 - sparse_recon_loss_var: 0.0661 - val_loss: 0.0487 - val_sparse_recon_loss_mse: 0.0384 - val_sparse_recon_loss_abs: 0.0900 - val_sparse_recon_loss_var: 0.0854\n",
      "Epoch 12/100\n",
      "125204/125204 [==============================] - 1s 8us/step - loss: 0.0362 - sparse_recon_loss_mse: 0.0265 - sparse_recon_loss_abs: 0.0750 - sparse_recon_loss_var: 0.0652 - val_loss: 0.0483 - val_sparse_recon_loss_mse: 0.0381 - val_sparse_recon_loss_abs: 0.0889 - val_sparse_recon_loss_var: 0.0850\n",
      "Epoch 13/100\n",
      "125204/125204 [==============================] - 1s 9us/step - loss: 0.0359 - sparse_recon_loss_mse: 0.0262 - sparse_recon_loss_abs: 0.0745 - sparse_recon_loss_var: 0.0647 - val_loss: 0.0480 - val_sparse_recon_loss_mse: 0.0378 - val_sparse_recon_loss_abs: 0.0886 - val_sparse_recon_loss_var: 0.0847\n",
      "Epoch 14/100\n",
      "125204/125204 [==============================] - 1s 9us/step - loss: 0.0353 - sparse_recon_loss_mse: 0.0258 - sparse_recon_loss_abs: 0.0735 - sparse_recon_loss_var: 0.0639 - val_loss: 0.0475 - val_sparse_recon_loss_mse: 0.0373 - val_sparse_recon_loss_abs: 0.0879 - val_sparse_recon_loss_var: 0.0842\n",
      "Epoch 15/100\n",
      "125204/125204 [==============================] - 1s 9us/step - loss: 0.0350 - sparse_recon_loss_mse: 0.0255 - sparse_recon_loss_abs: 0.0731 - sparse_recon_loss_var: 0.0632 - val_loss: 0.0474 - val_sparse_recon_loss_mse: 0.0373 - val_sparse_recon_loss_abs: 0.0879 - val_sparse_recon_loss_var: 0.0840\n",
      "Epoch 16/100\n",
      "125204/125204 [==============================] - 1s 8us/step - loss: 0.0348 - sparse_recon_loss_mse: 0.0253 - sparse_recon_loss_abs: 0.0726 - sparse_recon_loss_var: 0.0628 - val_loss: 0.0469 - val_sparse_recon_loss_mse: 0.0369 - val_sparse_recon_loss_abs: 0.0868 - val_sparse_recon_loss_var: 0.0839\n",
      "Epoch 17/100\n",
      "125204/125204 [==============================] - 1s 8us/step - loss: 0.0344 - sparse_recon_loss_mse: 0.0250 - sparse_recon_loss_abs: 0.0721 - sparse_recon_loss_var: 0.0624 - val_loss: 0.0467 - val_sparse_recon_loss_mse: 0.0367 - val_sparse_recon_loss_abs: 0.0865 - val_sparse_recon_loss_var: 0.0836\n",
      "Epoch 18/100\n",
      "125204/125204 [==============================] - 1s 9us/step - loss: 0.0341 - sparse_recon_loss_mse: 0.0248 - sparse_recon_loss_abs: 0.0715 - sparse_recon_loss_var: 0.0618 - val_loss: 0.0465 - val_sparse_recon_loss_mse: 0.0365 - val_sparse_recon_loss_abs: 0.0863 - val_sparse_recon_loss_var: 0.0833\n",
      "Epoch 19/100\n",
      "125204/125204 [==============================] - 1s 9us/step - loss: 0.0339 - sparse_recon_loss_mse: 0.0246 - sparse_recon_loss_abs: 0.0711 - sparse_recon_loss_var: 0.0614 - val_loss: 0.0462 - val_sparse_recon_loss_mse: 0.0364 - val_sparse_recon_loss_abs: 0.0856 - val_sparse_recon_loss_var: 0.0833\n",
      "Epoch 20/100\n",
      "125204/125204 [==============================] - 1s 9us/step - loss: 0.0336 - sparse_recon_loss_mse: 0.0243 - sparse_recon_loss_abs: 0.0708 - sparse_recon_loss_var: 0.0610 - val_loss: 0.0459 - val_sparse_recon_loss_mse: 0.0361 - val_sparse_recon_loss_abs: 0.0849 - val_sparse_recon_loss_var: 0.0831\n",
      "Epoch 21/100\n",
      "125204/125204 [==============================] - 1s 9us/step - loss: 0.0334 - sparse_recon_loss_mse: 0.0242 - sparse_recon_loss_abs: 0.0704 - sparse_recon_loss_var: 0.0607 - val_loss: 0.0457 - val_sparse_recon_loss_mse: 0.0359 - val_sparse_recon_loss_abs: 0.0851 - val_sparse_recon_loss_var: 0.0828\n",
      "Epoch 22/100\n",
      "125204/125204 [==============================] - 1s 8us/step - loss: 0.0332 - sparse_recon_loss_mse: 0.0239 - sparse_recon_loss_abs: 0.0701 - sparse_recon_loss_var: 0.0602 - val_loss: 0.0458 - val_sparse_recon_loss_mse: 0.0359 - val_sparse_recon_loss_abs: 0.0850 - val_sparse_recon_loss_var: 0.0831\n",
      "Epoch 23/100\n",
      "125204/125204 [==============================] - 1s 9us/step - loss: 0.0329 - sparse_recon_loss_mse: 0.0237 - sparse_recon_loss_abs: 0.0697 - sparse_recon_loss_var: 0.0599 - val_loss: 0.0454 - val_sparse_recon_loss_mse: 0.0356 - val_sparse_recon_loss_abs: 0.0846 - val_sparse_recon_loss_var: 0.0825\n",
      "Epoch 24/100\n",
      "125204/125204 [==============================] - 1s 9us/step - loss: 0.0327 - sparse_recon_loss_mse: 0.0236 - sparse_recon_loss_abs: 0.0694 - sparse_recon_loss_var: 0.0594 - val_loss: 0.0452 - val_sparse_recon_loss_mse: 0.0354 - val_sparse_recon_loss_abs: 0.0841 - val_sparse_recon_loss_var: 0.0825\n",
      "Epoch 25/100\n",
      "125204/125204 [==============================] - 1s 8us/step - loss: 0.0325 - sparse_recon_loss_mse: 0.0234 - sparse_recon_loss_abs: 0.0690 - sparse_recon_loss_var: 0.0591 - val_loss: 0.0450 - val_sparse_recon_loss_mse: 0.0352 - val_sparse_recon_loss_abs: 0.0839 - val_sparse_recon_loss_var: 0.0823\n",
      "Epoch 26/100\n",
      "125204/125204 [==============================] - 1s 9us/step - loss: 0.0322 - sparse_recon_loss_mse: 0.0231 - sparse_recon_loss_abs: 0.0686 - sparse_recon_loss_var: 0.0587 - val_loss: 0.0445 - val_sparse_recon_loss_mse: 0.0349 - val_sparse_recon_loss_abs: 0.0831 - val_sparse_recon_loss_var: 0.0820\n",
      "Epoch 27/100\n"
     ]
    },
    {
     "name": "stdout",
     "output_type": "stream",
     "text": [
      "125204/125204 [==============================] - 1s 8us/step - loss: 0.0321 - sparse_recon_loss_mse: 0.0230 - sparse_recon_loss_abs: 0.0683 - sparse_recon_loss_var: 0.0584 - val_loss: 0.0444 - val_sparse_recon_loss_mse: 0.0348 - val_sparse_recon_loss_abs: 0.0831 - val_sparse_recon_loss_var: 0.0821\n",
      "Epoch 28/100\n",
      "125204/125204 [==============================] - 1s 8us/step - loss: 0.0318 - sparse_recon_loss_mse: 0.0228 - sparse_recon_loss_abs: 0.0679 - sparse_recon_loss_var: 0.0579 - val_loss: 0.0442 - val_sparse_recon_loss_mse: 0.0347 - val_sparse_recon_loss_abs: 0.0824 - val_sparse_recon_loss_var: 0.0818\n",
      "Epoch 29/100\n",
      "125204/125204 [==============================] - 1s 8us/step - loss: 0.0316 - sparse_recon_loss_mse: 0.0226 - sparse_recon_loss_abs: 0.0674 - sparse_recon_loss_var: 0.0578 - val_loss: 0.0442 - val_sparse_recon_loss_mse: 0.0346 - val_sparse_recon_loss_abs: 0.0826 - val_sparse_recon_loss_var: 0.0822\n",
      "Epoch 30/100\n",
      "125204/125204 [==============================] - 1s 8us/step - loss: 0.0314 - sparse_recon_loss_mse: 0.0224 - sparse_recon_loss_abs: 0.0671 - sparse_recon_loss_var: 0.0574 - val_loss: 0.0441 - val_sparse_recon_loss_mse: 0.0345 - val_sparse_recon_loss_abs: 0.0824 - val_sparse_recon_loss_var: 0.0824\n",
      "Epoch 31/100\n",
      "125204/125204 [==============================] - 1s 8us/step - loss: 0.0313 - sparse_recon_loss_mse: 0.0223 - sparse_recon_loss_abs: 0.0670 - sparse_recon_loss_var: 0.0572 - val_loss: 0.0440 - val_sparse_recon_loss_mse: 0.0345 - val_sparse_recon_loss_abs: 0.0820 - val_sparse_recon_loss_var: 0.0828\n",
      "Epoch 32/100\n",
      "125204/125204 [==============================] - 1s 8us/step - loss: 0.0310 - sparse_recon_loss_mse: 0.0222 - sparse_recon_loss_abs: 0.0666 - sparse_recon_loss_var: 0.0568 - val_loss: 0.0437 - val_sparse_recon_loss_mse: 0.0343 - val_sparse_recon_loss_abs: 0.0816 - val_sparse_recon_loss_var: 0.0824\n",
      "Epoch 33/100\n",
      "125204/125204 [==============================] - 1s 8us/step - loss: 0.0309 - sparse_recon_loss_mse: 0.0221 - sparse_recon_loss_abs: 0.0664 - sparse_recon_loss_var: 0.0566 - val_loss: 0.0437 - val_sparse_recon_loss_mse: 0.0343 - val_sparse_recon_loss_abs: 0.0814 - val_sparse_recon_loss_var: 0.0831\n",
      "Epoch 34/100\n",
      "125204/125204 [==============================] - 1s 8us/step - loss: 0.0308 - sparse_recon_loss_mse: 0.0219 - sparse_recon_loss_abs: 0.0661 - sparse_recon_loss_var: 0.0563 - val_loss: 0.0435 - val_sparse_recon_loss_mse: 0.0342 - val_sparse_recon_loss_abs: 0.0809 - val_sparse_recon_loss_var: 0.0828\n",
      "Epoch 35/100\n",
      "125204/125204 [==============================] - 1s 8us/step - loss: 0.0307 - sparse_recon_loss_mse: 0.0219 - sparse_recon_loss_abs: 0.0659 - sparse_recon_loss_var: 0.0561 - val_loss: 0.0434 - val_sparse_recon_loss_mse: 0.0342 - val_sparse_recon_loss_abs: 0.0806 - val_sparse_recon_loss_var: 0.0831\n",
      "Epoch 36/100\n",
      "125204/125204 [==============================] - 1s 8us/step - loss: 0.0305 - sparse_recon_loss_mse: 0.0217 - sparse_recon_loss_abs: 0.0657 - sparse_recon_loss_var: 0.0558 - val_loss: 0.0434 - val_sparse_recon_loss_mse: 0.0341 - val_sparse_recon_loss_abs: 0.0805 - val_sparse_recon_loss_var: 0.0835\n",
      "Epoch 37/100\n",
      "125204/125204 [==============================] - 1s 8us/step - loss: 0.0303 - sparse_recon_loss_mse: 0.0216 - sparse_recon_loss_abs: 0.0653 - sparse_recon_loss_var: 0.0556 - val_loss: 0.0432 - val_sparse_recon_loss_mse: 0.0340 - val_sparse_recon_loss_abs: 0.0804 - val_sparse_recon_loss_var: 0.0838\n",
      "Epoch 38/100\n",
      "125204/125204 [==============================] - 1s 8us/step - loss: 0.0302 - sparse_recon_loss_mse: 0.0214 - sparse_recon_loss_abs: 0.0651 - sparse_recon_loss_var: 0.0554 - val_loss: 0.0434 - val_sparse_recon_loss_mse: 0.0341 - val_sparse_recon_loss_abs: 0.0804 - val_sparse_recon_loss_var: 0.0846\n",
      "Epoch 39/100\n",
      "125204/125204 [==============================] - 1s 8us/step - loss: 0.0301 - sparse_recon_loss_mse: 0.0214 - sparse_recon_loss_abs: 0.0649 - sparse_recon_loss_var: 0.0551 - val_loss: 0.0433 - val_sparse_recon_loss_mse: 0.0341 - val_sparse_recon_loss_abs: 0.0799 - val_sparse_recon_loss_var: 0.0852\n",
      "Epoch 40/100\n",
      "125204/125204 [==============================] - 1s 8us/step - loss: 0.0300 - sparse_recon_loss_mse: 0.0213 - sparse_recon_loss_abs: 0.0647 - sparse_recon_loss_var: 0.0549 - val_loss: 0.0433 - val_sparse_recon_loss_mse: 0.0341 - val_sparse_recon_loss_abs: 0.0801 - val_sparse_recon_loss_var: 0.0854\n",
      "Epoch 41/100\n",
      "125204/125204 [==============================] - 1s 8us/step - loss: 0.0298 - sparse_recon_loss_mse: 0.0212 - sparse_recon_loss_abs: 0.0645 - sparse_recon_loss_var: 0.0547 - val_loss: 0.0430 - val_sparse_recon_loss_mse: 0.0339 - val_sparse_recon_loss_abs: 0.0795 - val_sparse_recon_loss_var: 0.0849\n",
      "Epoch 42/100\n",
      "125204/125204 [==============================] - 1s 8us/step - loss: 0.0297 - sparse_recon_loss_mse: 0.0211 - sparse_recon_loss_abs: 0.0641 - sparse_recon_loss_var: 0.0546 - val_loss: 0.0431 - val_sparse_recon_loss_mse: 0.0340 - val_sparse_recon_loss_abs: 0.0795 - val_sparse_recon_loss_var: 0.0861\n",
      "Epoch 43/100\n",
      "125204/125204 [==============================] - 1s 8us/step - loss: 0.0296 - sparse_recon_loss_mse: 0.0210 - sparse_recon_loss_abs: 0.0641 - sparse_recon_loss_var: 0.0544 - val_loss: 0.0430 - val_sparse_recon_loss_mse: 0.0339 - val_sparse_recon_loss_abs: 0.0793 - val_sparse_recon_loss_var: 0.0854\n",
      "Epoch 44/100\n",
      "125204/125204 [==============================] - 1s 8us/step - loss: 0.0295 - sparse_recon_loss_mse: 0.0209 - sparse_recon_loss_abs: 0.0639 - sparse_recon_loss_var: 0.0541 - val_loss: 0.0429 - val_sparse_recon_loss_mse: 0.0339 - val_sparse_recon_loss_abs: 0.0791 - val_sparse_recon_loss_var: 0.0859\n",
      "Epoch 45/100\n",
      "125204/125204 [==============================] - 1s 8us/step - loss: 0.0294 - sparse_recon_loss_mse: 0.0209 - sparse_recon_loss_abs: 0.0637 - sparse_recon_loss_var: 0.0539 - val_loss: 0.0430 - val_sparse_recon_loss_mse: 0.0339 - val_sparse_recon_loss_abs: 0.0791 - val_sparse_recon_loss_var: 0.0869\n",
      "Epoch 46/100\n",
      "125204/125204 [==============================] - 1s 8us/step - loss: 0.0293 - sparse_recon_loss_mse: 0.0207 - sparse_recon_loss_abs: 0.0634 - sparse_recon_loss_var: 0.0537 - val_loss: 0.0429 - val_sparse_recon_loss_mse: 0.0339 - val_sparse_recon_loss_abs: 0.0789 - val_sparse_recon_loss_var: 0.0864\n",
      "Epoch 47/100\n",
      "125204/125204 [==============================] - 1s 8us/step - loss: 0.0293 - sparse_recon_loss_mse: 0.0207 - sparse_recon_loss_abs: 0.0634 - sparse_recon_loss_var: 0.0536 - val_loss: 0.0429 - val_sparse_recon_loss_mse: 0.0340 - val_sparse_recon_loss_abs: 0.0788 - val_sparse_recon_loss_var: 0.0878\n",
      "Epoch 48/100\n",
      "125204/125204 [==============================] - 1s 8us/step - loss: 0.0291 - sparse_recon_loss_mse: 0.0206 - sparse_recon_loss_abs: 0.0632 - sparse_recon_loss_var: 0.0534 - val_loss: 0.0429 - val_sparse_recon_loss_mse: 0.0339 - val_sparse_recon_loss_abs: 0.0788 - val_sparse_recon_loss_var: 0.0875\n",
      "Epoch 49/100\n",
      "125204/125204 [==============================] - 1s 8us/step - loss: 0.0291 - sparse_recon_loss_mse: 0.0206 - sparse_recon_loss_abs: 0.0631 - sparse_recon_loss_var: 0.0532 - val_loss: 0.0428 - val_sparse_recon_loss_mse: 0.0338 - val_sparse_recon_loss_abs: 0.0785 - val_sparse_recon_loss_var: 0.0868\n",
      "Epoch 50/100\n",
      "125204/125204 [==============================] - 1s 8us/step - loss: 0.0290 - sparse_recon_loss_mse: 0.0205 - sparse_recon_loss_abs: 0.0630 - sparse_recon_loss_var: 0.0531 - val_loss: 0.0428 - val_sparse_recon_loss_mse: 0.0339 - val_sparse_recon_loss_abs: 0.0785 - val_sparse_recon_loss_var: 0.0882\n",
      "Epoch 51/100\n",
      "125204/125204 [==============================] - 1s 8us/step - loss: 0.0289 - sparse_recon_loss_mse: 0.0204 - sparse_recon_loss_abs: 0.0628 - sparse_recon_loss_var: 0.0528 - val_loss: 0.0428 - val_sparse_recon_loss_mse: 0.0338 - val_sparse_recon_loss_abs: 0.0785 - val_sparse_recon_loss_var: 0.0879\n",
      "Epoch 52/100\n",
      "125204/125204 [==============================] - 1s 8us/step - loss: 0.0288 - sparse_recon_loss_mse: 0.0203 - sparse_recon_loss_abs: 0.0626 - sparse_recon_loss_var: 0.0526 - val_loss: 0.0427 - val_sparse_recon_loss_mse: 0.0339 - val_sparse_recon_loss_abs: 0.0780 - val_sparse_recon_loss_var: 0.0880\n",
      "Epoch 53/100\n"
     ]
    },
    {
     "name": "stdout",
     "output_type": "stream",
     "text": [
      "125204/125204 [==============================] - 1s 8us/step - loss: 0.0287 - sparse_recon_loss_mse: 0.0203 - sparse_recon_loss_abs: 0.0625 - sparse_recon_loss_var: 0.0526 - val_loss: 0.0428 - val_sparse_recon_loss_mse: 0.0339 - val_sparse_recon_loss_abs: 0.0785 - val_sparse_recon_loss_var: 0.0884\n",
      "Epoch 54/100\n",
      "125204/125204 [==============================] - 1s 8us/step - loss: 0.0287 - sparse_recon_loss_mse: 0.0203 - sparse_recon_loss_abs: 0.0623 - sparse_recon_loss_var: 0.0524 - val_loss: 0.0428 - val_sparse_recon_loss_mse: 0.0339 - val_sparse_recon_loss_abs: 0.0785 - val_sparse_recon_loss_var: 0.0885\n",
      "Epoch 00054: early stopping\n"
     ]
    }
   ],
   "source": [
    "\n",
    "layers=model_3h(x_train,drop_ra=0.0,l1_reg=0, g_noise=0.05, ker_init=ker_init,nodes=nodes)\n",
    "\n",
    "ae_321632=autoencoder(layers,name='321632',**train_dic)\n",
    "ae_321632.fit()"
   ]
  },
  {
   "cell_type": "code",
   "execution_count": 21,
   "metadata": {},
   "outputs": [
    {
     "data": {
      "image/png": "[encoded data removed]",
      "text/plain": [
       "<Figure size 432x288 with 1 Axes>"
      ]
     },
     "metadata": {},
     "output_type": "display_data"
    }
   ],
   "source": [
    "x_fake=make_fake_data(x_test,y_test,ds,num_fakes=7000,var_scale=1)\n",
    "fig1, losses,fake_losses=compare_fit_with_fake_data(ae_321632,x_test,x_fake,loss=loss)"
   ]
  },
  {
   "cell_type": "code",
   "execution_count": 20,
   "metadata": {},
   "outputs": [
    {
     "name": "stdout",
     "output_type": "stream",
     "text": [
      "1148.0\n",
      "4557.0\n",
      "7000\n"
     ]
    },
    {
     "data": {
      "text/plain": [
       "0.40458123537337776"
      ]
     },
     "execution_count": 20,
     "metadata": {},
     "output_type": "execute_result"
    }
   ],
   "source": [
    "\n",
    "total_error_rate,type1_error_rate,type2_error_rate, clf=fit_model(losses,fake_losses)\n",
    "total_error_rate\n"
   ]
  },
  {
   "cell_type": "code",
   "execution_count": 11,
   "metadata": {
    "scrolled": true
   },
   "outputs": [
    {
     "name": "stdout",
     "output_type": "stream",
     "text": [
      "Train on 125204 samples, validate on 7101 samples\n",
      "Epoch 1/100\n",
      "125204/125204 [==============================] - 2s 15us/step - loss: 0.0948 - sparse_recon_loss_mse: 0.0683 - sparse_recon_loss_abs: 0.1459 - sparse_recon_loss_var: 0.1057 - val_loss: 0.0879 - val_sparse_recon_loss_mse: 0.0606 - val_sparse_recon_loss_abs: 0.1370 - val_sparse_recon_loss_var: 0.0999\n",
      "Epoch 2/100\n",
      "125204/125204 [==============================] - 1s 9us/step - loss: 0.0632 - sparse_recon_loss_mse: 0.0403 - sparse_recon_loss_abs: 0.1115 - sparse_recon_loss_var: 0.0719 - val_loss: 0.0768 - val_sparse_recon_loss_mse: 0.0506 - val_sparse_recon_loss_abs: 0.1236 - val_sparse_recon_loss_var: 0.0885\n",
      "Epoch 3/100\n",
      "125204/125204 [==============================] - 1s 9us/step - loss: 0.0565 - sparse_recon_loss_mse: 0.0355 - sparse_recon_loss_abs: 0.1050 - sparse_recon_loss_var: 0.0637 - val_loss: 0.0725 - val_sparse_recon_loss_mse: 0.0469 - val_sparse_recon_loss_abs: 0.1179 - val_sparse_recon_loss_var: 0.0838\n",
      "Epoch 4/100\n",
      "125204/125204 [==============================] - 1s 9us/step - loss: 0.0531 - sparse_recon_loss_mse: 0.0331 - sparse_recon_loss_abs: 0.1011 - sparse_recon_loss_var: 0.0596 - val_loss: 0.0700 - val_sparse_recon_loss_mse: 0.0449 - val_sparse_recon_loss_abs: 0.1151 - val_sparse_recon_loss_var: 0.0811\n",
      "Epoch 5/100\n",
      "125204/125204 [==============================] - 1s 9us/step - loss: 0.0510 - sparse_recon_loss_mse: 0.0316 - sparse_recon_loss_abs: 0.0986 - sparse_recon_loss_var: 0.0570 - val_loss: 0.0682 - val_sparse_recon_loss_mse: 0.0432 - val_sparse_recon_loss_abs: 0.1121 - val_sparse_recon_loss_var: 0.0794\n",
      "Epoch 6/100\n",
      "125204/125204 [==============================] - 1s 9us/step - loss: 0.0495 - sparse_recon_loss_mse: 0.0306 - sparse_recon_loss_abs: 0.0966 - sparse_recon_loss_var: 0.0553 - val_loss: 0.0673 - val_sparse_recon_loss_mse: 0.0424 - val_sparse_recon_loss_abs: 0.1095 - val_sparse_recon_loss_var: 0.0788\n",
      "Epoch 7/100\n",
      "125204/125204 [==============================] - 1s 9us/step - loss: 0.0484 - sparse_recon_loss_mse: 0.0297 - sparse_recon_loss_abs: 0.0948 - sparse_recon_loss_var: 0.0540 - val_loss: 0.0664 - val_sparse_recon_loss_mse: 0.0417 - val_sparse_recon_loss_abs: 0.1089 - val_sparse_recon_loss_var: 0.0776\n",
      "Epoch 8/100\n",
      "125204/125204 [==============================] - 1s 9us/step - loss: 0.0476 - sparse_recon_loss_mse: 0.0292 - sparse_recon_loss_abs: 0.0937 - sparse_recon_loss_var: 0.0531 - val_loss: 0.0657 - val_sparse_recon_loss_mse: 0.0409 - val_sparse_recon_loss_abs: 0.1066 - val_sparse_recon_loss_var: 0.0773\n",
      "Epoch 9/100\n",
      "125204/125204 [==============================] - 1s 9us/step - loss: 0.0468 - sparse_recon_loss_mse: 0.0286 - sparse_recon_loss_abs: 0.0923 - sparse_recon_loss_var: 0.0522 - val_loss: 0.0654 - val_sparse_recon_loss_mse: 0.0406 - val_sparse_recon_loss_abs: 0.1058 - val_sparse_recon_loss_var: 0.0772\n",
      "Epoch 10/100\n",
      "125204/125204 [==============================] - 1s 9us/step - loss: 0.0462 - sparse_recon_loss_mse: 0.0282 - sparse_recon_loss_abs: 0.0915 - sparse_recon_loss_var: 0.0516 - val_loss: 0.0652 - val_sparse_recon_loss_mse: 0.0403 - val_sparse_recon_loss_abs: 0.1056 - val_sparse_recon_loss_var: 0.0771\n",
      "Epoch 11/100\n",
      "125204/125204 [==============================] - 1s 9us/step - loss: 0.0457 - sparse_recon_loss_mse: 0.0278 - sparse_recon_loss_abs: 0.0906 - sparse_recon_loss_var: 0.0510 - val_loss: 0.0646 - val_sparse_recon_loss_mse: 0.0399 - val_sparse_recon_loss_abs: 0.1040 - val_sparse_recon_loss_var: 0.0765\n",
      "Epoch 12/100\n",
      "125204/125204 [==============================] - 1s 9us/step - loss: 0.0451 - sparse_recon_loss_mse: 0.0274 - sparse_recon_loss_abs: 0.0897 - sparse_recon_loss_var: 0.0503 - val_loss: 0.0648 - val_sparse_recon_loss_mse: 0.0399 - val_sparse_recon_loss_abs: 0.1044 - val_sparse_recon_loss_var: 0.0768\n",
      "Epoch 13/100\n",
      "125204/125204 [==============================] - 1s 9us/step - loss: 0.0446 - sparse_recon_loss_mse: 0.0270 - sparse_recon_loss_abs: 0.0890 - sparse_recon_loss_var: 0.0498 - val_loss: 0.0642 - val_sparse_recon_loss_mse: 0.0392 - val_sparse_recon_loss_abs: 0.1029 - val_sparse_recon_loss_var: 0.0765\n",
      "Epoch 14/100\n",
      "125204/125204 [==============================] - 1s 9us/step - loss: 0.0442 - sparse_recon_loss_mse: 0.0267 - sparse_recon_loss_abs: 0.0884 - sparse_recon_loss_var: 0.0493 - val_loss: 0.0641 - val_sparse_recon_loss_mse: 0.0390 - val_sparse_recon_loss_abs: 0.1021 - val_sparse_recon_loss_var: 0.0766\n",
      "Epoch 15/100\n",
      "125204/125204 [==============================] - 1s 9us/step - loss: 0.0437 - sparse_recon_loss_mse: 0.0263 - sparse_recon_loss_abs: 0.0874 - sparse_recon_loss_var: 0.0489 - val_loss: 0.0639 - val_sparse_recon_loss_mse: 0.0388 - val_sparse_recon_loss_abs: 0.1017 - val_sparse_recon_loss_var: 0.0763\n",
      "Epoch 16/100\n",
      "125204/125204 [==============================] - 1s 9us/step - loss: 0.0434 - sparse_recon_loss_mse: 0.0261 - sparse_recon_loss_abs: 0.0870 - sparse_recon_loss_var: 0.0485 - val_loss: 0.0637 - val_sparse_recon_loss_mse: 0.0386 - val_sparse_recon_loss_abs: 0.1014 - val_sparse_recon_loss_var: 0.0763\n",
      "Epoch 17/100\n",
      "125204/125204 [==============================] - 1s 9us/step - loss: 0.0430 - sparse_recon_loss_mse: 0.0259 - sparse_recon_loss_abs: 0.0864 - sparse_recon_loss_var: 0.0481 - val_loss: 0.0634 - val_sparse_recon_loss_mse: 0.0383 - val_sparse_recon_loss_abs: 0.1003 - val_sparse_recon_loss_var: 0.0761\n",
      "Epoch 18/100\n",
      "125204/125204 [==============================] - 1s 9us/step - loss: 0.0427 - sparse_recon_loss_mse: 0.0256 - sparse_recon_loss_abs: 0.0858 - sparse_recon_loss_var: 0.0477 - val_loss: 0.0633 - val_sparse_recon_loss_mse: 0.0382 - val_sparse_recon_loss_abs: 0.1001 - val_sparse_recon_loss_var: 0.0761\n",
      "Epoch 19/100\n",
      "125204/125204 [==============================] - 1s 9us/step - loss: 0.0424 - sparse_recon_loss_mse: 0.0254 - sparse_recon_loss_abs: 0.0854 - sparse_recon_loss_var: 0.0474 - val_loss: 0.0632 - val_sparse_recon_loss_mse: 0.0380 - val_sparse_recon_loss_abs: 0.0998 - val_sparse_recon_loss_var: 0.0760\n",
      "Epoch 20/100\n",
      "125204/125204 [==============================] - 1s 9us/step - loss: 0.0421 - sparse_recon_loss_mse: 0.0252 - sparse_recon_loss_abs: 0.0849 - sparse_recon_loss_var: 0.0471 - val_loss: 0.0632 - val_sparse_recon_loss_mse: 0.0379 - val_sparse_recon_loss_abs: 0.0992 - val_sparse_recon_loss_var: 0.0763\n",
      "Epoch 21/100\n",
      "125204/125204 [==============================] - 1s 9us/step - loss: 0.0419 - sparse_recon_loss_mse: 0.0250 - sparse_recon_loss_abs: 0.0843 - sparse_recon_loss_var: 0.0469 - val_loss: 0.0630 - val_sparse_recon_loss_mse: 0.0377 - val_sparse_recon_loss_abs: 0.0988 - val_sparse_recon_loss_var: 0.0761\n",
      "Epoch 22/100\n",
      "125204/125204 [==============================] - 1s 9us/step - loss: 0.0416 - sparse_recon_loss_mse: 0.0248 - sparse_recon_loss_abs: 0.0840 - sparse_recon_loss_var: 0.0466 - val_loss: 0.0630 - val_sparse_recon_loss_mse: 0.0376 - val_sparse_recon_loss_abs: 0.0987 - val_sparse_recon_loss_var: 0.0762\n",
      "Epoch 23/100\n",
      "125204/125204 [==============================] - 1s 9us/step - loss: 0.0413 - sparse_recon_loss_mse: 0.0246 - sparse_recon_loss_abs: 0.0835 - sparse_recon_loss_var: 0.0463 - val_loss: 0.0629 - val_sparse_recon_loss_mse: 0.0375 - val_sparse_recon_loss_abs: 0.0985 - val_sparse_recon_loss_var: 0.0760\n",
      "Epoch 24/100\n",
      "125204/125204 [==============================] - 1s 9us/step - loss: 0.0411 - sparse_recon_loss_mse: 0.0244 - sparse_recon_loss_abs: 0.0832 - sparse_recon_loss_var: 0.0460 - val_loss: 0.0629 - val_sparse_recon_loss_mse: 0.0374 - val_sparse_recon_loss_abs: 0.0980 - val_sparse_recon_loss_var: 0.0763\n",
      "Epoch 25/100\n",
      "125204/125204 [==============================] - 1s 9us/step - loss: 0.0410 - sparse_recon_loss_mse: 0.0243 - sparse_recon_loss_abs: 0.0828 - sparse_recon_loss_var: 0.0459 - val_loss: 0.0630 - val_sparse_recon_loss_mse: 0.0375 - val_sparse_recon_loss_abs: 0.0978 - val_sparse_recon_loss_var: 0.0764\n",
      "Epoch 26/100\n",
      "125204/125204 [==============================] - 1s 9us/step - loss: 0.0407 - sparse_recon_loss_mse: 0.0242 - sparse_recon_loss_abs: 0.0826 - sparse_recon_loss_var: 0.0456 - val_loss: 0.0626 - val_sparse_recon_loss_mse: 0.0372 - val_sparse_recon_loss_abs: 0.0971 - val_sparse_recon_loss_var: 0.0761\n",
      "Epoch 27/100\n"
     ]
    },
    {
     "name": "stdout",
     "output_type": "stream",
     "text": [
      "125204/125204 [==============================] - 1s 9us/step - loss: 0.0405 - sparse_recon_loss_mse: 0.0240 - sparse_recon_loss_abs: 0.0821 - sparse_recon_loss_var: 0.0454 - val_loss: 0.0626 - val_sparse_recon_loss_mse: 0.0371 - val_sparse_recon_loss_abs: 0.0975 - val_sparse_recon_loss_var: 0.0761\n",
      "Epoch 28/100\n",
      "125204/125204 [==============================] - 1s 9us/step - loss: 0.0403 - sparse_recon_loss_mse: 0.0239 - sparse_recon_loss_abs: 0.0819 - sparse_recon_loss_var: 0.0452 - val_loss: 0.0624 - val_sparse_recon_loss_mse: 0.0369 - val_sparse_recon_loss_abs: 0.0968 - val_sparse_recon_loss_var: 0.0759\n",
      "Epoch 29/100\n",
      "125204/125204 [==============================] - 1s 9us/step - loss: 0.0401 - sparse_recon_loss_mse: 0.0237 - sparse_recon_loss_abs: 0.0816 - sparse_recon_loss_var: 0.0450 - val_loss: 0.0625 - val_sparse_recon_loss_mse: 0.0369 - val_sparse_recon_loss_abs: 0.0966 - val_sparse_recon_loss_var: 0.0762\n",
      "Epoch 30/100\n",
      "125204/125204 [==============================] - 1s 9us/step - loss: 0.0400 - sparse_recon_loss_mse: 0.0236 - sparse_recon_loss_abs: 0.0813 - sparse_recon_loss_var: 0.0448 - val_loss: 0.0623 - val_sparse_recon_loss_mse: 0.0367 - val_sparse_recon_loss_abs: 0.0962 - val_sparse_recon_loss_var: 0.0759\n",
      "Epoch 31/100\n",
      "125204/125204 [==============================] - 1s 9us/step - loss: 0.0398 - sparse_recon_loss_mse: 0.0235 - sparse_recon_loss_abs: 0.0811 - sparse_recon_loss_var: 0.0446 - val_loss: 0.0624 - val_sparse_recon_loss_mse: 0.0368 - val_sparse_recon_loss_abs: 0.0961 - val_sparse_recon_loss_var: 0.0762\n",
      "Epoch 32/100\n",
      "125204/125204 [==============================] - 1s 9us/step - loss: 0.0396 - sparse_recon_loss_mse: 0.0233 - sparse_recon_loss_abs: 0.0808 - sparse_recon_loss_var: 0.0444 - val_loss: 0.0625 - val_sparse_recon_loss_mse: 0.0367 - val_sparse_recon_loss_abs: 0.0961 - val_sparse_recon_loss_var: 0.0764\n",
      "Epoch 33/100\n",
      "125204/125204 [==============================] - 1s 9us/step - loss: 0.0394 - sparse_recon_loss_mse: 0.0232 - sparse_recon_loss_abs: 0.0806 - sparse_recon_loss_var: 0.0442 - val_loss: 0.0624 - val_sparse_recon_loss_mse: 0.0367 - val_sparse_recon_loss_abs: 0.0959 - val_sparse_recon_loss_var: 0.0762\n",
      "Epoch 34/100\n",
      "125204/125204 [==============================] - 1s 9us/step - loss: 0.0393 - sparse_recon_loss_mse: 0.0231 - sparse_recon_loss_abs: 0.0803 - sparse_recon_loss_var: 0.0440 - val_loss: 0.0627 - val_sparse_recon_loss_mse: 0.0367 - val_sparse_recon_loss_abs: 0.0961 - val_sparse_recon_loss_var: 0.0768\n",
      "Epoch 35/100\n",
      "125204/125204 [==============================] - 1s 9us/step - loss: 0.0392 - sparse_recon_loss_mse: 0.0231 - sparse_recon_loss_abs: 0.0802 - sparse_recon_loss_var: 0.0439 - val_loss: 0.0626 - val_sparse_recon_loss_mse: 0.0366 - val_sparse_recon_loss_abs: 0.0955 - val_sparse_recon_loss_var: 0.0768\n",
      "Epoch 00035: early stopping\n"
     ]
    }
   ],
   "source": [
    "layers=model_3h(x_train,drop_ra=0.0,l1_reg=0, g_noise=0.05, ker_init=ker_init,nodes=nodes)\n",
    "\n",
    "ae_321632_var=autoencoder(layers,name='321632',**train_dic)\n",
    "\n",
    "loss_combi_var=make_loss_combi(0.5,sparse_recon_loss_combi,sparse_recon_loss_var)\n",
    "\n",
    "ae_321632_var.loss=loss_combi_var\n",
    "ae_321632_var.compile()\n",
    "ae_321632_var.fit()"
   ]
  },
  {
   "cell_type": "code",
   "execution_count": 17,
   "metadata": {},
   "outputs": [
    {
     "data": {
      "image/png": "[encoded data removed]",
      "text/plain": [
       "<Figure size 432x288 with 1 Axes>"
      ]
     },
     "metadata": {},
     "output_type": "display_data"
    }
   ],
   "source": [
    "fig1, losses,fake_losses=compare_fit_with_fake_data(ae_321632_var,x_test,x_fake,loss=loss)"
   ]
  },
  {
   "cell_type": "code",
   "execution_count": 13,
   "metadata": {},
   "outputs": [
    {
     "name": "stdout",
     "output_type": "stream",
     "text": [
      "1127.0\n",
      "3353.0\n",
      "7000\n"
     ]
    }
   ],
   "source": [
    "total_error_rate,type1_error_rate,type2_error_rate, clf=fit_model(losses,fake_losses)"
   ]
  },
  {
   "cell_type": "code",
   "execution_count": null,
   "metadata": {},
   "outputs": [],
   "source": []
  }
 ],
 "metadata": {
  "kernelspec": {
   "display_name": "Python 3",
   "language": "python",
   "name": "python3"
  },
  "language_info": {
   "codemirror_mode": {
    "name": "ipython",
    "version": 3
   },
   "file_extension": ".py",
   "mimetype": "text/x-python",
   "name": "python",
   "nbconvert_exporter": "python",
   "pygments_lexer": "ipython3",
   "version": "3.5.5"
  }
 },
 "nbformat": 4,
 "nbformat_minor": 2
}
