{
 "cells": [
  {
   "cell_type": "code",
   "execution_count": 1,
   "metadata": {},
   "outputs": [
    {
     "name": "stderr",
     "output_type": "stream",
     "text": [
      "/home/anywayed/anaconda3/envs/keras/lib/python3.5/site-packages/h5py/__init__.py:36: FutureWarning: Conversion of the second argument of issubdtype from `float` to `np.floating` is deprecated. In future, it will be treated as `np.float64 == np.dtype(float).type`.\n",
      "  from ._conv import register_converters as _register_converters\n",
      "Using TensorFlow backend.\n"
     ]
    }
   ],
   "source": [
    "from numpy.random import seed\n",
    "seed(35)\n",
    "from tensorflow import set_random_seed\n",
    "set_random_seed(35)\n",
    "\n",
    "from keras import backend as K\n",
    "from keras.callbacks import EarlyStopping\n",
    "from keras.losses import  binary_crossentropy\n",
    "\n",
    "import numpy as np\n",
    "import pandas as pd\n",
    "import matplotlib.pyplot as plt\n",
    "import argparse\n",
    "import os\n",
    "\n",
    "from custom_loss import (recon_loss_abs, make_recon_loss_combi,sparse_recon_loss_abs,\n",
    "                         make_sparse_recon_loss_combi,\n",
    "                         sparse_recon_loss_mse, make_sparse_recon_loss_var)\n",
    "\n",
    "from Autoencoders import autoencoder\n",
    "\n",
    "from general_loader import ds_from_db\n",
    "from data_manipulation import remove_outlier, augment_x_linear,augment_x,split_data_X_Y\n",
    "from sklearn.model_selection import train_test_split\n",
    "from keras.optimizers import Adam\n",
    "from keras.initializers import glorot_normal\n"
   ]
  },
  {
   "cell_type": "code",
   "execution_count": 17,
   "metadata": {},
   "outputs": [],
   "source": [
    "from gan_nw_2 import generator_nw,discriminator_nw,gan_nw\n",
    "from gan_utils import Discrim_pre_train, train_for_n, plot_loss, train_for_n_mono"
   ]
  },
  {
   "cell_type": "code",
   "execution_count": 5,
   "metadata": {},
   "outputs": [
    {
     "name": "stdout",
     "output_type": "stream",
     "text": [
      "Number of records dropped where no normaliser: 326\n",
      "Number of records dropped where no normaliser: 119\n"
     ]
    }
   ],
   "source": [
    "ds_dic={'pickle_file':'ds180704'}\n",
    "ds=ds_from_db(**ds_dic)\n",
    "ds.normalise(['pAssets','pLiabilitiesAndStockholdersEquity'],reorder=True,inplace=True)\n",
    "ds.normalise(['pAssets','pLiabilitiesAndStockholdersEquity'],reorder=True,inplace=True)"
   ]
  },
  {
   "cell_type": "code",
   "execution_count": 6,
   "metadata": {},
   "outputs": [
    {
     "name": "stderr",
     "output_type": "stream",
     "text": [
      "/home/anywayed/Documents/dis/secTools/data_manipulation.py:32: RuntimeWarning: invalid value encountered in greater\n",
      "  X[np.abs(X)>level_x]=np.nan\n"
     ]
    }
   ],
   "source": [
    "X,Y,idx,cols=split_data_X_Y(ds.FT.replace([np.inf, -np.inf], np.nan),['Revenues'])\n",
    "XY,idx=remove_outlier(np.concatenate((X,Y),axis=1),2.5,Y=idx,y_thresh=True)\n",
    "X[np.isnan(X)]=0\n",
    "\n",
    "#dump zero y rows\n",
    "tf=XY[:,200]!=0\n",
    "XY=XY[tf]\n",
    "idx=idx[tf]\n",
    "\n",
    "#X=XY[:,0:199]\n",
    "#Y=XY[:,200].reshape((XY.shape[0],1))\n",
    "\n",
    "#check there is at least one dp for every record\n",
    "assert all(np.sum(XY!=0,axis=1)>0)\n",
    "\n",
    "\n",
    "\n",
    "amal_train,amal_test,idx_train,idx_test=train_test_split(XY,idx,test_size=0.25,random_state=30)\n",
    "x_train=amal_train[:,0:199]\n",
    "x_test=amal_test[:,0:199]\n",
    "y_test=amal_test[:,200].reshape((x_test.shape[0],1))\n",
    "y_train=amal_train[:,200].reshape((x_train.shape[0],1))"
   ]
  },
  {
   "cell_type": "code",
   "execution_count": 7,
   "metadata": {},
   "outputs": [],
   "source": [
    "sparse_recon_loss_combi=make_sparse_recon_loss_combi(0.8)\n",
    "sparse_recon_loss_var=make_sparse_recon_loss_var(sparse_recon_loss_combi)\n",
    "\n",
    "loss=sparse_recon_loss_combi\n",
    "\n",
    "metrics=[sparse_recon_loss_mse,sparse_recon_loss_abs,sparse_recon_loss_var]\n",
    "\n",
    "#early stop setting below is default but explicitly stated here\n",
    "ES=EarlyStopping(monitor='sparse_recon_loss_combi_loss', min_delta=0.0001, patience=5, verbose=1, mode='auto')\n",
    "\n",
    "\n",
    "train_dic={\n",
    "           'epochs':100,'batch_size':128\n",
    "          }"
   ]
  },
  {
   "cell_type": "code",
   "execution_count": 8,
   "metadata": {},
   "outputs": [],
   "source": [
    "ker_init=glorot_normal(seed=22)\n",
    "layer_p_dic={'drop_ra':0.1, 'g_noise':0.05, 'ker_init':ker_init}"
   ]
  },
  {
   "cell_type": "code",
   "execution_count": 236,
   "metadata": {},
   "outputs": [],
   "source": [
    "K.clear_session()"
   ]
  },
  {
   "cell_type": "code",
   "execution_count": 9,
   "metadata": {},
   "outputs": [
    {
     "name": "stdout",
     "output_type": "stream",
     "text": [
      "64\n",
      "__________________________________________________________________________________________________\n",
      "Layer (type)                    Output Shape         Param #     Connected to                     \n",
      "==================================================================================================\n",
      "financial_cond_input (InputLaye (None, 199)          0                                            \n",
      "__________________________________________________________________________________________________\n",
      "financial_manip (InputLayer)    (None, 1)            0                                            \n",
      "__________________________________________________________________________________________________\n",
      "concatenate_1 (Concatenate)     (None, 200)          0           financial_cond_input[0][0]       \n",
      "                                                                 financial_manip[0][0]            \n",
      "__________________________________________________________________________________________________\n",
      "H1_dropout (Dropout)            (None, 200)          0           concatenate_1[0][0]              \n",
      "__________________________________________________________________________________________________\n",
      "H1_noise (GaussianNoise)        (None, 200)          0           H1_dropout[0][0]                 \n",
      "__________________________________________________________________________________________________\n",
      "H1_layer (Dense)                (None, 64)           12864       H1_noise[0][0]                   \n",
      "__________________________________________________________________________________________________\n",
      "H1_activation (PReLU)           (None, 64)           64          H1_layer[0][0]                   \n",
      "__________________________________________________________________________________________________\n",
      "H1_batch_norm (BatchNormalizati (None, 64)           256         H1_activation[0][0]              \n",
      "__________________________________________________________________________________________________\n",
      "H2_dropout (Dropout)            (None, 64)           0           H1_batch_norm[0][0]              \n",
      "__________________________________________________________________________________________________\n",
      "H12_noise (GaussianNoise)       (None, 64)           0           H2_dropout[0][0]                 \n",
      "__________________________________________________________________________________________________\n",
      "H2_layer (Dense)                (None, 16)           1040        H12_noise[0][0]                  \n",
      "__________________________________________________________________________________________________\n",
      "H2_activation (PReLU)           (None, 16)           16          H2_layer[0][0]                   \n",
      "__________________________________________________________________________________________________\n",
      "H2_batch_norm (BatchNormalizati (None, 16)           64          H2_activation[0][0]              \n",
      "__________________________________________________________________________________________________\n",
      "H3_layer (Dense)                (None, 64)           1088        H2_batch_norm[0][0]              \n",
      "__________________________________________________________________________________________________\n",
      "H3_activation (PReLU)           (None, 64)           64          H3_layer[0][0]                   \n",
      "__________________________________________________________________________________________________\n",
      "Output_layer (Dense)            (None, 199)          12935       H3_activation[0][0]              \n",
      "__________________________________________________________________________________________________\n",
      "concatenate_2 (Concatenate)     (None, 200)          0           Output_layer[0][0]               \n",
      "                                                                 financial_manip[0][0]            \n",
      "==================================================================================================\n",
      "Total params: 28,391\n",
      "Trainable params: 28,231\n",
      "Non-trainable params: 160\n",
      "__________________________________________________________________________________________________\n",
      "Train on 2339 samples, validate on 780 samples\n",
      "Epoch 1/50\n",
      "2339/2339 [==============================] - 1s 518us/step - loss: 0.2165 - sparse_recon_loss_mse: 0.2001 - sparse_recon_loss_abs: 0.2820 - sparse_recon_loss_var: 0.1920 - val_loss: 0.1560 - val_sparse_recon_loss_mse: 0.1398 - val_sparse_recon_loss_abs: 0.2207 - val_sparse_recon_loss_var: 0.1466\n",
      "Epoch 2/50\n",
      "2339/2339 [==============================] - 0s 41us/step - loss: 0.1381 - sparse_recon_loss_mse: 0.1208 - sparse_recon_loss_abs: 0.2074 - sparse_recon_loss_var: 0.1226 - val_loss: 0.1123 - val_sparse_recon_loss_mse: 0.0958 - val_sparse_recon_loss_abs: 0.1784 - val_sparse_recon_loss_var: 0.1129\n",
      "Epoch 3/50\n",
      "2339/2339 [==============================] - 0s 41us/step - loss: 0.1023 - sparse_recon_loss_mse: 0.0856 - sparse_recon_loss_abs: 0.1694 - sparse_recon_loss_var: 0.0994 - val_loss: 0.0876 - val_sparse_recon_loss_mse: 0.0713 - val_sparse_recon_loss_abs: 0.1531 - val_sparse_recon_loss_var: 0.1008\n",
      "Epoch 4/50\n",
      "2339/2339 [==============================] - 0s 41us/step - loss: 0.0823 - sparse_recon_loss_mse: 0.0663 - sparse_recon_loss_abs: 0.1462 - sparse_recon_loss_var: 0.0907 - val_loss: 0.0738 - val_sparse_recon_loss_mse: 0.0583 - val_sparse_recon_loss_abs: 0.1360 - val_sparse_recon_loss_var: 0.0946\n",
      "Epoch 5/50\n",
      "2339/2339 [==============================] - 0s 35us/step - loss: 0.0705 - sparse_recon_loss_mse: 0.0557 - sparse_recon_loss_abs: 0.1295 - sparse_recon_loss_var: 0.0868 - val_loss: 0.0664 - val_sparse_recon_loss_mse: 0.0518 - val_sparse_recon_loss_abs: 0.1250 - val_sparse_recon_loss_var: 0.0892\n",
      "Epoch 6/50\n",
      "2339/2339 [==============================] - 0s 35us/step - loss: 0.0636 - sparse_recon_loss_mse: 0.0497 - sparse_recon_loss_abs: 0.1193 - sparse_recon_loss_var: 0.0815 - val_loss: 0.0619 - val_sparse_recon_loss_mse: 0.0480 - val_sparse_recon_loss_abs: 0.1176 - val_sparse_recon_loss_var: 0.0850\n",
      "Epoch 7/50\n",
      "2339/2339 [==============================] - 0s 37us/step - loss: 0.0598 - sparse_recon_loss_mse: 0.0466 - sparse_recon_loss_abs: 0.1126 - sparse_recon_loss_var: 0.0797 - val_loss: 0.0578 - val_sparse_recon_loss_mse: 0.0444 - val_sparse_recon_loss_abs: 0.1114 - val_sparse_recon_loss_var: 0.0811\n",
      "Epoch 8/50\n",
      "2339/2339 [==============================] - 0s 34us/step - loss: 0.0568 - sparse_recon_loss_mse: 0.0439 - sparse_recon_loss_abs: 0.1082 - sparse_recon_loss_var: 0.0760 - val_loss: 0.0551 - val_sparse_recon_loss_mse: 0.0422 - val_sparse_recon_loss_abs: 0.1071 - val_sparse_recon_loss_var: 0.0785\n",
      "Epoch 9/50\n",
      "2339/2339 [==============================] - 0s 37us/step - loss: 0.0542 - sparse_recon_loss_mse: 0.0418 - sparse_recon_loss_abs: 0.1041 - sparse_recon_loss_var: 0.0732 - val_loss: 0.0526 - val_sparse_recon_loss_mse: 0.0400 - val_sparse_recon_loss_abs: 0.1029 - val_sparse_recon_loss_var: 0.0760\n",
      "Epoch 10/50\n",
      "2339/2339 [==============================] - 0s 35us/step - loss: 0.0523 - sparse_recon_loss_mse: 0.0400 - sparse_recon_loss_abs: 0.1014 - sparse_recon_loss_var: 0.0705 - val_loss: 0.0505 - val_sparse_recon_loss_mse: 0.0383 - val_sparse_recon_loss_abs: 0.0993 - val_sparse_recon_loss_var: 0.0740\n",
      "Epoch 11/50\n",
      "2339/2339 [==============================] - 0s 36us/step - loss: 0.0512 - sparse_recon_loss_mse: 0.0391 - sparse_recon_loss_abs: 0.0998 - sparse_recon_loss_var: 0.0697 - val_loss: 0.0488 - val_sparse_recon_loss_mse: 0.0368 - val_sparse_recon_loss_abs: 0.0964 - val_sparse_recon_loss_var: 0.0725\n",
      "Epoch 12/50\n",
      "2339/2339 [==============================] - 0s 37us/step - loss: 0.0493 - sparse_recon_loss_mse: 0.0373 - sparse_recon_loss_abs: 0.0969 - sparse_recon_loss_var: 0.0669 - val_loss: 0.0472 - val_sparse_recon_loss_mse: 0.0355 - val_sparse_recon_loss_abs: 0.0940 - val_sparse_recon_loss_var: 0.0707\n",
      "Epoch 13/50\n",
      "2339/2339 [==============================] - 0s 41us/step - loss: 0.0485 - sparse_recon_loss_mse: 0.0367 - sparse_recon_loss_abs: 0.0958 - sparse_recon_loss_var: 0.0671 - val_loss: 0.0458 - val_sparse_recon_loss_mse: 0.0344 - val_sparse_recon_loss_abs: 0.0915 - val_sparse_recon_loss_var: 0.0695\n",
      "Epoch 14/50\n"
     ]
    },
    {
     "name": "stdout",
     "output_type": "stream",
     "text": [
      "2339/2339 [==============================] - 0s 42us/step - loss: 0.0472 - sparse_recon_loss_mse: 0.0357 - sparse_recon_loss_abs: 0.0935 - sparse_recon_loss_var: 0.0658 - val_loss: 0.0445 - val_sparse_recon_loss_mse: 0.0334 - val_sparse_recon_loss_abs: 0.0892 - val_sparse_recon_loss_var: 0.0687\n",
      "Epoch 15/50\n",
      "2339/2339 [==============================] - 0s 36us/step - loss: 0.0463 - sparse_recon_loss_mse: 0.0346 - sparse_recon_loss_abs: 0.0930 - sparse_recon_loss_var: 0.0630 - val_loss: 0.0436 - val_sparse_recon_loss_mse: 0.0326 - val_sparse_recon_loss_abs: 0.0876 - val_sparse_recon_loss_var: 0.0679\n",
      "Epoch 16/50\n",
      "2339/2339 [==============================] - 0s 35us/step - loss: 0.0450 - sparse_recon_loss_mse: 0.0335 - sparse_recon_loss_abs: 0.0908 - sparse_recon_loss_var: 0.0614 - val_loss: 0.0430 - val_sparse_recon_loss_mse: 0.0320 - val_sparse_recon_loss_abs: 0.0870 - val_sparse_recon_loss_var: 0.0670\n",
      "Epoch 17/50\n",
      "2339/2339 [==============================] - 0s 33us/step - loss: 0.0442 - sparse_recon_loss_mse: 0.0327 - sparse_recon_loss_abs: 0.0898 - sparse_recon_loss_var: 0.0606 - val_loss: 0.0418 - val_sparse_recon_loss_mse: 0.0311 - val_sparse_recon_loss_abs: 0.0846 - val_sparse_recon_loss_var: 0.0661\n",
      "Epoch 18/50\n",
      "2339/2339 [==============================] - 0s 34us/step - loss: 0.0434 - sparse_recon_loss_mse: 0.0321 - sparse_recon_loss_abs: 0.0888 - sparse_recon_loss_var: 0.0587 - val_loss: 0.0410 - val_sparse_recon_loss_mse: 0.0304 - val_sparse_recon_loss_abs: 0.0836 - val_sparse_recon_loss_var: 0.0653\n",
      "Epoch 19/50\n",
      "2339/2339 [==============================] - 0s 38us/step - loss: 0.0426 - sparse_recon_loss_mse: 0.0313 - sparse_recon_loss_abs: 0.0877 - sparse_recon_loss_var: 0.0579 - val_loss: 0.0405 - val_sparse_recon_loss_mse: 0.0299 - val_sparse_recon_loss_abs: 0.0827 - val_sparse_recon_loss_var: 0.0646\n",
      "Epoch 20/50\n",
      "2339/2339 [==============================] - 0s 38us/step - loss: 0.0418 - sparse_recon_loss_mse: 0.0305 - sparse_recon_loss_abs: 0.0868 - sparse_recon_loss_var: 0.0573 - val_loss: 0.0396 - val_sparse_recon_loss_mse: 0.0292 - val_sparse_recon_loss_abs: 0.0813 - val_sparse_recon_loss_var: 0.0636\n",
      "Epoch 21/50\n",
      "2339/2339 [==============================] - 0s 38us/step - loss: 0.0416 - sparse_recon_loss_mse: 0.0305 - sparse_recon_loss_abs: 0.0859 - sparse_recon_loss_var: 0.0575 - val_loss: 0.0393 - val_sparse_recon_loss_mse: 0.0289 - val_sparse_recon_loss_abs: 0.0809 - val_sparse_recon_loss_var: 0.0630\n",
      "Epoch 22/50\n",
      "2339/2339 [==============================] - 0s 33us/step - loss: 0.0407 - sparse_recon_loss_mse: 0.0296 - sparse_recon_loss_abs: 0.0853 - sparse_recon_loss_var: 0.0555 - val_loss: 0.0385 - val_sparse_recon_loss_mse: 0.0283 - val_sparse_recon_loss_abs: 0.0795 - val_sparse_recon_loss_var: 0.0621\n",
      "Epoch 23/50\n",
      "2339/2339 [==============================] - 0s 35us/step - loss: 0.0403 - sparse_recon_loss_mse: 0.0292 - sparse_recon_loss_abs: 0.0847 - sparse_recon_loss_var: 0.0540 - val_loss: 0.0383 - val_sparse_recon_loss_mse: 0.0281 - val_sparse_recon_loss_abs: 0.0791 - val_sparse_recon_loss_var: 0.0621\n",
      "Epoch 24/50\n",
      "2339/2339 [==============================] - 0s 35us/step - loss: 0.0394 - sparse_recon_loss_mse: 0.0284 - sparse_recon_loss_abs: 0.0834 - sparse_recon_loss_var: 0.0527 - val_loss: 0.0375 - val_sparse_recon_loss_mse: 0.0274 - val_sparse_recon_loss_abs: 0.0779 - val_sparse_recon_loss_var: 0.0609\n",
      "Epoch 25/50\n",
      "2339/2339 [==============================] - 0s 34us/step - loss: 0.0395 - sparse_recon_loss_mse: 0.0285 - sparse_recon_loss_abs: 0.0833 - sparse_recon_loss_var: 0.0543 - val_loss: 0.0372 - val_sparse_recon_loss_mse: 0.0272 - val_sparse_recon_loss_abs: 0.0771 - val_sparse_recon_loss_var: 0.0612\n",
      "Epoch 26/50\n",
      "2339/2339 [==============================] - 0s 33us/step - loss: 0.0388 - sparse_recon_loss_mse: 0.0279 - sparse_recon_loss_abs: 0.0825 - sparse_recon_loss_var: 0.0519 - val_loss: 0.0369 - val_sparse_recon_loss_mse: 0.0268 - val_sparse_recon_loss_abs: 0.0770 - val_sparse_recon_loss_var: 0.0609\n",
      "Epoch 27/50\n",
      "2339/2339 [==============================] - 0s 33us/step - loss: 0.0386 - sparse_recon_loss_mse: 0.0277 - sparse_recon_loss_abs: 0.0821 - sparse_recon_loss_var: 0.0517 - val_loss: 0.0365 - val_sparse_recon_loss_mse: 0.0266 - val_sparse_recon_loss_abs: 0.0761 - val_sparse_recon_loss_var: 0.0604\n",
      "Epoch 28/50\n",
      "2339/2339 [==============================] - 0s 33us/step - loss: 0.0380 - sparse_recon_loss_mse: 0.0271 - sparse_recon_loss_abs: 0.0815 - sparse_recon_loss_var: 0.0506 - val_loss: 0.0360 - val_sparse_recon_loss_mse: 0.0262 - val_sparse_recon_loss_abs: 0.0752 - val_sparse_recon_loss_var: 0.0601\n",
      "Epoch 29/50\n",
      "2339/2339 [==============================] - 0s 34us/step - loss: 0.0378 - sparse_recon_loss_mse: 0.0270 - sparse_recon_loss_abs: 0.0810 - sparse_recon_loss_var: 0.0505 - val_loss: 0.0356 - val_sparse_recon_loss_mse: 0.0258 - val_sparse_recon_loss_abs: 0.0748 - val_sparse_recon_loss_var: 0.0593\n",
      "Epoch 30/50\n",
      "2339/2339 [==============================] - 0s 34us/step - loss: 0.0375 - sparse_recon_loss_mse: 0.0267 - sparse_recon_loss_abs: 0.0807 - sparse_recon_loss_var: 0.0495 - val_loss: 0.0355 - val_sparse_recon_loss_mse: 0.0258 - val_sparse_recon_loss_abs: 0.0742 - val_sparse_recon_loss_var: 0.0592\n",
      "Epoch 31/50\n",
      "2339/2339 [==============================] - 0s 34us/step - loss: 0.0373 - sparse_recon_loss_mse: 0.0267 - sparse_recon_loss_abs: 0.0800 - sparse_recon_loss_var: 0.0509 - val_loss: 0.0353 - val_sparse_recon_loss_mse: 0.0256 - val_sparse_recon_loss_abs: 0.0741 - val_sparse_recon_loss_var: 0.0594\n",
      "Epoch 32/50\n",
      "2339/2339 [==============================] - 0s 33us/step - loss: 0.0367 - sparse_recon_loss_mse: 0.0260 - sparse_recon_loss_abs: 0.0793 - sparse_recon_loss_var: 0.0493 - val_loss: 0.0346 - val_sparse_recon_loss_mse: 0.0250 - val_sparse_recon_loss_abs: 0.0731 - val_sparse_recon_loss_var: 0.0582\n",
      "Epoch 33/50\n",
      "2339/2339 [==============================] - 0s 35us/step - loss: 0.0368 - sparse_recon_loss_mse: 0.0261 - sparse_recon_loss_abs: 0.0795 - sparse_recon_loss_var: 0.0498 - val_loss: 0.0347 - val_sparse_recon_loss_mse: 0.0251 - val_sparse_recon_loss_abs: 0.0731 - val_sparse_recon_loss_var: 0.0585\n",
      "Epoch 34/50\n",
      "2339/2339 [==============================] - 0s 33us/step - loss: 0.0361 - sparse_recon_loss_mse: 0.0254 - sparse_recon_loss_abs: 0.0787 - sparse_recon_loss_var: 0.0489 - val_loss: 0.0342 - val_sparse_recon_loss_mse: 0.0247 - val_sparse_recon_loss_abs: 0.0721 - val_sparse_recon_loss_var: 0.0578\n",
      "Epoch 35/50\n",
      "2339/2339 [==============================] - 0s 33us/step - loss: 0.0365 - sparse_recon_loss_mse: 0.0259 - sparse_recon_loss_abs: 0.0792 - sparse_recon_loss_var: 0.0481 - val_loss: 0.0340 - val_sparse_recon_loss_mse: 0.0245 - val_sparse_recon_loss_abs: 0.0721 - val_sparse_recon_loss_var: 0.0575\n",
      "Epoch 36/50\n",
      "2339/2339 [==============================] - 0s 34us/step - loss: 0.0358 - sparse_recon_loss_mse: 0.0251 - sparse_recon_loss_abs: 0.0785 - sparse_recon_loss_var: 0.0472 - val_loss: 0.0339 - val_sparse_recon_loss_mse: 0.0244 - val_sparse_recon_loss_abs: 0.0719 - val_sparse_recon_loss_var: 0.0573\n",
      "Epoch 37/50\n",
      "2339/2339 [==============================] - 0s 33us/step - loss: 0.0350 - sparse_recon_loss_mse: 0.0244 - sparse_recon_loss_abs: 0.0774 - sparse_recon_loss_var: 0.0458 - val_loss: 0.0336 - val_sparse_recon_loss_mse: 0.0242 - val_sparse_recon_loss_abs: 0.0711 - val_sparse_recon_loss_var: 0.0571\n",
      "Epoch 38/50\n",
      "2339/2339 [==============================] - 0s 36us/step - loss: 0.0349 - sparse_recon_loss_mse: 0.0243 - sparse_recon_loss_abs: 0.0770 - sparse_recon_loss_var: 0.0463 - val_loss: 0.0333 - val_sparse_recon_loss_mse: 0.0239 - val_sparse_recon_loss_abs: 0.0707 - val_sparse_recon_loss_var: 0.0567\n",
      "Epoch 39/50\n",
      "2339/2339 [==============================] - 0s 34us/step - loss: 0.0347 - sparse_recon_loss_mse: 0.0242 - sparse_recon_loss_abs: 0.0767 - sparse_recon_loss_var: 0.0466 - val_loss: 0.0330 - val_sparse_recon_loss_mse: 0.0237 - val_sparse_recon_loss_abs: 0.0705 - val_sparse_recon_loss_var: 0.0562\n",
      "Epoch 40/50\n",
      "2339/2339 [==============================] - 0s 33us/step - loss: 0.0347 - sparse_recon_loss_mse: 0.0242 - sparse_recon_loss_abs: 0.0766 - sparse_recon_loss_var: 0.0459 - val_loss: 0.0327 - val_sparse_recon_loss_mse: 0.0235 - val_sparse_recon_loss_abs: 0.0699 - val_sparse_recon_loss_var: 0.0558\n"
     ]
    },
    {
     "name": "stdout",
     "output_type": "stream",
     "text": [
      "Epoch 41/50\n",
      "2339/2339 [==============================] - 0s 33us/step - loss: 0.0344 - sparse_recon_loss_mse: 0.0239 - sparse_recon_loss_abs: 0.0765 - sparse_recon_loss_var: 0.0445 - val_loss: 0.0327 - val_sparse_recon_loss_mse: 0.0233 - val_sparse_recon_loss_abs: 0.0700 - val_sparse_recon_loss_var: 0.0557\n",
      "Epoch 42/50\n",
      "2339/2339 [==============================] - 0s 34us/step - loss: 0.0343 - sparse_recon_loss_mse: 0.0239 - sparse_recon_loss_abs: 0.0760 - sparse_recon_loss_var: 0.0458 - val_loss: 0.0324 - val_sparse_recon_loss_mse: 0.0232 - val_sparse_recon_loss_abs: 0.0693 - val_sparse_recon_loss_var: 0.0553\n",
      "Epoch 43/50\n",
      "2339/2339 [==============================] - 0s 33us/step - loss: 0.0347 - sparse_recon_loss_mse: 0.0242 - sparse_recon_loss_abs: 0.0767 - sparse_recon_loss_var: 0.0453 - val_loss: 0.0327 - val_sparse_recon_loss_mse: 0.0235 - val_sparse_recon_loss_abs: 0.0696 - val_sparse_recon_loss_var: 0.0558\n",
      "Epoch 44/50\n",
      "2339/2339 [==============================] - 0s 33us/step - loss: 0.0341 - sparse_recon_loss_mse: 0.0236 - sparse_recon_loss_abs: 0.0760 - sparse_recon_loss_var: 0.0435 - val_loss: 0.0322 - val_sparse_recon_loss_mse: 0.0230 - val_sparse_recon_loss_abs: 0.0690 - val_sparse_recon_loss_var: 0.0550\n",
      "Epoch 45/50\n",
      "2339/2339 [==============================] - 0s 34us/step - loss: 0.0337 - sparse_recon_loss_mse: 0.0232 - sparse_recon_loss_abs: 0.0757 - sparse_recon_loss_var: 0.0426 - val_loss: 0.0321 - val_sparse_recon_loss_mse: 0.0230 - val_sparse_recon_loss_abs: 0.0685 - val_sparse_recon_loss_var: 0.0549\n",
      "Epoch 46/50\n",
      "2339/2339 [==============================] - 0s 33us/step - loss: 0.0329 - sparse_recon_loss_mse: 0.0225 - sparse_recon_loss_abs: 0.0744 - sparse_recon_loss_var: 0.0425 - val_loss: 0.0319 - val_sparse_recon_loss_mse: 0.0228 - val_sparse_recon_loss_abs: 0.0682 - val_sparse_recon_loss_var: 0.0547\n",
      "Epoch 47/50\n",
      "2339/2339 [==============================] - 0s 33us/step - loss: 0.0329 - sparse_recon_loss_mse: 0.0226 - sparse_recon_loss_abs: 0.0742 - sparse_recon_loss_var: 0.0431 - val_loss: 0.0317 - val_sparse_recon_loss_mse: 0.0227 - val_sparse_recon_loss_abs: 0.0678 - val_sparse_recon_loss_var: 0.0545\n",
      "Epoch 48/50\n",
      "2339/2339 [==============================] - 0s 35us/step - loss: 0.0331 - sparse_recon_loss_mse: 0.0227 - sparse_recon_loss_abs: 0.0746 - sparse_recon_loss_var: 0.0427 - val_loss: 0.0315 - val_sparse_recon_loss_mse: 0.0224 - val_sparse_recon_loss_abs: 0.0678 - val_sparse_recon_loss_var: 0.0540\n",
      "Epoch 49/50\n",
      "2339/2339 [==============================] - 0s 35us/step - loss: 0.0331 - sparse_recon_loss_mse: 0.0227 - sparse_recon_loss_abs: 0.0746 - sparse_recon_loss_var: 0.0425 - val_loss: 0.0313 - val_sparse_recon_loss_mse: 0.0223 - val_sparse_recon_loss_abs: 0.0674 - val_sparse_recon_loss_var: 0.0541\n",
      "Epoch 50/50\n",
      "2339/2339 [==============================] - 0s 34us/step - loss: 0.0329 - sparse_recon_loss_mse: 0.0227 - sparse_recon_loss_abs: 0.0739 - sparse_recon_loss_var: 0.0425 - val_loss: 0.0314 - val_sparse_recon_loss_mse: 0.0224 - val_sparse_recon_loss_abs: 0.0671 - val_sparse_recon_loss_var: 0.0545\n"
     ]
    },
    {
     "data": {
      "text/plain": [
       "<keras.callbacks.History at 0x7f8dfc0ab940>"
      ]
     },
     "execution_count": 9,
     "metadata": {},
     "output_type": "execute_result"
    }
   ],
   "source": [
    "pre_gen_compile_dic={'loss':loss,'metrics':metrics,'optimizer':Adam(lr=0.001)}\n",
    "pre_train_ae=generator_nw(x_train,**layer_p_dic,nodes=[64,16,64],y=True)\n",
    "pre_train_ae.compile(**pre_gen_compile_dic)\n",
    "pre_x_train=np.concatenate((x_train,y_train),axis=1)\n",
    "pre_x_test=np.concatenate((x_test,y_test),axis=1)\n",
    "ES=EarlyStopping(monitor='val_loss', min_delta=0.0001, patience=5, verbose=1, mode='auto')\n",
    "pre_train_ae.fit([x_train,y_train],pre_x_train,validation_data=([x_test,y_test], pre_x_test),epochs=50,batch_size=128,callbacks=[ES])"
   ]
  },
  {
   "cell_type": "code",
   "execution_count": 10,
   "metadata": {},
   "outputs": [],
   "source": [
    "weights=pre_train_ae.get_weights()"
   ]
  },
  {
   "cell_type": "code",
   "execution_count": 11,
   "metadata": {},
   "outputs": [
    {
     "name": "stdout",
     "output_type": "stream",
     "text": [
      "64\n",
      "__________________________________________________________________________________________________\n",
      "Layer (type)                    Output Shape         Param #     Connected to                     \n",
      "==================================================================================================\n",
      "financial_cond_input (InputLaye (None, 199)          0                                            \n",
      "__________________________________________________________________________________________________\n",
      "financial_manip (InputLayer)    (None, 1)            0                                            \n",
      "__________________________________________________________________________________________________\n",
      "concatenate_3 (Concatenate)     (None, 200)          0           financial_cond_input[0][0]       \n",
      "                                                                 financial_manip[0][0]            \n",
      "__________________________________________________________________________________________________\n",
      "H1_dropout (Dropout)            (None, 200)          0           concatenate_3[0][0]              \n",
      "__________________________________________________________________________________________________\n",
      "H1_noise (GaussianNoise)        (None, 200)          0           H1_dropout[0][0]                 \n",
      "__________________________________________________________________________________________________\n",
      "H1_layer (Dense)                (None, 64)           12864       H1_noise[0][0]                   \n",
      "__________________________________________________________________________________________________\n",
      "H1_activation (PReLU)           (None, 64)           64          H1_layer[0][0]                   \n",
      "__________________________________________________________________________________________________\n",
      "H1_batch_norm (BatchNormalizati (None, 64)           256         H1_activation[0][0]              \n",
      "__________________________________________________________________________________________________\n",
      "H2_dropout (Dropout)            (None, 64)           0           H1_batch_norm[0][0]              \n",
      "__________________________________________________________________________________________________\n",
      "H12_noise (GaussianNoise)       (None, 64)           0           H2_dropout[0][0]                 \n",
      "__________________________________________________________________________________________________\n",
      "H2_layer (Dense)                (None, 16)           1040        H12_noise[0][0]                  \n",
      "__________________________________________________________________________________________________\n",
      "H2_activation (PReLU)           (None, 16)           16          H2_layer[0][0]                   \n",
      "__________________________________________________________________________________________________\n",
      "H2_batch_norm (BatchNormalizati (None, 16)           64          H2_activation[0][0]              \n",
      "__________________________________________________________________________________________________\n",
      "H3_layer (Dense)                (None, 64)           1088        H2_batch_norm[0][0]              \n",
      "__________________________________________________________________________________________________\n",
      "H3_activation (PReLU)           (None, 64)           64          H3_layer[0][0]                   \n",
      "__________________________________________________________________________________________________\n",
      "Output_layer (Dense)            (None, 199)          12935       H3_activation[0][0]              \n",
      "__________________________________________________________________________________________________\n",
      "concatenate_4 (Concatenate)     (None, 200)          0           Output_layer[0][0]               \n",
      "                                                                 financial_manip[0][0]            \n",
      "==================================================================================================\n",
      "Total params: 28,391\n",
      "Trainable params: 28,231\n",
      "Non-trainable params: 160\n",
      "__________________________________________________________________________________________________\n"
     ]
    }
   ],
   "source": [
    "gen_compile_dic={'loss':loss,'metrics':metrics,'optimizer':Adam(lr=0.001)}\n",
    "Generator=generator_nw(x_train,**layer_p_dic,nodes=[64,16,64],y=True)\n",
    "Generator.compile(**gen_compile_dic)\n",
    "Generator.set_weights(weights)"
   ]
  },
  {
   "cell_type": "code",
   "execution_count": 12,
   "metadata": {
    "scrolled": true
   },
   "outputs": [
    {
     "name": "stdout",
     "output_type": "stream",
     "text": [
      "_________________________________________________________________\n",
      "Layer (type)                 Output Shape              Param #   \n",
      "=================================================================\n",
      "X_RealorFake (InputLayer)    (None, 200)               0         \n",
      "_________________________________________________________________\n",
      "dense_1 (Dense)              (None, 64)                12864     \n",
      "_________________________________________________________________\n",
      "dH1_activation (PReLU)       (None, 64)                64        \n",
      "_________________________________________________________________\n",
      "dH2_dropout (Dropout)        (None, 64)                0         \n",
      "_________________________________________________________________\n",
      "dH2_noise (GaussianNoise)    (None, 64)                0         \n",
      "_________________________________________________________________\n",
      "dense_2 (Dense)              (None, 32)                2080      \n",
      "_________________________________________________________________\n",
      "dH2_activation (PReLU)       (None, 32)                32        \n",
      "_________________________________________________________________\n",
      "dense_3 (Dense)              (None, 2)                 66        \n",
      "=================================================================\n",
      "Total params: 15,106\n",
      "Trainable params: 15,106\n",
      "Non-trainable params: 0\n",
      "_________________________________________________________________\n"
     ]
    }
   ],
   "source": [
    "dis_compile_dic={'loss':binary_crossentropy,'optimizer':Adam(lr=0.001)} #'early_stop':ES}\n",
    "Discrim=discriminator_nw(x_train,**layer_p_dic,nodes=[64,32,16])\n",
    "Discrim.compile(**dis_compile_dic)"
   ]
  },
  {
   "cell_type": "code",
   "execution_count": 13,
   "metadata": {},
   "outputs": [
    {
     "name": "stdout",
     "output_type": "stream",
     "text": [
      "__________________________________________________________________________________________________\n",
      "Layer (type)                    Output Shape         Param #     Connected to                     \n",
      "==================================================================================================\n",
      "input_1 (InputLayer)            (None, 199)          0                                            \n",
      "__________________________________________________________________________________________________\n",
      "input_2 (InputLayer)            (None, 1)            0                                            \n",
      "__________________________________________________________________________________________________\n",
      "model_2 (Model)                 (None, 200)          28391       input_1[0][0]                    \n",
      "                                                                 input_2[0][0]                    \n",
      "__________________________________________________________________________________________________\n",
      "model_3 (Model)                 (None, 2)            15106       model_2[1][0]                    \n",
      "==================================================================================================\n",
      "Total params: 43,497\n",
      "Trainable params: 28,231\n",
      "Non-trainable params: 15,266\n",
      "__________________________________________________________________________________________________\n"
     ]
    }
   ],
   "source": [
    "gan_compile_dic={'loss':[loss,binary_crossentropy],'optimizer':Adam(lr=0.001),'loss_weights':[5,1]}\n",
    "GAN=gan_nw(Generator,Discrim,x_train)\n",
    "GAN.compile(**gan_compile_dic)\n"
   ]
  },
  {
   "cell_type": "code",
   "execution_count": 14,
   "metadata": {},
   "outputs": [
    {
     "name": "stdout",
     "output_type": "stream",
     "text": [
      "(2000, 200)\n",
      "Epoch 1/10\n",
      "2000/2000 [==============================] - 0s 223us/step - loss: 0.2848\n",
      "Epoch 2/10\n",
      "2000/2000 [==============================] - 0s 65us/step - loss: 0.0387\n",
      "Epoch 3/10\n",
      "2000/2000 [==============================] - 0s 64us/step - loss: 0.0162\n",
      "Epoch 4/10\n",
      "2000/2000 [==============================] - 0s 64us/step - loss: 0.0078\n",
      "Epoch 5/10\n",
      "2000/2000 [==============================] - 0s 66us/step - loss: 0.0055\n",
      "Epoch 6/10\n",
      "2000/2000 [==============================] - 0s 63us/step - loss: 0.0027\n",
      "Epoch 7/10\n",
      "2000/2000 [==============================] - 0s 66us/step - loss: 0.0020\n",
      "Epoch 8/10\n",
      "2000/2000 [==============================] - 0s 67us/step - loss: 0.0017\n",
      "Epoch 9/10\n",
      "2000/2000 [==============================] - 0s 66us/step - loss: 0.0015\n",
      "Epoch 10/10\n",
      "2000/2000 [==============================] - 0s 64us/step - loss: 0.0016\n",
      "Accuracy: 100.0 % 2000  of  2000 correct\n"
     ]
    }
   ],
   "source": [
    "XT_aug, y_hat=Discrim_pre_train(x_train,y_train,Discrim,train_size=1000)"
   ]
  },
  {
   "cell_type": "code",
   "execution_count": 15,
   "metadata": {},
   "outputs": [],
   "source": [
    "train_dic={'x_train':x_train,'y_train':y_train,'x_test':x_test,'y_test':y_test,\n",
    "'nb_epoch':1000,'plt_frq':100,'batch_size':128,'test_size':64,'Generator':Generator,\n",
    "'Discriminator':Discrim,'GAN':GAN,'plot':False}"
   ]
  },
  {
   "cell_type": "code",
   "execution_count": 244,
   "metadata": {},
   "outputs": [
    {
     "name": "stderr",
     "output_type": "stream",
     "text": [
      "\r",
      "  0%|          | 0/1000 [00:00<?, ?it/s]"
     ]
    },
    {
     "name": "stdout",
     "output_type": "stream",
     "text": [
      "128/128 [==============================] - 0s 742us/step\n",
      "64/64 [==============================] - 0s 37us/step\n",
      "64/64 [==============================] - 0s 43us/step\n"
     ]
    },
    {
     "name": "stderr",
     "output_type": "stream",
     "text": [
      "\r",
      "  0%|          | 1/1000 [00:02<36:17,  2.18s/it]"
     ]
    },
    {
     "name": "stdout",
     "output_type": "stream",
     "text": [
      "128/128 [==============================] - 0s 68us/step\n",
      "64/64 [==============================] - 0s 47us/step\n",
      "64/64 [==============================] - 0s 59us/step\n",
      "128/128 [==============================] - 0s 38us/step\n",
      "64/64 [==============================] - 0s 59us/step\n",
      "64/64 [==============================] - 0s 62us/step\n",
      "128/128 [==============================] - 0s 26us/step\n",
      "64/64 [==============================] - 0s 65us/step\n",
      "64/64 [==============================] - 0s 32us/step\n",
      "128/128 [==============================] - 0s 27us/step\n",
      "64/64 [==============================] - 0s 70us/step\n",
      "64/64 [==============================] - 0s 47us/step\n"
     ]
    },
    {
     "name": "stderr",
     "output_type": "stream",
     "text": [
      "\r",
      "  0%|          | 5/1000 [00:02<07:36,  2.18it/s]"
     ]
    },
    {
     "name": "stdout",
     "output_type": "stream",
     "text": [
      "128/128 [==============================] - 0s 33us/step\n",
      "64/64 [==============================] - 0s 51us/step\n",
      "64/64 [==============================] - 0s 50us/step\n",
      "128/128 [==============================] - 0s 34us/step\n",
      "64/64 [==============================] - 0s 48us/step\n",
      "64/64 [==============================] - 0s 64us/step\n",
      "128/128 [==============================] - 0s 38us/step\n",
      "64/64 [==============================] - 0s 64us/step\n",
      "64/64 [==============================] - 0s 49us/step\n",
      "128/128 [==============================] - 0s 37us/step\n",
      "64/64 [==============================] - 0s 56us/step\n",
      "64/64 [==============================] - 0s 39us/step\n"
     ]
    },
    {
     "name": "stderr",
     "output_type": "stream",
     "text": [
      "\r",
      "  1%|          | 9/1000 [00:02<04:24,  3.74it/s]"
     ]
    },
    {
     "name": "stdout",
     "output_type": "stream",
     "text": [
      "128/128 [==============================] - 0s 27us/step\n",
      "64/64 [==============================] - 0s 48us/step\n",
      "64/64 [==============================] - 0s 31us/step\n",
      "128/128 [==============================] - 0s 38us/step\n",
      "64/64 [==============================] - 0s 57us/step\n",
      "64/64 [==============================] - 0s 53us/step\n",
      "128/128 [==============================] - 0s 23us/step\n",
      "64/64 [==============================] - 0s 36us/step\n",
      "64/64 [==============================] - 0s 66us/step\n",
      "128/128 [==============================] - 0s 27us/step\n",
      "64/64 [==============================] - 0s 34us/step\n",
      "64/64 [==============================] - 0s 34us/step\n"
     ]
    },
    {
     "name": "stderr",
     "output_type": "stream",
     "text": [
      "\r",
      "  1%|▏         | 13/1000 [00:02<03:10,  5.19it/s]"
     ]
    },
    {
     "name": "stdout",
     "output_type": "stream",
     "text": [
      "128/128 [==============================] - 0s 23us/step\n",
      "64/64 [==============================] - 0s 43us/step\n",
      "64/64 [==============================] - 0s 53us/step\n",
      "128/128 [==============================] - 0s 34us/step\n",
      "64/64 [==============================] - 0s 53us/step\n",
      "64/64 [==============================] - 0s 46us/step\n",
      "128/128 [==============================] - 0s 26us/step\n",
      "64/64 [==============================] - 0s 26us/step\n",
      "64/64 [==============================] - 0s 35us/step\n",
      "128/128 [==============================] - 0s 42us/step\n",
      "64/64 [==============================] - 0s 50us/step\n",
      "64/64 [==============================] - 0s 45us/step\n"
     ]
    },
    {
     "name": "stderr",
     "output_type": "stream",
     "text": [
      "\r",
      "  2%|▏         | 17/1000 [00:02<02:30,  6.52it/s]"
     ]
    },
    {
     "name": "stdout",
     "output_type": "stream",
     "text": [
      "128/128 [==============================] - 0s 26us/step\n",
      "64/64 [==============================] - 0s 36us/step\n",
      "64/64 [==============================] - 0s 35us/step\n",
      "128/128 [==============================] - 0s 30us/step\n",
      "64/64 [==============================] - 0s 50us/step\n",
      "64/64 [==============================] - 0s 35us/step\n",
      "128/128 [==============================] - 0s 28us/step\n",
      "64/64 [==============================] - 0s 54us/step\n",
      "64/64 [==============================] - 0s 57us/step\n",
      "128/128 [==============================] - 0s 58us/step\n",
      "64/64 [==============================] - 0s 46us/step\n",
      "64/64 [==============================] - 0s 34us/step\n"
     ]
    },
    {
     "name": "stderr",
     "output_type": "stream",
     "text": [
      "\r",
      "  2%|▏         | 21/1000 [00:02<02:06,  7.75it/s]"
     ]
    },
    {
     "name": "stdout",
     "output_type": "stream",
     "text": [
      "128/128 [==============================] - 0s 29us/step\n",
      "64/64 [==============================] - 0s 39us/step\n",
      "64/64 [==============================] - 0s 39us/step\n",
      "128/128 [==============================] - 0s 31us/step\n",
      "64/64 [==============================] - 0s 49us/step\n",
      "64/64 [==============================] - 0s 52us/step\n",
      "128/128 [==============================] - 0s 35us/step\n",
      "64/64 [==============================] - 0s 66us/step\n",
      "64/64 [==============================] - 0s 56us/step\n",
      "128/128 [==============================] - 0s 24us/step\n",
      "64/64 [==============================] - 0s 54us/step\n",
      "64/64 [==============================] - 0s 55us/step\n"
     ]
    },
    {
     "name": "stderr",
     "output_type": "stream",
     "text": [
      "\r",
      "  2%|▎         | 25/1000 [00:02<01:49,  8.88it/s]"
     ]
    },
    {
     "name": "stdout",
     "output_type": "stream",
     "text": [
      "128/128 [==============================] - 0s 28us/step\n",
      "64/64 [==============================] - 0s 34us/step\n",
      "64/64 [==============================] - 0s 38us/step\n",
      "128/128 [==============================] - 0s 36us/step\n",
      "64/64 [==============================] - 0s 47us/step\n",
      "64/64 [==============================] - 0s 43us/step\n",
      "128/128 [==============================] - 0s 39us/step\n",
      "64/64 [==============================] - 0s 28us/step\n",
      "64/64 [==============================] - 0s 45us/step\n",
      "128/128 [==============================] - 0s 36us/step\n",
      "64/64 [==============================] - 0s 31us/step\n",
      "64/64 [==============================] - 0s 32us/step\n"
     ]
    },
    {
     "name": "stderr",
     "output_type": "stream",
     "text": [
      "\r",
      "  3%|▎         | 29/1000 [00:02<01:37,  9.93it/s]"
     ]
    },
    {
     "name": "stdout",
     "output_type": "stream",
     "text": [
      "128/128 [==============================] - 0s 59us/step\n",
      "64/64 [==============================] - 0s 58us/step\n",
      "64/64 [==============================] - 0s 35us/step\n",
      "128/128 [==============================] - 0s 44us/step\n",
      "64/64 [==============================] - 0s 40us/step\n",
      "64/64 [==============================] - 0s 49us/step\n",
      "128/128 [==============================] - 0s 39us/step\n",
      "64/64 [==============================] - 0s 38us/step\n",
      "64/64 [==============================] - 0s 30us/step\n",
      "128/128 [==============================] - 0s 33us/step\n",
      "64/64 [==============================] - 0s 32us/step\n",
      "64/64 [==============================] - 0s 78us/step\n"
     ]
    },
    {
     "name": "stderr",
     "output_type": "stream",
     "text": [
      "\r",
      "  3%|▎         | 33/1000 [00:03<01:28, 10.88it/s]"
     ]
    },
    {
     "name": "stdout",
     "output_type": "stream",
     "text": [
      "128/128 [==============================] - 0s 31us/step\n",
      "64/64 [==============================] - 0s 50us/step\n",
      "64/64 [==============================] - 0s 46us/step\n",
      "128/128 [==============================] - 0s 28us/step\n",
      "64/64 [==============================] - 0s 27us/step\n",
      "64/64 [==============================] - 0s 81us/step\n",
      "128/128 [==============================] - 0s 39us/step\n",
      "64/64 [==============================] - 0s 35us/step\n",
      "64/64 [==============================] - 0s 30us/step\n",
      "128/128 [==============================] - 0s 31us/step\n",
      "64/64 [==============================] - 0s 32us/step\n",
      "64/64 [==============================] - 0s 55us/step\n",
      "128/128 [==============================] - 0s 41us/step\n",
      "64/64 [==============================] - 0s 43us/step\n",
      "64/64 [==============================] - 0s 35us/step\n"
     ]
    },
    {
     "name": "stderr",
     "output_type": "stream",
     "text": [
      "\r",
      "  4%|▍         | 38/1000 [00:03<01:19, 12.04it/s]"
     ]
    },
    {
     "name": "stdout",
     "output_type": "stream",
     "text": [
      "128/128 [==============================] - 0s 32us/step\n",
      "64/64 [==============================] - 0s 40us/step\n",
      "64/64 [==============================] - 0s 44us/step\n",
      "128/128 [==============================] - 0s 32us/step\n",
      "64/64 [==============================] - 0s 56us/step\n",
      "64/64 [==============================] - 0s 58us/step\n",
      "128/128 [==============================] - 0s 24us/step\n",
      "64/64 [==============================] - 0s 31us/step\n",
      "64/64 [==============================] - 0s 58us/step\n",
      "128/128 [==============================] - 0s 63us/step\n",
      "64/64 [==============================] - 0s 41us/step\n",
      "64/64 [==============================] - 0s 41us/step\n"
     ]
    },
    {
     "name": "stderr",
     "output_type": "stream",
     "text": [
      "\r",
      "  4%|▍         | 42/1000 [00:03<01:14, 12.89it/s]"
     ]
    },
    {
     "name": "stdout",
     "output_type": "stream",
     "text": [
      "128/128 [==============================] - 0s 24us/step\n",
      "64/64 [==============================] - 0s 56us/step\n",
      "64/64 [==============================] - 0s 30us/step\n",
      "128/128 [==============================] - 0s 32us/step\n",
      "64/64 [==============================] - 0s 40us/step\n",
      "64/64 [==============================] - 0s 26us/step\n",
      "128/128 [==============================] - 0s 24us/step\n",
      "64/64 [==============================] - 0s 56us/step\n",
      "64/64 [==============================] - 0s 31us/step\n",
      "128/128 [==============================] - 0s 23us/step\n",
      "64/64 [==============================] - 0s 31us/step\n",
      "64/64 [==============================] - 0s 34us/step\n",
      "128/128 [==============================] - 0s 27us/step\n",
      "64/64 [==============================] - 0s 33us/step\n",
      "64/64 [==============================] - 0s 33us/step\n"
     ]
    },
    {
     "name": "stderr",
     "output_type": "stream",
     "text": [
      "\r",
      "  5%|▍         | 47/1000 [00:03<01:08, 13.95it/s]"
     ]
    },
    {
     "name": "stdout",
     "output_type": "stream",
     "text": [
      "128/128 [==============================] - 0s 26us/step\n",
      "64/64 [==============================] - 0s 49us/step\n",
      "64/64 [==============================] - 0s 40us/step\n",
      "128/128 [==============================] - 0s 30us/step\n",
      "64/64 [==============================] - 0s 31us/step\n",
      "64/64 [==============================] - 0s 50us/step\n",
      "128/128 [==============================] - 0s 27us/step\n",
      "64/64 [==============================] - 0s 38us/step\n",
      "64/64 [==============================] - 0s 31us/step\n",
      "128/128 [==============================] - 0s 25us/step\n",
      "64/64 [==============================] - 0s 58us/step\n",
      "64/64 [==============================] - 0s 42us/step\n",
      "128/128 [==============================] - 0s 23us/step\n",
      "64/64 [==============================] - 0s 33us/step\n",
      "64/64 [==============================] - 0s 62us/step\n"
     ]
    },
    {
     "name": "stderr",
     "output_type": "stream",
     "text": [
      "\r",
      "  5%|▌         | 52/1000 [00:03<01:03, 14.93it/s]"
     ]
    },
    {
     "name": "stdout",
     "output_type": "stream",
     "text": [
      "128/128 [==============================] - 0s 25us/step\n",
      "64/64 [==============================] - 0s 31us/step\n",
      "64/64 [==============================] - 0s 33us/step\n",
      "128/128 [==============================] - 0s 22us/step\n",
      "64/64 [==============================] - 0s 52us/step\n",
      "64/64 [==============================] - 0s 37us/step\n",
      "128/128 [==============================] - 0s 29us/step\n",
      "64/64 [==============================] - 0s 94us/step\n",
      "64/64 [==============================] - 0s 30us/step\n",
      "128/128 [==============================] - 0s 25us/step\n",
      "64/64 [==============================] - 0s 52us/step\n",
      "64/64 [==============================] - 0s 45us/step\n",
      "128/128 [==============================] - 0s 25us/step\n",
      "64/64 [==============================] - 0s 46us/step\n",
      "64/64 [==============================] - 0s 47us/step\n"
     ]
    },
    {
     "name": "stderr",
     "output_type": "stream",
     "text": [
      "\r",
      "  6%|▌         | 57/1000 [00:03<00:59, 15.84it/s]"
     ]
    },
    {
     "name": "stdout",
     "output_type": "stream",
     "text": [
      "128/128 [==============================] - 0s 32us/step\n",
      "64/64 [==============================] - 0s 50us/step\n",
      "64/64 [==============================] - 0s 31us/step\n",
      "128/128 [==============================] - 0s 30us/step\n",
      "64/64 [==============================] - 0s 41us/step\n",
      "64/64 [==============================] - 0s 92us/step\n",
      "128/128 [==============================] - 0s 36us/step\n",
      "64/64 [==============================] - 0s 35us/step\n",
      "64/64 [==============================] - 0s 51us/step\n",
      "128/128 [==============================] - 0s 27us/step\n",
      "64/64 [==============================] - 0s 31us/step\n",
      "64/64 [==============================] - 0s 44us/step\n",
      "128/128 [==============================] - 0s 30us/step\n",
      "64/64 [==============================] - 0s 60us/step\n",
      "64/64 [==============================] - 0s 56us/step\n"
     ]
    },
    {
     "name": "stderr",
     "output_type": "stream",
     "text": [
      "\r",
      "  6%|▌         | 62/1000 [00:03<00:56, 16.65it/s]"
     ]
    },
    {
     "name": "stdout",
     "output_type": "stream",
     "text": [
      "128/128 [==============================] - 0s 26us/step\n",
      "64/64 [==============================] - 0s 33us/step\n",
      "64/64 [==============================] - 0s 31us/step\n",
      "128/128 [==============================] - 0s 31us/step\n",
      "64/64 [==============================] - 0s 38us/step\n",
      "64/64 [==============================] - 0s 57us/step\n",
      "128/128 [==============================] - 0s 24us/step\n",
      "64/64 [==============================] - 0s 40us/step\n",
      "64/64 [==============================] - 0s 31us/step\n",
      "128/128 [==============================] - 0s 27us/step\n",
      "64/64 [==============================] - 0s 52us/step\n",
      "64/64 [==============================] - 0s 43us/step\n",
      "128/128 [==============================] - 0s 26us/step\n",
      "64/64 [==============================] - 0s 37us/step\n",
      "64/64 [==============================] - 0s 46us/step\n"
     ]
    },
    {
     "name": "stderr",
     "output_type": "stream",
     "text": [
      "\r",
      "  7%|▋         | 67/1000 [00:03<00:53, 17.47it/s]"
     ]
    },
    {
     "name": "stdout",
     "output_type": "stream",
     "text": [
      "128/128 [==============================] - 0s 33us/step\n",
      "64/64 [==============================] - 0s 48us/step\n",
      "64/64 [==============================] - 0s 48us/step\n",
      "128/128 [==============================] - 0s 25us/step\n",
      "64/64 [==============================] - 0s 71us/step\n",
      "64/64 [==============================] - 0s 39us/step\n",
      "128/128 [==============================] - 0s 32us/step\n",
      "64/64 [==============================] - 0s 47us/step\n",
      "64/64 [==============================] - 0s 32us/step\n",
      "128/128 [==============================] - 0s 28us/step\n",
      "64/64 [==============================] - 0s 32us/step\n",
      "64/64 [==============================] - 0s 42us/step\n",
      "128/128 [==============================] - 0s 23us/step\n",
      "64/64 [==============================] - 0s 45us/step\n",
      "64/64 [==============================] - 0s 59us/step\n"
     ]
    },
    {
     "name": "stderr",
     "output_type": "stream",
     "text": [
      "\r",
      "  7%|▋         | 72/1000 [00:03<00:50, 18.21it/s]"
     ]
    },
    {
     "name": "stdout",
     "output_type": "stream",
     "text": [
      "128/128 [==============================] - 0s 22us/step\n",
      "64/64 [==============================] - 0s 52us/step\n",
      "64/64 [==============================] - 0s 35us/step\n",
      "128/128 [==============================] - 0s 27us/step\n",
      "64/64 [==============================] - 0s 35us/step\n",
      "64/64 [==============================] - 0s 32us/step\n",
      "128/128 [==============================] - 0s 34us/step\n",
      "64/64 [==============================] - 0s 33us/step\n",
      "64/64 [==============================] - 0s 43us/step\n",
      "128/128 [==============================] - 0s 31us/step\n",
      "64/64 [==============================] - 0s 51us/step\n",
      "64/64 [==============================] - 0s 41us/step\n",
      "128/128 [==============================] - 0s 25us/step\n",
      "64/64 [==============================] - 0s 40us/step\n",
      "64/64 [==============================] - 0s 46us/step\n"
     ]
    },
    {
     "name": "stderr",
     "output_type": "stream",
     "text": [
      "\r",
      "  8%|▊         | 77/1000 [00:04<00:48, 18.94it/s]"
     ]
    },
    {
     "name": "stdout",
     "output_type": "stream",
     "text": [
      "128/128 [==============================] - 0s 25us/step\n",
      "64/64 [==============================] - ETA:  - 0s 42us/step\n",
      "64/64 [==============================] - 0s 25us/step\n",
      "128/128 [==============================] - 0s 24us/step\n",
      "64/64 [==============================] - 0s 33us/step\n",
      "64/64 [==============================] - 0s 49us/step\n",
      "128/128 [==============================] - 0s 25us/step\n",
      "64/64 [==============================] - 0s 39us/step\n",
      "64/64 [==============================] - 0s 36us/step\n",
      "128/128 [==============================] - 0s 24us/step\n",
      "64/64 [==============================] - 0s 45us/step\n",
      "64/64 [==============================] - 0s 56us/step\n",
      "128/128 [==============================] - 0s 27us/step\n",
      "64/64 [==============================] - 0s 37us/step\n",
      "64/64 [==============================] - 0s 32us/step\n"
     ]
    },
    {
     "name": "stderr",
     "output_type": "stream",
     "text": [
      "\r",
      "  8%|▊         | 82/1000 [00:04<00:46, 19.64it/s]"
     ]
    },
    {
     "name": "stdout",
     "output_type": "stream",
     "text": [
      "128/128 [==============================] - 0s 34us/step\n",
      "64/64 [==============================] - 0s 48us/step\n",
      "64/64 [==============================] - 0s 34us/step\n",
      "128/128 [==============================] - 0s 34us/step\n",
      "64/64 [==============================] - 0s 47us/step\n",
      "64/64 [==============================] - 0s 47us/step\n",
      "128/128 [==============================] - 0s 26us/step\n",
      "64/64 [==============================] - 0s 34us/step\n",
      "64/64 [==============================] - 0s 52us/step\n",
      "128/128 [==============================] - 0s 31us/step\n",
      "64/64 [==============================] - 0s 34us/step\n",
      "64/64 [==============================] - 0s 31us/step\n",
      "128/128 [==============================] - 0s 24us/step\n",
      "64/64 [==============================] - 0s 29us/step\n",
      "64/64 [==============================] - 0s 28us/step\n"
     ]
    },
    {
     "name": "stderr",
     "output_type": "stream",
     "text": [
      "\r",
      "  9%|▊         | 87/1000 [00:04<00:44, 20.29it/s]"
     ]
    },
    {
     "name": "stdout",
     "output_type": "stream",
     "text": [
      "128/128 [==============================] - 0s 34us/step\n",
      "64/64 [==============================] - 0s 35us/step\n",
      "64/64 [==============================] - 0s 43us/step\n",
      "128/128 [==============================] - 0s 23us/step\n",
      "64/64 [==============================] - 0s 38us/step\n",
      "64/64 [==============================] - 0s 49us/step\n",
      "128/128 [==============================] - 0s 24us/step\n",
      "64/64 [==============================] - 0s 44us/step\n",
      "64/64 [==============================] - 0s 67us/step\n",
      "128/128 [==============================] - 0s 35us/step\n",
      "64/64 [==============================] - 0s 24us/step\n",
      "64/64 [==============================] - 0s 32us/step\n",
      "128/128 [==============================] - 0s 27us/step\n",
      "64/64 [==============================] - 0s 60us/step\n",
      "64/64 [==============================] - 0s 42us/step\n"
     ]
    },
    {
     "name": "stderr",
     "output_type": "stream",
     "text": [
      "\r",
      "  9%|▉         | 92/1000 [00:04<00:43, 20.90it/s]"
     ]
    },
    {
     "name": "stdout",
     "output_type": "stream",
     "text": [
      "128/128 [==============================] - 0s 26us/step\n",
      "64/64 [==============================] - 0s 29us/step\n",
      "64/64 [==============================] - 0s 46us/step\n",
      "128/128 [==============================] - 0s 30us/step\n",
      "64/64 [==============================] - 0s 33us/step\n",
      "64/64 [==============================] - 0s 36us/step\n",
      "128/128 [==============================] - 0s 26us/step\n",
      "64/64 [==============================] - 0s 50us/step\n",
      "64/64 [==============================] - 0s 45us/step\n",
      "128/128 [==============================] - 0s 26us/step\n",
      "64/64 [==============================] - 0s 58us/step\n",
      "64/64 [==============================] - 0s 42us/step\n",
      "128/128 [==============================] - 0s 28us/step\n",
      "64/64 [==============================] - 0s 31us/step\n",
      "64/64 [==============================] - 0s 35us/step\n"
     ]
    },
    {
     "name": "stderr",
     "output_type": "stream",
     "text": [
      "\r",
      " 10%|▉         | 97/1000 [00:04<00:42, 21.49it/s]"
     ]
    },
    {
     "name": "stdout",
     "output_type": "stream",
     "text": [
      "128/128 [==============================] - 0s 59us/step\n",
      "64/64 [==============================] - 0s 32us/step\n",
      "64/64 [==============================] - 0s 45us/step\n",
      "128/128 [==============================] - 0s 24us/step\n",
      "64/64 [==============================] - 0s 39us/step\n",
      "64/64 [==============================] - 0s 28us/step\n",
      "128/128 [==============================] - 0s 26us/step\n",
      "64/64 [==============================] - 0s 56us/step\n",
      "64/64 [==============================] - 0s 47us/step\n",
      "128/128 [==============================] - 0s 32us/step\n",
      "64/64 [==============================] - 0s 35us/step\n",
      "64/64 [==============================] - 0s 40us/step\n",
      "128/128 [==============================] - 0s 27us/step\n",
      "64/64 [==============================] - 0s 77us/step\n",
      "64/64 [==============================] - 0s 45us/step\n"
     ]
    },
    {
     "name": "stderr",
     "output_type": "stream",
     "text": [
      "\r",
      " 10%|█         | 102/1000 [00:04<00:40, 22.00it/s]"
     ]
    },
    {
     "name": "stdout",
     "output_type": "stream",
     "text": [
      "128/128 [==============================] - 0s 31us/step\n",
      "64/64 [==============================] - 0s 44us/step\n",
      "64/64 [==============================] - 0s 48us/step\n",
      "128/128 [==============================] - 0s 23us/step\n",
      "64/64 [==============================] - 0s 35us/step\n",
      "64/64 [==============================] - 0s 29us/step\n",
      "128/128 [==============================] - 0s 24us/step\n",
      "64/64 [==============================] - 0s 30us/step\n",
      "64/64 [==============================] - 0s 41us/step\n",
      "128/128 [==============================] - 0s 25us/step\n",
      "64/64 [==============================] - 0s 49us/step\n",
      "64/64 [==============================] - 0s 58us/step\n",
      "128/128 [==============================] - 0s 25us/step\n",
      "64/64 [==============================] - 0s 28us/step\n",
      "64/64 [==============================] - 0s 62us/step\n"
     ]
    },
    {
     "name": "stderr",
     "output_type": "stream",
     "text": [
      "\r",
      " 11%|█         | 107/1000 [00:04<00:39, 22.52it/s]"
     ]
    },
    {
     "name": "stdout",
     "output_type": "stream",
     "text": [
      "128/128 [==============================] - 0s 25us/step\n",
      "64/64 [==============================] - 0s 27us/step\n",
      "64/64 [==============================] - 0s 63us/step\n",
      "128/128 [==============================] - 0s 26us/step\n",
      "64/64 [==============================] - 0s 29us/step\n",
      "64/64 [==============================] - 0s 37us/step\n",
      "128/128 [==============================] - 0s 29us/step\n",
      "64/64 [==============================] - 0s 35us/step\n",
      "64/64 [==============================] - 0s 48us/step\n",
      "128/128 [==============================] - 0s 28us/step\n",
      "64/64 [==============================] - 0s 36us/step\n",
      "64/64 [==============================] - 0s 35us/step\n",
      "128/128 [==============================] - 0s 30us/step\n",
      "64/64 [==============================] - 0s 31us/step\n",
      "64/64 [==============================] - 0s 88us/step\n"
     ]
    },
    {
     "name": "stderr",
     "output_type": "stream",
     "text": [
      "\r",
      " 11%|█         | 112/1000 [00:04<00:38, 23.01it/s]"
     ]
    },
    {
     "name": "stdout",
     "output_type": "stream",
     "text": [
      "128/128 [==============================] - 0s 35us/step\n",
      "64/64 [==============================] - 0s 27us/step\n",
      "64/64 [==============================] - 0s 41us/step\n",
      "128/128 [==============================] - 0s 32us/step\n",
      "64/64 [==============================] - 0s 40us/step\n",
      "64/64 [==============================] - 0s 39us/step\n",
      "128/128 [==============================] - 0s 27us/step\n",
      "64/64 [==============================] - 0s 34us/step\n",
      "64/64 [==============================] - 0s 41us/step\n",
      "128/128 [==============================] - 0s 35us/step\n",
      "64/64 [==============================] - 0s 61us/step\n",
      "64/64 [==============================] - 0s 38us/step\n",
      "128/128 [==============================] - 0s 28us/step\n",
      "64/64 [==============================] - 0s 45us/step\n",
      "64/64 [==============================] - 0s 64us/step\n"
     ]
    },
    {
     "name": "stderr",
     "output_type": "stream",
     "text": [
      "\r",
      " 12%|█▏        | 117/1000 [00:04<00:37, 23.47it/s]"
     ]
    },
    {
     "name": "stdout",
     "output_type": "stream",
     "text": [
      "128/128 [==============================] - 0s 26us/step\n",
      "64/64 [==============================] - 0s 53us/step\n",
      "64/64 [==============================] - 0s 36us/step\n",
      "128/128 [==============================] - 0s 27us/step\n",
      "64/64 [==============================] - 0s 37us/step\n",
      "64/64 [==============================] - 0s 38us/step\n",
      "128/128 [==============================] - 0s 32us/step\n",
      "64/64 [==============================] - 0s 46us/step\n",
      "64/64 [==============================] - 0s 46us/step\n",
      "128/128 [==============================] - 0s 25us/step\n",
      "64/64 [==============================] - 0s 37us/step\n",
      "64/64 [==============================] - 0s 30us/step\n",
      "128/128 [==============================] - 0s 25us/step\n",
      "64/64 [==============================] - 0s 25us/step\n",
      "64/64 [==============================] - 0s 44us/step\n"
     ]
    },
    {
     "name": "stderr",
     "output_type": "stream",
     "text": [
      "\r",
      " 12%|█▏        | 122/1000 [00:05<00:36, 23.94it/s]"
     ]
    },
    {
     "name": "stdout",
     "output_type": "stream",
     "text": [
      "128/128 [==============================] - 0s 26us/step\n",
      "64/64 [==============================] - 0s 46us/step\n",
      "64/64 [==============================] - 0s 49us/step\n",
      "128/128 [==============================] - 0s 31us/step\n",
      "64/64 [==============================] - 0s 44us/step\n",
      "64/64 [==============================] - 0s 42us/step\n",
      "128/128 [==============================] - 0s 29us/step\n",
      "64/64 [==============================] - 0s 38us/step\n",
      "64/64 [==============================] - 0s 65us/step\n",
      "128/128 [==============================] - 0s 27us/step\n",
      "64/64 [==============================] - 0s 175us/step\n",
      "64/64 [==============================] - 0s 33us/step\n",
      "128/128 [==============================] - 0s 34us/step\n",
      "64/64 [==============================] - 0s 30us/step\n",
      "64/64 [==============================] - 0s 42us/step\n"
     ]
    },
    {
     "name": "stderr",
     "output_type": "stream",
     "text": [
      "\r",
      " 13%|█▎        | 127/1000 [00:05<00:35, 24.31it/s]"
     ]
    },
    {
     "name": "stdout",
     "output_type": "stream",
     "text": [
      "128/128 [==============================] - 0s 32us/step\n",
      "64/64 [==============================] - 0s 55us/step\n",
      "64/64 [==============================] - 0s 57us/step\n",
      "128/128 [==============================] - 0s 29us/step\n",
      "64/64 [==============================] - 0s 32us/step\n",
      "64/64 [==============================] - 0s 40us/step\n",
      "128/128 [==============================] - 0s 24us/step\n",
      "64/64 [==============================] - 0s 40us/step\n",
      "64/64 [==============================] - 0s 28us/step\n",
      "128/128 [==============================] - 0s 24us/step\n",
      "64/64 [==============================] - 0s 55us/step\n",
      "64/64 [==============================] - 0s 48us/step\n",
      "128/128 [==============================] - 0s 24us/step\n",
      "64/64 [==============================] - 0s 39us/step\n",
      "64/64 [==============================] - 0s 41us/step\n"
     ]
    },
    {
     "name": "stderr",
     "output_type": "stream",
     "text": [
      "\r",
      " 13%|█▎        | 132/1000 [00:05<00:35, 24.73it/s]"
     ]
    },
    {
     "name": "stdout",
     "output_type": "stream",
     "text": [
      "128/128 [==============================] - 0s 26us/step\n",
      "64/64 [==============================] - 0s 37us/step\n",
      "64/64 [==============================] - 0s 32us/step\n",
      "128/128 [==============================] - 0s 34us/step\n",
      "64/64 [==============================] - 0s 33us/step\n",
      "64/64 [==============================] - 0s 55us/step\n",
      "128/128 [==============================] - 0s 25us/step\n",
      "64/64 [==============================] - 0s 50us/step\n",
      "64/64 [==============================] - 0s 56us/step\n",
      "128/128 [==============================] - 0s 25us/step\n",
      "64/64 [==============================] - 0s 31us/step\n",
      "64/64 [==============================] - 0s 39us/step\n",
      "128/128 [==============================] - 0s 29us/step\n",
      "64/64 [==============================] - 0s 47us/step\n",
      "64/64 [==============================] - 0s 50us/step\n"
     ]
    },
    {
     "name": "stderr",
     "output_type": "stream",
     "text": [
      "\r",
      " 14%|█▎        | 137/1000 [00:05<00:34, 25.12it/s]"
     ]
    },
    {
     "name": "stdout",
     "output_type": "stream",
     "text": [
      "128/128 [==============================] - 0s 33us/step\n",
      "64/64 [==============================] - 0s 30us/step\n",
      "64/64 [==============================] - 0s 43us/step\n",
      "128/128 [==============================] - 0s 21us/step\n",
      "64/64 [==============================] - 0s 45us/step\n",
      "64/64 [==============================] - 0s 30us/step\n",
      "128/128 [==============================] - 0s 31us/step\n",
      "64/64 [==============================] - 0s 35us/step\n",
      "64/64 [==============================] - 0s 54us/step\n",
      "128/128 [==============================] - 0s 26us/step\n",
      "64/64 [==============================] - 0s 43us/step\n",
      "64/64 [==============================] - 0s 55us/step\n",
      "128/128 [==============================] - 0s 25us/step\n",
      "64/64 [==============================] - 0s 42us/step\n",
      "64/64 [==============================] - 0s 33us/step\n"
     ]
    },
    {
     "name": "stderr",
     "output_type": "stream",
     "text": [
      "\r",
      " 14%|█▍        | 142/1000 [00:05<00:33, 25.50it/s]"
     ]
    },
    {
     "name": "stdout",
     "output_type": "stream",
     "text": [
      "128/128 [==============================] - 0s 31us/step\n",
      "64/64 [==============================] - 0s 30us/step\n",
      "64/64 [==============================] - 0s 31us/step\n",
      "128/128 [==============================] - 0s 26us/step\n",
      "64/64 [==============================] - 0s 28us/step\n",
      "64/64 [==============================] - 0s 50us/step\n",
      "128/128 [==============================] - 0s 33us/step\n",
      "64/64 [==============================] - 0s 34us/step\n",
      "64/64 [==============================] - 0s 44us/step\n",
      "128/128 [==============================] - 0s 26us/step\n",
      "64/64 [==============================] - 0s 50us/step\n",
      "64/64 [==============================] - 0s 44us/step\n",
      "128/128 [==============================] - 0s 26us/step\n",
      "64/64 [==============================] - 0s 32us/step\n",
      "64/64 [==============================] - 0s 32us/step\n"
     ]
    },
    {
     "name": "stderr",
     "output_type": "stream",
     "text": [
      "\r",
      " 15%|█▍        | 147/1000 [00:05<00:32, 25.87it/s]"
     ]
    },
    {
     "name": "stdout",
     "output_type": "stream",
     "text": [
      "128/128 [==============================] - 0s 36us/step\n",
      "64/64 [==============================] - 0s 41us/step\n",
      "64/64 [==============================] - 0s 33us/step\n",
      "128/128 [==============================] - 0s 28us/step\n",
      "64/64 [==============================] - 0s 45us/step\n",
      "64/64 [==============================] - 0s 35us/step\n",
      "128/128 [==============================] - 0s 25us/step\n",
      "64/64 [==============================] - 0s 103us/step\n",
      "64/64 [==============================] - 0s 38us/step\n",
      "128/128 [==============================] - 0s 24us/step\n",
      "64/64 [==============================] - 0s 35us/step\n",
      "64/64 [==============================] - 0s 32us/step\n",
      "128/128 [==============================] - 0s 34us/step\n",
      "64/64 [==============================] - 0s 45us/step\n",
      "64/64 [==============================] - 0s 33us/step\n"
     ]
    },
    {
     "name": "stderr",
     "output_type": "stream",
     "text": [
      "\r",
      " 15%|█▌        | 152/1000 [00:05<00:32, 26.20it/s]"
     ]
    },
    {
     "name": "stdout",
     "output_type": "stream",
     "text": [
      "128/128 [==============================] - 0s 29us/step\n",
      "64/64 [==============================] - 0s 51us/step\n",
      "64/64 [==============================] - 0s 46us/step\n",
      "128/128 [==============================] - 0s 26us/step\n",
      "64/64 [==============================] - 0s 25us/step\n",
      "64/64 [==============================] - 0s 49us/step\n",
      "128/128 [==============================] - 0s 23us/step\n",
      "64/64 [==============================] - 0s 30us/step\n",
      "64/64 [==============================] - 0s 41us/step\n",
      "128/128 [==============================] - 0s 23us/step\n",
      "64/64 [==============================] - 0s 54us/step\n",
      "64/64 [==============================] - 0s 53us/step\n",
      "128/128 [==============================] - 0s 25us/step\n",
      "64/64 [==============================] - 0s 37us/step\n",
      "64/64 [==============================] - 0s 40us/step\n"
     ]
    },
    {
     "name": "stderr",
     "output_type": "stream",
     "text": [
      "\r",
      " 16%|█▌        | 157/1000 [00:05<00:31, 26.55it/s]"
     ]
    },
    {
     "name": "stdout",
     "output_type": "stream",
     "text": [
      "128/128 [==============================] - 0s 26us/step\n",
      "64/64 [==============================] - 0s 53us/step\n",
      "64/64 [==============================] - 0s 31us/step\n",
      "128/128 [==============================] - 0s 31us/step\n",
      "64/64 [==============================] - 0s 36us/step\n",
      "64/64 [==============================] - 0s 31us/step\n",
      "128/128 [==============================] - 0s 23us/step\n",
      "64/64 [==============================] - 0s 39us/step\n",
      "64/64 [==============================] - 0s 56us/step\n",
      "128/128 [==============================] - 0s 25us/step\n",
      "64/64 [==============================] - 0s 40us/step\n",
      "64/64 [==============================] - 0s 38us/step\n",
      "128/128 [==============================] - 0s 24us/step\n",
      "64/64 [==============================] - 0s 27us/step\n",
      "64/64 [==============================] - 0s 44us/step\n"
     ]
    },
    {
     "name": "stderr",
     "output_type": "stream",
     "text": [
      "\r",
      " 16%|█▌        | 162/1000 [00:06<00:31, 26.86it/s]"
     ]
    },
    {
     "name": "stdout",
     "output_type": "stream",
     "text": [
      "128/128 [==============================] - 0s 66us/step\n",
      "64/64 [==============================] - 0s 37us/step\n",
      "64/64 [==============================] - 0s 43us/step\n",
      "128/128 [==============================] - 0s 32us/step\n",
      "64/64 [==============================] - 0s 26us/step\n",
      "64/64 [==============================] - 0s 36us/step\n",
      "128/128 [==============================] - 0s 31us/step\n",
      "64/64 [==============================] - 0s 46us/step\n",
      "64/64 [==============================] - 0s 64us/step\n",
      "128/128 [==============================] - 0s 26us/step\n",
      "64/64 [==============================] - 0s 29us/step\n",
      "64/64 [==============================] - 0s 58us/step\n",
      "128/128 [==============================] - 0s 27us/step\n",
      "64/64 [==============================] - 0s 52us/step\n",
      "64/64 [==============================] - 0s 33us/step\n"
     ]
    },
    {
     "name": "stderr",
     "output_type": "stream",
     "text": [
      "\r",
      " 17%|█▋        | 167/1000 [00:06<00:30, 27.15it/s]"
     ]
    },
    {
     "name": "stdout",
     "output_type": "stream",
     "text": [
      "128/128 [==============================] - 0s 31us/step\n",
      "64/64 [==============================] - 0s 51us/step\n",
      "64/64 [==============================] - 0s 47us/step\n",
      "128/128 [==============================] - 0s 30us/step\n",
      "64/64 [==============================] - 0s 46us/step\n",
      "64/64 [==============================] - 0s 32us/step\n",
      "128/128 [==============================] - 0s 27us/step\n",
      "64/64 [==============================] - 0s 41us/step\n",
      "64/64 [==============================] - 0s 35us/step\n",
      "128/128 [==============================] - 0s 26us/step\n",
      "64/64 [==============================] - 0s 41us/step\n",
      "64/64 [==============================] - 0s 45us/step\n",
      "128/128 [==============================] - 0s 25us/step\n",
      "64/64 [==============================] - 0s 32us/step\n",
      "64/64 [==============================] - 0s 99us/step\n"
     ]
    },
    {
     "name": "stderr",
     "output_type": "stream",
     "text": [
      "\r",
      " 17%|█▋        | 172/1000 [00:06<00:30, 27.44it/s]"
     ]
    },
    {
     "name": "stdout",
     "output_type": "stream",
     "text": [
      "128/128 [==============================] - 0s 28us/step\n",
      "64/64 [==============================] - 0s 44us/step\n",
      "64/64 [==============================] - 0s 42us/step\n",
      "128/128 [==============================] - 0s 23us/step\n",
      "64/64 [==============================] - 0s 27us/step\n",
      "64/64 [==============================] - 0s 54us/step\n",
      "128/128 [==============================] - 0s 31us/step\n",
      "64/64 [==============================] - 0s 62us/step\n",
      "64/64 [==============================] - 0s 44us/step\n",
      "128/128 [==============================] - 0s 27us/step\n",
      "64/64 [==============================] - 0s 31us/step\n",
      "64/64 [==============================] - 0s 39us/step\n",
      "128/128 [==============================] - 0s 25us/step\n",
      "64/64 [==============================] - 0s 27us/step\n",
      "64/64 [==============================] - 0s 44us/step\n"
     ]
    },
    {
     "name": "stderr",
     "output_type": "stream",
     "text": [
      "\r",
      " 18%|█▊        | 177/1000 [00:06<00:29, 27.74it/s]"
     ]
    },
    {
     "name": "stdout",
     "output_type": "stream",
     "text": [
      "128/128 [==============================] - 0s 25us/step\n",
      "64/64 [==============================] - 0s 52us/step\n",
      "64/64 [==============================] - 0s 32us/step\n",
      "128/128 [==============================] - 0s 26us/step\n",
      "64/64 [==============================] - 0s 43us/step\n",
      "64/64 [==============================] - 0s 45us/step\n",
      "128/128 [==============================] - 0s 24us/step\n",
      "64/64 [==============================] - 0s 32us/step\n",
      "64/64 [==============================] - 0s 47us/step\n",
      "128/128 [==============================] - 0s 25us/step\n",
      "64/64 [==============================] - 0s 48us/step\n",
      "64/64 [==============================] - 0s 47us/step\n",
      "128/128 [==============================] - 0s 33us/step\n",
      "64/64 [==============================] - 0s 33us/step\n",
      "64/64 [==============================] - 0s 47us/step\n"
     ]
    },
    {
     "name": "stderr",
     "output_type": "stream",
     "text": [
      "\r",
      " 18%|█▊        | 182/1000 [00:06<00:29, 28.03it/s]"
     ]
    },
    {
     "name": "stdout",
     "output_type": "stream",
     "text": [
      "128/128 [==============================] - 0s 38us/step\n",
      "64/64 [==============================] - 0s 48us/step\n",
      "64/64 [==============================] - 0s 35us/step\n",
      "128/128 [==============================] - 0s 25us/step\n",
      "64/64 [==============================] - 0s 45us/step\n",
      "64/64 [==============================] - 0s 51us/step\n",
      "128/128 [==============================] - 0s 30us/step\n",
      "64/64 [==============================] - 0s 29us/step\n",
      "64/64 [==============================] - 0s 31us/step\n",
      "128/128 [==============================] - 0s 23us/step\n",
      "64/64 [==============================] - 0s 31us/step\n",
      "64/64 [==============================] - 0s 47us/step\n",
      "128/128 [==============================] - 0s 26us/step\n",
      "64/64 [==============================] - 0s 63us/step\n",
      "64/64 [==============================] - 0s 34us/step\n"
     ]
    },
    {
     "name": "stderr",
     "output_type": "stream",
     "text": [
      "\r",
      " 19%|█▊        | 187/1000 [00:06<00:28, 28.30it/s]"
     ]
    },
    {
     "name": "stdout",
     "output_type": "stream",
     "text": [
      "128/128 [==============================] - 0s 34us/step\n",
      "64/64 [==============================] - 0s 42us/step\n",
      "64/64 [==============================] - 0s 32us/step\n",
      "128/128 [==============================] - 0s 26us/step\n",
      "64/64 [==============================] - 0s 29us/step\n",
      "64/64 [==============================] - 0s 38us/step\n",
      "128/128 [==============================] - 0s 28us/step\n",
      "64/64 [==============================] - 0s 35us/step\n",
      "64/64 [==============================] - 0s 52us/step\n",
      "128/128 [==============================] - 0s 25us/step\n",
      "64/64 [==============================] - 0s 30us/step\n",
      "64/64 [==============================] - 0s 32us/step\n",
      "128/128 [==============================] - 0s 23us/step\n",
      "64/64 [==============================] - 0s 34us/step\n",
      "64/64 [==============================] - 0s 43us/step\n"
     ]
    },
    {
     "name": "stderr",
     "output_type": "stream",
     "text": [
      "\r",
      " 19%|█▉        | 192/1000 [00:06<00:28, 28.58it/s]"
     ]
    },
    {
     "name": "stdout",
     "output_type": "stream",
     "text": [
      "128/128 [==============================] - 0s 32us/step\n",
      "64/64 [==============================] - 0s 44us/step\n",
      "64/64 [==============================] - 0s 42us/step\n",
      "128/128 [==============================] - 0s 25us/step\n",
      "64/64 [==============================] - 0s 28us/step\n",
      "64/64 [==============================] - 0s 58us/step\n",
      "128/128 [==============================] - 0s 25us/step\n",
      "64/64 [==============================] - 0s 48us/step\n",
      "64/64 [==============================] - 0s 47us/step\n",
      "128/128 [==============================] - 0s 22us/step\n",
      "64/64 [==============================] - 0s 37us/step\n",
      "64/64 [==============================] - 0s 34us/step\n",
      "128/128 [==============================] - 0s 27us/step\n",
      "64/64 [==============================] - 0s 37us/step\n",
      "64/64 [==============================] - 0s 43us/step\n"
     ]
    },
    {
     "name": "stderr",
     "output_type": "stream",
     "text": [
      "\r",
      " 20%|█▉        | 197/1000 [00:06<00:27, 28.85it/s]"
     ]
    },
    {
     "name": "stdout",
     "output_type": "stream",
     "text": [
      "128/128 [==============================] - 0s 25us/step\n",
      "64/64 [==============================] - 0s 50us/step\n",
      "64/64 [==============================] - 0s 39us/step\n",
      "128/128 [==============================] - 0s 33us/step\n",
      "64/64 [==============================] - 0s 59us/step\n",
      "64/64 [==============================] - 0s 30us/step\n",
      "128/128 [==============================] - 0s 24us/step\n",
      "64/64 [==============================] - 0s 44us/step\n",
      "64/64 [==============================] - 0s 41us/step\n",
      "128/128 [==============================] - 0s 24us/step\n",
      "64/64 [==============================] - 0s 33us/step\n",
      "64/64 [==============================] - 0s 35us/step\n",
      "128/128 [==============================] - 0s 25us/step\n",
      "64/64 [==============================] - 0s 38us/step\n",
      "64/64 [==============================] - 0s 33us/step\n"
     ]
    },
    {
     "name": "stderr",
     "output_type": "stream",
     "text": [
      "\r",
      " 20%|██        | 202/1000 [00:06<00:27, 29.10it/s]"
     ]
    },
    {
     "name": "stdout",
     "output_type": "stream",
     "text": [
      "128/128 [==============================] - 0s 26us/step\n",
      "64/64 [==============================] - 0s 41us/step\n",
      "64/64 [==============================] - 0s 43us/step\n",
      "128/128 [==============================] - 0s 25us/step\n",
      "64/64 [==============================] - 0s 52us/step\n",
      "64/64 [==============================] - 0s 46us/step\n",
      "128/128 [==============================] - 0s 28us/step\n",
      "64/64 [==============================] - 0s 34us/step\n",
      "64/64 [==============================] - 0s 43us/step\n",
      "128/128 [==============================] - 0s 23us/step\n",
      "64/64 [==============================] - 0s 27us/step\n",
      "64/64 [==============================] - 0s 33us/step\n",
      "128/128 [==============================] - 0s 24us/step\n",
      "64/64 [==============================] - 0s 38us/step\n",
      "64/64 [==============================] - 0s 35us/step\n"
     ]
    },
    {
     "name": "stderr",
     "output_type": "stream",
     "text": [
      "\r",
      " 21%|██        | 207/1000 [00:07<00:27, 29.36it/s]"
     ]
    },
    {
     "name": "stdout",
     "output_type": "stream",
     "text": [
      "128/128 [==============================] - 0s 28us/step\n",
      "64/64 [==============================] - 0s 62us/step\n",
      "64/64 [==============================] - 0s 38us/step\n",
      "128/128 [==============================] - 0s 32us/step\n",
      "64/64 [==============================] - 0s 48us/step\n",
      "64/64 [==============================] - 0s 52us/step\n",
      "128/128 [==============================] - 0s 38us/step\n",
      "64/64 [==============================] - 0s 52us/step\n",
      "64/64 [==============================] - 0s 44us/step\n",
      "128/128 [==============================] - 0s 23us/step\n",
      "64/64 [==============================] - 0s 34us/step\n",
      "64/64 [==============================] - 0s 35us/step\n",
      "128/128 [==============================] - 0s 25us/step\n",
      "64/64 [==============================] - 0s 97us/step\n",
      "64/64 [==============================] - 0s 40us/step\n"
     ]
    },
    {
     "name": "stderr",
     "output_type": "stream",
     "text": [
      "\r",
      " 21%|██        | 212/1000 [00:07<00:26, 29.57it/s]"
     ]
    },
    {
     "name": "stdout",
     "output_type": "stream",
     "text": [
      "128/128 [==============================] - 0s 25us/step\n",
      "64/64 [==============================] - 0s 54us/step\n",
      "64/64 [==============================] - 0s 55us/step\n",
      "128/128 [==============================] - 0s 32us/step\n",
      "64/64 [==============================] - 0s 32us/step\n",
      "64/64 [==============================] - 0s 47us/step\n",
      "128/128 [==============================] - 0s 25us/step\n",
      "64/64 [==============================] - 0s 38us/step\n",
      "64/64 [==============================] - 0s 28us/step\n",
      "128/128 [==============================] - 0s 28us/step\n",
      "64/64 [==============================] - 0s 42us/step\n",
      "64/64 [==============================] - 0s 44us/step\n",
      "128/128 [==============================] - 0s 25us/step\n",
      "64/64 [==============================] - 0s 97us/step\n",
      "64/64 [==============================] - 0s 30us/step\n"
     ]
    },
    {
     "name": "stderr",
     "output_type": "stream",
     "text": [
      "\r",
      " 22%|██▏       | 217/1000 [00:07<00:26, 29.78it/s]"
     ]
    },
    {
     "name": "stdout",
     "output_type": "stream",
     "text": [
      "128/128 [==============================] - 0s 35us/step\n",
      "64/64 [==============================] - 0s 40us/step\n",
      "64/64 [==============================] - 0s 33us/step\n",
      "128/128 [==============================] - 0s 27us/step\n",
      "64/64 [==============================] - 0s 62us/step\n",
      "64/64 [==============================] - 0s 52us/step\n",
      "128/128 [==============================] - 0s 34us/step\n",
      "64/64 [==============================] - 0s 57us/step\n",
      "64/64 [==============================] - 0s 50us/step\n",
      "128/128 [==============================] - 0s 33us/step\n",
      "64/64 [==============================] - 0s 82us/step\n",
      "64/64 [==============================] - 0s 33us/step\n",
      "128/128 [==============================] - 0s 28us/step\n",
      "64/64 [==============================] - 0s 27us/step\n",
      "64/64 [==============================] - 0s 43us/step\n"
     ]
    },
    {
     "name": "stderr",
     "output_type": "stream",
     "text": [
      "\r",
      " 22%|██▏       | 222/1000 [00:07<00:25, 29.97it/s]"
     ]
    },
    {
     "name": "stdout",
     "output_type": "stream",
     "text": [
      "128/128 [==============================] - 0s 23us/step\n",
      "64/64 [==============================] - 0s 32us/step\n",
      "64/64 [==============================] - 0s 40us/step\n",
      "128/128 [==============================] - 0s 23us/step\n",
      "64/64 [==============================] - 0s 40us/step\n",
      "64/64 [==============================] - 0s 39us/step\n",
      "128/128 [==============================] - 0s 28us/step\n",
      "64/64 [==============================] - 0s 27us/step\n",
      "64/64 [==============================] - 0s 46us/step\n",
      "128/128 [==============================] - 0s 32us/step\n",
      "64/64 [==============================] - 0s 28us/step\n",
      "64/64 [==============================] - 0s 42us/step\n",
      "128/128 [==============================] - 0s 25us/step\n",
      "64/64 [==============================] - 0s 44us/step\n",
      "64/64 [==============================] - 0s 50us/step\n"
     ]
    },
    {
     "name": "stderr",
     "output_type": "stream",
     "text": [
      "\r",
      " 23%|██▎       | 227/1000 [00:07<00:25, 30.19it/s]"
     ]
    },
    {
     "name": "stdout",
     "output_type": "stream",
     "text": [
      "128/128 [==============================] - 0s 26us/step\n",
      "64/64 [==============================] - 0s 46us/step\n",
      "64/64 [==============================] - 0s 27us/step\n",
      "128/128 [==============================] - 0s 26us/step\n",
      "64/64 [==============================] - 0s 33us/step\n",
      "64/64 [==============================] - 0s 60us/step\n",
      "128/128 [==============================] - 0s 26us/step\n",
      "64/64 [==============================] - 0s 44us/step\n",
      "64/64 [==============================] - 0s 38us/step\n",
      "128/128 [==============================] - 0s 32us/step\n",
      "64/64 [==============================] - 0s 34us/step\n",
      "64/64 [==============================] - 0s 46us/step\n",
      "128/128 [==============================] - 0s 33us/step\n",
      "64/64 [==============================] - 0s 46us/step\n",
      "64/64 [==============================] - 0s 43us/step\n"
     ]
    },
    {
     "name": "stderr",
     "output_type": "stream",
     "text": [
      "\r",
      " 23%|██▎       | 232/1000 [00:07<00:25, 30.38it/s]"
     ]
    },
    {
     "name": "stdout",
     "output_type": "stream",
     "text": [
      "128/128 [==============================] - 0s 26us/step\n",
      "64/64 [==============================] - 0s 33us/step\n",
      "64/64 [==============================] - 0s 30us/step\n",
      "128/128 [==============================] - 0s 24us/step\n",
      "64/64 [==============================] - 0s 40us/step\n",
      "64/64 [==============================] - 0s 47us/step\n",
      "128/128 [==============================] - 0s 26us/step\n",
      "64/64 [==============================] - 0s 33us/step\n",
      "64/64 [==============================] - 0s 50us/step\n",
      "128/128 [==============================] - 0s 28us/step\n",
      "64/64 [==============================] - 0s 44us/step\n",
      "64/64 [==============================] - 0s 45us/step\n",
      "128/128 [==============================] - 0s 30us/step\n",
      "64/64 [==============================] - 0s 59us/step\n",
      "64/64 [==============================] - 0s 32us/step\n"
     ]
    },
    {
     "name": "stderr",
     "output_type": "stream",
     "text": [
      "\r",
      " 24%|██▎       | 237/1000 [00:07<00:24, 30.58it/s]"
     ]
    },
    {
     "name": "stdout",
     "output_type": "stream",
     "text": [
      "128/128 [==============================] - 0s 27us/step\n",
      "64/64 [==============================] - 0s 56us/step\n",
      "64/64 [==============================] - 0s 41us/step\n",
      "128/128 [==============================] - 0s 31us/step\n",
      "64/64 [==============================] - 0s 43us/step\n",
      "64/64 [==============================] - 0s 39us/step\n",
      "128/128 [==============================] - 0s 35us/step\n",
      "64/64 [==============================] - 0s 56us/step\n",
      "64/64 [==============================] - 0s 32us/step\n",
      "128/128 [==============================] - 0s 26us/step\n",
      "64/64 [==============================] - 0s 27us/step\n",
      "64/64 [==============================] - 0s 33us/step\n",
      "128/128 [==============================] - 0s 24us/step\n",
      "64/64 [==============================] - 0s 109us/step\n",
      "64/64 [==============================] - 0s 31us/step\n"
     ]
    },
    {
     "name": "stderr",
     "output_type": "stream",
     "text": [
      "\r",
      " 24%|██▍       | 242/1000 [00:07<00:24, 30.74it/s]"
     ]
    },
    {
     "name": "stdout",
     "output_type": "stream",
     "text": [
      "128/128 [==============================] - 0s 25us/step\n",
      "64/64 [==============================] - 0s 40us/step\n",
      "64/64 [==============================] - 0s 36us/step\n",
      "128/128 [==============================] - 0s 55us/step\n",
      "64/64 [==============================] - 0s 33us/step\n",
      "64/64 [==============================] - 0s 47us/step\n",
      "128/128 [==============================] - 0s 22us/step\n",
      "64/64 [==============================] - 0s 29us/step\n",
      "64/64 [==============================] - 0s 52us/step\n",
      "128/128 [==============================] - 0s 30us/step\n",
      "64/64 [==============================] - 0s 49us/step\n",
      "64/64 [==============================] - 0s 32us/step\n",
      "128/128 [==============================] - 0s 27us/step\n",
      "64/64 [==============================] - 0s 38us/step\n",
      "64/64 [==============================] - 0s 44us/step\n"
     ]
    },
    {
     "name": "stderr",
     "output_type": "stream",
     "text": [
      "\r",
      " 25%|██▍       | 247/1000 [00:07<00:24, 30.90it/s]"
     ]
    },
    {
     "name": "stdout",
     "output_type": "stream",
     "text": [
      "128/128 [==============================] - 0s 31us/step\n",
      "64/64 [==============================] - 0s 34us/step\n",
      "64/64 [==============================] - 0s 27us/step\n",
      "128/128 [==============================] - 0s 25us/step\n",
      "64/64 [==============================] - 0s 50us/step\n",
      "64/64 [==============================] - 0s 27us/step\n",
      "128/128 [==============================] - 0s 26us/step\n",
      "64/64 [==============================] - 0s 37us/step\n",
      "64/64 [==============================] - 0s 45us/step\n",
      "128/128 [==============================] - 0s 25us/step\n",
      "64/64 [==============================] - 0s 51us/step\n",
      "64/64 [==============================] - 0s 50us/step\n",
      "128/128 [==============================] - 0s 32us/step\n",
      "64/64 [==============================] - 0s 32us/step\n",
      "64/64 [==============================] - 0s 41us/step\n"
     ]
    },
    {
     "name": "stderr",
     "output_type": "stream",
     "text": [
      "\r",
      " 25%|██▌       | 252/1000 [00:08<00:24, 31.09it/s]"
     ]
    },
    {
     "name": "stdout",
     "output_type": "stream",
     "text": [
      "128/128 [==============================] - 0s 22us/step\n",
      "64/64 [==============================] - 0s 31us/step\n",
      "64/64 [==============================] - 0s 37us/step\n",
      "128/128 [==============================] - 0s 33us/step\n",
      "64/64 [==============================] - 0s 29us/step\n",
      "64/64 [==============================] - 0s 103us/step\n",
      "128/128 [==============================] - 0s 28us/step\n",
      "64/64 [==============================] - 0s 49us/step\n",
      "64/64 [==============================] - 0s 33us/step\n",
      "128/128 [==============================] - 0s 25us/step\n",
      "64/64 [==============================] - 0s 61us/step\n",
      "64/64 [==============================] - 0s 29us/step\n",
      "128/128 [==============================] - 0s 41us/step\n",
      "64/64 [==============================] - 0s 37us/step\n",
      "64/64 [==============================] - 0s 28us/step\n"
     ]
    },
    {
     "name": "stderr",
     "output_type": "stream",
     "text": [
      "\r",
      " 26%|██▌       | 257/1000 [00:08<00:23, 31.26it/s]"
     ]
    },
    {
     "name": "stdout",
     "output_type": "stream",
     "text": [
      "128/128 [==============================] - 0s 27us/step\n",
      "64/64 [==============================] - 0s 33us/step\n",
      "64/64 [==============================] - 0s 37us/step\n",
      "128/128 [==============================] - 0s 25us/step\n",
      "64/64 [==============================] - 0s 38us/step\n",
      "64/64 [==============================] - 0s 33us/step\n",
      "128/128 [==============================] - 0s 26us/step\n",
      "64/64 [==============================] - 0s 46us/step\n",
      "64/64 [==============================] - 0s 45us/step\n",
      "128/128 [==============================] - 0s 31us/step\n",
      "64/64 [==============================] - 0s 26us/step\n",
      "64/64 [==============================] - 0s 61us/step\n",
      "128/128 [==============================] - 0s 26us/step\n",
      "64/64 [==============================] - 0s 32us/step\n",
      "64/64 [==============================] - 0s 31us/step\n"
     ]
    },
    {
     "name": "stderr",
     "output_type": "stream",
     "text": [
      "\r",
      " 26%|██▌       | 262/1000 [00:08<00:23, 31.43it/s]"
     ]
    },
    {
     "name": "stdout",
     "output_type": "stream",
     "text": [
      "128/128 [==============================] - 0s 36us/step\n",
      "64/64 [==============================] - 0s 40us/step\n",
      "64/64 [==============================] - 0s 51us/step\n",
      "128/128 [==============================] - 0s 22us/step\n",
      "64/64 [==============================] - 0s 91us/step\n",
      "64/64 [==============================] - 0s 38us/step\n",
      "128/128 [==============================] - 0s 28us/step\n",
      "64/64 [==============================] - 0s 42us/step\n",
      "64/64 [==============================] - 0s 30us/step\n",
      "128/128 [==============================] - 0s 25us/step\n",
      "64/64 [==============================] - 0s 26us/step\n",
      "64/64 [==============================] - 0s 43us/step\n",
      "128/128 [==============================] - 0s 26us/step\n",
      "64/64 [==============================] - 0s 31us/step\n",
      "64/64 [==============================] - 0s 31us/step\n"
     ]
    },
    {
     "name": "stderr",
     "output_type": "stream",
     "text": [
      "\r",
      " 27%|██▋       | 267/1000 [00:08<00:23, 31.60it/s]"
     ]
    },
    {
     "name": "stdout",
     "output_type": "stream",
     "text": [
      "128/128 [==============================] - 0s 34us/step\n",
      "64/64 [==============================] - 0s 37us/step\n",
      "64/64 [==============================] - 0s 39us/step\n",
      "128/128 [==============================] - 0s 26us/step\n",
      "64/64 [==============================] - 0s 39us/step\n",
      "64/64 [==============================] - 0s 43us/step\n",
      "128/128 [==============================] - 0s 23us/step\n",
      "64/64 [==============================] - 0s 58us/step\n",
      "64/64 [==============================] - 0s 60us/step\n",
      "128/128 [==============================] - 0s 32us/step\n",
      "64/64 [==============================] - 0s 32us/step\n",
      "64/64 [==============================] - 0s 46us/step\n",
      "128/128 [==============================] - 0s 26us/step\n",
      "64/64 [==============================] - 0s 49us/step\n",
      "64/64 [==============================] - 0s 45us/step\n"
     ]
    },
    {
     "name": "stderr",
     "output_type": "stream",
     "text": [
      "\r",
      " 27%|██▋       | 272/1000 [00:08<00:22, 31.75it/s]"
     ]
    },
    {
     "name": "stdout",
     "output_type": "stream",
     "text": [
      "128/128 [==============================] - 0s 27us/step\n",
      "64/64 [==============================] - 0s 33us/step\n",
      "64/64 [==============================] - 0s 51us/step\n",
      "128/128 [==============================] - 0s 30us/step\n",
      "64/64 [==============================] - 0s 25us/step\n",
      "64/64 [==============================] - 0s 40us/step\n",
      "128/128 [==============================] - 0s 28us/step\n",
      "64/64 [==============================] - 0s 43us/step\n",
      "64/64 [==============================] - 0s 41us/step\n",
      "128/128 [==============================] - 0s 25us/step\n",
      "64/64 [==============================] - 0s 64us/step\n",
      "64/64 [==============================] - 0s 32us/step\n",
      "128/128 [==============================] - 0s 32us/step\n",
      "64/64 [==============================] - 0s 26us/step\n",
      "64/64 [==============================] - 0s 95us/step\n"
     ]
    },
    {
     "name": "stderr",
     "output_type": "stream",
     "text": [
      "\r",
      " 28%|██▊       | 277/1000 [00:08<00:22, 31.90it/s]"
     ]
    },
    {
     "name": "stdout",
     "output_type": "stream",
     "text": [
      "128/128 [==============================] - 0s 31us/step\n",
      "64/64 [==============================] - 0s 35us/step\n",
      "64/64 [==============================] - 0s 42us/step\n",
      "128/128 [==============================] - 0s 27us/step\n",
      "64/64 [==============================] - 0s 51us/step\n",
      "64/64 [==============================] - 0s 31us/step\n",
      "128/128 [==============================] - 0s 25us/step\n",
      "64/64 [==============================] - 0s 31us/step\n",
      "64/64 [==============================] - 0s 60us/step\n",
      "128/128 [==============================] - 0s 37us/step\n",
      "64/64 [==============================] - 0s 33us/step\n",
      "64/64 [==============================] - 0s 28us/step\n",
      "128/128 [==============================] - 0s 26us/step\n",
      "64/64 [==============================] - 0s 43us/step\n",
      "64/64 [==============================] - 0s 42us/step\n"
     ]
    },
    {
     "name": "stderr",
     "output_type": "stream",
     "text": [
      "\r",
      " 28%|██▊       | 282/1000 [00:08<00:22, 32.05it/s]"
     ]
    },
    {
     "name": "stdout",
     "output_type": "stream",
     "text": [
      "128/128 [==============================] - 0s 35us/step\n",
      "64/64 [==============================] - 0s 50us/step\n",
      "64/64 [==============================] - 0s 43us/step\n",
      "128/128 [==============================] - 0s 33us/step\n",
      "64/64 [==============================] - 0s 24us/step\n",
      "64/64 [==============================] - ETA:  - 0s 61us/step\n",
      "128/128 [==============================] - 0s 26us/step\n",
      "64/64 [==============================] - 0s 60us/step\n",
      "64/64 [==============================] - 0s 56us/step\n",
      "128/128 [==============================] - 0s 24us/step\n",
      "64/64 [==============================] - 0s 38us/step\n",
      "64/64 [==============================] - 0s 39us/step\n",
      "128/128 [==============================] - 0s 22us/step\n",
      "64/64 [==============================] - 0s 31us/step\n",
      "64/64 [==============================] - 0s 50us/step\n"
     ]
    },
    {
     "name": "stderr",
     "output_type": "stream",
     "text": [
      "\r",
      " 29%|██▊       | 287/1000 [00:08<00:22, 32.19it/s]"
     ]
    },
    {
     "name": "stdout",
     "output_type": "stream",
     "text": [
      "128/128 [==============================] - 0s 32us/step\n",
      "64/64 [==============================] - 0s 49us/step\n",
      "64/64 [==============================] - 0s 28us/step\n",
      "128/128 [==============================] - 0s 26us/step\n",
      "64/64 [==============================] - 0s 38us/step\n",
      "64/64 [==============================] - 0s 41us/step\n",
      "128/128 [==============================] - 0s 26us/step\n",
      "64/64 [==============================] - 0s 34us/step\n",
      "64/64 [==============================] - 0s 44us/step\n",
      "128/128 [==============================] - 0s 27us/step\n",
      "64/64 [==============================] - 0s 58us/step\n",
      "64/64 [==============================] - 0s 45us/step\n",
      "128/128 [==============================] - 0s 37us/step\n",
      "64/64 [==============================] - 0s 44us/step\n",
      "64/64 [==============================] - 0s 44us/step\n"
     ]
    },
    {
     "name": "stderr",
     "output_type": "stream",
     "text": [
      "\r",
      " 29%|██▉       | 292/1000 [00:09<00:21, 32.34it/s]"
     ]
    },
    {
     "name": "stdout",
     "output_type": "stream",
     "text": [
      "128/128 [==============================] - 0s 27us/step\n",
      "64/64 [==============================] - 0s 53us/step\n",
      "64/64 [==============================] - 0s 46us/step\n",
      "128/128 [==============================] - 0s 26us/step\n",
      "64/64 [==============================] - 0s 55us/step\n",
      "64/64 [==============================] - 0s 42us/step\n",
      "128/128 [==============================] - 0s 27us/step\n",
      "64/64 [==============================] - 0s 30us/step\n",
      "64/64 [==============================] - 0s 30us/step\n",
      "128/128 [==============================] - 0s 29us/step\n",
      "64/64 [==============================] - 0s 32us/step\n",
      "64/64 [==============================] - 0s 56us/step\n",
      "128/128 [==============================] - 0s 26us/step\n",
      "64/64 [==============================] - 0s 45us/step\n",
      "64/64 [==============================] - 0s 30us/step\n"
     ]
    },
    {
     "name": "stderr",
     "output_type": "stream",
     "text": [
      "\r",
      " 30%|██▉       | 297/1000 [00:09<00:21, 32.48it/s]"
     ]
    },
    {
     "name": "stdout",
     "output_type": "stream",
     "text": [
      "128/128 [==============================] - 0s 27us/step\n",
      "64/64 [==============================] - 0s 32us/step\n",
      "64/64 [==============================] - 0s 58us/step\n",
      "128/128 [==============================] - 0s 34us/step\n",
      "64/64 [==============================] - 0s 33us/step\n",
      "64/64 [==============================] - 0s 30us/step\n",
      "128/128 [==============================] - 0s 25us/step\n",
      "64/64 [==============================] - 0s 38us/step\n",
      "64/64 [==============================] - 0s 30us/step\n",
      "128/128 [==============================] - 0s 25us/step\n",
      "64/64 [==============================] - 0s 34us/step\n",
      "64/64 [==============================] - 0s 56us/step\n",
      "128/128 [==============================] - 0s 37us/step\n",
      "64/64 [==============================] - 0s 29us/step\n",
      "64/64 [==============================] - 0s 41us/step\n"
     ]
    },
    {
     "name": "stderr",
     "output_type": "stream",
     "text": [
      "\r",
      " 30%|███       | 302/1000 [00:09<00:21, 32.62it/s]"
     ]
    },
    {
     "name": "stdout",
     "output_type": "stream",
     "text": [
      "128/128 [==============================] - 0s 24us/step\n",
      "64/64 [==============================] - 0s 28us/step\n",
      "64/64 [==============================] - 0s 89us/step\n",
      "128/128 [==============================] - 0s 34us/step\n",
      "64/64 [==============================] - 0s 31us/step\n",
      "64/64 [==============================] - 0s 41us/step\n",
      "128/128 [==============================] - 0s 25us/step\n",
      "64/64 [==============================] - 0s 57us/step\n",
      "64/64 [==============================] - 0s 52us/step\n",
      "128/128 [==============================] - 0s 25us/step\n",
      "64/64 [==============================] - 0s 47us/step\n",
      "64/64 [==============================] - 0s 46us/step\n",
      "128/128 [==============================] - 0s 27us/step\n",
      "64/64 [==============================] - 0s 29us/step\n",
      "64/64 [==============================] - 0s 56us/step\n"
     ]
    },
    {
     "name": "stderr",
     "output_type": "stream",
     "text": [
      "\r",
      " 31%|███       | 307/1000 [00:09<00:21, 32.74it/s]"
     ]
    },
    {
     "name": "stdout",
     "output_type": "stream",
     "text": [
      "128/128 [==============================] - 0s 24us/step\n",
      "64/64 [==============================] - 0s 33us/step\n",
      "64/64 [==============================] - 0s 33us/step\n",
      "128/128 [==============================] - 0s 31us/step\n",
      "64/64 [==============================] - 0s 53us/step\n",
      "64/64 [==============================] - 0s 39us/step\n",
      "128/128 [==============================] - 0s 25us/step\n",
      "64/64 [==============================] - 0s 33us/step\n",
      "64/64 [==============================] - 0s 29us/step\n",
      "128/128 [==============================] - 0s 24us/step\n",
      "64/64 [==============================] - 0s 26us/step\n",
      "64/64 [==============================] - 0s 50us/step\n",
      "128/128 [==============================] - 0s 25us/step\n",
      "64/64 [==============================] - 0s 40us/step\n",
      "64/64 [==============================] - 0s 33us/step\n"
     ]
    },
    {
     "name": "stderr",
     "output_type": "stream",
     "text": [
      "\r",
      " 31%|███       | 312/1000 [00:09<00:20, 32.89it/s]"
     ]
    },
    {
     "name": "stdout",
     "output_type": "stream",
     "text": [
      "128/128 [==============================] - 0s 25us/step\n",
      "64/64 [==============================] - 0s 31us/step\n",
      "64/64 [==============================] - 0s 34us/step\n",
      "128/128 [==============================] - 0s 26us/step\n",
      "64/64 [==============================] - 0s 25us/step\n",
      "64/64 [==============================] - 0s 29us/step\n",
      "128/128 [==============================] - 0s 30us/step\n",
      "64/64 [==============================] - 0s 38us/step\n",
      "64/64 [==============================] - 0s 37us/step\n",
      "128/128 [==============================] - 0s 30us/step\n",
      "64/64 [==============================] - 0s 38us/step\n",
      "64/64 [==============================] - 0s 31us/step\n",
      "128/128 [==============================] - 0s 26us/step\n",
      "64/64 [==============================] - 0s 41us/step\n",
      "64/64 [==============================] - 0s 29us/step\n"
     ]
    },
    {
     "name": "stderr",
     "output_type": "stream",
     "text": [
      "\r",
      " 32%|███▏      | 317/1000 [00:09<00:20, 33.04it/s]"
     ]
    },
    {
     "name": "stdout",
     "output_type": "stream",
     "text": [
      "128/128 [==============================] - 0s 31us/step\n",
      "64/64 [==============================] - 0s 45us/step\n",
      "64/64 [==============================] - 0s 43us/step\n",
      "128/128 [==============================] - 0s 25us/step\n",
      "64/64 [==============================] - 0s 41us/step\n",
      "64/64 [==============================] - 0s 41us/step\n",
      "128/128 [==============================] - 0s 26us/step\n",
      "64/64 [==============================] - 0s 64us/step\n",
      "64/64 [==============================] - 0s 53us/step\n",
      "128/128 [==============================] - 0s 28us/step\n",
      "64/64 [==============================] - 0s 36us/step\n",
      "64/64 [==============================] - 0s 48us/step\n",
      "128/128 [==============================] - 0s 32us/step\n",
      "64/64 [==============================] - 0s 35us/step\n",
      "64/64 [==============================] - 0s 53us/step\n"
     ]
    },
    {
     "name": "stderr",
     "output_type": "stream",
     "text": [
      "\r",
      " 32%|███▏      | 322/1000 [00:09<00:20, 33.14it/s]"
     ]
    },
    {
     "name": "stdout",
     "output_type": "stream",
     "text": [
      "128/128 [==============================] - 0s 59us/step\n",
      "64/64 [==============================] - 0s 37us/step\n",
      "64/64 [==============================] - 0s 40us/step\n",
      "128/128 [==============================] - 0s 36us/step\n",
      "64/64 [==============================] - 0s 30us/step\n",
      "64/64 [==============================] - 0s 70us/step\n",
      "128/128 [==============================] - 0s 28us/step\n",
      "64/64 [==============================] - 0s 35us/step\n",
      "64/64 [==============================] - 0s 38us/step\n",
      "128/128 [==============================] - 0s 36us/step\n",
      "64/64 [==============================] - 0s 28us/step\n",
      "64/64 [==============================] - 0s 55us/step\n",
      "128/128 [==============================] - 0s 25us/step\n",
      "64/64 [==============================] - 0s 42us/step\n",
      "64/64 [==============================] - 0s 27us/step\n"
     ]
    },
    {
     "name": "stderr",
     "output_type": "stream",
     "text": [
      "\r",
      " 33%|███▎      | 327/1000 [00:09<00:20, 33.24it/s]"
     ]
    },
    {
     "name": "stdout",
     "output_type": "stream",
     "text": [
      "128/128 [==============================] - 0s 24us/step\n",
      "64/64 [==============================] - 0s 39us/step\n",
      "64/64 [==============================] - 0s 54us/step\n",
      "128/128 [==============================] - 0s 27us/step\n",
      "64/64 [==============================] - 0s 36us/step\n",
      "64/64 [==============================] - 0s 36us/step\n",
      "128/128 [==============================] - 0s 32us/step\n",
      "64/64 [==============================] - 0s 45us/step\n",
      "64/64 [==============================] - 0s 29us/step\n",
      "128/128 [==============================] - 0s 26us/step\n",
      "64/64 [==============================] - 0s 49us/step\n",
      "64/64 [==============================] - 0s 44us/step\n",
      "128/128 [==============================] - 0s 54us/step\n",
      "64/64 [==============================] - 0s 35us/step\n",
      "64/64 [==============================] - 0s 44us/step\n"
     ]
    },
    {
     "name": "stderr",
     "output_type": "stream",
     "text": [
      "\r",
      " 33%|███▎      | 332/1000 [00:09<00:20, 33.34it/s]"
     ]
    },
    {
     "name": "stdout",
     "output_type": "stream",
     "text": [
      "128/128 [==============================] - 0s 24us/step\n",
      "64/64 [==============================] - 0s 32us/step\n",
      "64/64 [==============================] - 0s 42us/step\n",
      "128/128 [==============================] - 0s 24us/step\n",
      "64/64 [==============================] - 0s 45us/step\n",
      "64/64 [==============================] - 0s 44us/step\n",
      "128/128 [==============================] - 0s 25us/step\n",
      "64/64 [==============================] - 0s 36us/step\n",
      "64/64 [==============================] - 0s 46us/step\n",
      "128/128 [==============================] - 0s 25us/step\n",
      "64/64 [==============================] - 0s 32us/step\n",
      "64/64 [==============================] - 0s 34us/step\n",
      "128/128 [==============================] - 0s 25us/step\n",
      "64/64 [==============================] - 0s 37us/step\n",
      "64/64 [==============================] - 0s 40us/step\n"
     ]
    },
    {
     "name": "stderr",
     "output_type": "stream",
     "text": [
      "\r",
      " 34%|███▎      | 337/1000 [00:10<00:19, 33.47it/s]"
     ]
    },
    {
     "name": "stdout",
     "output_type": "stream",
     "text": [
      "128/128 [==============================] - 0s 32us/step\n",
      "64/64 [==============================] - 0s 29us/step\n",
      "64/64 [==============================] - 0s 32us/step\n",
      "128/128 [==============================] - 0s 25us/step\n",
      "64/64 [==============================] - 0s 29us/step\n",
      "64/64 [==============================] - 0s 39us/step\n",
      "128/128 [==============================] - 0s 38us/step\n",
      "64/64 [==============================] - 0s 38us/step\n",
      "64/64 [==============================] - 0s 33us/step\n",
      "128/128 [==============================] - 0s 25us/step\n",
      "64/64 [==============================] - 0s 51us/step\n",
      "64/64 [==============================] - 0s 44us/step\n",
      "128/128 [==============================] - 0s 23us/step\n",
      "64/64 [==============================] - 0s 43us/step\n",
      "64/64 [==============================] - 0s 36us/step\n"
     ]
    },
    {
     "name": "stderr",
     "output_type": "stream",
     "text": [
      "\r",
      " 34%|███▍      | 342/1000 [00:10<00:19, 33.58it/s]"
     ]
    },
    {
     "name": "stdout",
     "output_type": "stream",
     "text": [
      "128/128 [==============================] - 0s 27us/step\n",
      "64/64 [==============================] - 0s 30us/step\n",
      "64/64 [==============================] - 0s 31us/step\n",
      "128/128 [==============================] - ETA:  - 0s 32us/step\n",
      "64/64 [==============================] - 0s 24us/step\n",
      "64/64 [==============================] - 0s 32us/step\n",
      "128/128 [==============================] - 0s 25us/step\n",
      "64/64 [==============================] - 0s 57us/step\n",
      "64/64 [==============================] - 0s 42us/step\n",
      "128/128 [==============================] - 0s 27us/step\n",
      "64/64 [==============================] - 0s 42us/step\n",
      "64/64 [==============================] - 0s 32us/step\n",
      "128/128 [==============================] - 0s 23us/step\n",
      "64/64 [==============================] - 0s 39us/step\n",
      "64/64 [==============================] - 0s 40us/step\n"
     ]
    },
    {
     "name": "stderr",
     "output_type": "stream",
     "text": [
      "\r",
      " 35%|███▍      | 347/1000 [00:10<00:19, 33.71it/s]"
     ]
    },
    {
     "name": "stdout",
     "output_type": "stream",
     "text": [
      "128/128 [==============================] - 0s 23us/step\n",
      "64/64 [==============================] - 0s 47us/step\n",
      "64/64 [==============================] - 0s 50us/step\n",
      "128/128 [==============================] - 0s 24us/step\n",
      "64/64 [==============================] - 0s 42us/step\n",
      "64/64 [==============================] - 0s 27us/step\n",
      "128/128 [==============================] - 0s 24us/step\n",
      "64/64 [==============================] - 0s 44us/step\n",
      "64/64 [==============================] - 0s 28us/step\n",
      "128/128 [==============================] - 0s 27us/step\n",
      "64/64 [==============================] - 0s 30us/step\n",
      "64/64 [==============================] - 0s 28us/step\n",
      "128/128 [==============================] - 0s 25us/step\n",
      "64/64 [==============================] - 0s 53us/step\n",
      "64/64 [==============================] - 0s 43us/step\n"
     ]
    },
    {
     "name": "stderr",
     "output_type": "stream",
     "text": [
      "\r",
      " 35%|███▌      | 352/1000 [00:10<00:19, 33.83it/s]"
     ]
    },
    {
     "name": "stdout",
     "output_type": "stream",
     "text": [
      "128/128 [==============================] - 0s 24us/step\n",
      "64/64 [==============================] - 0s 33us/step\n",
      "64/64 [==============================] - 0s 51us/step\n",
      "128/128 [==============================] - 0s 31us/step\n",
      "64/64 [==============================] - 0s 44us/step\n",
      "64/64 [==============================] - 0s 53us/step\n",
      "128/128 [==============================] - 0s 36us/step\n",
      "64/64 [==============================] - 0s 29us/step\n",
      "64/64 [==============================] - 0s 53us/step\n",
      "128/128 [==============================] - 0s 23us/step\n",
      "64/64 [==============================] - 0s 30us/step\n",
      "64/64 [==============================] - 0s 26us/step\n",
      "128/128 [==============================] - 0s 30us/step\n",
      "64/64 [==============================] - 0s 27us/step\n",
      "64/64 [==============================] - 0s 52us/step\n"
     ]
    },
    {
     "name": "stderr",
     "output_type": "stream",
     "text": [
      "\r",
      " 36%|███▌      | 357/1000 [00:10<00:18, 33.94it/s]"
     ]
    },
    {
     "name": "stdout",
     "output_type": "stream",
     "text": [
      "128/128 [==============================] - 0s 35us/step\n",
      "64/64 [==============================] - 0s 44us/step\n",
      "64/64 [==============================] - 0s 29us/step\n",
      "128/128 [==============================] - 0s 29us/step\n",
      "64/64 [==============================] - 0s 43us/step\n",
      "64/64 [==============================] - 0s 44us/step\n",
      "128/128 [==============================] - 0s 28us/step\n",
      "64/64 [==============================] - 0s 30us/step\n",
      "64/64 [==============================] - 0s 56us/step\n",
      "128/128 [==============================] - 0s 28us/step\n",
      "64/64 [==============================] - 0s 27us/step\n",
      "64/64 [==============================] - 0s 35us/step\n",
      "128/128 [==============================] - 0s 33us/step\n",
      "64/64 [==============================] - 0s 43us/step\n",
      "64/64 [==============================] - 0s 52us/step\n"
     ]
    },
    {
     "name": "stderr",
     "output_type": "stream",
     "text": [
      "\r",
      " 36%|███▌      | 362/1000 [00:10<00:18, 34.05it/s]"
     ]
    },
    {
     "name": "stdout",
     "output_type": "stream",
     "text": [
      "128/128 [==============================] - 0s 34us/step\n",
      "64/64 [==============================] - 0s 40us/step\n",
      "64/64 [==============================] - 0s 42us/step\n",
      "128/128 [==============================] - 0s 26us/step\n",
      "64/64 [==============================] - 0s 39us/step\n",
      "64/64 [==============================] - 0s 32us/step\n",
      "128/128 [==============================] - 0s 33us/step\n",
      "64/64 [==============================] - 0s 46us/step\n",
      "64/64 [==============================] - 0s 58us/step\n",
      "128/128 [==============================] - 0s 26us/step\n",
      "64/64 [==============================] - 0s 31us/step\n",
      "64/64 [==============================] - 0s 28us/step\n",
      "128/128 [==============================] - 0s 24us/step\n",
      "64/64 [==============================] - 0s 32us/step\n",
      "64/64 [==============================] - 0s 43us/step\n"
     ]
    },
    {
     "name": "stderr",
     "output_type": "stream",
     "text": [
      "\r",
      " 37%|███▋      | 367/1000 [00:10<00:18, 34.15it/s]"
     ]
    },
    {
     "name": "stdout",
     "output_type": "stream",
     "text": [
      "128/128 [==============================] - 0s 35us/step\n",
      "64/64 [==============================] - 0s 65us/step\n",
      "64/64 [==============================] - 0s 34us/step\n",
      "128/128 [==============================] - 0s 27us/step\n",
      "64/64 [==============================] - 0s 43us/step\n",
      "64/64 [==============================] - 0s 35us/step\n",
      "128/128 [==============================] - 0s 23us/step\n",
      "64/64 [==============================] - 0s 41us/step\n",
      "64/64 [==============================] - 0s 36us/step\n",
      "128/128 [==============================] - 0s 25us/step\n",
      "64/64 [==============================] - 0s 50us/step\n",
      "64/64 [==============================] - 0s 59us/step\n",
      "128/128 [==============================] - 0s 26us/step\n",
      "64/64 [==============================] - 0s 48us/step\n",
      "64/64 [==============================] - 0s 60us/step\n"
     ]
    },
    {
     "name": "stderr",
     "output_type": "stream",
     "text": [
      "\r",
      " 37%|███▋      | 372/1000 [00:10<00:18, 34.25it/s]"
     ]
    },
    {
     "name": "stdout",
     "output_type": "stream",
     "text": [
      "128/128 [==============================] - 0s 27us/step\n",
      "64/64 [==============================] - 0s 43us/step\n",
      "64/64 [==============================] - 0s 33us/step\n",
      "128/128 [==============================] - 0s 28us/step\n",
      "64/64 [==============================] - 0s 32us/step\n",
      "64/64 [==============================] - 0s 39us/step\n",
      "128/128 [==============================] - 0s 33us/step\n",
      "64/64 [==============================] - 0s 45us/step\n",
      "64/64 [==============================] - 0s 30us/step\n",
      "128/128 [==============================] - 0s 25us/step\n",
      "64/64 [==============================] - 0s 48us/step\n",
      "64/64 [==============================] - 0s 35us/step\n",
      "128/128 [==============================] - 0s 34us/step\n",
      "64/64 [==============================] - 0s 58us/step\n",
      "64/64 [==============================] - 0s 45us/step\n"
     ]
    },
    {
     "name": "stderr",
     "output_type": "stream",
     "text": [
      "\r",
      " 38%|███▊      | 377/1000 [00:10<00:18, 34.35it/s]"
     ]
    },
    {
     "name": "stdout",
     "output_type": "stream",
     "text": [
      "128/128 [==============================] - 0s 27us/step\n",
      "64/64 [==============================] - 0s 35us/step\n",
      "64/64 [==============================] - 0s 49us/step\n",
      "128/128 [==============================] - 0s 24us/step\n",
      "64/64 [==============================] - 0s 45us/step\n",
      "64/64 [==============================] - 0s 31us/step\n",
      "128/128 [==============================] - 0s 27us/step\n",
      "64/64 [==============================] - 0s 30us/step\n",
      "64/64 [==============================] - 0s 32us/step\n",
      "128/128 [==============================] - 0s 21us/step\n",
      "64/64 [==============================] - 0s 42us/step\n",
      "64/64 [==============================] - 0s 49us/step\n",
      "128/128 [==============================] - 0s 32us/step\n",
      "64/64 [==============================] - 0s 44us/step\n",
      "64/64 [==============================] - 0s 28us/step\n"
     ]
    },
    {
     "name": "stderr",
     "output_type": "stream",
     "text": [
      "\r",
      " 38%|███▊      | 382/1000 [00:11<00:17, 34.44it/s]"
     ]
    },
    {
     "name": "stdout",
     "output_type": "stream",
     "text": [
      "128/128 [==============================] - 0s 23us/step\n",
      "64/64 [==============================] - 0s 33us/step\n",
      "64/64 [==============================] - 0s 45us/step\n",
      "128/128 [==============================] - 0s 24us/step\n",
      "64/64 [==============================] - 0s 42us/step\n",
      "64/64 [==============================] - 0s 47us/step\n",
      "128/128 [==============================] - 0s 34us/step\n",
      "64/64 [==============================] - 0s 39us/step\n",
      "64/64 [==============================] - 0s 30us/step\n",
      "128/128 [==============================] - 0s 27us/step\n",
      "64/64 [==============================] - 0s 29us/step\n",
      "64/64 [==============================] - 0s 28us/step\n",
      "128/128 [==============================] - 0s 34us/step\n",
      "64/64 [==============================] - 0s 56us/step\n",
      "64/64 [==============================] - 0s 29us/step\n"
     ]
    },
    {
     "name": "stderr",
     "output_type": "stream",
     "text": [
      "\r",
      " 39%|███▊      | 387/1000 [00:11<00:17, 34.54it/s]"
     ]
    },
    {
     "name": "stdout",
     "output_type": "stream",
     "text": [
      "128/128 [==============================] - 0s 26us/step\n",
      "64/64 [==============================] - 0s 55us/step\n",
      "64/64 [==============================] - 0s 31us/step\n",
      "128/128 [==============================] - 0s 39us/step\n",
      "64/64 [==============================] - 0s 41us/step\n",
      "64/64 [==============================] - 0s 33us/step\n",
      "128/128 [==============================] - 0s 23us/step\n",
      "64/64 [==============================] - 0s 27us/step\n",
      "64/64 [==============================] - 0s 33us/step\n",
      "128/128 [==============================] - 0s 34us/step\n",
      "64/64 [==============================] - 0s 58us/step\n",
      "64/64 [==============================] - 0s 34us/step\n",
      "128/128 [==============================] - 0s 22us/step\n",
      "64/64 [==============================] - 0s 46us/step\n",
      "64/64 [==============================] - 0s 49us/step\n"
     ]
    },
    {
     "name": "stderr",
     "output_type": "stream",
     "text": [
      "\r",
      " 39%|███▉      | 392/1000 [00:11<00:17, 34.63it/s]"
     ]
    },
    {
     "name": "stdout",
     "output_type": "stream",
     "text": [
      "128/128 [==============================] - 0s 37us/step\n",
      "64/64 [==============================] - 0s 33us/step\n",
      "64/64 [==============================] - 0s 44us/step\n",
      "128/128 [==============================] - 0s 24us/step\n",
      "64/64 [==============================] - 0s 35us/step\n",
      "64/64 [==============================] - 0s 46us/step\n",
      "128/128 [==============================] - 0s 24us/step\n",
      "64/64 [==============================] - 0s 45us/step\n",
      "64/64 [==============================] - 0s 60us/step\n",
      "128/128 [==============================] - 0s 24us/step\n",
      "64/64 [==============================] - 0s 38us/step\n",
      "64/64 [==============================] - 0s 42us/step\n",
      "128/128 [==============================] - 0s 28us/step\n",
      "64/64 [==============================] - 0s 43us/step\n",
      "64/64 [==============================] - 0s 47us/step\n"
     ]
    },
    {
     "name": "stderr",
     "output_type": "stream",
     "text": [
      "\r",
      " 40%|███▉      | 397/1000 [00:11<00:17, 34.72it/s]"
     ]
    },
    {
     "name": "stdout",
     "output_type": "stream",
     "text": [
      "128/128 [==============================] - 0s 27us/step\n",
      "64/64 [==============================] - 0s 51us/step\n",
      "64/64 [==============================] - 0s 46us/step\n",
      "128/128 [==============================] - 0s 30us/step\n",
      "64/64 [==============================] - 0s 39us/step\n",
      "64/64 [==============================] - 0s 30us/step\n",
      "128/128 [==============================] - 0s 23us/step\n",
      "64/64 [==============================] - 0s 42us/step\n",
      "64/64 [==============================] - 0s 62us/step\n",
      "128/128 [==============================] - 0s 26us/step\n",
      "64/64 [==============================] - 0s 31us/step\n",
      "64/64 [==============================] - 0s 32us/step\n",
      "128/128 [==============================] - 0s 26us/step\n",
      "64/64 [==============================] - 0s 35us/step\n",
      "64/64 [==============================] - 0s 49us/step\n"
     ]
    },
    {
     "name": "stderr",
     "output_type": "stream",
     "text": [
      "\r",
      " 40%|████      | 402/1000 [00:11<00:17, 34.81it/s]"
     ]
    },
    {
     "name": "stdout",
     "output_type": "stream",
     "text": [
      "128/128 [==============================] - 0s 24us/step\n",
      "64/64 [==============================] - 0s 50us/step\n",
      "64/64 [==============================] - 0s 54us/step\n",
      "128/128 [==============================] - 0s 32us/step\n",
      "64/64 [==============================] - 0s 33us/step\n",
      "64/64 [==============================] - 0s 32us/step\n",
      "128/128 [==============================] - 0s 22us/step\n",
      "64/64 [==============================] - 0s 35us/step\n",
      "64/64 [==============================] - 0s 59us/step\n",
      "128/128 [==============================] - 0s 28us/step\n",
      "64/64 [==============================] - 0s 37us/step\n",
      "64/64 [==============================] - 0s 33us/step\n",
      "128/128 [==============================] - 0s 23us/step\n",
      "64/64 [==============================] - 0s 33us/step\n",
      "64/64 [==============================] - 0s 39us/step\n"
     ]
    },
    {
     "name": "stderr",
     "output_type": "stream",
     "text": [
      "\r",
      " 41%|████      | 407/1000 [00:11<00:16, 34.91it/s]"
     ]
    },
    {
     "name": "stdout",
     "output_type": "stream",
     "text": [
      "128/128 [==============================] - 0s 24us/step\n",
      "64/64 [==============================] - ETA:  - 0s 32us/step\n",
      "64/64 [==============================] - 0s 32us/step\n",
      "128/128 [==============================] - 0s 25us/step\n",
      "64/64 [==============================] - 0s 34us/step\n",
      "64/64 [==============================] - 0s 49us/step\n",
      "128/128 [==============================] - 0s 32us/step\n",
      "64/64 [==============================] - 0s 62us/step\n",
      "64/64 [==============================] - 0s 44us/step\n",
      "128/128 [==============================] - 0s 25us/step\n",
      "64/64 [==============================] - 0s 57us/step\n",
      "64/64 [==============================] - 0s 33us/step\n",
      "128/128 [==============================] - 0s 57us/step\n",
      "64/64 [==============================] - 0s 39us/step\n",
      "64/64 [==============================] - 0s 44us/step\n"
     ]
    },
    {
     "name": "stderr",
     "output_type": "stream",
     "text": [
      "\r",
      " 41%|████      | 412/1000 [00:11<00:16, 34.99it/s]"
     ]
    },
    {
     "name": "stdout",
     "output_type": "stream",
     "text": [
      "128/128 [==============================] - 0s 24us/step\n",
      "64/64 [==============================] - 0s 46us/step\n",
      "64/64 [==============================] - 0s 50us/step\n",
      "128/128 [==============================] - 0s 54us/step\n",
      "64/64 [==============================] - 0s 31us/step\n",
      "64/64 [==============================] - 0s 45us/step\n",
      "128/128 [==============================] - 0s 28us/step\n",
      "64/64 [==============================] - 0s 36us/step\n",
      "64/64 [==============================] - 0s 26us/step\n",
      "128/128 [==============================] - 0s 30us/step\n",
      "64/64 [==============================] - 0s 30us/step\n",
      "64/64 [==============================] - 0s 29us/step\n",
      "128/128 [==============================] - 0s 33us/step\n",
      "64/64 [==============================] - 0s 47us/step\n",
      "64/64 [==============================] - 0s 58us/step\n"
     ]
    },
    {
     "name": "stderr",
     "output_type": "stream",
     "text": [
      "\r",
      " 42%|████▏     | 417/1000 [00:11<00:16, 35.07it/s]"
     ]
    },
    {
     "name": "stdout",
     "output_type": "stream",
     "text": [
      "128/128 [==============================] - 0s 23us/step\n",
      "64/64 [==============================] - 0s 27us/step\n",
      "64/64 [==============================] - 0s 31us/step\n",
      "128/128 [==============================] - 0s 26us/step\n",
      "64/64 [==============================] - 0s 56us/step\n",
      "64/64 [==============================] - 0s 53us/step\n",
      "128/128 [==============================] - 0s 33us/step\n",
      "64/64 [==============================] - 0s 55us/step\n",
      "64/64 [==============================] - 0s 35us/step\n",
      "128/128 [==============================] - 0s 31us/step\n",
      "64/64 [==============================] - 0s 43us/step\n",
      "64/64 [==============================] - 0s 33us/step\n",
      "128/128 [==============================] - 0s 37us/step\n",
      "64/64 [==============================] - 0s 39us/step\n",
      "64/64 [==============================] - 0s 45us/step\n"
     ]
    },
    {
     "name": "stderr",
     "output_type": "stream",
     "text": [
      "\r",
      " 42%|████▏     | 422/1000 [00:12<00:16, 35.15it/s]"
     ]
    },
    {
     "name": "stdout",
     "output_type": "stream",
     "text": [
      "128/128 [==============================] - 0s 31us/step\n",
      "64/64 [==============================] - 0s 28us/step\n",
      "64/64 [==============================] - 0s 37us/step\n",
      "128/128 [==============================] - 0s 24us/step\n",
      "64/64 [==============================] - 0s 57us/step\n",
      "64/64 [==============================] - 0s 33us/step\n",
      "128/128 [==============================] - 0s 36us/step\n",
      "64/64 [==============================] - 0s 35us/step\n",
      "64/64 [==============================] - 0s 33us/step\n",
      "128/128 [==============================] - 0s 27us/step\n",
      "64/64 [==============================] - 0s 32us/step\n",
      "64/64 [==============================] - 0s 45us/step\n",
      "128/128 [==============================] - 0s 29us/step\n",
      "64/64 [==============================] - 0s 29us/step\n",
      "64/64 [==============================] - 0s 50us/step\n"
     ]
    },
    {
     "name": "stderr",
     "output_type": "stream",
     "text": [
      "\r",
      " 43%|████▎     | 427/1000 [00:12<00:16, 35.23it/s]"
     ]
    },
    {
     "name": "stdout",
     "output_type": "stream",
     "text": [
      "128/128 [==============================] - 0s 28us/step\n",
      "64/64 [==============================] - 0s 29us/step\n",
      "64/64 [==============================] - 0s 30us/step\n",
      "128/128 [==============================] - 0s 25us/step\n",
      "64/64 [==============================] - 0s 32us/step\n",
      "64/64 [==============================] - 0s 30us/step\n",
      "128/128 [==============================] - 0s 26us/step\n",
      "64/64 [==============================] - 0s 33us/step\n",
      "64/64 [==============================] - 0s 32us/step\n",
      "128/128 [==============================] - 0s 28us/step\n",
      "64/64 [==============================] - 0s 34us/step\n",
      "64/64 [==============================] - 0s 39us/step\n",
      "128/128 [==============================] - 0s 29us/step\n",
      "64/64 [==============================] - 0s 44us/step\n",
      "64/64 [==============================] - 0s 36us/step\n"
     ]
    },
    {
     "name": "stderr",
     "output_type": "stream",
     "text": [
      "\r",
      " 43%|████▎     | 432/1000 [00:12<00:16, 35.33it/s]"
     ]
    },
    {
     "name": "stdout",
     "output_type": "stream",
     "text": [
      "128/128 [==============================] - 0s 23us/step\n",
      "64/64 [==============================] - 0s 40us/step\n",
      "64/64 [==============================] - 0s 65us/step\n",
      "128/128 [==============================] - 0s 28us/step\n",
      "64/64 [==============================] - 0s 47us/step\n",
      "64/64 [==============================] - 0s 26us/step\n",
      "128/128 [==============================] - 0s 31us/step\n",
      "64/64 [==============================] - 0s 32us/step\n",
      "64/64 [==============================] - 0s 44us/step\n",
      "128/128 [==============================] - 0s 25us/step\n",
      "64/64 [==============================] - 0s 40us/step\n",
      "64/64 [==============================] - 0s 47us/step\n",
      "128/128 [==============================] - 0s 23us/step\n",
      "64/64 [==============================] - 0s 30us/step\n",
      "64/64 [==============================] - 0s 41us/step\n"
     ]
    },
    {
     "name": "stderr",
     "output_type": "stream",
     "text": [
      "\r",
      " 44%|████▎     | 437/1000 [00:12<00:15, 35.41it/s]"
     ]
    },
    {
     "name": "stdout",
     "output_type": "stream",
     "text": [
      "128/128 [==============================] - 0s 24us/step\n",
      "64/64 [==============================] - 0s 33us/step\n",
      "64/64 [==============================] - 0s 29us/step\n",
      "128/128 [==============================] - 0s 24us/step\n",
      "64/64 [==============================] - 0s 34us/step\n",
      "64/64 [==============================] - 0s 35us/step\n",
      "128/128 [==============================] - 0s 25us/step\n",
      "64/64 [==============================] - 0s 46us/step\n",
      "64/64 [==============================] - 0s 50us/step\n",
      "128/128 [==============================] - 0s 27us/step\n",
      "64/64 [==============================] - 0s 37us/step\n",
      "64/64 [==============================] - 0s 33us/step\n",
      "128/128 [==============================] - 0s 35us/step\n",
      "64/64 [==============================] - 0s 62us/step\n",
      "64/64 [==============================] - 0s 37us/step\n"
     ]
    },
    {
     "name": "stderr",
     "output_type": "stream",
     "text": [
      "\r",
      " 44%|████▍     | 442/1000 [00:12<00:15, 35.50it/s]"
     ]
    },
    {
     "name": "stdout",
     "output_type": "stream",
     "text": [
      "128/128 [==============================] - 0s 23us/step\n",
      "64/64 [==============================] - 0s 47us/step\n",
      "64/64 [==============================] - 0s 28us/step\n",
      "128/128 [==============================] - 0s 25us/step\n",
      "64/64 [==============================] - 0s 26us/step\n",
      "64/64 [==============================] - 0s 35us/step\n",
      "128/128 [==============================] - 0s 24us/step\n",
      "64/64 [==============================] - 0s 45us/step\n",
      "64/64 [==============================] - 0s 49us/step\n",
      "128/128 [==============================] - 0s 32us/step\n",
      "64/64 [==============================] - 0s 41us/step\n",
      "64/64 [==============================] - 0s 45us/step\n",
      "128/128 [==============================] - 0s 34us/step\n",
      "64/64 [==============================] - 0s 34us/step\n",
      "64/64 [==============================] - 0s 35us/step\n"
     ]
    },
    {
     "name": "stderr",
     "output_type": "stream",
     "text": [
      "\r",
      " 45%|████▍     | 447/1000 [00:12<00:15, 35.58it/s]"
     ]
    },
    {
     "name": "stdout",
     "output_type": "stream",
     "text": [
      "128/128 [==============================] - 0s 32us/step\n",
      "64/64 [==============================] - 0s 53us/step\n",
      "64/64 [==============================] - 0s 46us/step\n",
      "128/128 [==============================] - 0s 34us/step\n",
      "64/64 [==============================] - 0s 35us/step\n",
      "64/64 [==============================] - 0s 58us/step\n",
      "128/128 [==============================] - 0s 22us/step\n",
      "64/64 [==============================] - 0s 43us/step\n",
      "64/64 [==============================] - 0s 63us/step\n",
      "128/128 [==============================] - 0s 30us/step\n",
      "64/64 [==============================] - 0s 55us/step\n",
      "64/64 [==============================] - 0s 38us/step\n",
      "128/128 [==============================] - 0s 30us/step\n",
      "64/64 [==============================] - 0s 30us/step\n",
      "64/64 [==============================] - 0s 48us/step\n"
     ]
    },
    {
     "name": "stderr",
     "output_type": "stream",
     "text": [
      "\r",
      " 45%|████▌     | 452/1000 [00:12<00:15, 35.64it/s]"
     ]
    },
    {
     "name": "stdout",
     "output_type": "stream",
     "text": [
      "128/128 [==============================] - 0s 25us/step\n",
      "64/64 [==============================] - 0s 55us/step\n",
      "64/64 [==============================] - 0s 33us/step\n",
      "128/128 [==============================] - 0s 27us/step\n",
      "64/64 [==============================] - 0s 32us/step\n",
      "64/64 [==============================] - 0s 34us/step\n",
      "128/128 [==============================] - 0s 27us/step\n",
      "64/64 [==============================] - 0s 28us/step\n",
      "64/64 [==============================] - 0s 46us/step\n",
      "128/128 [==============================] - 0s 30us/step\n",
      "64/64 [==============================] - 0s 44us/step\n",
      "64/64 [==============================] - 0s 52us/step\n",
      "128/128 [==============================] - 0s 25us/step\n",
      "64/64 [==============================] - 0s 47us/step\n",
      "64/64 [==============================] - 0s 33us/step\n"
     ]
    },
    {
     "name": "stderr",
     "output_type": "stream",
     "text": [
      "\r",
      " 46%|████▌     | 457/1000 [00:12<00:15, 35.72it/s]"
     ]
    },
    {
     "name": "stdout",
     "output_type": "stream",
     "text": [
      "128/128 [==============================] - 0s 23us/step\n",
      "64/64 [==============================] - 0s 55us/step\n",
      "64/64 [==============================] - 0s 48us/step\n",
      "128/128 [==============================] - 0s 24us/step\n",
      "64/64 [==============================] - 0s 45us/step\n",
      "64/64 [==============================] - 0s 30us/step\n",
      "128/128 [==============================] - 0s 29us/step\n",
      "64/64 [==============================] - 0s 29us/step\n",
      "64/64 [==============================] - 0s 45us/step\n",
      "128/128 [==============================] - 0s 24us/step\n",
      "64/64 [==============================] - 0s 34us/step\n",
      "64/64 [==============================] - 0s 48us/step\n",
      "128/128 [==============================] - 0s 27us/step\n",
      "64/64 [==============================] - 0s 49us/step\n",
      "64/64 [==============================] - 0s 36us/step\n"
     ]
    },
    {
     "name": "stderr",
     "output_type": "stream",
     "text": [
      "\r",
      " 46%|████▌     | 462/1000 [00:12<00:15, 35.80it/s]"
     ]
    },
    {
     "name": "stdout",
     "output_type": "stream",
     "text": [
      "128/128 [==============================] - 0s 24us/step\n",
      "64/64 [==============================] - 0s 42us/step\n",
      "64/64 [==============================] - 0s 52us/step\n",
      "128/128 [==============================] - 0s 34us/step\n",
      "64/64 [==============================] - 0s 35us/step\n",
      "64/64 [==============================] - 0s 51us/step\n",
      "128/128 [==============================] - 0s 25us/step\n",
      "64/64 [==============================] - 0s 60us/step\n",
      "64/64 [==============================] - 0s 28us/step\n",
      "128/128 [==============================] - 0s 24us/step\n",
      "64/64 [==============================] - 0s 98us/step\n",
      "64/64 [==============================] - 0s 47us/step\n",
      "128/128 [==============================] - 0s 26us/step\n",
      "64/64 [==============================] - 0s 39us/step\n",
      "64/64 [==============================] - 0s 42us/step\n"
     ]
    },
    {
     "name": "stderr",
     "output_type": "stream",
     "text": [
      "\r",
      " 47%|████▋     | 467/1000 [00:13<00:14, 35.85it/s]"
     ]
    },
    {
     "name": "stdout",
     "output_type": "stream",
     "text": [
      "128/128 [==============================] - 0s 30us/step\n",
      "64/64 [==============================] - 0s 51us/step\n",
      "64/64 [==============================] - 0s 46us/step\n",
      "128/128 [==============================] - 0s 25us/step\n",
      "64/64 [==============================] - 0s 30us/step\n",
      "64/64 [==============================] - 0s 30us/step\n",
      "128/128 [==============================] - 0s 26us/step\n",
      "64/64 [==============================] - 0s 29us/step\n",
      "64/64 [==============================] - 0s 28us/step\n",
      "128/128 [==============================] - 0s 27us/step\n",
      "64/64 [==============================] - 0s 49us/step\n",
      "64/64 [==============================] - 0s 38us/step\n",
      "128/128 [==============================] - 0s 22us/step\n",
      "64/64 [==============================] - 0s 32us/step\n",
      "64/64 [==============================] - 0s 61us/step\n"
     ]
    },
    {
     "name": "stderr",
     "output_type": "stream",
     "text": [
      "\r",
      " 47%|████▋     | 472/1000 [00:13<00:14, 35.94it/s]"
     ]
    },
    {
     "name": "stdout",
     "output_type": "stream",
     "text": [
      "128/128 [==============================] - 0s 34us/step\n",
      "64/64 [==============================] - 0s 42us/step\n",
      "64/64 [==============================] - 0s 45us/step\n",
      "128/128 [==============================] - 0s 22us/step\n",
      "64/64 [==============================] - 0s 43us/step\n",
      "64/64 [==============================] - 0s 24us/step\n",
      "128/128 [==============================] - 0s 24us/step\n",
      "64/64 [==============================] - 0s 30us/step\n",
      "64/64 [==============================] - 0s 32us/step\n",
      "128/128 [==============================] - 0s 27us/step\n",
      "64/64 [==============================] - 0s 45us/step\n",
      "64/64 [==============================] - 0s 23us/step\n",
      "128/128 [==============================] - 0s 31us/step\n",
      "64/64 [==============================] - 0s 44us/step\n",
      "64/64 [==============================] - 0s 54us/step\n"
     ]
    },
    {
     "name": "stderr",
     "output_type": "stream",
     "text": [
      "\r",
      " 48%|████▊     | 477/1000 [00:13<00:14, 36.01it/s]"
     ]
    },
    {
     "name": "stdout",
     "output_type": "stream",
     "text": [
      "128/128 [==============================] - 0s 24us/step\n",
      "64/64 [==============================] - 0s 55us/step\n",
      "64/64 [==============================] - 0s 46us/step\n",
      "128/128 [==============================] - 0s 34us/step\n",
      "64/64 [==============================] - 0s 29us/step\n",
      "64/64 [==============================] - 0s 39us/step\n",
      "128/128 [==============================] - 0s 25us/step\n",
      "64/64 [==============================] - 0s 50us/step\n",
      "64/64 [==============================] - 0s 57us/step\n",
      "128/128 [==============================] - 0s 33us/step\n",
      "64/64 [==============================] - 0s 45us/step\n",
      "64/64 [==============================] - 0s 50us/step\n",
      "128/128 [==============================] - 0s 30us/step\n",
      "64/64 [==============================] - 0s 57us/step\n",
      "64/64 [==============================] - 0s 46us/step\n"
     ]
    },
    {
     "name": "stderr",
     "output_type": "stream",
     "text": [
      "\r",
      " 48%|████▊     | 482/1000 [00:13<00:14, 36.06it/s]"
     ]
    },
    {
     "name": "stdout",
     "output_type": "stream",
     "text": [
      "128/128 [==============================] - 0s 26us/step\n",
      "64/64 [==============================] - 0s 51us/step\n",
      "64/64 [==============================] - 0s 31us/step\n",
      "128/128 [==============================] - 0s 25us/step\n",
      "64/64 [==============================] - 0s 38us/step\n",
      "64/64 [==============================] - 0s 45us/step\n",
      "128/128 [==============================] - 0s 24us/step\n",
      "64/64 [==============================] - 0s 38us/step\n",
      "64/64 [==============================] - 0s 53us/step\n",
      "128/128 [==============================] - 0s 25us/step\n",
      "64/64 [==============================] - 0s 39us/step\n",
      "64/64 [==============================] - 0s 33us/step\n",
      "128/128 [==============================] - 0s 31us/step\n",
      "64/64 [==============================] - 0s 28us/step\n",
      "64/64 [==============================] - 0s 37us/step\n"
     ]
    },
    {
     "name": "stderr",
     "output_type": "stream",
     "text": [
      "\r",
      " 49%|████▊     | 487/1000 [00:13<00:14, 36.14it/s]"
     ]
    },
    {
     "name": "stdout",
     "output_type": "stream",
     "text": [
      "128/128 [==============================] - 0s 31us/step\n",
      "64/64 [==============================] - 0s 42us/step\n",
      "64/64 [==============================] - 0s 59us/step\n",
      "128/128 [==============================] - 0s 31us/step\n",
      "64/64 [==============================] - 0s 32us/step\n",
      "64/64 [==============================] - 0s 41us/step\n",
      "128/128 [==============================] - 0s 24us/step\n",
      "64/64 [==============================] - 0s 51us/step\n",
      "64/64 [==============================] - 0s 28us/step\n",
      "128/128 [==============================] - 0s 24us/step\n",
      "64/64 [==============================] - 0s 36us/step\n",
      "64/64 [==============================] - 0s 53us/step\n",
      "128/128 [==============================] - 0s 34us/step\n",
      "64/64 [==============================] - 0s 54us/step\n",
      "64/64 [==============================] - 0s 39us/step\n"
     ]
    },
    {
     "name": "stderr",
     "output_type": "stream",
     "text": [
      "\r",
      " 49%|████▉     | 492/1000 [00:13<00:14, 36.20it/s]"
     ]
    },
    {
     "name": "stdout",
     "output_type": "stream",
     "text": [
      "128/128 [==============================] - 0s 22us/step\n",
      "64/64 [==============================] - 0s 36us/step\n",
      "64/64 [==============================] - 0s 43us/step\n",
      "128/128 [==============================] - 0s 53us/step\n",
      "64/64 [==============================] - 0s 39us/step\n",
      "64/64 [==============================] - 0s 49us/step\n",
      "128/128 [==============================] - 0s 31us/step\n",
      "64/64 [==============================] - 0s 41us/step\n",
      "64/64 [==============================] - 0s 45us/step\n",
      "128/128 [==============================] - 0s 24us/step\n",
      "64/64 [==============================] - 0s 39us/step\n",
      "64/64 [==============================] - 0s 32us/step\n",
      "128/128 [==============================] - 0s 28us/step\n",
      "64/64 [==============================] - 0s 41us/step\n",
      "64/64 [==============================] - 0s 52us/step\n"
     ]
    },
    {
     "name": "stderr",
     "output_type": "stream",
     "text": [
      "\r",
      " 50%|████▉     | 497/1000 [00:13<00:13, 36.26it/s]"
     ]
    },
    {
     "name": "stdout",
     "output_type": "stream",
     "text": [
      "128/128 [==============================] - 0s 32us/step\n",
      "64/64 [==============================] - 0s 31us/step\n",
      "64/64 [==============================] - 0s 33us/step\n",
      "128/128 [==============================] - 0s 26us/step\n",
      "64/64 [==============================] - 0s 50us/step\n",
      "64/64 [==============================] - 0s 43us/step\n",
      "128/128 [==============================] - 0s 30us/step\n",
      "64/64 [==============================] - 0s 32us/step\n",
      "64/64 [==============================] - 0s 26us/step\n",
      "128/128 [==============================] - 0s 32us/step\n",
      "64/64 [==============================] - 0s 56us/step\n",
      "64/64 [==============================] - 0s 52us/step\n",
      "128/128 [==============================] - 0s 37us/step\n",
      "64/64 [==============================] - 0s 37us/step\n",
      "64/64 [==============================] - 0s 48us/step\n"
     ]
    },
    {
     "name": "stderr",
     "output_type": "stream",
     "text": [
      "\r",
      " 50%|█████     | 502/1000 [00:13<00:13, 36.32it/s]"
     ]
    },
    {
     "name": "stdout",
     "output_type": "stream",
     "text": [
      "128/128 [==============================] - 0s 24us/step\n",
      "64/64 [==============================] - 0s 33us/step\n",
      "64/64 [==============================] - 0s 54us/step\n",
      "128/128 [==============================] - 0s 25us/step\n",
      "64/64 [==============================] - 0s 54us/step\n",
      "64/64 [==============================] - 0s 47us/step\n",
      "128/128 [==============================] - 0s 31us/step\n",
      "64/64 [==============================] - 0s 38us/step\n",
      "64/64 [==============================] - 0s 29us/step\n",
      "128/128 [==============================] - 0s 24us/step\n",
      "64/64 [==============================] - 0s 30us/step\n",
      "64/64 [==============================] - 0s 31us/step\n",
      "128/128 [==============================] - 0s 26us/step\n",
      "64/64 [==============================] - 0s 35us/step\n",
      "64/64 [==============================] - 0s 48us/step\n"
     ]
    },
    {
     "name": "stderr",
     "output_type": "stream",
     "text": [
      "\r",
      " 51%|█████     | 507/1000 [00:13<00:13, 36.38it/s]"
     ]
    },
    {
     "name": "stdout",
     "output_type": "stream",
     "text": [
      "128/128 [==============================] - 0s 27us/step\n",
      "64/64 [==============================] - 0s 42us/step\n",
      "64/64 [==============================] - 0s 31us/step\n",
      "128/128 [==============================] - 0s 23us/step\n",
      "64/64 [==============================] - 0s 32us/step\n",
      "64/64 [==============================] - 0s 31us/step\n",
      "128/128 [==============================] - 0s 25us/step\n",
      "64/64 [==============================] - 0s 29us/step\n",
      "64/64 [==============================] - 0s 32us/step\n",
      "128/128 [==============================] - 0s 32us/step\n",
      "64/64 [==============================] - 0s 31us/step\n",
      "64/64 [==============================] - 0s 44us/step\n",
      "128/128 [==============================] - 0s 24us/step\n",
      "64/64 [==============================] - 0s 43us/step\n",
      "64/64 [==============================] - 0s 28us/step\n"
     ]
    },
    {
     "name": "stderr",
     "output_type": "stream",
     "text": [
      "\r",
      " 51%|█████     | 512/1000 [00:14<00:13, 36.46it/s]"
     ]
    },
    {
     "name": "stdout",
     "output_type": "stream",
     "text": [
      "128/128 [==============================] - 0s 24us/step\n",
      "64/64 [==============================] - 0s 44us/step\n",
      "64/64 [==============================] - 0s 34us/step\n",
      "128/128 [==============================] - 0s 25us/step\n",
      "64/64 [==============================] - 0s 40us/step\n",
      "64/64 [==============================] - 0s 41us/step\n",
      "128/128 [==============================] - 0s 33us/step\n",
      "64/64 [==============================] - 0s 45us/step\n",
      "64/64 [==============================] - 0s 40us/step\n",
      "128/128 [==============================] - 0s 24us/step\n",
      "64/64 [==============================] - 0s 32us/step\n",
      "64/64 [==============================] - 0s 36us/step\n",
      "128/128 [==============================] - 0s 26us/step\n",
      "64/64 [==============================] - 0s 54us/step\n",
      "64/64 [==============================] - 0s 29us/step\n"
     ]
    },
    {
     "name": "stderr",
     "output_type": "stream",
     "text": [
      "\r",
      " 52%|█████▏    | 517/1000 [00:14<00:13, 36.53it/s]"
     ]
    },
    {
     "name": "stdout",
     "output_type": "stream",
     "text": [
      "128/128 [==============================] - 0s 24us/step\n",
      "64/64 [==============================] - 0s 47us/step\n",
      "64/64 [==============================] - 0s 54us/step\n",
      "128/128 [==============================] - 0s 27us/step\n",
      "64/64 [==============================] - 0s 34us/step\n",
      "64/64 [==============================] - 0s 29us/step\n",
      "128/128 [==============================] - 0s 36us/step\n",
      "64/64 [==============================] - 0s 46us/step\n",
      "64/64 [==============================] - 0s 36us/step\n",
      "128/128 [==============================] - 0s 22us/step\n",
      "64/64 [==============================] - 0s 33us/step\n",
      "64/64 [==============================] - 0s 34us/step\n",
      "128/128 [==============================] - 0s 26us/step\n",
      "64/64 [==============================] - 0s 50us/step\n",
      "64/64 [==============================] - 0s 46us/step\n"
     ]
    },
    {
     "name": "stderr",
     "output_type": "stream",
     "text": [
      "\r",
      " 52%|█████▏    | 522/1000 [00:14<00:13, 36.58it/s]"
     ]
    },
    {
     "name": "stdout",
     "output_type": "stream",
     "text": [
      "128/128 [==============================] - 0s 26us/step\n",
      "64/64 [==============================] - 0s 27us/step\n",
      "64/64 [==============================] - 0s 44us/step\n",
      "128/128 [==============================] - 0s 24us/step\n",
      "64/64 [==============================] - 0s 40us/step\n",
      "64/64 [==============================] - 0s 35us/step\n",
      "128/128 [==============================] - 0s 25us/step\n",
      "64/64 [==============================] - 0s 35us/step\n",
      "64/64 [==============================] - 0s 47us/step\n",
      "128/128 [==============================] - 0s 28us/step\n",
      "64/64 [==============================] - 0s 30us/step\n",
      "64/64 [==============================] - 0s 37us/step\n",
      "128/128 [==============================] - 0s 27us/step\n",
      "64/64 [==============================] - 0s 43us/step\n",
      "64/64 [==============================] - 0s 28us/step\n"
     ]
    },
    {
     "name": "stderr",
     "output_type": "stream",
     "text": [
      "\r",
      " 53%|█████▎    | 527/1000 [00:14<00:12, 36.65it/s]"
     ]
    },
    {
     "name": "stdout",
     "output_type": "stream",
     "text": [
      "128/128 [==============================] - 0s 31us/step\n",
      "64/64 [==============================] - 0s 34us/step\n",
      "64/64 [==============================] - 0s 53us/step\n",
      "128/128 [==============================] - 0s 27us/step\n",
      "64/64 [==============================] - 0s 42us/step\n",
      "64/64 [==============================] - 0s 32us/step\n",
      "128/128 [==============================] - 0s 22us/step\n",
      "64/64 [==============================] - 0s 52us/step\n",
      "64/64 [==============================] - 0s 27us/step\n",
      "128/128 [==============================] - 0s 22us/step\n",
      "64/64 [==============================] - 0s 30us/step\n",
      "64/64 [==============================] - 0s 38us/step\n",
      "128/128 [==============================] - 0s 24us/step\n",
      "64/64 [==============================] - 0s 48us/step\n",
      "64/64 [==============================] - 0s 31us/step\n"
     ]
    },
    {
     "name": "stderr",
     "output_type": "stream",
     "text": [
      "\r",
      " 53%|█████▎    | 532/1000 [00:14<00:12, 36.72it/s]"
     ]
    },
    {
     "name": "stdout",
     "output_type": "stream",
     "text": [
      "128/128 [==============================] - 0s 23us/step\n",
      "64/64 [==============================] - 0s 40us/step\n",
      "64/64 [==============================] - 0s 25us/step\n",
      "128/128 [==============================] - 0s 24us/step\n",
      "64/64 [==============================] - 0s 37us/step\n",
      "64/64 [==============================] - 0s 28us/step\n",
      "128/128 [==============================] - 0s 29us/step\n",
      "64/64 [==============================] - 0s 43us/step\n",
      "64/64 [==============================] - 0s 28us/step\n",
      "128/128 [==============================] - 0s 21us/step\n",
      "64/64 [==============================] - 0s 27us/step\n",
      "64/64 [==============================] - ETA:  - 0s 29us/step\n",
      "128/128 [==============================] - 0s 25us/step\n",
      "64/64 [==============================] - 0s 40us/step\n",
      "64/64 [==============================] - 0s 42us/step\n"
     ]
    },
    {
     "name": "stderr",
     "output_type": "stream",
     "text": [
      "\r",
      " 54%|█████▎    | 537/1000 [00:14<00:12, 36.78it/s]"
     ]
    },
    {
     "name": "stdout",
     "output_type": "stream",
     "text": [
      "128/128 [==============================] - 0s 39us/step\n",
      "64/64 [==============================] - 0s 29us/step\n",
      "64/64 [==============================] - 0s 50us/step\n",
      "128/128 [==============================] - 0s 33us/step\n",
      "64/64 [==============================] - 0s 26us/step\n",
      "64/64 [==============================] - 0s 38us/step\n",
      "128/128 [==============================] - 0s 22us/step\n",
      "64/64 [==============================] - 0s 32us/step\n",
      "64/64 [==============================] - 0s 32us/step\n",
      "128/128 [==============================] - 0s 60us/step\n",
      "64/64 [==============================] - 0s 44us/step\n",
      "64/64 [==============================] - 0s 46us/step\n",
      "128/128 [==============================] - 0s 32us/step\n",
      "64/64 [==============================] - 0s 35us/step\n",
      "64/64 [==============================] - 0s 62us/step\n"
     ]
    },
    {
     "name": "stderr",
     "output_type": "stream",
     "text": [
      "\r",
      " 54%|█████▍    | 542/1000 [00:14<00:12, 36.83it/s]"
     ]
    },
    {
     "name": "stdout",
     "output_type": "stream",
     "text": [
      "128/128 [==============================] - 0s 34us/step\n",
      "64/64 [==============================] - 0s 45us/step\n",
      "64/64 [==============================] - 0s 32us/step\n",
      "128/128 [==============================] - 0s 25us/step\n",
      "64/64 [==============================] - 0s 35us/step\n",
      "64/64 [==============================] - 0s 27us/step\n",
      "128/128 [==============================] - 0s 22us/step\n",
      "64/64 [==============================] - 0s 108us/step\n",
      "64/64 [==============================] - 0s 28us/step\n",
      "128/128 [==============================] - 0s 24us/step\n",
      "64/64 [==============================] - 0s 45us/step\n",
      "64/64 [==============================] - 0s 36us/step\n",
      "128/128 [==============================] - 0s 22us/step\n",
      "64/64 [==============================] - 0s 33us/step\n",
      "64/64 [==============================] - 0s 38us/step\n"
     ]
    },
    {
     "name": "stderr",
     "output_type": "stream",
     "text": [
      "\r",
      " 55%|█████▍    | 547/1000 [00:14<00:12, 36.88it/s]"
     ]
    },
    {
     "name": "stdout",
     "output_type": "stream",
     "text": [
      "128/128 [==============================] - 0s 33us/step\n",
      "64/64 [==============================] - 0s 50us/step\n",
      "64/64 [==============================] - 0s 44us/step\n",
      "128/128 [==============================] - 0s 24us/step\n",
      "64/64 [==============================] - 0s 32us/step\n",
      "64/64 [==============================] - 0s 29us/step\n",
      "128/128 [==============================] - 0s 24us/step\n",
      "64/64 [==============================] - 0s 43us/step\n",
      "64/64 [==============================] - 0s 105us/step\n",
      "128/128 [==============================] - 0s 26us/step\n",
      "64/64 [==============================] - 0s 33us/step\n",
      "64/64 [==============================] - 0s 28us/step\n",
      "128/128 [==============================] - 0s 27us/step\n",
      "64/64 [==============================] - 0s 47us/step\n",
      "64/64 [==============================] - 0s 34us/step\n"
     ]
    },
    {
     "name": "stderr",
     "output_type": "stream",
     "text": [
      "\r",
      " 55%|█████▌    | 552/1000 [00:14<00:12, 36.94it/s]"
     ]
    },
    {
     "name": "stdout",
     "output_type": "stream",
     "text": [
      "128/128 [==============================] - 0s 23us/step\n",
      "64/64 [==============================] - 0s 93us/step\n",
      "64/64 [==============================] - 0s 62us/step\n",
      "128/128 [==============================] - 0s 23us/step\n",
      "64/64 [==============================] - 0s 39us/step\n",
      "64/64 [==============================] - 0s 32us/step\n",
      "128/128 [==============================] - 0s 28us/step\n",
      "64/64 [==============================] - 0s 37us/step\n",
      "64/64 [==============================] - 0s 66us/step\n",
      "128/128 [==============================] - 0s 33us/step\n",
      "64/64 [==============================] - 0s 37us/step\n",
      "64/64 [==============================] - 0s 32us/step\n",
      "128/128 [==============================] - 0s 25us/step\n",
      "64/64 [==============================] - 0s 24us/step\n",
      "64/64 [==============================] - 0s 34us/step\n"
     ]
    },
    {
     "name": "stderr",
     "output_type": "stream",
     "text": [
      "\r",
      " 56%|█████▌    | 557/1000 [00:15<00:11, 36.99it/s]"
     ]
    },
    {
     "name": "stdout",
     "output_type": "stream",
     "text": [
      "128/128 [==============================] - 0s 23us/step\n",
      "64/64 [==============================] - 0s 28us/step\n",
      "64/64 [==============================] - 0s 35us/step\n",
      "128/128 [==============================] - 0s 24us/step\n",
      "64/64 [==============================] - 0s 51us/step\n",
      "64/64 [==============================] - 0s 48us/step\n",
      "128/128 [==============================] - 0s 27us/step\n",
      "64/64 [==============================] - 0s 40us/step\n",
      "64/64 [==============================] - 0s 46us/step\n",
      "128/128 [==============================] - 0s 24us/step\n",
      "64/64 [==============================] - 0s 28us/step\n",
      "64/64 [==============================] - 0s 36us/step\n",
      "128/128 [==============================] - 0s 26us/step\n",
      "64/64 [==============================] - 0s 31us/step\n",
      "64/64 [==============================] - 0s 49us/step\n"
     ]
    },
    {
     "name": "stderr",
     "output_type": "stream",
     "text": [
      "\r",
      " 56%|█████▌    | 562/1000 [00:15<00:11, 37.05it/s]"
     ]
    },
    {
     "name": "stdout",
     "output_type": "stream",
     "text": [
      "128/128 [==============================] - 0s 33us/step\n",
      "64/64 [==============================] - 0s 35us/step\n",
      "64/64 [==============================] - 0s 31us/step\n",
      "128/128 [==============================] - 0s 22us/step\n",
      "64/64 [==============================] - 0s 43us/step\n",
      "64/64 [==============================] - 0s 75us/step\n",
      "128/128 [==============================] - 0s 31us/step\n",
      "64/64 [==============================] - 0s 38us/step\n",
      "64/64 [==============================] - 0s 32us/step\n",
      "128/128 [==============================] - 0s 26us/step\n",
      "64/64 [==============================] - 0s 32us/step\n",
      "64/64 [==============================] - 0s 33us/step\n",
      "128/128 [==============================] - 0s 28us/step\n",
      "64/64 [==============================] - 0s 40us/step\n",
      "64/64 [==============================] - 0s 41us/step\n"
     ]
    },
    {
     "name": "stderr",
     "output_type": "stream",
     "text": [
      "\r",
      " 57%|█████▋    | 567/1000 [00:15<00:11, 37.10it/s]"
     ]
    },
    {
     "name": "stdout",
     "output_type": "stream",
     "text": [
      "128/128 [==============================] - 0s 27us/step\n",
      "64/64 [==============================] - 0s 60us/step\n",
      "64/64 [==============================] - 0s 31us/step\n",
      "128/128 [==============================] - 0s 31us/step\n",
      "64/64 [==============================] - 0s 31us/step\n",
      "64/64 [==============================] - 0s 51us/step\n",
      "128/128 [==============================] - 0s 31us/step\n",
      "64/64 [==============================] - 0s 42us/step\n",
      "64/64 [==============================] - 0s 37us/step\n",
      "128/128 [==============================] - 0s 30us/step\n",
      "64/64 [==============================] - 0s 28us/step\n",
      "64/64 [==============================] - 0s 38us/step\n",
      "128/128 [==============================] - ETA:  - 0s 26us/step\n",
      "64/64 [==============================] - 0s 41us/step\n",
      "64/64 [==============================] - 0s 70us/step\n"
     ]
    },
    {
     "name": "stderr",
     "output_type": "stream",
     "text": [
      "\r",
      " 57%|█████▋    | 572/1000 [00:15<00:11, 37.15it/s]"
     ]
    },
    {
     "name": "stdout",
     "output_type": "stream",
     "text": [
      "128/128 [==============================] - 0s 32us/step\n",
      "64/64 [==============================] - 0s 60us/step\n",
      "64/64 [==============================] - 0s 52us/step\n",
      "128/128 [==============================] - 0s 25us/step\n",
      "64/64 [==============================] - 0s 28us/step\n",
      "64/64 [==============================] - 0s 41us/step\n",
      "128/128 [==============================] - 0s 36us/step\n",
      "64/64 [==============================] - 0s 42us/step\n",
      "64/64 [==============================] - 0s 28us/step\n",
      "128/128 [==============================] - 0s 34us/step\n",
      "64/64 [==============================] - 0s 28us/step\n",
      "64/64 [==============================] - 0s 35us/step\n",
      "128/128 [==============================] - 0s 22us/step\n",
      "64/64 [==============================] - 0s 46us/step\n",
      "64/64 [==============================] - 0s 43us/step\n"
     ]
    },
    {
     "name": "stderr",
     "output_type": "stream",
     "text": [
      "\r",
      " 58%|█████▊    | 577/1000 [00:15<00:11, 37.19it/s]"
     ]
    },
    {
     "name": "stdout",
     "output_type": "stream",
     "text": [
      "128/128 [==============================] - 0s 26us/step\n",
      "64/64 [==============================] - 0s 48us/step\n",
      "64/64 [==============================] - 0s 42us/step\n",
      "128/128 [==============================] - 0s 25us/step\n",
      "64/64 [==============================] - 0s 44us/step\n",
      "64/64 [==============================] - 0s 56us/step\n",
      "128/128 [==============================] - 0s 33us/step\n",
      "64/64 [==============================] - 0s 28us/step\n",
      "64/64 [==============================] - 0s 29us/step\n",
      "128/128 [==============================] - 0s 33us/step\n",
      "64/64 [==============================] - 0s 30us/step\n",
      "64/64 [==============================] - 0s 30us/step\n",
      "128/128 [==============================] - 0s 32us/step\n",
      "64/64 [==============================] - 0s 30us/step\n",
      "64/64 [==============================] - 0s 90us/step\n"
     ]
    },
    {
     "name": "stderr",
     "output_type": "stream",
     "text": [
      "\r",
      " 58%|█████▊    | 582/1000 [00:15<00:11, 37.23it/s]"
     ]
    },
    {
     "name": "stdout",
     "output_type": "stream",
     "text": [
      "128/128 [==============================] - 0s 32us/step\n",
      "64/64 [==============================] - 0s 29us/step\n",
      "64/64 [==============================] - 0s 57us/step\n",
      "128/128 [==============================] - 0s 30us/step\n",
      "64/64 [==============================] - 0s 44us/step\n",
      "64/64 [==============================] - 0s 51us/step\n",
      "128/128 [==============================] - 0s 35us/step\n",
      "64/64 [==============================] - 0s 37us/step\n",
      "64/64 [==============================] - 0s 31us/step\n",
      "128/128 [==============================] - 0s 24us/step\n",
      "64/64 [==============================] - 0s 43us/step\n",
      "64/64 [==============================] - 0s 45us/step\n",
      "128/128 [==============================] - 0s 23us/step\n",
      "64/64 [==============================] - 0s 41us/step\n",
      "64/64 [==============================] - 0s 33us/step\n"
     ]
    },
    {
     "name": "stderr",
     "output_type": "stream",
     "text": [
      "\r",
      " 59%|█████▊    | 587/1000 [00:15<00:11, 37.26it/s]"
     ]
    },
    {
     "name": "stdout",
     "output_type": "stream",
     "text": [
      "128/128 [==============================] - 0s 27us/step\n",
      "64/64 [==============================] - 0s 46us/step\n",
      "64/64 [==============================] - 0s 28us/step\n",
      "128/128 [==============================] - 0s 32us/step\n",
      "64/64 [==============================] - 0s 39us/step\n",
      "64/64 [==============================] - 0s 58us/step\n",
      "128/128 [==============================] - 0s 26us/step\n",
      "64/64 [==============================] - 0s 49us/step\n",
      "64/64 [==============================] - 0s 42us/step\n",
      "128/128 [==============================] - 0s 27us/step\n",
      "64/64 [==============================] - 0s 33us/step\n",
      "64/64 [==============================] - 0s 28us/step\n",
      "128/128 [==============================] - 0s 32us/step\n",
      "64/64 [==============================] - 0s 46us/step\n",
      "64/64 [==============================] - 0s 31us/step\n"
     ]
    },
    {
     "name": "stderr",
     "output_type": "stream",
     "text": [
      "\r",
      " 59%|█████▉    | 592/1000 [00:15<00:10, 37.31it/s]"
     ]
    },
    {
     "name": "stdout",
     "output_type": "stream",
     "text": [
      "128/128 [==============================] - 0s 29us/step\n",
      "64/64 [==============================] - 0s 40us/step\n",
      "64/64 [==============================] - 0s 38us/step\n",
      "128/128 [==============================] - 0s 26us/step\n",
      "64/64 [==============================] - 0s 37us/step\n",
      "64/64 [==============================] - 0s 40us/step\n",
      "128/128 [==============================] - 0s 25us/step\n",
      "64/64 [==============================] - 0s 48us/step\n",
      "64/64 [==============================] - 0s 44us/step\n",
      "128/128 [==============================] - 0s 32us/step\n",
      "64/64 [==============================] - 0s 29us/step\n",
      "64/64 [==============================] - 0s 37us/step\n",
      "128/128 [==============================] - 0s 26us/step\n",
      "64/64 [==============================] - 0s 33us/step\n",
      "64/64 [==============================] - 0s 65us/step\n"
     ]
    },
    {
     "name": "stderr",
     "output_type": "stream",
     "text": [
      "\r",
      " 60%|█████▉    | 597/1000 [00:15<00:10, 37.35it/s]"
     ]
    },
    {
     "name": "stdout",
     "output_type": "stream",
     "text": [
      "128/128 [==============================] - 0s 35us/step\n",
      "64/64 [==============================] - 0s 32us/step\n",
      "64/64 [==============================] - 0s 30us/step\n",
      "128/128 [==============================] - 0s 24us/step\n",
      "64/64 [==============================] - 0s 31us/step\n",
      "64/64 [==============================] - 0s 37us/step\n",
      "128/128 [==============================] - 0s 23us/step\n",
      "64/64 [==============================] - 0s 38us/step\n",
      "64/64 [==============================] - 0s 29us/step\n",
      "128/128 [==============================] - 0s 27us/step\n",
      "64/64 [==============================] - 0s 52us/step\n",
      "64/64 [==============================] - 0s 30us/step\n",
      "128/128 [==============================] - 0s 25us/step\n",
      "64/64 [==============================] - 0s 29us/step\n",
      "64/64 [==============================] - 0s 41us/step\n"
     ]
    },
    {
     "name": "stderr",
     "output_type": "stream",
     "text": [
      "\r",
      " 60%|██████    | 602/1000 [00:16<00:10, 37.41it/s]"
     ]
    },
    {
     "name": "stdout",
     "output_type": "stream",
     "text": [
      "128/128 [==============================] - 0s 32us/step\n",
      "64/64 [==============================] - 0s 30us/step\n",
      "64/64 [==============================] - 0s 41us/step\n",
      "128/128 [==============================] - 0s 39us/step\n",
      "64/64 [==============================] - 0s 41us/step\n",
      "64/64 [==============================] - 0s 28us/step\n",
      "128/128 [==============================] - 0s 32us/step\n",
      "64/64 [==============================] - 0s 31us/step\n",
      "64/64 [==============================] - 0s 28us/step\n",
      "128/128 [==============================] - 0s 22us/step\n",
      "64/64 [==============================] - 0s 63us/step\n",
      "64/64 [==============================] - 0s 29us/step\n",
      "128/128 [==============================] - 0s 24us/step\n",
      "64/64 [==============================] - 0s 49us/step\n",
      "64/64 [==============================] - 0s 28us/step\n"
     ]
    },
    {
     "name": "stderr",
     "output_type": "stream",
     "text": [
      "\r",
      " 61%|██████    | 607/1000 [00:16<00:10, 37.46it/s]"
     ]
    },
    {
     "name": "stdout",
     "output_type": "stream",
     "text": [
      "128/128 [==============================] - 0s 37us/step\n",
      "64/64 [==============================] - 0s 48us/step\n",
      "64/64 [==============================] - 0s 39us/step\n",
      "128/128 [==============================] - 0s 27us/step\n",
      "64/64 [==============================] - 0s 46us/step\n",
      "64/64 [==============================] - 0s 38us/step\n",
      "128/128 [==============================] - 0s 28us/step\n",
      "64/64 [==============================] - 0s 26us/step\n",
      "64/64 [==============================] - 0s 40us/step\n",
      "128/128 [==============================] - 0s 26us/step\n",
      "64/64 [==============================] - 0s 30us/step\n",
      "64/64 [==============================] - 0s 32us/step\n",
      "128/128 [==============================] - 0s 25us/step\n",
      "64/64 [==============================] - 0s 50us/step\n",
      "64/64 [==============================] - 0s 44us/step\n"
     ]
    },
    {
     "name": "stderr",
     "output_type": "stream",
     "text": [
      "\r",
      " 61%|██████    | 612/1000 [00:16<00:10, 37.50it/s]"
     ]
    },
    {
     "name": "stdout",
     "output_type": "stream",
     "text": [
      "128/128 [==============================] - 0s 36us/step\n",
      "64/64 [==============================] - 0s 48us/step\n",
      "64/64 [==============================] - 0s 34us/step\n",
      "128/128 [==============================] - 0s 30us/step\n",
      "64/64 [==============================] - 0s 50us/step\n",
      "64/64 [==============================] - 0s 49us/step\n",
      "128/128 [==============================] - 0s 28us/step\n",
      "64/64 [==============================] - 0s 33us/step\n",
      "64/64 [==============================] - 0s 51us/step\n",
      "128/128 [==============================] - 0s 23us/step\n",
      "64/64 [==============================] - 0s 30us/step\n",
      "64/64 [==============================] - 0s 43us/step\n",
      "128/128 [==============================] - 0s 33us/step\n",
      "64/64 [==============================] - 0s 30us/step\n",
      "64/64 [==============================] - 0s 30us/step\n"
     ]
    },
    {
     "name": "stderr",
     "output_type": "stream",
     "text": [
      "\r",
      " 62%|██████▏   | 617/1000 [00:16<00:10, 37.54it/s]"
     ]
    },
    {
     "name": "stdout",
     "output_type": "stream",
     "text": [
      "128/128 [==============================] - 0s 28us/step\n",
      "64/64 [==============================] - 0s 28us/step\n",
      "64/64 [==============================] - 0s 25us/step\n",
      "128/128 [==============================] - 0s 24us/step\n",
      "64/64 [==============================] - 0s 87us/step\n",
      "64/64 [==============================] - 0s 39us/step\n",
      "128/128 [==============================] - 0s 26us/step\n",
      "64/64 [==============================] - 0s 58us/step\n",
      "64/64 [==============================] - 0s 33us/step\n",
      "128/128 [==============================] - 0s 23us/step\n",
      "64/64 [==============================] - 0s 44us/step\n",
      "64/64 [==============================] - 0s 28us/step\n",
      "128/128 [==============================] - 0s 32us/step\n",
      "64/64 [==============================] - 0s 30us/step\n",
      "64/64 [==============================] - 0s 61us/step\n"
     ]
    },
    {
     "name": "stderr",
     "output_type": "stream",
     "text": [
      "\r",
      " 62%|██████▏   | 622/1000 [00:16<00:10, 37.58it/s]"
     ]
    },
    {
     "name": "stdout",
     "output_type": "stream",
     "text": [
      "128/128 [==============================] - 0s 36us/step\n",
      "64/64 [==============================] - 0s 40us/step\n",
      "64/64 [==============================] - 0s 38us/step\n",
      "128/128 [==============================] - 0s 25us/step\n",
      "64/64 [==============================] - 0s 53us/step\n",
      "64/64 [==============================] - 0s 30us/step\n",
      "128/128 [==============================] - 0s 25us/step\n",
      "64/64 [==============================] - 0s 36us/step\n",
      "64/64 [==============================] - 0s 52us/step\n",
      "128/128 [==============================] - 0s 26us/step\n",
      "64/64 [==============================] - 0s 28us/step\n",
      "64/64 [==============================] - 0s 39us/step\n",
      "128/128 [==============================] - 0s 35us/step\n",
      "64/64 [==============================] - 0s 27us/step\n",
      "64/64 [==============================] - 0s 43us/step\n"
     ]
    },
    {
     "name": "stderr",
     "output_type": "stream",
     "text": [
      "\r",
      " 63%|██████▎   | 627/1000 [00:16<00:09, 37.63it/s]"
     ]
    },
    {
     "name": "stdout",
     "output_type": "stream",
     "text": [
      "128/128 [==============================] - 0s 23us/step\n",
      "64/64 [==============================] - 0s 33us/step\n",
      "64/64 [==============================] - 0s 42us/step\n",
      "128/128 [==============================] - 0s 28us/step\n",
      "64/64 [==============================] - 0s 34us/step\n",
      "64/64 [==============================] - 0s 26us/step\n",
      "128/128 [==============================] - 0s 24us/step\n",
      "64/64 [==============================] - 0s 43us/step\n",
      "64/64 [==============================] - 0s 27us/step\n",
      "128/128 [==============================] - 0s 30us/step\n",
      "64/64 [==============================] - 0s 30us/step\n",
      "64/64 [==============================] - 0s 48us/step\n",
      "128/128 [==============================] - 0s 27us/step\n",
      "64/64 [==============================] - 0s 37us/step\n",
      "64/64 [==============================] - 0s 48us/step\n"
     ]
    },
    {
     "name": "stderr",
     "output_type": "stream",
     "text": [
      "\r",
      " 63%|██████▎   | 632/1000 [00:16<00:09, 37.68it/s]"
     ]
    },
    {
     "name": "stdout",
     "output_type": "stream",
     "text": [
      "128/128 [==============================] - 0s 26us/step\n",
      "64/64 [==============================] - 0s 47us/step\n",
      "64/64 [==============================] - 0s 41us/step\n",
      "128/128 [==============================] - 0s 27us/step\n",
      "64/64 [==============================] - 0s 33us/step\n",
      "64/64 [==============================] - 0s 34us/step\n",
      "128/128 [==============================] - 0s 38us/step\n",
      "64/64 [==============================] - 0s 29us/step\n",
      "64/64 [==============================] - 0s 44us/step\n",
      "128/128 [==============================] - 0s 23us/step\n",
      "64/64 [==============================] - 0s 42us/step\n",
      "64/64 [==============================] - 0s 35us/step\n",
      "128/128 [==============================] - 0s 57us/step\n",
      "64/64 [==============================] - 0s 44us/step\n",
      "64/64 [==============================] - 0s 32us/step\n"
     ]
    },
    {
     "name": "stderr",
     "output_type": "stream",
     "text": [
      "\r",
      " 64%|██████▎   | 637/1000 [00:16<00:09, 37.72it/s]"
     ]
    },
    {
     "name": "stdout",
     "output_type": "stream",
     "text": [
      "128/128 [==============================] - 0s 32us/step\n",
      "64/64 [==============================] - 0s 32us/step\n",
      "64/64 [==============================] - 0s 34us/step\n",
      "128/128 [==============================] - 0s 25us/step\n",
      "64/64 [==============================] - 0s 49us/step\n",
      "64/64 [==============================] - 0s 50us/step\n",
      "128/128 [==============================] - 0s 27us/step\n",
      "64/64 [==============================] - 0s 45us/step\n",
      "64/64 [==============================] - 0s 31us/step\n",
      "128/128 [==============================] - 0s 25us/step\n",
      "64/64 [==============================] - 0s 45us/step\n",
      "64/64 [==============================] - 0s 45us/step\n",
      "128/128 [==============================] - 0s 25us/step\n",
      "64/64 [==============================] - 0s 35us/step\n",
      "64/64 [==============================] - 0s 49us/step\n"
     ]
    },
    {
     "name": "stderr",
     "output_type": "stream",
     "text": [
      "\r",
      " 64%|██████▍   | 642/1000 [00:17<00:09, 37.76it/s]"
     ]
    },
    {
     "name": "stdout",
     "output_type": "stream",
     "text": [
      "128/128 [==============================] - 0s 28us/step\n",
      "64/64 [==============================] - 0s 44us/step\n",
      "64/64 [==============================] - 0s 41us/step\n",
      "128/128 [==============================] - 0s 24us/step\n",
      "64/64 [==============================] - 0s 60us/step\n",
      "64/64 [==============================] - 0s 37us/step\n",
      "128/128 [==============================] - 0s 26us/step\n",
      "64/64 [==============================] - 0s 34us/step\n",
      "64/64 [==============================] - 0s 45us/step\n",
      "128/128 [==============================] - 0s 25us/step\n",
      "64/64 [==============================] - 0s 31us/step\n",
      "64/64 [==============================] - 0s 38us/step\n",
      "128/128 [==============================] - 0s 24us/step\n",
      "64/64 [==============================] - 0s 64us/step\n",
      "64/64 [==============================] - 0s 38us/step\n"
     ]
    },
    {
     "name": "stderr",
     "output_type": "stream",
     "text": [
      "\r",
      " 65%|██████▍   | 647/1000 [00:17<00:09, 37.79it/s]"
     ]
    },
    {
     "name": "stdout",
     "output_type": "stream",
     "text": [
      "128/128 [==============================] - 0s 24us/step\n",
      "64/64 [==============================] - 0s 41us/step\n",
      "64/64 [==============================] - 0s 55us/step\n",
      "128/128 [==============================] - 0s 27us/step\n",
      "64/64 [==============================] - 0s 50us/step\n",
      "64/64 [==============================] - 0s 43us/step\n",
      "128/128 [==============================] - 0s 32us/step\n",
      "64/64 [==============================] - 0s 39us/step\n",
      "64/64 [==============================] - 0s 29us/step\n",
      "128/128 [==============================] - 0s 25us/step\n",
      "64/64 [==============================] - 0s 54us/step\n",
      "64/64 [==============================] - 0s 55us/step\n",
      "128/128 [==============================] - 0s 31us/step\n",
      "64/64 [==============================] - 0s 45us/step\n",
      "64/64 [==============================] - 0s 46us/step\n"
     ]
    },
    {
     "name": "stderr",
     "output_type": "stream",
     "text": [
      "\r",
      " 65%|██████▌   | 652/1000 [00:17<00:09, 37.82it/s]"
     ]
    },
    {
     "name": "stdout",
     "output_type": "stream",
     "text": [
      "128/128 [==============================] - 0s 28us/step\n",
      "64/64 [==============================] - 0s 29us/step\n",
      "64/64 [==============================] - 0s 31us/step\n",
      "128/128 [==============================] - 0s 31us/step\n",
      "64/64 [==============================] - 0s 73us/step\n",
      "64/64 [==============================] - 0s 39us/step\n",
      "128/128 [==============================] - 0s 34us/step\n",
      "64/64 [==============================] - 0s 41us/step\n",
      "64/64 [==============================] - 0s 40us/step\n",
      "128/128 [==============================] - 0s 25us/step\n",
      "64/64 [==============================] - 0s 33us/step\n",
      "64/64 [==============================] - 0s 56us/step\n",
      "128/128 [==============================] - 0s 29us/step\n",
      "64/64 [==============================] - 0s 64us/step\n",
      "64/64 [==============================] - 0s 57us/step\n"
     ]
    },
    {
     "name": "stderr",
     "output_type": "stream",
     "text": [
      "\r",
      " 66%|██████▌   | 657/1000 [00:17<00:09, 37.85it/s]"
     ]
    },
    {
     "name": "stdout",
     "output_type": "stream",
     "text": [
      "128/128 [==============================] - 0s 24us/step\n",
      "64/64 [==============================] - 0s 33us/step\n",
      "64/64 [==============================] - 0s 44us/step\n",
      "128/128 [==============================] - 0s 24us/step\n",
      "64/64 [==============================] - 0s 50us/step\n",
      "64/64 [==============================] - 0s 50us/step\n",
      "128/128 [==============================] - 0s 25us/step\n",
      "64/64 [==============================] - 0s 38us/step\n",
      "64/64 [==============================] - 0s 39us/step\n",
      "128/128 [==============================] - 0s 24us/step\n",
      "64/64 [==============================] - 0s 50us/step\n",
      "64/64 [==============================] - 0s 35us/step\n",
      "128/128 [==============================] - 0s 25us/step\n",
      "64/64 [==============================] - 0s 57us/step\n",
      "64/64 [==============================] - 0s 54us/step\n"
     ]
    },
    {
     "name": "stderr",
     "output_type": "stream",
     "text": [
      "\r",
      " 66%|██████▌   | 662/1000 [00:17<00:08, 37.89it/s]"
     ]
    },
    {
     "name": "stdout",
     "output_type": "stream",
     "text": [
      "128/128 [==============================] - 0s 26us/step\n",
      "64/64 [==============================] - 0s 35us/step\n",
      "64/64 [==============================] - 0s 28us/step\n",
      "128/128 [==============================] - 0s 31us/step\n",
      "64/64 [==============================] - 0s 34us/step\n",
      "64/64 [==============================] - 0s 60us/step\n",
      "128/128 [==============================] - 0s 35us/step\n",
      "64/64 [==============================] - 0s 31us/step\n",
      "64/64 [==============================] - 0s 50us/step\n",
      "128/128 [==============================] - 0s 24us/step\n",
      "64/64 [==============================] - 0s 33us/step\n",
      "64/64 [==============================] - 0s 49us/step\n",
      "128/128 [==============================] - 0s 34us/step\n",
      "64/64 [==============================] - 0s 39us/step\n",
      "64/64 [==============================] - 0s 35us/step\n"
     ]
    },
    {
     "name": "stderr",
     "output_type": "stream",
     "text": [
      "\r",
      " 67%|██████▋   | 667/1000 [00:17<00:08, 37.92it/s]"
     ]
    },
    {
     "name": "stdout",
     "output_type": "stream",
     "text": [
      "128/128 [==============================] - 0s 34us/step\n",
      "64/64 [==============================] - 0s 34us/step\n",
      "64/64 [==============================] - 0s 39us/step\n",
      "128/128 [==============================] - 0s 23us/step\n",
      "64/64 [==============================] - 0s 47us/step\n",
      "64/64 [==============================] - 0s 30us/step\n",
      "128/128 [==============================] - 0s 36us/step\n",
      "64/64 [==============================] - 0s 33us/step\n",
      "64/64 [==============================] - 0s 49us/step\n",
      "128/128 [==============================] - 0s 26us/step\n",
      "64/64 [==============================] - 0s 34us/step\n",
      "64/64 [==============================] - 0s 31us/step\n",
      "128/128 [==============================] - 0s 26us/step\n",
      "64/64 [==============================] - 0s 31us/step\n",
      "64/64 [==============================] - 0s 53us/step\n"
     ]
    },
    {
     "name": "stderr",
     "output_type": "stream",
     "text": [
      "\r",
      " 67%|██████▋   | 672/1000 [00:17<00:08, 37.97it/s]"
     ]
    },
    {
     "name": "stdout",
     "output_type": "stream",
     "text": [
      "128/128 [==============================] - 0s 33us/step\n",
      "64/64 [==============================] - 0s 29us/step\n",
      "64/64 [==============================] - 0s 35us/step\n",
      "128/128 [==============================] - 0s 28us/step\n",
      "64/64 [==============================] - 0s 38us/step\n",
      "64/64 [==============================] - 0s 44us/step\n",
      "128/128 [==============================] - 0s 34us/step\n",
      "64/64 [==============================] - ETA:  - 0s 37us/step\n",
      "64/64 [==============================] - 0s 31us/step\n",
      "128/128 [==============================] - 0s 26us/step\n",
      "64/64 [==============================] - 0s 32us/step\n",
      "64/64 [==============================] - 0s 44us/step\n",
      "128/128 [==============================] - 0s 29us/step\n",
      "64/64 [==============================] - 0s 34us/step\n",
      "64/64 [==============================] - 0s 34us/step\n"
     ]
    },
    {
     "name": "stderr",
     "output_type": "stream",
     "text": [
      "\r",
      " 68%|██████▊   | 677/1000 [00:17<00:08, 38.01it/s]"
     ]
    },
    {
     "name": "stdout",
     "output_type": "stream",
     "text": [
      "128/128 [==============================] - 0s 34us/step\n",
      "64/64 [==============================] - 0s 46us/step\n",
      "64/64 [==============================] - 0s 31us/step\n",
      "128/128 [==============================] - 0s 25us/step\n",
      "64/64 [==============================] - 0s 47us/step\n",
      "64/64 [==============================] - 0s 37us/step\n",
      "128/128 [==============================] - 0s 33us/step\n",
      "64/64 [==============================] - 0s 40us/step\n",
      "64/64 [==============================] - 0s 43us/step\n",
      "128/128 [==============================] - 0s 24us/step\n",
      "64/64 [==============================] - 0s 32us/step\n",
      "64/64 [==============================] - 0s 43us/step\n",
      "128/128 [==============================] - 0s 27us/step\n",
      "64/64 [==============================] - 0s 33us/step\n",
      "64/64 [==============================] - 0s 39us/step\n"
     ]
    },
    {
     "name": "stderr",
     "output_type": "stream",
     "text": [
      "\r",
      " 68%|██████▊   | 682/1000 [00:17<00:08, 38.03it/s]"
     ]
    },
    {
     "name": "stdout",
     "output_type": "stream",
     "text": [
      "128/128 [==============================] - 0s 33us/step\n",
      "64/64 [==============================] - 0s 45us/step\n",
      "64/64 [==============================] - 0s 40us/step\n",
      "128/128 [==============================] - 0s 23us/step\n",
      "64/64 [==============================] - 0s 29us/step\n",
      "64/64 [==============================] - 0s 70us/step\n",
      "128/128 [==============================] - 0s 25us/step\n",
      "64/64 [==============================] - 0s 38us/step\n",
      "64/64 [==============================] - 0s 38us/step\n",
      "128/128 [==============================] - 0s 29us/step\n",
      "64/64 [==============================] - 0s 43us/step\n",
      "64/64 [==============================] - 0s 43us/step\n",
      "128/128 [==============================] - 0s 25us/step\n",
      "64/64 [==============================] - 0s 94us/step\n",
      "64/64 [==============================] - 0s 31us/step\n"
     ]
    },
    {
     "name": "stderr",
     "output_type": "stream",
     "text": [
      "\r",
      " 69%|██████▊   | 687/1000 [00:18<00:08, 38.05it/s]"
     ]
    },
    {
     "name": "stdout",
     "output_type": "stream",
     "text": [
      "128/128 [==============================] - 0s 32us/step\n",
      "64/64 [==============================] - 0s 29us/step\n",
      "64/64 [==============================] - 0s 48us/step\n",
      "128/128 [==============================] - 0s 30us/step\n",
      "64/64 [==============================] - 0s 48us/step\n",
      "64/64 [==============================] - 0s 61us/step\n",
      "128/128 [==============================] - 0s 25us/step\n",
      "64/64 [==============================] - 0s 33us/step\n",
      "64/64 [==============================] - 0s 35us/step\n",
      "128/128 [==============================] - 0s 26us/step\n",
      "64/64 [==============================] - 0s 47us/step\n",
      "64/64 [==============================] - 0s 57us/step\n",
      "128/128 [==============================] - 0s 30us/step\n",
      "64/64 [==============================] - 0s 31us/step\n",
      "64/64 [==============================] - 0s 59us/step\n"
     ]
    },
    {
     "name": "stderr",
     "output_type": "stream",
     "text": [
      "\r",
      " 69%|██████▉   | 692/1000 [00:18<00:08, 38.08it/s]"
     ]
    },
    {
     "name": "stdout",
     "output_type": "stream",
     "text": [
      "128/128 [==============================] - 0s 28us/step\n",
      "64/64 [==============================] - 0s 38us/step\n",
      "64/64 [==============================] - 0s 50us/step\n",
      "128/128 [==============================] - 0s 24us/step\n",
      "64/64 [==============================] - 0s 51us/step\n",
      "64/64 [==============================] - 0s 32us/step\n",
      "128/128 [==============================] - 0s 26us/step\n",
      "64/64 [==============================] - 0s 49us/step\n",
      "64/64 [==============================] - 0s 31us/step\n",
      "128/128 [==============================] - 0s 30us/step\n",
      "64/64 [==============================] - 0s 27us/step\n",
      "64/64 [==============================] - 0s 67us/step\n",
      "128/128 [==============================] - 0s 26us/step\n",
      "64/64 [==============================] - 0s 30us/step\n",
      "64/64 [==============================] - 0s 47us/step\n"
     ]
    },
    {
     "name": "stderr",
     "output_type": "stream",
     "text": [
      "\r",
      " 70%|██████▉   | 697/1000 [00:18<00:07, 38.10it/s]"
     ]
    },
    {
     "name": "stdout",
     "output_type": "stream",
     "text": [
      "128/128 [==============================] - 0s 23us/step\n",
      "64/64 [==============================] - 0s 35us/step\n",
      "64/64 [==============================] - 0s 49us/step\n",
      "128/128 [==============================] - 0s 33us/step\n",
      "64/64 [==============================] - 0s 48us/step\n",
      "64/64 [==============================] - 0s 35us/step\n",
      "128/128 [==============================] - 0s 26us/step\n",
      "64/64 [==============================] - 0s 57us/step\n",
      "64/64 [==============================] - 0s 43us/step\n",
      "128/128 [==============================] - 0s 24us/step\n",
      "64/64 [==============================] - 0s 47us/step\n",
      "64/64 [==============================] - 0s 50us/step\n",
      "128/128 [==============================] - 0s 26us/step\n",
      "64/64 [==============================] - 0s 61us/step\n",
      "64/64 [==============================] - 0s 44us/step\n"
     ]
    },
    {
     "name": "stderr",
     "output_type": "stream",
     "text": [
      "\r",
      " 70%|███████   | 702/1000 [00:18<00:07, 38.13it/s]"
     ]
    },
    {
     "name": "stdout",
     "output_type": "stream",
     "text": [
      "128/128 [==============================] - 0s 26us/step\n",
      "64/64 [==============================] - 0s 50us/step\n",
      "64/64 [==============================] - 0s 57us/step\n",
      "128/128 [==============================] - 0s 26us/step\n",
      "64/64 [==============================] - 0s 35us/step\n",
      "64/64 [==============================] - 0s 45us/step\n",
      "128/128 [==============================] - 0s 24us/step\n",
      "64/64 [==============================] - 0s 43us/step\n",
      "64/64 [==============================] - 0s 42us/step\n",
      "128/128 [==============================] - 0s 27us/step\n",
      "64/64 [==============================] - 0s 121us/step\n",
      "64/64 [==============================] - 0s 32us/step\n",
      "128/128 [==============================] - 0s 33us/step\n",
      "64/64 [==============================] - 0s 35us/step\n",
      "64/64 [==============================] - 0s 29us/step\n"
     ]
    },
    {
     "name": "stderr",
     "output_type": "stream",
     "text": [
      "\r",
      " 71%|███████   | 707/1000 [00:18<00:07, 38.16it/s]"
     ]
    },
    {
     "name": "stdout",
     "output_type": "stream",
     "text": [
      "128/128 [==============================] - 0s 23us/step\n",
      "64/64 [==============================] - 0s 54us/step\n",
      "64/64 [==============================] - 0s 35us/step\n",
      "128/128 [==============================] - 0s 25us/step\n",
      "64/64 [==============================] - 0s 43us/step\n",
      "64/64 [==============================] - 0s 44us/step\n",
      "128/128 [==============================] - 0s 25us/step\n",
      "64/64 [==============================] - 0s 28us/step\n",
      "64/64 [==============================] - 0s 34us/step\n",
      "128/128 [==============================] - 0s 35us/step\n",
      "64/64 [==============================] - 0s 64us/step\n",
      "64/64 [==============================] - 0s 35us/step\n",
      "128/128 [==============================] - 0s 25us/step\n",
      "64/64 [==============================] - 0s 42us/step\n",
      "64/64 [==============================] - 0s 41us/step\n"
     ]
    },
    {
     "name": "stderr",
     "output_type": "stream",
     "text": [
      "\r",
      " 71%|███████   | 712/1000 [00:18<00:07, 38.19it/s]"
     ]
    },
    {
     "name": "stdout",
     "output_type": "stream",
     "text": [
      "128/128 [==============================] - 0s 26us/step\n",
      "64/64 [==============================] - 0s 29us/step\n",
      "64/64 [==============================] - 0s 31us/step\n",
      "128/128 [==============================] - 0s 37us/step\n",
      "64/64 [==============================] - 0s 33us/step\n",
      "64/64 [==============================] - 0s 48us/step\n",
      "128/128 [==============================] - 0s 24us/step\n",
      "64/64 [==============================] - 0s 43us/step\n",
      "64/64 [==============================] - 0s 27us/step\n",
      "128/128 [==============================] - 0s 27us/step\n",
      "64/64 [==============================] - 0s 29us/step\n",
      "64/64 [==============================] - 0s 62us/step\n",
      "128/128 [==============================] - 0s 34us/step\n",
      "64/64 [==============================] - 0s 46us/step\n",
      "64/64 [==============================] - 0s 26us/step\n"
     ]
    },
    {
     "name": "stderr",
     "output_type": "stream",
     "text": [
      "\r",
      " 72%|███████▏  | 717/1000 [00:18<00:07, 38.23it/s]"
     ]
    },
    {
     "name": "stdout",
     "output_type": "stream",
     "text": [
      "128/128 [==============================] - 0s 29us/step\n",
      "64/64 [==============================] - 0s 28us/step\n",
      "64/64 [==============================] - 0s 31us/step\n",
      "128/128 [==============================] - 0s 35us/step\n",
      "64/64 [==============================] - 0s 44us/step\n",
      "64/64 [==============================] - 0s 53us/step\n",
      "128/128 [==============================] - 0s 31us/step\n",
      "64/64 [==============================] - 0s 28us/step\n",
      "64/64 [==============================] - 0s 41us/step\n",
      "128/128 [==============================] - 0s 24us/step\n",
      "64/64 [==============================] - 0s 30us/step\n",
      "64/64 [==============================] - 0s 32us/step\n",
      "128/128 [==============================] - 0s 33us/step\n",
      "64/64 [==============================] - 0s 27us/step\n",
      "64/64 [==============================] - 0s 29us/step\n"
     ]
    },
    {
     "name": "stderr",
     "output_type": "stream",
     "text": [
      "\r",
      " 72%|███████▏  | 722/1000 [00:18<00:07, 38.26it/s]"
     ]
    },
    {
     "name": "stdout",
     "output_type": "stream",
     "text": [
      "128/128 [==============================] - 0s 30us/step\n",
      "64/64 [==============================] - 0s 57us/step\n",
      "64/64 [==============================] - 0s 41us/step\n",
      "128/128 [==============================] - 0s 32us/step\n",
      "64/64 [==============================] - 0s 56us/step\n",
      "64/64 [==============================] - 0s 29us/step\n",
      "128/128 [==============================] - 0s 26us/step\n",
      "64/64 [==============================] - 0s 45us/step\n",
      "64/64 [==============================] - 0s 36us/step\n",
      "128/128 [==============================] - 0s 30us/step\n",
      "64/64 [==============================] - 0s 44us/step\n",
      "64/64 [==============================] - 0s 63us/step\n",
      "128/128 [==============================] - 0s 36us/step\n",
      "64/64 [==============================] - 0s 30us/step\n",
      "64/64 [==============================] - 0s 58us/step\n"
     ]
    },
    {
     "name": "stderr",
     "output_type": "stream",
     "text": [
      "\r",
      " 73%|███████▎  | 727/1000 [00:18<00:07, 38.28it/s]"
     ]
    },
    {
     "name": "stdout",
     "output_type": "stream",
     "text": [
      "128/128 [==============================] - 0s 22us/step\n",
      "64/64 [==============================] - 0s 26us/step\n",
      "64/64 [==============================] - 0s 55us/step\n",
      "128/128 [==============================] - 0s 24us/step\n",
      "64/64 [==============================] - 0s 35us/step\n",
      "64/64 [==============================] - 0s 50us/step\n",
      "128/128 [==============================] - 0s 27us/step\n",
      "64/64 [==============================] - 0s 28us/step\n",
      "64/64 [==============================] - 0s 37us/step\n",
      "128/128 [==============================] - 0s 30us/step\n",
      "64/64 [==============================] - 0s 28us/step\n",
      "64/64 [==============================] - 0s 54us/step\n",
      "128/128 [==============================] - 0s 22us/step\n",
      "64/64 [==============================] - 0s 63us/step\n",
      "64/64 [==============================] - 0s 30us/step\n"
     ]
    },
    {
     "name": "stderr",
     "output_type": "stream",
     "text": [
      "\r",
      " 73%|███████▎  | 732/1000 [00:19<00:06, 38.32it/s]"
     ]
    },
    {
     "name": "stdout",
     "output_type": "stream",
     "text": [
      "128/128 [==============================] - 0s 22us/step\n",
      "64/64 [==============================] - 0s 28us/step\n",
      "64/64 [==============================] - 0s 27us/step\n",
      "128/128 [==============================] - 0s 24us/step\n",
      "64/64 [==============================] - 0s 33us/step\n",
      "64/64 [==============================] - 0s 48us/step\n",
      "128/128 [==============================] - 0s 27us/step\n",
      "64/64 [==============================] - 0s 56us/step\n",
      "64/64 [==============================] - 0s 44us/step\n",
      "128/128 [==============================] - 0s 35us/step\n",
      "64/64 [==============================] - 0s 31us/step\n",
      "64/64 [==============================] - 0s 47us/step\n",
      "128/128 [==============================] - 0s 25us/step\n",
      "64/64 [==============================] - 0s 64us/step\n",
      "64/64 [==============================] - 0s 56us/step\n"
     ]
    },
    {
     "name": "stderr",
     "output_type": "stream",
     "text": [
      "\r",
      " 74%|███████▎  | 737/1000 [00:19<00:06, 38.35it/s]"
     ]
    },
    {
     "name": "stdout",
     "output_type": "stream",
     "text": [
      "128/128 [==============================] - 0s 30us/step\n",
      "64/64 [==============================] - 0s 43us/step\n",
      "64/64 [==============================] - 0s 42us/step\n",
      "128/128 [==============================] - 0s 31us/step\n",
      "64/64 [==============================] - 0s 50us/step\n",
      "64/64 [==============================] - 0s 65us/step\n",
      "128/128 [==============================] - 0s 34us/step\n",
      "64/64 [==============================] - 0s 39us/step\n",
      "64/64 [==============================] - 0s 51us/step\n",
      "128/128 [==============================] - 0s 26us/step\n",
      "64/64 [==============================] - 0s 105us/step\n",
      "64/64 [==============================] - 0s 53us/step\n",
      "128/128 [==============================] - 0s 32us/step\n",
      "64/64 [==============================] - 0s 26us/step\n",
      "64/64 [==============================] - 0s 39us/step\n"
     ]
    },
    {
     "name": "stderr",
     "output_type": "stream",
     "text": [
      "\r",
      " 74%|███████▍  | 742/1000 [00:19<00:06, 38.36it/s]"
     ]
    },
    {
     "name": "stdout",
     "output_type": "stream",
     "text": [
      "128/128 [==============================] - 0s 22us/step\n",
      "64/64 [==============================] - 0s 45us/step\n",
      "64/64 [==============================] - 0s 52us/step\n",
      "128/128 [==============================] - 0s 29us/step\n",
      "64/64 [==============================] - 0s 44us/step\n",
      "64/64 [==============================] - 0s 55us/step\n",
      "128/128 [==============================] - 0s 24us/step\n",
      "64/64 [==============================] - 0s 38us/step\n",
      "64/64 [==============================] - 0s 31us/step\n",
      "128/128 [==============================] - 0s 23us/step\n",
      "64/64 [==============================] - 0s 51us/step\n",
      "64/64 [==============================] - 0s 32us/step\n",
      "128/128 [==============================] - 0s 27us/step\n",
      "64/64 [==============================] - 0s 36us/step\n",
      "64/64 [==============================] - 0s 35us/step\n"
     ]
    },
    {
     "name": "stderr",
     "output_type": "stream",
     "text": [
      "\r",
      " 75%|███████▍  | 747/1000 [00:19<00:06, 38.39it/s]"
     ]
    },
    {
     "name": "stdout",
     "output_type": "stream",
     "text": [
      "128/128 [==============================] - 0s 22us/step\n",
      "64/64 [==============================] - 0s 29us/step\n",
      "64/64 [==============================] - 0s 42us/step\n",
      "128/128 [==============================] - 0s 25us/step\n",
      "64/64 [==============================] - 0s 53us/step\n",
      "64/64 [==============================] - 0s 64us/step\n",
      "128/128 [==============================] - 0s 27us/step\n",
      "64/64 [==============================] - 0s 27us/step\n",
      "64/64 [==============================] - 0s 37us/step\n",
      "128/128 [==============================] - 0s 29us/step\n",
      "64/64 [==============================] - 0s 40us/step\n",
      "64/64 [==============================] - 0s 26us/step\n",
      "128/128 [==============================] - 0s 28us/step\n",
      "64/64 [==============================] - ETA:  - 0s 40us/step\n",
      "64/64 [==============================] - 0s 57us/step\n"
     ]
    },
    {
     "name": "stderr",
     "output_type": "stream",
     "text": [
      "\r",
      " 75%|███████▌  | 752/1000 [00:19<00:06, 38.43it/s]"
     ]
    },
    {
     "name": "stdout",
     "output_type": "stream",
     "text": [
      "128/128 [==============================] - 0s 27us/step\n",
      "64/64 [==============================] - 0s 42us/step\n",
      "64/64 [==============================] - 0s 34us/step\n",
      "128/128 [==============================] - 0s 24us/step\n",
      "64/64 [==============================] - 0s 32us/step\n",
      "64/64 [==============================] - 0s 37us/step\n",
      "128/128 [==============================] - 0s 24us/step\n",
      "64/64 [==============================] - 0s 52us/step\n",
      "64/64 [==============================] - 0s 46us/step\n",
      "128/128 [==============================] - 0s 36us/step\n",
      "64/64 [==============================] - 0s 39us/step\n",
      "64/64 [==============================] - 0s 41us/step\n",
      "128/128 [==============================] - 0s 33us/step\n",
      "64/64 [==============================] - 0s 34us/step\n",
      "64/64 [==============================] - 0s 33us/step\n"
     ]
    },
    {
     "name": "stderr",
     "output_type": "stream",
     "text": [
      "\r",
      " 76%|███████▌  | 757/1000 [00:19<00:06, 38.46it/s]"
     ]
    },
    {
     "name": "stdout",
     "output_type": "stream",
     "text": [
      "128/128 [==============================] - 0s 34us/step\n",
      "64/64 [==============================] - 0s 54us/step\n",
      "64/64 [==============================] - 0s 43us/step\n",
      "128/128 [==============================] - 0s 34us/step\n",
      "64/64 [==============================] - 0s 42us/step\n",
      "64/64 [==============================] - 0s 48us/step\n",
      "128/128 [==============================] - 0s 21us/step\n",
      "64/64 [==============================] - 0s 43us/step\n",
      "64/64 [==============================] - 0s 44us/step\n",
      "128/128 [==============================] - 0s 34us/step\n",
      "64/64 [==============================] - 0s 41us/step\n",
      "64/64 [==============================] - 0s 41us/step\n",
      "128/128 [==============================] - 0s 28us/step\n",
      "64/64 [==============================] - 0s 31us/step\n",
      "64/64 [==============================] - 0s 29us/step\n"
     ]
    },
    {
     "name": "stderr",
     "output_type": "stream",
     "text": [
      "\r",
      " 76%|███████▌  | 762/1000 [00:19<00:06, 38.50it/s]"
     ]
    },
    {
     "name": "stdout",
     "output_type": "stream",
     "text": [
      "128/128 [==============================] - 0s 24us/step\n",
      "64/64 [==============================] - 0s 104us/step\n",
      "64/64 [==============================] - 0s 33us/step\n",
      "128/128 [==============================] - 0s 32us/step\n",
      "64/64 [==============================] - 0s 43us/step\n",
      "64/64 [==============================] - 0s 41us/step\n",
      "128/128 [==============================] - 0s 26us/step\n",
      "64/64 [==============================] - 0s 36us/step\n",
      "64/64 [==============================] - 0s 32us/step\n",
      "128/128 [==============================] - 0s 35us/step\n",
      "64/64 [==============================] - 0s 44us/step\n",
      "64/64 [==============================] - 0s 28us/step\n",
      "128/128 [==============================] - 0s 23us/step\n",
      "64/64 [==============================] - 0s 35us/step\n",
      "64/64 [==============================] - 0s 34us/step\n"
     ]
    },
    {
     "name": "stderr",
     "output_type": "stream",
     "text": [
      "\r",
      " 77%|███████▋  | 767/1000 [00:19<00:06, 38.52it/s]"
     ]
    },
    {
     "name": "stdout",
     "output_type": "stream",
     "text": [
      "128/128 [==============================] - 0s 29us/step\n",
      "64/64 [==============================] - ETA:  - 0s 29us/step\n",
      "64/64 [==============================] - 0s 38us/step\n",
      "128/128 [==============================] - 0s 35us/step\n",
      "64/64 [==============================] - 0s 37us/step\n",
      "64/64 [==============================] - 0s 44us/step\n",
      "128/128 [==============================] - 0s 22us/step\n",
      "64/64 [==============================] - 0s 30us/step\n",
      "64/64 [==============================] - 0s 32us/step\n",
      "128/128 [==============================] - 0s 26us/step\n",
      "64/64 [==============================] - 0s 33us/step\n",
      "64/64 [==============================] - 0s 39us/step\n",
      "128/128 [==============================] - 0s 24us/step\n",
      "64/64 [==============================] - 0s 60us/step\n",
      "64/64 [==============================] - 0s 30us/step\n"
     ]
    },
    {
     "name": "stderr",
     "output_type": "stream",
     "text": [
      "\r",
      " 77%|███████▋  | 772/1000 [00:20<00:05, 38.56it/s]"
     ]
    },
    {
     "name": "stdout",
     "output_type": "stream",
     "text": [
      "128/128 [==============================] - 0s 23us/step\n",
      "64/64 [==============================] - 0s 28us/step\n",
      "64/64 [==============================] - 0s 30us/step\n",
      "128/128 [==============================] - 0s 23us/step\n",
      "64/64 [==============================] - 0s 48us/step\n",
      "64/64 [==============================] - 0s 29us/step\n",
      "128/128 [==============================] - 0s 25us/step\n",
      "64/64 [==============================] - 0s 51us/step\n",
      "64/64 [==============================] - 0s 27us/step\n",
      "128/128 [==============================] - 0s 36us/step\n",
      "64/64 [==============================] - 0s 30us/step\n",
      "64/64 [==============================] - 0s 30us/step\n",
      "128/128 [==============================] - 0s 25us/step\n",
      "64/64 [==============================] - 0s 33us/step\n",
      "64/64 [==============================] - 0s 38us/step\n"
     ]
    },
    {
     "name": "stderr",
     "output_type": "stream",
     "text": [
      "\r",
      " 78%|███████▊  | 777/1000 [00:20<00:05, 38.60it/s]"
     ]
    },
    {
     "name": "stdout",
     "output_type": "stream",
     "text": [
      "128/128 [==============================] - 0s 23us/step\n",
      "64/64 [==============================] - 0s 42us/step\n",
      "64/64 [==============================] - 0s 43us/step\n",
      "128/128 [==============================] - 0s 28us/step\n",
      "64/64 [==============================] - 0s 25us/step\n",
      "64/64 [==============================] - 0s 62us/step\n",
      "128/128 [==============================] - 0s 32us/step\n",
      "64/64 [==============================] - 0s 31us/step\n",
      "64/64 [==============================] - 0s 30us/step\n",
      "128/128 [==============================] - 0s 34us/step\n",
      "64/64 [==============================] - 0s 43us/step\n",
      "64/64 [==============================] - 0s 38us/step\n",
      "128/128 [==============================] - 0s 33us/step\n",
      "64/64 [==============================] - 0s 29us/step\n",
      "64/64 [==============================] - 0s 30us/step\n"
     ]
    },
    {
     "name": "stderr",
     "output_type": "stream",
     "text": [
      "\r",
      " 78%|███████▊  | 782/1000 [00:20<00:05, 38.63it/s]"
     ]
    },
    {
     "name": "stdout",
     "output_type": "stream",
     "text": [
      "128/128 [==============================] - 0s 22us/step\n",
      "64/64 [==============================] - 0s 29us/step\n",
      "64/64 [==============================] - 0s 57us/step\n",
      "128/128 [==============================] - 0s 34us/step\n",
      "64/64 [==============================] - 0s 55us/step\n",
      "64/64 [==============================] - 0s 33us/step\n",
      "128/128 [==============================] - 0s 31us/step\n",
      "64/64 [==============================] - 0s 47us/step\n",
      "64/64 [==============================] - 0s 42us/step\n",
      "128/128 [==============================] - 0s 23us/step\n",
      "64/64 [==============================] - 0s 33us/step\n",
      "64/64 [==============================] - 0s 38us/step\n",
      "128/128 [==============================] - 0s 28us/step\n",
      "64/64 [==============================] - 0s 33us/step\n",
      "64/64 [==============================] - 0s 34us/step\n"
     ]
    },
    {
     "name": "stderr",
     "output_type": "stream",
     "text": [
      "\r",
      " 79%|███████▊  | 787/1000 [00:20<00:05, 38.66it/s]"
     ]
    },
    {
     "name": "stdout",
     "output_type": "stream",
     "text": [
      "128/128 [==============================] - 0s 33us/step\n",
      "64/64 [==============================] - 0s 46us/step\n",
      "64/64 [==============================] - 0s 46us/step\n",
      "128/128 [==============================] - 0s 22us/step\n",
      "64/64 [==============================] - 0s 52us/step\n",
      "64/64 [==============================] - 0s 40us/step\n",
      "128/128 [==============================] - 0s 35us/step\n",
      "64/64 [==============================] - 0s 47us/step\n",
      "64/64 [==============================] - 0s 41us/step\n",
      "128/128 [==============================] - 0s 23us/step\n",
      "64/64 [==============================] - 0s 28us/step\n",
      "64/64 [==============================] - 0s 51us/step\n",
      "128/128 [==============================] - 0s 26us/step\n",
      "64/64 [==============================] - 0s 35us/step\n",
      "64/64 [==============================] - 0s 35us/step\n"
     ]
    },
    {
     "name": "stderr",
     "output_type": "stream",
     "text": [
      "\r",
      " 79%|███████▉  | 792/1000 [00:20<00:05, 38.69it/s]"
     ]
    },
    {
     "name": "stdout",
     "output_type": "stream",
     "text": [
      "128/128 [==============================] - 0s 36us/step\n",
      "64/64 [==============================] - 0s 30us/step\n",
      "64/64 [==============================] - 0s 43us/step\n",
      "128/128 [==============================] - 0s 23us/step\n",
      "64/64 [==============================] - 0s 60us/step\n",
      "64/64 [==============================] - 0s 33us/step\n",
      "128/128 [==============================] - 0s 33us/step\n",
      "64/64 [==============================] - 0s 41us/step\n",
      "64/64 [==============================] - 0s 48us/step\n",
      "128/128 [==============================] - 0s 24us/step\n",
      "64/64 [==============================] - 0s 46us/step\n",
      "64/64 [==============================] - 0s 28us/step\n",
      "128/128 [==============================] - 0s 33us/step\n",
      "64/64 [==============================] - 0s 60us/step\n",
      "64/64 [==============================] - 0s 51us/step\n"
     ]
    },
    {
     "name": "stderr",
     "output_type": "stream",
     "text": [
      "\r",
      " 80%|███████▉  | 797/1000 [00:20<00:05, 38.72it/s]"
     ]
    },
    {
     "name": "stdout",
     "output_type": "stream",
     "text": [
      "128/128 [==============================] - 0s 34us/step\n",
      "64/64 [==============================] - 0s 32us/step\n",
      "64/64 [==============================] - 0s 31us/step\n",
      "128/128 [==============================] - 0s 24us/step\n",
      "64/64 [==============================] - 0s 54us/step\n",
      "64/64 [==============================] - 0s 44us/step\n",
      "128/128 [==============================] - 0s 21us/step\n",
      "64/64 [==============================] - 0s 54us/step\n",
      "64/64 [==============================] - 0s 58us/step\n",
      "128/128 [==============================] - 0s 33us/step\n",
      "64/64 [==============================] - 0s 30us/step\n",
      "64/64 [==============================] - 0s 39us/step\n",
      "128/128 [==============================] - 0s 23us/step\n",
      "64/64 [==============================] - 0s 29us/step\n",
      "64/64 [==============================] - 0s 37us/step\n"
     ]
    },
    {
     "name": "stderr",
     "output_type": "stream",
     "text": [
      "\r",
      " 80%|████████  | 802/1000 [00:20<00:05, 38.75it/s]"
     ]
    },
    {
     "name": "stdout",
     "output_type": "stream",
     "text": [
      "128/128 [==============================] - 0s 30us/step\n",
      "64/64 [==============================] - 0s 35us/step\n",
      "64/64 [==============================] - 0s 35us/step\n",
      "128/128 [==============================] - 0s 24us/step\n",
      "64/64 [==============================] - 0s 38us/step\n",
      "64/64 [==============================] - 0s 35us/step\n",
      "128/128 [==============================] - 0s 27us/step\n",
      "64/64 [==============================] - 0s 27us/step\n",
      "64/64 [==============================] - 0s 29us/step\n",
      "128/128 [==============================] - 0s 27us/step\n",
      "64/64 [==============================] - 0s 38us/step\n",
      "64/64 [==============================] - 0s 35us/step\n",
      "128/128 [==============================] - 0s 26us/step\n",
      "64/64 [==============================] - 0s 33us/step\n",
      "64/64 [==============================] - 0s 57us/step\n"
     ]
    },
    {
     "name": "stderr",
     "output_type": "stream",
     "text": [
      "\r",
      " 81%|████████  | 807/1000 [00:20<00:04, 38.78it/s]"
     ]
    },
    {
     "name": "stdout",
     "output_type": "stream",
     "text": [
      "128/128 [==============================] - 0s 24us/step\n",
      "64/64 [==============================] - 0s 30us/step\n",
      "64/64 [==============================] - 0s 31us/step\n",
      "128/128 [==============================] - 0s 25us/step\n",
      "64/64 [==============================] - 0s 54us/step\n",
      "64/64 [==============================] - 0s 32us/step\n",
      "128/128 [==============================] - 0s 34us/step\n",
      "64/64 [==============================] - 0s 44us/step\n",
      "64/64 [==============================] - 0s 41us/step\n",
      "128/128 [==============================] - 0s 30us/step\n",
      "64/64 [==============================] - 0s 31us/step\n",
      "64/64 [==============================] - 0s 34us/step\n",
      "128/128 [==============================] - 0s 25us/step\n",
      "64/64 [==============================] - 0s 38us/step\n",
      "64/64 [==============================] - 0s 34us/step\n"
     ]
    },
    {
     "name": "stderr",
     "output_type": "stream",
     "text": [
      "\r",
      " 81%|████████  | 812/1000 [00:20<00:04, 38.81it/s]"
     ]
    },
    {
     "name": "stdout",
     "output_type": "stream",
     "text": [
      "128/128 [==============================] - 0s 26us/step\n",
      "64/64 [==============================] - 0s 36us/step\n",
      "64/64 [==============================] - 0s 27us/step\n",
      "128/128 [==============================] - 0s 24us/step\n",
      "64/64 [==============================] - 0s 40us/step\n",
      "64/64 [==============================] - 0s 105us/step\n",
      "128/128 [==============================] - 0s 28us/step\n",
      "64/64 [==============================] - 0s 29us/step\n",
      "64/64 [==============================] - 0s 40us/step\n",
      "128/128 [==============================] - 0s 22us/step\n",
      "64/64 [==============================] - 0s 33us/step\n",
      "64/64 [==============================] - 0s 32us/step\n",
      "128/128 [==============================] - 0s 29us/step\n",
      "64/64 [==============================] - 0s 109us/step\n",
      "64/64 [==============================] - 0s 46us/step\n"
     ]
    },
    {
     "name": "stderr",
     "output_type": "stream",
     "text": [
      "\r",
      " 82%|████████▏ | 817/1000 [00:21<00:04, 38.83it/s]"
     ]
    },
    {
     "name": "stdout",
     "output_type": "stream",
     "text": [
      "128/128 [==============================] - 0s 30us/step\n",
      "64/64 [==============================] - 0s 33us/step\n",
      "64/64 [==============================] - 0s 38us/step\n",
      "128/128 [==============================] - 0s 26us/step\n",
      "64/64 [==============================] - 0s 33us/step\n",
      "64/64 [==============================] - 0s 35us/step\n",
      "128/128 [==============================] - 0s 35us/step\n",
      "64/64 [==============================] - 0s 30us/step\n",
      "64/64 [==============================] - 0s 64us/step\n",
      "128/128 [==============================] - 0s 25us/step\n",
      "64/64 [==============================] - 0s 33us/step\n",
      "64/64 [==============================] - 0s 36us/step\n",
      "128/128 [==============================] - 0s 28us/step\n",
      "64/64 [==============================] - 0s 65us/step\n",
      "64/64 [==============================] - 0s 31us/step\n"
     ]
    },
    {
     "name": "stderr",
     "output_type": "stream",
     "text": [
      "\r",
      " 82%|████████▏ | 822/1000 [00:21<00:04, 38.86it/s]"
     ]
    },
    {
     "name": "stdout",
     "output_type": "stream",
     "text": [
      "128/128 [==============================] - 0s 27us/step\n",
      "64/64 [==============================] - 0s 31us/step\n",
      "64/64 [==============================] - 0s 38us/step\n",
      "128/128 [==============================] - 0s 31us/step\n",
      "64/64 [==============================] - 0s 32us/step\n",
      "64/64 [==============================] - 0s 45us/step\n",
      "128/128 [==============================] - 0s 33us/step\n",
      "64/64 [==============================] - 0s 37us/step\n",
      "64/64 [==============================] - 0s 43us/step\n",
      "128/128 [==============================] - 0s 31us/step\n",
      "64/64 [==============================] - 0s 48us/step\n",
      "64/64 [==============================] - 0s 39us/step\n",
      "128/128 [==============================] - 0s 24us/step\n",
      "64/64 [==============================] - 0s 58us/step\n",
      "64/64 [==============================] - 0s 49us/step\n"
     ]
    },
    {
     "name": "stderr",
     "output_type": "stream",
     "text": [
      "\r",
      " 83%|████████▎ | 827/1000 [00:21<00:04, 38.88it/s]"
     ]
    },
    {
     "name": "stdout",
     "output_type": "stream",
     "text": [
      "128/128 [==============================] - 0s 29us/step\n",
      "64/64 [==============================] - 0s 49us/step\n",
      "64/64 [==============================] - 0s 35us/step\n",
      "128/128 [==============================] - 0s 25us/step\n",
      "64/64 [==============================] - 0s 43us/step\n",
      "64/64 [==============================] - 0s 52us/step\n",
      "128/128 [==============================] - 0s 23us/step\n",
      "64/64 [==============================] - 0s 36us/step\n",
      "64/64 [==============================] - 0s 41us/step\n",
      "128/128 [==============================] - 0s 34us/step\n",
      "64/64 [==============================] - 0s 32us/step\n",
      "64/64 [==============================] - 0s 30us/step\n",
      "128/128 [==============================] - 0s 24us/step\n",
      "64/64 [==============================] - 0s 32us/step\n",
      "64/64 [==============================] - 0s 41us/step\n"
     ]
    },
    {
     "name": "stderr",
     "output_type": "stream",
     "text": [
      "\r",
      " 83%|████████▎ | 832/1000 [00:21<00:04, 38.91it/s]"
     ]
    },
    {
     "name": "stdout",
     "output_type": "stream",
     "text": [
      "128/128 [==============================] - 0s 24us/step\n",
      "64/64 [==============================] - 0s 39us/step\n",
      "64/64 [==============================] - 0s 51us/step\n",
      "128/128 [==============================] - 0s 26us/step\n",
      "64/64 [==============================] - 0s 47us/step\n",
      "64/64 [==============================] - 0s 47us/step\n",
      "128/128 [==============================] - 0s 24us/step\n",
      "64/64 [==============================] - 0s 32us/step\n",
      "64/64 [==============================] - 0s 37us/step\n",
      "128/128 [==============================] - 0s 53us/step\n",
      "64/64 [==============================] - 0s 43us/step\n",
      "64/64 [==============================] - 0s 59us/step\n",
      "128/128 [==============================] - 0s 25us/step\n",
      "64/64 [==============================] - 0s 33us/step\n",
      "64/64 [==============================] - 0s 47us/step\n"
     ]
    },
    {
     "name": "stderr",
     "output_type": "stream",
     "text": [
      "\r",
      " 84%|████████▎ | 837/1000 [00:21<00:04, 38.93it/s]"
     ]
    },
    {
     "name": "stdout",
     "output_type": "stream",
     "text": [
      "128/128 [==============================] - 0s 31us/step\n",
      "64/64 [==============================] - 0s 47us/step\n",
      "64/64 [==============================] - 0s 34us/step\n",
      "128/128 [==============================] - 0s 23us/step\n",
      "64/64 [==============================] - 0s 30us/step\n",
      "64/64 [==============================] - 0s 37us/step\n",
      "128/128 [==============================] - 0s 26us/step\n",
      "64/64 [==============================] - 0s 47us/step\n",
      "64/64 [==============================] - 0s 60us/step\n",
      "128/128 [==============================] - 0s 26us/step\n",
      "64/64 [==============================] - 0s 30us/step\n",
      "64/64 [==============================] - 0s 44us/step\n",
      "128/128 [==============================] - 0s 24us/step\n",
      "64/64 [==============================] - 0s 26us/step\n",
      "64/64 [==============================] - 0s 41us/step\n"
     ]
    },
    {
     "name": "stderr",
     "output_type": "stream",
     "text": [
      "\r",
      " 84%|████████▍ | 842/1000 [00:21<00:04, 38.96it/s]"
     ]
    },
    {
     "name": "stdout",
     "output_type": "stream",
     "text": [
      "128/128 [==============================] - 0s 25us/step\n",
      "64/64 [==============================] - 0s 51us/step\n",
      "64/64 [==============================] - 0s 45us/step\n",
      "128/128 [==============================] - 0s 29us/step\n",
      "64/64 [==============================] - 0s 31us/step\n",
      "64/64 [==============================] - 0s 35us/step\n",
      "128/128 [==============================] - 0s 25us/step\n",
      "64/64 [==============================] - 0s 32us/step\n",
      "64/64 [==============================] - 0s 61us/step\n",
      "128/128 [==============================] - 0s 25us/step\n",
      "64/64 [==============================] - 0s 52us/step\n",
      "64/64 [==============================] - 0s 29us/step\n",
      "128/128 [==============================] - 0s 30us/step\n",
      "64/64 [==============================] - 0s 36us/step\n",
      "64/64 [==============================] - 0s 55us/step\n"
     ]
    },
    {
     "name": "stderr",
     "output_type": "stream",
     "text": [
      "\r",
      " 85%|████████▍ | 847/1000 [00:21<00:03, 38.98it/s]"
     ]
    },
    {
     "name": "stdout",
     "output_type": "stream",
     "text": [
      "128/128 [==============================] - 0s 28us/step\n",
      "64/64 [==============================] - 0s 59us/step\n",
      "64/64 [==============================] - 0s 70us/step\n",
      "128/128 [==============================] - 0s 28us/step\n",
      "64/64 [==============================] - 0s 45us/step\n",
      "64/64 [==============================] - 0s 46us/step\n",
      "128/128 [==============================] - 0s 25us/step\n",
      "64/64 [==============================] - 0s 31us/step\n",
      "64/64 [==============================] - 0s 109us/step\n",
      "128/128 [==============================] - 0s 23us/step\n",
      "64/64 [==============================] - 0s 25us/step\n",
      "64/64 [==============================] - 0s 39us/step\n",
      "128/128 [==============================] - 0s 27us/step\n",
      "64/64 [==============================] - 0s 42us/step\n",
      "64/64 [==============================] - 0s 35us/step\n"
     ]
    },
    {
     "name": "stderr",
     "output_type": "stream",
     "text": [
      "\r",
      " 85%|████████▌ | 852/1000 [00:21<00:03, 39.00it/s]"
     ]
    },
    {
     "name": "stdout",
     "output_type": "stream",
     "text": [
      "128/128 [==============================] - 0s 58us/step\n",
      "64/64 [==============================] - 0s 34us/step\n",
      "64/64 [==============================] - 0s 39us/step\n",
      "128/128 [==============================] - 0s 26us/step\n",
      "64/64 [==============================] - 0s 28us/step\n",
      "64/64 [==============================] - 0s 41us/step\n",
      "128/128 [==============================] - 0s 27us/step\n",
      "64/64 [==============================] - 0s 53us/step\n",
      "64/64 [==============================] - 0s 50us/step\n",
      "128/128 [==============================] - 0s 34us/step\n",
      "64/64 [==============================] - 0s 39us/step\n",
      "64/64 [==============================] - 0s 41us/step\n",
      "128/128 [==============================] - 0s 26us/step\n",
      "64/64 [==============================] - 0s 80us/step\n",
      "64/64 [==============================] - ETA:  - 0s 39us/step\n"
     ]
    },
    {
     "name": "stderr",
     "output_type": "stream",
     "text": [
      "\r",
      " 86%|████████▌ | 857/1000 [00:21<00:03, 39.01it/s]"
     ]
    },
    {
     "name": "stdout",
     "output_type": "stream",
     "text": [
      "128/128 [==============================] - 0s 33us/step\n",
      "64/64 [==============================] - 0s 47us/step\n",
      "64/64 [==============================] - 0s 28us/step\n",
      "128/128 [==============================] - 0s 26us/step\n",
      "64/64 [==============================] - 0s 27us/step\n",
      "64/64 [==============================] - 0s 35us/step\n",
      "128/128 [==============================] - 0s 26us/step\n",
      "64/64 [==============================] - 0s 43us/step\n",
      "64/64 [==============================] - 0s 32us/step\n",
      "128/128 [==============================] - 0s 26us/step\n",
      "64/64 [==============================] - 0s 25us/step\n",
      "64/64 [==============================] - 0s 46us/step\n",
      "128/128 [==============================] - 0s 34us/step\n",
      "64/64 [==============================] - 0s 104us/step\n",
      "64/64 [==============================] - 0s 34us/step\n"
     ]
    },
    {
     "name": "stderr",
     "output_type": "stream",
     "text": [
      "\r",
      " 86%|████████▌ | 862/1000 [00:22<00:03, 39.03it/s]"
     ]
    },
    {
     "name": "stdout",
     "output_type": "stream",
     "text": [
      "128/128 [==============================] - 0s 33us/step\n",
      "64/64 [==============================] - 0s 44us/step\n",
      "64/64 [==============================] - 0s 39us/step\n",
      "128/128 [==============================] - 0s 25us/step\n",
      "64/64 [==============================] - 0s 35us/step\n",
      "64/64 [==============================] - 0s 50us/step\n",
      "128/128 [==============================] - 0s 30us/step\n",
      "64/64 [==============================] - 0s 37us/step\n",
      "64/64 [==============================] - 0s 43us/step\n",
      "128/128 [==============================] - 0s 24us/step\n",
      "64/64 [==============================] - 0s 54us/step\n",
      "64/64 [==============================] - 0s 35us/step\n",
      "128/128 [==============================] - 0s 26us/step\n",
      "64/64 [==============================] - 0s 54us/step\n",
      "64/64 [==============================] - 0s 37us/step\n"
     ]
    },
    {
     "name": "stderr",
     "output_type": "stream",
     "text": [
      "\r",
      " 87%|████████▋ | 867/1000 [00:22<00:03, 39.05it/s]"
     ]
    },
    {
     "name": "stdout",
     "output_type": "stream",
     "text": [
      "128/128 [==============================] - 0s 34us/step\n",
      "64/64 [==============================] - 0s 43us/step\n",
      "64/64 [==============================] - 0s 44us/step\n",
      "128/128 [==============================] - 0s 22us/step\n",
      "64/64 [==============================] - 0s 37us/step\n",
      "64/64 [==============================] - 0s 59us/step\n",
      "128/128 [==============================] - 0s 23us/step\n",
      "64/64 [==============================] - 0s 39us/step\n",
      "64/64 [==============================] - 0s 47us/step\n",
      "128/128 [==============================] - 0s 25us/step\n",
      "64/64 [==============================] - 0s 43us/step\n",
      "64/64 [==============================] - 0s 45us/step\n",
      "128/128 [==============================] - 0s 32us/step\n",
      "64/64 [==============================] - 0s 40us/step\n",
      "64/64 [==============================] - 0s 41us/step\n"
     ]
    },
    {
     "name": "stderr",
     "output_type": "stream",
     "text": [
      "\r",
      " 87%|████████▋ | 872/1000 [00:22<00:03, 39.08it/s]"
     ]
    },
    {
     "name": "stdout",
     "output_type": "stream",
     "text": [
      "128/128 [==============================] - 0s 23us/step\n",
      "64/64 [==============================] - 0s 55us/step\n",
      "64/64 [==============================] - 0s 46us/step\n",
      "128/128 [==============================] - 0s 25us/step\n",
      "64/64 [==============================] - 0s 32us/step\n",
      "64/64 [==============================] - 0s 28us/step\n",
      "128/128 [==============================] - 0s 23us/step\n",
      "64/64 [==============================] - 0s 47us/step\n",
      "64/64 [==============================] - 0s 29us/step\n",
      "128/128 [==============================] - 0s 26us/step\n",
      "64/64 [==============================] - 0s 31us/step\n",
      "64/64 [==============================] - 0s 50us/step\n",
      "128/128 [==============================] - 0s 27us/step\n",
      "64/64 [==============================] - 0s 48us/step\n",
      "64/64 [==============================] - 0s 44us/step\n"
     ]
    },
    {
     "name": "stderr",
     "output_type": "stream",
     "text": [
      "\r",
      " 88%|████████▊ | 877/1000 [00:22<00:03, 39.11it/s]"
     ]
    },
    {
     "name": "stdout",
     "output_type": "stream",
     "text": [
      "128/128 [==============================] - 0s 24us/step\n",
      "64/64 [==============================] - 0s 38us/step\n",
      "64/64 [==============================] - 0s 55us/step\n",
      "128/128 [==============================] - 0s 30us/step\n",
      "64/64 [==============================] - 0s 42us/step\n",
      "64/64 [==============================] - 0s 29us/step\n",
      "128/128 [==============================] - 0s 25us/step\n",
      "64/64 [==============================] - 0s 41us/step\n",
      "64/64 [==============================] - 0s 52us/step\n",
      "128/128 [==============================] - 0s 25us/step\n",
      "64/64 [==============================] - 0s 26us/step\n",
      "64/64 [==============================] - 0s 48us/step\n",
      "128/128 [==============================] - 0s 36us/step\n",
      "64/64 [==============================] - 0s 66us/step\n",
      "64/64 [==============================] - 0s 41us/step\n"
     ]
    },
    {
     "name": "stderr",
     "output_type": "stream",
     "text": [
      "\r",
      " 88%|████████▊ | 882/1000 [00:22<00:03, 39.13it/s]"
     ]
    },
    {
     "name": "stdout",
     "output_type": "stream",
     "text": [
      "128/128 [==============================] - 0s 27us/step\n",
      "64/64 [==============================] - 0s 38us/step\n",
      "64/64 [==============================] - 0s 60us/step\n",
      "128/128 [==============================] - 0s 27us/step\n",
      "64/64 [==============================] - 0s 56us/step\n",
      "64/64 [==============================] - 0s 43us/step\n",
      "128/128 [==============================] - 0s 31us/step\n",
      "64/64 [==============================] - 0s 42us/step\n",
      "64/64 [==============================] - 0s 31us/step\n",
      "128/128 [==============================] - 0s 25us/step\n",
      "64/64 [==============================] - 0s 33us/step\n",
      "64/64 [==============================] - 0s 67us/step\n",
      "128/128 [==============================] - 0s 37us/step\n",
      "64/64 [==============================] - 0s 52us/step\n",
      "64/64 [==============================] - 0s 28us/step\n"
     ]
    },
    {
     "name": "stderr",
     "output_type": "stream",
     "text": [
      "\r",
      " 89%|████████▊ | 887/1000 [00:22<00:02, 39.15it/s]"
     ]
    },
    {
     "name": "stdout",
     "output_type": "stream",
     "text": [
      "128/128 [==============================] - 0s 26us/step\n",
      "64/64 [==============================] - 0s 29us/step\n",
      "64/64 [==============================] - 0s 29us/step\n",
      "128/128 [==============================] - 0s 26us/step\n",
      "64/64 [==============================] - 0s 37us/step\n",
      "64/64 [==============================] - 0s 55us/step\n",
      "128/128 [==============================] - 0s 31us/step\n",
      "64/64 [==============================] - 0s 28us/step\n",
      "64/64 [==============================] - 0s 56us/step\n",
      "128/128 [==============================] - 0s 31us/step\n",
      "64/64 [==============================] - 0s 30us/step\n",
      "64/64 [==============================] - 0s 62us/step\n",
      "128/128 [==============================] - 0s 25us/step\n",
      "64/64 [==============================] - 0s 40us/step\n",
      "64/64 [==============================] - 0s 46us/step\n"
     ]
    },
    {
     "name": "stderr",
     "output_type": "stream",
     "text": [
      "\r",
      " 89%|████████▉ | 892/1000 [00:22<00:02, 39.17it/s]"
     ]
    },
    {
     "name": "stdout",
     "output_type": "stream",
     "text": [
      "128/128 [==============================] - 0s 33us/step\n",
      "64/64 [==============================] - 0s 39us/step\n",
      "64/64 [==============================] - 0s 37us/step\n",
      "128/128 [==============================] - 0s 31us/step\n",
      "64/64 [==============================] - 0s 40us/step\n",
      "64/64 [==============================] - 0s 34us/step\n",
      "128/128 [==============================] - 0s 33us/step\n",
      "64/64 [==============================] - 0s 38us/step\n",
      "64/64 [==============================] - 0s 56us/step\n",
      "128/128 [==============================] - 0s 33us/step\n",
      "64/64 [==============================] - 0s 27us/step\n",
      "64/64 [==============================] - 0s 50us/step\n",
      "128/128 [==============================] - 0s 25us/step\n",
      "64/64 [==============================] - 0s 51us/step\n",
      "64/64 [==============================] - 0s 48us/step\n"
     ]
    },
    {
     "name": "stderr",
     "output_type": "stream",
     "text": [
      "\r",
      " 90%|████████▉ | 897/1000 [00:22<00:02, 39.19it/s]"
     ]
    },
    {
     "name": "stdout",
     "output_type": "stream",
     "text": [
      "128/128 [==============================] - 0s 25us/step\n",
      "64/64 [==============================] - 0s 29us/step\n",
      "64/64 [==============================] - 0s 55us/step\n",
      "128/128 [==============================] - 0s 25us/step\n",
      "64/64 [==============================] - 0s 58us/step\n",
      "64/64 [==============================] - 0s 34us/step\n",
      "128/128 [==============================] - 0s 24us/step\n",
      "64/64 [==============================] - 0s 30us/step\n",
      "64/64 [==============================] - 0s 31us/step\n",
      "128/128 [==============================] - 0s 21us/step\n",
      "64/64 [==============================] - 0s 48us/step\n",
      "64/64 [==============================] - 0s 30us/step\n",
      "128/128 [==============================] - 0s 26us/step\n",
      "64/64 [==============================] - 0s 41us/step\n",
      "64/64 [==============================] - 0s 47us/step\n"
     ]
    },
    {
     "name": "stderr",
     "output_type": "stream",
     "text": [
      "\r",
      " 90%|█████████ | 902/1000 [00:23<00:02, 39.21it/s]"
     ]
    },
    {
     "name": "stdout",
     "output_type": "stream",
     "text": [
      "128/128 [==============================] - 0s 28us/step\n",
      "64/64 [==============================] - 0s 29us/step\n",
      "64/64 [==============================] - 0s 41us/step\n",
      "128/128 [==============================] - 0s 23us/step\n",
      "64/64 [==============================] - 0s 45us/step\n",
      "64/64 [==============================] - 0s 107us/step\n",
      "128/128 [==============================] - 0s 34us/step\n",
      "64/64 [==============================] - 0s 43us/step\n",
      "64/64 [==============================] - 0s 30us/step\n",
      "128/128 [==============================] - 0s 25us/step\n",
      "64/64 [==============================] - 0s 28us/step\n",
      "64/64 [==============================] - 0s 47us/step\n",
      "128/128 [==============================] - 0s 27us/step\n",
      "64/64 [==============================] - 0s 32us/step\n",
      "64/64 [==============================] - 0s 65us/step\n"
     ]
    },
    {
     "name": "stderr",
     "output_type": "stream",
     "text": [
      "\r",
      " 91%|█████████ | 907/1000 [00:23<00:02, 39.23it/s]"
     ]
    },
    {
     "name": "stdout",
     "output_type": "stream",
     "text": [
      "128/128 [==============================] - 0s 28us/step\n",
      "64/64 [==============================] - 0s 31us/step\n",
      "64/64 [==============================] - 0s 44us/step\n",
      "128/128 [==============================] - 0s 30us/step\n",
      "64/64 [==============================] - 0s 33us/step\n",
      "64/64 [==============================] - 0s 34us/step\n",
      "128/128 [==============================] - 0s 23us/step\n",
      "64/64 [==============================] - 0s 53us/step\n",
      "64/64 [==============================] - 0s 31us/step\n",
      "128/128 [==============================] - 0s 30us/step\n",
      "64/64 [==============================] - 0s 29us/step\n",
      "64/64 [==============================] - 0s 38us/step\n",
      "128/128 [==============================] - 0s 31us/step\n",
      "64/64 [==============================] - 0s 29us/step\n",
      "64/64 [==============================] - 0s 61us/step\n"
     ]
    },
    {
     "name": "stderr",
     "output_type": "stream",
     "text": [
      "\r",
      " 91%|█████████ | 912/1000 [00:23<00:02, 39.25it/s]"
     ]
    },
    {
     "name": "stdout",
     "output_type": "stream",
     "text": [
      "128/128 [==============================] - 0s 27us/step\n",
      "64/64 [==============================] - 0s 29us/step\n",
      "64/64 [==============================] - 0s 43us/step\n",
      "128/128 [==============================] - 0s 24us/step\n",
      "64/64 [==============================] - 0s 55us/step\n",
      "64/64 [==============================] - 0s 54us/step\n",
      "128/128 [==============================] - 0s 23us/step\n",
      "64/64 [==============================] - 0s 60us/step\n",
      "64/64 [==============================] - 0s 44us/step\n",
      "128/128 [==============================] - 0s 25us/step\n",
      "64/64 [==============================] - 0s 44us/step\n",
      "64/64 [==============================] - 0s 30us/step\n",
      "128/128 [==============================] - 0s 27us/step\n",
      "64/64 [==============================] - 0s 48us/step\n",
      "64/64 [==============================] - 0s 54us/step\n"
     ]
    },
    {
     "name": "stderr",
     "output_type": "stream",
     "text": [
      "\r",
      " 92%|█████████▏| 917/1000 [00:23<00:02, 39.27it/s]"
     ]
    },
    {
     "name": "stdout",
     "output_type": "stream",
     "text": [
      "128/128 [==============================] - 0s 36us/step\n",
      "64/64 [==============================] - 0s 26us/step\n",
      "64/64 [==============================] - 0s 45us/step\n",
      "128/128 [==============================] - 0s 35us/step\n",
      "64/64 [==============================] - 0s 45us/step\n",
      "64/64 [==============================] - 0s 32us/step\n",
      "128/128 [==============================] - 0s 26us/step\n",
      "64/64 [==============================] - 0s 48us/step\n",
      "64/64 [==============================] - 0s 47us/step\n",
      "128/128 [==============================] - 0s 33us/step\n",
      "64/64 [==============================] - 0s 33us/step\n",
      "64/64 [==============================] - 0s 40us/step\n",
      "128/128 [==============================] - ETA:  - 0s 23us/step\n",
      "64/64 [==============================] - 0s 65us/step\n",
      "64/64 [==============================] - 0s 58us/step\n"
     ]
    },
    {
     "name": "stderr",
     "output_type": "stream",
     "text": [
      "\r",
      " 92%|█████████▏| 922/1000 [00:23<00:01, 39.29it/s]"
     ]
    },
    {
     "name": "stdout",
     "output_type": "stream",
     "text": [
      "128/128 [==============================] - 0s 32us/step\n",
      "64/64 [==============================] - 0s 39us/step\n",
      "64/64 [==============================] - 0s 29us/step\n",
      "128/128 [==============================] - 0s 24us/step\n",
      "64/64 [==============================] - 0s 27us/step\n",
      "64/64 [==============================] - 0s 43us/step\n",
      "128/128 [==============================] - 0s 29us/step\n",
      "64/64 [==============================] - 0s 33us/step\n",
      "64/64 [==============================] - 0s 51us/step\n",
      "128/128 [==============================] - 0s 29us/step\n",
      "64/64 [==============================] - 0s 38us/step\n",
      "64/64 [==============================] - 0s 32us/step\n",
      "128/128 [==============================] - 0s 24us/step\n",
      "64/64 [==============================] - 0s 40us/step\n",
      "64/64 [==============================] - 0s 28us/step\n"
     ]
    },
    {
     "name": "stderr",
     "output_type": "stream",
     "text": [
      "\r",
      " 93%|█████████▎| 927/1000 [00:23<00:01, 39.32it/s]"
     ]
    },
    {
     "name": "stdout",
     "output_type": "stream",
     "text": [
      "128/128 [==============================] - 0s 22us/step\n",
      "64/64 [==============================] - 0s 39us/step\n",
      "64/64 [==============================] - 0s 60us/step\n",
      "128/128 [==============================] - 0s 28us/step\n",
      "64/64 [==============================] - 0s 36us/step\n",
      "64/64 [==============================] - 0s 48us/step\n",
      "128/128 [==============================] - 0s 34us/step\n",
      "64/64 [==============================] - 0s 31us/step\n",
      "64/64 [==============================] - 0s 28us/step\n",
      "128/128 [==============================] - 0s 24us/step\n",
      "64/64 [==============================] - 0s 30us/step\n",
      "64/64 [==============================] - 0s 37us/step\n",
      "128/128 [==============================] - 0s 25us/step\n",
      "64/64 [==============================] - 0s 47us/step\n",
      "64/64 [==============================] - 0s 41us/step\n"
     ]
    },
    {
     "name": "stderr",
     "output_type": "stream",
     "text": [
      "\r",
      " 93%|█████████▎| 932/1000 [00:23<00:01, 39.35it/s]"
     ]
    },
    {
     "name": "stdout",
     "output_type": "stream",
     "text": [
      "128/128 [==============================] - 0s 23us/step\n",
      "64/64 [==============================] - 0s 52us/step\n",
      "64/64 [==============================] - 0s 40us/step\n",
      "128/128 [==============================] - 0s 57us/step\n",
      "64/64 [==============================] - 0s 27us/step\n",
      "64/64 [==============================] - 0s 32us/step\n",
      "128/128 [==============================] - 0s 26us/step\n",
      "64/64 [==============================] - 0s 30us/step\n",
      "64/64 [==============================] - 0s 27us/step\n",
      "128/128 [==============================] - 0s 24us/step\n",
      "64/64 [==============================] - 0s 32us/step\n",
      "64/64 [==============================] - 0s 46us/step\n",
      "128/128 [==============================] - 0s 33us/step\n",
      "64/64 [==============================] - 0s 39us/step\n",
      "64/64 [==============================] - 0s 28us/step\n"
     ]
    },
    {
     "name": "stderr",
     "output_type": "stream",
     "text": [
      "\r",
      " 94%|█████████▎| 937/1000 [00:23<00:01, 39.36it/s]"
     ]
    },
    {
     "name": "stdout",
     "output_type": "stream",
     "text": [
      "128/128 [==============================] - 0s 26us/step\n",
      "64/64 [==============================] - 0s 45us/step\n",
      "64/64 [==============================] - 0s 44us/step\n",
      "128/128 [==============================] - 0s 23us/step\n",
      "64/64 [==============================] - 0s 49us/step\n",
      "64/64 [==============================] - 0s 52us/step\n",
      "128/128 [==============================] - 0s 23us/step\n",
      "64/64 [==============================] - 0s 30us/step\n",
      "64/64 [==============================] - 0s 51us/step\n",
      "128/128 [==============================] - 0s 31us/step\n",
      "64/64 [==============================] - 0s 42us/step\n",
      "64/64 [==============================] - 0s 37us/step\n",
      "128/128 [==============================] - 0s 32us/step\n",
      "64/64 [==============================] - 0s 51us/step\n",
      "64/64 [==============================] - 0s 29us/step\n"
     ]
    },
    {
     "name": "stderr",
     "output_type": "stream",
     "text": [
      "\r",
      " 94%|█████████▍| 942/1000 [00:23<00:01, 39.38it/s]"
     ]
    },
    {
     "name": "stdout",
     "output_type": "stream",
     "text": [
      "128/128 [==============================] - 0s 35us/step\n",
      "64/64 [==============================] - 0s 40us/step\n",
      "64/64 [==============================] - 0s 98us/step\n",
      "128/128 [==============================] - 0s 27us/step\n",
      "64/64 [==============================] - 0s 38us/step\n",
      "64/64 [==============================] - 0s 32us/step\n",
      "128/128 [==============================] - 0s 22us/step\n",
      "64/64 [==============================] - 0s 30us/step\n",
      "64/64 [==============================] - 0s 69us/step\n",
      "128/128 [==============================] - 0s 30us/step\n",
      "64/64 [==============================] - 0s 36us/step\n",
      "64/64 [==============================] - 0s 58us/step\n",
      "128/128 [==============================] - 0s 32us/step\n",
      "64/64 [==============================] - 0s 43us/step\n",
      "64/64 [==============================] - 0s 37us/step\n"
     ]
    },
    {
     "name": "stderr",
     "output_type": "stream",
     "text": [
      "\r",
      " 95%|█████████▍| 947/1000 [00:24<00:01, 39.38it/s]"
     ]
    },
    {
     "name": "stdout",
     "output_type": "stream",
     "text": [
      "128/128 [==============================] - 0s 26us/step\n",
      "64/64 [==============================] - 0s 49us/step\n",
      "64/64 [==============================] - 0s 33us/step\n",
      "128/128 [==============================] - 0s 29us/step\n",
      "64/64 [==============================] - 0s 40us/step\n",
      "64/64 [==============================] - 0s 53us/step\n",
      "128/128 [==============================] - 0s 23us/step\n",
      "64/64 [==============================] - 0s 33us/step\n",
      "64/64 [==============================] - 0s 47us/step\n",
      "128/128 [==============================] - 0s 27us/step\n",
      "64/64 [==============================] - 0s 54us/step\n",
      "64/64 [==============================] - 0s 45us/step\n",
      "128/128 [==============================] - 0s 35us/step\n",
      "64/64 [==============================] - 0s 32us/step\n",
      "64/64 [==============================] - 0s 44us/step\n"
     ]
    },
    {
     "name": "stderr",
     "output_type": "stream",
     "text": [
      "\r",
      " 95%|█████████▌| 952/1000 [00:24<00:01, 39.40it/s]"
     ]
    },
    {
     "name": "stdout",
     "output_type": "stream",
     "text": [
      "128/128 [==============================] - 0s 61us/step\n",
      "64/64 [==============================] - 0s 32us/step\n",
      "64/64 [==============================] - 0s 45us/step\n",
      "128/128 [==============================] - 0s 31us/step\n",
      "64/64 [==============================] - 0s 25us/step\n",
      "64/64 [==============================] - 0s 49us/step\n",
      "128/128 [==============================] - 0s 25us/step\n",
      "64/64 [==============================] - 0s 30us/step\n",
      "64/64 [==============================] - 0s 28us/step\n",
      "128/128 [==============================] - 0s 29us/step\n",
      "64/64 [==============================] - 0s 36us/step\n",
      "64/64 [==============================] - 0s 37us/step\n",
      "128/128 [==============================] - 0s 22us/step\n",
      "64/64 [==============================] - 0s 26us/step\n",
      "64/64 [==============================] - 0s 31us/step\n"
     ]
    },
    {
     "name": "stderr",
     "output_type": "stream",
     "text": [
      "\r",
      " 96%|█████████▌| 957/1000 [00:24<00:01, 39.42it/s]"
     ]
    },
    {
     "name": "stdout",
     "output_type": "stream",
     "text": [
      "128/128 [==============================] - 0s 24us/step\n",
      "64/64 [==============================] - 0s 65us/step\n",
      "64/64 [==============================] - 0s 47us/step\n",
      "128/128 [==============================] - 0s 31us/step\n",
      "64/64 [==============================] - 0s 34us/step\n",
      "64/64 [==============================] - 0s 37us/step\n",
      "128/128 [==============================] - 0s 24us/step\n",
      "64/64 [==============================] - 0s 41us/step\n",
      "64/64 [==============================] - 0s 35us/step\n",
      "128/128 [==============================] - 0s 36us/step\n",
      "64/64 [==============================] - 0s 43us/step\n",
      "64/64 [==============================] - 0s 34us/step\n",
      "128/128 [==============================] - 0s 35us/step\n",
      "64/64 [==============================] - 0s 31us/step\n",
      "64/64 [==============================] - 0s 35us/step\n"
     ]
    },
    {
     "name": "stderr",
     "output_type": "stream",
     "text": [
      "\r",
      " 96%|█████████▌| 962/1000 [00:24<00:00, 39.44it/s]"
     ]
    },
    {
     "name": "stdout",
     "output_type": "stream",
     "text": [
      "128/128 [==============================] - 0s 35us/step\n",
      "64/64 [==============================] - 0s 52us/step\n",
      "64/64 [==============================] - 0s 55us/step\n",
      "128/128 [==============================] - 0s 22us/step\n",
      "64/64 [==============================] - 0s 36us/step\n",
      "64/64 [==============================] - 0s 35us/step\n",
      "128/128 [==============================] - 0s 38us/step\n",
      "64/64 [==============================] - 0s 31us/step\n",
      "64/64 [==============================] - 0s 42us/step\n",
      "128/128 [==============================] - 0s 23us/step\n",
      "64/64 [==============================] - 0s 39us/step\n",
      "64/64 [==============================] - 0s 36us/step\n",
      "128/128 [==============================] - 0s 32us/step\n",
      "64/64 [==============================] - 0s 61us/step\n",
      "64/64 [==============================] - 0s 52us/step\n"
     ]
    },
    {
     "name": "stderr",
     "output_type": "stream",
     "text": [
      "\r",
      " 97%|█████████▋| 967/1000 [00:24<00:00, 39.42it/s]"
     ]
    },
    {
     "name": "stdout",
     "output_type": "stream",
     "text": [
      "128/128 [==============================] - 0s 27us/step\n",
      "64/64 [==============================] - 0s 55us/step\n",
      "64/64 [==============================] - 0s 51us/step\n",
      "128/128 [==============================] - 0s 37us/step\n",
      "64/64 [==============================] - 0s 28us/step\n",
      "64/64 [==============================] - 0s 40us/step\n",
      "128/128 [==============================] - 0s 36us/step\n",
      "64/64 [==============================] - 0s 35us/step\n",
      "64/64 [==============================] - 0s 56us/step\n",
      "128/128 [==============================] - 0s 31us/step\n",
      "64/64 [==============================] - 0s 53us/step\n",
      "64/64 [==============================] - 0s 60us/step\n",
      "128/128 [==============================] - 0s 31us/step\n",
      "64/64 [==============================] - 0s 47us/step\n",
      "64/64 [==============================] - 0s 48us/step\n"
     ]
    },
    {
     "name": "stderr",
     "output_type": "stream",
     "text": [
      "\r",
      " 97%|█████████▋| 972/1000 [00:24<00:00, 39.41it/s]"
     ]
    },
    {
     "name": "stdout",
     "output_type": "stream",
     "text": [
      "128/128 [==============================] - 0s 36us/step\n",
      "64/64 [==============================] - 0s 53us/step\n",
      "64/64 [==============================] - 0s 34us/step\n",
      "128/128 [==============================] - 0s 31us/step\n",
      "64/64 [==============================] - 0s 55us/step\n",
      "64/64 [==============================] - 0s 92us/step\n",
      "128/128 [==============================] - 0s 38us/step\n",
      "64/64 [==============================] - 0s 52us/step\n",
      "64/64 [==============================] - 0s 31us/step\n",
      "128/128 [==============================] - 0s 36us/step\n",
      "64/64 [==============================] - 0s 52us/step\n",
      "64/64 [==============================] - 0s 62us/step\n",
      "128/128 [==============================] - 0s 32us/step\n",
      "64/64 [==============================] - 0s 50us/step\n",
      "64/64 [==============================] - 0s 31us/step\n"
     ]
    },
    {
     "name": "stderr",
     "output_type": "stream",
     "text": [
      "\r",
      " 98%|█████████▊| 977/1000 [00:24<00:00, 39.40it/s]"
     ]
    },
    {
     "name": "stdout",
     "output_type": "stream",
     "text": [
      "128/128 [==============================] - 0s 30us/step\n",
      "64/64 [==============================] - 0s 44us/step\n",
      "64/64 [==============================] - 0s 37us/step\n",
      "128/128 [==============================] - 0s 36us/step\n",
      "64/64 [==============================] - 0s 28us/step\n",
      "64/64 [==============================] - 0s 28us/step\n",
      "128/128 [==============================] - 0s 36us/step\n",
      "64/64 [==============================] - 0s 35us/step\n",
      "64/64 [==============================] - 0s 35us/step\n",
      "128/128 [==============================] - 0s 67us/step\n",
      "64/64 [==============================] - 0s 43us/step\n",
      "64/64 [==============================] - 0s 34us/step\n"
     ]
    },
    {
     "name": "stderr",
     "output_type": "stream",
     "text": [
      "\r",
      " 98%|█████████▊| 981/1000 [00:24<00:00, 39.39it/s]"
     ]
    },
    {
     "name": "stdout",
     "output_type": "stream",
     "text": [
      "128/128 [==============================] - 0s 23us/step\n",
      "64/64 [==============================] - 0s 69us/step\n",
      "64/64 [==============================] - 0s 59us/step\n",
      "128/128 [==============================] - 0s 25us/step\n",
      "64/64 [==============================] - 0s 33us/step\n",
      "64/64 [==============================] - 0s 30us/step\n",
      "128/128 [==============================] - 0s 25us/step\n",
      "64/64 [==============================] - 0s 30us/step\n",
      "64/64 [==============================] - 0s 46us/step\n",
      "128/128 [==============================] - 0s 24us/step\n",
      "64/64 [==============================] - 0s 110us/step\n",
      "64/64 [==============================] - 0s 48us/step\n"
     ]
    },
    {
     "name": "stderr",
     "output_type": "stream",
     "text": [
      "\r",
      " 98%|█████████▊| 985/1000 [00:25<00:00, 39.39it/s]"
     ]
    },
    {
     "name": "stdout",
     "output_type": "stream",
     "text": [
      "128/128 [==============================] - 0s 24us/step\n",
      "64/64 [==============================] - 0s 48us/step\n",
      "64/64 [==============================] - 0s 65us/step\n",
      "128/128 [==============================] - 0s 25us/step\n",
      "64/64 [==============================] - 0s 32us/step\n",
      "64/64 [==============================] - 0s 46us/step\n",
      "128/128 [==============================] - 0s 29us/step\n",
      "64/64 [==============================] - 0s 40us/step\n",
      "64/64 [==============================] - 0s 34us/step\n",
      "128/128 [==============================] - 0s 25us/step\n",
      "64/64 [==============================] - 0s 32us/step\n",
      "64/64 [==============================] - 0s 49us/step\n",
      "128/128 [==============================] - 0s 42us/step\n",
      "64/64 [==============================] - 0s 62us/step\n",
      "64/64 [==============================] - 0s 33us/step\n"
     ]
    },
    {
     "name": "stderr",
     "output_type": "stream",
     "text": [
      "\r",
      " 99%|█████████▉| 990/1000 [00:25<00:00, 39.40it/s]"
     ]
    },
    {
     "name": "stdout",
     "output_type": "stream",
     "text": [
      "128/128 [==============================] - 0s 61us/step\n",
      "64/64 [==============================] - 0s 30us/step\n",
      "64/64 [==============================] - 0s 42us/step\n",
      "128/128 [==============================] - 0s 26us/step\n",
      "64/64 [==============================] - 0s 89us/step\n",
      "64/64 [==============================] - 0s 35us/step\n",
      "128/128 [==============================] - 0s 24us/step\n",
      "64/64 [==============================] - 0s 49us/step\n",
      "64/64 [==============================] - 0s 32us/step\n",
      "128/128 [==============================] - 0s 27us/step\n",
      "64/64 [==============================] - 0s 31us/step\n",
      "64/64 [==============================] - 0s 32us/step\n"
     ]
    },
    {
     "name": "stderr",
     "output_type": "stream",
     "text": [
      "\r",
      " 99%|█████████▉| 994/1000 [00:25<00:00, 39.39it/s]"
     ]
    },
    {
     "name": "stdout",
     "output_type": "stream",
     "text": [
      "128/128 [==============================] - 0s 31us/step\n",
      "64/64 [==============================] - 0s 31us/step\n",
      "64/64 [==============================] - 0s 49us/step\n",
      "128/128 [==============================] - 0s 28us/step\n",
      "64/64 [==============================] - 0s 45us/step\n",
      "64/64 [==============================] - 0s 55us/step\n",
      "128/128 [==============================] - 0s 34us/step\n",
      "64/64 [==============================] - 0s 48us/step\n",
      "64/64 [==============================] - 0s 38us/step\n",
      "128/128 [==============================] - 0s 25us/step\n",
      "64/64 [==============================] - 0s 52us/step\n",
      "64/64 [==============================] - 0s 28us/step\n",
      "128/128 [==============================] - 0s 25us/step\n",
      "64/64 [==============================] - 0s 31us/step\n",
      "64/64 [==============================] - 0s 25us/step\n"
     ]
    },
    {
     "name": "stderr",
     "output_type": "stream",
     "text": [
      "\r",
      "100%|█████████▉| 999/1000 [00:25<00:00, 39.40it/s]"
     ]
    },
    {
     "name": "stdout",
     "output_type": "stream",
     "text": [
      "128/128 [==============================] - 0s 28us/step\n",
      "64/64 [==============================] - 0s 32us/step\n",
      "64/64 [==============================] - 0s 32us/step\n"
     ]
    },
    {
     "name": "stderr",
     "output_type": "stream",
     "text": [
      "100%|██████████| 1000/1000 [00:25<00:00, 39.41it/s]\n"
     ]
    }
   ],
   "source": [
    "losses=train_for_n(**train_dic)"
   ]
  },
  {
   "cell_type": "code",
   "execution_count": 245,
   "metadata": {},
   "outputs": [
    {
     "data": {
      "text/plain": [
       "<Figure size 432x288 with 0 Axes>"
      ]
     },
     "metadata": {},
     "output_type": "display_data"
    },
    {
     "data": {
      "text/plain": [
       "<Figure size 432x288 with 0 Axes>"
      ]
     },
     "metadata": {},
     "output_type": "display_data"
    },
    {
     "data": {
      "image/png": "[encoded data removed]",
      "text/plain": [
       "<Figure size 720x576 with 3 Axes>"
      ]
     },
     "metadata": {},
     "output_type": "display_data"
    }
   ],
   "source": [
    "plot_loss(losses,**{'scale_control':[0,4]})"
   ]
  },
  {
   "cell_type": "code",
   "execution_count": 28,
   "metadata": {},
   "outputs": [
    {
     "data": {
      "text/plain": [
       "[[0.19565932, 0.03910265, 0.00014607016],\n",
       " [0.19676812, 0.03926825, 0.0004268565],\n",
       " [0.1884742, 0.037478205, 0.0010831687],\n",
       " [0.16662814, 0.03260755, 0.0035903803],\n",
       " [0.18088707, 0.031876974, 0.021502193],\n",
       " [0.28211156, 0.030182045, 0.13120133],\n",
       " [0.9299238, 0.03290117, 0.76541793],\n",
       " [1.7135847, 0.032498904, 1.5510901],\n",
       " [2.6745691, 0.03504776, 2.4993303],\n",
       " [3.0512757, 0.0343108, 2.8797216],\n",
       " [3.3157187, 0.03786823, 3.1263776],\n",
       " [2.9501524, 0.04214506, 2.739427],\n",
       " [2.787324, 0.046309948, 2.5557742],\n",
       " [2.204813, 0.04756543, 1.966986],\n",
       " [1.9490851, 0.047766678, 1.7102517],\n",
       " [1.525865, 0.056074835, 1.2454908],\n",
       " [1.4268372, 0.06334402, 1.1101172],\n",
       " [1.2187705, 0.06599647, 0.88878816],\n",
       " [1.1837777, 0.064739294, 0.8600812],\n",
       " [1.1033096, 0.06499094, 0.778355],\n",
       " [1.1675045, 0.0753528, 0.79074055],\n",
       " [1.2468212, 0.07214852, 0.88607866],\n",
       " [1.4939398, 0.086755805, 1.0601608],\n",
       " [1.4939542, 0.07881902, 1.099859],\n",
       " [1.7980915, 0.08377128, 1.3792351],\n",
       " [1.8508976, 0.07895656, 1.4561148],\n",
       " [2.239612, 0.10573478, 1.7109382],\n",
       " [2.227556, 0.09367743, 1.7591687],\n",
       " [2.457271, 0.103662126, 1.9389606],\n",
       " [2.3891056, 0.08976385, 1.9402864],\n",
       " [2.252583, 0.078591175, 1.8596271],\n",
       " [2.2026105, 0.08526552, 1.776283],\n",
       " [2.1827676, 0.08989458, 1.7332947],\n",
       " [2.040019, 0.091155544, 1.5842414],\n",
       " [1.9105661, 0.09328391, 1.4441466],\n",
       " [1.7624177, 0.09982745, 1.2632804],\n",
       " [1.6341518, 0.08216751, 1.2233143],\n",
       " [1.47963, 0.09069705, 1.0261447],\n",
       " [1.3364899, 0.07946342, 0.93917274],\n",
       " [1.2258732, 0.09166868, 0.7675299],\n",
       " [1.1730826, 0.09057735, 0.72019583],\n",
       " [1.1035991, 0.10404879, 0.58335507],\n",
       " [1.0277922, 0.08978713, 0.5788566],\n",
       " [0.9513324, 0.08752863, 0.5136892],\n",
       " [1.0372946, 0.10504234, 0.512083],\n",
       " [0.9578247, 0.09705764, 0.4725365],\n",
       " [1.0078328, 0.09610744, 0.52729553],\n",
       " [1.0463362, 0.10331922, 0.52974015],\n",
       " [1.1182594, 0.097094774, 0.6327855],\n",
       " [1.1603327, 0.102274254, 0.6489614],\n",
       " [1.3297818, 0.11772543, 0.7411546],\n",
       " [1.3267004, 0.10373972, 0.8080018],\n",
       " [1.4767182, 0.106087126, 0.94628257],\n",
       " [1.4556706, 0.10123107, 0.9495153],\n",
       " [1.5861318, 0.097061105, 1.1008263],\n",
       " [1.8113548, 0.1173671, 1.2245193],\n",
       " [1.7653735, 0.10130435, 1.2588516],\n",
       " [1.8643703, 0.09928469, 1.3679469],\n",
       " [2.0598218, 0.1083038, 1.5183029],\n",
       " [2.125448, 0.103631526, 1.6072904],\n",
       " [2.307735, 0.10802034, 1.7676332],\n",
       " [2.4656816, 0.12061067, 1.8626282],\n",
       " [2.4552932, 0.100720346, 1.9516915],\n",
       " [2.50908, 0.11022422, 1.9579589],\n",
       " [2.6512349, 0.117564335, 2.0634131],\n",
       " [2.5501215, 0.11201142, 1.9900644],\n",
       " [2.6021843, 0.12044838, 1.9999423],\n",
       " [2.5657825, 0.11301321, 2.0007164],\n",
       " [2.5844092, 0.10787037, 2.0450573],\n",
       " [2.3169773, 0.090260066, 1.8656769],\n",
       " [2.4293804, 0.1012619, 1.9230709],\n",
       " [2.3952699, 0.097966716, 1.9054362],\n",
       " [2.3768334, 0.1045039, 1.8543139],\n",
       " [2.3766084, 0.104717396, 1.8530215],\n",
       " [2.3323889, 0.10820138, 1.791382],\n",
       " [2.281375, 0.11032045, 1.7297728],\n",
       " [2.2300892, 0.09377658, 1.7612062],\n",
       " [2.1158924, 0.09568928, 1.6374459],\n",
       " [2.1403968, 0.10738696, 1.6034621],\n",
       " [1.992718, 0.0927886, 1.528775],\n",
       " [2.0305657, 0.09749241, 1.5431038],\n",
       " [2.019581, 0.10374174, 1.5008724],\n",
       " [1.9525313, 0.09527783, 1.4761422],\n",
       " [1.979501, 0.10273129, 1.4658446],\n",
       " [1.9577935, 0.0905817, 1.504885],\n",
       " [2.107385, 0.11102842, 1.5522429],\n",
       " [2.1124487, 0.096985444, 1.6275215],\n",
       " [2.175146, 0.09966265, 1.6768328],\n",
       " [2.3368862, 0.11130358, 1.7803682],\n",
       " [2.3329942, 0.11501126, 1.7579379],\n",
       " [2.3846962, 0.10653612, 1.8520156],\n",
       " [2.266708, 0.1015722, 1.7588468],\n",
       " [2.311429, 0.08865286, 1.8681648],\n",
       " [2.4233112, 0.10577717, 1.8944253],\n",
       " [2.4200516, 0.09039088, 1.9680972],\n",
       " [2.4799256, 0.10226048, 1.9686232],\n",
       " [2.6157324, 0.11579848, 2.03674],\n",
       " [2.4609985, 0.09009072, 2.010545],\n",
       " [2.425171, 0.10157831, 1.9172794],\n",
       " [2.3010411, 0.095884815, 1.8216171],\n",
       " [2.4387836, 0.10583346, 1.9096162],\n",
       " [2.1425014, 0.10079504, 1.6385262],\n",
       " [2.1424491, 0.098304406, 1.6509272],\n",
       " [1.9413936, 0.102568045, 1.4285535],\n",
       " [2.0241807, 0.09586507, 1.5448554],\n",
       " [1.9020241, 0.09674318, 1.4183083],\n",
       " [2.108593, 0.11633036, 1.5269413],\n",
       " [2.1806908, 0.11986012, 1.5813903],\n",
       " [2.1943336, 0.109817475, 1.6452463],\n",
       " [2.1376348, 0.11609909, 1.5571394],\n",
       " [2.1055827, 0.0947054, 1.6320558],\n",
       " [2.196031, 0.115061454, 1.6207237],\n",
       " [2.2529926, 0.10856287, 1.7101781],\n",
       " [2.232794, 0.09816178, 1.7419851],\n",
       " [2.3713017, 0.10245052, 1.859049],\n",
       " [2.2914155, 0.103875965, 1.7720356],\n",
       " [2.4477046, 0.10253079, 1.9350506],\n",
       " [2.33043, 0.10053216, 1.8277693],\n",
       " [2.4308724, 0.12208374, 1.8204536],\n",
       " [2.3030524, 0.09796098, 1.8132474],\n",
       " [2.3548934, 0.107358776, 1.8180996],\n",
       " [2.340529, 0.103350535, 1.8237762],\n",
       " [2.4227092, 0.11589636, 1.8432274],\n",
       " [2.229706, 0.10698699, 1.6947712],\n",
       " [2.2941704, 0.11487663, 1.7197874],\n",
       " [2.1651921, 0.10403668, 1.6450088],\n",
       " [2.1992712, 0.09767935, 1.7108746],\n",
       " [2.2956958, 0.12155838, 1.687904],\n",
       " [2.15889, 0.083736956, 1.7402053],\n",
       " [2.2693388, 0.11693276, 1.684675],\n",
       " [2.194442, 0.103559494, 1.6766446],\n",
       " [2.1607733, 0.10648088, 1.6283689],\n",
       " [2.1794589, 0.097097576, 1.6939709],\n",
       " [2.1585917, 0.100304134, 1.657071],\n",
       " [2.2000308, 0.10079008, 1.6960804],\n",
       " [2.1753201, 0.104270585, 1.6539671],\n",
       " [2.160018, 0.105063125, 1.6347022],\n",
       " [2.052701, 0.089897364, 1.6032143],\n",
       " [2.004123, 0.08797899, 1.564228],\n",
       " [2.0202742, 0.11636598, 1.4384444],\n",
       " [1.9880083, 0.100866884, 1.4836738],\n",
       " [1.8085787, 0.0993199, 1.3119793],\n",
       " [1.8065217, 0.10067349, 1.3031542],\n",
       " [1.6649787, 0.09436468, 1.1931553],\n",
       " [1.6493437, 0.10486272, 1.1250302],\n",
       " [1.5589187, 0.10244846, 1.0466764],\n",
       " [1.492487, 0.1048752, 0.96811104],\n",
       " [1.4765011, 0.097909875, 0.9869517],\n",
       " [1.4286392, 0.10064387, 0.9254198],\n",
       " [1.3494017, 0.09157953, 0.89150405],\n",
       " [1.4255264, 0.10693662, 0.89084333],\n",
       " [1.3955235, 0.10072939, 0.8918766],\n",
       " [1.3941884, 0.09626773, 0.9128498],\n",
       " [1.4784882, 0.09570235, 0.9999765],\n",
       " [1.720952, 0.110550866, 1.1681978],\n",
       " [1.6216885, 0.09110611, 1.166158],\n",
       " [1.772973, 0.08862543, 1.3298458],\n",
       " [1.8428543, 0.09400441, 1.3728323],\n",
       " [1.9392693, 0.106859624, 1.4049711],\n",
       " [1.7699186, 0.08918187, 1.3240092],\n",
       " [1.8068715, 0.085347444, 1.3801343],\n",
       " [1.7552165, 0.09464057, 1.2820137],\n",
       " [1.6715888, 0.096043475, 1.1913714],\n",
       " [1.5265424, 0.09485935, 1.0522456],\n",
       " [1.4233286, 0.08781482, 0.9842545],\n",
       " [1.3790009, 0.09375234, 0.9102392],\n",
       " [1.2247334, 0.07886603, 0.83040327],\n",
       " [1.2934827, 0.09835103, 0.8017275],\n",
       " [1.2013285, 0.08668925, 0.7678823],\n",
       " [1.2407739, 0.0924957, 0.7782954],\n",
       " [1.2514873, 0.096689835, 0.76803815],\n",
       " [1.2069894, 0.08899529, 0.76201296],\n",
       " [1.2454624, 0.084800534, 0.8214598],\n",
       " [1.2615536, 0.089147694, 0.8158152],\n",
       " [1.4119067, 0.10406236, 0.8915948],\n",
       " [1.3515902, 0.0925491, 0.8888447],\n",
       " [1.4087853, 0.09439252, 0.9368228],\n",
       " [1.4448841, 0.089913756, 0.9953153],\n",
       " [1.5489659, 0.093428224, 1.0818248],\n",
       " [1.6560518, 0.09833959, 1.1643538],\n",
       " [1.7133994, 0.094443604, 1.2411814],\n",
       " [1.901891, 0.09787611, 1.4125105],\n",
       " [1.841043, 0.09507041, 1.365691],\n",
       " [1.7098219, 0.084951624, 1.2850637],\n",
       " [1.6383122, 0.08129451, 1.2318397],\n",
       " [1.5699358, 0.08554081, 1.1422318],\n",
       " [1.5728977, 0.08412737, 1.1522608],\n",
       " [1.3971591, 0.08853416, 0.95448834],\n",
       " [1.4867454, 0.092459455, 1.0244482],\n",
       " [1.3715327, 0.09326526, 0.90520644],\n",
       " [1.2114233, 0.07623346, 0.830256],\n",
       " [1.2682793, 0.09547122, 0.79092324],\n",
       " [1.2002892, 0.087295815, 0.76381016],\n",
       " [1.2130606, 0.096556224, 0.73027945],\n",
       " [1.1583724, 0.08893943, 0.71367526],\n",
       " [1.086, 0.0756062, 0.70796895],\n",
       " [1.124566, 0.07512688, 0.7489315],\n",
       " [1.1548163, 0.08390453, 0.7352936],\n",
       " [1.1717502, 0.0843411, 0.7500447],\n",
       " [1.1967969, 0.085197225, 0.7708107],\n",
       " [1.1977544, 0.07952849, 0.8001119],\n",
       " [1.2388473, 0.089201964, 0.7928374],\n",
       " [1.2634909, 0.08177294, 0.85462624],\n",
       " [1.2739408, 0.08662152, 0.8408331],\n",
       " [1.2957525, 0.07962472, 0.8976289],\n",
       " [1.3187562, 0.088623926, 0.8756366],\n",
       " [1.3038495, 0.07213462, 0.9431764],\n",
       " [1.3756136, 0.08410049, 0.9551111],\n",
       " [1.4684718, 0.090857714, 1.0141832],\n",
       " [1.5086528, 0.104494624, 0.9861797],\n",
       " [1.476696, 0.08830157, 1.0351882],\n",
       " [1.4533353, 0.08305829, 1.0380439],\n",
       " [1.5016575, 0.08111195, 1.0960977],\n",
       " [1.5113002, 0.08800271, 1.0712867],\n",
       " [1.4993804, 0.086399145, 1.0673846],\n",
       " [1.4948059, 0.0850433, 1.0695894],\n",
       " [1.5269634, 0.08517072, 1.1011097],\n",
       " [1.5578403, 0.09485396, 1.0835705],\n",
       " [1.4821863, 0.081768006, 1.0733463],\n",
       " [1.5141947, 0.08960934, 1.066148],\n",
       " [1.4962837, 0.08997629, 1.0464022],\n",
       " [1.4204879, 0.0841216, 0.99987996],\n",
       " [1.3859935, 0.070540935, 1.0332888],\n",
       " [1.34726, 0.08148998, 0.93981004],\n",
       " [1.2865504, 0.07491387, 0.91198105],\n",
       " [1.3243968, 0.09866641, 0.83106476],\n",
       " [1.2454522, 0.08470236, 0.8219403],\n",
       " [1.1420221, 0.0787069, 0.74848765],\n",
       " [1.1369358, 0.07693167, 0.7522775],\n",
       " [1.0951595, 0.08346795, 0.6778198],\n",
       " [1.1235709, 0.09417946, 0.65267366],\n",
       " [0.9954083, 0.07835847, 0.60361594],\n",
       " [1.0987284, 0.09225111, 0.6374728],\n",
       " [0.9977659, 0.07532534, 0.62113917],\n",
       " [1.0148094, 0.09318495, 0.5488846],\n",
       " [0.9853864, 0.09474774, 0.5116477],\n",
       " [0.99088556, 0.08858472, 0.54796195],\n",
       " [0.9006613, 0.07333206, 0.534001],\n",
       " [0.9630093, 0.08519485, 0.53703505],\n",
       " [1.0080229, 0.07998249, 0.6081104],\n",
       " [1.0407361, 0.08221996, 0.6296363],\n",
       " [1.0804172, 0.093135305, 0.6147406],\n",
       " [1.07429, 0.08807342, 0.63392293],\n",
       " [1.1335058, 0.08891384, 0.68893665],\n",
       " [1.1069173, 0.072657295, 0.74363077],\n",
       " [1.2008953, 0.09125188, 0.7446359],\n",
       " [1.1738865, 0.07299931, 0.80889004],\n",
       " [1.2386798, 0.09243822, 0.77648866],\n",
       " [1.3394445, 0.096698165, 0.8559537],\n",
       " [1.2049342, 0.08097997, 0.80003434],\n",
       " [1.2753356, 0.08213505, 0.8646603],\n",
       " [1.3318748, 0.09314143, 0.8661677],\n",
       " [1.3170321, 0.08587609, 0.8876516],\n",
       " [1.3888094, 0.09338749, 0.92187196],\n",
       " [1.2561365, 0.07853246, 0.86347425],\n",
       " [1.3177118, 0.092790104, 0.8537613],\n",
       " [1.2912982, 0.083139494, 0.8756007],\n",
       " [1.2578777, 0.08426392, 0.8365581],\n",
       " [1.2866646, 0.08371024, 0.8681134],\n",
       " [1.1986452, 0.07908799, 0.8032053],\n",
       " [1.2388887, 0.08712348, 0.8032713],\n",
       " [1.130626, 0.07695775, 0.74583715],\n",
       " [1.1600356, 0.07789658, 0.7705527],\n",
       " [1.1809683, 0.08522756, 0.7548305],\n",
       " [1.2539748, 0.088388406, 0.81203276],\n",
       " [1.1453383, 0.079843365, 0.7461214],\n",
       " [1.268153, 0.08535428, 0.84138155],\n",
       " [1.2397081, 0.08324265, 0.82349485],\n",
       " [1.2355509, 0.07078892, 0.88160634],\n",
       " [1.3241657, 0.082254454, 0.9128934],\n",
       " [1.3451481, 0.08522668, 0.91901475],\n",
       " [1.2734513, 0.06773217, 0.93479043],\n",
       " [1.3620869, 0.082015686, 0.9520084],\n",
       " [1.3736297, 0.078287035, 0.9821945],\n",
       " [1.4018722, 0.07579531, 1.0228957],\n",
       " [1.4843094, 0.09003073, 1.0341558],\n",
       " [1.5347581, 0.0956922, 1.0562971],\n",
       " [1.4602616, 0.08353259, 1.0425987],\n",
       " [1.3935236, 0.07806189, 1.0032141],\n",
       " [1.4418416, 0.08695884, 1.0070474],\n",
       " [1.295018, 0.066808805, 0.960974],\n",
       " [1.4867601, 0.10416027, 0.9659588],\n",
       " [1.4166502, 0.09640664, 0.934617],\n",
       " [1.2953198, 0.08046326, 0.89300346],\n",
       " [1.2690346, 0.082942426, 0.8543225],\n",
       " [1.2501208, 0.07927304, 0.85375553],\n",
       " [1.2665272, 0.08308147, 0.8511198],\n",
       " [1.2387013, 0.092517644, 0.77611315],\n",
       " [1.1609731, 0.081878394, 0.7515811],\n",
       " [1.166148, 0.07408005, 0.79574776],\n",
       " [1.1725296, 0.07116619, 0.8166987],\n",
       " [1.2401671, 0.08719825, 0.80417585],\n",
       " [1.2482507, 0.08347787, 0.83086133],\n",
       " [1.2338096, 0.07669895, 0.8503148],\n",
       " [1.2821594, 0.080611, 0.87910444],\n",
       " [1.4842513, 0.1043244, 0.96262926],\n",
       " [1.3840034, 0.08351422, 0.9664323],\n",
       " [1.3912034, 0.083144374, 0.9754815],\n",
       " [1.3618603, 0.070947155, 1.0071244],\n",
       " [1.2572429, 0.06252927, 0.9445966],\n",
       " [1.4791499, 0.092336684, 1.0174665],\n",
       " [1.323667, 0.08826566, 0.8823388],\n",
       " [1.4188781, 0.08995166, 0.9691198],\n",
       " [1.2989361, 0.085375145, 0.8720604],\n",
       " [1.210669, 0.082104154, 0.80014825],\n",
       " [1.1649946, 0.08131521, 0.75841856],\n",
       " [1.1481117, 0.08205935, 0.7378149],\n",
       " [1.0540179, 0.06950514, 0.7064922],\n",
       " [1.2313641, 0.09552905, 0.75371885],\n",
       " [1.0659204, 0.07225321, 0.7046542],\n",
       " [1.1933439, 0.08730648, 0.7568115],\n",
       " [1.2155349, 0.089937314, 0.7658483],\n",
       " [1.1829137, 0.08298394, 0.7679939],\n",
       " [1.24092, 0.09034287, 0.78920555],\n",
       " [1.1838272, 0.07612352, 0.80320954],\n",
       " [1.2517438, 0.08422157, 0.8306359],\n",
       " [1.2467797, 0.077603266, 0.85876334],\n",
       " [1.2154078, 0.07817909, 0.82451236],\n",
       " [1.2400508, 0.07535426, 0.8632794],\n",
       " [1.2277434, 0.08082414, 0.82362276],\n",
       " [1.3501979, 0.08816008, 0.9093975],\n",
       " [1.3506707, 0.08755307, 0.91290534],\n",
       " [1.4633303, 0.09713681, 0.9776463],\n",
       " [1.3096681, 0.07862842, 0.9165259],\n",
       " [1.4051576, 0.09014306, 0.9544422],\n",
       " [1.3923435, 0.08295375, 0.97757477],\n",
       " [1.3860016, 0.077606425, 0.9979694],\n",
       " [1.4280448, 0.08489054, 1.0035921],\n",
       " [1.4444127, 0.07879305, 1.0504475],\n",
       " [1.4777849, 0.08632547, 1.0461575],\n",
       " [1.4516083, 0.07344012, 1.0844077],\n",
       " [1.436363, 0.081987634, 1.0264249],\n",
       " [1.473374, 0.07918403, 1.0774539],\n",
       " [1.3754507, 0.071168736, 1.0196071],\n",
       " [1.4476342, 0.07790039, 1.0581323],\n",
       " [1.4463314, 0.08176401, 1.0375113],\n",
       " [1.4834995, 0.08979879, 1.0345056],\n",
       " [1.45762, 0.0844641, 1.0352995],\n",
       " [1.3964471, 0.07655107, 1.0136917],\n",
       " [1.4167646, 0.08487767, 0.99237627],\n",
       " [1.3007624, 0.068025865, 0.96063304],\n",
       " [1.4157382, 0.08204809, 1.0054978],\n",
       " [1.3397741, 0.07813656, 0.9490913],\n",
       " [1.2791064, 0.07000651, 0.9290738],\n",
       " [1.2543921, 0.06630847, 0.9228498],\n",
       " [1.3436452, 0.08894163, 0.89893705],\n",
       " [1.3256325, 0.08293499, 0.9109575],\n",
       " [1.1799595, 0.0638061, 0.860929],\n",
       " [1.1840001, 0.07057831, 0.83110857],\n",
       " [1.1719294, 0.07506505, 0.79660416],\n",
       " [1.2021492, 0.08111201, 0.796589],\n",
       " [1.0654423, 0.061796144, 0.7564616],\n",
       " [1.1149373, 0.07419361, 0.7439693],\n",
       " [1.0911889, 0.07408096, 0.7207841],\n",
       " [1.0849674, 0.07918372, 0.68904877],\n",
       " [1.0037017, 0.06676068, 0.6698983],\n",
       " [1.1086155, 0.08521554, 0.68253785],\n",
       " [0.9807062, 0.063556336, 0.6629245],\n",
       " [1.0507368, 0.07371659, 0.6821538],\n",
       " [1.0826342, 0.07906599, 0.68730426],\n",
       " [1.1000525, 0.0798353, 0.700876],\n",
       " [1.1068052, 0.08012772, 0.7061666],\n",
       " [1.103024, 0.071166635, 0.74719083],\n",
       " [1.1331896, 0.07546127, 0.7558832],\n",
       " [1.1165321, 0.06745799, 0.77924216],\n",
       " [1.1516026, 0.07486805, 0.77726233],\n",
       " [1.1156042, 0.066862956, 0.78128934],\n",
       " [1.1395944, 0.066948876, 0.80485004],\n",
       " [1.2177024, 0.07314943, 0.85195524],\n",
       " [1.1688508, 0.069603056, 0.8208355],\n",
       " [1.2199907, 0.075284585, 0.84356785],\n",
       " [1.2188897, 0.07823371, 0.8277211],\n",
       " [1.2043867, 0.07658559, 0.8214587],\n",
       " [1.1480241, 0.061811995, 0.83896416],\n",
       " [1.2160184, 0.07853077, 0.8233645],\n",
       " [1.176636, 0.070762455, 0.82282364],\n",
       " [1.1306529, 0.06539871, 0.80365944],\n",
       " [1.1626914, 0.069324695, 0.8160678],\n",
       " [1.2665687, 0.08043027, 0.86441725],\n",
       " [1.187015, 0.07381734, 0.8179284],\n",
       " [1.2240629, 0.07415104, 0.8533078],\n",
       " [1.2125063, 0.06865449, 0.86923385],\n",
       " [1.2650245, 0.08267428, 0.85165316],\n",
       " [1.2688258, 0.08069676, 0.8653419],\n",
       " [1.2429858, 0.07230613, 0.88145524],\n",
       " [1.2851739, 0.072538465, 0.9224816],\n",
       " [1.2322652, 0.06506047, 0.9069629],\n",
       " [1.2343363, 0.065960646, 0.904533],\n",
       " [1.2511568, 0.0681171, 0.91057134],\n",
       " [1.2913566, 0.081814386, 0.88228464],\n",
       " [1.3799595, 0.09537839, 0.9030675],\n",
       " [1.1719519, 0.06432595, 0.8503221],\n",
       " [1.2287095, 0.07020558, 0.8776816],\n",
       " [1.2155019, 0.07794781, 0.82576287],\n",
       " [1.1315374, 0.07188623, 0.77210635],\n",
       " [1.0989255, 0.068772405, 0.7550635],\n",
       " [1.1268964, 0.08195261, 0.7171334],\n",
       " [1.0197742, 0.06685756, 0.6854863],\n",
       " [1.041203, 0.06866699, 0.6978681],\n",
       " [0.9692908, 0.07208459, 0.6088678],\n",
       " [0.9315975, 0.059731442, 0.63294023],\n",
       " [0.9957901, 0.0798017, 0.5967816],\n",
       " [0.92270654, 0.06644209, 0.5904961],\n",
       " [0.9358901, 0.06957891, 0.5879955],\n",
       " [0.91410094, 0.06452904, 0.59145576],\n",
       " [0.9292027, 0.06804755, 0.58896494],\n",
       " [0.99876595, 0.07675972, 0.61496735],\n",
       " [0.96626043, 0.0686418, 0.62305146],\n",
       " [1.0136471, 0.0729144, 0.6490751],\n",
       " [1.0444897, 0.07372753, 0.67585206],\n",
       " [1.0659184, 0.07720198, 0.67990863],\n",
       " [1.0085769, 0.06430997, 0.687027],\n",
       " [1.1258444, 0.08146441, 0.7185223],\n",
       " [1.1667852, 0.083268106, 0.75044465],\n",
       " [1.1806552, 0.07702953, 0.7955076],\n",
       " [1.1698638, 0.07696849, 0.78502136],\n",
       " [1.165325, 0.075227685, 0.78918666],\n",
       " [1.1948857, 0.0746067, 0.8218522],\n",
       " [1.1294955, 0.065895185, 0.80001956],\n",
       " [1.1151451, 0.06795931, 0.77534854],\n",
       " [1.1782454, 0.071072906, 0.82288086],\n",
       " [1.1589094, 0.07051773, 0.8063208],\n",
       " [1.163074, 0.0649679, 0.83823454],\n",
       " [1.1565998, 0.06812332, 0.8159832],\n",
       " [1.1694335, 0.07199955, 0.8094357],\n",
       " [1.1603222, 0.07262756, 0.79718447],\n",
       " [1.1728047, 0.0690554, 0.8275277],\n",
       " [1.1137702, 0.062207133, 0.8027346],\n",
       " [1.1718848, 0.070260346, 0.8205831],\n",
       " [1.1117865, 0.06258187, 0.7988772],\n",
       " [1.1295959, 0.06422237, 0.808484],\n",
       " [1.1758443, 0.07319872, 0.8098507],\n",
       " [1.1495088, 0.06875103, 0.80575365],\n",
       " [1.1821213, 0.07772254, 0.7935086],\n",
       " [1.1542068, 0.072108686, 0.79366326],\n",
       " [1.1542672, 0.06776367, 0.8154488],\n",
       " [1.2529306, 0.07916834, 0.8570889],\n",
       " [1.178334, 0.07320724, 0.81229776],\n",
       " [1.2001803, 0.0713065, 0.8436478],\n",
       " [1.2472087, 0.07686736, 0.86287194],\n",
       " [1.1807077, 0.07086161, 0.8263997],\n",
       " [1.1886547, 0.067634195, 0.85048366],\n",
       " [1.2102102, 0.07498336, 0.8352934],\n",
       " [1.2821949, 0.08757257, 0.844332],\n",
       " [1.1798372, 0.06268442, 0.86641514],\n",
       " [1.18603, 0.067595154, 0.8480543],\n",
       " [1.2185757, 0.070413485, 0.86650836],\n",
       " [1.2932785, 0.08757397, 0.85540855],\n",
       " [1.202784, 0.06520537, 0.8767571],\n",
       " [1.262893, 0.079513, 0.8653279],\n",
       " [1.2793214, 0.08101523, 0.87424535],\n",
       " [1.1570919, 0.06474196, 0.833382],\n",
       " [1.1358528, 0.06526491, 0.8095283],\n",
       " [1.1531056, 0.07177924, 0.79420936],\n",
       " [1.1311321, 0.0663583, 0.7993406],\n",
       " [1.198552, 0.08271323, 0.78498584],\n",
       " [1.1582065, 0.07646887, 0.77586204],\n",
       " [1.0345836, 0.05786217, 0.74527276],\n",
       " [1.1064715, 0.07281117, 0.7424156],\n",
       " [1.0240006, 0.062968954, 0.7091558],\n",
       " [1.0830472, 0.07834472, 0.69132364],\n",
       " [0.99821436, 0.061540905, 0.6905098],\n",
       " [0.99114597, 0.0646542, 0.66787493],\n",
       " [0.9715032, 0.06362629, 0.65337175],\n",
       " [1.024957, 0.07683139, 0.64079994],\n",
       " [0.95346105, 0.06685798, 0.61917114],\n",
       " [0.9490774, 0.06266886, 0.6357331],\n",
       " [0.9991027, 0.07697, 0.6142527],\n",
       " [0.9262072, 0.062418696, 0.61411375],\n",
       " [0.93340373, 0.06693921, 0.5987077],\n",
       " [0.90056044, 0.061292723, 0.59409684],\n",
       " [0.95092326, 0.06705824, 0.61563206],\n",
       " [0.9113072, 0.061268114, 0.60496664],\n",
       " [0.8776974, 0.056055844, 0.5974182],\n",
       " [0.90884197, 0.060364433, 0.6070198],\n",
       " [0.95291704, 0.06886099, 0.60861206],\n",
       " [0.936478, 0.06453793, 0.61378837],\n",
       " [0.98108006, 0.06659291, 0.6481155],\n",
       " [1.015568, 0.07320907, 0.64952266],\n",
       " [0.92568505, 0.058088277, 0.63524365],\n",
       " [0.99633324, 0.071449645, 0.63908505],\n",
       " [1.0012809, 0.06625113, 0.6700253],\n",
       " [0.9734161, 0.062218245, 0.6623249],\n",
       " [0.95413065, 0.0522103, 0.6930792],\n",
       " [0.99996245, 0.06067291, 0.69659793],\n",
       " [1.016017, 0.06200872, 0.7059734],\n",
       " [1.0581884, 0.0687395, 0.71449095],\n",
       " [1.0086193, 0.055070058, 0.73326904],\n",
       " [1.0509112, 0.058291174, 0.7594553],\n",
       " [1.068642, 0.06654324, 0.73592585],\n",
       " [1.0885241, 0.06687202, 0.75416404],\n",
       " [1.0858462, 0.06583828, 0.75665474],\n",
       " [1.0758213, 0.0646847, 0.7523978],\n",
       " [1.0251958, 0.052921053, 0.76059055],\n",
       " [1.0307194, 0.04977096, 0.7818646],\n",
       " [1.0640328, 0.06272093, 0.7504281],\n",
       " [1.0982156, 0.06646658, 0.7658827],\n",
       " [1.0689929, 0.06444233, 0.74678123],\n",
       " [1.0447547, 0.058285043, 0.7533296],\n",
       " [1.0319037, 0.061149176, 0.7261579],\n",
       " [1.0038962, 0.055022214, 0.7287852],\n",
       " [1.0318649, 0.063429266, 0.7147186],\n",
       " [1.0019919, 0.058210235, 0.7109407],\n",
       " [1.04406, 0.06824152, 0.7028524],\n",
       " [0.9963122, 0.054040708, 0.7261087],\n",
       " [1.0469099, 0.068642706, 0.7036964],\n",
       " [1.0996809, 0.08214976, 0.6889321],\n",
       " [1.042661, 0.061849624, 0.73341286],\n",
       " [0.98995554, 0.060669143, 0.6866098],\n",
       " [1.100565, 0.077917874, 0.7109755],\n",
       " [1.0153902, 0.06558215, 0.6874794],\n",
       " [0.98971236, 0.059808742, 0.69066864],\n",
       " [0.9985006, 0.05945411, 0.70123005],\n",
       " [0.9681944, 0.05642711, 0.6860589],\n",
       " [1.0067877, 0.061265748, 0.7004589],\n",
       " [1.0295043, 0.07452355, 0.6568866],\n",
       " [0.9439825, 0.05251642, 0.68140036],\n",
       " [1.0056635, 0.07057813, 0.65277284],\n",
       " [0.9325886, 0.056632966, 0.6494238],\n",
       " [0.91033286, 0.05798807, 0.6203925],\n",
       " [0.92121345, 0.058900133, 0.6267128],\n",
       " [0.970033, 0.06794964, 0.6302848],\n",
       " [0.96168745, 0.07339875, 0.5946937],\n",
       " [0.93011534, 0.06693302, 0.5954502],\n",
       " [0.91638935, 0.0631193, 0.6007929],\n",
       " [0.927964, 0.06341409, 0.61089355],\n",
       " [0.9107941, 0.06498164, 0.5858859],\n",
       " [0.8364237, 0.05361221, 0.56836265],\n",
       " [0.88734794, 0.060253326, 0.58608127],\n",
       " [0.85798955, 0.058983747, 0.5630708],\n",
       " [0.91680574, 0.06880805, 0.57276547],\n",
       " [0.9028989, 0.066777654, 0.5690107],\n",
       " [0.905164, 0.0644798, 0.58276504],\n",
       " [0.8039391, 0.052404024, 0.541919],\n",
       " [0.9001688, 0.06954573, 0.5524401],\n",
       " [0.86998904, 0.061787955, 0.5610493],\n",
       " [0.8403295, 0.057711404, 0.5517725],\n",
       " [0.92155015, 0.07054245, 0.5688379],\n",
       " [0.8902911, 0.0683952, 0.5483151],\n",
       " [0.91299474, 0.07226655, 0.551662],\n",
       " [0.85813856, 0.056605604, 0.57511055],\n",
       " [0.86439544, 0.06161432, 0.5563238],\n",
       " [0.8708481, 0.062416278, 0.5587667],\n",
       " [0.8649239, 0.053802643, 0.59591067],\n",
       " [0.8566909, 0.059149027, 0.56094575],\n",
       " [0.8305459, 0.05643387, 0.54837656],\n",
       " [0.8413772, 0.05239412, 0.5794066],\n",
       " [0.93977344, 0.07412027, 0.5691721],\n",
       " [0.8991538, 0.06320134, 0.58314717],\n",
       " [0.88016367, 0.060908444, 0.5756215],\n",
       " [0.9595555, 0.07559683, 0.58157134],\n",
       " [0.8602178, 0.053270668, 0.59386444],\n",
       " [0.94404554, 0.068210386, 0.6029936],\n",
       " [0.9211577, 0.06721112, 0.5851021],\n",
       " [0.9547833, 0.06603314, 0.62461764],\n",
       " [0.87399447, 0.052152473, 0.61323214],\n",
       " [0.9448383, 0.062044878, 0.6346139],\n",
       " [0.9050412, 0.05845003, 0.61279106],\n",
       " [0.8740014, 0.05133015, 0.61735064],\n",
       " [0.94826406, 0.061836876, 0.6390797],\n",
       " [0.89253855, 0.05316505, 0.6267133],\n",
       " [0.9101355, 0.055124752, 0.6345117],\n",
       " [0.95697665, 0.06450503, 0.63445145],\n",
       " [0.8876422, 0.049421538, 0.6405345],\n",
       " [0.92034817, 0.05516277, 0.64453435],\n",
       " [0.95347804, 0.059048522, 0.65823543],\n",
       " [0.99279654, 0.06740942, 0.65574944],\n",
       " [0.9354752, 0.05774583, 0.64674604],\n",
       " [0.9673923, 0.06532884, 0.64074814],\n",
       " [0.91403025, 0.052347396, 0.65229326],\n",
       " [0.9987071, 0.069951855, 0.64894783],\n",
       " [0.93819773, 0.05695408, 0.6534273],\n",
       " [0.9709321, 0.06262283, 0.65781796],\n",
       " [0.94296885, 0.0577845, 0.6540463],\n",
       " [0.90311325, 0.04969208, 0.65465283],\n",
       " [0.8990911, 0.05223373, 0.63792247],\n",
       " [0.9475493, 0.056466915, 0.6652147],\n",
       " [0.9119046, 0.054468557, 0.6395618],\n",
       " [0.93266064, 0.05775409, 0.6438902],\n",
       " [0.9154534, 0.05381769, 0.6463649],\n",
       " [0.92319983, 0.05358398, 0.65527993],\n",
       " [0.89607775, 0.04950453, 0.6485551],\n",
       " [0.90774715, 0.053070266, 0.64239585],\n",
       " [0.9139415, 0.0564557, 0.63166296],\n",
       " [0.9173293, 0.058338866, 0.62563497],\n",
       " [0.96698546, 0.06601226, 0.63692415],\n",
       " [0.90871596, 0.05331068, 0.64216256],\n",
       " [0.9421746, 0.06408085, 0.6217704],\n",
       " [0.97375715, 0.06825506, 0.6324819],\n",
       " [0.9056016, 0.05789116, 0.6161458],\n",
       " [0.89730746, 0.05234939, 0.6355605],\n",
       " [0.9224665, 0.062655576, 0.6091887],\n",
       " [0.89354026, 0.053815093, 0.6244648],\n",
       " [0.8720195, 0.04961397, 0.62394965],\n",
       " [0.90248364, 0.056320164, 0.6208828],\n",
       " [0.89875704, 0.05363927, 0.6305607],\n",
       " [0.92937565, 0.062477615, 0.6169876],\n",
       " [0.9135448, 0.05965964, 0.61524653],\n",
       " [0.8739304, 0.052807678, 0.609892],\n",
       " [0.88691175, 0.057984114, 0.5969912],\n",
       " [0.9301274, 0.06294186, 0.61541814],\n",
       " [0.9131664, 0.062965795, 0.5983374],\n",
       " [0.87454736, 0.0571162, 0.58896637],\n",
       " [0.8396973, 0.048439704, 0.5974988],\n",
       " [0.9042151, 0.05977767, 0.6053268],\n",
       " [0.8939633, 0.055903304, 0.61444676],\n",
       " [0.94339633, 0.06621799, 0.6123064],\n",
       " [0.886132, 0.054498687, 0.6136386],\n",
       " [0.95864445, 0.068194784, 0.61767054],\n",
       " [0.90275085, 0.05610101, 0.6222458],\n",
       " [0.8880602, 0.054380447, 0.61615795],\n",
       " [0.93237036, 0.061843313, 0.6231538],\n",
       " [0.93127525, 0.05993846, 0.631583],\n",
       " [1.0098875, 0.074387185, 0.6379515],\n",
       " [0.94158834, 0.059033915, 0.64641875],\n",
       " [0.9498769, 0.060613543, 0.6468092],\n",
       " [0.9174236, 0.05591264, 0.6378604],\n",
       " [0.94657826, 0.0585043, 0.6540568],\n",
       " [0.99464965, 0.06814435, 0.65392786],\n",
       " [0.90282124, 0.051846623, 0.6435881],\n",
       " [0.99609554, 0.06778136, 0.6571888],\n",
       " [0.9741499, 0.06260725, 0.6611136],\n",
       " [0.930501, 0.052622616, 0.6673879],\n",
       " [0.94305515, 0.056204483, 0.6620327],\n",
       " [0.93157196, 0.054372992, 0.659707],\n",
       " [0.9679384, 0.059028693, 0.672795],\n",
       " [0.95833933, 0.058011666, 0.668281],\n",
       " [0.93412656, 0.05111184, 0.67856735],\n",
       " [1.0064858, 0.057751685, 0.71772736],\n",
       " [0.9559187, 0.0536945, 0.68744624],\n",
       " [0.96733963, 0.0549948, 0.69236565],\n",
       " [1.0044116, 0.06088993, 0.6999619],\n",
       " [0.9584681, 0.0551323, 0.6828066],\n",
       " [1.0014044, 0.05922021, 0.7053034],\n",
       " [0.9484519, 0.04740851, 0.71140933],\n",
       " [0.9881592, 0.05674674, 0.70442545],\n",
       " [1.0083257, 0.0579009, 0.71882117],\n",
       " [1.0238533, 0.063657194, 0.7055673],\n",
       " [0.9726072, 0.053007975, 0.70756733],\n",
       " [0.9970535, 0.058220893, 0.70594907],\n",
       " [1.0264488, 0.06323344, 0.71028167],\n",
       " [0.9816973, 0.053333458, 0.71503],\n",
       " [1.0019096, 0.057943914, 0.71219003],\n",
       " [0.9913902, 0.05519489, 0.7154158],\n",
       " [1.0116243, 0.058383897, 0.71970487],\n",
       " [0.9648154, 0.054068107, 0.6944749],\n",
       " [1.0209478, 0.061354168, 0.714177],\n",
       " [1.0106957, 0.05849806, 0.71820545],\n",
       " [0.9828713, 0.05537915, 0.70597553],\n",
       " [0.96053165, 0.053333666, 0.69386333],\n",
       " [1.0174663, 0.062358562, 0.70567346],\n",
       " [0.97643244, 0.05447131, 0.7040759],\n",
       " [0.9720633, 0.0537771, 0.7031778],\n",
       " [0.9492161, 0.051929828, 0.68956697],\n",
       " [1.0448756, 0.06968351, 0.69645804],\n",
       " [0.9878334, 0.05977141, 0.6889763],\n",
       " [1.0265353, 0.066825934, 0.6924056],\n",
       " [0.95037484, 0.053488784, 0.68293095],\n",
       " [1.008455, 0.064507045, 0.6859199],\n",
       " [0.9553242, 0.05392868, 0.68568075],\n",
       " [1.0412314, 0.070548736, 0.68848765],\n",
       " [0.95376956, 0.054369584, 0.68192166],\n",
       " [0.9693437, 0.05751133, 0.6817871],\n",
       " [0.98173404, 0.06095061, 0.676981],\n",
       " [0.97467595, 0.058732435, 0.68101376],\n",
       " [0.9733196, 0.05992166, 0.6737113],\n",
       " [0.95380425, 0.05490692, 0.6792697],\n",
       " [0.9670317, 0.05783244, 0.6778695],\n",
       " [0.9743638, 0.06157765, 0.66647553],\n",
       " [0.95403033, 0.057529137, 0.66638464],\n",
       " [0.9365047, 0.054541565, 0.6637969],\n",
       " [0.9462049, 0.054812334, 0.6721432],\n",
       " [0.97160184, 0.063022844, 0.6564876],\n",
       " [0.9352238, 0.05691113, 0.6506682],\n",
       " [0.9558395, 0.059521385, 0.65823257],\n",
       " [0.94418293, 0.0588148, 0.65010893],\n",
       " [0.94109154, 0.05823216, 0.6499308],\n",
       " [0.90431154, 0.055334754, 0.62763774],\n",
       " [1.0406146, 0.080892, 0.63615465],\n",
       " [0.9542846, 0.064306244, 0.6327534],\n",
       " [0.9236932, 0.06075745, 0.61990595],\n",
       " [0.9237933, 0.064164914, 0.60296875],\n",
       " [1.0502359, 0.08853713, 0.60755026],\n",
       " [0.9146974, 0.060419004, 0.61260235],\n",
       " [0.92502683, 0.06801051, 0.5849743],\n",
       " [0.91652924, 0.063953005, 0.5967642],\n",
       " [0.8910352, 0.060593676, 0.5880668],\n",
       " [0.8511263, 0.051106576, 0.59559345],\n",
       " [0.8811984, 0.05995548, 0.581421],\n",
       " [0.8590861, 0.060069814, 0.55873704],\n",
       " [0.83933854, 0.054367155, 0.56750274],\n",
       " [0.8191342, 0.054130077, 0.5484838],\n",
       " [0.85118264, 0.059762716, 0.55236906],\n",
       " [0.87271786, 0.06640433, 0.5406962],\n",
       " [0.864079, 0.06172268, 0.5554656],\n",
       " [0.849574, 0.057844378, 0.56035215],\n",
       " [0.849337, 0.062209602, 0.53828895],\n",
       " [0.83285546, 0.058177352, 0.5419687],\n",
       " [0.807029, 0.048956066, 0.56224865],\n",
       " [0.87009513, 0.068808645, 0.5260519],\n",
       " [0.8277923, 0.060110487, 0.52723986],\n",
       " [0.8075243, 0.055991348, 0.5275676],\n",
       " [0.90841365, 0.07227309, 0.5470482],\n",
       " [0.8086252, 0.056384794, 0.5267012],\n",
       " [0.86224705, 0.06752513, 0.52462137],\n",
       " [0.7540339, 0.048426807, 0.5118999],\n",
       " [0.8795785, 0.06874941, 0.5358314],\n",
       " [0.83477587, 0.061184563, 0.52885306],\n",
       " [0.8123046, 0.055850156, 0.5330539],\n",
       " [0.79081136, 0.05267693, 0.5274267],\n",
       " [0.8373122, 0.05877725, 0.543426],\n",
       " [0.77087706, 0.050808776, 0.5168332],\n",
       " [0.9232452, 0.074872226, 0.5488841],\n",
       " [0.8888559, 0.07200314, 0.5288402],\n",
       " [0.8356736, 0.060889218, 0.53122747],\n",
       " [0.8124163, 0.05424926, 0.54117],\n",
       " [0.90687513, 0.0695836, 0.5589571],\n",
       " [0.8147824, 0.05171042, 0.5562303],\n",
       " [0.85046655, 0.060034595, 0.55029356],\n",
       " [0.8724306, 0.061980784, 0.5625267],\n",
       " [0.8106357, 0.051618308, 0.5525441],\n",
       " [0.84294903, 0.053271394, 0.576592],\n",
       " [0.85414845, 0.054739263, 0.58045214],\n",
       " [0.8878824, 0.05918175, 0.59197366],\n",
       " [0.87710065, 0.058720253, 0.5834994],\n",
       " [0.8736932, 0.05784655, 0.5844605],\n",
       " [0.91721046, 0.06414014, 0.59650975],\n",
       " [0.9078445, 0.06189716, 0.5983587],\n",
       " [0.90318143, 0.05690161, 0.6186734],\n",
       " [0.8682469, 0.049578022, 0.6203568],\n",
       " [0.8871013, 0.05274474, 0.62337756],\n",
       " [0.8650683, 0.04719732, 0.6290817],\n",
       " [0.92030656, 0.0573916, 0.6333486],\n",
       " [0.88711953, 0.052919693, 0.62252104],\n",
       " [0.9164568, 0.053994298, 0.6464853],\n",
       " [0.98544407, 0.06556229, 0.6576326],\n",
       " [0.97728854, 0.06335636, 0.6605067],\n",
       " [0.9389926, 0.054941624, 0.66428447],\n",
       " [0.95421654, 0.055439815, 0.67701745],\n",
       " [0.9743092, 0.060706265, 0.67077786],\n",
       " [0.9232373, 0.047659352, 0.6849406],\n",
       " [0.99186766, 0.06045304, 0.68960243],\n",
       " [0.94071853, 0.052896135, 0.6762378],\n",
       " [0.9502058, 0.053531688, 0.6825474],\n",
       " [0.992738, 0.056219548, 0.71164024],\n",
       " [1.0516613, 0.065937534, 0.72197354],\n",
       " [0.9926225, 0.056129284, 0.7119761],\n",
       " [0.9631125, 0.051696032, 0.70463234],\n",
       " [0.975502, 0.049758963, 0.7267072],\n",
       " [1.0260801, 0.05915756, 0.7302923],\n",
       " [1.0332547, 0.059171647, 0.7373965],\n",
       " [1.0070252, 0.056404058, 0.7250049],\n",
       " [1.0125536, 0.05497867, 0.7376602],\n",
       " [1.0143657, 0.05464957, 0.7411179],\n",
       " [1.0173794, 0.053625017, 0.74925435],\n",
       " [1.0368792, 0.055939034, 0.757184],\n",
       " [1.0735703, 0.06267217, 0.76020944],\n",
       " [0.99948955, 0.049092267, 0.7540282],\n",
       " [1.039946, 0.05786676, 0.75061214],\n",
       " [0.9791125, 0.04859972, 0.7361139],\n",
       " [1.0195124, 0.0518891, 0.760067],\n",
       " [1.0216135, 0.051786534, 0.7626808],\n",
       " [1.0824301, 0.06125212, 0.77616954],\n",
       " [1.0264697, 0.05069604, 0.7729895],\n",
       " [1.0676601, 0.05825925, 0.7763639],\n",
       " [0.96704894, 0.04179144, 0.75809175],\n",
       " [1.0012693, 0.044004545, 0.78124666],\n",
       " [1.0196083, 0.05453258, 0.7469454],\n",
       " [1.011551, 0.05170617, 0.75302017],\n",
       " [1.0234257, 0.053509332, 0.75587904],\n",
       " [1.0404421, 0.056512423, 0.75788],\n",
       " [1.0180491, 0.052388813, 0.75610507],\n",
       " [1.0219455, 0.054545205, 0.7492194],\n",
       " [1.0613822, 0.061512586, 0.7538192],\n",
       " [1.0458297, 0.058639355, 0.75263286],\n",
       " [1.0495467, 0.05741988, 0.76244736],\n",
       " [1.0097919, 0.056784473, 0.7258695],\n",
       " [1.0691423, 0.06570748, 0.740605],\n",
       " [0.9749695, 0.049229704, 0.728821],\n",
       " [1.0016892, 0.055909444, 0.722142],\n",
       " [0.98888683, 0.055698685, 0.7103934],\n",
       " [0.9817477, 0.053929314, 0.7121011],\n",
       " [1.0323794, 0.06420727, 0.71134305],\n",
       " [0.9287081, 0.046880458, 0.6943058],\n",
       " [0.9363612, 0.0472096, 0.7003132],\n",
       " [0.9363451, 0.049556844, 0.6885609],\n",
       " [0.98640615, 0.05814503, 0.695681],\n",
       " [0.9489606, 0.05373231, 0.68029904],\n",
       " [0.885162, 0.043859534, 0.66586435],\n",
       " [0.9066774, 0.04598598, 0.6767475],\n",
       " [0.89033926, 0.045753695, 0.6615708],\n",
       " [0.92241156, 0.051283926, 0.6659919],\n",
       " [0.90358347, 0.0503961, 0.651603],\n",
       " [0.9312952, 0.055072047, 0.655935],\n",
       " [1.0015111, 0.07011671, 0.6509275],\n",
       " [0.9410211, 0.058878124, 0.64663047],\n",
       " [0.8860418, 0.048840985, 0.6418369],\n",
       " [0.87916565, 0.0482831, 0.63775015],\n",
       " [0.88907087, 0.052529663, 0.6264226],\n",
       " [0.92143965, 0.05588434, 0.64201796],\n",
       " [0.97787505, 0.068923965, 0.63325524],\n",
       " [0.8967356, 0.05318795, 0.63079584],\n",
       " [0.8725722, 0.048248254, 0.6313309],\n",
       " [0.8735354, 0.047953285, 0.633769],\n",
       " [0.9261989, 0.06269737, 0.612712],\n",
       " [0.8687033, 0.04829074, 0.6272496],\n",
       " [0.8864963, 0.055098128, 0.61100566],\n",
       " [0.86226547, 0.047103778, 0.6267466],\n",
       " [0.8259311, 0.043117672, 0.61034274],\n",
       " [0.82889783, 0.04375258, 0.61013496],\n",
       " [0.9143228, 0.061791256, 0.6053665],\n",
       " [0.8882762, 0.0555965, 0.61029375],\n",
       " [0.9158985, 0.06109532, 0.6104219],\n",
       " [0.8501212, 0.049608067, 0.6020809],\n",
       " [0.87027675, 0.05318543, 0.6043496],\n",
       " [0.8408241, 0.046619236, 0.60772794],\n",
       " [0.84635365, 0.046146758, 0.61561984],\n",
       " [0.83468753, 0.045508564, 0.6071447],\n",
       " [0.87717295, 0.05512977, 0.6015241],\n",
       " [0.89149195, 0.056998644, 0.6064987],\n",
       " [0.9491703, 0.0659431, 0.6194548],\n",
       " [0.9216439, 0.05895368, 0.6268755],\n",
       " [0.92881966, 0.06323861, 0.61262655],\n",
       " [0.84867275, 0.047924727, 0.6090491],\n",
       " [0.8718709, 0.04927991, 0.62547135],\n",
       " [0.9038545, 0.05822536, 0.6127277],\n",
       " [0.88752884, 0.05286394, 0.6232091],\n",
       " [0.9335201, 0.059278134, 0.6371294],\n",
       " [0.86856586, 0.049703125, 0.62005025],\n",
       " [0.8389148, 0.04278718, 0.6249789],\n",
       " [0.8900714, 0.052201208, 0.62906533],\n",
       " [0.8610786, 0.04571432, 0.632507],\n",
       " [0.87852967, 0.04698345, 0.64361244],\n",
       " [0.8934521, 0.049082544, 0.6480394],\n",
       " [0.9494095, 0.059800103, 0.650409],\n",
       " [0.913483, 0.0535995, 0.6454855],\n",
       " [0.92178047, 0.055549633, 0.6440323],\n",
       " [0.9321848, 0.05523967, 0.6559864],\n",
       " [0.9052231, 0.049023595, 0.6601051],\n",
       " [0.9220235, 0.052011147, 0.66196775],\n",
       " [0.8863077, 0.04793884, 0.64661354],\n",
       " [0.9264563, 0.05243441, 0.6642842],\n",
       " [0.8830422, 0.044853132, 0.6587766],\n",
       " [0.9410628, 0.055256158, 0.66478205],\n",
       " [0.9431298, 0.05464766, 0.6698915],\n",
       " [0.88789535, 0.04526034, 0.6615936],\n",
       " [0.98602486, 0.06466799, 0.6626849],\n",
       " [0.89777976, 0.047722556, 0.659167],\n",
       " [0.96697444, 0.05917176, 0.67111564],\n",
       " [0.9453416, 0.05317115, 0.6794858],\n",
       " [0.95333266, 0.054505467, 0.6808053],\n",
       " [0.9214575, 0.051671, 0.6631025],\n",
       " [0.93687373, 0.05133923, 0.68017757],\n",
       " [0.9572554, 0.054367498, 0.68541795],\n",
       " [0.91209793, 0.046917073, 0.6775125],\n",
       " [0.90358984, 0.044888325, 0.6791482],\n",
       " [0.9701308, 0.059144072, 0.67441046],\n",
       " [1.026406, 0.067165434, 0.69057894],\n",
       " [0.9489615, 0.053225085, 0.68283606],\n",
       " [0.90521514, 0.044486515, 0.68278253],\n",
       " [0.9685232, 0.055830635, 0.68937004],\n",
       " [0.9506301, 0.05275573, 0.6868515],\n",
       " [0.9811275, 0.060321786, 0.6795186],\n",
       " [0.9095464, 0.04621264, 0.6784832],\n",
       " [0.9352406, 0.04997275, 0.6853769],\n",
       " [0.94008315, 0.052580647, 0.67717993],\n",
       " [0.9485623, 0.052011564, 0.6885045],\n",
       " [0.9203217, 0.050411575, 0.6682638],\n",
       " [0.919082, 0.047649704, 0.68083346],\n",
       " [0.9472625, 0.055107802, 0.67172354],\n",
       " [0.8878729, 0.044334307, 0.66620135],\n",
       " [0.93718517, 0.052798957, 0.6731904],\n",
       " [0.9185698, 0.048583027, 0.67565465],\n",
       " [0.9333515, 0.053885788, 0.66392255],\n",
       " [0.9358801, 0.04914441, 0.69015807],\n",
       " [0.89557076, 0.04429151, 0.6741132],\n",
       " [0.899758, 0.04481554, 0.6756803],\n",
       " [0.92094195, 0.050436363, 0.6687601],\n",
       " [0.9482992, 0.052191004, 0.6873442],\n",
       " [0.88374764, 0.042036727, 0.673564],\n",
       " [0.9683506, 0.05733365, 0.68168235],\n",
       " [0.9074218, 0.048771, 0.6635668],\n",
       " [0.9340296, 0.05017212, 0.68316895],\n",
       " [0.93631476, 0.055604924, 0.65829015],\n",
       " [0.9370656, 0.052079555, 0.6766678],\n",
       " [0.9295889, 0.051630687, 0.6714355],\n",
       " [0.9255854, 0.050677877, 0.672196],\n",
       " [0.89988655, 0.04719981, 0.6638875],\n",
       " [0.9213482, 0.048019134, 0.68125254],\n",
       " [0.9272243, 0.049441747, 0.68001556],\n",
       " [0.92325014, 0.049921, 0.67364514],\n",
       " [0.9193386, 0.04910276, 0.6738248],\n",
       " [0.89638823, 0.043867234, 0.6770521],\n",
       " [0.91260767, 0.046417743, 0.680519],\n",
       " [1.0039945, 0.06397718, 0.6841085],\n",
       " [0.96578795, 0.056532323, 0.68312633],\n",
       " [0.96929353, 0.05845809, 0.6770031],\n",
       " [0.9282202, 0.050878465, 0.6738279],\n",
       " [1.0110514, 0.066366635, 0.6792182],\n",
       " [0.9517921, 0.05231861, 0.6901991],\n",
       " [0.9675323, 0.05529461, 0.69105923],\n",
       " [0.88694394, 0.039768618, 0.6881008],\n",
       " [0.9919032, 0.06066172, 0.6885946],\n",
       " [0.9613252, 0.053181138, 0.69541955],\n",
       " [0.98445046, 0.05707688, 0.69906604],\n",
       " [0.9543226, 0.05206097, 0.6940177],\n",
       " [0.95290166, 0.051452555, 0.6956389],\n",
       " [0.9499395, 0.051229138, 0.69379383],\n",
       " [0.9498244, 0.05127641, 0.69344234],\n",
       " [0.92031765, 0.045194726, 0.694344],\n",
       " [0.9824159, 0.055885933, 0.70298624],\n",
       " [0.9833193, 0.059334368, 0.6866474],\n",
       " [0.90393424, 0.04388676, 0.68450046],\n",
       " [0.91931, 0.04442815, 0.69716924],\n",
       " [0.94426274, 0.04739117, 0.7073069],\n",
       " [0.9214711, 0.046962887, 0.6866567],\n",
       " [0.93191725, 0.047745574, 0.6931894],\n",
       " [0.940225, 0.04743275, 0.7030612],\n",
       " [0.9579885, 0.050571106, 0.70513296],\n",
       " [0.94839084, 0.051720258, 0.6897896],\n",
       " [0.90751076, 0.0422073, 0.69647425],\n",
       " [0.89242935, 0.04157034, 0.68457764],\n",
       " [0.88179046, 0.038831785, 0.68763155],\n",
       " [0.9013098, 0.042470098, 0.6889593],\n",
       " [0.98688996, 0.056879632, 0.70249176],\n",
       " [0.8956506, 0.038445614, 0.70342255],\n",
       " [0.9762807, 0.057458125, 0.68899006],\n",
       " [0.9272036, 0.04819679, 0.68621963],\n",
       " [0.9288405, 0.047713924, 0.6902709],\n",
       " [0.9308835, 0.04783502, 0.69170845],\n",
       " [0.90506935, 0.042594153, 0.69209856],\n",
       " [0.9373497, 0.05107115, 0.68199396],\n",
       " [0.9109362, 0.04211112, 0.70038056],\n",
       " [0.9350275, 0.05009565, 0.6845492],\n",
       " [0.8815205, 0.037378646, 0.6946273],\n",
       " [0.97692746, 0.056606494, 0.693895],\n",
       " [0.98016477, 0.05738844, 0.6932226],\n",
       " [0.9555336, 0.052916884, 0.6909492],\n",
       " [0.9179826, 0.046320632, 0.68637943],\n",
       " [0.9014636, 0.041979916, 0.691564],\n",
       " [0.91394675, 0.04499782, 0.6889577],\n",
       " [0.8967624, 0.04375054, 0.6780097],\n",
       " [0.9461216, 0.051912673, 0.6865582],\n",
       " [0.9087714, 0.045244947, 0.6825467],\n",
       " [0.90717864, 0.04348374, 0.6897599],\n",
       " [0.952302, 0.05407149, 0.6819445],\n",
       " [0.96189773, 0.05301433, 0.6968261],\n",
       " [0.92612165, 0.046297014, 0.6946366],\n",
       " [0.9096584, 0.046167076, 0.678823],\n",
       " [0.9035764, 0.04521263, 0.67751324],\n",
       " [0.9140378, 0.046765786, 0.6802089],\n",
       " [0.9115297, 0.04820353, 0.6705121],\n",
       " [0.8772913, 0.039678603, 0.67889833],\n",
       " [1.0244925, 0.067136765, 0.6888087],\n",
       " [0.92306566, 0.04781578, 0.6839868],\n",
       " [0.9012481, 0.043544143, 0.68352735],\n",
       " [0.931289, 0.047555983, 0.6935091],\n",
       " [0.8968642, 0.043028273, 0.6817228],\n",
       " [0.96867347, 0.056343738, 0.68695474],\n",
       " [0.95282286, 0.052189864, 0.69187355],\n",
       " [0.8980725, 0.044922203, 0.67346144],\n",
       " [0.9073944, 0.046497237, 0.6749082],\n",
       " [0.9157192, 0.04813801, 0.67502916],\n",
       " [0.890729, 0.042384576, 0.6788061],\n",
       " [0.96425414, 0.05796098, 0.6744492],\n",
       " [0.88374007, 0.04264026, 0.6705388],\n",
       " [0.8744647, 0.039358832, 0.67767054],\n",
       " [0.9169366, 0.04829899, 0.6754416],\n",
       " [0.9682872, 0.06025343, 0.6670201],\n",
       " [0.86835295, 0.039281547, 0.6719452],\n",
       " [0.9518387, 0.052878775, 0.6874448],\n",
       " [0.89901257, 0.04388627, 0.6795812],\n",
       " [0.92661446, 0.051056445, 0.67133224],\n",
       " [0.94509816, 0.050969, 0.69025314],\n",
       " [0.90845, 0.04598672, 0.67851645],\n",
       " [0.9590496, 0.055032983, 0.6838847],\n",
       " [0.96450937, 0.055394586, 0.6875365],\n",
       " [0.89161325, 0.041854672, 0.68233985],\n",
       " [0.9086804, 0.045919027, 0.67908525],\n",
       " [0.91058713, 0.045159377, 0.68479025],\n",
       " [0.9340117, 0.04894559, 0.6892837],\n",
       " [0.91936374, 0.04578992, 0.69041413],\n",
       " [0.88104105, 0.039444845, 0.68381685],\n",
       " [0.93847096, 0.05327321, 0.67210495],\n",
       " [0.9546955, 0.05385407, 0.68542516],\n",
       " [0.914478, 0.04662224, 0.6813668],\n",
       " [0.93343675, 0.04918606, 0.6875065],\n",
       " [0.92657626, 0.048436217, 0.6843952],\n",
       " [0.9084189, 0.044712983, 0.684854],\n",
       " [0.8682667, 0.038672086, 0.67490625],\n",
       " [0.92297447, 0.047798388, 0.6839825],\n",
       " [0.9039497, 0.04386939, 0.68460274],\n",
       " [0.9362781, 0.05139248, 0.6793157],\n",
       " [0.9239814, 0.050233908, 0.6728119],\n",
       " [1.083518, 0.0782091, 0.69247246],\n",
       " [0.9549346, 0.05481687, 0.68085027],\n",
       " [0.89599204, 0.0442316, 0.674834],\n",
       " [0.9116841, 0.046263076, 0.6803687],\n",
       " [0.9254229, 0.04653265, 0.6927597],\n",
       " [0.9497909, 0.05367913, 0.68139523]]"
      ]
     },
     "execution_count": 28,
     "metadata": {},
     "output_type": "execute_result"
    }
   ],
   "source": [
    "losses['g']"
   ]
  },
  {
   "cell_type": "code",
   "execution_count": 29,
   "metadata": {},
   "outputs": [
    {
     "name": "stdout",
     "output_type": "stream",
     "text": [
      "0.6615384615384615\n"
     ]
    }
   ],
   "source": [
    "y_hat=Discrim.predict(np.concatenate((x_test,y_test),axis=1))\n",
    "y_idx = np.argmax(y_hat,axis=1)\n",
    "print(sum(y_idx==1)/y_idx.shape[0])"
   ]
  },
  {
   "cell_type": "code",
   "execution_count": 22,
   "metadata": {},
   "outputs": [],
   "source": [
    "from fake_financial import make_fake_data"
   ]
  },
  {
   "cell_type": "code",
   "execution_count": 31,
   "metadata": {},
   "outputs": [
    {
     "data": {
      "text/plain": [
       "0.16025641025641027"
      ]
     },
     "execution_count": 31,
     "metadata": {},
     "output_type": "execute_result"
    }
   ],
   "source": [
    "x_fake=make_fake_data(np.concatenate((x_test,y_test),axis=1),idx_test,ds,num_fakes=780,method='hard',var_scale=0.2)\n",
    "y_hat=Discrim.predict(x_fake)\n",
    "y_idx = np.argmax(y_hat,axis=1)\n",
    "sum(y_idx==1)/y_idx.shape[0]"
   ]
  },
  {
   "cell_type": "code",
   "execution_count": 223,
   "metadata": {},
   "outputs": [
    {
     "data": {
      "text/plain": [
       "array([[ 1.0216036 ,  1.0306793 , -0.03991554, ...,  0.23706846,\n",
       "         0.1300222 ,  0.        ],\n",
       "       [ 0.78292197,  1.120053  ,  0.28630668, ..., -0.24468584,\n",
       "         0.08911397,  0.00972377],\n",
       "       [ 1.3001981 ,  1.0662241 ,  0.01085235, ..., -0.06859834,\n",
       "         0.31551692,  0.        ],\n",
       "       ...,\n",
       "       [ 1.0520463 ,  1.0384607 ,  0.03267045, ...,  0.06707437,\n",
       "         0.21670657,  0.        ],\n",
       "       [ 0.8394846 ,  0.90966994,  0.07169162, ...,  0.05553441,\n",
       "         0.01587841,  0.01870261],\n",
       "       [ 0.8445216 ,  1.0213993 ,  0.07306911, ...,  0.18447748,\n",
       "         0.07283857,  0.        ]], dtype=float32)"
      ]
     },
     "execution_count": 223,
     "metadata": {},
     "output_type": "execute_result"
    }
   ],
   "source": [
    "Generator.predict([x_test,y_test])"
   ]
  },
  {
   "cell_type": "code",
   "execution_count": 25,
   "metadata": {},
   "outputs": [
    {
     "data": {
      "text/html": [
       "<div>\n",
       "<style scoped>\n",
       "    .dataframe tbody tr th:only-of-type {\n",
       "        vertical-align: middle;\n",
       "    }\n",
       "\n",
       "    .dataframe tbody tr th {\n",
       "        vertical-align: top;\n",
       "    }\n",
       "\n",
       "    .dataframe thead th {\n",
       "        text-align: right;\n",
       "    }\n",
       "</style>\n",
       "<table border=\"1\" class=\"dataframe\">\n",
       "  <thead>\n",
       "    <tr style=\"text-align: right;\">\n",
       "      <th></th>\n",
       "      <th>fakes</th>\n",
       "      <th>originals</th>\n",
       "    </tr>\n",
       "  </thead>\n",
       "  <tbody>\n",
       "    <tr>\n",
       "      <th>Revenues</th>\n",
       "      <td>0.000738</td>\n",
       "      <td>0.000738</td>\n",
       "    </tr>\n",
       "    <tr>\n",
       "      <th>Assets</th>\n",
       "      <td>1.219557</td>\n",
       "      <td>1.363987</td>\n",
       "    </tr>\n",
       "    <tr>\n",
       "      <th>pAssets</th>\n",
       "      <td>0.998183</td>\n",
       "      <td>1.000000</td>\n",
       "    </tr>\n",
       "    <tr>\n",
       "      <th>pCashAndCashEquivalentsAtCarryingValue</th>\n",
       "      <td>0.233018</td>\n",
       "      <td>0.371226</td>\n",
       "    </tr>\n",
       "    <tr>\n",
       "      <th>CashAndCashEquivalentsAtCarryingValue</th>\n",
       "      <td>0.333154</td>\n",
       "      <td>0.254667</td>\n",
       "    </tr>\n",
       "    <tr>\n",
       "      <th>LiabilitiesAndStockholdersEquity</th>\n",
       "      <td>1.345067</td>\n",
       "      <td>1.363987</td>\n",
       "    </tr>\n",
       "    <tr>\n",
       "      <th>pLiabilitiesAndStockholdersEquity</th>\n",
       "      <td>0.980554</td>\n",
       "      <td>1.000000</td>\n",
       "    </tr>\n",
       "    <tr>\n",
       "      <th>NetIncomeLoss</th>\n",
       "      <td>0.108406</td>\n",
       "      <td>0.071316</td>\n",
       "    </tr>\n",
       "    <tr>\n",
       "      <th>pNetIncomeLoss</th>\n",
       "      <td>0.203413</td>\n",
       "      <td>0.395014</td>\n",
       "    </tr>\n",
       "    <tr>\n",
       "      <th>pStockholdersEquity</th>\n",
       "      <td>0.744827</td>\n",
       "      <td>0.852010</td>\n",
       "    </tr>\n",
       "    <tr>\n",
       "      <th>StockholdersEquity</th>\n",
       "      <td>0.911442</td>\n",
       "      <td>0.993095</td>\n",
       "    </tr>\n",
       "    <tr>\n",
       "      <th>AssetsCurrent</th>\n",
       "      <td>0.749179</td>\n",
       "      <td>0.827269</td>\n",
       "    </tr>\n",
       "    <tr>\n",
       "      <th>pAssetsCurrent</th>\n",
       "      <td>0.549584</td>\n",
       "      <td>0.780384</td>\n",
       "    </tr>\n",
       "    <tr>\n",
       "      <th>LiabilitiesCurrent</th>\n",
       "      <td>0.077293</td>\n",
       "      <td>0.183303</td>\n",
       "    </tr>\n",
       "    <tr>\n",
       "      <th>pLiabilitiesCurrent</th>\n",
       "      <td>0.075249</td>\n",
       "      <td>0.146514</td>\n",
       "    </tr>\n",
       "    <tr>\n",
       "      <th>OperatingIncomeLoss</th>\n",
       "      <td>0.175531</td>\n",
       "      <td>0.075293</td>\n",
       "    </tr>\n",
       "    <tr>\n",
       "      <th>pOperatingIncomeLoss</th>\n",
       "      <td>0.201794</td>\n",
       "      <td>0.353534</td>\n",
       "    </tr>\n",
       "    <tr>\n",
       "      <th>pCashAndCashEquivalentsPeriodIncreaseDecrease</th>\n",
       "      <td>0.096180</td>\n",
       "      <td>0.039837</td>\n",
       "    </tr>\n",
       "    <tr>\n",
       "      <th>CashAndCashEquivalentsPeriodIncreaseDecrease</th>\n",
       "      <td>0.167808</td>\n",
       "      <td>-0.116559</td>\n",
       "    </tr>\n",
       "    <tr>\n",
       "      <th>RetainedEarningsAccumulatedDeficit</th>\n",
       "      <td>0.462733</td>\n",
       "      <td>0.397371</td>\n",
       "    </tr>\n",
       "    <tr>\n",
       "      <th>pRetainedEarningsAccumulatedDeficit</th>\n",
       "      <td>0.525208</td>\n",
       "      <td>0.348367</td>\n",
       "    </tr>\n",
       "    <tr>\n",
       "      <th>PropertyPlantAndEquipmentNet</th>\n",
       "      <td>0.179944</td>\n",
       "      <td>0.045290</td>\n",
       "    </tr>\n",
       "    <tr>\n",
       "      <th>pPropertyPlantAndEquipmentNet</th>\n",
       "      <td>-0.052984</td>\n",
       "      <td>0.047862</td>\n",
       "    </tr>\n",
       "    <tr>\n",
       "      <th>CommonStockValue</th>\n",
       "      <td>0.056170</td>\n",
       "      <td>0.000524</td>\n",
       "    </tr>\n",
       "    <tr>\n",
       "      <th>pCommonStockValue</th>\n",
       "      <td>0.022392</td>\n",
       "      <td>0.000405</td>\n",
       "    </tr>\n",
       "    <tr>\n",
       "      <th>pNetCashProvidedByUsedInOperatingActivities</th>\n",
       "      <td>0.174076</td>\n",
       "      <td>0.275788</td>\n",
       "    </tr>\n",
       "    <tr>\n",
       "      <th>NetCashProvidedByUsedInOperatingActivities</th>\n",
       "      <td>0.203794</td>\n",
       "      <td>-0.014359</td>\n",
       "    </tr>\n",
       "    <tr>\n",
       "      <th>IncomeTaxExpenseBenefit</th>\n",
       "      <td>0.054131</td>\n",
       "      <td>0.024645</td>\n",
       "    </tr>\n",
       "    <tr>\n",
       "      <th>pIncomeTaxExpenseBenefit</th>\n",
       "      <td>-0.059693</td>\n",
       "      <td>0.008382</td>\n",
       "    </tr>\n",
       "    <tr>\n",
       "      <th>pNetCashProvidedByUsedInFinancingActivities</th>\n",
       "      <td>-0.051693</td>\n",
       "      <td>-0.018264</td>\n",
       "    </tr>\n",
       "    <tr>\n",
       "      <th>...</th>\n",
       "      <td>...</td>\n",
       "      <td>...</td>\n",
       "    </tr>\n",
       "    <tr>\n",
       "      <th>pOperatingExpenses</th>\n",
       "      <td>-0.050491</td>\n",
       "      <td>0.185018</td>\n",
       "    </tr>\n",
       "    <tr>\n",
       "      <th>IncreaseDecreaseInAccountsPayable</th>\n",
       "      <td>-0.048057</td>\n",
       "      <td>0.000643</td>\n",
       "    </tr>\n",
       "    <tr>\n",
       "      <th>pIncreaseDecreaseInAccountsPayable</th>\n",
       "      <td>-0.012810</td>\n",
       "      <td>-0.002929</td>\n",
       "    </tr>\n",
       "    <tr>\n",
       "      <th>IncomeLossFromContinuingOperationsBeforeIncomeTaxesMinorityInterestAndIncomeLossFromEquityMethodInvestments</th>\n",
       "      <td>0.201719</td>\n",
       "      <td>0.096081</td>\n",
       "    </tr>\n",
       "    <tr>\n",
       "      <th>pIncomeLossFromContinuingOperationsBeforeIncomeTaxesMinorityInterestAndIncomeLossFromEquityMethodInvestments</th>\n",
       "      <td>0.136151</td>\n",
       "      <td>0.398300</td>\n",
       "    </tr>\n",
       "    <tr>\n",
       "      <th>GeneralAndAdministrativeExpense</th>\n",
       "      <td>0.101099</td>\n",
       "      <td>0.188208</td>\n",
       "    </tr>\n",
       "    <tr>\n",
       "      <th>pGeneralAndAdministrativeExpense</th>\n",
       "      <td>-0.055253</td>\n",
       "      <td>0.082389</td>\n",
       "    </tr>\n",
       "    <tr>\n",
       "      <th>AdditionalPaidInCapital</th>\n",
       "      <td>0.338462</td>\n",
       "      <td>0.494023</td>\n",
       "    </tr>\n",
       "    <tr>\n",
       "      <th>pAdditionalPaidInCapital</th>\n",
       "      <td>0.280040</td>\n",
       "      <td>0.443233</td>\n",
       "    </tr>\n",
       "    <tr>\n",
       "      <th>OtherNonoperatingIncomeExpense</th>\n",
       "      <td>-0.030046</td>\n",
       "      <td>0.020788</td>\n",
       "    </tr>\n",
       "    <tr>\n",
       "      <th>pOtherNonoperatingIncomeExpense</th>\n",
       "      <td>-0.068929</td>\n",
       "      <td>0.044766</td>\n",
       "    </tr>\n",
       "    <tr>\n",
       "      <th>pRevenues</th>\n",
       "      <td>0.802791</td>\n",
       "      <td>0.962544</td>\n",
       "    </tr>\n",
       "    <tr>\n",
       "      <th>ResearchAndDevelopmentExpense</th>\n",
       "      <td>0.113005</td>\n",
       "      <td>0.050767</td>\n",
       "    </tr>\n",
       "    <tr>\n",
       "      <th>pResearchAndDevelopmentExpense</th>\n",
       "      <td>-0.036111</td>\n",
       "      <td>0.021597</td>\n",
       "    </tr>\n",
       "    <tr>\n",
       "      <th>pEffectOfExchangeRateOnCashAndCashEquivalents</th>\n",
       "      <td>0.077717</td>\n",
       "      <td>0.005501</td>\n",
       "    </tr>\n",
       "    <tr>\n",
       "      <th>EffectOfExchangeRateOnCashAndCashEquivalents</th>\n",
       "      <td>-0.016087</td>\n",
       "      <td>0.007382</td>\n",
       "    </tr>\n",
       "    <tr>\n",
       "      <th>NonoperatingIncomeExpense</th>\n",
       "      <td>0.032100</td>\n",
       "      <td>0.000119</td>\n",
       "    </tr>\n",
       "    <tr>\n",
       "      <th>pNonoperatingIncomeExpense</th>\n",
       "      <td>-0.015521</td>\n",
       "      <td>0.000143</td>\n",
       "    </tr>\n",
       "    <tr>\n",
       "      <th>IncomeTaxesPaid</th>\n",
       "      <td>0.063452</td>\n",
       "      <td>0.007596</td>\n",
       "    </tr>\n",
       "    <tr>\n",
       "      <th>pIncomeTaxesPaid</th>\n",
       "      <td>0.014028</td>\n",
       "      <td>0.034146</td>\n",
       "    </tr>\n",
       "    <tr>\n",
       "      <th>IntangibleAssetsNetExcludingGoodwill</th>\n",
       "      <td>0.039092</td>\n",
       "      <td>0.194090</td>\n",
       "    </tr>\n",
       "    <tr>\n",
       "      <th>pIntangibleAssetsNetExcludingGoodwill</th>\n",
       "      <td>0.051788</td>\n",
       "      <td>0.001214</td>\n",
       "    </tr>\n",
       "    <tr>\n",
       "      <th>ProfitLoss</th>\n",
       "      <td>0.239435</td>\n",
       "      <td>0.066221</td>\n",
       "    </tr>\n",
       "    <tr>\n",
       "      <th>pProfitLoss</th>\n",
       "      <td>0.116351</td>\n",
       "      <td>0.389918</td>\n",
       "    </tr>\n",
       "    <tr>\n",
       "      <th>DeferredTaxLiabilitiesNoncurrent</th>\n",
       "      <td>0.098080</td>\n",
       "      <td>0.045076</td>\n",
       "    </tr>\n",
       "    <tr>\n",
       "      <th>StockholdersEquityIncludingPortionAttributableToNoncontrollingInterest</th>\n",
       "      <td>0.667116</td>\n",
       "      <td>1.132346</td>\n",
       "    </tr>\n",
       "    <tr>\n",
       "      <th>pStockholdersEquityIncludingPortionAttributableToNoncontrollingInterest</th>\n",
       "      <td>0.663122</td>\n",
       "      <td>0.850343</td>\n",
       "    </tr>\n",
       "    <tr>\n",
       "      <th>pInvestmentIncomeInterest</th>\n",
       "      <td>0.003616</td>\n",
       "      <td>0.000310</td>\n",
       "    </tr>\n",
       "    <tr>\n",
       "      <th>InvestmentIncomeInterest</th>\n",
       "      <td>-0.035901</td>\n",
       "      <td>0.000310</td>\n",
       "    </tr>\n",
       "    <tr>\n",
       "      <th>OtherAssetsCurrent</th>\n",
       "      <td>0.038200</td>\n",
       "      <td>0.003072</td>\n",
       "    </tr>\n",
       "  </tbody>\n",
       "</table>\n",
       "<p>84 rows × 2 columns</p>\n",
       "</div>"
      ],
      "text/plain": [
       "                                                       fakes  originals\n",
       "Revenues                                            0.000738   0.000738\n",
       "Assets                                              1.219557   1.363987\n",
       "pAssets                                             0.998183   1.000000\n",
       "pCashAndCashEquivalentsAtCarryingValue              0.233018   0.371226\n",
       "CashAndCashEquivalentsAtCarryingValue               0.333154   0.254667\n",
       "LiabilitiesAndStockholdersEquity                    1.345067   1.363987\n",
       "pLiabilitiesAndStockholdersEquity                   0.980554   1.000000\n",
       "NetIncomeLoss                                       0.108406   0.071316\n",
       "pNetIncomeLoss                                      0.203413   0.395014\n",
       "pStockholdersEquity                                 0.744827   0.852010\n",
       "StockholdersEquity                                  0.911442   0.993095\n",
       "AssetsCurrent                                       0.749179   0.827269\n",
       "pAssetsCurrent                                      0.549584   0.780384\n",
       "LiabilitiesCurrent                                  0.077293   0.183303\n",
       "pLiabilitiesCurrent                                 0.075249   0.146514\n",
       "OperatingIncomeLoss                                 0.175531   0.075293\n",
       "pOperatingIncomeLoss                                0.201794   0.353534\n",
       "pCashAndCashEquivalentsPeriodIncreaseDecrease       0.096180   0.039837\n",
       "CashAndCashEquivalentsPeriodIncreaseDecrease        0.167808  -0.116559\n",
       "RetainedEarningsAccumulatedDeficit                  0.462733   0.397371\n",
       "pRetainedEarningsAccumulatedDeficit                 0.525208   0.348367\n",
       "PropertyPlantAndEquipmentNet                        0.179944   0.045290\n",
       "pPropertyPlantAndEquipmentNet                      -0.052984   0.047862\n",
       "CommonStockValue                                    0.056170   0.000524\n",
       "pCommonStockValue                                   0.022392   0.000405\n",
       "pNetCashProvidedByUsedInOperatingActivities         0.174076   0.275788\n",
       "NetCashProvidedByUsedInOperatingActivities          0.203794  -0.014359\n",
       "IncomeTaxExpenseBenefit                             0.054131   0.024645\n",
       "pIncomeTaxExpenseBenefit                           -0.059693   0.008382\n",
       "pNetCashProvidedByUsedInFinancingActivities        -0.051693  -0.018264\n",
       "...                                                      ...        ...\n",
       "pOperatingExpenses                                 -0.050491   0.185018\n",
       "IncreaseDecreaseInAccountsPayable                  -0.048057   0.000643\n",
       "pIncreaseDecreaseInAccountsPayable                 -0.012810  -0.002929\n",
       "IncomeLossFromContinuingOperationsBeforeIncomeT...  0.201719   0.096081\n",
       "pIncomeLossFromContinuingOperationsBeforeIncome...  0.136151   0.398300\n",
       "GeneralAndAdministrativeExpense                     0.101099   0.188208\n",
       "pGeneralAndAdministrativeExpense                   -0.055253   0.082389\n",
       "AdditionalPaidInCapital                             0.338462   0.494023\n",
       "pAdditionalPaidInCapital                            0.280040   0.443233\n",
       "OtherNonoperatingIncomeExpense                     -0.030046   0.020788\n",
       "pOtherNonoperatingIncomeExpense                    -0.068929   0.044766\n",
       "pRevenues                                           0.802791   0.962544\n",
       "ResearchAndDevelopmentExpense                       0.113005   0.050767\n",
       "pResearchAndDevelopmentExpense                     -0.036111   0.021597\n",
       "pEffectOfExchangeRateOnCashAndCashEquivalents       0.077717   0.005501\n",
       "EffectOfExchangeRateOnCashAndCashEquivalents       -0.016087   0.007382\n",
       "NonoperatingIncomeExpense                           0.032100   0.000119\n",
       "pNonoperatingIncomeExpense                         -0.015521   0.000143\n",
       "IncomeTaxesPaid                                     0.063452   0.007596\n",
       "pIncomeTaxesPaid                                    0.014028   0.034146\n",
       "IntangibleAssetsNetExcludingGoodwill                0.039092   0.194090\n",
       "pIntangibleAssetsNetExcludingGoodwill               0.051788   0.001214\n",
       "ProfitLoss                                          0.239435   0.066221\n",
       "pProfitLoss                                         0.116351   0.389918\n",
       "DeferredTaxLiabilitiesNoncurrent                    0.098080   0.045076\n",
       "StockholdersEquityIncludingPortionAttributableT...  0.667116   1.132346\n",
       "pStockholdersEquityIncludingPortionAttributable...  0.663122   0.850343\n",
       "pInvestmentIncomeInterest                           0.003616   0.000310\n",
       "InvestmentIncomeInterest                           -0.035901   0.000310\n",
       "OtherAssetsCurrent                                  0.038200   0.003072\n",
       "\n",
       "[84 rows x 2 columns]"
      ]
     },
     "execution_count": 25,
     "metadata": {},
     "output_type": "execute_result"
    }
   ],
   "source": [
    "import pandas as pd\n",
    "i=64\n",
    "composed_imgs=Generator.predict([x_test,y_test])\n",
    "idx=np.hstack(('Revenues',cols[0:199]))\n",
    "orig=np.hstack((y_test[i],x_test[i,:]))\n",
    "fakes=np.hstack((composed_imgs[i][-1],composed_imgs[i][0:-1]))\n",
    "#orig[orig!=0]\n",
    "#pd.DataFrame({'originals':orig[orig!=0],'fakes':fakes[orig!=0]},index=idx[orig!=0])\n",
    "df=pd.DataFrame({'originals':orig,'fakes':fakes},index=idx)\n",
    "df[df.originals!=0]"
   ]
  },
  {
   "cell_type": "code",
   "execution_count": 18,
   "metadata": {},
   "outputs": [
    {
     "name": "stderr",
     "output_type": "stream",
     "text": [
      "\r",
      "  0%|          | 0/1000 [00:00<?, ?it/s]"
     ]
    },
    {
     "name": "stdout",
     "output_type": "stream",
     "text": [
      "128/128 [==============================] - 0s 715us/step\n",
      "64/64 [==============================] - 0s 31us/step\n",
      "64/64 [==============================] - 0s 36us/step\n"
     ]
    },
    {
     "name": "stderr",
     "output_type": "stream",
     "text": [
      "\r",
      "  0%|          | 1/1000 [00:01<28:44,  1.73s/it]"
     ]
    },
    {
     "name": "stdout",
     "output_type": "stream",
     "text": [
      "128/128 [==============================] - 0s 28us/step\n",
      "64/64 [==============================] - 0s 35us/step\n",
      "64/64 [==============================] - 0s 46us/step\n",
      "128/128 [==============================] - 0s 33us/step\n",
      "64/64 [==============================] - 0s 52us/step\n",
      "64/64 [==============================] - 0s 31us/step\n",
      "128/128 [==============================] - 0s 25us/step\n",
      "64/64 [==============================] - 0s 30us/step\n",
      "64/64 [==============================] - 0s 33us/step\n",
      "128/128 [==============================] - 0s 32us/step\n",
      "64/64 [==============================] - 0s 62us/step\n",
      "64/64 [==============================] - 0s 75us/step\n",
      "128/128 [==============================] - 0s 24us/step\n",
      "64/64 [==============================] - 0s 48us/step\n",
      "64/64 [==============================] - 0s 32us/step\n"
     ]
    },
    {
     "name": "stderr",
     "output_type": "stream",
     "text": [
      "\r",
      "  1%|          | 6/1000 [00:01<05:05,  3.25it/s]"
     ]
    },
    {
     "name": "stdout",
     "output_type": "stream",
     "text": [
      "128/128 [==============================] - 0s 32us/step\n",
      "64/64 [==============================] - 0s 51us/step\n",
      "64/64 [==============================] - 0s 59us/step\n",
      "128/128 [==============================] - 0s 31us/step\n",
      "64/64 [==============================] - 0s 30us/step\n",
      "64/64 [==============================] - 0s 47us/step\n",
      "128/128 [==============================] - 0s 24us/step\n",
      "64/64 [==============================] - 0s 73us/step\n",
      "64/64 [==============================] - 0s 59us/step\n",
      "128/128 [==============================] - 0s 28us/step\n",
      "64/64 [==============================] - 0s 64us/step\n",
      "64/64 [==============================] - 0s 38us/step\n",
      "128/128 [==============================] - 0s 23us/step\n",
      "64/64 [==============================] - 0s 70us/step\n",
      "64/64 [==============================] - 0s 51us/step\n"
     ]
    },
    {
     "name": "stderr",
     "output_type": "stream",
     "text": [
      "\r",
      "  1%|          | 11/1000 [00:01<02:56,  5.60it/s]"
     ]
    },
    {
     "name": "stdout",
     "output_type": "stream",
     "text": [
      "128/128 [==============================] - 0s 26us/step\n",
      "64/64 [==============================] - 0s 52us/step\n",
      "64/64 [==============================] - 0s 36us/step\n",
      "128/128 [==============================] - 0s 28us/step\n",
      "64/64 [==============================] - 0s 45us/step\n",
      "64/64 [==============================] - 0s 63us/step\n",
      "128/128 [==============================] - 0s 27us/step\n",
      "64/64 [==============================] - 0s 45us/step\n",
      "64/64 [==============================] - 0s 37us/step\n",
      "128/128 [==============================] - 0s 35us/step\n",
      "64/64 [==============================] - 0s 29us/step\n",
      "64/64 [==============================] - 0s 37us/step\n",
      "128/128 [==============================] - 0s 26us/step\n",
      "64/64 [==============================] - 0s 42us/step\n",
      "64/64 [==============================] - 0s 66us/step\n"
     ]
    },
    {
     "name": "stderr",
     "output_type": "stream",
     "text": [
      "\r",
      "  2%|▏         | 16/1000 [00:02<02:07,  7.70it/s]"
     ]
    },
    {
     "name": "stdout",
     "output_type": "stream",
     "text": [
      "128/128 [==============================] - 0s 62us/step\n",
      "64/64 [==============================] - 0s 48us/step\n",
      "64/64 [==============================] - 0s 52us/step\n",
      "128/128 [==============================] - 0s 35us/step\n",
      "64/64 [==============================] - 0s 60us/step\n",
      "64/64 [==============================] - 0s 55us/step\n",
      "128/128 [==============================] - 0s 31us/step\n",
      "64/64 [==============================] - 0s 33us/step\n",
      "64/64 [==============================] - 0s 43us/step\n",
      "128/128 [==============================] - 0s 27us/step\n",
      "64/64 [==============================] - 0s 31us/step\n",
      "64/64 [==============================] - 0s 31us/step\n",
      "128/128 [==============================] - 0s 24us/step\n",
      "64/64 [==============================] - 0s 27us/step\n",
      "64/64 [==============================] - 0s 37us/step\n"
     ]
    },
    {
     "name": "stderr",
     "output_type": "stream",
     "text": [
      "\r",
      "  2%|▏         | 21/1000 [00:02<01:42,  9.58it/s]"
     ]
    },
    {
     "name": "stdout",
     "output_type": "stream",
     "text": [
      "128/128 [==============================] - 0s 27us/step\n",
      "64/64 [==============================] - 0s 54us/step\n",
      "64/64 [==============================] - 0s 68us/step\n",
      "128/128 [==============================] - 0s 32us/step\n",
      "64/64 [==============================] - 0s 52us/step\n",
      "64/64 [==============================] - 0s 25us/step\n",
      "128/128 [==============================] - 0s 35us/step\n",
      "64/64 [==============================] - 0s 65us/step\n",
      "64/64 [==============================] - 0s 32us/step\n",
      "128/128 [==============================] - 0s 39us/step\n",
      "64/64 [==============================] - 0s 43us/step\n",
      "64/64 [==============================] - 0s 38us/step\n",
      "128/128 [==============================] - 0s 42us/step\n",
      "64/64 [==============================] - 0s 33us/step\n",
      "64/64 [==============================] - 0s 48us/step\n"
     ]
    },
    {
     "name": "stderr",
     "output_type": "stream",
     "text": [
      "\r",
      "  3%|▎         | 26/1000 [00:02<01:26, 11.28it/s]"
     ]
    },
    {
     "name": "stdout",
     "output_type": "stream",
     "text": [
      "128/128 [==============================] - 0s 27us/step\n",
      "64/64 [==============================] - 0s 65us/step\n",
      "64/64 [==============================] - 0s 51us/step\n",
      "128/128 [==============================] - 0s 34us/step\n",
      "64/64 [==============================] - 0s 46us/step\n",
      "64/64 [==============================] - 0s 41us/step\n",
      "128/128 [==============================] - 0s 26us/step\n",
      "64/64 [==============================] - 0s 29us/step\n",
      "64/64 [==============================] - 0s 45us/step\n",
      "128/128 [==============================] - 0s 25us/step\n",
      "64/64 [==============================] - 0s 51us/step\n",
      "64/64 [==============================] - 0s 47us/step\n",
      "128/128 [==============================] - 0s 31us/step\n",
      "64/64 [==============================] - 0s 28us/step\n",
      "64/64 [==============================] - 0s 28us/step\n"
     ]
    },
    {
     "name": "stderr",
     "output_type": "stream",
     "text": [
      "\r",
      "  3%|▎         | 31/1000 [00:02<01:15, 12.80it/s]"
     ]
    },
    {
     "name": "stdout",
     "output_type": "stream",
     "text": [
      "128/128 [==============================] - 0s 38us/step\n",
      "64/64 [==============================] - 0s 47us/step\n",
      "64/64 [==============================] - 0s 61us/step\n",
      "128/128 [==============================] - 0s 26us/step\n",
      "64/64 [==============================] - 0s 50us/step\n",
      "64/64 [==============================] - 0s 33us/step\n",
      "128/128 [==============================] - 0s 24us/step\n",
      "64/64 [==============================] - 0s 30us/step\n",
      "64/64 [==============================] - 0s 52us/step\n",
      "128/128 [==============================] - 0s 32us/step\n",
      "64/64 [==============================] - 0s 29us/step\n",
      "64/64 [==============================] - 0s 37us/step\n",
      "128/128 [==============================] - 0s 33us/step\n",
      "64/64 [==============================] - 0s 27us/step\n",
      "64/64 [==============================] - 0s 34us/step\n"
     ]
    },
    {
     "name": "stderr",
     "output_type": "stream",
     "text": [
      "\r",
      "  4%|▎         | 36/1000 [00:02<01:07, 14.23it/s]"
     ]
    },
    {
     "name": "stdout",
     "output_type": "stream",
     "text": [
      "128/128 [==============================] - 0s 24us/step\n",
      "64/64 [==============================] - 0s 65us/step\n",
      "64/64 [==============================] - 0s 38us/step\n",
      "128/128 [==============================] - 0s 26us/step\n",
      "64/64 [==============================] - 0s 31us/step\n",
      "64/64 [==============================] - 0s 25us/step\n",
      "128/128 [==============================] - 0s 25us/step\n",
      "64/64 [==============================] - 0s 35us/step\n",
      "64/64 [==============================] - 0s 46us/step\n",
      "128/128 [==============================] - 0s 25us/step\n",
      "64/64 [==============================] - 0s 28us/step\n",
      "64/64 [==============================] - 0s 60us/step\n",
      "128/128 [==============================] - 0s 22us/step\n",
      "64/64 [==============================] - 0s 41us/step\n",
      "64/64 [==============================] - 0s 49us/step\n"
     ]
    },
    {
     "name": "stderr",
     "output_type": "stream",
     "text": [
      "\r",
      "  4%|▍         | 41/1000 [00:02<01:01, 15.56it/s]"
     ]
    },
    {
     "name": "stdout",
     "output_type": "stream",
     "text": [
      "128/128 [==============================] - 0s 25us/step\n",
      "64/64 [==============================] - 0s 34us/step\n",
      "64/64 [==============================] - 0s 44us/step\n",
      "128/128 [==============================] - 0s 25us/step\n",
      "64/64 [==============================] - 0s 45us/step\n",
      "64/64 [==============================] - 0s 28us/step\n",
      "128/128 [==============================] - 0s 22us/step\n",
      "64/64 [==============================] - 0s 51us/step\n",
      "64/64 [==============================] - 0s 47us/step\n",
      "128/128 [==============================] - 0s 33us/step\n",
      "64/64 [==============================] - 0s 51us/step\n",
      "64/64 [==============================] - 0s 45us/step\n",
      "128/128 [==============================] - 0s 32us/step\n",
      "64/64 [==============================] - 0s 29us/step\n",
      "64/64 [==============================] - 0s 48us/step\n"
     ]
    },
    {
     "name": "stderr",
     "output_type": "stream",
     "text": [
      "\r",
      "  5%|▍         | 46/1000 [00:02<00:56, 16.79it/s]"
     ]
    },
    {
     "name": "stdout",
     "output_type": "stream",
     "text": [
      "128/128 [==============================] - 0s 24us/step\n",
      "64/64 [==============================] - 0s 35us/step\n",
      "64/64 [==============================] - 0s 30us/step\n",
      "128/128 [==============================] - 0s 24us/step\n",
      "64/64 [==============================] - 0s 53us/step\n",
      "64/64 [==============================] - 0s 50us/step\n",
      "128/128 [==============================] - 0s 33us/step\n",
      "64/64 [==============================] - 0s 40us/step\n",
      "64/64 [==============================] - 0s 45us/step\n",
      "128/128 [==============================] - 0s 28us/step\n",
      "64/64 [==============================] - 0s 27us/step\n",
      "64/64 [==============================] - 0s 43us/step\n",
      "128/128 [==============================] - 0s 43us/step\n",
      "64/64 [==============================] - 0s 96us/step\n",
      "64/64 [==============================] - 0s 38us/step\n"
     ]
    },
    {
     "name": "stderr",
     "output_type": "stream",
     "text": [
      "\r",
      "  5%|▌         | 51/1000 [00:02<00:53, 17.89it/s]"
     ]
    },
    {
     "name": "stdout",
     "output_type": "stream",
     "text": [
      "128/128 [==============================] - 0s 25us/step\n",
      "64/64 [==============================] - 0s 47us/step\n",
      "64/64 [==============================] - 0s 47us/step\n",
      "128/128 [==============================] - 0s 24us/step\n",
      "64/64 [==============================] - 0s 36us/step\n",
      "64/64 [==============================] - 0s 32us/step\n",
      "128/128 [==============================] - 0s 26us/step\n",
      "64/64 [==============================] - 0s 29us/step\n",
      "64/64 [==============================] - 0s 28us/step\n",
      "128/128 [==============================] - 0s 23us/step\n",
      "64/64 [==============================] - 0s 25us/step\n",
      "64/64 [==============================] - 0s 93us/step\n",
      "128/128 [==============================] - 0s 33us/step\n",
      "64/64 [==============================] - 0s 45us/step\n",
      "64/64 [==============================] - 0s 54us/step\n"
     ]
    },
    {
     "name": "stderr",
     "output_type": "stream",
     "text": [
      "\r",
      "  6%|▌         | 56/1000 [00:02<00:49, 18.97it/s]"
     ]
    },
    {
     "name": "stdout",
     "output_type": "stream",
     "text": [
      "128/128 [==============================] - 0s 33us/step\n",
      "64/64 [==============================] - 0s 25us/step\n",
      "64/64 [==============================] - 0s 31us/step\n",
      "128/128 [==============================] - 0s 35us/step\n",
      "64/64 [==============================] - 0s 32us/step\n",
      "64/64 [==============================] - 0s 36us/step\n",
      "128/128 [==============================] - 0s 27us/step\n",
      "64/64 [==============================] - 0s 60us/step\n",
      "64/64 [==============================] - 0s 44us/step\n",
      "128/128 [==============================] - 0s 29us/step\n",
      "64/64 [==============================] - 0s 42us/step\n",
      "64/64 [==============================] - 0s 36us/step\n",
      "128/128 [==============================] - 0s 29us/step\n",
      "64/64 [==============================] - 0s 49us/step\n",
      "64/64 [==============================] - 0s 42us/step\n"
     ]
    },
    {
     "name": "stderr",
     "output_type": "stream",
     "text": [
      "\r",
      "  6%|▌         | 61/1000 [00:03<00:47, 19.93it/s]"
     ]
    },
    {
     "name": "stdout",
     "output_type": "stream",
     "text": [
      "128/128 [==============================] - 0s 25us/step\n",
      "64/64 [==============================] - 0s 49us/step\n",
      "64/64 [==============================] - 0s 29us/step\n",
      "128/128 [==============================] - 0s 25us/step\n",
      "64/64 [==============================] - 0s 56us/step\n",
      "64/64 [==============================] - 0s 59us/step\n",
      "128/128 [==============================] - 0s 27us/step\n",
      "64/64 [==============================] - 0s 45us/step\n",
      "64/64 [==============================] - 0s 30us/step\n",
      "128/128 [==============================] - 0s 29us/step\n",
      "64/64 [==============================] - 0s 32us/step\n",
      "64/64 [==============================] - 0s 63us/step\n",
      "128/128 [==============================] - 0s 32us/step\n",
      "64/64 [==============================] - 0s 64us/step\n",
      "64/64 [==============================] - 0s 45us/step\n"
     ]
    },
    {
     "name": "stderr",
     "output_type": "stream",
     "text": [
      "\r",
      "  7%|▋         | 66/1000 [00:03<00:44, 20.84it/s]"
     ]
    },
    {
     "name": "stdout",
     "output_type": "stream",
     "text": [
      "128/128 [==============================] - 0s 26us/step\n",
      "64/64 [==============================] - 0s 28us/step\n",
      "64/64 [==============================] - 0s 29us/step\n",
      "128/128 [==============================] - 0s 29us/step\n",
      "64/64 [==============================] - 0s 41us/step\n",
      "64/64 [==============================] - 0s 37us/step\n",
      "128/128 [==============================] - 0s 26us/step\n",
      "64/64 [==============================] - 0s 28us/step\n",
      "64/64 [==============================] - 0s 67us/step\n",
      "128/128 [==============================] - 0s 29us/step\n",
      "64/64 [==============================] - 0s 57us/step\n",
      "64/64 [==============================] - 0s 34us/step\n",
      "128/128 [==============================] - 0s 30us/step\n",
      "64/64 [==============================] - 0s 36us/step\n",
      "64/64 [==============================] - 0s 31us/step\n"
     ]
    },
    {
     "name": "stderr",
     "output_type": "stream",
     "text": [
      "\r",
      "  7%|▋         | 71/1000 [00:03<00:42, 21.70it/s]"
     ]
    },
    {
     "name": "stdout",
     "output_type": "stream",
     "text": [
      "128/128 [==============================] - 0s 26us/step\n",
      "64/64 [==============================] - 0s 61us/step\n",
      "64/64 [==============================] - 0s 64us/step\n",
      "128/128 [==============================] - 0s 27us/step\n",
      "64/64 [==============================] - 0s 39us/step\n",
      "64/64 [==============================] - 0s 42us/step\n",
      "128/128 [==============================] - 0s 28us/step\n",
      "64/64 [==============================] - 0s 34us/step\n",
      "64/64 [==============================] - 0s 30us/step\n",
      "128/128 [==============================] - 0s 28us/step\n",
      "64/64 [==============================] - 0s 38us/step\n",
      "64/64 [==============================] - 0s 28us/step\n",
      "128/128 [==============================] - 0s 33us/step\n",
      "64/64 [==============================] - 0s 43us/step\n",
      "64/64 [==============================] - 0s 49us/step\n"
     ]
    },
    {
     "name": "stderr",
     "output_type": "stream",
     "text": [
      "\r",
      "  8%|▊         | 76/1000 [00:03<00:41, 22.49it/s]"
     ]
    },
    {
     "name": "stdout",
     "output_type": "stream",
     "text": [
      "128/128 [==============================] - 0s 26us/step\n",
      "64/64 [==============================] - 0s 55us/step\n",
      "64/64 [==============================] - 0s 33us/step\n",
      "128/128 [==============================] - 0s 27us/step\n",
      "64/64 [==============================] - 0s 30us/step\n",
      "64/64 [==============================] - 0s 43us/step\n",
      "128/128 [==============================] - 0s 30us/step\n",
      "64/64 [==============================] - 0s 33us/step\n",
      "64/64 [==============================] - 0s 38us/step\n",
      "128/128 [==============================] - 0s 34us/step\n",
      "64/64 [==============================] - 0s 54us/step\n",
      "64/64 [==============================] - 0s 68us/step\n",
      "128/128 [==============================] - 0s 31us/step\n",
      "64/64 [==============================] - 0s 40us/step\n",
      "64/64 [==============================] - 0s 39us/step\n"
     ]
    },
    {
     "name": "stderr",
     "output_type": "stream",
     "text": [
      "\r",
      "  8%|▊         | 81/1000 [00:03<00:39, 23.23it/s]"
     ]
    },
    {
     "name": "stdout",
     "output_type": "stream",
     "text": [
      "128/128 [==============================] - 0s 22us/step\n",
      "64/64 [==============================] - 0s 44us/step\n",
      "64/64 [==============================] - 0s 31us/step\n",
      "128/128 [==============================] - 0s 31us/step\n",
      "64/64 [==============================] - 0s 31us/step\n",
      "64/64 [==============================] - 0s 49us/step\n",
      "128/128 [==============================] - 0s 33us/step\n",
      "64/64 [==============================] - 0s 30us/step\n",
      "64/64 [==============================] - 0s 47us/step\n",
      "128/128 [==============================] - 0s 25us/step\n",
      "64/64 [==============================] - 0s 35us/step\n",
      "64/64 [==============================] - 0s 44us/step\n",
      "128/128 [==============================] - 0s 31us/step\n",
      "64/64 [==============================] - 0s 30us/step\n",
      "64/64 [==============================] - 0s 33us/step\n"
     ]
    },
    {
     "name": "stderr",
     "output_type": "stream",
     "text": [
      "\r",
      "  9%|▊         | 86/1000 [00:03<00:38, 23.96it/s]"
     ]
    },
    {
     "name": "stdout",
     "output_type": "stream",
     "text": [
      "128/128 [==============================] - 0s 25us/step\n",
      "64/64 [==============================] - 0s 28us/step\n",
      "64/64 [==============================] - 0s 43us/step\n",
      "128/128 [==============================] - 0s 26us/step\n",
      "64/64 [==============================] - 0s 35us/step\n",
      "64/64 [==============================] - 0s 30us/step\n",
      "128/128 [==============================] - 0s 36us/step\n",
      "64/64 [==============================] - 0s 53us/step\n",
      "64/64 [==============================] - 0s 42us/step\n",
      "128/128 [==============================] - 0s 27us/step\n",
      "64/64 [==============================] - 0s 34us/step\n",
      "64/64 [==============================] - 0s 39us/step\n",
      "128/128 [==============================] - 0s 31us/step\n",
      "64/64 [==============================] - 0s 44us/step\n",
      "64/64 [==============================] - 0s 47us/step\n"
     ]
    },
    {
     "name": "stderr",
     "output_type": "stream",
     "text": [
      "\r",
      "  9%|▉         | 91/1000 [00:03<00:36, 24.63it/s]"
     ]
    },
    {
     "name": "stdout",
     "output_type": "stream",
     "text": [
      "128/128 [==============================] - 0s 22us/step\n",
      "64/64 [==============================] - 0s 26us/step\n",
      "64/64 [==============================] - 0s 51us/step\n",
      "128/128 [==============================] - 0s 32us/step\n",
      "64/64 [==============================] - 0s 36us/step\n",
      "64/64 [==============================] - 0s 32us/step\n",
      "128/128 [==============================] - 0s 31us/step\n",
      "64/64 [==============================] - 0s 48us/step\n",
      "64/64 [==============================] - 0s 29us/step\n",
      "128/128 [==============================] - 0s 24us/step\n",
      "64/64 [==============================] - 0s 46us/step\n",
      "64/64 [==============================] - 0s 46us/step\n",
      "128/128 [==============================] - ETA:  - 0s 23us/step\n",
      "64/64 [==============================] - 0s 71us/step\n",
      "64/64 [==============================] - 0s 64us/step\n"
     ]
    },
    {
     "name": "stderr",
     "output_type": "stream",
     "text": [
      "\r",
      " 10%|▉         | 96/1000 [00:03<00:35, 25.27it/s]"
     ]
    },
    {
     "name": "stdout",
     "output_type": "stream",
     "text": [
      "128/128 [==============================] - 0s 38us/step\n",
      "64/64 [==============================] - 0s 42us/step\n",
      "64/64 [==============================] - 0s 27us/step\n",
      "128/128 [==============================] - 0s 34us/step\n",
      "64/64 [==============================] - 0s 59us/step\n",
      "64/64 [==============================] - 0s 77us/step\n",
      "128/128 [==============================] - 0s 28us/step\n",
      "64/64 [==============================] - 0s 50us/step\n",
      "64/64 [==============================] - 0s 32us/step\n",
      "128/128 [==============================] - ETA:  - 0s 49us/step\n",
      "64/64 [==============================] - 0s 40us/step\n",
      "64/64 [==============================] - 0s 46us/step\n",
      "128/128 [==============================] - 0s 26us/step\n",
      "64/64 [==============================] - 0s 36us/step\n",
      "64/64 [==============================] - 0s 33us/step\n"
     ]
    },
    {
     "name": "stderr",
     "output_type": "stream",
     "text": [
      "\r",
      " 10%|█         | 101/1000 [00:03<00:34, 25.79it/s]"
     ]
    },
    {
     "name": "stdout",
     "output_type": "stream",
     "text": [
      "128/128 [==============================] - 0s 40us/step\n",
      "64/64 [==============================] - 0s 48us/step\n",
      "64/64 [==============================] - 0s 54us/step\n",
      "128/128 [==============================] - 0s 34us/step\n",
      "64/64 [==============================] - 0s 26us/step\n",
      "64/64 [==============================] - 0s 50us/step\n",
      "128/128 [==============================] - 0s 24us/step\n",
      "64/64 [==============================] - 0s 55us/step\n",
      "64/64 [==============================] - 0s 31us/step\n",
      "128/128 [==============================] - 0s 32us/step\n",
      "64/64 [==============================] - 0s 30us/step\n",
      "64/64 [==============================] - 0s 42us/step\n",
      "128/128 [==============================] - 0s 25us/step\n",
      "64/64 [==============================] - 0s 52us/step\n",
      "64/64 [==============================] - 0s 30us/step\n"
     ]
    },
    {
     "name": "stderr",
     "output_type": "stream",
     "text": [
      "\r",
      " 11%|█         | 106/1000 [00:04<00:33, 26.34it/s]"
     ]
    },
    {
     "name": "stdout",
     "output_type": "stream",
     "text": [
      "128/128 [==============================] - 0s 26us/step\n",
      "64/64 [==============================] - 0s 47us/step\n",
      "64/64 [==============================] - 0s 66us/step\n",
      "128/128 [==============================] - 0s 34us/step\n",
      "64/64 [==============================] - 0s 57us/step\n",
      "64/64 [==============================] - 0s 41us/step\n",
      "128/128 [==============================] - 0s 27us/step\n",
      "64/64 [==============================] - 0s 29us/step\n",
      "64/64 [==============================] - 0s 56us/step\n",
      "128/128 [==============================] - 0s 44us/step\n",
      "64/64 [==============================] - 0s 35us/step\n",
      "64/64 [==============================] - 0s 34us/step\n",
      "128/128 [==============================] - 0s 37us/step\n",
      "64/64 [==============================] - 0s 34us/step\n",
      "64/64 [==============================] - 0s 39us/step\n"
     ]
    },
    {
     "name": "stderr",
     "output_type": "stream",
     "text": [
      "\r",
      " 11%|█         | 111/1000 [00:04<00:33, 26.81it/s]"
     ]
    },
    {
     "name": "stdout",
     "output_type": "stream",
     "text": [
      "128/128 [==============================] - 0s 35us/step\n",
      "64/64 [==============================] - 0s 37us/step\n",
      "64/64 [==============================] - 0s 37us/step\n",
      "128/128 [==============================] - 0s 24us/step\n",
      "64/64 [==============================] - 0s 53us/step\n",
      "64/64 [==============================] - 0s 49us/step\n",
      "128/128 [==============================] - 0s 28us/step\n",
      "64/64 [==============================] - 0s 43us/step\n",
      "64/64 [==============================] - 0s 52us/step\n",
      "128/128 [==============================] - 0s 29us/step\n",
      "64/64 [==============================] - 0s 53us/step\n",
      "64/64 [==============================] - 0s 43us/step\n",
      "128/128 [==============================] - 0s 30us/step\n",
      "64/64 [==============================] - 0s 27us/step\n",
      "64/64 [==============================] - 0s 29us/step\n"
     ]
    },
    {
     "name": "stderr",
     "output_type": "stream",
     "text": [
      "\r",
      " 12%|█▏        | 116/1000 [00:04<00:32, 27.32it/s]"
     ]
    },
    {
     "name": "stdout",
     "output_type": "stream",
     "text": [
      "128/128 [==============================] - 0s 24us/step\n",
      "64/64 [==============================] - 0s 50us/step\n",
      "64/64 [==============================] - 0s 32us/step\n",
      "128/128 [==============================] - 0s 35us/step\n",
      "64/64 [==============================] - 0s 28us/step\n",
      "64/64 [==============================] - 0s 46us/step\n",
      "128/128 [==============================] - 0s 35us/step\n",
      "64/64 [==============================] - 0s 29us/step\n",
      "64/64 [==============================] - 0s 44us/step\n",
      "128/128 [==============================] - 0s 23us/step\n",
      "64/64 [==============================] - 0s 28us/step\n",
      "64/64 [==============================] - 0s 40us/step\n",
      "128/128 [==============================] - 0s 32us/step\n",
      "64/64 [==============================] - 0s 35us/step\n",
      "64/64 [==============================] - 0s 38us/step\n"
     ]
    },
    {
     "name": "stderr",
     "output_type": "stream",
     "text": [
      "\r",
      " 12%|█▏        | 121/1000 [00:04<00:31, 27.80it/s]"
     ]
    },
    {
     "name": "stdout",
     "output_type": "stream",
     "text": [
      "128/128 [==============================] - 0s 30us/step\n",
      "64/64 [==============================] - 0s 30us/step\n",
      "64/64 [==============================] - 0s 50us/step\n",
      "128/128 [==============================] - 0s 23us/step\n",
      "64/64 [==============================] - 0s 70us/step\n",
      "64/64 [==============================] - 0s 43us/step\n",
      "128/128 [==============================] - 0s 35us/step\n",
      "64/64 [==============================] - 0s 43us/step\n",
      "64/64 [==============================] - 0s 34us/step\n",
      "128/128 [==============================] - 0s 37us/step\n",
      "64/64 [==============================] - 0s 32us/step\n",
      "64/64 [==============================] - 0s 33us/step\n",
      "128/128 [==============================] - 0s 25us/step\n",
      "64/64 [==============================] - 0s 58us/step\n",
      "64/64 [==============================] - 0s 61us/step\n"
     ]
    },
    {
     "name": "stderr",
     "output_type": "stream",
     "text": [
      "\r",
      " 13%|█▎        | 126/1000 [00:04<00:30, 28.24it/s]"
     ]
    },
    {
     "name": "stdout",
     "output_type": "stream",
     "text": [
      "128/128 [==============================] - 0s 24us/step\n",
      "64/64 [==============================] - 0s 45us/step\n",
      "64/64 [==============================] - 0s 35us/step\n",
      "128/128 [==============================] - 0s 28us/step\n",
      "64/64 [==============================] - 0s 53us/step\n",
      "64/64 [==============================] - 0s 49us/step\n",
      "128/128 [==============================] - 0s 30us/step\n",
      "64/64 [==============================] - 0s 43us/step\n",
      "64/64 [==============================] - 0s 33us/step\n",
      "128/128 [==============================] - 0s 35us/step\n",
      "64/64 [==============================] - 0s 52us/step\n",
      "64/64 [==============================] - 0s 36us/step\n",
      "128/128 [==============================] - 0s 33us/step\n",
      "64/64 [==============================] - 0s 36us/step\n",
      "64/64 [==============================] - 0s 43us/step\n"
     ]
    },
    {
     "name": "stderr",
     "output_type": "stream",
     "text": [
      "\r",
      " 13%|█▎        | 131/1000 [00:04<00:30, 28.64it/s]"
     ]
    },
    {
     "name": "stdout",
     "output_type": "stream",
     "text": [
      "128/128 [==============================] - 0s 34us/step\n",
      "64/64 [==============================] - 0s 43us/step\n",
      "64/64 [==============================] - 0s 55us/step\n",
      "128/128 [==============================] - 0s 27us/step\n",
      "64/64 [==============================] - 0s 52us/step\n",
      "64/64 [==============================] - 0s 28us/step\n",
      "128/128 [==============================] - 0s 35us/step\n",
      "64/64 [==============================] - 0s 35us/step\n",
      "64/64 [==============================] - 0s 31us/step\n",
      "128/128 [==============================] - 0s 23us/step\n",
      "64/64 [==============================] - 0s 35us/step\n",
      "64/64 [==============================] - 0s 29us/step\n",
      "128/128 [==============================] - 0s 25us/step\n",
      "64/64 [==============================] - 0s 37us/step\n",
      "64/64 [==============================] - 0s 38us/step\n"
     ]
    },
    {
     "name": "stderr",
     "output_type": "stream",
     "text": [
      "\r",
      " 14%|█▎        | 136/1000 [00:04<00:29, 29.09it/s]"
     ]
    },
    {
     "name": "stdout",
     "output_type": "stream",
     "text": [
      "128/128 [==============================] - 0s 23us/step\n",
      "64/64 [==============================] - 0s 28us/step\n",
      "64/64 [==============================] - 0s 29us/step\n",
      "128/128 [==============================] - 0s 23us/step\n",
      "64/64 [==============================] - 0s 31us/step\n",
      "64/64 [==============================] - 0s 32us/step\n",
      "128/128 [==============================] - 0s 38us/step\n",
      "64/64 [==============================] - 0s 49us/step\n",
      "64/64 [==============================] - 0s 47us/step\n",
      "128/128 [==============================] - 0s 27us/step\n",
      "64/64 [==============================] - 0s 37us/step\n",
      "64/64 [==============================] - 0s 32us/step\n",
      "128/128 [==============================] - 0s 27us/step\n",
      "64/64 [==============================] - 0s 27us/step\n",
      "64/64 [==============================] - 0s 31us/step\n"
     ]
    },
    {
     "name": "stderr",
     "output_type": "stream",
     "text": [
      "\r",
      " 14%|█▍        | 141/1000 [00:04<00:29, 29.52it/s]"
     ]
    },
    {
     "name": "stdout",
     "output_type": "stream",
     "text": [
      "128/128 [==============================] - 0s 34us/step\n",
      "64/64 [==============================] - 0s 34us/step\n",
      "64/64 [==============================] - 0s 51us/step\n",
      "128/128 [==============================] - 0s 25us/step\n",
      "64/64 [==============================] - 0s 31us/step\n",
      "64/64 [==============================] - 0s 29us/step\n",
      "128/128 [==============================] - 0s 36us/step\n",
      "64/64 [==============================] - 0s 30us/step\n",
      "64/64 [==============================] - 0s 34us/step\n",
      "128/128 [==============================] - 0s 30us/step\n",
      "64/64 [==============================] - 0s 26us/step\n",
      "64/64 [==============================] - 0s 34us/step\n",
      "128/128 [==============================] - 0s 33us/step\n",
      "64/64 [==============================] - 0s 34us/step\n",
      "64/64 [==============================] - 0s 28us/step\n"
     ]
    },
    {
     "name": "stderr",
     "output_type": "stream",
     "text": [
      "\r",
      " 15%|█▍        | 146/1000 [00:04<00:28, 29.92it/s]"
     ]
    },
    {
     "name": "stdout",
     "output_type": "stream",
     "text": [
      "128/128 [==============================] - 0s 25us/step\n",
      "64/64 [==============================] - 0s 51us/step\n",
      "64/64 [==============================] - 0s 34us/step\n",
      "128/128 [==============================] - 0s 28us/step\n",
      "64/64 [==============================] - 0s 32us/step\n",
      "64/64 [==============================] - 0s 61us/step\n",
      "128/128 [==============================] - 0s 32us/step\n",
      "64/64 [==============================] - 0s 36us/step\n",
      "64/64 [==============================] - 0s 28us/step\n",
      "128/128 [==============================] - 0s 25us/step\n",
      "64/64 [==============================] - 0s 41us/step\n",
      "64/64 [==============================] - 0s 31us/step\n",
      "128/128 [==============================] - 0s 33us/step\n",
      "64/64 [==============================] - 0s 43us/step\n",
      "64/64 [==============================] - 0s 28us/step\n"
     ]
    },
    {
     "name": "stderr",
     "output_type": "stream",
     "text": [
      "\r",
      " 15%|█▌        | 151/1000 [00:04<00:28, 30.29it/s]"
     ]
    },
    {
     "name": "stdout",
     "output_type": "stream",
     "text": [
      "128/128 [==============================] - 0s 33us/step\n",
      "64/64 [==============================] - 0s 31us/step\n",
      "64/64 [==============================] - 0s 33us/step\n",
      "128/128 [==============================] - 0s 32us/step\n",
      "64/64 [==============================] - 0s 36us/step\n",
      "64/64 [==============================] - 0s 60us/step\n",
      "128/128 [==============================] - 0s 27us/step\n",
      "64/64 [==============================] - 0s 44us/step\n",
      "64/64 [==============================] - 0s 52us/step\n",
      "128/128 [==============================] - 0s 35us/step\n",
      "64/64 [==============================] - 0s 33us/step\n",
      "64/64 [==============================] - 0s 35us/step\n",
      "128/128 [==============================] - 0s 23us/step\n",
      "64/64 [==============================] - 0s 28us/step\n",
      "64/64 [==============================] - 0s 30us/step\n"
     ]
    },
    {
     "name": "stderr",
     "output_type": "stream",
     "text": [
      "\r",
      " 16%|█▌        | 156/1000 [00:05<00:27, 30.66it/s]"
     ]
    },
    {
     "name": "stdout",
     "output_type": "stream",
     "text": [
      "128/128 [==============================] - 0s 35us/step\n",
      "64/64 [==============================] - 0s 39us/step\n",
      "64/64 [==============================] - 0s 62us/step\n",
      "128/128 [==============================] - 0s 31us/step\n",
      "64/64 [==============================] - 0s 66us/step\n",
      "64/64 [==============================] - 0s 46us/step\n",
      "128/128 [==============================] - 0s 31us/step\n",
      "64/64 [==============================] - 0s 30us/step\n",
      "64/64 [==============================] - 0s 32us/step\n",
      "128/128 [==============================] - 0s 32us/step\n",
      "64/64 [==============================] - 0s 41us/step\n",
      "64/64 [==============================] - 0s 58us/step\n",
      "128/128 [==============================] - 0s 48us/step\n",
      "64/64 [==============================] - 0s 38us/step\n",
      "64/64 [==============================] - 0s 27us/step\n"
     ]
    },
    {
     "name": "stderr",
     "output_type": "stream",
     "text": [
      "\r",
      " 16%|█▌        | 161/1000 [00:05<00:27, 30.94it/s]"
     ]
    },
    {
     "name": "stdout",
     "output_type": "stream",
     "text": [
      "128/128 [==============================] - 0s 27us/step\n",
      "64/64 [==============================] - 0s 42us/step\n",
      "64/64 [==============================] - 0s 58us/step\n",
      "128/128 [==============================] - 0s 22us/step\n",
      "64/64 [==============================] - 0s 34us/step\n",
      "64/64 [==============================] - 0s 26us/step\n",
      "128/128 [==============================] - 0s 33us/step\n",
      "64/64 [==============================] - 0s 57us/step\n",
      "64/64 [==============================] - 0s 36us/step\n",
      "128/128 [==============================] - 0s 31us/step\n",
      "64/64 [==============================] - 0s 47us/step\n",
      "64/64 [==============================] - 0s 30us/step\n",
      "128/128 [==============================] - 0s 35us/step\n",
      "64/64 [==============================] - 0s 36us/step\n",
      "64/64 [==============================] - 0s 42us/step\n"
     ]
    },
    {
     "name": "stderr",
     "output_type": "stream",
     "text": [
      "\r",
      " 17%|█▋        | 166/1000 [00:05<00:26, 31.25it/s]"
     ]
    },
    {
     "name": "stdout",
     "output_type": "stream",
     "text": [
      "128/128 [==============================] - 0s 25us/step\n",
      "64/64 [==============================] - 0s 28us/step\n",
      "64/64 [==============================] - 0s 32us/step\n",
      "128/128 [==============================] - 0s 23us/step\n",
      "64/64 [==============================] - 0s 45us/step\n",
      "64/64 [==============================] - 0s 31us/step\n",
      "128/128 [==============================] - 0s 23us/step\n",
      "64/64 [==============================] - 0s 27us/step\n",
      "64/64 [==============================] - 0s 62us/step\n",
      "128/128 [==============================] - 0s 29us/step\n",
      "64/64 [==============================] - 0s 39us/step\n",
      "64/64 [==============================] - 0s 28us/step\n",
      "128/128 [==============================] - 0s 26us/step\n",
      "64/64 [==============================] - 0s 31us/step\n",
      "64/64 [==============================] - 0s 27us/step\n",
      "128/128 [==============================] - 0s 24us/step\n",
      "64/64 [==============================] - 0s 31us/step\n",
      "64/64 [==============================] - 0s 53us/step\n"
     ]
    },
    {
     "name": "stderr",
     "output_type": "stream",
     "text": [
      "\r",
      " 17%|█▋        | 172/1000 [00:05<00:26, 31.68it/s]"
     ]
    },
    {
     "name": "stdout",
     "output_type": "stream",
     "text": [
      "128/128 [==============================] - 0s 58us/step\n",
      "64/64 [==============================] - 0s 36us/step\n",
      "64/64 [==============================] - 0s 41us/step\n",
      "128/128 [==============================] - 0s 24us/step\n",
      "64/64 [==============================] - 0s 39us/step\n",
      "64/64 [==============================] - 0s 42us/step\n",
      "128/128 [==============================] - 0s 30us/step\n",
      "64/64 [==============================] - 0s 27us/step\n",
      "64/64 [==============================] - 0s 100us/step\n",
      "128/128 [==============================] - 0s 41us/step\n",
      "64/64 [==============================] - 0s 60us/step\n",
      "64/64 [==============================] - 0s 28us/step\n",
      "128/128 [==============================] - 0s 32us/step\n",
      "64/64 [==============================] - 0s 42us/step\n",
      "64/64 [==============================] - 0s 37us/step\n"
     ]
    },
    {
     "name": "stderr",
     "output_type": "stream",
     "text": [
      "\r",
      " 18%|█▊        | 177/1000 [00:05<00:25, 31.94it/s]"
     ]
    },
    {
     "name": "stdout",
     "output_type": "stream",
     "text": [
      "128/128 [==============================] - 0s 31us/step\n",
      "64/64 [==============================] - 0s 44us/step\n",
      "64/64 [==============================] - 0s 45us/step\n",
      "128/128 [==============================] - 0s 64us/step\n",
      "64/64 [==============================] - 0s 31us/step\n",
      "64/64 [==============================] - 0s 34us/step\n",
      "128/128 [==============================] - 0s 24us/step\n",
      "64/64 [==============================] - 0s 40us/step\n",
      "64/64 [==============================] - 0s 44us/step\n",
      "128/128 [==============================] - 0s 26us/step\n",
      "64/64 [==============================] - 0s 48us/step\n",
      "64/64 [==============================] - 0s 55us/step\n",
      "128/128 [==============================] - 0s 23us/step\n",
      "64/64 [==============================] - 0s 51us/step\n",
      "64/64 [==============================] - 0s 62us/step\n"
     ]
    },
    {
     "name": "stderr",
     "output_type": "stream",
     "text": [
      "\r",
      " 18%|█▊        | 182/1000 [00:05<00:25, 32.20it/s]"
     ]
    },
    {
     "name": "stdout",
     "output_type": "stream",
     "text": [
      "128/128 [==============================] - 0s 26us/step\n",
      "64/64 [==============================] - 0s 34us/step\n",
      "64/64 [==============================] - 0s 34us/step\n",
      "128/128 [==============================] - 0s 35us/step\n",
      "64/64 [==============================] - 0s 26us/step\n",
      "64/64 [==============================] - 0s 104us/step\n",
      "128/128 [==============================] - 0s 27us/step\n",
      "64/64 [==============================] - 0s 30us/step\n",
      "64/64 [==============================] - 0s 46us/step\n",
      "128/128 [==============================] - 0s 27us/step\n",
      "64/64 [==============================] - 0s 31us/step\n",
      "64/64 [==============================] - 0s 40us/step\n",
      "128/128 [==============================] - 0s 31us/step\n",
      "64/64 [==============================] - 0s 26us/step\n",
      "64/64 [==============================] - 0s 48us/step\n"
     ]
    },
    {
     "name": "stderr",
     "output_type": "stream",
     "text": [
      "\r",
      " 19%|█▊        | 187/1000 [00:05<00:25, 32.46it/s]"
     ]
    },
    {
     "name": "stdout",
     "output_type": "stream",
     "text": [
      "128/128 [==============================] - 0s 32us/step\n",
      "64/64 [==============================] - 0s 36us/step\n",
      "64/64 [==============================] - 0s 42us/step\n",
      "128/128 [==============================] - 0s 24us/step\n",
      "64/64 [==============================] - 0s 34us/step\n",
      "64/64 [==============================] - 0s 49us/step\n",
      "128/128 [==============================] - 0s 36us/step\n",
      "64/64 [==============================] - 0s 26us/step\n",
      "64/64 [==============================] - 0s 104us/step\n",
      "128/128 [==============================] - 0s 48us/step\n",
      "64/64 [==============================] - 0s 31us/step\n",
      "64/64 [==============================] - 0s 61us/step\n",
      "128/128 [==============================] - 0s 24us/step\n",
      "64/64 [==============================] - 0s 34us/step\n",
      "64/64 [==============================] - 0s 27us/step\n"
     ]
    },
    {
     "name": "stderr",
     "output_type": "stream",
     "text": [
      "\r",
      " 19%|█▉        | 192/1000 [00:05<00:24, 32.69it/s]"
     ]
    },
    {
     "name": "stdout",
     "output_type": "stream",
     "text": [
      "128/128 [==============================] - 0s 34us/step\n",
      "64/64 [==============================] - 0s 32us/step\n",
      "64/64 [==============================] - 0s 46us/step\n",
      "128/128 [==============================] - 0s 32us/step\n",
      "64/64 [==============================] - 0s 50us/step\n",
      "64/64 [==============================] - 0s 46us/step\n",
      "128/128 [==============================] - 0s 33us/step\n",
      "64/64 [==============================] - 0s 44us/step\n",
      "64/64 [==============================] - 0s 55us/step\n",
      "128/128 [==============================] - 0s 26us/step\n",
      "64/64 [==============================] - 0s 26us/step\n",
      "64/64 [==============================] - 0s 81us/step\n",
      "128/128 [==============================] - 0s 29us/step\n",
      "64/64 [==============================] - 0s 38us/step\n",
      "64/64 [==============================] - 0s 47us/step\n"
     ]
    },
    {
     "name": "stderr",
     "output_type": "stream",
     "text": [
      "\r",
      " 20%|█▉        | 197/1000 [00:05<00:24, 32.91it/s]"
     ]
    },
    {
     "name": "stdout",
     "output_type": "stream",
     "text": [
      "128/128 [==============================] - 0s 33us/step\n",
      "64/64 [==============================] - 0s 33us/step\n",
      "64/64 [==============================] - 0s 50us/step\n",
      "128/128 [==============================] - 0s 26us/step\n",
      "64/64 [==============================] - 0s 61us/step\n",
      "64/64 [==============================] - 0s 34us/step\n",
      "128/128 [==============================] - 0s 42us/step\n",
      "64/64 [==============================] - 0s 36us/step\n",
      "64/64 [==============================] - 0s 50us/step\n",
      "128/128 [==============================] - 0s 25us/step\n",
      "64/64 [==============================] - 0s 44us/step\n",
      "64/64 [==============================] - 0s 56us/step\n",
      "128/128 [==============================] - 0s 24us/step\n",
      "64/64 [==============================] - 0s 67us/step\n",
      "64/64 [==============================] - 0s 36us/step\n"
     ]
    },
    {
     "name": "stderr",
     "output_type": "stream",
     "text": [
      "\r",
      " 20%|██        | 202/1000 [00:06<00:24, 33.12it/s]"
     ]
    },
    {
     "name": "stdout",
     "output_type": "stream",
     "text": [
      "128/128 [==============================] - 0s 25us/step\n",
      "64/64 [==============================] - 0s 48us/step\n",
      "64/64 [==============================] - 0s 57us/step\n",
      "128/128 [==============================] - 0s 34us/step\n",
      "64/64 [==============================] - 0s 42us/step\n",
      "64/64 [==============================] - 0s 104us/step\n",
      "128/128 [==============================] - 0s 35us/step\n",
      "64/64 [==============================] - 0s 43us/step\n",
      "64/64 [==============================] - 0s 43us/step\n",
      "128/128 [==============================] - 0s 32us/step\n",
      "64/64 [==============================] - 0s 63us/step\n",
      "64/64 [==============================] - 0s 49us/step\n",
      "128/128 [==============================] - 0s 29us/step\n",
      "64/64 [==============================] - 0s 53us/step\n",
      "64/64 [==============================] - 0s 29us/step\n"
     ]
    },
    {
     "name": "stderr",
     "output_type": "stream",
     "text": [
      "\r",
      " 21%|██        | 207/1000 [00:06<00:23, 33.27it/s]"
     ]
    },
    {
     "name": "stdout",
     "output_type": "stream",
     "text": [
      "128/128 [==============================] - 0s 24us/step\n",
      "64/64 [==============================] - 0s 46us/step\n",
      "64/64 [==============================] - 0s 63us/step\n",
      "128/128 [==============================] - 0s 27us/step\n",
      "64/64 [==============================] - 0s 47us/step\n",
      "64/64 [==============================] - 0s 40us/step\n",
      "128/128 [==============================] - 0s 24us/step\n",
      "64/64 [==============================] - 0s 43us/step\n",
      "64/64 [==============================] - 0s 41us/step\n",
      "128/128 [==============================] - 0s 35us/step\n",
      "64/64 [==============================] - 0s 50us/step\n",
      "64/64 [==============================] - 0s 45us/step\n",
      "128/128 [==============================] - 0s 28us/step\n",
      "64/64 [==============================] - 0s 60us/step\n",
      "64/64 [==============================] - 0s 46us/step\n"
     ]
    },
    {
     "name": "stderr",
     "output_type": "stream",
     "text": [
      "\r",
      " 21%|██        | 212/1000 [00:06<00:23, 33.44it/s]"
     ]
    },
    {
     "name": "stdout",
     "output_type": "stream",
     "text": [
      "128/128 [==============================] - 0s 23us/step\n",
      "64/64 [==============================] - 0s 56us/step\n",
      "64/64 [==============================] - 0s 39us/step\n",
      "128/128 [==============================] - 0s 23us/step\n",
      "64/64 [==============================] - 0s 53us/step\n",
      "64/64 [==============================] - 0s 46us/step\n",
      "128/128 [==============================] - 0s 36us/step\n",
      "64/64 [==============================] - 0s 30us/step\n",
      "64/64 [==============================] - 0s 43us/step\n",
      "128/128 [==============================] - 0s 33us/step\n",
      "64/64 [==============================] - 0s 28us/step\n",
      "64/64 [==============================] - 0s 56us/step\n",
      "128/128 [==============================] - 0s 37us/step\n",
      "64/64 [==============================] - 0s 56us/step\n",
      "64/64 [==============================] - 0s 43us/step\n"
     ]
    },
    {
     "name": "stderr",
     "output_type": "stream",
     "text": [
      "\r",
      " 22%|██▏       | 217/1000 [00:06<00:23, 33.63it/s]"
     ]
    },
    {
     "name": "stdout",
     "output_type": "stream",
     "text": [
      "128/128 [==============================] - 0s 25us/step\n",
      "64/64 [==============================] - 0s 40us/step\n",
      "64/64 [==============================] - 0s 28us/step\n",
      "128/128 [==============================] - 0s 29us/step\n",
      "64/64 [==============================] - 0s 33us/step\n",
      "64/64 [==============================] - 0s 37us/step\n",
      "128/128 [==============================] - 0s 26us/step\n",
      "64/64 [==============================] - 0s 40us/step\n",
      "64/64 [==============================] - 0s 47us/step\n",
      "128/128 [==============================] - 0s 35us/step\n",
      "64/64 [==============================] - 0s 30us/step\n",
      "64/64 [==============================] - 0s 36us/step\n",
      "128/128 [==============================] - 0s 35us/step\n",
      "64/64 [==============================] - 0s 26us/step\n",
      "64/64 [==============================] - 0s 35us/step\n"
     ]
    },
    {
     "name": "stderr",
     "output_type": "stream",
     "text": [
      "\r",
      " 22%|██▏       | 222/1000 [00:06<00:22, 33.84it/s]"
     ]
    },
    {
     "name": "stdout",
     "output_type": "stream",
     "text": [
      "128/128 [==============================] - 0s 32us/step\n",
      "64/64 [==============================] - 0s 58us/step\n",
      "64/64 [==============================] - 0s 49us/step\n",
      "128/128 [==============================] - 0s 33us/step\n",
      "64/64 [==============================] - 0s 35us/step\n",
      "64/64 [==============================] - 0s 81us/step\n",
      "128/128 [==============================] - 0s 24us/step\n",
      "64/64 [==============================] - 0s 35us/step\n",
      "64/64 [==============================] - 0s 50us/step\n",
      "128/128 [==============================] - 0s 34us/step\n",
      "64/64 [==============================] - 0s 57us/step\n",
      "64/64 [==============================] - 0s 35us/step\n",
      "128/128 [==============================] - 0s 23us/step\n",
      "64/64 [==============================] - 0s 51us/step\n",
      "64/64 [==============================] - 0s 57us/step\n"
     ]
    },
    {
     "name": "stderr",
     "output_type": "stream",
     "text": [
      "\r",
      " 23%|██▎       | 227/1000 [00:06<00:22, 33.99it/s]"
     ]
    },
    {
     "name": "stdout",
     "output_type": "stream",
     "text": [
      "128/128 [==============================] - 0s 24us/step\n",
      "64/64 [==============================] - 0s 63us/step\n",
      "64/64 [==============================] - 0s 61us/step\n",
      "128/128 [==============================] - 0s 31us/step\n",
      "64/64 [==============================] - 0s 47us/step\n",
      "64/64 [==============================] - 0s 44us/step\n",
      "128/128 [==============================] - 0s 26us/step\n",
      "64/64 [==============================] - 0s 37us/step\n",
      "64/64 [==============================] - 0s 57us/step\n",
      "128/128 [==============================] - 0s 31us/step\n",
      "64/64 [==============================] - 0s 37us/step\n",
      "64/64 [==============================] - 0s 46us/step\n",
      "128/128 [==============================] - 0s 31us/step\n",
      "64/64 [==============================] - 0s 32us/step\n",
      "64/64 [==============================] - 0s 25us/step\n"
     ]
    },
    {
     "name": "stderr",
     "output_type": "stream",
     "text": [
      "\r",
      " 23%|██▎       | 232/1000 [00:06<00:22, 34.17it/s]"
     ]
    },
    {
     "name": "stdout",
     "output_type": "stream",
     "text": [
      "128/128 [==============================] - 0s 20us/step\n",
      "64/64 [==============================] - 0s 27us/step\n",
      "64/64 [==============================] - 0s 33us/step\n",
      "128/128 [==============================] - 0s 20us/step\n",
      "64/64 [==============================] - 0s 30us/step\n",
      "64/64 [==============================] - 0s 30us/step\n",
      "128/128 [==============================] - 0s 25us/step\n",
      "64/64 [==============================] - 0s 32us/step\n",
      "64/64 [==============================] - 0s 24us/step\n",
      "128/128 [==============================] - 0s 24us/step\n",
      "64/64 [==============================] - 0s 44us/step\n",
      "64/64 [==============================] - 0s 24us/step\n",
      "128/128 [==============================] - 0s 26us/step\n",
      "64/64 [==============================] - 0s 28us/step\n",
      "64/64 [==============================] - 0s 31us/step\n",
      "128/128 [==============================] - 0s 26us/step\n",
      "64/64 [==============================] - 0s 28us/step\n",
      "64/64 [==============================] - 0s 25us/step\n"
     ]
    },
    {
     "name": "stderr",
     "output_type": "stream",
     "text": [
      "\r",
      " 24%|██▍       | 238/1000 [00:06<00:22, 34.46it/s]"
     ]
    },
    {
     "name": "stdout",
     "output_type": "stream",
     "text": [
      "128/128 [==============================] - 0s 25us/step\n",
      "64/64 [==============================] - 0s 50us/step\n",
      "64/64 [==============================] - 0s 31us/step\n",
      "128/128 [==============================] - 0s 21us/step\n",
      "64/64 [==============================] - 0s 60us/step\n",
      "64/64 [==============================] - 0s 28us/step\n",
      "128/128 [==============================] - 0s 28us/step\n",
      "64/64 [==============================] - 0s 25us/step\n",
      "64/64 [==============================] - 0s 26us/step\n",
      "128/128 [==============================] - 0s 24us/step\n",
      "64/64 [==============================] - 0s 26us/step\n",
      "64/64 [==============================] - 0s 31us/step\n",
      "128/128 [==============================] - 0s 25us/step\n",
      "64/64 [==============================] - 0s 41us/step\n",
      "64/64 [==============================] - 0s 50us/step\n"
     ]
    },
    {
     "name": "stderr",
     "output_type": "stream",
     "text": [
      "\r",
      " 24%|██▍       | 243/1000 [00:07<00:21, 34.65it/s]"
     ]
    },
    {
     "name": "stdout",
     "output_type": "stream",
     "text": [
      "128/128 [==============================] - 0s 29us/step\n",
      "64/64 [==============================] - 0s 46us/step\n",
      "64/64 [==============================] - 0s 32us/step\n",
      "128/128 [==============================] - 0s 25us/step\n",
      "64/64 [==============================] - 0s 78us/step\n",
      "64/64 [==============================] - 0s 36us/step\n",
      "128/128 [==============================] - 0s 45us/step\n",
      "64/64 [==============================] - 0s 42us/step\n",
      "64/64 [==============================] - 0s 33us/step\n",
      "128/128 [==============================] - 0s 29us/step\n",
      "64/64 [==============================] - 0s 27us/step\n",
      "64/64 [==============================] - 0s 32us/step\n",
      "128/128 [==============================] - 0s 32us/step\n",
      "64/64 [==============================] - 0s 52us/step\n",
      "64/64 [==============================] - 0s 31us/step\n"
     ]
    },
    {
     "name": "stderr",
     "output_type": "stream",
     "text": [
      "\r",
      " 25%|██▍       | 248/1000 [00:07<00:21, 34.77it/s]"
     ]
    },
    {
     "name": "stdout",
     "output_type": "stream",
     "text": [
      "128/128 [==============================] - 0s 30us/step\n",
      "64/64 [==============================] - 0s 64us/step\n",
      "64/64 [==============================] - 0s 28us/step\n",
      "128/128 [==============================] - 0s 36us/step\n",
      "64/64 [==============================] - 0s 27us/step\n",
      "64/64 [==============================] - 0s 39us/step\n",
      "128/128 [==============================] - 0s 36us/step\n",
      "64/64 [==============================] - 0s 46us/step\n",
      "64/64 [==============================] - 0s 39us/step\n",
      "128/128 [==============================] - 0s 32us/step\n",
      "64/64 [==============================] - 0s 34us/step\n",
      "64/64 [==============================] - 0s 42us/step\n",
      "128/128 [==============================] - 0s 30us/step\n",
      "64/64 [==============================] - 0s 26us/step\n",
      "64/64 [==============================] - 0s 84us/step\n"
     ]
    },
    {
     "name": "stderr",
     "output_type": "stream",
     "text": [
      "\r",
      " 25%|██▌       | 253/1000 [00:07<00:21, 34.90it/s]"
     ]
    },
    {
     "name": "stdout",
     "output_type": "stream",
     "text": [
      "128/128 [==============================] - 0s 27us/step\n",
      "64/64 [==============================] - 0s 34us/step\n",
      "64/64 [==============================] - 0s 31us/step\n",
      "128/128 [==============================] - 0s 29us/step\n",
      "64/64 [==============================] - 0s 47us/step\n",
      "64/64 [==============================] - 0s 43us/step\n",
      "128/128 [==============================] - 0s 25us/step\n",
      "64/64 [==============================] - 0s 44us/step\n",
      "64/64 [==============================] - 0s 36us/step\n",
      "128/128 [==============================] - 0s 22us/step\n",
      "64/64 [==============================] - 0s 74us/step\n",
      "64/64 [==============================] - 0s 47us/step\n",
      "128/128 [==============================] - 0s 32us/step\n",
      "64/64 [==============================] - 0s 58us/step\n",
      "64/64 [==============================] - 0s 31us/step\n"
     ]
    },
    {
     "name": "stderr",
     "output_type": "stream",
     "text": [
      "\r",
      " 26%|██▌       | 258/1000 [00:07<00:21, 35.08it/s]"
     ]
    },
    {
     "name": "stdout",
     "output_type": "stream",
     "text": [
      "128/128 [==============================] - 0s 26us/step\n",
      "64/64 [==============================] - 0s 28us/step\n",
      "64/64 [==============================] - 0s 41us/step\n",
      "128/128 [==============================] - 0s 31us/step\n",
      "64/64 [==============================] - 0s 116us/step\n",
      "64/64 [==============================] - 0s 40us/step\n",
      "128/128 [==============================] - 0s 39us/step\n",
      "64/64 [==============================] - 0s 41us/step\n",
      "64/64 [==============================] - 0s 27us/step\n",
      "128/128 [==============================] - 0s 32us/step\n",
      "64/64 [==============================] - 0s 26us/step\n",
      "64/64 [==============================] - 0s 57us/step\n",
      "128/128 [==============================] - 0s 38us/step\n",
      "64/64 [==============================] - 0s 34us/step\n",
      "64/64 [==============================] - 0s 34us/step\n"
     ]
    },
    {
     "name": "stderr",
     "output_type": "stream",
     "text": [
      "\r",
      " 26%|██▋       | 263/1000 [00:07<00:20, 35.21it/s]"
     ]
    },
    {
     "name": "stdout",
     "output_type": "stream",
     "text": [
      "128/128 [==============================] - 0s 36us/step\n",
      "64/64 [==============================] - 0s 31us/step\n",
      "64/64 [==============================] - 0s 26us/step\n",
      "128/128 [==============================] - 0s 30us/step\n",
      "64/64 [==============================] - 0s 36us/step\n",
      "64/64 [==============================] - 0s 67us/step\n",
      "128/128 [==============================] - 0s 23us/step\n",
      "64/64 [==============================] - 0s 71us/step\n",
      "64/64 [==============================] - 0s 34us/step\n",
      "128/128 [==============================] - 0s 31us/step\n",
      "64/64 [==============================] - 0s 45us/step\n",
      "64/64 [==============================] - 0s 44us/step\n",
      "128/128 [==============================] - 0s 22us/step\n",
      "64/64 [==============================] - 0s 40us/step\n",
      "64/64 [==============================] - 0s 50us/step\n"
     ]
    },
    {
     "name": "stderr",
     "output_type": "stream",
     "text": [
      "\r",
      " 27%|██▋       | 268/1000 [00:07<00:20, 35.36it/s]"
     ]
    },
    {
     "name": "stdout",
     "output_type": "stream",
     "text": [
      "128/128 [==============================] - 0s 51us/step\n",
      "64/64 [==============================] - 0s 35us/step\n",
      "64/64 [==============================] - 0s 35us/step\n",
      "128/128 [==============================] - 0s 28us/step\n",
      "64/64 [==============================] - 0s 62us/step\n",
      "64/64 [==============================] - 0s 28us/step\n",
      "128/128 [==============================] - 0s 30us/step\n",
      "64/64 [==============================] - 0s 37us/step\n",
      "64/64 [==============================] - 0s 51us/step\n",
      "128/128 [==============================] - 0s 23us/step\n",
      "64/64 [==============================] - 0s 52us/step\n",
      "64/64 [==============================] - 0s 36us/step\n",
      "128/128 [==============================] - 0s 28us/step\n",
      "64/64 [==============================] - 0s 53us/step\n",
      "64/64 [==============================] - 0s 35us/step\n"
     ]
    },
    {
     "name": "stderr",
     "output_type": "stream",
     "text": [
      "\r",
      " 27%|██▋       | 273/1000 [00:07<00:20, 35.51it/s]"
     ]
    },
    {
     "name": "stdout",
     "output_type": "stream",
     "text": [
      "128/128 [==============================] - 0s 35us/step\n",
      "64/64 [==============================] - 0s 28us/step\n",
      "64/64 [==============================] - 0s 42us/step\n",
      "128/128 [==============================] - 0s 23us/step\n",
      "64/64 [==============================] - 0s 29us/step\n",
      "64/64 [==============================] - 0s 60us/step\n",
      "128/128 [==============================] - 0s 25us/step\n",
      "64/64 [==============================] - 0s 69us/step\n",
      "64/64 [==============================] - 0s 34us/step\n",
      "128/128 [==============================] - 0s 27us/step\n",
      "64/64 [==============================] - 0s 52us/step\n",
      "64/64 [==============================] - 0s 39us/step\n",
      "128/128 [==============================] - 0s 30us/step\n",
      "64/64 [==============================] - 0s 27us/step\n",
      "64/64 [==============================] - 0s 35us/step\n"
     ]
    },
    {
     "name": "stderr",
     "output_type": "stream",
     "text": [
      "\r",
      " 28%|██▊       | 278/1000 [00:07<00:20, 35.65it/s]"
     ]
    },
    {
     "name": "stdout",
     "output_type": "stream",
     "text": [
      "128/128 [==============================] - 0s 32us/step\n",
      "64/64 [==============================] - 0s 34us/step\n",
      "64/64 [==============================] - 0s 35us/step\n",
      "128/128 [==============================] - 0s 34us/step\n",
      "64/64 [==============================] - 0s 53us/step\n",
      "64/64 [==============================] - 0s 31us/step\n",
      "128/128 [==============================] - 0s 33us/step\n",
      "64/64 [==============================] - 0s 29us/step\n",
      "64/64 [==============================] - 0s 77us/step\n",
      "128/128 [==============================] - 0s 25us/step\n",
      "64/64 [==============================] - 0s 48us/step\n",
      "64/64 [==============================] - 0s 50us/step\n",
      "128/128 [==============================] - 0s 33us/step\n",
      "64/64 [==============================] - 0s 28us/step\n",
      "64/64 [==============================] - 0s 30us/step\n"
     ]
    },
    {
     "name": "stderr",
     "output_type": "stream",
     "text": [
      "\r",
      " 28%|██▊       | 283/1000 [00:07<00:20, 35.79it/s]"
     ]
    },
    {
     "name": "stdout",
     "output_type": "stream",
     "text": [
      "128/128 [==============================] - 0s 31us/step\n",
      "64/64 [==============================] - 0s 41us/step\n",
      "64/64 [==============================] - 0s 33us/step\n",
      "128/128 [==============================] - 0s 35us/step\n",
      "64/64 [==============================] - 0s 58us/step\n",
      "64/64 [==============================] - 0s 31us/step\n",
      "128/128 [==============================] - 0s 29us/step\n",
      "64/64 [==============================] - 0s 35us/step\n",
      "64/64 [==============================] - 0s 37us/step\n",
      "128/128 [==============================] - 0s 34us/step\n",
      "64/64 [==============================] - 0s 40us/step\n",
      "64/64 [==============================] - 0s 68us/step\n",
      "128/128 [==============================] - 0s 31us/step\n",
      "64/64 [==============================] - 0s 65us/step\n",
      "64/64 [==============================] - 0s 51us/step\n"
     ]
    },
    {
     "name": "stderr",
     "output_type": "stream",
     "text": [
      "\r",
      " 29%|██▉       | 288/1000 [00:08<00:19, 35.92it/s]"
     ]
    },
    {
     "name": "stdout",
     "output_type": "stream",
     "text": [
      "128/128 [==============================] - 0s 28us/step\n",
      "64/64 [==============================] - 0s 33us/step\n",
      "64/64 [==============================] - 0s 42us/step\n",
      "128/128 [==============================] - 0s 26us/step\n",
      "64/64 [==============================] - 0s 45us/step\n",
      "64/64 [==============================] - 0s 31us/step\n",
      "128/128 [==============================] - 0s 26us/step\n",
      "64/64 [==============================] - 0s 28us/step\n",
      "64/64 [==============================] - 0s 53us/step\n",
      "128/128 [==============================] - 0s 35us/step\n",
      "64/64 [==============================] - 0s 46us/step\n",
      "64/64 [==============================] - 0s 32us/step\n",
      "128/128 [==============================] - 0s 33us/step\n",
      "64/64 [==============================] - 0s 61us/step\n",
      "64/64 [==============================] - 0s 58us/step\n"
     ]
    },
    {
     "name": "stderr",
     "output_type": "stream",
     "text": [
      "\r",
      " 29%|██▉       | 293/1000 [00:08<00:19, 36.04it/s]"
     ]
    },
    {
     "name": "stdout",
     "output_type": "stream",
     "text": [
      "128/128 [==============================] - 0s 22us/step\n",
      "64/64 [==============================] - 0s 44us/step\n",
      "64/64 [==============================] - 0s 40us/step\n",
      "128/128 [==============================] - 0s 25us/step\n",
      "64/64 [==============================] - 0s 34us/step\n",
      "64/64 [==============================] - 0s 44us/step\n",
      "128/128 [==============================] - 0s 27us/step\n",
      "64/64 [==============================] - 0s 47us/step\n",
      "64/64 [==============================] - 0s 34us/step\n",
      "128/128 [==============================] - 0s 39us/step\n",
      "64/64 [==============================] - 0s 32us/step\n",
      "64/64 [==============================] - 0s 42us/step\n",
      "128/128 [==============================] - 0s 24us/step\n",
      "64/64 [==============================] - 0s 47us/step\n",
      "64/64 [==============================] - 0s 46us/step\n"
     ]
    },
    {
     "name": "stderr",
     "output_type": "stream",
     "text": [
      "\r",
      " 30%|██▉       | 298/1000 [00:08<00:19, 36.17it/s]"
     ]
    },
    {
     "name": "stdout",
     "output_type": "stream",
     "text": [
      "128/128 [==============================] - ETA:  - 0s 24us/step\n",
      "64/64 [==============================] - 0s 59us/step\n",
      "64/64 [==============================] - 0s 43us/step\n",
      "128/128 [==============================] - 0s 25us/step\n",
      "64/64 [==============================] - 0s 37us/step\n",
      "64/64 [==============================] - 0s 63us/step\n",
      "128/128 [==============================] - 0s 28us/step\n",
      "64/64 [==============================] - 0s 38us/step\n",
      "64/64 [==============================] - 0s 37us/step\n",
      "128/128 [==============================] - 0s 26us/step\n",
      "64/64 [==============================] - 0s 42us/step\n",
      "64/64 [==============================] - 0s 56us/step\n",
      "128/128 [==============================] - 0s 41us/step\n",
      "64/64 [==============================] - 0s 47us/step\n",
      "64/64 [==============================] - 0s 32us/step\n"
     ]
    },
    {
     "name": "stderr",
     "output_type": "stream",
     "text": [
      "\r",
      " 30%|███       | 303/1000 [00:08<00:19, 36.27it/s]"
     ]
    },
    {
     "name": "stdout",
     "output_type": "stream",
     "text": [
      "128/128 [==============================] - 0s 32us/step\n",
      "64/64 [==============================] - 0s 29us/step\n",
      "64/64 [==============================] - 0s 30us/step\n",
      "128/128 [==============================] - 0s 35us/step\n",
      "64/64 [==============================] - 0s 35us/step\n",
      "64/64 [==============================] - 0s 51us/step\n",
      "128/128 [==============================] - 0s 39us/step\n",
      "64/64 [==============================] - 0s 52us/step\n",
      "64/64 [==============================] - 0s 49us/step\n",
      "128/128 [==============================] - 0s 27us/step\n",
      "64/64 [==============================] - 0s 28us/step\n",
      "64/64 [==============================] - 0s 41us/step\n",
      "128/128 [==============================] - 0s 33us/step\n",
      "64/64 [==============================] - 0s 75us/step\n",
      "64/64 [==============================] - 0s 57us/step\n"
     ]
    },
    {
     "name": "stderr",
     "output_type": "stream",
     "text": [
      "\r",
      " 31%|███       | 308/1000 [00:08<00:19, 36.37it/s]"
     ]
    },
    {
     "name": "stdout",
     "output_type": "stream",
     "text": [
      "128/128 [==============================] - 0s 24us/step\n",
      "64/64 [==============================] - 0s 61us/step\n",
      "64/64 [==============================] - 0s 44us/step\n",
      "128/128 [==============================] - 0s 22us/step\n",
      "64/64 [==============================] - 0s 41us/step\n",
      "64/64 [==============================] - 0s 51us/step\n",
      "128/128 [==============================] - 0s 27us/step\n",
      "64/64 [==============================] - 0s 36us/step\n",
      "64/64 [==============================] - 0s 33us/step\n",
      "128/128 [==============================] - 0s 31us/step\n",
      "64/64 [==============================] - 0s 39us/step\n",
      "64/64 [==============================] - 0s 36us/step\n",
      "128/128 [==============================] - 0s 23us/step\n",
      "64/64 [==============================] - 0s 37us/step\n",
      "64/64 [==============================] - 0s 133us/step\n"
     ]
    },
    {
     "name": "stderr",
     "output_type": "stream",
     "text": [
      "\r",
      " 31%|███▏      | 313/1000 [00:08<00:18, 36.46it/s]"
     ]
    },
    {
     "name": "stdout",
     "output_type": "stream",
     "text": [
      "128/128 [==============================] - 0s 26us/step\n",
      "64/64 [==============================] - 0s 33us/step\n",
      "64/64 [==============================] - 0s 48us/step\n",
      "128/128 [==============================] - 0s 23us/step\n",
      "64/64 [==============================] - 0s 42us/step\n",
      "64/64 [==============================] - 0s 59us/step\n",
      "128/128 [==============================] - 0s 24us/step\n",
      "64/64 [==============================] - 0s 68us/step\n",
      "64/64 [==============================] - 0s 51us/step\n",
      "128/128 [==============================] - 0s 29us/step\n",
      "64/64 [==============================] - 0s 36us/step\n",
      "64/64 [==============================] - 0s 43us/step\n",
      "128/128 [==============================] - 0s 34us/step\n",
      "64/64 [==============================] - 0s 34us/step\n",
      "64/64 [==============================] - 0s 43us/step\n"
     ]
    },
    {
     "name": "stderr",
     "output_type": "stream",
     "text": [
      "\r",
      " 32%|███▏      | 318/1000 [00:08<00:18, 36.58it/s]"
     ]
    },
    {
     "name": "stdout",
     "output_type": "stream",
     "text": [
      "128/128 [==============================] - 0s 25us/step\n",
      "64/64 [==============================] - 0s 57us/step\n",
      "64/64 [==============================] - 0s 52us/step\n",
      "128/128 [==============================] - 0s 33us/step\n",
      "64/64 [==============================] - 0s 51us/step\n",
      "64/64 [==============================] - 0s 38us/step\n",
      "128/128 [==============================] - 0s 26us/step\n",
      "64/64 [==============================] - 0s 46us/step\n",
      "64/64 [==============================] - 0s 47us/step\n",
      "128/128 [==============================] - 0s 24us/step\n",
      "64/64 [==============================] - 0s 44us/step\n",
      "64/64 [==============================] - 0s 48us/step\n",
      "128/128 [==============================] - 0s 27us/step\n",
      "64/64 [==============================] - 0s 35us/step\n",
      "64/64 [==============================] - 0s 45us/step\n"
     ]
    },
    {
     "name": "stderr",
     "output_type": "stream",
     "text": [
      "\r",
      " 32%|███▏      | 323/1000 [00:08<00:18, 36.68it/s]"
     ]
    },
    {
     "name": "stdout",
     "output_type": "stream",
     "text": [
      "128/128 [==============================] - 0s 30us/step\n",
      "64/64 [==============================] - 0s 33us/step\n",
      "64/64 [==============================] - 0s 41us/step\n",
      "128/128 [==============================] - 0s 25us/step\n",
      "64/64 [==============================] - 0s 48us/step\n",
      "64/64 [==============================] - 0s 32us/step\n",
      "128/128 [==============================] - 0s 41us/step\n",
      "64/64 [==============================] - 0s 32us/step\n",
      "64/64 [==============================] - 0s 43us/step\n",
      "128/128 [==============================] - 0s 34us/step\n",
      "64/64 [==============================] - 0s 29us/step\n",
      "64/64 [==============================] - 0s 43us/step\n",
      "128/128 [==============================] - 0s 28us/step\n",
      "64/64 [==============================] - 0s 31us/step\n",
      "64/64 [==============================] - 0s 43us/step\n"
     ]
    },
    {
     "name": "stderr",
     "output_type": "stream",
     "text": [
      "\r",
      " 33%|███▎      | 328/1000 [00:08<00:18, 36.81it/s]"
     ]
    },
    {
     "name": "stdout",
     "output_type": "stream",
     "text": [
      "128/128 [==============================] - 0s 22us/step\n",
      "64/64 [==============================] - 0s 34us/step\n",
      "64/64 [==============================] - 0s 53us/step\n",
      "128/128 [==============================] - 0s 28us/step\n",
      "64/64 [==============================] - 0s 36us/step\n",
      "64/64 [==============================] - 0s 34us/step\n",
      "128/128 [==============================] - 0s 26us/step\n",
      "64/64 [==============================] - 0s 45us/step\n",
      "64/64 [==============================] - 0s 29us/step\n",
      "128/128 [==============================] - 0s 25us/step\n",
      "64/64 [==============================] - 0s 38us/step\n",
      "64/64 [==============================] - 0s 29us/step\n",
      "128/128 [==============================] - 0s 30us/step\n",
      "64/64 [==============================] - 0s 29us/step\n",
      "64/64 [==============================] - 0s 40us/step\n"
     ]
    },
    {
     "name": "stderr",
     "output_type": "stream",
     "text": [
      "\r",
      " 33%|███▎      | 333/1000 [00:09<00:18, 36.95it/s]"
     ]
    },
    {
     "name": "stdout",
     "output_type": "stream",
     "text": [
      "128/128 [==============================] - 0s 32us/step\n",
      "64/64 [==============================] - 0s 44us/step\n",
      "64/64 [==============================] - 0s 45us/step\n",
      "128/128 [==============================] - 0s 24us/step\n",
      "64/64 [==============================] - 0s 33us/step\n",
      "64/64 [==============================] - 0s 31us/step\n",
      "128/128 [==============================] - 0s 25us/step\n",
      "64/64 [==============================] - 0s 32us/step\n",
      "64/64 [==============================] - 0s 45us/step\n",
      "128/128 [==============================] - 0s 27us/step\n",
      "64/64 [==============================] - 0s 47us/step\n",
      "64/64 [==============================] - 0s 49us/step\n",
      "128/128 [==============================] - 0s 23us/step\n",
      "64/64 [==============================] - 0s 45us/step\n",
      "64/64 [==============================] - 0s 26us/step\n"
     ]
    },
    {
     "name": "stderr",
     "output_type": "stream",
     "text": [
      "\r",
      " 34%|███▍      | 338/1000 [00:09<00:17, 37.09it/s]"
     ]
    },
    {
     "name": "stdout",
     "output_type": "stream",
     "text": [
      "128/128 [==============================] - 0s 26us/step\n",
      "64/64 [==============================] - 0s 30us/step\n",
      "64/64 [==============================] - 0s 52us/step\n",
      "128/128 [==============================] - 0s 25us/step\n",
      "64/64 [==============================] - 0s 33us/step\n",
      "64/64 [==============================] - 0s 30us/step\n",
      "128/128 [==============================] - 0s 29us/step\n",
      "64/64 [==============================] - 0s 33us/step\n",
      "64/64 [==============================] - 0s 39us/step\n",
      "128/128 [==============================] - 0s 32us/step\n",
      "64/64 [==============================] - 0s 26us/step\n",
      "64/64 [==============================] - 0s 29us/step\n",
      "128/128 [==============================] - 0s 31us/step\n",
      "64/64 [==============================] - 0s 49us/step\n",
      "64/64 [==============================] - 0s 29us/step\n"
     ]
    },
    {
     "name": "stderr",
     "output_type": "stream",
     "text": [
      "\r",
      " 34%|███▍      | 343/1000 [00:09<00:17, 37.22it/s]"
     ]
    },
    {
     "name": "stdout",
     "output_type": "stream",
     "text": [
      "128/128 [==============================] - 0s 33us/step\n",
      "64/64 [==============================] - 0s 49us/step\n",
      "64/64 [==============================] - 0s 47us/step\n",
      "128/128 [==============================] - 0s 26us/step\n",
      "64/64 [==============================] - 0s 34us/step\n",
      "64/64 [==============================] - 0s 41us/step\n",
      "128/128 [==============================] - 0s 36us/step\n",
      "64/64 [==============================] - 0s 51us/step\n",
      "64/64 [==============================] - 0s 61us/step\n",
      "128/128 [==============================] - 0s 45us/step\n",
      "64/64 [==============================] - 0s 44us/step\n",
      "64/64 [==============================] - 0s 56us/step\n",
      "128/128 [==============================] - 0s 29us/step\n",
      "64/64 [==============================] - 0s 48us/step\n",
      "64/64 [==============================] - 0s 27us/step\n"
     ]
    },
    {
     "name": "stderr",
     "output_type": "stream",
     "text": [
      "\r",
      " 35%|███▍      | 348/1000 [00:09<00:17, 37.32it/s]"
     ]
    },
    {
     "name": "stdout",
     "output_type": "stream",
     "text": [
      "128/128 [==============================] - 0s 24us/step\n",
      "64/64 [==============================] - 0s 68us/step\n",
      "64/64 [==============================] - 0s 47us/step\n",
      "128/128 [==============================] - 0s 33us/step\n",
      "64/64 [==============================] - 0s 36us/step\n",
      "64/64 [==============================] - 0s 30us/step\n",
      "128/128 [==============================] - 0s 22us/step\n",
      "64/64 [==============================] - 0s 65us/step\n",
      "64/64 [==============================] - 0s 41us/step\n",
      "128/128 [==============================] - 0s 26us/step\n",
      "64/64 [==============================] - 0s 39us/step\n",
      "64/64 [==============================] - 0s 42us/step\n",
      "128/128 [==============================] - 0s 60us/step\n",
      "64/64 [==============================] - 0s 56us/step\n",
      "64/64 [==============================] - 0s 29us/step\n"
     ]
    },
    {
     "name": "stderr",
     "output_type": "stream",
     "text": [
      "\r",
      " 35%|███▌      | 353/1000 [00:09<00:17, 37.40it/s]"
     ]
    },
    {
     "name": "stdout",
     "output_type": "stream",
     "text": [
      "128/128 [==============================] - 0s 23us/step\n",
      "64/64 [==============================] - 0s 46us/step\n",
      "64/64 [==============================] - 0s 40us/step\n",
      "128/128 [==============================] - 0s 23us/step\n",
      "64/64 [==============================] - 0s 42us/step\n",
      "64/64 [==============================] - 0s 59us/step\n",
      "128/128 [==============================] - 0s 23us/step\n",
      "64/64 [==============================] - 0s 54us/step\n",
      "64/64 [==============================] - 0s 40us/step\n",
      "128/128 [==============================] - 0s 31us/step\n",
      "64/64 [==============================] - 0s 28us/step\n",
      "64/64 [==============================] - 0s 30us/step\n",
      "128/128 [==============================] - 0s 24us/step\n",
      "64/64 [==============================] - 0s 41us/step\n",
      "64/64 [==============================] - 0s 32us/step\n"
     ]
    },
    {
     "name": "stderr",
     "output_type": "stream",
     "text": [
      "\r",
      " 36%|███▌      | 358/1000 [00:09<00:17, 37.51it/s]"
     ]
    },
    {
     "name": "stdout",
     "output_type": "stream",
     "text": [
      "128/128 [==============================] - 0s 23us/step\n",
      "64/64 [==============================] - 0s 38us/step\n",
      "64/64 [==============================] - 0s 39us/step\n",
      "128/128 [==============================] - 0s 34us/step\n",
      "64/64 [==============================] - 0s 40us/step\n",
      "64/64 [==============================] - 0s 35us/step\n",
      "128/128 [==============================] - 0s 25us/step\n",
      "64/64 [==============================] - 0s 60us/step\n",
      "64/64 [==============================] - 0s 42us/step\n",
      "128/128 [==============================] - 0s 26us/step\n",
      "64/64 [==============================] - 0s 30us/step\n",
      "64/64 [==============================] - 0s 30us/step\n",
      "128/128 [==============================] - 0s 24us/step\n",
      "64/64 [==============================] - 0s 28us/step\n",
      "64/64 [==============================] - 0s 35us/step\n"
     ]
    },
    {
     "name": "stderr",
     "output_type": "stream",
     "text": [
      "\r",
      " 36%|███▋      | 363/1000 [00:09<00:16, 37.63it/s]"
     ]
    },
    {
     "name": "stdout",
     "output_type": "stream",
     "text": [
      "128/128 [==============================] - 0s 32us/step\n",
      "64/64 [==============================] - 0s 39us/step\n",
      "64/64 [==============================] - 0s 56us/step\n",
      "128/128 [==============================] - 0s 26us/step\n",
      "64/64 [==============================] - 0s 39us/step\n",
      "64/64 [==============================] - 0s 32us/step\n",
      "128/128 [==============================] - 0s 36us/step\n",
      "64/64 [==============================] - 0s 26us/step\n",
      "64/64 [==============================] - 0s 43us/step\n",
      "128/128 [==============================] - 0s 22us/step\n",
      "64/64 [==============================] - 0s 30us/step\n",
      "64/64 [==============================] - 0s 44us/step\n",
      "128/128 [==============================] - 0s 32us/step\n",
      "64/64 [==============================] - 0s 51us/step\n",
      "64/64 [==============================] - 0s 63us/step\n"
     ]
    },
    {
     "name": "stderr",
     "output_type": "stream",
     "text": [
      "\r",
      " 37%|███▋      | 368/1000 [00:09<00:16, 37.75it/s]"
     ]
    },
    {
     "name": "stdout",
     "output_type": "stream",
     "text": [
      "128/128 [==============================] - 0s 28us/step\n",
      "64/64 [==============================] - 0s 44us/step\n",
      "64/64 [==============================] - 0s 32us/step\n",
      "128/128 [==============================] - 0s 29us/step\n",
      "64/64 [==============================] - 0s 26us/step\n",
      "64/64 [==============================] - 0s 56us/step\n",
      "128/128 [==============================] - 0s 22us/step\n",
      "64/64 [==============================] - 0s 34us/step\n",
      "64/64 [==============================] - 0s 46us/step\n",
      "128/128 [==============================] - 0s 26us/step\n",
      "64/64 [==============================] - 0s 52us/step\n",
      "64/64 [==============================] - 0s 31us/step\n",
      "128/128 [==============================] - 0s 23us/step\n",
      "64/64 [==============================] - 0s 38us/step\n",
      "64/64 [==============================] - 0s 32us/step\n"
     ]
    },
    {
     "name": "stderr",
     "output_type": "stream",
     "text": [
      "\r",
      " 37%|███▋      | 373/1000 [00:09<00:16, 37.86it/s]"
     ]
    },
    {
     "name": "stdout",
     "output_type": "stream",
     "text": [
      "128/128 [==============================] - 0s 25us/step\n",
      "64/64 [==============================] - 0s 49us/step\n",
      "64/64 [==============================] - 0s 43us/step\n",
      "128/128 [==============================] - 0s 22us/step\n",
      "64/64 [==============================] - 0s 35us/step\n",
      "64/64 [==============================] - 0s 39us/step\n",
      "128/128 [==============================] - 0s 24us/step\n",
      "64/64 [==============================] - 0s 28us/step\n",
      "64/64 [==============================] - 0s 62us/step\n",
      "128/128 [==============================] - 0s 34us/step\n",
      "64/64 [==============================] - 0s 37us/step\n",
      "64/64 [==============================] - 0s 41us/step\n",
      "128/128 [==============================] - 0s 34us/step\n",
      "64/64 [==============================] - 0s 31us/step\n",
      "64/64 [==============================] - 0s 29us/step\n"
     ]
    },
    {
     "name": "stderr",
     "output_type": "stream",
     "text": [
      "\r",
      " 38%|███▊      | 378/1000 [00:09<00:16, 37.98it/s]"
     ]
    },
    {
     "name": "stdout",
     "output_type": "stream",
     "text": [
      "128/128 [==============================] - 0s 34us/step\n",
      "64/64 [==============================] - 0s 43us/step\n",
      "64/64 [==============================] - 0s 47us/step\n",
      "128/128 [==============================] - 0s 23us/step\n",
      "64/64 [==============================] - 0s 26us/step\n",
      "64/64 [==============================] - 0s 51us/step\n",
      "128/128 [==============================] - 0s 26us/step\n",
      "64/64 [==============================] - 0s 48us/step\n",
      "64/64 [==============================] - 0s 56us/step\n",
      "128/128 [==============================] - 0s 28us/step\n",
      "64/64 [==============================] - 0s 28us/step\n",
      "64/64 [==============================] - 0s 33us/step\n",
      "128/128 [==============================] - 0s 26us/step\n",
      "64/64 [==============================] - 0s 38us/step\n",
      "64/64 [==============================] - 0s 105us/step\n"
     ]
    },
    {
     "name": "stderr",
     "output_type": "stream",
     "text": [
      "\r",
      " 38%|███▊      | 383/1000 [00:10<00:16, 38.05it/s]"
     ]
    },
    {
     "name": "stdout",
     "output_type": "stream",
     "text": [
      "128/128 [==============================] - 0s 27us/step\n",
      "64/64 [==============================] - 0s 48us/step\n",
      "64/64 [==============================] - 0s 33us/step\n",
      "128/128 [==============================] - 0s 28us/step\n",
      "64/64 [==============================] - 0s 53us/step\n",
      "64/64 [==============================] - 0s 32us/step\n",
      "128/128 [==============================] - 0s 24us/step\n",
      "64/64 [==============================] - 0s 29us/step\n",
      "64/64 [==============================] - 0s 29us/step\n",
      "128/128 [==============================] - 0s 22us/step\n",
      "64/64 [==============================] - 0s 92us/step\n",
      "64/64 [==============================] - 0s 32us/step\n",
      "128/128 [==============================] - 0s 26us/step\n",
      "64/64 [==============================] - 0s 46us/step\n",
      "64/64 [==============================] - 0s 39us/step\n"
     ]
    },
    {
     "name": "stderr",
     "output_type": "stream",
     "text": [
      "\r",
      " 39%|███▉      | 388/1000 [00:10<00:16, 38.16it/s]"
     ]
    },
    {
     "name": "stdout",
     "output_type": "stream",
     "text": [
      "128/128 [==============================] - 0s 27us/step\n",
      "64/64 [==============================] - 0s 36us/step\n",
      "64/64 [==============================] - 0s 28us/step\n",
      "128/128 [==============================] - 0s 25us/step\n",
      "64/64 [==============================] - 0s 36us/step\n",
      "64/64 [==============================] - 0s 40us/step\n",
      "128/128 [==============================] - 0s 31us/step\n",
      "64/64 [==============================] - 0s 46us/step\n",
      "64/64 [==============================] - 0s 34us/step\n",
      "128/128 [==============================] - 0s 29us/step\n",
      "64/64 [==============================] - 0s 31us/step\n",
      "64/64 [==============================] - 0s 42us/step\n",
      "128/128 [==============================] - 0s 25us/step\n",
      "64/64 [==============================] - 0s 44us/step\n",
      "64/64 [==============================] - 0s 43us/step\n"
     ]
    },
    {
     "name": "stderr",
     "output_type": "stream",
     "text": [
      "\r",
      " 39%|███▉      | 393/1000 [00:10<00:15, 38.26it/s]"
     ]
    },
    {
     "name": "stdout",
     "output_type": "stream",
     "text": [
      "128/128 [==============================] - 0s 27us/step\n",
      "64/64 [==============================] - 0s 27us/step\n",
      "64/64 [==============================] - 0s 45us/step\n",
      "128/128 [==============================] - 0s 32us/step\n",
      "64/64 [==============================] - 0s 48us/step\n",
      "64/64 [==============================] - 0s 48us/step\n",
      "128/128 [==============================] - 0s 33us/step\n",
      "64/64 [==============================] - 0s 45us/step\n",
      "64/64 [==============================] - 0s 36us/step\n",
      "128/128 [==============================] - 0s 29us/step\n",
      "64/64 [==============================] - 0s 30us/step\n",
      "64/64 [==============================] - 0s 44us/step\n",
      "128/128 [==============================] - 0s 34us/step\n",
      "64/64 [==============================] - 0s 41us/step\n",
      "64/64 [==============================] - 0s 28us/step\n"
     ]
    },
    {
     "name": "stderr",
     "output_type": "stream",
     "text": [
      "\r",
      " 40%|███▉      | 398/1000 [00:10<00:15, 38.36it/s]"
     ]
    },
    {
     "name": "stdout",
     "output_type": "stream",
     "text": [
      "128/128 [==============================] - 0s 22us/step\n",
      "64/64 [==============================] - 0s 31us/step\n",
      "64/64 [==============================] - 0s 30us/step\n",
      "128/128 [==============================] - 0s 27us/step\n",
      "64/64 [==============================] - 0s 36us/step\n",
      "64/64 [==============================] - 0s 34us/step\n",
      "128/128 [==============================] - 0s 30us/step\n",
      "64/64 [==============================] - 0s 34us/step\n",
      "64/64 [==============================] - 0s 39us/step\n",
      "128/128 [==============================] - 0s 33us/step\n",
      "64/64 [==============================] - 0s 32us/step\n",
      "64/64 [==============================] - 0s 29us/step\n",
      "128/128 [==============================] - 0s 21us/step\n",
      "64/64 [==============================] - 0s 26us/step\n",
      "64/64 [==============================] - 0s 43us/step\n"
     ]
    },
    {
     "name": "stderr",
     "output_type": "stream",
     "text": [
      "\r",
      " 40%|████      | 403/1000 [00:10<00:15, 38.46it/s]"
     ]
    },
    {
     "name": "stdout",
     "output_type": "stream",
     "text": [
      "128/128 [==============================] - 0s 31us/step\n",
      "64/64 [==============================] - 0s 30us/step\n",
      "64/64 [==============================] - 0s 33us/step\n",
      "128/128 [==============================] - 0s 33us/step\n",
      "64/64 [==============================] - 0s 28us/step\n",
      "64/64 [==============================] - 0s 43us/step\n",
      "128/128 [==============================] - 0s 29us/step\n",
      "64/64 [==============================] - 0s 52us/step\n",
      "64/64 [==============================] - 0s 41us/step\n",
      "128/128 [==============================] - 0s 24us/step\n",
      "64/64 [==============================] - 0s 40us/step\n",
      "64/64 [==============================] - 0s 50us/step\n",
      "128/128 [==============================] - 0s 25us/step\n",
      "64/64 [==============================] - 0s 37us/step\n",
      "64/64 [==============================] - 0s 30us/step\n"
     ]
    },
    {
     "name": "stderr",
     "output_type": "stream",
     "text": [
      "\r",
      " 41%|████      | 408/1000 [00:10<00:15, 38.57it/s]"
     ]
    },
    {
     "name": "stdout",
     "output_type": "stream",
     "text": [
      "128/128 [==============================] - 0s 25us/step\n",
      "64/64 [==============================] - 0s 48us/step\n",
      "64/64 [==============================] - 0s 32us/step\n",
      "128/128 [==============================] - 0s 32us/step\n",
      "64/64 [==============================] - 0s 51us/step\n",
      "64/64 [==============================] - 0s 44us/step\n",
      "128/128 [==============================] - 0s 27us/step\n",
      "64/64 [==============================] - 0s 46us/step\n",
      "64/64 [==============================] - 0s 29us/step\n",
      "128/128 [==============================] - 0s 23us/step\n",
      "64/64 [==============================] - 0s 38us/step\n",
      "64/64 [==============================] - 0s 34us/step\n",
      "128/128 [==============================] - 0s 37us/step\n",
      "64/64 [==============================] - 0s 62us/step\n",
      "64/64 [==============================] - 0s 56us/step\n"
     ]
    },
    {
     "name": "stderr",
     "output_type": "stream",
     "text": [
      "\r",
      " 41%|████▏     | 413/1000 [00:10<00:15, 38.64it/s]"
     ]
    },
    {
     "name": "stdout",
     "output_type": "stream",
     "text": [
      "128/128 [==============================] - 0s 33us/step\n",
      "64/64 [==============================] - 0s 24us/step\n",
      "64/64 [==============================] - 0s 31us/step\n",
      "128/128 [==============================] - 0s 33us/step\n",
      "64/64 [==============================] - 0s 26us/step\n",
      "64/64 [==============================] - 0s 74us/step\n",
      "128/128 [==============================] - 0s 35us/step\n",
      "64/64 [==============================] - 0s 40us/step\n",
      "64/64 [==============================] - 0s 48us/step\n",
      "128/128 [==============================] - 0s 34us/step\n",
      "64/64 [==============================] - 0s 26us/step\n",
      "64/64 [==============================] - 0s 28us/step\n",
      "128/128 [==============================] - 0s 30us/step\n",
      "64/64 [==============================] - 0s 30us/step\n",
      "64/64 [==============================] - 0s 67us/step\n"
     ]
    },
    {
     "name": "stderr",
     "output_type": "stream",
     "text": [
      "\r",
      " 42%|████▏     | 418/1000 [00:10<00:15, 38.71it/s]"
     ]
    },
    {
     "name": "stdout",
     "output_type": "stream",
     "text": [
      "128/128 [==============================] - 0s 27us/step\n",
      "64/64 [==============================] - 0s 47us/step\n",
      "64/64 [==============================] - 0s 41us/step\n",
      "128/128 [==============================] - 0s 26us/step\n",
      "64/64 [==============================] - 0s 31us/step\n",
      "64/64 [==============================] - 0s 30us/step\n",
      "128/128 [==============================] - 0s 26us/step\n",
      "64/64 [==============================] - 0s 62us/step\n",
      "64/64 [==============================] - 0s 39us/step\n",
      "128/128 [==============================] - 0s 29us/step\n",
      "64/64 [==============================] - 0s 48us/step\n",
      "64/64 [==============================] - 0s 41us/step\n",
      "128/128 [==============================] - 0s 33us/step\n",
      "64/64 [==============================] - 0s 31us/step\n",
      "64/64 [==============================] - 0s 35us/step\n"
     ]
    },
    {
     "name": "stderr",
     "output_type": "stream",
     "text": [
      "\r",
      " 42%|████▏     | 423/1000 [00:10<00:14, 38.77it/s]"
     ]
    },
    {
     "name": "stdout",
     "output_type": "stream",
     "text": [
      "128/128 [==============================] - 0s 22us/step\n",
      "64/64 [==============================] - 0s 60us/step\n",
      "64/64 [==============================] - 0s 52us/step\n",
      "128/128 [==============================] - 0s 29us/step\n",
      "64/64 [==============================] - 0s 33us/step\n",
      "64/64 [==============================] - 0s 34us/step\n",
      "128/128 [==============================] - 0s 28us/step\n",
      "64/64 [==============================] - 0s 53us/step\n",
      "64/64 [==============================] - 0s 29us/step\n",
      "128/128 [==============================] - 0s 23us/step\n",
      "64/64 [==============================] - 0s 64us/step\n",
      "64/64 [==============================] - 0s 48us/step\n",
      "128/128 [==============================] - 0s 33us/step\n",
      "64/64 [==============================] - 0s 61us/step\n",
      "64/64 [==============================] - 0s 55us/step\n"
     ]
    },
    {
     "name": "stderr",
     "output_type": "stream",
     "text": [
      "\r",
      " 43%|████▎     | 428/1000 [00:11<00:14, 38.83it/s]"
     ]
    },
    {
     "name": "stdout",
     "output_type": "stream",
     "text": [
      "128/128 [==============================] - 0s 31us/step\n",
      "64/64 [==============================] - 0s 30us/step\n",
      "64/64 [==============================] - 0s 37us/step\n",
      "128/128 [==============================] - 0s 25us/step\n",
      "64/64 [==============================] - 0s 58us/step\n",
      "64/64 [==============================] - 0s 32us/step\n",
      "128/128 [==============================] - 0s 28us/step\n",
      "64/64 [==============================] - 0s 47us/step\n",
      "64/64 [==============================] - 0s 37us/step\n",
      "128/128 [==============================] - 0s 26us/step\n",
      "64/64 [==============================] - 0s 38us/step\n",
      "64/64 [==============================] - 0s 30us/step\n",
      "128/128 [==============================] - 0s 23us/step\n",
      "64/64 [==============================] - 0s 41us/step\n",
      "64/64 [==============================] - 0s 49us/step\n"
     ]
    },
    {
     "name": "stderr",
     "output_type": "stream",
     "text": [
      "\r",
      " 43%|████▎     | 433/1000 [00:11<00:14, 38.91it/s]"
     ]
    },
    {
     "name": "stdout",
     "output_type": "stream",
     "text": [
      "128/128 [==============================] - 0s 25us/step\n",
      "64/64 [==============================] - 0s 47us/step\n",
      "64/64 [==============================] - 0s 51us/step\n",
      "128/128 [==============================] - 0s 35us/step\n",
      "64/64 [==============================] - 0s 47us/step\n",
      "64/64 [==============================] - 0s 41us/step\n",
      "128/128 [==============================] - 0s 29us/step\n",
      "64/64 [==============================] - 0s 34us/step\n",
      "64/64 [==============================] - 0s 45us/step\n",
      "128/128 [==============================] - 0s 27us/step\n",
      "64/64 [==============================] - 0s 55us/step\n",
      "64/64 [==============================] - 0s 45us/step\n",
      "128/128 [==============================] - 0s 37us/step\n",
      "64/64 [==============================] - 0s 59us/step\n",
      "64/64 [==============================] - 0s 56us/step\n"
     ]
    },
    {
     "name": "stderr",
     "output_type": "stream",
     "text": [
      "\r",
      " 44%|████▍     | 438/1000 [00:11<00:14, 38.96it/s]"
     ]
    },
    {
     "name": "stdout",
     "output_type": "stream",
     "text": [
      "128/128 [==============================] - 0s 24us/step\n",
      "64/64 [==============================] - 0s 39us/step\n",
      "64/64 [==============================] - 0s 57us/step\n",
      "128/128 [==============================] - 0s 29us/step\n",
      "64/64 [==============================] - 0s 49us/step\n",
      "64/64 [==============================] - 0s 36us/step\n",
      "128/128 [==============================] - 0s 24us/step\n",
      "64/64 [==============================] - 0s 29us/step\n",
      "64/64 [==============================] - 0s 55us/step\n",
      "128/128 [==============================] - 0s 23us/step\n",
      "64/64 [==============================] - 0s 120us/step\n",
      "64/64 [==============================] - 0s 44us/step\n",
      "128/128 [==============================] - 0s 27us/step\n",
      "64/64 [==============================] - 0s 31us/step\n",
      "64/64 [==============================] - 0s 38us/step\n"
     ]
    },
    {
     "name": "stderr",
     "output_type": "stream",
     "text": [
      "\r",
      " 44%|████▍     | 443/1000 [00:11<00:14, 38.99it/s]"
     ]
    },
    {
     "name": "stdout",
     "output_type": "stream",
     "text": [
      "128/128 [==============================] - 0s 24us/step\n",
      "64/64 [==============================] - 0s 32us/step\n",
      "64/64 [==============================] - 0s 69us/step\n",
      "128/128 [==============================] - 0s 25us/step\n",
      "64/64 [==============================] - 0s 45us/step\n",
      "64/64 [==============================] - 0s 39us/step\n",
      "128/128 [==============================] - 0s 31us/step\n",
      "64/64 [==============================] - 0s 48us/step\n",
      "64/64 [==============================] - 0s 33us/step\n",
      "128/128 [==============================] - 0s 25us/step\n",
      "64/64 [==============================] - 0s 29us/step\n",
      "64/64 [==============================] - 0s 33us/step\n",
      "128/128 [==============================] - 0s 61us/step\n",
      "64/64 [==============================] - 0s 44us/step\n",
      "64/64 [==============================] - 0s 48us/step\n"
     ]
    },
    {
     "name": "stderr",
     "output_type": "stream",
     "text": [
      "\r",
      " 45%|████▍     | 448/1000 [00:11<00:14, 39.06it/s]"
     ]
    },
    {
     "name": "stdout",
     "output_type": "stream",
     "text": [
      "128/128 [==============================] - 0s 24us/step\n",
      "64/64 [==============================] - 0s 36us/step\n",
      "64/64 [==============================] - 0s 31us/step\n",
      "128/128 [==============================] - 0s 24us/step\n",
      "64/64 [==============================] - 0s 43us/step\n",
      "64/64 [==============================] - 0s 52us/step\n",
      "128/128 [==============================] - 0s 35us/step\n",
      "64/64 [==============================] - 0s 36us/step\n",
      "64/64 [==============================] - 0s 43us/step\n",
      "128/128 [==============================] - 0s 35us/step\n",
      "64/64 [==============================] - 0s 33us/step\n",
      "64/64 [==============================] - 0s 40us/step\n",
      "128/128 [==============================] - 0s 25us/step\n",
      "64/64 [==============================] - 0s 26us/step\n",
      "64/64 [==============================] - 0s 55us/step\n"
     ]
    },
    {
     "name": "stderr",
     "output_type": "stream",
     "text": [
      "\r",
      " 45%|████▌     | 453/1000 [00:11<00:13, 39.12it/s]"
     ]
    },
    {
     "name": "stdout",
     "output_type": "stream",
     "text": [
      "128/128 [==============================] - 0s 68us/step\n",
      "64/64 [==============================] - 0s 32us/step\n",
      "64/64 [==============================] - 0s 49us/step\n",
      "128/128 [==============================] - 0s 27us/step\n",
      "64/64 [==============================] - 0s 54us/step\n",
      "64/64 [==============================] - 0s 59us/step\n",
      "128/128 [==============================] - 0s 23us/step\n",
      "64/64 [==============================] - 0s 41us/step\n",
      "64/64 [==============================] - 0s 50us/step\n",
      "128/128 [==============================] - 0s 30us/step\n",
      "64/64 [==============================] - 0s 32us/step\n",
      "64/64 [==============================] - 0s 36us/step\n",
      "128/128 [==============================] - 0s 35us/step\n",
      "64/64 [==============================] - 0s 29us/step\n",
      "64/64 [==============================] - 0s 37us/step\n"
     ]
    },
    {
     "name": "stderr",
     "output_type": "stream",
     "text": [
      "\r",
      " 46%|████▌     | 458/1000 [00:11<00:13, 39.18it/s]"
     ]
    },
    {
     "name": "stdout",
     "output_type": "stream",
     "text": [
      "128/128 [==============================] - 0s 27us/step\n",
      "64/64 [==============================] - 0s 62us/step\n",
      "64/64 [==============================] - 0s 51us/step\n",
      "128/128 [==============================] - 0s 27us/step\n",
      "64/64 [==============================] - 0s 34us/step\n",
      "64/64 [==============================] - 0s 58us/step\n",
      "128/128 [==============================] - 0s 26us/step\n",
      "64/64 [==============================] - 0s 29us/step\n",
      "64/64 [==============================] - 0s 41us/step\n",
      "128/128 [==============================] - 0s 27us/step\n",
      "64/64 [==============================] - 0s 28us/step\n",
      "64/64 [==============================] - 0s 62us/step\n",
      "128/128 [==============================] - 0s 26us/step\n",
      "64/64 [==============================] - 0s 31us/step\n",
      "64/64 [==============================] - 0s 31us/step\n"
     ]
    },
    {
     "name": "stderr",
     "output_type": "stream",
     "text": [
      "\r",
      " 46%|████▋     | 463/1000 [00:11<00:13, 39.26it/s]"
     ]
    },
    {
     "name": "stdout",
     "output_type": "stream",
     "text": [
      "128/128 [==============================] - 0s 22us/step\n",
      "64/64 [==============================] - 0s 28us/step\n",
      "64/64 [==============================] - 0s 106us/step\n",
      "128/128 [==============================] - 0s 25us/step\n",
      "64/64 [==============================] - 0s 47us/step\n",
      "64/64 [==============================] - 0s 48us/step\n",
      "128/128 [==============================] - 0s 34us/step\n",
      "64/64 [==============================] - 0s 29us/step\n",
      "64/64 [==============================] - 0s 38us/step\n",
      "128/128 [==============================] - 0s 24us/step\n",
      "64/64 [==============================] - 0s 51us/step\n",
      "64/64 [==============================] - 0s 33us/step\n",
      "128/128 [==============================] - 0s 25us/step\n",
      "64/64 [==============================] - 0s 48us/step\n",
      "64/64 [==============================] - 0s 38us/step\n"
     ]
    },
    {
     "name": "stderr",
     "output_type": "stream",
     "text": [
      "\r",
      " 47%|████▋     | 468/1000 [00:11<00:13, 39.32it/s]"
     ]
    },
    {
     "name": "stdout",
     "output_type": "stream",
     "text": [
      "128/128 [==============================] - 0s 33us/step\n",
      "64/64 [==============================] - 0s 26us/step\n",
      "64/64 [==============================] - 0s 52us/step\n",
      "128/128 [==============================] - 0s 22us/step\n",
      "64/64 [==============================] - 0s 46us/step\n",
      "64/64 [==============================] - 0s 37us/step\n",
      "128/128 [==============================] - 0s 25us/step\n",
      "64/64 [==============================] - 0s 39us/step\n",
      "64/64 [==============================] - 0s 46us/step\n",
      "128/128 [==============================] - 0s 32us/step\n",
      "64/64 [==============================] - 0s 30us/step\n",
      "64/64 [==============================] - 0s 47us/step\n",
      "128/128 [==============================] - 0s 27us/step\n",
      "64/64 [==============================] - 0s 25us/step\n",
      "64/64 [==============================] - 0s 104us/step\n"
     ]
    },
    {
     "name": "stderr",
     "output_type": "stream",
     "text": [
      "\r",
      " 47%|████▋     | 473/1000 [00:12<00:13, 39.37it/s]"
     ]
    },
    {
     "name": "stdout",
     "output_type": "stream",
     "text": [
      "128/128 [==============================] - 0s 35us/step\n",
      "64/64 [==============================] - 0s 37us/step\n",
      "64/64 [==============================] - 0s 46us/step\n",
      "128/128 [==============================] - 0s 30us/step\n",
      "64/64 [==============================] - 0s 46us/step\n",
      "64/64 [==============================] - 0s 40us/step\n",
      "128/128 [==============================] - 0s 36us/step\n",
      "64/64 [==============================] - 0s 42us/step\n",
      "64/64 [==============================] - 0s 32us/step\n",
      "128/128 [==============================] - 0s 59us/step\n",
      "64/64 [==============================] - 0s 63us/step\n",
      "64/64 [==============================] - 0s 30us/step\n",
      "128/128 [==============================] - 0s 26us/step\n",
      "64/64 [==============================] - 0s 60us/step\n",
      "64/64 [==============================] - 0s 42us/step\n"
     ]
    },
    {
     "name": "stderr",
     "output_type": "stream",
     "text": [
      "\r",
      " 48%|████▊     | 478/1000 [00:12<00:13, 39.42it/s]"
     ]
    },
    {
     "name": "stdout",
     "output_type": "stream",
     "text": [
      "128/128 [==============================] - 0s 24us/step\n",
      "64/64 [==============================] - 0s 101us/step\n",
      "64/64 [==============================] - 0s 47us/step\n",
      "128/128 [==============================] - 0s 33us/step\n",
      "64/64 [==============================] - 0s 26us/step\n",
      "64/64 [==============================] - 0s 43us/step\n",
      "128/128 [==============================] - 0s 24us/step\n",
      "64/64 [==============================] - 0s 30us/step\n",
      "64/64 [==============================] - 0s 27us/step\n",
      "128/128 [==============================] - 0s 24us/step\n",
      "64/64 [==============================] - 0s 29us/step\n",
      "64/64 [==============================] - 0s 37us/step\n",
      "128/128 [==============================] - 0s 24us/step\n",
      "64/64 [==============================] - 0s 27us/step\n",
      "64/64 [==============================] - 0s 59us/step\n"
     ]
    },
    {
     "name": "stderr",
     "output_type": "stream",
     "text": [
      "\r",
      " 48%|████▊     | 483/1000 [00:12<00:13, 39.49it/s]"
     ]
    },
    {
     "name": "stdout",
     "output_type": "stream",
     "text": [
      "128/128 [==============================] - 0s 24us/step\n",
      "64/64 [==============================] - 0s 39us/step\n",
      "64/64 [==============================] - 0s 33us/step\n",
      "128/128 [==============================] - 0s 25us/step\n",
      "64/64 [==============================] - 0s 52us/step\n",
      "64/64 [==============================] - 0s 38us/step\n",
      "128/128 [==============================] - 0s 34us/step\n",
      "64/64 [==============================] - 0s 32us/step\n",
      "64/64 [==============================] - 0s 50us/step\n",
      "128/128 [==============================] - 0s 24us/step\n",
      "64/64 [==============================] - 0s 46us/step\n",
      "64/64 [==============================] - 0s 32us/step\n",
      "128/128 [==============================] - 0s 32us/step\n",
      "64/64 [==============================] - 0s 89us/step\n",
      "64/64 [==============================] - 0s 44us/step\n"
     ]
    },
    {
     "name": "stderr",
     "output_type": "stream",
     "text": [
      "\r",
      " 49%|████▉     | 488/1000 [00:12<00:12, 39.56it/s]"
     ]
    },
    {
     "name": "stdout",
     "output_type": "stream",
     "text": [
      "128/128 [==============================] - 0s 35us/step\n",
      "64/64 [==============================] - 0s 44us/step\n",
      "64/64 [==============================] - 0s 32us/step\n",
      "128/128 [==============================] - 0s 26us/step\n",
      "64/64 [==============================] - 0s 33us/step\n",
      "64/64 [==============================] - 0s 28us/step\n",
      "128/128 [==============================] - 0s 31us/step\n",
      "64/64 [==============================] - 0s 33us/step\n",
      "64/64 [==============================] - 0s 32us/step\n",
      "128/128 [==============================] - 0s 25us/step\n",
      "64/64 [==============================] - 0s 56us/step\n",
      "64/64 [==============================] - 0s 32us/step\n",
      "128/128 [==============================] - 0s 30us/step\n",
      "64/64 [==============================] - 0s 49us/step\n",
      "64/64 [==============================] - 0s 29us/step\n"
     ]
    },
    {
     "name": "stderr",
     "output_type": "stream",
     "text": [
      "\r",
      " 49%|████▉     | 493/1000 [00:12<00:12, 39.63it/s]"
     ]
    },
    {
     "name": "stdout",
     "output_type": "stream",
     "text": [
      "128/128 [==============================] - 0s 24us/step\n",
      "64/64 [==============================] - 0s 37us/step\n",
      "64/64 [==============================] - 0s 27us/step\n",
      "128/128 [==============================] - 0s 32us/step\n",
      "64/64 [==============================] - 0s 33us/step\n",
      "64/64 [==============================] - 0s 33us/step\n",
      "128/128 [==============================] - 0s 34us/step\n",
      "64/64 [==============================] - 0s 45us/step\n",
      "64/64 [==============================] - 0s 35us/step\n",
      "128/128 [==============================] - 0s 31us/step\n",
      "64/64 [==============================] - 0s 47us/step\n",
      "64/64 [==============================] - 0s 116us/step\n",
      "128/128 [==============================] - 0s 44us/step\n",
      "64/64 [==============================] - 0s 41us/step\n",
      "64/64 [==============================] - 0s 30us/step\n"
     ]
    },
    {
     "name": "stderr",
     "output_type": "stream",
     "text": [
      "\r",
      " 50%|████▉     | 498/1000 [00:12<00:12, 39.67it/s]"
     ]
    },
    {
     "name": "stdout",
     "output_type": "stream",
     "text": [
      "128/128 [==============================] - 0s 24us/step\n",
      "64/64 [==============================] - 0s 45us/step\n",
      "64/64 [==============================] - 0s 34us/step\n",
      "128/128 [==============================] - 0s 22us/step\n",
      "64/64 [==============================] - 0s 58us/step\n",
      "64/64 [==============================] - 0s 69us/step\n",
      "128/128 [==============================] - 0s 33us/step\n",
      "64/64 [==============================] - 0s 45us/step\n",
      "64/64 [==============================] - 0s 33us/step\n",
      "128/128 [==============================] - 0s 34us/step\n",
      "64/64 [==============================] - 0s 26us/step\n",
      "64/64 [==============================] - 0s 61us/step\n",
      "128/128 [==============================] - 0s 37us/step\n",
      "64/64 [==============================] - 0s 49us/step\n",
      "64/64 [==============================] - 0s 48us/step\n"
     ]
    },
    {
     "name": "stderr",
     "output_type": "stream",
     "text": [
      "\r",
      " 50%|█████     | 503/1000 [00:12<00:12, 39.70it/s]"
     ]
    },
    {
     "name": "stdout",
     "output_type": "stream",
     "text": [
      "128/128 [==============================] - 0s 34us/step\n",
      "64/64 [==============================] - 0s 35us/step\n",
      "64/64 [==============================] - 0s 28us/step\n",
      "128/128 [==============================] - 0s 33us/step\n",
      "64/64 [==============================] - 0s 78us/step\n",
      "64/64 [==============================] - 0s 71us/step\n",
      "128/128 [==============================] - 0s 31us/step\n",
      "64/64 [==============================] - 0s 28us/step\n",
      "64/64 [==============================] - 0s 40us/step\n",
      "128/128 [==============================] - 0s 34us/step\n",
      "64/64 [==============================] - 0s 28us/step\n",
      "64/64 [==============================] - 0s 68us/step\n",
      "128/128 [==============================] - 0s 26us/step\n",
      "64/64 [==============================] - 0s 72us/step\n",
      "64/64 [==============================] - 0s 56us/step\n"
     ]
    },
    {
     "name": "stderr",
     "output_type": "stream",
     "text": [
      "\r",
      " 51%|█████     | 508/1000 [00:12<00:12, 39.74it/s]"
     ]
    },
    {
     "name": "stdout",
     "output_type": "stream",
     "text": [
      "128/128 [==============================] - 0s 32us/step\n",
      "64/64 [==============================] - 0s 55us/step\n",
      "64/64 [==============================] - 0s 41us/step\n",
      "128/128 [==============================] - 0s 31us/step\n",
      "64/64 [==============================] - 0s 66us/step\n",
      "64/64 [==============================] - 0s 34us/step\n",
      "128/128 [==============================] - 0s 27us/step\n",
      "64/64 [==============================] - 0s 64us/step\n",
      "64/64 [==============================] - 0s 47us/step\n",
      "128/128 [==============================] - 0s 32us/step\n",
      "64/64 [==============================] - 0s 46us/step\n",
      "64/64 [==============================] - 0s 70us/step\n",
      "128/128 [==============================] - 0s 27us/step\n",
      "64/64 [==============================] - 0s 55us/step\n",
      "64/64 [==============================] - 0s 43us/step\n"
     ]
    },
    {
     "name": "stderr",
     "output_type": "stream",
     "text": [
      "\r",
      " 51%|█████▏    | 513/1000 [00:12<00:12, 39.75it/s]"
     ]
    },
    {
     "name": "stdout",
     "output_type": "stream",
     "text": [
      "128/128 [==============================] - 0s 24us/step\n",
      "64/64 [==============================] - 0s 27us/step\n",
      "64/64 [==============================] - 0s 31us/step\n",
      "128/128 [==============================] - 0s 28us/step\n",
      "64/64 [==============================] - 0s 30us/step\n",
      "64/64 [==============================] - 0s 62us/step\n",
      "128/128 [==============================] - 0s 49us/step\n",
      "64/64 [==============================] - 0s 37us/step\n",
      "64/64 [==============================] - 0s 35us/step\n",
      "128/128 [==============================] - 0s 25us/step\n",
      "64/64 [==============================] - 0s 33us/step\n",
      "64/64 [==============================] - 0s 30us/step\n",
      "128/128 [==============================] - 0s 28us/step\n",
      "64/64 [==============================] - 0s 53us/step\n",
      "64/64 [==============================] - 0s 57us/step\n"
     ]
    },
    {
     "name": "stderr",
     "output_type": "stream",
     "text": [
      "\r",
      " 52%|█████▏    | 518/1000 [00:13<00:12, 39.80it/s]"
     ]
    },
    {
     "name": "stdout",
     "output_type": "stream",
     "text": [
      "128/128 [==============================] - 0s 36us/step\n",
      "64/64 [==============================] - 0s 38us/step\n",
      "64/64 [==============================] - 0s 46us/step\n",
      "128/128 [==============================] - 0s 26us/step\n",
      "64/64 [==============================] - 0s 37us/step\n",
      "64/64 [==============================] - 0s 29us/step\n",
      "128/128 [==============================] - 0s 25us/step\n",
      "64/64 [==============================] - 0s 64us/step\n",
      "64/64 [==============================] - 0s 36us/step\n",
      "128/128 [==============================] - 0s 38us/step\n",
      "64/64 [==============================] - 0s 45us/step\n",
      "64/64 [==============================] - 0s 60us/step\n",
      "128/128 [==============================] - 0s 31us/step\n",
      "64/64 [==============================] - 0s 50us/step\n",
      "64/64 [==============================] - 0s 62us/step\n"
     ]
    },
    {
     "name": "stderr",
     "output_type": "stream",
     "text": [
      "\r",
      " 52%|█████▏    | 523/1000 [00:13<00:11, 39.84it/s]"
     ]
    },
    {
     "name": "stdout",
     "output_type": "stream",
     "text": [
      "128/128 [==============================] - 0s 24us/step\n",
      "64/64 [==============================] - 0s 47us/step\n",
      "64/64 [==============================] - 0s 61us/step\n",
      "128/128 [==============================] - 0s 31us/step\n",
      "64/64 [==============================] - 0s 32us/step\n",
      "64/64 [==============================] - 0s 60us/step\n",
      "128/128 [==============================] - 0s 33us/step\n",
      "64/64 [==============================] - 0s 76us/step\n",
      "64/64 [==============================] - 0s 49us/step\n",
      "128/128 [==============================] - 0s 33us/step\n",
      "64/64 [==============================] - 0s 31us/step\n",
      "64/64 [==============================] - 0s 53us/step\n",
      "128/128 [==============================] - 0s 23us/step\n",
      "64/64 [==============================] - 0s 39us/step\n",
      "64/64 [==============================] - 0s 118us/step\n"
     ]
    },
    {
     "name": "stderr",
     "output_type": "stream",
     "text": [
      "\r",
      " 53%|█████▎    | 528/1000 [00:13<00:11, 39.85it/s]"
     ]
    },
    {
     "name": "stdout",
     "output_type": "stream",
     "text": [
      "128/128 [==============================] - 0s 33us/step\n",
      "64/64 [==============================] - 0s 47us/step\n",
      "64/64 [==============================] - 0s 29us/step\n",
      "128/128 [==============================] - 0s 32us/step\n",
      "64/64 [==============================] - 0s 33us/step\n",
      "64/64 [==============================] - 0s 75us/step\n",
      "128/128 [==============================] - 0s 39us/step\n",
      "64/64 [==============================] - 0s 52us/step\n",
      "64/64 [==============================] - 0s 30us/step\n",
      "128/128 [==============================] - 0s 25us/step\n",
      "64/64 [==============================] - 0s 40us/step\n",
      "64/64 [==============================] - 0s 55us/step\n",
      "128/128 [==============================] - 0s 24us/step\n",
      "64/64 [==============================] - 0s 109us/step\n",
      "64/64 [==============================] - 0s 46us/step\n"
     ]
    },
    {
     "name": "stderr",
     "output_type": "stream",
     "text": [
      "\r",
      " 53%|█████▎    | 533/1000 [00:13<00:11, 39.86it/s]"
     ]
    },
    {
     "name": "stdout",
     "output_type": "stream",
     "text": [
      "128/128 [==============================] - 0s 31us/step\n",
      "64/64 [==============================] - 0s 43us/step\n",
      "64/64 [==============================] - 0s 29us/step\n",
      "128/128 [==============================] - 0s 23us/step\n",
      "64/64 [==============================] - 0s 28us/step\n",
      "64/64 [==============================] - 0s 52us/step\n",
      "128/128 [==============================] - 0s 23us/step\n",
      "64/64 [==============================] - 0s 34us/step\n",
      "64/64 [==============================] - 0s 53us/step\n",
      "128/128 [==============================] - 0s 27us/step\n",
      "64/64 [==============================] - 0s 31us/step\n",
      "64/64 [==============================] - 0s 34us/step\n",
      "128/128 [==============================] - 0s 29us/step\n",
      "64/64 [==============================] - 0s 29us/step\n",
      "64/64 [==============================] - 0s 36us/step\n"
     ]
    },
    {
     "name": "stderr",
     "output_type": "stream",
     "text": [
      "\r",
      " 54%|█████▍    | 538/1000 [00:13<00:11, 39.93it/s]"
     ]
    },
    {
     "name": "stdout",
     "output_type": "stream",
     "text": [
      "128/128 [==============================] - 0s 34us/step\n",
      "64/64 [==============================] - 0s 56us/step\n",
      "64/64 [==============================] - 0s 37us/step\n",
      "128/128 [==============================] - 0s 34us/step\n",
      "64/64 [==============================] - 0s 49us/step\n",
      "64/64 [==============================] - 0s 48us/step\n",
      "128/128 [==============================] - 0s 28us/step\n",
      "64/64 [==============================] - 0s 48us/step\n",
      "64/64 [==============================] - 0s 27us/step\n",
      "128/128 [==============================] - 0s 27us/step\n",
      "64/64 [==============================] - 0s 32us/step\n",
      "64/64 [==============================] - 0s 27us/step\n",
      "128/128 [==============================] - 0s 26us/step\n",
      "64/64 [==============================] - 0s 41us/step\n",
      "64/64 [==============================] - 0s 49us/step\n"
     ]
    },
    {
     "name": "stderr",
     "output_type": "stream",
     "text": [
      "\r",
      " 54%|█████▍    | 543/1000 [00:13<00:11, 39.98it/s]"
     ]
    },
    {
     "name": "stdout",
     "output_type": "stream",
     "text": [
      "128/128 [==============================] - 0s 24us/step\n",
      "64/64 [==============================] - 0s 63us/step\n",
      "64/64 [==============================] - 0s 42us/step\n",
      "128/128 [==============================] - 0s 29us/step\n",
      "64/64 [==============================] - 0s 52us/step\n",
      "64/64 [==============================] - 0s 42us/step\n",
      "128/128 [==============================] - 0s 26us/step\n",
      "64/64 [==============================] - 0s 39us/step\n",
      "64/64 [==============================] - 0s 45us/step\n",
      "128/128 [==============================] - 0s 26us/step\n",
      "64/64 [==============================] - 0s 31us/step\n",
      "64/64 [==============================] - 0s 45us/step\n",
      "128/128 [==============================] - 0s 54us/step\n",
      "64/64 [==============================] - 0s 35us/step\n",
      "64/64 [==============================] - 0s 28us/step\n"
     ]
    },
    {
     "name": "stderr",
     "output_type": "stream",
     "text": [
      "\r",
      " 55%|█████▍    | 548/1000 [00:13<00:11, 40.04it/s]"
     ]
    },
    {
     "name": "stdout",
     "output_type": "stream",
     "text": [
      "128/128 [==============================] - 0s 33us/step\n",
      "64/64 [==============================] - 0s 32us/step\n",
      "64/64 [==============================] - 0s 31us/step\n",
      "128/128 [==============================] - 0s 22us/step\n",
      "64/64 [==============================] - 0s 38us/step\n",
      "64/64 [==============================] - 0s 57us/step\n",
      "128/128 [==============================] - 0s 25us/step\n",
      "64/64 [==============================] - 0s 32us/step\n",
      "64/64 [==============================] - ETA:  - 0s 65us/step\n",
      "128/128 [==============================] - 0s 27us/step\n",
      "64/64 [==============================] - 0s 38us/step\n",
      "64/64 [==============================] - 0s 40us/step\n",
      "128/128 [==============================] - 0s 26us/step\n",
      "64/64 [==============================] - 0s 33us/step\n",
      "64/64 [==============================] - 0s 45us/step\n"
     ]
    },
    {
     "name": "stderr",
     "output_type": "stream",
     "text": [
      "\r",
      " 55%|█████▌    | 553/1000 [00:13<00:11, 40.09it/s]"
     ]
    },
    {
     "name": "stdout",
     "output_type": "stream",
     "text": [
      "128/128 [==============================] - 0s 25us/step\n",
      "64/64 [==============================] - 0s 33us/step\n",
      "64/64 [==============================] - 0s 35us/step\n",
      "128/128 [==============================] - 0s 34us/step\n",
      "64/64 [==============================] - 0s 43us/step\n",
      "64/64 [==============================] - 0s 46us/step\n",
      "128/128 [==============================] - 0s 28us/step\n",
      "64/64 [==============================] - 0s 31us/step\n",
      "64/64 [==============================] - 0s 48us/step\n",
      "128/128 [==============================] - 0s 24us/step\n",
      "64/64 [==============================] - 0s 42us/step\n",
      "64/64 [==============================] - 0s 41us/step\n",
      "128/128 [==============================] - 0s 23us/step\n",
      "64/64 [==============================] - 0s 30us/step\n",
      "64/64 [==============================] - 0s 46us/step\n"
     ]
    },
    {
     "name": "stderr",
     "output_type": "stream",
     "text": [
      "\r",
      " 56%|█████▌    | 558/1000 [00:13<00:11, 40.16it/s]"
     ]
    },
    {
     "name": "stdout",
     "output_type": "stream",
     "text": [
      "128/128 [==============================] - 0s 33us/step\n",
      "64/64 [==============================] - 0s 54us/step\n",
      "64/64 [==============================] - 0s 35us/step\n",
      "128/128 [==============================] - 0s 31us/step\n",
      "64/64 [==============================] - 0s 26us/step\n",
      "64/64 [==============================] - 0s 26us/step\n",
      "128/128 [==============================] - 0s 26us/step\n",
      "64/64 [==============================] - 0s 42us/step\n",
      "64/64 [==============================] - 0s 41us/step\n",
      "128/128 [==============================] - 0s 25us/step\n",
      "64/64 [==============================] - 0s 29us/step\n",
      "64/64 [==============================] - 0s 36us/step\n",
      "128/128 [==============================] - 0s 28us/step\n",
      "64/64 [==============================] - 0s 36us/step\n",
      "64/64 [==============================] - 0s 32us/step\n"
     ]
    },
    {
     "name": "stderr",
     "output_type": "stream",
     "text": [
      "\r",
      " 56%|█████▋    | 563/1000 [00:13<00:10, 40.22it/s]"
     ]
    },
    {
     "name": "stdout",
     "output_type": "stream",
     "text": [
      "128/128 [==============================] - 0s 25us/step\n",
      "64/64 [==============================] - 0s 54us/step\n",
      "64/64 [==============================] - 0s 37us/step\n",
      "128/128 [==============================] - 0s 34us/step\n",
      "64/64 [==============================] - 0s 32us/step\n",
      "64/64 [==============================] - 0s 43us/step\n",
      "128/128 [==============================] - 0s 32us/step\n",
      "64/64 [==============================] - 0s 42us/step\n",
      "64/64 [==============================] - 0s 40us/step\n",
      "128/128 [==============================] - 0s 34us/step\n",
      "64/64 [==============================] - 0s 33us/step\n",
      "64/64 [==============================] - 0s 48us/step\n",
      "128/128 [==============================] - 0s 26us/step\n",
      "64/64 [==============================] - 0s 51us/step\n",
      "64/64 [==============================] - 0s 32us/step\n"
     ]
    },
    {
     "name": "stderr",
     "output_type": "stream",
     "text": [
      "\r",
      " 57%|█████▋    | 568/1000 [00:14<00:10, 40.27it/s]"
     ]
    },
    {
     "name": "stdout",
     "output_type": "stream",
     "text": [
      "128/128 [==============================] - 0s 27us/step\n",
      "64/64 [==============================] - 0s 33us/step\n",
      "64/64 [==============================] - 0s 39us/step\n",
      "128/128 [==============================] - 0s 31us/step\n",
      "64/64 [==============================] - 0s 32us/step\n",
      "64/64 [==============================] - 0s 31us/step\n",
      "128/128 [==============================] - ETA:  - 0s 23us/step\n",
      "64/64 [==============================] - 0s 34us/step\n",
      "64/64 [==============================] - 0s 31us/step\n",
      "128/128 [==============================] - 0s 28us/step\n",
      "64/64 [==============================] - 0s 34us/step\n",
      "64/64 [==============================] - 0s 44us/step\n",
      "128/128 [==============================] - 0s 26us/step\n",
      "64/64 [==============================] - 0s 43us/step\n",
      "64/64 [==============================] - 0s 32us/step\n"
     ]
    },
    {
     "name": "stderr",
     "output_type": "stream",
     "text": [
      "\r",
      " 57%|█████▋    | 573/1000 [00:14<00:10, 40.34it/s]"
     ]
    },
    {
     "name": "stdout",
     "output_type": "stream",
     "text": [
      "128/128 [==============================] - 0s 30us/step\n",
      "64/64 [==============================] - 0s 45us/step\n",
      "64/64 [==============================] - 0s 31us/step\n",
      "128/128 [==============================] - 0s 36us/step\n",
      "64/64 [==============================] - 0s 33us/step\n",
      "64/64 [==============================] - 0s 33us/step\n",
      "128/128 [==============================] - 0s 25us/step\n",
      "64/64 [==============================] - 0s 33us/step\n",
      "64/64 [==============================] - 0s 46us/step\n",
      "128/128 [==============================] - 0s 37us/step\n",
      "64/64 [==============================] - 0s 26us/step\n",
      "64/64 [==============================] - 0s 32us/step\n",
      "128/128 [==============================] - 0s 27us/step\n",
      "64/64 [==============================] - 0s 33us/step\n",
      "64/64 [==============================] - 0s 33us/step\n"
     ]
    },
    {
     "name": "stderr",
     "output_type": "stream",
     "text": [
      "\r",
      " 58%|█████▊    | 578/1000 [00:14<00:10, 40.39it/s]"
     ]
    },
    {
     "name": "stdout",
     "output_type": "stream",
     "text": [
      "128/128 [==============================] - 0s 27us/step\n",
      "64/64 [==============================] - 0s 31us/step\n",
      "64/64 [==============================] - 0s 47us/step\n",
      "128/128 [==============================] - 0s 28us/step\n",
      "64/64 [==============================] - 0s 32us/step\n",
      "64/64 [==============================] - 0s 47us/step\n",
      "128/128 [==============================] - 0s 29us/step\n",
      "64/64 [==============================] - 0s 35us/step\n",
      "64/64 [==============================] - 0s 41us/step\n",
      "128/128 [==============================] - 0s 24us/step\n",
      "64/64 [==============================] - 0s 28us/step\n",
      "64/64 [==============================] - 0s 104us/step\n",
      "128/128 [==============================] - 0s 27us/step\n",
      "64/64 [==============================] - 0s 30us/step\n",
      "64/64 [==============================] - 0s 45us/step\n"
     ]
    },
    {
     "name": "stderr",
     "output_type": "stream",
     "text": [
      "\r",
      " 58%|█████▊    | 583/1000 [00:14<00:10, 40.43it/s]"
     ]
    },
    {
     "name": "stdout",
     "output_type": "stream",
     "text": [
      "128/128 [==============================] - 0s 30us/step\n",
      "64/64 [==============================] - 0s 49us/step\n",
      "64/64 [==============================] - 0s 29us/step\n",
      "128/128 [==============================] - 0s 25us/step\n",
      "64/64 [==============================] - 0s 45us/step\n",
      "64/64 [==============================] - 0s 34us/step\n",
      "128/128 [==============================] - 0s 28us/step\n",
      "64/64 [==============================] - 0s 38us/step\n",
      "64/64 [==============================] - 0s 29us/step\n",
      "128/128 [==============================] - 0s 24us/step\n",
      "64/64 [==============================] - 0s 31us/step\n",
      "64/64 [==============================] - 0s 32us/step\n",
      "128/128 [==============================] - 0s 48us/step\n",
      "64/64 [==============================] - 0s 39us/step\n",
      "64/64 [==============================] - 0s 31us/step\n"
     ]
    },
    {
     "name": "stderr",
     "output_type": "stream",
     "text": [
      "\r",
      " 59%|█████▉    | 588/1000 [00:14<00:10, 40.49it/s]"
     ]
    },
    {
     "name": "stdout",
     "output_type": "stream",
     "text": [
      "128/128 [==============================] - 0s 24us/step\n",
      "64/64 [==============================] - 0s 43us/step\n",
      "64/64 [==============================] - 0s 86us/step\n",
      "128/128 [==============================] - 0s 25us/step\n",
      "64/64 [==============================] - 0s 42us/step\n",
      "64/64 [==============================] - 0s 46us/step\n",
      "128/128 [==============================] - 0s 33us/step\n",
      "64/64 [==============================] - 0s 53us/step\n",
      "64/64 [==============================] - 0s 26us/step\n",
      "128/128 [==============================] - 0s 28us/step\n",
      "64/64 [==============================] - 0s 44us/step\n",
      "64/64 [==============================] - 0s 31us/step\n",
      "128/128 [==============================] - 0s 34us/step\n",
      "64/64 [==============================] - 0s 32us/step\n",
      "64/64 [==============================] - 0s 32us/step\n"
     ]
    },
    {
     "name": "stderr",
     "output_type": "stream",
     "text": [
      "\r",
      " 59%|█████▉    | 593/1000 [00:14<00:10, 40.51it/s]"
     ]
    },
    {
     "name": "stdout",
     "output_type": "stream",
     "text": [
      "128/128 [==============================] - 0s 31us/step\n",
      "64/64 [==============================] - 0s 47us/step\n",
      "64/64 [==============================] - 0s 53us/step\n",
      "128/128 [==============================] - 0s 24us/step\n",
      "64/64 [==============================] - 0s 32us/step\n",
      "64/64 [==============================] - 0s 39us/step\n",
      "128/128 [==============================] - 0s 22us/step\n",
      "64/64 [==============================] - 0s 33us/step\n",
      "64/64 [==============================] - 0s 45us/step\n",
      "128/128 [==============================] - 0s 31us/step\n",
      "64/64 [==============================] - 0s 32us/step\n",
      "64/64 [==============================] - 0s 32us/step\n",
      "128/128 [==============================] - 0s 26us/step\n",
      "64/64 [==============================] - 0s 41us/step\n",
      "64/64 [==============================] - 0s 36us/step\n"
     ]
    },
    {
     "name": "stderr",
     "output_type": "stream",
     "text": [
      "\r",
      " 60%|█████▉    | 598/1000 [00:14<00:09, 40.57it/s]"
     ]
    },
    {
     "name": "stdout",
     "output_type": "stream",
     "text": [
      "128/128 [==============================] - 0s 25us/step\n",
      "64/64 [==============================] - 0s 93us/step\n",
      "64/64 [==============================] - 0s 34us/step\n",
      "128/128 [==============================] - 0s 27us/step\n",
      "64/64 [==============================] - 0s 45us/step\n",
      "64/64 [==============================] - 0s 36us/step\n",
      "128/128 [==============================] - 0s 25us/step\n",
      "64/64 [==============================] - 0s 50us/step\n",
      "64/64 [==============================] - 0s 42us/step\n",
      "128/128 [==============================] - 0s 28us/step\n",
      "64/64 [==============================] - 0s 30us/step\n",
      "64/64 [==============================] - 0s 51us/step\n",
      "128/128 [==============================] - 0s 34us/step\n",
      "64/64 [==============================] - 0s 36us/step\n",
      "64/64 [==============================] - 0s 32us/step\n"
     ]
    },
    {
     "name": "stderr",
     "output_type": "stream",
     "text": [
      "\r",
      " 60%|██████    | 603/1000 [00:14<00:09, 40.61it/s]"
     ]
    },
    {
     "name": "stdout",
     "output_type": "stream",
     "text": [
      "128/128 [==============================] - 0s 25us/step\n",
      "64/64 [==============================] - 0s 40us/step\n",
      "64/64 [==============================] - 0s 52us/step\n",
      "128/128 [==============================] - 0s 22us/step\n",
      "64/64 [==============================] - 0s 36us/step\n",
      "64/64 [==============================] - 0s 42us/step\n",
      "128/128 [==============================] - 0s 32us/step\n",
      "64/64 [==============================] - 0s 32us/step\n",
      "64/64 [==============================] - 0s 30us/step\n",
      "128/128 [==============================] - 0s 31us/step\n",
      "64/64 [==============================] - 0s 27us/step\n",
      "64/64 [==============================] - 0s 47us/step\n",
      "128/128 [==============================] - 0s 26us/step\n",
      "64/64 [==============================] - 0s 45us/step\n",
      "64/64 [==============================] - 0s 33us/step\n",
      "128/128 [==============================] - 0s 33us/step\n",
      "64/64 [==============================] - 0s 37us/step\n",
      "64/64 [==============================] - 0s 30us/step\n"
     ]
    },
    {
     "name": "stderr",
     "output_type": "stream",
     "text": [
      "\r",
      " 61%|██████    | 609/1000 [00:14<00:09, 40.68it/s]"
     ]
    },
    {
     "name": "stdout",
     "output_type": "stream",
     "text": [
      "128/128 [==============================] - 0s 36us/step\n",
      "64/64 [==============================] - 0s 57us/step\n",
      "64/64 [==============================] - 0s 29us/step\n",
      "128/128 [==============================] - 0s 24us/step\n",
      "64/64 [==============================] - 0s 27us/step\n",
      "64/64 [==============================] - 0s 66us/step\n",
      "128/128 [==============================] - 0s 27us/step\n",
      "64/64 [==============================] - 0s 30us/step\n",
      "64/64 [==============================] - 0s 31us/step\n",
      "128/128 [==============================] - 0s 33us/step\n",
      "64/64 [==============================] - 0s 55us/step\n",
      "64/64 [==============================] - 0s 42us/step\n",
      "128/128 [==============================] - 0s 25us/step\n",
      "64/64 [==============================] - 0s 44us/step\n",
      "64/64 [==============================] - 0s 49us/step\n"
     ]
    },
    {
     "name": "stderr",
     "output_type": "stream",
     "text": [
      "\r",
      " 61%|██████▏   | 614/1000 [00:15<00:09, 40.73it/s]"
     ]
    },
    {
     "name": "stdout",
     "output_type": "stream",
     "text": [
      "128/128 [==============================] - 0s 21us/step\n",
      "64/64 [==============================] - 0s 33us/step\n",
      "64/64 [==============================] - 0s 44us/step\n",
      "128/128 [==============================] - 0s 23us/step\n",
      "64/64 [==============================] - 0s 52us/step\n",
      "64/64 [==============================] - 0s 45us/step\n",
      "128/128 [==============================] - 0s 28us/step\n",
      "64/64 [==============================] - 0s 40us/step\n",
      "64/64 [==============================] - 0s 41us/step\n",
      "128/128 [==============================] - 0s 25us/step\n",
      "64/64 [==============================] - 0s 47us/step\n",
      "64/64 [==============================] - 0s 28us/step\n",
      "128/128 [==============================] - 0s 24us/step\n",
      "64/64 [==============================] - 0s 47us/step\n",
      "64/64 [==============================] - 0s 29us/step\n"
     ]
    },
    {
     "name": "stderr",
     "output_type": "stream",
     "text": [
      "\r",
      " 62%|██████▏   | 619/1000 [00:15<00:09, 40.79it/s]"
     ]
    },
    {
     "name": "stdout",
     "output_type": "stream",
     "text": [
      "128/128 [==============================] - 0s 26us/step\n",
      "64/64 [==============================] - 0s 32us/step\n",
      "64/64 [==============================] - 0s 32us/step\n",
      "128/128 [==============================] - 0s 25us/step\n",
      "64/64 [==============================] - 0s 74us/step\n",
      "64/64 [==============================] - 0s 43us/step\n",
      "128/128 [==============================] - 0s 26us/step\n",
      "64/64 [==============================] - 0s 30us/step\n",
      "64/64 [==============================] - 0s 28us/step\n",
      "128/128 [==============================] - 0s 26us/step\n",
      "64/64 [==============================] - 0s 34us/step\n",
      "64/64 [==============================] - 0s 92us/step\n",
      "128/128 [==============================] - 0s 56us/step\n",
      "64/64 [==============================] - 0s 36us/step\n",
      "64/64 [==============================] - 0s 37us/step\n"
     ]
    },
    {
     "name": "stderr",
     "output_type": "stream",
     "text": [
      "\r",
      " 62%|██████▏   | 624/1000 [00:15<00:09, 40.82it/s]"
     ]
    },
    {
     "name": "stdout",
     "output_type": "stream",
     "text": [
      "128/128 [==============================] - 0s 25us/step\n",
      "64/64 [==============================] - 0s 31us/step\n",
      "64/64 [==============================] - 0s 44us/step\n",
      "128/128 [==============================] - 0s 30us/step\n",
      "64/64 [==============================] - 0s 48us/step\n",
      "64/64 [==============================] - 0s 57us/step\n",
      "128/128 [==============================] - 0s 36us/step\n",
      "64/64 [==============================] - 0s 46us/step\n",
      "64/64 [==============================] - 0s 40us/step\n",
      "128/128 [==============================] - 0s 36us/step\n",
      "64/64 [==============================] - 0s 38us/step\n",
      "64/64 [==============================] - 0s 42us/step\n",
      "128/128 [==============================] - 0s 31us/step\n",
      "64/64 [==============================] - 0s 58us/step\n",
      "64/64 [==============================] - 0s 45us/step\n"
     ]
    },
    {
     "name": "stderr",
     "output_type": "stream",
     "text": [
      "\r",
      " 63%|██████▎   | 629/1000 [00:15<00:09, 40.85it/s]"
     ]
    },
    {
     "name": "stdout",
     "output_type": "stream",
     "text": [
      "128/128 [==============================] - 0s 34us/step\n",
      "64/64 [==============================] - 0s 61us/step\n",
      "64/64 [==============================] - 0s 29us/step\n",
      "128/128 [==============================] - 0s 31us/step\n",
      "64/64 [==============================] - 0s 26us/step\n",
      "64/64 [==============================] - 0s 40us/step\n",
      "128/128 [==============================] - 0s 37us/step\n",
      "64/64 [==============================] - 0s 50us/step\n",
      "64/64 [==============================] - 0s 61us/step\n",
      "128/128 [==============================] - ETA:  - 0s 33us/step\n",
      "64/64 [==============================] - 0s 39us/step\n",
      "64/64 [==============================] - 0s 32us/step\n",
      "128/128 [==============================] - 0s 37us/step\n",
      "64/64 [==============================] - 0s 43us/step\n",
      "64/64 [==============================] - 0s 42us/step\n"
     ]
    },
    {
     "name": "stderr",
     "output_type": "stream",
     "text": [
      "\r",
      " 63%|██████▎   | 634/1000 [00:15<00:08, 40.87it/s]"
     ]
    },
    {
     "name": "stdout",
     "output_type": "stream",
     "text": [
      "128/128 [==============================] - 0s 28us/step\n",
      "64/64 [==============================] - 0s 43us/step\n",
      "64/64 [==============================] - 0s 42us/step\n",
      "128/128 [==============================] - 0s 27us/step\n",
      "64/64 [==============================] - 0s 50us/step\n",
      "64/64 [==============================] - 0s 34us/step\n",
      "128/128 [==============================] - 0s 35us/step\n",
      "64/64 [==============================] - 0s 31us/step\n",
      "64/64 [==============================] - 0s 29us/step\n",
      "128/128 [==============================] - 0s 22us/step\n",
      "64/64 [==============================] - 0s 30us/step\n",
      "64/64 [==============================] - 0s 44us/step\n",
      "128/128 [==============================] - 0s 32us/step\n",
      "64/64 [==============================] - 0s 62us/step\n",
      "64/64 [==============================] - 0s 36us/step\n"
     ]
    },
    {
     "name": "stderr",
     "output_type": "stream",
     "text": [
      "\r",
      " 64%|██████▍   | 639/1000 [00:15<00:08, 40.91it/s]"
     ]
    },
    {
     "name": "stdout",
     "output_type": "stream",
     "text": [
      "128/128 [==============================] - 0s 33us/step\n",
      "64/64 [==============================] - 0s 50us/step\n",
      "64/64 [==============================] - 0s 43us/step\n",
      "128/128 [==============================] - 0s 24us/step\n",
      "64/64 [==============================] - 0s 26us/step\n",
      "64/64 [==============================] - 0s 63us/step\n",
      "128/128 [==============================] - 0s 24us/step\n",
      "64/64 [==============================] - 0s 98us/step\n",
      "64/64 [==============================] - 0s 29us/step\n",
      "128/128 [==============================] - 0s 26us/step\n",
      "64/64 [==============================] - 0s 37us/step\n",
      "64/64 [==============================] - 0s 28us/step\n",
      "128/128 [==============================] - 0s 32us/step\n",
      "64/64 [==============================] - 0s 38us/step\n",
      "64/64 [==============================] - 0s 42us/step\n"
     ]
    },
    {
     "name": "stderr",
     "output_type": "stream",
     "text": [
      "\r",
      " 64%|██████▍   | 644/1000 [00:15<00:08, 40.95it/s]"
     ]
    },
    {
     "name": "stdout",
     "output_type": "stream",
     "text": [
      "128/128 [==============================] - 0s 23us/step\n",
      "64/64 [==============================] - 0s 47us/step\n",
      "64/64 [==============================] - 0s 33us/step\n",
      "128/128 [==============================] - 0s 23us/step\n",
      "64/64 [==============================] - 0s 52us/step\n",
      "64/64 [==============================] - 0s 32us/step\n",
      "128/128 [==============================] - 0s 33us/step\n",
      "64/64 [==============================] - 0s 49us/step\n",
      "64/64 [==============================] - 0s 28us/step\n",
      "128/128 [==============================] - 0s 27us/step\n",
      "64/64 [==============================] - 0s 37us/step\n",
      "64/64 [==============================] - 0s 29us/step\n",
      "128/128 [==============================] - 0s 23us/step\n",
      "64/64 [==============================] - 0s 29us/step\n",
      "64/64 [==============================] - 0s 32us/step\n"
     ]
    },
    {
     "name": "stderr",
     "output_type": "stream",
     "text": [
      "\r",
      " 65%|██████▍   | 649/1000 [00:15<00:08, 41.01it/s]"
     ]
    },
    {
     "name": "stdout",
     "output_type": "stream",
     "text": [
      "128/128 [==============================] - 0s 23us/step\n",
      "64/64 [==============================] - 0s 41us/step\n",
      "64/64 [==============================] - 0s 50us/step\n",
      "128/128 [==============================] - 0s 31us/step\n",
      "64/64 [==============================] - 0s 35us/step\n",
      "64/64 [==============================] - 0s 30us/step\n",
      "128/128 [==============================] - 0s 30us/step\n",
      "64/64 [==============================] - 0s 63us/step\n",
      "64/64 [==============================] - 0s 30us/step\n",
      "128/128 [==============================] - 0s 28us/step\n",
      "64/64 [==============================] - 0s 44us/step\n",
      "64/64 [==============================] - 0s 32us/step\n",
      "128/128 [==============================] - 0s 26us/step\n",
      "64/64 [==============================] - 0s 30us/step\n",
      "64/64 [==============================] - 0s 56us/step\n"
     ]
    },
    {
     "name": "stderr",
     "output_type": "stream",
     "text": [
      "\r",
      " 65%|██████▌   | 654/1000 [00:15<00:08, 41.06it/s]"
     ]
    },
    {
     "name": "stdout",
     "output_type": "stream",
     "text": [
      "128/128 [==============================] - 0s 25us/step\n",
      "64/64 [==============================] - 0s 40us/step\n",
      "64/64 [==============================] - 0s 30us/step\n",
      "128/128 [==============================] - 0s 25us/step\n",
      "64/64 [==============================] - 0s 62us/step\n",
      "64/64 [==============================] - 0s 49us/step\n",
      "128/128 [==============================] - 0s 28us/step\n",
      "64/64 [==============================] - 0s 44us/step\n",
      "64/64 [==============================] - 0s 28us/step\n",
      "128/128 [==============================] - 0s 30us/step\n",
      "64/64 [==============================] - 0s 26us/step\n",
      "64/64 [==============================] - 0s 36us/step\n",
      "128/128 [==============================] - 0s 22us/step\n",
      "64/64 [==============================] - 0s 48us/step\n",
      "64/64 [==============================] - 0s 38us/step\n"
     ]
    },
    {
     "name": "stderr",
     "output_type": "stream",
     "text": [
      "\r",
      " 66%|██████▌   | 659/1000 [00:16<00:08, 41.10it/s]"
     ]
    },
    {
     "name": "stdout",
     "output_type": "stream",
     "text": [
      "128/128 [==============================] - 0s 33us/step\n",
      "64/64 [==============================] - 0s 33us/step\n",
      "64/64 [==============================] - 0s 50us/step\n",
      "128/128 [==============================] - 0s 26us/step\n",
      "64/64 [==============================] - 0s 55us/step\n",
      "64/64 [==============================] - 0s 98us/step\n",
      "128/128 [==============================] - 0s 21us/step\n",
      "64/64 [==============================] - 0s 34us/step\n",
      "64/64 [==============================] - 0s 30us/step\n",
      "128/128 [==============================] - 0s 23us/step\n",
      "64/64 [==============================] - 0s 45us/step\n",
      "64/64 [==============================] - 0s 43us/step\n",
      "128/128 [==============================] - 0s 27us/step\n",
      "64/64 [==============================] - 0s 40us/step\n",
      "64/64 [==============================] - 0s 29us/step\n"
     ]
    },
    {
     "name": "stderr",
     "output_type": "stream",
     "text": [
      "\r",
      " 66%|██████▋   | 664/1000 [00:16<00:08, 41.15it/s]"
     ]
    },
    {
     "name": "stdout",
     "output_type": "stream",
     "text": [
      "128/128 [==============================] - 0s 31us/step\n",
      "64/64 [==============================] - 0s 42us/step\n",
      "64/64 [==============================] - 0s 31us/step\n",
      "128/128 [==============================] - 0s 24us/step\n",
      "64/64 [==============================] - 0s 42us/step\n",
      "64/64 [==============================] - 0s 32us/step\n",
      "128/128 [==============================] - 0s 25us/step\n",
      "64/64 [==============================] - 0s 48us/step\n",
      "64/64 [==============================] - 0s 38us/step\n",
      "128/128 [==============================] - 0s 24us/step\n",
      "64/64 [==============================] - 0s 43us/step\n",
      "64/64 [==============================] - 0s 32us/step\n",
      "128/128 [==============================] - 0s 24us/step\n",
      "64/64 [==============================] - 0s 49us/step\n",
      "64/64 [==============================] - 0s 37us/step\n"
     ]
    },
    {
     "name": "stderr",
     "output_type": "stream",
     "text": [
      "\r",
      " 67%|██████▋   | 669/1000 [00:16<00:08, 41.20it/s]"
     ]
    },
    {
     "name": "stdout",
     "output_type": "stream",
     "text": [
      "128/128 [==============================] - 0s 27us/step\n",
      "64/64 [==============================] - 0s 31us/step\n",
      "64/64 [==============================] - 0s 45us/step\n",
      "128/128 [==============================] - 0s 22us/step\n",
      "64/64 [==============================] - 0s 29us/step\n",
      "64/64 [==============================] - 0s 40us/step\n",
      "128/128 [==============================] - 0s 32us/step\n",
      "64/64 [==============================] - 0s 43us/step\n",
      "64/64 [==============================] - 0s 32us/step\n",
      "128/128 [==============================] - 0s 35us/step\n",
      "64/64 [==============================] - 0s 30us/step\n",
      "64/64 [==============================] - 0s 44us/step\n",
      "128/128 [==============================] - 0s 35us/step\n",
      "64/64 [==============================] - 0s 29us/step\n",
      "64/64 [==============================] - 0s 53us/step\n"
     ]
    },
    {
     "name": "stderr",
     "output_type": "stream",
     "text": [
      "\r",
      " 67%|██████▋   | 674/1000 [00:16<00:07, 41.24it/s]"
     ]
    },
    {
     "name": "stdout",
     "output_type": "stream",
     "text": [
      "128/128 [==============================] - 0s 24us/step\n",
      "64/64 [==============================] - 0s 66us/step\n",
      "64/64 [==============================] - 0s 50us/step\n",
      "128/128 [==============================] - 0s 30us/step\n",
      "64/64 [==============================] - 0s 44us/step\n",
      "64/64 [==============================] - 0s 60us/step\n",
      "128/128 [==============================] - 0s 31us/step\n",
      "64/64 [==============================] - 0s 41us/step\n",
      "64/64 [==============================] - 0s 30us/step\n",
      "128/128 [==============================] - 0s 23us/step\n",
      "64/64 [==============================] - 0s 47us/step\n",
      "64/64 [==============================] - 0s 46us/step\n",
      "128/128 [==============================] - 0s 34us/step\n",
      "64/64 [==============================] - 0s 56us/step\n",
      "64/64 [==============================] - 0s 48us/step\n"
     ]
    },
    {
     "name": "stderr",
     "output_type": "stream",
     "text": [
      "\r",
      " 68%|██████▊   | 679/1000 [00:16<00:07, 41.27it/s]"
     ]
    },
    {
     "name": "stdout",
     "output_type": "stream",
     "text": [
      "128/128 [==============================] - 0s 37us/step\n",
      "64/64 [==============================] - 0s 38us/step\n",
      "64/64 [==============================] - 0s 33us/step\n",
      "128/128 [==============================] - 0s 25us/step\n",
      "64/64 [==============================] - 0s 26us/step\n",
      "64/64 [==============================] - 0s 33us/step\n",
      "128/128 [==============================] - 0s 31us/step\n",
      "64/64 [==============================] - 0s 34us/step\n",
      "64/64 [==============================] - 0s 32us/step\n",
      "128/128 [==============================] - 0s 35us/step\n",
      "64/64 [==============================] - 0s 80us/step\n",
      "64/64 [==============================] - 0s 70us/step\n",
      "128/128 [==============================] - 0s 34us/step\n",
      "64/64 [==============================] - 0s 60us/step\n",
      "64/64 [==============================] - 0s 61us/step\n"
     ]
    },
    {
     "name": "stderr",
     "output_type": "stream",
     "text": [
      "\r",
      " 68%|██████▊   | 684/1000 [00:16<00:07, 41.28it/s]"
     ]
    },
    {
     "name": "stdout",
     "output_type": "stream",
     "text": [
      "128/128 [==============================] - 0s 29us/step\n",
      "64/64 [==============================] - 0s 122us/step\n",
      "64/64 [==============================] - 0s 46us/step\n",
      "128/128 [==============================] - 0s 28us/step\n",
      "64/64 [==============================] - 0s 58us/step\n",
      "64/64 [==============================] - 0s 39us/step\n",
      "128/128 [==============================] - 0s 22us/step\n",
      "64/64 [==============================] - 0s 36us/step\n",
      "64/64 [==============================] - 0s 51us/step\n",
      "128/128 [==============================] - 0s 31us/step\n",
      "64/64 [==============================] - 0s 92us/step\n",
      "64/64 [==============================] - 0s 37us/step\n",
      "128/128 [==============================] - 0s 28us/step\n",
      "64/64 [==============================] - 0s 34us/step\n",
      "64/64 [==============================] - 0s 60us/step\n"
     ]
    },
    {
     "name": "stderr",
     "output_type": "stream",
     "text": [
      "\r",
      " 69%|██████▉   | 689/1000 [00:16<00:07, 41.28it/s]"
     ]
    },
    {
     "name": "stdout",
     "output_type": "stream",
     "text": [
      "128/128 [==============================] - 0s 29us/step\n",
      "64/64 [==============================] - 0s 27us/step\n",
      "64/64 [==============================] - 0s 57us/step\n",
      "128/128 [==============================] - 0s 25us/step\n",
      "64/64 [==============================] - 0s 31us/step\n",
      "64/64 [==============================] - 0s 56us/step\n",
      "128/128 [==============================] - 0s 34us/step\n",
      "64/64 [==============================] - 0s 35us/step\n",
      "64/64 [==============================] - 0s 30us/step\n",
      "128/128 [==============================] - 0s 34us/step\n",
      "64/64 [==============================] - 0s 42us/step\n",
      "64/64 [==============================] - 0s 27us/step\n",
      "128/128 [==============================] - 0s 24us/step\n",
      "64/64 [==============================] - 0s 29us/step\n",
      "64/64 [==============================] - 0s 27us/step\n"
     ]
    },
    {
     "name": "stderr",
     "output_type": "stream",
     "text": [
      "\r",
      " 69%|██████▉   | 694/1000 [00:16<00:07, 41.33it/s]"
     ]
    },
    {
     "name": "stdout",
     "output_type": "stream",
     "text": [
      "128/128 [==============================] - 0s 32us/step\n",
      "64/64 [==============================] - 0s 57us/step\n",
      "64/64 [==============================] - 0s 34us/step\n",
      "128/128 [==============================] - 0s 27us/step\n",
      "64/64 [==============================] - 0s 72us/step\n",
      "64/64 [==============================] - 0s 44us/step\n",
      "128/128 [==============================] - 0s 26us/step\n",
      "64/64 [==============================] - 0s 45us/step\n",
      "64/64 [==============================] - 0s 42us/step\n",
      "128/128 [==============================] - 0s 25us/step\n",
      "64/64 [==============================] - 0s 41us/step\n",
      "64/64 [==============================] - 0s 56us/step\n",
      "128/128 [==============================] - 0s 25us/step\n",
      "64/64 [==============================] - 0s 60us/step\n",
      "64/64 [==============================] - 0s 28us/step\n"
     ]
    },
    {
     "name": "stderr",
     "output_type": "stream",
     "text": [
      "\r",
      " 70%|██████▉   | 699/1000 [00:16<00:07, 41.35it/s]"
     ]
    },
    {
     "name": "stdout",
     "output_type": "stream",
     "text": [
      "128/128 [==============================] - 0s 39us/step\n",
      "64/64 [==============================] - 0s 51us/step\n",
      "64/64 [==============================] - 0s 43us/step\n",
      "128/128 [==============================] - 0s 26us/step\n",
      "64/64 [==============================] - 0s 43us/step\n",
      "64/64 [==============================] - 0s 35us/step\n",
      "128/128 [==============================] - 0s 33us/step\n",
      "64/64 [==============================] - 0s 32us/step\n",
      "64/64 [==============================] - 0s 38us/step\n",
      "128/128 [==============================] - 0s 35us/step\n",
      "64/64 [==============================] - 0s 60us/step\n",
      "64/64 [==============================] - 0s 29us/step\n",
      "128/128 [==============================] - 0s 32us/step\n",
      "64/64 [==============================] - 0s 44us/step\n",
      "64/64 [==============================] - 0s 53us/step\n"
     ]
    },
    {
     "name": "stderr",
     "output_type": "stream",
     "text": [
      "\r",
      " 70%|███████   | 704/1000 [00:17<00:07, 41.39it/s]"
     ]
    },
    {
     "name": "stdout",
     "output_type": "stream",
     "text": [
      "128/128 [==============================] - 0s 32us/step\n",
      "64/64 [==============================] - 0s 57us/step\n",
      "64/64 [==============================] - 0s 44us/step\n",
      "128/128 [==============================] - 0s 34us/step\n",
      "64/64 [==============================] - 0s 46us/step\n",
      "64/64 [==============================] - 0s 31us/step\n",
      "128/128 [==============================] - 0s 27us/step\n",
      "64/64 [==============================] - 0s 29us/step\n",
      "64/64 [==============================] - 0s 42us/step\n",
      "128/128 [==============================] - 0s 24us/step\n",
      "64/64 [==============================] - 0s 44us/step\n",
      "64/64 [==============================] - 0s 48us/step\n",
      "128/128 [==============================] - 0s 23us/step\n",
      "64/64 [==============================] - 0s 27us/step\n",
      "64/64 [==============================] - 0s 30us/step\n"
     ]
    },
    {
     "name": "stderr",
     "output_type": "stream",
     "text": [
      "\r",
      " 71%|███████   | 709/1000 [00:17<00:07, 41.42it/s]"
     ]
    },
    {
     "name": "stdout",
     "output_type": "stream",
     "text": [
      "128/128 [==============================] - 0s 27us/step\n",
      "64/64 [==============================] - 0s 39us/step\n",
      "64/64 [==============================] - 0s 47us/step\n",
      "128/128 [==============================] - 0s 32us/step\n",
      "64/64 [==============================] - 0s 45us/step\n",
      "64/64 [==============================] - 0s 42us/step\n",
      "128/128 [==============================] - 0s 31us/step\n",
      "64/64 [==============================] - 0s 38us/step\n",
      "64/64 [==============================] - 0s 43us/step\n",
      "128/128 [==============================] - 0s 32us/step\n",
      "64/64 [==============================] - 0s 57us/step\n",
      "64/64 [==============================] - 0s 38us/step\n",
      "128/128 [==============================] - 0s 25us/step\n",
      "64/64 [==============================] - 0s 40us/step\n",
      "64/64 [==============================] - 0s 45us/step\n"
     ]
    },
    {
     "name": "stderr",
     "output_type": "stream",
     "text": [
      "\r",
      " 71%|███████▏  | 714/1000 [00:17<00:06, 41.46it/s]"
     ]
    },
    {
     "name": "stdout",
     "output_type": "stream",
     "text": [
      "128/128 [==============================] - 0s 29us/step\n",
      "64/64 [==============================] - 0s 28us/step\n",
      "64/64 [==============================] - 0s 36us/step\n",
      "128/128 [==============================] - 0s 26us/step\n",
      "64/64 [==============================] - 0s 56us/step\n",
      "64/64 [==============================] - 0s 100us/step\n",
      "128/128 [==============================] - 0s 25us/step\n",
      "64/64 [==============================] - 0s 38us/step\n",
      "64/64 [==============================] - 0s 28us/step\n",
      "128/128 [==============================] - 0s 27us/step\n",
      "64/64 [==============================] - 0s 28us/step\n",
      "64/64 [==============================] - 0s 43us/step\n",
      "128/128 [==============================] - 0s 25us/step\n",
      "64/64 [==============================] - 0s 33us/step\n",
      "64/64 [==============================] - 0s 58us/step\n"
     ]
    },
    {
     "name": "stderr",
     "output_type": "stream",
     "text": [
      "\r",
      " 72%|███████▏  | 719/1000 [00:17<00:06, 41.49it/s]"
     ]
    },
    {
     "name": "stdout",
     "output_type": "stream",
     "text": [
      "128/128 [==============================] - 0s 22us/step\n",
      "64/64 [==============================] - 0s 50us/step\n",
      "64/64 [==============================] - 0s 38us/step\n",
      "128/128 [==============================] - 0s 32us/step\n",
      "64/64 [==============================] - 0s 38us/step\n",
      "64/64 [==============================] - 0s 44us/step\n",
      "128/128 [==============================] - 0s 27us/step\n",
      "64/64 [==============================] - 0s 48us/step\n",
      "64/64 [==============================] - 0s 54us/step\n",
      "128/128 [==============================] - 0s 24us/step\n",
      "64/64 [==============================] - 0s 53us/step\n",
      "64/64 [==============================] - 0s 34us/step\n",
      "128/128 [==============================] - 0s 25us/step\n",
      "64/64 [==============================] - 0s 30us/step\n",
      "64/64 [==============================] - 0s 42us/step\n"
     ]
    },
    {
     "name": "stderr",
     "output_type": "stream",
     "text": [
      "\r",
      " 72%|███████▏  | 724/1000 [00:17<00:06, 41.54it/s]"
     ]
    },
    {
     "name": "stdout",
     "output_type": "stream",
     "text": [
      "128/128 [==============================] - 0s 25us/step\n",
      "64/64 [==============================] - 0s 37us/step\n",
      "64/64 [==============================] - 0s 30us/step\n",
      "128/128 [==============================] - 0s 25us/step\n",
      "64/64 [==============================] - 0s 47us/step\n",
      "64/64 [==============================] - 0s 40us/step\n",
      "128/128 [==============================] - 0s 23us/step\n",
      "64/64 [==============================] - 0s 33us/step\n",
      "64/64 [==============================] - 0s 26us/step\n",
      "128/128 [==============================] - 0s 24us/step\n",
      "64/64 [==============================] - 0s 36us/step\n",
      "64/64 [==============================] - 0s 45us/step\n",
      "128/128 [==============================] - 0s 27us/step\n",
      "64/64 [==============================] - 0s 52us/step\n",
      "64/64 [==============================] - 0s 29us/step\n"
     ]
    },
    {
     "name": "stderr",
     "output_type": "stream",
     "text": [
      "\r",
      " 73%|███████▎  | 729/1000 [00:17<00:06, 41.57it/s]"
     ]
    },
    {
     "name": "stdout",
     "output_type": "stream",
     "text": [
      "128/128 [==============================] - 0s 32us/step\n",
      "64/64 [==============================] - 0s 44us/step\n",
      "64/64 [==============================] - 0s 28us/step\n",
      "128/128 [==============================] - 0s 34us/step\n",
      "64/64 [==============================] - 0s 27us/step\n",
      "64/64 [==============================] - 0s 39us/step\n",
      "128/128 [==============================] - 0s 32us/step\n",
      "64/64 [==============================] - 0s 35us/step\n",
      "64/64 [==============================] - 0s 45us/step\n",
      "128/128 [==============================] - 0s 49us/step\n",
      "64/64 [==============================] - 0s 51us/step\n",
      "64/64 [==============================] - 0s 37us/step\n",
      "128/128 [==============================] - 0s 27us/step\n",
      "64/64 [==============================] - 0s 44us/step\n",
      "64/64 [==============================] - 0s 30us/step\n"
     ]
    },
    {
     "name": "stderr",
     "output_type": "stream",
     "text": [
      "\r",
      " 73%|███████▎  | 734/1000 [00:17<00:06, 41.61it/s]"
     ]
    },
    {
     "name": "stdout",
     "output_type": "stream",
     "text": [
      "128/128 [==============================] - 0s 24us/step\n",
      "64/64 [==============================] - 0s 33us/step\n",
      "64/64 [==============================] - 0s 31us/step\n",
      "128/128 [==============================] - 0s 31us/step\n",
      "64/64 [==============================] - 0s 38us/step\n",
      "64/64 [==============================] - 0s 52us/step\n",
      "128/128 [==============================] - 0s 35us/step\n",
      "64/64 [==============================] - 0s 44us/step\n",
      "64/64 [==============================] - 0s 36us/step\n",
      "128/128 [==============================] - 0s 34us/step\n",
      "64/64 [==============================] - 0s 33us/step\n",
      "64/64 [==============================] - 0s 29us/step\n",
      "128/128 [==============================] - 0s 32us/step\n",
      "64/64 [==============================] - 0s 25us/step\n",
      "64/64 [==============================] - 0s 48us/step\n"
     ]
    },
    {
     "name": "stderr",
     "output_type": "stream",
     "text": [
      "\r",
      " 74%|███████▍  | 739/1000 [00:17<00:06, 41.64it/s]"
     ]
    },
    {
     "name": "stdout",
     "output_type": "stream",
     "text": [
      "128/128 [==============================] - 0s 24us/step\n",
      "64/64 [==============================] - 0s 47us/step\n",
      "64/64 [==============================] - 0s 56us/step\n",
      "128/128 [==============================] - 0s 29us/step\n",
      "64/64 [==============================] - 0s 35us/step\n",
      "64/64 [==============================] - 0s 32us/step\n",
      "128/128 [==============================] - 0s 35us/step\n",
      "64/64 [==============================] - 0s 30us/step\n",
      "64/64 [==============================] - 0s 45us/step\n",
      "128/128 [==============================] - 0s 24us/step\n",
      "64/64 [==============================] - 0s 61us/step\n",
      "64/64 [==============================] - 0s 55us/step\n",
      "128/128 [==============================] - 0s 25us/step\n",
      "64/64 [==============================] - 0s 33us/step\n",
      "64/64 [==============================] - 0s 64us/step\n"
     ]
    },
    {
     "name": "stderr",
     "output_type": "stream",
     "text": [
      "\r",
      " 74%|███████▍  | 744/1000 [00:17<00:06, 41.68it/s]"
     ]
    },
    {
     "name": "stdout",
     "output_type": "stream",
     "text": [
      "128/128 [==============================] - 0s 36us/step\n",
      "64/64 [==============================] - 0s 43us/step\n",
      "64/64 [==============================] - 0s 54us/step\n",
      "128/128 [==============================] - 0s 33us/step\n",
      "64/64 [==============================] - 0s 27us/step\n",
      "64/64 [==============================] - 0s 32us/step\n",
      "128/128 [==============================] - 0s 22us/step\n",
      "64/64 [==============================] - 0s 31us/step\n",
      "64/64 [==============================] - 0s 48us/step\n",
      "128/128 [==============================] - 0s 30us/step\n",
      "64/64 [==============================] - 0s 46us/step\n",
      "64/64 [==============================] - 0s 32us/step\n",
      "128/128 [==============================] - 0s 28us/step\n",
      "64/64 [==============================] - 0s 31us/step\n",
      "64/64 [==============================] - 0s 36us/step\n"
     ]
    },
    {
     "name": "stderr",
     "output_type": "stream",
     "text": [
      "\r",
      " 75%|███████▍  | 749/1000 [00:17<00:06, 41.71it/s]"
     ]
    },
    {
     "name": "stdout",
     "output_type": "stream",
     "text": [
      "128/128 [==============================] - 0s 33us/step\n",
      "64/64 [==============================] - 0s 31us/step\n",
      "64/64 [==============================] - 0s 27us/step\n",
      "128/128 [==============================] - 0s 24us/step\n",
      "64/64 [==============================] - 0s 31us/step\n",
      "64/64 [==============================] - 0s 64us/step\n",
      "128/128 [==============================] - 0s 25us/step\n",
      "64/64 [==============================] - 0s 60us/step\n",
      "64/64 [==============================] - 0s 35us/step\n",
      "128/128 [==============================] - 0s 27us/step\n",
      "64/64 [==============================] - 0s 48us/step\n",
      "64/64 [==============================] - 0s 33us/step\n",
      "128/128 [==============================] - 0s 23us/step\n",
      "64/64 [==============================] - 0s 40us/step\n",
      "64/64 [==============================] - 0s 29us/step\n"
     ]
    },
    {
     "name": "stderr",
     "output_type": "stream",
     "text": [
      "\r",
      " 75%|███████▌  | 754/1000 [00:18<00:05, 41.76it/s]"
     ]
    },
    {
     "name": "stdout",
     "output_type": "stream",
     "text": [
      "128/128 [==============================] - 0s 24us/step\n",
      "64/64 [==============================] - 0s 40us/step\n",
      "64/64 [==============================] - 0s 57us/step\n",
      "128/128 [==============================] - 0s 33us/step\n",
      "64/64 [==============================] - 0s 58us/step\n",
      "64/64 [==============================] - 0s 31us/step\n",
      "128/128 [==============================] - 0s 32us/step\n",
      "64/64 [==============================] - 0s 32us/step\n",
      "64/64 [==============================] - 0s 52us/step\n",
      "128/128 [==============================] - 0s 28us/step\n",
      "64/64 [==============================] - 0s 44us/step\n",
      "64/64 [==============================] - 0s 42us/step\n",
      "128/128 [==============================] - 0s 22us/step\n",
      "64/64 [==============================] - 0s 60us/step\n",
      "64/64 [==============================] - 0s 50us/step\n"
     ]
    },
    {
     "name": "stderr",
     "output_type": "stream",
     "text": [
      "\r",
      " 76%|███████▌  | 759/1000 [00:18<00:05, 41.79it/s]"
     ]
    },
    {
     "name": "stdout",
     "output_type": "stream",
     "text": [
      "128/128 [==============================] - 0s 33us/step\n",
      "64/64 [==============================] - 0s 54us/step\n",
      "64/64 [==============================] - 0s 55us/step\n",
      "128/128 [==============================] - 0s 22us/step\n",
      "64/64 [==============================] - 0s 42us/step\n",
      "64/64 [==============================] - 0s 44us/step\n",
      "128/128 [==============================] - 0s 31us/step\n",
      "64/64 [==============================] - 0s 37us/step\n",
      "64/64 [==============================] - 0s 37us/step\n",
      "128/128 [==============================] - 0s 27us/step\n",
      "64/64 [==============================] - 0s 37us/step\n",
      "64/64 [==============================] - 0s 59us/step\n",
      "128/128 [==============================] - 0s 27us/step\n",
      "64/64 [==============================] - 0s 29us/step\n",
      "64/64 [==============================] - 0s 44us/step\n"
     ]
    },
    {
     "name": "stderr",
     "output_type": "stream",
     "text": [
      "\r",
      " 76%|███████▋  | 764/1000 [00:18<00:05, 41.81it/s]"
     ]
    },
    {
     "name": "stdout",
     "output_type": "stream",
     "text": [
      "128/128 [==============================] - 0s 33us/step\n",
      "64/64 [==============================] - 0s 51us/step\n",
      "64/64 [==============================] - 0s 31us/step\n",
      "128/128 [==============================] - 0s 25us/step\n",
      "64/64 [==============================] - ETA:  - 0s 65us/step\n",
      "64/64 [==============================] - 0s 74us/step\n",
      "128/128 [==============================] - 0s 27us/step\n",
      "64/64 [==============================] - 0s 39us/step\n",
      "64/64 [==============================] - 0s 52us/step\n",
      "128/128 [==============================] - 0s 29us/step\n",
      "64/64 [==============================] - 0s 45us/step\n",
      "64/64 [==============================] - 0s 33us/step\n",
      "128/128 [==============================] - 0s 62us/step\n",
      "64/64 [==============================] - 0s 38us/step\n",
      "64/64 [==============================] - 0s 37us/step\n"
     ]
    },
    {
     "name": "stderr",
     "output_type": "stream",
     "text": [
      "\r",
      " 77%|███████▋  | 769/1000 [00:18<00:05, 41.82it/s]"
     ]
    },
    {
     "name": "stdout",
     "output_type": "stream",
     "text": [
      "128/128 [==============================] - 0s 25us/step\n",
      "64/64 [==============================] - 0s 50us/step\n",
      "64/64 [==============================] - 0s 52us/step\n",
      "128/128 [==============================] - 0s 25us/step\n",
      "64/64 [==============================] - 0s 30us/step\n",
      "64/64 [==============================] - 0s 34us/step\n",
      "128/128 [==============================] - 0s 24us/step\n",
      "64/64 [==============================] - 0s 43us/step\n",
      "64/64 [==============================] - 0s 42us/step\n",
      "128/128 [==============================] - 0s 26us/step\n",
      "64/64 [==============================] - 0s 64us/step\n",
      "64/64 [==============================] - 0s 56us/step\n",
      "128/128 [==============================] - 0s 30us/step\n",
      "64/64 [==============================] - 0s 29us/step\n",
      "64/64 [==============================] - 0s 29us/step\n"
     ]
    },
    {
     "name": "stderr",
     "output_type": "stream",
     "text": [
      "\r",
      " 77%|███████▋  | 774/1000 [00:18<00:05, 41.86it/s]"
     ]
    },
    {
     "name": "stdout",
     "output_type": "stream",
     "text": [
      "128/128 [==============================] - 0s 31us/step\n",
      "64/64 [==============================] - 0s 42us/step\n",
      "64/64 [==============================] - 0s 33us/step\n",
      "128/128 [==============================] - 0s 23us/step\n",
      "64/64 [==============================] - 0s 31us/step\n",
      "64/64 [==============================] - 0s 43us/step\n",
      "128/128 [==============================] - 0s 27us/step\n",
      "64/64 [==============================] - 0s 33us/step\n",
      "64/64 [==============================] - 0s 43us/step\n",
      "128/128 [==============================] - 0s 22us/step\n",
      "64/64 [==============================] - 0s 47us/step\n",
      "64/64 [==============================] - 0s 53us/step\n",
      "128/128 [==============================] - 0s 23us/step\n",
      "64/64 [==============================] - 0s 28us/step\n",
      "64/64 [==============================] - 0s 28us/step\n"
     ]
    },
    {
     "name": "stderr",
     "output_type": "stream",
     "text": [
      "\r",
      " 78%|███████▊  | 779/1000 [00:18<00:05, 41.90it/s]"
     ]
    },
    {
     "name": "stdout",
     "output_type": "stream",
     "text": [
      "128/128 [==============================] - 0s 26us/step\n",
      "64/64 [==============================] - 0s 38us/step\n",
      "64/64 [==============================] - 0s 27us/step\n",
      "128/128 [==============================] - 0s 31us/step\n",
      "64/64 [==============================] - 0s 47us/step\n",
      "64/64 [==============================] - 0s 31us/step\n",
      "128/128 [==============================] - 0s 25us/step\n",
      "64/64 [==============================] - 0s 34us/step\n",
      "64/64 [==============================] - 0s 52us/step\n",
      "128/128 [==============================] - 0s 22us/step\n",
      "64/64 [==============================] - 0s 55us/step\n",
      "64/64 [==============================] - 0s 32us/step\n",
      "128/128 [==============================] - 0s 32us/step\n",
      "64/64 [==============================] - 0s 30us/step\n",
      "64/64 [==============================] - 0s 29us/step\n"
     ]
    },
    {
     "name": "stderr",
     "output_type": "stream",
     "text": [
      "\r",
      " 78%|███████▊  | 784/1000 [00:18<00:05, 41.93it/s]"
     ]
    },
    {
     "name": "stdout",
     "output_type": "stream",
     "text": [
      "128/128 [==============================] - 0s 32us/step\n",
      "64/64 [==============================] - 0s 53us/step\n",
      "64/64 [==============================] - 0s 40us/step\n",
      "128/128 [==============================] - 0s 37us/step\n",
      "64/64 [==============================] - 0s 26us/step\n",
      "64/64 [==============================] - 0s 51us/step\n",
      "128/128 [==============================] - 0s 24us/step\n",
      "64/64 [==============================] - 0s 45us/step\n",
      "64/64 [==============================] - 0s 45us/step\n",
      "128/128 [==============================] - 0s 24us/step\n",
      "64/64 [==============================] - 0s 31us/step\n",
      "64/64 [==============================] - 0s 60us/step\n",
      "128/128 [==============================] - 0s 25us/step\n",
      "64/64 [==============================] - 0s 42us/step\n",
      "64/64 [==============================] - 0s 44us/step\n"
     ]
    },
    {
     "name": "stderr",
     "output_type": "stream",
     "text": [
      "\r",
      " 79%|███████▉  | 789/1000 [00:18<00:05, 41.96it/s]"
     ]
    },
    {
     "name": "stdout",
     "output_type": "stream",
     "text": [
      "128/128 [==============================] - 0s 28us/step\n",
      "64/64 [==============================] - 0s 25us/step\n",
      "64/64 [==============================] - 0s 46us/step\n",
      "128/128 [==============================] - 0s 32us/step\n",
      "64/64 [==============================] - 0s 28us/step\n",
      "64/64 [==============================] - 0s 39us/step\n",
      "128/128 [==============================] - 0s 23us/step\n",
      "64/64 [==============================] - 0s 45us/step\n",
      "64/64 [==============================] - 0s 49us/step\n",
      "128/128 [==============================] - 0s 30us/step\n",
      "64/64 [==============================] - 0s 35us/step\n",
      "64/64 [==============================] - 0s 29us/step\n",
      "128/128 [==============================] - 0s 25us/step\n",
      "64/64 [==============================] - 0s 50us/step\n",
      "64/64 [==============================] - 0s 37us/step\n"
     ]
    },
    {
     "name": "stderr",
     "output_type": "stream",
     "text": [
      "\r",
      " 79%|███████▉  | 794/1000 [00:18<00:04, 41.99it/s]"
     ]
    },
    {
     "name": "stdout",
     "output_type": "stream",
     "text": [
      "128/128 [==============================] - 0s 22us/step\n",
      "64/64 [==============================] - 0s 27us/step\n",
      "64/64 [==============================] - 0s 57us/step\n",
      "128/128 [==============================] - 0s 31us/step\n",
      "64/64 [==============================] - 0s 47us/step\n",
      "64/64 [==============================] - 0s 35us/step\n",
      "128/128 [==============================] - 0s 29us/step\n",
      "64/64 [==============================] - 0s 33us/step\n",
      "64/64 [==============================] - 0s 43us/step\n",
      "128/128 [==============================] - 0s 29us/step\n",
      "64/64 [==============================] - 0s 58us/step\n",
      "64/64 [==============================] - 0s 28us/step\n",
      "128/128 [==============================] - 0s 23us/step\n",
      "64/64 [==============================] - 0s 41us/step\n",
      "64/64 [==============================] - 0s 42us/step\n"
     ]
    },
    {
     "name": "stderr",
     "output_type": "stream",
     "text": [
      "\r",
      " 80%|███████▉  | 799/1000 [00:19<00:04, 42.02it/s]"
     ]
    },
    {
     "name": "stdout",
     "output_type": "stream",
     "text": [
      "128/128 [==============================] - 0s 27us/step\n",
      "64/64 [==============================] - 0s 48us/step\n",
      "64/64 [==============================] - 0s 47us/step\n",
      "128/128 [==============================] - 0s 36us/step\n",
      "64/64 [==============================] - 0s 31us/step\n",
      "64/64 [==============================] - 0s 31us/step\n",
      "128/128 [==============================] - 0s 23us/step\n",
      "64/64 [==============================] - 0s 93us/step\n",
      "64/64 [==============================] - 0s 29us/step\n",
      "128/128 [==============================] - 0s 32us/step\n",
      "64/64 [==============================] - 0s 38us/step\n",
      "64/64 [==============================] - 0s 30us/step\n",
      "128/128 [==============================] - 0s 33us/step\n",
      "64/64 [==============================] - 0s 27us/step\n",
      "64/64 [==============================] - 0s 45us/step\n"
     ]
    },
    {
     "name": "stderr",
     "output_type": "stream",
     "text": [
      "\r",
      " 80%|████████  | 804/1000 [00:19<00:04, 42.04it/s]"
     ]
    },
    {
     "name": "stdout",
     "output_type": "stream",
     "text": [
      "128/128 [==============================] - 0s 23us/step\n",
      "64/64 [==============================] - 0s 30us/step\n",
      "64/64 [==============================] - 0s 55us/step\n",
      "128/128 [==============================] - 0s 28us/step\n",
      "64/64 [==============================] - 0s 27us/step\n",
      "64/64 [==============================] - 0s 37us/step\n",
      "128/128 [==============================] - 0s 26us/step\n",
      "64/64 [==============================] - 0s 48us/step\n",
      "64/64 [==============================] - 0s 36us/step\n",
      "128/128 [==============================] - 0s 35us/step\n",
      "64/64 [==============================] - 0s 26us/step\n",
      "64/64 [==============================] - 0s 31us/step\n",
      "128/128 [==============================] - 0s 22us/step\n",
      "64/64 [==============================] - 0s 48us/step\n",
      "64/64 [==============================] - 0s 39us/step\n"
     ]
    },
    {
     "name": "stderr",
     "output_type": "stream",
     "text": [
      "\r",
      " 81%|████████  | 809/1000 [00:19<00:04, 42.07it/s]"
     ]
    },
    {
     "name": "stdout",
     "output_type": "stream",
     "text": [
      "128/128 [==============================] - 0s 36us/step\n",
      "64/64 [==============================] - 0s 45us/step\n",
      "64/64 [==============================] - 0s 51us/step\n",
      "128/128 [==============================] - 0s 34us/step\n",
      "64/64 [==============================] - 0s 58us/step\n",
      "64/64 [==============================] - 0s 46us/step\n",
      "128/128 [==============================] - 0s 31us/step\n",
      "64/64 [==============================] - 0s 47us/step\n",
      "64/64 [==============================] - 0s 40us/step\n",
      "128/128 [==============================] - 0s 27us/step\n",
      "64/64 [==============================] - 0s 60us/step\n",
      "64/64 [==============================] - 0s 38us/step\n",
      "128/128 [==============================] - 0s 27us/step\n",
      "64/64 [==============================] - 0s 31us/step\n",
      "64/64 [==============================] - 0s 50us/step\n"
     ]
    },
    {
     "name": "stderr",
     "output_type": "stream",
     "text": [
      "\r",
      " 81%|████████▏ | 814/1000 [00:19<00:04, 42.09it/s]"
     ]
    },
    {
     "name": "stdout",
     "output_type": "stream",
     "text": [
      "128/128 [==============================] - 0s 22us/step\n",
      "64/64 [==============================] - 0s 50us/step\n",
      "64/64 [==============================] - 0s 45us/step\n",
      "128/128 [==============================] - 0s 63us/step\n",
      "64/64 [==============================] - 0s 34us/step\n",
      "64/64 [==============================] - 0s 44us/step\n",
      "128/128 [==============================] - 0s 25us/step\n",
      "64/64 [==============================] - 0s 47us/step\n",
      "64/64 [==============================] - 0s 34us/step\n",
      "128/128 [==============================] - 0s 24us/step\n",
      "64/64 [==============================] - 0s 31us/step\n",
      "64/64 [==============================] - 0s 46us/step\n",
      "128/128 [==============================] - 0s 25us/step\n",
      "64/64 [==============================] - 0s 33us/step\n",
      "64/64 [==============================] - 0s 65us/step\n"
     ]
    },
    {
     "name": "stderr",
     "output_type": "stream",
     "text": [
      "\r",
      " 82%|████████▏ | 819/1000 [00:19<00:04, 42.10it/s]"
     ]
    },
    {
     "name": "stdout",
     "output_type": "stream",
     "text": [
      "128/128 [==============================] - 0s 32us/step\n",
      "64/64 [==============================] - 0s 35us/step\n",
      "64/64 [==============================] - 0s 33us/step\n",
      "128/128 [==============================] - 0s 31us/step\n",
      "64/64 [==============================] - 0s 32us/step\n",
      "64/64 [==============================] - 0s 39us/step\n",
      "128/128 [==============================] - 0s 35us/step\n",
      "64/64 [==============================] - 0s 52us/step\n",
      "64/64 [==============================] - 0s 33us/step\n",
      "128/128 [==============================] - 0s 33us/step\n",
      "64/64 [==============================] - 0s 49us/step\n",
      "64/64 [==============================] - 0s 35us/step\n",
      "128/128 [==============================] - 0s 34us/step\n",
      "64/64 [==============================] - 0s 28us/step\n",
      "64/64 [==============================] - 0s 32us/step\n"
     ]
    },
    {
     "name": "stderr",
     "output_type": "stream",
     "text": [
      "\r",
      " 82%|████████▏ | 824/1000 [00:19<00:04, 42.13it/s]"
     ]
    },
    {
     "name": "stdout",
     "output_type": "stream",
     "text": [
      "128/128 [==============================] - 0s 24us/step\n",
      "64/64 [==============================] - 0s 36us/step\n",
      "64/64 [==============================] - 0s 36us/step\n",
      "128/128 [==============================] - 0s 22us/step\n",
      "64/64 [==============================] - 0s 59us/step\n",
      "64/64 [==============================] - 0s 48us/step\n",
      "128/128 [==============================] - 0s 25us/step\n",
      "64/64 [==============================] - 0s 60us/step\n",
      "64/64 [==============================] - 0s 33us/step\n",
      "128/128 [==============================] - 0s 27us/step\n",
      "64/64 [==============================] - 0s 41us/step\n",
      "64/64 [==============================] - 0s 28us/step\n",
      "128/128 [==============================] - 0s 24us/step\n",
      "64/64 [==============================] - 0s 112us/step\n",
      "64/64 [==============================] - 0s 36us/step\n"
     ]
    },
    {
     "name": "stderr",
     "output_type": "stream",
     "text": [
      "\r",
      " 83%|████████▎ | 829/1000 [00:19<00:04, 42.15it/s]"
     ]
    },
    {
     "name": "stdout",
     "output_type": "stream",
     "text": [
      "128/128 [==============================] - 0s 34us/step\n",
      "64/64 [==============================] - 0s 50us/step\n",
      "64/64 [==============================] - 0s 44us/step\n",
      "128/128 [==============================] - 0s 24us/step\n",
      "64/64 [==============================] - 0s 34us/step\n",
      "64/64 [==============================] - 0s 46us/step\n",
      "128/128 [==============================] - 0s 25us/step\n",
      "64/64 [==============================] - 0s 52us/step\n",
      "64/64 [==============================] - 0s 67us/step\n",
      "128/128 [==============================] - 0s 32us/step\n",
      "64/64 [==============================] - 0s 45us/step\n",
      "64/64 [==============================] - 0s 36us/step\n",
      "128/128 [==============================] - 0s 33us/step\n",
      "64/64 [==============================] - 0s 36us/step\n",
      "64/64 [==============================] - 0s 38us/step\n"
     ]
    },
    {
     "name": "stderr",
     "output_type": "stream",
     "text": [
      "\r",
      " 83%|████████▎ | 834/1000 [00:19<00:03, 42.18it/s]"
     ]
    },
    {
     "name": "stdout",
     "output_type": "stream",
     "text": [
      "128/128 [==============================] - 0s 25us/step\n",
      "64/64 [==============================] - 0s 43us/step\n",
      "64/64 [==============================] - 0s 32us/step\n",
      "128/128 [==============================] - 0s 25us/step\n",
      "64/64 [==============================] - 0s 28us/step\n",
      "64/64 [==============================] - 0s 31us/step\n",
      "128/128 [==============================] - 0s 32us/step\n",
      "64/64 [==============================] - 0s 53us/step\n",
      "64/64 [==============================] - 0s 50us/step\n",
      "128/128 [==============================] - 0s 26us/step\n",
      "64/64 [==============================] - 0s 44us/step\n",
      "64/64 [==============================] - 0s 25us/step\n",
      "128/128 [==============================] - 0s 33us/step\n",
      "64/64 [==============================] - 0s 43us/step\n",
      "64/64 [==============================] - 0s 43us/step\n"
     ]
    },
    {
     "name": "stderr",
     "output_type": "stream",
     "text": [
      "\r",
      " 84%|████████▍ | 839/1000 [00:19<00:03, 42.21it/s]"
     ]
    },
    {
     "name": "stdout",
     "output_type": "stream",
     "text": [
      "128/128 [==============================] - 0s 32us/step\n",
      "64/64 [==============================] - 0s 48us/step\n",
      "64/64 [==============================] - 0s 44us/step\n",
      "128/128 [==============================] - 0s 33us/step\n",
      "64/64 [==============================] - 0s 40us/step\n",
      "64/64 [==============================] - 0s 41us/step\n",
      "128/128 [==============================] - 0s 31us/step\n",
      "64/64 [==============================] - 0s 55us/step\n",
      "64/64 [==============================] - 0s 56us/step\n",
      "128/128 [==============================] - 0s 23us/step\n",
      "64/64 [==============================] - 0s 44us/step\n",
      "64/64 [==============================] - 0s 36us/step\n",
      "128/128 [==============================] - 0s 23us/step\n",
      "64/64 [==============================] - 0s 36us/step\n",
      "64/64 [==============================] - 0s 43us/step\n"
     ]
    },
    {
     "name": "stderr",
     "output_type": "stream",
     "text": [
      "\r",
      " 84%|████████▍ | 844/1000 [00:19<00:03, 42.24it/s]"
     ]
    },
    {
     "name": "stdout",
     "output_type": "stream",
     "text": [
      "128/128 [==============================] - 0s 24us/step\n",
      "64/64 [==============================] - 0s 29us/step\n",
      "64/64 [==============================] - 0s 38us/step\n",
      "128/128 [==============================] - 0s 25us/step\n",
      "64/64 [==============================] - 0s 41us/step\n",
      "64/64 [==============================] - 0s 34us/step\n",
      "128/128 [==============================] - 0s 34us/step\n",
      "64/64 [==============================] - 0s 28us/step\n",
      "64/64 [==============================] - 0s 28us/step\n",
      "128/128 [==============================] - 0s 27us/step\n",
      "64/64 [==============================] - 0s 27us/step\n",
      "64/64 [==============================] - 0s 29us/step\n",
      "128/128 [==============================] - 0s 23us/step\n",
      "64/64 [==============================] - 0s 47us/step\n",
      "64/64 [==============================] - 0s 53us/step\n",
      "128/128 [==============================] - 0s 32us/step\n",
      "64/64 [==============================] - 0s 51us/step\n",
      "64/64 [==============================] - 0s 33us/step\n"
     ]
    },
    {
     "name": "stderr",
     "output_type": "stream",
     "text": [
      "\r",
      " 85%|████████▌ | 850/1000 [00:20<00:03, 42.29it/s]"
     ]
    },
    {
     "name": "stdout",
     "output_type": "stream",
     "text": [
      "128/128 [==============================] - 0s 34us/step\n",
      "64/64 [==============================] - 0s 35us/step\n",
      "64/64 [==============================] - 0s 42us/step\n",
      "128/128 [==============================] - 0s 28us/step\n",
      "64/64 [==============================] - 0s 24us/step\n",
      "64/64 [==============================] - 0s 33us/step\n",
      "128/128 [==============================] - 0s 22us/step\n",
      "64/64 [==============================] - 0s 50us/step\n",
      "64/64 [==============================] - 0s 46us/step\n",
      "128/128 [==============================] - 0s 27us/step\n",
      "64/64 [==============================] - 0s 35us/step\n",
      "64/64 [==============================] - 0s 43us/step\n",
      "128/128 [==============================] - 0s 32us/step\n",
      "64/64 [==============================] - 0s 27us/step\n",
      "64/64 [==============================] - 0s 51us/step\n"
     ]
    },
    {
     "name": "stderr",
     "output_type": "stream",
     "text": [
      "\r",
      " 86%|████████▌ | 855/1000 [00:20<00:03, 42.31it/s]"
     ]
    },
    {
     "name": "stdout",
     "output_type": "stream",
     "text": [
      "128/128 [==============================] - 0s 28us/step\n",
      "64/64 [==============================] - 0s 44us/step\n",
      "64/64 [==============================] - 0s 32us/step\n",
      "128/128 [==============================] - 0s 28us/step\n",
      "64/64 [==============================] - 0s 43us/step\n",
      "64/64 [==============================] - 0s 43us/step\n",
      "128/128 [==============================] - 0s 28us/step\n",
      "64/64 [==============================] - 0s 44us/step\n",
      "64/64 [==============================] - 0s 63us/step\n",
      "128/128 [==============================] - 0s 25us/step\n",
      "64/64 [==============================] - 0s 32us/step\n",
      "64/64 [==============================] - 0s 27us/step\n",
      "128/128 [==============================] - 0s 34us/step\n",
      "64/64 [==============================] - 0s 42us/step\n",
      "64/64 [==============================] - 0s 31us/step\n"
     ]
    },
    {
     "name": "stderr",
     "output_type": "stream",
     "text": [
      "\r",
      " 86%|████████▌ | 860/1000 [00:20<00:03, 42.34it/s]"
     ]
    },
    {
     "name": "stdout",
     "output_type": "stream",
     "text": [
      "128/128 [==============================] - 0s 26us/step\n",
      "64/64 [==============================] - 0s 57us/step\n",
      "64/64 [==============================] - 0s 65us/step\n",
      "128/128 [==============================] - 0s 31us/step\n",
      "64/64 [==============================] - 0s 50us/step\n",
      "64/64 [==============================] - 0s 55us/step\n",
      "128/128 [==============================] - 0s 24us/step\n",
      "64/64 [==============================] - 0s 30us/step\n",
      "64/64 [==============================] - 0s 30us/step\n",
      "128/128 [==============================] - 0s 23us/step\n",
      "64/64 [==============================] - 0s 43us/step\n",
      "64/64 [==============================] - 0s 59us/step\n",
      "128/128 [==============================] - 0s 52us/step\n",
      "64/64 [==============================] - 0s 51us/step\n",
      "64/64 [==============================] - 0s 56us/step\n"
     ]
    },
    {
     "name": "stderr",
     "output_type": "stream",
     "text": [
      "\r",
      " 86%|████████▋ | 865/1000 [00:20<00:03, 42.35it/s]"
     ]
    },
    {
     "name": "stdout",
     "output_type": "stream",
     "text": [
      "128/128 [==============================] - 0s 23us/step\n",
      "64/64 [==============================] - 0s 42us/step\n",
      "64/64 [==============================] - 0s 28us/step\n",
      "128/128 [==============================] - 0s 33us/step\n",
      "64/64 [==============================] - 0s 87us/step\n",
      "64/64 [==============================] - 0s 64us/step\n",
      "128/128 [==============================] - 0s 22us/step\n",
      "64/64 [==============================] - 0s 57us/step\n",
      "64/64 [==============================] - 0s 27us/step\n",
      "128/128 [==============================] - 0s 26us/step\n",
      "64/64 [==============================] - 0s 42us/step\n",
      "64/64 [==============================] - 0s 33us/step\n",
      "128/128 [==============================] - 0s 26us/step\n",
      "64/64 [==============================] - 0s 37us/step\n",
      "64/64 [==============================] - 0s 44us/step\n"
     ]
    },
    {
     "name": "stderr",
     "output_type": "stream",
     "text": [
      "\r",
      " 87%|████████▋ | 870/1000 [00:20<00:03, 42.37it/s]"
     ]
    },
    {
     "name": "stdout",
     "output_type": "stream",
     "text": [
      "128/128 [==============================] - 0s 39us/step\n",
      "64/64 [==============================] - 0s 50us/step\n",
      "64/64 [==============================] - 0s 46us/step\n",
      "128/128 [==============================] - 0s 27us/step\n",
      "64/64 [==============================] - 0s 58us/step\n",
      "64/64 [==============================] - 0s 28us/step\n",
      "128/128 [==============================] - 0s 33us/step\n",
      "64/64 [==============================] - 0s 33us/step\n",
      "64/64 [==============================] - 0s 37us/step\n",
      "128/128 [==============================] - 0s 25us/step\n",
      "64/64 [==============================] - 0s 57us/step\n",
      "64/64 [==============================] - 0s 44us/step\n",
      "128/128 [==============================] - 0s 34us/step\n",
      "64/64 [==============================] - ETA:  - 0s 52us/step\n",
      "64/64 [==============================] - 0s 28us/step\n"
     ]
    },
    {
     "name": "stderr",
     "output_type": "stream",
     "text": [
      "\r",
      " 88%|████████▊ | 875/1000 [00:20<00:02, 42.39it/s]"
     ]
    },
    {
     "name": "stdout",
     "output_type": "stream",
     "text": [
      "128/128 [==============================] - 0s 33us/step\n",
      "64/64 [==============================] - 0s 51us/step\n",
      "64/64 [==============================] - 0s 54us/step\n",
      "128/128 [==============================] - 0s 29us/step\n",
      "64/64 [==============================] - 0s 39us/step\n",
      "64/64 [==============================] - 0s 48us/step\n",
      "128/128 [==============================] - 0s 25us/step\n",
      "64/64 [==============================] - 0s 39us/step\n",
      "64/64 [==============================] - 0s 43us/step\n",
      "128/128 [==============================] - 0s 31us/step\n",
      "64/64 [==============================] - 0s 30us/step\n",
      "64/64 [==============================] - 0s 28us/step\n",
      "128/128 [==============================] - 0s 30us/step\n",
      "64/64 [==============================] - 0s 63us/step\n",
      "64/64 [==============================] - 0s 51us/step\n"
     ]
    },
    {
     "name": "stderr",
     "output_type": "stream",
     "text": [
      "\r",
      " 88%|████████▊ | 880/1000 [00:20<00:02, 42.40it/s]"
     ]
    },
    {
     "name": "stdout",
     "output_type": "stream",
     "text": [
      "128/128 [==============================] - 0s 25us/step\n",
      "64/64 [==============================] - 0s 57us/step\n",
      "64/64 [==============================] - 0s 54us/step\n",
      "128/128 [==============================] - 0s 29us/step\n",
      "64/64 [==============================] - 0s 29us/step\n",
      "64/64 [==============================] - 0s 39us/step\n",
      "128/128 [==============================] - 0s 32us/step\n",
      "64/64 [==============================] - 0s 31us/step\n",
      "64/64 [==============================] - 0s 47us/step\n",
      "128/128 [==============================] - 0s 33us/step\n",
      "64/64 [==============================] - 0s 42us/step\n",
      "64/64 [==============================] - 0s 50us/step\n",
      "128/128 [==============================] - 0s 32us/step\n",
      "64/64 [==============================] - 0s 33us/step\n",
      "64/64 [==============================] - 0s 48us/step\n"
     ]
    },
    {
     "name": "stderr",
     "output_type": "stream",
     "text": [
      "\r",
      " 88%|████████▊ | 885/1000 [00:20<00:02, 42.42it/s]"
     ]
    },
    {
     "name": "stdout",
     "output_type": "stream",
     "text": [
      "128/128 [==============================] - 0s 25us/step\n",
      "64/64 [==============================] - 0s 54us/step\n",
      "64/64 [==============================] - 0s 50us/step\n",
      "128/128 [==============================] - 0s 37us/step\n",
      "64/64 [==============================] - 0s 45us/step\n",
      "64/64 [==============================] - 0s 32us/step\n",
      "128/128 [==============================] - 0s 26us/step\n",
      "64/64 [==============================] - 0s 36us/step\n",
      "64/64 [==============================] - 0s 48us/step\n",
      "128/128 [==============================] - 0s 30us/step\n",
      "64/64 [==============================] - 0s 40us/step\n",
      "64/64 [==============================] - 0s 32us/step\n",
      "128/128 [==============================] - 0s 26us/step\n",
      "64/64 [==============================] - 0s 28us/step\n",
      "64/64 [==============================] - 0s 37us/step\n"
     ]
    },
    {
     "name": "stderr",
     "output_type": "stream",
     "text": [
      "\r",
      " 89%|████████▉ | 890/1000 [00:20<00:02, 42.45it/s]"
     ]
    },
    {
     "name": "stdout",
     "output_type": "stream",
     "text": [
      "128/128 [==============================] - 0s 31us/step\n",
      "64/64 [==============================] - 0s 47us/step\n",
      "64/64 [==============================] - 0s 28us/step\n",
      "128/128 [==============================] - 0s 24us/step\n",
      "64/64 [==============================] - 0s 41us/step\n",
      "64/64 [==============================] - 0s 42us/step\n",
      "128/128 [==============================] - 0s 30us/step\n",
      "64/64 [==============================] - 0s 46us/step\n",
      "64/64 [==============================] - 0s 40us/step\n",
      "128/128 [==============================] - 0s 30us/step\n",
      "64/64 [==============================] - 0s 43us/step\n",
      "64/64 [==============================] - 0s 58us/step\n",
      "128/128 [==============================] - 0s 26us/step\n",
      "64/64 [==============================] - 0s 32us/step\n",
      "64/64 [==============================] - 0s 28us/step\n"
     ]
    },
    {
     "name": "stderr",
     "output_type": "stream",
     "text": [
      "\r",
      " 90%|████████▉ | 895/1000 [00:21<00:02, 42.47it/s]"
     ]
    },
    {
     "name": "stdout",
     "output_type": "stream",
     "text": [
      "128/128 [==============================] - 0s 31us/step\n",
      "64/64 [==============================] - 0s 48us/step\n",
      "64/64 [==============================] - 0s 33us/step\n",
      "128/128 [==============================] - 0s 56us/step\n",
      "64/64 [==============================] - 0s 50us/step\n",
      "64/64 [==============================] - ETA:  - 0s 38us/step\n",
      "128/128 [==============================] - 0s 28us/step\n",
      "64/64 [==============================] - 0s 49us/step\n",
      "64/64 [==============================] - 0s 56us/step\n",
      "128/128 [==============================] - 0s 22us/step\n",
      "64/64 [==============================] - 0s 65us/step\n",
      "64/64 [==============================] - 0s 53us/step\n",
      "128/128 [==============================] - 0s 31us/step\n",
      "64/64 [==============================] - 0s 60us/step\n",
      "64/64 [==============================] - 0s 31us/step\n"
     ]
    },
    {
     "name": "stderr",
     "output_type": "stream",
     "text": [
      "\r",
      " 90%|█████████ | 900/1000 [00:21<00:02, 42.48it/s]"
     ]
    },
    {
     "name": "stdout",
     "output_type": "stream",
     "text": [
      "128/128 [==============================] - 0s 30us/step\n",
      "64/64 [==============================] - 0s 57us/step\n",
      "64/64 [==============================] - 0s 34us/step\n",
      "128/128 [==============================] - 0s 22us/step\n",
      "64/64 [==============================] - 0s 40us/step\n",
      "64/64 [==============================] - 0s 66us/step\n",
      "128/128 [==============================] - 0s 24us/step\n",
      "64/64 [==============================] - 0s 57us/step\n",
      "64/64 [==============================] - 0s 48us/step\n",
      "128/128 [==============================] - 0s 34us/step\n",
      "64/64 [==============================] - 0s 29us/step\n",
      "64/64 [==============================] - 0s 51us/step\n",
      "128/128 [==============================] - 0s 23us/step\n",
      "64/64 [==============================] - 0s 32us/step\n",
      "64/64 [==============================] - 0s 45us/step\n"
     ]
    },
    {
     "name": "stderr",
     "output_type": "stream",
     "text": [
      "\r",
      " 90%|█████████ | 905/1000 [00:21<00:02, 42.50it/s]"
     ]
    },
    {
     "name": "stdout",
     "output_type": "stream",
     "text": [
      "128/128 [==============================] - 0s 32us/step\n",
      "64/64 [==============================] - 0s 31us/step\n",
      "64/64 [==============================] - 0s 34us/step\n",
      "128/128 [==============================] - 0s 33us/step\n",
      "64/64 [==============================] - 0s 47us/step\n",
      "64/64 [==============================] - 0s 40us/step\n",
      "128/128 [==============================] - 0s 34us/step\n",
      "64/64 [==============================] - 0s 32us/step\n",
      "64/64 [==============================] - 0s 30us/step\n",
      "128/128 [==============================] - 0s 25us/step\n",
      "64/64 [==============================] - 0s 27us/step\n",
      "64/64 [==============================] - 0s 96us/step\n",
      "128/128 [==============================] - 0s 31us/step\n",
      "64/64 [==============================] - 0s 59us/step\n",
      "64/64 [==============================] - 0s 44us/step\n"
     ]
    },
    {
     "name": "stderr",
     "output_type": "stream",
     "text": [
      "\r",
      " 91%|█████████ | 910/1000 [00:21<00:02, 42.52it/s]"
     ]
    },
    {
     "name": "stdout",
     "output_type": "stream",
     "text": [
      "128/128 [==============================] - 0s 33us/step\n",
      "64/64 [==============================] - 0s 27us/step\n",
      "64/64 [==============================] - 0s 36us/step\n",
      "128/128 [==============================] - 0s 24us/step\n",
      "64/64 [==============================] - 0s 38us/step\n",
      "64/64 [==============================] - 0s 46us/step\n",
      "128/128 [==============================] - 0s 23us/step\n",
      "64/64 [==============================] - 0s 35us/step\n",
      "64/64 [==============================] - 0s 30us/step\n",
      "128/128 [==============================] - 0s 28us/step\n",
      "64/64 [==============================] - 0s 34us/step\n",
      "64/64 [==============================] - 0s 40us/step\n",
      "128/128 [==============================] - 0s 34us/step\n",
      "64/64 [==============================] - 0s 49us/step\n",
      "64/64 [==============================] - 0s 53us/step\n"
     ]
    },
    {
     "name": "stderr",
     "output_type": "stream",
     "text": [
      "\r",
      " 92%|█████████▏| 915/1000 [00:21<00:01, 42.54it/s]"
     ]
    },
    {
     "name": "stdout",
     "output_type": "stream",
     "text": [
      "128/128 [==============================] - 0s 23us/step\n",
      "64/64 [==============================] - 0s 26us/step\n",
      "64/64 [==============================] - 0s 41us/step\n",
      "128/128 [==============================] - 0s 29us/step\n",
      "64/64 [==============================] - 0s 45us/step\n",
      "64/64 [==============================] - 0s 42us/step\n",
      "128/128 [==============================] - 0s 33us/step\n",
      "64/64 [==============================] - 0s 46us/step\n",
      "64/64 [==============================] - 0s 59us/step\n",
      "128/128 [==============================] - 0s 31us/step\n",
      "64/64 [==============================] - 0s 29us/step\n",
      "64/64 [==============================] - 0s 39us/step\n",
      "128/128 [==============================] - 0s 22us/step\n",
      "64/64 [==============================] - 0s 40us/step\n",
      "64/64 [==============================] - 0s 33us/step\n"
     ]
    },
    {
     "name": "stderr",
     "output_type": "stream",
     "text": [
      "\r",
      " 92%|█████████▏| 920/1000 [00:21<00:01, 42.57it/s]"
     ]
    },
    {
     "name": "stdout",
     "output_type": "stream",
     "text": [
      "128/128 [==============================] - 0s 24us/step\n",
      "64/64 [==============================] - 0s 31us/step\n",
      "64/64 [==============================] - 0s 60us/step\n",
      "128/128 [==============================] - 0s 36us/step\n",
      "64/64 [==============================] - 0s 33us/step\n",
      "64/64 [==============================] - 0s 46us/step\n",
      "128/128 [==============================] - 0s 26us/step\n",
      "64/64 [==============================] - 0s 57us/step\n",
      "64/64 [==============================] - 0s 38us/step\n",
      "128/128 [==============================] - 0s 32us/step\n",
      "64/64 [==============================] - 0s 47us/step\n",
      "64/64 [==============================] - 0s 41us/step\n",
      "128/128 [==============================] - 0s 27us/step\n",
      "64/64 [==============================] - 0s 54us/step\n",
      "64/64 [==============================] - 0s 49us/step\n"
     ]
    },
    {
     "name": "stderr",
     "output_type": "stream",
     "text": [
      "\r",
      " 92%|█████████▎| 925/1000 [00:21<00:01, 42.59it/s]"
     ]
    },
    {
     "name": "stdout",
     "output_type": "stream",
     "text": [
      "128/128 [==============================] - 0s 28us/step\n",
      "64/64 [==============================] - 0s 54us/step\n",
      "64/64 [==============================] - 0s 57us/step\n",
      "128/128 [==============================] - 0s 23us/step\n",
      "64/64 [==============================] - 0s 43us/step\n",
      "64/64 [==============================] - 0s 34us/step\n",
      "128/128 [==============================] - 0s 24us/step\n",
      "64/64 [==============================] - 0s 50us/step\n",
      "64/64 [==============================] - 0s 46us/step\n",
      "128/128 [==============================] - 0s 25us/step\n",
      "64/64 [==============================] - 0s 49us/step\n",
      "64/64 [==============================] - 0s 43us/step\n",
      "128/128 [==============================] - 0s 30us/step\n",
      "64/64 [==============================] - 0s 42us/step\n",
      "64/64 [==============================] - 0s 42us/step\n"
     ]
    },
    {
     "name": "stderr",
     "output_type": "stream",
     "text": [
      "\r",
      " 93%|█████████▎| 930/1000 [00:21<00:01, 42.61it/s]"
     ]
    },
    {
     "name": "stdout",
     "output_type": "stream",
     "text": [
      "128/128 [==============================] - 0s 31us/step\n",
      "64/64 [==============================] - 0s 31us/step\n",
      "64/64 [==============================] - 0s 31us/step\n",
      "128/128 [==============================] - 0s 31us/step\n",
      "64/64 [==============================] - 0s 40us/step\n",
      "64/64 [==============================] - 0s 37us/step\n",
      "128/128 [==============================] - 0s 27us/step\n",
      "64/64 [==============================] - 0s 35us/step\n",
      "64/64 [==============================] - 0s 33us/step\n",
      "128/128 [==============================] - 0s 27us/step\n",
      "64/64 [==============================] - 0s 28us/step\n",
      "64/64 [==============================] - 0s 42us/step\n",
      "128/128 [==============================] - 0s 26us/step\n",
      "64/64 [==============================] - 0s 38us/step\n",
      "64/64 [==============================] - 0s 53us/step\n"
     ]
    },
    {
     "name": "stderr",
     "output_type": "stream",
     "text": [
      "\r",
      " 94%|█████████▎| 935/1000 [00:21<00:01, 42.63it/s]"
     ]
    },
    {
     "name": "stdout",
     "output_type": "stream",
     "text": [
      "128/128 [==============================] - 0s 33us/step\n",
      "64/64 [==============================] - 0s 57us/step\n",
      "64/64 [==============================] - 0s 47us/step\n",
      "128/128 [==============================] - 0s 27us/step\n",
      "64/64 [==============================] - 0s 40us/step\n",
      "64/64 [==============================] - 0s 42us/step\n",
      "128/128 [==============================] - 0s 24us/step\n",
      "64/64 [==============================] - 0s 42us/step\n",
      "64/64 [==============================] - 0s 33us/step\n",
      "128/128 [==============================] - 0s 26us/step\n",
      "64/64 [==============================] - 0s 33us/step\n",
      "64/64 [==============================] - 0s 38us/step\n",
      "128/128 [==============================] - 0s 26us/step\n",
      "64/64 [==============================] - 0s 54us/step\n",
      "64/64 [==============================] - 0s 39us/step\n"
     ]
    },
    {
     "name": "stderr",
     "output_type": "stream",
     "text": [
      "\r",
      " 94%|█████████▍| 940/1000 [00:22<00:01, 42.65it/s]"
     ]
    },
    {
     "name": "stdout",
     "output_type": "stream",
     "text": [
      "128/128 [==============================] - 0s 35us/step\n",
      "64/64 [==============================] - 0s 24us/step\n",
      "64/64 [==============================] - 0s 40us/step\n",
      "128/128 [==============================] - 0s 29us/step\n",
      "64/64 [==============================] - 0s 57us/step\n",
      "64/64 [==============================] - 0s 63us/step\n",
      "128/128 [==============================] - 0s 34us/step\n",
      "64/64 [==============================] - 0s 49us/step\n",
      "64/64 [==============================] - 0s 30us/step\n",
      "128/128 [==============================] - 0s 27us/step\n",
      "64/64 [==============================] - 0s 28us/step\n",
      "64/64 [==============================] - 0s 41us/step\n",
      "128/128 [==============================] - 0s 24us/step\n",
      "64/64 [==============================] - 0s 45us/step\n",
      "64/64 [==============================] - 0s 29us/step\n"
     ]
    },
    {
     "name": "stderr",
     "output_type": "stream",
     "text": [
      "\r",
      " 94%|█████████▍| 945/1000 [00:22<00:01, 42.68it/s]"
     ]
    },
    {
     "name": "stdout",
     "output_type": "stream",
     "text": [
      "128/128 [==============================] - 0s 29us/step\n",
      "64/64 [==============================] - 0s 46us/step\n",
      "64/64 [==============================] - 0s 61us/step\n",
      "128/128 [==============================] - 0s 33us/step\n",
      "64/64 [==============================] - 0s 35us/step\n",
      "64/64 [==============================] - 0s 26us/step\n",
      "128/128 [==============================] - 0s 25us/step\n",
      "64/64 [==============================] - 0s 47us/step\n",
      "64/64 [==============================] - 0s 45us/step\n",
      "128/128 [==============================] - 0s 25us/step\n",
      "64/64 [==============================] - 0s 38us/step\n",
      "64/64 [==============================] - 0s 48us/step\n",
      "128/128 [==============================] - 0s 25us/step\n",
      "64/64 [==============================] - 0s 30us/step\n",
      "64/64 [==============================] - 0s 55us/step\n"
     ]
    },
    {
     "name": "stderr",
     "output_type": "stream",
     "text": [
      "\r",
      " 95%|█████████▌| 950/1000 [00:22<00:01, 42.70it/s]"
     ]
    },
    {
     "name": "stdout",
     "output_type": "stream",
     "text": [
      "128/128 [==============================] - 0s 27us/step\n",
      "64/64 [==============================] - 0s 48us/step\n",
      "64/64 [==============================] - 0s 34us/step\n",
      "128/128 [==============================] - 0s 34us/step\n",
      "64/64 [==============================] - 0s 48us/step\n",
      "64/64 [==============================] - 0s 45us/step\n",
      "128/128 [==============================] - 0s 33us/step\n",
      "64/64 [==============================] - 0s 102us/step\n",
      "64/64 [==============================] - 0s 48us/step\n",
      "128/128 [==============================] - 0s 28us/step\n",
      "64/64 [==============================] - 0s 47us/step\n",
      "64/64 [==============================] - 0s 42us/step\n",
      "128/128 [==============================] - 0s 31us/step\n",
      "64/64 [==============================] - 0s 56us/step\n",
      "64/64 [==============================] - 0s 43us/step\n"
     ]
    },
    {
     "name": "stderr",
     "output_type": "stream",
     "text": [
      "\r",
      " 96%|█████████▌| 955/1000 [00:22<00:01, 42.70it/s]"
     ]
    },
    {
     "name": "stdout",
     "output_type": "stream",
     "text": [
      "128/128 [==============================] - 0s 25us/step\n",
      "64/64 [==============================] - 0s 60us/step\n",
      "64/64 [==============================] - 0s 39us/step\n",
      "128/128 [==============================] - 0s 26us/step\n",
      "64/64 [==============================] - 0s 57us/step\n",
      "64/64 [==============================] - 0s 27us/step\n",
      "128/128 [==============================] - 0s 25us/step\n",
      "64/64 [==============================] - 0s 34us/step\n",
      "64/64 [==============================] - 0s 44us/step\n",
      "128/128 [==============================] - 0s 25us/step\n",
      "64/64 [==============================] - 0s 47us/step\n",
      "64/64 [==============================] - 0s 31us/step\n",
      "128/128 [==============================] - 0s 32us/step\n",
      "64/64 [==============================] - 0s 34us/step\n",
      "64/64 [==============================] - 0s 44us/step\n"
     ]
    },
    {
     "name": "stderr",
     "output_type": "stream",
     "text": [
      "\r",
      " 96%|█████████▌| 960/1000 [00:22<00:00, 42.73it/s]"
     ]
    },
    {
     "name": "stdout",
     "output_type": "stream",
     "text": [
      "128/128 [==============================] - 0s 27us/step\n",
      "64/64 [==============================] - 0s 36us/step\n",
      "64/64 [==============================] - 0s 39us/step\n",
      "128/128 [==============================] - 0s 29us/step\n",
      "64/64 [==============================] - 0s 41us/step\n",
      "64/64 [==============================] - 0s 43us/step\n",
      "128/128 [==============================] - 0s 29us/step\n",
      "64/64 [==============================] - 0s 36us/step\n",
      "64/64 [==============================] - 0s 55us/step\n",
      "128/128 [==============================] - 0s 33us/step\n",
      "64/64 [==============================] - 0s 63us/step\n",
      "64/64 [==============================] - 0s 31us/step\n",
      "128/128 [==============================] - 0s 27us/step\n",
      "64/64 [==============================] - 0s 27us/step\n",
      "64/64 [==============================] - 0s 42us/step\n"
     ]
    },
    {
     "name": "stderr",
     "output_type": "stream",
     "text": [
      "\r",
      " 96%|█████████▋| 965/1000 [00:22<00:00, 42.75it/s]"
     ]
    },
    {
     "name": "stdout",
     "output_type": "stream",
     "text": [
      "128/128 [==============================] - 0s 22us/step\n",
      "64/64 [==============================] - 0s 58us/step\n",
      "64/64 [==============================] - 0s 52us/step\n",
      "128/128 [==============================] - 0s 24us/step\n",
      "64/64 [==============================] - 0s 54us/step\n",
      "64/64 [==============================] - 0s 31us/step\n",
      "128/128 [==============================] - 0s 35us/step\n",
      "64/64 [==============================] - 0s 35us/step\n",
      "64/64 [==============================] - 0s 35us/step\n",
      "128/128 [==============================] - 0s 34us/step\n",
      "64/64 [==============================] - 0s 34us/step\n",
      "64/64 [==============================] - 0s 46us/step\n",
      "128/128 [==============================] - 0s 28us/step\n",
      "64/64 [==============================] - 0s 32us/step\n",
      "64/64 [==============================] - 0s 28us/step\n"
     ]
    },
    {
     "name": "stderr",
     "output_type": "stream",
     "text": [
      "\r",
      " 97%|█████████▋| 970/1000 [00:22<00:00, 42.76it/s]"
     ]
    },
    {
     "name": "stdout",
     "output_type": "stream",
     "text": [
      "128/128 [==============================] - 0s 25us/step\n",
      "64/64 [==============================] - 0s 28us/step\n",
      "64/64 [==============================] - 0s 32us/step\n",
      "128/128 [==============================] - 0s 26us/step\n",
      "64/64 [==============================] - 0s 47us/step\n",
      "64/64 [==============================] - 0s 27us/step\n",
      "128/128 [==============================] - 0s 32us/step\n",
      "64/64 [==============================] - 0s 48us/step\n",
      "64/64 [==============================] - 0s 37us/step\n",
      "128/128 [==============================] - 0s 30us/step\n",
      "64/64 [==============================] - 0s 33us/step\n",
      "64/64 [==============================] - 0s 46us/step\n",
      "128/128 [==============================] - 0s 25us/step\n",
      "64/64 [==============================] - 0s 49us/step\n",
      "64/64 [==============================] - 0s 54us/step\n"
     ]
    },
    {
     "name": "stderr",
     "output_type": "stream",
     "text": [
      "\r",
      " 98%|█████████▊| 975/1000 [00:22<00:00, 42.78it/s]"
     ]
    },
    {
     "name": "stdout",
     "output_type": "stream",
     "text": [
      "128/128 [==============================] - 0s 26us/step\n",
      "64/64 [==============================] - 0s 30us/step\n",
      "64/64 [==============================] - 0s 31us/step\n",
      "128/128 [==============================] - 0s 35us/step\n",
      "64/64 [==============================] - 0s 55us/step\n",
      "64/64 [==============================] - 0s 32us/step\n",
      "128/128 [==============================] - 0s 30us/step\n",
      "64/64 [==============================] - 0s 31us/step\n",
      "64/64 [==============================] - 0s 45us/step\n",
      "128/128 [==============================] - 0s 26us/step\n",
      "64/64 [==============================] - 0s 38us/step\n",
      "64/64 [==============================] - 0s 40us/step\n",
      "128/128 [==============================] - 0s 23us/step\n",
      "64/64 [==============================] - 0s 28us/step\n",
      "64/64 [==============================] - 0s 46us/step\n"
     ]
    },
    {
     "name": "stderr",
     "output_type": "stream",
     "text": [
      "\r",
      " 98%|█████████▊| 980/1000 [00:22<00:00, 42.81it/s]"
     ]
    },
    {
     "name": "stdout",
     "output_type": "stream",
     "text": [
      "128/128 [==============================] - 0s 24us/step\n",
      "64/64 [==============================] - 0s 34us/step\n",
      "64/64 [==============================] - 0s 50us/step\n",
      "128/128 [==============================] - 0s 23us/step\n",
      "64/64 [==============================] - 0s 43us/step\n",
      "64/64 [==============================] - 0s 40us/step\n",
      "128/128 [==============================] - 0s 36us/step\n",
      "64/64 [==============================] - 0s 42us/step\n",
      "64/64 [==============================] - 0s 39us/step\n",
      "128/128 [==============================] - 0s 28us/step\n",
      "64/64 [==============================] - 0s 45us/step\n",
      "64/64 [==============================] - 0s 31us/step\n",
      "128/128 [==============================] - 0s 24us/step\n",
      "64/64 [==============================] - 0s 31us/step\n",
      "64/64 [==============================] - 0s 35us/step\n"
     ]
    },
    {
     "name": "stderr",
     "output_type": "stream",
     "text": [
      "\r",
      " 98%|█████████▊| 985/1000 [00:22<00:00, 42.83it/s]"
     ]
    },
    {
     "name": "stdout",
     "output_type": "stream",
     "text": [
      "128/128 [==============================] - 0s 25us/step\n",
      "64/64 [==============================] - 0s 41us/step\n",
      "64/64 [==============================] - 0s 28us/step\n",
      "128/128 [==============================] - 0s 33us/step\n",
      "64/64 [==============================] - 0s 52us/step\n",
      "64/64 [==============================] - 0s 39us/step\n",
      "128/128 [==============================] - 0s 25us/step\n",
      "64/64 [==============================] - 0s 28us/step\n",
      "64/64 [==============================] - 0s 39us/step\n",
      "128/128 [==============================] - 0s 24us/step\n",
      "64/64 [==============================] - 0s 45us/step\n",
      "64/64 [==============================] - 0s 48us/step\n",
      "128/128 [==============================] - 0s 26us/step\n",
      "64/64 [==============================] - 0s 50us/step\n",
      "64/64 [==============================] - 0s 45us/step\n"
     ]
    },
    {
     "name": "stderr",
     "output_type": "stream",
     "text": [
      "\r",
      " 99%|█████████▉| 990/1000 [00:23<00:00, 42.85it/s]"
     ]
    },
    {
     "name": "stdout",
     "output_type": "stream",
     "text": [
      "128/128 [==============================] - 0s 26us/step\n",
      "64/64 [==============================] - 0s 44us/step\n",
      "64/64 [==============================] - 0s 31us/step\n",
      "128/128 [==============================] - 0s 26us/step\n",
      "64/64 [==============================] - 0s 47us/step\n",
      "64/64 [==============================] - 0s 47us/step\n",
      "128/128 [==============================] - 0s 20us/step\n",
      "64/64 [==============================] - 0s 42us/step\n",
      "64/64 [==============================] - 0s 51us/step\n",
      "128/128 [==============================] - 0s 26us/step\n",
      "64/64 [==============================] - 0s 31us/step\n",
      "64/64 [==============================] - 0s 54us/step\n",
      "128/128 [==============================] - 0s 33us/step\n",
      "64/64 [==============================] - 0s 50us/step\n",
      "64/64 [==============================] - 0s 45us/step\n"
     ]
    },
    {
     "name": "stderr",
     "output_type": "stream",
     "text": [
      "\r",
      "100%|█████████▉| 995/1000 [00:23<00:00, 42.87it/s]"
     ]
    },
    {
     "name": "stdout",
     "output_type": "stream",
     "text": [
      "128/128 [==============================] - 0s 24us/step\n",
      "64/64 [==============================] - 0s 43us/step\n",
      "64/64 [==============================] - 0s 30us/step\n",
      "128/128 [==============================] - 0s 23us/step\n",
      "64/64 [==============================] - 0s 57us/step\n",
      "64/64 [==============================] - 0s 57us/step\n",
      "128/128 [==============================] - 0s 23us/step\n",
      "64/64 [==============================] - 0s 62us/step\n",
      "64/64 [==============================] - 0s 32us/step\n",
      "128/128 [==============================] - 0s 31us/step\n",
      "64/64 [==============================] - 0s 25us/step\n",
      "64/64 [==============================] - 0s 48us/step\n",
      "128/128 [==============================] - 0s 30us/step\n",
      "64/64 [==============================] - 0s 44us/step\n",
      "64/64 [==============================] - 0s 39us/step\n"
     ]
    },
    {
     "name": "stderr",
     "output_type": "stream",
     "text": [
      "100%|██████████| 1000/1000 [00:23<00:00, 42.89it/s]\n"
     ]
    }
   ],
   "source": [
    "losses=train_for_n_mono(**train_dic)"
   ]
  },
  {
   "cell_type": "code",
   "execution_count": 26,
   "metadata": {},
   "outputs": [
    {
     "data": {
      "text/plain": [
       "<Figure size 432x288 with 0 Axes>"
      ]
     },
     "metadata": {},
     "output_type": "display_data"
    },
    {
     "data": {
      "text/plain": [
       "<Figure size 432x288 with 0 Axes>"
      ]
     },
     "metadata": {},
     "output_type": "display_data"
    },
    {
     "data": {
      "image/png": "[encoded data removed]",
      "text/plain": [
       "<Figure size 720x576 with 3 Axes>"
      ]
     },
     "metadata": {},
     "output_type": "display_data"
    }
   ],
   "source": [
    "plot_loss(losses,**{'scale_control':[0,3]})"
   ]
  },
  {
   "cell_type": "code",
   "execution_count": null,
   "metadata": {},
   "outputs": [],
   "source": []
  }
 ],
 "metadata": {
  "kernelspec": {
   "display_name": "Python 3",
   "language": "python",
   "name": "python3"
  },
  "language_info": {
   "codemirror_mode": {
    "name": "ipython",
    "version": 3
   },
   "file_extension": ".py",
   "mimetype": "text/x-python",
   "name": "python",
   "nbconvert_exporter": "python",
   "pygments_lexer": "ipython3",
   "version": "3.5.5"
  }
 },
 "nbformat": 4,
 "nbformat_minor": 2
}
