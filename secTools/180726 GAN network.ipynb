{
 "cells": [
  {
   "cell_type": "code",
   "execution_count": 1,
   "metadata": {},
   "outputs": [
    {
     "name": "stderr",
     "output_type": "stream",
     "text": [
      "/home/anywayed/anaconda3/envs/keras/lib/python3.5/site-packages/h5py/__init__.py:36: FutureWarning: Conversion of the second argument of issubdtype from `float` to `np.floating` is deprecated. In future, it will be treated as `np.float64 == np.dtype(float).type`.\n",
      "  from ._conv import register_converters as _register_converters\n",
      "Using TensorFlow backend.\n"
     ]
    }
   ],
   "source": [
    "from numpy.random import seed\n",
    "seed(35)\n",
    "from tensorflow import set_random_seed\n",
    "set_random_seed(35)\n",
    "\n",
    "from keras import backend as K\n",
    "from keras.callbacks import EarlyStopping\n",
    "from keras.losses import  binary_crossentropy\n",
    "\n",
    "import numpy as np\n",
    "import pandas as pd\n",
    "import matplotlib.pyplot as plt\n",
    "import argparse\n",
    "import os\n",
    "\n",
    "from custom_loss import (recon_loss_abs, make_recon_loss_combi,sparse_recon_loss_abs,\n",
    "                         make_sparse_recon_loss_combi,\n",
    "                         sparse_recon_loss_mse, make_sparse_recon_loss_var)\n",
    "\n",
    "from Autoencoders import autoencoder\n",
    "\n",
    "from general_loader import ds_from_db\n",
    "from data_manipulation import remove_outlier, augment_x_linear,augment_x,split_data_X_Y\n",
    "from sklearn.model_selection import train_test_split\n",
    "from keras.optimizers import Adam\n",
    "from keras.initializers import glorot_normal\n"
   ]
  },
  {
   "cell_type": "code",
   "execution_count": 2,
   "metadata": {},
   "outputs": [],
   "source": [
    "from gan_nw_2 import generator_nw,discriminator_nw,gan_nw\n",
    "from gan_utils import Discrim_pre_train, train_for_n, plot_loss, train_for_n_mono"
   ]
  },
  {
   "cell_type": "code",
   "execution_count": 3,
   "metadata": {},
   "outputs": [
    {
     "name": "stdout",
     "output_type": "stream",
     "text": [
      "Number of records dropped where no normaliser: 326\n",
      "Number of records dropped where no normaliser: 119\n"
     ]
    }
   ],
   "source": [
    "ds_dic={'pickle_file':'ds180704'}\n",
    "ds=ds_from_db(**ds_dic)\n",
    "ds.normalise(['pAssets','pLiabilitiesAndStockholdersEquity'],reorder=True,inplace=True)\n",
    "ds.normalise(['pAssets','pLiabilitiesAndStockholdersEquity'],reorder=True,inplace=True)"
   ]
  },
  {
   "cell_type": "code",
   "execution_count": 4,
   "metadata": {},
   "outputs": [
    {
     "name": "stderr",
     "output_type": "stream",
     "text": [
      "/home/anywayed/Documents/dis/secTools/data_manipulation.py:32: RuntimeWarning: invalid value encountered in greater\n",
      "  X[np.abs(X)>level_x]=np.nan\n"
     ]
    }
   ],
   "source": [
    "X,Y,idx,cols=split_data_X_Y(ds.FT.replace([np.inf, -np.inf], np.nan),['Revenues'])\n",
    "XY,idx=remove_outlier(np.concatenate((X,Y),axis=1),2.5,Y=idx,y_thresh=True)\n",
    "X[np.isnan(X)]=0\n",
    "\n",
    "#dump zero y rows\n",
    "tf=XY[:,200]!=0\n",
    "XY=XY[tf]\n",
    "idx=idx[tf]\n",
    "\n",
    "#X=XY[:,0:199]\n",
    "#Y=XY[:,200].reshape((XY.shape[0],1))\n",
    "\n",
    "#check there is at least one dp for every record\n",
    "assert all(np.sum(XY!=0,axis=1)>0)\n",
    "\n",
    "\n",
    "\n",
    "amal_train,amal_test,idx_train,idx_test=train_test_split(XY,idx,test_size=0.25,random_state=30)\n",
    "x_train=amal_train[:,0:199]\n",
    "x_test=amal_test[:,0:199]\n",
    "y_test=amal_test[:,200].reshape((x_test.shape[0],1))\n",
    "y_train=amal_train[:,200].reshape((x_train.shape[0],1))"
   ]
  },
  {
   "cell_type": "code",
   "execution_count": 5,
   "metadata": {},
   "outputs": [],
   "source": [
    "sparse_recon_loss_combi=make_sparse_recon_loss_combi(0.8)\n",
    "sparse_recon_loss_var=make_sparse_recon_loss_var(sparse_recon_loss_combi)\n",
    "\n",
    "loss=sparse_recon_loss_combi\n",
    "\n",
    "metrics=[sparse_recon_loss_mse,sparse_recon_loss_abs,sparse_recon_loss_var]\n",
    "\n",
    "#early stop setting below is default but explicitly stated here\n",
    "ES=EarlyStopping(monitor='sparse_recon_loss_combi_loss', min_delta=0.0001, patience=5, verbose=1, mode='auto')\n",
    "\n",
    "\n",
    "train_dic={\n",
    "           'epochs':100,'batch_size':128\n",
    "          }"
   ]
  },
  {
   "cell_type": "code",
   "execution_count": 6,
   "metadata": {},
   "outputs": [],
   "source": [
    "ker_init=glorot_normal(seed=22)\n",
    "layer_p_dic={'drop_ra':0.1, 'g_noise':0.05, 'ker_init':ker_init}"
   ]
  },
  {
   "cell_type": "code",
   "execution_count": 236,
   "metadata": {},
   "outputs": [],
   "source": [
    "K.clear_session()"
   ]
  },
  {
   "cell_type": "code",
   "execution_count": 7,
   "metadata": {},
   "outputs": [
    {
     "name": "stdout",
     "output_type": "stream",
     "text": [
      "64\n",
      "__________________________________________________________________________________________________\n",
      "Layer (type)                    Output Shape         Param #     Connected to                     \n",
      "==================================================================================================\n",
      "financial_cond_input (InputLaye (None, 199)          0                                            \n",
      "__________________________________________________________________________________________________\n",
      "financial_manip (InputLayer)    (None, 1)            0                                            \n",
      "__________________________________________________________________________________________________\n",
      "concatenate_1 (Concatenate)     (None, 200)          0           financial_cond_input[0][0]       \n",
      "                                                                 financial_manip[0][0]            \n",
      "__________________________________________________________________________________________________\n",
      "H1_dropout (Dropout)            (None, 200)          0           concatenate_1[0][0]              \n",
      "__________________________________________________________________________________________________\n",
      "H1_noise (GaussianNoise)        (None, 200)          0           H1_dropout[0][0]                 \n",
      "__________________________________________________________________________________________________\n",
      "H1_layer (Dense)                (None, 64)           12864       H1_noise[0][0]                   \n",
      "__________________________________________________________________________________________________\n",
      "H1_activation (PReLU)           (None, 64)           64          H1_layer[0][0]                   \n",
      "__________________________________________________________________________________________________\n",
      "H1_batch_norm (BatchNormalizati (None, 64)           256         H1_activation[0][0]              \n",
      "__________________________________________________________________________________________________\n",
      "H2_dropout (Dropout)            (None, 64)           0           H1_batch_norm[0][0]              \n",
      "__________________________________________________________________________________________________\n",
      "H12_noise (GaussianNoise)       (None, 64)           0           H2_dropout[0][0]                 \n",
      "__________________________________________________________________________________________________\n",
      "H2_layer (Dense)                (None, 16)           1040        H12_noise[0][0]                  \n",
      "__________________________________________________________________________________________________\n",
      "H2_activation (PReLU)           (None, 16)           16          H2_layer[0][0]                   \n",
      "__________________________________________________________________________________________________\n",
      "H2_batch_norm (BatchNormalizati (None, 16)           64          H2_activation[0][0]              \n",
      "__________________________________________________________________________________________________\n",
      "H3_layer (Dense)                (None, 64)           1088        H2_batch_norm[0][0]              \n",
      "__________________________________________________________________________________________________\n",
      "H3_activation (PReLU)           (None, 64)           64          H3_layer[0][0]                   \n",
      "__________________________________________________________________________________________________\n",
      "Output_layer (Dense)            (None, 199)          12935       H3_activation[0][0]              \n",
      "__________________________________________________________________________________________________\n",
      "concatenate_2 (Concatenate)     (None, 200)          0           Output_layer[0][0]               \n",
      "                                                                 financial_manip[0][0]            \n",
      "==================================================================================================\n",
      "Total params: 28,391\n",
      "Trainable params: 28,231\n",
      "Non-trainable params: 160\n",
      "__________________________________________________________________________________________________\n",
      "Train on 2339 samples, validate on 780 samples\n",
      "Epoch 1/50\n",
      "2339/2339 [==============================] - 1s 497us/step - loss: 0.2165 - sparse_recon_loss_mse: 0.2001 - sparse_recon_loss_abs: 0.2820 - sparse_recon_loss_var: 0.1920 - val_loss: 0.1560 - val_sparse_recon_loss_mse: 0.1398 - val_sparse_recon_loss_abs: 0.2207 - val_sparse_recon_loss_var: 0.1466\n",
      "Epoch 2/50\n",
      "2339/2339 [==============================] - 0s 37us/step - loss: 0.1381 - sparse_recon_loss_mse: 0.1208 - sparse_recon_loss_abs: 0.2074 - sparse_recon_loss_var: 0.1226 - val_loss: 0.1123 - val_sparse_recon_loss_mse: 0.0958 - val_sparse_recon_loss_abs: 0.1784 - val_sparse_recon_loss_var: 0.1129\n",
      "Epoch 3/50\n",
      "2339/2339 [==============================] - 0s 36us/step - loss: 0.1023 - sparse_recon_loss_mse: 0.0856 - sparse_recon_loss_abs: 0.1694 - sparse_recon_loss_var: 0.0994 - val_loss: 0.0876 - val_sparse_recon_loss_mse: 0.0713 - val_sparse_recon_loss_abs: 0.1531 - val_sparse_recon_loss_var: 0.1008\n",
      "Epoch 4/50\n",
      "2339/2339 [==============================] - 0s 36us/step - loss: 0.0823 - sparse_recon_loss_mse: 0.0663 - sparse_recon_loss_abs: 0.1462 - sparse_recon_loss_var: 0.0907 - val_loss: 0.0738 - val_sparse_recon_loss_mse: 0.0583 - val_sparse_recon_loss_abs: 0.1360 - val_sparse_recon_loss_var: 0.0946\n",
      "Epoch 5/50\n",
      "2339/2339 [==============================] - 0s 39us/step - loss: 0.0705 - sparse_recon_loss_mse: 0.0557 - sparse_recon_loss_abs: 0.1295 - sparse_recon_loss_var: 0.0868 - val_loss: 0.0664 - val_sparse_recon_loss_mse: 0.0518 - val_sparse_recon_loss_abs: 0.1250 - val_sparse_recon_loss_var: 0.0892\n",
      "Epoch 6/50\n",
      "2339/2339 [==============================] - 0s 36us/step - loss: 0.0636 - sparse_recon_loss_mse: 0.0497 - sparse_recon_loss_abs: 0.1193 - sparse_recon_loss_var: 0.0815 - val_loss: 0.0619 - val_sparse_recon_loss_mse: 0.0480 - val_sparse_recon_loss_abs: 0.1176 - val_sparse_recon_loss_var: 0.0850\n",
      "Epoch 7/50\n",
      "2339/2339 [==============================] - 0s 39us/step - loss: 0.0598 - sparse_recon_loss_mse: 0.0466 - sparse_recon_loss_abs: 0.1126 - sparse_recon_loss_var: 0.0797 - val_loss: 0.0578 - val_sparse_recon_loss_mse: 0.0444 - val_sparse_recon_loss_abs: 0.1114 - val_sparse_recon_loss_var: 0.0811\n",
      "Epoch 8/50\n",
      "2339/2339 [==============================] - 0s 41us/step - loss: 0.0568 - sparse_recon_loss_mse: 0.0439 - sparse_recon_loss_abs: 0.1082 - sparse_recon_loss_var: 0.0760 - val_loss: 0.0551 - val_sparse_recon_loss_mse: 0.0422 - val_sparse_recon_loss_abs: 0.1071 - val_sparse_recon_loss_var: 0.0785\n",
      "Epoch 9/50\n",
      "2339/2339 [==============================] - 0s 39us/step - loss: 0.0542 - sparse_recon_loss_mse: 0.0418 - sparse_recon_loss_abs: 0.1041 - sparse_recon_loss_var: 0.0732 - val_loss: 0.0526 - val_sparse_recon_loss_mse: 0.0400 - val_sparse_recon_loss_abs: 0.1029 - val_sparse_recon_loss_var: 0.0760\n",
      "Epoch 10/50\n",
      "2339/2339 [==============================] - 0s 36us/step - loss: 0.0523 - sparse_recon_loss_mse: 0.0400 - sparse_recon_loss_abs: 0.1014 - sparse_recon_loss_var: 0.0705 - val_loss: 0.0505 - val_sparse_recon_loss_mse: 0.0383 - val_sparse_recon_loss_abs: 0.0993 - val_sparse_recon_loss_var: 0.0740\n",
      "Epoch 11/50\n",
      "2339/2339 [==============================] - 0s 35us/step - loss: 0.0512 - sparse_recon_loss_mse: 0.0391 - sparse_recon_loss_abs: 0.0998 - sparse_recon_loss_var: 0.0697 - val_loss: 0.0488 - val_sparse_recon_loss_mse: 0.0368 - val_sparse_recon_loss_abs: 0.0964 - val_sparse_recon_loss_var: 0.0725\n",
      "Epoch 12/50\n",
      "2339/2339 [==============================] - 0s 37us/step - loss: 0.0493 - sparse_recon_loss_mse: 0.0373 - sparse_recon_loss_abs: 0.0969 - sparse_recon_loss_var: 0.0669 - val_loss: 0.0472 - val_sparse_recon_loss_mse: 0.0355 - val_sparse_recon_loss_abs: 0.0940 - val_sparse_recon_loss_var: 0.0707\n",
      "Epoch 13/50\n",
      "2339/2339 [==============================] - 0s 37us/step - loss: 0.0485 - sparse_recon_loss_mse: 0.0367 - sparse_recon_loss_abs: 0.0958 - sparse_recon_loss_var: 0.0671 - val_loss: 0.0458 - val_sparse_recon_loss_mse: 0.0344 - val_sparse_recon_loss_abs: 0.0915 - val_sparse_recon_loss_var: 0.0695\n",
      "Epoch 14/50\n"
     ]
    },
    {
     "name": "stdout",
     "output_type": "stream",
     "text": [
      "2339/2339 [==============================] - 0s 38us/step - loss: 0.0472 - sparse_recon_loss_mse: 0.0357 - sparse_recon_loss_abs: 0.0935 - sparse_recon_loss_var: 0.0658 - val_loss: 0.0445 - val_sparse_recon_loss_mse: 0.0334 - val_sparse_recon_loss_abs: 0.0892 - val_sparse_recon_loss_var: 0.0687\n",
      "Epoch 15/50\n",
      "2339/2339 [==============================] - 0s 35us/step - loss: 0.0463 - sparse_recon_loss_mse: 0.0346 - sparse_recon_loss_abs: 0.0930 - sparse_recon_loss_var: 0.0630 - val_loss: 0.0436 - val_sparse_recon_loss_mse: 0.0326 - val_sparse_recon_loss_abs: 0.0876 - val_sparse_recon_loss_var: 0.0679\n",
      "Epoch 16/50\n",
      "2339/2339 [==============================] - 0s 34us/step - loss: 0.0450 - sparse_recon_loss_mse: 0.0335 - sparse_recon_loss_abs: 0.0908 - sparse_recon_loss_var: 0.0614 - val_loss: 0.0430 - val_sparse_recon_loss_mse: 0.0320 - val_sparse_recon_loss_abs: 0.0870 - val_sparse_recon_loss_var: 0.0670\n",
      "Epoch 17/50\n",
      "2339/2339 [==============================] - 0s 34us/step - loss: 0.0442 - sparse_recon_loss_mse: 0.0327 - sparse_recon_loss_abs: 0.0898 - sparse_recon_loss_var: 0.0606 - val_loss: 0.0418 - val_sparse_recon_loss_mse: 0.0311 - val_sparse_recon_loss_abs: 0.0846 - val_sparse_recon_loss_var: 0.0661\n",
      "Epoch 18/50\n",
      "2339/2339 [==============================] - 0s 36us/step - loss: 0.0434 - sparse_recon_loss_mse: 0.0321 - sparse_recon_loss_abs: 0.0888 - sparse_recon_loss_var: 0.0587 - val_loss: 0.0410 - val_sparse_recon_loss_mse: 0.0304 - val_sparse_recon_loss_abs: 0.0836 - val_sparse_recon_loss_var: 0.0653\n",
      "Epoch 19/50\n",
      "2339/2339 [==============================] - 0s 34us/step - loss: 0.0426 - sparse_recon_loss_mse: 0.0313 - sparse_recon_loss_abs: 0.0877 - sparse_recon_loss_var: 0.0579 - val_loss: 0.0405 - val_sparse_recon_loss_mse: 0.0299 - val_sparse_recon_loss_abs: 0.0827 - val_sparse_recon_loss_var: 0.0646\n",
      "Epoch 20/50\n",
      "2339/2339 [==============================] - 0s 36us/step - loss: 0.0418 - sparse_recon_loss_mse: 0.0305 - sparse_recon_loss_abs: 0.0868 - sparse_recon_loss_var: 0.0573 - val_loss: 0.0396 - val_sparse_recon_loss_mse: 0.0292 - val_sparse_recon_loss_abs: 0.0813 - val_sparse_recon_loss_var: 0.0636\n",
      "Epoch 21/50\n",
      "2339/2339 [==============================] - 0s 34us/step - loss: 0.0416 - sparse_recon_loss_mse: 0.0305 - sparse_recon_loss_abs: 0.0859 - sparse_recon_loss_var: 0.0575 - val_loss: 0.0393 - val_sparse_recon_loss_mse: 0.0289 - val_sparse_recon_loss_abs: 0.0809 - val_sparse_recon_loss_var: 0.0630\n",
      "Epoch 22/50\n",
      "2339/2339 [==============================] - 0s 34us/step - loss: 0.0407 - sparse_recon_loss_mse: 0.0296 - sparse_recon_loss_abs: 0.0853 - sparse_recon_loss_var: 0.0555 - val_loss: 0.0385 - val_sparse_recon_loss_mse: 0.0283 - val_sparse_recon_loss_abs: 0.0795 - val_sparse_recon_loss_var: 0.0621\n",
      "Epoch 23/50\n",
      "2339/2339 [==============================] - 0s 35us/step - loss: 0.0403 - sparse_recon_loss_mse: 0.0292 - sparse_recon_loss_abs: 0.0847 - sparse_recon_loss_var: 0.0540 - val_loss: 0.0383 - val_sparse_recon_loss_mse: 0.0281 - val_sparse_recon_loss_abs: 0.0791 - val_sparse_recon_loss_var: 0.0621\n",
      "Epoch 24/50\n",
      "2339/2339 [==============================] - 0s 34us/step - loss: 0.0394 - sparse_recon_loss_mse: 0.0284 - sparse_recon_loss_abs: 0.0834 - sparse_recon_loss_var: 0.0527 - val_loss: 0.0375 - val_sparse_recon_loss_mse: 0.0274 - val_sparse_recon_loss_abs: 0.0779 - val_sparse_recon_loss_var: 0.0609\n",
      "Epoch 25/50\n",
      "2339/2339 [==============================] - 0s 34us/step - loss: 0.0395 - sparse_recon_loss_mse: 0.0285 - sparse_recon_loss_abs: 0.0833 - sparse_recon_loss_var: 0.0543 - val_loss: 0.0372 - val_sparse_recon_loss_mse: 0.0272 - val_sparse_recon_loss_abs: 0.0771 - val_sparse_recon_loss_var: 0.0612\n",
      "Epoch 26/50\n",
      "2339/2339 [==============================] - 0s 33us/step - loss: 0.0388 - sparse_recon_loss_mse: 0.0279 - sparse_recon_loss_abs: 0.0825 - sparse_recon_loss_var: 0.0519 - val_loss: 0.0369 - val_sparse_recon_loss_mse: 0.0268 - val_sparse_recon_loss_abs: 0.0770 - val_sparse_recon_loss_var: 0.0609\n",
      "Epoch 27/50\n",
      "2339/2339 [==============================] - 0s 34us/step - loss: 0.0386 - sparse_recon_loss_mse: 0.0277 - sparse_recon_loss_abs: 0.0821 - sparse_recon_loss_var: 0.0517 - val_loss: 0.0365 - val_sparse_recon_loss_mse: 0.0266 - val_sparse_recon_loss_abs: 0.0761 - val_sparse_recon_loss_var: 0.0604\n",
      "Epoch 28/50\n",
      "2339/2339 [==============================] - 0s 34us/step - loss: 0.0380 - sparse_recon_loss_mse: 0.0271 - sparse_recon_loss_abs: 0.0815 - sparse_recon_loss_var: 0.0506 - val_loss: 0.0360 - val_sparse_recon_loss_mse: 0.0262 - val_sparse_recon_loss_abs: 0.0752 - val_sparse_recon_loss_var: 0.0601\n",
      "Epoch 29/50\n",
      "2339/2339 [==============================] - 0s 34us/step - loss: 0.0378 - sparse_recon_loss_mse: 0.0270 - sparse_recon_loss_abs: 0.0810 - sparse_recon_loss_var: 0.0505 - val_loss: 0.0356 - val_sparse_recon_loss_mse: 0.0258 - val_sparse_recon_loss_abs: 0.0748 - val_sparse_recon_loss_var: 0.0593\n",
      "Epoch 30/50\n",
      "2339/2339 [==============================] - 0s 35us/step - loss: 0.0375 - sparse_recon_loss_mse: 0.0267 - sparse_recon_loss_abs: 0.0807 - sparse_recon_loss_var: 0.0495 - val_loss: 0.0355 - val_sparse_recon_loss_mse: 0.0258 - val_sparse_recon_loss_abs: 0.0742 - val_sparse_recon_loss_var: 0.0592\n",
      "Epoch 31/50\n",
      "2339/2339 [==============================] - 0s 37us/step - loss: 0.0373 - sparse_recon_loss_mse: 0.0267 - sparse_recon_loss_abs: 0.0800 - sparse_recon_loss_var: 0.0509 - val_loss: 0.0353 - val_sparse_recon_loss_mse: 0.0256 - val_sparse_recon_loss_abs: 0.0741 - val_sparse_recon_loss_var: 0.0594\n",
      "Epoch 32/50\n",
      "2339/2339 [==============================] - 0s 36us/step - loss: 0.0366 - sparse_recon_loss_mse: 0.0260 - sparse_recon_loss_abs: 0.0793 - sparse_recon_loss_var: 0.0493 - val_loss: 0.0346 - val_sparse_recon_loss_mse: 0.0250 - val_sparse_recon_loss_abs: 0.0731 - val_sparse_recon_loss_var: 0.0582\n",
      "Epoch 33/50\n",
      "2339/2339 [==============================] - 0s 38us/step - loss: 0.0368 - sparse_recon_loss_mse: 0.0261 - sparse_recon_loss_abs: 0.0795 - sparse_recon_loss_var: 0.0498 - val_loss: 0.0347 - val_sparse_recon_loss_mse: 0.0251 - val_sparse_recon_loss_abs: 0.0731 - val_sparse_recon_loss_var: 0.0585\n",
      "Epoch 34/50\n",
      "2339/2339 [==============================] - 0s 34us/step - loss: 0.0361 - sparse_recon_loss_mse: 0.0254 - sparse_recon_loss_abs: 0.0787 - sparse_recon_loss_var: 0.0489 - val_loss: 0.0342 - val_sparse_recon_loss_mse: 0.0247 - val_sparse_recon_loss_abs: 0.0721 - val_sparse_recon_loss_var: 0.0578\n",
      "Epoch 35/50\n",
      "2339/2339 [==============================] - 0s 33us/step - loss: 0.0365 - sparse_recon_loss_mse: 0.0259 - sparse_recon_loss_abs: 0.0792 - sparse_recon_loss_var: 0.0481 - val_loss: 0.0340 - val_sparse_recon_loss_mse: 0.0245 - val_sparse_recon_loss_abs: 0.0721 - val_sparse_recon_loss_var: 0.0575\n",
      "Epoch 36/50\n",
      "2339/2339 [==============================] - 0s 36us/step - loss: 0.0358 - sparse_recon_loss_mse: 0.0251 - sparse_recon_loss_abs: 0.0785 - sparse_recon_loss_var: 0.0472 - val_loss: 0.0339 - val_sparse_recon_loss_mse: 0.0244 - val_sparse_recon_loss_abs: 0.0719 - val_sparse_recon_loss_var: 0.0573\n",
      "Epoch 37/50\n",
      "2339/2339 [==============================] - 0s 34us/step - loss: 0.0350 - sparse_recon_loss_mse: 0.0244 - sparse_recon_loss_abs: 0.0775 - sparse_recon_loss_var: 0.0458 - val_loss: 0.0336 - val_sparse_recon_loss_mse: 0.0242 - val_sparse_recon_loss_abs: 0.0711 - val_sparse_recon_loss_var: 0.0571\n",
      "Epoch 38/50\n",
      "2339/2339 [==============================] - 0s 35us/step - loss: 0.0349 - sparse_recon_loss_mse: 0.0243 - sparse_recon_loss_abs: 0.0770 - sparse_recon_loss_var: 0.0463 - val_loss: 0.0333 - val_sparse_recon_loss_mse: 0.0239 - val_sparse_recon_loss_abs: 0.0707 - val_sparse_recon_loss_var: 0.0566\n",
      "Epoch 39/50\n",
      "2339/2339 [==============================] - 0s 36us/step - loss: 0.0347 - sparse_recon_loss_mse: 0.0242 - sparse_recon_loss_abs: 0.0767 - sparse_recon_loss_var: 0.0466 - val_loss: 0.0330 - val_sparse_recon_loss_mse: 0.0237 - val_sparse_recon_loss_abs: 0.0705 - val_sparse_recon_loss_var: 0.0562\n",
      "Epoch 40/50\n",
      "2339/2339 [==============================] - 0s 36us/step - loss: 0.0347 - sparse_recon_loss_mse: 0.0242 - sparse_recon_loss_abs: 0.0766 - sparse_recon_loss_var: 0.0459 - val_loss: 0.0327 - val_sparse_recon_loss_mse: 0.0234 - val_sparse_recon_loss_abs: 0.0699 - val_sparse_recon_loss_var: 0.0557\n"
     ]
    },
    {
     "name": "stdout",
     "output_type": "stream",
     "text": [
      "Epoch 41/50\n",
      "2339/2339 [==============================] - 0s 34us/step - loss: 0.0344 - sparse_recon_loss_mse: 0.0239 - sparse_recon_loss_abs: 0.0765 - sparse_recon_loss_var: 0.0445 - val_loss: 0.0327 - val_sparse_recon_loss_mse: 0.0234 - val_sparse_recon_loss_abs: 0.0700 - val_sparse_recon_loss_var: 0.0556\n",
      "Epoch 42/50\n",
      "2339/2339 [==============================] - 0s 34us/step - loss: 0.0343 - sparse_recon_loss_mse: 0.0239 - sparse_recon_loss_abs: 0.0760 - sparse_recon_loss_var: 0.0458 - val_loss: 0.0324 - val_sparse_recon_loss_mse: 0.0232 - val_sparse_recon_loss_abs: 0.0693 - val_sparse_recon_loss_var: 0.0553\n",
      "Epoch 43/50\n",
      "2339/2339 [==============================] - 0s 34us/step - loss: 0.0347 - sparse_recon_loss_mse: 0.0242 - sparse_recon_loss_abs: 0.0767 - sparse_recon_loss_var: 0.0453 - val_loss: 0.0327 - val_sparse_recon_loss_mse: 0.0235 - val_sparse_recon_loss_abs: 0.0696 - val_sparse_recon_loss_var: 0.0558\n",
      "Epoch 44/50\n",
      "2339/2339 [==============================] - 0s 34us/step - loss: 0.0341 - sparse_recon_loss_mse: 0.0236 - sparse_recon_loss_abs: 0.0760 - sparse_recon_loss_var: 0.0435 - val_loss: 0.0322 - val_sparse_recon_loss_mse: 0.0230 - val_sparse_recon_loss_abs: 0.0690 - val_sparse_recon_loss_var: 0.0550\n",
      "Epoch 45/50\n",
      "2339/2339 [==============================] - 0s 34us/step - loss: 0.0337 - sparse_recon_loss_mse: 0.0232 - sparse_recon_loss_abs: 0.0757 - sparse_recon_loss_var: 0.0426 - val_loss: 0.0321 - val_sparse_recon_loss_mse: 0.0230 - val_sparse_recon_loss_abs: 0.0685 - val_sparse_recon_loss_var: 0.0549\n",
      "Epoch 46/50\n",
      "2339/2339 [==============================] - 0s 36us/step - loss: 0.0329 - sparse_recon_loss_mse: 0.0225 - sparse_recon_loss_abs: 0.0744 - sparse_recon_loss_var: 0.0424 - val_loss: 0.0319 - val_sparse_recon_loss_mse: 0.0228 - val_sparse_recon_loss_abs: 0.0682 - val_sparse_recon_loss_var: 0.0547\n",
      "Epoch 47/50\n",
      "2339/2339 [==============================] - 0s 33us/step - loss: 0.0329 - sparse_recon_loss_mse: 0.0226 - sparse_recon_loss_abs: 0.0742 - sparse_recon_loss_var: 0.0430 - val_loss: 0.0317 - val_sparse_recon_loss_mse: 0.0227 - val_sparse_recon_loss_abs: 0.0678 - val_sparse_recon_loss_var: 0.0545\n",
      "Epoch 48/50\n",
      "2339/2339 [==============================] - 0s 34us/step - loss: 0.0331 - sparse_recon_loss_mse: 0.0227 - sparse_recon_loss_abs: 0.0746 - sparse_recon_loss_var: 0.0426 - val_loss: 0.0315 - val_sparse_recon_loss_mse: 0.0224 - val_sparse_recon_loss_abs: 0.0678 - val_sparse_recon_loss_var: 0.0540\n",
      "Epoch 49/50\n",
      "2339/2339 [==============================] - 0s 34us/step - loss: 0.0331 - sparse_recon_loss_mse: 0.0227 - sparse_recon_loss_abs: 0.0746 - sparse_recon_loss_var: 0.0425 - val_loss: 0.0313 - val_sparse_recon_loss_mse: 0.0223 - val_sparse_recon_loss_abs: 0.0673 - val_sparse_recon_loss_var: 0.0541\n",
      "Epoch 50/50\n",
      "2339/2339 [==============================] - 0s 35us/step - loss: 0.0329 - sparse_recon_loss_mse: 0.0227 - sparse_recon_loss_abs: 0.0739 - sparse_recon_loss_var: 0.0425 - val_loss: 0.0314 - val_sparse_recon_loss_mse: 0.0225 - val_sparse_recon_loss_abs: 0.0671 - val_sparse_recon_loss_var: 0.0545\n"
     ]
    },
    {
     "data": {
      "text/plain": [
       "<keras.callbacks.History at 0x7f1568cf0400>"
      ]
     },
     "execution_count": 7,
     "metadata": {},
     "output_type": "execute_result"
    }
   ],
   "source": [
    "pre_gen_compile_dic={'loss':loss,'metrics':metrics,'optimizer':Adam(lr=0.001)}\n",
    "pre_train_ae=generator_nw(x_train,**layer_p_dic,nodes=[64,16,64],y=True)\n",
    "pre_train_ae.compile(**pre_gen_compile_dic)\n",
    "pre_x_train=np.concatenate((x_train,y_train),axis=1)\n",
    "pre_x_test=np.concatenate((x_test,y_test),axis=1)\n",
    "ES=EarlyStopping(monitor='val_loss', min_delta=0.0001, patience=5, verbose=1, mode='auto')\n",
    "pre_train_ae.fit([x_train,y_train],pre_x_train,validation_data=([x_test,y_test], pre_x_test),epochs=50,batch_size=128,callbacks=[ES])"
   ]
  },
  {
   "cell_type": "code",
   "execution_count": 9,
   "metadata": {},
   "outputs": [],
   "source": [
    "weights=pre_train_ae.get_weights()"
   ]
  },
  {
   "cell_type": "code",
   "execution_count": 44,
   "metadata": {},
   "outputs": [
    {
     "name": "stdout",
     "output_type": "stream",
     "text": [
      "64\n",
      "__________________________________________________________________________________________________\n",
      "Layer (type)                    Output Shape         Param #     Connected to                     \n",
      "==================================================================================================\n",
      "financial_cond_input (InputLaye (None, 199)          0                                            \n",
      "__________________________________________________________________________________________________\n",
      "financial_manip (InputLayer)    (None, 1)            0                                            \n",
      "__________________________________________________________________________________________________\n",
      "concatenate_13 (Concatenate)    (None, 200)          0           financial_cond_input[0][0]       \n",
      "                                                                 financial_manip[0][0]            \n",
      "__________________________________________________________________________________________________\n",
      "H1_dropout (Dropout)            (None, 200)          0           concatenate_13[0][0]             \n",
      "__________________________________________________________________________________________________\n",
      "H1_noise (GaussianNoise)        (None, 200)          0           H1_dropout[0][0]                 \n",
      "__________________________________________________________________________________________________\n",
      "H1_layer (Dense)                (None, 64)           12864       H1_noise[0][0]                   \n",
      "__________________________________________________________________________________________________\n",
      "H1_activation (PReLU)           (None, 64)           64          H1_layer[0][0]                   \n",
      "__________________________________________________________________________________________________\n",
      "H1_batch_norm (BatchNormalizati (None, 64)           256         H1_activation[0][0]              \n",
      "__________________________________________________________________________________________________\n",
      "H2_dropout (Dropout)            (None, 64)           0           H1_batch_norm[0][0]              \n",
      "__________________________________________________________________________________________________\n",
      "H12_noise (GaussianNoise)       (None, 64)           0           H2_dropout[0][0]                 \n",
      "__________________________________________________________________________________________________\n",
      "H2_layer (Dense)                (None, 16)           1040        H12_noise[0][0]                  \n",
      "__________________________________________________________________________________________________\n",
      "H2_activation (PReLU)           (None, 16)           16          H2_layer[0][0]                   \n",
      "__________________________________________________________________________________________________\n",
      "H2_batch_norm (BatchNormalizati (None, 16)           64          H2_activation[0][0]              \n",
      "__________________________________________________________________________________________________\n",
      "H3_layer (Dense)                (None, 64)           1088        H2_batch_norm[0][0]              \n",
      "__________________________________________________________________________________________________\n",
      "H3_activation (PReLU)           (None, 64)           64          H3_layer[0][0]                   \n",
      "__________________________________________________________________________________________________\n",
      "Output_layer (Dense)            (None, 199)          12935       H3_activation[0][0]              \n",
      "__________________________________________________________________________________________________\n",
      "concatenate_14 (Concatenate)    (None, 200)          0           Output_layer[0][0]               \n",
      "                                                                 financial_manip[0][0]            \n",
      "==================================================================================================\n",
      "Total params: 28,391\n",
      "Trainable params: 28,231\n",
      "Non-trainable params: 160\n",
      "__________________________________________________________________________________________________\n"
     ]
    }
   ],
   "source": [
    "gen_compile_dic={'loss':loss,'metrics':metrics,'optimizer':Adam(lr=0.001)}\n",
    "Generator=generator_nw(x_train,**layer_p_dic,nodes=[64,16,64],y=True)\n",
    "Generator.compile(**gen_compile_dic)\n",
    "Generator.set_weights(weights)"
   ]
  },
  {
   "cell_type": "code",
   "execution_count": 45,
   "metadata": {
    "scrolled": true
   },
   "outputs": [
    {
     "name": "stdout",
     "output_type": "stream",
     "text": [
      "_________________________________________________________________\n",
      "Layer (type)                 Output Shape              Param #   \n",
      "=================================================================\n",
      "X_RealorFake (InputLayer)    (None, 200)               0         \n",
      "_________________________________________________________________\n",
      "H1_dropout (Dropout)         (None, 200)               0         \n",
      "_________________________________________________________________\n",
      "H1_noise (GaussianNoise)     (None, 200)               0         \n",
      "_________________________________________________________________\n",
      "dense_13 (Dense)             (None, 64)                12864     \n",
      "_________________________________________________________________\n",
      "dH1_activation (PReLU)       (None, 64)                64        \n",
      "_________________________________________________________________\n",
      "dH2_dropout (Dropout)        (None, 64)                0         \n",
      "_________________________________________________________________\n",
      "dH2_noise (GaussianNoise)    (None, 64)                0         \n",
      "_________________________________________________________________\n",
      "dense_14 (Dense)             (None, 32)                2080      \n",
      "_________________________________________________________________\n",
      "dH2_activation (PReLU)       (None, 32)                32        \n",
      "_________________________________________________________________\n",
      "dense_15 (Dense)             (None, 2)                 66        \n",
      "=================================================================\n",
      "Total params: 15,106\n",
      "Trainable params: 15,106\n",
      "Non-trainable params: 0\n",
      "_________________________________________________________________\n"
     ]
    }
   ],
   "source": [
    "dis_compile_dic={'loss':binary_crossentropy,'optimizer':Adam(lr=0.001)} #'early_stop':ES}\n",
    "layer_p_dic={'drop_ra':0.1, 'g_noise':0.20, 'ker_init':ker_init}\n",
    "Discrim=discriminator_nw(x_train,**layer_p_dic,nodes=[64,32,16])\n",
    "Discrim.compile(**dis_compile_dic)"
   ]
  },
  {
   "cell_type": "code",
   "execution_count": 46,
   "metadata": {},
   "outputs": [
    {
     "name": "stdout",
     "output_type": "stream",
     "text": [
      "__________________________________________________________________________________________________\n",
      "Layer (type)                    Output Shape         Param #     Connected to                     \n",
      "==================================================================================================\n",
      "input_9 (InputLayer)            (None, 199)          0                                            \n",
      "__________________________________________________________________________________________________\n",
      "input_10 (InputLayer)           (None, 1)            0                                            \n",
      "__________________________________________________________________________________________________\n",
      "model_15 (Model)                (None, 200)          28391       input_9[0][0]                    \n",
      "                                                                 input_10[0][0]                   \n",
      "__________________________________________________________________________________________________\n",
      "model_16 (Model)                (None, 2)            15106       model_15[1][0]                   \n",
      "==================================================================================================\n",
      "Total params: 43,497\n",
      "Trainable params: 28,231\n",
      "Non-trainable params: 15,266\n",
      "__________________________________________________________________________________________________\n"
     ]
    }
   ],
   "source": [
    "loss_weights=[5,1]\n",
    "gan_compile_dic={'loss':[loss,binary_crossentropy],'optimizer':Adam(lr=0.001),'loss_weights':loss_weights}\n",
    "GAN=gan_nw(Generator,Discrim,x_train)\n",
    "GAN.compile(**gan_compile_dic)\n"
   ]
  },
  {
   "cell_type": "code",
   "execution_count": 47,
   "metadata": {},
   "outputs": [
    {
     "name": "stdout",
     "output_type": "stream",
     "text": [
      "(2000, 200)\n",
      "Epoch 1/10\n",
      "2000/2000 [==============================] - 1s 412us/step - loss: 0.3582\n",
      "Epoch 2/10\n",
      "2000/2000 [==============================] - 0s 75us/step - loss: 0.0759\n",
      "Epoch 3/10\n",
      "2000/2000 [==============================] - 0s 74us/step - loss: 0.0364\n",
      "Epoch 4/10\n",
      "2000/2000 [==============================] - 0s 74us/step - loss: 0.0303\n",
      "Epoch 5/10\n",
      "2000/2000 [==============================] - 0s 70us/step - loss: 0.0208\n",
      "Epoch 6/10\n",
      "2000/2000 [==============================] - 0s 74us/step - loss: 0.0167\n",
      "Epoch 7/10\n",
      "2000/2000 [==============================] - 0s 74us/step - loss: 0.0145\n",
      "Epoch 8/10\n",
      "2000/2000 [==============================] - 0s 73us/step - loss: 0.0181\n",
      "Epoch 9/10\n",
      "2000/2000 [==============================] - 0s 72us/step - loss: 0.0194\n",
      "Epoch 10/10\n",
      "2000/2000 [==============================] - 0s 74us/step - loss: 0.0080\n",
      "Accuracy: 100.0 % 2000  of  2000 correct\n"
     ]
    }
   ],
   "source": [
    "XT_aug, y_hat=Discrim_pre_train(x_train,y_train,Discrim,train_size=1000)"
   ]
  },
  {
   "cell_type": "code",
   "execution_count": 48,
   "metadata": {},
   "outputs": [],
   "source": [
    "train_dic={'x_train':x_train,'y_train':y_train,'x_test':x_test,'y_test':y_test,\n",
    "'nb_epoch':1000,'plt_frq':100,'batch_size':128,'test_size':64,'Generator':Generator,\n",
    "'Discriminator':Discrim,'GAN':GAN,'plot':False}"
   ]
  },
  {
   "cell_type": "code",
   "execution_count": 15,
   "metadata": {},
   "outputs": [
    {
     "name": "stderr",
     "output_type": "stream",
     "text": [
      "\r",
      "  0%|          | 0/1000 [00:00<?, ?it/s]"
     ]
    },
    {
     "name": "stdout",
     "output_type": "stream",
     "text": [
      "128/128 [==============================] - 0s 826us/step\n",
      "64/64 [==============================] - 0s 38us/step\n",
      "64/64 [==============================] - 0s 31us/step\n"
     ]
    },
    {
     "name": "stderr",
     "output_type": "stream",
     "text": [
      "\r",
      "  0%|          | 1/1000 [00:01<29:41,  1.78s/it]"
     ]
    },
    {
     "name": "stdout",
     "output_type": "stream",
     "text": [
      "128/128 [==============================] - 0s 30us/step\n",
      "64/64 [==============================] - 0s 59us/step\n",
      "64/64 [==============================] - 0s 48us/step\n",
      "128/128 [==============================] - 0s 37us/step\n",
      "64/64 [==============================] - 0s 41us/step\n",
      "64/64 [==============================] - 0s 47us/step\n",
      "128/128 [==============================] - 0s 36us/step\n",
      "64/64 [==============================] - 0s 44us/step\n",
      "64/64 [==============================] - 0s 47us/step\n",
      "128/128 [==============================] - 0s 24us/step\n",
      "64/64 [==============================] - 0s 72us/step\n",
      "64/64 [==============================] - 0s 54us/step\n"
     ]
    },
    {
     "name": "stderr",
     "output_type": "stream",
     "text": [
      "\r",
      "  0%|          | 5/1000 [00:01<06:15,  2.65it/s]"
     ]
    },
    {
     "name": "stdout",
     "output_type": "stream",
     "text": [
      "128/128 [==============================] - 0s 28us/step\n",
      "64/64 [==============================] - 0s 34us/step\n",
      "64/64 [==============================] - 0s 64us/step\n",
      "128/128 [==============================] - 0s 24us/step\n",
      "64/64 [==============================] - 0s 41us/step\n",
      "64/64 [==============================] - 0s 34us/step\n",
      "128/128 [==============================] - 0s 37us/step\n",
      "64/64 [==============================] - 0s 67us/step\n",
      "64/64 [==============================] - 0s 46us/step\n",
      "128/128 [==============================] - 0s 33us/step\n",
      "64/64 [==============================] - 0s 37us/step\n",
      "64/64 [==============================] - 0s 51us/step\n"
     ]
    },
    {
     "name": "stderr",
     "output_type": "stream",
     "text": [
      "\r",
      "  1%|          | 9/1000 [00:01<03:38,  4.53it/s]"
     ]
    },
    {
     "name": "stdout",
     "output_type": "stream",
     "text": [
      "128/128 [==============================] - 0s 30us/step\n",
      "64/64 [==============================] - 0s 57us/step\n",
      "64/64 [==============================] - 0s 37us/step\n",
      "128/128 [==============================] - 0s 25us/step\n",
      "64/64 [==============================] - 0s 64us/step\n",
      "64/64 [==============================] - 0s 40us/step\n",
      "128/128 [==============================] - 0s 39us/step\n",
      "64/64 [==============================] - 0s 31us/step\n",
      "64/64 [==============================] - 0s 30us/step\n",
      "128/128 [==============================] - 0s 25us/step\n",
      "64/64 [==============================] - 0s 28us/step\n",
      "64/64 [==============================] - 0s 43us/step\n"
     ]
    },
    {
     "name": "stderr",
     "output_type": "stream",
     "text": [
      "\r",
      "  1%|▏         | 13/1000 [00:02<02:38,  6.22it/s]"
     ]
    },
    {
     "name": "stdout",
     "output_type": "stream",
     "text": [
      "128/128 [==============================] - 0s 24us/step\n",
      "64/64 [==============================] - 0s 33us/step\n",
      "64/64 [==============================] - 0s 41us/step\n",
      "128/128 [==============================] - 0s 25us/step\n",
      "64/64 [==============================] - 0s 32us/step\n",
      "64/64 [==============================] - 0s 45us/step\n",
      "128/128 [==============================] - 0s 22us/step\n",
      "64/64 [==============================] - 0s 43us/step\n",
      "64/64 [==============================] - 0s 55us/step\n",
      "128/128 [==============================] - 0s 35us/step\n",
      "64/64 [==============================] - 0s 30us/step\n",
      "64/64 [==============================] - 0s 49us/step\n",
      "128/128 [==============================] - 0s 23us/step\n",
      "64/64 [==============================] - 0s 49us/step\n",
      "64/64 [==============================] - 0s 59us/step\n"
     ]
    },
    {
     "name": "stderr",
     "output_type": "stream",
     "text": [
      "\r",
      "  2%|▏         | 18/1000 [00:02<02:00,  8.18it/s]"
     ]
    },
    {
     "name": "stdout",
     "output_type": "stream",
     "text": [
      "128/128 [==============================] - 0s 37us/step\n",
      "64/64 [==============================] - 0s 32us/step\n",
      "64/64 [==============================] - 0s 32us/step\n",
      "128/128 [==============================] - 0s 33us/step\n",
      "64/64 [==============================] - 0s 46us/step\n",
      "64/64 [==============================] - 0s 139us/step\n",
      "128/128 [==============================] - 0s 30us/step\n",
      "64/64 [==============================] - 0s 48us/step\n",
      "64/64 [==============================] - 0s 62us/step\n",
      "128/128 [==============================] - 0s 49us/step\n",
      "64/64 [==============================] - 0s 139us/step\n",
      "64/64 [==============================] - 0s 68us/step\n"
     ]
    },
    {
     "name": "stderr",
     "output_type": "stream",
     "text": [
      "\r",
      "  2%|▏         | 22/1000 [00:02<01:42,  9.50it/s]"
     ]
    },
    {
     "name": "stdout",
     "output_type": "stream",
     "text": [
      "128/128 [==============================] - 0s 37us/step\n",
      "64/64 [==============================] - 0s 31us/step\n",
      "64/64 [==============================] - 0s 39us/step\n",
      "128/128 [==============================] - 0s 31us/step\n",
      "64/64 [==============================] - 0s 34us/step\n",
      "64/64 [==============================] - 0s 32us/step\n",
      "128/128 [==============================] - 0s 27us/step\n",
      "64/64 [==============================] - 0s 48us/step\n",
      "64/64 [==============================] - 0s 48us/step\n",
      "128/128 [==============================] - 0s 28us/step\n",
      "64/64 [==============================] - 0s 40us/step\n",
      "64/64 [==============================] - 0s 46us/step\n",
      "128/128 [==============================] - 0s 23us/step\n",
      "64/64 [==============================] - 0s 55us/step\n",
      "64/64 [==============================] - 0s 33us/step\n"
     ]
    },
    {
     "name": "stderr",
     "output_type": "stream",
     "text": [
      "\r",
      "  3%|▎         | 27/1000 [00:02<01:27, 11.08it/s]"
     ]
    },
    {
     "name": "stdout",
     "output_type": "stream",
     "text": [
      "128/128 [==============================] - 0s 26us/step\n",
      "64/64 [==============================] - 0s 36us/step\n",
      "64/64 [==============================] - 0s 51us/step\n",
      "128/128 [==============================] - 0s 32us/step\n",
      "64/64 [==============================] - 0s 38us/step\n",
      "64/64 [==============================] - 0s 35us/step\n",
      "128/128 [==============================] - 0s 26us/step\n",
      "64/64 [==============================] - 0s 44us/step\n",
      "64/64 [==============================] - 0s 48us/step\n",
      "128/128 [==============================] - 0s 33us/step\n",
      "64/64 [==============================] - 0s 57us/step\n",
      "64/64 [==============================] - 0s 63us/step\n",
      "128/128 [==============================] - 0s 29us/step\n",
      "64/64 [==============================] - 0s 34us/step\n",
      "64/64 [==============================] - 0s 50us/step\n"
     ]
    },
    {
     "name": "stderr",
     "output_type": "stream",
     "text": [
      "\r",
      "  3%|▎         | 32/1000 [00:02<01:17, 12.51it/s]"
     ]
    },
    {
     "name": "stdout",
     "output_type": "stream",
     "text": [
      "128/128 [==============================] - 0s 29us/step\n",
      "64/64 [==============================] - 0s 26us/step\n",
      "64/64 [==============================] - 0s 51us/step\n",
      "128/128 [==============================] - 0s 26us/step\n",
      "64/64 [==============================] - 0s 36us/step\n",
      "64/64 [==============================] - 0s 26us/step\n",
      "128/128 [==============================] - 0s 27us/step\n",
      "64/64 [==============================] - 0s 40us/step\n",
      "64/64 [==============================] - 0s 43us/step\n",
      "128/128 [==============================] - 0s 35us/step\n",
      "64/64 [==============================] - 0s 30us/step\n",
      "64/64 [==============================] - 0s 32us/step\n",
      "128/128 [==============================] - 0s 24us/step\n",
      "64/64 [==============================] - 0s 31us/step\n",
      "64/64 [==============================] - 0s 50us/step\n"
     ]
    },
    {
     "name": "stderr",
     "output_type": "stream",
     "text": [
      "\r",
      "  4%|▎         | 37/1000 [00:02<01:09, 13.85it/s]"
     ]
    },
    {
     "name": "stdout",
     "output_type": "stream",
     "text": [
      "128/128 [==============================] - 0s 32us/step\n",
      "64/64 [==============================] - 0s 45us/step\n",
      "64/64 [==============================] - 0s 38us/step\n",
      "128/128 [==============================] - 0s 37us/step\n",
      "64/64 [==============================] - 0s 26us/step\n",
      "64/64 [==============================] - 0s 32us/step\n",
      "128/128 [==============================] - 0s 35us/step\n",
      "64/64 [==============================] - 0s 31us/step\n",
      "64/64 [==============================] - 0s 48us/step\n",
      "128/128 [==============================] - 0s 31us/step\n",
      "64/64 [==============================] - 0s 46us/step\n",
      "64/64 [==============================] - 0s 46us/step\n",
      "128/128 [==============================] - 0s 31us/step\n",
      "64/64 [==============================] - 0s 35us/step\n",
      "64/64 [==============================] - 0s 38us/step\n"
     ]
    },
    {
     "name": "stderr",
     "output_type": "stream",
     "text": [
      "\r",
      "  4%|▍         | 42/1000 [00:02<01:03, 15.06it/s]"
     ]
    },
    {
     "name": "stdout",
     "output_type": "stream",
     "text": [
      "128/128 [==============================] - 0s 22us/step\n",
      "64/64 [==============================] - 0s 32us/step\n",
      "64/64 [==============================] - 0s 31us/step\n",
      "128/128 [==============================] - 0s 34us/step\n",
      "64/64 [==============================] - 0s 27us/step\n",
      "64/64 [==============================] - 0s 53us/step\n",
      "128/128 [==============================] - 0s 41us/step\n",
      "64/64 [==============================] - 0s 59us/step\n",
      "64/64 [==============================] - 0s 43us/step\n",
      "128/128 [==============================] - 0s 24us/step\n",
      "64/64 [==============================] - 0s 27us/step\n",
      "64/64 [==============================] - 0s 68us/step\n",
      "128/128 [==============================] - 0s 31us/step\n",
      "64/64 [==============================] - 0s 54us/step\n",
      "64/64 [==============================] - 0s 38us/step\n"
     ]
    },
    {
     "name": "stderr",
     "output_type": "stream",
     "text": [
      "\r",
      "  5%|▍         | 47/1000 [00:02<00:58, 16.16it/s]"
     ]
    },
    {
     "name": "stdout",
     "output_type": "stream",
     "text": [
      "128/128 [==============================] - 0s 31us/step\n",
      "64/64 [==============================] - 0s 40us/step\n",
      "64/64 [==============================] - 0s 63us/step\n",
      "128/128 [==============================] - 0s 57us/step\n",
      "64/64 [==============================] - 0s 27us/step\n",
      "64/64 [==============================] - 0s 35us/step\n",
      "128/128 [==============================] - 0s 31us/step\n",
      "64/64 [==============================] - 0s 30us/step\n",
      "64/64 [==============================] - 0s 54us/step\n",
      "128/128 [==============================] - 0s 28us/step\n",
      "64/64 [==============================] - 0s 56us/step\n",
      "64/64 [==============================] - 0s 44us/step\n",
      "128/128 [==============================] - 0s 33us/step\n",
      "64/64 [==============================] - 0s 36us/step\n",
      "64/64 [==============================] - 0s 29us/step\n"
     ]
    },
    {
     "name": "stderr",
     "output_type": "stream",
     "text": [
      "\r",
      "  5%|▌         | 52/1000 [00:03<00:55, 17.18it/s]"
     ]
    },
    {
     "name": "stdout",
     "output_type": "stream",
     "text": [
      "128/128 [==============================] - 0s 24us/step\n",
      "64/64 [==============================] - 0s 45us/step\n",
      "64/64 [==============================] - 0s 41us/step\n",
      "128/128 [==============================] - 0s 35us/step\n",
      "64/64 [==============================] - 0s 34us/step\n",
      "64/64 [==============================] - 0s 39us/step\n",
      "128/128 [==============================] - 0s 24us/step\n",
      "64/64 [==============================] - 0s 27us/step\n",
      "64/64 [==============================] - 0s 28us/step\n",
      "128/128 [==============================] - 0s 31us/step\n",
      "64/64 [==============================] - 0s 39us/step\n",
      "64/64 [==============================] - 0s 43us/step\n",
      "128/128 [==============================] - 0s 36us/step\n",
      "64/64 [==============================] - 0s 41us/step\n",
      "64/64 [==============================] - 0s 41us/step\n"
     ]
    },
    {
     "name": "stderr",
     "output_type": "stream",
     "text": [
      "\r",
      "  6%|▌         | 57/1000 [00:03<00:51, 18.15it/s]"
     ]
    },
    {
     "name": "stdout",
     "output_type": "stream",
     "text": [
      "128/128 [==============================] - 0s 25us/step\n",
      "64/64 [==============================] - 0s 32us/step\n",
      "64/64 [==============================] - 0s 31us/step\n",
      "128/128 [==============================] - 0s 24us/step\n",
      "64/64 [==============================] - 0s 27us/step\n",
      "64/64 [==============================] - 0s 49us/step\n",
      "128/128 [==============================] - 0s 35us/step\n",
      "64/64 [==============================] - 0s 53us/step\n",
      "64/64 [==============================] - 0s 42us/step\n",
      "128/128 [==============================] - ETA:  - 0s 25us/step\n",
      "64/64 [==============================] - 0s 58us/step\n",
      "64/64 [==============================] - 0s 31us/step\n",
      "128/128 [==============================] - 0s 31us/step\n",
      "64/64 [==============================] - 0s 48us/step\n",
      "64/64 [==============================] - 0s 35us/step\n"
     ]
    },
    {
     "name": "stderr",
     "output_type": "stream",
     "text": [
      "\r",
      "  6%|▌         | 62/1000 [00:03<00:49, 19.06it/s]"
     ]
    },
    {
     "name": "stdout",
     "output_type": "stream",
     "text": [
      "128/128 [==============================] - 0s 32us/step\n",
      "64/64 [==============================] - 0s 34us/step\n",
      "64/64 [==============================] - 0s 39us/step\n",
      "128/128 [==============================] - 0s 28us/step\n",
      "64/64 [==============================] - 0s 42us/step\n",
      "64/64 [==============================] - 0s 35us/step\n",
      "128/128 [==============================] - 0s 23us/step\n",
      "64/64 [==============================] - 0s 46us/step\n",
      "64/64 [==============================] - 0s 50us/step\n",
      "128/128 [==============================] - 0s 26us/step\n",
      "64/64 [==============================] - 0s 37us/step\n",
      "64/64 [==============================] - 0s 41us/step\n",
      "128/128 [==============================] - 0s 30us/step\n",
      "64/64 [==============================] - 0s 33us/step\n",
      "64/64 [==============================] - 0s 32us/step\n"
     ]
    },
    {
     "name": "stderr",
     "output_type": "stream",
     "text": [
      "\r",
      "  7%|▋         | 67/1000 [00:03<00:46, 19.91it/s]"
     ]
    },
    {
     "name": "stdout",
     "output_type": "stream",
     "text": [
      "128/128 [==============================] - 0s 35us/step\n",
      "64/64 [==============================] - 0s 48us/step\n",
      "64/64 [==============================] - 0s 40us/step\n",
      "128/128 [==============================] - 0s 32us/step\n",
      "64/64 [==============================] - 0s 42us/step\n",
      "64/64 [==============================] - 0s 45us/step\n",
      "128/128 [==============================] - 0s 23us/step\n",
      "64/64 [==============================] - 0s 53us/step\n",
      "64/64 [==============================] - 0s 54us/step\n",
      "128/128 [==============================] - 0s 35us/step\n",
      "64/64 [==============================] - 0s 47us/step\n",
      "64/64 [==============================] - 0s 53us/step\n",
      "128/128 [==============================] - 0s 25us/step\n",
      "64/64 [==============================] - 0s 38us/step\n",
      "64/64 [==============================] - 0s 40us/step\n"
     ]
    },
    {
     "name": "stderr",
     "output_type": "stream",
     "text": [
      "\r",
      "  7%|▋         | 72/1000 [00:03<00:44, 20.68it/s]"
     ]
    },
    {
     "name": "stdout",
     "output_type": "stream",
     "text": [
      "128/128 [==============================] - 0s 27us/step\n",
      "64/64 [==============================] - 0s 36us/step\n",
      "64/64 [==============================] - 0s 52us/step\n",
      "128/128 [==============================] - 0s 29us/step\n",
      "64/64 [==============================] - 0s 46us/step\n",
      "64/64 [==============================] - 0s 28us/step\n",
      "128/128 [==============================] - 0s 29us/step\n",
      "64/64 [==============================] - 0s 36us/step\n",
      "64/64 [==============================] - 0s 49us/step\n",
      "128/128 [==============================] - 0s 59us/step\n",
      "64/64 [==============================] - 0s 32us/step\n",
      "64/64 [==============================] - 0s 29us/step\n",
      "128/128 [==============================] - 0s 27us/step\n",
      "64/64 [==============================] - 0s 28us/step\n",
      "64/64 [==============================] - 0s 78us/step\n"
     ]
    },
    {
     "name": "stderr",
     "output_type": "stream",
     "text": [
      "\r",
      "  8%|▊         | 77/1000 [00:03<00:43, 21.38it/s]"
     ]
    },
    {
     "name": "stdout",
     "output_type": "stream",
     "text": [
      "128/128 [==============================] - 0s 36us/step\n",
      "64/64 [==============================] - 0s 40us/step\n",
      "64/64 [==============================] - 0s 28us/step\n",
      "128/128 [==============================] - 0s 34us/step\n",
      "64/64 [==============================] - 0s 52us/step\n",
      "64/64 [==============================] - 0s 94us/step\n",
      "128/128 [==============================] - 0s 30us/step\n",
      "64/64 [==============================] - 0s 31us/step\n",
      "64/64 [==============================] - 0s 57us/step\n",
      "128/128 [==============================] - 0s 39us/step\n",
      "64/64 [==============================] - 0s 41us/step\n",
      "64/64 [==============================] - 0s 46us/step\n",
      "128/128 [==============================] - 0s 28us/step\n",
      "64/64 [==============================] - 0s 26us/step\n",
      "64/64 [==============================] - 0s 32us/step\n"
     ]
    },
    {
     "name": "stderr",
     "output_type": "stream",
     "text": [
      "\r",
      "  8%|▊         | 82/1000 [00:03<00:41, 21.98it/s]"
     ]
    },
    {
     "name": "stdout",
     "output_type": "stream",
     "text": [
      "128/128 [==============================] - 0s 35us/step\n",
      "64/64 [==============================] - 0s 49us/step\n",
      "64/64 [==============================] - 0s 45us/step\n",
      "128/128 [==============================] - 0s 29us/step\n",
      "64/64 [==============================] - 0s 49us/step\n",
      "64/64 [==============================] - 0s 39us/step\n",
      "128/128 [==============================] - 0s 28us/step\n",
      "64/64 [==============================] - 0s 43us/step\n",
      "64/64 [==============================] - 0s 54us/step\n",
      "128/128 [==============================] - 0s 26us/step\n",
      "64/64 [==============================] - 0s 46us/step\n",
      "64/64 [==============================] - 0s 50us/step\n",
      "128/128 [==============================] - 0s 31us/step\n",
      "64/64 [==============================] - 0s 66us/step\n",
      "64/64 [==============================] - 0s 38us/step\n"
     ]
    },
    {
     "name": "stderr",
     "output_type": "stream",
     "text": [
      "\r",
      "  9%|▊         | 87/1000 [00:03<00:40, 22.56it/s]"
     ]
    },
    {
     "name": "stdout",
     "output_type": "stream",
     "text": [
      "128/128 [==============================] - ETA:  - 0s 37us/step\n",
      "64/64 [==============================] - 0s 31us/step\n",
      "64/64 [==============================] - 0s 126us/step\n",
      "128/128 [==============================] - 0s 29us/step\n",
      "64/64 [==============================] - 0s 45us/step\n",
      "64/64 [==============================] - 0s 30us/step\n",
      "128/128 [==============================] - 0s 24us/step\n",
      "64/64 [==============================] - 0s 72us/step\n",
      "64/64 [==============================] - 0s 36us/step\n",
      "128/128 [==============================] - 0s 35us/step\n",
      "64/64 [==============================] - 0s 41us/step\n",
      "64/64 [==============================] - 0s 34us/step\n",
      "128/128 [==============================] - 0s 32us/step\n",
      "64/64 [==============================] - 0s 27us/step\n",
      "64/64 [==============================] - 0s 28us/step\n"
     ]
    },
    {
     "name": "stderr",
     "output_type": "stream",
     "text": [
      "\r",
      "  9%|▉         | 92/1000 [00:03<00:39, 23.12it/s]"
     ]
    },
    {
     "name": "stdout",
     "output_type": "stream",
     "text": [
      "128/128 [==============================] - 0s 24us/step\n",
      "64/64 [==============================] - 0s 92us/step\n",
      "64/64 [==============================] - 0s 34us/step\n",
      "128/128 [==============================] - 0s 25us/step\n",
      "64/64 [==============================] - 0s 38us/step\n",
      "64/64 [==============================] - 0s 30us/step\n",
      "128/128 [==============================] - 0s 25us/step\n",
      "64/64 [==============================] - 0s 31us/step\n",
      "64/64 [==============================] - 0s 38us/step\n",
      "128/128 [==============================] - 0s 32us/step\n",
      "64/64 [==============================] - 0s 32us/step\n",
      "64/64 [==============================] - 0s 42us/step\n",
      "128/128 [==============================] - 0s 32us/step\n",
      "64/64 [==============================] - 0s 29us/step\n",
      "64/64 [==============================] - 0s 48us/step\n"
     ]
    },
    {
     "name": "stderr",
     "output_type": "stream",
     "text": [
      "\r",
      " 10%|▉         | 97/1000 [00:04<00:38, 23.67it/s]"
     ]
    },
    {
     "name": "stdout",
     "output_type": "stream",
     "text": [
      "128/128 [==============================] - 0s 22us/step\n",
      "64/64 [==============================] - 0s 46us/step\n",
      "64/64 [==============================] - 0s 32us/step\n",
      "128/128 [==============================] - 0s 29us/step\n",
      "64/64 [==============================] - 0s 50us/step\n",
      "64/64 [==============================] - 0s 29us/step\n",
      "128/128 [==============================] - 0s 30us/step\n",
      "64/64 [==============================] - 0s 43us/step\n",
      "64/64 [==============================] - 0s 29us/step\n",
      "128/128 [==============================] - 0s 33us/step\n",
      "64/64 [==============================] - 0s 40us/step\n",
      "64/64 [==============================] - 0s 43us/step\n",
      "128/128 [==============================] - 0s 26us/step\n",
      "64/64 [==============================] - 0s 57us/step\n",
      "64/64 [==============================] - 0s 31us/step\n"
     ]
    },
    {
     "name": "stderr",
     "output_type": "stream",
     "text": [
      "\r",
      " 10%|█         | 102/1000 [00:04<00:37, 24.23it/s]"
     ]
    },
    {
     "name": "stdout",
     "output_type": "stream",
     "text": [
      "128/128 [==============================] - 0s 30us/step\n",
      "64/64 [==============================] - 0s 53us/step\n",
      "64/64 [==============================] - 0s 50us/step\n",
      "128/128 [==============================] - 0s 32us/step\n",
      "64/64 [==============================] - 0s 40us/step\n",
      "64/64 [==============================] - 0s 46us/step\n",
      "128/128 [==============================] - 0s 31us/step\n",
      "64/64 [==============================] - 0s 31us/step\n",
      "64/64 [==============================] - 0s 51us/step\n",
      "128/128 [==============================] - 0s 55us/step\n",
      "64/64 [==============================] - 0s 66us/step\n",
      "64/64 [==============================] - 0s 31us/step\n",
      "128/128 [==============================] - 0s 31us/step\n",
      "64/64 [==============================] - 0s 44us/step\n",
      "64/64 [==============================] - 0s 34us/step\n"
     ]
    },
    {
     "name": "stderr",
     "output_type": "stream",
     "text": [
      "\r",
      " 11%|█         | 107/1000 [00:04<00:36, 24.69it/s]"
     ]
    },
    {
     "name": "stdout",
     "output_type": "stream",
     "text": [
      "128/128 [==============================] - 0s 33us/step\n",
      "64/64 [==============================] - 0s 51us/step\n",
      "64/64 [==============================] - 0s 41us/step\n",
      "128/128 [==============================] - 0s 30us/step\n",
      "64/64 [==============================] - 0s 32us/step\n",
      "64/64 [==============================] - 0s 32us/step\n",
      "128/128 [==============================] - 0s 31us/step\n",
      "64/64 [==============================] - 0s 50us/step\n",
      "64/64 [==============================] - 0s 46us/step\n",
      "128/128 [==============================] - 0s 27us/step\n",
      "64/64 [==============================] - 0s 30us/step\n",
      "64/64 [==============================] - 0s 46us/step\n",
      "128/128 [==============================] - 0s 26us/step\n",
      "64/64 [==============================] - 0s 48us/step\n",
      "64/64 [==============================] - 0s 82us/step\n"
     ]
    },
    {
     "name": "stderr",
     "output_type": "stream",
     "text": [
      "\r",
      " 11%|█         | 112/1000 [00:04<00:35, 25.17it/s]"
     ]
    },
    {
     "name": "stdout",
     "output_type": "stream",
     "text": [
      "128/128 [==============================] - 0s 32us/step\n",
      "64/64 [==============================] - 0s 63us/step\n",
      "64/64 [==============================] - 0s 31us/step\n",
      "128/128 [==============================] - 0s 31us/step\n",
      "64/64 [==============================] - 0s 27us/step\n",
      "64/64 [==============================] - 0s 33us/step\n",
      "128/128 [==============================] - 0s 45us/step\n",
      "64/64 [==============================] - 0s 51us/step\n",
      "64/64 [==============================] - 0s 43us/step\n",
      "128/128 [==============================] - 0s 26us/step\n",
      "64/64 [==============================] - 0s 59us/step\n",
      "64/64 [==============================] - 0s 34us/step\n",
      "128/128 [==============================] - 0s 34us/step\n",
      "64/64 [==============================] - 0s 44us/step\n",
      "64/64 [==============================] - 0s 53us/step\n"
     ]
    },
    {
     "name": "stderr",
     "output_type": "stream",
     "text": [
      "\r",
      " 12%|█▏        | 117/1000 [00:04<00:34, 25.56it/s]"
     ]
    },
    {
     "name": "stdout",
     "output_type": "stream",
     "text": [
      "128/128 [==============================] - 0s 33us/step\n",
      "64/64 [==============================] - 0s 54us/step\n",
      "64/64 [==============================] - 0s 68us/step\n",
      "128/128 [==============================] - 0s 27us/step\n",
      "64/64 [==============================] - ETA:  - 0s 29us/step\n",
      "64/64 [==============================] - 0s 38us/step\n",
      "128/128 [==============================] - 0s 30us/step\n",
      "64/64 [==============================] - 0s 45us/step\n",
      "64/64 [==============================] - 0s 68us/step\n",
      "128/128 [==============================] - 0s 30us/step\n",
      "64/64 [==============================] - 0s 34us/step\n",
      "64/64 [==============================] - 0s 37us/step\n",
      "128/128 [==============================] - 0s 36us/step\n",
      "64/64 [==============================] - 0s 52us/step\n",
      "64/64 [==============================] - 0s 74us/step\n"
     ]
    },
    {
     "name": "stderr",
     "output_type": "stream",
     "text": [
      "\r",
      " 12%|█▏        | 122/1000 [00:04<00:33, 25.94it/s]"
     ]
    },
    {
     "name": "stdout",
     "output_type": "stream",
     "text": [
      "128/128 [==============================] - 0s 30us/step\n",
      "64/64 [==============================] - 0s 45us/step\n",
      "64/64 [==============================] - 0s 46us/step\n",
      "128/128 [==============================] - 0s 31us/step\n",
      "64/64 [==============================] - 0s 55us/step\n",
      "64/64 [==============================] - 0s 42us/step\n",
      "128/128 [==============================] - 0s 24us/step\n",
      "64/64 [==============================] - 0s 43us/step\n",
      "64/64 [==============================] - 0s 39us/step\n",
      "128/128 [==============================] - 0s 32us/step\n",
      "64/64 [==============================] - 0s 44us/step\n",
      "64/64 [==============================] - 0s 62us/step\n",
      "128/128 [==============================] - 0s 28us/step\n",
      "64/64 [==============================] - 0s 52us/step\n",
      "64/64 [==============================] - 0s 91us/step\n"
     ]
    },
    {
     "name": "stderr",
     "output_type": "stream",
     "text": [
      "\r",
      " 13%|█▎        | 127/1000 [00:04<00:33, 26.30it/s]"
     ]
    },
    {
     "name": "stdout",
     "output_type": "stream",
     "text": [
      "128/128 [==============================] - 0s 30us/step\n",
      "64/64 [==============================] - 0s 51us/step\n",
      "64/64 [==============================] - 0s 49us/step\n",
      "128/128 [==============================] - 0s 30us/step\n",
      "64/64 [==============================] - 0s 35us/step\n",
      "64/64 [==============================] - 0s 46us/step\n",
      "128/128 [==============================] - 0s 38us/step\n",
      "64/64 [==============================] - 0s 52us/step\n",
      "64/64 [==============================] - 0s 39us/step\n",
      "128/128 [==============================] - 0s 33us/step\n",
      "64/64 [==============================] - 0s 48us/step\n",
      "64/64 [==============================] - 0s 32us/step\n",
      "128/128 [==============================] - 0s 30us/step\n",
      "64/64 [==============================] - 0s 30us/step\n",
      "64/64 [==============================] - 0s 35us/step\n"
     ]
    },
    {
     "name": "stderr",
     "output_type": "stream",
     "text": [
      "\r",
      " 13%|█▎        | 132/1000 [00:04<00:32, 26.67it/s]"
     ]
    },
    {
     "name": "stdout",
     "output_type": "stream",
     "text": [
      "128/128 [==============================] - 0s 35us/step\n",
      "64/64 [==============================] - 0s 60us/step\n",
      "64/64 [==============================] - 0s 42us/step\n",
      "128/128 [==============================] - 0s 26us/step\n",
      "64/64 [==============================] - 0s 34us/step\n",
      "64/64 [==============================] - 0s 43us/step\n",
      "128/128 [==============================] - 0s 28us/step\n",
      "64/64 [==============================] - 0s 44us/step\n",
      "64/64 [==============================] - 0s 48us/step\n",
      "128/128 [==============================] - 0s 24us/step\n",
      "64/64 [==============================] - 0s 47us/step\n",
      "64/64 [==============================] - 0s 42us/step\n",
      "128/128 [==============================] - 0s 31us/step\n",
      "64/64 [==============================] - 0s 52us/step\n",
      "64/64 [==============================] - 0s 61us/step\n"
     ]
    },
    {
     "name": "stderr",
     "output_type": "stream",
     "text": [
      "\r",
      " 14%|█▎        | 137/1000 [00:05<00:31, 27.04it/s]"
     ]
    },
    {
     "name": "stdout",
     "output_type": "stream",
     "text": [
      "128/128 [==============================] - 0s 25us/step\n",
      "64/64 [==============================] - 0s 32us/step\n",
      "64/64 [==============================] - 0s 30us/step\n",
      "128/128 [==============================] - 0s 34us/step\n",
      "64/64 [==============================] - 0s 27us/step\n",
      "64/64 [==============================] - 0s 40us/step\n",
      "128/128 [==============================] - 0s 27us/step\n",
      "64/64 [==============================] - 0s 33us/step\n",
      "64/64 [==============================] - 0s 43us/step\n",
      "128/128 [==============================] - 0s 22us/step\n",
      "64/64 [==============================] - 0s 32us/step\n",
      "64/64 [==============================] - 0s 28us/step\n",
      "128/128 [==============================] - 0s 29us/step\n",
      "64/64 [==============================] - 0s 58us/step\n",
      "64/64 [==============================] - 0s 32us/step\n"
     ]
    },
    {
     "name": "stderr",
     "output_type": "stream",
     "text": [
      "\r",
      " 14%|█▍        | 142/1000 [00:05<00:31, 27.44it/s]"
     ]
    },
    {
     "name": "stdout",
     "output_type": "stream",
     "text": [
      "128/128 [==============================] - 0s 36us/step\n",
      "64/64 [==============================] - 0s 32us/step\n",
      "64/64 [==============================] - 0s 39us/step\n",
      "128/128 [==============================] - 0s 34us/step\n",
      "64/64 [==============================] - 0s 43us/step\n",
      "64/64 [==============================] - 0s 29us/step\n",
      "128/128 [==============================] - 0s 31us/step\n",
      "64/64 [==============================] - 0s 46us/step\n",
      "64/64 [==============================] - 0s 39us/step\n",
      "128/128 [==============================] - 0s 27us/step\n",
      "64/64 [==============================] - ETA:  - 0s 35us/step\n",
      "64/64 [==============================] - 0s 37us/step\n",
      "128/128 [==============================] - 0s 53us/step\n",
      "64/64 [==============================] - 0s 36us/step\n",
      "64/64 [==============================] - 0s 41us/step\n"
     ]
    },
    {
     "name": "stderr",
     "output_type": "stream",
     "text": [
      "\r",
      " 15%|█▍        | 147/1000 [00:05<00:30, 27.79it/s]"
     ]
    },
    {
     "name": "stdout",
     "output_type": "stream",
     "text": [
      "128/128 [==============================] - 0s 36us/step\n",
      "64/64 [==============================] - 0s 33us/step\n",
      "64/64 [==============================] - 0s 43us/step\n",
      "128/128 [==============================] - 0s 30us/step\n",
      "64/64 [==============================] - 0s 48us/step\n",
      "64/64 [==============================] - 0s 46us/step\n",
      "128/128 [==============================] - 0s 33us/step\n",
      "64/64 [==============================] - 0s 45us/step\n",
      "64/64 [==============================] - 0s 41us/step\n",
      "128/128 [==============================] - 0s 31us/step\n",
      "64/64 [==============================] - 0s 43us/step\n",
      "64/64 [==============================] - 0s 52us/step\n",
      "128/128 [==============================] - 0s 23us/step\n",
      "64/64 [==============================] - 0s 53us/step\n",
      "64/64 [==============================] - 0s 50us/step\n"
     ]
    },
    {
     "name": "stderr",
     "output_type": "stream",
     "text": [
      "\r",
      " 15%|█▌        | 152/1000 [00:05<00:30, 28.12it/s]"
     ]
    },
    {
     "name": "stdout",
     "output_type": "stream",
     "text": [
      "128/128 [==============================] - 0s 26us/step\n",
      "64/64 [==============================] - 0s 48us/step\n",
      "64/64 [==============================] - 0s 32us/step\n",
      "128/128 [==============================] - 0s 34us/step\n",
      "64/64 [==============================] - 0s 55us/step\n",
      "64/64 [==============================] - 0s 30us/step\n",
      "128/128 [==============================] - 0s 35us/step\n",
      "64/64 [==============================] - 0s 54us/step\n",
      "64/64 [==============================] - 0s 29us/step\n",
      "128/128 [==============================] - 0s 24us/step\n",
      "64/64 [==============================] - 0s 34us/step\n",
      "64/64 [==============================] - 0s 55us/step\n",
      "128/128 [==============================] - 0s 28us/step\n",
      "64/64 [==============================] - 0s 49us/step\n",
      "64/64 [==============================] - 0s 34us/step\n"
     ]
    },
    {
     "name": "stderr",
     "output_type": "stream",
     "text": [
      "\r",
      " 16%|█▌        | 157/1000 [00:05<00:29, 28.44it/s]"
     ]
    },
    {
     "name": "stdout",
     "output_type": "stream",
     "text": [
      "128/128 [==============================] - ETA:  - 0s 32us/step\n",
      "64/64 [==============================] - 0s 34us/step\n",
      "64/64 [==============================] - 0s 47us/step\n",
      "128/128 [==============================] - 0s 23us/step\n",
      "64/64 [==============================] - 0s 31us/step\n",
      "64/64 [==============================] - 0s 46us/step\n",
      "128/128 [==============================] - 0s 26us/step\n",
      "64/64 [==============================] - 0s 42us/step\n",
      "64/64 [==============================] - 0s 56us/step\n",
      "128/128 [==============================] - 0s 31us/step\n",
      "64/64 [==============================] - 0s 27us/step\n",
      "64/64 [==============================] - 0s 59us/step\n",
      "128/128 [==============================] - 0s 34us/step\n",
      "64/64 [==============================] - 0s 45us/step\n",
      "64/64 [==============================] - 0s 51us/step\n"
     ]
    },
    {
     "name": "stderr",
     "output_type": "stream",
     "text": [
      "\r",
      " 16%|█▌        | 162/1000 [00:05<00:29, 28.72it/s]"
     ]
    },
    {
     "name": "stdout",
     "output_type": "stream",
     "text": [
      "128/128 [==============================] - 0s 31us/step\n",
      "64/64 [==============================] - 0s 52us/step\n",
      "64/64 [==============================] - 0s 46us/step\n",
      "128/128 [==============================] - 0s 27us/step\n",
      "64/64 [==============================] - 0s 30us/step\n",
      "64/64 [==============================] - 0s 29us/step\n",
      "128/128 [==============================] - 0s 24us/step\n",
      "64/64 [==============================] - 0s 38us/step\n",
      "64/64 [==============================] - 0s 49us/step\n",
      "128/128 [==============================] - 0s 29us/step\n",
      "64/64 [==============================] - 0s 45us/step\n",
      "64/64 [==============================] - 0s 52us/step\n",
      "128/128 [==============================] - 0s 22us/step\n",
      "64/64 [==============================] - 0s 48us/step\n",
      "64/64 [==============================] - 0s 50us/step\n"
     ]
    },
    {
     "name": "stderr",
     "output_type": "stream",
     "text": [
      "\r",
      " 17%|█▋        | 167/1000 [00:05<00:28, 29.02it/s]"
     ]
    },
    {
     "name": "stdout",
     "output_type": "stream",
     "text": [
      "128/128 [==============================] - 0s 30us/step\n",
      "64/64 [==============================] - 0s 53us/step\n",
      "64/64 [==============================] - 0s 61us/step\n",
      "128/128 [==============================] - 0s 25us/step\n",
      "64/64 [==============================] - 0s 34us/step\n",
      "64/64 [==============================] - 0s 48us/step\n",
      "128/128 [==============================] - 0s 25us/step\n",
      "64/64 [==============================] - 0s 56us/step\n",
      "64/64 [==============================] - 0s 45us/step\n",
      "128/128 [==============================] - 0s 24us/step\n",
      "64/64 [==============================] - 0s 101us/step\n",
      "64/64 [==============================] - 0s 48us/step\n",
      "128/128 [==============================] - 0s 28us/step\n",
      "64/64 [==============================] - 0s 45us/step\n",
      "64/64 [==============================] - 0s 38us/step\n"
     ]
    },
    {
     "name": "stderr",
     "output_type": "stream",
     "text": [
      "\r",
      " 17%|█▋        | 172/1000 [00:05<00:28, 29.26it/s]"
     ]
    },
    {
     "name": "stdout",
     "output_type": "stream",
     "text": [
      "128/128 [==============================] - 0s 34us/step\n",
      "64/64 [==============================] - 0s 36us/step\n",
      "64/64 [==============================] - 0s 36us/step\n",
      "128/128 [==============================] - 0s 25us/step\n",
      "64/64 [==============================] - 0s 39us/step\n",
      "64/64 [==============================] - 0s 46us/step\n",
      "128/128 [==============================] - 0s 30us/step\n",
      "64/64 [==============================] - 0s 52us/step\n",
      "64/64 [==============================] - 0s 46us/step\n",
      "128/128 [==============================] - 0s 32us/step\n",
      "64/64 [==============================] - 0s 51us/step\n",
      "64/64 [==============================] - 0s 30us/step\n",
      "128/128 [==============================] - 0s 25us/step\n",
      "64/64 [==============================] - 0s 32us/step\n",
      "64/64 [==============================] - 0s 31us/step\n"
     ]
    },
    {
     "name": "stderr",
     "output_type": "stream",
     "text": [
      "\r",
      " 18%|█▊        | 177/1000 [00:05<00:27, 29.52it/s]"
     ]
    },
    {
     "name": "stdout",
     "output_type": "stream",
     "text": [
      "128/128 [==============================] - 0s 32us/step\n",
      "64/64 [==============================] - 0s 36us/step\n",
      "64/64 [==============================] - 0s 60us/step\n",
      "128/128 [==============================] - 0s 29us/step\n",
      "64/64 [==============================] - 0s 38us/step\n",
      "64/64 [==============================] - 0s 42us/step\n",
      "128/128 [==============================] - 0s 26us/step\n",
      "64/64 [==============================] - 0s 32us/step\n",
      "64/64 [==============================] - 0s 33us/step\n",
      "128/128 [==============================] - 0s 25us/step\n",
      "64/64 [==============================] - 0s 49us/step\n",
      "64/64 [==============================] - 0s 33us/step\n",
      "128/128 [==============================] - 0s 32us/step\n",
      "64/64 [==============================] - 0s 31us/step\n",
      "64/64 [==============================] - 0s 30us/step\n"
     ]
    },
    {
     "name": "stderr",
     "output_type": "stream",
     "text": [
      "\r",
      " 18%|█▊        | 182/1000 [00:06<00:27, 29.78it/s]"
     ]
    },
    {
     "name": "stdout",
     "output_type": "stream",
     "text": [
      "128/128 [==============================] - 0s 25us/step\n",
      "64/64 [==============================] - 0s 31us/step\n",
      "64/64 [==============================] - 0s 63us/step\n",
      "128/128 [==============================] - 0s 25us/step\n",
      "64/64 [==============================] - 0s 41us/step\n",
      "64/64 [==============================] - 0s 39us/step\n",
      "128/128 [==============================] - 0s 28us/step\n",
      "64/64 [==============================] - 0s 30us/step\n",
      "64/64 [==============================] - 0s 35us/step\n",
      "128/128 [==============================] - 0s 25us/step\n",
      "64/64 [==============================] - 0s 44us/step\n",
      "64/64 [==============================] - 0s 36us/step\n",
      "128/128 [==============================] - 0s 40us/step\n",
      "64/64 [==============================] - 0s 33us/step\n",
      "64/64 [==============================] - 0s 33us/step\n"
     ]
    },
    {
     "name": "stderr",
     "output_type": "stream",
     "text": [
      "\r",
      " 19%|█▊        | 187/1000 [00:06<00:27, 30.05it/s]"
     ]
    },
    {
     "name": "stdout",
     "output_type": "stream",
     "text": [
      "128/128 [==============================] - 0s 32us/step\n",
      "64/64 [==============================] - 0s 43us/step\n",
      "64/64 [==============================] - 0s 28us/step\n",
      "128/128 [==============================] - 0s 34us/step\n",
      "64/64 [==============================] - 0s 41us/step\n",
      "64/64 [==============================] - 0s 67us/step\n",
      "128/128 [==============================] - 0s 28us/step\n",
      "64/64 [==============================] - 0s 30us/step\n",
      "64/64 [==============================] - 0s 30us/step\n",
      "128/128 [==============================] - 0s 33us/step\n",
      "64/64 [==============================] - 0s 31us/step\n",
      "64/64 [==============================] - 0s 49us/step\n",
      "128/128 [==============================] - 0s 32us/step\n",
      "64/64 [==============================] - 0s 56us/step\n",
      "64/64 [==============================] - 0s 50us/step\n"
     ]
    },
    {
     "name": "stderr",
     "output_type": "stream",
     "text": [
      "\r",
      " 19%|█▉        | 192/1000 [00:06<00:26, 30.30it/s]"
     ]
    },
    {
     "name": "stdout",
     "output_type": "stream",
     "text": [
      "128/128 [==============================] - 0s 38us/step\n",
      "64/64 [==============================] - 0s 49us/step\n",
      "64/64 [==============================] - 0s 43us/step\n",
      "128/128 [==============================] - 0s 25us/step\n",
      "64/64 [==============================] - 0s 50us/step\n",
      "64/64 [==============================] - 0s 49us/step\n",
      "128/128 [==============================] - 0s 29us/step\n",
      "64/64 [==============================] - 0s 33us/step\n",
      "64/64 [==============================] - 0s 45us/step\n",
      "128/128 [==============================] - 0s 22us/step\n",
      "64/64 [==============================] - 0s 57us/step\n",
      "64/64 [==============================] - 0s 72us/step\n",
      "128/128 [==============================] - 0s 26us/step\n",
      "64/64 [==============================] - 0s 33us/step\n",
      "64/64 [==============================] - 0s 33us/step\n"
     ]
    },
    {
     "name": "stderr",
     "output_type": "stream",
     "text": [
      "\r",
      " 20%|█▉        | 197/1000 [00:06<00:26, 30.50it/s]"
     ]
    },
    {
     "name": "stdout",
     "output_type": "stream",
     "text": [
      "128/128 [==============================] - 0s 37us/step\n",
      "64/64 [==============================] - 0s 31us/step\n",
      "64/64 [==============================] - 0s 39us/step\n",
      "128/128 [==============================] - 0s 38us/step\n",
      "64/64 [==============================] - 0s 53us/step\n",
      "64/64 [==============================] - 0s 45us/step\n",
      "128/128 [==============================] - 0s 30us/step\n",
      "64/64 [==============================] - 0s 42us/step\n",
      "64/64 [==============================] - 0s 46us/step\n",
      "128/128 [==============================] - 0s 45us/step\n",
      "64/64 [==============================] - 0s 36us/step\n",
      "64/64 [==============================] - 0s 58us/step\n",
      "128/128 [==============================] - 0s 31us/step\n",
      "64/64 [==============================] - 0s 44us/step\n",
      "64/64 [==============================] - 0s 68us/step\n"
     ]
    },
    {
     "name": "stderr",
     "output_type": "stream",
     "text": [
      "\r",
      " 20%|██        | 202/1000 [00:06<00:26, 30.68it/s]"
     ]
    },
    {
     "name": "stdout",
     "output_type": "stream",
     "text": [
      "128/128 [==============================] - 0s 43us/step\n",
      "64/64 [==============================] - 0s 61us/step\n",
      "64/64 [==============================] - 0s 34us/step\n",
      "128/128 [==============================] - 0s 28us/step\n",
      "64/64 [==============================] - 0s 44us/step\n",
      "64/64 [==============================] - 0s 63us/step\n",
      "128/128 [==============================] - 0s 29us/step\n",
      "64/64 [==============================] - 0s 50us/step\n",
      "64/64 [==============================] - 0s 52us/step\n",
      "128/128 [==============================] - 0s 32us/step\n",
      "64/64 [==============================] - 0s 29us/step\n",
      "64/64 [==============================] - 0s 28us/step\n",
      "128/128 [==============================] - 0s 23us/step\n",
      "64/64 [==============================] - 0s 38us/step\n",
      "64/64 [==============================] - 0s 34us/step\n"
     ]
    },
    {
     "name": "stderr",
     "output_type": "stream",
     "text": [
      "\r",
      " 21%|██        | 207/1000 [00:06<00:25, 30.89it/s]"
     ]
    },
    {
     "name": "stdout",
     "output_type": "stream",
     "text": [
      "128/128 [==============================] - 0s 34us/step\n",
      "64/64 [==============================] - 0s 29us/step\n",
      "64/64 [==============================] - 0s 43us/step\n",
      "128/128 [==============================] - 0s 33us/step\n",
      "64/64 [==============================] - 0s 31us/step\n",
      "64/64 [==============================] - 0s 41us/step\n",
      "128/128 [==============================] - 0s 28us/step\n",
      "64/64 [==============================] - 0s 54us/step\n",
      "64/64 [==============================] - 0s 56us/step\n",
      "128/128 [==============================] - 0s 26us/step\n",
      "64/64 [==============================] - 0s 44us/step\n",
      "64/64 [==============================] - 0s 33us/step\n",
      "128/128 [==============================] - 0s 23us/step\n",
      "64/64 [==============================] - 0s 41us/step\n",
      "64/64 [==============================] - 0s 45us/step\n"
     ]
    },
    {
     "name": "stderr",
     "output_type": "stream",
     "text": [
      "\r",
      " 21%|██        | 212/1000 [00:06<00:25, 31.10it/s]"
     ]
    },
    {
     "name": "stdout",
     "output_type": "stream",
     "text": [
      "128/128 [==============================] - 0s 25us/step\n",
      "64/64 [==============================] - 0s 33us/step\n",
      "64/64 [==============================] - 0s 46us/step\n",
      "128/128 [==============================] - 0s 27us/step\n",
      "64/64 [==============================] - 0s 32us/step\n",
      "64/64 [==============================] - 0s 45us/step\n",
      "128/128 [==============================] - 0s 29us/step\n",
      "64/64 [==============================] - 0s 40us/step\n",
      "64/64 [==============================] - 0s 33us/step\n",
      "128/128 [==============================] - 0s 30us/step\n",
      "64/64 [==============================] - 0s 34us/step\n",
      "64/64 [==============================] - 0s 48us/step\n",
      "128/128 [==============================] - 0s 27us/step\n",
      "64/64 [==============================] - 0s 30us/step\n",
      "64/64 [==============================] - 0s 31us/step\n"
     ]
    },
    {
     "name": "stderr",
     "output_type": "stream",
     "text": [
      "\r",
      " 22%|██▏       | 217/1000 [00:06<00:24, 31.32it/s]"
     ]
    },
    {
     "name": "stdout",
     "output_type": "stream",
     "text": [
      "128/128 [==============================] - 0s 23us/step\n",
      "64/64 [==============================] - 0s 40us/step\n",
      "64/64 [==============================] - 0s 50us/step\n",
      "128/128 [==============================] - 0s 34us/step\n",
      "64/64 [==============================] - 0s 42us/step\n",
      "64/64 [==============================] - 0s 44us/step\n",
      "128/128 [==============================] - 0s 31us/step\n",
      "64/64 [==============================] - 0s 43us/step\n",
      "64/64 [==============================] - 0s 43us/step\n",
      "128/128 [==============================] - 0s 22us/step\n",
      "64/64 [==============================] - 0s 52us/step\n",
      "64/64 [==============================] - 0s 35us/step\n",
      "128/128 [==============================] - 0s 24us/step\n",
      "64/64 [==============================] - 0s 46us/step\n",
      "64/64 [==============================] - 0s 35us/step\n"
     ]
    },
    {
     "name": "stderr",
     "output_type": "stream",
     "text": [
      "\r",
      " 22%|██▏       | 222/1000 [00:07<00:24, 31.53it/s]"
     ]
    },
    {
     "name": "stdout",
     "output_type": "stream",
     "text": [
      "128/128 [==============================] - 0s 28us/step\n",
      "64/64 [==============================] - 0s 27us/step\n",
      "64/64 [==============================] - 0s 56us/step\n",
      "128/128 [==============================] - 0s 24us/step\n",
      "64/64 [==============================] - 0s 43us/step\n",
      "64/64 [==============================] - 0s 34us/step\n",
      "128/128 [==============================] - 0s 26us/step\n",
      "64/64 [==============================] - 0s 40us/step\n",
      "64/64 [==============================] - 0s 40us/step\n",
      "128/128 [==============================] - 0s 26us/step\n",
      "64/64 [==============================] - 0s 41us/step\n",
      "64/64 [==============================] - 0s 29us/step\n",
      "128/128 [==============================] - 0s 36us/step\n",
      "64/64 [==============================] - 0s 29us/step\n",
      "64/64 [==============================] - 0s 41us/step\n"
     ]
    },
    {
     "name": "stderr",
     "output_type": "stream",
     "text": [
      "\r",
      " 23%|██▎       | 227/1000 [00:07<00:24, 31.73it/s]"
     ]
    },
    {
     "name": "stdout",
     "output_type": "stream",
     "text": [
      "128/128 [==============================] - 0s 34us/step\n",
      "64/64 [==============================] - 0s 53us/step\n",
      "64/64 [==============================] - 0s 32us/step\n",
      "128/128 [==============================] - 0s 37us/step\n",
      "64/64 [==============================] - 0s 29us/step\n",
      "64/64 [==============================] - 0s 42us/step\n",
      "128/128 [==============================] - 0s 29us/step\n",
      "64/64 [==============================] - 0s 49us/step\n",
      "64/64 [==============================] - 0s 42us/step\n",
      "128/128 [==============================] - 0s 31us/step\n",
      "64/64 [==============================] - 0s 35us/step\n",
      "64/64 [==============================] - 0s 29us/step\n",
      "128/128 [==============================] - 0s 26us/step\n",
      "64/64 [==============================] - 0s 51us/step\n",
      "64/64 [==============================] - 0s 52us/step\n"
     ]
    },
    {
     "name": "stderr",
     "output_type": "stream",
     "text": [
      "\r",
      " 23%|██▎       | 232/1000 [00:07<00:24, 31.92it/s]"
     ]
    },
    {
     "name": "stdout",
     "output_type": "stream",
     "text": [
      "128/128 [==============================] - 0s 25us/step\n",
      "64/64 [==============================] - 0s 34us/step\n",
      "64/64 [==============================] - 0s 51us/step\n",
      "128/128 [==============================] - 0s 28us/step\n",
      "64/64 [==============================] - 0s 56us/step\n",
      "64/64 [==============================] - 0s 34us/step\n",
      "128/128 [==============================] - 0s 24us/step\n",
      "64/64 [==============================] - 0s 40us/step\n",
      "64/64 [==============================] - 0s 50us/step\n",
      "128/128 [==============================] - 0s 34us/step\n",
      "64/64 [==============================] - 0s 42us/step\n",
      "64/64 [==============================] - 0s 49us/step\n",
      "128/128 [==============================] - 0s 33us/step\n",
      "64/64 [==============================] - 0s 40us/step\n",
      "64/64 [==============================] - 0s 63us/step\n"
     ]
    },
    {
     "name": "stderr",
     "output_type": "stream",
     "text": [
      "\r",
      " 24%|██▎       | 237/1000 [00:07<00:23, 32.09it/s]"
     ]
    },
    {
     "name": "stdout",
     "output_type": "stream",
     "text": [
      "128/128 [==============================] - 0s 25us/step\n",
      "64/64 [==============================] - 0s 52us/step\n",
      "64/64 [==============================] - 0s 37us/step\n",
      "128/128 [==============================] - 0s 30us/step\n",
      "64/64 [==============================] - 0s 49us/step\n",
      "64/64 [==============================] - 0s 42us/step\n",
      "128/128 [==============================] - 0s 30us/step\n",
      "64/64 [==============================] - 0s 30us/step\n",
      "64/64 [==============================] - 0s 27us/step\n",
      "128/128 [==============================] - 0s 22us/step\n",
      "64/64 [==============================] - 0s 43us/step\n",
      "64/64 [==============================] - 0s 40us/step\n",
      "128/128 [==============================] - 0s 29us/step\n",
      "64/64 [==============================] - 0s 33us/step\n",
      "64/64 [==============================] - 0s 44us/step\n"
     ]
    },
    {
     "name": "stderr",
     "output_type": "stream",
     "text": [
      "\r",
      " 24%|██▍       | 242/1000 [00:07<00:23, 32.25it/s]"
     ]
    },
    {
     "name": "stdout",
     "output_type": "stream",
     "text": [
      "128/128 [==============================] - 0s 24us/step\n",
      "64/64 [==============================] - 0s 47us/step\n",
      "64/64 [==============================] - 0s 46us/step\n",
      "128/128 [==============================] - 0s 24us/step\n",
      "64/64 [==============================] - 0s 28us/step\n",
      "64/64 [==============================] - 0s 64us/step\n",
      "128/128 [==============================] - 0s 61us/step\n",
      "64/64 [==============================] - 0s 33us/step\n",
      "64/64 [==============================] - 0s 36us/step\n",
      "128/128 [==============================] - 0s 27us/step\n",
      "64/64 [==============================] - 0s 34us/step\n",
      "64/64 [==============================] - 0s 42us/step\n",
      "128/128 [==============================] - 0s 36us/step\n",
      "64/64 [==============================] - 0s 47us/step\n",
      "64/64 [==============================] - 0s 42us/step\n"
     ]
    },
    {
     "name": "stderr",
     "output_type": "stream",
     "text": [
      "\r",
      " 25%|██▍       | 247/1000 [00:07<00:23, 32.40it/s]"
     ]
    },
    {
     "name": "stdout",
     "output_type": "stream",
     "text": [
      "128/128 [==============================] - 0s 25us/step\n",
      "64/64 [==============================] - 0s 59us/step\n",
      "64/64 [==============================] - 0s 39us/step\n",
      "128/128 [==============================] - 0s 26us/step\n",
      "64/64 [==============================] - 0s 64us/step\n",
      "64/64 [==============================] - 0s 46us/step\n",
      "128/128 [==============================] - 0s 23us/step\n",
      "64/64 [==============================] - 0s 41us/step\n",
      "64/64 [==============================] - 0s 44us/step\n",
      "128/128 [==============================] - 0s 32us/step\n",
      "64/64 [==============================] - 0s 53us/step\n",
      "64/64 [==============================] - 0s 51us/step\n",
      "128/128 [==============================] - 0s 25us/step\n",
      "64/64 [==============================] - 0s 58us/step\n",
      "64/64 [==============================] - 0s 32us/step\n"
     ]
    },
    {
     "name": "stderr",
     "output_type": "stream",
     "text": [
      "\r",
      " 25%|██▌       | 252/1000 [00:07<00:22, 32.55it/s]"
     ]
    },
    {
     "name": "stdout",
     "output_type": "stream",
     "text": [
      "128/128 [==============================] - 0s 29us/step\n",
      "64/64 [==============================] - 0s 30us/step\n",
      "64/64 [==============================] - 0s 31us/step\n",
      "128/128 [==============================] - 0s 33us/step\n",
      "64/64 [==============================] - 0s 40us/step\n",
      "64/64 [==============================] - 0s 60us/step\n",
      "128/128 [==============================] - 0s 34us/step\n",
      "64/64 [==============================] - 0s 34us/step\n",
      "64/64 [==============================] - 0s 27us/step\n",
      "128/128 [==============================] - 0s 32us/step\n",
      "64/64 [==============================] - 0s 31us/step\n",
      "64/64 [==============================] - 0s 64us/step\n",
      "128/128 [==============================] - 0s 27us/step\n",
      "64/64 [==============================] - 0s 28us/step\n",
      "64/64 [==============================] - 0s 41us/step\n"
     ]
    },
    {
     "name": "stderr",
     "output_type": "stream",
     "text": [
      "\r",
      " 26%|██▌       | 257/1000 [00:07<00:22, 32.70it/s]"
     ]
    },
    {
     "name": "stdout",
     "output_type": "stream",
     "text": [
      "128/128 [==============================] - 0s 23us/step\n",
      "64/64 [==============================] - 0s 29us/step\n",
      "64/64 [==============================] - 0s 35us/step\n",
      "128/128 [==============================] - 0s 27us/step\n",
      "64/64 [==============================] - 0s 30us/step\n",
      "64/64 [==============================] - 0s 38us/step\n",
      "128/128 [==============================] - 0s 36us/step\n",
      "64/64 [==============================] - 0s 45us/step\n",
      "64/64 [==============================] - 0s 30us/step\n",
      "128/128 [==============================] - 0s 31us/step\n",
      "64/64 [==============================] - 0s 35us/step\n",
      "64/64 [==============================] - 0s 44us/step\n",
      "128/128 [==============================] - 0s 22us/step\n",
      "64/64 [==============================] - 0s 30us/step\n",
      "64/64 [==============================] - 0s 57us/step\n"
     ]
    },
    {
     "name": "stderr",
     "output_type": "stream",
     "text": [
      "\r",
      " 26%|██▌       | 262/1000 [00:07<00:22, 32.88it/s]"
     ]
    },
    {
     "name": "stdout",
     "output_type": "stream",
     "text": [
      "128/128 [==============================] - 0s 35us/step\n",
      "64/64 [==============================] - 0s 49us/step\n",
      "64/64 [==============================] - 0s 32us/step\n",
      "128/128 [==============================] - 0s 31us/step\n",
      "64/64 [==============================] - 0s 41us/step\n",
      "64/64 [==============================] - 0s 49us/step\n",
      "128/128 [==============================] - 0s 34us/step\n",
      "64/64 [==============================] - 0s 32us/step\n",
      "64/64 [==============================] - 0s 45us/step\n",
      "128/128 [==============================] - 0s 26us/step\n",
      "64/64 [==============================] - 0s 25us/step\n",
      "64/64 [==============================] - 0s 46us/step\n",
      "128/128 [==============================] - 0s 24us/step\n",
      "64/64 [==============================] - 0s 44us/step\n",
      "64/64 [==============================] - 0s 59us/step\n"
     ]
    },
    {
     "name": "stderr",
     "output_type": "stream",
     "text": [
      "\r",
      " 27%|██▋       | 267/1000 [00:08<00:22, 33.02it/s]"
     ]
    },
    {
     "name": "stdout",
     "output_type": "stream",
     "text": [
      "128/128 [==============================] - 0s 29us/step\n",
      "64/64 [==============================] - 0s 36us/step\n",
      "64/64 [==============================] - 0s 42us/step\n",
      "128/128 [==============================] - 0s 31us/step\n",
      "64/64 [==============================] - 0s 40us/step\n",
      "64/64 [==============================] - 0s 32us/step\n",
      "128/128 [==============================] - 0s 24us/step\n",
      "64/64 [==============================] - 0s 53us/step\n",
      "64/64 [==============================] - 0s 55us/step\n",
      "128/128 [==============================] - 0s 30us/step\n",
      "64/64 [==============================] - 0s 36us/step\n",
      "64/64 [==============================] - 0s 42us/step\n",
      "128/128 [==============================] - 0s 24us/step\n",
      "64/64 [==============================] - 0s 54us/step\n",
      "64/64 [==============================] - 0s 46us/step\n"
     ]
    },
    {
     "name": "stderr",
     "output_type": "stream",
     "text": [
      "\r",
      " 27%|██▋       | 272/1000 [00:08<00:21, 33.18it/s]"
     ]
    },
    {
     "name": "stdout",
     "output_type": "stream",
     "text": [
      "128/128 [==============================] - 0s 32us/step\n",
      "64/64 [==============================] - 0s 53us/step\n",
      "64/64 [==============================] - 0s 42us/step\n",
      "128/128 [==============================] - 0s 29us/step\n",
      "64/64 [==============================] - 0s 45us/step\n",
      "64/64 [==============================] - 0s 34us/step\n",
      "128/128 [==============================] - 0s 24us/step\n",
      "64/64 [==============================] - 0s 50us/step\n",
      "64/64 [==============================] - 0s 37us/step\n",
      "128/128 [==============================] - 0s 25us/step\n",
      "64/64 [==============================] - 0s 33us/step\n",
      "64/64 [==============================] - 0s 31us/step\n",
      "128/128 [==============================] - 0s 24us/step\n",
      "64/64 [==============================] - 0s 45us/step\n",
      "64/64 [==============================] - 0s 48us/step\n"
     ]
    },
    {
     "name": "stderr",
     "output_type": "stream",
     "text": [
      "\r",
      " 28%|██▊       | 277/1000 [00:08<00:21, 33.31it/s]"
     ]
    },
    {
     "name": "stdout",
     "output_type": "stream",
     "text": [
      "128/128 [==============================] - 0s 34us/step\n",
      "64/64 [==============================] - 0s 38us/step\n",
      "64/64 [==============================] - 0s 31us/step\n",
      "128/128 [==============================] - 0s 33us/step\n",
      "64/64 [==============================] - 0s 50us/step\n",
      "64/64 [==============================] - 0s 38us/step\n",
      "128/128 [==============================] - 0s 25us/step\n",
      "64/64 [==============================] - 0s 33us/step\n",
      "64/64 [==============================] - 0s 49us/step\n",
      "128/128 [==============================] - 0s 34us/step\n",
      "64/64 [==============================] - 0s 50us/step\n",
      "64/64 [==============================] - 0s 45us/step\n",
      "128/128 [==============================] - 0s 24us/step\n",
      "64/64 [==============================] - 0s 108us/step\n",
      "64/64 [==============================] - 0s 37us/step\n"
     ]
    },
    {
     "name": "stderr",
     "output_type": "stream",
     "text": [
      "\r",
      " 28%|██▊       | 282/1000 [00:08<00:21, 33.42it/s]"
     ]
    },
    {
     "name": "stdout",
     "output_type": "stream",
     "text": [
      "128/128 [==============================] - 0s 26us/step\n",
      "64/64 [==============================] - 0s 39us/step\n",
      "64/64 [==============================] - 0s 27us/step\n",
      "128/128 [==============================] - 0s 26us/step\n",
      "64/64 [==============================] - 0s 49us/step\n",
      "64/64 [==============================] - 0s 33us/step\n",
      "128/128 [==============================] - 0s 60us/step\n",
      "64/64 [==============================] - 0s 39us/step\n",
      "64/64 [==============================] - 0s 45us/step\n",
      "128/128 [==============================] - 0s 33us/step\n",
      "64/64 [==============================] - 0s 46us/step\n",
      "64/64 [==============================] - 0s 61us/step\n",
      "128/128 [==============================] - 0s 54us/step\n",
      "64/64 [==============================] - 0s 41us/step\n",
      "64/64 [==============================] - 0s 42us/step\n"
     ]
    },
    {
     "name": "stderr",
     "output_type": "stream",
     "text": [
      "\r",
      " 29%|██▊       | 287/1000 [00:08<00:21, 33.53it/s]"
     ]
    },
    {
     "name": "stdout",
     "output_type": "stream",
     "text": [
      "128/128 [==============================] - 0s 33us/step\n",
      "64/64 [==============================] - 0s 27us/step\n",
      "64/64 [==============================] - 0s 49us/step\n",
      "128/128 [==============================] - 0s 25us/step\n",
      "64/64 [==============================] - 0s 63us/step\n",
      "64/64 [==============================] - 0s 37us/step\n",
      "128/128 [==============================] - 0s 28us/step\n",
      "64/64 [==============================] - 0s 56us/step\n",
      "64/64 [==============================] - 0s 29us/step\n",
      "128/128 [==============================] - 0s 30us/step\n",
      "64/64 [==============================] - 0s 26us/step\n",
      "64/64 [==============================] - 0s 40us/step\n",
      "128/128 [==============================] - 0s 34us/step\n",
      "64/64 [==============================] - 0s 40us/step\n",
      "64/64 [==============================] - 0s 30us/step\n"
     ]
    },
    {
     "name": "stderr",
     "output_type": "stream",
     "text": [
      "\r",
      " 29%|██▉       | 292/1000 [00:08<00:21, 33.65it/s]"
     ]
    },
    {
     "name": "stdout",
     "output_type": "stream",
     "text": [
      "128/128 [==============================] - 0s 34us/step\n",
      "64/64 [==============================] - 0s 28us/step\n",
      "64/64 [==============================] - 0s 64us/step\n",
      "128/128 [==============================] - 0s 36us/step\n",
      "64/64 [==============================] - 0s 32us/step\n",
      "64/64 [==============================] - 0s 44us/step\n",
      "128/128 [==============================] - 0s 26us/step\n",
      "64/64 [==============================] - 0s 55us/step\n",
      "64/64 [==============================] - 0s 33us/step\n",
      "128/128 [==============================] - 0s 25us/step\n",
      "64/64 [==============================] - 0s 115us/step\n",
      "64/64 [==============================] - 0s 31us/step\n",
      "128/128 [==============================] - 0s 33us/step\n",
      "64/64 [==============================] - 0s 40us/step\n",
      "64/64 [==============================] - 0s 37us/step\n"
     ]
    },
    {
     "name": "stderr",
     "output_type": "stream",
     "text": [
      "\r",
      " 30%|██▉       | 297/1000 [00:08<00:20, 33.76it/s]"
     ]
    },
    {
     "name": "stdout",
     "output_type": "stream",
     "text": [
      "128/128 [==============================] - 0s 24us/step\n",
      "64/64 [==============================] - 0s 28us/step\n",
      "64/64 [==============================] - 0s 27us/step\n",
      "128/128 [==============================] - 0s 31us/step\n",
      "64/64 [==============================] - 0s 40us/step\n",
      "64/64 [==============================] - 0s 31us/step\n",
      "128/128 [==============================] - 0s 33us/step\n",
      "64/64 [==============================] - 0s 30us/step\n",
      "64/64 [==============================] - 0s 55us/step\n",
      "128/128 [==============================] - 0s 31us/step\n",
      "64/64 [==============================] - 0s 48us/step\n",
      "64/64 [==============================] - 0s 46us/step\n",
      "128/128 [==============================] - 0s 25us/step\n",
      "64/64 [==============================] - 0s 52us/step\n",
      "64/64 [==============================] - 0s 39us/step\n"
     ]
    },
    {
     "name": "stderr",
     "output_type": "stream",
     "text": [
      "\r",
      " 30%|███       | 302/1000 [00:08<00:20, 33.90it/s]"
     ]
    },
    {
     "name": "stdout",
     "output_type": "stream",
     "text": [
      "128/128 [==============================] - 0s 24us/step\n",
      "64/64 [==============================] - 0s 44us/step\n",
      "64/64 [==============================] - 0s 45us/step\n",
      "128/128 [==============================] - 0s 33us/step\n",
      "64/64 [==============================] - 0s 38us/step\n",
      "64/64 [==============================] - 0s 41us/step\n",
      "128/128 [==============================] - 0s 28us/step\n",
      "64/64 [==============================] - 0s 30us/step\n",
      "64/64 [==============================] - 0s 41us/step\n",
      "128/128 [==============================] - 0s 31us/step\n",
      "64/64 [==============================] - 0s 25us/step\n",
      "64/64 [==============================] - 0s 51us/step\n",
      "128/128 [==============================] - 0s 31us/step\n",
      "64/64 [==============================] - 0s 45us/step\n",
      "64/64 [==============================] - 0s 27us/step\n"
     ]
    },
    {
     "name": "stderr",
     "output_type": "stream",
     "text": [
      "\r",
      " 31%|███       | 307/1000 [00:09<00:20, 34.04it/s]"
     ]
    },
    {
     "name": "stdout",
     "output_type": "stream",
     "text": [
      "128/128 [==============================] - 0s 27us/step\n",
      "64/64 [==============================] - 0s 54us/step\n",
      "64/64 [==============================] - 0s 44us/step\n",
      "128/128 [==============================] - 0s 25us/step\n",
      "64/64 [==============================] - 0s 43us/step\n",
      "64/64 [==============================] - 0s 45us/step\n",
      "128/128 [==============================] - 0s 28us/step\n",
      "64/64 [==============================] - 0s 30us/step\n",
      "64/64 [==============================] - 0s 39us/step\n",
      "128/128 [==============================] - 0s 24us/step\n",
      "64/64 [==============================] - 0s 31us/step\n",
      "64/64 [==============================] - 0s 35us/step\n",
      "128/128 [==============================] - 0s 26us/step\n",
      "64/64 [==============================] - 0s 50us/step\n",
      "64/64 [==============================] - 0s 34us/step\n"
     ]
    },
    {
     "name": "stderr",
     "output_type": "stream",
     "text": [
      "\r",
      " 31%|███       | 312/1000 [00:09<00:20, 34.16it/s]"
     ]
    },
    {
     "name": "stdout",
     "output_type": "stream",
     "text": [
      "128/128 [==============================] - 0s 28us/step\n",
      "64/64 [==============================] - 0s 47us/step\n",
      "64/64 [==============================] - 0s 32us/step\n",
      "128/128 [==============================] - 0s 25us/step\n",
      "64/64 [==============================] - 0s 29us/step\n",
      "64/64 [==============================] - 0s 28us/step\n",
      "128/128 [==============================] - 0s 33us/step\n",
      "64/64 [==============================] - 0s 58us/step\n",
      "64/64 [==============================] - 0s 32us/step\n",
      "128/128 [==============================] - 0s 28us/step\n",
      "64/64 [==============================] - 0s 28us/step\n",
      "64/64 [==============================] - 0s 44us/step\n",
      "128/128 [==============================] - 0s 29us/step\n",
      "64/64 [==============================] - 0s 46us/step\n",
      "64/64 [==============================] - 0s 47us/step\n"
     ]
    },
    {
     "name": "stderr",
     "output_type": "stream",
     "text": [
      "\r",
      " 32%|███▏      | 317/1000 [00:09<00:19, 34.26it/s]"
     ]
    },
    {
     "name": "stdout",
     "output_type": "stream",
     "text": [
      "128/128 [==============================] - 0s 33us/step\n",
      "64/64 [==============================] - 0s 57us/step\n",
      "64/64 [==============================] - 0s 44us/step\n",
      "128/128 [==============================] - 0s 35us/step\n",
      "64/64 [==============================] - 0s 54us/step\n",
      "64/64 [==============================] - 0s 34us/step\n",
      "128/128 [==============================] - 0s 35us/step\n",
      "64/64 [==============================] - 0s 32us/step\n",
      "64/64 [==============================] - 0s 31us/step\n",
      "128/128 [==============================] - 0s 26us/step\n",
      "64/64 [==============================] - 0s 28us/step\n",
      "64/64 [==============================] - 0s 32us/step\n",
      "128/128 [==============================] - 0s 23us/step\n",
      "64/64 [==============================] - 0s 31us/step\n",
      "64/64 [==============================] - 0s 59us/step\n"
     ]
    },
    {
     "name": "stderr",
     "output_type": "stream",
     "text": [
      "\r",
      " 32%|███▏      | 322/1000 [00:09<00:19, 34.36it/s]"
     ]
    },
    {
     "name": "stdout",
     "output_type": "stream",
     "text": [
      "128/128 [==============================] - 0s 38us/step\n",
      "64/64 [==============================] - 0s 44us/step\n",
      "64/64 [==============================] - 0s 31us/step\n",
      "128/128 [==============================] - 0s 34us/step\n",
      "64/64 [==============================] - 0s 57us/step\n",
      "64/64 [==============================] - 0s 40us/step\n",
      "128/128 [==============================] - 0s 29us/step\n",
      "64/64 [==============================] - 0s 48us/step\n",
      "64/64 [==============================] - 0s 30us/step\n",
      "128/128 [==============================] - 0s 28us/step\n",
      "64/64 [==============================] - 0s 37us/step\n",
      "64/64 [==============================] - 0s 31us/step\n",
      "128/128 [==============================] - 0s 25us/step\n",
      "64/64 [==============================] - 0s 63us/step\n",
      "64/64 [==============================] - 0s 41us/step\n"
     ]
    },
    {
     "name": "stderr",
     "output_type": "stream",
     "text": [
      "\r",
      " 33%|███▎      | 327/1000 [00:09<00:19, 34.45it/s]"
     ]
    },
    {
     "name": "stdout",
     "output_type": "stream",
     "text": [
      "128/128 [==============================] - 0s 29us/step\n",
      "64/64 [==============================] - 0s 46us/step\n",
      "64/64 [==============================] - 0s 80us/step\n",
      "128/128 [==============================] - 0s 33us/step\n",
      "64/64 [==============================] - 0s 36us/step\n",
      "64/64 [==============================] - 0s 43us/step\n",
      "128/128 [==============================] - 0s 33us/step\n",
      "64/64 [==============================] - 0s 33us/step\n",
      "64/64 [==============================] - 0s 33us/step\n",
      "128/128 [==============================] - 0s 26us/step\n",
      "64/64 [==============================] - 0s 45us/step\n",
      "64/64 [==============================] - 0s 47us/step\n",
      "128/128 [==============================] - 0s 25us/step\n",
      "64/64 [==============================] - 0s 60us/step\n",
      "64/64 [==============================] - 0s 31us/step\n"
     ]
    },
    {
     "name": "stderr",
     "output_type": "stream",
     "text": [
      "\r",
      " 33%|███▎      | 332/1000 [00:09<00:19, 34.53it/s]"
     ]
    },
    {
     "name": "stdout",
     "output_type": "stream",
     "text": [
      "128/128 [==============================] - 0s 28us/step\n",
      "64/64 [==============================] - 0s 63us/step\n",
      "64/64 [==============================] - 0s 40us/step\n",
      "128/128 [==============================] - 0s 28us/step\n",
      "64/64 [==============================] - 0s 30us/step\n",
      "64/64 [==============================] - 0s 49us/step\n",
      "128/128 [==============================] - 0s 35us/step\n",
      "64/64 [==============================] - 0s 52us/step\n",
      "64/64 [==============================] - 0s 47us/step\n",
      "128/128 [==============================] - 0s 26us/step\n",
      "64/64 [==============================] - 0s 47us/step\n",
      "64/64 [==============================] - 0s 40us/step\n",
      "128/128 [==============================] - 0s 32us/step\n",
      "64/64 [==============================] - 0s 32us/step\n",
      "64/64 [==============================] - 0s 41us/step\n"
     ]
    },
    {
     "name": "stderr",
     "output_type": "stream",
     "text": [
      "\r",
      " 34%|███▎      | 337/1000 [00:09<00:19, 34.63it/s]"
     ]
    },
    {
     "name": "stdout",
     "output_type": "stream",
     "text": [
      "128/128 [==============================] - 0s 25us/step\n",
      "64/64 [==============================] - 0s 59us/step\n",
      "64/64 [==============================] - 0s 35us/step\n",
      "128/128 [==============================] - 0s 32us/step\n",
      "64/64 [==============================] - 0s 47us/step\n",
      "64/64 [==============================] - 0s 38us/step\n",
      "128/128 [==============================] - 0s 26us/step\n",
      "64/64 [==============================] - 0s 34us/step\n",
      "64/64 [==============================] - 0s 40us/step\n",
      "128/128 [==============================] - 0s 25us/step\n",
      "64/64 [==============================] - 0s 31us/step\n",
      "64/64 [==============================] - 0s 42us/step\n",
      "128/128 [==============================] - 0s 29us/step\n",
      "64/64 [==============================] - 0s 40us/step\n",
      "64/64 [==============================] - 0s 43us/step\n"
     ]
    },
    {
     "name": "stderr",
     "output_type": "stream",
     "text": [
      "\r",
      " 34%|███▍      | 342/1000 [00:09<00:18, 34.75it/s]"
     ]
    },
    {
     "name": "stdout",
     "output_type": "stream",
     "text": [
      "128/128 [==============================] - 0s 32us/step\n",
      "64/64 [==============================] - 0s 28us/step\n",
      "64/64 [==============================] - 0s 61us/step\n",
      "128/128 [==============================] - 0s 26us/step\n",
      "64/64 [==============================] - 0s 34us/step\n",
      "64/64 [==============================] - 0s 40us/step\n",
      "128/128 [==============================] - 0s 23us/step\n",
      "64/64 [==============================] - 0s 44us/step\n",
      "64/64 [==============================] - 0s 42us/step\n",
      "128/128 [==============================] - 0s 26us/step\n",
      "64/64 [==============================] - ETA:  - 0s 29us/step\n",
      "64/64 [==============================] - 0s 74us/step\n",
      "128/128 [==============================] - 0s 27us/step\n",
      "64/64 [==============================] - 0s 31us/step\n",
      "64/64 [==============================] - 0s 36us/step\n"
     ]
    },
    {
     "name": "stderr",
     "output_type": "stream",
     "text": [
      "\r",
      " 35%|███▍      | 347/1000 [00:09<00:18, 34.86it/s]"
     ]
    },
    {
     "name": "stdout",
     "output_type": "stream",
     "text": [
      "128/128 [==============================] - 0s 32us/step\n",
      "64/64 [==============================] - 0s 38us/step\n",
      "64/64 [==============================] - 0s 27us/step\n",
      "128/128 [==============================] - 0s 33us/step\n",
      "64/64 [==============================] - 0s 30us/step\n",
      "64/64 [==============================] - 0s 33us/step\n",
      "128/128 [==============================] - 0s 33us/step\n",
      "64/64 [==============================] - 0s 54us/step\n",
      "64/64 [==============================] - 0s 49us/step\n",
      "128/128 [==============================] - 0s 26us/step\n",
      "64/64 [==============================] - 0s 47us/step\n",
      "64/64 [==============================] - 0s 29us/step\n",
      "128/128 [==============================] - 0s 25us/step\n",
      "64/64 [==============================] - 0s 45us/step\n",
      "64/64 [==============================] - 0s 28us/step\n"
     ]
    },
    {
     "name": "stderr",
     "output_type": "stream",
     "text": [
      "\r",
      " 35%|███▌      | 352/1000 [00:10<00:18, 34.97it/s]"
     ]
    },
    {
     "name": "stdout",
     "output_type": "stream",
     "text": [
      "128/128 [==============================] - 0s 29us/step\n",
      "64/64 [==============================] - 0s 29us/step\n",
      "64/64 [==============================] - 0s 58us/step\n",
      "128/128 [==============================] - 0s 31us/step\n",
      "64/64 [==============================] - 0s 47us/step\n",
      "64/64 [==============================] - 0s 30us/step\n",
      "128/128 [==============================] - 0s 24us/step\n",
      "64/64 [==============================] - 0s 31us/step\n",
      "64/64 [==============================] - 0s 37us/step\n",
      "128/128 [==============================] - 0s 22us/step\n",
      "64/64 [==============================] - 0s 41us/step\n",
      "64/64 [==============================] - 0s 52us/step\n",
      "128/128 [==============================] - 0s 37us/step\n",
      "64/64 [==============================] - 0s 31us/step\n",
      "64/64 [==============================] - 0s 49us/step\n"
     ]
    },
    {
     "name": "stderr",
     "output_type": "stream",
     "text": [
      "\r",
      " 36%|███▌      | 357/1000 [00:10<00:18, 35.08it/s]"
     ]
    },
    {
     "name": "stdout",
     "output_type": "stream",
     "text": [
      "128/128 [==============================] - 0s 34us/step\n",
      "64/64 [==============================] - 0s 34us/step\n",
      "64/64 [==============================] - 0s 30us/step\n",
      "128/128 [==============================] - 0s 24us/step\n",
      "64/64 [==============================] - 0s 42us/step\n",
      "64/64 [==============================] - 0s 49us/step\n",
      "128/128 [==============================] - 0s 32us/step\n",
      "64/64 [==============================] - 0s 42us/step\n",
      "64/64 [==============================] - 0s 38us/step\n",
      "128/128 [==============================] - 0s 29us/step\n",
      "64/64 [==============================] - 0s 52us/step\n",
      "64/64 [==============================] - 0s 44us/step\n",
      "128/128 [==============================] - 0s 23us/step\n",
      "64/64 [==============================] - 0s 43us/step\n",
      "64/64 [==============================] - 0s 47us/step\n"
     ]
    },
    {
     "name": "stderr",
     "output_type": "stream",
     "text": [
      "\r",
      " 36%|███▌      | 362/1000 [00:10<00:18, 35.17it/s]"
     ]
    },
    {
     "name": "stdout",
     "output_type": "stream",
     "text": [
      "128/128 [==============================] - 0s 25us/step\n",
      "64/64 [==============================] - 0s 33us/step\n",
      "64/64 [==============================] - 0s 49us/step\n",
      "128/128 [==============================] - 0s 33us/step\n",
      "64/64 [==============================] - 0s 53us/step\n",
      "64/64 [==============================] - 0s 32us/step\n",
      "128/128 [==============================] - 0s 25us/step\n",
      "64/64 [==============================] - 0s 46us/step\n",
      "64/64 [==============================] - 0s 49us/step\n",
      "128/128 [==============================] - 0s 28us/step\n",
      "64/64 [==============================] - 0s 53us/step\n",
      "64/64 [==============================] - 0s 44us/step\n",
      "128/128 [==============================] - 0s 23us/step\n",
      "64/64 [==============================] - 0s 30us/step\n",
      "64/64 [==============================] - 0s 48us/step\n"
     ]
    },
    {
     "name": "stderr",
     "output_type": "stream",
     "text": [
      "\r",
      " 37%|███▋      | 367/1000 [00:10<00:17, 35.26it/s]"
     ]
    },
    {
     "name": "stdout",
     "output_type": "stream",
     "text": [
      "128/128 [==============================] - 0s 27us/step\n",
      "64/64 [==============================] - 0s 42us/step\n",
      "64/64 [==============================] - 0s 39us/step\n",
      "128/128 [==============================] - 0s 24us/step\n",
      "64/64 [==============================] - 0s 33us/step\n",
      "64/64 [==============================] - 0s 31us/step\n",
      "128/128 [==============================] - 0s 26us/step\n",
      "64/64 [==============================] - 0s 49us/step\n",
      "64/64 [==============================] - 0s 44us/step\n",
      "128/128 [==============================] - 0s 30us/step\n",
      "64/64 [==============================] - 0s 57us/step\n",
      "64/64 [==============================] - 0s 27us/step\n",
      "128/128 [==============================] - 0s 32us/step\n",
      "64/64 [==============================] - 0s 46us/step\n",
      "64/64 [==============================] - 0s 62us/step\n"
     ]
    },
    {
     "name": "stderr",
     "output_type": "stream",
     "text": [
      "\r",
      " 37%|███▋      | 372/1000 [00:10<00:17, 35.36it/s]"
     ]
    },
    {
     "name": "stdout",
     "output_type": "stream",
     "text": [
      "128/128 [==============================] - 0s 29us/step\n",
      "64/64 [==============================] - 0s 40us/step\n",
      "64/64 [==============================] - 0s 39us/step\n",
      "128/128 [==============================] - 0s 26us/step\n",
      "64/64 [==============================] - 0s 41us/step\n",
      "64/64 [==============================] - 0s 59us/step\n",
      "128/128 [==============================] - 0s 56us/step\n",
      "64/64 [==============================] - 0s 56us/step\n",
      "64/64 [==============================] - 0s 51us/step\n",
      "128/128 [==============================] - 0s 24us/step\n",
      "64/64 [==============================] - 0s 30us/step\n",
      "64/64 [==============================] - 0s 55us/step\n",
      "128/128 [==============================] - 0s 32us/step\n",
      "64/64 [==============================] - 0s 31us/step\n",
      "64/64 [==============================] - 0s 33us/step\n"
     ]
    },
    {
     "name": "stderr",
     "output_type": "stream",
     "text": [
      "\r",
      " 38%|███▊      | 377/1000 [00:10<00:17, 35.44it/s]"
     ]
    },
    {
     "name": "stdout",
     "output_type": "stream",
     "text": [
      "128/128 [==============================] - 0s 32us/step\n",
      "64/64 [==============================] - 0s 46us/step\n",
      "64/64 [==============================] - 0s 33us/step\n",
      "128/128 [==============================] - 0s 26us/step\n",
      "64/64 [==============================] - 0s 29us/step\n",
      "64/64 [==============================] - 0s 91us/step\n",
      "128/128 [==============================] - 0s 39us/step\n",
      "64/64 [==============================] - 0s 45us/step\n",
      "64/64 [==============================] - 0s 29us/step\n",
      "128/128 [==============================] - 0s 23us/step\n",
      "64/64 [==============================] - 0s 40us/step\n",
      "64/64 [==============================] - 0s 40us/step\n",
      "128/128 [==============================] - 0s 22us/step\n",
      "64/64 [==============================] - 0s 51us/step\n",
      "64/64 [==============================] - 0s 40us/step\n"
     ]
    },
    {
     "name": "stderr",
     "output_type": "stream",
     "text": [
      "\r",
      " 38%|███▊      | 382/1000 [00:10<00:17, 35.52it/s]"
     ]
    },
    {
     "name": "stdout",
     "output_type": "stream",
     "text": [
      "128/128 [==============================] - 0s 41us/step\n",
      "64/64 [==============================] - 0s 56us/step\n",
      "64/64 [==============================] - 0s 42us/step\n",
      "128/128 [==============================] - 0s 24us/step\n",
      "64/64 [==============================] - 0s 41us/step\n",
      "64/64 [==============================] - 0s 49us/step\n",
      "128/128 [==============================] - 0s 34us/step\n",
      "64/64 [==============================] - 0s 44us/step\n",
      "64/64 [==============================] - 0s 37us/step\n",
      "128/128 [==============================] - 0s 23us/step\n",
      "64/64 [==============================] - 0s 30us/step\n",
      "64/64 [==============================] - 0s 32us/step\n",
      "128/128 [==============================] - 0s 52us/step\n",
      "64/64 [==============================] - 0s 38us/step\n",
      "64/64 [==============================] - 0s 45us/step\n"
     ]
    },
    {
     "name": "stderr",
     "output_type": "stream",
     "text": [
      "\r",
      " 39%|███▊      | 387/1000 [00:10<00:17, 35.58it/s]"
     ]
    },
    {
     "name": "stdout",
     "output_type": "stream",
     "text": [
      "128/128 [==============================] - 0s 25us/step\n",
      "64/64 [==============================] - 0s 40us/step\n",
      "64/64 [==============================] - 0s 59us/step\n",
      "128/128 [==============================] - 0s 34us/step\n",
      "64/64 [==============================] - 0s 45us/step\n",
      "64/64 [==============================] - 0s 29us/step\n",
      "128/128 [==============================] - 0s 28us/step\n",
      "64/64 [==============================] - 0s 43us/step\n",
      "64/64 [==============================] - 0s 56us/step\n",
      "128/128 [==============================] - 0s 26us/step\n",
      "64/64 [==============================] - 0s 45us/step\n",
      "64/64 [==============================] - 0s 32us/step\n",
      "128/128 [==============================] - 0s 37us/step\n",
      "64/64 [==============================] - 0s 46us/step\n",
      "64/64 [==============================] - 0s 37us/step\n"
     ]
    },
    {
     "name": "stderr",
     "output_type": "stream",
     "text": [
      "\r",
      " 39%|███▉      | 392/1000 [00:10<00:17, 35.65it/s]"
     ]
    },
    {
     "name": "stdout",
     "output_type": "stream",
     "text": [
      "128/128 [==============================] - 0s 25us/step\n",
      "64/64 [==============================] - 0s 53us/step\n",
      "64/64 [==============================] - 0s 57us/step\n",
      "128/128 [==============================] - 0s 28us/step\n",
      "64/64 [==============================] - 0s 29us/step\n",
      "64/64 [==============================] - 0s 35us/step\n",
      "128/128 [==============================] - 0s 25us/step\n",
      "64/64 [==============================] - 0s 31us/step\n",
      "64/64 [==============================] - 0s 40us/step\n",
      "128/128 [==============================] - 0s 24us/step\n",
      "64/64 [==============================] - 0s 51us/step\n",
      "64/64 [==============================] - 0s 38us/step\n",
      "128/128 [==============================] - 0s 25us/step\n",
      "64/64 [==============================] - 0s 57us/step\n",
      "64/64 [==============================] - 0s 42us/step\n"
     ]
    },
    {
     "name": "stderr",
     "output_type": "stream",
     "text": [
      "\r",
      " 40%|███▉      | 397/1000 [00:11<00:16, 35.74it/s]"
     ]
    },
    {
     "name": "stdout",
     "output_type": "stream",
     "text": [
      "128/128 [==============================] - 0s 24us/step\n",
      "64/64 [==============================] - 0s 36us/step\n",
      "64/64 [==============================] - 0s 34us/step\n",
      "128/128 [==============================] - 0s 24us/step\n",
      "64/64 [==============================] - 0s 48us/step\n",
      "64/64 [==============================] - 0s 45us/step\n",
      "128/128 [==============================] - 0s 36us/step\n",
      "64/64 [==============================] - 0s 36us/step\n",
      "64/64 [==============================] - 0s 26us/step\n",
      "128/128 [==============================] - 0s 23us/step\n",
      "64/64 [==============================] - 0s 28us/step\n",
      "64/64 [==============================] - 0s 26us/step\n",
      "128/128 [==============================] - 0s 25us/step\n",
      "64/64 [==============================] - 0s 33us/step\n",
      "64/64 [==============================] - 0s 39us/step\n"
     ]
    },
    {
     "name": "stderr",
     "output_type": "stream",
     "text": [
      "\r",
      " 40%|████      | 402/1000 [00:11<00:16, 35.84it/s]"
     ]
    },
    {
     "name": "stdout",
     "output_type": "stream",
     "text": [
      "128/128 [==============================] - 0s 25us/step\n",
      "64/64 [==============================] - 0s 32us/step\n",
      "64/64 [==============================] - 0s 53us/step\n",
      "128/128 [==============================] - 0s 28us/step\n",
      "64/64 [==============================] - 0s 33us/step\n",
      "64/64 [==============================] - 0s 27us/step\n",
      "128/128 [==============================] - 0s 25us/step\n",
      "64/64 [==============================] - 0s 40us/step\n",
      "64/64 [==============================] - 0s 32us/step\n",
      "128/128 [==============================] - 0s 36us/step\n",
      "64/64 [==============================] - 0s 38us/step\n",
      "64/64 [==============================] - 0s 47us/step\n",
      "128/128 [==============================] - 0s 23us/step\n",
      "64/64 [==============================] - 0s 31us/step\n",
      "64/64 [==============================] - 0s 28us/step\n"
     ]
    },
    {
     "name": "stderr",
     "output_type": "stream",
     "text": [
      "\r",
      " 41%|████      | 407/1000 [00:11<00:16, 35.93it/s]"
     ]
    },
    {
     "name": "stdout",
     "output_type": "stream",
     "text": [
      "128/128 [==============================] - 0s 34us/step\n",
      "64/64 [==============================] - 0s 51us/step\n",
      "64/64 [==============================] - 0s 59us/step\n",
      "128/128 [==============================] - 0s 35us/step\n",
      "64/64 [==============================] - 0s 37us/step\n",
      "64/64 [==============================] - 0s 46us/step\n",
      "128/128 [==============================] - 0s 30us/step\n",
      "64/64 [==============================] - 0s 47us/step\n",
      "64/64 [==============================] - 0s 48us/step\n",
      "128/128 [==============================] - 0s 24us/step\n",
      "64/64 [==============================] - 0s 30us/step\n",
      "64/64 [==============================] - 0s 42us/step\n",
      "128/128 [==============================] - 0s 25us/step\n",
      "64/64 [==============================] - 0s 46us/step\n",
      "64/64 [==============================] - ETA:  - 0s 50us/step\n"
     ]
    },
    {
     "name": "stderr",
     "output_type": "stream",
     "text": [
      "\r",
      " 41%|████      | 412/1000 [00:11<00:16, 35.98it/s]"
     ]
    },
    {
     "name": "stdout",
     "output_type": "stream",
     "text": [
      "128/128 [==============================] - 0s 27us/step\n",
      "64/64 [==============================] - 0s 48us/step\n",
      "64/64 [==============================] - 0s 41us/step\n",
      "128/128 [==============================] - 0s 23us/step\n",
      "64/64 [==============================] - 0s 48us/step\n",
      "64/64 [==============================] - 0s 34us/step\n",
      "128/128 [==============================] - 0s 30us/step\n",
      "64/64 [==============================] - 0s 40us/step\n",
      "64/64 [==============================] - 0s 45us/step\n",
      "128/128 [==============================] - 0s 26us/step\n",
      "64/64 [==============================] - 0s 35us/step\n",
      "64/64 [==============================] - 0s 36us/step\n",
      "128/128 [==============================] - 0s 25us/step\n",
      "64/64 [==============================] - 0s 41us/step\n",
      "64/64 [==============================] - 0s 61us/step\n"
     ]
    },
    {
     "name": "stderr",
     "output_type": "stream",
     "text": [
      "\r",
      " 42%|████▏     | 417/1000 [00:11<00:16, 36.05it/s]"
     ]
    },
    {
     "name": "stdout",
     "output_type": "stream",
     "text": [
      "128/128 [==============================] - 0s 23us/step\n",
      "64/64 [==============================] - 0s 51us/step\n",
      "64/64 [==============================] - 0s 47us/step\n",
      "128/128 [==============================] - 0s 28us/step\n",
      "64/64 [==============================] - 0s 37us/step\n",
      "64/64 [==============================] - 0s 30us/step\n",
      "128/128 [==============================] - 0s 35us/step\n",
      "64/64 [==============================] - 0s 33us/step\n",
      "64/64 [==============================] - 0s 47us/step\n",
      "128/128 [==============================] - 0s 24us/step\n",
      "64/64 [==============================] - 0s 45us/step\n",
      "64/64 [==============================] - 0s 38us/step\n",
      "128/128 [==============================] - 0s 23us/step\n",
      "64/64 [==============================] - 0s 68us/step\n",
      "64/64 [==============================] - 0s 46us/step\n"
     ]
    },
    {
     "name": "stderr",
     "output_type": "stream",
     "text": [
      "\r",
      " 42%|████▏     | 422/1000 [00:11<00:16, 36.10it/s]"
     ]
    },
    {
     "name": "stdout",
     "output_type": "stream",
     "text": [
      "128/128 [==============================] - 0s 24us/step\n",
      "64/64 [==============================] - 0s 38us/step\n",
      "64/64 [==============================] - 0s 29us/step\n",
      "128/128 [==============================] - 0s 25us/step\n",
      "64/64 [==============================] - 0s 30us/step\n",
      "64/64 [==============================] - 0s 46us/step\n",
      "128/128 [==============================] - 0s 24us/step\n",
      "64/64 [==============================] - 0s 40us/step\n",
      "64/64 [==============================] - 0s 33us/step\n",
      "128/128 [==============================] - 0s 27us/step\n",
      "64/64 [==============================] - 0s 52us/step\n",
      "64/64 [==============================] - 0s 51us/step\n",
      "128/128 [==============================] - 0s 31us/step\n",
      "64/64 [==============================] - 0s 31us/step\n",
      "64/64 [==============================] - 0s 43us/step\n"
     ]
    },
    {
     "name": "stderr",
     "output_type": "stream",
     "text": [
      "\r",
      " 43%|████▎     | 427/1000 [00:11<00:15, 36.18it/s]"
     ]
    },
    {
     "name": "stdout",
     "output_type": "stream",
     "text": [
      "128/128 [==============================] - 0s 32us/step\n",
      "64/64 [==============================] - 0s 36us/step\n",
      "64/64 [==============================] - 0s 43us/step\n",
      "128/128 [==============================] - 0s 25us/step\n",
      "64/64 [==============================] - 0s 46us/step\n",
      "64/64 [==============================] - 0s 30us/step\n",
      "128/128 [==============================] - 0s 31us/step\n",
      "64/64 [==============================] - 0s 87us/step\n",
      "64/64 [==============================] - 0s 49us/step\n",
      "128/128 [==============================] - 0s 37us/step\n",
      "64/64 [==============================] - 0s 26us/step\n",
      "64/64 [==============================] - 0s 39us/step\n",
      "128/128 [==============================] - 0s 33us/step\n",
      "64/64 [==============================] - 0s 62us/step\n",
      "64/64 [==============================] - 0s 65us/step\n"
     ]
    },
    {
     "name": "stderr",
     "output_type": "stream",
     "text": [
      "\r",
      " 43%|████▎     | 432/1000 [00:11<00:15, 36.24it/s]"
     ]
    },
    {
     "name": "stdout",
     "output_type": "stream",
     "text": [
      "128/128 [==============================] - 0s 26us/step\n",
      "64/64 [==============================] - 0s 30us/step\n",
      "64/64 [==============================] - 0s 31us/step\n",
      "128/128 [==============================] - 0s 26us/step\n",
      "64/64 [==============================] - 0s 44us/step\n",
      "64/64 [==============================] - 0s 27us/step\n",
      "128/128 [==============================] - 0s 33us/step\n",
      "64/64 [==============================] - 0s 47us/step\n",
      "64/64 [==============================] - 0s 47us/step\n",
      "128/128 [==============================] - 0s 35us/step\n",
      "64/64 [==============================] - 0s 41us/step\n",
      "64/64 [==============================] - 0s 27us/step\n",
      "128/128 [==============================] - 0s 31us/step\n",
      "64/64 [==============================] - 0s 46us/step\n",
      "64/64 [==============================] - 0s 59us/step\n"
     ]
    },
    {
     "name": "stderr",
     "output_type": "stream",
     "text": [
      "\r",
      " 44%|████▎     | 437/1000 [00:12<00:15, 36.31it/s]"
     ]
    },
    {
     "name": "stdout",
     "output_type": "stream",
     "text": [
      "128/128 [==============================] - 0s 31us/step\n",
      "64/64 [==============================] - 0s 46us/step\n",
      "64/64 [==============================] - 0s 29us/step\n",
      "128/128 [==============================] - 0s 26us/step\n",
      "64/64 [==============================] - 0s 31us/step\n",
      "64/64 [==============================] - 0s 41us/step\n",
      "128/128 [==============================] - 0s 32us/step\n",
      "64/64 [==============================] - 0s 27us/step\n",
      "64/64 [==============================] - 0s 45us/step\n",
      "128/128 [==============================] - 0s 28us/step\n",
      "64/64 [==============================] - 0s 37us/step\n",
      "64/64 [==============================] - 0s 35us/step\n",
      "128/128 [==============================] - 0s 32us/step\n",
      "64/64 [==============================] - 0s 29us/step\n",
      "64/64 [==============================] - 0s 31us/step\n"
     ]
    },
    {
     "name": "stderr",
     "output_type": "stream",
     "text": [
      "\r",
      " 44%|████▍     | 442/1000 [00:12<00:15, 36.39it/s]"
     ]
    },
    {
     "name": "stdout",
     "output_type": "stream",
     "text": [
      "128/128 [==============================] - 0s 23us/step\n",
      "64/64 [==============================] - 0s 32us/step\n",
      "64/64 [==============================] - 0s 47us/step\n",
      "128/128 [==============================] - 0s 32us/step\n",
      "64/64 [==============================] - 0s 42us/step\n",
      "64/64 [==============================] - 0s 33us/step\n",
      "128/128 [==============================] - 0s 23us/step\n",
      "64/64 [==============================] - 0s 43us/step\n",
      "64/64 [==============================] - 0s 44us/step\n",
      "128/128 [==============================] - 0s 36us/step\n",
      "64/64 [==============================] - 0s 49us/step\n",
      "64/64 [==============================] - 0s 43us/step\n",
      "128/128 [==============================] - 0s 35us/step\n",
      "64/64 [==============================] - 0s 25us/step\n",
      "64/64 [==============================] - 0s 42us/step\n"
     ]
    },
    {
     "name": "stderr",
     "output_type": "stream",
     "text": [
      "\r",
      " 45%|████▍     | 447/1000 [00:12<00:15, 36.45it/s]"
     ]
    },
    {
     "name": "stdout",
     "output_type": "stream",
     "text": [
      "128/128 [==============================] - 0s 22us/step\n",
      "64/64 [==============================] - 0s 47us/step\n",
      "64/64 [==============================] - 0s 59us/step\n",
      "128/128 [==============================] - 0s 28us/step\n",
      "64/64 [==============================] - 0s 35us/step\n",
      "64/64 [==============================] - 0s 42us/step\n",
      "128/128 [==============================] - 0s 28us/step\n",
      "64/64 [==============================] - 0s 39us/step\n",
      "64/64 [==============================] - 0s 32us/step\n",
      "128/128 [==============================] - 0s 24us/step\n",
      "64/64 [==============================] - 0s 40us/step\n",
      "64/64 [==============================] - 0s 83us/step\n",
      "128/128 [==============================] - 0s 27us/step\n",
      "64/64 [==============================] - 0s 43us/step\n",
      "64/64 [==============================] - 0s 41us/step\n"
     ]
    },
    {
     "name": "stderr",
     "output_type": "stream",
     "text": [
      "\r",
      " 45%|████▌     | 452/1000 [00:12<00:15, 36.53it/s]"
     ]
    },
    {
     "name": "stdout",
     "output_type": "stream",
     "text": [
      "128/128 [==============================] - 0s 25us/step\n",
      "64/64 [==============================] - 0s 30us/step\n",
      "64/64 [==============================] - 0s 56us/step\n",
      "128/128 [==============================] - 0s 24us/step\n",
      "64/64 [==============================] - 0s 33us/step\n",
      "64/64 [==============================] - 0s 48us/step\n",
      "128/128 [==============================] - 0s 30us/step\n",
      "64/64 [==============================] - 0s 35us/step\n",
      "64/64 [==============================] - 0s 42us/step\n",
      "128/128 [==============================] - 0s 25us/step\n",
      "64/64 [==============================] - 0s 32us/step\n",
      "64/64 [==============================] - 0s 31us/step\n",
      "128/128 [==============================] - 0s 21us/step\n",
      "64/64 [==============================] - 0s 48us/step\n",
      "64/64 [==============================] - 0s 33us/step\n"
     ]
    },
    {
     "name": "stderr",
     "output_type": "stream",
     "text": [
      "\r",
      " 46%|████▌     | 457/1000 [00:12<00:14, 36.60it/s]"
     ]
    },
    {
     "name": "stdout",
     "output_type": "stream",
     "text": [
      "128/128 [==============================] - 0s 34us/step\n",
      "64/64 [==============================] - 0s 42us/step\n",
      "64/64 [==============================] - 0s 49us/step\n",
      "128/128 [==============================] - 0s 32us/step\n",
      "64/64 [==============================] - 0s 35us/step\n",
      "64/64 [==============================] - 0s 51us/step\n",
      "128/128 [==============================] - 0s 23us/step\n",
      "64/64 [==============================] - 0s 33us/step\n",
      "64/64 [==============================] - 0s 45us/step\n",
      "128/128 [==============================] - 0s 24us/step\n",
      "64/64 [==============================] - 0s 35us/step\n",
      "64/64 [==============================] - 0s 29us/step\n",
      "128/128 [==============================] - 0s 28us/step\n",
      "64/64 [==============================] - 0s 36us/step\n",
      "64/64 [==============================] - 0s 53us/step\n"
     ]
    },
    {
     "name": "stderr",
     "output_type": "stream",
     "text": [
      "\r",
      " 46%|████▌     | 462/1000 [00:12<00:14, 36.66it/s]"
     ]
    },
    {
     "name": "stdout",
     "output_type": "stream",
     "text": [
      "128/128 [==============================] - 0s 32us/step\n",
      "64/64 [==============================] - 0s 44us/step\n",
      "64/64 [==============================] - 0s 43us/step\n",
      "128/128 [==============================] - 0s 26us/step\n",
      "64/64 [==============================] - 0s 30us/step\n",
      "64/64 [==============================] - 0s 33us/step\n",
      "128/128 [==============================] - 0s 32us/step\n",
      "64/64 [==============================] - 0s 37us/step\n",
      "64/64 [==============================] - 0s 30us/step\n",
      "128/128 [==============================] - 0s 26us/step\n",
      "64/64 [==============================] - 0s 27us/step\n",
      "64/64 [==============================] - 0s 45us/step\n",
      "128/128 [==============================] - 0s 34us/step\n",
      "64/64 [==============================] - 0s 55us/step\n",
      "64/64 [==============================] - 0s 57us/step\n"
     ]
    },
    {
     "name": "stderr",
     "output_type": "stream",
     "text": [
      "\r",
      " 47%|████▋     | 467/1000 [00:12<00:14, 36.73it/s]"
     ]
    },
    {
     "name": "stdout",
     "output_type": "stream",
     "text": [
      "128/128 [==============================] - 0s 24us/step\n",
      "64/64 [==============================] - 0s 40us/step\n",
      "64/64 [==============================] - 0s 45us/step\n",
      "128/128 [==============================] - 0s 26us/step\n",
      "64/64 [==============================] - 0s 51us/step\n",
      "64/64 [==============================] - 0s 57us/step\n",
      "128/128 [==============================] - 0s 27us/step\n",
      "64/64 [==============================] - 0s 49us/step\n",
      "64/64 [==============================] - 0s 32us/step\n",
      "128/128 [==============================] - 0s 35us/step\n",
      "64/64 [==============================] - 0s 28us/step\n",
      "64/64 [==============================] - 0s 46us/step\n",
      "128/128 [==============================] - 0s 34us/step\n",
      "64/64 [==============================] - 0s 31us/step\n",
      "64/64 [==============================] - 0s 27us/step\n"
     ]
    },
    {
     "name": "stderr",
     "output_type": "stream",
     "text": [
      "\r",
      " 47%|████▋     | 472/1000 [00:12<00:14, 36.79it/s]"
     ]
    },
    {
     "name": "stdout",
     "output_type": "stream",
     "text": [
      "128/128 [==============================] - 0s 26us/step\n",
      "64/64 [==============================] - 0s 45us/step\n",
      "64/64 [==============================] - 0s 32us/step\n",
      "128/128 [==============================] - 0s 25us/step\n",
      "64/64 [==============================] - ETA:  - 0s 29us/step\n",
      "64/64 [==============================] - 0s 42us/step\n",
      "128/128 [==============================] - 0s 34us/step\n",
      "64/64 [==============================] - 0s 27us/step\n",
      "64/64 [==============================] - 0s 28us/step\n",
      "128/128 [==============================] - 0s 23us/step\n",
      "64/64 [==============================] - 0s 43us/step\n",
      "64/64 [==============================] - 0s 59us/step\n",
      "128/128 [==============================] - 0s 26us/step\n",
      "64/64 [==============================] - 0s 50us/step\n",
      "64/64 [==============================] - 0s 32us/step\n"
     ]
    },
    {
     "name": "stderr",
     "output_type": "stream",
     "text": [
      "\r",
      " 48%|████▊     | 477/1000 [00:12<00:14, 36.87it/s]"
     ]
    },
    {
     "name": "stdout",
     "output_type": "stream",
     "text": [
      "128/128 [==============================] - 0s 36us/step\n",
      "64/64 [==============================] - 0s 31us/step\n",
      "64/64 [==============================] - 0s 42us/step\n",
      "128/128 [==============================] - 0s 33us/step\n",
      "64/64 [==============================] - 0s 30us/step\n",
      "64/64 [==============================] - 0s 41us/step\n",
      "128/128 [==============================] - 0s 32us/step\n",
      "64/64 [==============================] - 0s 63us/step\n",
      "64/64 [==============================] - 0s 31us/step\n",
      "128/128 [==============================] - 0s 32us/step\n",
      "64/64 [==============================] - 0s 48us/step\n",
      "64/64 [==============================] - 0s 31us/step\n",
      "128/128 [==============================] - 0s 29us/step\n",
      "64/64 [==============================] - 0s 48us/step\n",
      "64/64 [==============================] - 0s 52us/step\n"
     ]
    },
    {
     "name": "stderr",
     "output_type": "stream",
     "text": [
      "\r",
      " 48%|████▊     | 482/1000 [00:13<00:14, 36.92it/s]"
     ]
    },
    {
     "name": "stdout",
     "output_type": "stream",
     "text": [
      "128/128 [==============================] - 0s 28us/step\n",
      "64/64 [==============================] - 0s 29us/step\n",
      "64/64 [==============================] - 0s 39us/step\n",
      "128/128 [==============================] - 0s 29us/step\n",
      "64/64 [==============================] - 0s 26us/step\n",
      "64/64 [==============================] - 0s 67us/step\n",
      "128/128 [==============================] - 0s 26us/step\n",
      "64/64 [==============================] - 0s 61us/step\n",
      "64/64 [==============================] - 0s 35us/step\n",
      "128/128 [==============================] - 0s 33us/step\n",
      "64/64 [==============================] - 0s 29us/step\n",
      "64/64 [==============================] - 0s 42us/step\n",
      "128/128 [==============================] - 0s 23us/step\n",
      "64/64 [==============================] - 0s 49us/step\n",
      "64/64 [==============================] - 0s 47us/step\n"
     ]
    },
    {
     "name": "stderr",
     "output_type": "stream",
     "text": [
      "\r",
      " 49%|████▊     | 487/1000 [00:13<00:13, 36.98it/s]"
     ]
    },
    {
     "name": "stdout",
     "output_type": "stream",
     "text": [
      "128/128 [==============================] - 0s 27us/step\n",
      "64/64 [==============================] - 0s 37us/step\n",
      "64/64 [==============================] - 0s 57us/step\n",
      "128/128 [==============================] - 0s 26us/step\n",
      "64/64 [==============================] - 0s 40us/step\n",
      "64/64 [==============================] - 0s 34us/step\n",
      "128/128 [==============================] - 0s 24us/step\n",
      "64/64 [==============================] - 0s 52us/step\n",
      "64/64 [==============================] - 0s 45us/step\n",
      "128/128 [==============================] - 0s 25us/step\n",
      "64/64 [==============================] - 0s 49us/step\n",
      "64/64 [==============================] - 0s 31us/step\n",
      "128/128 [==============================] - 0s 26us/step\n",
      "64/64 [==============================] - 0s 58us/step\n",
      "64/64 [==============================] - 0s 39us/step\n"
     ]
    },
    {
     "name": "stderr",
     "output_type": "stream",
     "text": [
      "\r",
      " 49%|████▉     | 492/1000 [00:13<00:13, 37.04it/s]"
     ]
    },
    {
     "name": "stdout",
     "output_type": "stream",
     "text": [
      "128/128 [==============================] - 0s 33us/step\n",
      "64/64 [==============================] - 0s 52us/step\n",
      "64/64 [==============================] - 0s 50us/step\n",
      "128/128 [==============================] - 0s 25us/step\n",
      "64/64 [==============================] - 0s 36us/step\n",
      "64/64 [==============================] - 0s 29us/step\n",
      "128/128 [==============================] - 0s 22us/step\n",
      "64/64 [==============================] - 0s 60us/step\n",
      "64/64 [==============================] - 0s 59us/step\n",
      "128/128 [==============================] - 0s 25us/step\n",
      "64/64 [==============================] - 0s 52us/step\n",
      "64/64 [==============================] - 0s 39us/step\n",
      "128/128 [==============================] - 0s 29us/step\n",
      "64/64 [==============================] - 0s 51us/step\n",
      "64/64 [==============================] - 0s 45us/step\n"
     ]
    },
    {
     "name": "stderr",
     "output_type": "stream",
     "text": [
      "\r",
      " 50%|████▉     | 497/1000 [00:13<00:13, 37.09it/s]"
     ]
    },
    {
     "name": "stdout",
     "output_type": "stream",
     "text": [
      "128/128 [==============================] - 0s 47us/step\n",
      "64/64 [==============================] - 0s 38us/step\n",
      "64/64 [==============================] - 0s 43us/step\n",
      "128/128 [==============================] - 0s 34us/step\n",
      "64/64 [==============================] - 0s 57us/step\n",
      "64/64 [==============================] - 0s 45us/step\n",
      "128/128 [==============================] - 0s 35us/step\n",
      "64/64 [==============================] - 0s 54us/step\n",
      "64/64 [==============================] - 0s 43us/step\n",
      "128/128 [==============================] - 0s 33us/step\n",
      "64/64 [==============================] - 0s 43us/step\n",
      "64/64 [==============================] - 0s 41us/step\n",
      "128/128 [==============================] - 0s 26us/step\n",
      "64/64 [==============================] - 0s 45us/step\n",
      "64/64 [==============================] - 0s 41us/step\n"
     ]
    },
    {
     "name": "stderr",
     "output_type": "stream",
     "text": [
      "\r",
      " 50%|█████     | 502/1000 [00:13<00:13, 37.12it/s]"
     ]
    },
    {
     "name": "stdout",
     "output_type": "stream",
     "text": [
      "128/128 [==============================] - 0s 26us/step\n",
      "64/64 [==============================] - 0s 30us/step\n",
      "64/64 [==============================] - 0s 39us/step\n",
      "128/128 [==============================] - 0s 33us/step\n",
      "64/64 [==============================] - 0s 61us/step\n",
      "64/64 [==============================] - 0s 52us/step\n",
      "128/128 [==============================] - 0s 28us/step\n",
      "64/64 [==============================] - 0s 34us/step\n",
      "64/64 [==============================] - 0s 44us/step\n",
      "128/128 [==============================] - 0s 25us/step\n",
      "64/64 [==============================] - 0s 27us/step\n",
      "64/64 [==============================] - 0s 29us/step\n",
      "128/128 [==============================] - 0s 33us/step\n",
      "64/64 [==============================] - 0s 32us/step\n",
      "64/64 [==============================] - 0s 63us/step\n"
     ]
    },
    {
     "name": "stderr",
     "output_type": "stream",
     "text": [
      "\r",
      " 51%|█████     | 507/1000 [00:13<00:13, 37.17it/s]"
     ]
    },
    {
     "name": "stdout",
     "output_type": "stream",
     "text": [
      "128/128 [==============================] - 0s 34us/step\n",
      "64/64 [==============================] - 0s 41us/step\n",
      "64/64 [==============================] - 0s 57us/step\n",
      "128/128 [==============================] - 0s 25us/step\n",
      "64/64 [==============================] - 0s 58us/step\n",
      "64/64 [==============================] - 0s 56us/step\n",
      "128/128 [==============================] - 0s 32us/step\n",
      "64/64 [==============================] - 0s 30us/step\n",
      "64/64 [==============================] - 0s 31us/step\n",
      "128/128 [==============================] - 0s 25us/step\n",
      "64/64 [==============================] - 0s 41us/step\n",
      "64/64 [==============================] - 0s 33us/step\n",
      "128/128 [==============================] - ETA:  - 0s 26us/step\n",
      "64/64 [==============================] - 0s 32us/step\n",
      "64/64 [==============================] - 0s 63us/step\n"
     ]
    },
    {
     "name": "stderr",
     "output_type": "stream",
     "text": [
      "\r",
      " 51%|█████     | 512/1000 [00:13<00:13, 37.22it/s]"
     ]
    },
    {
     "name": "stdout",
     "output_type": "stream",
     "text": [
      "128/128 [==============================] - 0s 32us/step\n",
      "64/64 [==============================] - 0s 28us/step\n",
      "64/64 [==============================] - 0s 31us/step\n",
      "128/128 [==============================] - 0s 29us/step\n",
      "64/64 [==============================] - 0s 48us/step\n",
      "64/64 [==============================] - 0s 48us/step\n",
      "128/128 [==============================] - 0s 31us/step\n",
      "64/64 [==============================] - 0s 29us/step\n",
      "64/64 [==============================] - 0s 39us/step\n",
      "128/128 [==============================] - 0s 26us/step\n",
      "64/64 [==============================] - 0s 39us/step\n",
      "64/64 [==============================] - 0s 35us/step\n",
      "128/128 [==============================] - 0s 25us/step\n",
      "64/64 [==============================] - 0s 62us/step\n",
      "64/64 [==============================] - 0s 35us/step\n"
     ]
    },
    {
     "name": "stderr",
     "output_type": "stream",
     "text": [
      "\r",
      " 52%|█████▏    | 517/1000 [00:13<00:12, 37.27it/s]"
     ]
    },
    {
     "name": "stdout",
     "output_type": "stream",
     "text": [
      "128/128 [==============================] - 0s 32us/step\n",
      "64/64 [==============================] - 0s 36us/step\n",
      "64/64 [==============================] - 0s 53us/step\n",
      "128/128 [==============================] - 0s 23us/step\n",
      "64/64 [==============================] - 0s 39us/step\n",
      "64/64 [==============================] - 0s 51us/step\n",
      "128/128 [==============================] - 0s 29us/step\n",
      "64/64 [==============================] - 0s 52us/step\n",
      "64/64 [==============================] - 0s 33us/step\n",
      "128/128 [==============================] - 0s 30us/step\n",
      "64/64 [==============================] - 0s 56us/step\n",
      "64/64 [==============================] - 0s 37us/step\n",
      "128/128 [==============================] - 0s 28us/step\n",
      "64/64 [==============================] - 0s 48us/step\n",
      "64/64 [==============================] - 0s 34us/step\n"
     ]
    },
    {
     "name": "stderr",
     "output_type": "stream",
     "text": [
      "\r",
      " 52%|█████▏    | 522/1000 [00:13<00:12, 37.33it/s]"
     ]
    },
    {
     "name": "stdout",
     "output_type": "stream",
     "text": [
      "128/128 [==============================] - 0s 36us/step\n",
      "64/64 [==============================] - 0s 54us/step\n",
      "64/64 [==============================] - 0s 30us/step\n",
      "128/128 [==============================] - 0s 23us/step\n",
      "64/64 [==============================] - 0s 27us/step\n",
      "64/64 [==============================] - 0s 32us/step\n",
      "128/128 [==============================] - 0s 25us/step\n",
      "64/64 [==============================] - 0s 28us/step\n",
      "64/64 [==============================] - 0s 45us/step\n",
      "128/128 [==============================] - 0s 29us/step\n",
      "64/64 [==============================] - 0s 53us/step\n",
      "64/64 [==============================] - 0s 31us/step\n",
      "128/128 [==============================] - 0s 35us/step\n",
      "64/64 [==============================] - 0s 53us/step\n",
      "64/64 [==============================] - 0s 42us/step\n"
     ]
    },
    {
     "name": "stderr",
     "output_type": "stream",
     "text": [
      "\r",
      " 53%|█████▎    | 527/1000 [00:14<00:12, 37.39it/s]"
     ]
    },
    {
     "name": "stdout",
     "output_type": "stream",
     "text": [
      "128/128 [==============================] - 0s 25us/step\n",
      "64/64 [==============================] - 0s 36us/step\n",
      "64/64 [==============================] - 0s 44us/step\n",
      "128/128 [==============================] - 0s 33us/step\n",
      "64/64 [==============================] - 0s 35us/step\n",
      "64/64 [==============================] - 0s 48us/step\n",
      "128/128 [==============================] - 0s 24us/step\n",
      "64/64 [==============================] - 0s 33us/step\n",
      "64/64 [==============================] - 0s 41us/step\n",
      "128/128 [==============================] - 0s 24us/step\n",
      "64/64 [==============================] - 0s 34us/step\n",
      "64/64 [==============================] - 0s 60us/step\n",
      "128/128 [==============================] - 0s 28us/step\n",
      "64/64 [==============================] - 0s 48us/step\n",
      "64/64 [==============================] - 0s 44us/step\n"
     ]
    },
    {
     "name": "stderr",
     "output_type": "stream",
     "text": [
      "\r",
      " 53%|█████▎    | 532/1000 [00:14<00:12, 37.44it/s]"
     ]
    },
    {
     "name": "stdout",
     "output_type": "stream",
     "text": [
      "128/128 [==============================] - ETA:  - 0s 26us/step\n",
      "64/64 [==============================] - 0s 31us/step\n",
      "64/64 [==============================] - 0s 59us/step\n",
      "128/128 [==============================] - 0s 31us/step\n",
      "64/64 [==============================] - 0s 59us/step\n",
      "64/64 [==============================] - 0s 41us/step\n",
      "128/128 [==============================] - 0s 31us/step\n",
      "64/64 [==============================] - 0s 30us/step\n",
      "64/64 [==============================] - 0s 46us/step\n",
      "128/128 [==============================] - 0s 33us/step\n",
      "64/64 [==============================] - 0s 54us/step\n",
      "64/64 [==============================] - 0s 39us/step\n",
      "128/128 [==============================] - 0s 31us/step\n",
      "64/64 [==============================] - 0s 26us/step\n",
      "64/64 [==============================] - 0s 33us/step\n"
     ]
    },
    {
     "name": "stderr",
     "output_type": "stream",
     "text": [
      "\r",
      " 54%|█████▎    | 537/1000 [00:14<00:12, 37.49it/s]"
     ]
    },
    {
     "name": "stdout",
     "output_type": "stream",
     "text": [
      "128/128 [==============================] - 0s 26us/step\n",
      "64/64 [==============================] - 0s 41us/step\n",
      "64/64 [==============================] - 0s 94us/step\n",
      "128/128 [==============================] - 0s 23us/step\n",
      "64/64 [==============================] - 0s 55us/step\n",
      "64/64 [==============================] - 0s 38us/step\n",
      "128/128 [==============================] - 0s 34us/step\n",
      "64/64 [==============================] - 0s 36us/step\n",
      "64/64 [==============================] - 0s 46us/step\n",
      "128/128 [==============================] - 0s 35us/step\n",
      "64/64 [==============================] - 0s 49us/step\n",
      "64/64 [==============================] - 0s 41us/step\n",
      "128/128 [==============================] - 0s 25us/step\n",
      "64/64 [==============================] - 0s 51us/step\n",
      "64/64 [==============================] - 0s 42us/step\n"
     ]
    },
    {
     "name": "stderr",
     "output_type": "stream",
     "text": [
      "\r",
      " 54%|█████▍    | 542/1000 [00:14<00:12, 37.52it/s]"
     ]
    },
    {
     "name": "stdout",
     "output_type": "stream",
     "text": [
      "128/128 [==============================] - 0s 32us/step\n",
      "64/64 [==============================] - 0s 103us/step\n",
      "64/64 [==============================] - 0s 43us/step\n",
      "128/128 [==============================] - 0s 27us/step\n",
      "64/64 [==============================] - 0s 32us/step\n",
      "64/64 [==============================] - 0s 30us/step\n",
      "128/128 [==============================] - 0s 27us/step\n",
      "64/64 [==============================] - 0s 34us/step\n",
      "64/64 [==============================] - 0s 31us/step\n",
      "128/128 [==============================] - 0s 23us/step\n",
      "64/64 [==============================] - 0s 34us/step\n",
      "64/64 [==============================] - 0s 50us/step\n",
      "128/128 [==============================] - 0s 37us/step\n",
      "64/64 [==============================] - 0s 28us/step\n",
      "64/64 [==============================] - 0s 41us/step\n"
     ]
    },
    {
     "name": "stderr",
     "output_type": "stream",
     "text": [
      "\r",
      " 55%|█████▍    | 547/1000 [00:14<00:12, 37.57it/s]"
     ]
    },
    {
     "name": "stdout",
     "output_type": "stream",
     "text": [
      "128/128 [==============================] - 0s 31us/step\n",
      "64/64 [==============================] - 0s 54us/step\n",
      "64/64 [==============================] - 0s 48us/step\n",
      "128/128 [==============================] - 0s 33us/step\n",
      "64/64 [==============================] - 0s 32us/step\n",
      "64/64 [==============================] - 0s 54us/step\n",
      "128/128 [==============================] - 0s 27us/step\n",
      "64/64 [==============================] - 0s 60us/step\n",
      "64/64 [==============================] - 0s 31us/step\n",
      "128/128 [==============================] - 0s 33us/step\n",
      "64/64 [==============================] - 0s 41us/step\n",
      "64/64 [==============================] - 0s 43us/step\n",
      "128/128 [==============================] - 0s 34us/step\n",
      "64/64 [==============================] - 0s 36us/step\n",
      "64/64 [==============================] - 0s 45us/step\n"
     ]
    },
    {
     "name": "stderr",
     "output_type": "stream",
     "text": [
      "\r",
      " 55%|█████▌    | 552/1000 [00:14<00:11, 37.60it/s]"
     ]
    },
    {
     "name": "stdout",
     "output_type": "stream",
     "text": [
      "128/128 [==============================] - 0s 23us/step\n",
      "64/64 [==============================] - 0s 47us/step\n",
      "64/64 [==============================] - 0s 43us/step\n",
      "128/128 [==============================] - 0s 29us/step\n",
      "64/64 [==============================] - 0s 46us/step\n",
      "64/64 [==============================] - 0s 42us/step\n",
      "128/128 [==============================] - 0s 24us/step\n",
      "64/64 [==============================] - 0s 44us/step\n",
      "64/64 [==============================] - 0s 45us/step\n",
      "128/128 [==============================] - 0s 24us/step\n",
      "64/64 [==============================] - 0s 51us/step\n",
      "64/64 [==============================] - 0s 40us/step\n",
      "128/128 [==============================] - 0s 26us/step\n",
      "64/64 [==============================] - 0s 47us/step\n",
      "64/64 [==============================] - 0s 41us/step\n"
     ]
    },
    {
     "name": "stderr",
     "output_type": "stream",
     "text": [
      "\r",
      " 56%|█████▌    | 557/1000 [00:14<00:11, 37.65it/s]"
     ]
    },
    {
     "name": "stdout",
     "output_type": "stream",
     "text": [
      "128/128 [==============================] - 0s 32us/step\n",
      "64/64 [==============================] - 0s 35us/step\n",
      "64/64 [==============================] - 0s 55us/step\n",
      "128/128 [==============================] - 0s 36us/step\n",
      "64/64 [==============================] - 0s 45us/step\n",
      "64/64 [==============================] - 0s 40us/step\n",
      "128/128 [==============================] - 0s 25us/step\n",
      "64/64 [==============================] - 0s 46us/step\n",
      "64/64 [==============================] - 0s 41us/step\n",
      "128/128 [==============================] - 0s 25us/step\n",
      "64/64 [==============================] - 0s 70us/step\n",
      "64/64 [==============================] - 0s 62us/step\n",
      "128/128 [==============================] - 0s 29us/step\n",
      "64/64 [==============================] - 0s 40us/step\n",
      "64/64 [==============================] - 0s 37us/step\n"
     ]
    },
    {
     "name": "stderr",
     "output_type": "stream",
     "text": [
      "\r",
      " 56%|█████▌    | 562/1000 [00:14<00:11, 37.69it/s]"
     ]
    },
    {
     "name": "stdout",
     "output_type": "stream",
     "text": [
      "128/128 [==============================] - 0s 23us/step\n",
      "64/64 [==============================] - 0s 52us/step\n",
      "64/64 [==============================] - 0s 47us/step\n",
      "128/128 [==============================] - 0s 29us/step\n",
      "64/64 [==============================] - 0s 36us/step\n",
      "64/64 [==============================] - 0s 30us/step\n",
      "128/128 [==============================] - 0s 26us/step\n",
      "64/64 [==============================] - 0s 45us/step\n",
      "64/64 [==============================] - 0s 46us/step\n",
      "128/128 [==============================] - 0s 30us/step\n",
      "64/64 [==============================] - 0s 43us/step\n",
      "64/64 [==============================] - 0s 40us/step\n",
      "128/128 [==============================] - 0s 33us/step\n",
      "64/64 [==============================] - 0s 29us/step\n",
      "64/64 [==============================] - 0s 48us/step\n"
     ]
    },
    {
     "name": "stderr",
     "output_type": "stream",
     "text": [
      "\r",
      " 57%|█████▋    | 567/1000 [00:15<00:11, 37.74it/s]"
     ]
    },
    {
     "name": "stdout",
     "output_type": "stream",
     "text": [
      "128/128 [==============================] - 0s 25us/step\n",
      "64/64 [==============================] - 0s 43us/step\n",
      "64/64 [==============================] - 0s 28us/step\n",
      "128/128 [==============================] - 0s 22us/step\n",
      "64/64 [==============================] - 0s 51us/step\n",
      "64/64 [==============================] - 0s 57us/step\n",
      "128/128 [==============================] - 0s 33us/step\n",
      "64/64 [==============================] - 0s 30us/step\n",
      "64/64 [==============================] - 0s 32us/step\n",
      "128/128 [==============================] - 0s 26us/step\n",
      "64/64 [==============================] - 0s 44us/step\n",
      "64/64 [==============================] - 0s 43us/step\n",
      "128/128 [==============================] - 0s 24us/step\n",
      "64/64 [==============================] - 0s 39us/step\n",
      "64/64 [==============================] - 0s 40us/step\n"
     ]
    },
    {
     "name": "stderr",
     "output_type": "stream",
     "text": [
      "\r",
      " 57%|█████▋    | 572/1000 [00:15<00:11, 37.79it/s]"
     ]
    },
    {
     "name": "stdout",
     "output_type": "stream",
     "text": [
      "128/128 [==============================] - 0s 32us/step\n",
      "64/64 [==============================] - 0s 33us/step\n",
      "64/64 [==============================] - 0s 32us/step\n",
      "128/128 [==============================] - 0s 33us/step\n",
      "64/64 [==============================] - 0s 28us/step\n",
      "64/64 [==============================] - 0s 55us/step\n",
      "128/128 [==============================] - 0s 33us/step\n",
      "64/64 [==============================] - 0s 30us/step\n",
      "64/64 [==============================] - 0s 35us/step\n",
      "128/128 [==============================] - 0s 35us/step\n",
      "64/64 [==============================] - 0s 26us/step\n",
      "64/64 [==============================] - 0s 46us/step\n",
      "128/128 [==============================] - 0s 31us/step\n",
      "64/64 [==============================] - 0s 57us/step\n",
      "64/64 [==============================] - 0s 52us/step\n"
     ]
    },
    {
     "name": "stderr",
     "output_type": "stream",
     "text": [
      "\r",
      " 58%|█████▊    | 577/1000 [00:15<00:11, 37.84it/s]"
     ]
    },
    {
     "name": "stdout",
     "output_type": "stream",
     "text": [
      "128/128 [==============================] - 0s 27us/step\n",
      "64/64 [==============================] - 0s 61us/step\n",
      "64/64 [==============================] - 0s 45us/step\n",
      "128/128 [==============================] - 0s 34us/step\n",
      "64/64 [==============================] - 0s 44us/step\n",
      "64/64 [==============================] - 0s 34us/step\n",
      "128/128 [==============================] - 0s 31us/step\n",
      "64/64 [==============================] - 0s 48us/step\n",
      "64/64 [==============================] - 0s 53us/step\n",
      "128/128 [==============================] - 0s 31us/step\n",
      "64/64 [==============================] - 0s 45us/step\n",
      "64/64 [==============================] - 0s 40us/step\n",
      "128/128 [==============================] - 0s 25us/step\n",
      "64/64 [==============================] - 0s 33us/step\n",
      "64/64 [==============================] - 0s 43us/step\n"
     ]
    },
    {
     "name": "stderr",
     "output_type": "stream",
     "text": [
      "\r",
      " 58%|█████▊    | 582/1000 [00:15<00:11, 37.88it/s]"
     ]
    },
    {
     "name": "stdout",
     "output_type": "stream",
     "text": [
      "128/128 [==============================] - 0s 34us/step\n",
      "64/64 [==============================] - 0s 58us/step\n",
      "64/64 [==============================] - 0s 29us/step\n",
      "128/128 [==============================] - 0s 27us/step\n",
      "64/64 [==============================] - 0s 41us/step\n",
      "64/64 [==============================] - 0s 47us/step\n",
      "128/128 [==============================] - 0s 34us/step\n",
      "64/64 [==============================] - 0s 52us/step\n",
      "64/64 [==============================] - 0s 41us/step\n",
      "128/128 [==============================] - 0s 26us/step\n",
      "64/64 [==============================] - 0s 30us/step\n",
      "64/64 [==============================] - 0s 49us/step\n",
      "128/128 [==============================] - 0s 31us/step\n",
      "64/64 [==============================] - 0s 47us/step\n",
      "64/64 [==============================] - 0s 49us/step\n"
     ]
    },
    {
     "name": "stderr",
     "output_type": "stream",
     "text": [
      "\r",
      " 59%|█████▊    | 587/1000 [00:15<00:10, 37.91it/s]"
     ]
    },
    {
     "name": "stdout",
     "output_type": "stream",
     "text": [
      "128/128 [==============================] - 0s 56us/step\n",
      "64/64 [==============================] - 0s 60us/step\n",
      "64/64 [==============================] - 0s 48us/step\n",
      "128/128 [==============================] - 0s 25us/step\n",
      "64/64 [==============================] - 0s 28us/step\n",
      "64/64 [==============================] - 0s 34us/step\n",
      "128/128 [==============================] - 0s 26us/step\n",
      "64/64 [==============================] - 0s 42us/step\n",
      "64/64 [==============================] - 0s 44us/step\n",
      "128/128 [==============================] - 0s 27us/step\n",
      "64/64 [==============================] - 0s 43us/step\n",
      "64/64 [==============================] - 0s 42us/step\n",
      "128/128 [==============================] - 0s 29us/step\n",
      "64/64 [==============================] - 0s 33us/step\n",
      "64/64 [==============================] - 0s 50us/step\n"
     ]
    },
    {
     "name": "stderr",
     "output_type": "stream",
     "text": [
      "\r",
      " 59%|█████▉    | 592/1000 [00:15<00:10, 37.95it/s]"
     ]
    },
    {
     "name": "stdout",
     "output_type": "stream",
     "text": [
      "128/128 [==============================] - 0s 26us/step\n",
      "64/64 [==============================] - 0s 36us/step\n",
      "64/64 [==============================] - 0s 51us/step\n",
      "128/128 [==============================] - 0s 25us/step\n",
      "64/64 [==============================] - 0s 45us/step\n",
      "64/64 [==============================] - 0s 40us/step\n",
      "128/128 [==============================] - 0s 32us/step\n",
      "64/64 [==============================] - 0s 53us/step\n",
      "64/64 [==============================] - 0s 34us/step\n",
      "128/128 [==============================] - 0s 25us/step\n",
      "64/64 [==============================] - 0s 46us/step\n",
      "64/64 [==============================] - 0s 42us/step\n",
      "128/128 [==============================] - 0s 25us/step\n",
      "64/64 [==============================] - 0s 28us/step\n",
      "64/64 [==============================] - 0s 41us/step\n"
     ]
    },
    {
     "name": "stderr",
     "output_type": "stream",
     "text": [
      "\r",
      " 60%|█████▉    | 597/1000 [00:15<00:10, 37.99it/s]"
     ]
    },
    {
     "name": "stdout",
     "output_type": "stream",
     "text": [
      "128/128 [==============================] - 0s 24us/step\n",
      "64/64 [==============================] - 0s 34us/step\n",
      "64/64 [==============================] - 0s 59us/step\n",
      "128/128 [==============================] - 0s 34us/step\n",
      "64/64 [==============================] - 0s 33us/step\n",
      "64/64 [==============================] - 0s 29us/step\n",
      "128/128 [==============================] - 0s 29us/step\n",
      "64/64 [==============================] - 0s 42us/step\n",
      "64/64 [==============================] - 0s 63us/step\n",
      "128/128 [==============================] - 0s 32us/step\n",
      "64/64 [==============================] - 0s 39us/step\n",
      "64/64 [==============================] - 0s 34us/step\n",
      "128/128 [==============================] - 0s 24us/step\n",
      "64/64 [==============================] - 0s 29us/step\n",
      "64/64 [==============================] - 0s 55us/step\n"
     ]
    },
    {
     "name": "stderr",
     "output_type": "stream",
     "text": [
      "\r",
      " 60%|██████    | 602/1000 [00:15<00:10, 38.03it/s]"
     ]
    },
    {
     "name": "stdout",
     "output_type": "stream",
     "text": [
      "128/128 [==============================] - 0s 23us/step\n",
      "64/64 [==============================] - 0s 34us/step\n",
      "64/64 [==============================] - 0s 48us/step\n",
      "128/128 [==============================] - 0s 28us/step\n",
      "64/64 [==============================] - 0s 52us/step\n",
      "64/64 [==============================] - 0s 34us/step\n",
      "128/128 [==============================] - 0s 33us/step\n",
      "64/64 [==============================] - 0s 39us/step\n",
      "64/64 [==============================] - 0s 34us/step\n",
      "128/128 [==============================] - 0s 25us/step\n",
      "64/64 [==============================] - 0s 34us/step\n",
      "64/64 [==============================] - 0s 60us/step\n",
      "128/128 [==============================] - 0s 30us/step\n",
      "64/64 [==============================] - 0s 45us/step\n",
      "64/64 [==============================] - 0s 51us/step\n"
     ]
    },
    {
     "name": "stderr",
     "output_type": "stream",
     "text": [
      "\r",
      " 61%|██████    | 607/1000 [00:15<00:10, 38.07it/s]"
     ]
    },
    {
     "name": "stdout",
     "output_type": "stream",
     "text": [
      "128/128 [==============================] - 0s 24us/step\n",
      "64/64 [==============================] - 0s 29us/step\n",
      "64/64 [==============================] - 0s 43us/step\n",
      "128/128 [==============================] - 0s 23us/step\n",
      "64/64 [==============================] - 0s 29us/step\n",
      "64/64 [==============================] - 0s 62us/step\n",
      "128/128 [==============================] - 0s 31us/step\n",
      "64/64 [==============================] - 0s 41us/step\n",
      "64/64 [==============================] - 0s 57us/step\n",
      "128/128 [==============================] - 0s 35us/step\n",
      "64/64 [==============================] - 0s 31us/step\n",
      "64/64 [==============================] - 0s 34us/step\n",
      "128/128 [==============================] - 0s 32us/step\n",
      "64/64 [==============================] - 0s 45us/step\n",
      "64/64 [==============================] - 0s 33us/step\n"
     ]
    },
    {
     "name": "stderr",
     "output_type": "stream",
     "text": [
      "\r",
      " 61%|██████    | 612/1000 [00:16<00:10, 38.12it/s]"
     ]
    },
    {
     "name": "stdout",
     "output_type": "stream",
     "text": [
      "128/128 [==============================] - 0s 36us/step\n",
      "64/64 [==============================] - 0s 33us/step\n",
      "64/64 [==============================] - 0s 42us/step\n",
      "128/128 [==============================] - 0s 24us/step\n",
      "64/64 [==============================] - 0s 52us/step\n",
      "64/64 [==============================] - 0s 60us/step\n",
      "128/128 [==============================] - 0s 27us/step\n",
      "64/64 [==============================] - 0s 44us/step\n",
      "64/64 [==============================] - 0s 50us/step\n",
      "128/128 [==============================] - 0s 25us/step\n",
      "64/64 [==============================] - 0s 28us/step\n",
      "64/64 [==============================] - 0s 45us/step\n",
      "128/128 [==============================] - 0s 24us/step\n",
      "64/64 [==============================] - 0s 59us/step\n",
      "64/64 [==============================] - 0s 51us/step\n"
     ]
    },
    {
     "name": "stderr",
     "output_type": "stream",
     "text": [
      "\r",
      " 62%|██████▏   | 617/1000 [00:16<00:10, 38.15it/s]"
     ]
    },
    {
     "name": "stdout",
     "output_type": "stream",
     "text": [
      "128/128 [==============================] - 0s 25us/step\n",
      "64/64 [==============================] - 0s 28us/step\n",
      "64/64 [==============================] - 0s 41us/step\n",
      "128/128 [==============================] - 0s 29us/step\n",
      "64/64 [==============================] - 0s 65us/step\n",
      "64/64 [==============================] - 0s 44us/step\n",
      "128/128 [==============================] - 0s 30us/step\n",
      "64/64 [==============================] - 0s 31us/step\n",
      "64/64 [==============================] - 0s 27us/step\n",
      "128/128 [==============================] - 0s 29us/step\n",
      "64/64 [==============================] - 0s 45us/step\n",
      "64/64 [==============================] - 0s 32us/step\n",
      "128/128 [==============================] - 0s 30us/step\n",
      "64/64 [==============================] - 0s 59us/step\n",
      "64/64 [==============================] - 0s 34us/step\n"
     ]
    },
    {
     "name": "stderr",
     "output_type": "stream",
     "text": [
      "\r",
      " 62%|██████▏   | 622/1000 [00:16<00:09, 38.18it/s]"
     ]
    },
    {
     "name": "stdout",
     "output_type": "stream",
     "text": [
      "128/128 [==============================] - 0s 27us/step\n",
      "64/64 [==============================] - 0s 32us/step\n",
      "64/64 [==============================] - 0s 41us/step\n",
      "128/128 [==============================] - 0s 24us/step\n",
      "64/64 [==============================] - 0s 37us/step\n",
      "64/64 [==============================] - 0s 41us/step\n",
      "128/128 [==============================] - 0s 39us/step\n",
      "64/64 [==============================] - 0s 43us/step\n",
      "64/64 [==============================] - 0s 41us/step\n",
      "128/128 [==============================] - 0s 31us/step\n",
      "64/64 [==============================] - 0s 43us/step\n",
      "64/64 [==============================] - 0s 47us/step\n",
      "128/128 [==============================] - 0s 32us/step\n",
      "64/64 [==============================] - 0s 30us/step\n",
      "64/64 [==============================] - 0s 31us/step\n"
     ]
    },
    {
     "name": "stderr",
     "output_type": "stream",
     "text": [
      "\r",
      " 63%|██████▎   | 627/1000 [00:16<00:09, 38.21it/s]"
     ]
    },
    {
     "name": "stdout",
     "output_type": "stream",
     "text": [
      "128/128 [==============================] - 0s 34us/step\n",
      "64/64 [==============================] - 0s 34us/step\n",
      "64/64 [==============================] - 0s 91us/step\n",
      "128/128 [==============================] - 0s 33us/step\n",
      "64/64 [==============================] - 0s 37us/step\n",
      "64/64 [==============================] - 0s 41us/step\n",
      "128/128 [==============================] - 0s 35us/step\n",
      "64/64 [==============================] - 0s 29us/step\n",
      "64/64 [==============================] - 0s 105us/step\n",
      "128/128 [==============================] - 0s 37us/step\n",
      "64/64 [==============================] - 0s 48us/step\n",
      "64/64 [==============================] - 0s 44us/step\n",
      "128/128 [==============================] - 0s 29us/step\n",
      "64/64 [==============================] - 0s 33us/step\n",
      "64/64 [==============================] - 0s 46us/step\n"
     ]
    },
    {
     "name": "stderr",
     "output_type": "stream",
     "text": [
      "\r",
      " 63%|██████▎   | 632/1000 [00:16<00:09, 38.23it/s]"
     ]
    },
    {
     "name": "stdout",
     "output_type": "stream",
     "text": [
      "128/128 [==============================] - 0s 28us/step\n",
      "64/64 [==============================] - 0s 51us/step\n",
      "64/64 [==============================] - 0s 43us/step\n",
      "128/128 [==============================] - 0s 24us/step\n",
      "64/64 [==============================] - 0s 33us/step\n",
      "64/64 [==============================] - 0s 52us/step\n",
      "128/128 [==============================] - 0s 26us/step\n",
      "64/64 [==============================] - 0s 54us/step\n",
      "64/64 [==============================] - 0s 46us/step\n",
      "128/128 [==============================] - 0s 30us/step\n",
      "64/64 [==============================] - 0s 31us/step\n",
      "64/64 [==============================] - 0s 29us/step\n",
      "128/128 [==============================] - 0s 31us/step\n",
      "64/64 [==============================] - 0s 39us/step\n",
      "64/64 [==============================] - 0s 42us/step\n"
     ]
    },
    {
     "name": "stderr",
     "output_type": "stream",
     "text": [
      "\r",
      " 64%|██████▎   | 637/1000 [00:16<00:09, 38.26it/s]"
     ]
    },
    {
     "name": "stdout",
     "output_type": "stream",
     "text": [
      "128/128 [==============================] - 0s 25us/step\n",
      "64/64 [==============================] - 0s 46us/step\n",
      "64/64 [==============================] - 0s 60us/step\n",
      "128/128 [==============================] - 0s 33us/step\n",
      "64/64 [==============================] - 0s 48us/step\n",
      "64/64 [==============================] - 0s 39us/step\n",
      "128/128 [==============================] - 0s 26us/step\n",
      "64/64 [==============================] - 0s 50us/step\n",
      "64/64 [==============================] - 0s 48us/step\n",
      "128/128 [==============================] - 0s 27us/step\n",
      "64/64 [==============================] - 0s 48us/step\n",
      "64/64 [==============================] - 0s 32us/step\n",
      "128/128 [==============================] - 0s 26us/step\n",
      "64/64 [==============================] - 0s 46us/step\n",
      "64/64 [==============================] - 0s 29us/step\n"
     ]
    },
    {
     "name": "stderr",
     "output_type": "stream",
     "text": [
      "\r",
      " 64%|██████▍   | 642/1000 [00:16<00:09, 38.30it/s]"
     ]
    },
    {
     "name": "stdout",
     "output_type": "stream",
     "text": [
      "128/128 [==============================] - 0s 29us/step\n",
      "64/64 [==============================] - 0s 80us/step\n",
      "64/64 [==============================] - 0s 45us/step\n",
      "128/128 [==============================] - 0s 33us/step\n",
      "64/64 [==============================] - 0s 39us/step\n",
      "64/64 [==============================] - 0s 50us/step\n",
      "128/128 [==============================] - 0s 24us/step\n",
      "64/64 [==============================] - 0s 34us/step\n",
      "64/64 [==============================] - 0s 45us/step\n",
      "128/128 [==============================] - 0s 26us/step\n",
      "64/64 [==============================] - 0s 60us/step\n",
      "64/64 [==============================] - 0s 66us/step\n",
      "128/128 [==============================] - 0s 33us/step\n",
      "64/64 [==============================] - 0s 58us/step\n",
      "64/64 [==============================] - 0s 47us/step\n"
     ]
    },
    {
     "name": "stderr",
     "output_type": "stream",
     "text": [
      "\r",
      " 65%|██████▍   | 647/1000 [00:16<00:09, 38.32it/s]"
     ]
    },
    {
     "name": "stdout",
     "output_type": "stream",
     "text": [
      "128/128 [==============================] - 0s 63us/step\n",
      "64/64 [==============================] - 0s 29us/step\n",
      "64/64 [==============================] - 0s 56us/step\n",
      "128/128 [==============================] - 0s 31us/step\n",
      "64/64 [==============================] - 0s 54us/step\n",
      "64/64 [==============================] - 0s 51us/step\n",
      "128/128 [==============================] - 0s 30us/step\n",
      "64/64 [==============================] - 0s 31us/step\n",
      "64/64 [==============================] - 0s 29us/step\n",
      "128/128 [==============================] - 0s 31us/step\n",
      "64/64 [==============================] - 0s 46us/step\n",
      "64/64 [==============================] - 0s 35us/step\n",
      "128/128 [==============================] - 0s 26us/step\n",
      "64/64 [==============================] - 0s 51us/step\n",
      "64/64 [==============================] - 0s 44us/step\n"
     ]
    },
    {
     "name": "stderr",
     "output_type": "stream",
     "text": [
      "\r",
      " 65%|██████▌   | 652/1000 [00:17<00:09, 38.34it/s]"
     ]
    },
    {
     "name": "stdout",
     "output_type": "stream",
     "text": [
      "128/128 [==============================] - 0s 37us/step\n",
      "64/64 [==============================] - 0s 27us/step\n",
      "64/64 [==============================] - 0s 43us/step\n",
      "128/128 [==============================] - 0s 31us/step\n",
      "64/64 [==============================] - 0s 33us/step\n",
      "64/64 [==============================] - 0s 51us/step\n",
      "128/128 [==============================] - 0s 33us/step\n",
      "64/64 [==============================] - 0s 36us/step\n",
      "64/64 [==============================] - 0s 48us/step\n",
      "128/128 [==============================] - 0s 32us/step\n",
      "64/64 [==============================] - 0s 26us/step\n",
      "64/64 [==============================] - 0s 43us/step\n",
      "128/128 [==============================] - 0s 27us/step\n",
      "64/64 [==============================] - 0s 48us/step\n",
      "64/64 [==============================] - 0s 54us/step\n"
     ]
    },
    {
     "name": "stderr",
     "output_type": "stream",
     "text": [
      "\r",
      " 66%|██████▌   | 657/1000 [00:17<00:08, 38.37it/s]"
     ]
    },
    {
     "name": "stdout",
     "output_type": "stream",
     "text": [
      "128/128 [==============================] - 0s 33us/step\n",
      "64/64 [==============================] - 0s 31us/step\n",
      "64/64 [==============================] - 0s 33us/step\n",
      "128/128 [==============================] - 0s 25us/step\n",
      "64/64 [==============================] - 0s 45us/step\n",
      "64/64 [==============================] - 0s 53us/step\n",
      "128/128 [==============================] - 0s 34us/step\n",
      "64/64 [==============================] - 0s 30us/step\n",
      "64/64 [==============================] - 0s 29us/step\n",
      "128/128 [==============================] - 0s 27us/step\n",
      "64/64 [==============================] - 0s 26us/step\n",
      "64/64 [==============================] - 0s 29us/step\n",
      "128/128 [==============================] - 0s 23us/step\n",
      "64/64 [==============================] - 0s 41us/step\n",
      "64/64 [==============================] - 0s 58us/step\n"
     ]
    },
    {
     "name": "stderr",
     "output_type": "stream",
     "text": [
      "\r",
      " 66%|██████▌   | 662/1000 [00:17<00:08, 38.41it/s]"
     ]
    },
    {
     "name": "stdout",
     "output_type": "stream",
     "text": [
      "128/128 [==============================] - 0s 25us/step\n",
      "64/64 [==============================] - 0s 52us/step\n",
      "64/64 [==============================] - 0s 42us/step\n",
      "128/128 [==============================] - 0s 26us/step\n",
      "64/64 [==============================] - 0s 43us/step\n",
      "64/64 [==============================] - 0s 105us/step\n",
      "128/128 [==============================] - 0s 34us/step\n",
      "64/64 [==============================] - 0s 40us/step\n",
      "64/64 [==============================] - 0s 46us/step\n",
      "128/128 [==============================] - 0s 31us/step\n",
      "64/64 [==============================] - 0s 63us/step\n",
      "64/64 [==============================] - 0s 58us/step\n",
      "128/128 [==============================] - 0s 25us/step\n",
      "64/64 [==============================] - 0s 37us/step\n",
      "64/64 [==============================] - 0s 30us/step\n"
     ]
    },
    {
     "name": "stderr",
     "output_type": "stream",
     "text": [
      "\r",
      " 67%|██████▋   | 667/1000 [00:17<00:08, 38.43it/s]"
     ]
    },
    {
     "name": "stdout",
     "output_type": "stream",
     "text": [
      "128/128 [==============================] - 0s 35us/step\n",
      "64/64 [==============================] - 0s 29us/step\n",
      "64/64 [==============================] - 0s 46us/step\n",
      "128/128 [==============================] - 0s 23us/step\n",
      "64/64 [==============================] - 0s 57us/step\n",
      "64/64 [==============================] - 0s 41us/step\n",
      "128/128 [==============================] - 0s 26us/step\n",
      "64/64 [==============================] - 0s 33us/step\n",
      "64/64 [==============================] - 0s 32us/step\n",
      "128/128 [==============================] - 0s 34us/step\n",
      "64/64 [==============================] - 0s 30us/step\n",
      "64/64 [==============================] - 0s 42us/step\n",
      "128/128 [==============================] - 0s 27us/step\n",
      "64/64 [==============================] - 0s 50us/step\n",
      "64/64 [==============================] - 0s 39us/step\n"
     ]
    },
    {
     "name": "stderr",
     "output_type": "stream",
     "text": [
      "\r",
      " 67%|██████▋   | 672/1000 [00:17<00:08, 38.46it/s]"
     ]
    },
    {
     "name": "stdout",
     "output_type": "stream",
     "text": [
      "128/128 [==============================] - 0s 25us/step\n",
      "64/64 [==============================] - 0s 45us/step\n",
      "64/64 [==============================] - 0s 35us/step\n",
      "128/128 [==============================] - 0s 30us/step\n",
      "64/64 [==============================] - 0s 59us/step\n",
      "64/64 [==============================] - 0s 39us/step\n",
      "128/128 [==============================] - 0s 27us/step\n",
      "64/64 [==============================] - 0s 34us/step\n",
      "64/64 [==============================] - 0s 39us/step\n",
      "128/128 [==============================] - 0s 29us/step\n",
      "64/64 [==============================] - 0s 33us/step\n",
      "64/64 [==============================] - 0s 41us/step\n",
      "128/128 [==============================] - 0s 34us/step\n",
      "64/64 [==============================] - 0s 27us/step\n",
      "64/64 [==============================] - 0s 47us/step\n"
     ]
    },
    {
     "name": "stderr",
     "output_type": "stream",
     "text": [
      "\r",
      " 68%|██████▊   | 677/1000 [00:17<00:08, 38.50it/s]"
     ]
    },
    {
     "name": "stdout",
     "output_type": "stream",
     "text": [
      "128/128 [==============================] - 0s 24us/step\n",
      "64/64 [==============================] - 0s 30us/step\n",
      "64/64 [==============================] - 0s 38us/step\n",
      "128/128 [==============================] - 0s 26us/step\n",
      "64/64 [==============================] - 0s 34us/step\n",
      "64/64 [==============================] - 0s 48us/step\n",
      "128/128 [==============================] - 0s 33us/step\n",
      "64/64 [==============================] - 0s 47us/step\n",
      "64/64 [==============================] - 0s 42us/step\n",
      "128/128 [==============================] - 0s 57us/step\n",
      "64/64 [==============================] - 0s 56us/step\n",
      "64/64 [==============================] - 0s 49us/step\n",
      "128/128 [==============================] - 0s 22us/step\n",
      "64/64 [==============================] - 0s 32us/step\n",
      "64/64 [==============================] - 0s 47us/step\n"
     ]
    },
    {
     "name": "stderr",
     "output_type": "stream",
     "text": [
      "\r",
      " 68%|██████▊   | 682/1000 [00:17<00:08, 38.53it/s]"
     ]
    },
    {
     "name": "stdout",
     "output_type": "stream",
     "text": [
      "128/128 [==============================] - 0s 22us/step\n",
      "64/64 [==============================] - 0s 44us/step\n",
      "64/64 [==============================] - 0s 40us/step\n",
      "128/128 [==============================] - 0s 35us/step\n",
      "64/64 [==============================] - 0s 56us/step\n",
      "64/64 [==============================] - 0s 29us/step\n",
      "128/128 [==============================] - 0s 24us/step\n",
      "64/64 [==============================] - 0s 31us/step\n",
      "64/64 [==============================] - 0s 29us/step\n",
      "128/128 [==============================] - 0s 26us/step\n",
      "64/64 [==============================] - 0s 35us/step\n",
      "64/64 [==============================] - 0s 33us/step\n",
      "128/128 [==============================] - 0s 35us/step\n",
      "64/64 [==============================] - 0s 41us/step\n",
      "64/64 [==============================] - 0s 38us/step\n"
     ]
    },
    {
     "name": "stderr",
     "output_type": "stream",
     "text": [
      "\r",
      " 69%|██████▊   | 687/1000 [00:17<00:08, 38.57it/s]"
     ]
    },
    {
     "name": "stdout",
     "output_type": "stream",
     "text": [
      "128/128 [==============================] - 0s 23us/step\n",
      "64/64 [==============================] - 0s 27us/step\n",
      "64/64 [==============================] - 0s 33us/step\n",
      "128/128 [==============================] - 0s 25us/step\n",
      "64/64 [==============================] - 0s 47us/step\n",
      "64/64 [==============================] - 0s 48us/step\n",
      "128/128 [==============================] - 0s 26us/step\n",
      "64/64 [==============================] - 0s 35us/step\n",
      "64/64 [==============================] - 0s 32us/step\n",
      "128/128 [==============================] - 0s 26us/step\n",
      "64/64 [==============================] - 0s 29us/step\n",
      "64/64 [==============================] - 0s 44us/step\n",
      "128/128 [==============================] - 0s 23us/step\n",
      "64/64 [==============================] - 0s 75us/step\n",
      "64/64 [==============================] - 0s 48us/step\n"
     ]
    },
    {
     "name": "stderr",
     "output_type": "stream",
     "text": [
      "\r",
      " 69%|██████▉   | 692/1000 [00:17<00:07, 38.61it/s]"
     ]
    },
    {
     "name": "stdout",
     "output_type": "stream",
     "text": [
      "128/128 [==============================] - 0s 27us/step\n",
      "64/64 [==============================] - 0s 32us/step\n",
      "64/64 [==============================] - 0s 42us/step\n",
      "128/128 [==============================] - 0s 35us/step\n",
      "64/64 [==============================] - 0s 35us/step\n",
      "64/64 [==============================] - 0s 48us/step\n",
      "128/128 [==============================] - 0s 27us/step\n",
      "64/64 [==============================] - 0s 50us/step\n",
      "64/64 [==============================] - 0s 41us/step\n",
      "128/128 [==============================] - 0s 26us/step\n",
      "64/64 [==============================] - 0s 31us/step\n",
      "64/64 [==============================] - 0s 44us/step\n",
      "128/128 [==============================] - 0s 26us/step\n",
      "64/64 [==============================] - 0s 43us/step\n",
      "64/64 [==============================] - 0s 56us/step\n"
     ]
    },
    {
     "name": "stderr",
     "output_type": "stream",
     "text": [
      "\r",
      " 70%|██████▉   | 697/1000 [00:18<00:07, 38.64it/s]"
     ]
    },
    {
     "name": "stdout",
     "output_type": "stream",
     "text": [
      "128/128 [==============================] - 0s 35us/step\n",
      "64/64 [==============================] - 0s 30us/step\n",
      "64/64 [==============================] - 0s 44us/step\n",
      "128/128 [==============================] - 0s 23us/step\n",
      "64/64 [==============================] - 0s 26us/step\n",
      "64/64 [==============================] - 0s 93us/step\n",
      "128/128 [==============================] - 0s 27us/step\n",
      "64/64 [==============================] - 0s 34us/step\n",
      "64/64 [==============================] - 0s 43us/step\n",
      "128/128 [==============================] - 0s 25us/step\n",
      "64/64 [==============================] - 0s 46us/step\n",
      "64/64 [==============================] - 0s 48us/step\n",
      "128/128 [==============================] - 0s 25us/step\n",
      "64/64 [==============================] - 0s 43us/step\n",
      "64/64 [==============================] - 0s 40us/step\n"
     ]
    },
    {
     "name": "stderr",
     "output_type": "stream",
     "text": [
      "\r",
      " 70%|███████   | 702/1000 [00:18<00:07, 38.67it/s]"
     ]
    },
    {
     "name": "stdout",
     "output_type": "stream",
     "text": [
      "128/128 [==============================] - 0s 32us/step\n",
      "64/64 [==============================] - 0s 33us/step\n",
      "64/64 [==============================] - 0s 40us/step\n",
      "128/128 [==============================] - 0s 26us/step\n",
      "64/64 [==============================] - 0s 30us/step\n",
      "64/64 [==============================] - 0s 33us/step\n",
      "128/128 [==============================] - 0s 25us/step\n",
      "64/64 [==============================] - 0s 48us/step\n",
      "64/64 [==============================] - 0s 45us/step\n",
      "128/128 [==============================] - 0s 34us/step\n",
      "64/64 [==============================] - 0s 61us/step\n",
      "64/64 [==============================] - 0s 46us/step\n",
      "128/128 [==============================] - 0s 24us/step\n",
      "64/64 [==============================] - 0s 33us/step\n",
      "64/64 [==============================] - 0s 48us/step\n"
     ]
    },
    {
     "name": "stderr",
     "output_type": "stream",
     "text": [
      "\r",
      " 71%|███████   | 707/1000 [00:18<00:07, 38.71it/s]"
     ]
    },
    {
     "name": "stdout",
     "output_type": "stream",
     "text": [
      "128/128 [==============================] - 0s 55us/step\n",
      "64/64 [==============================] - 0s 29us/step\n",
      "64/64 [==============================] - 0s 42us/step\n",
      "128/128 [==============================] - 0s 30us/step\n",
      "64/64 [==============================] - 0s 27us/step\n",
      "64/64 [==============================] - 0s 98us/step\n",
      "128/128 [==============================] - 0s 26us/step\n",
      "64/64 [==============================] - 0s 29us/step\n",
      "64/64 [==============================] - 0s 38us/step\n",
      "128/128 [==============================] - 0s 34us/step\n",
      "64/64 [==============================] - 0s 31us/step\n",
      "64/64 [==============================] - 0s 48us/step\n",
      "128/128 [==============================] - 0s 33us/step\n",
      "64/64 [==============================] - 0s 52us/step\n",
      "64/64 [==============================] - 0s 33us/step\n"
     ]
    },
    {
     "name": "stderr",
     "output_type": "stream",
     "text": [
      "\r",
      " 71%|███████   | 712/1000 [00:18<00:07, 38.72it/s]"
     ]
    },
    {
     "name": "stdout",
     "output_type": "stream",
     "text": [
      "128/128 [==============================] - 0s 27us/step\n",
      "64/64 [==============================] - 0s 36us/step\n",
      "64/64 [==============================] - 0s 36us/step\n",
      "128/128 [==============================] - 0s 30us/step\n",
      "64/64 [==============================] - 0s 35us/step\n",
      "64/64 [==============================] - 0s 43us/step\n",
      "128/128 [==============================] - 0s 57us/step\n",
      "64/64 [==============================] - 0s 41us/step\n",
      "64/64 [==============================] - 0s 35us/step\n",
      "128/128 [==============================] - 0s 34us/step\n",
      "64/64 [==============================] - 0s 42us/step\n",
      "64/64 [==============================] - 0s 46us/step\n",
      "128/128 [==============================] - 0s 35us/step\n",
      "64/64 [==============================] - 0s 29us/step\n",
      "64/64 [==============================] - 0s 30us/step\n"
     ]
    },
    {
     "name": "stderr",
     "output_type": "stream",
     "text": [
      "\r",
      " 72%|███████▏  | 717/1000 [00:18<00:07, 38.75it/s]"
     ]
    },
    {
     "name": "stdout",
     "output_type": "stream",
     "text": [
      "128/128 [==============================] - 0s 33us/step\n",
      "64/64 [==============================] - 0s 51us/step\n",
      "64/64 [==============================] - 0s 44us/step\n",
      "128/128 [==============================] - 0s 33us/step\n",
      "64/64 [==============================] - 0s 50us/step\n",
      "64/64 [==============================] - 0s 43us/step\n",
      "128/128 [==============================] - 0s 37us/step\n",
      "64/64 [==============================] - 0s 28us/step\n",
      "64/64 [==============================] - 0s 49us/step\n",
      "128/128 [==============================] - 0s 23us/step\n",
      "64/64 [==============================] - 0s 55us/step\n",
      "64/64 [==============================] - 0s 33us/step\n",
      "128/128 [==============================] - 0s 30us/step\n",
      "64/64 [==============================] - 0s 45us/step\n",
      "64/64 [==============================] - 0s 34us/step\n"
     ]
    },
    {
     "name": "stderr",
     "output_type": "stream",
     "text": [
      "\r",
      " 72%|███████▏  | 722/1000 [00:18<00:07, 38.78it/s]"
     ]
    },
    {
     "name": "stdout",
     "output_type": "stream",
     "text": [
      "128/128 [==============================] - 0s 27us/step\n",
      "64/64 [==============================] - 0s 33us/step\n",
      "64/64 [==============================] - 0s 42us/step\n",
      "128/128 [==============================] - 0s 28us/step\n",
      "64/64 [==============================] - 0s 33us/step\n",
      "64/64 [==============================] - 0s 28us/step\n",
      "128/128 [==============================] - 0s 24us/step\n",
      "64/64 [==============================] - 0s 32us/step\n",
      "64/64 [==============================] - 0s 45us/step\n",
      "128/128 [==============================] - 0s 36us/step\n",
      "64/64 [==============================] - 0s 30us/step\n",
      "64/64 [==============================] - 0s 46us/step\n",
      "128/128 [==============================] - 0s 25us/step\n",
      "64/64 [==============================] - 0s 26us/step\n",
      "64/64 [==============================] - 0s 32us/step\n"
     ]
    },
    {
     "name": "stderr",
     "output_type": "stream",
     "text": [
      "\r",
      " 73%|███████▎  | 727/1000 [00:18<00:07, 38.82it/s]"
     ]
    },
    {
     "name": "stdout",
     "output_type": "stream",
     "text": [
      "128/128 [==============================] - 0s 31us/step\n",
      "64/64 [==============================] - 0s 60us/step\n",
      "64/64 [==============================] - 0s 51us/step\n",
      "128/128 [==============================] - 0s 28us/step\n",
      "64/64 [==============================] - 0s 25us/step\n",
      "64/64 [==============================] - 0s 50us/step\n",
      "128/128 [==============================] - 0s 36us/step\n",
      "64/64 [==============================] - 0s 30us/step\n",
      "64/64 [==============================] - 0s 30us/step\n",
      "128/128 [==============================] - 0s 24us/step\n",
      "64/64 [==============================] - 0s 93us/step\n",
      "64/64 [==============================] - 0s 45us/step\n",
      "128/128 [==============================] - 0s 24us/step\n",
      "64/64 [==============================] - 0s 35us/step\n",
      "64/64 [==============================] - 0s 47us/step\n"
     ]
    },
    {
     "name": "stderr",
     "output_type": "stream",
     "text": [
      "\r",
      " 73%|███████▎  | 732/1000 [00:18<00:06, 38.84it/s]"
     ]
    },
    {
     "name": "stdout",
     "output_type": "stream",
     "text": [
      "128/128 [==============================] - 0s 36us/step\n",
      "64/64 [==============================] - 0s 34us/step\n",
      "64/64 [==============================] - 0s 33us/step\n",
      "128/128 [==============================] - 0s 29us/step\n",
      "64/64 [==============================] - 0s 46us/step\n",
      "64/64 [==============================] - 0s 51us/step\n",
      "128/128 [==============================] - 0s 23us/step\n",
      "64/64 [==============================] - 0s 43us/step\n",
      "64/64 [==============================] - 0s 43us/step\n",
      "128/128 [==============================] - 0s 32us/step\n",
      "64/64 [==============================] - 0s 88us/step\n",
      "64/64 [==============================] - 0s 31us/step\n",
      "128/128 [==============================] - 0s 31us/step\n",
      "64/64 [==============================] - 0s 46us/step\n",
      "64/64 [==============================] - 0s 40us/step\n"
     ]
    },
    {
     "name": "stderr",
     "output_type": "stream",
     "text": [
      "\r",
      " 74%|███████▎  | 737/1000 [00:18<00:06, 38.87it/s]"
     ]
    },
    {
     "name": "stdout",
     "output_type": "stream",
     "text": [
      "128/128 [==============================] - 0s 23us/step\n",
      "64/64 [==============================] - 0s 59us/step\n",
      "64/64 [==============================] - 0s 62us/step\n",
      "128/128 [==============================] - 0s 25us/step\n",
      "64/64 [==============================] - 0s 27us/step\n",
      "64/64 [==============================] - 0s 52us/step\n",
      "128/128 [==============================] - 0s 27us/step\n",
      "64/64 [==============================] - 0s 44us/step\n",
      "64/64 [==============================] - 0s 57us/step\n",
      "128/128 [==============================] - 0s 24us/step\n",
      "64/64 [==============================] - 0s 57us/step\n",
      "64/64 [==============================] - 0s 41us/step\n",
      "128/128 [==============================] - 0s 31us/step\n",
      "64/64 [==============================] - 0s 30us/step\n",
      "64/64 [==============================] - 0s 31us/step\n"
     ]
    },
    {
     "name": "stderr",
     "output_type": "stream",
     "text": [
      "\r",
      " 74%|███████▍  | 742/1000 [00:19<00:06, 38.89it/s]"
     ]
    },
    {
     "name": "stdout",
     "output_type": "stream",
     "text": [
      "128/128 [==============================] - 0s 26us/step\n",
      "64/64 [==============================] - 0s 30us/step\n",
      "64/64 [==============================] - 0s 45us/step\n",
      "128/128 [==============================] - 0s 24us/step\n",
      "64/64 [==============================] - 0s 47us/step\n",
      "64/64 [==============================] - 0s 32us/step\n",
      "128/128 [==============================] - 0s 26us/step\n",
      "64/64 [==============================] - 0s 41us/step\n",
      "64/64 [==============================] - 0s 46us/step\n",
      "128/128 [==============================] - 0s 25us/step\n",
      "64/64 [==============================] - 0s 56us/step\n",
      "64/64 [==============================] - 0s 46us/step\n",
      "128/128 [==============================] - 0s 23us/step\n",
      "64/64 [==============================] - 0s 33us/step\n",
      "64/64 [==============================] - 0s 55us/step\n"
     ]
    },
    {
     "name": "stderr",
     "output_type": "stream",
     "text": [
      "\r",
      " 75%|███████▍  | 747/1000 [00:19<00:06, 38.92it/s]"
     ]
    },
    {
     "name": "stdout",
     "output_type": "stream",
     "text": [
      "128/128 [==============================] - 0s 34us/step\n",
      "64/64 [==============================] - 0s 30us/step\n",
      "64/64 [==============================] - 0s 100us/step\n",
      "128/128 [==============================] - 0s 26us/step\n",
      "64/64 [==============================] - 0s 34us/step\n",
      "64/64 [==============================] - 0s 44us/step\n",
      "128/128 [==============================] - 0s 34us/step\n",
      "64/64 [==============================] - 0s 46us/step\n",
      "64/64 [==============================] - 0s 44us/step\n",
      "128/128 [==============================] - 0s 30us/step\n",
      "64/64 [==============================] - 0s 84us/step\n",
      "64/64 [==============================] - 0s 42us/step\n",
      "128/128 [==============================] - 0s 22us/step\n",
      "64/64 [==============================] - 0s 44us/step\n",
      "64/64 [==============================] - 0s 50us/step\n"
     ]
    },
    {
     "name": "stderr",
     "output_type": "stream",
     "text": [
      "\r",
      " 75%|███████▌  | 752/1000 [00:19<00:06, 38.94it/s]"
     ]
    },
    {
     "name": "stdout",
     "output_type": "stream",
     "text": [
      "128/128 [==============================] - 0s 34us/step\n",
      "64/64 [==============================] - 0s 36us/step\n",
      "64/64 [==============================] - 0s 43us/step\n",
      "128/128 [==============================] - 0s 34us/step\n",
      "64/64 [==============================] - 0s 63us/step\n",
      "64/64 [==============================] - 0s 41us/step\n",
      "128/128 [==============================] - 0s 27us/step\n",
      "64/64 [==============================] - 0s 55us/step\n",
      "64/64 [==============================] - 0s 39us/step\n",
      "128/128 [==============================] - 0s 27us/step\n",
      "64/64 [==============================] - 0s 60us/step\n",
      "64/64 [==============================] - 0s 58us/step\n",
      "128/128 [==============================] - 0s 28us/step\n",
      "64/64 [==============================] - 0s 28us/step\n",
      "64/64 [==============================] - 0s 38us/step\n"
     ]
    },
    {
     "name": "stderr",
     "output_type": "stream",
     "text": [
      "\r",
      " 76%|███████▌  | 757/1000 [00:19<00:06, 38.96it/s]"
     ]
    },
    {
     "name": "stdout",
     "output_type": "stream",
     "text": [
      "128/128 [==============================] - 0s 31us/step\n",
      "64/64 [==============================] - 0s 39us/step\n",
      "64/64 [==============================] - 0s 48us/step\n",
      "128/128 [==============================] - 0s 24us/step\n",
      "64/64 [==============================] - 0s 38us/step\n",
      "64/64 [==============================] - 0s 34us/step\n",
      "128/128 [==============================] - 0s 26us/step\n",
      "64/64 [==============================] - 0s 37us/step\n",
      "64/64 [==============================] - 0s 52us/step\n",
      "128/128 [==============================] - 0s 30us/step\n",
      "64/64 [==============================] - 0s 34us/step\n",
      "64/64 [==============================] - 0s 43us/step\n",
      "128/128 [==============================] - 0s 26us/step\n",
      "64/64 [==============================] - 0s 32us/step\n",
      "64/64 [==============================] - 0s 37us/step\n"
     ]
    },
    {
     "name": "stderr",
     "output_type": "stream",
     "text": [
      "\r",
      " 76%|███████▌  | 762/1000 [00:19<00:06, 38.99it/s]"
     ]
    },
    {
     "name": "stdout",
     "output_type": "stream",
     "text": [
      "128/128 [==============================] - 0s 34us/step\n",
      "64/64 [==============================] - 0s 28us/step\n",
      "64/64 [==============================] - 0s 48us/step\n",
      "128/128 [==============================] - 0s 34us/step\n",
      "64/64 [==============================] - 0s 30us/step\n",
      "64/64 [==============================] - 0s 49us/step\n",
      "128/128 [==============================] - 0s 28us/step\n",
      "64/64 [==============================] - 0s 41us/step\n",
      "64/64 [==============================] - 0s 32us/step\n",
      "128/128 [==============================] - 0s 27us/step\n",
      "64/64 [==============================] - 0s 43us/step\n",
      "64/64 [==============================] - 0s 48us/step\n",
      "128/128 [==============================] - 0s 34us/step\n",
      "64/64 [==============================] - 0s 49us/step\n",
      "64/64 [==============================] - 0s 39us/step\n"
     ]
    },
    {
     "name": "stderr",
     "output_type": "stream",
     "text": [
      "\r",
      " 77%|███████▋  | 767/1000 [00:19<00:05, 39.02it/s]"
     ]
    },
    {
     "name": "stdout",
     "output_type": "stream",
     "text": [
      "128/128 [==============================] - 0s 30us/step\n",
      "64/64 [==============================] - 0s 50us/step\n",
      "64/64 [==============================] - 0s 35us/step\n",
      "128/128 [==============================] - 0s 31us/step\n",
      "64/64 [==============================] - 0s 58us/step\n",
      "64/64 [==============================] - 0s 50us/step\n",
      "128/128 [==============================] - 0s 24us/step\n",
      "64/64 [==============================] - 0s 34us/step\n",
      "64/64 [==============================] - 0s 45us/step\n",
      "128/128 [==============================] - 0s 28us/step\n",
      "64/64 [==============================] - 0s 38us/step\n",
      "64/64 [==============================] - 0s 42us/step\n",
      "128/128 [==============================] - 0s 25us/step\n",
      "64/64 [==============================] - 0s 45us/step\n",
      "64/64 [==============================] - 0s 30us/step\n"
     ]
    },
    {
     "name": "stderr",
     "output_type": "stream",
     "text": [
      "\r",
      " 77%|███████▋  | 772/1000 [00:19<00:05, 39.04it/s]"
     ]
    },
    {
     "name": "stdout",
     "output_type": "stream",
     "text": [
      "128/128 [==============================] - 0s 26us/step\n",
      "64/64 [==============================] - 0s 29us/step\n",
      "64/64 [==============================] - 0s 29us/step\n",
      "128/128 [==============================] - 0s 25us/step\n",
      "64/64 [==============================] - 0s 50us/step\n",
      "64/64 [==============================] - 0s 35us/step\n",
      "128/128 [==============================] - 0s 34us/step\n",
      "64/64 [==============================] - 0s 49us/step\n",
      "64/64 [==============================] - 0s 44us/step\n",
      "128/128 [==============================] - 0s 33us/step\n",
      "64/64 [==============================] - 0s 31us/step\n",
      "64/64 [==============================] - 0s 37us/step\n",
      "128/128 [==============================] - 0s 26us/step\n",
      "64/64 [==============================] - 0s 45us/step\n",
      "64/64 [==============================] - 0s 49us/step\n"
     ]
    },
    {
     "name": "stderr",
     "output_type": "stream",
     "text": [
      "\r",
      " 78%|███████▊  | 777/1000 [00:19<00:05, 39.07it/s]"
     ]
    },
    {
     "name": "stdout",
     "output_type": "stream",
     "text": [
      "128/128 [==============================] - 0s 26us/step\n",
      "64/64 [==============================] - 0s 40us/step\n",
      "64/64 [==============================] - 0s 38us/step\n",
      "128/128 [==============================] - 0s 29us/step\n",
      "64/64 [==============================] - 0s 36us/step\n",
      "64/64 [==============================] - 0s 34us/step\n",
      "128/128 [==============================] - 0s 25us/step\n",
      "64/64 [==============================] - 0s 30us/step\n",
      "64/64 [==============================] - 0s 43us/step\n",
      "128/128 [==============================] - 0s 26us/step\n",
      "64/64 [==============================] - 0s 44us/step\n",
      "64/64 [==============================] - 0s 47us/step\n",
      "128/128 [==============================] - 0s 25us/step\n",
      "64/64 [==============================] - 0s 53us/step\n",
      "64/64 [==============================] - 0s 51us/step\n"
     ]
    },
    {
     "name": "stderr",
     "output_type": "stream",
     "text": [
      "\r",
      " 78%|███████▊  | 782/1000 [00:20<00:05, 39.09it/s]"
     ]
    },
    {
     "name": "stdout",
     "output_type": "stream",
     "text": [
      "128/128 [==============================] - 0s 35us/step\n",
      "64/64 [==============================] - 0s 33us/step\n",
      "64/64 [==============================] - 0s 53us/step\n",
      "128/128 [==============================] - 0s 27us/step\n",
      "64/64 [==============================] - 0s 33us/step\n",
      "64/64 [==============================] - 0s 59us/step\n",
      "128/128 [==============================] - 0s 26us/step\n",
      "64/64 [==============================] - 0s 47us/step\n",
      "64/64 [==============================] - 0s 33us/step\n",
      "128/128 [==============================] - 0s 26us/step\n",
      "64/64 [==============================] - 0s 44us/step\n",
      "64/64 [==============================] - 0s 34us/step\n",
      "128/128 [==============================] - 0s 25us/step\n",
      "64/64 [==============================] - 0s 61us/step\n",
      "64/64 [==============================] - 0s 50us/step\n"
     ]
    },
    {
     "name": "stderr",
     "output_type": "stream",
     "text": [
      "\r",
      " 79%|███████▊  | 787/1000 [00:20<00:05, 39.12it/s]"
     ]
    },
    {
     "name": "stdout",
     "output_type": "stream",
     "text": [
      "128/128 [==============================] - 0s 31us/step\n",
      "64/64 [==============================] - 0s 45us/step\n",
      "64/64 [==============================] - 0s 45us/step\n",
      "128/128 [==============================] - 0s 32us/step\n",
      "64/64 [==============================] - 0s 29us/step\n",
      "64/64 [==============================] - 0s 53us/step\n",
      "128/128 [==============================] - 0s 49us/step\n",
      "64/64 [==============================] - 0s 36us/step\n",
      "64/64 [==============================] - 0s 26us/step\n",
      "128/128 [==============================] - 0s 32us/step\n",
      "64/64 [==============================] - 0s 27us/step\n",
      "64/64 [==============================] - 0s 31us/step\n",
      "128/128 [==============================] - 0s 31us/step\n",
      "64/64 [==============================] - 0s 25us/step\n",
      "64/64 [==============================] - 0s 32us/step\n"
     ]
    },
    {
     "name": "stderr",
     "output_type": "stream",
     "text": [
      "\r",
      " 79%|███████▉  | 792/1000 [00:20<00:05, 39.14it/s]"
     ]
    },
    {
     "name": "stdout",
     "output_type": "stream",
     "text": [
      "128/128 [==============================] - 0s 25us/step\n",
      "64/64 [==============================] - 0s 52us/step\n",
      "64/64 [==============================] - 0s 31us/step\n",
      "128/128 [==============================] - 0s 35us/step\n",
      "64/64 [==============================] - 0s 39us/step\n",
      "64/64 [==============================] - 0s 30us/step\n",
      "128/128 [==============================] - 0s 26us/step\n",
      "64/64 [==============================] - 0s 43us/step\n",
      "64/64 [==============================] - 0s 34us/step\n",
      "128/128 [==============================] - 0s 27us/step\n",
      "64/64 [==============================] - 0s 46us/step\n",
      "64/64 [==============================] - 0s 48us/step\n",
      "128/128 [==============================] - 0s 26us/step\n",
      "64/64 [==============================] - 0s 49us/step\n",
      "64/64 [==============================] - 0s 33us/step\n"
     ]
    },
    {
     "name": "stderr",
     "output_type": "stream",
     "text": [
      "\r",
      " 80%|███████▉  | 797/1000 [00:20<00:05, 39.17it/s]"
     ]
    },
    {
     "name": "stdout",
     "output_type": "stream",
     "text": [
      "128/128 [==============================] - 0s 25us/step\n",
      "64/64 [==============================] - 0s 102us/step\n",
      "64/64 [==============================] - 0s 61us/step\n",
      "128/128 [==============================] - 0s 30us/step\n",
      "64/64 [==============================] - 0s 30us/step\n",
      "64/64 [==============================] - 0s 54us/step\n",
      "128/128 [==============================] - 0s 36us/step\n",
      "64/64 [==============================] - 0s 46us/step\n",
      "64/64 [==============================] - 0s 43us/step\n",
      "128/128 [==============================] - 0s 30us/step\n",
      "64/64 [==============================] - 0s 33us/step\n",
      "64/64 [==============================] - 0s 30us/step\n",
      "128/128 [==============================] - 0s 35us/step\n",
      "64/64 [==============================] - 0s 51us/step\n",
      "64/64 [==============================] - 0s 34us/step\n"
     ]
    },
    {
     "name": "stderr",
     "output_type": "stream",
     "text": [
      "\r",
      " 80%|████████  | 802/1000 [00:20<00:05, 39.19it/s]"
     ]
    },
    {
     "name": "stdout",
     "output_type": "stream",
     "text": [
      "128/128 [==============================] - 0s 27us/step\n",
      "64/64 [==============================] - 0s 55us/step\n",
      "64/64 [==============================] - 0s 54us/step\n",
      "128/128 [==============================] - 0s 28us/step\n",
      "64/64 [==============================] - 0s 56us/step\n",
      "64/64 [==============================] - 0s 48us/step\n",
      "128/128 [==============================] - 0s 31us/step\n",
      "64/64 [==============================] - 0s 27us/step\n",
      "64/64 [==============================] - 0s 42us/step\n",
      "128/128 [==============================] - 0s 35us/step\n",
      "64/64 [==============================] - 0s 30us/step\n",
      "64/64 [==============================] - 0s 48us/step\n",
      "128/128 [==============================] - 0s 25us/step\n",
      "64/64 [==============================] - 0s 40us/step\n",
      "64/64 [==============================] - 0s 37us/step\n"
     ]
    },
    {
     "name": "stderr",
     "output_type": "stream",
     "text": [
      "\r",
      " 81%|████████  | 807/1000 [00:20<00:04, 39.21it/s]"
     ]
    },
    {
     "name": "stdout",
     "output_type": "stream",
     "text": [
      "128/128 [==============================] - 0s 23us/step\n",
      "64/64 [==============================] - 0s 36us/step\n",
      "64/64 [==============================] - 0s 46us/step\n",
      "128/128 [==============================] - 0s 36us/step\n",
      "64/64 [==============================] - 0s 61us/step\n",
      "64/64 [==============================] - 0s 28us/step\n",
      "128/128 [==============================] - 0s 27us/step\n",
      "64/64 [==============================] - 0s 30us/step\n",
      "64/64 [==============================] - 0s 39us/step\n",
      "128/128 [==============================] - 0s 25us/step\n",
      "64/64 [==============================] - 0s 32us/step\n",
      "64/64 [==============================] - 0s 55us/step\n",
      "128/128 [==============================] - 0s 30us/step\n",
      "64/64 [==============================] - 0s 51us/step\n",
      "64/64 [==============================] - 0s 32us/step\n"
     ]
    },
    {
     "name": "stderr",
     "output_type": "stream",
     "text": [
      "\r",
      " 81%|████████  | 812/1000 [00:20<00:04, 39.24it/s]"
     ]
    },
    {
     "name": "stdout",
     "output_type": "stream",
     "text": [
      "128/128 [==============================] - 0s 25us/step\n",
      "64/64 [==============================] - 0s 35us/step\n",
      "64/64 [==============================] - 0s 29us/step\n",
      "128/128 [==============================] - 0s 28us/step\n",
      "64/64 [==============================] - 0s 111us/step\n",
      "64/64 [==============================] - 0s 30us/step\n",
      "128/128 [==============================] - 0s 26us/step\n",
      "64/64 [==============================] - 0s 39us/step\n",
      "64/64 [==============================] - 0s 46us/step\n",
      "128/128 [==============================] - 0s 31us/step\n",
      "64/64 [==============================] - 0s 60us/step\n",
      "64/64 [==============================] - 0s 38us/step\n",
      "128/128 [==============================] - 0s 49us/step\n",
      "64/64 [==============================] - 0s 27us/step\n",
      "64/64 [==============================] - 0s 48us/step\n"
     ]
    },
    {
     "name": "stderr",
     "output_type": "stream",
     "text": [
      "\r",
      " 82%|████████▏ | 817/1000 [00:20<00:04, 39.26it/s]"
     ]
    },
    {
     "name": "stdout",
     "output_type": "stream",
     "text": [
      "128/128 [==============================] - 0s 26us/step\n",
      "64/64 [==============================] - 0s 46us/step\n",
      "64/64 [==============================] - 0s 61us/step\n",
      "128/128 [==============================] - 0s 35us/step\n",
      "64/64 [==============================] - 0s 48us/step\n",
      "64/64 [==============================] - 0s 58us/step\n",
      "128/128 [==============================] - 0s 33us/step\n",
      "64/64 [==============================] - 0s 40us/step\n",
      "64/64 [==============================] - 0s 56us/step\n",
      "128/128 [==============================] - 0s 27us/step\n",
      "64/64 [==============================] - 0s 52us/step\n",
      "64/64 [==============================] - 0s 30us/step\n",
      "128/128 [==============================] - 0s 25us/step\n",
      "64/64 [==============================] - 0s 39us/step\n",
      "64/64 [==============================] - 0s 54us/step\n"
     ]
    },
    {
     "name": "stderr",
     "output_type": "stream",
     "text": [
      "\r",
      " 82%|████████▏ | 822/1000 [00:20<00:04, 39.28it/s]"
     ]
    },
    {
     "name": "stdout",
     "output_type": "stream",
     "text": [
      "128/128 [==============================] - 0s 25us/step\n",
      "64/64 [==============================] - 0s 52us/step\n",
      "64/64 [==============================] - 0s 40us/step\n",
      "128/128 [==============================] - 0s 26us/step\n",
      "64/64 [==============================] - 0s 34us/step\n",
      "64/64 [==============================] - 0s 33us/step\n",
      "128/128 [==============================] - 0s 23us/step\n",
      "64/64 [==============================] - 0s 37us/step\n",
      "64/64 [==============================] - 0s 33us/step\n",
      "128/128 [==============================] - 0s 27us/step\n",
      "64/64 [==============================] - 0s 26us/step\n",
      "64/64 [==============================] - 0s 44us/step\n",
      "128/128 [==============================] - 0s 33us/step\n",
      "64/64 [==============================] - 0s 62us/step\n",
      "64/64 [==============================] - 0s 40us/step\n"
     ]
    },
    {
     "name": "stderr",
     "output_type": "stream",
     "text": [
      "\r",
      " 83%|████████▎ | 827/1000 [00:21<00:04, 39.31it/s]"
     ]
    },
    {
     "name": "stdout",
     "output_type": "stream",
     "text": [
      "128/128 [==============================] - 0s 26us/step\n",
      "64/64 [==============================] - 0s 27us/step\n",
      "64/64 [==============================] - 0s 37us/step\n",
      "128/128 [==============================] - 0s 28us/step\n",
      "64/64 [==============================] - 0s 40us/step\n",
      "64/64 [==============================] - 0s 47us/step\n",
      "128/128 [==============================] - 0s 27us/step\n",
      "64/64 [==============================] - 0s 32us/step\n",
      "64/64 [==============================] - 0s 45us/step\n",
      "128/128 [==============================] - 0s 26us/step\n",
      "64/64 [==============================] - 0s 41us/step\n",
      "64/64 [==============================] - 0s 32us/step\n",
      "128/128 [==============================] - 0s 34us/step\n",
      "64/64 [==============================] - 0s 41us/step\n",
      "64/64 [==============================] - 0s 47us/step\n"
     ]
    },
    {
     "name": "stderr",
     "output_type": "stream",
     "text": [
      "\r",
      " 83%|████████▎ | 832/1000 [00:21<00:04, 39.34it/s]"
     ]
    },
    {
     "name": "stdout",
     "output_type": "stream",
     "text": [
      "128/128 [==============================] - 0s 39us/step\n",
      "64/64 [==============================] - 0s 37us/step\n",
      "64/64 [==============================] - 0s 46us/step\n",
      "128/128 [==============================] - 0s 32us/step\n",
      "64/64 [==============================] - 0s 25us/step\n",
      "64/64 [==============================] - 0s 27us/step\n",
      "128/128 [==============================] - 0s 26us/step\n",
      "64/64 [==============================] - 0s 38us/step\n",
      "64/64 [==============================] - 0s 44us/step\n",
      "128/128 [==============================] - 0s 26us/step\n",
      "64/64 [==============================] - 0s 34us/step\n",
      "64/64 [==============================] - 0s 54us/step\n",
      "128/128 [==============================] - 0s 30us/step\n",
      "64/64 [==============================] - 0s 41us/step\n",
      "64/64 [==============================] - 0s 43us/step\n"
     ]
    },
    {
     "name": "stderr",
     "output_type": "stream",
     "text": [
      "\r",
      " 84%|████████▎ | 837/1000 [00:21<00:04, 39.36it/s]"
     ]
    },
    {
     "name": "stdout",
     "output_type": "stream",
     "text": [
      "128/128 [==============================] - 0s 36us/step\n",
      "64/64 [==============================] - 0s 43us/step\n",
      "64/64 [==============================] - 0s 32us/step\n",
      "128/128 [==============================] - 0s 27us/step\n",
      "64/64 [==============================] - 0s 52us/step\n",
      "64/64 [==============================] - 0s 36us/step\n",
      "128/128 [==============================] - 0s 22us/step\n",
      "64/64 [==============================] - 0s 33us/step\n",
      "64/64 [==============================] - 0s 51us/step\n",
      "128/128 [==============================] - 0s 29us/step\n",
      "64/64 [==============================] - 0s 33us/step\n",
      "64/64 [==============================] - 0s 31us/step\n",
      "128/128 [==============================] - 0s 35us/step\n",
      "64/64 [==============================] - 0s 27us/step\n",
      "64/64 [==============================] - 0s 32us/step\n"
     ]
    },
    {
     "name": "stderr",
     "output_type": "stream",
     "text": [
      "\r",
      " 84%|████████▍ | 842/1000 [00:21<00:04, 39.38it/s]"
     ]
    },
    {
     "name": "stdout",
     "output_type": "stream",
     "text": [
      "128/128 [==============================] - 0s 31us/step\n",
      "64/64 [==============================] - 0s 47us/step\n",
      "64/64 [==============================] - 0s 38us/step\n",
      "128/128 [==============================] - 0s 26us/step\n",
      "64/64 [==============================] - 0s 27us/step\n",
      "64/64 [==============================] - 0s 39us/step\n",
      "128/128 [==============================] - 0s 24us/step\n",
      "64/64 [==============================] - 0s 86us/step\n",
      "64/64 [==============================] - 0s 48us/step\n",
      "128/128 [==============================] - 0s 28us/step\n",
      "64/64 [==============================] - 0s 31us/step\n",
      "64/64 [==============================] - 0s 30us/step\n",
      "128/128 [==============================] - 0s 26us/step\n",
      "64/64 [==============================] - 0s 52us/step\n",
      "64/64 [==============================] - 0s 62us/step\n"
     ]
    },
    {
     "name": "stderr",
     "output_type": "stream",
     "text": [
      "\r",
      " 85%|████████▍ | 847/1000 [00:21<00:03, 39.39it/s]"
     ]
    },
    {
     "name": "stdout",
     "output_type": "stream",
     "text": [
      "128/128 [==============================] - 0s 26us/step\n",
      "64/64 [==============================] - 0s 32us/step\n",
      "64/64 [==============================] - 0s 38us/step\n",
      "128/128 [==============================] - 0s 32us/step\n",
      "64/64 [==============================] - 0s 48us/step\n",
      "64/64 [==============================] - 0s 45us/step\n",
      "128/128 [==============================] - 0s 25us/step\n",
      "64/64 [==============================] - 0s 56us/step\n",
      "64/64 [==============================] - 0s 56us/step\n",
      "128/128 [==============================] - 0s 26us/step\n",
      "64/64 [==============================] - 0s 39us/step\n",
      "64/64 [==============================] - 0s 30us/step\n",
      "128/128 [==============================] - 0s 30us/step\n",
      "64/64 [==============================] - 0s 46us/step\n",
      "64/64 [==============================] - 0s 50us/step\n"
     ]
    },
    {
     "name": "stderr",
     "output_type": "stream",
     "text": [
      "\r",
      " 85%|████████▌ | 852/1000 [00:21<00:03, 39.41it/s]"
     ]
    },
    {
     "name": "stdout",
     "output_type": "stream",
     "text": [
      "128/128 [==============================] - 0s 28us/step\n",
      "64/64 [==============================] - 0s 34us/step\n",
      "64/64 [==============================] - 0s 34us/step\n",
      "128/128 [==============================] - 0s 26us/step\n",
      "64/64 [==============================] - 0s 41us/step\n",
      "64/64 [==============================] - 0s 40us/step\n",
      "128/128 [==============================] - 0s 35us/step\n",
      "64/64 [==============================] - 0s 30us/step\n",
      "64/64 [==============================] - 0s 43us/step\n",
      "128/128 [==============================] - 0s 31us/step\n",
      "64/64 [==============================] - 0s 44us/step\n",
      "64/64 [==============================] - 0s 56us/step\n",
      "128/128 [==============================] - 0s 21us/step\n",
      "64/64 [==============================] - 0s 61us/step\n",
      "64/64 [==============================] - 0s 42us/step\n"
     ]
    },
    {
     "name": "stderr",
     "output_type": "stream",
     "text": [
      "\r",
      " 86%|████████▌ | 857/1000 [00:21<00:03, 39.43it/s]"
     ]
    },
    {
     "name": "stdout",
     "output_type": "stream",
     "text": [
      "128/128 [==============================] - 0s 27us/step\n",
      "64/64 [==============================] - 0s 34us/step\n",
      "64/64 [==============================] - 0s 48us/step\n",
      "128/128 [==============================] - 0s 34us/step\n",
      "64/64 [==============================] - 0s 52us/step\n",
      "64/64 [==============================] - 0s 67us/step\n",
      "128/128 [==============================] - 0s 31us/step\n",
      "64/64 [==============================] - 0s 60us/step\n",
      "64/64 [==============================] - 0s 44us/step\n",
      "128/128 [==============================] - 0s 32us/step\n",
      "64/64 [==============================] - 0s 25us/step\n",
      "64/64 [==============================] - 0s 34us/step\n",
      "128/128 [==============================] - 0s 31us/step\n",
      "64/64 [==============================] - 0s 36us/step\n",
      "64/64 [==============================] - 0s 44us/step\n"
     ]
    },
    {
     "name": "stderr",
     "output_type": "stream",
     "text": [
      "\r",
      " 86%|████████▌ | 862/1000 [00:21<00:03, 39.44it/s]"
     ]
    },
    {
     "name": "stdout",
     "output_type": "stream",
     "text": [
      "128/128 [==============================] - 0s 25us/step\n",
      "64/64 [==============================] - 0s 51us/step\n",
      "64/64 [==============================] - 0s 45us/step\n",
      "128/128 [==============================] - 0s 26us/step\n",
      "64/64 [==============================] - 0s 43us/step\n",
      "64/64 [==============================] - 0s 47us/step\n",
      "128/128 [==============================] - 0s 34us/step\n",
      "64/64 [==============================] - 0s 37us/step\n",
      "64/64 [==============================] - 0s 47us/step\n",
      "128/128 [==============================] - 0s 23us/step\n",
      "64/64 [==============================] - 0s 29us/step\n",
      "64/64 [==============================] - 0s 29us/step\n",
      "128/128 [==============================] - 0s 27us/step\n",
      "64/64 [==============================] - 0s 31us/step\n",
      "64/64 [==============================] - 0s 38us/step\n"
     ]
    },
    {
     "name": "stderr",
     "output_type": "stream",
     "text": [
      "\r",
      " 87%|████████▋ | 867/1000 [00:21<00:03, 39.47it/s]"
     ]
    },
    {
     "name": "stdout",
     "output_type": "stream",
     "text": [
      "128/128 [==============================] - 0s 35us/step\n",
      "64/64 [==============================] - 0s 46us/step\n",
      "64/64 [==============================] - 0s 31us/step\n",
      "128/128 [==============================] - 0s 23us/step\n",
      "64/64 [==============================] - 0s 37us/step\n",
      "64/64 [==============================] - 0s 52us/step\n",
      "128/128 [==============================] - 0s 25us/step\n",
      "64/64 [==============================] - 0s 32us/step\n",
      "64/64 [==============================] - 0s 55us/step\n",
      "128/128 [==============================] - 0s 25us/step\n",
      "64/64 [==============================] - 0s 48us/step\n",
      "64/64 [==============================] - 0s 46us/step\n",
      "128/128 [==============================] - 0s 32us/step\n",
      "64/64 [==============================] - 0s 31us/step\n",
      "64/64 [==============================] - 0s 30us/step\n"
     ]
    },
    {
     "name": "stderr",
     "output_type": "stream",
     "text": [
      "\r",
      " 87%|████████▋ | 872/1000 [00:22<00:03, 39.50it/s]"
     ]
    },
    {
     "name": "stdout",
     "output_type": "stream",
     "text": [
      "128/128 [==============================] - 0s 26us/step\n",
      "64/64 [==============================] - 0s 42us/step\n",
      "64/64 [==============================] - 0s 35us/step\n",
      "128/128 [==============================] - 0s 46us/step\n",
      "64/64 [==============================] - 0s 31us/step\n",
      "64/64 [==============================] - 0s 32us/step\n",
      "128/128 [==============================] - 0s 27us/step\n",
      "64/64 [==============================] - 0s 40us/step\n",
      "64/64 [==============================] - 0s 40us/step\n",
      "128/128 [==============================] - 0s 24us/step\n",
      "64/64 [==============================] - 0s 47us/step\n",
      "64/64 [==============================] - 0s 36us/step\n",
      "128/128 [==============================] - 0s 30us/step\n",
      "64/64 [==============================] - 0s 48us/step\n",
      "64/64 [==============================] - 0s 32us/step\n"
     ]
    },
    {
     "name": "stderr",
     "output_type": "stream",
     "text": [
      "\r",
      " 88%|████████▊ | 877/1000 [00:22<00:03, 39.52it/s]"
     ]
    },
    {
     "name": "stdout",
     "output_type": "stream",
     "text": [
      "128/128 [==============================] - 0s 24us/step\n",
      "64/64 [==============================] - 0s 83us/step\n",
      "64/64 [==============================] - 0s 51us/step\n",
      "128/128 [==============================] - 0s 30us/step\n",
      "64/64 [==============================] - 0s 53us/step\n",
      "64/64 [==============================] - 0s 51us/step\n",
      "128/128 [==============================] - 0s 31us/step\n",
      "64/64 [==============================] - 0s 36us/step\n",
      "64/64 [==============================] - 0s 30us/step\n",
      "128/128 [==============================] - 0s 33us/step\n",
      "64/64 [==============================] - 0s 48us/step\n",
      "64/64 [==============================] - 0s 40us/step\n",
      "128/128 [==============================] - 0s 26us/step\n",
      "64/64 [==============================] - 0s 41us/step\n",
      "64/64 [==============================] - 0s 32us/step\n"
     ]
    },
    {
     "name": "stderr",
     "output_type": "stream",
     "text": [
      "\r",
      " 88%|████████▊ | 882/1000 [00:22<00:02, 39.53it/s]"
     ]
    },
    {
     "name": "stdout",
     "output_type": "stream",
     "text": [
      "128/128 [==============================] - 0s 23us/step\n",
      "64/64 [==============================] - 0s 31us/step\n",
      "64/64 [==============================] - 0s 41us/step\n",
      "128/128 [==============================] - 0s 25us/step\n",
      "64/64 [==============================] - 0s 46us/step\n",
      "64/64 [==============================] - 0s 59us/step\n",
      "128/128 [==============================] - 0s 28us/step\n",
      "64/64 [==============================] - 0s 35us/step\n",
      "64/64 [==============================] - 0s 27us/step\n",
      "128/128 [==============================] - 0s 35us/step\n",
      "64/64 [==============================] - 0s 50us/step\n",
      "64/64 [==============================] - 0s 57us/step\n",
      "128/128 [==============================] - 0s 37us/step\n",
      "64/64 [==============================] - 0s 53us/step\n",
      "64/64 [==============================] - 0s 35us/step\n"
     ]
    },
    {
     "name": "stderr",
     "output_type": "stream",
     "text": [
      "\r",
      " 89%|████████▊ | 887/1000 [00:22<00:02, 39.56it/s]"
     ]
    },
    {
     "name": "stdout",
     "output_type": "stream",
     "text": [
      "128/128 [==============================] - 0s 33us/step\n",
      "64/64 [==============================] - 0s 33us/step\n",
      "64/64 [==============================] - 0s 40us/step\n",
      "128/128 [==============================] - 0s 32us/step\n",
      "64/64 [==============================] - 0s 63us/step\n",
      "64/64 [==============================] - 0s 34us/step\n",
      "128/128 [==============================] - 0s 35us/step\n",
      "64/64 [==============================] - 0s 28us/step\n",
      "64/64 [==============================] - 0s 55us/step\n",
      "128/128 [==============================] - 0s 33us/step\n",
      "64/64 [==============================] - 0s 25us/step\n",
      "64/64 [==============================] - 0s 33us/step\n",
      "128/128 [==============================] - 0s 22us/step\n",
      "64/64 [==============================] - 0s 58us/step\n",
      "64/64 [==============================] - 0s 32us/step\n"
     ]
    },
    {
     "name": "stderr",
     "output_type": "stream",
     "text": [
      "\r",
      " 89%|████████▉ | 892/1000 [00:22<00:02, 39.58it/s]"
     ]
    },
    {
     "name": "stdout",
     "output_type": "stream",
     "text": [
      "128/128 [==============================] - 0s 27us/step\n",
      "64/64 [==============================] - 0s 37us/step\n",
      "64/64 [==============================] - 0s 29us/step\n",
      "128/128 [==============================] - 0s 26us/step\n",
      "64/64 [==============================] - 0s 46us/step\n",
      "64/64 [==============================] - 0s 36us/step\n",
      "128/128 [==============================] - 0s 30us/step\n",
      "64/64 [==============================] - 0s 45us/step\n",
      "64/64 [==============================] - 0s 40us/step\n",
      "128/128 [==============================] - 0s 33us/step\n",
      "64/64 [==============================] - 0s 34us/step\n",
      "64/64 [==============================] - 0s 28us/step\n",
      "128/128 [==============================] - 0s 27us/step\n",
      "64/64 [==============================] - 0s 47us/step\n",
      "64/64 [==============================] - 0s 29us/step\n"
     ]
    },
    {
     "name": "stderr",
     "output_type": "stream",
     "text": [
      "\r",
      " 90%|████████▉ | 897/1000 [00:22<00:02, 39.60it/s]"
     ]
    },
    {
     "name": "stdout",
     "output_type": "stream",
     "text": [
      "128/128 [==============================] - 0s 66us/step\n",
      "64/64 [==============================] - 0s 30us/step\n",
      "64/64 [==============================] - 0s 43us/step\n",
      "128/128 [==============================] - 0s 28us/step\n",
      "64/64 [==============================] - 0s 28us/step\n",
      "64/64 [==============================] - 0s 56us/step\n",
      "128/128 [==============================] - 0s 26us/step\n",
      "64/64 [==============================] - 0s 70us/step\n",
      "64/64 [==============================] - 0s 30us/step\n",
      "128/128 [==============================] - 0s 24us/step\n",
      "64/64 [==============================] - 0s 37us/step\n",
      "64/64 [==============================] - 0s 39us/step\n",
      "128/128 [==============================] - 0s 31us/step\n",
      "64/64 [==============================] - 0s 24us/step\n",
      "64/64 [==============================] - 0s 38us/step\n"
     ]
    },
    {
     "name": "stderr",
     "output_type": "stream",
     "text": [
      "\r",
      " 90%|█████████ | 902/1000 [00:22<00:02, 39.62it/s]"
     ]
    },
    {
     "name": "stdout",
     "output_type": "stream",
     "text": [
      "128/128 [==============================] - 0s 33us/step\n",
      "64/64 [==============================] - 0s 41us/step\n",
      "64/64 [==============================] - 0s 34us/step\n",
      "128/128 [==============================] - 0s 24us/step\n",
      "64/64 [==============================] - 0s 40us/step\n",
      "64/64 [==============================] - 0s 56us/step\n",
      "128/128 [==============================] - 0s 26us/step\n",
      "64/64 [==============================] - 0s 29us/step\n",
      "64/64 [==============================] - 0s 61us/step\n",
      "128/128 [==============================] - 0s 35us/step\n",
      "64/64 [==============================] - 0s 34us/step\n",
      "64/64 [==============================] - 0s 31us/step\n",
      "128/128 [==============================] - 0s 34us/step\n",
      "64/64 [==============================] - 0s 36us/step\n",
      "64/64 [==============================] - 0s 29us/step\n"
     ]
    },
    {
     "name": "stderr",
     "output_type": "stream",
     "text": [
      "\r",
      " 91%|█████████ | 907/1000 [00:22<00:02, 39.64it/s]"
     ]
    },
    {
     "name": "stdout",
     "output_type": "stream",
     "text": [
      "128/128 [==============================] - 0s 33us/step\n",
      "64/64 [==============================] - 0s 32us/step\n",
      "64/64 [==============================] - 0s 30us/step\n",
      "128/128 [==============================] - 0s 25us/step\n",
      "64/64 [==============================] - 0s 31us/step\n",
      "64/64 [==============================] - 0s 43us/step\n",
      "128/128 [==============================] - 0s 31us/step\n",
      "64/64 [==============================] - 0s 45us/step\n",
      "64/64 [==============================] - 0s 34us/step\n",
      "128/128 [==============================] - 0s 25us/step\n",
      "64/64 [==============================] - 0s 39us/step\n",
      "64/64 [==============================] - 0s 47us/step\n",
      "128/128 [==============================] - 0s 27us/step\n",
      "64/64 [==============================] - 0s 28us/step\n",
      "64/64 [==============================] - 0s 39us/step\n"
     ]
    },
    {
     "name": "stderr",
     "output_type": "stream",
     "text": [
      "\r",
      " 91%|█████████ | 912/1000 [00:22<00:02, 39.67it/s]"
     ]
    },
    {
     "name": "stdout",
     "output_type": "stream",
     "text": [
      "128/128 [==============================] - 0s 26us/step\n",
      "64/64 [==============================] - 0s 60us/step\n",
      "64/64 [==============================] - 0s 50us/step\n",
      "128/128 [==============================] - 0s 27us/step\n",
      "64/64 [==============================] - 0s 63us/step\n",
      "64/64 [==============================] - 0s 46us/step\n",
      "128/128 [==============================] - 0s 27us/step\n",
      "64/64 [==============================] - 0s 44us/step\n",
      "64/64 [==============================] - 0s 63us/step\n",
      "128/128 [==============================] - 0s 24us/step\n",
      "64/64 [==============================] - 0s 54us/step\n",
      "64/64 [==============================] - 0s 62us/step\n",
      "128/128 [==============================] - 0s 32us/step\n",
      "64/64 [==============================] - 0s 58us/step\n",
      "64/64 [==============================] - 0s 32us/step\n"
     ]
    },
    {
     "name": "stderr",
     "output_type": "stream",
     "text": [
      "\r",
      " 92%|█████████▏| 917/1000 [00:23<00:02, 39.68it/s]"
     ]
    },
    {
     "name": "stdout",
     "output_type": "stream",
     "text": [
      "128/128 [==============================] - 0s 25us/step\n",
      "64/64 [==============================] - 0s 41us/step\n",
      "64/64 [==============================] - 0s 32us/step\n",
      "128/128 [==============================] - 0s 41us/step\n",
      "64/64 [==============================] - 0s 51us/step\n",
      "64/64 [==============================] - 0s 48us/step\n",
      "128/128 [==============================] - 0s 24us/step\n",
      "64/64 [==============================] - 0s 53us/step\n",
      "64/64 [==============================] - 0s 50us/step\n",
      "128/128 [==============================] - 0s 26us/step\n",
      "64/64 [==============================] - 0s 45us/step\n",
      "64/64 [==============================] - 0s 50us/step\n",
      "128/128 [==============================] - 0s 37us/step\n",
      "64/64 [==============================] - 0s 44us/step\n",
      "64/64 [==============================] - 0s 46us/step\n"
     ]
    },
    {
     "name": "stderr",
     "output_type": "stream",
     "text": [
      "\r",
      " 92%|█████████▏| 922/1000 [00:23<00:01, 39.69it/s]"
     ]
    },
    {
     "name": "stdout",
     "output_type": "stream",
     "text": [
      "128/128 [==============================] - 0s 32us/step\n",
      "64/64 [==============================] - 0s 39us/step\n",
      "64/64 [==============================] - 0s 32us/step\n",
      "128/128 [==============================] - 0s 33us/step\n",
      "64/64 [==============================] - 0s 41us/step\n",
      "64/64 [==============================] - 0s 28us/step\n",
      "128/128 [==============================] - 0s 33us/step\n",
      "64/64 [==============================] - 0s 39us/step\n",
      "64/64 [==============================] - 0s 35us/step\n",
      "128/128 [==============================] - 0s 32us/step\n",
      "64/64 [==============================] - 0s 42us/step\n",
      "64/64 [==============================] - 0s 49us/step\n",
      "128/128 [==============================] - 0s 26us/step\n",
      "64/64 [==============================] - 0s 45us/step\n",
      "64/64 [==============================] - 0s 33us/step\n"
     ]
    },
    {
     "name": "stderr",
     "output_type": "stream",
     "text": [
      "\r",
      " 93%|█████████▎| 927/1000 [00:23<00:01, 39.71it/s]"
     ]
    },
    {
     "name": "stdout",
     "output_type": "stream",
     "text": [
      "128/128 [==============================] - 0s 27us/step\n",
      "64/64 [==============================] - 0s 65us/step\n",
      "64/64 [==============================] - 0s 48us/step\n",
      "128/128 [==============================] - 0s 27us/step\n",
      "64/64 [==============================] - 0s 54us/step\n",
      "64/64 [==============================] - 0s 55us/step\n",
      "128/128 [==============================] - 0s 35us/step\n",
      "64/64 [==============================] - 0s 49us/step\n",
      "64/64 [==============================] - 0s 51us/step\n",
      "128/128 [==============================] - 0s 26us/step\n",
      "64/64 [==============================] - 0s 49us/step\n",
      "64/64 [==============================] - 0s 41us/step\n",
      "128/128 [==============================] - 0s 23us/step\n",
      "64/64 [==============================] - 0s 44us/step\n",
      "64/64 [==============================] - 0s 45us/step\n"
     ]
    },
    {
     "name": "stderr",
     "output_type": "stream",
     "text": [
      "\r",
      " 93%|█████████▎| 932/1000 [00:23<00:01, 39.71it/s]"
     ]
    },
    {
     "name": "stdout",
     "output_type": "stream",
     "text": [
      "128/128 [==============================] - 0s 33us/step\n",
      "64/64 [==============================] - 0s 47us/step\n",
      "64/64 [==============================] - 0s 38us/step\n",
      "128/128 [==============================] - 0s 24us/step\n",
      "64/64 [==============================] - 0s 49us/step\n",
      "64/64 [==============================] - 0s 42us/step\n",
      "128/128 [==============================] - 0s 33us/step\n",
      "64/64 [==============================] - 0s 50us/step\n",
      "64/64 [==============================] - 0s 38us/step\n",
      "128/128 [==============================] - 0s 33us/step\n",
      "64/64 [==============================] - 0s 54us/step\n",
      "64/64 [==============================] - 0s 48us/step\n",
      "128/128 [==============================] - 0s 27us/step\n",
      "64/64 [==============================] - 0s 48us/step\n",
      "64/64 [==============================] - 0s 34us/step\n"
     ]
    },
    {
     "name": "stderr",
     "output_type": "stream",
     "text": [
      "\r",
      " 94%|█████████▎| 937/1000 [00:23<00:01, 39.72it/s]"
     ]
    },
    {
     "name": "stdout",
     "output_type": "stream",
     "text": [
      "128/128 [==============================] - 0s 32us/step\n",
      "64/64 [==============================] - 0s 37us/step\n",
      "64/64 [==============================] - 0s 44us/step\n",
      "128/128 [==============================] - 0s 33us/step\n",
      "64/64 [==============================] - 0s 35us/step\n",
      "64/64 [==============================] - 0s 32us/step\n",
      "128/128 [==============================] - 0s 32us/step\n",
      "64/64 [==============================] - 0s 53us/step\n",
      "64/64 [==============================] - 0s 47us/step\n",
      "128/128 [==============================] - 0s 27us/step\n",
      "64/64 [==============================] - 0s 58us/step\n",
      "64/64 [==============================] - 0s 33us/step\n",
      "128/128 [==============================] - 0s 24us/step\n",
      "64/64 [==============================] - 0s 39us/step\n",
      "64/64 [==============================] - 0s 40us/step\n"
     ]
    },
    {
     "name": "stderr",
     "output_type": "stream",
     "text": [
      "\r",
      " 94%|█████████▍| 942/1000 [00:23<00:01, 39.73it/s]"
     ]
    },
    {
     "name": "stdout",
     "output_type": "stream",
     "text": [
      "128/128 [==============================] - 0s 31us/step\n",
      "64/64 [==============================] - 0s 37us/step\n",
      "64/64 [==============================] - 0s 48us/step\n",
      "128/128 [==============================] - 0s 38us/step\n",
      "64/64 [==============================] - 0s 44us/step\n",
      "64/64 [==============================] - 0s 40us/step\n",
      "128/128 [==============================] - 0s 24us/step\n",
      "64/64 [==============================] - 0s 35us/step\n",
      "64/64 [==============================] - 0s 63us/step\n",
      "128/128 [==============================] - 0s 31us/step\n",
      "64/64 [==============================] - 0s 33us/step\n",
      "64/64 [==============================] - 0s 53us/step\n",
      "128/128 [==============================] - 0s 27us/step\n",
      "64/64 [==============================] - 0s 37us/step\n",
      "64/64 [==============================] - 0s 30us/step\n"
     ]
    },
    {
     "name": "stderr",
     "output_type": "stream",
     "text": [
      "\r",
      " 95%|█████████▍| 947/1000 [00:23<00:01, 39.74it/s]"
     ]
    },
    {
     "name": "stdout",
     "output_type": "stream",
     "text": [
      "128/128 [==============================] - 0s 26us/step\n",
      "64/64 [==============================] - 0s 55us/step\n",
      "64/64 [==============================] - 0s 55us/step\n",
      "128/128 [==============================] - 0s 27us/step\n",
      "64/64 [==============================] - 0s 48us/step\n",
      "64/64 [==============================] - 0s 29us/step\n",
      "128/128 [==============================] - 0s 30us/step\n",
      "64/64 [==============================] - 0s 49us/step\n",
      "64/64 [==============================] - 0s 42us/step\n",
      "128/128 [==============================] - 0s 27us/step\n",
      "64/64 [==============================] - 0s 35us/step\n",
      "64/64 [==============================] - 0s 50us/step\n",
      "128/128 [==============================] - 0s 25us/step\n",
      "64/64 [==============================] - 0s 64us/step\n",
      "64/64 [==============================] - 0s 42us/step\n"
     ]
    },
    {
     "name": "stderr",
     "output_type": "stream",
     "text": [
      "\r",
      " 95%|█████████▌| 952/1000 [00:23<00:01, 39.76it/s]"
     ]
    },
    {
     "name": "stdout",
     "output_type": "stream",
     "text": [
      "128/128 [==============================] - 0s 25us/step\n",
      "64/64 [==============================] - 0s 26us/step\n",
      "64/64 [==============================] - 0s 57us/step\n",
      "128/128 [==============================] - 0s 26us/step\n",
      "64/64 [==============================] - 0s 48us/step\n",
      "64/64 [==============================] - 0s 53us/step\n",
      "128/128 [==============================] - 0s 37us/step\n",
      "64/64 [==============================] - 0s 38us/step\n",
      "64/64 [==============================] - 0s 44us/step\n",
      "128/128 [==============================] - 0s 23us/step\n",
      "64/64 [==============================] - 0s 43us/step\n",
      "64/64 [==============================] - 0s 31us/step\n",
      "128/128 [==============================] - 0s 25us/step\n",
      "64/64 [==============================] - 0s 43us/step\n",
      "64/64 [==============================] - 0s 43us/step\n"
     ]
    },
    {
     "name": "stderr",
     "output_type": "stream",
     "text": [
      "\r",
      " 96%|█████████▌| 957/1000 [00:24<00:01, 39.78it/s]"
     ]
    },
    {
     "name": "stdout",
     "output_type": "stream",
     "text": [
      "128/128 [==============================] - 0s 30us/step\n",
      "64/64 [==============================] - 0s 35us/step\n",
      "64/64 [==============================] - 0s 41us/step\n",
      "128/128 [==============================] - 0s 22us/step\n",
      "64/64 [==============================] - 0s 32us/step\n",
      "64/64 [==============================] - 0s 44us/step\n",
      "128/128 [==============================] - 0s 24us/step\n",
      "64/64 [==============================] - 0s 54us/step\n",
      "64/64 [==============================] - 0s 47us/step\n",
      "128/128 [==============================] - 0s 26us/step\n",
      "64/64 [==============================] - 0s 44us/step\n",
      "64/64 [==============================] - 0s 33us/step\n",
      "128/128 [==============================] - 0s 26us/step\n",
      "64/64 [==============================] - 0s 54us/step\n",
      "64/64 [==============================] - 0s 34us/step\n"
     ]
    },
    {
     "name": "stderr",
     "output_type": "stream",
     "text": [
      "\r",
      " 96%|█████████▌| 962/1000 [00:24<00:00, 39.80it/s]"
     ]
    },
    {
     "name": "stdout",
     "output_type": "stream",
     "text": [
      "128/128 [==============================] - 0s 33us/step\n",
      "64/64 [==============================] - 0s 35us/step\n",
      "64/64 [==============================] - 0s 31us/step\n",
      "128/128 [==============================] - 0s 26us/step\n",
      "64/64 [==============================] - 0s 53us/step\n",
      "64/64 [==============================] - 0s 41us/step\n",
      "128/128 [==============================] - 0s 24us/step\n",
      "64/64 [==============================] - 0s 42us/step\n",
      "64/64 [==============================] - 0s 33us/step\n",
      "128/128 [==============================] - 0s 30us/step\n",
      "64/64 [==============================] - 0s 30us/step\n",
      "64/64 [==============================] - 0s 50us/step\n",
      "128/128 [==============================] - 0s 32us/step\n",
      "64/64 [==============================] - 0s 33us/step\n",
      "64/64 [==============================] - 0s 37us/step\n"
     ]
    },
    {
     "name": "stderr",
     "output_type": "stream",
     "text": [
      "\r",
      " 97%|█████████▋| 967/1000 [00:24<00:00, 39.82it/s]"
     ]
    },
    {
     "name": "stdout",
     "output_type": "stream",
     "text": [
      "128/128 [==============================] - 0s 63us/step\n",
      "64/64 [==============================] - 0s 37us/step\n",
      "64/64 [==============================] - 0s 31us/step\n",
      "128/128 [==============================] - 0s 26us/step\n",
      "64/64 [==============================] - 0s 46us/step\n",
      "64/64 [==============================] - 0s 41us/step\n",
      "128/128 [==============================] - 0s 38us/step\n",
      "64/64 [==============================] - 0s 63us/step\n",
      "64/64 [==============================] - 0s 54us/step\n",
      "128/128 [==============================] - 0s 26us/step\n",
      "64/64 [==============================] - 0s 56us/step\n",
      "64/64 [==============================] - 0s 48us/step\n",
      "128/128 [==============================] - 0s 28us/step\n",
      "64/64 [==============================] - 0s 51us/step\n",
      "64/64 [==============================] - 0s 38us/step\n"
     ]
    },
    {
     "name": "stderr",
     "output_type": "stream",
     "text": [
      "\r",
      " 97%|█████████▋| 972/1000 [00:24<00:00, 39.83it/s]"
     ]
    },
    {
     "name": "stdout",
     "output_type": "stream",
     "text": [
      "128/128 [==============================] - 0s 24us/step\n",
      "64/64 [==============================] - 0s 52us/step\n",
      "64/64 [==============================] - 0s 39us/step\n",
      "128/128 [==============================] - 0s 26us/step\n",
      "64/64 [==============================] - 0s 44us/step\n",
      "64/64 [==============================] - 0s 36us/step\n",
      "128/128 [==============================] - 0s 29us/step\n",
      "64/64 [==============================] - 0s 43us/step\n",
      "64/64 [==============================] - 0s 45us/step\n",
      "128/128 [==============================] - 0s 24us/step\n",
      "64/64 [==============================] - 0s 28us/step\n",
      "64/64 [==============================] - 0s 52us/step\n",
      "128/128 [==============================] - 0s 23us/step\n",
      "64/64 [==============================] - 0s 97us/step\n",
      "64/64 [==============================] - 0s 36us/step\n"
     ]
    },
    {
     "name": "stderr",
     "output_type": "stream",
     "text": [
      "\r",
      " 98%|█████████▊| 977/1000 [00:24<00:00, 39.84it/s]"
     ]
    },
    {
     "name": "stdout",
     "output_type": "stream",
     "text": [
      "128/128 [==============================] - 0s 31us/step\n",
      "64/64 [==============================] - 0s 36us/step\n",
      "64/64 [==============================] - 0s 44us/step\n",
      "128/128 [==============================] - 0s 23us/step\n",
      "64/64 [==============================] - 0s 27us/step\n",
      "64/64 [==============================] - 0s 104us/step\n",
      "128/128 [==============================] - 0s 28us/step\n",
      "64/64 [==============================] - 0s 37us/step\n",
      "64/64 [==============================] - 0s 42us/step\n",
      "128/128 [==============================] - 0s 26us/step\n",
      "64/64 [==============================] - 0s 45us/step\n",
      "64/64 [==============================] - 0s 57us/step\n",
      "128/128 [==============================] - 0s 24us/step\n",
      "64/64 [==============================] - 0s 54us/step\n",
      "64/64 [==============================] - 0s 62us/step\n"
     ]
    },
    {
     "name": "stderr",
     "output_type": "stream",
     "text": [
      "\r",
      " 98%|█████████▊| 982/1000 [00:24<00:00, 39.85it/s]"
     ]
    },
    {
     "name": "stdout",
     "output_type": "stream",
     "text": [
      "128/128 [==============================] - 0s 27us/step\n",
      "64/64 [==============================] - 0s 38us/step\n",
      "64/64 [==============================] - 0s 34us/step\n",
      "128/128 [==============================] - 0s 26us/step\n",
      "64/64 [==============================] - 0s 31us/step\n",
      "64/64 [==============================] - 0s 55us/step\n",
      "128/128 [==============================] - 0s 36us/step\n",
      "64/64 [==============================] - 0s 28us/step\n",
      "64/64 [==============================] - 0s 41us/step\n",
      "128/128 [==============================] - 0s 25us/step\n",
      "64/64 [==============================] - 0s 29us/step\n",
      "64/64 [==============================] - 0s 29us/step\n",
      "128/128 [==============================] - 0s 30us/step\n",
      "64/64 [==============================] - 0s 40us/step\n",
      "64/64 [==============================] - 0s 34us/step\n"
     ]
    },
    {
     "name": "stderr",
     "output_type": "stream",
     "text": [
      "\r",
      " 99%|█████████▊| 987/1000 [00:24<00:00, 39.88it/s]"
     ]
    },
    {
     "name": "stdout",
     "output_type": "stream",
     "text": [
      "128/128 [==============================] - 0s 33us/step\n",
      "64/64 [==============================] - 0s 43us/step\n",
      "64/64 [==============================] - 0s 29us/step\n",
      "128/128 [==============================] - 0s 24us/step\n",
      "64/64 [==============================] - 0s 32us/step\n",
      "64/64 [==============================] - 0s 44us/step\n",
      "128/128 [==============================] - 0s 26us/step\n",
      "64/64 [==============================] - 0s 35us/step\n",
      "64/64 [==============================] - 0s 48us/step\n",
      "128/128 [==============================] - 0s 29us/step\n",
      "64/64 [==============================] - 0s 46us/step\n",
      "64/64 [==============================] - 0s 46us/step\n",
      "128/128 [==============================] - 0s 24us/step\n",
      "64/64 [==============================] - 0s 40us/step\n",
      "64/64 [==============================] - 0s 41us/step\n"
     ]
    },
    {
     "name": "stderr",
     "output_type": "stream",
     "text": [
      "\r",
      " 99%|█████████▉| 992/1000 [00:24<00:00, 39.90it/s]"
     ]
    },
    {
     "name": "stdout",
     "output_type": "stream",
     "text": [
      "128/128 [==============================] - 0s 32us/step\n",
      "64/64 [==============================] - 0s 34us/step\n",
      "64/64 [==============================] - 0s 36us/step\n",
      "128/128 [==============================] - 0s 25us/step\n",
      "64/64 [==============================] - 0s 52us/step\n",
      "64/64 [==============================] - 0s 43us/step\n",
      "128/128 [==============================] - 0s 31us/step\n",
      "64/64 [==============================] - 0s 47us/step\n",
      "64/64 [==============================] - 0s 48us/step\n",
      "128/128 [==============================] - 0s 35us/step\n",
      "64/64 [==============================] - 0s 42us/step\n",
      "64/64 [==============================] - 0s 31us/step\n",
      "128/128 [==============================] - 0s 26us/step\n",
      "64/64 [==============================] - 0s 33us/step\n",
      "64/64 [==============================] - 0s 29us/step\n"
     ]
    },
    {
     "name": "stderr",
     "output_type": "stream",
     "text": [
      "\r",
      "100%|█████████▉| 997/1000 [00:24<00:00, 39.91it/s]"
     ]
    },
    {
     "name": "stdout",
     "output_type": "stream",
     "text": [
      "128/128 [==============================] - 0s 30us/step\n",
      "64/64 [==============================] - 0s 46us/step\n",
      "64/64 [==============================] - 0s 56us/step\n",
      "128/128 [==============================] - 0s 31us/step\n",
      "64/64 [==============================] - 0s 42us/step\n",
      "64/64 [==============================] - 0s 34us/step\n",
      "128/128 [==============================] - 0s 25us/step\n",
      "64/64 [==============================] - 0s 57us/step\n",
      "64/64 [==============================] - 0s 48us/step\n"
     ]
    },
    {
     "name": "stderr",
     "output_type": "stream",
     "text": [
      "100%|██████████| 1000/1000 [00:25<00:00, 39.92it/s]\n"
     ]
    }
   ],
   "source": [
    "losses=train_for_n(**train_dic)"
   ]
  },
  {
   "cell_type": "code",
   "execution_count": 16,
   "metadata": {},
   "outputs": [
    {
     "data": {
      "text/plain": [
       "<Figure size 432x288 with 0 Axes>"
      ]
     },
     "metadata": {},
     "output_type": "display_data"
    },
    {
     "data": {
      "text/plain": [
       "<Figure size 432x288 with 0 Axes>"
      ]
     },
     "metadata": {},
     "output_type": "display_data"
    },
    {
     "data": {
      "image/png": "[encoded data removed]",
      "text/plain": [
       "<Figure size 720x576 with 3 Axes>"
      ]
     },
     "metadata": {},
     "output_type": "display_data"
    }
   ],
   "source": [
    "plot_loss(losses,**{'scale_control':[[0,3],[0,3],[0,2]],'loss_weights':loss_weights})"
   ]
  },
  {
   "cell_type": "code",
   "execution_count": 17,
   "metadata": {},
   "outputs": [
    {
     "name": "stdout",
     "output_type": "stream",
     "text": [
      "0.5256410256410257\n"
     ]
    }
   ],
   "source": [
    "y_hat=Discrim.predict(np.concatenate((x_test,y_test),axis=1))\n",
    "y_idx = np.argmax(y_hat,axis=1)\n",
    "print(sum(y_idx==1)/y_idx.shape[0])"
   ]
  },
  {
   "cell_type": "code",
   "execution_count": 18,
   "metadata": {},
   "outputs": [],
   "source": [
    "from fake_financial import make_fake_data"
   ]
  },
  {
   "cell_type": "code",
   "execution_count": 51,
   "metadata": {},
   "outputs": [
    {
     "data": {
      "text/plain": [
       "0.8256410256410256"
      ]
     },
     "execution_count": 51,
     "metadata": {},
     "output_type": "execute_result"
    }
   ],
   "source": [
    "x_fake=make_fake_data(np.concatenate((x_test,y_test),axis=1),idx_test,ds,num_fakes=780,method='hard',var_scale=0.2)\n",
    "y_hat=Discrim.predict(x_fake)\n",
    "y_idx = np.argmax(y_hat,axis=1)\n",
    "sum(y_idx==1)/y_idx.shape[0]"
   ]
  },
  {
   "cell_type": "code",
   "execution_count": 52,
   "metadata": {
    "scrolled": true
   },
   "outputs": [
    {
     "data": {
      "text/html": [
       "<div>\n",
       "<style scoped>\n",
       "    .dataframe tbody tr th:only-of-type {\n",
       "        vertical-align: middle;\n",
       "    }\n",
       "\n",
       "    .dataframe tbody tr th {\n",
       "        vertical-align: top;\n",
       "    }\n",
       "\n",
       "    .dataframe thead th {\n",
       "        text-align: right;\n",
       "    }\n",
       "</style>\n",
       "<table border=\"1\" class=\"dataframe\">\n",
       "  <thead>\n",
       "    <tr style=\"text-align: right;\">\n",
       "      <th></th>\n",
       "      <th>fakes</th>\n",
       "      <th>originals</th>\n",
       "    </tr>\n",
       "  </thead>\n",
       "  <tbody>\n",
       "    <tr>\n",
       "      <th>Revenues</th>\n",
       "      <td>0.000738</td>\n",
       "      <td>0.000738</td>\n",
       "    </tr>\n",
       "    <tr>\n",
       "      <th>Assets</th>\n",
       "      <td>1.173116</td>\n",
       "      <td>1.363987</td>\n",
       "    </tr>\n",
       "    <tr>\n",
       "      <th>pAssets</th>\n",
       "      <td>1.064847</td>\n",
       "      <td>1.000000</td>\n",
       "    </tr>\n",
       "    <tr>\n",
       "      <th>pCashAndCashEquivalentsAtCarryingValue</th>\n",
       "      <td>0.230469</td>\n",
       "      <td>0.371226</td>\n",
       "    </tr>\n",
       "    <tr>\n",
       "      <th>CashAndCashEquivalentsAtCarryingValue</th>\n",
       "      <td>0.240174</td>\n",
       "      <td>0.254667</td>\n",
       "    </tr>\n",
       "    <tr>\n",
       "      <th>LiabilitiesAndStockholdersEquity</th>\n",
       "      <td>1.213046</td>\n",
       "      <td>1.363987</td>\n",
       "    </tr>\n",
       "    <tr>\n",
       "      <th>pLiabilitiesAndStockholdersEquity</th>\n",
       "      <td>1.016492</td>\n",
       "      <td>1.000000</td>\n",
       "    </tr>\n",
       "    <tr>\n",
       "      <th>NetIncomeLoss</th>\n",
       "      <td>0.132036</td>\n",
       "      <td>0.071316</td>\n",
       "    </tr>\n",
       "    <tr>\n",
       "      <th>pNetIncomeLoss</th>\n",
       "      <td>0.163357</td>\n",
       "      <td>0.395014</td>\n",
       "    </tr>\n",
       "    <tr>\n",
       "      <th>pStockholdersEquity</th>\n",
       "      <td>0.762361</td>\n",
       "      <td>0.852010</td>\n",
       "    </tr>\n",
       "    <tr>\n",
       "      <th>StockholdersEquity</th>\n",
       "      <td>0.897803</td>\n",
       "      <td>0.993095</td>\n",
       "    </tr>\n",
       "    <tr>\n",
       "      <th>AssetsCurrent</th>\n",
       "      <td>0.712489</td>\n",
       "      <td>0.827269</td>\n",
       "    </tr>\n",
       "    <tr>\n",
       "      <th>pAssetsCurrent</th>\n",
       "      <td>0.610869</td>\n",
       "      <td>0.780384</td>\n",
       "    </tr>\n",
       "    <tr>\n",
       "      <th>LiabilitiesCurrent</th>\n",
       "      <td>0.180403</td>\n",
       "      <td>0.183303</td>\n",
       "    </tr>\n",
       "    <tr>\n",
       "      <th>pLiabilitiesCurrent</th>\n",
       "      <td>0.132290</td>\n",
       "      <td>0.146514</td>\n",
       "    </tr>\n",
       "    <tr>\n",
       "      <th>OperatingIncomeLoss</th>\n",
       "      <td>0.177590</td>\n",
       "      <td>0.075293</td>\n",
       "    </tr>\n",
       "    <tr>\n",
       "      <th>pOperatingIncomeLoss</th>\n",
       "      <td>0.173068</td>\n",
       "      <td>0.353534</td>\n",
       "    </tr>\n",
       "    <tr>\n",
       "      <th>pCashAndCashEquivalentsPeriodIncreaseDecrease</th>\n",
       "      <td>0.022660</td>\n",
       "      <td>0.039837</td>\n",
       "    </tr>\n",
       "    <tr>\n",
       "      <th>CashAndCashEquivalentsPeriodIncreaseDecrease</th>\n",
       "      <td>0.049083</td>\n",
       "      <td>-0.116559</td>\n",
       "    </tr>\n",
       "    <tr>\n",
       "      <th>RetainedEarningsAccumulatedDeficit</th>\n",
       "      <td>0.415083</td>\n",
       "      <td>0.397371</td>\n",
       "    </tr>\n",
       "    <tr>\n",
       "      <th>pRetainedEarningsAccumulatedDeficit</th>\n",
       "      <td>0.430234</td>\n",
       "      <td>0.348367</td>\n",
       "    </tr>\n",
       "    <tr>\n",
       "      <th>PropertyPlantAndEquipmentNet</th>\n",
       "      <td>0.071828</td>\n",
       "      <td>0.045290</td>\n",
       "    </tr>\n",
       "    <tr>\n",
       "      <th>pPropertyPlantAndEquipmentNet</th>\n",
       "      <td>0.006050</td>\n",
       "      <td>0.047862</td>\n",
       "    </tr>\n",
       "    <tr>\n",
       "      <th>CommonStockValue</th>\n",
       "      <td>0.024438</td>\n",
       "      <td>0.000524</td>\n",
       "    </tr>\n",
       "    <tr>\n",
       "      <th>pCommonStockValue</th>\n",
       "      <td>0.001043</td>\n",
       "      <td>0.000405</td>\n",
       "    </tr>\n",
       "    <tr>\n",
       "      <th>pNetCashProvidedByUsedInOperatingActivities</th>\n",
       "      <td>0.155807</td>\n",
       "      <td>0.275788</td>\n",
       "    </tr>\n",
       "    <tr>\n",
       "      <th>NetCashProvidedByUsedInOperatingActivities</th>\n",
       "      <td>0.154031</td>\n",
       "      <td>-0.014359</td>\n",
       "    </tr>\n",
       "    <tr>\n",
       "      <th>IncomeTaxExpenseBenefit</th>\n",
       "      <td>0.020709</td>\n",
       "      <td>0.024645</td>\n",
       "    </tr>\n",
       "    <tr>\n",
       "      <th>pIncomeTaxExpenseBenefit</th>\n",
       "      <td>0.030425</td>\n",
       "      <td>0.008382</td>\n",
       "    </tr>\n",
       "    <tr>\n",
       "      <th>pNetCashProvidedByUsedInFinancingActivities</th>\n",
       "      <td>-0.036207</td>\n",
       "      <td>-0.018264</td>\n",
       "    </tr>\n",
       "    <tr>\n",
       "      <th>...</th>\n",
       "      <td>...</td>\n",
       "      <td>...</td>\n",
       "    </tr>\n",
       "    <tr>\n",
       "      <th>pOperatingExpenses</th>\n",
       "      <td>0.094492</td>\n",
       "      <td>0.185018</td>\n",
       "    </tr>\n",
       "    <tr>\n",
       "      <th>IncreaseDecreaseInAccountsPayable</th>\n",
       "      <td>0.016631</td>\n",
       "      <td>0.000643</td>\n",
       "    </tr>\n",
       "    <tr>\n",
       "      <th>pIncreaseDecreaseInAccountsPayable</th>\n",
       "      <td>0.010553</td>\n",
       "      <td>-0.002929</td>\n",
       "    </tr>\n",
       "    <tr>\n",
       "      <th>IncomeLossFromContinuingOperationsBeforeIncomeTaxesMinorityInterestAndIncomeLossFromEquityMethodInvestments</th>\n",
       "      <td>0.126196</td>\n",
       "      <td>0.096081</td>\n",
       "    </tr>\n",
       "    <tr>\n",
       "      <th>pIncomeLossFromContinuingOperationsBeforeIncomeTaxesMinorityInterestAndIncomeLossFromEquityMethodInvestments</th>\n",
       "      <td>0.138608</td>\n",
       "      <td>0.398300</td>\n",
       "    </tr>\n",
       "    <tr>\n",
       "      <th>GeneralAndAdministrativeExpense</th>\n",
       "      <td>0.063389</td>\n",
       "      <td>0.188208</td>\n",
       "    </tr>\n",
       "    <tr>\n",
       "      <th>pGeneralAndAdministrativeExpense</th>\n",
       "      <td>0.029966</td>\n",
       "      <td>0.082389</td>\n",
       "    </tr>\n",
       "    <tr>\n",
       "      <th>AdditionalPaidInCapital</th>\n",
       "      <td>0.308892</td>\n",
       "      <td>0.494023</td>\n",
       "    </tr>\n",
       "    <tr>\n",
       "      <th>pAdditionalPaidInCapital</th>\n",
       "      <td>0.258306</td>\n",
       "      <td>0.443233</td>\n",
       "    </tr>\n",
       "    <tr>\n",
       "      <th>OtherNonoperatingIncomeExpense</th>\n",
       "      <td>0.009321</td>\n",
       "      <td>0.020788</td>\n",
       "    </tr>\n",
       "    <tr>\n",
       "      <th>pOtherNonoperatingIncomeExpense</th>\n",
       "      <td>-0.001059</td>\n",
       "      <td>0.044766</td>\n",
       "    </tr>\n",
       "    <tr>\n",
       "      <th>pRevenues</th>\n",
       "      <td>0.835509</td>\n",
       "      <td>0.962544</td>\n",
       "    </tr>\n",
       "    <tr>\n",
       "      <th>ResearchAndDevelopmentExpense</th>\n",
       "      <td>0.078275</td>\n",
       "      <td>0.050767</td>\n",
       "    </tr>\n",
       "    <tr>\n",
       "      <th>pResearchAndDevelopmentExpense</th>\n",
       "      <td>0.109124</td>\n",
       "      <td>0.021597</td>\n",
       "    </tr>\n",
       "    <tr>\n",
       "      <th>pEffectOfExchangeRateOnCashAndCashEquivalents</th>\n",
       "      <td>-0.022658</td>\n",
       "      <td>0.005501</td>\n",
       "    </tr>\n",
       "    <tr>\n",
       "      <th>EffectOfExchangeRateOnCashAndCashEquivalents</th>\n",
       "      <td>0.004489</td>\n",
       "      <td>0.007382</td>\n",
       "    </tr>\n",
       "    <tr>\n",
       "      <th>NonoperatingIncomeExpense</th>\n",
       "      <td>0.066884</td>\n",
       "      <td>0.000119</td>\n",
       "    </tr>\n",
       "    <tr>\n",
       "      <th>pNonoperatingIncomeExpense</th>\n",
       "      <td>0.025477</td>\n",
       "      <td>0.000143</td>\n",
       "    </tr>\n",
       "    <tr>\n",
       "      <th>IncomeTaxesPaid</th>\n",
       "      <td>0.050084</td>\n",
       "      <td>0.007596</td>\n",
       "    </tr>\n",
       "    <tr>\n",
       "      <th>pIncomeTaxesPaid</th>\n",
       "      <td>0.014987</td>\n",
       "      <td>0.034146</td>\n",
       "    </tr>\n",
       "    <tr>\n",
       "      <th>IntangibleAssetsNetExcludingGoodwill</th>\n",
       "      <td>0.084457</td>\n",
       "      <td>0.194090</td>\n",
       "    </tr>\n",
       "    <tr>\n",
       "      <th>pIntangibleAssetsNetExcludingGoodwill</th>\n",
       "      <td>0.094411</td>\n",
       "      <td>0.001214</td>\n",
       "    </tr>\n",
       "    <tr>\n",
       "      <th>ProfitLoss</th>\n",
       "      <td>0.209482</td>\n",
       "      <td>0.066221</td>\n",
       "    </tr>\n",
       "    <tr>\n",
       "      <th>pProfitLoss</th>\n",
       "      <td>0.162426</td>\n",
       "      <td>0.389918</td>\n",
       "    </tr>\n",
       "    <tr>\n",
       "      <th>DeferredTaxLiabilitiesNoncurrent</th>\n",
       "      <td>0.097972</td>\n",
       "      <td>0.045076</td>\n",
       "    </tr>\n",
       "    <tr>\n",
       "      <th>StockholdersEquityIncludingPortionAttributableToNoncontrollingInterest</th>\n",
       "      <td>0.639123</td>\n",
       "      <td>1.132346</td>\n",
       "    </tr>\n",
       "    <tr>\n",
       "      <th>pStockholdersEquityIncludingPortionAttributableToNoncontrollingInterest</th>\n",
       "      <td>0.623641</td>\n",
       "      <td>0.850343</td>\n",
       "    </tr>\n",
       "    <tr>\n",
       "      <th>pInvestmentIncomeInterest</th>\n",
       "      <td>0.020706</td>\n",
       "      <td>0.000310</td>\n",
       "    </tr>\n",
       "    <tr>\n",
       "      <th>InvestmentIncomeInterest</th>\n",
       "      <td>-0.037336</td>\n",
       "      <td>0.000310</td>\n",
       "    </tr>\n",
       "    <tr>\n",
       "      <th>OtherAssetsCurrent</th>\n",
       "      <td>0.057826</td>\n",
       "      <td>0.003072</td>\n",
       "    </tr>\n",
       "  </tbody>\n",
       "</table>\n",
       "<p>84 rows × 2 columns</p>\n",
       "</div>"
      ],
      "text/plain": [
       "                                                       fakes  originals\n",
       "Revenues                                            0.000738   0.000738\n",
       "Assets                                              1.173116   1.363987\n",
       "pAssets                                             1.064847   1.000000\n",
       "pCashAndCashEquivalentsAtCarryingValue              0.230469   0.371226\n",
       "CashAndCashEquivalentsAtCarryingValue               0.240174   0.254667\n",
       "LiabilitiesAndStockholdersEquity                    1.213046   1.363987\n",
       "pLiabilitiesAndStockholdersEquity                   1.016492   1.000000\n",
       "NetIncomeLoss                                       0.132036   0.071316\n",
       "pNetIncomeLoss                                      0.163357   0.395014\n",
       "pStockholdersEquity                                 0.762361   0.852010\n",
       "StockholdersEquity                                  0.897803   0.993095\n",
       "AssetsCurrent                                       0.712489   0.827269\n",
       "pAssetsCurrent                                      0.610869   0.780384\n",
       "LiabilitiesCurrent                                  0.180403   0.183303\n",
       "pLiabilitiesCurrent                                 0.132290   0.146514\n",
       "OperatingIncomeLoss                                 0.177590   0.075293\n",
       "pOperatingIncomeLoss                                0.173068   0.353534\n",
       "pCashAndCashEquivalentsPeriodIncreaseDecrease       0.022660   0.039837\n",
       "CashAndCashEquivalentsPeriodIncreaseDecrease        0.049083  -0.116559\n",
       "RetainedEarningsAccumulatedDeficit                  0.415083   0.397371\n",
       "pRetainedEarningsAccumulatedDeficit                 0.430234   0.348367\n",
       "PropertyPlantAndEquipmentNet                        0.071828   0.045290\n",
       "pPropertyPlantAndEquipmentNet                       0.006050   0.047862\n",
       "CommonStockValue                                    0.024438   0.000524\n",
       "pCommonStockValue                                   0.001043   0.000405\n",
       "pNetCashProvidedByUsedInOperatingActivities         0.155807   0.275788\n",
       "NetCashProvidedByUsedInOperatingActivities          0.154031  -0.014359\n",
       "IncomeTaxExpenseBenefit                             0.020709   0.024645\n",
       "pIncomeTaxExpenseBenefit                            0.030425   0.008382\n",
       "pNetCashProvidedByUsedInFinancingActivities        -0.036207  -0.018264\n",
       "...                                                      ...        ...\n",
       "pOperatingExpenses                                  0.094492   0.185018\n",
       "IncreaseDecreaseInAccountsPayable                   0.016631   0.000643\n",
       "pIncreaseDecreaseInAccountsPayable                  0.010553  -0.002929\n",
       "IncomeLossFromContinuingOperationsBeforeIncomeT...  0.126196   0.096081\n",
       "pIncomeLossFromContinuingOperationsBeforeIncome...  0.138608   0.398300\n",
       "GeneralAndAdministrativeExpense                     0.063389   0.188208\n",
       "pGeneralAndAdministrativeExpense                    0.029966   0.082389\n",
       "AdditionalPaidInCapital                             0.308892   0.494023\n",
       "pAdditionalPaidInCapital                            0.258306   0.443233\n",
       "OtherNonoperatingIncomeExpense                      0.009321   0.020788\n",
       "pOtherNonoperatingIncomeExpense                    -0.001059   0.044766\n",
       "pRevenues                                           0.835509   0.962544\n",
       "ResearchAndDevelopmentExpense                       0.078275   0.050767\n",
       "pResearchAndDevelopmentExpense                      0.109124   0.021597\n",
       "pEffectOfExchangeRateOnCashAndCashEquivalents      -0.022658   0.005501\n",
       "EffectOfExchangeRateOnCashAndCashEquivalents        0.004489   0.007382\n",
       "NonoperatingIncomeExpense                           0.066884   0.000119\n",
       "pNonoperatingIncomeExpense                          0.025477   0.000143\n",
       "IncomeTaxesPaid                                     0.050084   0.007596\n",
       "pIncomeTaxesPaid                                    0.014987   0.034146\n",
       "IntangibleAssetsNetExcludingGoodwill                0.084457   0.194090\n",
       "pIntangibleAssetsNetExcludingGoodwill               0.094411   0.001214\n",
       "ProfitLoss                                          0.209482   0.066221\n",
       "pProfitLoss                                         0.162426   0.389918\n",
       "DeferredTaxLiabilitiesNoncurrent                    0.097972   0.045076\n",
       "StockholdersEquityIncludingPortionAttributableT...  0.639123   1.132346\n",
       "pStockholdersEquityIncludingPortionAttributable...  0.623641   0.850343\n",
       "pInvestmentIncomeInterest                           0.020706   0.000310\n",
       "InvestmentIncomeInterest                           -0.037336   0.000310\n",
       "OtherAssetsCurrent                                  0.057826   0.003072\n",
       "\n",
       "[84 rows x 2 columns]"
      ]
     },
     "execution_count": 52,
     "metadata": {},
     "output_type": "execute_result"
    }
   ],
   "source": [
    "import pandas as pd\n",
    "i=64\n",
    "composed_imgs=Generator.predict([x_test,y_test])\n",
    "idx=np.hstack(('Revenues',cols[0:199]))\n",
    "orig=np.hstack((y_test[i],x_test[i,:]))\n",
    "fakes=np.hstack((composed_imgs[i][-1],composed_imgs[i][0:-1]))\n",
    "#orig[orig!=0]\n",
    "#pd.DataFrame({'originals':orig[orig!=0],'fakes':fakes[orig!=0]},index=idx[orig!=0])\n",
    "df=pd.DataFrame({'originals':orig,'fakes':fakes},index=idx)\n",
    "df[df.originals!=0]"
   ]
  },
  {
   "cell_type": "code",
   "execution_count": 49,
   "metadata": {},
   "outputs": [
    {
     "name": "stderr",
     "output_type": "stream",
     "text": [
      "\r",
      "  0%|          | 0/1000 [00:00<?, ?it/s]"
     ]
    },
    {
     "name": "stdout",
     "output_type": "stream",
     "text": [
      "128/128 [==============================] - 0s 2ms/step\n",
      "64/64 [==============================] - 0s 48us/step\n",
      "64/64 [==============================] - 0s 44us/step\n"
     ]
    },
    {
     "name": "stderr",
     "output_type": "stream",
     "text": [
      "\r",
      "  0%|          | 1/1000 [00:02<39:06,  2.35s/it]"
     ]
    },
    {
     "name": "stdout",
     "output_type": "stream",
     "text": [
      "128/128 [==============================] - 0s 33us/step\n",
      "64/64 [==============================] - 0s 56us/step\n",
      "64/64 [==============================] - 0s 42us/step\n",
      "128/128 [==============================] - 0s 40us/step\n",
      "64/64 [==============================] - 0s 54us/step\n",
      "64/64 [==============================] - 0s 44us/step\n",
      "128/128 [==============================] - 0s 40us/step\n",
      "64/64 [==============================] - 0s 63us/step\n",
      "64/64 [==============================] - 0s 54us/step\n",
      "128/128 [==============================] - 0s 52us/step\n",
      "64/64 [==============================] - 0s 39us/step\n",
      "64/64 [==============================] - 0s 73us/step\n"
     ]
    },
    {
     "name": "stderr",
     "output_type": "stream",
     "text": [
      "\r",
      "  0%|          | 5/1000 [00:02<08:08,  2.04it/s]"
     ]
    },
    {
     "name": "stdout",
     "output_type": "stream",
     "text": [
      "128/128 [==============================] - 0s 37us/step\n",
      "64/64 [==============================] - 0s 51us/step\n",
      "64/64 [==============================] - 0s 60us/step\n",
      "128/128 [==============================] - 0s 30us/step\n",
      "64/64 [==============================] - 0s 109us/step\n",
      "64/64 [==============================] - 0s 71us/step\n",
      "128/128 [==============================] - 0s 46us/step\n",
      "64/64 [==============================] - 0s 45us/step\n",
      "64/64 [==============================] - 0s 58us/step\n",
      "128/128 [==============================] - 0s 32us/step\n",
      "64/64 [==============================] - 0s 31us/step\n",
      "64/64 [==============================] - 0s 58us/step\n"
     ]
    },
    {
     "name": "stderr",
     "output_type": "stream",
     "text": [
      "\r",
      "  1%|          | 9/1000 [00:02<04:42,  3.51it/s]"
     ]
    },
    {
     "name": "stdout",
     "output_type": "stream",
     "text": [
      "128/128 [==============================] - 0s 33us/step\n",
      "64/64 [==============================] - 0s 71us/step\n",
      "64/64 [==============================] - 0s 62us/step\n",
      "128/128 [==============================] - 0s 30us/step\n",
      "64/64 [==============================] - 0s 50us/step\n",
      "64/64 [==============================] - 0s 73us/step\n",
      "128/128 [==============================] - 0s 36us/step\n",
      "64/64 [==============================] - 0s 50us/step\n",
      "64/64 [==============================] - 0s 53us/step\n",
      "128/128 [==============================] - 0s 43us/step\n",
      "64/64 [==============================] - 0s 46us/step\n",
      "64/64 [==============================] - 0s 59us/step\n"
     ]
    },
    {
     "name": "stderr",
     "output_type": "stream",
     "text": [
      "\r",
      "  1%|▏         | 13/1000 [00:02<03:22,  4.87it/s]"
     ]
    },
    {
     "name": "stdout",
     "output_type": "stream",
     "text": [
      "128/128 [==============================] - 0s 34us/step\n",
      "64/64 [==============================] - 0s 41us/step\n",
      "64/64 [==============================] - 0s 51us/step\n",
      "128/128 [==============================] - 0s 34us/step\n",
      "64/64 [==============================] - 0s 61us/step\n",
      "64/64 [==============================] - 0s 73us/step\n",
      "128/128 [==============================] - 0s 38us/step\n",
      "64/64 [==============================] - 0s 51us/step\n",
      "64/64 [==============================] - 0s 68us/step\n",
      "128/128 [==============================] - 0s 29us/step\n",
      "64/64 [==============================] - 0s 34us/step\n",
      "64/64 [==============================] - 0s 48us/step\n"
     ]
    },
    {
     "name": "stderr",
     "output_type": "stream",
     "text": [
      "\r",
      "  2%|▏         | 17/1000 [00:02<02:40,  6.12it/s]"
     ]
    },
    {
     "name": "stdout",
     "output_type": "stream",
     "text": [
      "128/128 [==============================] - 0s 48us/step\n",
      "64/64 [==============================] - 0s 42us/step\n",
      "64/64 [==============================] - 0s 52us/step\n",
      "128/128 [==============================] - 0s 34us/step\n",
      "64/64 [==============================] - 0s 65us/step\n",
      "64/64 [==============================] - 0s 42us/step\n",
      "128/128 [==============================] - 0s 31us/step\n",
      "64/64 [==============================] - 0s 68us/step\n",
      "64/64 [==============================] - 0s 55us/step\n",
      "128/128 [==============================] - 0s 38us/step\n",
      "64/64 [==============================] - 0s 33us/step\n",
      "64/64 [==============================] - 0s 56us/step\n"
     ]
    },
    {
     "name": "stderr",
     "output_type": "stream",
     "text": [
      "\r",
      "  2%|▏         | 21/1000 [00:02<02:14,  7.29it/s]"
     ]
    },
    {
     "name": "stdout",
     "output_type": "stream",
     "text": [
      "128/128 [==============================] - 0s 34us/step\n",
      "64/64 [==============================] - 0s 56us/step\n",
      "64/64 [==============================] - 0s 55us/step\n",
      "128/128 [==============================] - 0s 37us/step\n",
      "64/64 [==============================] - 0s 40us/step\n",
      "64/64 [==============================] - 0s 67us/step\n",
      "128/128 [==============================] - 0s 39us/step\n",
      "64/64 [==============================] - 0s 46us/step\n",
      "64/64 [==============================] - 0s 42us/step\n",
      "128/128 [==============================] - 0s 39us/step\n",
      "64/64 [==============================] - 0s 64us/step\n",
      "64/64 [==============================] - 0s 37us/step\n"
     ]
    },
    {
     "name": "stderr",
     "output_type": "stream",
     "text": [
      "\r",
      "  2%|▎         | 25/1000 [00:02<01:56,  8.37it/s]"
     ]
    },
    {
     "name": "stdout",
     "output_type": "stream",
     "text": [
      "128/128 [==============================] - 0s 40us/step\n",
      "64/64 [==============================] - 0s 37us/step\n",
      "64/64 [==============================] - 0s 57us/step\n",
      "128/128 [==============================] - 0s 32us/step\n",
      "64/64 [==============================] - 0s 68us/step\n",
      "64/64 [==============================] - 0s 57us/step\n",
      "128/128 [==============================] - 0s 39us/step\n",
      "64/64 [==============================] - 0s 66us/step\n",
      "64/64 [==============================] - 0s 82us/step\n",
      "128/128 [==============================] - 0s 40us/step\n",
      "64/64 [==============================] - 0s 32us/step\n",
      "64/64 [==============================] - 0s 76us/step\n"
     ]
    },
    {
     "name": "stderr",
     "output_type": "stream",
     "text": [
      "\r",
      "  3%|▎         | 29/1000 [00:03<01:43,  9.37it/s]"
     ]
    },
    {
     "name": "stdout",
     "output_type": "stream",
     "text": [
      "128/128 [==============================] - 0s 30us/step\n",
      "64/64 [==============================] - 0s 54us/step\n",
      "64/64 [==============================] - 0s 54us/step\n",
      "128/128 [==============================] - 0s 40us/step\n",
      "64/64 [==============================] - 0s 38us/step\n",
      "64/64 [==============================] - 0s 48us/step\n",
      "128/128 [==============================] - 0s 30us/step\n",
      "64/64 [==============================] - 0s 40us/step\n",
      "64/64 [==============================] - 0s 38us/step\n",
      "128/128 [==============================] - 0s 29us/step\n",
      "64/64 [==============================] - 0s 36us/step\n",
      "64/64 [==============================] - 0s 46us/step\n",
      "128/128 [==============================] - 0s 27us/step\n",
      "64/64 [==============================] - 0s 37us/step\n",
      "64/64 [==============================] - 0s 69us/step\n"
     ]
    },
    {
     "name": "stderr",
     "output_type": "stream",
     "text": [
      "\r",
      "  3%|▎         | 34/1000 [00:03<01:31, 10.58it/s]"
     ]
    },
    {
     "name": "stdout",
     "output_type": "stream",
     "text": [
      "128/128 [==============================] - 0s 39us/step\n",
      "64/64 [==============================] - 0s 59us/step\n",
      "64/64 [==============================] - 0s 36us/step\n",
      "128/128 [==============================] - 0s 38us/step\n",
      "64/64 [==============================] - 0s 38us/step\n",
      "64/64 [==============================] - 0s 64us/step\n",
      "128/128 [==============================] - 0s 30us/step\n",
      "64/64 [==============================] - 0s 61us/step\n",
      "64/64 [==============================] - 0s 37us/step\n",
      "128/128 [==============================] - 0s 40us/step\n",
      "64/64 [==============================] - 0s 37us/step\n",
      "64/64 [==============================] - 0s 46us/step\n",
      "128/128 [==============================] - 0s 29us/step\n",
      "64/64 [==============================] - 0s 42us/step\n",
      "64/64 [==============================] - 0s 106us/step\n"
     ]
    },
    {
     "name": "stderr",
     "output_type": "stream",
     "text": [
      "\r",
      "  4%|▍         | 39/1000 [00:03<01:22, 11.69it/s]"
     ]
    },
    {
     "name": "stdout",
     "output_type": "stream",
     "text": [
      "128/128 [==============================] - 0s 31us/step\n",
      "64/64 [==============================] - 0s 37us/step\n",
      "64/64 [==============================] - 0s 60us/step\n",
      "128/128 [==============================] - 0s 39us/step\n",
      "64/64 [==============================] - 0s 37us/step\n",
      "64/64 [==============================] - 0s 41us/step\n",
      "128/128 [==============================] - 0s 38us/step\n",
      "64/64 [==============================] - 0s 57us/step\n",
      "64/64 [==============================] - 0s 45us/step\n",
      "128/128 [==============================] - 0s 30us/step\n",
      "64/64 [==============================] - 0s 41us/step\n",
      "64/64 [==============================] - 0s 42us/step\n",
      "128/128 [==============================] - 0s 38us/step\n",
      "64/64 [==============================] - 0s 32us/step\n",
      "64/64 [==============================] - 0s 33us/step\n"
     ]
    },
    {
     "name": "stderr",
     "output_type": "stream",
     "text": [
      "\r",
      "  4%|▍         | 44/1000 [00:03<01:15, 12.74it/s]"
     ]
    },
    {
     "name": "stdout",
     "output_type": "stream",
     "text": [
      "128/128 [==============================] - 0s 37us/step\n",
      "64/64 [==============================] - 0s 59us/step\n",
      "64/64 [==============================] - 0s 67us/step\n",
      "128/128 [==============================] - 0s 41us/step\n",
      "64/64 [==============================] - 0s 60us/step\n",
      "64/64 [==============================] - 0s 38us/step\n",
      "128/128 [==============================] - 0s 27us/step\n",
      "64/64 [==============================] - 0s 54us/step\n",
      "64/64 [==============================] - 0s 53us/step\n",
      "128/128 [==============================] - 0s 34us/step\n",
      "64/64 [==============================] - 0s 55us/step\n",
      "64/64 [==============================] - 0s 37us/step\n",
      "128/128 [==============================] - 0s 30us/step\n",
      "64/64 [==============================] - 0s 40us/step\n",
      "64/64 [==============================] - 0s 44us/step\n"
     ]
    },
    {
     "name": "stderr",
     "output_type": "stream",
     "text": [
      "\r",
      "  5%|▍         | 49/1000 [00:03<01:09, 13.70it/s]"
     ]
    },
    {
     "name": "stdout",
     "output_type": "stream",
     "text": [
      "128/128 [==============================] - 0s 28us/step\n",
      "64/64 [==============================] - 0s 43us/step\n",
      "64/64 [==============================] - 0s 47us/step\n",
      "128/128 [==============================] - 0s 35us/step\n",
      "64/64 [==============================] - 0s 38us/step\n",
      "64/64 [==============================] - 0s 50us/step\n",
      "128/128 [==============================] - 0s 30us/step\n",
      "64/64 [==============================] - 0s 33us/step\n",
      "64/64 [==============================] - 0s 46us/step\n",
      "128/128 [==============================] - 0s 35us/step\n",
      "64/64 [==============================] - 0s 49us/step\n",
      "64/64 [==============================] - 0s 46us/step\n",
      "128/128 [==============================] - 0s 33us/step\n",
      "64/64 [==============================] - 0s 45us/step\n",
      "64/64 [==============================] - 0s 34us/step\n"
     ]
    },
    {
     "name": "stderr",
     "output_type": "stream",
     "text": [
      "\r",
      "  5%|▌         | 54/1000 [00:03<01:04, 14.64it/s]"
     ]
    },
    {
     "name": "stdout",
     "output_type": "stream",
     "text": [
      "128/128 [==============================] - 0s 29us/step\n",
      "64/64 [==============================] - 0s 39us/step\n",
      "64/64 [==============================] - 0s 51us/step\n",
      "128/128 [==============================] - 0s 42us/step\n",
      "64/64 [==============================] - 0s 50us/step\n",
      "64/64 [==============================] - 0s 43us/step\n",
      "128/128 [==============================] - 0s 39us/step\n",
      "64/64 [==============================] - 0s 38us/step\n",
      "64/64 [==============================] - 0s 41us/step\n",
      "128/128 [==============================] - 0s 43us/step\n",
      "64/64 [==============================] - 0s 40us/step\n",
      "64/64 [==============================] - 0s 36us/step\n",
      "128/128 [==============================] - 0s 31us/step\n",
      "64/64 [==============================] - 0s 41us/step\n",
      "64/64 [==============================] - 0s 54us/step\n"
     ]
    },
    {
     "name": "stderr",
     "output_type": "stream",
     "text": [
      "\r",
      "  6%|▌         | 59/1000 [00:03<01:00, 15.48it/s]"
     ]
    },
    {
     "name": "stdout",
     "output_type": "stream",
     "text": [
      "128/128 [==============================] - 0s 39us/step\n",
      "64/64 [==============================] - 0s 52us/step\n",
      "64/64 [==============================] - 0s 49us/step\n",
      "128/128 [==============================] - 0s 31us/step\n",
      "64/64 [==============================] - 0s 41us/step\n",
      "64/64 [==============================] - 0s 36us/step\n",
      "128/128 [==============================] - 0s 27us/step\n",
      "64/64 [==============================] - 0s 34us/step\n",
      "64/64 [==============================] - 0s 51us/step\n",
      "128/128 [==============================] - 0s 38us/step\n",
      "64/64 [==============================] - 0s 35us/step\n",
      "64/64 [==============================] - 0s 58us/step\n",
      "128/128 [==============================] - 0s 31us/step\n",
      "64/64 [==============================] - 0s 41us/step\n",
      "64/64 [==============================] - 0s 44us/step\n"
     ]
    },
    {
     "name": "stderr",
     "output_type": "stream",
     "text": [
      "\r",
      "  6%|▋         | 64/1000 [00:03<00:57, 16.29it/s]"
     ]
    },
    {
     "name": "stdout",
     "output_type": "stream",
     "text": [
      "128/128 [==============================] - 0s 34us/step\n",
      "64/64 [==============================] - 0s 64us/step\n",
      "64/64 [==============================] - 0s 46us/step\n",
      "128/128 [==============================] - 0s 32us/step\n",
      "64/64 [==============================] - 0s 32us/step\n",
      "64/64 [==============================] - 0s 34us/step\n",
      "128/128 [==============================] - 0s 37us/step\n",
      "64/64 [==============================] - 0s 37us/step\n",
      "64/64 [==============================] - 0s 41us/step\n",
      "128/128 [==============================] - 0s 32us/step\n",
      "64/64 [==============================] - 0s 44us/step\n",
      "64/64 [==============================] - 0s 47us/step\n",
      "128/128 [==============================] - 0s 38us/step\n",
      "64/64 [==============================] - 0s 37us/step\n",
      "64/64 [==============================] - 0s 63us/step\n"
     ]
    },
    {
     "name": "stderr",
     "output_type": "stream",
     "text": [
      "\r",
      "  7%|▋         | 69/1000 [00:04<00:54, 17.05it/s]"
     ]
    },
    {
     "name": "stdout",
     "output_type": "stream",
     "text": [
      "128/128 [==============================] - 0s 31us/step\n",
      "64/64 [==============================] - 0s 56us/step\n",
      "64/64 [==============================] - 0s 37us/step\n",
      "128/128 [==============================] - 0s 34us/step\n",
      "64/64 [==============================] - 0s 38us/step\n",
      "64/64 [==============================] - 0s 38us/step\n",
      "128/128 [==============================] - 0s 31us/step\n",
      "64/64 [==============================] - 0s 48us/step\n",
      "64/64 [==============================] - 0s 54us/step\n",
      "128/128 [==============================] - 0s 30us/step\n",
      "64/64 [==============================] - 0s 33us/step\n",
      "64/64 [==============================] - 0s 37us/step\n",
      "128/128 [==============================] - 0s 31us/step\n",
      "64/64 [==============================] - 0s 42us/step\n",
      "64/64 [==============================] - 0s 56us/step\n"
     ]
    },
    {
     "name": "stderr",
     "output_type": "stream",
     "text": [
      "\r",
      "  7%|▋         | 74/1000 [00:04<00:52, 17.79it/s]"
     ]
    },
    {
     "name": "stdout",
     "output_type": "stream",
     "text": [
      "128/128 [==============================] - 0s 29us/step\n",
      "64/64 [==============================] - 0s 41us/step\n",
      "64/64 [==============================] - 0s 50us/step\n",
      "128/128 [==============================] - 0s 31us/step\n",
      "64/64 [==============================] - 0s 36us/step\n",
      "64/64 [==============================] - 0s 52us/step\n",
      "128/128 [==============================] - 0s 37us/step\n",
      "64/64 [==============================] - 0s 60us/step\n",
      "64/64 [==============================] - 0s 69us/step\n",
      "128/128 [==============================] - 0s 41us/step\n",
      "64/64 [==============================] - 0s 37us/step\n",
      "64/64 [==============================] - 0s 47us/step\n",
      "128/128 [==============================] - 0s 37us/step\n",
      "64/64 [==============================] - 0s 88us/step\n",
      "64/64 [==============================] - 0s 63us/step\n"
     ]
    },
    {
     "name": "stderr",
     "output_type": "stream",
     "text": [
      "\r",
      "  8%|▊         | 79/1000 [00:04<00:49, 18.43it/s]"
     ]
    },
    {
     "name": "stdout",
     "output_type": "stream",
     "text": [
      "128/128 [==============================] - 0s 34us/step\n",
      "64/64 [==============================] - 0s 32us/step\n",
      "64/64 [==============================] - 0s 38us/step\n",
      "128/128 [==============================] - 0s 37us/step\n",
      "64/64 [==============================] - 0s 48us/step\n",
      "64/64 [==============================] - 0s 51us/step\n",
      "128/128 [==============================] - 0s 37us/step\n",
      "64/64 [==============================] - 0s 42us/step\n",
      "64/64 [==============================] - 0s 34us/step\n",
      "128/128 [==============================] - 0s 38us/step\n",
      "64/64 [==============================] - 0s 38us/step\n",
      "64/64 [==============================] - 0s 51us/step\n",
      "128/128 [==============================] - 0s 34us/step\n",
      "64/64 [==============================] - 0s 42us/step\n",
      "64/64 [==============================] - 0s 36us/step\n"
     ]
    },
    {
     "name": "stderr",
     "output_type": "stream",
     "text": [
      "\r",
      "  8%|▊         | 84/1000 [00:04<00:48, 19.07it/s]"
     ]
    },
    {
     "name": "stdout",
     "output_type": "stream",
     "text": [
      "128/128 [==============================] - 0s 36us/step\n",
      "64/64 [==============================] - 0s 32us/step\n",
      "64/64 [==============================] - 0s 40us/step\n",
      "128/128 [==============================] - 0s 28us/step\n",
      "64/64 [==============================] - 0s 61us/step\n",
      "64/64 [==============================] - 0s 54us/step\n",
      "128/128 [==============================] - 0s 31us/step\n",
      "64/64 [==============================] - 0s 45us/step\n",
      "64/64 [==============================] - 0s 59us/step\n",
      "128/128 [==============================] - 0s 30us/step\n",
      "64/64 [==============================] - 0s 67us/step\n",
      "64/64 [==============================] - 0s 42us/step\n",
      "128/128 [==============================] - 0s 37us/step\n",
      "64/64 [==============================] - 0s 32us/step\n",
      "64/64 [==============================] - 0s 33us/step\n"
     ]
    },
    {
     "name": "stderr",
     "output_type": "stream",
     "text": [
      "\r",
      "  9%|▉         | 89/1000 [00:04<00:46, 19.68it/s]"
     ]
    },
    {
     "name": "stdout",
     "output_type": "stream",
     "text": [
      "128/128 [==============================] - 0s 38us/step\n",
      "64/64 [==============================] - 0s 48us/step\n",
      "64/64 [==============================] - 0s 45us/step\n",
      "128/128 [==============================] - 0s 32us/step\n",
      "64/64 [==============================] - 0s 56us/step\n",
      "64/64 [==============================] - 0s 57us/step\n",
      "128/128 [==============================] - 0s 30us/step\n",
      "64/64 [==============================] - 0s 63us/step\n",
      "64/64 [==============================] - 0s 66us/step\n",
      "128/128 [==============================] - 0s 32us/step\n",
      "64/64 [==============================] - 0s 37us/step\n",
      "64/64 [==============================] - 0s 33us/step\n",
      "128/128 [==============================] - 0s 35us/step\n",
      "64/64 [==============================] - 0s 57us/step\n",
      "64/64 [==============================] - 0s 62us/step\n"
     ]
    },
    {
     "name": "stderr",
     "output_type": "stream",
     "text": [
      "\r",
      "  9%|▉         | 94/1000 [00:04<00:44, 20.23it/s]"
     ]
    },
    {
     "name": "stdout",
     "output_type": "stream",
     "text": [
      "128/128 [==============================] - 0s 34us/step\n",
      "64/64 [==============================] - 0s 38us/step\n",
      "64/64 [==============================] - 0s 55us/step\n",
      "128/128 [==============================] - 0s 38us/step\n",
      "64/64 [==============================] - 0s 40us/step\n",
      "64/64 [==============================] - 0s 41us/step\n",
      "128/128 [==============================] - 0s 61us/step\n",
      "64/64 [==============================] - 0s 50us/step\n",
      "64/64 [==============================] - 0s 62us/step\n",
      "128/128 [==============================] - 0s 36us/step\n",
      "64/64 [==============================] - 0s 36us/step\n",
      "64/64 [==============================] - 0s 62us/step\n",
      "128/128 [==============================] - 0s 39us/step\n",
      "64/64 [==============================] - 0s 35us/step\n",
      "64/64 [==============================] - 0s 46us/step\n"
     ]
    },
    {
     "name": "stderr",
     "output_type": "stream",
     "text": [
      "\r",
      " 10%|▉         | 99/1000 [00:04<00:43, 20.75it/s]"
     ]
    },
    {
     "name": "stdout",
     "output_type": "stream",
     "text": [
      "128/128 [==============================] - 0s 30us/step\n",
      "64/64 [==============================] - 0s 32us/step\n",
      "64/64 [==============================] - 0s 37us/step\n",
      "128/128 [==============================] - 0s 36us/step\n",
      "64/64 [==============================] - 0s 49us/step\n",
      "64/64 [==============================] - 0s 60us/step\n",
      "128/128 [==============================] - 0s 31us/step\n",
      "64/64 [==============================] - 0s 50us/step\n",
      "64/64 [==============================] - 0s 40us/step\n",
      "128/128 [==============================] - 0s 37us/step\n",
      "64/64 [==============================] - 0s 50us/step\n",
      "64/64 [==============================] - 0s 48us/step\n",
      "128/128 [==============================] - 0s 39us/step\n",
      "64/64 [==============================] - 0s 53us/step\n",
      "64/64 [==============================] - 0s 37us/step\n"
     ]
    },
    {
     "name": "stderr",
     "output_type": "stream",
     "text": [
      "\r",
      " 10%|█         | 104/1000 [00:04<00:42, 21.28it/s]"
     ]
    },
    {
     "name": "stdout",
     "output_type": "stream",
     "text": [
      "128/128 [==============================] - 0s 30us/step\n",
      "64/64 [==============================] - 0s 37us/step\n",
      "64/64 [==============================] - 0s 38us/step\n",
      "128/128 [==============================] - 0s 35us/step\n",
      "64/64 [==============================] - 0s 42us/step\n",
      "64/64 [==============================] - 0s 66us/step\n",
      "128/128 [==============================] - 0s 37us/step\n",
      "64/64 [==============================] - 0s 33us/step\n",
      "64/64 [==============================] - 0s 38us/step\n",
      "128/128 [==============================] - 0s 32us/step\n",
      "64/64 [==============================] - 0s 55us/step\n",
      "64/64 [==============================] - 0s 51us/step\n",
      "128/128 [==============================] - 0s 36us/step\n",
      "64/64 [==============================] - 0s 35us/step\n",
      "64/64 [==============================] - 0s 42us/step\n"
     ]
    },
    {
     "name": "stderr",
     "output_type": "stream",
     "text": [
      "\r",
      " 11%|█         | 109/1000 [00:05<00:40, 21.77it/s]"
     ]
    },
    {
     "name": "stdout",
     "output_type": "stream",
     "text": [
      "128/128 [==============================] - 0s 36us/step\n",
      "64/64 [==============================] - 0s 36us/step\n",
      "64/64 [==============================] - 0s 54us/step\n",
      "128/128 [==============================] - 0s 31us/step\n",
      "64/64 [==============================] - 0s 37us/step\n",
      "64/64 [==============================] - 0s 39us/step\n",
      "128/128 [==============================] - 0s 29us/step\n",
      "64/64 [==============================] - 0s 49us/step\n",
      "64/64 [==============================] - 0s 52us/step\n",
      "128/128 [==============================] - 0s 30us/step\n",
      "64/64 [==============================] - 0s 39us/step\n",
      "64/64 [==============================] - 0s 42us/step\n",
      "128/128 [==============================] - 0s 28us/step\n",
      "64/64 [==============================] - 0s 56us/step\n",
      "64/64 [==============================] - 0s 33us/step\n"
     ]
    },
    {
     "name": "stderr",
     "output_type": "stream",
     "text": [
      "\r",
      " 11%|█▏        | 114/1000 [00:05<00:39, 22.26it/s]"
     ]
    },
    {
     "name": "stdout",
     "output_type": "stream",
     "text": [
      "128/128 [==============================] - 0s 29us/step\n",
      "64/64 [==============================] - 0s 42us/step\n",
      "64/64 [==============================] - 0s 56us/step\n",
      "128/128 [==============================] - 0s 30us/step\n",
      "64/64 [==============================] - 0s 40us/step\n",
      "64/64 [==============================] - 0s 38us/step\n",
      "128/128 [==============================] - 0s 37us/step\n",
      "64/64 [==============================] - 0s 33us/step\n",
      "64/64 [==============================] - 0s 69us/step\n",
      "128/128 [==============================] - 0s 39us/step\n",
      "64/64 [==============================] - 0s 56us/step\n",
      "64/64 [==============================] - 0s 61us/step\n",
      "128/128 [==============================] - 0s 32us/step\n",
      "64/64 [==============================] - 0s 35us/step\n",
      "64/64 [==============================] - 0s 96us/step\n"
     ]
    },
    {
     "name": "stderr",
     "output_type": "stream",
     "text": [
      "\r",
      " 12%|█▏        | 119/1000 [00:05<00:38, 22.68it/s]"
     ]
    },
    {
     "name": "stdout",
     "output_type": "stream",
     "text": [
      "128/128 [==============================] - 0s 28us/step\n",
      "64/64 [==============================] - 0s 63us/step\n",
      "64/64 [==============================] - 0s 57us/step\n",
      "128/128 [==============================] - 0s 35us/step\n",
      "64/64 [==============================] - 0s 46us/step\n",
      "64/64 [==============================] - 0s 62us/step\n",
      "128/128 [==============================] - 0s 31us/step\n",
      "64/64 [==============================] - 0s 55us/step\n",
      "64/64 [==============================] - 0s 41us/step\n",
      "128/128 [==============================] - 0s 32us/step\n",
      "64/64 [==============================] - 0s 38us/step\n",
      "64/64 [==============================] - 0s 38us/step\n",
      "128/128 [==============================] - 0s 33us/step\n",
      "64/64 [==============================] - 0s 39us/step\n",
      "64/64 [==============================] - 0s 40us/step\n"
     ]
    },
    {
     "name": "stderr",
     "output_type": "stream",
     "text": [
      "\r",
      " 12%|█▏        | 124/1000 [00:05<00:37, 23.12it/s]"
     ]
    },
    {
     "name": "stdout",
     "output_type": "stream",
     "text": [
      "128/128 [==============================] - 0s 31us/step\n",
      "64/64 [==============================] - 0s 53us/step\n",
      "64/64 [==============================] - 0s 47us/step\n",
      "128/128 [==============================] - 0s 37us/step\n",
      "64/64 [==============================] - 0s 47us/step\n",
      "64/64 [==============================] - 0s 43us/step\n",
      "128/128 [==============================] - 0s 40us/step\n",
      "64/64 [==============================] - 0s 72us/step\n",
      "64/64 [==============================] - 0s 35us/step\n",
      "128/128 [==============================] - 0s 30us/step\n",
      "64/64 [==============================] - 0s 42us/step\n",
      "64/64 [==============================] - 0s 45us/step\n",
      "128/128 [==============================] - 0s 35us/step\n",
      "64/64 [==============================] - 0s 57us/step\n",
      "64/64 [==============================] - 0s 47us/step\n"
     ]
    },
    {
     "name": "stderr",
     "output_type": "stream",
     "text": [
      "\r",
      " 13%|█▎        | 129/1000 [00:05<00:37, 23.53it/s]"
     ]
    },
    {
     "name": "stdout",
     "output_type": "stream",
     "text": [
      "128/128 [==============================] - 0s 34us/step\n",
      "64/64 [==============================] - 0s 59us/step\n",
      "64/64 [==============================] - 0s 47us/step\n",
      "128/128 [==============================] - 0s 28us/step\n",
      "64/64 [==============================] - 0s 30us/step\n",
      "64/64 [==============================] - 0s 50us/step\n",
      "128/128 [==============================] - 0s 40us/step\n",
      "64/64 [==============================] - 0s 39us/step\n",
      "64/64 [==============================] - 0s 37us/step\n",
      "128/128 [==============================] - 0s 36us/step\n",
      "64/64 [==============================] - 0s 36us/step\n",
      "64/64 [==============================] - 0s 53us/step\n",
      "128/128 [==============================] - 0s 29us/step\n",
      "64/64 [==============================] - 0s 50us/step\n",
      "64/64 [==============================] - 0s 31us/step\n"
     ]
    },
    {
     "name": "stderr",
     "output_type": "stream",
     "text": [
      "\r",
      " 13%|█▎        | 134/1000 [00:05<00:36, 23.94it/s]"
     ]
    },
    {
     "name": "stdout",
     "output_type": "stream",
     "text": [
      "128/128 [==============================] - 0s 40us/step\n",
      "64/64 [==============================] - 0s 50us/step\n",
      "64/64 [==============================] - 0s 46us/step\n",
      "128/128 [==============================] - 0s 30us/step\n",
      "64/64 [==============================] - 0s 57us/step\n",
      "64/64 [==============================] - 0s 79us/step\n",
      "128/128 [==============================] - 0s 38us/step\n",
      "64/64 [==============================] - 0s 45us/step\n",
      "64/64 [==============================] - 0s 33us/step\n",
      "128/128 [==============================] - 0s 29us/step\n",
      "64/64 [==============================] - 0s 53us/step\n",
      "64/64 [==============================] - 0s 64us/step\n",
      "128/128 [==============================] - 0s 37us/step\n",
      "64/64 [==============================] - 0s 47us/step\n",
      "64/64 [==============================] - 0s 36us/step\n"
     ]
    },
    {
     "name": "stderr",
     "output_type": "stream",
     "text": [
      "\r",
      " 14%|█▍        | 139/1000 [00:05<00:35, 24.28it/s]"
     ]
    },
    {
     "name": "stdout",
     "output_type": "stream",
     "text": [
      "128/128 [==============================] - 0s 28us/step\n",
      "64/64 [==============================] - 0s 58us/step\n",
      "64/64 [==============================] - 0s 53us/step\n",
      "128/128 [==============================] - 0s 30us/step\n",
      "64/64 [==============================] - 0s 37us/step\n",
      "64/64 [==============================] - 0s 51us/step\n",
      "128/128 [==============================] - 0s 34us/step\n",
      "64/64 [==============================] - 0s 61us/step\n",
      "64/64 [==============================] - 0s 50us/step\n",
      "128/128 [==============================] - 0s 29us/step\n",
      "64/64 [==============================] - 0s 51us/step\n",
      "64/64 [==============================] - 0s 54us/step\n",
      "128/128 [==============================] - 0s 31us/step\n",
      "64/64 [==============================] - 0s 55us/step\n",
      "64/64 [==============================] - 0s 46us/step\n"
     ]
    },
    {
     "name": "stderr",
     "output_type": "stream",
     "text": [
      "\r",
      " 14%|█▍        | 144/1000 [00:05<00:34, 24.62it/s]"
     ]
    },
    {
     "name": "stdout",
     "output_type": "stream",
     "text": [
      "128/128 [==============================] - 0s 30us/step\n",
      "64/64 [==============================] - 0s 53us/step\n",
      "64/64 [==============================] - 0s 46us/step\n",
      "128/128 [==============================] - 0s 34us/step\n",
      "64/64 [==============================] - 0s 38us/step\n",
      "64/64 [==============================] - 0s 40us/step\n",
      "128/128 [==============================] - 0s 32us/step\n",
      "64/64 [==============================] - 0s 56us/step\n",
      "64/64 [==============================] - 0s 47us/step\n",
      "128/128 [==============================] - 0s 34us/step\n",
      "64/64 [==============================] - 0s 50us/step\n",
      "64/64 [==============================] - 0s 44us/step\n",
      "128/128 [==============================] - 0s 31us/step\n",
      "64/64 [==============================] - 0s 41us/step\n",
      "64/64 [==============================] - 0s 41us/step\n"
     ]
    },
    {
     "name": "stderr",
     "output_type": "stream",
     "text": [
      "\r",
      " 15%|█▍        | 149/1000 [00:05<00:34, 24.96it/s]"
     ]
    },
    {
     "name": "stdout",
     "output_type": "stream",
     "text": [
      "128/128 [==============================] - 0s 32us/step\n",
      "64/64 [==============================] - 0s 43us/step\n",
      "64/64 [==============================] - 0s 45us/step\n",
      "128/128 [==============================] - 0s 29us/step\n",
      "64/64 [==============================] - 0s 60us/step\n",
      "64/64 [==============================] - 0s 44us/step\n",
      "128/128 [==============================] - 0s 35us/step\n",
      "64/64 [==============================] - 0s 33us/step\n",
      "64/64 [==============================] - 0s 41us/step\n",
      "128/128 [==============================] - 0s 29us/step\n",
      "64/64 [==============================] - 0s 35us/step\n",
      "64/64 [==============================] - 0s 48us/step\n",
      "128/128 [==============================] - 0s 28us/step\n",
      "64/64 [==============================] - 0s 58us/step\n",
      "64/64 [==============================] - 0s 36us/step\n"
     ]
    },
    {
     "name": "stderr",
     "output_type": "stream",
     "text": [
      "\r",
      " 15%|█▌        | 154/1000 [00:06<00:33, 25.31it/s]"
     ]
    },
    {
     "name": "stdout",
     "output_type": "stream",
     "text": [
      "128/128 [==============================] - 0s 31us/step\n",
      "64/64 [==============================] - 0s 33us/step\n",
      "64/64 [==============================] - 0s 39us/step\n",
      "128/128 [==============================] - 0s 37us/step\n",
      "64/64 [==============================] - 0s 61us/step\n",
      "64/64 [==============================] - 0s 53us/step\n",
      "128/128 [==============================] - 0s 33us/step\n",
      "64/64 [==============================] - 0s 37us/step\n",
      "64/64 [==============================] - 0s 60us/step\n",
      "128/128 [==============================] - 0s 37us/step\n",
      "64/64 [==============================] - 0s 53us/step\n",
      "64/64 [==============================] - 0s 71us/step\n",
      "128/128 [==============================] - 0s 32us/step\n",
      "64/64 [==============================] - 0s 39us/step\n",
      "64/64 [==============================] - 0s 43us/step\n"
     ]
    },
    {
     "name": "stderr",
     "output_type": "stream",
     "text": [
      "\r",
      " 16%|█▌        | 159/1000 [00:06<00:32, 25.61it/s]"
     ]
    },
    {
     "name": "stdout",
     "output_type": "stream",
     "text": [
      "128/128 [==============================] - 0s 39us/step\n",
      "64/64 [==============================] - 0s 45us/step\n",
      "64/64 [==============================] - 0s 33us/step\n",
      "128/128 [==============================] - 0s 31us/step\n",
      "64/64 [==============================] - 0s 57us/step\n",
      "64/64 [==============================] - 0s 128us/step\n",
      "128/128 [==============================] - 0s 40us/step\n",
      "64/64 [==============================] - 0s 39us/step\n",
      "64/64 [==============================] - 0s 39us/step\n",
      "128/128 [==============================] - 0s 32us/step\n",
      "64/64 [==============================] - 0s 53us/step\n",
      "64/64 [==============================] - 0s 57us/step\n",
      "128/128 [==============================] - 0s 30us/step\n",
      "64/64 [==============================] - 0s 46us/step\n",
      "64/64 [==============================] - 0s 44us/step\n"
     ]
    },
    {
     "name": "stderr",
     "output_type": "stream",
     "text": [
      "\r",
      " 16%|█▋        | 164/1000 [00:06<00:32, 25.88it/s]"
     ]
    },
    {
     "name": "stdout",
     "output_type": "stream",
     "text": [
      "128/128 [==============================] - 0s 29us/step\n",
      "64/64 [==============================] - 0s 65us/step\n",
      "64/64 [==============================] - 0s 43us/step\n",
      "128/128 [==============================] - 0s 45us/step\n",
      "64/64 [==============================] - 0s 47us/step\n",
      "64/64 [==============================] - 0s 39us/step\n",
      "128/128 [==============================] - 0s 28us/step\n",
      "64/64 [==============================] - 0s 61us/step\n",
      "64/64 [==============================] - 0s 62us/step\n",
      "128/128 [==============================] - 0s 28us/step\n",
      "64/64 [==============================] - 0s 68us/step\n",
      "64/64 [==============================] - 0s 42us/step\n",
      "128/128 [==============================] - 0s 29us/step\n",
      "64/64 [==============================] - 0s 37us/step\n",
      "64/64 [==============================] - 0s 38us/step\n"
     ]
    },
    {
     "name": "stderr",
     "output_type": "stream",
     "text": [
      "\r",
      " 17%|█▋        | 169/1000 [00:06<00:31, 26.17it/s]"
     ]
    },
    {
     "name": "stdout",
     "output_type": "stream",
     "text": [
      "128/128 [==============================] - 0s 35us/step\n",
      "64/64 [==============================] - 0s 54us/step\n",
      "64/64 [==============================] - 0s 49us/step\n",
      "128/128 [==============================] - 0s 32us/step\n",
      "64/64 [==============================] - 0s 52us/step\n",
      "64/64 [==============================] - 0s 43us/step\n",
      "128/128 [==============================] - 0s 30us/step\n",
      "64/64 [==============================] - 0s 35us/step\n",
      "64/64 [==============================] - 0s 95us/step\n",
      "128/128 [==============================] - 0s 30us/step\n",
      "64/64 [==============================] - 0s 48us/step\n",
      "64/64 [==============================] - 0s 37us/step\n",
      "128/128 [==============================] - 0s 28us/step\n",
      "64/64 [==============================] - 0s 44us/step\n",
      "64/64 [==============================] - 0s 58us/step\n"
     ]
    },
    {
     "name": "stderr",
     "output_type": "stream",
     "text": [
      "\r",
      " 17%|█▋        | 174/1000 [00:06<00:31, 26.45it/s]"
     ]
    },
    {
     "name": "stdout",
     "output_type": "stream",
     "text": [
      "128/128 [==============================] - 0s 34us/step\n",
      "64/64 [==============================] - 0s 54us/step\n",
      "64/64 [==============================] - 0s 52us/step\n",
      "128/128 [==============================] - 0s 31us/step\n",
      "64/64 [==============================] - 0s 51us/step\n",
      "64/64 [==============================] - 0s 33us/step\n",
      "128/128 [==============================] - 0s 32us/step\n",
      "64/64 [==============================] - 0s 44us/step\n",
      "64/64 [==============================] - 0s 52us/step\n",
      "128/128 [==============================] - 0s 32us/step\n",
      "64/64 [==============================] - 0s 48us/step\n",
      "64/64 [==============================] - 0s 33us/step\n",
      "128/128 [==============================] - 0s 35us/step\n",
      "64/64 [==============================] - 0s 99us/step\n",
      "64/64 [==============================] - 0s 52us/step\n"
     ]
    },
    {
     "name": "stderr",
     "output_type": "stream",
     "text": [
      "\r",
      " 18%|█▊        | 179/1000 [00:06<00:30, 26.72it/s]"
     ]
    },
    {
     "name": "stdout",
     "output_type": "stream",
     "text": [
      "128/128 [==============================] - 0s 37us/step\n",
      "64/64 [==============================] - 0s 42us/step\n",
      "64/64 [==============================] - 0s 31us/step\n",
      "128/128 [==============================] - 0s 33us/step\n",
      "64/64 [==============================] - 0s 32us/step\n",
      "64/64 [==============================] - 0s 36us/step\n",
      "128/128 [==============================] - 0s 30us/step\n",
      "64/64 [==============================] - 0s 39us/step\n",
      "64/64 [==============================] - 0s 52us/step\n",
      "128/128 [==============================] - 0s 40us/step\n",
      "64/64 [==============================] - 0s 38us/step\n",
      "64/64 [==============================] - 0s 37us/step\n",
      "128/128 [==============================] - 0s 28us/step\n",
      "64/64 [==============================] - 0s 51us/step\n",
      "64/64 [==============================] - 0s 50us/step\n"
     ]
    },
    {
     "name": "stderr",
     "output_type": "stream",
     "text": [
      "\r",
      " 18%|█▊        | 184/1000 [00:06<00:30, 27.01it/s]"
     ]
    },
    {
     "name": "stdout",
     "output_type": "stream",
     "text": [
      "128/128 [==============================] - 0s 41us/step\n",
      "64/64 [==============================] - 0s 37us/step\n",
      "64/64 [==============================] - 0s 34us/step\n",
      "128/128 [==============================] - 0s 33us/step\n",
      "64/64 [==============================] - 0s 34us/step\n",
      "64/64 [==============================] - 0s 57us/step\n",
      "128/128 [==============================] - 0s 28us/step\n",
      "64/64 [==============================] - 0s 108us/step\n",
      "64/64 [==============================] - 0s 34us/step\n",
      "128/128 [==============================] - 0s 30us/step\n",
      "64/64 [==============================] - 0s 52us/step\n",
      "64/64 [==============================] - 0s 43us/step\n",
      "128/128 [==============================] - 0s 30us/step\n",
      "64/64 [==============================] - 0s 69us/step\n",
      "64/64 [==============================] - 0s 52us/step\n"
     ]
    },
    {
     "name": "stderr",
     "output_type": "stream",
     "text": [
      "\r",
      " 19%|█▉        | 189/1000 [00:06<00:29, 27.25it/s]"
     ]
    },
    {
     "name": "stdout",
     "output_type": "stream",
     "text": [
      "128/128 [==============================] - 0s 28us/step\n",
      "64/64 [==============================] - 0s 47us/step\n",
      "64/64 [==============================] - 0s 35us/step\n",
      "128/128 [==============================] - 0s 29us/step\n",
      "64/64 [==============================] - 0s 42us/step\n",
      "64/64 [==============================] - 0s 58us/step\n",
      "128/128 [==============================] - 0s 35us/step\n",
      "64/64 [==============================] - 0s 37us/step\n",
      "64/64 [==============================] - 0s 35us/step\n",
      "128/128 [==============================] - 0s 33us/step\n",
      "64/64 [==============================] - 0s 45us/step\n",
      "64/64 [==============================] - 0s 45us/step\n",
      "128/128 [==============================] - 0s 32us/step\n",
      "64/64 [==============================] - 0s 59us/step\n",
      "64/64 [==============================] - 0s 43us/step\n"
     ]
    },
    {
     "name": "stderr",
     "output_type": "stream",
     "text": [
      "\r",
      " 19%|█▉        | 194/1000 [00:07<00:29, 27.51it/s]"
     ]
    },
    {
     "name": "stdout",
     "output_type": "stream",
     "text": [
      "128/128 [==============================] - 0s 32us/step\n",
      "64/64 [==============================] - 0s 46us/step\n",
      "64/64 [==============================] - 0s 43us/step\n",
      "128/128 [==============================] - 0s 29us/step\n",
      "64/64 [==============================] - 0s 58us/step\n",
      "64/64 [==============================] - 0s 53us/step\n",
      "128/128 [==============================] - 0s 31us/step\n",
      "64/64 [==============================] - 0s 39us/step\n",
      "64/64 [==============================] - 0s 45us/step\n",
      "128/128 [==============================] - 0s 30us/step\n",
      "64/64 [==============================] - 0s 40us/step\n",
      "64/64 [==============================] - 0s 39us/step\n",
      "128/128 [==============================] - 0s 26us/step\n",
      "64/64 [==============================] - 0s 46us/step\n",
      "64/64 [==============================] - 0s 41us/step\n"
     ]
    },
    {
     "name": "stderr",
     "output_type": "stream",
     "text": [
      "\r",
      " 20%|█▉        | 199/1000 [00:07<00:28, 27.77it/s]"
     ]
    },
    {
     "name": "stdout",
     "output_type": "stream",
     "text": [
      "128/128 [==============================] - 0s 40us/step\n",
      "64/64 [==============================] - 0s 40us/step\n",
      "64/64 [==============================] - 0s 49us/step\n",
      "128/128 [==============================] - 0s 36us/step\n",
      "64/64 [==============================] - 0s 58us/step\n",
      "64/64 [==============================] - 0s 50us/step\n",
      "128/128 [==============================] - 0s 28us/step\n",
      "64/64 [==============================] - 0s 52us/step\n",
      "64/64 [==============================] - 0s 51us/step\n",
      "128/128 [==============================] - 0s 31us/step\n",
      "64/64 [==============================] - 0s 47us/step\n",
      "64/64 [==============================] - 0s 71us/step\n",
      "128/128 [==============================] - 0s 29us/step\n",
      "64/64 [==============================] - 0s 54us/step\n",
      "64/64 [==============================] - 0s 57us/step\n"
     ]
    },
    {
     "name": "stderr",
     "output_type": "stream",
     "text": [
      "\r",
      " 20%|██        | 204/1000 [00:07<00:28, 28.00it/s]"
     ]
    },
    {
     "name": "stdout",
     "output_type": "stream",
     "text": [
      "128/128 [==============================] - 0s 37us/step\n",
      "64/64 [==============================] - 0s 34us/step\n",
      "64/64 [==============================] - 0s 31us/step\n",
      "128/128 [==============================] - 0s 28us/step\n",
      "64/64 [==============================] - 0s 38us/step\n",
      "64/64 [==============================] - 0s 72us/step\n",
      "128/128 [==============================] - 0s 39us/step\n",
      "64/64 [==============================] - 0s 40us/step\n",
      "64/64 [==============================] - 0s 51us/step\n",
      "128/128 [==============================] - 0s 30us/step\n",
      "64/64 [==============================] - 0s 53us/step\n",
      "64/64 [==============================] - 0s 55us/step\n",
      "128/128 [==============================] - 0s 39us/step\n",
      "64/64 [==============================] - 0s 52us/step\n",
      "64/64 [==============================] - 0s 44us/step\n"
     ]
    },
    {
     "name": "stderr",
     "output_type": "stream",
     "text": [
      "\r",
      " 21%|██        | 209/1000 [00:07<00:28, 28.22it/s]"
     ]
    },
    {
     "name": "stdout",
     "output_type": "stream",
     "text": [
      "128/128 [==============================] - 0s 32us/step\n",
      "64/64 [==============================] - 0s 35us/step\n",
      "64/64 [==============================] - 0s 45us/step\n",
      "128/128 [==============================] - 0s 30us/step\n",
      "64/64 [==============================] - 0s 36us/step\n",
      "64/64 [==============================] - 0s 36us/step\n",
      "128/128 [==============================] - 0s 33us/step\n",
      "64/64 [==============================] - 0s 33us/step\n",
      "64/64 [==============================] - 0s 43us/step\n",
      "128/128 [==============================] - 0s 27us/step\n",
      "64/64 [==============================] - 0s 64us/step\n",
      "64/64 [==============================] - 0s 62us/step\n",
      "128/128 [==============================] - 0s 31us/step\n",
      "64/64 [==============================] - 0s 57us/step\n",
      "64/64 [==============================] - 0s 50us/step\n"
     ]
    },
    {
     "name": "stderr",
     "output_type": "stream",
     "text": [
      "\r",
      " 21%|██▏       | 214/1000 [00:07<00:27, 28.46it/s]"
     ]
    },
    {
     "name": "stdout",
     "output_type": "stream",
     "text": [
      "128/128 [==============================] - 0s 27us/step\n",
      "64/64 [==============================] - 0s 44us/step\n",
      "64/64 [==============================] - 0s 36us/step\n",
      "128/128 [==============================] - 0s 35us/step\n",
      "64/64 [==============================] - 0s 94us/step\n",
      "64/64 [==============================] - 0s 63us/step\n",
      "128/128 [==============================] - 0s 34us/step\n",
      "64/64 [==============================] - 0s 42us/step\n",
      "64/64 [==============================] - 0s 52us/step\n",
      "128/128 [==============================] - 0s 57us/step\n",
      "64/64 [==============================] - 0s 62us/step\n",
      "64/64 [==============================] - 0s 46us/step\n",
      "128/128 [==============================] - 0s 37us/step\n",
      "64/64 [==============================] - 0s 34us/step\n",
      "64/64 [==============================] - 0s 104us/step\n"
     ]
    },
    {
     "name": "stderr",
     "output_type": "stream",
     "text": [
      "\r",
      " 22%|██▏       | 219/1000 [00:07<00:27, 28.63it/s]"
     ]
    },
    {
     "name": "stdout",
     "output_type": "stream",
     "text": [
      "128/128 [==============================] - 0s 44us/step\n",
      "64/64 [==============================] - 0s 36us/step\n",
      "64/64 [==============================] - 0s 44us/step\n",
      "128/128 [==============================] - 0s 32us/step\n",
      "64/64 [==============================] - 0s 31us/step\n",
      "64/64 [==============================] - 0s 55us/step\n",
      "128/128 [==============================] - 0s 41us/step\n",
      "64/64 [==============================] - 0s 76us/step\n",
      "64/64 [==============================] - 0s 42us/step\n",
      "128/128 [==============================] - 0s 30us/step\n",
      "64/64 [==============================] - 0s 33us/step\n",
      "64/64 [==============================] - 0s 63us/step\n",
      "128/128 [==============================] - 0s 39us/step\n",
      "64/64 [==============================] - 0s 45us/step\n",
      "64/64 [==============================] - 0s 35us/step\n"
     ]
    },
    {
     "name": "stderr",
     "output_type": "stream",
     "text": [
      "\r",
      " 22%|██▏       | 224/1000 [00:07<00:26, 28.84it/s]"
     ]
    },
    {
     "name": "stdout",
     "output_type": "stream",
     "text": [
      "128/128 [==============================] - 0s 28us/step\n",
      "64/64 [==============================] - 0s 49us/step\n",
      "64/64 [==============================] - 0s 43us/step\n",
      "128/128 [==============================] - 0s 37us/step\n",
      "64/64 [==============================] - 0s 44us/step\n",
      "64/64 [==============================] - 0s 50us/step\n",
      "128/128 [==============================] - 0s 30us/step\n",
      "64/64 [==============================] - 0s 32us/step\n",
      "64/64 [==============================] - 0s 34us/step\n",
      "128/128 [==============================] - 0s 37us/step\n",
      "64/64 [==============================] - 0s 59us/step\n",
      "64/64 [==============================] - 0s 47us/step\n",
      "128/128 [==============================] - 0s 31us/step\n",
      "64/64 [==============================] - 0s 50us/step\n",
      "64/64 [==============================] - 0s 46us/step\n"
     ]
    },
    {
     "name": "stderr",
     "output_type": "stream",
     "text": [
      "\r",
      " 23%|██▎       | 229/1000 [00:07<00:26, 29.04it/s]"
     ]
    },
    {
     "name": "stdout",
     "output_type": "stream",
     "text": [
      "128/128 [==============================] - 0s 30us/step\n",
      "64/64 [==============================] - 0s 37us/step\n",
      "64/64 [==============================] - 0s 33us/step\n",
      "128/128 [==============================] - 0s 28us/step\n",
      "64/64 [==============================] - 0s 47us/step\n",
      "64/64 [==============================] - 0s 58us/step\n",
      "128/128 [==============================] - 0s 31us/step\n",
      "64/64 [==============================] - 0s 43us/step\n",
      "64/64 [==============================] - 0s 33us/step\n",
      "128/128 [==============================] - 0s 35us/step\n",
      "64/64 [==============================] - 0s 48us/step\n",
      "64/64 [==============================] - 0s 45us/step\n",
      "128/128 [==============================] - 0s 31us/step\n",
      "64/64 [==============================] - 0s 36us/step\n",
      "64/64 [==============================] - 0s 45us/step\n"
     ]
    },
    {
     "name": "stderr",
     "output_type": "stream",
     "text": [
      "\r",
      " 23%|██▎       | 234/1000 [00:07<00:26, 29.26it/s]"
     ]
    },
    {
     "name": "stdout",
     "output_type": "stream",
     "text": [
      "128/128 [==============================] - 0s 43us/step\n",
      "64/64 [==============================] - 0s 33us/step\n",
      "64/64 [==============================] - 0s 37us/step\n",
      "128/128 [==============================] - 0s 31us/step\n",
      "64/64 [==============================] - 0s 66us/step\n",
      "64/64 [==============================] - 0s 58us/step\n",
      "128/128 [==============================] - 0s 29us/step\n",
      "64/64 [==============================] - 0s 44us/step\n",
      "64/64 [==============================] - 0s 47us/step\n",
      "128/128 [==============================] - 0s 34us/step\n",
      "64/64 [==============================] - 0s 33us/step\n",
      "64/64 [==============================] - 0s 34us/step\n",
      "128/128 [==============================] - 0s 28us/step\n",
      "64/64 [==============================] - 0s 44us/step\n",
      "64/64 [==============================] - 0s 52us/step\n"
     ]
    },
    {
     "name": "stderr",
     "output_type": "stream",
     "text": [
      "\r",
      " 24%|██▍       | 239/1000 [00:08<00:25, 29.46it/s]"
     ]
    },
    {
     "name": "stdout",
     "output_type": "stream",
     "text": [
      "128/128 [==============================] - 0s 74us/step\n",
      "64/64 [==============================] - 0s 50us/step\n",
      "64/64 [==============================] - 0s 43us/step\n",
      "128/128 [==============================] - 0s 27us/step\n",
      "64/64 [==============================] - 0s 43us/step\n",
      "64/64 [==============================] - 0s 72us/step\n",
      "128/128 [==============================] - 0s 32us/step\n",
      "64/64 [==============================] - 0s 47us/step\n",
      "64/64 [==============================] - 0s 47us/step\n",
      "128/128 [==============================] - 0s 31us/step\n",
      "64/64 [==============================] - 0s 47us/step\n",
      "64/64 [==============================] - 0s 67us/step\n",
      "128/128 [==============================] - 0s 31us/step\n",
      "64/64 [==============================] - 0s 34us/step\n",
      "64/64 [==============================] - 0s 42us/step\n"
     ]
    },
    {
     "name": "stderr",
     "output_type": "stream",
     "text": [
      "\r",
      " 24%|██▍       | 244/1000 [00:08<00:25, 29.64it/s]"
     ]
    },
    {
     "name": "stdout",
     "output_type": "stream",
     "text": [
      "128/128 [==============================] - 0s 32us/step\n",
      "64/64 [==============================] - 0s 42us/step\n",
      "64/64 [==============================] - 0s 60us/step\n",
      "128/128 [==============================] - 0s 38us/step\n",
      "64/64 [==============================] - 0s 58us/step\n",
      "64/64 [==============================] - 0s 58us/step\n",
      "128/128 [==============================] - 0s 38us/step\n",
      "64/64 [==============================] - 0s 40us/step\n",
      "64/64 [==============================] - 0s 50us/step\n",
      "128/128 [==============================] - 0s 30us/step\n",
      "64/64 [==============================] - 0s 31us/step\n",
      "64/64 [==============================] - 0s 41us/step\n",
      "128/128 [==============================] - 0s 46us/step\n",
      "64/64 [==============================] - 0s 53us/step\n",
      "64/64 [==============================] - 0s 34us/step\n"
     ]
    },
    {
     "name": "stderr",
     "output_type": "stream",
     "text": [
      "\r",
      " 25%|██▍       | 249/1000 [00:08<00:25, 29.80it/s]"
     ]
    },
    {
     "name": "stdout",
     "output_type": "stream",
     "text": [
      "128/128 [==============================] - 0s 27us/step\n",
      "64/64 [==============================] - 0s 56us/step\n",
      "64/64 [==============================] - 0s 33us/step\n",
      "128/128 [==============================] - 0s 31us/step\n",
      "64/64 [==============================] - 0s 38us/step\n",
      "64/64 [==============================] - 0s 58us/step\n",
      "128/128 [==============================] - 0s 38us/step\n",
      "64/64 [==============================] - 0s 48us/step\n",
      "64/64 [==============================] - 0s 39us/step\n",
      "128/128 [==============================] - 0s 29us/step\n",
      "64/64 [==============================] - 0s 40us/step\n",
      "64/64 [==============================] - 0s 66us/step\n",
      "128/128 [==============================] - 0s 36us/step\n",
      "64/64 [==============================] - 0s 32us/step\n",
      "64/64 [==============================] - 0s 36us/step\n"
     ]
    },
    {
     "name": "stderr",
     "output_type": "stream",
     "text": [
      "\r",
      " 25%|██▌       | 254/1000 [00:08<00:24, 29.99it/s]"
     ]
    },
    {
     "name": "stdout",
     "output_type": "stream",
     "text": [
      "128/128 [==============================] - 0s 30us/step\n",
      "64/64 [==============================] - 0s 89us/step\n",
      "64/64 [==============================] - 0s 54us/step\n",
      "128/128 [==============================] - 0s 38us/step\n",
      "64/64 [==============================] - 0s 38us/step\n",
      "64/64 [==============================] - 0s 41us/step\n",
      "128/128 [==============================] - 0s 28us/step\n",
      "64/64 [==============================] - 0s 37us/step\n",
      "64/64 [==============================] - 0s 94us/step\n",
      "128/128 [==============================] - 0s 34us/step\n",
      "64/64 [==============================] - 0s 43us/step\n",
      "64/64 [==============================] - 0s 34us/step\n",
      "128/128 [==============================] - 0s 30us/step\n",
      "64/64 [==============================] - 0s 33us/step\n",
      "64/64 [==============================] - 0s 45us/step\n"
     ]
    },
    {
     "name": "stderr",
     "output_type": "stream",
     "text": [
      "\r",
      " 26%|██▌       | 259/1000 [00:08<00:24, 30.15it/s]"
     ]
    },
    {
     "name": "stdout",
     "output_type": "stream",
     "text": [
      "128/128 [==============================] - 0s 26us/step\n",
      "64/64 [==============================] - 0s 37us/step\n",
      "64/64 [==============================] - 0s 115us/step\n",
      "128/128 [==============================] - 0s 35us/step\n",
      "64/64 [==============================] - 0s 31us/step\n",
      "64/64 [==============================] - 0s 39us/step\n",
      "128/128 [==============================] - 0s 32us/step\n",
      "64/64 [==============================] - 0s 55us/step\n",
      "64/64 [==============================] - 0s 57us/step\n",
      "128/128 [==============================] - 0s 29us/step\n",
      "64/64 [==============================] - 0s 46us/step\n",
      "64/64 [==============================] - 0s 33us/step\n",
      "128/128 [==============================] - 0s 29us/step\n",
      "64/64 [==============================] - 0s 56us/step\n",
      "64/64 [==============================] - 0s 46us/step\n"
     ]
    },
    {
     "name": "stderr",
     "output_type": "stream",
     "text": [
      "\r",
      " 26%|██▋       | 264/1000 [00:08<00:24, 30.30it/s]"
     ]
    },
    {
     "name": "stdout",
     "output_type": "stream",
     "text": [
      "128/128 [==============================] - 0s 40us/step\n",
      "64/64 [==============================] - 0s 49us/step\n",
      "64/64 [==============================] - 0s 44us/step\n",
      "128/128 [==============================] - 0s 30us/step\n",
      "64/64 [==============================] - 0s 52us/step\n",
      "64/64 [==============================] - 0s 109us/step\n",
      "128/128 [==============================] - 0s 41us/step\n",
      "64/64 [==============================] - 0s 46us/step\n",
      "64/64 [==============================] - 0s 61us/step\n",
      "128/128 [==============================] - 0s 35us/step\n",
      "64/64 [==============================] - 0s 48us/step\n",
      "64/64 [==============================] - 0s 63us/step\n",
      "128/128 [==============================] - 0s 39us/step\n",
      "64/64 [==============================] - 0s 53us/step\n",
      "64/64 [==============================] - 0s 52us/step\n"
     ]
    },
    {
     "name": "stderr",
     "output_type": "stream",
     "text": [
      "\r",
      " 27%|██▋       | 269/1000 [00:08<00:24, 30.43it/s]"
     ]
    },
    {
     "name": "stdout",
     "output_type": "stream",
     "text": [
      "128/128 [==============================] - 0s 39us/step\n",
      "64/64 [==============================] - 0s 33us/step\n",
      "64/64 [==============================] - 0s 39us/step\n",
      "128/128 [==============================] - 0s 30us/step\n",
      "64/64 [==============================] - 0s 46us/step\n",
      "64/64 [==============================] - 0s 49us/step\n",
      "128/128 [==============================] - 0s 34us/step\n",
      "64/64 [==============================] - 0s 30us/step\n",
      "64/64 [==============================] - 0s 31us/step\n",
      "128/128 [==============================] - 0s 35us/step\n",
      "64/64 [==============================] - 0s 35us/step\n",
      "64/64 [==============================] - 0s 80us/step\n",
      "128/128 [==============================] - 0s 35us/step\n",
      "64/64 [==============================] - 0s 53us/step\n",
      "64/64 [==============================] - 0s 35us/step\n"
     ]
    },
    {
     "name": "stderr",
     "output_type": "stream",
     "text": [
      "\r",
      " 27%|██▋       | 274/1000 [00:08<00:23, 30.60it/s]"
     ]
    },
    {
     "name": "stdout",
     "output_type": "stream",
     "text": [
      "128/128 [==============================] - 0s 29us/step\n",
      "64/64 [==============================] - 0s 45us/step\n",
      "64/64 [==============================] - 0s 56us/step\n",
      "128/128 [==============================] - 0s 37us/step\n",
      "64/64 [==============================] - 0s 68us/step\n",
      "64/64 [==============================] - 0s 51us/step\n",
      "128/128 [==============================] - 0s 36us/step\n",
      "64/64 [==============================] - 0s 31us/step\n",
      "64/64 [==============================] - 0s 51us/step\n",
      "128/128 [==============================] - 0s 27us/step\n",
      "64/64 [==============================] - 0s 67us/step\n",
      "64/64 [==============================] - 0s 41us/step\n",
      "128/128 [==============================] - 0s 33us/step\n",
      "64/64 [==============================] - 0s 44us/step\n",
      "64/64 [==============================] - 0s 46us/step\n"
     ]
    },
    {
     "name": "stderr",
     "output_type": "stream",
     "text": [
      "\r",
      " 28%|██▊       | 279/1000 [00:09<00:23, 30.75it/s]"
     ]
    },
    {
     "name": "stdout",
     "output_type": "stream",
     "text": [
      "128/128 [==============================] - 0s 35us/step\n",
      "64/64 [==============================] - 0s 32us/step\n",
      "64/64 [==============================] - 0s 56us/step\n",
      "128/128 [==============================] - 0s 38us/step\n",
      "64/64 [==============================] - 0s 42us/step\n",
      "64/64 [==============================] - 0s 48us/step\n",
      "128/128 [==============================] - 0s 28us/step\n",
      "64/64 [==============================] - 0s 45us/step\n",
      "64/64 [==============================] - 0s 63us/step\n",
      "128/128 [==============================] - 0s 31us/step\n",
      "64/64 [==============================] - 0s 59us/step\n",
      "64/64 [==============================] - 0s 33us/step\n",
      "128/128 [==============================] - 0s 36us/step\n",
      "64/64 [==============================] - 0s 38us/step\n",
      "64/64 [==============================] - 0s 44us/step\n"
     ]
    },
    {
     "name": "stderr",
     "output_type": "stream",
     "text": [
      "\r",
      " 28%|██▊       | 284/1000 [00:09<00:23, 30.90it/s]"
     ]
    },
    {
     "name": "stdout",
     "output_type": "stream",
     "text": [
      "128/128 [==============================] - 0s 28us/step\n",
      "64/64 [==============================] - 0s 74us/step\n",
      "64/64 [==============================] - 0s 51us/step\n",
      "128/128 [==============================] - 0s 43us/step\n",
      "64/64 [==============================] - 0s 53us/step\n",
      "64/64 [==============================] - 0s 43us/step\n",
      "128/128 [==============================] - 0s 29us/step\n",
      "64/64 [==============================] - 0s 42us/step\n",
      "64/64 [==============================] - 0s 44us/step\n",
      "128/128 [==============================] - 0s 36us/step\n",
      "64/64 [==============================] - 0s 51us/step\n",
      "64/64 [==============================] - 0s 44us/step\n",
      "128/128 [==============================] - 0s 29us/step\n",
      "64/64 [==============================] - 0s 58us/step\n",
      "64/64 [==============================] - 0s 37us/step\n"
     ]
    },
    {
     "name": "stderr",
     "output_type": "stream",
     "text": [
      "\r",
      " 29%|██▉       | 289/1000 [00:09<00:22, 31.04it/s]"
     ]
    },
    {
     "name": "stdout",
     "output_type": "stream",
     "text": [
      "128/128 [==============================] - 0s 29us/step\n",
      "64/64 [==============================] - 0s 50us/step\n",
      "64/64 [==============================] - 0s 61us/step\n",
      "128/128 [==============================] - 0s 28us/step\n",
      "64/64 [==============================] - 0s 42us/step\n",
      "64/64 [==============================] - 0s 94us/step\n",
      "128/128 [==============================] - 0s 38us/step\n",
      "64/64 [==============================] - 0s 59us/step\n",
      "64/64 [==============================] - 0s 63us/step\n",
      "128/128 [==============================] - 0s 35us/step\n",
      "64/64 [==============================] - 0s 33us/step\n",
      "64/64 [==============================] - 0s 69us/step\n",
      "128/128 [==============================] - 0s 32us/step\n",
      "64/64 [==============================] - 0s 41us/step\n",
      "64/64 [==============================] - 0s 36us/step\n"
     ]
    },
    {
     "name": "stderr",
     "output_type": "stream",
     "text": [
      "\r",
      " 29%|██▉       | 294/1000 [00:09<00:22, 31.16it/s]"
     ]
    },
    {
     "name": "stdout",
     "output_type": "stream",
     "text": [
      "128/128 [==============================] - 0s 39us/step\n",
      "64/64 [==============================] - 0s 32us/step\n",
      "64/64 [==============================] - 0s 49us/step\n",
      "128/128 [==============================] - 0s 26us/step\n",
      "64/64 [==============================] - 0s 41us/step\n",
      "64/64 [==============================] - 0s 51us/step\n",
      "128/128 [==============================] - 0s 35us/step\n",
      "64/64 [==============================] - 0s 51us/step\n",
      "64/64 [==============================] - 0s 38us/step\n",
      "128/128 [==============================] - 0s 35us/step\n",
      "64/64 [==============================] - 0s 53us/step\n",
      "64/64 [==============================] - 0s 46us/step\n",
      "128/128 [==============================] - 0s 35us/step\n",
      "64/64 [==============================] - 0s 55us/step\n",
      "64/64 [==============================] - 0s 39us/step\n"
     ]
    },
    {
     "name": "stderr",
     "output_type": "stream",
     "text": [
      "\r",
      " 30%|██▉       | 299/1000 [00:09<00:22, 31.29it/s]"
     ]
    },
    {
     "name": "stdout",
     "output_type": "stream",
     "text": [
      "128/128 [==============================] - 0s 35us/step\n",
      "64/64 [==============================] - 0s 32us/step\n",
      "64/64 [==============================] - 0s 51us/step\n",
      "128/128 [==============================] - 0s 39us/step\n",
      "64/64 [==============================] - 0s 59us/step\n",
      "64/64 [==============================] - 0s 55us/step\n",
      "128/128 [==============================] - 0s 37us/step\n",
      "64/64 [==============================] - 0s 37us/step\n",
      "64/64 [==============================] - 0s 46us/step\n",
      "128/128 [==============================] - 0s 28us/step\n",
      "64/64 [==============================] - 0s 45us/step\n",
      "64/64 [==============================] - 0s 46us/step\n",
      "128/128 [==============================] - 0s 43us/step\n",
      "64/64 [==============================] - 0s 37us/step\n",
      "64/64 [==============================] - 0s 51us/step\n"
     ]
    },
    {
     "name": "stderr",
     "output_type": "stream",
     "text": [
      "\r",
      " 30%|███       | 304/1000 [00:09<00:22, 31.43it/s]"
     ]
    },
    {
     "name": "stdout",
     "output_type": "stream",
     "text": [
      "128/128 [==============================] - 0s 37us/step\n",
      "64/64 [==============================] - 0s 38us/step\n",
      "64/64 [==============================] - 0s 55us/step\n",
      "128/128 [==============================] - 0s 32us/step\n",
      "64/64 [==============================] - 0s 48us/step\n",
      "64/64 [==============================] - 0s 47us/step\n",
      "128/128 [==============================] - 0s 37us/step\n",
      "64/64 [==============================] - 0s 37us/step\n",
      "64/64 [==============================] - 0s 40us/step\n",
      "128/128 [==============================] - 0s 37us/step\n",
      "64/64 [==============================] - 0s 40us/step\n",
      "64/64 [==============================] - 0s 57us/step\n",
      "128/128 [==============================] - 0s 33us/step\n",
      "64/64 [==============================] - 0s 48us/step\n",
      "64/64 [==============================] - 0s 47us/step\n"
     ]
    },
    {
     "name": "stderr",
     "output_type": "stream",
     "text": [
      "\r",
      " 31%|███       | 309/1000 [00:09<00:21, 31.56it/s]"
     ]
    },
    {
     "name": "stdout",
     "output_type": "stream",
     "text": [
      "128/128 [==============================] - 0s 32us/step\n",
      "64/64 [==============================] - 0s 76us/step\n",
      "64/64 [==============================] - 0s 48us/step\n",
      "128/128 [==============================] - 0s 33us/step\n",
      "64/64 [==============================] - 0s 32us/step\n",
      "64/64 [==============================] - 0s 35us/step\n",
      "128/128 [==============================] - 0s 30us/step\n",
      "64/64 [==============================] - 0s 50us/step\n",
      "64/64 [==============================] - 0s 39us/step\n",
      "128/128 [==============================] - 0s 37us/step\n",
      "64/64 [==============================] - 0s 62us/step\n",
      "64/64 [==============================] - 0s 56us/step\n",
      "128/128 [==============================] - 0s 29us/step\n",
      "64/64 [==============================] - 0s 51us/step\n",
      "64/64 [==============================] - 0s 33us/step\n"
     ]
    },
    {
     "name": "stderr",
     "output_type": "stream",
     "text": [
      "\r",
      " 31%|███▏      | 314/1000 [00:09<00:21, 31.69it/s]"
     ]
    },
    {
     "name": "stdout",
     "output_type": "stream",
     "text": [
      "128/128 [==============================] - 0s 42us/step\n",
      "64/64 [==============================] - 0s 55us/step\n",
      "64/64 [==============================] - 0s 35us/step\n",
      "128/128 [==============================] - 0s 36us/step\n",
      "64/64 [==============================] - 0s 31us/step\n",
      "64/64 [==============================] - 0s 34us/step\n",
      "128/128 [==============================] - 0s 34us/step\n",
      "64/64 [==============================] - 0s 37us/step\n",
      "64/64 [==============================] - 0s 40us/step\n",
      "128/128 [==============================] - 0s 37us/step\n",
      "64/64 [==============================] - 0s 41us/step\n",
      "64/64 [==============================] - 0s 34us/step\n",
      "128/128 [==============================] - 0s 38us/step\n",
      "64/64 [==============================] - 0s 42us/step\n",
      "64/64 [==============================] - 0s 45us/step\n"
     ]
    },
    {
     "name": "stderr",
     "output_type": "stream",
     "text": [
      "\r",
      " 32%|███▏      | 319/1000 [00:10<00:21, 31.82it/s]"
     ]
    },
    {
     "name": "stdout",
     "output_type": "stream",
     "text": [
      "128/128 [==============================] - 0s 36us/step\n",
      "64/64 [==============================] - 0s 50us/step\n",
      "64/64 [==============================] - 0s 66us/step\n",
      "128/128 [==============================] - 0s 35us/step\n",
      "64/64 [==============================] - 0s 49us/step\n",
      "64/64 [==============================] - 0s 48us/step\n",
      "128/128 [==============================] - 0s 34us/step\n",
      "64/64 [==============================] - 0s 47us/step\n",
      "64/64 [==============================] - 0s 52us/step\n",
      "128/128 [==============================] - 0s 40us/step\n",
      "64/64 [==============================] - 0s 44us/step\n",
      "64/64 [==============================] - 0s 53us/step\n",
      "128/128 [==============================] - 0s 29us/step\n",
      "64/64 [==============================] - 0s 29us/step\n",
      "64/64 [==============================] - 0s 36us/step\n"
     ]
    },
    {
     "name": "stderr",
     "output_type": "stream",
     "text": [
      "\r",
      " 32%|███▏      | 324/1000 [00:10<00:21, 31.94it/s]"
     ]
    },
    {
     "name": "stdout",
     "output_type": "stream",
     "text": [
      "128/128 [==============================] - 0s 28us/step\n",
      "64/64 [==============================] - 0s 40us/step\n",
      "64/64 [==============================] - 0s 48us/step\n",
      "128/128 [==============================] - 0s 38us/step\n",
      "64/64 [==============================] - 0s 50us/step\n",
      "64/64 [==============================] - 0s 35us/step\n",
      "128/128 [==============================] - 0s 28us/step\n",
      "64/64 [==============================] - 0s 57us/step\n",
      "64/64 [==============================] - 0s 41us/step\n",
      "128/128 [==============================] - 0s 31us/step\n",
      "64/64 [==============================] - 0s 48us/step\n",
      "64/64 [==============================] - 0s 54us/step\n",
      "128/128 [==============================] - 0s 33us/step\n",
      "64/64 [==============================] - 0s 35us/step\n",
      "64/64 [==============================] - 0s 57us/step\n"
     ]
    },
    {
     "name": "stderr",
     "output_type": "stream",
     "text": [
      "\r",
      " 33%|███▎      | 329/1000 [00:10<00:20, 32.07it/s]"
     ]
    },
    {
     "name": "stdout",
     "output_type": "stream",
     "text": [
      "128/128 [==============================] - 0s 37us/step\n",
      "64/64 [==============================] - 0s 48us/step\n",
      "64/64 [==============================] - 0s 46us/step\n",
      "128/128 [==============================] - 0s 34us/step\n",
      "64/64 [==============================] - 0s 49us/step\n",
      "64/64 [==============================] - 0s 57us/step\n",
      "128/128 [==============================] - 0s 32us/step\n",
      "64/64 [==============================] - 0s 39us/step\n",
      "64/64 [==============================] - 0s 34us/step\n",
      "128/128 [==============================] - 0s 32us/step\n",
      "64/64 [==============================] - 0s 37us/step\n",
      "64/64 [==============================] - 0s 35us/step\n",
      "128/128 [==============================] - 0s 28us/step\n",
      "64/64 [==============================] - 0s 33us/step\n",
      "64/64 [==============================] - 0s 33us/step\n"
     ]
    },
    {
     "name": "stderr",
     "output_type": "stream",
     "text": [
      "\r",
      " 33%|███▎      | 334/1000 [00:10<00:20, 32.20it/s]"
     ]
    },
    {
     "name": "stdout",
     "output_type": "stream",
     "text": [
      "128/128 [==============================] - 0s 30us/step\n",
      "64/64 [==============================] - 0s 50us/step\n",
      "64/64 [==============================] - 0s 47us/step\n",
      "128/128 [==============================] - 0s 38us/step\n",
      "64/64 [==============================] - 0s 36us/step\n",
      "64/64 [==============================] - 0s 48us/step\n",
      "128/128 [==============================] - 0s 32us/step\n",
      "64/64 [==============================] - 0s 36us/step\n",
      "64/64 [==============================] - 0s 52us/step\n",
      "128/128 [==============================] - 0s 28us/step\n",
      "64/64 [==============================] - 0s 43us/step\n",
      "64/64 [==============================] - 0s 50us/step\n",
      "128/128 [==============================] - 0s 29us/step\n",
      "64/64 [==============================] - 0s 57us/step\n",
      "64/64 [==============================] - 0s 48us/step\n"
     ]
    },
    {
     "name": "stderr",
     "output_type": "stream",
     "text": [
      "\r",
      " 34%|███▍      | 339/1000 [00:10<00:20, 32.32it/s]"
     ]
    },
    {
     "name": "stdout",
     "output_type": "stream",
     "text": [
      "128/128 [==============================] - 0s 35us/step\n",
      "64/64 [==============================] - 0s 39us/step\n",
      "64/64 [==============================] - 0s 39us/step\n",
      "128/128 [==============================] - 0s 34us/step\n",
      "64/64 [==============================] - 0s 39us/step\n",
      "64/64 [==============================] - 0s 53us/step\n",
      "128/128 [==============================] - 0s 31us/step\n",
      "64/64 [==============================] - 0s 45us/step\n",
      "64/64 [==============================] - 0s 39us/step\n",
      "128/128 [==============================] - 0s 33us/step\n",
      "64/64 [==============================] - 0s 57us/step\n",
      "64/64 [==============================] - 0s 42us/step\n",
      "128/128 [==============================] - 0s 56us/step\n",
      "64/64 [==============================] - 0s 39us/step\n",
      "64/64 [==============================] - 0s 37us/step\n"
     ]
    },
    {
     "name": "stderr",
     "output_type": "stream",
     "text": [
      "\r",
      " 34%|███▍      | 344/1000 [00:10<00:20, 32.44it/s]"
     ]
    },
    {
     "name": "stdout",
     "output_type": "stream",
     "text": [
      "128/128 [==============================] - 0s 41us/step\n",
      "64/64 [==============================] - 0s 34us/step\n",
      "64/64 [==============================] - 0s 58us/step\n",
      "128/128 [==============================] - 0s 28us/step\n",
      "64/64 [==============================] - 0s 71us/step\n",
      "64/64 [==============================] - 0s 54us/step\n",
      "128/128 [==============================] - 0s 29us/step\n",
      "64/64 [==============================] - 0s 37us/step\n",
      "64/64 [==============================] - 0s 66us/step\n",
      "128/128 [==============================] - 0s 31us/step\n",
      "64/64 [==============================] - 0s 55us/step\n",
      "64/64 [==============================] - 0s 40us/step\n",
      "128/128 [==============================] - 0s 42us/step\n",
      "64/64 [==============================] - 0s 36us/step\n",
      "64/64 [==============================] - 0s 45us/step\n"
     ]
    },
    {
     "name": "stderr",
     "output_type": "stream",
     "text": [
      "\r",
      " 35%|███▍      | 349/1000 [00:10<00:20, 32.54it/s]"
     ]
    },
    {
     "name": "stdout",
     "output_type": "stream",
     "text": [
      "128/128 [==============================] - 0s 26us/step\n",
      "64/64 [==============================] - 0s 39us/step\n",
      "64/64 [==============================] - 0s 35us/step\n",
      "128/128 [==============================] - 0s 41us/step\n",
      "64/64 [==============================] - 0s 42us/step\n",
      "64/64 [==============================] - 0s 45us/step\n",
      "128/128 [==============================] - 0s 36us/step\n",
      "64/64 [==============================] - 0s 52us/step\n",
      "64/64 [==============================] - 0s 35us/step\n",
      "128/128 [==============================] - 0s 41us/step\n",
      "64/64 [==============================] - 0s 53us/step\n",
      "64/64 [==============================] - 0s 40us/step\n",
      "128/128 [==============================] - 0s 28us/step\n",
      "64/64 [==============================] - 0s 37us/step\n",
      "64/64 [==============================] - 0s 39us/step\n"
     ]
    },
    {
     "name": "stderr",
     "output_type": "stream",
     "text": [
      "\r",
      " 35%|███▌      | 354/1000 [00:10<00:19, 32.66it/s]"
     ]
    },
    {
     "name": "stdout",
     "output_type": "stream",
     "text": [
      "128/128 [==============================] - 0s 27us/step\n",
      "64/64 [==============================] - 0s 28us/step\n",
      "64/64 [==============================] - 0s 40us/step\n",
      "128/128 [==============================] - 0s 30us/step\n",
      "64/64 [==============================] - 0s 40us/step\n",
      "64/64 [==============================] - 0s 38us/step\n",
      "128/128 [==============================] - 0s 28us/step\n",
      "64/64 [==============================] - 0s 41us/step\n",
      "64/64 [==============================] - 0s 52us/step\n",
      "128/128 [==============================] - 0s 36us/step\n",
      "64/64 [==============================] - 0s 43us/step\n",
      "64/64 [==============================] - 0s 44us/step\n",
      "128/128 [==============================] - ETA:  - 0s 32us/step\n",
      "64/64 [==============================] - 0s 51us/step\n",
      "64/64 [==============================] - 0s 49us/step\n"
     ]
    },
    {
     "name": "stderr",
     "output_type": "stream",
     "text": [
      "\r",
      " 36%|███▌      | 359/1000 [00:10<00:19, 32.78it/s]"
     ]
    },
    {
     "name": "stdout",
     "output_type": "stream",
     "text": [
      "128/128 [==============================] - 0s 30us/step\n",
      "64/64 [==============================] - 0s 35us/step\n",
      "64/64 [==============================] - 0s 47us/step\n",
      "128/128 [==============================] - 0s 30us/step\n",
      "64/64 [==============================] - 0s 50us/step\n",
      "64/64 [==============================] - 0s 38us/step\n",
      "128/128 [==============================] - 0s 30us/step\n",
      "64/64 [==============================] - 0s 47us/step\n",
      "64/64 [==============================] - 0s 50us/step\n",
      "128/128 [==============================] - 0s 32us/step\n",
      "64/64 [==============================] - 0s 35us/step\n",
      "64/64 [==============================] - 0s 51us/step\n",
      "128/128 [==============================] - 0s 28us/step\n",
      "64/64 [==============================] - 0s 100us/step\n",
      "64/64 [==============================] - 0s 53us/step\n"
     ]
    },
    {
     "name": "stderr",
     "output_type": "stream",
     "text": [
      "\r",
      " 36%|███▋      | 364/1000 [00:11<00:19, 32.89it/s]"
     ]
    },
    {
     "name": "stdout",
     "output_type": "stream",
     "text": [
      "128/128 [==============================] - 0s 31us/step\n",
      "64/64 [==============================] - 0s 39us/step\n",
      "64/64 [==============================] - 0s 42us/step\n",
      "128/128 [==============================] - 0s 26us/step\n",
      "64/64 [==============================] - 0s 44us/step\n",
      "64/64 [==============================] - 0s 35us/step\n",
      "128/128 [==============================] - 0s 29us/step\n",
      "64/64 [==============================] - 0s 40us/step\n",
      "64/64 [==============================] - 0s 54us/step\n",
      "128/128 [==============================] - 0s 34us/step\n",
      "64/64 [==============================] - 0s 44us/step\n",
      "64/64 [==============================] - 0s 32us/step\n",
      "128/128 [==============================] - 0s 37us/step\n",
      "64/64 [==============================] - 0s 106us/step\n",
      "64/64 [==============================] - 0s 46us/step\n"
     ]
    },
    {
     "name": "stderr",
     "output_type": "stream",
     "text": [
      "\r",
      " 37%|███▋      | 369/1000 [00:11<00:19, 32.99it/s]"
     ]
    },
    {
     "name": "stdout",
     "output_type": "stream",
     "text": [
      "128/128 [==============================] - 0s 39us/step\n",
      "64/64 [==============================] - 0s 43us/step\n",
      "64/64 [==============================] - 0s 34us/step\n",
      "128/128 [==============================] - 0s 30us/step\n",
      "64/64 [==============================] - 0s 52us/step\n",
      "64/64 [==============================] - 0s 61us/step\n",
      "128/128 [==============================] - 0s 30us/step\n",
      "64/64 [==============================] - 0s 47us/step\n",
      "64/64 [==============================] - 0s 34us/step\n",
      "128/128 [==============================] - 0s 32us/step\n",
      "64/64 [==============================] - 0s 44us/step\n",
      "64/64 [==============================] - 0s 29us/step\n",
      "128/128 [==============================] - 0s 30us/step\n",
      "64/64 [==============================] - 0s 38us/step\n",
      "64/64 [==============================] - 0s 72us/step\n"
     ]
    },
    {
     "name": "stderr",
     "output_type": "stream",
     "text": [
      "\r",
      " 37%|███▋      | 374/1000 [00:11<00:18, 33.11it/s]"
     ]
    },
    {
     "name": "stdout",
     "output_type": "stream",
     "text": [
      "128/128 [==============================] - 0s 32us/step\n",
      "64/64 [==============================] - 0s 50us/step\n",
      "64/64 [==============================] - 0s 59us/step\n",
      "128/128 [==============================] - 0s 30us/step\n",
      "64/64 [==============================] - 0s 36us/step\n",
      "64/64 [==============================] - 0s 87us/step\n",
      "128/128 [==============================] - 0s 30us/step\n",
      "64/64 [==============================] - 0s 58us/step\n",
      "64/64 [==============================] - 0s 56us/step\n",
      "128/128 [==============================] - 0s 39us/step\n",
      "64/64 [==============================] - 0s 30us/step\n",
      "64/64 [==============================] - 0s 35us/step\n",
      "128/128 [==============================] - 0s 47us/step\n",
      "64/64 [==============================] - 0s 47us/step\n",
      "64/64 [==============================] - 0s 43us/step\n"
     ]
    },
    {
     "name": "stderr",
     "output_type": "stream",
     "text": [
      "\r",
      " 38%|███▊      | 379/1000 [00:11<00:18, 33.19it/s]"
     ]
    },
    {
     "name": "stdout",
     "output_type": "stream",
     "text": [
      "128/128 [==============================] - 0s 34us/step\n",
      "64/64 [==============================] - 0s 50us/step\n",
      "64/64 [==============================] - 0s 31us/step\n",
      "128/128 [==============================] - 0s 30us/step\n",
      "64/64 [==============================] - 0s 46us/step\n",
      "64/64 [==============================] - 0s 43us/step\n",
      "128/128 [==============================] - 0s 32us/step\n",
      "64/64 [==============================] - 0s 42us/step\n",
      "64/64 [==============================] - 0s 34us/step\n",
      "128/128 [==============================] - 0s 36us/step\n",
      "64/64 [==============================] - 0s 37us/step\n",
      "64/64 [==============================] - 0s 51us/step\n",
      "128/128 [==============================] - 0s 33us/step\n",
      "64/64 [==============================] - 0s 40us/step\n",
      "64/64 [==============================] - 0s 51us/step\n"
     ]
    },
    {
     "name": "stderr",
     "output_type": "stream",
     "text": [
      "\r",
      " 38%|███▊      | 384/1000 [00:11<00:18, 33.30it/s]"
     ]
    },
    {
     "name": "stdout",
     "output_type": "stream",
     "text": [
      "128/128 [==============================] - 0s 35us/step\n",
      "64/64 [==============================] - 0s 33us/step\n",
      "64/64 [==============================] - 0s 40us/step\n",
      "128/128 [==============================] - 0s 31us/step\n",
      "64/64 [==============================] - 0s 35us/step\n",
      "64/64 [==============================] - 0s 45us/step\n",
      "128/128 [==============================] - 0s 29us/step\n",
      "64/64 [==============================] - 0s 40us/step\n",
      "64/64 [==============================] - 0s 62us/step\n",
      "128/128 [==============================] - 0s 30us/step\n",
      "64/64 [==============================] - 0s 35us/step\n",
      "64/64 [==============================] - 0s 38us/step\n",
      "128/128 [==============================] - 0s 28us/step\n",
      "64/64 [==============================] - 0s 49us/step\n",
      "64/64 [==============================] - 0s 56us/step\n"
     ]
    },
    {
     "name": "stderr",
     "output_type": "stream",
     "text": [
      "\r",
      " 39%|███▉      | 389/1000 [00:11<00:18, 33.40it/s]"
     ]
    },
    {
     "name": "stdout",
     "output_type": "stream",
     "text": [
      "128/128 [==============================] - 0s 28us/step\n",
      "64/64 [==============================] - 0s 51us/step\n",
      "64/64 [==============================] - 0s 52us/step\n",
      "128/128 [==============================] - 0s 40us/step\n",
      "64/64 [==============================] - 0s 56us/step\n",
      "64/64 [==============================] - 0s 50us/step\n",
      "128/128 [==============================] - 0s 27us/step\n",
      "64/64 [==============================] - 0s 41us/step\n",
      "64/64 [==============================] - 0s 41us/step\n",
      "128/128 [==============================] - 0s 36us/step\n",
      "64/64 [==============================] - 0s 52us/step\n",
      "64/64 [==============================] - 0s 37us/step\n",
      "128/128 [==============================] - 0s 29us/step\n",
      "64/64 [==============================] - 0s 35us/step\n",
      "64/64 [==============================] - 0s 47us/step\n"
     ]
    },
    {
     "name": "stderr",
     "output_type": "stream",
     "text": [
      "\r",
      " 39%|███▉      | 394/1000 [00:11<00:18, 33.50it/s]"
     ]
    },
    {
     "name": "stdout",
     "output_type": "stream",
     "text": [
      "128/128 [==============================] - 0s 38us/step\n",
      "64/64 [==============================] - 0s 36us/step\n",
      "64/64 [==============================] - 0s 37us/step\n",
      "128/128 [==============================] - 0s 36us/step\n",
      "64/64 [==============================] - 0s 52us/step\n",
      "64/64 [==============================] - 0s 70us/step\n",
      "128/128 [==============================] - 0s 34us/step\n",
      "64/64 [==============================] - 0s 34us/step\n",
      "64/64 [==============================] - 0s 35us/step\n",
      "128/128 [==============================] - 0s 30us/step\n",
      "64/64 [==============================] - 0s 31us/step\n",
      "64/64 [==============================] - 0s 48us/step\n",
      "128/128 [==============================] - 0s 29us/step\n",
      "64/64 [==============================] - 0s 62us/step\n",
      "64/64 [==============================] - 0s 40us/step\n"
     ]
    },
    {
     "name": "stderr",
     "output_type": "stream",
     "text": [
      "\r",
      " 40%|███▉      | 399/1000 [00:11<00:17, 33.58it/s]"
     ]
    },
    {
     "name": "stdout",
     "output_type": "stream",
     "text": [
      "128/128 [==============================] - 0s 35us/step\n",
      "64/64 [==============================] - 0s 40us/step\n",
      "64/64 [==============================] - 0s 51us/step\n",
      "128/128 [==============================] - 0s 28us/step\n",
      "64/64 [==============================] - 0s 31us/step\n",
      "64/64 [==============================] - 0s 48us/step\n",
      "128/128 [==============================] - 0s 36us/step\n",
      "64/64 [==============================] - 0s 47us/step\n",
      "64/64 [==============================] - 0s 59us/step\n",
      "128/128 [==============================] - 0s 31us/step\n",
      "64/64 [==============================] - 0s 55us/step\n",
      "64/64 [==============================] - 0s 46us/step\n",
      "128/128 [==============================] - 0s 27us/step\n",
      "64/64 [==============================] - 0s 33us/step\n",
      "64/64 [==============================] - 0s 56us/step\n"
     ]
    },
    {
     "name": "stderr",
     "output_type": "stream",
     "text": [
      "\r",
      " 40%|████      | 404/1000 [00:11<00:17, 33.68it/s]"
     ]
    },
    {
     "name": "stdout",
     "output_type": "stream",
     "text": [
      "128/128 [==============================] - 0s 35us/step\n",
      "64/64 [==============================] - 0s 48us/step\n",
      "64/64 [==============================] - 0s 40us/step\n",
      "128/128 [==============================] - 0s 32us/step\n",
      "64/64 [==============================] - 0s 44us/step\n",
      "64/64 [==============================] - 0s 38us/step\n",
      "128/128 [==============================] - 0s 35us/step\n",
      "64/64 [==============================] - 0s 66us/step\n",
      "64/64 [==============================] - 0s 52us/step\n",
      "128/128 [==============================] - 0s 34us/step\n",
      "64/64 [==============================] - 0s 39us/step\n",
      "64/64 [==============================] - 0s 34us/step\n",
      "128/128 [==============================] - 0s 27us/step\n",
      "64/64 [==============================] - 0s 58us/step\n",
      "64/64 [==============================] - 0s 41us/step\n"
     ]
    },
    {
     "name": "stderr",
     "output_type": "stream",
     "text": [
      "\r",
      " 41%|████      | 409/1000 [00:12<00:17, 33.77it/s]"
     ]
    },
    {
     "name": "stdout",
     "output_type": "stream",
     "text": [
      "128/128 [==============================] - 0s 38us/step\n",
      "64/64 [==============================] - 0s 61us/step\n",
      "64/64 [==============================] - 0s 41us/step\n",
      "128/128 [==============================] - 0s 33us/step\n",
      "64/64 [==============================] - 0s 33us/step\n",
      "64/64 [==============================] - 0s 50us/step\n",
      "128/128 [==============================] - 0s 33us/step\n",
      "64/64 [==============================] - 0s 54us/step\n",
      "64/64 [==============================] - 0s 57us/step\n",
      "128/128 [==============================] - 0s 30us/step\n",
      "64/64 [==============================] - 0s 44us/step\n",
      "64/64 [==============================] - 0s 35us/step\n",
      "128/128 [==============================] - 0s 36us/step\n",
      "64/64 [==============================] - 0s 29us/step\n",
      "64/64 [==============================] - 0s 50us/step\n"
     ]
    },
    {
     "name": "stderr",
     "output_type": "stream",
     "text": [
      "\r",
      " 41%|████▏     | 414/1000 [00:12<00:17, 33.86it/s]"
     ]
    },
    {
     "name": "stdout",
     "output_type": "stream",
     "text": [
      "128/128 [==============================] - 0s 39us/step\n",
      "64/64 [==============================] - 0s 44us/step\n",
      "64/64 [==============================] - 0s 50us/step\n",
      "128/128 [==============================] - 0s 32us/step\n",
      "64/64 [==============================] - 0s 38us/step\n",
      "64/64 [==============================] - 0s 54us/step\n",
      "128/128 [==============================] - 0s 28us/step\n",
      "64/64 [==============================] - 0s 67us/step\n",
      "64/64 [==============================] - 0s 39us/step\n",
      "128/128 [==============================] - 0s 64us/step\n",
      "64/64 [==============================] - 0s 42us/step\n",
      "64/64 [==============================] - 0s 46us/step\n",
      "128/128 [==============================] - 0s 37us/step\n",
      "64/64 [==============================] - 0s 38us/step\n",
      "64/64 [==============================] - 0s 57us/step\n"
     ]
    },
    {
     "name": "stderr",
     "output_type": "stream",
     "text": [
      "\r",
      " 42%|████▏     | 419/1000 [00:12<00:17, 33.93it/s]"
     ]
    },
    {
     "name": "stdout",
     "output_type": "stream",
     "text": [
      "128/128 [==============================] - 0s 41us/step\n",
      "64/64 [==============================] - 0s 43us/step\n",
      "64/64 [==============================] - 0s 36us/step\n",
      "128/128 [==============================] - 0s 27us/step\n",
      "64/64 [==============================] - 0s 90us/step\n",
      "64/64 [==============================] - 0s 41us/step\n",
      "128/128 [==============================] - 0s 32us/step\n",
      "64/64 [==============================] - 0s 52us/step\n",
      "64/64 [==============================] - 0s 33us/step\n",
      "128/128 [==============================] - 0s 34us/step\n",
      "64/64 [==============================] - 0s 53us/step\n",
      "64/64 [==============================] - 0s 46us/step\n",
      "128/128 [==============================] - 0s 32us/step\n",
      "64/64 [==============================] - 0s 62us/step\n",
      "64/64 [==============================] - 0s 46us/step\n"
     ]
    },
    {
     "name": "stderr",
     "output_type": "stream",
     "text": [
      "\r",
      " 42%|████▏     | 424/1000 [00:12<00:16, 34.00it/s]"
     ]
    },
    {
     "name": "stdout",
     "output_type": "stream",
     "text": [
      "128/128 [==============================] - 0s 34us/step\n",
      "64/64 [==============================] - 0s 32us/step\n",
      "64/64 [==============================] - 0s 71us/step\n",
      "128/128 [==============================] - 0s 37us/step\n",
      "64/64 [==============================] - 0s 48us/step\n",
      "64/64 [==============================] - 0s 35us/step\n",
      "128/128 [==============================] - 0s 38us/step\n",
      "64/64 [==============================] - 0s 50us/step\n",
      "64/64 [==============================] - 0s 37us/step\n",
      "128/128 [==============================] - 0s 27us/step\n",
      "64/64 [==============================] - 0s 36us/step\n",
      "64/64 [==============================] - 0s 53us/step\n",
      "128/128 [==============================] - 0s 32us/step\n",
      "64/64 [==============================] - 0s 42us/step\n",
      "64/64 [==============================] - 0s 60us/step\n"
     ]
    },
    {
     "name": "stderr",
     "output_type": "stream",
     "text": [
      "\r",
      " 43%|████▎     | 429/1000 [00:12<00:16, 34.08it/s]"
     ]
    },
    {
     "name": "stdout",
     "output_type": "stream",
     "text": [
      "128/128 [==============================] - 0s 27us/step\n",
      "64/64 [==============================] - 0s 48us/step\n",
      "64/64 [==============================] - 0s 56us/step\n",
      "128/128 [==============================] - 0s 36us/step\n",
      "64/64 [==============================] - 0s 70us/step\n",
      "64/64 [==============================] - 0s 52us/step\n",
      "128/128 [==============================] - 0s 30us/step\n",
      "64/64 [==============================] - 0s 62us/step\n",
      "64/64 [==============================] - 0s 62us/step\n",
      "128/128 [==============================] - 0s 33us/step\n",
      "64/64 [==============================] - 0s 43us/step\n",
      "64/64 [==============================] - 0s 49us/step\n",
      "128/128 [==============================] - 0s 31us/step\n",
      "64/64 [==============================] - 0s 50us/step\n",
      "64/64 [==============================] - 0s 39us/step\n"
     ]
    },
    {
     "name": "stderr",
     "output_type": "stream",
     "text": [
      "\r",
      " 43%|████▎     | 434/1000 [00:12<00:16, 34.14it/s]"
     ]
    },
    {
     "name": "stdout",
     "output_type": "stream",
     "text": [
      "128/128 [==============================] - 0s 37us/step\n",
      "64/64 [==============================] - 0s 35us/step\n",
      "64/64 [==============================] - 0s 41us/step\n",
      "128/128 [==============================] - 0s 38us/step\n",
      "64/64 [==============================] - 0s 38us/step\n",
      "64/64 [==============================] - 0s 45us/step\n",
      "128/128 [==============================] - 0s 37us/step\n",
      "64/64 [==============================] - 0s 56us/step\n",
      "64/64 [==============================] - 0s 53us/step\n",
      "128/128 [==============================] - 0s 35us/step\n",
      "64/64 [==============================] - 0s 37us/step\n",
      "64/64 [==============================] - 0s 38us/step\n",
      "128/128 [==============================] - 0s 28us/step\n",
      "64/64 [==============================] - 0s 34us/step\n",
      "64/64 [==============================] - 0s 47us/step\n"
     ]
    },
    {
     "name": "stderr",
     "output_type": "stream",
     "text": [
      "\r",
      " 44%|████▍     | 439/1000 [00:12<00:16, 34.22it/s]"
     ]
    },
    {
     "name": "stdout",
     "output_type": "stream",
     "text": [
      "128/128 [==============================] - 0s 63us/step\n",
      "64/64 [==============================] - 0s 43us/step\n",
      "64/64 [==============================] - 0s 51us/step\n",
      "128/128 [==============================] - 0s 32us/step\n",
      "64/64 [==============================] - 0s 36us/step\n",
      "64/64 [==============================] - 0s 63us/step\n",
      "128/128 [==============================] - 0s 29us/step\n",
      "64/64 [==============================] - 0s 60us/step\n",
      "64/64 [==============================] - 0s 56us/step\n",
      "128/128 [==============================] - 0s 30us/step\n",
      "64/64 [==============================] - 0s 54us/step\n",
      "64/64 [==============================] - 0s 42us/step\n",
      "128/128 [==============================] - 0s 30us/step\n",
      "64/64 [==============================] - 0s 45us/step\n",
      "64/64 [==============================] - 0s 40us/step\n"
     ]
    },
    {
     "name": "stderr",
     "output_type": "stream",
     "text": [
      "\r",
      " 44%|████▍     | 444/1000 [00:12<00:16, 34.29it/s]"
     ]
    },
    {
     "name": "stdout",
     "output_type": "stream",
     "text": [
      "128/128 [==============================] - 0s 42us/step\n",
      "64/64 [==============================] - 0s 35us/step\n",
      "64/64 [==============================] - 0s 34us/step\n",
      "128/128 [==============================] - 0s 28us/step\n",
      "64/64 [==============================] - 0s 61us/step\n",
      "64/64 [==============================] - 0s 49us/step\n",
      "128/128 [==============================] - 0s 31us/step\n",
      "64/64 [==============================] - 0s 53us/step\n",
      "64/64 [==============================] - 0s 52us/step\n",
      "128/128 [==============================] - 0s 40us/step\n",
      "64/64 [==============================] - 0s 36us/step\n",
      "64/64 [==============================] - 0s 37us/step\n",
      "128/128 [==============================] - 0s 34us/step\n",
      "64/64 [==============================] - 0s 75us/step\n",
      "64/64 [==============================] - 0s 54us/step\n"
     ]
    },
    {
     "name": "stderr",
     "output_type": "stream",
     "text": [
      "\r",
      " 45%|████▍     | 449/1000 [00:13<00:16, 34.36it/s]"
     ]
    },
    {
     "name": "stdout",
     "output_type": "stream",
     "text": [
      "128/128 [==============================] - 0s 32us/step\n",
      "64/64 [==============================] - 0s 66us/step\n",
      "64/64 [==============================] - 0s 44us/step\n",
      "128/128 [==============================] - 0s 35us/step\n",
      "64/64 [==============================] - 0s 97us/step\n",
      "64/64 [==============================] - 0s 45us/step\n",
      "128/128 [==============================] - 0s 34us/step\n",
      "64/64 [==============================] - 0s 32us/step\n",
      "64/64 [==============================] - 0s 52us/step\n",
      "128/128 [==============================] - 0s 37us/step\n",
      "64/64 [==============================] - 0s 60us/step\n",
      "64/64 [==============================] - 0s 69us/step\n",
      "128/128 [==============================] - 0s 31us/step\n",
      "64/64 [==============================] - 0s 62us/step\n",
      "64/64 [==============================] - 0s 33us/step\n"
     ]
    },
    {
     "name": "stderr",
     "output_type": "stream",
     "text": [
      "\r",
      " 45%|████▌     | 454/1000 [00:13<00:15, 34.42it/s]"
     ]
    },
    {
     "name": "stdout",
     "output_type": "stream",
     "text": [
      "128/128 [==============================] - 0s 28us/step\n",
      "64/64 [==============================] - 0s 50us/step\n",
      "64/64 [==============================] - 0s 53us/step\n",
      "128/128 [==============================] - 0s 29us/step\n",
      "64/64 [==============================] - 0s 62us/step\n",
      "64/64 [==============================] - 0s 46us/step\n",
      "128/128 [==============================] - 0s 38us/step\n",
      "64/64 [==============================] - 0s 30us/step\n",
      "64/64 [==============================] - 0s 40us/step\n",
      "128/128 [==============================] - 0s 38us/step\n",
      "64/64 [==============================] - 0s 46us/step\n",
      "64/64 [==============================] - 0s 37us/step\n",
      "128/128 [==============================] - 0s 28us/step\n",
      "64/64 [==============================] - 0s 49us/step\n",
      "64/64 [==============================] - 0s 36us/step\n"
     ]
    },
    {
     "name": "stderr",
     "output_type": "stream",
     "text": [
      "\r",
      " 46%|████▌     | 459/1000 [00:13<00:15, 34.50it/s]"
     ]
    },
    {
     "name": "stdout",
     "output_type": "stream",
     "text": [
      "128/128 [==============================] - 0s 31us/step\n",
      "64/64 [==============================] - 0s 30us/step\n",
      "64/64 [==============================] - 0s 44us/step\n",
      "128/128 [==============================] - 0s 32us/step\n",
      "64/64 [==============================] - 0s 42us/step\n",
      "64/64 [==============================] - 0s 42us/step\n",
      "128/128 [==============================] - 0s 40us/step\n",
      "64/64 [==============================] - 0s 48us/step\n",
      "64/64 [==============================] - 0s 40us/step\n",
      "128/128 [==============================] - 0s 29us/step\n",
      "64/64 [==============================] - 0s 36us/step\n",
      "64/64 [==============================] - 0s 40us/step\n",
      "128/128 [==============================] - 0s 42us/step\n",
      "64/64 [==============================] - 0s 44us/step\n",
      "64/64 [==============================] - 0s 37us/step\n"
     ]
    },
    {
     "name": "stderr",
     "output_type": "stream",
     "text": [
      "\r",
      " 46%|████▋     | 464/1000 [00:13<00:15, 34.58it/s]"
     ]
    },
    {
     "name": "stdout",
     "output_type": "stream",
     "text": [
      "128/128 [==============================] - 0s 27us/step\n",
      "64/64 [==============================] - 0s 34us/step\n",
      "64/64 [==============================] - 0s 33us/step\n",
      "128/128 [==============================] - 0s 30us/step\n",
      "64/64 [==============================] - 0s 51us/step\n",
      "64/64 [==============================] - 0s 37us/step\n",
      "128/128 [==============================] - 0s 35us/step\n",
      "64/64 [==============================] - 0s 54us/step\n",
      "64/64 [==============================] - 0s 43us/step\n",
      "128/128 [==============================] - 0s 33us/step\n",
      "64/64 [==============================] - 0s 50us/step\n",
      "64/64 [==============================] - 0s 39us/step\n",
      "128/128 [==============================] - 0s 36us/step\n",
      "64/64 [==============================] - 0s 53us/step\n",
      "64/64 [==============================] - 0s 55us/step\n"
     ]
    },
    {
     "name": "stderr",
     "output_type": "stream",
     "text": [
      "\r",
      " 47%|████▋     | 469/1000 [00:13<00:15, 34.65it/s]"
     ]
    },
    {
     "name": "stdout",
     "output_type": "stream",
     "text": [
      "128/128 [==============================] - 0s 38us/step\n",
      "64/64 [==============================] - 0s 35us/step\n",
      "64/64 [==============================] - 0s 38us/step\n",
      "128/128 [==============================] - 0s 28us/step\n",
      "64/64 [==============================] - 0s 53us/step\n",
      "64/64 [==============================] - 0s 57us/step\n",
      "128/128 [==============================] - 0s 53us/step\n",
      "64/64 [==============================] - 0s 36us/step\n",
      "64/64 [==============================] - 0s 43us/step\n",
      "128/128 [==============================] - 0s 27us/step\n",
      "64/64 [==============================] - 0s 30us/step\n",
      "64/64 [==============================] - 0s 44us/step\n",
      "128/128 [==============================] - 0s 31us/step\n",
      "64/64 [==============================] - 0s 53us/step\n",
      "64/64 [==============================] - 0s 56us/step\n"
     ]
    },
    {
     "name": "stderr",
     "output_type": "stream",
     "text": [
      "\r",
      " 47%|████▋     | 474/1000 [00:13<00:15, 34.72it/s]"
     ]
    },
    {
     "name": "stdout",
     "output_type": "stream",
     "text": [
      "128/128 [==============================] - 0s 29us/step\n",
      "64/64 [==============================] - 0s 35us/step\n",
      "64/64 [==============================] - 0s 58us/step\n",
      "128/128 [==============================] - 0s 37us/step\n",
      "64/64 [==============================] - 0s 61us/step\n",
      "64/64 [==============================] - 0s 39us/step\n",
      "128/128 [==============================] - 0s 38us/step\n",
      "64/64 [==============================] - 0s 51us/step\n",
      "64/64 [==============================] - 0s 66us/step\n",
      "128/128 [==============================] - 0s 39us/step\n",
      "64/64 [==============================] - 0s 52us/step\n",
      "64/64 [==============================] - 0s 35us/step\n",
      "128/128 [==============================] - 0s 35us/step\n",
      "64/64 [==============================] - 0s 42us/step\n",
      "64/64 [==============================] - 0s 53us/step\n"
     ]
    },
    {
     "name": "stderr",
     "output_type": "stream",
     "text": [
      "\r",
      " 48%|████▊     | 479/1000 [00:13<00:14, 34.77it/s]"
     ]
    },
    {
     "name": "stdout",
     "output_type": "stream",
     "text": [
      "128/128 [==============================] - 0s 28us/step\n",
      "64/64 [==============================] - 0s 56us/step\n",
      "64/64 [==============================] - 0s 38us/step\n",
      "128/128 [==============================] - 0s 29us/step\n",
      "64/64 [==============================] - 0s 49us/step\n",
      "64/64 [==============================] - 0s 38us/step\n",
      "128/128 [==============================] - 0s 34us/step\n",
      "64/64 [==============================] - 0s 109us/step\n",
      "64/64 [==============================] - 0s 61us/step\n",
      "128/128 [==============================] - 0s 38us/step\n",
      "64/64 [==============================] - 0s 44us/step\n",
      "64/64 [==============================] - 0s 79us/step\n",
      "128/128 [==============================] - 0s 30us/step\n",
      "64/64 [==============================] - 0s 45us/step\n",
      "64/64 [==============================] - 0s 36us/step\n"
     ]
    },
    {
     "name": "stderr",
     "output_type": "stream",
     "text": [
      "\r",
      " 48%|████▊     | 484/1000 [00:13<00:14, 34.82it/s]"
     ]
    },
    {
     "name": "stdout",
     "output_type": "stream",
     "text": [
      "128/128 [==============================] - 0s 37us/step\n",
      "64/64 [==============================] - 0s 57us/step\n",
      "64/64 [==============================] - 0s 52us/step\n",
      "128/128 [==============================] - 0s 32us/step\n",
      "64/64 [==============================] - 0s 109us/step\n",
      "64/64 [==============================] - 0s 42us/step\n",
      "128/128 [==============================] - 0s 33us/step\n",
      "64/64 [==============================] - 0s 101us/step\n",
      "64/64 [==============================] - 0s 60us/step\n",
      "128/128 [==============================] - 0s 39us/step\n",
      "64/64 [==============================] - 0s 53us/step\n",
      "64/64 [==============================] - 0s 37us/step\n",
      "128/128 [==============================] - 0s 34us/step\n",
      "64/64 [==============================] - 0s 95us/step\n",
      "64/64 [==============================] - 0s 37us/step\n"
     ]
    },
    {
     "name": "stderr",
     "output_type": "stream",
     "text": [
      "\r",
      " 49%|████▉     | 489/1000 [00:14<00:14, 34.84it/s]"
     ]
    },
    {
     "name": "stdout",
     "output_type": "stream",
     "text": [
      "128/128 [==============================] - 0s 36us/step\n",
      "64/64 [==============================] - 0s 70us/step\n",
      "64/64 [==============================] - 0s 50us/step\n",
      "128/128 [==============================] - 0s 61us/step\n",
      "64/64 [==============================] - 0s 49us/step\n",
      "64/64 [==============================] - 0s 53us/step\n",
      "128/128 [==============================] - 0s 31us/step\n",
      "64/64 [==============================] - 0s 39us/step\n",
      "64/64 [==============================] - 0s 55us/step\n",
      "128/128 [==============================] - 0s 39us/step\n",
      "64/64 [==============================] - 0s 47us/step\n",
      "64/64 [==============================] - 0s 65us/step\n",
      "128/128 [==============================] - 0s 37us/step\n",
      "64/64 [==============================] - 0s 38us/step\n",
      "64/64 [==============================] - 0s 43us/step\n"
     ]
    },
    {
     "name": "stderr",
     "output_type": "stream",
     "text": [
      "\r",
      " 49%|████▉     | 494/1000 [00:14<00:14, 34.88it/s]"
     ]
    },
    {
     "name": "stdout",
     "output_type": "stream",
     "text": [
      "128/128 [==============================] - 0s 41us/step\n",
      "64/64 [==============================] - 0s 39us/step\n",
      "64/64 [==============================] - 0s 67us/step\n",
      "128/128 [==============================] - 0s 36us/step\n",
      "64/64 [==============================] - 0s 50us/step\n",
      "64/64 [==============================] - 0s 57us/step\n",
      "128/128 [==============================] - 0s 33us/step\n",
      "64/64 [==============================] - 0s 52us/step\n",
      "64/64 [==============================] - 0s 45us/step\n",
      "128/128 [==============================] - 0s 33us/step\n",
      "64/64 [==============================] - 0s 58us/step\n",
      "64/64 [==============================] - 0s 42us/step\n"
     ]
    },
    {
     "name": "stderr",
     "output_type": "stream",
     "text": [
      "\r",
      " 50%|████▉     | 498/1000 [00:14<00:14, 34.92it/s]"
     ]
    },
    {
     "name": "stdout",
     "output_type": "stream",
     "text": [
      "128/128 [==============================] - 0s 40us/step\n",
      "64/64 [==============================] - 0s 56us/step\n",
      "64/64 [==============================] - 0s 68us/step\n",
      "128/128 [==============================] - 0s 34us/step\n",
      "64/64 [==============================] - 0s 35us/step\n",
      "64/64 [==============================] - 0s 54us/step\n",
      "128/128 [==============================] - 0s 39us/step\n",
      "64/64 [==============================] - 0s 67us/step\n",
      "64/64 [==============================] - 0s 45us/step\n",
      "128/128 [==============================] - 0s 38us/step\n",
      "64/64 [==============================] - 0s 60us/step\n",
      "64/64 [==============================] - 0s 63us/step\n"
     ]
    },
    {
     "name": "stderr",
     "output_type": "stream",
     "text": [
      "\r",
      " 50%|█████     | 502/1000 [00:14<00:14, 34.95it/s]"
     ]
    },
    {
     "name": "stdout",
     "output_type": "stream",
     "text": [
      "128/128 [==============================] - 0s 38us/step\n",
      "64/64 [==============================] - 0s 51us/step\n",
      "64/64 [==============================] - 0s 36us/step\n",
      "128/128 [==============================] - 0s 36us/step\n",
      "64/64 [==============================] - 0s 44us/step\n",
      "64/64 [==============================] - 0s 119us/step\n",
      "128/128 [==============================] - 0s 42us/step\n",
      "64/64 [==============================] - 0s 46us/step\n",
      "64/64 [==============================] - 0s 91us/step\n",
      "128/128 [==============================] - 0s 34us/step\n",
      "64/64 [==============================] - 0s 70us/step\n",
      "64/64 [==============================] - 0s 52us/step\n"
     ]
    },
    {
     "name": "stderr",
     "output_type": "stream",
     "text": [
      "\r",
      " 51%|█████     | 506/1000 [00:14<00:14, 34.97it/s]"
     ]
    },
    {
     "name": "stdout",
     "output_type": "stream",
     "text": [
      "128/128 [==============================] - 0s 33us/step\n",
      "64/64 [==============================] - 0s 36us/step\n",
      "64/64 [==============================] - 0s 56us/step\n",
      "128/128 [==============================] - 0s 29us/step\n",
      "64/64 [==============================] - 0s 38us/step\n",
      "64/64 [==============================] - 0s 51us/step\n",
      "128/128 [==============================] - 0s 34us/step\n",
      "64/64 [==============================] - 0s 50us/step\n",
      "64/64 [==============================] - 0s 36us/step\n",
      "128/128 [==============================] - 0s 31us/step\n",
      "64/64 [==============================] - 0s 48us/step\n",
      "64/64 [==============================] - 0s 57us/step\n",
      "128/128 [==============================] - 0s 31us/step\n",
      "64/64 [==============================] - 0s 33us/step\n",
      "64/64 [==============================] - ETA:  - 0s 47us/step\n"
     ]
    },
    {
     "name": "stderr",
     "output_type": "stream",
     "text": [
      "\r",
      " 51%|█████     | 511/1000 [00:14<00:13, 35.03it/s]"
     ]
    },
    {
     "name": "stdout",
     "output_type": "stream",
     "text": [
      "128/128 [==============================] - 0s 29us/step\n",
      "64/64 [==============================] - 0s 40us/step\n",
      "64/64 [==============================] - 0s 50us/step\n",
      "128/128 [==============================] - 0s 34us/step\n",
      "64/64 [==============================] - 0s 44us/step\n",
      "64/64 [==============================] - 0s 52us/step\n",
      "128/128 [==============================] - 0s 42us/step\n",
      "64/64 [==============================] - 0s 36us/step\n",
      "64/64 [==============================] - 0s 39us/step\n",
      "128/128 [==============================] - 0s 38us/step\n",
      "64/64 [==============================] - 0s 36us/step\n",
      "64/64 [==============================] - 0s 102us/step\n",
      "128/128 [==============================] - 0s 32us/step\n",
      "64/64 [==============================] - 0s 52us/step\n",
      "64/64 [==============================] - 0s 37us/step\n"
     ]
    },
    {
     "name": "stderr",
     "output_type": "stream",
     "text": [
      "\r",
      " 52%|█████▏    | 516/1000 [00:14<00:13, 35.10it/s]"
     ]
    },
    {
     "name": "stdout",
     "output_type": "stream",
     "text": [
      "128/128 [==============================] - 0s 33us/step\n",
      "64/64 [==============================] - 0s 36us/step\n",
      "64/64 [==============================] - 0s 35us/step\n",
      "128/128 [==============================] - 0s 33us/step\n",
      "64/64 [==============================] - 0s 38us/step\n",
      "64/64 [==============================] - 0s 51us/step\n",
      "128/128 [==============================] - 0s 31us/step\n",
      "64/64 [==============================] - 0s 41us/step\n",
      "64/64 [==============================] - 0s 40us/step\n",
      "128/128 [==============================] - 0s 29us/step\n",
      "64/64 [==============================] - 0s 46us/step\n",
      "64/64 [==============================] - 0s 46us/step\n",
      "128/128 [==============================] - 0s 27us/step\n",
      "64/64 [==============================] - 0s 46us/step\n",
      "64/64 [==============================] - 0s 45us/step\n"
     ]
    },
    {
     "name": "stderr",
     "output_type": "stream",
     "text": [
      "\r",
      " 52%|█████▏    | 521/1000 [00:14<00:13, 35.16it/s]"
     ]
    },
    {
     "name": "stdout",
     "output_type": "stream",
     "text": [
      "128/128 [==============================] - 0s 32us/step\n",
      "64/64 [==============================] - 0s 39us/step\n",
      "64/64 [==============================] - 0s 48us/step\n",
      "128/128 [==============================] - 0s 32us/step\n",
      "64/64 [==============================] - 0s 62us/step\n",
      "64/64 [==============================] - 0s 51us/step\n",
      "128/128 [==============================] - 0s 30us/step\n",
      "64/64 [==============================] - 0s 35us/step\n",
      "64/64 [==============================] - 0s 34us/step\n",
      "128/128 [==============================] - 0s 29us/step\n",
      "64/64 [==============================] - 0s 47us/step\n",
      "64/64 [==============================] - 0s 63us/step\n",
      "128/128 [==============================] - 0s 37us/step\n",
      "64/64 [==============================] - 0s 44us/step\n",
      "64/64 [==============================] - 0s 54us/step\n"
     ]
    },
    {
     "name": "stderr",
     "output_type": "stream",
     "text": [
      "\r",
      " 53%|█████▎    | 526/1000 [00:14<00:13, 35.22it/s]"
     ]
    },
    {
     "name": "stdout",
     "output_type": "stream",
     "text": [
      "128/128 [==============================] - 0s 30us/step\n",
      "64/64 [==============================] - 0s 40us/step\n",
      "64/64 [==============================] - 0s 40us/step\n",
      "128/128 [==============================] - 0s 35us/step\n",
      "64/64 [==============================] - 0s 108us/step\n",
      "64/64 [==============================] - 0s 54us/step\n",
      "128/128 [==============================] - 0s 28us/step\n",
      "64/64 [==============================] - 0s 36us/step\n",
      "64/64 [==============================] - 0s 37us/step\n",
      "128/128 [==============================] - 0s 37us/step\n",
      "64/64 [==============================] - 0s 46us/step\n",
      "64/64 [==============================] - 0s 34us/step\n",
      "128/128 [==============================] - 0s 54us/step\n",
      "64/64 [==============================] - 0s 37us/step\n",
      "64/64 [==============================] - 0s 45us/step\n"
     ]
    },
    {
     "name": "stderr",
     "output_type": "stream",
     "text": [
      "\r",
      " 53%|█████▎    | 531/1000 [00:15<00:13, 35.27it/s]"
     ]
    },
    {
     "name": "stdout",
     "output_type": "stream",
     "text": [
      "128/128 [==============================] - 0s 26us/step\n",
      "64/64 [==============================] - 0s 50us/step\n",
      "64/64 [==============================] - 0s 103us/step\n",
      "128/128 [==============================] - 0s 32us/step\n",
      "64/64 [==============================] - 0s 46us/step\n",
      "64/64 [==============================] - 0s 52us/step\n",
      "128/128 [==============================] - 0s 31us/step\n",
      "64/64 [==============================] - 0s 49us/step\n",
      "64/64 [==============================] - 0s 42us/step\n",
      "128/128 [==============================] - 0s 31us/step\n",
      "64/64 [==============================] - 0s 51us/step\n",
      "64/64 [==============================] - 0s 35us/step\n",
      "128/128 [==============================] - 0s 27us/step\n",
      "64/64 [==============================] - 0s 60us/step\n",
      "64/64 [==============================] - 0s 39us/step\n"
     ]
    },
    {
     "name": "stderr",
     "output_type": "stream",
     "text": [
      "\r",
      " 54%|█████▎    | 536/1000 [00:15<00:13, 35.33it/s]"
     ]
    },
    {
     "name": "stdout",
     "output_type": "stream",
     "text": [
      "128/128 [==============================] - 0s 29us/step\n",
      "64/64 [==============================] - 0s 36us/step\n",
      "64/64 [==============================] - 0s 57us/step\n",
      "128/128 [==============================] - 0s 29us/step\n",
      "64/64 [==============================] - 0s 58us/step\n",
      "64/64 [==============================] - 0s 39us/step\n",
      "128/128 [==============================] - 0s 32us/step\n",
      "64/64 [==============================] - 0s 37us/step\n",
      "64/64 [==============================] - 0s 37us/step\n",
      "128/128 [==============================] - 0s 28us/step\n",
      "64/64 [==============================] - 0s 60us/step\n",
      "64/64 [==============================] - 0s 52us/step\n",
      "128/128 [==============================] - 0s 30us/step\n",
      "64/64 [==============================] - 0s 59us/step\n",
      "64/64 [==============================] - 0s 36us/step\n"
     ]
    },
    {
     "name": "stderr",
     "output_type": "stream",
     "text": [
      "\r",
      " 54%|█████▍    | 541/1000 [00:15<00:12, 35.38it/s]"
     ]
    },
    {
     "name": "stdout",
     "output_type": "stream",
     "text": [
      "128/128 [==============================] - 0s 38us/step\n",
      "64/64 [==============================] - 0s 36us/step\n",
      "64/64 [==============================] - 0s 52us/step\n",
      "128/128 [==============================] - 0s 32us/step\n",
      "64/64 [==============================] - 0s 49us/step\n",
      "64/64 [==============================] - 0s 53us/step\n",
      "128/128 [==============================] - 0s 41us/step\n",
      "64/64 [==============================] - 0s 35us/step\n",
      "64/64 [==============================] - 0s 33us/step\n",
      "128/128 [==============================] - 0s 41us/step\n",
      "64/64 [==============================] - 0s 46us/step\n",
      "64/64 [==============================] - 0s 43us/step\n",
      "128/128 [==============================] - 0s 36us/step\n",
      "64/64 [==============================] - 0s 69us/step\n",
      "64/64 [==============================] - 0s 37us/step\n"
     ]
    },
    {
     "name": "stderr",
     "output_type": "stream",
     "text": [
      "\r",
      " 55%|█████▍    | 546/1000 [00:15<00:12, 35.44it/s]"
     ]
    },
    {
     "name": "stdout",
     "output_type": "stream",
     "text": [
      "128/128 [==============================] - 0s 35us/step\n",
      "64/64 [==============================] - 0s 48us/step\n",
      "64/64 [==============================] - 0s 52us/step\n",
      "128/128 [==============================] - 0s 30us/step\n",
      "64/64 [==============================] - 0s 56us/step\n",
      "64/64 [==============================] - 0s 55us/step\n",
      "128/128 [==============================] - 0s 30us/step\n",
      "64/64 [==============================] - 0s 35us/step\n",
      "64/64 [==============================] - 0s 42us/step\n",
      "128/128 [==============================] - 0s 37us/step\n",
      "64/64 [==============================] - 0s 42us/step\n",
      "64/64 [==============================] - 0s 40us/step\n",
      "128/128 [==============================] - 0s 34us/step\n",
      "64/64 [==============================] - 0s 40us/step\n",
      "64/64 [==============================] - 0s 37us/step\n"
     ]
    },
    {
     "name": "stderr",
     "output_type": "stream",
     "text": [
      "\r",
      " 55%|█████▌    | 551/1000 [00:15<00:12, 35.50it/s]"
     ]
    },
    {
     "name": "stdout",
     "output_type": "stream",
     "text": [
      "128/128 [==============================] - 0s 39us/step\n",
      "64/64 [==============================] - 0s 64us/step\n",
      "64/64 [==============================] - 0s 53us/step\n",
      "128/128 [==============================] - 0s 34us/step\n",
      "64/64 [==============================] - 0s 36us/step\n",
      "64/64 [==============================] - 0s 51us/step\n",
      "128/128 [==============================] - 0s 28us/step\n",
      "64/64 [==============================] - 0s 42us/step\n",
      "64/64 [==============================] - 0s 56us/step\n",
      "128/128 [==============================] - 0s 35us/step\n",
      "64/64 [==============================] - 0s 66us/step\n",
      "64/64 [==============================] - 0s 61us/step\n",
      "128/128 [==============================] - 0s 36us/step\n",
      "64/64 [==============================] - 0s 62us/step\n",
      "64/64 [==============================] - 0s 40us/step\n"
     ]
    },
    {
     "name": "stderr",
     "output_type": "stream",
     "text": [
      "\r",
      " 56%|█████▌    | 556/1000 [00:15<00:12, 35.54it/s]"
     ]
    },
    {
     "name": "stdout",
     "output_type": "stream",
     "text": [
      "128/128 [==============================] - 0s 30us/step\n",
      "64/64 [==============================] - 0s 72us/step\n",
      "64/64 [==============================] - 0s 45us/step\n",
      "128/128 [==============================] - 0s 31us/step\n",
      "64/64 [==============================] - 0s 37us/step\n",
      "64/64 [==============================] - 0s 33us/step\n",
      "128/128 [==============================] - 0s 28us/step\n",
      "64/64 [==============================] - 0s 49us/step\n",
      "64/64 [==============================] - 0s 43us/step\n",
      "128/128 [==============================] - 0s 31us/step\n",
      "64/64 [==============================] - 0s 45us/step\n",
      "64/64 [==============================] - 0s 57us/step\n",
      "128/128 [==============================] - 0s 34us/step\n",
      "64/64 [==============================] - 0s 53us/step\n",
      "64/64 [==============================] - 0s 51us/step\n"
     ]
    },
    {
     "name": "stderr",
     "output_type": "stream",
     "text": [
      "\r",
      " 56%|█████▌    | 561/1000 [00:15<00:12, 35.59it/s]"
     ]
    },
    {
     "name": "stdout",
     "output_type": "stream",
     "text": [
      "128/128 [==============================] - 0s 30us/step\n",
      "64/64 [==============================] - 0s 71us/step\n",
      "64/64 [==============================] - 0s 51us/step\n",
      "128/128 [==============================] - 0s 36us/step\n",
      "64/64 [==============================] - 0s 55us/step\n",
      "64/64 [==============================] - 0s 50us/step\n",
      "128/128 [==============================] - 0s 37us/step\n",
      "64/64 [==============================] - 0s 53us/step\n",
      "64/64 [==============================] - 0s 55us/step\n",
      "128/128 [==============================] - 0s 30us/step\n",
      "64/64 [==============================] - 0s 47us/step\n",
      "64/64 [==============================] - 0s 51us/step\n",
      "128/128 [==============================] - 0s 31us/step\n",
      "64/64 [==============================] - 0s 66us/step\n",
      "64/64 [==============================] - 0s 55us/step\n"
     ]
    },
    {
     "name": "stderr",
     "output_type": "stream",
     "text": [
      "\r",
      " 57%|█████▋    | 566/1000 [00:15<00:12, 35.63it/s]"
     ]
    },
    {
     "name": "stdout",
     "output_type": "stream",
     "text": [
      "128/128 [==============================] - 0s 35us/step\n",
      "64/64 [==============================] - 0s 39us/step\n",
      "64/64 [==============================] - 0s 41us/step\n",
      "128/128 [==============================] - 0s 27us/step\n",
      "64/64 [==============================] - 0s 65us/step\n",
      "64/64 [==============================] - 0s 60us/step\n",
      "128/128 [==============================] - 0s 33us/step\n",
      "64/64 [==============================] - 0s 35us/step\n",
      "64/64 [==============================] - 0s 51us/step\n",
      "128/128 [==============================] - 0s 35us/step\n",
      "64/64 [==============================] - 0s 54us/step\n",
      "64/64 [==============================] - 0s 88us/step\n",
      "128/128 [==============================] - 0s 35us/step\n",
      "64/64 [==============================] - 0s 34us/step\n",
      "64/64 [==============================] - 0s 39us/step\n"
     ]
    },
    {
     "name": "stderr",
     "output_type": "stream",
     "text": [
      "\r",
      " 57%|█████▋    | 571/1000 [00:16<00:12, 35.68it/s]"
     ]
    },
    {
     "name": "stdout",
     "output_type": "stream",
     "text": [
      "128/128 [==============================] - 0s 39us/step\n",
      "64/64 [==============================] - 0s 40us/step\n",
      "64/64 [==============================] - 0s 33us/step\n",
      "128/128 [==============================] - 0s 26us/step\n",
      "64/64 [==============================] - 0s 51us/step\n",
      "64/64 [==============================] - 0s 56us/step\n",
      "128/128 [==============================] - 0s 36us/step\n",
      "64/64 [==============================] - 0s 45us/step\n",
      "64/64 [==============================] - 0s 35us/step\n",
      "128/128 [==============================] - 0s 34us/step\n",
      "64/64 [==============================] - 0s 36us/step\n",
      "64/64 [==============================] - 0s 66us/step\n",
      "128/128 [==============================] - 0s 39us/step\n",
      "64/64 [==============================] - 0s 71us/step\n",
      "64/64 [==============================] - 0s 32us/step\n"
     ]
    },
    {
     "name": "stderr",
     "output_type": "stream",
     "text": [
      "\r",
      " 58%|█████▊    | 576/1000 [00:16<00:11, 35.73it/s]"
     ]
    },
    {
     "name": "stdout",
     "output_type": "stream",
     "text": [
      "128/128 [==============================] - 0s 30us/step\n",
      "64/64 [==============================] - 0s 44us/step\n",
      "64/64 [==============================] - 0s 52us/step\n",
      "128/128 [==============================] - 0s 39us/step\n",
      "64/64 [==============================] - 0s 33us/step\n",
      "64/64 [==============================] - 0s 41us/step\n",
      "128/128 [==============================] - 0s 32us/step\n",
      "64/64 [==============================] - 0s 49us/step\n",
      "64/64 [==============================] - 0s 48us/step\n",
      "128/128 [==============================] - 0s 29us/step\n",
      "64/64 [==============================] - 0s 44us/step\n",
      "64/64 [==============================] - 0s 35us/step\n",
      "128/128 [==============================] - 0s 27us/step\n",
      "64/64 [==============================] - 0s 35us/step\n",
      "64/64 [==============================] - 0s 46us/step\n"
     ]
    },
    {
     "name": "stderr",
     "output_type": "stream",
     "text": [
      "\r",
      " 58%|█████▊    | 581/1000 [00:16<00:11, 35.79it/s]"
     ]
    },
    {
     "name": "stdout",
     "output_type": "stream",
     "text": [
      "128/128 [==============================] - 0s 34us/step\n",
      "64/64 [==============================] - 0s 38us/step\n",
      "64/64 [==============================] - 0s 60us/step\n",
      "128/128 [==============================] - 0s 31us/step\n",
      "64/64 [==============================] - 0s 56us/step\n",
      "64/64 [==============================] - 0s 51us/step\n",
      "128/128 [==============================] - 0s 39us/step\n",
      "64/64 [==============================] - 0s 38us/step\n",
      "64/64 [==============================] - 0s 47us/step\n",
      "128/128 [==============================] - 0s 29us/step\n",
      "64/64 [==============================] - 0s 56us/step\n",
      "64/64 [==============================] - 0s 54us/step\n",
      "128/128 [==============================] - 0s 31us/step\n",
      "64/64 [==============================] - 0s 46us/step\n",
      "64/64 [==============================] - 0s 48us/step\n"
     ]
    },
    {
     "name": "stderr",
     "output_type": "stream",
     "text": [
      "\r",
      " 59%|█████▊    | 586/1000 [00:16<00:11, 35.84it/s]"
     ]
    },
    {
     "name": "stdout",
     "output_type": "stream",
     "text": [
      "128/128 [==============================] - 0s 27us/step\n",
      "64/64 [==============================] - 0s 52us/step\n",
      "64/64 [==============================] - 0s 39us/step\n",
      "128/128 [==============================] - 0s 31us/step\n",
      "64/64 [==============================] - 0s 65us/step\n",
      "64/64 [==============================] - 0s 55us/step\n",
      "128/128 [==============================] - 0s 30us/step\n",
      "64/64 [==============================] - 0s 48us/step\n",
      "64/64 [==============================] - 0s 48us/step\n",
      "128/128 [==============================] - 0s 28us/step\n",
      "64/64 [==============================] - 0s 51us/step\n",
      "64/64 [==============================] - 0s 67us/step\n",
      "128/128 [==============================] - 0s 38us/step\n",
      "64/64 [==============================] - 0s 33us/step\n",
      "64/64 [==============================] - 0s 35us/step\n"
     ]
    },
    {
     "name": "stderr",
     "output_type": "stream",
     "text": [
      "\r",
      " 59%|█████▉    | 591/1000 [00:16<00:11, 35.88it/s]"
     ]
    },
    {
     "name": "stdout",
     "output_type": "stream",
     "text": [
      "128/128 [==============================] - 0s 27us/step\n",
      "64/64 [==============================] - 0s 31us/step\n",
      "64/64 [==============================] - 0s 33us/step\n",
      "128/128 [==============================] - 0s 28us/step\n",
      "64/64 [==============================] - 0s 57us/step\n",
      "64/64 [==============================] - 0s 58us/step\n",
      "128/128 [==============================] - 0s 35us/step\n",
      "64/64 [==============================] - 0s 45us/step\n",
      "64/64 [==============================] - 0s 34us/step\n",
      "128/128 [==============================] - 0s 30us/step\n",
      "64/64 [==============================] - 0s 31us/step\n",
      "64/64 [==============================] - 0s 104us/step\n",
      "128/128 [==============================] - 0s 40us/step\n",
      "64/64 [==============================] - 0s 37us/step\n",
      "64/64 [==============================] - 0s 66us/step\n"
     ]
    },
    {
     "name": "stderr",
     "output_type": "stream",
     "text": [
      "\r",
      " 60%|█████▉    | 596/1000 [00:16<00:11, 35.93it/s]"
     ]
    },
    {
     "name": "stdout",
     "output_type": "stream",
     "text": [
      "128/128 [==============================] - 0s 31us/step\n",
      "64/64 [==============================] - 0s 45us/step\n",
      "64/64 [==============================] - 0s 58us/step\n",
      "128/128 [==============================] - 0s 29us/step\n",
      "64/64 [==============================] - 0s 63us/step\n",
      "64/64 [==============================] - 0s 47us/step\n",
      "128/128 [==============================] - 0s 28us/step\n",
      "64/64 [==============================] - 0s 36us/step\n",
      "64/64 [==============================] - 0s 51us/step\n",
      "128/128 [==============================] - 0s 29us/step\n",
      "64/64 [==============================] - 0s 76us/step\n",
      "64/64 [==============================] - 0s 40us/step\n",
      "128/128 [==============================] - 0s 35us/step\n",
      "64/64 [==============================] - 0s 36us/step\n",
      "64/64 [==============================] - 0s 46us/step\n"
     ]
    },
    {
     "name": "stderr",
     "output_type": "stream",
     "text": [
      "\r",
      " 60%|██████    | 601/1000 [00:16<00:11, 35.97it/s]"
     ]
    },
    {
     "name": "stdout",
     "output_type": "stream",
     "text": [
      "128/128 [==============================] - 0s 30us/step\n",
      "64/64 [==============================] - 0s 36us/step\n",
      "64/64 [==============================] - 0s 36us/step\n",
      "128/128 [==============================] - 0s 38us/step\n",
      "64/64 [==============================] - 0s 54us/step\n",
      "64/64 [==============================] - 0s 52us/step\n",
      "128/128 [==============================] - 0s 34us/step\n",
      "64/64 [==============================] - 0s 36us/step\n",
      "64/64 [==============================] - 0s 44us/step\n",
      "128/128 [==============================] - 0s 32us/step\n",
      "64/64 [==============================] - 0s 54us/step\n",
      "64/64 [==============================] - 0s 57us/step\n",
      "128/128 [==============================] - 0s 36us/step\n",
      "64/64 [==============================] - 0s 58us/step\n",
      "64/64 [==============================] - 0s 54us/step\n"
     ]
    },
    {
     "name": "stderr",
     "output_type": "stream",
     "text": [
      "\r",
      " 61%|██████    | 606/1000 [00:16<00:10, 36.02it/s]"
     ]
    },
    {
     "name": "stdout",
     "output_type": "stream",
     "text": [
      "128/128 [==============================] - 0s 31us/step\n",
      "64/64 [==============================] - 0s 61us/step\n",
      "64/64 [==============================] - 0s 55us/step\n",
      "128/128 [==============================] - 0s 31us/step\n",
      "64/64 [==============================] - 0s 36us/step\n",
      "64/64 [==============================] - 0s 52us/step\n",
      "128/128 [==============================] - 0s 37us/step\n",
      "64/64 [==============================] - 0s 44us/step\n",
      "64/64 [==============================] - 0s 39us/step\n",
      "128/128 [==============================] - 0s 34us/step\n",
      "64/64 [==============================] - 0s 57us/step\n",
      "64/64 [==============================] - 0s 57us/step\n",
      "128/128 [==============================] - 0s 38us/step\n",
      "64/64 [==============================] - 0s 34us/step\n",
      "64/64 [==============================] - 0s 44us/step\n"
     ]
    },
    {
     "name": "stderr",
     "output_type": "stream",
     "text": [
      "\r",
      " 61%|██████    | 611/1000 [00:16<00:10, 36.06it/s]"
     ]
    },
    {
     "name": "stdout",
     "output_type": "stream",
     "text": [
      "128/128 [==============================] - 0s 29us/step\n",
      "64/64 [==============================] - 0s 45us/step\n",
      "64/64 [==============================] - 0s 65us/step\n",
      "128/128 [==============================] - 0s 33us/step\n",
      "64/64 [==============================] - 0s 34us/step\n",
      "64/64 [==============================] - 0s 49us/step\n",
      "128/128 [==============================] - 0s 31us/step\n",
      "64/64 [==============================] - 0s 48us/step\n",
      "64/64 [==============================] - 0s 52us/step\n",
      "128/128 [==============================] - 0s 33us/step\n",
      "64/64 [==============================] - 0s 37us/step\n",
      "64/64 [==============================] - 0s 50us/step\n",
      "128/128 [==============================] - 0s 36us/step\n",
      "64/64 [==============================] - 0s 51us/step\n",
      "64/64 [==============================] - 0s 43us/step\n"
     ]
    },
    {
     "name": "stderr",
     "output_type": "stream",
     "text": [
      "\r",
      " 62%|██████▏   | 616/1000 [00:17<00:10, 36.11it/s]"
     ]
    },
    {
     "name": "stdout",
     "output_type": "stream",
     "text": [
      "128/128 [==============================] - 0s 28us/step\n",
      "64/64 [==============================] - 0s 41us/step\n",
      "64/64 [==============================] - 0s 50us/step\n",
      "128/128 [==============================] - 0s 34us/step\n",
      "64/64 [==============================] - 0s 35us/step\n",
      "64/64 [==============================] - 0s 44us/step\n",
      "128/128 [==============================] - 0s 26us/step\n",
      "64/64 [==============================] - 0s 31us/step\n",
      "64/64 [==============================] - 0s 36us/step\n",
      "128/128 [==============================] - 0s 28us/step\n",
      "64/64 [==============================] - 0s 60us/step\n",
      "64/64 [==============================] - 0s 41us/step\n",
      "128/128 [==============================] - 0s 32us/step\n",
      "64/64 [==============================] - 0s 52us/step\n",
      "64/64 [==============================] - 0s 32us/step\n"
     ]
    },
    {
     "name": "stderr",
     "output_type": "stream",
     "text": [
      "\r",
      " 62%|██████▏   | 621/1000 [00:17<00:10, 36.16it/s]"
     ]
    },
    {
     "name": "stdout",
     "output_type": "stream",
     "text": [
      "128/128 [==============================] - 0s 34us/step\n",
      "64/64 [==============================] - 0s 30us/step\n",
      "64/64 [==============================] - 0s 127us/step\n",
      "128/128 [==============================] - 0s 33us/step\n",
      "64/64 [==============================] - 0s 33us/step\n",
      "64/64 [==============================] - 0s 61us/step\n",
      "128/128 [==============================] - 0s 36us/step\n",
      "64/64 [==============================] - 0s 31us/step\n",
      "64/64 [==============================] - 0s 105us/step\n",
      "128/128 [==============================] - 0s 42us/step\n",
      "64/64 [==============================] - 0s 48us/step\n",
      "64/64 [==============================] - 0s 41us/step\n",
      "128/128 [==============================] - 0s 36us/step\n",
      "64/64 [==============================] - 0s 36us/step\n",
      "64/64 [==============================] - 0s 38us/step\n"
     ]
    },
    {
     "name": "stderr",
     "output_type": "stream",
     "text": [
      "\r",
      " 63%|██████▎   | 626/1000 [00:17<00:10, 36.19it/s]"
     ]
    },
    {
     "name": "stdout",
     "output_type": "stream",
     "text": [
      "128/128 [==============================] - 0s 36us/step\n",
      "64/64 [==============================] - 0s 58us/step\n",
      "64/64 [==============================] - 0s 57us/step\n",
      "128/128 [==============================] - 0s 37us/step\n",
      "64/64 [==============================] - 0s 42us/step\n",
      "64/64 [==============================] - 0s 101us/step\n",
      "128/128 [==============================] - 0s 32us/step\n",
      "64/64 [==============================] - 0s 43us/step\n",
      "64/64 [==============================] - 0s 61us/step\n",
      "128/128 [==============================] - 0s 35us/step\n",
      "64/64 [==============================] - 0s 33us/step\n",
      "64/64 [==============================] - 0s 49us/step\n",
      "128/128 [==============================] - 0s 32us/step\n",
      "64/64 [==============================] - 0s 42us/step\n",
      "64/64 [==============================] - 0s 33us/step\n"
     ]
    },
    {
     "name": "stderr",
     "output_type": "stream",
     "text": [
      "\r",
      " 63%|██████▎   | 631/1000 [00:17<00:10, 36.22it/s]"
     ]
    },
    {
     "name": "stdout",
     "output_type": "stream",
     "text": [
      "128/128 [==============================] - 0s 39us/step\n",
      "64/64 [==============================] - 0s 38us/step\n",
      "64/64 [==============================] - 0s 33us/step\n",
      "128/128 [==============================] - 0s 29us/step\n",
      "64/64 [==============================] - 0s 58us/step\n",
      "64/64 [==============================] - 0s 62us/step\n",
      "128/128 [==============================] - 0s 33us/step\n",
      "64/64 [==============================] - 0s 50us/step\n",
      "64/64 [==============================] - 0s 48us/step\n",
      "128/128 [==============================] - 0s 28us/step\n",
      "64/64 [==============================] - 0s 48us/step\n",
      "64/64 [==============================] - 0s 51us/step\n",
      "128/128 [==============================] - 0s 41us/step\n",
      "64/64 [==============================] - 0s 43us/step\n",
      "64/64 [==============================] - 0s 49us/step\n"
     ]
    },
    {
     "name": "stderr",
     "output_type": "stream",
     "text": [
      "\r",
      " 64%|██████▎   | 636/1000 [00:17<00:10, 36.27it/s]"
     ]
    },
    {
     "name": "stdout",
     "output_type": "stream",
     "text": [
      "128/128 [==============================] - 0s 36us/step\n",
      "64/64 [==============================] - 0s 42us/step\n",
      "64/64 [==============================] - 0s 38us/step\n",
      "128/128 [==============================] - 0s 26us/step\n",
      "64/64 [==============================] - 0s 39us/step\n",
      "64/64 [==============================] - 0s 57us/step\n",
      "128/128 [==============================] - 0s 33us/step\n",
      "64/64 [==============================] - 0s 37us/step\n",
      "64/64 [==============================] - 0s 44us/step\n",
      "128/128 [==============================] - 0s 37us/step\n",
      "64/64 [==============================] - 0s 42us/step\n",
      "64/64 [==============================] - 0s 42us/step\n",
      "128/128 [==============================] - 0s 64us/step\n",
      "64/64 [==============================] - 0s 61us/step\n",
      "64/64 [==============================] - 0s 37us/step\n"
     ]
    },
    {
     "name": "stderr",
     "output_type": "stream",
     "text": [
      "\r",
      " 64%|██████▍   | 641/1000 [00:17<00:09, 36.30it/s]"
     ]
    },
    {
     "name": "stdout",
     "output_type": "stream",
     "text": [
      "128/128 [==============================] - 0s 28us/step\n",
      "64/64 [==============================] - 0s 36us/step\n",
      "64/64 [==============================] - 0s 35us/step\n",
      "128/128 [==============================] - 0s 26us/step\n",
      "64/64 [==============================] - 0s 39us/step\n",
      "64/64 [==============================] - 0s 41us/step\n",
      "128/128 [==============================] - 0s 33us/step\n",
      "64/64 [==============================] - 0s 57us/step\n",
      "64/64 [==============================] - 0s 56us/step\n",
      "128/128 [==============================] - 0s 29us/step\n",
      "64/64 [==============================] - 0s 41us/step\n",
      "64/64 [==============================] - 0s 60us/step\n",
      "128/128 [==============================] - 0s 32us/step\n",
      "64/64 [==============================] - 0s 59us/step\n",
      "64/64 [==============================] - 0s 45us/step\n"
     ]
    },
    {
     "name": "stderr",
     "output_type": "stream",
     "text": [
      "\r",
      " 65%|██████▍   | 646/1000 [00:17<00:09, 36.36it/s]"
     ]
    },
    {
     "name": "stdout",
     "output_type": "stream",
     "text": [
      "128/128 [==============================] - 0s 31us/step\n",
      "64/64 [==============================] - 0s 62us/step\n",
      "64/64 [==============================] - 0s 65us/step\n",
      "128/128 [==============================] - 0s 30us/step\n",
      "64/64 [==============================] - 0s 64us/step\n",
      "64/64 [==============================] - 0s 40us/step\n",
      "128/128 [==============================] - 0s 32us/step\n",
      "64/64 [==============================] - 0s 49us/step\n",
      "64/64 [==============================] - 0s 68us/step\n",
      "128/128 [==============================] - 0s 39us/step\n",
      "64/64 [==============================] - 0s 40us/step\n",
      "64/64 [==============================] - 0s 35us/step\n",
      "128/128 [==============================] - 0s 35us/step\n",
      "64/64 [==============================] - 0s 32us/step\n",
      "64/64 [==============================] - 0s 43us/step\n"
     ]
    },
    {
     "name": "stderr",
     "output_type": "stream",
     "text": [
      "\r",
      " 65%|██████▌   | 651/1000 [00:17<00:09, 36.39it/s]"
     ]
    },
    {
     "name": "stdout",
     "output_type": "stream",
     "text": [
      "128/128 [==============================] - 0s 37us/step\n",
      "64/64 [==============================] - 0s 45us/step\n",
      "64/64 [==============================] - 0s 37us/step\n",
      "128/128 [==============================] - 0s 33us/step\n",
      "64/64 [==============================] - 0s 46us/step\n",
      "64/64 [==============================] - 0s 57us/step\n",
      "128/128 [==============================] - 0s 30us/step\n",
      "64/64 [==============================] - 0s 99us/step\n",
      "64/64 [==============================] - 0s 41us/step\n",
      "128/128 [==============================] - 0s 34us/step\n",
      "64/64 [==============================] - 0s 47us/step\n",
      "64/64 [==============================] - 0s 46us/step\n",
      "128/128 [==============================] - 0s 29us/step\n",
      "64/64 [==============================] - 0s 44us/step\n",
      "64/64 [==============================] - 0s 35us/step\n"
     ]
    },
    {
     "name": "stderr",
     "output_type": "stream",
     "text": [
      "\r",
      " 66%|██████▌   | 656/1000 [00:18<00:09, 36.42it/s]"
     ]
    },
    {
     "name": "stdout",
     "output_type": "stream",
     "text": [
      "128/128 [==============================] - 0s 33us/step\n",
      "64/64 [==============================] - 0s 37us/step\n",
      "64/64 [==============================] - 0s 35us/step\n",
      "128/128 [==============================] - 0s 43us/step\n",
      "64/64 [==============================] - 0s 36us/step\n",
      "64/64 [==============================] - 0s 55us/step\n",
      "128/128 [==============================] - 0s 35us/step\n",
      "64/64 [==============================] - ETA:  - 0s 58us/step\n",
      "64/64 [==============================] - 0s 51us/step\n",
      "128/128 [==============================] - 0s 42us/step\n",
      "64/64 [==============================] - 0s 50us/step\n",
      "64/64 [==============================] - 0s 41us/step\n",
      "128/128 [==============================] - 0s 31us/step\n",
      "64/64 [==============================] - 0s 99us/step\n",
      "64/64 [==============================] - 0s 48us/step\n"
     ]
    },
    {
     "name": "stderr",
     "output_type": "stream",
     "text": [
      "\r",
      " 66%|██████▌   | 661/1000 [00:18<00:09, 36.45it/s]"
     ]
    },
    {
     "name": "stdout",
     "output_type": "stream",
     "text": [
      "128/128 [==============================] - 0s 33us/step\n",
      "64/64 [==============================] - 0s 46us/step\n",
      "64/64 [==============================] - 0s 47us/step\n",
      "128/128 [==============================] - 0s 26us/step\n",
      "64/64 [==============================] - 0s 43us/step\n",
      "64/64 [==============================] - 0s 37us/step\n",
      "128/128 [==============================] - 0s 32us/step\n",
      "64/64 [==============================] - 0s 54us/step\n",
      "64/64 [==============================] - 0s 49us/step\n",
      "128/128 [==============================] - 0s 37us/step\n",
      "64/64 [==============================] - 0s 42us/step\n",
      "64/64 [==============================] - 0s 49us/step\n",
      "128/128 [==============================] - 0s 34us/step\n",
      "64/64 [==============================] - 0s 49us/step\n",
      "64/64 [==============================] - 0s 41us/step\n"
     ]
    },
    {
     "name": "stderr",
     "output_type": "stream",
     "text": [
      "\r",
      " 67%|██████▋   | 666/1000 [00:18<00:09, 36.49it/s]"
     ]
    },
    {
     "name": "stdout",
     "output_type": "stream",
     "text": [
      "128/128 [==============================] - 0s 29us/step\n",
      "64/64 [==============================] - 0s 48us/step\n",
      "64/64 [==============================] - 0s 35us/step\n",
      "128/128 [==============================] - 0s 33us/step\n",
      "64/64 [==============================] - 0s 48us/step\n",
      "64/64 [==============================] - 0s 51us/step\n",
      "128/128 [==============================] - 0s 40us/step\n",
      "64/64 [==============================] - 0s 32us/step\n",
      "64/64 [==============================] - 0s 46us/step\n",
      "128/128 [==============================] - 0s 36us/step\n",
      "64/64 [==============================] - 0s 41us/step\n",
      "64/64 [==============================] - 0s 58us/step\n",
      "128/128 [==============================] - 0s 37us/step\n",
      "64/64 [==============================] - 0s 59us/step\n",
      "64/64 [==============================] - 0s 32us/step\n"
     ]
    },
    {
     "name": "stderr",
     "output_type": "stream",
     "text": [
      "\r",
      " 67%|██████▋   | 671/1000 [00:18<00:09, 36.53it/s]"
     ]
    },
    {
     "name": "stdout",
     "output_type": "stream",
     "text": [
      "128/128 [==============================] - 0s 30us/step\n",
      "64/64 [==============================] - 0s 47us/step\n",
      "64/64 [==============================] - 0s 45us/step\n",
      "128/128 [==============================] - 0s 31us/step\n",
      "64/64 [==============================] - 0s 58us/step\n",
      "64/64 [==============================] - 0s 64us/step\n",
      "128/128 [==============================] - 0s 33us/step\n",
      "64/64 [==============================] - 0s 54us/step\n",
      "64/64 [==============================] - 0s 46us/step\n",
      "128/128 [==============================] - 0s 36us/step\n",
      "64/64 [==============================] - 0s 50us/step\n",
      "64/64 [==============================] - 0s 39us/step\n",
      "128/128 [==============================] - 0s 35us/step\n",
      "64/64 [==============================] - 0s 36us/step\n",
      "64/64 [==============================] - 0s 37us/step\n"
     ]
    },
    {
     "name": "stderr",
     "output_type": "stream",
     "text": [
      "\r",
      " 68%|██████▊   | 676/1000 [00:18<00:08, 36.57it/s]"
     ]
    },
    {
     "name": "stdout",
     "output_type": "stream",
     "text": [
      "128/128 [==============================] - 0s 29us/step\n",
      "64/64 [==============================] - 0s 44us/step\n",
      "64/64 [==============================] - 0s 50us/step\n",
      "128/128 [==============================] - 0s 34us/step\n",
      "64/64 [==============================] - 0s 56us/step\n",
      "64/64 [==============================] - 0s 33us/step\n",
      "128/128 [==============================] - 0s 31us/step\n",
      "64/64 [==============================] - 0s 43us/step\n",
      "64/64 [==============================] - 0s 54us/step\n",
      "128/128 [==============================] - 0s 37us/step\n",
      "64/64 [==============================] - 0s 53us/step\n",
      "64/64 [==============================] - 0s 49us/step\n",
      "128/128 [==============================] - 0s 31us/step\n",
      "64/64 [==============================] - 0s 34us/step\n",
      "64/64 [==============================] - 0s 43us/step\n"
     ]
    },
    {
     "name": "stderr",
     "output_type": "stream",
     "text": [
      "\r",
      " 68%|██████▊   | 681/1000 [00:18<00:08, 36.60it/s]"
     ]
    },
    {
     "name": "stdout",
     "output_type": "stream",
     "text": [
      "128/128 [==============================] - 0s 35us/step\n",
      "64/64 [==============================] - 0s 49us/step\n",
      "64/64 [==============================] - 0s 59us/step\n",
      "128/128 [==============================] - 0s 35us/step\n",
      "64/64 [==============================] - 0s 62us/step\n",
      "64/64 [==============================] - 0s 52us/step\n",
      "128/128 [==============================] - 0s 34us/step\n",
      "64/64 [==============================] - 0s 46us/step\n",
      "64/64 [==============================] - 0s 37us/step\n",
      "128/128 [==============================] - 0s 39us/step\n",
      "64/64 [==============================] - 0s 41us/step\n",
      "64/64 [==============================] - 0s 45us/step\n",
      "128/128 [==============================] - 0s 29us/step\n",
      "64/64 [==============================] - 0s 46us/step\n",
      "64/64 [==============================] - 0s 57us/step\n"
     ]
    },
    {
     "name": "stderr",
     "output_type": "stream",
     "text": [
      "\r",
      " 69%|██████▊   | 686/1000 [00:18<00:08, 36.64it/s]"
     ]
    },
    {
     "name": "stdout",
     "output_type": "stream",
     "text": [
      "128/128 [==============================] - 0s 39us/step\n",
      "64/64 [==============================] - 0s 46us/step\n",
      "64/64 [==============================] - 0s 46us/step\n",
      "128/128 [==============================] - 0s 34us/step\n",
      "64/64 [==============================] - 0s 43us/step\n",
      "64/64 [==============================] - 0s 38us/step\n",
      "128/128 [==============================] - 0s 32us/step\n",
      "64/64 [==============================] - 0s 41us/step\n",
      "64/64 [==============================] - 0s 51us/step\n",
      "128/128 [==============================] - 0s 40us/step\n",
      "64/64 [==============================] - 0s 39us/step\n",
      "64/64 [==============================] - 0s 35us/step\n",
      "128/128 [==============================] - 0s 36us/step\n",
      "64/64 [==============================] - 0s 41us/step\n",
      "64/64 [==============================] - 0s 44us/step\n"
     ]
    },
    {
     "name": "stderr",
     "output_type": "stream",
     "text": [
      "\r",
      " 69%|██████▉   | 691/1000 [00:18<00:08, 36.67it/s]"
     ]
    },
    {
     "name": "stdout",
     "output_type": "stream",
     "text": [
      "128/128 [==============================] - 0s 28us/step\n",
      "64/64 [==============================] - 0s 38us/step\n",
      "64/64 [==============================] - 0s 74us/step\n",
      "128/128 [==============================] - 0s 34us/step\n",
      "64/64 [==============================] - 0s 51us/step\n",
      "64/64 [==============================] - 0s 61us/step\n",
      "128/128 [==============================] - 0s 32us/step\n",
      "64/64 [==============================] - 0s 56us/step\n",
      "64/64 [==============================] - 0s 64us/step\n",
      "128/128 [==============================] - 0s 39us/step\n",
      "64/64 [==============================] - 0s 44us/step\n",
      "64/64 [==============================] - 0s 37us/step\n",
      "128/128 [==============================] - 0s 31us/step\n",
      "64/64 [==============================] - 0s 33us/step\n",
      "64/64 [==============================] - 0s 39us/step\n"
     ]
    },
    {
     "name": "stderr",
     "output_type": "stream",
     "text": [
      "\r",
      " 70%|██████▉   | 696/1000 [00:18<00:08, 36.71it/s]"
     ]
    },
    {
     "name": "stdout",
     "output_type": "stream",
     "text": [
      "128/128 [==============================] - 0s 36us/step\n",
      "64/64 [==============================] - 0s 64us/step\n",
      "64/64 [==============================] - 0s 51us/step\n",
      "128/128 [==============================] - 0s 32us/step\n",
      "64/64 [==============================] - 0s 62us/step\n",
      "64/64 [==============================] - 0s 35us/step\n",
      "128/128 [==============================] - 0s 30us/step\n",
      "64/64 [==============================] - 0s 58us/step\n",
      "64/64 [==============================] - 0s 47us/step\n",
      "128/128 [==============================] - 0s 31us/step\n",
      "64/64 [==============================] - 0s 32us/step\n",
      "64/64 [==============================] - 0s 37us/step\n",
      "128/128 [==============================] - 0s 36us/step\n",
      "64/64 [==============================] - 0s 58us/step\n",
      "64/64 [==============================] - 0s 45us/step\n"
     ]
    },
    {
     "name": "stderr",
     "output_type": "stream",
     "text": [
      "\r",
      " 70%|███████   | 701/1000 [00:19<00:08, 36.74it/s]"
     ]
    },
    {
     "name": "stdout",
     "output_type": "stream",
     "text": [
      "128/128 [==============================] - 0s 31us/step\n",
      "64/64 [==============================] - 0s 56us/step\n",
      "64/64 [==============================] - 0s 53us/step\n",
      "128/128 [==============================] - 0s 29us/step\n",
      "64/64 [==============================] - 0s 62us/step\n",
      "64/64 [==============================] - 0s 74us/step\n",
      "128/128 [==============================] - 0s 31us/step\n",
      "64/64 [==============================] - 0s 51us/step\n",
      "64/64 [==============================] - 0s 57us/step\n",
      "128/128 [==============================] - 0s 39us/step\n",
      "64/64 [==============================] - 0s 34us/step\n",
      "64/64 [==============================] - 0s 96us/step\n",
      "128/128 [==============================] - 0s 36us/step\n",
      "64/64 [==============================] - 0s 43us/step\n",
      "64/64 [==============================] - 0s 35us/step\n"
     ]
    },
    {
     "name": "stderr",
     "output_type": "stream",
     "text": [
      "\r",
      " 71%|███████   | 706/1000 [00:19<00:07, 36.77it/s]"
     ]
    },
    {
     "name": "stdout",
     "output_type": "stream",
     "text": [
      "128/128 [==============================] - 0s 30us/step\n",
      "64/64 [==============================] - 0s 39us/step\n",
      "64/64 [==============================] - 0s 33us/step\n",
      "128/128 [==============================] - 0s 37us/step\n",
      "64/64 [==============================] - 0s 76us/step\n",
      "64/64 [==============================] - 0s 36us/step\n",
      "128/128 [==============================] - 0s 36us/step\n",
      "64/64 [==============================] - 0s 45us/step\n",
      "64/64 [==============================] - 0s 57us/step\n",
      "128/128 [==============================] - 0s 29us/step\n",
      "64/64 [==============================] - 0s 65us/step\n",
      "64/64 [==============================] - 0s 51us/step\n",
      "128/128 [==============================] - 0s 30us/step\n",
      "64/64 [==============================] - 0s 51us/step\n",
      "64/64 [==============================] - 0s 35us/step\n"
     ]
    },
    {
     "name": "stderr",
     "output_type": "stream",
     "text": [
      "\r",
      " 71%|███████   | 711/1000 [00:19<00:07, 36.79it/s]"
     ]
    },
    {
     "name": "stdout",
     "output_type": "stream",
     "text": [
      "128/128 [==============================] - 0s 33us/step\n",
      "64/64 [==============================] - 0s 97us/step\n",
      "64/64 [==============================] - 0s 59us/step\n",
      "128/128 [==============================] - 0s 32us/step\n",
      "64/64 [==============================] - 0s 40us/step\n",
      "64/64 [==============================] - 0s 34us/step\n",
      "128/128 [==============================] - 0s 27us/step\n",
      "64/64 [==============================] - 0s 46us/step\n",
      "64/64 [==============================] - 0s 35us/step\n",
      "128/128 [==============================] - 0s 34us/step\n",
      "64/64 [==============================] - 0s 59us/step\n",
      "64/64 [==============================] - 0s 38us/step\n",
      "128/128 [==============================] - 0s 28us/step\n",
      "64/64 [==============================] - 0s 33us/step\n",
      "64/64 [==============================] - 0s 47us/step\n"
     ]
    },
    {
     "name": "stderr",
     "output_type": "stream",
     "text": [
      "\r",
      " 72%|███████▏  | 716/1000 [00:19<00:07, 36.83it/s]"
     ]
    },
    {
     "name": "stdout",
     "output_type": "stream",
     "text": [
      "128/128 [==============================] - 0s 38us/step\n",
      "64/64 [==============================] - 0s 54us/step\n",
      "64/64 [==============================] - 0s 54us/step\n",
      "128/128 [==============================] - 0s 30us/step\n",
      "64/64 [==============================] - 0s 53us/step\n",
      "64/64 [==============================] - 0s 49us/step\n",
      "128/128 [==============================] - 0s 27us/step\n",
      "64/64 [==============================] - 0s 57us/step\n",
      "64/64 [==============================] - 0s 50us/step\n",
      "128/128 [==============================] - 0s 39us/step\n",
      "64/64 [==============================] - 0s 34us/step\n",
      "64/64 [==============================] - 0s 53us/step\n",
      "128/128 [==============================] - 0s 30us/step\n",
      "64/64 [==============================] - 0s 44us/step\n",
      "64/64 [==============================] - 0s 38us/step\n"
     ]
    },
    {
     "name": "stderr",
     "output_type": "stream",
     "text": [
      "\r",
      " 72%|███████▏  | 721/1000 [00:19<00:07, 36.86it/s]"
     ]
    },
    {
     "name": "stdout",
     "output_type": "stream",
     "text": [
      "128/128 [==============================] - 0s 31us/step\n",
      "64/64 [==============================] - 0s 53us/step\n",
      "64/64 [==============================] - 0s 54us/step\n",
      "128/128 [==============================] - 0s 37us/step\n",
      "64/64 [==============================] - 0s 64us/step\n",
      "64/64 [==============================] - 0s 58us/step\n",
      "128/128 [==============================] - 0s 37us/step\n",
      "64/64 [==============================] - 0s 32us/step\n",
      "64/64 [==============================] - 0s 41us/step\n",
      "128/128 [==============================] - 0s 31us/step\n",
      "64/64 [==============================] - 0s 52us/step\n",
      "64/64 [==============================] - 0s 42us/step\n",
      "128/128 [==============================] - 0s 36us/step\n",
      "64/64 [==============================] - 0s 34us/step\n",
      "64/64 [==============================] - 0s 37us/step\n"
     ]
    },
    {
     "name": "stderr",
     "output_type": "stream",
     "text": [
      "\r",
      " 73%|███████▎  | 726/1000 [00:19<00:07, 36.90it/s]"
     ]
    },
    {
     "name": "stdout",
     "output_type": "stream",
     "text": [
      "128/128 [==============================] - 0s 32us/step\n",
      "64/64 [==============================] - 0s 74us/step\n",
      "64/64 [==============================] - 0s 51us/step\n",
      "128/128 [==============================] - 0s 36us/step\n",
      "64/64 [==============================] - 0s 32us/step\n",
      "64/64 [==============================] - 0s 40us/step\n",
      "128/128 [==============================] - 0s 27us/step\n",
      "64/64 [==============================] - 0s 51us/step\n",
      "64/64 [==============================] - 0s 60us/step\n",
      "128/128 [==============================] - 0s 31us/step\n",
      "64/64 [==============================] - 0s 38us/step\n",
      "64/64 [==============================] - 0s 42us/step\n",
      "128/128 [==============================] - 0s 33us/step\n",
      "64/64 [==============================] - 0s 51us/step\n",
      "64/64 [==============================] - 0s 35us/step\n"
     ]
    },
    {
     "name": "stderr",
     "output_type": "stream",
     "text": [
      "\r",
      " 73%|███████▎  | 731/1000 [00:19<00:07, 36.93it/s]"
     ]
    },
    {
     "name": "stdout",
     "output_type": "stream",
     "text": [
      "128/128 [==============================] - 0s 41us/step\n",
      "64/64 [==============================] - 0s 48us/step\n",
      "64/64 [==============================] - 0s 58us/step\n",
      "128/128 [==============================] - 0s 28us/step\n",
      "64/64 [==============================] - 0s 52us/step\n",
      "64/64 [==============================] - 0s 69us/step\n",
      "128/128 [==============================] - 0s 39us/step\n",
      "64/64 [==============================] - 0s 60us/step\n",
      "64/64 [==============================] - 0s 46us/step\n",
      "128/128 [==============================] - 0s 38us/step\n",
      "64/64 [==============================] - 0s 47us/step\n",
      "64/64 [==============================] - 0s 47us/step\n",
      "128/128 [==============================] - 0s 30us/step\n",
      "64/64 [==============================] - 0s 37us/step\n",
      "64/64 [==============================] - 0s 41us/step\n"
     ]
    },
    {
     "name": "stderr",
     "output_type": "stream",
     "text": [
      "\r",
      " 74%|███████▎  | 736/1000 [00:19<00:07, 36.96it/s]"
     ]
    },
    {
     "name": "stdout",
     "output_type": "stream",
     "text": [
      "128/128 [==============================] - 0s 36us/step\n",
      "64/64 [==============================] - 0s 52us/step\n",
      "64/64 [==============================] - 0s 59us/step\n",
      "128/128 [==============================] - 0s 28us/step\n",
      "64/64 [==============================] - 0s 50us/step\n",
      "64/64 [==============================] - 0s 66us/step\n",
      "128/128 [==============================] - 0s 30us/step\n",
      "64/64 [==============================] - 0s 59us/step\n",
      "64/64 [==============================] - 0s 42us/step\n",
      "128/128 [==============================] - 0s 34us/step\n",
      "64/64 [==============================] - 0s 44us/step\n",
      "64/64 [==============================] - 0s 46us/step\n",
      "128/128 [==============================] - 0s 31us/step\n",
      "64/64 [==============================] - 0s 37us/step\n",
      "64/64 [==============================] - 0s 53us/step\n"
     ]
    },
    {
     "name": "stderr",
     "output_type": "stream",
     "text": [
      "\r",
      " 74%|███████▍  | 741/1000 [00:20<00:07, 36.98it/s]"
     ]
    },
    {
     "name": "stdout",
     "output_type": "stream",
     "text": [
      "128/128 [==============================] - 0s 30us/step\n",
      "64/64 [==============================] - 0s 39us/step\n",
      "64/64 [==============================] - 0s 34us/step\n",
      "128/128 [==============================] - 0s 27us/step\n",
      "64/64 [==============================] - 0s 52us/step\n",
      "64/64 [==============================] - 0s 39us/step\n",
      "128/128 [==============================] - 0s 33us/step\n",
      "64/64 [==============================] - 0s 57us/step\n",
      "64/64 [==============================] - 0s 46us/step\n",
      "128/128 [==============================] - 0s 28us/step\n",
      "64/64 [==============================] - 0s 67us/step\n",
      "64/64 [==============================] - 0s 50us/step\n",
      "128/128 [==============================] - 0s 27us/step\n",
      "64/64 [==============================] - 0s 39us/step\n",
      "64/64 [==============================] - 0s 61us/step\n"
     ]
    },
    {
     "name": "stderr",
     "output_type": "stream",
     "text": [
      "\r",
      " 75%|███████▍  | 746/1000 [00:20<00:06, 37.03it/s]"
     ]
    },
    {
     "name": "stdout",
     "output_type": "stream",
     "text": [
      "128/128 [==============================] - 0s 29us/step\n",
      "64/64 [==============================] - 0s 44us/step\n",
      "64/64 [==============================] - 0s 54us/step\n",
      "128/128 [==============================] - 0s 31us/step\n",
      "64/64 [==============================] - 0s 44us/step\n",
      "64/64 [==============================] - 0s 79us/step\n",
      "128/128 [==============================] - 0s 31us/step\n",
      "64/64 [==============================] - 0s 40us/step\n",
      "64/64 [==============================] - 0s 45us/step\n",
      "128/128 [==============================] - 0s 29us/step\n",
      "64/64 [==============================] - 0s 53us/step\n",
      "64/64 [==============================] - 0s 65us/step\n",
      "128/128 [==============================] - 0s 32us/step\n",
      "64/64 [==============================] - 0s 63us/step\n",
      "64/64 [==============================] - 0s 54us/step\n"
     ]
    },
    {
     "name": "stderr",
     "output_type": "stream",
     "text": [
      "\r",
      " 75%|███████▌  | 751/1000 [00:20<00:06, 37.05it/s]"
     ]
    },
    {
     "name": "stdout",
     "output_type": "stream",
     "text": [
      "128/128 [==============================] - 0s 32us/step\n",
      "64/64 [==============================] - 0s 42us/step\n",
      "64/64 [==============================] - 0s 47us/step\n",
      "128/128 [==============================] - 0s 29us/step\n",
      "64/64 [==============================] - 0s 52us/step\n",
      "64/64 [==============================] - 0s 38us/step\n",
      "128/128 [==============================] - 0s 31us/step\n",
      "64/64 [==============================] - 0s 44us/step\n",
      "64/64 [==============================] - 0s 51us/step\n",
      "128/128 [==============================] - 0s 30us/step\n",
      "64/64 [==============================] - 0s 42us/step\n",
      "64/64 [==============================] - 0s 52us/step\n",
      "128/128 [==============================] - 0s 33us/step\n",
      "64/64 [==============================] - 0s 46us/step\n",
      "64/64 [==============================] - 0s 48us/step\n"
     ]
    },
    {
     "name": "stderr",
     "output_type": "stream",
     "text": [
      "\r",
      " 76%|███████▌  | 756/1000 [00:20<00:06, 37.08it/s]"
     ]
    },
    {
     "name": "stdout",
     "output_type": "stream",
     "text": [
      "128/128 [==============================] - 0s 31us/step\n",
      "64/64 [==============================] - 0s 48us/step\n",
      "64/64 [==============================] - 0s 38us/step\n",
      "128/128 [==============================] - 0s 34us/step\n",
      "64/64 [==============================] - 0s 56us/step\n",
      "64/64 [==============================] - 0s 55us/step\n",
      "128/128 [==============================] - 0s 30us/step\n",
      "64/64 [==============================] - 0s 32us/step\n",
      "64/64 [==============================] - 0s 33us/step\n",
      "128/128 [==============================] - 0s 31us/step\n",
      "64/64 [==============================] - 0s 76us/step\n",
      "64/64 [==============================] - 0s 43us/step\n",
      "128/128 [==============================] - 0s 36us/step\n",
      "64/64 [==============================] - 0s 38us/step\n",
      "64/64 [==============================] - 0s 47us/step\n"
     ]
    },
    {
     "name": "stderr",
     "output_type": "stream",
     "text": [
      "\r",
      " 76%|███████▌  | 761/1000 [00:20<00:06, 37.11it/s]"
     ]
    },
    {
     "name": "stdout",
     "output_type": "stream",
     "text": [
      "128/128 [==============================] - 0s 28us/step\n",
      "64/64 [==============================] - 0s 33us/step\n",
      "64/64 [==============================] - 0s 49us/step\n",
      "128/128 [==============================] - 0s 30us/step\n",
      "64/64 [==============================] - 0s 37us/step\n",
      "64/64 [==============================] - 0s 35us/step\n",
      "128/128 [==============================] - 0s 38us/step\n",
      "64/64 [==============================] - 0s 47us/step\n",
      "64/64 [==============================] - 0s 39us/step\n",
      "128/128 [==============================] - 0s 29us/step\n",
      "64/64 [==============================] - 0s 56us/step\n",
      "64/64 [==============================] - 0s 59us/step\n",
      "128/128 [==============================] - 0s 33us/step\n",
      "64/64 [==============================] - 0s 48us/step\n",
      "64/64 [==============================] - 0s 54us/step\n"
     ]
    },
    {
     "name": "stderr",
     "output_type": "stream",
     "text": [
      "\r",
      " 77%|███████▋  | 766/1000 [00:20<00:06, 37.14it/s]"
     ]
    },
    {
     "name": "stdout",
     "output_type": "stream",
     "text": [
      "128/128 [==============================] - 0s 40us/step\n",
      "64/64 [==============================] - 0s 37us/step\n",
      "64/64 [==============================] - 0s 40us/step\n",
      "128/128 [==============================] - 0s 43us/step\n",
      "64/64 [==============================] - 0s 54us/step\n",
      "64/64 [==============================] - 0s 63us/step\n",
      "128/128 [==============================] - 0s 29us/step\n",
      "64/64 [==============================] - 0s 69us/step\n",
      "64/64 [==============================] - 0s 60us/step\n",
      "128/128 [==============================] - 0s 35us/step\n",
      "64/64 [==============================] - 0s 54us/step\n",
      "64/64 [==============================] - 0s 52us/step\n",
      "128/128 [==============================] - 0s 72us/step\n",
      "64/64 [==============================] - 0s 39us/step\n",
      "64/64 [==============================] - 0s 38us/step\n"
     ]
    },
    {
     "name": "stderr",
     "output_type": "stream",
     "text": [
      "\r",
      " 77%|███████▋  | 771/1000 [00:20<00:06, 37.15it/s]"
     ]
    },
    {
     "name": "stdout",
     "output_type": "stream",
     "text": [
      "128/128 [==============================] - 0s 30us/step\n",
      "64/64 [==============================] - 0s 46us/step\n",
      "64/64 [==============================] - 0s 53us/step\n",
      "128/128 [==============================] - 0s 33us/step\n",
      "64/64 [==============================] - 0s 53us/step\n",
      "64/64 [==============================] - 0s 75us/step\n",
      "128/128 [==============================] - 0s 41us/step\n",
      "64/64 [==============================] - 0s 47us/step\n",
      "64/64 [==============================] - 0s 43us/step\n",
      "128/128 [==============================] - 0s 29us/step\n",
      "64/64 [==============================] - 0s 50us/step\n",
      "64/64 [==============================] - 0s 57us/step\n",
      "128/128 [==============================] - 0s 36us/step\n",
      "64/64 [==============================] - 0s 51us/step\n",
      "64/64 [==============================] - 0s 58us/step\n"
     ]
    },
    {
     "name": "stderr",
     "output_type": "stream",
     "text": [
      "\r",
      " 78%|███████▊  | 776/1000 [00:20<00:06, 37.15it/s]"
     ]
    },
    {
     "name": "stdout",
     "output_type": "stream",
     "text": [
      "128/128 [==============================] - 0s 31us/step\n",
      "64/64 [==============================] - 0s 37us/step\n",
      "64/64 [==============================] - 0s 66us/step\n",
      "128/128 [==============================] - 0s 37us/step\n",
      "64/64 [==============================] - 0s 75us/step\n",
      "64/64 [==============================] - 0s 37us/step\n",
      "128/128 [==============================] - 0s 32us/step\n",
      "64/64 [==============================] - 0s 34us/step\n",
      "64/64 [==============================] - 0s 64us/step\n",
      "128/128 [==============================] - 0s 29us/step\n",
      "64/64 [==============================] - 0s 40us/step\n",
      "64/64 [==============================] - 0s 76us/step\n",
      "128/128 [==============================] - 0s 36us/step\n",
      "64/64 [==============================] - 0s 48us/step\n",
      "64/64 [==============================] - 0s 83us/step\n"
     ]
    },
    {
     "name": "stderr",
     "output_type": "stream",
     "text": [
      "\r",
      " 78%|███████▊  | 781/1000 [00:21<00:05, 37.17it/s]"
     ]
    },
    {
     "name": "stdout",
     "output_type": "stream",
     "text": [
      "128/128 [==============================] - 0s 33us/step\n",
      "64/64 [==============================] - 0s 59us/step\n",
      "64/64 [==============================] - 0s 46us/step\n",
      "128/128 [==============================] - 0s 31us/step\n",
      "64/64 [==============================] - 0s 46us/step\n",
      "64/64 [==============================] - 0s 57us/step\n",
      "128/128 [==============================] - 0s 43us/step\n",
      "64/64 [==============================] - 0s 52us/step\n",
      "64/64 [==============================] - 0s 54us/step\n",
      "128/128 [==============================] - 0s 37us/step\n",
      "64/64 [==============================] - 0s 151us/step\n",
      "64/64 [==============================] - 0s 37us/step\n"
     ]
    },
    {
     "name": "stderr",
     "output_type": "stream",
     "text": [
      "\r",
      " 78%|███████▊  | 785/1000 [00:21<00:05, 37.17it/s]"
     ]
    },
    {
     "name": "stdout",
     "output_type": "stream",
     "text": [
      "128/128 [==============================] - 0s 30us/step\n",
      "64/64 [==============================] - 0s 36us/step\n",
      "64/64 [==============================] - 0s 48us/step\n",
      "128/128 [==============================] - 0s 46us/step\n",
      "64/64 [==============================] - 0s 45us/step\n",
      "64/64 [==============================] - 0s 53us/step\n",
      "128/128 [==============================] - 0s 29us/step\n",
      "64/64 [==============================] - 0s 57us/step\n",
      "64/64 [==============================] - 0s 89us/step\n",
      "128/128 [==============================] - 0s 35us/step\n",
      "64/64 [==============================] - 0s 48us/step\n",
      "64/64 [==============================] - 0s 40us/step\n"
     ]
    },
    {
     "name": "stderr",
     "output_type": "stream",
     "text": [
      "\r",
      " 79%|███████▉  | 789/1000 [00:21<00:05, 37.17it/s]"
     ]
    },
    {
     "name": "stdout",
     "output_type": "stream",
     "text": [
      "128/128 [==============================] - 0s 27us/step\n",
      "64/64 [==============================] - 0s 45us/step\n",
      "64/64 [==============================] - 0s 43us/step\n",
      "128/128 [==============================] - 0s 41us/step\n",
      "64/64 [==============================] - 0s 39us/step\n",
      "64/64 [==============================] - 0s 55us/step\n",
      "128/128 [==============================] - 0s 61us/step\n",
      "64/64 [==============================] - 0s 50us/step\n",
      "64/64 [==============================] - 0s 56us/step\n",
      "128/128 [==============================] - 0s 31us/step\n",
      "64/64 [==============================] - 0s 51us/step\n",
      "64/64 [==============================] - 0s 76us/step\n"
     ]
    },
    {
     "name": "stderr",
     "output_type": "stream",
     "text": [
      "\r",
      " 79%|███████▉  | 793/1000 [00:21<00:05, 37.17it/s]"
     ]
    },
    {
     "name": "stdout",
     "output_type": "stream",
     "text": [
      "128/128 [==============================] - 0s 40us/step\n",
      "64/64 [==============================] - 0s 61us/step\n",
      "64/64 [==============================] - 0s 35us/step\n",
      "128/128 [==============================] - 0s 27us/step\n",
      "64/64 [==============================] - 0s 82us/step\n",
      "64/64 [==============================] - 0s 39us/step\n",
      "128/128 [==============================] - 0s 40us/step\n",
      "64/64 [==============================] - 0s 55us/step\n",
      "64/64 [==============================] - 0s 41us/step\n",
      "128/128 [==============================] - 0s 35us/step\n",
      "64/64 [==============================] - 0s 59us/step\n",
      "64/64 [==============================] - 0s 66us/step\n"
     ]
    },
    {
     "name": "stderr",
     "output_type": "stream",
     "text": [
      "\r",
      " 80%|███████▉  | 797/1000 [00:21<00:05, 37.18it/s]"
     ]
    },
    {
     "name": "stdout",
     "output_type": "stream",
     "text": [
      "128/128 [==============================] - 0s 31us/step\n",
      "64/64 [==============================] - 0s 34us/step\n",
      "64/64 [==============================] - 0s 130us/step\n",
      "128/128 [==============================] - 0s 41us/step\n",
      "64/64 [==============================] - 0s 70us/step\n",
      "64/64 [==============================] - 0s 84us/step\n",
      "128/128 [==============================] - 0s 40us/step\n",
      "64/64 [==============================] - 0s 43us/step\n",
      "64/64 [==============================] - 0s 58us/step\n",
      "128/128 [==============================] - 0s 46us/step\n",
      "64/64 [==============================] - 0s 53us/step\n",
      "64/64 [==============================] - 0s 47us/step\n"
     ]
    },
    {
     "name": "stderr",
     "output_type": "stream",
     "text": [
      "\r",
      " 80%|████████  | 801/1000 [00:21<00:05, 37.16it/s]"
     ]
    },
    {
     "name": "stdout",
     "output_type": "stream",
     "text": [
      "128/128 [==============================] - 0s 34us/step\n",
      "64/64 [==============================] - 0s 56us/step\n",
      "64/64 [==============================] - 0s 70us/step\n",
      "128/128 [==============================] - 0s 40us/step\n",
      "64/64 [==============================] - 0s 42us/step\n",
      "64/64 [==============================] - 0s 46us/step\n",
      "128/128 [==============================] - 0s 37us/step\n",
      "64/64 [==============================] - 0s 48us/step\n",
      "64/64 [==============================] - 0s 96us/step\n",
      "128/128 [==============================] - 0s 29us/step\n",
      "64/64 [==============================] - 0s 55us/step\n",
      "64/64 [==============================] - 0s 79us/step\n"
     ]
    },
    {
     "name": "stderr",
     "output_type": "stream",
     "text": [
      "\r",
      " 80%|████████  | 805/1000 [00:21<00:05, 37.16it/s]"
     ]
    },
    {
     "name": "stdout",
     "output_type": "stream",
     "text": [
      "128/128 [==============================] - 0s 40us/step\n",
      "64/64 [==============================] - 0s 54us/step\n",
      "64/64 [==============================] - 0s 48us/step\n",
      "128/128 [==============================] - 0s 28us/step\n",
      "64/64 [==============================] - 0s 60us/step\n",
      "64/64 [==============================] - 0s 57us/step\n",
      "128/128 [==============================] - 0s 34us/step\n",
      "64/64 [==============================] - 0s 51us/step\n",
      "64/64 [==============================] - 0s 60us/step\n",
      "128/128 [==============================] - 0s 47us/step\n",
      "64/64 [==============================] - 0s 35us/step\n",
      "64/64 [==============================] - 0s 56us/step\n"
     ]
    },
    {
     "name": "stderr",
     "output_type": "stream",
     "text": [
      "\r",
      " 81%|████████  | 809/1000 [00:21<00:05, 37.16it/s]"
     ]
    },
    {
     "name": "stdout",
     "output_type": "stream",
     "text": [
      "128/128 [==============================] - 0s 35us/step\n",
      "64/64 [==============================] - 0s 48us/step\n",
      "64/64 [==============================] - 0s 76us/step\n",
      "128/128 [==============================] - 0s 36us/step\n",
      "64/64 [==============================] - 0s 32us/step\n",
      "64/64 [==============================] - 0s 58us/step\n",
      "128/128 [==============================] - 0s 37us/step\n",
      "64/64 [==============================] - 0s 39us/step\n",
      "64/64 [==============================] - 0s 57us/step\n",
      "128/128 [==============================] - 0s 38us/step\n",
      "64/64 [==============================] - 0s 48us/step\n",
      "64/64 [==============================] - 0s 40us/step\n"
     ]
    },
    {
     "name": "stderr",
     "output_type": "stream",
     "text": [
      "\r",
      " 81%|████████▏ | 813/1000 [00:21<00:05, 37.16it/s]"
     ]
    },
    {
     "name": "stdout",
     "output_type": "stream",
     "text": [
      "128/128 [==============================] - 0s 46us/step\n",
      "64/64 [==============================] - 0s 37us/step\n",
      "64/64 [==============================] - 0s 31us/step\n",
      "128/128 [==============================] - 0s 32us/step\n",
      "64/64 [==============================] - 0s 35us/step\n",
      "64/64 [==============================] - 0s 53us/step\n",
      "128/128 [==============================] - 0s 36us/step\n",
      "64/64 [==============================] - 0s 36us/step\n",
      "64/64 [==============================] - 0s 54us/step\n",
      "128/128 [==============================] - 0s 38us/step\n",
      "64/64 [==============================] - 0s 49us/step\n",
      "64/64 [==============================] - 0s 50us/step\n",
      "128/128 [==============================] - 0s 31us/step\n",
      "64/64 [==============================] - 0s 59us/step\n",
      "64/64 [==============================] - 0s 54us/step\n"
     ]
    },
    {
     "name": "stderr",
     "output_type": "stream",
     "text": [
      "\r",
      " 82%|████████▏ | 818/1000 [00:21<00:04, 37.18it/s]"
     ]
    },
    {
     "name": "stdout",
     "output_type": "stream",
     "text": [
      "128/128 [==============================] - 0s 32us/step\n",
      "64/64 [==============================] - 0s 38us/step\n",
      "64/64 [==============================] - 0s 63us/step\n",
      "128/128 [==============================] - 0s 30us/step\n",
      "64/64 [==============================] - 0s 54us/step\n",
      "64/64 [==============================] - 0s 40us/step\n",
      "128/128 [==============================] - 0s 34us/step\n",
      "64/64 [==============================] - 0s 37us/step\n",
      "64/64 [==============================] - 0s 43us/step\n",
      "128/128 [==============================] - 0s 43us/step\n",
      "64/64 [==============================] - 0s 34us/step\n",
      "64/64 [==============================] - 0s 76us/step\n",
      "128/128 [==============================] - 0s 41us/step\n",
      "64/64 [==============================] - 0s 71us/step\n",
      "64/64 [==============================] - 0s 36us/step\n"
     ]
    },
    {
     "name": "stderr",
     "output_type": "stream",
     "text": [
      "\r",
      " 82%|████████▏ | 823/1000 [00:22<00:04, 37.20it/s]"
     ]
    },
    {
     "name": "stdout",
     "output_type": "stream",
     "text": [
      "128/128 [==============================] - 0s 35us/step\n",
      "64/64 [==============================] - 0s 112us/step\n",
      "64/64 [==============================] - 0s 56us/step\n",
      "128/128 [==============================] - 0s 27us/step\n",
      "64/64 [==============================] - 0s 39us/step\n",
      "64/64 [==============================] - 0s 71us/step\n",
      "128/128 [==============================] - 0s 39us/step\n",
      "64/64 [==============================] - 0s 51us/step\n",
      "64/64 [==============================] - 0s 43us/step\n",
      "128/128 [==============================] - 0s 35us/step\n",
      "64/64 [==============================] - 0s 46us/step\n",
      "64/64 [==============================] - 0s 49us/step\n"
     ]
    },
    {
     "name": "stderr",
     "output_type": "stream",
     "text": [
      "\r",
      " 83%|████████▎ | 827/1000 [00:22<00:04, 37.20it/s]"
     ]
    },
    {
     "name": "stdout",
     "output_type": "stream",
     "text": [
      "128/128 [==============================] - 0s 38us/step\n",
      "64/64 [==============================] - 0s 35us/step\n",
      "64/64 [==============================] - 0s 58us/step\n",
      "128/128 [==============================] - 0s 30us/step\n",
      "64/64 [==============================] - 0s 37us/step\n",
      "64/64 [==============================] - 0s 53us/step\n",
      "128/128 [==============================] - 0s 33us/step\n",
      "64/64 [==============================] - 0s 58us/step\n",
      "64/64 [==============================] - 0s 56us/step\n",
      "128/128 [==============================] - 0s 31us/step\n",
      "64/64 [==============================] - 0s 40us/step\n",
      "64/64 [==============================] - 0s 51us/step\n",
      "128/128 [==============================] - 0s 29us/step\n",
      "64/64 [==============================] - 0s 39us/step\n",
      "64/64 [==============================] - 0s 54us/step\n"
     ]
    },
    {
     "name": "stderr",
     "output_type": "stream",
     "text": [
      "\r",
      " 83%|████████▎ | 832/1000 [00:22<00:04, 37.23it/s]"
     ]
    },
    {
     "name": "stdout",
     "output_type": "stream",
     "text": [
      "128/128 [==============================] - 0s 39us/step\n",
      "64/64 [==============================] - 0s 52us/step\n",
      "64/64 [==============================] - 0s 48us/step\n",
      "128/128 [==============================] - 0s 32us/step\n",
      "64/64 [==============================] - 0s 34us/step\n",
      "64/64 [==============================] - 0s 58us/step\n",
      "128/128 [==============================] - 0s 34us/step\n",
      "64/64 [==============================] - 0s 59us/step\n",
      "64/64 [==============================] - 0s 53us/step\n",
      "128/128 [==============================] - 0s 29us/step\n",
      "64/64 [==============================] - 0s 37us/step\n",
      "64/64 [==============================] - 0s 57us/step\n",
      "128/128 [==============================] - 0s 31us/step\n",
      "64/64 [==============================] - 0s 69us/step\n",
      "64/64 [==============================] - 0s 58us/step\n"
     ]
    },
    {
     "name": "stderr",
     "output_type": "stream",
     "text": [
      "\r",
      " 84%|████████▎ | 837/1000 [00:22<00:04, 37.25it/s]"
     ]
    },
    {
     "name": "stdout",
     "output_type": "stream",
     "text": [
      "128/128 [==============================] - 0s 32us/step\n",
      "64/64 [==============================] - 0s 53us/step\n",
      "64/64 [==============================] - 0s 38us/step\n",
      "128/128 [==============================] - 0s 36us/step\n",
      "64/64 [==============================] - 0s 53us/step\n",
      "64/64 [==============================] - 0s 41us/step\n",
      "128/128 [==============================] - 0s 27us/step\n",
      "64/64 [==============================] - 0s 47us/step\n",
      "64/64 [==============================] - 0s 46us/step\n",
      "128/128 [==============================] - 0s 29us/step\n",
      "64/64 [==============================] - 0s 38us/step\n",
      "64/64 [==============================] - 0s 51us/step\n",
      "128/128 [==============================] - 0s 31us/step\n",
      "64/64 [==============================] - 0s 57us/step\n",
      "64/64 [==============================] - 0s 48us/step\n"
     ]
    },
    {
     "name": "stderr",
     "output_type": "stream",
     "text": [
      "\r",
      " 84%|████████▍ | 842/1000 [00:22<00:04, 37.28it/s]"
     ]
    },
    {
     "name": "stdout",
     "output_type": "stream",
     "text": [
      "128/128 [==============================] - 0s 28us/step\n",
      "64/64 [==============================] - 0s 55us/step\n",
      "64/64 [==============================] - 0s 66us/step\n",
      "128/128 [==============================] - 0s 35us/step\n",
      "64/64 [==============================] - 0s 37us/step\n",
      "64/64 [==============================] - 0s 41us/step\n",
      "128/128 [==============================] - 0s 38us/step\n",
      "64/64 [==============================] - 0s 45us/step\n",
      "64/64 [==============================] - 0s 119us/step\n",
      "128/128 [==============================] - 0s 39us/step\n",
      "64/64 [==============================] - 0s 44us/step\n",
      "64/64 [==============================] - 0s 36us/step\n",
      "128/128 [==============================] - 0s 30us/step\n",
      "64/64 [==============================] - 0s 57us/step\n",
      "64/64 [==============================] - 0s 61us/step\n"
     ]
    },
    {
     "name": "stderr",
     "output_type": "stream",
     "text": [
      "\r",
      " 85%|████████▍ | 847/1000 [00:22<00:04, 37.29it/s]"
     ]
    },
    {
     "name": "stdout",
     "output_type": "stream",
     "text": [
      "128/128 [==============================] - 0s 31us/step\n",
      "64/64 [==============================] - 0s 59us/step\n",
      "64/64 [==============================] - 0s 50us/step\n",
      "128/128 [==============================] - 0s 40us/step\n",
      "64/64 [==============================] - 0s 66us/step\n",
      "64/64 [==============================] - 0s 56us/step\n",
      "128/128 [==============================] - 0s 41us/step\n",
      "64/64 [==============================] - 0s 32us/step\n",
      "64/64 [==============================] - 0s 35us/step\n",
      "128/128 [==============================] - 0s 41us/step\n",
      "64/64 [==============================] - 0s 61us/step\n",
      "64/64 [==============================] - 0s 36us/step\n",
      "128/128 [==============================] - 0s 31us/step\n",
      "64/64 [==============================] - 0s 43us/step\n",
      "64/64 [==============================] - 0s 34us/step\n"
     ]
    },
    {
     "name": "stderr",
     "output_type": "stream",
     "text": [
      "\r",
      " 85%|████████▌ | 852/1000 [00:22<00:03, 37.31it/s]"
     ]
    },
    {
     "name": "stdout",
     "output_type": "stream",
     "text": [
      "128/128 [==============================] - 0s 33us/step\n",
      "64/64 [==============================] - 0s 31us/step\n",
      "64/64 [==============================] - 0s 41us/step\n",
      "128/128 [==============================] - 0s 38us/step\n",
      "64/64 [==============================] - 0s 40us/step\n",
      "64/64 [==============================] - 0s 49us/step\n",
      "128/128 [==============================] - 0s 31us/step\n",
      "64/64 [==============================] - 0s 52us/step\n",
      "64/64 [==============================] - 0s 48us/step\n",
      "128/128 [==============================] - 0s 34us/step\n",
      "64/64 [==============================] - 0s 52us/step\n",
      "64/64 [==============================] - 0s 51us/step\n",
      "128/128 [==============================] - 0s 38us/step\n",
      "64/64 [==============================] - 0s 52us/step\n",
      "64/64 [==============================] - 0s 36us/step\n"
     ]
    },
    {
     "name": "stderr",
     "output_type": "stream",
     "text": [
      "\r",
      " 86%|████████▌ | 857/1000 [00:22<00:03, 37.33it/s]"
     ]
    },
    {
     "name": "stdout",
     "output_type": "stream",
     "text": [
      "128/128 [==============================] - 0s 39us/step\n",
      "64/64 [==============================] - 0s 37us/step\n",
      "64/64 [==============================] - 0s 55us/step\n",
      "128/128 [==============================] - 0s 31us/step\n",
      "64/64 [==============================] - 0s 58us/step\n",
      "64/64 [==============================] - 0s 59us/step\n",
      "128/128 [==============================] - 0s 30us/step\n",
      "64/64 [==============================] - 0s 32us/step\n",
      "64/64 [==============================] - 0s 116us/step\n",
      "128/128 [==============================] - 0s 41us/step\n",
      "64/64 [==============================] - 0s 57us/step\n",
      "64/64 [==============================] - 0s 50us/step\n",
      "128/128 [==============================] - 0s 28us/step\n",
      "64/64 [==============================] - 0s 51us/step\n",
      "64/64 [==============================] - 0s 49us/step\n"
     ]
    },
    {
     "name": "stderr",
     "output_type": "stream",
     "text": [
      "\r",
      " 86%|████████▌ | 862/1000 [00:23<00:03, 37.35it/s]"
     ]
    },
    {
     "name": "stdout",
     "output_type": "stream",
     "text": [
      "128/128 [==============================] - 0s 32us/step\n",
      "64/64 [==============================] - 0s 52us/step\n",
      "64/64 [==============================] - 0s 49us/step\n",
      "128/128 [==============================] - 0s 37us/step\n",
      "64/64 [==============================] - 0s 37us/step\n",
      "64/64 [==============================] - 0s 59us/step\n",
      "128/128 [==============================] - 0s 31us/step\n",
      "64/64 [==============================] - 0s 55us/step\n",
      "64/64 [==============================] - 0s 56us/step\n",
      "128/128 [==============================] - 0s 35us/step\n",
      "64/64 [==============================] - 0s 54us/step\n",
      "64/64 [==============================] - 0s 59us/step\n",
      "128/128 [==============================] - 0s 52us/step\n",
      "64/64 [==============================] - 0s 38us/step\n",
      "64/64 [==============================] - 0s 40us/step\n"
     ]
    },
    {
     "name": "stderr",
     "output_type": "stream",
     "text": [
      "\r",
      " 87%|████████▋ | 867/1000 [00:23<00:03, 37.37it/s]"
     ]
    },
    {
     "name": "stdout",
     "output_type": "stream",
     "text": [
      "128/128 [==============================] - 0s 29us/step\n",
      "64/64 [==============================] - 0s 46us/step\n",
      "64/64 [==============================] - 0s 36us/step\n",
      "128/128 [==============================] - 0s 30us/step\n",
      "64/64 [==============================] - 0s 55us/step\n",
      "64/64 [==============================] - 0s 57us/step\n",
      "128/128 [==============================] - 0s 31us/step\n",
      "64/64 [==============================] - 0s 43us/step\n",
      "64/64 [==============================] - 0s 44us/step\n",
      "128/128 [==============================] - 0s 37us/step\n",
      "64/64 [==============================] - 0s 42us/step\n",
      "64/64 [==============================] - 0s 54us/step\n",
      "128/128 [==============================] - 0s 37us/step\n",
      "64/64 [==============================] - 0s 42us/step\n",
      "64/64 [==============================] - 0s 52us/step\n"
     ]
    },
    {
     "name": "stderr",
     "output_type": "stream",
     "text": [
      "\r",
      " 87%|████████▋ | 872/1000 [00:23<00:03, 37.39it/s]"
     ]
    },
    {
     "name": "stdout",
     "output_type": "stream",
     "text": [
      "128/128 [==============================] - 0s 34us/step\n",
      "64/64 [==============================] - 0s 32us/step\n",
      "64/64 [==============================] - 0s 69us/step\n",
      "128/128 [==============================] - 0s 38us/step\n",
      "64/64 [==============================] - 0s 66us/step\n",
      "64/64 [==============================] - 0s 36us/step\n",
      "128/128 [==============================] - 0s 28us/step\n",
      "64/64 [==============================] - 0s 46us/step\n",
      "64/64 [==============================] - 0s 54us/step\n",
      "128/128 [==============================] - 0s 28us/step\n",
      "64/64 [==============================] - 0s 48us/step\n",
      "64/64 [==============================] - 0s 35us/step\n",
      "128/128 [==============================] - 0s 40us/step\n",
      "64/64 [==============================] - 0s 60us/step\n",
      "64/64 [==============================] - 0s 45us/step\n"
     ]
    },
    {
     "name": "stderr",
     "output_type": "stream",
     "text": [
      "\r",
      " 88%|████████▊ | 877/1000 [00:23<00:03, 37.41it/s]"
     ]
    },
    {
     "name": "stdout",
     "output_type": "stream",
     "text": [
      "128/128 [==============================] - 0s 29us/step\n",
      "64/64 [==============================] - 0s 47us/step\n",
      "64/64 [==============================] - 0s 52us/step\n",
      "128/128 [==============================] - 0s 38us/step\n",
      "64/64 [==============================] - 0s 43us/step\n",
      "64/64 [==============================] - 0s 40us/step\n",
      "128/128 [==============================] - 0s 31us/step\n",
      "64/64 [==============================] - 0s 50us/step\n",
      "64/64 [==============================] - 0s 43us/step\n",
      "128/128 [==============================] - 0s 45us/step\n",
      "64/64 [==============================] - 0s 60us/step\n",
      "64/64 [==============================] - 0s 37us/step\n",
      "128/128 [==============================] - 0s 34us/step\n",
      "64/64 [==============================] - 0s 36us/step\n",
      "64/64 [==============================] - 0s 71us/step\n"
     ]
    },
    {
     "name": "stderr",
     "output_type": "stream",
     "text": [
      "\r",
      " 88%|████████▊ | 882/1000 [00:23<00:03, 37.44it/s]"
     ]
    },
    {
     "name": "stdout",
     "output_type": "stream",
     "text": [
      "128/128 [==============================] - 0s 45us/step\n",
      "64/64 [==============================] - 0s 62us/step\n",
      "64/64 [==============================] - 0s 48us/step\n",
      "128/128 [==============================] - 0s 37us/step\n",
      "64/64 [==============================] - 0s 49us/step\n",
      "64/64 [==============================] - 0s 40us/step\n",
      "128/128 [==============================] - 0s 36us/step\n",
      "64/64 [==============================] - 0s 65us/step\n",
      "64/64 [==============================] - 0s 35us/step\n",
      "128/128 [==============================] - 0s 39us/step\n",
      "64/64 [==============================] - 0s 45us/step\n",
      "64/64 [==============================] - 0s 110us/step\n",
      "128/128 [==============================] - 0s 35us/step\n",
      "64/64 [==============================] - 0s 42us/step\n",
      "64/64 [==============================] - 0s 39us/step\n"
     ]
    },
    {
     "name": "stderr",
     "output_type": "stream",
     "text": [
      "\r",
      " 89%|████████▊ | 887/1000 [00:23<00:03, 37.45it/s]"
     ]
    },
    {
     "name": "stdout",
     "output_type": "stream",
     "text": [
      "128/128 [==============================] - 0s 38us/step\n",
      "64/64 [==============================] - 0s 41us/step\n",
      "64/64 [==============================] - 0s 66us/step\n",
      "128/128 [==============================] - 0s 37us/step\n",
      "64/64 [==============================] - 0s 40us/step\n",
      "64/64 [==============================] - 0s 50us/step\n",
      "128/128 [==============================] - 0s 33us/step\n",
      "64/64 [==============================] - 0s 30us/step\n",
      "64/64 [==============================] - 0s 37us/step\n",
      "128/128 [==============================] - 0s 35us/step\n",
      "64/64 [==============================] - 0s 46us/step\n",
      "64/64 [==============================] - 0s 57us/step\n",
      "128/128 [==============================] - 0s 36us/step\n",
      "64/64 [==============================] - 0s 46us/step\n",
      "64/64 [==============================] - 0s 46us/step\n"
     ]
    },
    {
     "name": "stderr",
     "output_type": "stream",
     "text": [
      "\r",
      " 89%|████████▉ | 892/1000 [00:23<00:02, 37.47it/s]"
     ]
    },
    {
     "name": "stdout",
     "output_type": "stream",
     "text": [
      "128/128 [==============================] - 0s 28us/step\n",
      "64/64 [==============================] - 0s 57us/step\n",
      "64/64 [==============================] - 0s 44us/step\n",
      "128/128 [==============================] - 0s 29us/step\n",
      "64/64 [==============================] - 0s 45us/step\n",
      "64/64 [==============================] - 0s 42us/step\n",
      "128/128 [==============================] - 0s 33us/step\n",
      "64/64 [==============================] - 0s 34us/step\n",
      "64/64 [==============================] - 0s 62us/step\n",
      "128/128 [==============================] - 0s 30us/step\n",
      "64/64 [==============================] - 0s 50us/step\n",
      "64/64 [==============================] - 0s 40us/step\n",
      "128/128 [==============================] - 0s 34us/step\n",
      "64/64 [==============================] - 0s 36us/step\n",
      "64/64 [==============================] - 0s 47us/step\n"
     ]
    },
    {
     "name": "stderr",
     "output_type": "stream",
     "text": [
      "\r",
      " 90%|████████▉ | 897/1000 [00:23<00:02, 37.49it/s]"
     ]
    },
    {
     "name": "stdout",
     "output_type": "stream",
     "text": [
      "128/128 [==============================] - 0s 29us/step\n",
      "64/64 [==============================] - 0s 64us/step\n",
      "64/64 [==============================] - 0s 37us/step\n",
      "128/128 [==============================] - 0s 36us/step\n",
      "64/64 [==============================] - 0s 35us/step\n",
      "64/64 [==============================] - 0s 51us/step\n",
      "128/128 [==============================] - 0s 30us/step\n",
      "64/64 [==============================] - 0s 41us/step\n",
      "64/64 [==============================] - 0s 63us/step\n",
      "128/128 [==============================] - 0s 32us/step\n",
      "64/64 [==============================] - 0s 50us/step\n",
      "64/64 [==============================] - 0s 63us/step\n",
      "128/128 [==============================] - 0s 41us/step\n",
      "64/64 [==============================] - 0s 53us/step\n",
      "64/64 [==============================] - 0s 51us/step\n"
     ]
    },
    {
     "name": "stderr",
     "output_type": "stream",
     "text": [
      "\r",
      " 90%|█████████ | 902/1000 [00:24<00:02, 37.50it/s]"
     ]
    },
    {
     "name": "stdout",
     "output_type": "stream",
     "text": [
      "128/128 [==============================] - 0s 29us/step\n",
      "64/64 [==============================] - 0s 38us/step\n",
      "64/64 [==============================] - 0s 75us/step\n",
      "128/128 [==============================] - 0s 42us/step\n",
      "64/64 [==============================] - 0s 58us/step\n",
      "64/64 [==============================] - 0s 40us/step\n",
      "128/128 [==============================] - 0s 32us/step\n",
      "64/64 [==============================] - 0s 51us/step\n",
      "64/64 [==============================] - 0s 51us/step\n",
      "128/128 [==============================] - 0s 37us/step\n",
      "64/64 [==============================] - 0s 38us/step\n",
      "64/64 [==============================] - 0s 35us/step\n",
      "128/128 [==============================] - 0s 32us/step\n",
      "64/64 [==============================] - 0s 40us/step\n",
      "64/64 [==============================] - 0s 64us/step\n"
     ]
    },
    {
     "name": "stderr",
     "output_type": "stream",
     "text": [
      "\r",
      " 91%|█████████ | 907/1000 [00:24<00:02, 37.51it/s]"
     ]
    },
    {
     "name": "stdout",
     "output_type": "stream",
     "text": [
      "128/128 [==============================] - 0s 36us/step\n",
      "64/64 [==============================] - 0s 41us/step\n",
      "64/64 [==============================] - 0s 58us/step\n",
      "128/128 [==============================] - 0s 35us/step\n",
      "64/64 [==============================] - 0s 40us/step\n",
      "64/64 [==============================] - 0s 65us/step\n",
      "128/128 [==============================] - 0s 49us/step\n",
      "64/64 [==============================] - 0s 37us/step\n",
      "64/64 [==============================] - 0s 42us/step\n",
      "128/128 [==============================] - 0s 39us/step\n",
      "64/64 [==============================] - 0s 67us/step\n",
      "64/64 [==============================] - 0s 54us/step\n",
      "128/128 [==============================] - 0s 63us/step\n",
      "64/64 [==============================] - 0s 43us/step\n",
      "64/64 [==============================] - 0s 44us/step\n"
     ]
    },
    {
     "name": "stderr",
     "output_type": "stream",
     "text": [
      "\r",
      " 91%|█████████ | 912/1000 [00:24<00:02, 37.52it/s]"
     ]
    },
    {
     "name": "stdout",
     "output_type": "stream",
     "text": [
      "128/128 [==============================] - 0s 34us/step\n",
      "64/64 [==============================] - 0s 48us/step\n",
      "64/64 [==============================] - 0s 53us/step\n",
      "128/128 [==============================] - 0s 31us/step\n",
      "64/64 [==============================] - 0s 114us/step\n",
      "64/64 [==============================] - 0s 43us/step\n",
      "128/128 [==============================] - 0s 30us/step\n",
      "64/64 [==============================] - 0s 59us/step\n",
      "64/64 [==============================] - 0s 49us/step\n",
      "128/128 [==============================] - 0s 37us/step\n",
      "64/64 [==============================] - 0s 48us/step\n",
      "64/64 [==============================] - 0s 40us/step\n",
      "128/128 [==============================] - 0s 39us/step\n",
      "64/64 [==============================] - 0s 33us/step\n",
      "64/64 [==============================] - 0s 35us/step\n"
     ]
    },
    {
     "name": "stderr",
     "output_type": "stream",
     "text": [
      "\r",
      " 92%|█████████▏| 917/1000 [00:24<00:02, 37.52it/s]"
     ]
    },
    {
     "name": "stdout",
     "output_type": "stream",
     "text": [
      "128/128 [==============================] - 0s 37us/step\n",
      "64/64 [==============================] - 0s 33us/step\n",
      "64/64 [==============================] - 0s 76us/step\n",
      "128/128 [==============================] - 0s 37us/step\n",
      "64/64 [==============================] - 0s 40us/step\n",
      "64/64 [==============================] - 0s 46us/step\n",
      "128/128 [==============================] - 0s 36us/step\n",
      "64/64 [==============================] - 0s 50us/step\n",
      "64/64 [==============================] - 0s 44us/step\n",
      "128/128 [==============================] - 0s 39us/step\n",
      "64/64 [==============================] - 0s 50us/step\n",
      "64/64 [==============================] - 0s 38us/step\n",
      "128/128 [==============================] - 0s 36us/step\n",
      "64/64 [==============================] - 0s 48us/step\n",
      "64/64 [==============================] - 0s 64us/step\n"
     ]
    },
    {
     "name": "stderr",
     "output_type": "stream",
     "text": [
      "\r",
      " 92%|█████████▏| 922/1000 [00:24<00:02, 37.54it/s]"
     ]
    },
    {
     "name": "stdout",
     "output_type": "stream",
     "text": [
      "128/128 [==============================] - 0s 43us/step\n",
      "64/64 [==============================] - 0s 68us/step\n",
      "64/64 [==============================] - 0s 36us/step\n",
      "128/128 [==============================] - 0s 34us/step\n",
      "64/64 [==============================] - 0s 52us/step\n",
      "64/64 [==============================] - 0s 48us/step\n",
      "128/128 [==============================] - 0s 36us/step\n",
      "64/64 [==============================] - 0s 65us/step\n",
      "64/64 [==============================] - 0s 37us/step\n",
      "128/128 [==============================] - 0s 32us/step\n",
      "64/64 [==============================] - 0s 35us/step\n",
      "64/64 [==============================] - 0s 47us/step\n",
      "128/128 [==============================] - 0s 45us/step\n",
      "64/64 [==============================] - 0s 45us/step\n",
      "64/64 [==============================] - 0s 46us/step\n"
     ]
    },
    {
     "name": "stderr",
     "output_type": "stream",
     "text": [
      "\r",
      " 93%|█████████▎| 927/1000 [00:24<00:01, 37.55it/s]"
     ]
    },
    {
     "name": "stdout",
     "output_type": "stream",
     "text": [
      "128/128 [==============================] - 0s 32us/step\n",
      "64/64 [==============================] - 0s 65us/step\n",
      "64/64 [==============================] - 0s 47us/step\n",
      "128/128 [==============================] - 0s 68us/step\n",
      "64/64 [==============================] - 0s 58us/step\n",
      "64/64 [==============================] - 0s 37us/step\n",
      "128/128 [==============================] - 0s 28us/step\n",
      "64/64 [==============================] - 0s 63us/step\n",
      "64/64 [==============================] - 0s 39us/step\n",
      "128/128 [==============================] - 0s 31us/step\n",
      "64/64 [==============================] - 0s 39us/step\n",
      "64/64 [==============================] - 0s 36us/step\n"
     ]
    },
    {
     "name": "stderr",
     "output_type": "stream",
     "text": [
      "\r",
      " 93%|█████████▎| 931/1000 [00:24<00:01, 37.56it/s]"
     ]
    },
    {
     "name": "stdout",
     "output_type": "stream",
     "text": [
      "128/128 [==============================] - 0s 37us/step\n",
      "64/64 [==============================] - 0s 31us/step\n",
      "64/64 [==============================] - 0s 56us/step\n",
      "128/128 [==============================] - 0s 45us/step\n",
      "64/64 [==============================] - 0s 50us/step\n",
      "64/64 [==============================] - 0s 69us/step\n",
      "128/128 [==============================] - 0s 29us/step\n",
      "64/64 [==============================] - 0s 50us/step\n",
      "64/64 [==============================] - 0s 54us/step\n",
      "128/128 [==============================] - 0s 33us/step\n",
      "64/64 [==============================] - 0s 54us/step\n",
      "64/64 [==============================] - 0s 41us/step\n",
      "128/128 [==============================] - 0s 30us/step\n",
      "64/64 [==============================] - 0s 54us/step\n",
      "64/64 [==============================] - 0s 42us/step\n"
     ]
    },
    {
     "name": "stderr",
     "output_type": "stream",
     "text": [
      "\r",
      " 94%|█████████▎| 936/1000 [00:24<00:01, 37.57it/s]"
     ]
    },
    {
     "name": "stdout",
     "output_type": "stream",
     "text": [
      "128/128 [==============================] - 0s 32us/step\n",
      "64/64 [==============================] - 0s 44us/step\n",
      "64/64 [==============================] - 0s 38us/step\n",
      "128/128 [==============================] - 0s 32us/step\n",
      "64/64 [==============================] - 0s 36us/step\n",
      "64/64 [==============================] - 0s 36us/step\n",
      "128/128 [==============================] - 0s 39us/step\n",
      "64/64 [==============================] - 0s 46us/step\n",
      "64/64 [==============================] - 0s 44us/step\n",
      "128/128 [==============================] - 0s 30us/step\n",
      "64/64 [==============================] - 0s 57us/step\n",
      "64/64 [==============================] - 0s 55us/step\n",
      "128/128 [==============================] - 0s 30us/step\n",
      "64/64 [==============================] - 0s 33us/step\n",
      "64/64 [==============================] - 0s 62us/step\n"
     ]
    },
    {
     "name": "stderr",
     "output_type": "stream",
     "text": [
      "\r",
      " 94%|█████████▍| 941/1000 [00:25<00:01, 37.60it/s]"
     ]
    },
    {
     "name": "stdout",
     "output_type": "stream",
     "text": [
      "128/128 [==============================] - 0s 30us/step\n",
      "64/64 [==============================] - 0s 49us/step\n",
      "64/64 [==============================] - 0s 48us/step\n",
      "128/128 [==============================] - 0s 36us/step\n",
      "64/64 [==============================] - 0s 50us/step\n",
      "64/64 [==============================] - 0s 107us/step\n",
      "128/128 [==============================] - 0s 31us/step\n",
      "64/64 [==============================] - 0s 50us/step\n",
      "64/64 [==============================] - 0s 45us/step\n",
      "128/128 [==============================] - 0s 39us/step\n",
      "64/64 [==============================] - 0s 37us/step\n",
      "64/64 [==============================] - 0s 41us/step\n",
      "128/128 [==============================] - 0s 27us/step\n",
      "64/64 [==============================] - 0s 41us/step\n",
      "64/64 [==============================] - 0s 49us/step\n"
     ]
    },
    {
     "name": "stderr",
     "output_type": "stream",
     "text": [
      "\r",
      " 95%|█████████▍| 946/1000 [00:25<00:01, 37.62it/s]"
     ]
    },
    {
     "name": "stdout",
     "output_type": "stream",
     "text": [
      "128/128 [==============================] - 0s 34us/step\n",
      "64/64 [==============================] - 0s 55us/step\n",
      "64/64 [==============================] - 0s 46us/step\n",
      "128/128 [==============================] - 0s 31us/step\n",
      "64/64 [==============================] - 0s 36us/step\n",
      "64/64 [==============================] - 0s 49us/step\n",
      "128/128 [==============================] - 0s 27us/step\n",
      "64/64 [==============================] - 0s 41us/step\n",
      "64/64 [==============================] - 0s 45us/step\n",
      "128/128 [==============================] - 0s 36us/step\n",
      "64/64 [==============================] - 0s 57us/step\n",
      "64/64 [==============================] - 0s 55us/step\n",
      "128/128 [==============================] - 0s 40us/step\n",
      "64/64 [==============================] - 0s 61us/step\n",
      "64/64 [==============================] - 0s 53us/step\n"
     ]
    },
    {
     "name": "stderr",
     "output_type": "stream",
     "text": [
      "\r",
      " 95%|█████████▌| 951/1000 [00:25<00:01, 37.63it/s]"
     ]
    },
    {
     "name": "stdout",
     "output_type": "stream",
     "text": [
      "128/128 [==============================] - 0s 30us/step\n",
      "64/64 [==============================] - 0s 44us/step\n",
      "64/64 [==============================] - 0s 52us/step\n",
      "128/128 [==============================] - 0s 37us/step\n",
      "64/64 [==============================] - 0s 57us/step\n",
      "64/64 [==============================] - 0s 37us/step\n",
      "128/128 [==============================] - 0s 30us/step\n",
      "64/64 [==============================] - 0s 35us/step\n",
      "64/64 [==============================] - 0s 62us/step\n",
      "128/128 [==============================] - 0s 37us/step\n",
      "64/64 [==============================] - 0s 66us/step\n",
      "64/64 [==============================] - 0s 46us/step\n",
      "128/128 [==============================] - 0s 39us/step\n",
      "64/64 [==============================] - 0s 50us/step\n",
      "64/64 [==============================] - 0s 56us/step\n"
     ]
    },
    {
     "name": "stderr",
     "output_type": "stream",
     "text": [
      "\r",
      " 96%|█████████▌| 956/1000 [00:25<00:01, 37.65it/s]"
     ]
    },
    {
     "name": "stdout",
     "output_type": "stream",
     "text": [
      "128/128 [==============================] - 0s 33us/step\n",
      "64/64 [==============================] - 0s 41us/step\n",
      "64/64 [==============================] - 0s 59us/step\n",
      "128/128 [==============================] - 0s 38us/step\n",
      "64/64 [==============================] - 0s 49us/step\n",
      "64/64 [==============================] - 0s 59us/step\n",
      "128/128 [==============================] - 0s 27us/step\n",
      "64/64 [==============================] - 0s 33us/step\n",
      "64/64 [==============================] - 0s 35us/step\n",
      "128/128 [==============================] - 0s 38us/step\n",
      "64/64 [==============================] - 0s 74us/step\n",
      "64/64 [==============================] - 0s 53us/step\n",
      "128/128 [==============================] - 0s 29us/step\n",
      "64/64 [==============================] - 0s 39us/step\n",
      "64/64 [==============================] - 0s 52us/step\n"
     ]
    },
    {
     "name": "stderr",
     "output_type": "stream",
     "text": [
      "\r",
      " 96%|█████████▌| 961/1000 [00:25<00:01, 37.67it/s]"
     ]
    },
    {
     "name": "stdout",
     "output_type": "stream",
     "text": [
      "128/128 [==============================] - 0s 28us/step\n",
      "64/64 [==============================] - 0s 57us/step\n",
      "64/64 [==============================] - 0s 42us/step\n",
      "128/128 [==============================] - 0s 33us/step\n",
      "64/64 [==============================] - 0s 49us/step\n",
      "64/64 [==============================] - 0s 46us/step\n",
      "128/128 [==============================] - 0s 36us/step\n",
      "64/64 [==============================] - 0s 99us/step\n",
      "64/64 [==============================] - 0s 45us/step\n",
      "128/128 [==============================] - 0s 31us/step\n",
      "64/64 [==============================] - 0s 41us/step\n",
      "64/64 [==============================] - 0s 35us/step\n",
      "128/128 [==============================] - 0s 29us/step\n",
      "64/64 [==============================] - 0s 48us/step\n",
      "64/64 [==============================] - 0s 36us/step\n"
     ]
    },
    {
     "name": "stderr",
     "output_type": "stream",
     "text": [
      "\r",
      " 97%|█████████▋| 966/1000 [00:25<00:00, 37.69it/s]"
     ]
    },
    {
     "name": "stdout",
     "output_type": "stream",
     "text": [
      "128/128 [==============================] - 0s 38us/step\n",
      "64/64 [==============================] - 0s 33us/step\n",
      "64/64 [==============================] - 0s 36us/step\n",
      "128/128 [==============================] - 0s 36us/step\n",
      "64/64 [==============================] - 0s 55us/step\n",
      "64/64 [==============================] - 0s 54us/step\n",
      "128/128 [==============================] - 0s 40us/step\n",
      "64/64 [==============================] - 0s 50us/step\n",
      "64/64 [==============================] - 0s 50us/step\n",
      "128/128 [==============================] - 0s 29us/step\n",
      "64/64 [==============================] - 0s 39us/step\n",
      "64/64 [==============================] - 0s 51us/step\n",
      "128/128 [==============================] - 0s 35us/step\n",
      "64/64 [==============================] - 0s 44us/step\n",
      "64/64 [==============================] - 0s 39us/step\n"
     ]
    },
    {
     "name": "stderr",
     "output_type": "stream",
     "text": [
      "\r",
      " 97%|█████████▋| 971/1000 [00:25<00:00, 37.71it/s]"
     ]
    },
    {
     "name": "stdout",
     "output_type": "stream",
     "text": [
      "128/128 [==============================] - 0s 34us/step\n",
      "64/64 [==============================] - 0s 45us/step\n",
      "64/64 [==============================] - 0s 54us/step\n",
      "128/128 [==============================] - 0s 81us/step\n",
      "64/64 [==============================] - 0s 41us/step\n",
      "64/64 [==============================] - 0s 49us/step\n",
      "128/128 [==============================] - 0s 37us/step\n",
      "64/64 [==============================] - 0s 40us/step\n",
      "64/64 [==============================] - 0s 63us/step\n",
      "128/128 [==============================] - 0s 41us/step\n",
      "64/64 [==============================] - 0s 43us/step\n",
      "64/64 [==============================] - 0s 36us/step\n",
      "128/128 [==============================] - 0s 38us/step\n",
      "64/64 [==============================] - 0s 53us/step\n",
      "64/64 [==============================] - 0s 47us/step\n"
     ]
    },
    {
     "name": "stderr",
     "output_type": "stream",
     "text": [
      "\r",
      " 98%|█████████▊| 976/1000 [00:25<00:00, 37.71it/s]"
     ]
    },
    {
     "name": "stdout",
     "output_type": "stream",
     "text": [
      "128/128 [==============================] - 0s 33us/step\n",
      "64/64 [==============================] - 0s 55us/step\n",
      "64/64 [==============================] - 0s 39us/step\n",
      "128/128 [==============================] - 0s 68us/step\n",
      "64/64 [==============================] - 0s 45us/step\n",
      "64/64 [==============================] - 0s 52us/step\n",
      "128/128 [==============================] - 0s 75us/step\n",
      "64/64 [==============================] - 0s 48us/step\n",
      "64/64 [==============================] - 0s 38us/step\n",
      "128/128 [==============================] - 0s 37us/step\n",
      "64/64 [==============================] - 0s 44us/step\n",
      "64/64 [==============================] - 0s 45us/step\n",
      "128/128 [==============================] - 0s 37us/step\n",
      "64/64 [==============================] - 0s 54us/step\n",
      "64/64 [==============================] - 0s 71us/step\n"
     ]
    },
    {
     "name": "stderr",
     "output_type": "stream",
     "text": [
      "\r",
      " 98%|█████████▊| 981/1000 [00:26<00:00, 37.69it/s]"
     ]
    },
    {
     "name": "stdout",
     "output_type": "stream",
     "text": [
      "128/128 [==============================] - 0s 37us/step\n",
      "64/64 [==============================] - 0s 54us/step\n",
      "64/64 [==============================] - 0s 33us/step\n",
      "128/128 [==============================] - 0s 38us/step\n",
      "64/64 [==============================] - 0s 132us/step\n",
      "64/64 [==============================] - 0s 47us/step\n",
      "128/128 [==============================] - 0s 37us/step\n",
      "64/64 [==============================] - 0s 53us/step\n",
      "64/64 [==============================] - 0s 41us/step\n",
      "128/128 [==============================] - 0s 67us/step\n",
      "64/64 [==============================] - 0s 33us/step\n",
      "64/64 [==============================] - 0s 35us/step\n"
     ]
    },
    {
     "name": "stderr",
     "output_type": "stream",
     "text": [
      "\r",
      " 98%|█████████▊| 985/1000 [00:26<00:00, 37.68it/s]"
     ]
    },
    {
     "name": "stdout",
     "output_type": "stream",
     "text": [
      "128/128 [==============================] - 0s 30us/step\n",
      "64/64 [==============================] - 0s 70us/step\n",
      "64/64 [==============================] - 0s 39us/step\n",
      "128/128 [==============================] - 0s 40us/step\n",
      "64/64 [==============================] - 0s 57us/step\n",
      "64/64 [==============================] - 0s 38us/step\n",
      "128/128 [==============================] - 0s 39us/step\n",
      "64/64 [==============================] - 0s 56us/step\n",
      "64/64 [==============================] - 0s 51us/step\n",
      "128/128 [==============================] - 0s 76us/step\n",
      "64/64 [==============================] - 0s 34us/step\n",
      "64/64 [==============================] - 0s 63us/step\n"
     ]
    },
    {
     "name": "stderr",
     "output_type": "stream",
     "text": [
      "\r",
      " 99%|█████████▉| 989/1000 [00:26<00:00, 37.67it/s]"
     ]
    },
    {
     "name": "stdout",
     "output_type": "stream",
     "text": [
      "128/128 [==============================] - 0s 41us/step\n",
      "64/64 [==============================] - 0s 33us/step\n",
      "64/64 [==============================] - 0s 124us/step\n",
      "128/128 [==============================] - 0s 38us/step\n",
      "64/64 [==============================] - 0s 40us/step\n",
      "64/64 [==============================] - 0s 130us/step\n",
      "128/128 [==============================] - 0s 36us/step\n",
      "64/64 [==============================] - 0s 51us/step\n",
      "64/64 [==============================] - 0s 64us/step\n",
      "128/128 [==============================] - 0s 37us/step\n",
      "64/64 [==============================] - 0s 41us/step\n",
      "64/64 [==============================] - 0s 44us/step\n"
     ]
    },
    {
     "name": "stderr",
     "output_type": "stream",
     "text": [
      "\r",
      " 99%|█████████▉| 993/1000 [00:26<00:00, 37.66it/s]"
     ]
    },
    {
     "name": "stdout",
     "output_type": "stream",
     "text": [
      "128/128 [==============================] - 0s 39us/step\n",
      "64/64 [==============================] - 0s 119us/step\n",
      "64/64 [==============================] - 0s 41us/step\n",
      "128/128 [==============================] - 0s 36us/step\n",
      "64/64 [==============================] - 0s 52us/step\n",
      "64/64 [==============================] - 0s 48us/step\n",
      "128/128 [==============================] - 0s 31us/step\n",
      "64/64 [==============================] - 0s 46us/step\n",
      "64/64 [==============================] - 0s 45us/step\n",
      "128/128 [==============================] - 0s 28us/step\n",
      "64/64 [==============================] - 0s 43us/step\n",
      "64/64 [==============================] - 0s 66us/step\n"
     ]
    },
    {
     "name": "stderr",
     "output_type": "stream",
     "text": [
      "\r",
      "100%|█████████▉| 997/1000 [00:26<00:00, 37.65it/s]"
     ]
    },
    {
     "name": "stdout",
     "output_type": "stream",
     "text": [
      "128/128 [==============================] - 0s 29us/step\n",
      "64/64 [==============================] - 0s 40us/step\n",
      "64/64 [==============================] - 0s 44us/step\n",
      "128/128 [==============================] - 0s 29us/step\n",
      "64/64 [==============================] - 0s 36us/step\n",
      "64/64 [==============================] - 0s 59us/step\n",
      "128/128 [==============================] - 0s 38us/step\n",
      "64/64 [==============================] - 0s 45us/step\n",
      "64/64 [==============================] - 0s 41us/step\n"
     ]
    },
    {
     "name": "stderr",
     "output_type": "stream",
     "text": [
      "100%|██████████| 1000/1000 [00:26<00:00, 37.67it/s]\n"
     ]
    }
   ],
   "source": [
    "losses=train_for_n_mono(**train_dic)"
   ]
  },
  {
   "cell_type": "code",
   "execution_count": 50,
   "metadata": {},
   "outputs": [
    {
     "data": {
      "text/plain": [
       "<Figure size 432x288 with 0 Axes>"
      ]
     },
     "metadata": {},
     "output_type": "display_data"
    },
    {
     "data": {
      "text/plain": [
       "<Figure size 432x288 with 0 Axes>"
      ]
     },
     "metadata": {},
     "output_type": "display_data"
    },
    {
     "data": {
      "image/png": "[encoded data removed]",
      "text/plain": [
       "<Figure size 720x576 with 3 Axes>"
      ]
     },
     "metadata": {},
     "output_type": "display_data"
    }
   ],
   "source": [
    "loss_weights=[5,1]\n",
    "plot_loss(losses,**{'scale_control':[[0,3],[0,3],[0,2]],'loss_weights':loss_weights})"
   ]
  },
  {
   "cell_type": "code",
   "execution_count": null,
   "metadata": {},
   "outputs": [],
   "source": []
  }
 ],
 "metadata": {
  "kernelspec": {
   "display_name": "Python 3",
   "language": "python",
   "name": "python3"
  },
  "language_info": {
   "codemirror_mode": {
    "name": "ipython",
    "version": 3
   },
   "file_extension": ".py",
   "mimetype": "text/x-python",
   "name": "python",
   "nbconvert_exporter": "python",
   "pygments_lexer": "ipython3",
   "version": "3.5.5"
  }
 },
 "nbformat": 4,
 "nbformat_minor": 2
}
