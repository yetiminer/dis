{
 "cells": [
  {
   "cell_type": "code",
   "execution_count": 207,
   "metadata": {},
   "outputs": [],
   "source": [
    "from numpy.random import seed\n",
    "seed(35)\n",
    "from tensorflow import set_random_seed\n",
    "set_random_seed(35)\n",
    "\n",
    "import keras\n",
    "from ae_designs_depth import model_7h, model_5h, model_3h\n",
    "from secTools import yamlLoad\n",
    "from general_loader import ds_from_db\n",
    "from data_manipulation import remove_outlier,augment_x\n",
    "import numpy as np\n",
    "from secTools import yamlLoad\n",
    "from sklearn.model_selection import train_test_split\n",
    "from custom_loss import ( make_recon_loss_combi,sparse_recon_loss_abs,\n",
    "                         make_sparse_recon_loss_combi,sparse_recon_loss_mse, np_sparse_loss)\n",
    "from keras.callbacks import EarlyStopping\n",
    "from keras.initializers import glorot_normal\n",
    "from keras.optimizers import Adam\n",
    "from Autoencoders import (autoencoder, plot_loss_dic,save_ae_dic,create_eval_dic,\n",
    "                          load_ae_weights,load_ae_dic,create_loss_param_table,\n",
    "                         model_loss_wrap,fit_model_dic)\n",
    "from AE_Designs import  model_eighth\n",
    "import matplotlib.pyplot as plt\n",
    "import os\n",
    "from keras.models import load_model, model_from_json\n",
    "import pandas as pd\n",
    "from keras import backend as K\n",
    "import yaml\n",
    "import numpy as np\n",
    "from matplotlib.pyplot import hist"
   ]
  },
  {
   "cell_type": "code",
   "execution_count": 208,
   "metadata": {},
   "outputs": [],
   "source": [
    "\n",
    "ds_dic={'pickle_file':'ds180704'}\n",
    "ds=ds_from_db(**ds_dic)\n"
   ]
  },
  {
   "cell_type": "code",
   "execution_count": 209,
   "metadata": {},
   "outputs": [
    {
     "name": "stdout",
     "output_type": "stream",
     "text": [
      "Number of records dropped where no normaliser: 326\n",
      "Number of records dropped where no normaliser: 119\n"
     ]
    }
   ],
   "source": [
    "ds.normalise(['pAssets','pLiabilitiesAndStockholdersEquity'],reorder=True,inplace=True)\n",
    "ds.normalise(['pAssets','pLiabilitiesAndStockholdersEquity'],reorder=True,inplace=True)\n",
    "\n",
    "#I can't figure out why I need to do this twice. \n"
   ]
  },
  {
   "cell_type": "code",
   "execution_count": 210,
   "metadata": {},
   "outputs": [
    {
     "data": {
      "text/html": [
       "<div>\n",
       "<style scoped>\n",
       "    .dataframe tbody tr th:only-of-type {\n",
       "        vertical-align: middle;\n",
       "    }\n",
       "\n",
       "    .dataframe tbody tr th {\n",
       "        vertical-align: top;\n",
       "    }\n",
       "\n",
       "    .dataframe thead th {\n",
       "        text-align: right;\n",
       "    }\n",
       "</style>\n",
       "<table border=\"1\" class=\"dataframe\">\n",
       "  <thead>\n",
       "    <tr style=\"text-align: right;\">\n",
       "      <th></th>\n",
       "      <th>tag</th>\n",
       "      <th>Assets</th>\n",
       "      <th>pAssets</th>\n",
       "      <th>pCashAndCashEquivalentsAtCarryingValue</th>\n",
       "      <th>CashAndCashEquivalentsAtCarryingValue</th>\n",
       "      <th>LiabilitiesAndStockholdersEquity</th>\n",
       "      <th>pLiabilitiesAndStockholdersEquity</th>\n",
       "      <th>NetIncomeLoss</th>\n",
       "      <th>pNetIncomeLoss</th>\n",
       "      <th>pStockholdersEquity</th>\n",
       "      <th>StockholdersEquity</th>\n",
       "      <th>...</th>\n",
       "      <th>IncreaseDecreaseInOtherNoncurrentLiabilities</th>\n",
       "      <th>pIncreaseDecreaseInOtherNoncurrentLiabilities</th>\n",
       "      <th>pCapitalLeaseObligationsIncurred</th>\n",
       "      <th>pStockRepurchasedDuringPeriodValue</th>\n",
       "      <th>CapitalLeaseObligationsIncurred</th>\n",
       "      <th>StockRepurchasedDuringPeriodValue</th>\n",
       "      <th>OtherSalesRevenueNet</th>\n",
       "      <th>pOtherSalesRevenueNet</th>\n",
       "      <th>ValuationAllowancesAndReservesBalance</th>\n",
       "      <th>pValuationAllowancesAndReservesBalance</th>\n",
       "    </tr>\n",
       "    <tr>\n",
       "      <th>adsh</th>\n",
       "      <th>period</th>\n",
       "      <th></th>\n",
       "      <th></th>\n",
       "      <th></th>\n",
       "      <th></th>\n",
       "      <th></th>\n",
       "      <th></th>\n",
       "      <th></th>\n",
       "      <th></th>\n",
       "      <th></th>\n",
       "      <th></th>\n",
       "      <th></th>\n",
       "      <th></th>\n",
       "      <th></th>\n",
       "      <th></th>\n",
       "      <th></th>\n",
       "      <th></th>\n",
       "      <th></th>\n",
       "      <th></th>\n",
       "      <th></th>\n",
       "      <th></th>\n",
       "      <th></th>\n",
       "    </tr>\n",
       "  </thead>\n",
       "  <tbody>\n",
       "  </tbody>\n",
       "</table>\n",
       "<p>0 rows × 520 columns</p>\n",
       "</div>"
      ],
      "text/plain": [
       "Empty DataFrame\n",
       "Columns: [Assets, pAssets, pCashAndCashEquivalentsAtCarryingValue, CashAndCashEquivalentsAtCarryingValue, LiabilitiesAndStockholdersEquity, pLiabilitiesAndStockholdersEquity, NetIncomeLoss, pNetIncomeLoss, pStockholdersEquity, StockholdersEquity, AssetsCurrent, pAssetsCurrent, LiabilitiesCurrent, pLiabilitiesCurrent, OperatingIncomeLoss, pOperatingIncomeLoss, pCashAndCashEquivalentsPeriodIncreaseDecrease, CashAndCashEquivalentsPeriodIncreaseDecrease, RetainedEarningsAccumulatedDeficit, pRetainedEarningsAccumulatedDeficit, PropertyPlantAndEquipmentNet, pPropertyPlantAndEquipmentNet, CommonStockValue, pCommonStockValue, pNetCashProvidedByUsedInOperatingActivities, NetCashProvidedByUsedInOperatingActivities, IncomeTaxExpenseBenefit, pIncomeTaxExpenseBenefit, pNetCashProvidedByUsedInFinancingActivities, NetCashProvidedByUsedInFinancingActivities, ShareBasedCompensation, pShareBasedCompensation, pNetCashProvidedByUsedInInvestingActivities, NetCashProvidedByUsedInInvestingActivities, pPaymentsToAcquirePropertyPlantAndEquipment, PaymentsToAcquirePropertyPlantAndEquipment, AccountsPayableCurrent, pAccountsPayableCurrent, Liabilities, pLiabilities, AccumulatedDepreciationDepletionAndAmortizationPropertyPlantAndEquipment, InterestExpense, pAccumulatedDepreciationDepletionAndAmortizationPropertyPlantAndEquipment, pInterestExpense, IncreaseDecreaseInAccountsReceivable, pIncreaseDecreaseInAccountsReceivable, DeferredIncomeTaxExpenseBenefit, pDeferredIncomeTaxExpenseBenefit, AccountsReceivableNetCurrent, pAccountsReceivableNetCurrent, PropertyPlantAndEquipmentGross, pPropertyPlantAndEquipmentGross, IncreaseDecreaseInInventories, pIncreaseDecreaseInInventories, OtherAssetsNoncurrent, pOtherAssetsNoncurrent, ComprehensiveIncomeNetOfTax, pComprehensiveIncomeNetOfTax, AccumulatedOtherComprehensiveIncomeLossNetOfTax, pAccumulatedOtherComprehensiveIncomeLossNetOfTax, InterestPaid, pInterestPaid, DepreciationDepletionAndAmortization, pDepreciationDepletionAndAmortization, Depreciation, pDepreciation, GrossProfit, pGrossProfit, DeferredTaxAssetsValuationAllowance, OperatingExpenses, pDeferredTaxAssetsValuationAllowance, pOperatingExpenses, InventoryNet, pInventoryNet, Goodwill, pGoodwill, IncreaseDecreaseInAccountsPayable, pIncreaseDecreaseInAccountsPayable, IncomeLossFromContinuingOperationsBeforeIncomeTaxesMinorityInterestAndIncomeLossFromEquityMethodInvestments, pIncomeLossFromContinuingOperationsBeforeIncomeTaxesMinorityInterestAndIncomeLossFromEquityMethodInvestments, GeneralAndAdministrativeExpense, pGeneralAndAdministrativeExpense, CurrentStateAndLocalTaxExpenseBenefit, pCurrentStateAndLocalTaxExpenseBenefit, AdditionalPaidInCapital, CurrentFederalTaxExpenseBenefit, pCurrentFederalTaxExpenseBenefit, pAdditionalPaidInCapital, CurrentIncomeTaxExpenseBenefit, pCurrentIncomeTaxExpenseBenefit, AccruedLiabilitiesCurrent, pAccruedLiabilitiesCurrent, DeferredFederalIncomeTaxExpenseBenefit, pDeferredFederalIncomeTaxExpenseBenefit, OtherNonoperatingIncomeExpense, pOtherNonoperatingIncomeExpense, SellingGeneralAndAdministrativeExpense, pSellingGeneralAndAdministrativeExpense, OtherLiabilitiesNoncurrent, IncreaseDecreaseInPrepaidDeferredExpenseAndOtherAssets, ...]\n",
       "Index: []\n",
       "\n",
       "[0 rows x 520 columns]"
      ]
     },
     "execution_count": 210,
     "metadata": {},
     "output_type": "execute_result"
    }
   ],
   "source": [
    "def checker(df2):\n",
    "    return df2[(df2.pAssets!=1)&(df2.pLiabilitiesAndStockholdersEquity!=1)]\n",
    "#checker(ds.FT.dropna())\n",
    "checker(ds.FT)"
   ]
  },
  {
   "cell_type": "code",
   "execution_count": 211,
   "metadata": {},
   "outputs": [
    {
     "name": "stderr",
     "output_type": "stream",
     "text": [
      "/home/anywayed/Documents/dis/secTools/data_manipulation.py:29: RuntimeWarning: invalid value encountered in greater\n",
      "  X[np.abs(X)>level_x]=np.nan\n"
     ]
    }
   ],
   "source": [
    "\n",
    "X=ds.FT.values\n",
    "Y=ds.FT.index.values\n",
    "X=remove_outlier(X,2.5,replace_nan=True)\n",
    "\n",
    "assert(~np.any(np.isnan(X)))\n",
    "\n",
    "X=X[:,0:200]\n",
    "x_train,x_test,y_train,y_test=train_test_split(X,Y,test_size=0.25,random_state=35)\n",
    "\n",
    "\n",
    "recon_loss_combi=make_recon_loss_combi(0.5)\n",
    "sparse_recon_loss_combi=make_sparse_recon_loss_combi(0.5)\n",
    "loss=sparse_recon_loss_combi\n",
    "\n",
    "metrics=[recon_loss_combi,sparse_recon_loss_combi,sparse_recon_loss_mse,sparse_recon_loss_abs]\n",
    "\n",
    "test_data=[x_test,x_test]\n",
    "train_data=[x_train,x_train]\n",
    "\n",
    "#early stop setting below is default but explicitly stated here\n",
    "ES=EarlyStopping(monitor='val_loss', min_delta=0.0001, patience=5, verbose=1, mode='auto')\n",
    "\n",
    "ker_init=glorot_normal(seed=22)\n",
    "opt=Adam(lr=0.001)\n",
    "\n",
    "train_dic={'train_data':train_data,'test_data':test_data,'loss':loss,\n",
    "           'compile':True,'epochs':100,'batch_size':124,'optimizer':opt,\n",
    "          'early_stop':ES,'metrics':metrics}\n",
    "nodes=[32,16,32]\n",
    "layer_dic={'drop_ra':0.0,'l1_reg':0, 'g_noise':0.05, 'ker_init':ker_init,'nodes':nodes}"
   ]
  },
  {
   "cell_type": "code",
   "execution_count": 212,
   "metadata": {},
   "outputs": [
    {
     "name": "stdout",
     "output_type": "stream",
     "text": [
      "Train on 21161 samples, validate on 7054 samples\n",
      "Epoch 1/100\n",
      "21161/21161 [==============================] - 1s 66us/step - loss: 0.1322 - recon_loss_combi: 0.0573 - sparse_recon_loss_combi: 0.1322 - sparse_recon_loss_mse: 0.1014 - sparse_recon_loss_abs: 0.1631 - val_loss: 0.0873 - val_recon_loss_combi: 0.0382 - val_sparse_recon_loss_combi: 0.0873 - val_sparse_recon_loss_mse: 0.0578 - val_sparse_recon_loss_abs: 0.1169\n",
      "Epoch 2/100\n",
      "21161/21161 [==============================] - 1s 32us/step - loss: 0.0788 - recon_loss_combi: 0.0342 - sparse_recon_loss_combi: 0.0788 - sparse_recon_loss_mse: 0.0515 - sparse_recon_loss_abs: 0.1062 - val_loss: 0.0696 - val_recon_loss_combi: 0.0305 - val_sparse_recon_loss_combi: 0.0696 - val_sparse_recon_loss_mse: 0.0433 - val_sparse_recon_loss_abs: 0.0960\n",
      "Epoch 3/100\n",
      "21161/21161 [==============================] - 1s 31us/step - loss: 0.0674 - recon_loss_combi: 0.0292 - sparse_recon_loss_combi: 0.0674 - sparse_recon_loss_mse: 0.0419 - sparse_recon_loss_abs: 0.0929 - val_loss: 0.0616 - val_recon_loss_combi: 0.0269 - val_sparse_recon_loss_combi: 0.0616 - val_sparse_recon_loss_mse: 0.0372 - val_sparse_recon_loss_abs: 0.0860\n",
      "Epoch 4/100\n",
      "21161/21161 [==============================] - 1s 32us/step - loss: 0.0618 - recon_loss_combi: 0.0268 - sparse_recon_loss_combi: 0.0618 - sparse_recon_loss_mse: 0.0373 - sparse_recon_loss_abs: 0.0863 - val_loss: 0.0573 - val_recon_loss_combi: 0.0251 - val_sparse_recon_loss_combi: 0.0573 - val_sparse_recon_loss_mse: 0.0337 - val_sparse_recon_loss_abs: 0.0809\n",
      "Epoch 5/100\n",
      "21161/21161 [==============================] - 1s 31us/step - loss: 0.0587 - recon_loss_combi: 0.0254 - sparse_recon_loss_combi: 0.0587 - sparse_recon_loss_mse: 0.0349 - sparse_recon_loss_abs: 0.0826 - val_loss: 0.0547 - val_recon_loss_combi: 0.0239 - val_sparse_recon_loss_combi: 0.0547 - val_sparse_recon_loss_mse: 0.0320 - val_sparse_recon_loss_abs: 0.0775\n",
      "Epoch 6/100\n",
      "21161/21161 [==============================] - 1s 32us/step - loss: 0.0564 - recon_loss_combi: 0.0244 - sparse_recon_loss_combi: 0.0564 - sparse_recon_loss_mse: 0.0331 - sparse_recon_loss_abs: 0.0797 - val_loss: 0.0522 - val_recon_loss_combi: 0.0228 - val_sparse_recon_loss_combi: 0.0522 - val_sparse_recon_loss_mse: 0.0301 - val_sparse_recon_loss_abs: 0.0744\n",
      "Epoch 7/100\n",
      "21161/21161 [==============================] - 1s 32us/step - loss: 0.0545 - recon_loss_combi: 0.0236 - sparse_recon_loss_combi: 0.0545 - sparse_recon_loss_mse: 0.0316 - sparse_recon_loss_abs: 0.0774 - val_loss: 0.0507 - val_recon_loss_combi: 0.0222 - val_sparse_recon_loss_combi: 0.0507 - val_sparse_recon_loss_mse: 0.0289 - val_sparse_recon_loss_abs: 0.0725\n",
      "Epoch 8/100\n",
      "21161/21161 [==============================] - 1s 33us/step - loss: 0.0529 - recon_loss_combi: 0.0230 - sparse_recon_loss_combi: 0.0529 - sparse_recon_loss_mse: 0.0303 - sparse_recon_loss_abs: 0.0756 - val_loss: 0.0491 - val_recon_loss_combi: 0.0215 - val_sparse_recon_loss_combi: 0.0491 - val_sparse_recon_loss_mse: 0.0279 - val_sparse_recon_loss_abs: 0.0703\n",
      "Epoch 9/100\n",
      "21161/21161 [==============================] - 1s 33us/step - loss: 0.0518 - recon_loss_combi: 0.0224 - sparse_recon_loss_combi: 0.0518 - sparse_recon_loss_mse: 0.0294 - sparse_recon_loss_abs: 0.0741 - val_loss: 0.0477 - val_recon_loss_combi: 0.0208 - val_sparse_recon_loss_combi: 0.0477 - val_sparse_recon_loss_mse: 0.0267 - val_sparse_recon_loss_abs: 0.0686\n",
      "Epoch 10/100\n",
      "21161/21161 [==============================] - 1s 32us/step - loss: 0.0505 - recon_loss_combi: 0.0219 - sparse_recon_loss_combi: 0.0505 - sparse_recon_loss_mse: 0.0284 - sparse_recon_loss_abs: 0.0725 - val_loss: 0.0467 - val_recon_loss_combi: 0.0204 - val_sparse_recon_loss_combi: 0.0467 - val_sparse_recon_loss_mse: 0.0260 - val_sparse_recon_loss_abs: 0.0674\n",
      "Epoch 11/100\n",
      "21161/21161 [==============================] - 1s 33us/step - loss: 0.0496 - recon_loss_combi: 0.0215 - sparse_recon_loss_combi: 0.0496 - sparse_recon_loss_mse: 0.0278 - sparse_recon_loss_abs: 0.0715 - val_loss: 0.0460 - val_recon_loss_combi: 0.0201 - val_sparse_recon_loss_combi: 0.0460 - val_sparse_recon_loss_mse: 0.0254 - val_sparse_recon_loss_abs: 0.0666\n",
      "Epoch 12/100\n",
      "21161/21161 [==============================] - 1s 33us/step - loss: 0.0486 - recon_loss_combi: 0.0211 - sparse_recon_loss_combi: 0.0486 - sparse_recon_loss_mse: 0.0270 - sparse_recon_loss_abs: 0.0703 - val_loss: 0.0450 - val_recon_loss_combi: 0.0197 - val_sparse_recon_loss_combi: 0.0450 - val_sparse_recon_loss_mse: 0.0247 - val_sparse_recon_loss_abs: 0.0653\n",
      "Epoch 13/100\n",
      "21161/21161 [==============================] - 1s 32us/step - loss: 0.0480 - recon_loss_combi: 0.0208 - sparse_recon_loss_combi: 0.0480 - sparse_recon_loss_mse: 0.0265 - sparse_recon_loss_abs: 0.0694 - val_loss: 0.0445 - val_recon_loss_combi: 0.0195 - val_sparse_recon_loss_combi: 0.0445 - val_sparse_recon_loss_mse: 0.0242 - val_sparse_recon_loss_abs: 0.0647\n",
      "Epoch 14/100\n",
      "21161/21161 [==============================] - 1s 32us/step - loss: 0.0471 - recon_loss_combi: 0.0204 - sparse_recon_loss_combi: 0.0471 - sparse_recon_loss_mse: 0.0259 - sparse_recon_loss_abs: 0.0683 - val_loss: 0.0437 - val_recon_loss_combi: 0.0191 - val_sparse_recon_loss_combi: 0.0437 - val_sparse_recon_loss_mse: 0.0236 - val_sparse_recon_loss_abs: 0.0638\n",
      "Epoch 15/100\n",
      "21161/21161 [==============================] - 1s 33us/step - loss: 0.0465 - recon_loss_combi: 0.0202 - sparse_recon_loss_combi: 0.0465 - sparse_recon_loss_mse: 0.0254 - sparse_recon_loss_abs: 0.0676 - val_loss: 0.0430 - val_recon_loss_combi: 0.0188 - val_sparse_recon_loss_combi: 0.0430 - val_sparse_recon_loss_mse: 0.0232 - val_sparse_recon_loss_abs: 0.0628\n",
      "Epoch 16/100\n",
      "21161/21161 [==============================] - 1s 33us/step - loss: 0.0461 - recon_loss_combi: 0.0200 - sparse_recon_loss_combi: 0.0461 - sparse_recon_loss_mse: 0.0251 - sparse_recon_loss_abs: 0.0671 - val_loss: 0.0424 - val_recon_loss_combi: 0.0186 - val_sparse_recon_loss_combi: 0.0424 - val_sparse_recon_loss_mse: 0.0229 - val_sparse_recon_loss_abs: 0.0619\n",
      "Epoch 17/100\n",
      "21161/21161 [==============================] - 1s 32us/step - loss: 0.0458 - recon_loss_combi: 0.0198 - sparse_recon_loss_combi: 0.0458 - sparse_recon_loss_mse: 0.0249 - sparse_recon_loss_abs: 0.0667 - val_loss: 0.0420 - val_recon_loss_combi: 0.0184 - val_sparse_recon_loss_combi: 0.0420 - val_sparse_recon_loss_mse: 0.0226 - val_sparse_recon_loss_abs: 0.0615\n",
      "Epoch 18/100\n",
      "21161/21161 [==============================] - 1s 32us/step - loss: 0.0453 - recon_loss_combi: 0.0196 - sparse_recon_loss_combi: 0.0453 - sparse_recon_loss_mse: 0.0245 - sparse_recon_loss_abs: 0.0660 - val_loss: 0.0418 - val_recon_loss_combi: 0.0183 - val_sparse_recon_loss_combi: 0.0418 - val_sparse_recon_loss_mse: 0.0223 - val_sparse_recon_loss_abs: 0.0612\n",
      "Epoch 19/100\n",
      "21161/21161 [==============================] - 1s 33us/step - loss: 0.0447 - recon_loss_combi: 0.0194 - sparse_recon_loss_combi: 0.0447 - sparse_recon_loss_mse: 0.0241 - sparse_recon_loss_abs: 0.0653 - val_loss: 0.0411 - val_recon_loss_combi: 0.0180 - val_sparse_recon_loss_combi: 0.0411 - val_sparse_recon_loss_mse: 0.0220 - val_sparse_recon_loss_abs: 0.0603\n",
      "Epoch 20/100\n",
      "21161/21161 [==============================] - 1s 34us/step - loss: 0.0444 - recon_loss_combi: 0.0193 - sparse_recon_loss_combi: 0.0444 - sparse_recon_loss_mse: 0.0239 - sparse_recon_loss_abs: 0.0650 - val_loss: 0.0405 - val_recon_loss_combi: 0.0177 - val_sparse_recon_loss_combi: 0.0405 - val_sparse_recon_loss_mse: 0.0217 - val_sparse_recon_loss_abs: 0.0593\n",
      "Epoch 21/100\n",
      "21161/21161 [==============================] - 1s 33us/step - loss: 0.0442 - recon_loss_combi: 0.0192 - sparse_recon_loss_combi: 0.0442 - sparse_recon_loss_mse: 0.0238 - sparse_recon_loss_abs: 0.0647 - val_loss: 0.0402 - val_recon_loss_combi: 0.0176 - val_sparse_recon_loss_combi: 0.0402 - val_sparse_recon_loss_mse: 0.0216 - val_sparse_recon_loss_abs: 0.0588\n",
      "Epoch 22/100\n",
      "21161/21161 [==============================] - 1s 33us/step - loss: 0.0437 - recon_loss_combi: 0.0189 - sparse_recon_loss_combi: 0.0437 - sparse_recon_loss_mse: 0.0234 - sparse_recon_loss_abs: 0.0639 - val_loss: 0.0399 - val_recon_loss_combi: 0.0174 - val_sparse_recon_loss_combi: 0.0399 - val_sparse_recon_loss_mse: 0.0214 - val_sparse_recon_loss_abs: 0.0584\n"
     ]
    },
    {
     "name": "stdout",
     "output_type": "stream",
     "text": [
      "Epoch 23/100\n",
      "21161/21161 [==============================] - 1s 32us/step - loss: 0.0435 - recon_loss_combi: 0.0188 - sparse_recon_loss_combi: 0.0435 - sparse_recon_loss_mse: 0.0233 - sparse_recon_loss_abs: 0.0636 - val_loss: 0.0401 - val_recon_loss_combi: 0.0175 - val_sparse_recon_loss_combi: 0.0401 - val_sparse_recon_loss_mse: 0.0214 - val_sparse_recon_loss_abs: 0.0587\n",
      "Epoch 24/100\n",
      "21161/21161 [==============================] - 1s 32us/step - loss: 0.0434 - recon_loss_combi: 0.0188 - sparse_recon_loss_combi: 0.0434 - sparse_recon_loss_mse: 0.0233 - sparse_recon_loss_abs: 0.0635 - val_loss: 0.0399 - val_recon_loss_combi: 0.0174 - val_sparse_recon_loss_combi: 0.0399 - val_sparse_recon_loss_mse: 0.0212 - val_sparse_recon_loss_abs: 0.0585\n",
      "Epoch 25/100\n",
      "21161/21161 [==============================] - 1s 33us/step - loss: 0.0431 - recon_loss_combi: 0.0187 - sparse_recon_loss_combi: 0.0431 - sparse_recon_loss_mse: 0.0230 - sparse_recon_loss_abs: 0.0631 - val_loss: 0.0395 - val_recon_loss_combi: 0.0173 - val_sparse_recon_loss_combi: 0.0395 - val_sparse_recon_loss_mse: 0.0210 - val_sparse_recon_loss_abs: 0.0580\n",
      "Epoch 26/100\n",
      "21161/21161 [==============================] - 1s 31us/step - loss: 0.0429 - recon_loss_combi: 0.0186 - sparse_recon_loss_combi: 0.0429 - sparse_recon_loss_mse: 0.0229 - sparse_recon_loss_abs: 0.0630 - val_loss: 0.0391 - val_recon_loss_combi: 0.0171 - val_sparse_recon_loss_combi: 0.0391 - val_sparse_recon_loss_mse: 0.0209 - val_sparse_recon_loss_abs: 0.0573\n",
      "Epoch 27/100\n",
      "21161/21161 [==============================] - 1s 31us/step - loss: 0.0427 - recon_loss_combi: 0.0185 - sparse_recon_loss_combi: 0.0427 - sparse_recon_loss_mse: 0.0229 - sparse_recon_loss_abs: 0.0626 - val_loss: 0.0387 - val_recon_loss_combi: 0.0169 - val_sparse_recon_loss_combi: 0.0387 - val_sparse_recon_loss_mse: 0.0208 - val_sparse_recon_loss_abs: 0.0566\n",
      "Epoch 28/100\n",
      "21161/21161 [==============================] - 1s 31us/step - loss: 0.0426 - recon_loss_combi: 0.0185 - sparse_recon_loss_combi: 0.0426 - sparse_recon_loss_mse: 0.0228 - sparse_recon_loss_abs: 0.0624 - val_loss: 0.0388 - val_recon_loss_combi: 0.0169 - val_sparse_recon_loss_combi: 0.0388 - val_sparse_recon_loss_mse: 0.0208 - val_sparse_recon_loss_abs: 0.0567\n",
      "Epoch 29/100\n",
      "21161/21161 [==============================] - 1s 32us/step - loss: 0.0426 - recon_loss_combi: 0.0185 - sparse_recon_loss_combi: 0.0426 - sparse_recon_loss_mse: 0.0227 - sparse_recon_loss_abs: 0.0624 - val_loss: 0.0387 - val_recon_loss_combi: 0.0169 - val_sparse_recon_loss_combi: 0.0387 - val_sparse_recon_loss_mse: 0.0208 - val_sparse_recon_loss_abs: 0.0566\n",
      "Epoch 30/100\n",
      "21161/21161 [==============================] - 1s 33us/step - loss: 0.0425 - recon_loss_combi: 0.0184 - sparse_recon_loss_combi: 0.0425 - sparse_recon_loss_mse: 0.0227 - sparse_recon_loss_abs: 0.0623 - val_loss: 0.0387 - val_recon_loss_combi: 0.0169 - val_sparse_recon_loss_combi: 0.0387 - val_sparse_recon_loss_mse: 0.0208 - val_sparse_recon_loss_abs: 0.0566\n",
      "Epoch 31/100\n",
      "21161/21161 [==============================] - 1s 35us/step - loss: 0.0424 - recon_loss_combi: 0.0184 - sparse_recon_loss_combi: 0.0424 - sparse_recon_loss_mse: 0.0226 - sparse_recon_loss_abs: 0.0621 - val_loss: 0.0386 - val_recon_loss_combi: 0.0169 - val_sparse_recon_loss_combi: 0.0386 - val_sparse_recon_loss_mse: 0.0207 - val_sparse_recon_loss_abs: 0.0565\n",
      "Epoch 32/100\n",
      "21161/21161 [==============================] - 1s 35us/step - loss: 0.0422 - recon_loss_combi: 0.0183 - sparse_recon_loss_combi: 0.0422 - sparse_recon_loss_mse: 0.0225 - sparse_recon_loss_abs: 0.0619 - val_loss: 0.0385 - val_recon_loss_combi: 0.0168 - val_sparse_recon_loss_combi: 0.0385 - val_sparse_recon_loss_mse: 0.0205 - val_sparse_recon_loss_abs: 0.0564\n",
      "Epoch 33/100\n",
      "21161/21161 [==============================] - 1s 32us/step - loss: 0.0419 - recon_loss_combi: 0.0181 - sparse_recon_loss_combi: 0.0419 - sparse_recon_loss_mse: 0.0223 - sparse_recon_loss_abs: 0.0614 - val_loss: 0.0385 - val_recon_loss_combi: 0.0168 - val_sparse_recon_loss_combi: 0.0385 - val_sparse_recon_loss_mse: 0.0205 - val_sparse_recon_loss_abs: 0.0566\n",
      "Epoch 34/100\n",
      "21161/21161 [==============================] - 1s 31us/step - loss: 0.0418 - recon_loss_combi: 0.0181 - sparse_recon_loss_combi: 0.0418 - sparse_recon_loss_mse: 0.0222 - sparse_recon_loss_abs: 0.0613 - val_loss: 0.0380 - val_recon_loss_combi: 0.0166 - val_sparse_recon_loss_combi: 0.0380 - val_sparse_recon_loss_mse: 0.0204 - val_sparse_recon_loss_abs: 0.0556\n",
      "Epoch 35/100\n",
      "21161/21161 [==============================] - 1s 32us/step - loss: 0.0417 - recon_loss_combi: 0.0181 - sparse_recon_loss_combi: 0.0417 - sparse_recon_loss_mse: 0.0222 - sparse_recon_loss_abs: 0.0612 - val_loss: 0.0378 - val_recon_loss_combi: 0.0165 - val_sparse_recon_loss_combi: 0.0378 - val_sparse_recon_loss_mse: 0.0203 - val_sparse_recon_loss_abs: 0.0554\n",
      "Epoch 36/100\n",
      "21161/21161 [==============================] - 1s 34us/step - loss: 0.0418 - recon_loss_combi: 0.0181 - sparse_recon_loss_combi: 0.0418 - sparse_recon_loss_mse: 0.0222 - sparse_recon_loss_abs: 0.0613 - val_loss: 0.0379 - val_recon_loss_combi: 0.0166 - val_sparse_recon_loss_combi: 0.0379 - val_sparse_recon_loss_mse: 0.0203 - val_sparse_recon_loss_abs: 0.0555\n",
      "Epoch 37/100\n",
      "21161/21161 [==============================] - 1s 33us/step - loss: 0.0416 - recon_loss_combi: 0.0180 - sparse_recon_loss_combi: 0.0416 - sparse_recon_loss_mse: 0.0222 - sparse_recon_loss_abs: 0.0611 - val_loss: 0.0379 - val_recon_loss_combi: 0.0166 - val_sparse_recon_loss_combi: 0.0379 - val_sparse_recon_loss_mse: 0.0202 - val_sparse_recon_loss_abs: 0.0556\n",
      "Epoch 38/100\n",
      "21161/21161 [==============================] - 1s 32us/step - loss: 0.0417 - recon_loss_combi: 0.0181 - sparse_recon_loss_combi: 0.0417 - sparse_recon_loss_mse: 0.0222 - sparse_recon_loss_abs: 0.0612 - val_loss: 0.0378 - val_recon_loss_combi: 0.0165 - val_sparse_recon_loss_combi: 0.0378 - val_sparse_recon_loss_mse: 0.0202 - val_sparse_recon_loss_abs: 0.0555\n",
      "Epoch 39/100\n",
      "21161/21161 [==============================] - 1s 33us/step - loss: 0.0414 - recon_loss_combi: 0.0179 - sparse_recon_loss_combi: 0.0414 - sparse_recon_loss_mse: 0.0221 - sparse_recon_loss_abs: 0.0607 - val_loss: 0.0373 - val_recon_loss_combi: 0.0163 - val_sparse_recon_loss_combi: 0.0373 - val_sparse_recon_loss_mse: 0.0200 - val_sparse_recon_loss_abs: 0.0547\n",
      "Epoch 40/100\n",
      "21161/21161 [==============================] - 1s 31us/step - loss: 0.0413 - recon_loss_combi: 0.0179 - sparse_recon_loss_combi: 0.0413 - sparse_recon_loss_mse: 0.0219 - sparse_recon_loss_abs: 0.0607 - val_loss: 0.0375 - val_recon_loss_combi: 0.0164 - val_sparse_recon_loss_combi: 0.0375 - val_sparse_recon_loss_mse: 0.0200 - val_sparse_recon_loss_abs: 0.0549\n",
      "Epoch 41/100\n",
      "21161/21161 [==============================] - 1s 33us/step - loss: 0.0411 - recon_loss_combi: 0.0178 - sparse_recon_loss_combi: 0.0411 - sparse_recon_loss_mse: 0.0218 - sparse_recon_loss_abs: 0.0604 - val_loss: 0.0375 - val_recon_loss_combi: 0.0164 - val_sparse_recon_loss_combi: 0.0375 - val_sparse_recon_loss_mse: 0.0200 - val_sparse_recon_loss_abs: 0.0549\n",
      "Epoch 42/100\n",
      "21161/21161 [==============================] - 1s 33us/step - loss: 0.0411 - recon_loss_combi: 0.0178 - sparse_recon_loss_combi: 0.0411 - sparse_recon_loss_mse: 0.0218 - sparse_recon_loss_abs: 0.0603 - val_loss: 0.0372 - val_recon_loss_combi: 0.0163 - val_sparse_recon_loss_combi: 0.0372 - val_sparse_recon_loss_mse: 0.0199 - val_sparse_recon_loss_abs: 0.0545\n",
      "Epoch 43/100\n",
      "21161/21161 [==============================] - 1s 33us/step - loss: 0.0411 - recon_loss_combi: 0.0178 - sparse_recon_loss_combi: 0.0411 - sparse_recon_loss_mse: 0.0218 - sparse_recon_loss_abs: 0.0603 - val_loss: 0.0372 - val_recon_loss_combi: 0.0163 - val_sparse_recon_loss_combi: 0.0372 - val_sparse_recon_loss_mse: 0.0199 - val_sparse_recon_loss_abs: 0.0545\n",
      "Epoch 44/100\n",
      "21161/21161 [==============================] - 1s 32us/step - loss: 0.0409 - recon_loss_combi: 0.0177 - sparse_recon_loss_combi: 0.0409 - sparse_recon_loss_mse: 0.0217 - sparse_recon_loss_abs: 0.0601 - val_loss: 0.0371 - val_recon_loss_combi: 0.0162 - val_sparse_recon_loss_combi: 0.0371 - val_sparse_recon_loss_mse: 0.0199 - val_sparse_recon_loss_abs: 0.0542\n"
     ]
    },
    {
     "name": "stdout",
     "output_type": "stream",
     "text": [
      "Epoch 45/100\n",
      "21161/21161 [==============================] - 1s 31us/step - loss: 0.0410 - recon_loss_combi: 0.0178 - sparse_recon_loss_combi: 0.0410 - sparse_recon_loss_mse: 0.0217 - sparse_recon_loss_abs: 0.0602 - val_loss: 0.0371 - val_recon_loss_combi: 0.0162 - val_sparse_recon_loss_combi: 0.0371 - val_sparse_recon_loss_mse: 0.0199 - val_sparse_recon_loss_abs: 0.0543\n",
      "Epoch 46/100\n",
      "21161/21161 [==============================] - 1s 32us/step - loss: 0.0407 - recon_loss_combi: 0.0177 - sparse_recon_loss_combi: 0.0407 - sparse_recon_loss_mse: 0.0216 - sparse_recon_loss_abs: 0.0599 - val_loss: 0.0372 - val_recon_loss_combi: 0.0163 - val_sparse_recon_loss_combi: 0.0372 - val_sparse_recon_loss_mse: 0.0199 - val_sparse_recon_loss_abs: 0.0545\n",
      "Epoch 47/100\n",
      "21161/21161 [==============================] - 1s 33us/step - loss: 0.0409 - recon_loss_combi: 0.0177 - sparse_recon_loss_combi: 0.0409 - sparse_recon_loss_mse: 0.0217 - sparse_recon_loss_abs: 0.0601 - val_loss: 0.0369 - val_recon_loss_combi: 0.0161 - val_sparse_recon_loss_combi: 0.0369 - val_sparse_recon_loss_mse: 0.0199 - val_sparse_recon_loss_abs: 0.0540\n",
      "Epoch 48/100\n",
      "21161/21161 [==============================] - 1s 31us/step - loss: 0.0408 - recon_loss_combi: 0.0177 - sparse_recon_loss_combi: 0.0408 - sparse_recon_loss_mse: 0.0217 - sparse_recon_loss_abs: 0.0599 - val_loss: 0.0368 - val_recon_loss_combi: 0.0161 - val_sparse_recon_loss_combi: 0.0368 - val_sparse_recon_loss_mse: 0.0198 - val_sparse_recon_loss_abs: 0.0538\n",
      "Epoch 49/100\n",
      "21161/21161 [==============================] - 1s 32us/step - loss: 0.0407 - recon_loss_combi: 0.0176 - sparse_recon_loss_combi: 0.0407 - sparse_recon_loss_mse: 0.0216 - sparse_recon_loss_abs: 0.0598 - val_loss: 0.0369 - val_recon_loss_combi: 0.0161 - val_sparse_recon_loss_combi: 0.0369 - val_sparse_recon_loss_mse: 0.0198 - val_sparse_recon_loss_abs: 0.0540\n",
      "Epoch 50/100\n",
      "21161/21161 [==============================] - 1s 32us/step - loss: 0.0405 - recon_loss_combi: 0.0176 - sparse_recon_loss_combi: 0.0405 - sparse_recon_loss_mse: 0.0215 - sparse_recon_loss_abs: 0.0595 - val_loss: 0.0367 - val_recon_loss_combi: 0.0160 - val_sparse_recon_loss_combi: 0.0367 - val_sparse_recon_loss_mse: 0.0197 - val_sparse_recon_loss_abs: 0.0536\n",
      "Epoch 51/100\n",
      "21161/21161 [==============================] - 1s 32us/step - loss: 0.0406 - recon_loss_combi: 0.0176 - sparse_recon_loss_combi: 0.0406 - sparse_recon_loss_mse: 0.0215 - sparse_recon_loss_abs: 0.0596 - val_loss: 0.0369 - val_recon_loss_combi: 0.0161 - val_sparse_recon_loss_combi: 0.0369 - val_sparse_recon_loss_mse: 0.0198 - val_sparse_recon_loss_abs: 0.0539\n",
      "Epoch 52/100\n",
      "21161/21161 [==============================] - 1s 31us/step - loss: 0.0403 - recon_loss_combi: 0.0175 - sparse_recon_loss_combi: 0.0403 - sparse_recon_loss_mse: 0.0214 - sparse_recon_loss_abs: 0.0592 - val_loss: 0.0365 - val_recon_loss_combi: 0.0159 - val_sparse_recon_loss_combi: 0.0365 - val_sparse_recon_loss_mse: 0.0197 - val_sparse_recon_loss_abs: 0.0533\n",
      "Epoch 53/100\n",
      "21161/21161 [==============================] - 1s 31us/step - loss: 0.0403 - recon_loss_combi: 0.0175 - sparse_recon_loss_combi: 0.0403 - sparse_recon_loss_mse: 0.0215 - sparse_recon_loss_abs: 0.0592 - val_loss: 0.0365 - val_recon_loss_combi: 0.0160 - val_sparse_recon_loss_combi: 0.0365 - val_sparse_recon_loss_mse: 0.0197 - val_sparse_recon_loss_abs: 0.0534\n",
      "Epoch 54/100\n",
      "21161/21161 [==============================] - 1s 32us/step - loss: 0.0404 - recon_loss_combi: 0.0175 - sparse_recon_loss_combi: 0.0404 - sparse_recon_loss_mse: 0.0214 - sparse_recon_loss_abs: 0.0594 - val_loss: 0.0366 - val_recon_loss_combi: 0.0160 - val_sparse_recon_loss_combi: 0.0366 - val_sparse_recon_loss_mse: 0.0197 - val_sparse_recon_loss_abs: 0.0534\n",
      "Epoch 55/100\n",
      "21161/21161 [==============================] - 1s 31us/step - loss: 0.0402 - recon_loss_combi: 0.0174 - sparse_recon_loss_combi: 0.0402 - sparse_recon_loss_mse: 0.0214 - sparse_recon_loss_abs: 0.0590 - val_loss: 0.0367 - val_recon_loss_combi: 0.0161 - val_sparse_recon_loss_combi: 0.0367 - val_sparse_recon_loss_mse: 0.0198 - val_sparse_recon_loss_abs: 0.0537\n",
      "Epoch 56/100\n",
      "21161/21161 [==============================] - 1s 32us/step - loss: 0.0402 - recon_loss_combi: 0.0174 - sparse_recon_loss_combi: 0.0402 - sparse_recon_loss_mse: 0.0214 - sparse_recon_loss_abs: 0.0591 - val_loss: 0.0363 - val_recon_loss_combi: 0.0159 - val_sparse_recon_loss_combi: 0.0363 - val_sparse_recon_loss_mse: 0.0196 - val_sparse_recon_loss_abs: 0.0530\n",
      "Epoch 57/100\n",
      "21161/21161 [==============================] - 1s 32us/step - loss: 0.0401 - recon_loss_combi: 0.0174 - sparse_recon_loss_combi: 0.0401 - sparse_recon_loss_mse: 0.0213 - sparse_recon_loss_abs: 0.0589 - val_loss: 0.0362 - val_recon_loss_combi: 0.0158 - val_sparse_recon_loss_combi: 0.0362 - val_sparse_recon_loss_mse: 0.0196 - val_sparse_recon_loss_abs: 0.0528\n",
      "Epoch 58/100\n",
      "21161/21161 [==============================] - 1s 32us/step - loss: 0.0400 - recon_loss_combi: 0.0174 - sparse_recon_loss_combi: 0.0400 - sparse_recon_loss_mse: 0.0213 - sparse_recon_loss_abs: 0.0588 - val_loss: 0.0363 - val_recon_loss_combi: 0.0159 - val_sparse_recon_loss_combi: 0.0363 - val_sparse_recon_loss_mse: 0.0196 - val_sparse_recon_loss_abs: 0.0530\n",
      "Epoch 59/100\n",
      "21161/21161 [==============================] - 1s 32us/step - loss: 0.0400 - recon_loss_combi: 0.0173 - sparse_recon_loss_combi: 0.0400 - sparse_recon_loss_mse: 0.0212 - sparse_recon_loss_abs: 0.0588 - val_loss: 0.0363 - val_recon_loss_combi: 0.0159 - val_sparse_recon_loss_combi: 0.0363 - val_sparse_recon_loss_mse: 0.0196 - val_sparse_recon_loss_abs: 0.0530\n",
      "Epoch 60/100\n",
      "21161/21161 [==============================] - 1s 32us/step - loss: 0.0400 - recon_loss_combi: 0.0173 - sparse_recon_loss_combi: 0.0400 - sparse_recon_loss_mse: 0.0213 - sparse_recon_loss_abs: 0.0588 - val_loss: 0.0362 - val_recon_loss_combi: 0.0158 - val_sparse_recon_loss_combi: 0.0362 - val_sparse_recon_loss_mse: 0.0196 - val_sparse_recon_loss_abs: 0.0527\n",
      "Epoch 61/100\n",
      "21161/21161 [==============================] - 1s 32us/step - loss: 0.0400 - recon_loss_combi: 0.0173 - sparse_recon_loss_combi: 0.0400 - sparse_recon_loss_mse: 0.0213 - sparse_recon_loss_abs: 0.0587 - val_loss: 0.0362 - val_recon_loss_combi: 0.0158 - val_sparse_recon_loss_combi: 0.0362 - val_sparse_recon_loss_mse: 0.0195 - val_sparse_recon_loss_abs: 0.0528\n",
      "Epoch 62/100\n",
      "21161/21161 [==============================] - 1s 32us/step - loss: 0.0400 - recon_loss_combi: 0.0173 - sparse_recon_loss_combi: 0.0400 - sparse_recon_loss_mse: 0.0213 - sparse_recon_loss_abs: 0.0587 - val_loss: 0.0363 - val_recon_loss_combi: 0.0159 - val_sparse_recon_loss_combi: 0.0363 - val_sparse_recon_loss_mse: 0.0197 - val_sparse_recon_loss_abs: 0.0530\n",
      "Epoch 00062: early stopping\n"
     ]
    }
   ],
   "source": [
    "nodes=[32,16,32]\n",
    "layers=model_3h(x_train,drop_ra=0.0,l1_reg=0, g_noise=0.05, ker_init=ker_init,nodes=nodes)\n",
    "\n",
    "ae_321632=autoencoder(layers,name='321632',**train_dic)\n",
    "ae_321632.fit()"
   ]
  },
  {
   "cell_type": "code",
   "execution_count": 213,
   "metadata": {},
   "outputs": [
    {
     "data": {
      "text/plain": [
       "(0.036217988, 0.03621798383531186)"
      ]
     },
     "execution_count": 213,
     "metadata": {},
     "output_type": "execute_result"
    }
   ],
   "source": [
    "x_fit=ae_321632.model.predict(x_test)\n",
    "x_fit_train=ae_321632.model.predict(x_train)\n",
    "from custom_loss import test_sparse_function\n",
    "test_sparse_function(x_test,x_fit,0.5)"
   ]
  },
  {
   "cell_type": "code",
   "execution_count": 214,
   "metadata": {},
   "outputs": [
    {
     "name": "stdout",
     "output_type": "stream",
     "text": [
      "7054/7054 [==============================] - 0s 31us/step\n"
     ]
    },
    {
     "data": {
      "text/plain": [
       "[0.03653826123895137,\n",
       " 0.015878510367529804,\n",
       " 0.03653826123895137,\n",
       " 0.01983553871379329,\n",
       " 0.053240983682252344]"
      ]
     },
     "execution_count": 214,
     "metadata": {},
     "output_type": "execute_result"
    }
   ],
   "source": [
    "ae_321632.model.evaluate(x=x_test,y=x_test)"
   ]
  },
  {
   "cell_type": "code",
   "execution_count": 215,
   "metadata": {},
   "outputs": [],
   "source": [
    "losses=list(map(lambda x: np_sparse_loss(x_fit[x],x_test[x]),range(1,x_fit.shape[0])))\n",
    "losses=np.array(losses)"
   ]
  },
  {
   "cell_type": "code",
   "execution_count": 267,
   "metadata": {},
   "outputs": [],
   "source": [
    "\n",
    "def fake_financial(x_test,y_test,ds,reps,var_scale=1):\n",
    "    #takes\n",
    "    \n",
    "    x_test_des=ds.FT.loc[y_test].describe()\n",
    "    x_test_des.loc['std','pAssets']=0\n",
    "    x_test_des.loc['std','pLiabilitiesAndStockholdersEquity']=0\n",
    "    \n",
    "    #generate a vector of probs that a field is populated\n",
    "    prob_vec=(ds.FT.loc[y_test]>0).sum().values/x_test.shape[0]\n",
    "\n",
    "    #get standard deviation of each field\n",
    "    \n",
    "    x_test_std=x_test_des.loc['std'].values\n",
    "    \n",
    "    def make_rand_alt(p):\n",
    "        #generate a binary sequence length=#features, from this vector prob\n",
    "        alteration_yes_no=np.random.binomial(1,prob_vec)\n",
    "\n",
    "        #random vector with standard deviations according to variables\n",
    "        random_alterations=np.random.normal(scale=var_scale*x_test_std)\n",
    "\n",
    "        out=np.multiply(random_alterations,alteration_yes_no)\n",
    "        \n",
    "        return out\n",
    "    \n",
    "    final_out=list(map(make_rand_alt,range(1,reps+1)))\n",
    "\n",
    "    return final_out\n",
    "\n",
    "def make_fake_data(x_test,y_test,ds,num_fakes=7000,method='easy'):\n",
    "    #adds noise to input financials. easy adds noise anywhere according to distribution of fields\n",
    "    #and frequency of field. Hard method only adds noise to fields which are non-zero to begin with \n",
    "    \n",
    "    alts=fake_financial(x_test,y_test,ds,num_fakes,var_scale=1)\n",
    "    if method=='easy':\n",
    "        \n",
    "        x_fake=x_test[0:num_fakes]+np.stack(alts)[:,0:200]\n",
    "        x_fake[np.abs(x_fake>2.5)]=0\n",
    "    elif method=='hard':\n",
    "        \n",
    "        x_fake=x_test[0:num_fakes]\n",
    "        x_fake[x_fake>0]=x_fake[x_fake>0]+np.stack(alts)[:,0:200][x_fake>0]\n",
    "        x_fake[np.abs(x_fake)>2.5]=0\n",
    "    else:\n",
    "        print(\"'method either 'easy' or 'hard'\")\n",
    "        raise AssertionError\n",
    "    \n",
    "    return x_fake\n",
    "\n",
    "\n",
    "def evaluate_loss(x,y):\n",
    "    losses=list(map(lambda x: np_sparse_loss(x_fit[x],x_test[x]),range(1,x_fit.shape[0])))\n",
    "    losses=np.array(losses)\n",
    "    return losses\n",
    "\n",
    "def two_class_hist(losses,fake_losses):\n",
    "\n",
    "    plt.figure()\n",
    "    [n_re,bins,patches]=plt.hist(losses,bins=100,density=True,range=[0,1], alpha=0.7)\n",
    "    [n_fa,bins,patches_f]=plt.hist(fake_losses,bins=bins,density=True,alpha=0.7)\n",
    "    \n",
    "    plt.legend(['Real','Fake'])\n",
    "    plt.title('Distribution of Reconstruction Loss')\n",
    "\n"
   ]
  },
  {
   "cell_type": "code",
   "execution_count": 266,
   "metadata": {},
   "outputs": [
    {
     "data": {
      "image/png": "[encoded data removed]",
      "text/plain": [
       "<Figure size 432x288 with 1 Axes>"
      ]
     },
     "metadata": {},
     "output_type": "display_data"
    }
   ],
   "source": [
    "x_fake=make_fake_data(x_test,y_test,ds,num_fakes=7000)\n",
    "x_fake_fit=ae_321632.model.predict(x_fake)\n",
    "fake_losses=evaluate_loss(x_fake_fit,x_fake)\n",
    "fig1=two_class_hist(losses,fake_losses)"
   ]
  },
  {
   "cell_type": "code",
   "execution_count": 264,
   "metadata": {},
   "outputs": [
    {
     "name": "stderr",
     "output_type": "stream",
     "text": [
      "No handles with labels found to put in legend.\n"
     ]
    },
    {
     "data": {
      "image/png": "[encoded data removed]",
      "text/plain": [
       "<Figure size 432x288 with 1 Axes>"
      ]
     },
     "metadata": {},
     "output_type": "display_data"
    }
   ],
   "source": [
    "x_fake_h=make_fake_data(x_test,y_test,ds,num_fakes=7000,method='hard')\n",
    "x_fake_h_fit=ae_321632.model.predict(x_fake)\n",
    "fake_losses_h=evaluate_loss(x_fake_h_fit,x_fake_h)\n",
    "fig2=two_class_hist(losses,fake_losses_h)\n"
   ]
  },
  {
   "cell_type": "code",
   "execution_count": 233,
   "metadata": {},
   "outputs": [],
   "source": [
    "from sklearn import svm\n",
    "def fit_svm(losses,fake_losses):\n",
    "    X=np.append(losses,fake_losses)\n",
    "    Y=np.append(np.zeros(losses.shape),np.ones(fake_losses.shape))\n",
    "    X=X.reshape(-1, 1)\n",
    "\n",
    "    clf=svm.LinearSVC(random_state=35)\n",
    "    clf.fit(X,Y)\n",
    "    type1_errors=sum(clf.predict(losses.reshape(-1,1)))\n",
    "    print(type1_errors)\n",
    "    type2_errors=fake_losses.shape[0]-sum(clf.predict(fake_losses.reshape(-1,1)))\n",
    "    print(type2_errors)\n",
    "    total_error_rate=(type1_errors+type2_errors)/X.shape[0]\n",
    "    type1_error_rate=type1_errors/losses.shape[0]\n",
    "    type2_error_rate=type2_errors/fake_losses.shape[0]\n",
    "    print(fake_losses.shape[0])\n",
    "    return total_error_rate,type1_error_rate,type2_error_rate\n",
    "                                       \n",
    "                      "
   ]
  },
  {
   "cell_type": "code",
   "execution_count": null,
   "metadata": {},
   "outputs": [],
   "source": []
  }
 ],
 "metadata": {
  "kernelspec": {
   "display_name": "Python 3",
   "language": "python",
   "name": "python3"
  },
  "language_info": {
   "codemirror_mode": {
    "name": "ipython",
    "version": 3
   },
   "file_extension": ".py",
   "mimetype": "text/x-python",
   "name": "python",
   "nbconvert_exporter": "python",
   "pygments_lexer": "ipython3",
   "version": "3.5.5"
  }
 },
 "nbformat": 4,
 "nbformat_minor": 2
}
